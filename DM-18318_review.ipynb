{
 "cells": [
  {
   "cell_type": "code",
   "execution_count": 1,
   "metadata": {},
   "outputs": [],
   "source": [
    "import os\n",
    "import numpy as np\n",
    "#%matplotlib notebook\n",
    "import matplotlib.pyplot as plt\n",
    "import pandas as pd\n",
    "import sqlite3\n",
    "import lsst.daf.persistence as dafPersist\n",
    "import lsst.afw.display as afwDisplay\n",
    "import lsst.geom\n",
    "afwDisplay.setDefaultBackend('matplotlib')\n",
    "import matplotlib.ticker as plticker\n",
    "from astropy.visualization import (ZScaleInterval, SqrtStretch, ImageNormalize)"
   ]
  },
  {
   "cell_type": "code",
   "execution_count": 2,
   "metadata": {},
   "outputs": [],
   "source": [
    "connection = sqlite3.connect('/project/morriscb/src/ap_verify/test_new_cols/association.db')"
   ]
  },
  {
   "cell_type": "code",
   "execution_count": 3,
   "metadata": {},
   "outputs": [],
   "source": [
    "tables = {'obj': 'DiaObject', 'src': 'DiaSource', 'ccd': 'CcdVisit'}\n",
    "\n",
    "# only choose objects with validityEnd NULL because that means they are still valid\n",
    "#objTable = pd.read_sql_query('select diaObjectId, ra, decl, nDiaSources, gPSFluxMean, validityEnd, flags from {0} where validityEnd is NULL;'.format(tables['obj']), connection)\n",
    "objTable = pd.read_sql_query('select * from {0} where validityEnd is NULL;'.format(tables['obj']), connection)\n",
    "\n",
    "stats_columns = [\n",
    " 'gPSFluxMean',\n",
    " 'gPSFluxMeanErr',\n",
    " 'gPSFluxSigma',\n",
    " 'gPSFluxChi2',\n",
    " 'gPSFluxNdata',\n",
    "    'gPSFluxMedian',\n",
    " 'gPSFluxMAD',\n",
    " 'gPSFluxSkew',\n",
    " 'gPSFluxPercentile05',\n",
    " 'gPSFluxPercentile25',\n",
    " 'gPSFluxPercentile75',\n",
    " 'gPSFluxPercentile95',\n",
    " 'gPSFluxMin',\n",
    " 'gPSFluxMax',\n",
    " 'gPSFluxStetsonJ',\n",
    " 'gPSFluxLinearSlope',\n",
    " 'gPSFluxLinearIntercept',\n",
    " 'gPSFluxMaxSlope',\n",
    " 'gPSFluxErrMean']\n",
    "\n",
    "obj = pd.read_sql_query(f'select {\",\".join(stats_columns)} from {tables[\"obj\"]} where validityEnd is NULL and flags=0;', connection)\n",
    "\n",
    "\n",
    "#srcTable = pd.read_sql_query('select diaSourceId, diaObjectId, ccdVisitId, flags from {0};'.format(tables['src']), connection)\n"
   ]
  },
  {
   "cell_type": "code",
   "execution_count": 4,
   "metadata": {},
   "outputs": [
    {
     "data": {
      "text/plain": [
       "['diaObjectId',\n",
       " 'validityStart',\n",
       " 'validityEnd',\n",
       " 'ra',\n",
       " 'raErr',\n",
       " 'decl',\n",
       " 'declErr',\n",
       " 'ra_decl_Cov',\n",
       " 'radecTai',\n",
       " 'pmRa',\n",
       " 'pmRaErr',\n",
       " 'pmDecl',\n",
       " 'pmDeclErr',\n",
       " 'parallax',\n",
       " 'parallaxErr',\n",
       " 'pmRa_pmDecl_Cov',\n",
       " 'pmRa_parallax_Cov',\n",
       " 'pmDecl_parallax_Cov',\n",
       " 'pmParallaxLnL',\n",
       " 'pmParallaxChi2',\n",
       " 'pmParallaxNdata',\n",
       " 'uPSFluxMean',\n",
       " 'uPSFluxMeanErr',\n",
       " 'uPSFluxSigma',\n",
       " 'uPSFluxChi2',\n",
       " 'uPSFluxNdata',\n",
       " 'uFPFluxMean',\n",
       " 'uFPFluxMeanErr',\n",
       " 'uFPFluxSigma',\n",
       " 'gPSFluxMean',\n",
       " 'gPSFluxMeanErr',\n",
       " 'gPSFluxSigma',\n",
       " 'gPSFluxChi2',\n",
       " 'gPSFluxNdata',\n",
       " 'gFPFluxMean',\n",
       " 'gFPFluxMeanErr',\n",
       " 'gFPFluxSigma',\n",
       " 'rPSFluxMean',\n",
       " 'rPSFluxMeanErr',\n",
       " 'rPSFluxSigma',\n",
       " 'rPSFluxChi2',\n",
       " 'rPSFluxNdata',\n",
       " 'rFPFluxMean',\n",
       " 'rFPFluxMeanErr',\n",
       " 'rFPFluxSigma',\n",
       " 'iPSFluxMean',\n",
       " 'iPSFluxMeanErr',\n",
       " 'iPSFluxSigma',\n",
       " 'iPSFluxChi2',\n",
       " 'iPSFluxNdata',\n",
       " 'iFPFluxMean',\n",
       " 'iFPFluxMeanErr',\n",
       " 'iFPFluxSigma',\n",
       " 'zPSFluxMean',\n",
       " 'zPSFluxMeanErr',\n",
       " 'zPSFluxSigma',\n",
       " 'zPSFluxChi2',\n",
       " 'zPSFluxNdata',\n",
       " 'zFPFluxMean',\n",
       " 'zFPFluxMeanErr',\n",
       " 'zFPFluxSigma',\n",
       " 'yPSFluxMean',\n",
       " 'yPSFluxMeanErr',\n",
       " 'yPSFluxSigma',\n",
       " 'yPSFluxChi2',\n",
       " 'yPSFluxNdata',\n",
       " 'yFPFluxMean',\n",
       " 'yFPFluxMeanErr',\n",
       " 'yFPFluxSigma',\n",
       " 'uLcPeriodic',\n",
       " 'gLcPeriodic',\n",
       " 'rLcPeriodic',\n",
       " 'iLcPeriodic',\n",
       " 'zLcPeriodic',\n",
       " 'yLcPeriodic',\n",
       " 'uLcNonPeriodic',\n",
       " 'gLcNonPeriodic',\n",
       " 'rLcNonPeriodic',\n",
       " 'iLcNonPeriodic',\n",
       " 'zLcNonPeriodic',\n",
       " 'yLcNonPeriodic',\n",
       " 'nearbyObj1',\n",
       " 'nearbyObj1Dist',\n",
       " 'nearbyObj1LnP',\n",
       " 'nearbyObj2',\n",
       " 'nearbyObj2Dist',\n",
       " 'nearbyObj2LnP',\n",
       " 'nearbyObj3',\n",
       " 'nearbyObj3Dist',\n",
       " 'nearbyObj3LnP',\n",
       " 'flags',\n",
       " 'pixelId',\n",
       " 'lastNonForcedSource',\n",
       " 'nDiaSources',\n",
       " 'uPSFluxMedian',\n",
       " 'uPSFluxMAD',\n",
       " 'uPSFluxSkew',\n",
       " 'uPSFluxPercentile05',\n",
       " 'uPSFluxPercentile25',\n",
       " 'uPSFluxPercentile75',\n",
       " 'uPSFluxPercentile95',\n",
       " 'uPSFluxMin',\n",
       " 'uPSFluxMax',\n",
       " 'uPSFluxStetsonJ',\n",
       " 'uPSFluxLinearSlope',\n",
       " 'uPSFluxLinearIntercept',\n",
       " 'uPSFluxMaxSlope',\n",
       " 'uPSFluxErrMean',\n",
       " 'gPSFluxMedian',\n",
       " 'gPSFluxMAD',\n",
       " 'gPSFluxSkew',\n",
       " 'gPSFluxPercentile05',\n",
       " 'gPSFluxPercentile25',\n",
       " 'gPSFluxPercentile75',\n",
       " 'gPSFluxPercentile95',\n",
       " 'gPSFluxMin',\n",
       " 'gPSFluxMax',\n",
       " 'gPSFluxStetsonJ',\n",
       " 'gPSFluxLinearSlope',\n",
       " 'gPSFluxLinearIntercept',\n",
       " 'gPSFluxMaxSlope',\n",
       " 'gPSFluxErrMean',\n",
       " 'rPSFluxMedian',\n",
       " 'rPSFluxMAD',\n",
       " 'rPSFluxSkew',\n",
       " 'rPSFluxPercentile05',\n",
       " 'rPSFluxPercentile25',\n",
       " 'rPSFluxPercentile75',\n",
       " 'rPSFluxPercentile95',\n",
       " 'rPSFluxMin',\n",
       " 'rPSFluxMax',\n",
       " 'rPSFluxStetsonJ',\n",
       " 'rPSFluxLinearSlope',\n",
       " 'rPSFluxLinearIntercept',\n",
       " 'rPSFluxMaxSlope',\n",
       " 'rPSFluxErrMean',\n",
       " 'iPSFluxMedian',\n",
       " 'iPSFluxMAD',\n",
       " 'iPSFluxSkew',\n",
       " 'iPSFluxPercentile05',\n",
       " 'iPSFluxPercentile25',\n",
       " 'iPSFluxPercentile75',\n",
       " 'iPSFluxPercentile95',\n",
       " 'iPSFluxMin',\n",
       " 'iPSFluxMax',\n",
       " 'iPSFluxStetsonJ',\n",
       " 'iPSFluxLinearSlope',\n",
       " 'iPSFluxLinearIntercept',\n",
       " 'iPSFluxMaxSlope',\n",
       " 'iPSFluxErrMean',\n",
       " 'zPSFluxMedian',\n",
       " 'zPSFluxMAD',\n",
       " 'zPSFluxSkew',\n",
       " 'zPSFluxPercentile05',\n",
       " 'zPSFluxPercentile25',\n",
       " 'zPSFluxPercentile75',\n",
       " 'zPSFluxPercentile95',\n",
       " 'zPSFluxMin',\n",
       " 'zPSFluxMax',\n",
       " 'zPSFluxStetsonJ',\n",
       " 'zPSFluxLinearSlope',\n",
       " 'zPSFluxLinearIntercept',\n",
       " 'zPSFluxMaxSlope',\n",
       " 'zPSFluxErrMean',\n",
       " 'yPSFluxMedian',\n",
       " 'yPSFluxMAD',\n",
       " 'yPSFluxSkew',\n",
       " 'yPSFluxPercentile05',\n",
       " 'yPSFluxPercentile25',\n",
       " 'yPSFluxPercentile75',\n",
       " 'yPSFluxPercentile95',\n",
       " 'yPSFluxMin',\n",
       " 'yPSFluxMax',\n",
       " 'yPSFluxStetsonJ',\n",
       " 'yPSFluxLinearSlope',\n",
       " 'yPSFluxLinearIntercept',\n",
       " 'yPSFluxMaxSlope',\n",
       " 'yPSFluxErrMean',\n",
       " 'parent']"
      ]
     },
     "execution_count": 4,
     "metadata": {},
     "output_type": "execute_result"
    }
   ],
   "source": [
    "objTable.columns.tolist()"
   ]
  },
  {
   "cell_type": "code",
   "execution_count": 5,
   "metadata": {},
   "outputs": [
    {
     "data": {
      "text/plain": [
       "['gPSFluxMean',\n",
       " 'gPSFluxMeanErr',\n",
       " 'gPSFluxSigma',\n",
       " 'gPSFluxChi2',\n",
       " 'gPSFluxNdata',\n",
       " 'gPSFluxMedian',\n",
       " 'gPSFluxMAD',\n",
       " 'gPSFluxSkew',\n",
       " 'gPSFluxPercentile05',\n",
       " 'gPSFluxPercentile25',\n",
       " 'gPSFluxPercentile75',\n",
       " 'gPSFluxPercentile95',\n",
       " 'gPSFluxMin',\n",
       " 'gPSFluxMax',\n",
       " 'gPSFluxStetsonJ',\n",
       " 'gPSFluxLinearSlope',\n",
       " 'gPSFluxLinearIntercept',\n",
       " 'gPSFluxMaxSlope',\n",
       " 'gPSFluxErrMean']"
      ]
     },
     "execution_count": 5,
     "metadata": {},
     "output_type": "execute_result"
    }
   ],
   "source": [
    "obj.columns.tolist()"
   ]
  },
  {
   "cell_type": "code",
   "execution_count": 6,
   "metadata": {},
   "outputs": [
    {
     "data": {
      "text/plain": [
       "<matplotlib.collections.PathCollection at 0x7fc17a13dda0>"
      ]
     },
     "execution_count": 6,
     "metadata": {},
     "output_type": "execute_result"
    },
    {
     "data": {
      "image/png": "[encoded data removed]",
      "text/plain": [
       "<Figure size 432x288 with 1 Axes>"
      ]
     },
     "metadata": {
      "needs_background": "light"
     },
     "output_type": "display_data"
    }
   ],
   "source": [
    "plt.scatter(obj['gPSFluxMedian'],obj['gPSFluxMAD'])"
   ]
  },
  {
   "cell_type": "code",
   "execution_count": 7,
   "metadata": {},
   "outputs": [
    {
     "data": {
      "text/plain": [
       "(array([41., 56., 24.,  4.,  1.,  2.,  0.,  0.,  1.,  1.]),\n",
       " array([-0.99993426,  0.81758942,  2.6351131 ,  4.45263677,  6.27016045,\n",
       "         8.08768412,  9.9052078 , 11.72273148, 13.54025515, 15.35777883,\n",
       "        17.17530251]),\n",
       " <a list of 10 Patch objects>)"
      ]
     },
     "execution_count": 7,
     "metadata": {},
     "output_type": "execute_result"
    },
    {
     "data": {
      "image/png": "[encoded data removed]",
      "text/plain": [
       "<Figure size 432x288 with 1 Axes>"
      ]
     },
     "metadata": {
      "needs_background": "light"
     },
     "output_type": "display_data"
    }
   ],
   "source": [
    "plt.hist(obj.loc[obj['gPSFluxStetsonJ'].notnull(),'gPSFluxStetsonJ'])"
   ]
  },
  {
   "cell_type": "code",
   "execution_count": 8,
   "metadata": {},
   "outputs": [
    {
     "data": {
      "text/plain": [
       "(array([79., 30., 10.,  3.,  3.,  2.,  1.,  0.,  0.,  2.]),\n",
       " array([ -3766.68237305,  18801.14680176,  41368.97597656,  63936.80515137,\n",
       "         86504.63432617, 109072.46350098, 131640.29267578, 154208.12185059,\n",
       "        176775.95102539, 199343.7802002 , 221911.609375  ]),\n",
       " <a list of 10 Patch objects>)"
      ]
     },
     "execution_count": 8,
     "metadata": {},
     "output_type": "execute_result"
    },
    {
     "data": {
      "image/png": "[encoded data removed]",
      "text/plain": [
       "<Figure size 432x288 with 1 Axes>"
      ]
     },
     "metadata": {
      "needs_background": "light"
     },
     "output_type": "display_data"
    }
   ],
   "source": [
    "plt.hist(obj.loc[obj['gPSFluxMaxSlope'].notnull(),'gPSFluxMaxSlope'])"
   ]
  },
  {
   "cell_type": "code",
   "execution_count": 9,
   "metadata": {},
   "outputs": [
    {
     "data": {
      "text/plain": [
       "<matplotlib.collections.PathCollection at 0x7fc179d0afd0>"
      ]
     },
     "execution_count": 9,
     "metadata": {},
     "output_type": "execute_result"
    },
    {
     "data": {
      "image/png": "[encoded data removed]",
      "text/plain": [
       "<Figure size 432x288 with 1 Axes>"
      ]
     },
     "metadata": {
      "needs_background": "light"
     },
     "output_type": "display_data"
    }
   ],
   "source": [
    "plt.scatter(obj['gPSFluxMax'] - obj['gPSFluxMin'],obj['gPSFluxMaxSlope'])"
   ]
  },
  {
   "cell_type": "code",
   "execution_count": 10,
   "metadata": {},
   "outputs": [
    {
     "data": {
      "text/plain": [
       "<matplotlib.collections.PathCollection at 0x7fc179ce3780>"
      ]
     },
     "execution_count": 10,
     "metadata": {},
     "output_type": "execute_result"
    },
    {
     "data": {
      "image/png": "[encoded data removed]",
      "text/plain": [
       "<Figure size 432x288 with 1 Axes>"
      ]
     },
     "metadata": {
      "needs_background": "light"
     },
     "output_type": "display_data"
    }
   ],
   "source": [
    "plt.scatter(obj['gPSFluxMean'],obj['gPSFluxErrMean'])"
   ]
  }
 ],
 "metadata": {
  "kernelspec": {
   "display_name": "LSST",
   "language": "python",
   "name": "lsst"
  },
  "language_info": {
   "codemirror_mode": {
    "name": "ipython",
    "version": 3
   },
   "file_extension": ".py",
   "mimetype": "text/x-python",
   "name": "python",
   "nbconvert_exporter": "python",
   "pygments_lexer": "ipython3",
   "version": "3.6.6"
  }
 },
 "nbformat": 4,
 "nbformat_minor": 2
}
