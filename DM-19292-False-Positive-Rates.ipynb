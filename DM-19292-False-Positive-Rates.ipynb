{
 "cells": [
  {
   "cell_type": "markdown",
   "metadata": {},
   "source": [
    "## DM-19292: Compare detection rates to Gaussian noise for HiTS processing"
   ]
  },
  {
   "cell_type": "code",
   "execution_count": 1,
   "metadata": {},
   "outputs": [],
   "source": [
    "import os\n",
    "import numpy as np\n",
    "#%matplotlib notebook\n",
    "import matplotlib.pyplot as plt\n",
    "import pandas as pd\n",
    "import sqlite3\n",
    "import lsst.daf.persistence as dafPersist\n",
    "import lsst.afw.display as afwDisplay\n",
    "import lsst.geom\n",
    "afwDisplay.setDefaultBackend('matplotlib')\n",
    "import matplotlib.ticker as plticker\n",
    "from astropy.visualization import (ZScaleInterval, SqrtStretch, ImageNormalize)"
   ]
  },
  {
   "cell_type": "code",
   "execution_count": 2,
   "metadata": {},
   "outputs": [],
   "source": [
    "# Meredith's standard processing location\n",
    "#REPO = '/project/mrawls/hits2015/rerun/cw_processed3'\n",
    "REPO = '/project/mrawls/hits2015/rerun/cw_processed4' #with updated PhotoCalib configs \n",
    "\n",
    "# with decorrelation off\n",
    "#/project/mrawls/hits2015/rerun/cw_nodecorr1"
   ]
  },
  {
   "cell_type": "code",
   "execution_count": 3,
   "metadata": {},
   "outputs": [],
   "source": [
    "connection = sqlite3.connect(f'{REPO}/association.db')"
   ]
  },
  {
   "cell_type": "markdown",
   "metadata": {},
   "source": [
    "Take a look at the DiaSource table:"
   ]
  },
  {
   "cell_type": "code",
   "execution_count": 5,
   "metadata": {},
   "outputs": [],
   "source": [
    "ds_sample = pd.read_sql_query('select * from DiaSource LIMIT 10;', connection)"
   ]
  },
  {
   "cell_type": "code",
   "execution_count": 6,
   "metadata": {},
   "outputs": [
    {
     "data": {
      "text/html": [
       "<div>\n",
       "<style scoped>\n",
       "    .dataframe tbody tr th:only-of-type {\n",
       "        vertical-align: middle;\n",
       "    }\n",
       "\n",
       "    .dataframe tbody tr th {\n",
       "        vertical-align: top;\n",
       "    }\n",
       "\n",
       "    .dataframe thead th {\n",
       "        text-align: right;\n",
       "    }\n",
       "</style>\n",
       "<table border=\"1\" class=\"dataframe\">\n",
       "  <thead>\n",
       "    <tr style=\"text-align: right;\">\n",
       "      <th></th>\n",
       "      <th>diaSourceId</th>\n",
       "      <th>ccdVisitId</th>\n",
       "      <th>diaObjectId</th>\n",
       "      <th>ssObjectId</th>\n",
       "      <th>parentDiaSourceId</th>\n",
       "      <th>prv_procOrder</th>\n",
       "      <th>ssObjectReassocTime</th>\n",
       "      <th>midPointTai</th>\n",
       "      <th>ra</th>\n",
       "      <th>raErr</th>\n",
       "      <th>...</th>\n",
       "      <th>ixxPSF</th>\n",
       "      <th>iyyPSF</th>\n",
       "      <th>ixyPSF</th>\n",
       "      <th>extendedness</th>\n",
       "      <th>spuriousness</th>\n",
       "      <th>flags</th>\n",
       "      <th>pixelId</th>\n",
       "      <th>filterName</th>\n",
       "      <th>filterId</th>\n",
       "      <th>isDipole</th>\n",
       "    </tr>\n",
       "  </thead>\n",
       "  <tbody>\n",
       "    <tr>\n",
       "      <th>0</th>\n",
       "      <td>176486811852341337</td>\n",
       "      <td>41091538</td>\n",
       "      <td>176486811852341337</td>\n",
       "      <td>0</td>\n",
       "      <td>0</td>\n",
       "      <td>0</td>\n",
       "      <td>None</td>\n",
       "      <td>57070.141866</td>\n",
       "      <td>150.908070</td>\n",
       "      <td>None</td>\n",
       "      <td>...</td>\n",
       "      <td>3.568572</td>\n",
       "      <td>4.375425</td>\n",
       "      <td>-0.412995</td>\n",
       "      <td>None</td>\n",
       "      <td>None</td>\n",
       "      <td>268</td>\n",
       "      <td>0</td>\n",
       "      <td>g</td>\n",
       "      <td>1</td>\n",
       "      <td>0</td>\n",
       "    </tr>\n",
       "    <tr>\n",
       "      <th>1</th>\n",
       "      <td>176486811852341338</td>\n",
       "      <td>41091538</td>\n",
       "      <td>176486811852341338</td>\n",
       "      <td>0</td>\n",
       "      <td>0</td>\n",
       "      <td>0</td>\n",
       "      <td>None</td>\n",
       "      <td>57070.141866</td>\n",
       "      <td>150.912628</td>\n",
       "      <td>None</td>\n",
       "      <td>...</td>\n",
       "      <td>3.568572</td>\n",
       "      <td>4.375425</td>\n",
       "      <td>-0.412995</td>\n",
       "      <td>None</td>\n",
       "      <td>None</td>\n",
       "      <td>0</td>\n",
       "      <td>0</td>\n",
       "      <td>g</td>\n",
       "      <td>1</td>\n",
       "      <td>0</td>\n",
       "    </tr>\n",
       "    <tr>\n",
       "      <th>2</th>\n",
       "      <td>176486811852341339</td>\n",
       "      <td>41091538</td>\n",
       "      <td>176486811852341339</td>\n",
       "      <td>0</td>\n",
       "      <td>0</td>\n",
       "      <td>0</td>\n",
       "      <td>None</td>\n",
       "      <td>57070.141866</td>\n",
       "      <td>150.917767</td>\n",
       "      <td>None</td>\n",
       "      <td>...</td>\n",
       "      <td>3.568572</td>\n",
       "      <td>4.375425</td>\n",
       "      <td>-0.412995</td>\n",
       "      <td>None</td>\n",
       "      <td>None</td>\n",
       "      <td>25165824</td>\n",
       "      <td>0</td>\n",
       "      <td>g</td>\n",
       "      <td>1</td>\n",
       "      <td>1</td>\n",
       "    </tr>\n",
       "    <tr>\n",
       "      <th>3</th>\n",
       "      <td>176486811852341340</td>\n",
       "      <td>41091538</td>\n",
       "      <td>176486811852341340</td>\n",
       "      <td>0</td>\n",
       "      <td>0</td>\n",
       "      <td>0</td>\n",
       "      <td>None</td>\n",
       "      <td>57070.141866</td>\n",
       "      <td>150.918168</td>\n",
       "      <td>None</td>\n",
       "      <td>...</td>\n",
       "      <td>3.568572</td>\n",
       "      <td>4.375425</td>\n",
       "      <td>-0.412995</td>\n",
       "      <td>None</td>\n",
       "      <td>None</td>\n",
       "      <td>1320</td>\n",
       "      <td>0</td>\n",
       "      <td>g</td>\n",
       "      <td>1</td>\n",
       "      <td>0</td>\n",
       "    </tr>\n",
       "    <tr>\n",
       "      <th>4</th>\n",
       "      <td>176486811852341341</td>\n",
       "      <td>41091538</td>\n",
       "      <td>176486811852341341</td>\n",
       "      <td>0</td>\n",
       "      <td>0</td>\n",
       "      <td>0</td>\n",
       "      <td>None</td>\n",
       "      <td>57070.141866</td>\n",
       "      <td>150.924709</td>\n",
       "      <td>None</td>\n",
       "      <td>...</td>\n",
       "      <td>3.568572</td>\n",
       "      <td>4.375425</td>\n",
       "      <td>-0.412995</td>\n",
       "      <td>None</td>\n",
       "      <td>None</td>\n",
       "      <td>41943900</td>\n",
       "      <td>0</td>\n",
       "      <td>g</td>\n",
       "      <td>1</td>\n",
       "      <td>0</td>\n",
       "    </tr>\n",
       "    <tr>\n",
       "      <th>5</th>\n",
       "      <td>176486811852341342</td>\n",
       "      <td>41091538</td>\n",
       "      <td>176486811852341342</td>\n",
       "      <td>0</td>\n",
       "      <td>0</td>\n",
       "      <td>0</td>\n",
       "      <td>None</td>\n",
       "      <td>57070.141866</td>\n",
       "      <td>150.937029</td>\n",
       "      <td>None</td>\n",
       "      <td>...</td>\n",
       "      <td>3.568572</td>\n",
       "      <td>4.375425</td>\n",
       "      <td>-0.412995</td>\n",
       "      <td>None</td>\n",
       "      <td>None</td>\n",
       "      <td>25166844</td>\n",
       "      <td>0</td>\n",
       "      <td>g</td>\n",
       "      <td>1</td>\n",
       "      <td>0</td>\n",
       "    </tr>\n",
       "    <tr>\n",
       "      <th>6</th>\n",
       "      <td>176486811852341343</td>\n",
       "      <td>41091538</td>\n",
       "      <td>176486811852341343</td>\n",
       "      <td>0</td>\n",
       "      <td>0</td>\n",
       "      <td>0</td>\n",
       "      <td>None</td>\n",
       "      <td>57070.141866</td>\n",
       "      <td>150.933536</td>\n",
       "      <td>None</td>\n",
       "      <td>...</td>\n",
       "      <td>3.568572</td>\n",
       "      <td>4.375425</td>\n",
       "      <td>-0.412995</td>\n",
       "      <td>None</td>\n",
       "      <td>None</td>\n",
       "      <td>109051976</td>\n",
       "      <td>0</td>\n",
       "      <td>g</td>\n",
       "      <td>1</td>\n",
       "      <td>1</td>\n",
       "    </tr>\n",
       "    <tr>\n",
       "      <th>7</th>\n",
       "      <td>176486811852341344</td>\n",
       "      <td>41091538</td>\n",
       "      <td>176486811852341344</td>\n",
       "      <td>0</td>\n",
       "      <td>0</td>\n",
       "      <td>0</td>\n",
       "      <td>None</td>\n",
       "      <td>57070.141866</td>\n",
       "      <td>150.936417</td>\n",
       "      <td>None</td>\n",
       "      <td>...</td>\n",
       "      <td>3.568572</td>\n",
       "      <td>4.375425</td>\n",
       "      <td>-0.412995</td>\n",
       "      <td>None</td>\n",
       "      <td>None</td>\n",
       "      <td>0</td>\n",
       "      <td>0</td>\n",
       "      <td>g</td>\n",
       "      <td>1</td>\n",
       "      <td>1</td>\n",
       "    </tr>\n",
       "    <tr>\n",
       "      <th>8</th>\n",
       "      <td>176486811852341345</td>\n",
       "      <td>41091538</td>\n",
       "      <td>176486811852341345</td>\n",
       "      <td>0</td>\n",
       "      <td>0</td>\n",
       "      <td>0</td>\n",
       "      <td>None</td>\n",
       "      <td>57070.141866</td>\n",
       "      <td>150.936867</td>\n",
       "      <td>None</td>\n",
       "      <td>...</td>\n",
       "      <td>3.568572</td>\n",
       "      <td>4.375425</td>\n",
       "      <td>-0.412995</td>\n",
       "      <td>None</td>\n",
       "      <td>None</td>\n",
       "      <td>25165824</td>\n",
       "      <td>0</td>\n",
       "      <td>g</td>\n",
       "      <td>1</td>\n",
       "      <td>1</td>\n",
       "    </tr>\n",
       "    <tr>\n",
       "      <th>9</th>\n",
       "      <td>176486811852341346</td>\n",
       "      <td>41091538</td>\n",
       "      <td>176486811852341346</td>\n",
       "      <td>0</td>\n",
       "      <td>0</td>\n",
       "      <td>0</td>\n",
       "      <td>None</td>\n",
       "      <td>57070.141866</td>\n",
       "      <td>150.947150</td>\n",
       "      <td>None</td>\n",
       "      <td>...</td>\n",
       "      <td>3.568572</td>\n",
       "      <td>4.375425</td>\n",
       "      <td>-0.412995</td>\n",
       "      <td>None</td>\n",
       "      <td>None</td>\n",
       "      <td>396</td>\n",
       "      <td>0</td>\n",
       "      <td>g</td>\n",
       "      <td>1</td>\n",
       "      <td>0</td>\n",
       "    </tr>\n",
       "  </tbody>\n",
       "</table>\n",
       "<p>10 rows × 111 columns</p>\n",
       "</div>"
      ],
      "text/plain": [
       "          diaSourceId  ccdVisitId         diaObjectId  ssObjectId  \\\n",
       "0  176486811852341337    41091538  176486811852341337           0   \n",
       "1  176486811852341338    41091538  176486811852341338           0   \n",
       "2  176486811852341339    41091538  176486811852341339           0   \n",
       "3  176486811852341340    41091538  176486811852341340           0   \n",
       "4  176486811852341341    41091538  176486811852341341           0   \n",
       "5  176486811852341342    41091538  176486811852341342           0   \n",
       "6  176486811852341343    41091538  176486811852341343           0   \n",
       "7  176486811852341344    41091538  176486811852341344           0   \n",
       "8  176486811852341345    41091538  176486811852341345           0   \n",
       "9  176486811852341346    41091538  176486811852341346           0   \n",
       "\n",
       "   parentDiaSourceId  prv_procOrder ssObjectReassocTime   midPointTai  \\\n",
       "0                  0              0                None  57070.141866   \n",
       "1                  0              0                None  57070.141866   \n",
       "2                  0              0                None  57070.141866   \n",
       "3                  0              0                None  57070.141866   \n",
       "4                  0              0                None  57070.141866   \n",
       "5                  0              0                None  57070.141866   \n",
       "6                  0              0                None  57070.141866   \n",
       "7                  0              0                None  57070.141866   \n",
       "8                  0              0                None  57070.141866   \n",
       "9                  0              0                None  57070.141866   \n",
       "\n",
       "           ra raErr  ...    ixxPSF    iyyPSF    ixyPSF  extendedness  \\\n",
       "0  150.908070  None  ...  3.568572  4.375425 -0.412995          None   \n",
       "1  150.912628  None  ...  3.568572  4.375425 -0.412995          None   \n",
       "2  150.917767  None  ...  3.568572  4.375425 -0.412995          None   \n",
       "3  150.918168  None  ...  3.568572  4.375425 -0.412995          None   \n",
       "4  150.924709  None  ...  3.568572  4.375425 -0.412995          None   \n",
       "5  150.937029  None  ...  3.568572  4.375425 -0.412995          None   \n",
       "6  150.933536  None  ...  3.568572  4.375425 -0.412995          None   \n",
       "7  150.936417  None  ...  3.568572  4.375425 -0.412995          None   \n",
       "8  150.936867  None  ...  3.568572  4.375425 -0.412995          None   \n",
       "9  150.947150  None  ...  3.568572  4.375425 -0.412995          None   \n",
       "\n",
       "  spuriousness      flags pixelId filterName  filterId  isDipole  \n",
       "0         None        268       0          g         1         0  \n",
       "1         None          0       0          g         1         0  \n",
       "2         None   25165824       0          g         1         1  \n",
       "3         None       1320       0          g         1         0  \n",
       "4         None   41943900       0          g         1         0  \n",
       "5         None   25166844       0          g         1         0  \n",
       "6         None  109051976       0          g         1         1  \n",
       "7         None          0       0          g         1         1  \n",
       "8         None   25165824       0          g         1         1  \n",
       "9         None        396       0          g         1         0  \n",
       "\n",
       "[10 rows x 111 columns]"
      ]
     },
     "execution_count": 6,
     "metadata": {},
     "output_type": "execute_result"
    }
   ],
   "source": [
    "ds_sample"
   ]
  },
  {
   "cell_type": "markdown",
   "metadata": {},
   "source": [
    "How many unique ccdVisits do we have?"
   ]
  },
  {
   "cell_type": "code",
   "execution_count": 7,
   "metadata": {},
   "outputs": [
    {
     "data": {
      "text/html": [
       "<div>\n",
       "<style scoped>\n",
       "    .dataframe tbody tr th:only-of-type {\n",
       "        vertical-align: middle;\n",
       "    }\n",
       "\n",
       "    .dataframe tbody tr th {\n",
       "        vertical-align: top;\n",
       "    }\n",
       "\n",
       "    .dataframe thead th {\n",
       "        text-align: right;\n",
       "    }\n",
       "</style>\n",
       "<table border=\"1\" class=\"dataframe\">\n",
       "  <thead>\n",
       "    <tr style=\"text-align: right;\">\n",
       "      <th></th>\n",
       "      <th>COUNT(DISTINCT ccdVisitId)</th>\n",
       "    </tr>\n",
       "  </thead>\n",
       "  <tbody>\n",
       "    <tr>\n",
       "      <th>0</th>\n",
       "      <td>5011</td>\n",
       "    </tr>\n",
       "  </tbody>\n",
       "</table>\n",
       "</div>"
      ],
      "text/plain": [
       "   COUNT(DISTINCT ccdVisitId)\n",
       "0                        5011"
      ]
     },
     "execution_count": 7,
     "metadata": {},
     "output_type": "execute_result"
    }
   ],
   "source": [
    "pd.read_sql_query('select COUNT(DISTINCT ccdVisitId) from DiaSource;', connection)"
   ]
  },
  {
   "cell_type": "markdown",
   "metadata": {},
   "source": [
    "Load all of the data"
   ]
  },
  {
   "cell_type": "code",
   "execution_count": 8,
   "metadata": {},
   "outputs": [],
   "source": [
    "ds = pd.read_sql_query('select ccdVisitId, psFlux, psFluxErr from DiaSource;', connection)"
   ]
  },
  {
   "cell_type": "markdown",
   "metadata": {},
   "source": [
    "How many positive and negative DIASources are there?"
   ]
  },
  {
   "cell_type": "code",
   "execution_count": 9,
   "metadata": {},
   "outputs": [
    {
     "name": "stdout",
     "output_type": "stream",
     "text": [
      "Number of positive DIASource detections:  599327\n",
      "Number of negative DIASource detections:  449000\n"
     ]
    }
   ],
   "source": [
    "print('Number of positive DIASource detections: ',np.sum(ds.psFlux > 0))\n",
    "print('Number of negative DIASource detections: ',np.sum(ds.psFlux < 0))"
   ]
  },
  {
   "cell_type": "markdown",
   "metadata": {},
   "source": [
    "What is the measured (!= detected) SNR of the DIASources?"
   ]
  },
  {
   "cell_type": "code",
   "execution_count": 12,
   "metadata": {},
   "outputs": [
    {
     "data": {
      "image/png": "[encoded data removed]",
      "text/plain": [
       "<Figure size 432x288 with 1 Axes>"
      ]
     },
     "metadata": {
      "needs_background": "light"
     },
     "output_type": "display_data"
    }
   ],
   "source": [
    "_=plt.hist(np.abs(ds.psFlux)/ds.psFluxErr,bins=np.linspace(0,30,31))\n",
    "_=plt.xlabel(\"Measured DIASource SNR\")\n",
    "_=plt.ylabel(\"Number of ccdVisits\")"
   ]
  },
  {
   "cell_type": "markdown",
   "metadata": {},
   "source": [
    "How many DIASources are there per ccdVisit?"
   ]
  },
  {
   "cell_type": "code",
   "execution_count": 13,
   "metadata": {},
   "outputs": [
    {
     "data": {
      "image/png": "[encoded data removed]",
      "text/plain": [
       "<Figure size 432x288 with 1 Axes>"
      ]
     },
     "metadata": {
      "needs_background": "light"
     },
     "output_type": "display_data"
    }
   ],
   "source": [
    "vgrp = ds.groupby('ccdVisitId')\n",
    "nDiaSources = vgrp['psFlux'].agg(len)\n",
    "_=plt.hist(nDiaSources,bins=100)\n",
    "_=plt.xlabel(\"Number of DIASource Detections per CCD\")\n",
    "_=plt.ylabel(\"Number of ccdVisits\")"
   ]
  },
  {
   "cell_type": "code",
   "execution_count": 17,
   "metadata": {},
   "outputs": [
    {
     "name": "stderr",
     "output_type": "stream",
     "text": [
      "/opt/lsst/software/stack/python/miniconda3-4.5.12/envs/lsst-scipipe-1172c30/lib/python3.7/site-packages/matplotlib/axes/_axes.py:6521: MatplotlibDeprecationWarning: \n",
      "The 'normed' kwarg was deprecated in Matplotlib 2.1 and will be removed in 3.1. Use 'density' instead.\n",
      "  alternative=\"'density'\", removal=\"3.1\")\n"
     ]
    },
    {
     "data": {
      "image/png": "[encoded data removed]",
      "text/plain": [
       "<Figure size 432x288 with 1 Axes>"
      ]
     },
     "metadata": {
      "needs_background": "light"
     },
     "output_type": "display_data"
    }
   ],
   "source": [
    "_=plt.hist(nDiaSources,bins=100, cumulative=True,normed=True)\n",
    "_=plt.xlabel(\"Cumulative Number of DIASource Detections per CCD\")\n",
    "_=plt.ylabel(\"Number of ccdVisits\")"
   ]
  },
  {
   "cell_type": "code",
   "execution_count": 16,
   "metadata": {},
   "outputs": [
    {
     "data": {
      "text/plain": [
       "array([ 79., 185., 410.])"
      ]
     },
     "execution_count": 16,
     "metadata": {},
     "output_type": "execute_result"
    }
   ],
   "source": [
    "np.percentile(nDiaSources,[10,50,90])"
   ]
  },
  {
   "cell_type": "markdown",
   "metadata": {},
   "source": [
    "So these are much worse than the ~50 DIASource detections reported at 5 sigma with decorrelation on in DMTN-021."
   ]
  },
  {
   "cell_type": "markdown",
   "metadata": {},
   "source": [
    "How many sources would we expect per CCD if Gaussian noise was the only source of detections?"
   ]
  },
  {
   "cell_type": "markdown",
   "metadata": {},
   "source": [
    "via https://github.com/lsst-dm/diffimTests/blob/master/notebooks/20.%20compare%20photometry-corrected-many-DECam-images.ipynb"
   ]
  },
  {
   "cell_type": "code",
   "execution_count": 18,
   "metadata": {},
   "outputs": [],
   "source": [
    "def noise_detections(nu, sigma_g=1.8, npix=2000.*4000):\n",
    "    out = nu * np.exp(-(nu**2.)/2) / (2.**(5./2.) * np.pi**(3./2.))\n",
    "    out *= 1. / sigma_g**2. * npix\n",
    "    return out"
   ]
  },
  {
   "cell_type": "code",
   "execution_count": 19,
   "metadata": {},
   "outputs": [
    {
     "data": {
      "text/plain": [
       "1.4606096281552305"
      ]
     },
     "execution_count": 19,
     "metadata": {},
     "output_type": "execute_result"
    }
   ],
   "source": [
    "noise_detections(5) # reproducing DMTN-006 calculation for DECam"
   ]
  },
  {
   "cell_type": "markdown",
   "metadata": {},
   "source": [
    "Where are the really bad images?"
   ]
  },
  {
   "cell_type": "code",
   "execution_count": 18,
   "metadata": {},
   "outputs": [
    {
     "data": {
      "text/plain": [
       "7"
      ]
     },
     "execution_count": 18,
     "metadata": {},
     "output_type": "execute_result"
    }
   ],
   "source": [
    "wbad = nDiaSources > 2000\n",
    "np.sum(wbad)"
   ]
  },
  {
   "cell_type": "code",
   "execution_count": 19,
   "metadata": {},
   "outputs": [
    {
     "data": {
      "text/plain": [
       "ccdVisitId\n",
       "41137103    3062.0\n",
       "41979116    2198.0\n",
       "41980411    2074.0\n",
       "41980415    2501.0\n",
       "41980416    2632.0\n",
       "41980440    2226.0\n",
       "41980447    2482.0\n",
       "Name: psFlux, dtype: float64"
      ]
     },
     "execution_count": 19,
     "metadata": {},
     "output_type": "execute_result"
    }
   ],
   "source": [
    "nDiaSources[wbad]"
   ]
  },
  {
   "cell_type": "markdown",
   "metadata": {},
   "source": [
    "### Potential Future Work\n",
    "\n",
    "* get actual seeing per image and calculate excess detection rate \n",
    "* reproduce DMTN-006/021 plots"
   ]
  }
 ],
 "metadata": {
  "kernelspec": {
   "display_name": "LSST",
   "language": "python",
   "name": "lsst"
  },
  "language_info": {
   "codemirror_mode": {
    "name": "ipython",
    "version": 3
   },
   "file_extension": ".py",
   "mimetype": "text/x-python",
   "name": "python",
   "nbconvert_exporter": "python",
   "pygments_lexer": "ipython3",
   "version": "3.7.2"
  }
 },
 "nbformat": 4,
 "nbformat_minor": 2
}
