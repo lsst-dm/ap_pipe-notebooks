{
 "cells": [
  {
   "cell_type": "code",
   "execution_count": 111,
   "metadata": {},
   "outputs": [],
   "source": [
    "import os\n",
    "import sys\n",
    "import numpy as np\n",
    "from io import BytesIO\n",
    "import tempfile\n",
    "from glob import glob\n",
    "\n",
    "#%matplotlib notebook\n",
    "import matplotlib.pyplot as plt\n",
    "import pandas as pd\n",
    "import sqlite3\n",
    "import lsst.daf.persistence as dafPersist\n",
    "import lsst.afw.display as afwDisplay\n",
    "import lsst.afw.image as afwImage\n",
    "import lsst.afw.fits as afwFits\n",
    "import lsst.geom\n",
    "import lsst.alert.packet\n",
    "afwDisplay.setDefaultBackend('matplotlib')\n",
    "import matplotlib.ticker as plticker\n",
    "from astropy.visualization import (ZScaleInterval, SqrtStretch, ImageNormalize)\n",
    "from astropy.utils.console import ProgressBar\n",
    "from astropy.nddata import CCDData\n",
    "\n",
    "import fastavro\n",
    "import seaborn as sns"
   ]
  },
  {
   "cell_type": "code",
   "execution_count": 2,
   "metadata": {},
   "outputs": [
    {
     "data": {
      "text/plain": [
       "<module 'lsst.alert.packet' from '/opt/lsst/software/stack/stack/miniconda3-py37_4.8.2-1a1d771/Linux64/alert_packet/master-ge2bc8cbd00/python/lsst/alert/packet/__init__.py'>"
      ]
     },
     "execution_count": 2,
     "metadata": {},
     "output_type": "execute_result"
    }
   ],
   "source": [
    "lsst.alert.packet"
   ]
  },
  {
   "cell_type": "code",
   "execution_count": 3,
   "metadata": {},
   "outputs": [],
   "source": [
    "#fastavro.schema._schema.SCHEMA_DEFS.clear()"
   ]
  },
  {
   "cell_type": "code",
   "execution_count": 4,
   "metadata": {},
   "outputs": [
    {
     "name": "stdout",
     "output_type": "stream",
     "text": [
      "41091501.avro\n",
      "41091503.avro\n",
      "41091504.avro\n",
      "41091505.avro\n",
      "41091506.avro\n",
      "41091507.avro\n",
      "41091508.avro\n",
      "41091509.avro\n",
      "41091510.avro\n",
      "41091511.avro\n",
      "ls: write error: Broken pipe\n"
     ]
    }
   ],
   "source": [
    "!ls /project/morriscb/src/ap_verify_hits2015/DM-25930/alerts | head"
   ]
  },
  {
   "cell_type": "code",
   "execution_count": 5,
   "metadata": {},
   "outputs": [],
   "source": [
    "alert_files = glob('/project/morriscb/src/ap_verify_hits2015/DM-25930/alerts/*.avro')"
   ]
  },
  {
   "cell_type": "code",
   "execution_count": 6,
   "metadata": {},
   "outputs": [
    {
     "data": {
      "text/plain": [
       "5020"
      ]
     },
     "execution_count": 6,
     "metadata": {},
     "output_type": "execute_result"
    }
   ],
   "source": [
    "len(alert_files)"
   ]
  },
  {
   "cell_type": "code",
   "execution_count": 10,
   "metadata": {},
   "outputs": [],
   "source": [
    "schema = lsst.alert.packet.Schema.from_file()"
   ]
  },
  {
   "cell_type": "code",
   "execution_count": 55,
   "metadata": {},
   "outputs": [],
   "source": [
    "avro_file = alert_files[3]"
   ]
  },
  {
   "cell_type": "code",
   "execution_count": 15,
   "metadata": {},
   "outputs": [
    {
     "name": "stdout",
     "output_type": "stream",
     "text": [
      "28\n"
     ]
    }
   ],
   "source": [
    "with open(f'{avro_file}','rb') as f:\n",
    "    ct = 0\n",
    "    writer_schema, packet_iter = schema.retrieve_alerts(f)\n",
    "    for packet in packet_iter:\n",
    "        ct += 1\n",
    "print(ct)"
   ]
  },
  {
   "cell_type": "code",
   "execution_count": 20,
   "metadata": {},
   "outputs": [],
   "source": [
    "def read_cutout_images(alert):\n",
    "    \n",
    "    \n",
    "    with BytesIO(alert['cutoutDifference']) as bytesIO:\n",
    "        cutoutDifference = CCDData.read(bytesIO, format=\"fits\")\n",
    "        \n",
    "    with BytesIO(alert['cutoutTemplate']) as bytesIO:\n",
    "        cutoutTemplate = CCDData.read(bytesIO, format=\"fits\")\n",
    "   \n",
    "    return cutoutDifference, cutoutTemplate\n",
    "    "
   ]
  },
  {
   "cell_type": "code",
   "execution_count": 22,
   "metadata": {},
   "outputs": [],
   "source": [
    "cutoutDifference, cutoutTemplate = read_cutout_images(packet)"
   ]
  },
  {
   "cell_type": "code",
   "execution_count": 24,
   "metadata": {},
   "outputs": [
    {
     "data": {
      "text/plain": [
       "(60, 60)"
      ]
     },
     "execution_count": 24,
     "metadata": {},
     "output_type": "execute_result"
    }
   ],
   "source": [
    "cutoutDifference.shape"
   ]
  },
  {
   "cell_type": "markdown",
   "metadata": {},
   "source": [
    "https://stackoverflow.com/questions/26827055/python-how-to-get-iobytes-allocated-memory-length"
   ]
  },
  {
   "cell_type": "code",
   "execution_count": 28,
   "metadata": {},
   "outputs": [
    {
     "data": {
      "text/plain": [
       "64"
      ]
     },
     "execution_count": 28,
     "metadata": {},
     "output_type": "execute_result"
    }
   ],
   "source": [
    "sys.getsizeof(cutoutDifference)"
   ]
  },
  {
   "cell_type": "code",
   "execution_count": 40,
   "metadata": {},
   "outputs": [
    {
     "name": "stdout",
     "output_type": "stream",
     "text": [
      "CPU times: user 13 µs, sys: 4 µs, total: 17 µs\n",
      "Wall time: 24.3 µs\n"
     ]
    },
    {
     "data": {
      "text/plain": [
       "34593"
      ]
     },
     "execution_count": 40,
     "metadata": {},
     "output_type": "execute_result"
    }
   ],
   "source": [
    "%%time\n",
    "sys.getsizeof(BytesIO(packet['cutoutDifference']).getvalue())"
   ]
  },
  {
   "cell_type": "code",
   "execution_count": 37,
   "metadata": {},
   "outputs": [
    {
     "name": "stdout",
     "output_type": "stream",
     "text": [
      "CPU times: user 26 µs, sys: 8 µs, total: 34 µs\n",
      "Wall time: 41.7 µs\n"
     ]
    },
    {
     "data": {
      "text/plain": [
       "34560"
      ]
     },
     "execution_count": 37,
     "metadata": {},
     "output_type": "execute_result"
    }
   ],
   "source": [
    "%%time\n",
    "BytesIO(packet['cutoutDifference']).getbuffer().nbytes"
   ]
  },
  {
   "cell_type": "code",
   "execution_count": 35,
   "metadata": {},
   "outputs": [
    {
     "data": {
      "text/plain": [
       "64"
      ]
     },
     "execution_count": 35,
     "metadata": {},
     "output_type": "execute_result"
    }
   ],
   "source": [
    "BytesIO(packet['cutoutDifference']).__sizeof__()"
   ]
  },
  {
   "cell_type": "code",
   "execution_count": 38,
   "metadata": {},
   "outputs": [
    {
     "name": "stdout",
     "output_type": "stream",
     "text": [
      "CPU times: user 11 µs, sys: 3 µs, total: 14 µs\n",
      "Wall time: 22.6 µs\n"
     ]
    },
    {
     "data": {
      "text/plain": [
       "34560"
      ]
     },
     "execution_count": 38,
     "metadata": {},
     "output_type": "execute_result"
    }
   ],
   "source": [
    "%%time\n",
    "len(BytesIO(packet['cutoutDifference']).getvalue())"
   ]
  },
  {
   "cell_type": "code",
   "execution_count": 49,
   "metadata": {},
   "outputs": [],
   "source": [
    "\n",
    "def size_cutout(alert, cutoutType='Difference'):\n",
    "    \n",
    "    assert(cutoutType in ['Difference','Template'])\n",
    "    \n",
    "    with BytesIO(alert[f'cutout{cutoutType}']) as bytesIO:\n",
    "        cutoutSizeBytes = len(bytesIO.getvalue())\n",
    "\n",
    "        with fits.open(bytesIO) as hdulist:\n",
    "            cutoutNAXIS1 = hdulist[0].header['NAXIS1']\n",
    "            cutoutNAXIS2 = hdulist[0].header['NAXIS2']\n",
    "\n",
    "    \n",
    "    return cutoutSizeBytes, cutoutNAXIS1, cutoutNAXIS2, \n"
   ]
  },
  {
   "cell_type": "code",
   "execution_count": 52,
   "metadata": {},
   "outputs": [
    {
     "data": {
      "text/plain": [
       "(34560, 60, 60)"
      ]
     },
     "execution_count": 52,
     "metadata": {},
     "output_type": "execute_result"
    }
   ],
   "source": [
    "size_cutout(packet)"
   ]
  },
  {
   "cell_type": "code",
   "execution_count": 56,
   "metadata": {},
   "outputs": [
    {
     "name": "stdout",
     "output_type": "stream",
     "text": [
      "(23040, 42, 42)\n",
      "(23040, 42, 42)\n",
      "(17280, 30, 30)\n",
      "(17280, 30, 30)\n",
      "(17280, 30, 30)\n",
      "(17280, 30, 30)\n",
      "(17280, 30, 30)\n",
      "(17280, 30, 30)\n",
      "(17280, 30, 30)\n",
      "(17280, 30, 30)\n",
      "(17280, 30, 30)\n",
      "(17280, 30, 30)\n",
      "(17280, 30, 30)\n",
      "(17280, 30, 30)\n",
      "(17280, 30, 30)\n",
      "(17280, 30, 30)\n",
      "(17280, 30, 30)\n",
      "(17280, 30, 30)\n",
      "(17280, 30, 30)\n",
      "(17280, 30, 30)\n",
      "(17280, 30, 30)\n",
      "(17280, 30, 30)\n",
      "(17280, 30, 30)\n",
      "(17280, 30, 30)\n",
      "(17280, 30, 30)\n",
      "(17280, 30, 30)\n",
      "(28800, 51, 51)\n",
      "(28800, 51, 51)\n",
      "(17280, 36, 36)\n",
      "(17280, 36, 36)\n",
      "(17280, 30, 30)\n",
      "(17280, 30, 30)\n",
      "(28800, 47, 47)\n",
      "(28800, 47, 47)\n",
      "(17280, 30, 30)\n",
      "(17280, 30, 30)\n",
      "(17280, 30, 30)\n",
      "(17280, 30, 30)\n",
      "(17280, 30, 30)\n",
      "(17280, 30, 30)\n",
      "(17280, 30, 30)\n",
      "(17280, 30, 30)\n",
      "(23040, 45, 45)\n",
      "(23040, 45, 45)\n",
      "(17280, 30, 30)\n",
      "(17280, 30, 30)\n",
      "(17280, 30, 30)\n",
      "(17280, 30, 30)\n",
      "(17280, 30, 30)\n",
      "(17280, 30, 30)\n",
      "(17280, 30, 30)\n",
      "(17280, 30, 30)\n",
      "(17280, 30, 30)\n",
      "(17280, 30, 30)\n",
      "(23040, 45, 45)\n",
      "(23040, 45, 45)\n",
      "(17280, 30, 30)\n",
      "(17280, 30, 30)\n",
      "(28800, 49, 49)\n",
      "(28800, 49, 49)\n",
      "(17280, 30, 30)\n",
      "(17280, 30, 30)\n",
      "(17280, 30, 30)\n",
      "(17280, 30, 30)\n",
      "(17280, 30, 30)\n",
      "(17280, 30, 30)\n",
      "(17280, 30, 30)\n",
      "(17280, 30, 30)\n",
      "(17280, 30, 30)\n",
      "(17280, 30, 30)\n",
      "(17280, 30, 30)\n",
      "(17280, 30, 30)\n",
      "(23040, 44, 44)\n",
      "(23040, 44, 44)\n",
      "(17280, 30, 30)\n",
      "(17280, 30, 30)\n",
      "(17280, 30, 30)\n",
      "(17280, 30, 30)\n",
      "(17280, 30, 30)\n",
      "(17280, 30, 30)\n",
      "(17280, 30, 30)\n",
      "(17280, 30, 30)\n",
      "(34560, 60, 60)\n",
      "(34560, 60, 60)\n",
      "(28800, 52, 52)\n",
      "(28800, 52, 52)\n",
      "(17280, 30, 30)\n",
      "(17280, 30, 30)\n",
      "(17280, 30, 30)\n",
      "(17280, 30, 30)\n",
      "(17280, 30, 30)\n",
      "(17280, 30, 30)\n",
      "(218880, 161, 161)\n",
      "(218880, 161, 161)\n",
      "(17280, 30, 30)\n",
      "(17280, 30, 30)\n",
      "(17280, 30, 30)\n",
      "(17280, 30, 30)\n",
      "(17280, 30, 30)\n",
      "(17280, 30, 30)\n",
      "(17280, 30, 30)\n",
      "(17280, 30, 30)\n",
      "(17280, 30, 30)\n",
      "(17280, 30, 30)\n",
      "(17280, 30, 30)\n",
      "(17280, 30, 30)\n",
      "(23040, 38, 38)\n",
      "(23040, 38, 38)\n",
      "(17280, 32, 32)\n",
      "(17280, 32, 32)\n",
      "(17280, 31, 31)\n",
      "(17280, 31, 31)\n",
      "(17280, 30, 30)\n",
      "(17280, 30, 30)\n",
      "(23040, 39, 39)\n",
      "(23040, 39, 39)\n",
      "(40320, 61, 61)\n",
      "(40320, 61, 61)\n",
      "(17280, 30, 30)\n",
      "(17280, 30, 30)\n",
      "(17280, 30, 30)\n",
      "(17280, 30, 30)\n",
      "(17280, 30, 30)\n",
      "(17280, 30, 30)\n",
      "(17280, 30, 30)\n",
      "(17280, 30, 30)\n",
      "(17280, 30, 30)\n",
      "(17280, 30, 30)\n",
      "(17280, 30, 30)\n",
      "(17280, 30, 30)\n",
      "(17280, 30, 30)\n",
      "(17280, 30, 30)\n",
      "(17280, 30, 30)\n",
      "(17280, 30, 30)\n",
      "(17280, 34, 34)\n",
      "(17280, 34, 34)\n",
      "(17280, 31, 31)\n",
      "(17280, 31, 31)\n",
      "(17280, 30, 30)\n",
      "(17280, 30, 30)\n",
      "CPU times: user 235 ms, sys: 14.6 ms, total: 250 ms\n",
      "Wall time: 292 ms\n"
     ]
    }
   ],
   "source": [
    "%%time\n",
    "with open(f'{avro_file}','rb') as f:\n",
    "    writer_schema, packet_iter = schema.retrieve_alerts(f)\n",
    "    for packet in packet_iter:\n",
    "        print(size_cutout(packet,'Difference'))\n",
    "        print(size_cutout(packet,'Template'))\n"
   ]
  },
  {
   "cell_type": "markdown",
   "metadata": {},
   "source": [
    "So as we expect right now the cutouts are square.\n",
    "Both cutouts are also the same size for the same shape, which also is expected."
   ]
  },
  {
   "cell_type": "code",
   "execution_count": 66,
   "metadata": {},
   "outputs": [
    {
     "data": {
      "application/vnd.jupyter.widget-view+json": {
       "model_id": "fff4f11be1c44b26a7d8ae9382658cf6",
       "version_major": 2,
       "version_minor": 0
      },
      "text/plain": [
       "FloatProgress(value=0.0)"
      ]
     },
     "metadata": {},
     "output_type": "display_data"
    },
    {
     "name": "stdout",
     "output_type": "stream",
     "text": [
      "\n"
     ]
    }
   ],
   "source": [
    "sizes_bytes = []\n",
    "pixel_sizes = []\n",
    "\n",
    "with ProgressBar(len(alert_files), ipython_widget=True) as bar:\n",
    "    for avro_file in alert_files:\n",
    "        with open(f'{avro_file}','rb') as f:\n",
    "            writer_schema, packet_iter = schema.retrieve_alerts(f)\n",
    "            for packet in packet_iter:\n",
    "                size_bytes, size_pixels, _ = size_cutout(packet,'Difference')\n",
    "                sizes_bytes.append(size_bytes)\n",
    "                pixel_sizes.append(size_pixels)\n",
    "        bar.update()\n",
    "        \n",
    "sizes_bytes_array = np.array(sizes_bytes)\n",
    "pixel_sizes_array = np.array(pixel_sizes)\n",
    "np.savez_compressed('alert_sizes.npz',sizes_bytes_array,pixel_sizes_array)"
   ]
  },
  {
   "cell_type": "code",
   "execution_count": 67,
   "metadata": {},
   "outputs": [
    {
     "data": {
      "text/plain": [
       "673148"
      ]
     },
     "execution_count": 67,
     "metadata": {},
     "output_type": "execute_result"
    }
   ],
   "source": [
    "len(sizes_bytes_array)"
   ]
  },
  {
   "cell_type": "code",
   "execution_count": 77,
   "metadata": {},
   "outputs": [
    {
     "data": {
      "text/plain": [
       "506.151123046875"
      ]
     },
     "execution_count": 77,
     "metadata": {},
     "output_type": "execute_result"
    }
   ],
   "source": [
    "np.max(sizes_bytes_array)/1024/1024"
   ]
  },
  {
   "cell_type": "code",
   "execution_count": 71,
   "metadata": {},
   "outputs": [
    {
     "data": {
      "text/plain": [
       "8145"
      ]
     },
     "execution_count": 71,
     "metadata": {},
     "output_type": "execute_result"
    }
   ],
   "source": [
    "np.max(pixel_sizes_array)"
   ]
  },
  {
   "cell_type": "code",
   "execution_count": 81,
   "metadata": {},
   "outputs": [
    {
     "data": {
      "text/plain": [
       "Text(0, 0.5, 'Number of cutouts')"
      ]
     },
     "execution_count": 81,
     "metadata": {},
     "output_type": "execute_result"
    },
    {
     "data": {
      "image/png": "[encoded data removed]",
      "text/plain": [
       "<Figure size 864x576 with 1 Axes>"
      ]
     },
     "metadata": {
      "needs_background": "light"
     },
     "output_type": "display_data"
    }
   ],
   "source": [
    "fig = plt.figure(figsize=(12,8))\n",
    "_=plt.hist(pixel_sizes_array,bins=np.logspace(1,3,100))\n",
    "plt.xscale('log')\n",
    "plt.yscale('log')\n",
    "plt.xlim(25,1000)\n",
    "plt.xlabel('Cutout width (pixels)')\n",
    "plt.ylabel('Number of cutouts')"
   ]
  },
  {
   "cell_type": "code",
   "execution_count": 109,
   "metadata": {},
   "outputs": [
    {
     "data": {
      "text/plain": [
       "Text(0, 0.5, 'Fraction of cutouts')"
      ]
     },
     "execution_count": 109,
     "metadata": {},
     "output_type": "execute_result"
    },
    {
     "data": {
      "image/png": "[encoded data removed]",
      "text/plain": [
       "<Figure size 864x576 with 1 Axes>"
      ]
     },
     "metadata": {
      "needs_background": "light"
     },
     "output_type": "display_data"
    }
   ],
   "source": [
    "fig = plt.figure(figsize=(12,8))\n",
    "_=plt.hist(pixel_sizes_array,bins=np.logspace(1,3,100),cumulative=True,density=True)\n",
    "plt.xscale('log')\n",
    "#plt.yscale('log')\n",
    "plt.xlim(25,1000)\n",
    "plt.xlabel('Cutout width (pixels)')\n",
    "plt.ylabel('Fraction of cutouts')"
   ]
  },
  {
   "cell_type": "code",
   "execution_count": 96,
   "metadata": {},
   "outputs": [
    {
     "data": {
      "text/plain": [
       "Text(0, 0.5, 'Fraction of cutouts')"
      ]
     },
     "execution_count": 96,
     "metadata": {},
     "output_type": "execute_result"
    },
    {
     "data": {
      "image/png": "[encoded data removed]",
      "text/plain": [
       "<Figure size 864x576 with 1 Axes>"
      ]
     },
     "metadata": {
      "needs_background": "light"
     },
     "output_type": "display_data"
    }
   ],
   "source": [
    "fig = plt.figure(figsize=(12,8))\n",
    "_=plt.hist(sizes_bytes_array/1024,bins=np.linspace(5,150,100))#,cumulative=True)\n",
    "#plt.xscale('log')\n",
    "#plt.yscale('log')\n",
    "#plt.xlim(25,1000)\n",
    "plt.xlabel('Cutout width (pixels)')\n",
    "plt.ylabel('Fraction of cutouts')"
   ]
  },
  {
   "cell_type": "code",
   "execution_count": 94,
   "metadata": {},
   "outputs": [
    {
     "data": {
      "text/plain": [
       "array([ 16.875,  16.875, 118.125])"
      ]
     },
     "execution_count": 94,
     "metadata": {},
     "output_type": "execute_result"
    }
   ],
   "source": [
    "np.percentile(sizes_bytes_array,[5,50,95])/1024"
   ]
  },
  {
   "cell_type": "code",
   "execution_count": 97,
   "metadata": {},
   "outputs": [
    {
     "data": {
      "text/plain": [
       "16.875"
      ]
     },
     "execution_count": 97,
     "metadata": {},
     "output_type": "execute_result"
    }
   ],
   "source": [
    "np.min(sizes_bytes_array)/1024"
   ]
  },
  {
   "cell_type": "code",
   "execution_count": 98,
   "metadata": {},
   "outputs": [
    {
     "data": {
      "text/plain": [
       "518298.75"
      ]
     },
     "execution_count": 98,
     "metadata": {},
     "output_type": "execute_result"
    }
   ],
   "source": [
    "np.max(sizes_bytes_array)/1024"
   ]
  },
  {
   "cell_type": "code",
   "execution_count": 100,
   "metadata": {},
   "outputs": [
    {
     "data": {
      "text/plain": [
       "array([ 30.,  30., 117.])"
      ]
     },
     "execution_count": 100,
     "metadata": {},
     "output_type": "execute_result"
    }
   ],
   "source": [
    "np.percentile(pixel_sizes_array,[5,50,95])"
   ]
  },
  {
   "cell_type": "code",
   "execution_count": 101,
   "metadata": {},
   "outputs": [
    {
     "data": {
      "text/plain": [
       "8145"
      ]
     },
     "execution_count": 101,
     "metadata": {},
     "output_type": "execute_result"
    }
   ],
   "source": [
    "np.max(pixel_sizes_array)"
   ]
  },
  {
   "cell_type": "code",
   "execution_count": 104,
   "metadata": {},
   "outputs": [
    {
     "data": {
      "text/plain": [
       "<matplotlib.collections.PathCollection at 0x7fc233c7cc50>"
      ]
     },
     "execution_count": 104,
     "metadata": {},
     "output_type": "execute_result"
    },
    {
     "data": {
      "image/png": "[encoded data removed]",
      "text/plain": [
       "<Figure size 432x288 with 1 Axes>"
      ]
     },
     "metadata": {
      "needs_background": "light"
     },
     "output_type": "display_data"
    }
   ],
   "source": [
    "plt.scatter(pixel_sizes_array**2.,sizes_bytes_array/1024)"
   ]
  },
  {
   "cell_type": "code",
   "execution_count": 105,
   "metadata": {},
   "outputs": [],
   "source": []
  },
  {
   "cell_type": "code",
   "execution_count": 110,
   "metadata": {},
   "outputs": [
    {
     "data": {
      "text/plain": [
       "<seaborn.axisgrid.JointGrid at 0x7fc1b607d250>"
      ]
     },
     "execution_count": 110,
     "metadata": {},
     "output_type": "execute_result"
    },
    {
     "data": {
      "image/png": "[encoded data removed]",
      "text/plain": [
       "<Figure size 432x432 with 3 Axes>"
      ]
     },
     "metadata": {
      "needs_background": "light"
     },
     "output_type": "display_data"
    }
   ],
   "source": [
    "sns.jointplot(pixel_sizes_array**2.,sizes_bytes_array/1024)#,marginal_kws={'yscale':'log'})"
   ]
  },
  {
   "cell_type": "code",
   "execution_count": null,
   "metadata": {},
   "outputs": [],
   "source": []
  }
 ],
 "metadata": {
  "kernelspec": {
   "display_name": "LSST",
   "language": "python",
   "name": "lsst"
  },
  "language_info": {
   "codemirror_mode": {
    "name": "ipython",
    "version": 3
   },
   "file_extension": ".py",
   "mimetype": "text/x-python",
   "name": "python",
   "nbconvert_exporter": "python",
   "pygments_lexer": "ipython3",
   "version": "3.7.6"
  }
 },
 "nbformat": 4,
 "nbformat_minor": 4
}
