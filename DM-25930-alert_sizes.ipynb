{
 "cells": [
  {
   "cell_type": "code",
   "execution_count": 120,
   "metadata": {},
   "outputs": [],
   "source": [
    "import os\n",
    "import sys\n",
    "import numpy as np\n",
    "from io import BytesIO\n",
    "import tempfile\n",
    "from glob import glob\n",
    "import gzip\n",
    "import shutil\n",
    "\n",
    "#%matplotlib notebook\n",
    "import matplotlib.pyplot as plt\n",
    "import pandas as pd\n",
    "import sqlite3\n",
    "import lsst.daf.persistence as dafPersist\n",
    "import lsst.afw.display as afwDisplay\n",
    "import lsst.afw.image as afwImage\n",
    "import lsst.afw.fits as afwFits\n",
    "import lsst.geom\n",
    "import lsst.alert.packet\n",
    "afwDisplay.setDefaultBackend('matplotlib')\n",
    "import matplotlib.ticker as plticker\n",
    "from astropy.visualization import (ZScaleInterval, SqrtStretch, ImageNormalize)\n",
    "from astropy.utils.console import ProgressBar\n",
    "from astropy.nddata import CCDData\n",
    "\n",
    "\n",
    "import fastavro\n",
    "import seaborn as sns"
   ]
  },
  {
   "cell_type": "code",
   "execution_count": 112,
   "metadata": {},
   "outputs": [],
   "source": [
    "sns.set_context('talk')\n"
   ]
  },
  {
   "cell_type": "code",
   "execution_count": 2,
   "metadata": {},
   "outputs": [
    {
     "data": {
      "text/plain": [
       "<module 'lsst.alert.packet' from '/opt/lsst/software/stack/stack/miniconda3-py37_4.8.2-1a1d771/Linux64/alert_packet/master-ge2bc8cbd00/python/lsst/alert/packet/__init__.py'>"
      ]
     },
     "execution_count": 2,
     "metadata": {},
     "output_type": "execute_result"
    }
   ],
   "source": [
    "lsst.alert.packet"
   ]
  },
  {
   "cell_type": "code",
   "execution_count": 3,
   "metadata": {},
   "outputs": [],
   "source": [
    "#fastavro.schema._schema.SCHEMA_DEFS.clear()"
   ]
  },
  {
   "cell_type": "code",
   "execution_count": 4,
   "metadata": {},
   "outputs": [
    {
     "name": "stdout",
     "output_type": "stream",
     "text": [
      "41091501.avro\n",
      "41091503.avro\n",
      "41091504.avro\n",
      "41091505.avro\n",
      "41091506.avro\n",
      "41091507.avro\n",
      "41091508.avro\n",
      "41091509.avro\n",
      "41091510.avro\n",
      "41091511.avro\n",
      "ls: write error: Broken pipe\n"
     ]
    }
   ],
   "source": [
    "!ls /project/morriscb/src/ap_verify_hits2015/DM-25930/alerts | head"
   ]
  },
  {
   "cell_type": "code",
   "execution_count": 5,
   "metadata": {},
   "outputs": [],
   "source": [
    "alert_files = glob('/project/morriscb/src/ap_verify_hits2015/DM-25930/alerts/*.avro')"
   ]
  },
  {
   "cell_type": "code",
   "execution_count": 6,
   "metadata": {},
   "outputs": [
    {
     "data": {
      "text/plain": [
       "5020"
      ]
     },
     "execution_count": 6,
     "metadata": {},
     "output_type": "execute_result"
    }
   ],
   "source": [
    "len(alert_files)"
   ]
  },
  {
   "cell_type": "code",
   "execution_count": 10,
   "metadata": {},
   "outputs": [],
   "source": [
    "schema = lsst.alert.packet.Schema.from_file()"
   ]
  },
  {
   "cell_type": "code",
   "execution_count": 55,
   "metadata": {},
   "outputs": [],
   "source": [
    "avro_file = alert_files[3]"
   ]
  },
  {
   "cell_type": "code",
   "execution_count": 15,
   "metadata": {},
   "outputs": [
    {
     "name": "stdout",
     "output_type": "stream",
     "text": [
      "28\n"
     ]
    }
   ],
   "source": [
    "with open(f'{avro_file}','rb') as f:\n",
    "    ct = 0\n",
    "    writer_schema, packet_iter = schema.retrieve_alerts(f)\n",
    "    for packet in packet_iter:\n",
    "        ct += 1\n",
    "print(ct)"
   ]
  },
  {
   "cell_type": "code",
   "execution_count": 20,
   "metadata": {},
   "outputs": [],
   "source": [
    "def read_cutout_images(alert):\n",
    "    \n",
    "    \n",
    "    with BytesIO(alert['cutoutDifference']) as bytesIO:\n",
    "        cutoutDifference = CCDData.read(bytesIO, format=\"fits\")\n",
    "        \n",
    "    with BytesIO(alert['cutoutTemplate']) as bytesIO:\n",
    "        cutoutTemplate = CCDData.read(bytesIO, format=\"fits\")\n",
    "   \n",
    "    return cutoutDifference, cutoutTemplate\n",
    "    "
   ]
  },
  {
   "cell_type": "code",
   "execution_count": 22,
   "metadata": {},
   "outputs": [],
   "source": [
    "cutoutDifference, cutoutTemplate = read_cutout_images(packet)"
   ]
  },
  {
   "cell_type": "code",
   "execution_count": 24,
   "metadata": {},
   "outputs": [
    {
     "data": {
      "text/plain": [
       "(60, 60)"
      ]
     },
     "execution_count": 24,
     "metadata": {},
     "output_type": "execute_result"
    }
   ],
   "source": [
    "cutoutDifference.shape"
   ]
  },
  {
   "cell_type": "markdown",
   "metadata": {},
   "source": [
    "https://stackoverflow.com/questions/26827055/python-how-to-get-iobytes-allocated-memory-length"
   ]
  },
  {
   "cell_type": "code",
   "execution_count": 28,
   "metadata": {},
   "outputs": [
    {
     "data": {
      "text/plain": [
       "64"
      ]
     },
     "execution_count": 28,
     "metadata": {},
     "output_type": "execute_result"
    }
   ],
   "source": [
    "sys.getsizeof(cutoutDifference)"
   ]
  },
  {
   "cell_type": "code",
   "execution_count": 40,
   "metadata": {},
   "outputs": [
    {
     "name": "stdout",
     "output_type": "stream",
     "text": [
      "CPU times: user 13 µs, sys: 4 µs, total: 17 µs\n",
      "Wall time: 24.3 µs\n"
     ]
    },
    {
     "data": {
      "text/plain": [
       "34593"
      ]
     },
     "execution_count": 40,
     "metadata": {},
     "output_type": "execute_result"
    }
   ],
   "source": [
    "%%time\n",
    "sys.getsizeof(BytesIO(packet['cutoutDifference']).getvalue())"
   ]
  },
  {
   "cell_type": "code",
   "execution_count": 37,
   "metadata": {},
   "outputs": [
    {
     "name": "stdout",
     "output_type": "stream",
     "text": [
      "CPU times: user 26 µs, sys: 8 µs, total: 34 µs\n",
      "Wall time: 41.7 µs\n"
     ]
    },
    {
     "data": {
      "text/plain": [
       "34560"
      ]
     },
     "execution_count": 37,
     "metadata": {},
     "output_type": "execute_result"
    }
   ],
   "source": [
    "%%time\n",
    "BytesIO(packet['cutoutDifference']).getbuffer().nbytes"
   ]
  },
  {
   "cell_type": "code",
   "execution_count": 35,
   "metadata": {},
   "outputs": [
    {
     "data": {
      "text/plain": [
       "64"
      ]
     },
     "execution_count": 35,
     "metadata": {},
     "output_type": "execute_result"
    }
   ],
   "source": [
    "BytesIO(packet['cutoutDifference']).__sizeof__()"
   ]
  },
  {
   "cell_type": "code",
   "execution_count": 38,
   "metadata": {},
   "outputs": [
    {
     "name": "stdout",
     "output_type": "stream",
     "text": [
      "CPU times: user 11 µs, sys: 3 µs, total: 14 µs\n",
      "Wall time: 22.6 µs\n"
     ]
    },
    {
     "data": {
      "text/plain": [
       "34560"
      ]
     },
     "execution_count": 38,
     "metadata": {},
     "output_type": "execute_result"
    }
   ],
   "source": [
    "%%time\n",
    "len(BytesIO(packet['cutoutDifference']).getvalue())"
   ]
  },
  {
   "cell_type": "code",
   "execution_count": 49,
   "metadata": {},
   "outputs": [],
   "source": [
    "\n",
    "def size_cutout(alert, cutoutType='Difference'):\n",
    "    \n",
    "    assert(cutoutType in ['Difference','Template'])\n",
    "    \n",
    "    with BytesIO(alert[f'cutout{cutoutType}']) as bytesIO:\n",
    "        cutoutSizeBytes = len(bytesIO.getvalue())\n",
    "\n",
    "        with fits.open(bytesIO) as hdulist:\n",
    "            cutoutNAXIS1 = hdulist[0].header['NAXIS1']\n",
    "            cutoutNAXIS2 = hdulist[0].header['NAXIS2']\n",
    "\n",
    "    \n",
    "    return cutoutSizeBytes, cutoutNAXIS1, cutoutNAXIS2, \n"
   ]
  },
  {
   "cell_type": "code",
   "execution_count": 52,
   "metadata": {},
   "outputs": [
    {
     "data": {
      "text/plain": [
       "(34560, 60, 60)"
      ]
     },
     "execution_count": 52,
     "metadata": {},
     "output_type": "execute_result"
    }
   ],
   "source": [
    "size_cutout(packet)"
   ]
  },
  {
   "cell_type": "code",
   "execution_count": 56,
   "metadata": {},
   "outputs": [
    {
     "name": "stdout",
     "output_type": "stream",
     "text": [
      "(23040, 42, 42)\n",
      "(23040, 42, 42)\n",
      "(17280, 30, 30)\n",
      "(17280, 30, 30)\n",
      "(17280, 30, 30)\n",
      "(17280, 30, 30)\n",
      "(17280, 30, 30)\n",
      "(17280, 30, 30)\n",
      "(17280, 30, 30)\n",
      "(17280, 30, 30)\n",
      "(17280, 30, 30)\n",
      "(17280, 30, 30)\n",
      "(17280, 30, 30)\n",
      "(17280, 30, 30)\n",
      "(17280, 30, 30)\n",
      "(17280, 30, 30)\n",
      "(17280, 30, 30)\n",
      "(17280, 30, 30)\n",
      "(17280, 30, 30)\n",
      "(17280, 30, 30)\n",
      "(17280, 30, 30)\n",
      "(17280, 30, 30)\n",
      "(17280, 30, 30)\n",
      "(17280, 30, 30)\n",
      "(17280, 30, 30)\n",
      "(17280, 30, 30)\n",
      "(28800, 51, 51)\n",
      "(28800, 51, 51)\n",
      "(17280, 36, 36)\n",
      "(17280, 36, 36)\n",
      "(17280, 30, 30)\n",
      "(17280, 30, 30)\n",
      "(28800, 47, 47)\n",
      "(28800, 47, 47)\n",
      "(17280, 30, 30)\n",
      "(17280, 30, 30)\n",
      "(17280, 30, 30)\n",
      "(17280, 30, 30)\n",
      "(17280, 30, 30)\n",
      "(17280, 30, 30)\n",
      "(17280, 30, 30)\n",
      "(17280, 30, 30)\n",
      "(23040, 45, 45)\n",
      "(23040, 45, 45)\n",
      "(17280, 30, 30)\n",
      "(17280, 30, 30)\n",
      "(17280, 30, 30)\n",
      "(17280, 30, 30)\n",
      "(17280, 30, 30)\n",
      "(17280, 30, 30)\n",
      "(17280, 30, 30)\n",
      "(17280, 30, 30)\n",
      "(17280, 30, 30)\n",
      "(17280, 30, 30)\n",
      "(23040, 45, 45)\n",
      "(23040, 45, 45)\n",
      "(17280, 30, 30)\n",
      "(17280, 30, 30)\n",
      "(28800, 49, 49)\n",
      "(28800, 49, 49)\n",
      "(17280, 30, 30)\n",
      "(17280, 30, 30)\n",
      "(17280, 30, 30)\n",
      "(17280, 30, 30)\n",
      "(17280, 30, 30)\n",
      "(17280, 30, 30)\n",
      "(17280, 30, 30)\n",
      "(17280, 30, 30)\n",
      "(17280, 30, 30)\n",
      "(17280, 30, 30)\n",
      "(17280, 30, 30)\n",
      "(17280, 30, 30)\n",
      "(23040, 44, 44)\n",
      "(23040, 44, 44)\n",
      "(17280, 30, 30)\n",
      "(17280, 30, 30)\n",
      "(17280, 30, 30)\n",
      "(17280, 30, 30)\n",
      "(17280, 30, 30)\n",
      "(17280, 30, 30)\n",
      "(17280, 30, 30)\n",
      "(17280, 30, 30)\n",
      "(34560, 60, 60)\n",
      "(34560, 60, 60)\n",
      "(28800, 52, 52)\n",
      "(28800, 52, 52)\n",
      "(17280, 30, 30)\n",
      "(17280, 30, 30)\n",
      "(17280, 30, 30)\n",
      "(17280, 30, 30)\n",
      "(17280, 30, 30)\n",
      "(17280, 30, 30)\n",
      "(218880, 161, 161)\n",
      "(218880, 161, 161)\n",
      "(17280, 30, 30)\n",
      "(17280, 30, 30)\n",
      "(17280, 30, 30)\n",
      "(17280, 30, 30)\n",
      "(17280, 30, 30)\n",
      "(17280, 30, 30)\n",
      "(17280, 30, 30)\n",
      "(17280, 30, 30)\n",
      "(17280, 30, 30)\n",
      "(17280, 30, 30)\n",
      "(17280, 30, 30)\n",
      "(17280, 30, 30)\n",
      "(23040, 38, 38)\n",
      "(23040, 38, 38)\n",
      "(17280, 32, 32)\n",
      "(17280, 32, 32)\n",
      "(17280, 31, 31)\n",
      "(17280, 31, 31)\n",
      "(17280, 30, 30)\n",
      "(17280, 30, 30)\n",
      "(23040, 39, 39)\n",
      "(23040, 39, 39)\n",
      "(40320, 61, 61)\n",
      "(40320, 61, 61)\n",
      "(17280, 30, 30)\n",
      "(17280, 30, 30)\n",
      "(17280, 30, 30)\n",
      "(17280, 30, 30)\n",
      "(17280, 30, 30)\n",
      "(17280, 30, 30)\n",
      "(17280, 30, 30)\n",
      "(17280, 30, 30)\n",
      "(17280, 30, 30)\n",
      "(17280, 30, 30)\n",
      "(17280, 30, 30)\n",
      "(17280, 30, 30)\n",
      "(17280, 30, 30)\n",
      "(17280, 30, 30)\n",
      "(17280, 30, 30)\n",
      "(17280, 30, 30)\n",
      "(17280, 34, 34)\n",
      "(17280, 34, 34)\n",
      "(17280, 31, 31)\n",
      "(17280, 31, 31)\n",
      "(17280, 30, 30)\n",
      "(17280, 30, 30)\n",
      "CPU times: user 235 ms, sys: 14.6 ms, total: 250 ms\n",
      "Wall time: 292 ms\n"
     ]
    }
   ],
   "source": [
    "%%time\n",
    "with open(f'{avro_file}','rb') as f:\n",
    "    writer_schema, packet_iter = schema.retrieve_alerts(f)\n",
    "    for packet in packet_iter:\n",
    "        print(size_cutout(packet,'Difference'))\n",
    "        print(size_cutout(packet,'Template'))\n"
   ]
  },
  {
   "cell_type": "markdown",
   "metadata": {},
   "source": [
    "So as we expect right now the cutouts are square.\n",
    "Both cutouts are also the same size for the same shape, which also is expected."
   ]
  },
  {
   "cell_type": "code",
   "execution_count": 66,
   "metadata": {},
   "outputs": [
    {
     "data": {
      "application/vnd.jupyter.widget-view+json": {
       "model_id": "fff4f11be1c44b26a7d8ae9382658cf6",
       "version_major": 2,
       "version_minor": 0
      },
      "text/plain": [
       "FloatProgress(value=0.0)"
      ]
     },
     "metadata": {},
     "output_type": "display_data"
    },
    {
     "name": "stdout",
     "output_type": "stream",
     "text": [
      "\n"
     ]
    }
   ],
   "source": [
    "sizes_bytes = []\n",
    "pixel_sizes = []\n",
    "\n",
    "with ProgressBar(len(alert_files), ipython_widget=True) as bar:\n",
    "    for avro_file in alert_files:\n",
    "        with open(f'{avro_file}','rb') as f:\n",
    "            writer_schema, packet_iter = schema.retrieve_alerts(f)\n",
    "            for packet in packet_iter:\n",
    "                size_bytes, size_pixels, _ = size_cutout(packet,'Difference')\n",
    "                sizes_bytes.append(size_bytes)\n",
    "                pixel_sizes.append(size_pixels)\n",
    "        bar.update()\n",
    "        \n",
    "sizes_bytes_array = np.array(sizes_bytes)\n",
    "pixel_sizes_array = np.array(pixel_sizes)\n",
    "np.savez_compressed('alert_sizes.npz',sizes_bytes_array,pixel_sizes_array)"
   ]
  },
  {
   "cell_type": "code",
   "execution_count": 67,
   "metadata": {},
   "outputs": [
    {
     "data": {
      "text/plain": [
       "673148"
      ]
     },
     "execution_count": 67,
     "metadata": {},
     "output_type": "execute_result"
    }
   ],
   "source": [
    "len(sizes_bytes_array)"
   ]
  },
  {
   "cell_type": "code",
   "execution_count": 77,
   "metadata": {},
   "outputs": [
    {
     "data": {
      "text/plain": [
       "506.151123046875"
      ]
     },
     "execution_count": 77,
     "metadata": {},
     "output_type": "execute_result"
    }
   ],
   "source": [
    "np.max(sizes_bytes_array)/1024/1024"
   ]
  },
  {
   "cell_type": "code",
   "execution_count": 71,
   "metadata": {},
   "outputs": [
    {
     "data": {
      "text/plain": [
       "8145"
      ]
     },
     "execution_count": 71,
     "metadata": {},
     "output_type": "execute_result"
    }
   ],
   "source": [
    "np.max(pixel_sizes_array)"
   ]
  },
  {
   "cell_type": "code",
   "execution_count": 113,
   "metadata": {},
   "outputs": [
    {
     "data": {
      "text/plain": [
       "Text(0, 0.5, 'Number of cutouts')"
      ]
     },
     "execution_count": 113,
     "metadata": {},
     "output_type": "execute_result"
    },
    {
     "data": {
      "image/png": "[encoded data removed]",
      "text/plain": [
       "<Figure size 864x576 with 1 Axes>"
      ]
     },
     "metadata": {
      "needs_background": "light"
     },
     "output_type": "display_data"
    }
   ],
   "source": [
    "fig = plt.figure(figsize=(12,8))\n",
    "_=plt.hist(pixel_sizes_array,bins=np.logspace(1,3,100))\n",
    "plt.xscale('log')\n",
    "plt.yscale('log')\n",
    "plt.xlim(25,1000)\n",
    "plt.xlabel('Cutout width (pixels)')\n",
    "plt.ylabel('Number of cutouts')"
   ]
  },
  {
   "cell_type": "code",
   "execution_count": 109,
   "metadata": {},
   "outputs": [
    {
     "data": {
      "text/plain": [
       "Text(0, 0.5, 'Fraction of cutouts')"
      ]
     },
     "execution_count": 109,
     "metadata": {},
     "output_type": "execute_result"
    },
    {
     "data": {
      "image/png": "[encoded data removed]",
      "text/plain": [
       "<Figure size 864x576 with 1 Axes>"
      ]
     },
     "metadata": {
      "needs_background": "light"
     },
     "output_type": "display_data"
    }
   ],
   "source": [
    "fig = plt.figure(figsize=(12,8))\n",
    "_=plt.hist(pixel_sizes_array,bins=np.logspace(1,3,100),cumulative=True,density=True)\n",
    "plt.xscale('log')\n",
    "#plt.yscale('log')\n",
    "plt.xlim(25,1000)\n",
    "plt.xlabel('Cutout width (pixels)')\n",
    "plt.ylabel('Fraction of cutouts')"
   ]
  },
  {
   "cell_type": "code",
   "execution_count": 125,
   "metadata": {},
   "outputs": [
    {
     "data": {
      "text/plain": [
       "0.004088253994663878"
      ]
     },
     "execution_count": 125,
     "metadata": {},
     "output_type": "execute_result"
    }
   ],
   "source": [
    "np.sum(pixel_sizes_array > 1000)/len(pixel_sizes_array)"
   ]
  },
  {
   "cell_type": "code",
   "execution_count": 114,
   "metadata": {},
   "outputs": [
    {
     "data": {
      "text/plain": [
       "Text(0, 0.5, 'Fraction of cutouts')"
      ]
     },
     "execution_count": 114,
     "metadata": {},
     "output_type": "execute_result"
    },
    {
     "data": {
      "image/png": "[encoded data removed]",
      "text/plain": [
       "<Figure size 864x576 with 1 Axes>"
      ]
     },
     "metadata": {
      "needs_background": "light"
     },
     "output_type": "display_data"
    }
   ],
   "source": [
    "fig = plt.figure(figsize=(12,8))\n",
    "_=plt.hist(sizes_bytes_array/1024,bins=np.linspace(5,150,100))#,cumulative=True)\n",
    "#plt.xscale('log')\n",
    "#plt.yscale('log')\n",
    "#plt.xlim(25,1000)\n",
    "plt.xlabel('Cutout width (pixels)')\n",
    "plt.ylabel('Fraction of cutouts')"
   ]
  },
  {
   "cell_type": "code",
   "execution_count": 94,
   "metadata": {},
   "outputs": [
    {
     "data": {
      "text/plain": [
       "array([ 16.875,  16.875, 118.125])"
      ]
     },
     "execution_count": 94,
     "metadata": {},
     "output_type": "execute_result"
    }
   ],
   "source": [
    "np.percentile(sizes_bytes_array,[5,50,95])/1024"
   ]
  },
  {
   "cell_type": "code",
   "execution_count": 97,
   "metadata": {},
   "outputs": [
    {
     "data": {
      "text/plain": [
       "16.875"
      ]
     },
     "execution_count": 97,
     "metadata": {},
     "output_type": "execute_result"
    }
   ],
   "source": [
    "np.min(sizes_bytes_array)/1024"
   ]
  },
  {
   "cell_type": "code",
   "execution_count": 98,
   "metadata": {},
   "outputs": [
    {
     "data": {
      "text/plain": [
       "518298.75"
      ]
     },
     "execution_count": 98,
     "metadata": {},
     "output_type": "execute_result"
    }
   ],
   "source": [
    "np.max(sizes_bytes_array)/1024"
   ]
  },
  {
   "cell_type": "code",
   "execution_count": 100,
   "metadata": {},
   "outputs": [
    {
     "data": {
      "text/plain": [
       "array([ 30.,  30., 117.])"
      ]
     },
     "execution_count": 100,
     "metadata": {},
     "output_type": "execute_result"
    }
   ],
   "source": [
    "np.percentile(pixel_sizes_array,[5,50,95])"
   ]
  },
  {
   "cell_type": "code",
   "execution_count": 101,
   "metadata": {},
   "outputs": [
    {
     "data": {
      "text/plain": [
       "8145"
      ]
     },
     "execution_count": 101,
     "metadata": {},
     "output_type": "execute_result"
    }
   ],
   "source": [
    "np.max(pixel_sizes_array)"
   ]
  },
  {
   "cell_type": "code",
   "execution_count": 115,
   "metadata": {},
   "outputs": [
    {
     "data": {
      "text/plain": [
       "<matplotlib.collections.PathCollection at 0x7fc1b5f5f810>"
      ]
     },
     "execution_count": 115,
     "metadata": {},
     "output_type": "execute_result"
    },
    {
     "data": {
      "image/png": "[encoded data removed]",
      "text/plain": [
       "<Figure size 432x288 with 1 Axes>"
      ]
     },
     "metadata": {
      "needs_background": "light"
     },
     "output_type": "display_data"
    }
   ],
   "source": [
    "plt.scatter(pixel_sizes_array**2.,sizes_bytes_array/1024)"
   ]
  },
  {
   "cell_type": "code",
   "execution_count": 105,
   "metadata": {},
   "outputs": [],
   "source": []
  },
  {
   "cell_type": "code",
   "execution_count": 110,
   "metadata": {},
   "outputs": [
    {
     "data": {
      "text/plain": [
       "<seaborn.axisgrid.JointGrid at 0x7fc1b607d250>"
      ]
     },
     "execution_count": 110,
     "metadata": {},
     "output_type": "execute_result"
    },
    {
     "data": {
      "image/png": "[encoded data removed]",
      "text/plain": [
       "<Figure size 432x432 with 3 Axes>"
      ]
     },
     "metadata": {
      "needs_background": "light"
     },
     "output_type": "display_data"
    }
   ],
   "source": [
    "sns.jointplot(pixel_sizes_array**2.,sizes_bytes_array/1024)#,marginal_kws={'yscale':'log'})"
   ]
  },
  {
   "cell_type": "markdown",
   "metadata": {},
   "source": [
    "### GZIP time"
   ]
  },
  {
   "cell_type": "code",
   "execution_count": 134,
   "metadata": {},
   "outputs": [
    {
     "name": "stdout",
     "output_type": "stream",
     "text": [
      "17280 5067 0.29322916666666665\n",
      "17280 7468 0.4321759259259259\n",
      "17280 6612 0.38263888888888886\n",
      "17280 6291 0.3640625\n",
      "17280 7451 0.4311921296296296\n",
      "17280 7448 0.4310185185185185\n",
      "17280 7453 0.4313078703703704\n",
      "17280 5597 0.323900462962963\n",
      "17280 7512 0.43472222222222223\n",
      "17280 7439 0.43049768518518516\n",
      "17280 7426 0.42974537037037036\n",
      "17280 9861 0.5706597222222223\n",
      "17280 7441 0.43061342592592594\n",
      "17280 6771 0.3918402777777778\n",
      "17280 7529 0.43570601851851853\n",
      "17280 5259 0.3043402777777778\n",
      "23040 13873 0.6021267361111111\n",
      "17280 7533 0.4359375\n",
      "40320 30369 0.7531994047619047\n",
      "23040 12044 0.5227430555555556\n",
      "23040 12662 0.5495659722222223\n",
      "17280 7481 0.43292824074074077\n",
      "17280 8889 0.5144097222222223\n",
      "17280 7513 0.4347800925925926\n",
      "17280 7516 0.43495370370370373\n",
      "28800 15481 0.5375347222222222\n",
      "17280 7464 0.43194444444444446\n",
      "17280 7441 0.43061342592592594\n",
      "17280 7430 0.42997685185185186\n",
      "17280 7422 0.42951388888888886\n",
      "17280 7468 0.4321759259259259\n",
      "17280 7544 0.43657407407407406\n",
      "17280 7550 0.4369212962962963\n",
      "17280 7447 0.43096064814814816\n",
      "17280 7460 0.43171296296296297\n",
      "17280 7421 0.4294560185185185\n",
      "17280 7959 0.4605902777777778\n",
      "17280 7528 0.4356481481481482\n",
      "17280 7523 0.4353587962962963\n",
      "17280 7493 0.4336226851851852\n",
      "17280 6146 0.3556712962962963\n",
      "23040 14443 0.6268663194444445\n",
      "28800 18498 0.6422916666666667\n",
      "17280 7401 0.4282986111111111\n",
      "17280 7447 0.43096064814814816\n",
      "17280 7415 0.4291087962962963\n",
      "17280 7467 0.43211805555555555\n",
      "17280 7434 0.43020833333333336\n",
      "17280 5387 0.3117476851851852\n",
      "23040 13222 0.5738715277777777\n",
      "17280 7397 0.4280671296296296\n",
      "17280 7475 0.43258101851851855\n",
      "17280 8906 0.5153935185185186\n",
      "17280 7472 0.4324074074074074\n",
      "17280 7474 0.43252314814814813\n",
      "17280 7472 0.4324074074074074\n",
      "17280 7476 0.4326388888888889\n",
      "17280 7436 0.4303240740740741\n",
      "17280 7464 0.43194444444444446\n",
      "17280 7480 0.43287037037037035\n",
      "17280 9382 0.5429398148148148\n",
      "17280 7468 0.4321759259259259\n",
      "17280 7429 0.4299189814814815\n",
      "17280 7501 0.43408564814814815\n",
      "17280 7426 0.42974537037037036\n",
      "17280 7484 0.43310185185185185\n",
      "23040 12664 0.5496527777777778\n",
      "17280 7506 0.434375\n",
      "17280 7493 0.4336226851851852\n",
      "17280 7427 0.4298032407407407\n",
      "328320 206116 0.6277899610136453\n",
      "17280 7500 0.4340277777777778\n",
      "23040 10469 0.45438368055555556\n",
      "17280 7437 0.43038194444444444\n",
      "17280 7459 0.4316550925925926\n",
      "17280 7454 0.43136574074074074\n",
      "17280 7500 0.4340277777777778\n",
      "17280 7465 0.4320023148148148\n",
      "17280 7420 0.42939814814814814\n",
      "17280 7493 0.4336226851851852\n",
      "17280 7516 0.43495370370370373\n",
      "17280 7493 0.4336226851851852\n",
      "17280 7478 0.43275462962962963\n",
      "17280 7487 0.433275462962963\n",
      "17280 7457 0.4315393518518518\n",
      "17280 7385 0.4273726851851852\n",
      "17280 7421 0.4294560185185185\n",
      "17280 7482 0.4329861111111111\n",
      "23040 16289 0.7069878472222222\n",
      "17280 7511 0.43466435185185187\n",
      "34560 23729 0.6866030092592592\n",
      "28800 19221 0.6673958333333333\n",
      "17280 7388 0.4275462962962963\n",
      "17280 7478 0.43275462962962963\n",
      "17280 7469 0.43223379629629627\n",
      "17280 7460 0.43171296296296297\n",
      "17280 7492 0.4335648148148148\n",
      "17280 7460 0.43171296296296297\n",
      "17280 7383 0.42725694444444445\n",
      "17280 7471 0.43234953703703705\n",
      "34560 24181 0.699681712962963\n",
      "17280 7378 0.4269675925925926\n",
      "17280 7428 0.42986111111111114\n",
      "17280 7474 0.43252314814814813\n",
      "17280 7456 0.43148148148148147\n",
      "17280 7481 0.43292824074074077\n",
      "17280 7380 0.4270833333333333\n",
      "17280 7505 0.43431712962962965\n",
      "23040 16447 0.7138454861111111\n",
      "17280 7422 0.42951388888888886\n",
      "17280 7409 0.42876157407407406\n",
      "23040 15121 0.6562934027777778\n",
      "17280 7477 0.43269675925925927\n",
      "17280 7481 0.43292824074074077\n",
      "17280 7485 0.4331597222222222\n",
      "17280 9357 0.5414930555555556\n",
      "17280 7480 0.43287037037037035\n",
      "17280 6547 0.3788773148148148\n",
      "17280 7453 0.4313078703703704\n",
      "120960 97875 0.8091517857142857\n",
      "17280 7507 0.43443287037037037\n",
      "17280 7315 0.42332175925925924\n",
      "17280 7423 0.4295717592592593\n",
      "97920 77100 0.7873774509803921\n",
      "97920 64191 0.6555453431372549\n",
      "17280 7332 0.42430555555555555\n",
      "17280 7404 0.4284722222222222\n",
      "17280 7421 0.4294560185185185\n",
      "17280 7396 0.42800925925925926\n",
      "17280 7420 0.42939814814814814\n",
      "17280 10785 0.6241319444444444\n",
      "17280 7423 0.4295717592592593\n",
      "17280 5425 0.31394675925925924\n",
      "17280 5363 0.3103587962962963\n",
      "17280 5348 0.30949074074074073\n",
      "17280 5523 0.31961805555555556\n"
     ]
    }
   ],
   "source": [
    "with open(f'{avro_file}','rb') as f:\n",
    "    writer_schema, packet_iter = schema.retrieve_alerts(f)\n",
    "    for packet in packet_iter:\n",
    "        with BytesIO(packet['cutoutDifference']) as bio_in, BytesIO() as bio_out:\n",
    "            with gzip.open(bio_out, 'wb') as f_out:\n",
    "                shutil.copyfileobj(bio_in, f_out)\n",
    "            bio_out.seek(0)\n",
    "            size_bytes = len(bio_in.getvalue())\n",
    "            size_bytes_gz = len(bio_out.getvalue())\n",
    "            print(size_bytes, size_bytes_gz, size_bytes_gz/size_bytes)"
   ]
  },
  {
   "cell_type": "code",
   "execution_count": null,
   "metadata": {},
   "outputs": [],
   "source": []
  }
 ],
 "metadata": {
  "kernelspec": {
   "display_name": "LSST",
   "language": "python",
   "name": "lsst"
  },
  "language_info": {
   "codemirror_mode": {
    "name": "ipython",
    "version": 3
   },
   "file_extension": ".py",
   "mimetype": "text/x-python",
   "name": "python",
   "nbconvert_exporter": "python",
   "pygments_lexer": "ipython3",
   "version": "3.7.6"
  }
 },
 "nbformat": 4,
 "nbformat_minor": 4
}
