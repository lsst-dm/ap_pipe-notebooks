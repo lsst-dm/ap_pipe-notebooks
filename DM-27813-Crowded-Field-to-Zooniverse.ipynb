{
 "cells": [
  {
   "cell_type": "markdown",
   "metadata": {},
   "source": [
    "# DM-27813 Crowded Fields to Zooniverse"
   ]
  },
  {
   "cell_type": "code",
   "execution_count": 1,
   "metadata": {},
   "outputs": [],
   "source": [
    "import functools\n",
    "import numpy as np\n",
    "#%matplotlib notebook\n",
    "import matplotlib.pyplot as plt\n",
    "import matplotlib.ticker as plticker\n",
    "from matplotlib import cm\n",
    "import os\n",
    "import pandas as pd\n",
    "import sqlite3\n",
    "from astropy.visualization import simple_norm\n",
    "\n",
    "import panoptes_client\n",
    "\n",
    "import lsst.daf.persistence as dafPersist\n",
    "import lsst.afw.display as afwDisplay\n",
    "afwDisplay.setDefaultBackend('matplotlib')\n",
    "\n",
    "import lsst.geom\n",
    "from lsst.ip.diffim import GetCoaddAsTemplateTask\n",
    "\n",
    "# local to ap_pipe-notebooks\n",
    "import plotLightcurve\n",
    "import apdbPlots"
   ]
  },
  {
   "cell_type": "code",
   "execution_count": 2,
   "metadata": {},
   "outputs": [],
   "source": [
    "# The gen2 butler repos containing the templates and difference images, respectively.\n",
    "parent = \"/project/sullivan/saha/cwcoadds_processed\"\n",
    "REPO = '/project/sullivan/saha/ap_pipe/cw/'"
   ]
  },
  {
   "cell_type": "code",
   "execution_count": 3,
   "metadata": {},
   "outputs": [],
   "source": [
    "# The URL where the output files can be accessed by zooniverse.\n",
    "url_root = \"https://lsst.ncsa.illinois.edu/~parejkoj/zooniverse/\"\n",
    "# The path to write the PNG and manifest files to.\n",
    "output_path = \"/scratch/parejkoj/zooniverse/\""
   ]
  },
  {
   "cell_type": "code",
   "execution_count": 4,
   "metadata": {},
   "outputs": [],
   "source": [
    "connection = sqlite3.connect(f'{REPO}/association.db')"
   ]
  },
  {
   "cell_type": "code",
   "execution_count": 5,
   "metadata": {},
   "outputs": [],
   "source": [
    "butler = dafPersist.Butler(inputs=[REPO, parent])"
   ]
  },
  {
   "cell_type": "markdown",
   "metadata": {},
   "source": [
    "First we want to get a random subset of DIASources from the APDB."
   ]
  },
  {
   "cell_type": "code",
   "execution_count": 10,
   "metadata": {},
   "outputs": [
    {
     "name": "stdout",
     "output_type": "stream",
     "text": [
      "CPU times: user 34.5 ms, sys: 1.79 ms, total: 36.3 ms\n",
      "Wall time: 34.3 ms\n"
     ]
    }
   ],
   "source": [
    "%%time \n",
    "# to get a random sample: ORDER BY RANDOM() \n",
    "ds_sample = pd.read_sql_query('select * from DiaSource LIMIT 100;', connection)"
   ]
  },
  {
   "cell_type": "code",
   "execution_count": 11,
   "metadata": {},
   "outputs": [
    {
     "data": {
      "text/plain": [
       "0     25299404\n",
       "1     31066572\n",
       "2     25168328\n",
       "3     31066600\n",
       "4     31066568\n",
       "        ...   \n",
       "95    25165864\n",
       "96    41944360\n",
       "97        1320\n",
       "98    25167144\n",
       "99    41944360\n",
       "Name: flags, Length: 100, dtype: int64"
      ]
     },
     "execution_count": 11,
     "metadata": {},
     "output_type": "execute_result"
    }
   ],
   "source": [
    "ds_sample.flags"
   ]
  },
  {
   "cell_type": "code",
   "execution_count": 7,
   "metadata": {},
   "outputs": [
    {
     "data": {
      "text/html": [
       "<div>\n",
       "<style scoped>\n",
       "    .dataframe tbody tr th:only-of-type {\n",
       "        vertical-align: middle;\n",
       "    }\n",
       "\n",
       "    .dataframe tbody tr th {\n",
       "        vertical-align: top;\n",
       "    }\n",
       "\n",
       "    .dataframe thead th {\n",
       "        text-align: right;\n",
       "    }\n",
       "</style>\n",
       "<table border=\"1\" class=\"dataframe\">\n",
       "  <thead>\n",
       "    <tr style=\"text-align: right;\">\n",
       "      <th></th>\n",
       "      <th>diaSourceId</th>\n",
       "      <th>ccdVisitId</th>\n",
       "      <th>diaObjectId</th>\n",
       "      <th>ssObjectId</th>\n",
       "      <th>parentDiaSourceId</th>\n",
       "      <th>prv_procOrder</th>\n",
       "      <th>ssObjectReassocTime</th>\n",
       "      <th>midPointTai</th>\n",
       "      <th>ra</th>\n",
       "      <th>raErr</th>\n",
       "      <th>...</th>\n",
       "      <th>extendedness</th>\n",
       "      <th>spuriousness</th>\n",
       "      <th>flags</th>\n",
       "      <th>pixelId</th>\n",
       "      <th>filterName</th>\n",
       "      <th>filterId</th>\n",
       "      <th>isDipole</th>\n",
       "      <th>bboxSize</th>\n",
       "      <th>ccd</th>\n",
       "      <th>visit</th>\n",
       "    </tr>\n",
       "  </thead>\n",
       "  <tbody>\n",
       "    <tr>\n",
       "      <th>0</th>\n",
       "      <td>184157035032479591</td>\n",
       "      <td>42877401</td>\n",
       "      <td>184157035032479591</td>\n",
       "      <td>0</td>\n",
       "      <td>0</td>\n",
       "      <td>0</td>\n",
       "      <td>None</td>\n",
       "      <td>57116.286309</td>\n",
       "      <td>270.371311</td>\n",
       "      <td>None</td>\n",
       "      <td>...</td>\n",
       "      <td>None</td>\n",
       "      <td>None</td>\n",
       "      <td>25299404</td>\n",
       "      <td>0</td>\n",
       "      <td>g</td>\n",
       "      <td>1</td>\n",
       "      <td>0</td>\n",
       "      <td>33</td>\n",
       "      <td>01</td>\n",
       "      <td>428774</td>\n",
       "    </tr>\n",
       "    <tr>\n",
       "      <th>1</th>\n",
       "      <td>184157035032479592</td>\n",
       "      <td>42877401</td>\n",
       "      <td>184157035032479592</td>\n",
       "      <td>0</td>\n",
       "      <td>0</td>\n",
       "      <td>0</td>\n",
       "      <td>None</td>\n",
       "      <td>57116.286309</td>\n",
       "      <td>270.370908</td>\n",
       "      <td>None</td>\n",
       "      <td>...</td>\n",
       "      <td>None</td>\n",
       "      <td>None</td>\n",
       "      <td>31066572</td>\n",
       "      <td>0</td>\n",
       "      <td>g</td>\n",
       "      <td>1</td>\n",
       "      <td>0</td>\n",
       "      <td>36</td>\n",
       "      <td>01</td>\n",
       "      <td>428774</td>\n",
       "    </tr>\n",
       "    <tr>\n",
       "      <th>2</th>\n",
       "      <td>184157035032479593</td>\n",
       "      <td>42877401</td>\n",
       "      <td>184157035032479593</td>\n",
       "      <td>0</td>\n",
       "      <td>0</td>\n",
       "      <td>0</td>\n",
       "      <td>None</td>\n",
       "      <td>57116.286309</td>\n",
       "      <td>270.372414</td>\n",
       "      <td>None</td>\n",
       "      <td>...</td>\n",
       "      <td>None</td>\n",
       "      <td>None</td>\n",
       "      <td>25168328</td>\n",
       "      <td>0</td>\n",
       "      <td>g</td>\n",
       "      <td>1</td>\n",
       "      <td>0</td>\n",
       "      <td>48</td>\n",
       "      <td>01</td>\n",
       "      <td>428774</td>\n",
       "    </tr>\n",
       "    <tr>\n",
       "      <th>3</th>\n",
       "      <td>184157035032479594</td>\n",
       "      <td>42877401</td>\n",
       "      <td>184157035032479594</td>\n",
       "      <td>0</td>\n",
       "      <td>0</td>\n",
       "      <td>0</td>\n",
       "      <td>None</td>\n",
       "      <td>57116.286309</td>\n",
       "      <td>270.370768</td>\n",
       "      <td>None</td>\n",
       "      <td>...</td>\n",
       "      <td>None</td>\n",
       "      <td>None</td>\n",
       "      <td>31066600</td>\n",
       "      <td>0</td>\n",
       "      <td>g</td>\n",
       "      <td>1</td>\n",
       "      <td>0</td>\n",
       "      <td>26</td>\n",
       "      <td>01</td>\n",
       "      <td>428774</td>\n",
       "    </tr>\n",
       "    <tr>\n",
       "      <th>4</th>\n",
       "      <td>184157035032479595</td>\n",
       "      <td>42877401</td>\n",
       "      <td>184157035032479595</td>\n",
       "      <td>0</td>\n",
       "      <td>0</td>\n",
       "      <td>0</td>\n",
       "      <td>None</td>\n",
       "      <td>57116.286309</td>\n",
       "      <td>270.370701</td>\n",
       "      <td>None</td>\n",
       "      <td>...</td>\n",
       "      <td>None</td>\n",
       "      <td>None</td>\n",
       "      <td>31066568</td>\n",
       "      <td>0</td>\n",
       "      <td>g</td>\n",
       "      <td>1</td>\n",
       "      <td>0</td>\n",
       "      <td>17</td>\n",
       "      <td>01</td>\n",
       "      <td>428774</td>\n",
       "    </tr>\n",
       "    <tr>\n",
       "      <th>...</th>\n",
       "      <td>...</td>\n",
       "      <td>...</td>\n",
       "      <td>...</td>\n",
       "      <td>...</td>\n",
       "      <td>...</td>\n",
       "      <td>...</td>\n",
       "      <td>...</td>\n",
       "      <td>...</td>\n",
       "      <td>...</td>\n",
       "      <td>...</td>\n",
       "      <td>...</td>\n",
       "      <td>...</td>\n",
       "      <td>...</td>\n",
       "      <td>...</td>\n",
       "      <td>...</td>\n",
       "      <td>...</td>\n",
       "      <td>...</td>\n",
       "      <td>...</td>\n",
       "      <td>...</td>\n",
       "      <td>...</td>\n",
       "      <td>...</td>\n",
       "    </tr>\n",
       "    <tr>\n",
       "      <th>95</th>\n",
       "      <td>184157035032479686</td>\n",
       "      <td>42877401</td>\n",
       "      <td>184157035032479686</td>\n",
       "      <td>0</td>\n",
       "      <td>0</td>\n",
       "      <td>0</td>\n",
       "      <td>None</td>\n",
       "      <td>57116.286309</td>\n",
       "      <td>270.390668</td>\n",
       "      <td>None</td>\n",
       "      <td>...</td>\n",
       "      <td>None</td>\n",
       "      <td>None</td>\n",
       "      <td>25165864</td>\n",
       "      <td>0</td>\n",
       "      <td>g</td>\n",
       "      <td>1</td>\n",
       "      <td>0</td>\n",
       "      <td>15</td>\n",
       "      <td>01</td>\n",
       "      <td>428774</td>\n",
       "    </tr>\n",
       "    <tr>\n",
       "      <th>96</th>\n",
       "      <td>184157035032479687</td>\n",
       "      <td>42877401</td>\n",
       "      <td>184157035032479687</td>\n",
       "      <td>0</td>\n",
       "      <td>0</td>\n",
       "      <td>0</td>\n",
       "      <td>None</td>\n",
       "      <td>57116.286309</td>\n",
       "      <td>270.390280</td>\n",
       "      <td>None</td>\n",
       "      <td>...</td>\n",
       "      <td>None</td>\n",
       "      <td>None</td>\n",
       "      <td>41944360</td>\n",
       "      <td>0</td>\n",
       "      <td>g</td>\n",
       "      <td>1</td>\n",
       "      <td>1</td>\n",
       "      <td>21</td>\n",
       "      <td>01</td>\n",
       "      <td>428774</td>\n",
       "    </tr>\n",
       "    <tr>\n",
       "      <th>97</th>\n",
       "      <td>184157035032479688</td>\n",
       "      <td>42877401</td>\n",
       "      <td>184157035032479688</td>\n",
       "      <td>0</td>\n",
       "      <td>0</td>\n",
       "      <td>0</td>\n",
       "      <td>None</td>\n",
       "      <td>57116.286309</td>\n",
       "      <td>270.390002</td>\n",
       "      <td>None</td>\n",
       "      <td>...</td>\n",
       "      <td>None</td>\n",
       "      <td>None</td>\n",
       "      <td>1320</td>\n",
       "      <td>0</td>\n",
       "      <td>g</td>\n",
       "      <td>1</td>\n",
       "      <td>0</td>\n",
       "      <td>14</td>\n",
       "      <td>01</td>\n",
       "      <td>428774</td>\n",
       "    </tr>\n",
       "    <tr>\n",
       "      <th>98</th>\n",
       "      <td>184157035032479689</td>\n",
       "      <td>42877401</td>\n",
       "      <td>184157035032479689</td>\n",
       "      <td>0</td>\n",
       "      <td>0</td>\n",
       "      <td>0</td>\n",
       "      <td>None</td>\n",
       "      <td>57116.286309</td>\n",
       "      <td>270.390061</td>\n",
       "      <td>None</td>\n",
       "      <td>...</td>\n",
       "      <td>None</td>\n",
       "      <td>None</td>\n",
       "      <td>25167144</td>\n",
       "      <td>0</td>\n",
       "      <td>g</td>\n",
       "      <td>1</td>\n",
       "      <td>0</td>\n",
       "      <td>16</td>\n",
       "      <td>01</td>\n",
       "      <td>428774</td>\n",
       "    </tr>\n",
       "    <tr>\n",
       "      <th>99</th>\n",
       "      <td>184157035032479690</td>\n",
       "      <td>42877401</td>\n",
       "      <td>184157035032479690</td>\n",
       "      <td>0</td>\n",
       "      <td>0</td>\n",
       "      <td>0</td>\n",
       "      <td>None</td>\n",
       "      <td>57116.286309</td>\n",
       "      <td>270.391003</td>\n",
       "      <td>None</td>\n",
       "      <td>...</td>\n",
       "      <td>None</td>\n",
       "      <td>None</td>\n",
       "      <td>41944360</td>\n",
       "      <td>0</td>\n",
       "      <td>g</td>\n",
       "      <td>1</td>\n",
       "      <td>1</td>\n",
       "      <td>18</td>\n",
       "      <td>01</td>\n",
       "      <td>428774</td>\n",
       "    </tr>\n",
       "  </tbody>\n",
       "</table>\n",
       "<p>100 rows × 114 columns</p>\n",
       "</div>"
      ],
      "text/plain": [
       "           diaSourceId  ccdVisitId         diaObjectId  ssObjectId  \\\n",
       "0   184157035032479591    42877401  184157035032479591           0   \n",
       "1   184157035032479592    42877401  184157035032479592           0   \n",
       "2   184157035032479593    42877401  184157035032479593           0   \n",
       "3   184157035032479594    42877401  184157035032479594           0   \n",
       "4   184157035032479595    42877401  184157035032479595           0   \n",
       "..                 ...         ...                 ...         ...   \n",
       "95  184157035032479686    42877401  184157035032479686           0   \n",
       "96  184157035032479687    42877401  184157035032479687           0   \n",
       "97  184157035032479688    42877401  184157035032479688           0   \n",
       "98  184157035032479689    42877401  184157035032479689           0   \n",
       "99  184157035032479690    42877401  184157035032479690           0   \n",
       "\n",
       "    parentDiaSourceId  prv_procOrder ssObjectReassocTime   midPointTai  \\\n",
       "0                   0              0                None  57116.286309   \n",
       "1                   0              0                None  57116.286309   \n",
       "2                   0              0                None  57116.286309   \n",
       "3                   0              0                None  57116.286309   \n",
       "4                   0              0                None  57116.286309   \n",
       "..                ...            ...                 ...           ...   \n",
       "95                  0              0                None  57116.286309   \n",
       "96                  0              0                None  57116.286309   \n",
       "97                  0              0                None  57116.286309   \n",
       "98                  0              0                None  57116.286309   \n",
       "99                  0              0                None  57116.286309   \n",
       "\n",
       "            ra raErr  ...  extendedness spuriousness     flags  pixelId  \\\n",
       "0   270.371311  None  ...          None         None  25299404        0   \n",
       "1   270.370908  None  ...          None         None  31066572        0   \n",
       "2   270.372414  None  ...          None         None  25168328        0   \n",
       "3   270.370768  None  ...          None         None  31066600        0   \n",
       "4   270.370701  None  ...          None         None  31066568        0   \n",
       "..         ...   ...  ...           ...          ...       ...      ...   \n",
       "95  270.390668  None  ...          None         None  25165864        0   \n",
       "96  270.390280  None  ...          None         None  41944360        0   \n",
       "97  270.390002  None  ...          None         None      1320        0   \n",
       "98  270.390061  None  ...          None         None  25167144        0   \n",
       "99  270.391003  None  ...          None         None  41944360        0   \n",
       "\n",
       "   filterName  filterId isDipole bboxSize  ccd   visit  \n",
       "0           g         1        0       33   01  428774  \n",
       "1           g         1        0       36   01  428774  \n",
       "2           g         1        0       48   01  428774  \n",
       "3           g         1        0       26   01  428774  \n",
       "4           g         1        0       17   01  428774  \n",
       "..        ...       ...      ...      ...  ...     ...  \n",
       "95          g         1        0       15   01  428774  \n",
       "96          g         1        1       21   01  428774  \n",
       "97          g         1        0       14   01  428774  \n",
       "98          g         1        0       16   01  428774  \n",
       "99          g         1        1       18   01  428774  \n",
       "\n",
       "[100 rows x 114 columns]"
      ]
     },
     "execution_count": 7,
     "metadata": {},
     "output_type": "execute_result"
    }
   ],
   "source": [
    "apdbPlots.addVisitCcdToSrcTable(ds_sample)"
   ]
  },
  {
   "cell_type": "markdown",
   "metadata": {},
   "source": [
    "## Get calexp, template, and difference cutouts for each source"
   ]
  },
  {
   "cell_type": "code",
   "execution_count": 6,
   "metadata": {},
   "outputs": [],
   "source": [
    "# @functools.lru_cache()\n",
    "# NOTE: dataId is a dict, which is not hashable thus not cacheable\n",
    "def get_images(dataId):\n",
    "    exposure = butler.get('calexp', dataId)\n",
    "    difference = butler.get('deepDiff_differenceExp', dataId)\n",
    "    template = butler.get('deepDiff_warpedExp', dataId)\n",
    "    return exposure, difference, template\n",
    "\n",
    "def get_cutouts(dataId, center, size=lsst.geom.Extent2I(30, 30)):\n",
    "    \"\"\"Return a cutout for this dataId at the given source location.\"\"\"\n",
    "    # TODO: We can make this a lot faster by loading the images for every \"ccd/visit\" combo,\n",
    "    # TODO: and then making the cutouts at each source that lies on that ccd.\n",
    "    exposure, difference, template = get_images(dataId)\n",
    "    return exposure.getCutout(center, size), difference.getCutout(center, size), template.getCutout(center, size)"
   ]
  },
  {
   "cell_type": "code",
   "execution_count": 10,
   "metadata": {},
   "outputs": [],
   "source": [
    "# an example dataId and center for playing with making a single image.\n",
    "i=50\n",
    "dataId={'ccd': int(ds_sample['ccd'][i]), 'visit': int(ds_sample['visit'][i])}\n",
    "center=lsst.geom.SpherePoint(ds_sample['ra'][i], ds_sample['decl'][i], lsst.geom.degrees)\n",
    "exposure, difference, template = get_cutouts(dataId, center)"
   ]
  },
  {
   "cell_type": "markdown",
   "metadata": {},
   "source": [
    "## Plot the images"
   ]
  },
  {
   "cell_type": "code",
   "execution_count": 7,
   "metadata": {},
   "outputs": [],
   "source": [
    "def plot_cutout(science, difference, template, output=None):\n",
    "    \"\"\"Plot the cutouts for a source in one image.\n",
    "    \"\"\"\n",
    "    Qst=15 #Q for Science and Template\n",
    "    sst=4 #Stretch for Science and Template\n",
    "    Qd=5 #Q for Difference\n",
    "    sd=50 #Stretch for Difference\n",
    "    asinst=0.01\n",
    "    asind=0.7\n",
    "\n",
    "    def do_one(ax, data, name):\n",
    "        norm = simple_norm(data, stretch=\"asinh\", asinh_a=0.05)\n",
    "        ax.imshow(data, cmap=cm.inferno, interpolation=\"none\", norm=norm)\n",
    "        ax.axis('off')\n",
    "        ax.set_title(name)\n",
    "\n",
    "    f, (ax1, ax2, ax3) = plt.subplots(1, 3)\n",
    "    do_one(ax1, template.image.array, \"Template\")\n",
    "    do_one(ax2, science.image.array, \"Science\")\n",
    "    do_one(ax3, difference.image.array, \"Difference\")\n",
    "    plt.tight_layout()\n",
    "\n",
    "    if output is not None:\n",
    "        plt.savefig(output, bbox_inches=\"tight\")\n",
    "        plt.close()"
   ]
  },
  {
   "cell_type": "code",
   "execution_count": 37,
   "metadata": {},
   "outputs": [
    {
     "data": {
      "image/png": "[encoded data removed]",
      "text/plain": [
       "<Figure size 432x288 with 3 Axes>"
      ]
     },
     "metadata": {
      "needs_background": "light"
     },
     "output_type": "display_data"
    }
   ],
   "source": [
    "plot_cutout(exposure, difference, template)"
   ]
  },
  {
   "cell_type": "markdown",
   "metadata": {},
   "source": [
    "## Generate manifest information for upload to Zooniverse"
   ]
  },
  {
   "cell_type": "code",
   "execution_count": 8,
   "metadata": {},
   "outputs": [],
   "source": [
    "def make_manifest(data, url_root):\n",
    "    output = pd.DataFrame([])\n",
    "    output['uuid'] = data['diaSourceId']\n",
    "    output['location:1'] = ds_sample.apply(lambda x: f\"{url_root}{x['diaSourceId']}.png\", axis=1)\n",
    "    output['metadata:diaSourceId'] = data['diaSourceId']\n",
    "    return output"
   ]
  },
  {
   "cell_type": "markdown",
   "metadata": {},
   "source": [
    "## Make plots for every source"
   ]
  },
  {
   "cell_type": "code",
   "execution_count": 18,
   "metadata": {},
   "outputs": [
    {
     "ename": "TypeError",
     "evalue": "unhashable type: 'dict'",
     "output_type": "error",
     "traceback": [
      "\u001b[0;31m---------------------------------------------------------------------------\u001b[0m",
      "\u001b[0;31mTypeError\u001b[0m                                 Traceback (most recent call last)",
      "\u001b[0;32m<ipython-input-18-0b4db1ca6ced>\u001b[0m in \u001b[0;36m<module>\u001b[0;34m\u001b[0m\n\u001b[1;32m      3\u001b[0m     \u001b[0mcenter\u001b[0m \u001b[0;34m=\u001b[0m \u001b[0mlsst\u001b[0m\u001b[0;34m.\u001b[0m\u001b[0mgeom\u001b[0m\u001b[0;34m.\u001b[0m\u001b[0mSpherePoint\u001b[0m\u001b[0;34m(\u001b[0m\u001b[0msource\u001b[0m\u001b[0;34m[\u001b[0m\u001b[0;34m'ra'\u001b[0m\u001b[0;34m]\u001b[0m\u001b[0;34m,\u001b[0m \u001b[0msource\u001b[0m\u001b[0;34m[\u001b[0m\u001b[0;34m'decl'\u001b[0m\u001b[0;34m]\u001b[0m\u001b[0;34m,\u001b[0m \u001b[0mlsst\u001b[0m\u001b[0;34m.\u001b[0m\u001b[0mgeom\u001b[0m\u001b[0;34m.\u001b[0m\u001b[0mdegrees\u001b[0m\u001b[0;34m)\u001b[0m\u001b[0;34m\u001b[0m\u001b[0;34m\u001b[0m\u001b[0m\n\u001b[1;32m      4\u001b[0m     \u001b[0mdataId\u001b[0m \u001b[0;34m=\u001b[0m \u001b[0;34m{\u001b[0m\u001b[0;34m'ccd'\u001b[0m\u001b[0;34m:\u001b[0m \u001b[0mint\u001b[0m\u001b[0;34m(\u001b[0m\u001b[0msource\u001b[0m\u001b[0;34m[\u001b[0m\u001b[0;34m'ccd'\u001b[0m\u001b[0;34m]\u001b[0m\u001b[0;34m)\u001b[0m\u001b[0;34m,\u001b[0m \u001b[0;34m'visit'\u001b[0m\u001b[0;34m:\u001b[0m \u001b[0mint\u001b[0m\u001b[0;34m(\u001b[0m\u001b[0msource\u001b[0m\u001b[0;34m[\u001b[0m\u001b[0;34m'visit'\u001b[0m\u001b[0;34m]\u001b[0m\u001b[0;34m)\u001b[0m\u001b[0;34m}\u001b[0m\u001b[0;34m\u001b[0m\u001b[0;34m\u001b[0m\u001b[0m\n\u001b[0;32m----> 5\u001b[0;31m     \u001b[0mexposure\u001b[0m\u001b[0;34m,\u001b[0m \u001b[0mdifference\u001b[0m\u001b[0;34m,\u001b[0m \u001b[0mtemplate\u001b[0m \u001b[0;34m=\u001b[0m \u001b[0mget_cutouts\u001b[0m\u001b[0;34m(\u001b[0m\u001b[0mdataId\u001b[0m\u001b[0;34m,\u001b[0m \u001b[0mcenter\u001b[0m\u001b[0;34m)\u001b[0m\u001b[0;34m\u001b[0m\u001b[0;34m\u001b[0m\u001b[0m\n\u001b[0m\u001b[1;32m      6\u001b[0m     \u001b[0mfilename\u001b[0m \u001b[0;34m=\u001b[0m \u001b[0;34mf\"{source['diaSourceId']}.png\"\u001b[0m\u001b[0;34m\u001b[0m\u001b[0;34m\u001b[0m\u001b[0m\n\u001b[1;32m      7\u001b[0m     \u001b[0mplot_cutout\u001b[0m\u001b[0;34m(\u001b[0m\u001b[0mexposure\u001b[0m\u001b[0;34m,\u001b[0m \u001b[0mdifference\u001b[0m\u001b[0;34m,\u001b[0m \u001b[0mtemplate\u001b[0m\u001b[0;34m,\u001b[0m \u001b[0moutput\u001b[0m\u001b[0;34m=\u001b[0m\u001b[0;34mf\"{output_path}{filename}\"\u001b[0m\u001b[0;34m)\u001b[0m\u001b[0;34m\u001b[0m\u001b[0;34m\u001b[0m\u001b[0m\n",
      "\u001b[0;32m<ipython-input-17-08133b3fc94e>\u001b[0m in \u001b[0;36mget_cutouts\u001b[0;34m(dataId, center, size)\u001b[0m\n\u001b[1;32m     10\u001b[0m     \u001b[0;31m# TODO: We can make this a lot faster by loading the images for every \"ccd/visit\" combo,\u001b[0m\u001b[0;34m\u001b[0m\u001b[0;34m\u001b[0m\u001b[0;34m\u001b[0m\u001b[0m\n\u001b[1;32m     11\u001b[0m     \u001b[0;31m# TODO: and then making the cutouts at each source that lies on that ccd.\u001b[0m\u001b[0;34m\u001b[0m\u001b[0;34m\u001b[0m\u001b[0;34m\u001b[0m\u001b[0m\n\u001b[0;32m---> 12\u001b[0;31m     \u001b[0mexposure\u001b[0m\u001b[0;34m,\u001b[0m \u001b[0mdifference\u001b[0m\u001b[0;34m,\u001b[0m \u001b[0mtemplate\u001b[0m \u001b[0;34m=\u001b[0m \u001b[0mget_images\u001b[0m\u001b[0;34m(\u001b[0m\u001b[0mdataId\u001b[0m\u001b[0;34m)\u001b[0m\u001b[0;34m\u001b[0m\u001b[0;34m\u001b[0m\u001b[0m\n\u001b[0m\u001b[1;32m     13\u001b[0m     \u001b[0;32mreturn\u001b[0m \u001b[0mexposure\u001b[0m\u001b[0;34m.\u001b[0m\u001b[0mgetCutout\u001b[0m\u001b[0;34m(\u001b[0m\u001b[0mcenter\u001b[0m\u001b[0;34m,\u001b[0m \u001b[0msize\u001b[0m\u001b[0;34m)\u001b[0m\u001b[0;34m,\u001b[0m \u001b[0mdifference\u001b[0m\u001b[0;34m.\u001b[0m\u001b[0mgetCutout\u001b[0m\u001b[0;34m(\u001b[0m\u001b[0mcenter\u001b[0m\u001b[0;34m,\u001b[0m \u001b[0msize\u001b[0m\u001b[0;34m)\u001b[0m\u001b[0;34m,\u001b[0m \u001b[0mtemplate\u001b[0m\u001b[0;34m.\u001b[0m\u001b[0mgetCutout\u001b[0m\u001b[0;34m(\u001b[0m\u001b[0mcenter\u001b[0m\u001b[0;34m,\u001b[0m \u001b[0msize\u001b[0m\u001b[0;34m)\u001b[0m\u001b[0;34m\u001b[0m\u001b[0;34m\u001b[0m\u001b[0m\n",
      "\u001b[0;31mTypeError\u001b[0m: unhashable type: 'dict'"
     ]
    }
   ],
   "source": [
    "# TODO: as currently written, this is going to be *very* slow because it re-loads the images for every source.\n",
    "for index,source in ds_sample.iterrows():\n",
    "    center = lsst.geom.SpherePoint(source['ra'], source['decl'], lsst.geom.degrees)\n",
    "    dataId = {'ccd': int(source['ccd']), 'visit': int(source['visit'])}\n",
    "    exposure, difference, template = get_cutouts(dataId, center)\n",
    "    filename = f\"{source['diaSourceId']}.png\"\n",
    "    plot_cutout(exposure, difference, template, output=f\"{output_path}{filename}\")"
   ]
  },
  {
   "cell_type": "markdown",
   "metadata": {},
   "source": [
    "## Submit data to Panoptes"
   ]
  },
  {
   "cell_type": "code",
   "execution_count": 12,
   "metadata": {},
   "outputs": [],
   "source": [
    "manifest = make_manifest(ds_sample, url_root)\n",
    "manifest.to_csv(os.path.join(output_path, \"manifest.csv\"))\n",
    "manifest.to_json(os.path.join(output_path, \"manifest.json\"))"
   ]
  },
  {
   "cell_type": "code",
   "execution_count": 13,
   "metadata": {},
   "outputs": [
    {
     "name": "stdout",
     "output_type": "stream",
     "text": [
      "Enter your Zooniverse credentials...\n"
     ]
    },
    {
     "name": "stdin",
     "output_type": "stream",
     "text": [
      "Username:  parejkoj\n",
      " ········\n"
     ]
    }
   ],
   "source": [
    "client = panoptes_client.Panoptes.connect(login=\"interactive\")"
   ]
  },
  {
   "cell_type": "code",
   "execution_count": 15,
   "metadata": {},
   "outputs": [],
   "source": [
    "project = panoptes_client.Project.find(slug='ebellm/alert-production-zoo')"
   ]
  },
  {
   "cell_type": "code",
   "execution_count": 16,
   "metadata": {},
   "outputs": [
    {
     "name": "stdout",
     "output_type": "stream",
     "text": [
      "[('80863', 'HiTS'), ('81026', 'HSC-COSMOS')]\n"
     ]
    }
   ],
   "source": [
    "print([(ss.id, ss.display_name) for ss in project.links.subject_sets])"
   ]
  },
  {
   "cell_type": "code",
   "execution_count": 19,
   "metadata": {},
   "outputs": [
    {
     "data": {
      "text/plain": [
       "{'subject_sets': [{'id': '90418',\n",
       "   'display_name': 'saha',\n",
       "   'set_member_subjects_count': 0,\n",
       "   'metadata': {},\n",
       "   'created_at': '2020-12-15T09:51:55.915Z',\n",
       "   'updated_at': '2020-12-15T09:51:55.950Z',\n",
       "   'href': '/subject_sets/90418',\n",
       "   'links': {'project': '11152', 'workflows': [], 'subjects': []}}],\n",
       " 'links': {'subject_sets.project': {'href': '/projects/{subject_sets.project}',\n",
       "   'type': 'projects'},\n",
       "  'subject_sets.workflows': {'href': '/workflows?subject_set_id={subject_sets.id}',\n",
       "   'type': 'workflows'}},\n",
       " 'meta': {'subject_sets': {'page': 1,\n",
       "   'page_size': 20,\n",
       "   'count': 1,\n",
       "   'include': [],\n",
       "   'page_count': 1,\n",
       "   'previous_page': None,\n",
       "   'next_page': None,\n",
       "   'first_href': '/subject_sets',\n",
       "   'previous_href': None,\n",
       "   'next_href': None,\n",
       "   'last_href': '/subject_sets'}}}"
      ]
     },
     "execution_count": 19,
     "metadata": {},
     "output_type": "execute_result"
    }
   ],
   "source": [
    "# make a new subject set\n",
    "subject_set = panoptes_client.SubjectSet()\n",
    "\n",
    "subject_set.links.project = project\n",
    "subject_set.display_name = 'saha'\n",
    "\n",
    "subject_set.save()"
   ]
  },
  {
   "cell_type": "code",
   "execution_count": 20,
   "metadata": {},
   "outputs": [],
   "source": [
    "project.reload()"
   ]
  },
  {
   "cell_type": "code",
   "execution_count": null,
   "metadata": {},
   "outputs": [],
   "source": []
  }
 ],
 "metadata": {
  "kernelspec": {
   "display_name": "LSST",
   "language": "python",
   "name": "lsst"
  },
  "language_info": {
   "codemirror_mode": {
    "name": "ipython",
    "version": 3
   },
   "file_extension": ".py",
   "mimetype": "text/x-python",
   "name": "python",
   "nbconvert_exporter": "python",
   "pygments_lexer": "ipython3",
   "version": "3.7.8"
  }
 },
 "nbformat": 4,
 "nbformat_minor": 4
}
