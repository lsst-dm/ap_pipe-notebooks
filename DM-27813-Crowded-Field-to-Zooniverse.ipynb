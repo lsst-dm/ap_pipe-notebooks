{
 "cells": [
  {
   "cell_type": "markdown",
   "metadata": {},
   "source": [
    "# DM-27813 Crowded Fields to Zooniverse"
   ]
  },
  {
   "cell_type": "code",
   "execution_count": 1,
   "metadata": {},
   "outputs": [],
   "source": [
    "import functools\n",
    "import numpy as np\n",
    "#%matplotlib notebook\n",
    "import matplotlib.pyplot as plt\n",
    "import matplotlib.ticker as plticker\n",
    "from matplotlib import cm\n",
    "import os\n",
    "import pandas as pd\n",
    "import sqlite3\n",
    "import json\n",
    "import astropy.visualization as aviz\n",
    "\n",
    "import panoptes_client\n",
    "\n",
    "import lsst.daf.persistence as dafPersist\n",
    "import lsst.afw.display as afwDisplay\n",
    "afwDisplay.setDefaultBackend('matplotlib')\n",
    "\n",
    "import lsst.geom\n",
    "from lsst.ip.diffim import GetCoaddAsTemplateTask\n",
    "\n",
    "\n",
    "# local to ap_pipe-notebooks\n",
    "import plotLightcurve\n",
    "import apdbPlots"
   ]
  },
  {
   "cell_type": "code",
   "execution_count": 3,
   "metadata": {},
   "outputs": [],
   "source": [
    "# The gen2 butler repos containing the templates and difference images, respectively.\n",
    "#parent = \"/project/sullivan/saha/cwcoadds_processed\"\n",
    "#REPO = '/project/sullivan/saha/ap_pipe/cw/'"
   ]
  },
  {
   "cell_type": "code",
   "execution_count": 2,
   "metadata": {},
   "outputs": [],
   "source": [
    "# this set uses the 2015 data as templates since they are better seeing\n",
    "parent = \"/project/sullivan/saha/cwcoadds_2015\"\n",
    "REPO = '/project/sullivan/saha/ap_pipe/cw_2013/'"
   ]
  },
  {
   "cell_type": "code",
   "execution_count": 3,
   "metadata": {},
   "outputs": [],
   "source": [
    "# The URL where the output files can be accessed by zooniverse.\n",
    "#url_root = \"https://lsst.ncsa.illinois.edu/~parejkoj/zooniverse/\"\n",
    "url_root = \"https://lsst.ncsa.illinois.edu/~ebellm/zooniverse/\"\n",
    "\n",
    "# The path to write the PNG and manifest files to.\n",
    "output_path = \"/scratch/ebellm/zooniverse/\""
   ]
  },
  {
   "cell_type": "code",
   "execution_count": 4,
   "metadata": {},
   "outputs": [],
   "source": [
    "connection = sqlite3.connect(f'{REPO}/association.db')"
   ]
  },
  {
   "cell_type": "code",
   "execution_count": 5,
   "metadata": {},
   "outputs": [],
   "source": [
    "butler = dafPersist.Butler(inputs=[REPO, parent])"
   ]
  },
  {
   "cell_type": "markdown",
   "metadata": {},
   "source": [
    "First we want to get a random subset of DIASources from the APDB."
   ]
  },
  {
   "cell_type": "code",
   "execution_count": 6,
   "metadata": {},
   "outputs": [
    {
     "name": "stdout",
     "output_type": "stream",
     "text": [
      "CPU times: user 7.58 s, sys: 10.1 s, total: 17.7 s\n",
      "Wall time: 2min 42s\n"
     ]
    }
   ],
   "source": [
    "%%time \n",
    "# to get a random sample: ORDER BY RANDOM() \n",
    "#ds_sample = pd.read_sql_query('select * from DiaSource LIMIT 100;', connection)\n",
    "ds_sample = pd.read_sql_query('select * from DiaSource ORDER BY RANDOM() LIMIT 200;', connection)"
   ]
  },
  {
   "cell_type": "code",
   "execution_count": 7,
   "metadata": {},
   "outputs": [
    {
     "data": {
      "text/plain": [
       "0      25165824\n",
       "1             0\n",
       "2      41943040\n",
       "3             0\n",
       "4          1320\n",
       "         ...   \n",
       "195           0\n",
       "196    25169320\n",
       "197    25165824\n",
       "198    25166616\n",
       "199    41943040\n",
       "Name: flags, Length: 200, dtype: int64"
      ]
     },
     "execution_count": 7,
     "metadata": {},
     "output_type": "execute_result"
    }
   ],
   "source": [
    "ds_sample.flags"
   ]
  },
  {
   "cell_type": "code",
   "execution_count": 8,
   "metadata": {},
   "outputs": [
    {
     "data": {
      "text/html": [
       "<div>\n",
       "<style scoped>\n",
       "    .dataframe tbody tr th:only-of-type {\n",
       "        vertical-align: middle;\n",
       "    }\n",
       "\n",
       "    .dataframe tbody tr th {\n",
       "        vertical-align: top;\n",
       "    }\n",
       "\n",
       "    .dataframe thead th {\n",
       "        text-align: right;\n",
       "    }\n",
       "</style>\n",
       "<table border=\"1\" class=\"dataframe\">\n",
       "  <thead>\n",
       "    <tr style=\"text-align: right;\">\n",
       "      <th></th>\n",
       "      <th>diaSourceId</th>\n",
       "      <th>ccdVisitId</th>\n",
       "      <th>diaObjectId</th>\n",
       "      <th>ssObjectId</th>\n",
       "      <th>parentDiaSourceId</th>\n",
       "      <th>prv_procOrder</th>\n",
       "      <th>ssObjectReassocTime</th>\n",
       "      <th>midPointTai</th>\n",
       "      <th>ra</th>\n",
       "      <th>raErr</th>\n",
       "      <th>...</th>\n",
       "      <th>extendedness</th>\n",
       "      <th>spuriousness</th>\n",
       "      <th>flags</th>\n",
       "      <th>pixelId</th>\n",
       "      <th>filterName</th>\n",
       "      <th>filterId</th>\n",
       "      <th>isDipole</th>\n",
       "      <th>bboxSize</th>\n",
       "      <th>ccd</th>\n",
       "      <th>visit</th>\n",
       "    </tr>\n",
       "  </thead>\n",
       "  <tbody>\n",
       "    <tr>\n",
       "      <th>0</th>\n",
       "      <td>89968642749378735</td>\n",
       "      <td>20947457</td>\n",
       "      <td>95977731493205765</td>\n",
       "      <td>0</td>\n",
       "      <td>0</td>\n",
       "      <td>0</td>\n",
       "      <td>None</td>\n",
       "      <td>56450.104736</td>\n",
       "      <td>270.545103</td>\n",
       "      <td>None</td>\n",
       "      <td>...</td>\n",
       "      <td>None</td>\n",
       "      <td>None</td>\n",
       "      <td>25165824</td>\n",
       "      <td>0</td>\n",
       "      <td>g</td>\n",
       "      <td>1</td>\n",
       "      <td>0</td>\n",
       "      <td>13</td>\n",
       "      <td>57</td>\n",
       "      <td>209474</td>\n",
       "    </tr>\n",
       "    <tr>\n",
       "      <th>1</th>\n",
       "      <td>89971138125372023</td>\n",
       "      <td>20948038</td>\n",
       "      <td>90453462952708948</td>\n",
       "      <td>0</td>\n",
       "      <td>0</td>\n",
       "      <td>0</td>\n",
       "      <td>None</td>\n",
       "      <td>56450.115570</td>\n",
       "      <td>273.404229</td>\n",
       "      <td>None</td>\n",
       "      <td>...</td>\n",
       "      <td>None</td>\n",
       "      <td>None</td>\n",
       "      <td>0</td>\n",
       "      <td>0</td>\n",
       "      <td>g</td>\n",
       "      <td>1</td>\n",
       "      <td>1</td>\n",
       "      <td>29</td>\n",
       "      <td>38</td>\n",
       "      <td>209480</td>\n",
       "    </tr>\n",
       "    <tr>\n",
       "      <th>2</th>\n",
       "      <td>89997711088045934</td>\n",
       "      <td>20954225</td>\n",
       "      <td>89997711088045934</td>\n",
       "      <td>0</td>\n",
       "      <td>0</td>\n",
       "      <td>0</td>\n",
       "      <td>None</td>\n",
       "      <td>56450.242038</td>\n",
       "      <td>271.374426</td>\n",
       "      <td>None</td>\n",
       "      <td>...</td>\n",
       "      <td>None</td>\n",
       "      <td>None</td>\n",
       "      <td>41943040</td>\n",
       "      <td>0</td>\n",
       "      <td>g</td>\n",
       "      <td>1</td>\n",
       "      <td>1</td>\n",
       "      <td>77</td>\n",
       "      <td>25</td>\n",
       "      <td>209542</td>\n",
       "    </tr>\n",
       "    <tr>\n",
       "      <th>3</th>\n",
       "      <td>88377709553529478</td>\n",
       "      <td>20577039</td>\n",
       "      <td>92827295672182637</td>\n",
       "      <td>0</td>\n",
       "      <td>0</td>\n",
       "      <td>0</td>\n",
       "      <td>None</td>\n",
       "      <td>56424.383398</td>\n",
       "      <td>270.088987</td>\n",
       "      <td>None</td>\n",
       "      <td>...</td>\n",
       "      <td>None</td>\n",
       "      <td>None</td>\n",
       "      <td>0</td>\n",
       "      <td>0</td>\n",
       "      <td>g</td>\n",
       "      <td>1</td>\n",
       "      <td>0</td>\n",
       "      <td>27</td>\n",
       "      <td>39</td>\n",
       "      <td>205770</td>\n",
       "    </tr>\n",
       "    <tr>\n",
       "      <th>4</th>\n",
       "      <td>90290614972729511</td>\n",
       "      <td>21022422</td>\n",
       "      <td>90123111248183405</td>\n",
       "      <td>0</td>\n",
       "      <td>0</td>\n",
       "      <td>0</td>\n",
       "      <td>None</td>\n",
       "      <td>56452.240531</td>\n",
       "      <td>272.556602</td>\n",
       "      <td>None</td>\n",
       "      <td>...</td>\n",
       "      <td>None</td>\n",
       "      <td>None</td>\n",
       "      <td>1320</td>\n",
       "      <td>0</td>\n",
       "      <td>g</td>\n",
       "      <td>1</td>\n",
       "      <td>0</td>\n",
       "      <td>13</td>\n",
       "      <td>22</td>\n",
       "      <td>210224</td>\n",
       "    </tr>\n",
       "    <tr>\n",
       "      <th>...</th>\n",
       "      <td>...</td>\n",
       "      <td>...</td>\n",
       "      <td>...</td>\n",
       "      <td>...</td>\n",
       "      <td>...</td>\n",
       "      <td>...</td>\n",
       "      <td>...</td>\n",
       "      <td>...</td>\n",
       "      <td>...</td>\n",
       "      <td>...</td>\n",
       "      <td>...</td>\n",
       "      <td>...</td>\n",
       "      <td>...</td>\n",
       "      <td>...</td>\n",
       "      <td>...</td>\n",
       "      <td>...</td>\n",
       "      <td>...</td>\n",
       "      <td>...</td>\n",
       "      <td>...</td>\n",
       "      <td>...</td>\n",
       "      <td>...</td>\n",
       "    </tr>\n",
       "    <tr>\n",
       "      <th>195</th>\n",
       "      <td>90120491318128352</td>\n",
       "      <td>20982812</td>\n",
       "      <td>90120491318128352</td>\n",
       "      <td>0</td>\n",
       "      <td>0</td>\n",
       "      <td>0</td>\n",
       "      <td>None</td>\n",
       "      <td>56451.191290</td>\n",
       "      <td>271.641150</td>\n",
       "      <td>None</td>\n",
       "      <td>...</td>\n",
       "      <td>None</td>\n",
       "      <td>None</td>\n",
       "      <td>0</td>\n",
       "      <td>0</td>\n",
       "      <td>g</td>\n",
       "      <td>1</td>\n",
       "      <td>0</td>\n",
       "      <td>40</td>\n",
       "      <td>12</td>\n",
       "      <td>209828</td>\n",
       "    </tr>\n",
       "    <tr>\n",
       "      <th>196</th>\n",
       "      <td>88379809792533059</td>\n",
       "      <td>20577528</td>\n",
       "      <td>88379809792533059</td>\n",
       "      <td>0</td>\n",
       "      <td>0</td>\n",
       "      <td>0</td>\n",
       "      <td>None</td>\n",
       "      <td>56424.393234</td>\n",
       "      <td>272.183355</td>\n",
       "      <td>None</td>\n",
       "      <td>...</td>\n",
       "      <td>None</td>\n",
       "      <td>None</td>\n",
       "      <td>25169320</td>\n",
       "      <td>0</td>\n",
       "      <td>g</td>\n",
       "      <td>1</td>\n",
       "      <td>0</td>\n",
       "      <td>15</td>\n",
       "      <td>28</td>\n",
       "      <td>205775</td>\n",
       "    </tr>\n",
       "    <tr>\n",
       "      <th>197</th>\n",
       "      <td>88277937463242865</td>\n",
       "      <td>20553809</td>\n",
       "      <td>88231122319711314</td>\n",
       "      <td>0</td>\n",
       "      <td>0</td>\n",
       "      <td>0</td>\n",
       "      <td>None</td>\n",
       "      <td>56423.398364</td>\n",
       "      <td>272.125692</td>\n",
       "      <td>None</td>\n",
       "      <td>...</td>\n",
       "      <td>None</td>\n",
       "      <td>None</td>\n",
       "      <td>25165824</td>\n",
       "      <td>0</td>\n",
       "      <td>i</td>\n",
       "      <td>3</td>\n",
       "      <td>1</td>\n",
       "      <td>72</td>\n",
       "      <td>09</td>\n",
       "      <td>205538</td>\n",
       "    </tr>\n",
       "    <tr>\n",
       "      <th>198</th>\n",
       "      <td>96153829447318255</td>\n",
       "      <td>22387558</td>\n",
       "      <td>90453548852057509</td>\n",
       "      <td>0</td>\n",
       "      <td>0</td>\n",
       "      <td>0</td>\n",
       "      <td>None</td>\n",
       "      <td>56510.120020</td>\n",
       "      <td>272.608165</td>\n",
       "      <td>None</td>\n",
       "      <td>...</td>\n",
       "      <td>None</td>\n",
       "      <td>None</td>\n",
       "      <td>25166616</td>\n",
       "      <td>0</td>\n",
       "      <td>g</td>\n",
       "      <td>1</td>\n",
       "      <td>1</td>\n",
       "      <td>50</td>\n",
       "      <td>58</td>\n",
       "      <td>223875</td>\n",
       "    </tr>\n",
       "    <tr>\n",
       "      <th>199</th>\n",
       "      <td>90313296695012885</td>\n",
       "      <td>21027703</td>\n",
       "      <td>90245006715005341</td>\n",
       "      <td>0</td>\n",
       "      <td>0</td>\n",
       "      <td>0</td>\n",
       "      <td>None</td>\n",
       "      <td>56452.328037</td>\n",
       "      <td>272.575968</td>\n",
       "      <td>None</td>\n",
       "      <td>...</td>\n",
       "      <td>None</td>\n",
       "      <td>None</td>\n",
       "      <td>41943040</td>\n",
       "      <td>0</td>\n",
       "      <td>g</td>\n",
       "      <td>1</td>\n",
       "      <td>1</td>\n",
       "      <td>76</td>\n",
       "      <td>03</td>\n",
       "      <td>210277</td>\n",
       "    </tr>\n",
       "  </tbody>\n",
       "</table>\n",
       "<p>200 rows × 114 columns</p>\n",
       "</div>"
      ],
      "text/plain": [
       "           diaSourceId  ccdVisitId        diaObjectId  ssObjectId  \\\n",
       "0    89968642749378735    20947457  95977731493205765           0   \n",
       "1    89971138125372023    20948038  90453462952708948           0   \n",
       "2    89997711088045934    20954225  89997711088045934           0   \n",
       "3    88377709553529478    20577039  92827295672182637           0   \n",
       "4    90290614972729511    21022422  90123111248183405           0   \n",
       "..                 ...         ...                ...         ...   \n",
       "195  90120491318128352    20982812  90120491318128352           0   \n",
       "196  88379809792533059    20577528  88379809792533059           0   \n",
       "197  88277937463242865    20553809  88231122319711314           0   \n",
       "198  96153829447318255    22387558  90453548852057509           0   \n",
       "199  90313296695012885    21027703  90245006715005341           0   \n",
       "\n",
       "     parentDiaSourceId  prv_procOrder ssObjectReassocTime   midPointTai  \\\n",
       "0                    0              0                None  56450.104736   \n",
       "1                    0              0                None  56450.115570   \n",
       "2                    0              0                None  56450.242038   \n",
       "3                    0              0                None  56424.383398   \n",
       "4                    0              0                None  56452.240531   \n",
       "..                 ...            ...                 ...           ...   \n",
       "195                  0              0                None  56451.191290   \n",
       "196                  0              0                None  56424.393234   \n",
       "197                  0              0                None  56423.398364   \n",
       "198                  0              0                None  56510.120020   \n",
       "199                  0              0                None  56452.328037   \n",
       "\n",
       "             ra raErr  ...  extendedness spuriousness     flags  pixelId  \\\n",
       "0    270.545103  None  ...          None         None  25165824        0   \n",
       "1    273.404229  None  ...          None         None         0        0   \n",
       "2    271.374426  None  ...          None         None  41943040        0   \n",
       "3    270.088987  None  ...          None         None         0        0   \n",
       "4    272.556602  None  ...          None         None      1320        0   \n",
       "..          ...   ...  ...           ...          ...       ...      ...   \n",
       "195  271.641150  None  ...          None         None         0        0   \n",
       "196  272.183355  None  ...          None         None  25169320        0   \n",
       "197  272.125692  None  ...          None         None  25165824        0   \n",
       "198  272.608165  None  ...          None         None  25166616        0   \n",
       "199  272.575968  None  ...          None         None  41943040        0   \n",
       "\n",
       "    filterName  filterId isDipole bboxSize  ccd   visit  \n",
       "0            g         1        0       13   57  209474  \n",
       "1            g         1        1       29   38  209480  \n",
       "2            g         1        1       77   25  209542  \n",
       "3            g         1        0       27   39  205770  \n",
       "4            g         1        0       13   22  210224  \n",
       "..         ...       ...      ...      ...  ...     ...  \n",
       "195          g         1        0       40   12  209828  \n",
       "196          g         1        0       15   28  205775  \n",
       "197          i         3        1       72   09  205538  \n",
       "198          g         1        1       50   58  223875  \n",
       "199          g         1        1       76   03  210277  \n",
       "\n",
       "[200 rows x 114 columns]"
      ]
     },
     "execution_count": 8,
     "metadata": {},
     "output_type": "execute_result"
    }
   ],
   "source": [
    "apdbPlots.addVisitCcdToSrcTable(ds_sample)"
   ]
  },
  {
   "cell_type": "markdown",
   "metadata": {},
   "source": [
    "## Get calexp, template, and difference cutouts for each source"
   ]
  },
  {
   "cell_type": "code",
   "execution_count": 9,
   "metadata": {},
   "outputs": [],
   "source": [
    "# @functools.lru_cache()\n",
    "# NOTE: dataId is a dict, which is not hashable thus not cacheable\n",
    "def get_images(dataId):\n",
    "    exposure = butler.get('calexp', dataId)\n",
    "    difference = butler.get('deepDiff_differenceExp', dataId)\n",
    "    template = butler.get('deepDiff_warpedExp', dataId)\n",
    "    return exposure, difference, template\n",
    "\n",
    "def get_cutouts(dataId, center, size=lsst.geom.Extent2I(30, 30)):\n",
    "    \"\"\"Return a cutout for this dataId at the given source location.\"\"\"\n",
    "    # TODO: We can make this a lot faster by loading the images for every \"ccd/visit\" combo,\n",
    "    # TODO: and then making the cutouts at each source that lies on that ccd.\n",
    "    exposure, difference, template = get_images(dataId)\n",
    "    return exposure.getCutout(center, size), difference.getCutout(center, size), template.getCutout(center, size)"
   ]
  },
  {
   "cell_type": "code",
   "execution_count": 10,
   "metadata": {},
   "outputs": [],
   "source": [
    "# an example dataId and center for playing with making a single image.\n",
    "i=50\n",
    "dataId={'ccd': int(ds_sample['ccd'][i]), 'visit': int(ds_sample['visit'][i])}\n",
    "center=lsst.geom.SpherePoint(ds_sample['ra'][i], ds_sample['decl'][i], lsst.geom.degrees)\n",
    "exposure, difference, template = get_cutouts(dataId, center)"
   ]
  },
  {
   "cell_type": "markdown",
   "metadata": {},
   "source": [
    "## Plot the images"
   ]
  },
  {
   "cell_type": "code",
   "execution_count": 11,
   "metadata": {},
   "outputs": [],
   "source": [
    "def plot_cutout(science, difference, template, output=None):\n",
    "    \"\"\"Plot the cutouts for a source in one image.\n",
    "    \"\"\"\n",
    "    Qst=15 #Q for Science and Template\n",
    "    sst=4 #Stretch for Science and Template\n",
    "    Qd=5 #Q for Difference\n",
    "    sd=50 #Stretch for Difference\n",
    "    asinst=0.01\n",
    "    asind=0.7\n",
    "\n",
    "    def do_one(ax, data, name):\n",
    "        interval = aviz.ZScaleInterval()\n",
    "\n",
    "        if name == 'Difference':\n",
    "            norm = aviz.ImageNormalize(data,  stretch=aviz.LinearStretch())\n",
    "        else:\n",
    "            norm = aviz.ImageNormalize(data, interval=interval, stretch=aviz.AsinhStretch(a=0.01))\n",
    "        ax.imshow(data, cmap=cm.bone, interpolation=\"none\")\n",
    "        ax.axis('off')\n",
    "        ax.set_title(name)\n",
    "\n",
    "    f, (ax1, ax2, ax3) = plt.subplots(1, 3)\n",
    "    do_one(ax1, template.image.array, \"Template\")\n",
    "    do_one(ax2, science.image.array, \"Science\")\n",
    "    do_one(ax3, difference.image.array, \"Difference\")\n",
    "    plt.tight_layout()\n",
    "\n",
    "    if output is not None:\n",
    "        plt.savefig(output, bbox_inches=\"tight\")\n",
    "        plt.close()"
   ]
  },
  {
   "cell_type": "code",
   "execution_count": 12,
   "metadata": {},
   "outputs": [
    {
     "data": {
      "image/png": "[encoded data removed]",
      "text/plain": [
       "<Figure size 432x288 with 3 Axes>"
      ]
     },
     "metadata": {
      "needs_background": "light"
     },
     "output_type": "display_data"
    }
   ],
   "source": [
    "plot_cutout(exposure, difference, template)"
   ]
  },
  {
   "cell_type": "markdown",
   "metadata": {},
   "source": [
    "## Generate manifest information for upload to Zooniverse"
   ]
  },
  {
   "cell_type": "code",
   "execution_count": 13,
   "metadata": {},
   "outputs": [],
   "source": [
    "def make_manifest(data, url_root):\n",
    "    output = pd.DataFrame([])\n",
    "    output['uuid'] = data['diaSourceId']\n",
    "    output['location:1'] = ds_sample.apply(lambda x: f\"{url_root}{x['diaSourceId']}.png\", axis=1)\n",
    "    output['metadata:diaSourceId'] = data['diaSourceId']\n",
    "    return output"
   ]
  },
  {
   "cell_type": "markdown",
   "metadata": {},
   "source": [
    "## Make plots for every source"
   ]
  },
  {
   "cell_type": "code",
   "execution_count": 14,
   "metadata": {},
   "outputs": [],
   "source": [
    "# TODO: as currently written, this is going to be *very* slow because it re-loads the images for every source.\n",
    "for index,source in ds_sample.iterrows():\n",
    "    center = lsst.geom.SpherePoint(source['ra'], source['decl'], lsst.geom.degrees)\n",
    "    dataId = {'ccd': int(source['ccd']), 'visit': int(source['visit'])}\n",
    "    exposure, difference, template = get_cutouts(dataId, center)\n",
    "    filename = f\"{source['diaSourceId']}.png\"\n",
    "    plot_cutout(exposure, difference, template, output=f\"{output_path}{filename}\")"
   ]
  },
  {
   "cell_type": "markdown",
   "metadata": {},
   "source": [
    "## Submit data to Panoptes"
   ]
  },
  {
   "cell_type": "code",
   "execution_count": 15,
   "metadata": {},
   "outputs": [],
   "source": [
    "manifest = make_manifest(ds_sample, url_root)\n",
    "manifest.to_csv(os.path.join(output_path, \"manifest.csv\"))\n",
    "manifest.to_json(os.path.join(output_path, \"manifest.json\"))"
   ]
  },
  {
   "cell_type": "code",
   "execution_count": 5,
   "metadata": {},
   "outputs": [
    {
     "name": "stdout",
     "output_type": "stream",
     "text": [
      "Enter your Zooniverse credentials...\n"
     ]
    },
    {
     "name": "stdin",
     "output_type": "stream",
     "text": [
      "Username:  ebellm\n",
      " ······························\n"
     ]
    }
   ],
   "source": [
    "client = panoptes_client.Panoptes.connect(login=\"interactive\")"
   ]
  },
  {
   "cell_type": "code",
   "execution_count": 6,
   "metadata": {},
   "outputs": [],
   "source": [
    "project = panoptes_client.Project.find(slug='ebellm/alert-production-zoo')"
   ]
  },
  {
   "cell_type": "code",
   "execution_count": 7,
   "metadata": {},
   "outputs": [
    {
     "data": {
      "text/plain": [
       "'11152'"
      ]
     },
     "execution_count": 7,
     "metadata": {},
     "output_type": "execute_result"
    }
   ],
   "source": [
    "project.id"
   ]
  },
  {
   "cell_type": "code",
   "execution_count": 8,
   "metadata": {},
   "outputs": [
    {
     "name": "stdout",
     "output_type": "stream",
     "text": [
      "[('80863', 'HiTS'), ('81026', 'HSC-COSMOS'), ('90418', 'saha')]\n"
     ]
    }
   ],
   "source": [
    "print([(ss.id, ss.display_name) for ss in project.links.subject_sets])"
   ]
  },
  {
   "cell_type": "code",
   "execution_count": 19,
   "metadata": {},
   "outputs": [
    {
     "data": {
      "text/plain": [
       "{'subject_sets': [{'id': '90418',\n",
       "   'display_name': 'saha',\n",
       "   'set_member_subjects_count': 0,\n",
       "   'metadata': {},\n",
       "   'created_at': '2020-12-15T09:51:55.915Z',\n",
       "   'updated_at': '2020-12-15T09:51:55.950Z',\n",
       "   'href': '/subject_sets/90418',\n",
       "   'links': {'project': '11152', 'workflows': [], 'subjects': []}}],\n",
       " 'links': {'subject_sets.project': {'href': '/projects/{subject_sets.project}',\n",
       "   'type': 'projects'},\n",
       "  'subject_sets.workflows': {'href': '/workflows?subject_set_id={subject_sets.id}',\n",
       "   'type': 'workflows'}},\n",
       " 'meta': {'subject_sets': {'page': 1,\n",
       "   'page_size': 20,\n",
       "   'count': 1,\n",
       "   'include': [],\n",
       "   'page_count': 1,\n",
       "   'previous_page': None,\n",
       "   'next_page': None,\n",
       "   'first_href': '/subject_sets',\n",
       "   'previous_href': None,\n",
       "   'next_href': None,\n",
       "   'last_href': '/subject_sets'}}}"
      ]
     },
     "execution_count": 19,
     "metadata": {},
     "output_type": "execute_result"
    }
   ],
   "source": [
    "# make a new subject set\n",
    "subject_set = panoptes_client.SubjectSet()\n",
    "\n",
    "subject_set.links.project = project\n",
    "subject_set.display_name = 'saha'\n",
    "\n",
    "subject_set.save()"
   ]
  },
  {
   "cell_type": "code",
   "execution_count": 20,
   "metadata": {},
   "outputs": [],
   "source": [
    "project.reload()"
   ]
  }
 ],
 "metadata": {
  "kernelspec": {
   "display_name": "LSST",
   "language": "python",
   "name": "lsst"
  },
  "language_info": {
   "codemirror_mode": {
    "name": "ipython",
    "version": 3
   },
   "file_extension": ".py",
   "mimetype": "text/x-python",
   "name": "python",
   "nbconvert_exporter": "python",
   "pygments_lexer": "ipython3",
   "version": "3.7.8"
  }
 },
 "nbformat": 4,
 "nbformat_minor": 4
}
