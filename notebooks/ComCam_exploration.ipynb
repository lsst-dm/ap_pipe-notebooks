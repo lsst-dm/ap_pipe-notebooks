{
 "cells": [
  {
   "cell_type": "code",
   "execution_count": 1,
   "id": "c51b2e07-8a96-49df-a6d3-8e82fa739a3a",
   "metadata": {
    "execution": {
     "iopub.execute_input": "2024-11-05T16:20:10.166565Z",
     "iopub.status.busy": "2024-11-05T16:20:10.166323Z",
     "iopub.status.idle": "2024-11-05T16:20:10.488662Z",
     "shell.execute_reply": "2024-11-05T16:20:10.488093Z",
     "shell.execute_reply.started": "2024-11-05T16:20:10.166550Z"
    }
   },
   "outputs": [],
   "source": [
    "import lsst.afw.display\n",
    "display = lsst.afw.display.Display(backend='firefly')"
   ]
  },
  {
   "cell_type": "code",
   "execution_count": 3,
   "id": "f9511e66-dfb0-4593-bbfc-c1dc03a050da",
   "metadata": {
    "execution": {
     "iopub.execute_input": "2024-11-05T16:20:58.044038Z",
     "iopub.status.busy": "2024-11-05T16:20:58.043757Z",
     "iopub.status.idle": "2024-11-05T16:20:58.806586Z",
     "shell.execute_reply": "2024-11-05T16:20:58.806148Z",
     "shell.execute_reply.started": "2024-11-05T16:20:58.044022Z"
    }
   },
   "outputs": [],
   "source": [
    "import lsst.daf.butler"
   ]
  },
  {
   "cell_type": "code",
   "execution_count": 5,
   "id": "f2b32448-3986-467f-af9f-721bcd590a09",
   "metadata": {
    "execution": {
     "iopub.execute_input": "2024-11-05T16:21:22.094182Z",
     "iopub.status.busy": "2024-11-05T16:21:22.093803Z",
     "iopub.status.idle": "2024-11-05T16:21:22.236058Z",
     "shell.execute_reply": "2024-11-05T16:21:22.235649Z",
     "shell.execute_reply.started": "2024-11-05T16:21:22.094167Z"
    }
   },
   "outputs": [],
   "source": [
    "collection = 'u/huanlin/LSSTComCam/runs/DRP/20241030_20241031/d_2024_11_01/test'\n",
    "\n",
    "butler = lsst.daf.butler.Butler(\"embargo\", collections=collection)"
   ]
  },
  {
   "cell_type": "code",
   "execution_count": 10,
   "id": "5f7ef4be-ace1-4b61-8479-fd7e27a829eb",
   "metadata": {
    "execution": {
     "iopub.execute_input": "2024-11-05T16:28:45.266537Z",
     "iopub.status.busy": "2024-11-05T16:28:45.266310Z",
     "iopub.status.idle": "2024-11-05T16:28:45.287294Z",
     "shell.execute_reply": "2024-11-05T16:28:45.286936Z",
     "shell.execute_reply.started": "2024-11-05T16:28:45.266523Z"
    }
   },
   "outputs": [],
   "source": [
    "refs = butler.query_datasets('goodSeeingCoadd')"
   ]
  },
  {
   "cell_type": "code",
   "execution_count": 14,
   "id": "7fa72184-7fbf-4724-9854-93cf99a85e6f",
   "metadata": {
    "execution": {
     "iopub.execute_input": "2024-11-05T16:30:10.032418Z",
     "iopub.status.busy": "2024-11-05T16:30:10.032140Z",
     "iopub.status.idle": "2024-11-05T16:30:10.035283Z",
     "shell.execute_reply": "2024-11-05T16:30:10.034946Z",
     "shell.execute_reply.started": "2024-11-05T16:30:10.032404Z"
    }
   },
   "outputs": [
    {
     "data": {
      "text/plain": [
       "152"
      ]
     },
     "execution_count": 14,
     "metadata": {},
     "output_type": "execute_result"
    }
   ],
   "source": [
    "len(refs)"
   ]
  },
  {
   "cell_type": "code",
   "execution_count": 11,
   "id": "bff167c5-dae6-4391-9fcf-b7cc7fc86c8f",
   "metadata": {
    "execution": {
     "iopub.execute_input": "2024-11-05T16:28:58.213398Z",
     "iopub.status.busy": "2024-11-05T16:28:58.213200Z",
     "iopub.status.idle": "2024-11-05T16:28:59.907884Z",
     "shell.execute_reply": "2024-11-05T16:28:59.907424Z",
     "shell.execute_reply.started": "2024-11-05T16:28:58.213384Z"
    }
   },
   "outputs": [],
   "source": [
    "coadd = butler.get(refs[0])"
   ]
  },
  {
   "cell_type": "code",
   "execution_count": 13,
   "id": "10c4553c-cbd8-4b10-af12-234a91830ec8",
   "metadata": {
    "execution": {
     "iopub.execute_input": "2024-11-05T16:29:18.489207Z",
     "iopub.status.busy": "2024-11-05T16:29:18.489012Z",
     "iopub.status.idle": "2024-11-05T16:29:20.469385Z",
     "shell.execute_reply": "2024-11-05T16:29:20.468981Z",
     "shell.execute_reply.started": "2024-11-05T16:29:18.489193Z"
    }
   },
   "outputs": [],
   "source": [
    "display.image(coadd)"
   ]
  },
  {
   "cell_type": "code",
   "execution_count": 16,
   "id": "d11ae36b-9b8c-49dd-984f-ac8d4e83f6ac",
   "metadata": {
    "execution": {
     "iopub.execute_input": "2024-11-05T16:31:04.383863Z",
     "iopub.status.busy": "2024-11-05T16:31:04.383398Z",
     "iopub.status.idle": "2024-11-05T16:31:04.468521Z",
     "shell.execute_reply": "2024-11-05T16:31:04.468220Z",
     "shell.execute_reply.started": "2024-11-05T16:31:04.383849Z"
    }
   },
   "outputs": [],
   "source": [
    "refs = butler.query_datasets('goodSeeingDiff_differenceExp')"
   ]
  },
  {
   "cell_type": "code",
   "execution_count": 17,
   "id": "f940bed8-2152-4dc3-b7d7-19467a94da2f",
   "metadata": {
    "execution": {
     "iopub.execute_input": "2024-11-05T16:31:08.030597Z",
     "iopub.status.busy": "2024-11-05T16:31:08.030328Z",
     "iopub.status.idle": "2024-11-05T16:31:08.033270Z",
     "shell.execute_reply": "2024-11-05T16:31:08.032981Z",
     "shell.execute_reply.started": "2024-11-05T16:31:08.030583Z"
    }
   },
   "outputs": [
    {
     "data": {
      "text/plain": [
       "58"
      ]
     },
     "execution_count": 17,
     "metadata": {},
     "output_type": "execute_result"
    }
   ],
   "source": [
    "len(refs)"
   ]
  },
  {
   "cell_type": "code",
   "execution_count": 71,
   "id": "8d95a6d0-d4ce-4f30-9012-bb3be56a3ad3",
   "metadata": {
    "execution": {
     "iopub.execute_input": "2024-11-05T16:49:36.988698Z",
     "iopub.status.busy": "2024-11-05T16:49:36.988176Z",
     "iopub.status.idle": "2024-11-05T16:49:36.990713Z",
     "shell.execute_reply": "2024-11-05T16:49:36.990355Z",
     "shell.execute_reply.started": "2024-11-05T16:49:36.988684Z"
    }
   },
   "outputs": [],
   "source": [
    "i=4"
   ]
  },
  {
   "cell_type": "code",
   "execution_count": 72,
   "id": "9181209c-416f-4a7c-a2dd-5764e35884bc",
   "metadata": {
    "execution": {
     "iopub.execute_input": "2024-11-05T16:49:37.603264Z",
     "iopub.status.busy": "2024-11-05T16:49:37.602903Z",
     "iopub.status.idle": "2024-11-05T16:49:38.397351Z",
     "shell.execute_reply": "2024-11-05T16:49:38.396778Z",
     "shell.execute_reply.started": "2024-11-05T16:49:37.603252Z"
    }
   },
   "outputs": [],
   "source": [
    "diff = butler.get(refs[i])"
   ]
  },
  {
   "cell_type": "code",
   "execution_count": 73,
   "id": "cd6b0ae9-66de-42f4-8d9b-cb81956a16c1",
   "metadata": {
    "execution": {
     "iopub.execute_input": "2024-11-05T16:49:38.398378Z",
     "iopub.status.busy": "2024-11-05T16:49:38.398237Z",
     "iopub.status.idle": "2024-11-05T16:49:40.956575Z",
     "shell.execute_reply": "2024-11-05T16:49:40.956108Z",
     "shell.execute_reply.started": "2024-11-05T16:49:38.398366Z"
    }
   },
   "outputs": [],
   "source": [
    "display.image(diff)"
   ]
  },
  {
   "cell_type": "code",
   "execution_count": 74,
   "id": "cd00dd4a-150a-43b4-a680-2ed5fe74e0f3",
   "metadata": {
    "execution": {
     "iopub.execute_input": "2024-11-05T16:49:40.957412Z",
     "iopub.status.busy": "2024-11-05T16:49:40.957273Z",
     "iopub.status.idle": "2024-11-05T16:49:41.047263Z",
     "shell.execute_reply": "2024-11-05T16:49:41.046877Z",
     "shell.execute_reply.started": "2024-11-05T16:49:40.957400Z"
    }
   },
   "outputs": [],
   "source": [
    "catalog = butler.get('goodSeeingDiff_diaSrc', dataId = refs[i].dataId)"
   ]
  },
  {
   "cell_type": "code",
   "execution_count": 75,
   "id": "9aa494ff-67a7-4e80-8315-affaf968f47d",
   "metadata": {
    "execution": {
     "iopub.execute_input": "2024-11-05T16:49:41.047824Z",
     "iopub.status.busy": "2024-11-05T16:49:41.047705Z",
     "iopub.status.idle": "2024-11-05T16:49:41.057826Z",
     "shell.execute_reply": "2024-11-05T16:49:41.057460Z",
     "shell.execute_reply.started": "2024-11-05T16:49:41.047813Z"
    }
   },
   "outputs": [],
   "source": [
    "display.centroids(catalog, size=10, ctype='red')"
   ]
  },
  {
   "cell_type": "code",
   "execution_count": 76,
   "id": "5520965d-1a3d-4981-8672-631ac1e75a80",
   "metadata": {
    "execution": {
     "iopub.execute_input": "2024-11-05T16:49:41.058669Z",
     "iopub.status.busy": "2024-11-05T16:49:41.058488Z",
     "iopub.status.idle": "2024-11-05T16:49:41.061157Z",
     "shell.execute_reply": "2024-11-05T16:49:41.060888Z",
     "shell.execute_reply.started": "2024-11-05T16:49:41.058656Z"
    }
   },
   "outputs": [
    {
     "data": {
      "text/plain": [
       "39"
      ]
     },
     "execution_count": 76,
     "metadata": {},
     "output_type": "execute_result"
    }
   ],
   "source": [
    "len(catalog)"
   ]
  },
  {
   "cell_type": "code",
   "execution_count": 77,
   "id": "63891c75-2f15-4c09-8885-46f2878bf796",
   "metadata": {
    "execution": {
     "iopub.execute_input": "2024-11-05T16:49:41.809241Z",
     "iopub.status.busy": "2024-11-05T16:49:41.808908Z",
     "iopub.status.idle": "2024-11-05T16:49:42.668266Z",
     "shell.execute_reply": "2024-11-05T16:49:42.667839Z",
     "shell.execute_reply.started": "2024-11-05T16:49:41.809225Z"
    }
   },
   "outputs": [],
   "source": [
    "pvi = butler.get('pvi', dataId = refs[i].dataId)"
   ]
  },
  {
   "cell_type": "code",
   "execution_count": 78,
   "id": "3e3d241e-6896-4b2a-8aee-c98d5b5e444e",
   "metadata": {
    "execution": {
     "iopub.execute_input": "2024-11-05T16:49:44.115301Z",
     "iopub.status.busy": "2024-11-05T16:49:44.114851Z",
     "iopub.status.idle": "2024-11-05T16:49:44.162254Z",
     "shell.execute_reply": "2024-11-05T16:49:44.161892Z",
     "shell.execute_reply.started": "2024-11-05T16:49:44.115285Z"
    }
   },
   "outputs": [],
   "source": [
    "display2 = lsst.afw.display.Display(backend='firefly', frame=2)"
   ]
  },
  {
   "cell_type": "code",
   "execution_count": 79,
   "id": "a3ce4c3c-53fd-4d44-aed2-54fd8a5992bf",
   "metadata": {
    "execution": {
     "iopub.execute_input": "2024-11-05T16:49:45.077367Z",
     "iopub.status.busy": "2024-11-05T16:49:45.076954Z",
     "iopub.status.idle": "2024-11-05T16:49:47.732658Z",
     "shell.execute_reply": "2024-11-05T16:49:47.732277Z",
     "shell.execute_reply.started": "2024-11-05T16:49:45.077355Z"
    }
   },
   "outputs": [],
   "source": [
    "display2.image(pvi)"
   ]
  },
  {
   "cell_type": "code",
   "execution_count": null,
   "id": "35a1c510-1848-4137-a473-6031bda4b3d5",
   "metadata": {},
   "outputs": [],
   "source": []
  }
 ],
 "metadata": {
  "kernelspec": {
   "display_name": "LSST",
   "language": "python",
   "name": "lsst"
  },
  "language_info": {
   "codemirror_mode": {
    "name": "ipython",
    "version": 3
   },
   "file_extension": ".py",
   "mimetype": "text/x-python",
   "name": "python",
   "nbconvert_exporter": "python",
   "pygments_lexer": "ipython3",
   "version": "3.11.11"
  }
 },
 "nbformat": 4,
 "nbformat_minor": 5
}
