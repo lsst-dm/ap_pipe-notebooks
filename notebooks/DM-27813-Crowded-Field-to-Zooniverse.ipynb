{
 "cells": [
  {
   "cell_type": "markdown",
   "metadata": {},
   "source": [
    "# DM-27813 Crowded Fields to Zooniverse"
   ]
  },
  {
   "cell_type": "code",
   "execution_count": 37,
   "metadata": {},
   "outputs": [],
   "source": [
    "import functools\n",
    "import numpy as np\n",
    "#%matplotlib notebook\n",
    "import matplotlib.pyplot as plt\n",
    "import matplotlib.ticker as plticker\n",
    "from matplotlib import cm\n",
    "import os\n",
    "import pandas as pd\n",
    "import sqlite3\n",
    "import json\n",
    "import astropy.visualization as aviz\n",
    "\n",
    "import lsst.daf.persistence as dafPersist\n",
    "import lsst.afw.display as afwDisplay\n",
    "afwDisplay.setDefaultBackend('matplotlib')\n",
    "\n",
    "import lsst.geom\n",
    "from lsst.ip.diffim import GetCoaddAsTemplateTask\n",
    "\n",
    "\n",
    "# local to ap_pipe-notebooks\n",
    "import plotLightcurve\n",
    "import apdbPlots"
   ]
  },
  {
   "cell_type": "code",
   "execution_count": 3,
   "metadata": {},
   "outputs": [],
   "source": [
    "# The gen2 butler repos containing the templates and difference images, respectively.\n",
    "#parent = \"/project/sullivan/saha/cwcoadds_processed\"\n",
    "#REPO = '/project/sullivan/saha/ap_pipe/cw/'"
   ]
  },
  {
   "cell_type": "code",
   "execution_count": 2,
   "metadata": {},
   "outputs": [],
   "source": [
    "# this set uses the 2015 data as templates since they are better seeing\n",
    "parent = \"/project/sullivan/saha/cwcoadds_2015\"\n",
    "REPO = '/project/sullivan/saha/ap_pipe/cw_2013/'"
   ]
  },
  {
   "cell_type": "code",
   "execution_count": 3,
   "metadata": {},
   "outputs": [],
   "source": [
    "# The URL where the output files can be accessed by zooniverse.\n",
    "#url_root = \"https://lsst.ncsa.illinois.edu/~parejkoj/zooniverse/\"\n",
    "url_root = \"https://lsst.ncsa.illinois.edu/~ebellm/zooniverse/\"\n",
    "\n",
    "# The path to write the PNG and manifest files to.\n",
    "output_path = \"/scratch/ebellm/zooniverse/\""
   ]
  },
  {
   "cell_type": "code",
   "execution_count": 6,
   "metadata": {},
   "outputs": [],
   "source": [
    "connection = sqlite3.connect(f'{REPO}/association.db')"
   ]
  },
  {
   "cell_type": "code",
   "execution_count": 7,
   "metadata": {},
   "outputs": [],
   "source": [
    "butler = dafPersist.Butler(inputs=[REPO, parent])"
   ]
  },
  {
   "cell_type": "markdown",
   "metadata": {},
   "source": [
    "First we want to get a random subset of DIASources from the APDB."
   ]
  },
  {
   "cell_type": "code",
   "execution_count": 8,
   "metadata": {},
   "outputs": [
    {
     "name": "stdout",
     "output_type": "stream",
     "text": [
      "CPU times: user 8.02 s, sys: 11.1 s, total: 19.1 s\n",
      "Wall time: 2min 56s\n"
     ]
    }
   ],
   "source": [
    "%%time \n",
    "# to get a random sample: ORDER BY RANDOM() \n",
    "#ds_sample = pd.read_sql_query('select * from DiaSource LIMIT 100;', connection)\n",
    "ds_sample = pd.read_sql_query('select * from DiaSource ORDER BY RANDOM() LIMIT 200;', connection)"
   ]
  },
  {
   "cell_type": "code",
   "execution_count": 9,
   "metadata": {},
   "outputs": [
    {
     "data": {
      "text/plain": [
       "0      25165824\n",
       "1      25168016\n",
       "2             0\n",
       "3           528\n",
       "4             0\n",
       "         ...   \n",
       "195    92274688\n",
       "196    25165824\n",
       "197    25165824\n",
       "198    92274688\n",
       "199    25165824\n",
       "Name: flags, Length: 200, dtype: int64"
      ]
     },
     "execution_count": 9,
     "metadata": {},
     "output_type": "execute_result"
    }
   ],
   "source": [
    "ds_sample.flags"
   ]
  },
  {
   "cell_type": "code",
   "execution_count": 10,
   "metadata": {},
   "outputs": [
    {
     "data": {
      "text/html": [
       "<div>\n",
       "<style scoped>\n",
       "    .dataframe tbody tr th:only-of-type {\n",
       "        vertical-align: middle;\n",
       "    }\n",
       "\n",
       "    .dataframe tbody tr th {\n",
       "        vertical-align: top;\n",
       "    }\n",
       "\n",
       "    .dataframe thead th {\n",
       "        text-align: right;\n",
       "    }\n",
       "</style>\n",
       "<table border=\"1\" class=\"dataframe\">\n",
       "  <thead>\n",
       "    <tr style=\"text-align: right;\">\n",
       "      <th></th>\n",
       "      <th>diaSourceId</th>\n",
       "      <th>ccdVisitId</th>\n",
       "      <th>diaObjectId</th>\n",
       "      <th>ssObjectId</th>\n",
       "      <th>parentDiaSourceId</th>\n",
       "      <th>prv_procOrder</th>\n",
       "      <th>ssObjectReassocTime</th>\n",
       "      <th>midPointTai</th>\n",
       "      <th>ra</th>\n",
       "      <th>raErr</th>\n",
       "      <th>...</th>\n",
       "      <th>extendedness</th>\n",
       "      <th>spuriousness</th>\n",
       "      <th>flags</th>\n",
       "      <th>pixelId</th>\n",
       "      <th>filterName</th>\n",
       "      <th>filterId</th>\n",
       "      <th>isDipole</th>\n",
       "      <th>bboxSize</th>\n",
       "      <th>ccd</th>\n",
       "      <th>visit</th>\n",
       "    </tr>\n",
       "  </thead>\n",
       "  <tbody>\n",
       "    <tr>\n",
       "      <th>0</th>\n",
       "      <td>88276356915276219</td>\n",
       "      <td>20553441</td>\n",
       "      <td>92827304262119010</td>\n",
       "      <td>0</td>\n",
       "      <td>0</td>\n",
       "      <td>0</td>\n",
       "      <td>None</td>\n",
       "      <td>56423.390868</td>\n",
       "      <td>270.723687</td>\n",
       "      <td>None</td>\n",
       "      <td>...</td>\n",
       "      <td>None</td>\n",
       "      <td>None</td>\n",
       "      <td>25165824</td>\n",
       "      <td>0</td>\n",
       "      <td>g</td>\n",
       "      <td>1</td>\n",
       "      <td>1</td>\n",
       "      <td>32</td>\n",
       "      <td>41</td>\n",
       "      <td>205534</td>\n",
       "    </tr>\n",
       "    <tr>\n",
       "      <th>1</th>\n",
       "      <td>92817730780013950</td>\n",
       "      <td>21610812</td>\n",
       "      <td>93217592235270232</td>\n",
       "      <td>0</td>\n",
       "      <td>0</td>\n",
       "      <td>0</td>\n",
       "      <td>None</td>\n",
       "      <td>56465.128832</td>\n",
       "      <td>273.017622</td>\n",
       "      <td>None</td>\n",
       "      <td>...</td>\n",
       "      <td>None</td>\n",
       "      <td>None</td>\n",
       "      <td>25168016</td>\n",
       "      <td>0</td>\n",
       "      <td>i</td>\n",
       "      <td>3</td>\n",
       "      <td>1</td>\n",
       "      <td>25</td>\n",
       "      <td>12</td>\n",
       "      <td>216108</td>\n",
       "    </tr>\n",
       "    <tr>\n",
       "      <th>2</th>\n",
       "      <td>90015676936244706</td>\n",
       "      <td>20958408</td>\n",
       "      <td>90015676936244706</td>\n",
       "      <td>0</td>\n",
       "      <td>0</td>\n",
       "      <td>0</td>\n",
       "      <td>None</td>\n",
       "      <td>56450.328788</td>\n",
       "      <td>270.245017</td>\n",
       "      <td>None</td>\n",
       "      <td>...</td>\n",
       "      <td>None</td>\n",
       "      <td>None</td>\n",
       "      <td>0</td>\n",
       "      <td>0</td>\n",
       "      <td>g</td>\n",
       "      <td>1</td>\n",
       "      <td>0</td>\n",
       "      <td>19</td>\n",
       "      <td>08</td>\n",
       "      <td>209584</td>\n",
       "    </tr>\n",
       "    <tr>\n",
       "      <th>3</th>\n",
       "      <td>95993197670439701</td>\n",
       "      <td>22350158</td>\n",
       "      <td>90466433753940927</td>\n",
       "      <td>0</td>\n",
       "      <td>0</td>\n",
       "      <td>0</td>\n",
       "      <td>None</td>\n",
       "      <td>56509.046253</td>\n",
       "      <td>270.972051</td>\n",
       "      <td>None</td>\n",
       "      <td>...</td>\n",
       "      <td>None</td>\n",
       "      <td>None</td>\n",
       "      <td>528</td>\n",
       "      <td>0</td>\n",
       "      <td>g</td>\n",
       "      <td>1</td>\n",
       "      <td>1</td>\n",
       "      <td>52</td>\n",
       "      <td>58</td>\n",
       "      <td>223501</td>\n",
       "    </tr>\n",
       "    <tr>\n",
       "      <th>4</th>\n",
       "      <td>90290657922402352</td>\n",
       "      <td>21022432</td>\n",
       "      <td>88260856378303551</td>\n",
       "      <td>0</td>\n",
       "      <td>0</td>\n",
       "      <td>0</td>\n",
       "      <td>None</td>\n",
       "      <td>56452.240531</td>\n",
       "      <td>271.230633</td>\n",
       "      <td>None</td>\n",
       "      <td>...</td>\n",
       "      <td>None</td>\n",
       "      <td>None</td>\n",
       "      <td>0</td>\n",
       "      <td>0</td>\n",
       "      <td>g</td>\n",
       "      <td>1</td>\n",
       "      <td>0</td>\n",
       "      <td>17</td>\n",
       "      <td>32</td>\n",
       "      <td>210224</td>\n",
       "    </tr>\n",
       "    <tr>\n",
       "      <th>...</th>\n",
       "      <td>...</td>\n",
       "      <td>...</td>\n",
       "      <td>...</td>\n",
       "      <td>...</td>\n",
       "      <td>...</td>\n",
       "      <td>...</td>\n",
       "      <td>...</td>\n",
       "      <td>...</td>\n",
       "      <td>...</td>\n",
       "      <td>...</td>\n",
       "      <td>...</td>\n",
       "      <td>...</td>\n",
       "      <td>...</td>\n",
       "      <td>...</td>\n",
       "      <td>...</td>\n",
       "      <td>...</td>\n",
       "      <td>...</td>\n",
       "      <td>...</td>\n",
       "      <td>...</td>\n",
       "      <td>...</td>\n",
       "      <td>...</td>\n",
       "    </tr>\n",
       "    <tr>\n",
       "      <th>195</th>\n",
       "      <td>90015797195319998</td>\n",
       "      <td>20958436</td>\n",
       "      <td>92827282787280508</td>\n",
       "      <td>0</td>\n",
       "      <td>0</td>\n",
       "      <td>0</td>\n",
       "      <td>None</td>\n",
       "      <td>56450.328788</td>\n",
       "      <td>271.155073</td>\n",
       "      <td>None</td>\n",
       "      <td>...</td>\n",
       "      <td>None</td>\n",
       "      <td>None</td>\n",
       "      <td>92274688</td>\n",
       "      <td>0</td>\n",
       "      <td>g</td>\n",
       "      <td>1</td>\n",
       "      <td>1</td>\n",
       "      <td>25</td>\n",
       "      <td>36</td>\n",
       "      <td>209584</td>\n",
       "    </tr>\n",
       "    <tr>\n",
       "      <th>196</th>\n",
       "      <td>88350578245117704</td>\n",
       "      <td>20570722</td>\n",
       "      <td>90120534267805463</td>\n",
       "      <td>0</td>\n",
       "      <td>0</td>\n",
       "      <td>0</td>\n",
       "      <td>None</td>\n",
       "      <td>56424.214049</td>\n",
       "      <td>271.082058</td>\n",
       "      <td>None</td>\n",
       "      <td>...</td>\n",
       "      <td>None</td>\n",
       "      <td>None</td>\n",
       "      <td>25165824</td>\n",
       "      <td>0</td>\n",
       "      <td>g</td>\n",
       "      <td>1</td>\n",
       "      <td>1</td>\n",
       "      <td>27</td>\n",
       "      <td>22</td>\n",
       "      <td>205707</td>\n",
       "    </tr>\n",
       "    <tr>\n",
       "      <th>197</th>\n",
       "      <td>88366491098954107</td>\n",
       "      <td>20574427</td>\n",
       "      <td>90453415708071479</td>\n",
       "      <td>0</td>\n",
       "      <td>0</td>\n",
       "      <td>0</td>\n",
       "      <td>None</td>\n",
       "      <td>56424.316057</td>\n",
       "      <td>272.026352</td>\n",
       "      <td>None</td>\n",
       "      <td>...</td>\n",
       "      <td>None</td>\n",
       "      <td>None</td>\n",
       "      <td>25165824</td>\n",
       "      <td>0</td>\n",
       "      <td>g</td>\n",
       "      <td>1</td>\n",
       "      <td>0</td>\n",
       "      <td>23</td>\n",
       "      <td>27</td>\n",
       "      <td>205744</td>\n",
       "    </tr>\n",
       "    <tr>\n",
       "      <th>198</th>\n",
       "      <td>90484330882663221</td>\n",
       "      <td>21067525</td>\n",
       "      <td>88231191039187852</td>\n",
       "      <td>0</td>\n",
       "      <td>0</td>\n",
       "      <td>0</td>\n",
       "      <td>None</td>\n",
       "      <td>56453.422234</td>\n",
       "      <td>271.348254</td>\n",
       "      <td>None</td>\n",
       "      <td>...</td>\n",
       "      <td>None</td>\n",
       "      <td>None</td>\n",
       "      <td>92274688</td>\n",
       "      <td>0</td>\n",
       "      <td>g</td>\n",
       "      <td>1</td>\n",
       "      <td>1</td>\n",
       "      <td>35</td>\n",
       "      <td>25</td>\n",
       "      <td>210675</td>\n",
       "    </tr>\n",
       "    <tr>\n",
       "      <th>199</th>\n",
       "      <td>90435484219616442</td>\n",
       "      <td>21056152</td>\n",
       "      <td>90453523082253219</td>\n",
       "      <td>0</td>\n",
       "      <td>0</td>\n",
       "      <td>0</td>\n",
       "      <td>None</td>\n",
       "      <td>56453.211399</td>\n",
       "      <td>272.083791</td>\n",
       "      <td>None</td>\n",
       "      <td>...</td>\n",
       "      <td>None</td>\n",
       "      <td>None</td>\n",
       "      <td>25165824</td>\n",
       "      <td>0</td>\n",
       "      <td>g</td>\n",
       "      <td>1</td>\n",
       "      <td>0</td>\n",
       "      <td>21</td>\n",
       "      <td>52</td>\n",
       "      <td>210561</td>\n",
       "    </tr>\n",
       "  </tbody>\n",
       "</table>\n",
       "<p>200 rows × 114 columns</p>\n",
       "</div>"
      ],
      "text/plain": [
       "           diaSourceId  ccdVisitId        diaObjectId  ssObjectId  \\\n",
       "0    88276356915276219    20553441  92827304262119010           0   \n",
       "1    92817730780013950    21610812  93217592235270232           0   \n",
       "2    90015676936244706    20958408  90015676936244706           0   \n",
       "3    95993197670439701    22350158  90466433753940927           0   \n",
       "4    90290657922402352    21022432  88260856378303551           0   \n",
       "..                 ...         ...                ...         ...   \n",
       "195  90015797195319998    20958436  92827282787280508           0   \n",
       "196  88350578245117704    20570722  90120534267805463           0   \n",
       "197  88366491098954107    20574427  90453415708071479           0   \n",
       "198  90484330882663221    21067525  88231191039187852           0   \n",
       "199  90435484219616442    21056152  90453523082253219           0   \n",
       "\n",
       "     parentDiaSourceId  prv_procOrder ssObjectReassocTime   midPointTai  \\\n",
       "0                    0              0                None  56423.390868   \n",
       "1                    0              0                None  56465.128832   \n",
       "2                    0              0                None  56450.328788   \n",
       "3                    0              0                None  56509.046253   \n",
       "4                    0              0                None  56452.240531   \n",
       "..                 ...            ...                 ...           ...   \n",
       "195                  0              0                None  56450.328788   \n",
       "196                  0              0                None  56424.214049   \n",
       "197                  0              0                None  56424.316057   \n",
       "198                  0              0                None  56453.422234   \n",
       "199                  0              0                None  56453.211399   \n",
       "\n",
       "             ra raErr  ...  extendedness spuriousness     flags  pixelId  \\\n",
       "0    270.723687  None  ...          None         None  25165824        0   \n",
       "1    273.017622  None  ...          None         None  25168016        0   \n",
       "2    270.245017  None  ...          None         None         0        0   \n",
       "3    270.972051  None  ...          None         None       528        0   \n",
       "4    271.230633  None  ...          None         None         0        0   \n",
       "..          ...   ...  ...           ...          ...       ...      ...   \n",
       "195  271.155073  None  ...          None         None  92274688        0   \n",
       "196  271.082058  None  ...          None         None  25165824        0   \n",
       "197  272.026352  None  ...          None         None  25165824        0   \n",
       "198  271.348254  None  ...          None         None  92274688        0   \n",
       "199  272.083791  None  ...          None         None  25165824        0   \n",
       "\n",
       "    filterName  filterId isDipole bboxSize  ccd   visit  \n",
       "0            g         1        1       32   41  205534  \n",
       "1            i         3        1       25   12  216108  \n",
       "2            g         1        0       19   08  209584  \n",
       "3            g         1        1       52   58  223501  \n",
       "4            g         1        0       17   32  210224  \n",
       "..         ...       ...      ...      ...  ...     ...  \n",
       "195          g         1        1       25   36  209584  \n",
       "196          g         1        1       27   22  205707  \n",
       "197          g         1        0       23   27  205744  \n",
       "198          g         1        1       35   25  210675  \n",
       "199          g         1        0       21   52  210561  \n",
       "\n",
       "[200 rows x 114 columns]"
      ]
     },
     "execution_count": 10,
     "metadata": {},
     "output_type": "execute_result"
    }
   ],
   "source": [
    "apdbPlots.addVisitCcdToSrcTable(ds_sample)"
   ]
  },
  {
   "cell_type": "markdown",
   "metadata": {},
   "source": [
    "## Get calexp, template, and difference cutouts for each source"
   ]
  },
  {
   "cell_type": "code",
   "execution_count": 11,
   "metadata": {},
   "outputs": [],
   "source": [
    "# @functools.lru_cache()\n",
    "# NOTE: dataId is a dict, which is not hashable thus not cacheable\n",
    "def get_images(dataId):\n",
    "    exposure = butler.get('calexp', dataId)\n",
    "    difference = butler.get('deepDiff_differenceExp', dataId)\n",
    "    template = butler.get('deepDiff_warpedExp', dataId)\n",
    "    return exposure, difference, template\n",
    "\n",
    "def get_cutouts(dataId, center, size=lsst.geom.Extent2I(30, 30)):\n",
    "    \"\"\"Return a cutout for this dataId at the given source location.\"\"\"\n",
    "    # TODO: We can make this a lot faster by loading the images for every \"ccd/visit\" combo,\n",
    "    # TODO: and then making the cutouts at each source that lies on that ccd.\n",
    "    exposure, difference, template = get_images(dataId)\n",
    "    return exposure.getCutout(center, size), difference.getCutout(center, size), template.getCutout(center, size)"
   ]
  },
  {
   "cell_type": "code",
   "execution_count": 12,
   "metadata": {},
   "outputs": [],
   "source": [
    "# an example dataId and center for playing with making a single image.\n",
    "i=50\n",
    "dataId={'ccd': int(ds_sample['ccd'][i]), 'visit': int(ds_sample['visit'][i])}\n",
    "center=lsst.geom.SpherePoint(ds_sample['ra'][i], ds_sample['decl'][i], lsst.geom.degrees)\n",
    "exposure, difference, template = get_cutouts(dataId, center)"
   ]
  },
  {
   "cell_type": "markdown",
   "metadata": {},
   "source": [
    "## Plot the images"
   ]
  },
  {
   "cell_type": "code",
   "execution_count": 13,
   "metadata": {},
   "outputs": [],
   "source": [
    "def plot_cutout(science, difference, template, output=None):\n",
    "    \"\"\"Plot the cutouts for a source in one image.\n",
    "    \"\"\"\n",
    "    Qst=15 #Q for Science and Template\n",
    "    sst=4 #Stretch for Science and Template\n",
    "    Qd=5 #Q for Difference\n",
    "    sd=50 #Stretch for Difference\n",
    "    asinst=0.01\n",
    "    asind=0.7\n",
    "\n",
    "    def do_one(ax, data, name):\n",
    "        interval = aviz.ZScaleInterval()\n",
    "\n",
    "        if name == 'Difference':\n",
    "            norm = aviz.ImageNormalize(data,  stretch=aviz.LinearStretch())\n",
    "        else:\n",
    "            norm = aviz.ImageNormalize(data, interval=interval, stretch=aviz.AsinhStretch(a=0.01))\n",
    "        ax.imshow(data, cmap=cm.bone, interpolation=\"none\")\n",
    "        ax.axis('off')\n",
    "        ax.set_title(name)\n",
    "\n",
    "    f, (ax1, ax2, ax3) = plt.subplots(1, 3)\n",
    "    do_one(ax1, template.image.array, \"Template\")\n",
    "    do_one(ax2, science.image.array, \"Science\")\n",
    "    do_one(ax3, difference.image.array, \"Difference\")\n",
    "    plt.tight_layout()\n",
    "\n",
    "    if output is not None:\n",
    "        plt.savefig(output, bbox_inches=\"tight\")\n",
    "        plt.close()"
   ]
  },
  {
   "cell_type": "code",
   "execution_count": 14,
   "metadata": {},
   "outputs": [
    {
     "data": {
      "image/png": "[encoded data removed]",
      "text/plain": [
       "<Figure size 432x288 with 3 Axes>"
      ]
     },
     "metadata": {
      "needs_background": "light"
     },
     "output_type": "display_data"
    }
   ],
   "source": [
    "plot_cutout(exposure, difference, template)"
   ]
  },
  {
   "cell_type": "markdown",
   "metadata": {},
   "source": [
    "## Generate manifest information for upload to Zooniverse"
   ]
  },
  {
   "cell_type": "code",
   "execution_count": 15,
   "metadata": {},
   "outputs": [],
   "source": [
    "def make_manifest(data, url_root):\n",
    "    output = pd.DataFrame([])\n",
    "    output['external_id'] = data['diaSourceId']\n",
    "    output['location:1'] = ds_sample.apply(lambda x: f\"{url_root}{x['diaSourceId']}.png\", axis=1)\n",
    "    output['metadata:diaSourceId'] = data['diaSourceId']\n",
    "    return output"
   ]
  },
  {
   "cell_type": "markdown",
   "metadata": {},
   "source": [
    "## Make plots for every source"
   ]
  },
  {
   "cell_type": "code",
   "execution_count": 16,
   "metadata": {},
   "outputs": [],
   "source": [
    "# TODO: as currently written, this is going to be *very* slow because it re-loads the images for every source.\n",
    "for index,source in ds_sample.iterrows():\n",
    "    center = lsst.geom.SpherePoint(source['ra'], source['decl'], lsst.geom.degrees)\n",
    "    dataId = {'ccd': int(source['ccd']), 'visit': int(source['visit'])}\n",
    "    exposure, difference, template = get_cutouts(dataId, center)\n",
    "    filename = f\"{source['diaSourceId']}.png\"\n",
    "    plot_cutout(exposure, difference, template, output=f\"{output_path}{filename}\")"
   ]
  },
  {
   "cell_type": "markdown",
   "metadata": {},
   "source": [
    "## Submit data to Panoptes"
   ]
  },
  {
   "cell_type": "code",
   "execution_count": 38,
   "metadata": {},
   "outputs": [
    {
     "data": {
      "text/plain": [
       "'true'"
      ]
     },
     "execution_count": 38,
     "metadata": {},
     "output_type": "execute_result"
    }
   ],
   "source": [
    "import panoptes_client\n",
    "import sys,os,os.path,logging,json\n",
    "# Add panoptes API client debugging to Stderr\n",
    "os.environ['PANOPTES_DEBUG'] = 'true'\n",
    "os.environ['PANOPTES_DEBUG']"
   ]
  },
  {
   "cell_type": "code",
   "execution_count": 39,
   "metadata": {},
   "outputs": [],
   "source": [
    "# Get access to the API client logs\n",
    "logger = logging.getLogger()\n",
    "logger.setLevel(logging.DEBUG)\n",
    "\n",
    "# Create STDERR handler\n",
    "handler = logging.StreamHandler(sys.stderr)\n",
    "\n",
    "# Create formatter and add it to the handler\n",
    "formatter = logging.Formatter('%(name)s - %(levelname)s - %(message)s')\n",
    "handler.setFormatter(formatter)\n",
    "\n",
    "# Set STDERR handler as the only handler \n",
    "logger.handlers = [handler]"
   ]
  },
  {
   "cell_type": "code",
   "execution_count": 17,
   "metadata": {},
   "outputs": [],
   "source": [
    "manifest = make_manifest(ds_sample, url_root)\n",
    "manifest.to_csv(os.path.join(output_path, \"manifest.csv\"), index=False)"
   ]
  },
  {
   "cell_type": "code",
   "execution_count": 18,
   "metadata": {},
   "outputs": [
    {
     "name": "stdout",
     "output_type": "stream",
     "text": [
      "Enter your Zooniverse credentials...\n"
     ]
    },
    {
     "name": "stdin",
     "output_type": "stream",
     "text": [
      "Username:  ebellm\n",
      " ······························\n"
     ]
    }
   ],
   "source": [
    "client = panoptes_client.Panoptes.connect(login=\"interactive\")"
   ]
  },
  {
   "cell_type": "code",
   "execution_count": 45,
   "metadata": {},
   "outputs": [
    {
     "name": "stderr",
     "output_type": "stream",
     "text": [
      "panoptes_client - DEBUG - params={'slug': 'ebellm/alert-production-zoo'}\n",
      "redo - DEBUG - attempt 1/5\n",
      "urllib3.connectionpool - DEBUG - https://www.zooniverse.org:443 \"GET /api/projects?slug=ebellm%2Falert-production-zoo HTTP/1.1\" 200 None\n"
     ]
    }
   ],
   "source": [
    "project = panoptes_client.Project.find(slug='ebellm/alert-production-zoo')"
   ]
  },
  {
   "cell_type": "code",
   "execution_count": 46,
   "metadata": {},
   "outputs": [
    {
     "data": {
      "text/plain": [
       "'11152'"
      ]
     },
     "execution_count": 46,
     "metadata": {},
     "output_type": "execute_result"
    }
   ],
   "source": [
    "project.id"
   ]
  },
  {
   "cell_type": "code",
   "execution_count": 47,
   "metadata": {},
   "outputs": [
    {
     "name": "stderr",
     "output_type": "stream",
     "text": [
      "redo - DEBUG - attempt 1/5\n",
      "urllib3.connectionpool - DEBUG - https://www.zooniverse.org:443 \"GET /api/subject_sets/80863 HTTP/1.1\" 200 None\n",
      "redo - DEBUG - attempt 1/5\n",
      "urllib3.connectionpool - DEBUG - https://www.zooniverse.org:443 \"GET /api/subject_sets/81026 HTTP/1.1\" 200 None\n",
      "redo - DEBUG - attempt 1/5\n",
      "urllib3.connectionpool - DEBUG - https://www.zooniverse.org:443 \"GET /api/subject_sets/92664 HTTP/1.1\" 200 None\n"
     ]
    },
    {
     "name": "stdout",
     "output_type": "stream",
     "text": [
      "[('80863', 'HiTS'), ('81026', 'HSC-COSMOS'), ('92664', 'saha')]\n"
     ]
    }
   ],
   "source": [
    "print([(ss.id, ss.display_name) for ss in project.links.subject_sets])"
   ]
  },
  {
   "cell_type": "code",
   "execution_count": 48,
   "metadata": {},
   "outputs": [
    {
     "name": "stderr",
     "output_type": "stream",
     "text": [
      "panoptes_client - DEBUG - json={'subject_sets': {'display_name': 'saha2', 'links': {'project': '11152'}}}\n",
      "redo - DEBUG - attempt 1/1\n",
      "urllib3.connectionpool - DEBUG - Resetting dropped connection: www.zooniverse.org\n",
      "urllib3.connectionpool - DEBUG - https://www.zooniverse.org:443 \"POST /api/subject_sets HTTP/1.1\" 201 None\n",
      "panoptes_client - DEBUG - params={'slug': None}\n",
      "redo - DEBUG - attempt 1/5\n",
      "urllib3.connectionpool - DEBUG - https://www.zooniverse.org:443 \"GET /api/projects/11152 HTTP/1.1\" 200 None\n"
     ]
    }
   ],
   "source": [
    "# make a new subject set\n",
    "subject_set = panoptes_client.SubjectSet()\n",
    "\n",
    "subject_set.links.project = project\n",
    "subject_set.display_name = 'saha2'\n",
    "\n",
    "subject_set.save()\n",
    "project.reload()"
   ]
  },
  {
   "cell_type": "code",
   "execution_count": 23,
   "metadata": {},
   "outputs": [],
   "source": [
    "#subject_set = panoptes_client.SubjectSet.find(90418)\n"
   ]
  },
  {
   "cell_type": "code",
   "execution_count": 31,
   "metadata": {},
   "outputs": [
    {
     "data": {
      "text/plain": [
       "'https://www.zooniverse.org'"
      ]
     },
     "execution_count": 31,
     "metadata": {},
     "output_type": "execute_result"
    }
   ],
   "source": [
    "# ensure we're using the the secure HTTPS protocol (not HTTP)\n",
    "client.endpoint"
   ]
  },
  {
   "cell_type": "code",
   "execution_count": 49,
   "metadata": {},
   "outputs": [
    {
     "data": {
      "text/plain": [
       "'{\"subject_set_imports\": {\"source_url\": \"https://lsst.ncsa.illinois.edu/~ebellm/zooniverse/manifest.csv\", \"links\": {\"subject_set\": \"92666\"}}}'"
      ]
     },
     "execution_count": 49,
     "metadata": {},
     "output_type": "execute_result"
    }
   ],
   "source": [
    "payload_dict = {\"subject_set_imports\": {\"source_url\": f\"{url_root}manifest.csv\", \"links\": {\"subject_set\": subject_set.id}}}\n",
    "\n",
    "json.dumps(payload_dict)"
   ]
  },
  {
   "cell_type": "code",
   "execution_count": 50,
   "metadata": {},
   "outputs": [
    {
     "name": "stderr",
     "output_type": "stream",
     "text": [
      "panoptes_client - DEBUG - json={'subject_set_imports': {'source_url': 'https://lsst.ncsa.illinois.edu/~ebellm/zooniverse/manifest.csv', 'links': {'subject_set': '92666'}}}\n",
      "redo - DEBUG - attempt 1/1\n",
      "urllib3.connectionpool - DEBUG - https://www.zooniverse.org:443 \"POST /api/subject_set_imports HTTP/1.1\" 201 None\n"
     ]
    }
   ],
   "source": [
    "# request the import via the API client (custom path as this isn't an exposed resource in the client)\n",
    "# this should be added to the Zooniverse python client / cli tools to improve the user experience\n",
    "# https://github.com/zooniverse/panoptes-python-client/issues/255\n",
    "json_response, etag = client.post(path='/subject_set_imports', json=payload_dict)"
   ]
  },
  {
   "cell_type": "code",
   "execution_count": 51,
   "metadata": {},
   "outputs": [
    {
     "data": {
      "text/plain": [
       "{'subject_set_imports': [{'id': '6',\n",
       "   'href': '/subject_set_imports/6',\n",
       "   'created_at': '2021-02-25T22:46:42.594Z',\n",
       "   'updated_at': '2021-02-25T22:46:42.594Z',\n",
       "   'source_url': 'https://lsst.ncsa.illinois.edu/~ebellm/zooniverse/manifest.csv',\n",
       "   'links': {'subject_set': '92666', 'user': '1649740'}}],\n",
       " 'links': {'subject_set_imports.subject_set': {'href': '/subject_sets/{subject_set_imports.subject_set}',\n",
       "   'type': 'subject_sets'},\n",
       "  'subject_set_imports.user': {'href': '/users/{subject_set_imports.user}',\n",
       "   'type': 'users'}},\n",
       " 'meta': {'subject_set_imports': {'page': 1,\n",
       "   'page_size': 20,\n",
       "   'count': 1,\n",
       "   'include': [],\n",
       "   'page_count': 1,\n",
       "   'previous_page': None,\n",
       "   'next_page': None,\n",
       "   'first_href': '/subject_set_imports',\n",
       "   'previous_href': None,\n",
       "   'next_href': None,\n",
       "   'last_href': '/subject_set_imports'}}}"
      ]
     },
     "execution_count": 51,
     "metadata": {},
     "output_type": "execute_result"
    }
   ],
   "source": [
    "json_response"
   ]
  },
  {
   "cell_type": "code",
   "execution_count": 52,
   "metadata": {},
   "outputs": [
    {
     "name": "stderr",
     "output_type": "stream",
     "text": [
      "redo - DEBUG - attempt 1/1\n",
      "urllib3.connectionpool - DEBUG - https://www.zooniverse.org:443 \"GET /api/subject_set_imports/6 HTTP/1.1\" 200 None\n"
     ]
    }
   ],
   "source": [
    "subject_set_imports_path = '/subject_set_imports/{}'.format(json_response['subject_set_imports'][0]['id'])\n",
    "json_response, etag = client.get(path=subject_set_imports_path)"
   ]
  },
  {
   "cell_type": "code",
   "execution_count": 53,
   "metadata": {},
   "outputs": [
    {
     "data": {
      "text/plain": [
       "{'subject_set_imports': [{'id': '6',\n",
       "   'href': '/subject_set_imports/6',\n",
       "   'created_at': '2021-02-25T22:46:42.594Z',\n",
       "   'updated_at': '2021-02-25T22:46:42.594Z',\n",
       "   'source_url': 'https://lsst.ncsa.illinois.edu/~ebellm/zooniverse/manifest.csv',\n",
       "   'links': {'subject_set': '92666', 'user': '1649740'}}],\n",
       " 'links': {'subject_set_imports.subject_set': {'href': '/subject_sets/{subject_set_imports.subject_set}',\n",
       "   'type': 'subject_sets'},\n",
       "  'subject_set_imports.user': {'href': '/users/{subject_set_imports.user}',\n",
       "   'type': 'users'}},\n",
       " 'meta': {'subject_set_imports': {'page': 1,\n",
       "   'page_size': 20,\n",
       "   'count': 1,\n",
       "   'include': [],\n",
       "   'page_count': 1,\n",
       "   'previous_page': None,\n",
       "   'next_page': None,\n",
       "   'first_href': '/subject_set_imports?id=6',\n",
       "   'previous_href': None,\n",
       "   'next_href': None,\n",
       "   'last_href': '/subject_set_imports?id=6'}}}"
      ]
     },
     "execution_count": 53,
     "metadata": {},
     "output_type": "execute_result"
    }
   ],
   "source": [
    "json_response"
   ]
  }
 ],
 "metadata": {
  "kernelspec": {
   "display_name": "LSST",
   "language": "python",
   "name": "lsst"
  },
  "language_info": {
   "codemirror_mode": {
    "name": "ipython",
    "version": 3
   },
   "file_extension": ".py",
   "mimetype": "text/x-python",
   "name": "python",
   "nbconvert_exporter": "python",
   "pygments_lexer": "ipython3",
   "version": "3.8.6"
  }
 },
 "nbformat": 4,
 "nbformat_minor": 4
}
