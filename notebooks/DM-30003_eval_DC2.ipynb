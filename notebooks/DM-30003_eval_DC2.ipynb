{
 "cells": [
  {
   "cell_type": "markdown",
   "id": "3fcda164",
   "metadata": {},
   "source": [
    "# DM-30003: Run AP pipeline on the DC2 dataset"
   ]
  },
  {
   "cell_type": "markdown",
   "id": "40c370be",
   "metadata": {},
   "source": [
    "### Run the latest AP pipeline on the DC2 dataset end-to-end. For now, run tracts 3828 and 3829 only."
   ]
  },
  {
   "cell_type": "code",
   "execution_count": 1,
   "id": "f7cdfb62",
   "metadata": {},
   "outputs": [],
   "source": [
    "#%matplotlib notebook\n",
    "import os\n",
    "import sys\n",
    "import numpy as np\n",
    "import matplotlib.pyplot as plt\n",
    "import importlib\n",
    "import pandas as pd\n",
    "from types import SimpleNamespace\n",
    "\n",
    "import IPython\n",
    "\n",
    "from IPython.display import IFrame\n",
    "from astropy.coordinates import SkyCoord\n",
    "import astropy.units as u\n",
    "from astropy.visualization import (ZScaleInterval, SqrtStretch, ImageNormalize)\n",
    "\n",
    "import lsst.geom\n",
    "import lsst.daf.butler as dafButler\n",
    "from lsst.ap.association import UnpackApdbFlags\n",
    "from lsst.obs.decam import DarkEnergyCamera\n",
    "from lsst.pipe.base import Struct"
   ]
  },
  {
   "cell_type": "code",
   "execution_count": 2,
   "id": "f37b5933",
   "metadata": {},
   "outputs": [],
   "source": [
    "sys.path.append('/project/mrawls/ap_pipe-notebooks/')\n",
    "#sys.path.append('/project/kherner/diffim_sprint_2021-02/notebooks-DM-28935/ap_pipe-notebooks/')\n",
    "import diaObjectAnalysis as doa\n",
    "import apdbPlots as pla\n",
    "import plotLightcurve as plc\n",
    "import coaddAnalysis as coa"
   ]
  },
  {
   "cell_type": "code",
   "execution_count": null,
   "id": "f8e66be0",
   "metadata": {},
   "outputs": [],
   "source": [
    "# Only if you change anything in the code imported above\n",
    "importlib.reload(doa)\n",
    "importlib.reload(pla)\n",
    "importlib.reload(plc)\n",
    "importlib.reload(coa)"
   ]
  },
  {
   "cell_type": "code",
   "execution_count": 3,
   "id": "aca680db",
   "metadata": {},
   "outputs": [],
   "source": [
    "repo = '/repo/dc2'\n",
    "butler = dafButler.Butler(repo)"
   ]
  },
  {
   "cell_type": "code",
   "execution_count": 10,
   "id": "5fc99307",
   "metadata": {},
   "outputs": [],
   "source": [
    "collection = 'u/kherner/2.2i/runs/test-med-1/w_2021_22/ApPipe_DM-30003-test-tracts3828-3829'\n",
    "default_2tracts = SimpleNamespace(collection = collection,\n",
    "                                  apdb = 'lsstdevapdb1')\n",
    "tract = 3829\n",
    "mydataID = {\"instrument\":\"LSSTCam-imSim\", \"tract\":tract, \"skymap\":\"DC2\"}"
   ]
  },
  {
   "cell_type": "code",
   "execution_count": 10,
   "id": "d31b0019",
   "metadata": {},
   "outputs": [
    {
     "ename": "LookupError",
     "evalue": "Dataset goodSeeingDiff_differenceExp with data ID {instrument: 'LSSTCam-imSim', detector: 10, visit: 12345} could not be found in collections u/kherner/2.2i/runs/test-med-1/w_2021_22/ApPipe_DM-30003-test-tracts3828-3829.",
     "output_type": "error",
     "traceback": [
      "\u001b[0;31m---------------------------------------------------------------------------\u001b[0m",
      "\u001b[0;31mLookupError\u001b[0m                               Traceback (most recent call last)",
      "\u001b[0;32m<ipython-input-10-8e578d735123>\u001b[0m in \u001b[0;36m<module>\u001b[0;34m\u001b[0m\n\u001b[1;32m      1\u001b[0m \u001b[0mmydet\u001b[0m \u001b[0;34m=\u001b[0m \u001b[0;36m10\u001b[0m\u001b[0;34m\u001b[0m\u001b[0;34m\u001b[0m\u001b[0m\n\u001b[1;32m      2\u001b[0m \u001b[0mmyvisit\u001b[0m \u001b[0;34m=\u001b[0m \u001b[0;36m12345\u001b[0m \u001b[0;31m# get a real number!\u001b[0m\u001b[0;34m\u001b[0m\u001b[0;34m\u001b[0m\u001b[0m\n\u001b[0;32m----> 3\u001b[0;31m diffim = butler.get('goodSeeingDiff_differenceExp', instrument='LSSTCam-imSim',\n\u001b[0m\u001b[1;32m      4\u001b[0m                     \u001b[0mdataId\u001b[0m\u001b[0;34m=\u001b[0m\u001b[0mmydataID\u001b[0m\u001b[0;34m,\u001b[0m \u001b[0mvisit\u001b[0m\u001b[0;34m=\u001b[0m\u001b[0mmyvisit\u001b[0m\u001b[0;34m,\u001b[0m\u001b[0;34m\u001b[0m\u001b[0;34m\u001b[0m\u001b[0m\n\u001b[1;32m      5\u001b[0m                     detector=mydet, collections=collection)\n",
      "\u001b[0;32m/opt/lsst/software/stack/stack/miniconda3-py38_4.9.2-0.6.0/Linux64/daf_butler/21.0.0-94-ge64b597f+7b9a448d34/python/lsst/daf/butler/_butler.py\u001b[0m in \u001b[0;36mget\u001b[0;34m(self, datasetRefOrType, dataId, parameters, collections, **kwds)\u001b[0m\n\u001b[1;32m   1015\u001b[0m         \"\"\"\n\u001b[1;32m   1016\u001b[0m         \u001b[0mlog\u001b[0m\u001b[0;34m.\u001b[0m\u001b[0mdebug\u001b[0m\u001b[0;34m(\u001b[0m\u001b[0;34m\"Butler get: %s, dataId=%s, parameters=%s\"\u001b[0m\u001b[0;34m,\u001b[0m \u001b[0mdatasetRefOrType\u001b[0m\u001b[0;34m,\u001b[0m \u001b[0mdataId\u001b[0m\u001b[0;34m,\u001b[0m \u001b[0mparameters\u001b[0m\u001b[0;34m)\u001b[0m\u001b[0;34m\u001b[0m\u001b[0;34m\u001b[0m\u001b[0m\n\u001b[0;32m-> 1017\u001b[0;31m         \u001b[0mref\u001b[0m \u001b[0;34m=\u001b[0m \u001b[0mself\u001b[0m\u001b[0;34m.\u001b[0m\u001b[0m_findDatasetRef\u001b[0m\u001b[0;34m(\u001b[0m\u001b[0mdatasetRefOrType\u001b[0m\u001b[0;34m,\u001b[0m \u001b[0mdataId\u001b[0m\u001b[0;34m,\u001b[0m \u001b[0mcollections\u001b[0m\u001b[0;34m=\u001b[0m\u001b[0mcollections\u001b[0m\u001b[0;34m,\u001b[0m \u001b[0;34m**\u001b[0m\u001b[0mkwds\u001b[0m\u001b[0;34m)\u001b[0m\u001b[0;34m\u001b[0m\u001b[0;34m\u001b[0m\u001b[0m\n\u001b[0m\u001b[1;32m   1018\u001b[0m         \u001b[0;32mreturn\u001b[0m \u001b[0mself\u001b[0m\u001b[0;34m.\u001b[0m\u001b[0mgetDirect\u001b[0m\u001b[0;34m(\u001b[0m\u001b[0mref\u001b[0m\u001b[0;34m,\u001b[0m \u001b[0mparameters\u001b[0m\u001b[0;34m=\u001b[0m\u001b[0mparameters\u001b[0m\u001b[0;34m)\u001b[0m\u001b[0;34m\u001b[0m\u001b[0;34m\u001b[0m\u001b[0m\n\u001b[1;32m   1019\u001b[0m \u001b[0;34m\u001b[0m\u001b[0m\n",
      "\u001b[0;32m/opt/lsst/software/stack/stack/miniconda3-py38_4.9.2-0.6.0/Linux64/daf_butler/21.0.0-94-ge64b597f+7b9a448d34/python/lsst/daf/butler/_butler.py\u001b[0m in \u001b[0;36m_findDatasetRef\u001b[0;34m(self, datasetRefOrType, dataId, collections, allowUnresolved, **kwds)\u001b[0m\n\u001b[1;32m    801\u001b[0m                 \u001b[0;32mif\u001b[0m \u001b[0mcollections\u001b[0m \u001b[0;32mis\u001b[0m \u001b[0;32mNone\u001b[0m\u001b[0;34m:\u001b[0m\u001b[0;34m\u001b[0m\u001b[0;34m\u001b[0m\u001b[0m\n\u001b[1;32m    802\u001b[0m                     \u001b[0mcollections\u001b[0m \u001b[0;34m=\u001b[0m \u001b[0mself\u001b[0m\u001b[0;34m.\u001b[0m\u001b[0mregistry\u001b[0m\u001b[0;34m.\u001b[0m\u001b[0mdefaults\u001b[0m\u001b[0;34m.\u001b[0m\u001b[0mcollections\u001b[0m\u001b[0;34m\u001b[0m\u001b[0;34m\u001b[0m\u001b[0m\n\u001b[0;32m--> 803\u001b[0;31m                 raise LookupError(f\"Dataset {datasetType.name} with data ID {dataId} \"\n\u001b[0m\u001b[1;32m    804\u001b[0m                                   f\"could not be found in collections {collections}.\")\n\u001b[1;32m    805\u001b[0m         \u001b[0;32mif\u001b[0m \u001b[0midNumber\u001b[0m \u001b[0;32mis\u001b[0m \u001b[0;32mnot\u001b[0m \u001b[0;32mNone\u001b[0m \u001b[0;32mand\u001b[0m \u001b[0midNumber\u001b[0m \u001b[0;34m!=\u001b[0m \u001b[0mref\u001b[0m\u001b[0;34m.\u001b[0m\u001b[0mid\u001b[0m\u001b[0;34m:\u001b[0m\u001b[0;34m\u001b[0m\u001b[0;34m\u001b[0m\u001b[0m\n",
      "\u001b[0;31mLookupError\u001b[0m: Dataset goodSeeingDiff_differenceExp with data ID {instrument: 'LSSTCam-imSim', detector: 10, visit: 12345} could not be found in collections u/kherner/2.2i/runs/test-med-1/w_2021_22/ApPipe_DM-30003-test-tracts3828-3829."
     ]
    }
   ],
   "source": [
    "mydet = 10\n",
    "myvisit = 12345 # get a real number!\n",
    "diffim = butler.get('goodSeeingDiff_differenceExp', instrument='LSSTCam-imSim',\n",
    "                    dataId=mydataID, visit=myvisit,\n",
    "                    detector=mydet, collections=collection)"
   ]
  },
  {
   "cell_type": "code",
   "execution_count": 5,
   "id": "cc18bd00",
   "metadata": {},
   "outputs": [],
   "source": [
    "badFlagList = ['base_PixelFlags_flag_bad',\n",
    "               'base_PixelFlags_flag_suspect',\n",
    "               'base_PixelFlags_flag_saturatedCenter',\n",
    "               'base_PixelFlags_flag_interpolated',\n",
    "               'base_PixelFlags_flag_interpolatedCenter',\n",
    "               'base_PixelFlags_flag_edge',\n",
    "              ]"
   ]
  },
  {
   "cell_type": "code",
   "execution_count": 11,
   "id": "2af39153",
   "metadata": {},
   "outputs": [
    {
     "ename": "OperationalError",
     "evalue": "fe_sendauth: no password supplied\n",
     "output_type": "error",
     "traceback": [
      "\u001b[0;31m---------------------------------------------------------------------------\u001b[0m",
      "\u001b[0;31mOperationalError\u001b[0m                          Traceback (most recent call last)",
      "\u001b[0;32m<ipython-input-11-093c25c91b81>\u001b[0m in \u001b[0;36m<module>\u001b[0;34m\u001b[0m\n\u001b[0;32m----> 1\u001b[0;31m objTable, srcTable, goodObj, goodSrc = pla.loadTables(repo, dbType='postgres',\n\u001b[0m\u001b[1;32m      2\u001b[0m                                                       \u001b[0mdbName\u001b[0m\u001b[0;34m=\u001b[0m\u001b[0;34m'lsstdevapdb1'\u001b[0m\u001b[0;34m,\u001b[0m\u001b[0;34m\u001b[0m\u001b[0;34m\u001b[0m\u001b[0m\n\u001b[1;32m      3\u001b[0m                                                       \u001b[0mschema\u001b[0m\u001b[0;34m=\u001b[0m\u001b[0;34m'kherner'\u001b[0m\u001b[0;34m,\u001b[0m\u001b[0;34m\u001b[0m\u001b[0;34m\u001b[0m\u001b[0m\n\u001b[1;32m      4\u001b[0m                                                       \u001b[0mgen\u001b[0m\u001b[0;34m=\u001b[0m\u001b[0;34m'gen3'\u001b[0m\u001b[0;34m,\u001b[0m \u001b[0minstrument\u001b[0m\u001b[0;34m=\u001b[0m\u001b[0;34m'LSSTCam-imSim'\u001b[0m\u001b[0;34m,\u001b[0m\u001b[0;34m\u001b[0m\u001b[0;34m\u001b[0m\u001b[0m\n\u001b[1;32m      5\u001b[0m                                                       \u001b[0mbadFlagList\u001b[0m\u001b[0;34m=\u001b[0m\u001b[0mbadFlagList\u001b[0m\u001b[0;34m\u001b[0m\u001b[0;34m\u001b[0m\u001b[0m\n",
      "\u001b[0;32m/project/mrawls/ap_pipe-notebooks/apdbPlots.py\u001b[0m in \u001b[0;36mloadTables\u001b[0;34m(repo, dbName, isVerify, dbType, badFlagList, instrument, gen, schema)\u001b[0m\n\u001b[1;32m    443\u001b[0m         \u001b[0mbutler\u001b[0m \u001b[0;34m=\u001b[0m \u001b[0;32mNone\u001b[0m\u001b[0;34m\u001b[0m\u001b[0;34m\u001b[0m\u001b[0m\n\u001b[1;32m    444\u001b[0m \u001b[0;34m\u001b[0m\u001b[0m\n\u001b[0;32m--> 445\u001b[0;31m     \u001b[0mobjTable\u001b[0m \u001b[0;34m=\u001b[0m \u001b[0mloadAllApdbObjects\u001b[0m\u001b[0;34m(\u001b[0m\u001b[0mdbPath\u001b[0m\u001b[0;34m,\u001b[0m \u001b[0mdbType\u001b[0m\u001b[0;34m=\u001b[0m\u001b[0mdbType\u001b[0m\u001b[0;34m,\u001b[0m \u001b[0mschema\u001b[0m\u001b[0;34m=\u001b[0m\u001b[0mschema\u001b[0m\u001b[0;34m)\u001b[0m\u001b[0;34m\u001b[0m\u001b[0;34m\u001b[0m\u001b[0m\n\u001b[0m\u001b[1;32m    446\u001b[0m     \u001b[0msrcTable\u001b[0m \u001b[0;34m=\u001b[0m \u001b[0mloadAllApdbSources\u001b[0m\u001b[0;34m(\u001b[0m\u001b[0mdbPath\u001b[0m\u001b[0;34m,\u001b[0m \u001b[0mdbType\u001b[0m\u001b[0;34m=\u001b[0m\u001b[0mdbType\u001b[0m\u001b[0;34m,\u001b[0m \u001b[0mschema\u001b[0m\u001b[0;34m=\u001b[0m\u001b[0mschema\u001b[0m\u001b[0;34m)\u001b[0m\u001b[0;34m\u001b[0m\u001b[0;34m\u001b[0m\u001b[0m\n\u001b[1;32m    447\u001b[0m     \u001b[0msrcTable\u001b[0m \u001b[0;34m=\u001b[0m \u001b[0maddVisitCcdToSrcTable\u001b[0m\u001b[0;34m(\u001b[0m\u001b[0msrcTable\u001b[0m\u001b[0;34m,\u001b[0m \u001b[0minstrument\u001b[0m\u001b[0;34m=\u001b[0m\u001b[0minstrument\u001b[0m\u001b[0;34m,\u001b[0m \u001b[0mgen\u001b[0m\u001b[0;34m=\u001b[0m\u001b[0mgen\u001b[0m\u001b[0;34m,\u001b[0m \u001b[0mbutler\u001b[0m\u001b[0;34m=\u001b[0m\u001b[0mbutler\u001b[0m\u001b[0;34m)\u001b[0m\u001b[0;34m\u001b[0m\u001b[0;34m\u001b[0m\u001b[0m\n",
      "\u001b[0;32m/project/mrawls/ap_pipe-notebooks/diaObjectAnalysis.py\u001b[0m in \u001b[0;36mloadAllApdbObjects\u001b[0;34m(dbName, dbType, schema)\u001b[0m\n\u001b[1;32m    110\u001b[0m         \u001b[0mColumns\u001b[0m \u001b[0mselected\u001b[0m \u001b[0mare\u001b[0m \u001b[0mpresently\u001b[0m \u001b[0mhard\u001b[0m\u001b[0;34m-\u001b[0m\u001b[0mwired\u001b[0m \u001b[0mhere\u001b[0m\u001b[0;34m.\u001b[0m\u001b[0;34m\u001b[0m\u001b[0;34m\u001b[0m\u001b[0m\n\u001b[1;32m    111\u001b[0m     \"\"\"\n\u001b[0;32m--> 112\u001b[0;31m     \u001b[0mconnection\u001b[0m\u001b[0;34m,\u001b[0m \u001b[0mtables\u001b[0m \u001b[0;34m=\u001b[0m \u001b[0mconnectToApdb\u001b[0m\u001b[0;34m(\u001b[0m\u001b[0mdbName\u001b[0m\u001b[0;34m,\u001b[0m \u001b[0mdbType\u001b[0m\u001b[0;34m,\u001b[0m \u001b[0mschema\u001b[0m\u001b[0;34m)\u001b[0m\u001b[0;34m\u001b[0m\u001b[0;34m\u001b[0m\u001b[0m\n\u001b[0m\u001b[1;32m    113\u001b[0m \u001b[0;34m\u001b[0m\u001b[0m\n\u001b[1;32m    114\u001b[0m     \u001b[0;31m# Only get objects with validityEnd NULL because that means they are still valid\u001b[0m\u001b[0;34m\u001b[0m\u001b[0;34m\u001b[0m\u001b[0;34m\u001b[0m\u001b[0m\n",
      "\u001b[0;32m/project/mrawls/ap_pipe-notebooks/diaObjectAnalysis.py\u001b[0m in \u001b[0;36mconnectToApdb\u001b[0;34m(dbName, dbType, schema)\u001b[0m\n\u001b[1;32m     77\u001b[0m             \u001b[0;32mraise\u001b[0m \u001b[0mRuntimeError\u001b[0m\u001b[0;34m(\u001b[0m\u001b[0;34m'Schema must be set for postgres APDB'\u001b[0m\u001b[0;34m)\u001b[0m\u001b[0;34m\u001b[0m\u001b[0;34m\u001b[0m\u001b[0m\n\u001b[1;32m     78\u001b[0m         \u001b[0mhost\u001b[0m \u001b[0;34m=\u001b[0m \u001b[0;34m'lsst-pg-devel1.ncsa.illinois.edu'\u001b[0m\u001b[0;34m\u001b[0m\u001b[0;34m\u001b[0m\u001b[0m\n\u001b[0;32m---> 79\u001b[0;31m         connection = psycopg2.connect(dbname=dbName,\n\u001b[0m\u001b[1;32m     80\u001b[0m                                       \u001b[0mhost\u001b[0m\u001b[0;34m=\u001b[0m\u001b[0mhost\u001b[0m\u001b[0;34m,\u001b[0m\u001b[0;34m\u001b[0m\u001b[0;34m\u001b[0m\u001b[0m\n\u001b[1;32m     81\u001b[0m                                       options=f'-c search_path={schema}')\n",
      "\u001b[0;32m/opt/lsst/software/stack/conda/miniconda3-py38_4.9.2/envs/lsst-scipipe-0.6.0/lib/python3.8/site-packages/psycopg2/__init__.py\u001b[0m in \u001b[0;36mconnect\u001b[0;34m(dsn, connection_factory, cursor_factory, **kwargs)\u001b[0m\n\u001b[1;32m    125\u001b[0m \u001b[0;34m\u001b[0m\u001b[0m\n\u001b[1;32m    126\u001b[0m     \u001b[0mdsn\u001b[0m \u001b[0;34m=\u001b[0m \u001b[0m_ext\u001b[0m\u001b[0;34m.\u001b[0m\u001b[0mmake_dsn\u001b[0m\u001b[0;34m(\u001b[0m\u001b[0mdsn\u001b[0m\u001b[0;34m,\u001b[0m \u001b[0;34m**\u001b[0m\u001b[0mkwargs\u001b[0m\u001b[0;34m)\u001b[0m\u001b[0;34m\u001b[0m\u001b[0;34m\u001b[0m\u001b[0m\n\u001b[0;32m--> 127\u001b[0;31m     \u001b[0mconn\u001b[0m \u001b[0;34m=\u001b[0m \u001b[0m_connect\u001b[0m\u001b[0;34m(\u001b[0m\u001b[0mdsn\u001b[0m\u001b[0;34m,\u001b[0m \u001b[0mconnection_factory\u001b[0m\u001b[0;34m=\u001b[0m\u001b[0mconnection_factory\u001b[0m\u001b[0;34m,\u001b[0m \u001b[0;34m**\u001b[0m\u001b[0mkwasync\u001b[0m\u001b[0;34m)\u001b[0m\u001b[0;34m\u001b[0m\u001b[0;34m\u001b[0m\u001b[0m\n\u001b[0m\u001b[1;32m    128\u001b[0m     \u001b[0;32mif\u001b[0m \u001b[0mcursor_factory\u001b[0m \u001b[0;32mis\u001b[0m \u001b[0;32mnot\u001b[0m \u001b[0;32mNone\u001b[0m\u001b[0;34m:\u001b[0m\u001b[0;34m\u001b[0m\u001b[0;34m\u001b[0m\u001b[0m\n\u001b[1;32m    129\u001b[0m         \u001b[0mconn\u001b[0m\u001b[0;34m.\u001b[0m\u001b[0mcursor_factory\u001b[0m \u001b[0;34m=\u001b[0m \u001b[0mcursor_factory\u001b[0m\u001b[0;34m\u001b[0m\u001b[0;34m\u001b[0m\u001b[0m\n",
      "\u001b[0;31mOperationalError\u001b[0m: fe_sendauth: no password supplied\n"
     ]
    }
   ],
   "source": [
    "objTable, srcTable, goodObj, goodSrc = pla.loadTables(repo, dbType='postgres',\n",
    "                                                      dbName='lsstdevapdb1',\n",
    "                                                      schema='kherner',\n",
    "                                                      gen='gen3', instrument='LSSTCam-imSim',\n",
    "                                                      badFlagList=badFlagList\n",
    "                                                      )\n",
    "# dbHost='lsst-pg-devel1.ncsa.illinois.edu',\n",
    "print(f'{len(srcTable):7d}\\t{len(goodSrc):7d}\\t\\t{collection.split(\"/\")[-1]}')"
   ]
  },
  {
   "cell_type": "code",
   "execution_count": 7,
   "id": "a9a262ae",
   "metadata": {},
   "outputs": [],
   "source": [
    "import os\n",
    "os.environ['PGPASSFILE']='/home/kherner/.pgpass'"
   ]
  },
  {
   "cell_type": "code",
   "execution_count": null,
   "id": "542dfc5b",
   "metadata": {},
   "outputs": [],
   "source": []
  }
 ],
 "metadata": {
  "kernelspec": {
   "display_name": "LSST",
   "language": "python",
   "name": "lsst"
  },
  "language_info": {
   "codemirror_mode": {
    "name": "ipython",
    "version": 3
   },
   "file_extension": ".py",
   "mimetype": "text/x-python",
   "name": "python",
   "nbconvert_exporter": "python",
   "pygments_lexer": "ipython3",
   "version": "3.8.8"
  }
 },
 "nbformat": 4,
 "nbformat_minor": 5
}
