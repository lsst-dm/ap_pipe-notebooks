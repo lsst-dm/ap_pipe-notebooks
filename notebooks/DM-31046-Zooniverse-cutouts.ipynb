{
 "cells": [
  {
   "cell_type": "markdown",
   "metadata": {},
   "source": [
    "# DM-31046 Zooniverse cutouts"
   ]
  },
  {
   "cell_type": "markdown",
   "metadata": {},
   "source": [
    "This notebook is to try out the `ZoonverseCutoutsTask` implemented on DM-31046. The notebook may evolve as that task is improved (i.e. to include source selection via sql query) on a subsequent ticket."
   ]
  },
  {
   "cell_type": "code",
   "execution_count": 1,
   "metadata": {},
   "outputs": [],
   "source": [
    "import glob\n",
    "import os\n",
    "import pandas as pd\n",
    "import sqlite3\n",
    "\n",
    "import IPython.display\n",
    "\n",
    "import lsst.daf.butler as dafButler\n",
    "from lsst.pipe.tasks.zooniverseCutouts import ZooniverseCutoutsTask\n",
    "\n",
    "import sys\n",
    "sys.path.append('..')\n",
    "\n",
    "# local to ap_pipe-notebooks\n",
    "import apdbPlots as pla\n",
    "import diaObjectAnalysis as doa"
   ]
  },
  {
   "cell_type": "code",
   "execution_count": null,
   "metadata": {},
   "outputs": [],
   "source": []
  },
  {
   "cell_type": "code",
   "execution_count": 2,
   "metadata": {},
   "outputs": [],
   "source": [
    "# The URL where the output files can be accessed by zooniverse.\n",
    "url_root = \"https://lsst.ncsa.illinois.edu/~ebellm/zooniverse/\"\n",
    "# The path to write the PNG and manifest files to.\n",
    "output_path = \"/scratch/ebellm/zooniverse/\""
   ]
  },
  {
   "cell_type": "code",
   "execution_count": 3,
   "metadata": {},
   "outputs": [],
   "source": [
    "# gen 3, meredith's fakes run"
   ]
  },
  {
   "cell_type": "code",
   "execution_count": 4,
   "metadata": {},
   "outputs": [],
   "source": [
    "repo = '/repo/main'\n",
    "butler = dafButler.Butler(repo)"
   ]
  },
  {
   "cell_type": "code",
   "execution_count": 5,
   "metadata": {},
   "outputs": [],
   "source": [
    "collection = 'u/mrawls/DM-31053-HSC-fakes'\n",
    "dbSchema = 'mrawls_DM31053'\n",
    "instrument = 'HSC'\n",
    "skymap = 'hsc_rings_v1'"
   ]
  },
  {
   "cell_type": "markdown",
   "metadata": {},
   "source": [
    "## Load sources from apdb"
   ]
  },
  {
   "cell_type": "code",
   "execution_count": 6,
   "metadata": {},
   "outputs": [],
   "source": [
    "connection, tables = doa.connectToApdb('lsstdevapdb1', dbType='postgres', schema=dbSchema)"
   ]
  },
  {
   "cell_type": "code",
   "execution_count": 7,
   "metadata": {},
   "outputs": [
    {
     "data": {
      "text/plain": [
       "{'obj': '\"DiaObject\"',\n",
       " 'src': '\"DiaSource\"',\n",
       " 'sso': '\"SSObject\"',\n",
       " 'forcedsrc': '\"DiaForcedSource\"',\n",
       " 'proto': '\"ApdbProtoVisits\"',\n",
       " 'match': '\"DiaObject_To_Object_Match\"'}"
      ]
     },
     "execution_count": 7,
     "metadata": {},
     "output_type": "execute_result"
    }
   ],
   "source": [
    "tables"
   ]
  },
  {
   "cell_type": "code",
   "execution_count": 8,
   "metadata": {},
   "outputs": [
    {
     "name": "stdout",
     "output_type": "stream",
     "text": [
      "CPU times: user 78.2 ms, sys: 8.04 ms, total: 86.3 ms\n",
      "Wall time: 16.9 s\n"
     ]
    }
   ],
   "source": [
    "%%time \n",
    "# to get a random sample: ORDER BY RANDOM() \n",
    "#sources = pd.read_sql_query(f'select * from {tables[\"src\"]} LIMIT 100;', connection)\n",
    "sources = pd.read_sql_query(f'select * from {tables[\"src\"]} ORDER BY RANDOM() LIMIT 1000;', connection)"
   ]
  },
  {
   "cell_type": "code",
   "execution_count": 9,
   "metadata": {},
   "outputs": [
    {
     "data": {
      "text/html": [
       "<div>\n",
       "<style scoped>\n",
       "    .dataframe tbody tr th:only-of-type {\n",
       "        vertical-align: middle;\n",
       "    }\n",
       "\n",
       "    .dataframe tbody tr th {\n",
       "        vertical-align: top;\n",
       "    }\n",
       "\n",
       "    .dataframe thead th {\n",
       "        text-align: right;\n",
       "    }\n",
       "</style>\n",
       "<table border=\"1\" class=\"dataframe\">\n",
       "  <thead>\n",
       "    <tr style=\"text-align: right;\">\n",
       "      <th></th>\n",
       "      <th>diaSourceId</th>\n",
       "      <th>ccdVisitId</th>\n",
       "      <th>diaObjectId</th>\n",
       "      <th>ssObjectId</th>\n",
       "      <th>parentDiaSourceId</th>\n",
       "      <th>prv_procOrder</th>\n",
       "      <th>ssObjectReassocTime</th>\n",
       "      <th>midPointTai</th>\n",
       "      <th>ra</th>\n",
       "      <th>raErr</th>\n",
       "      <th>...</th>\n",
       "      <th>ixxPSF</th>\n",
       "      <th>iyyPSF</th>\n",
       "      <th>ixyPSF</th>\n",
       "      <th>extendedness</th>\n",
       "      <th>spuriousness</th>\n",
       "      <th>flags</th>\n",
       "      <th>pixelId</th>\n",
       "      <th>filterName</th>\n",
       "      <th>isDipole</th>\n",
       "      <th>bboxSize</th>\n",
       "    </tr>\n",
       "  </thead>\n",
       "  <tbody>\n",
       "    <tr>\n",
       "      <th>0</th>\n",
       "      <td>804056532517253</td>\n",
       "      <td>374418</td>\n",
       "      <td>5026024416870960</td>\n",
       "      <td>0</td>\n",
       "      <td>0</td>\n",
       "      <td>0</td>\n",
       "      <td>None</td>\n",
       "      <td>56750.266134</td>\n",
       "      <td>150.250879</td>\n",
       "      <td>0.0</td>\n",
       "      <td>...</td>\n",
       "      <td>0.163048</td>\n",
       "      <td>0.002217</td>\n",
       "      <td>0.002217</td>\n",
       "      <td>0.0</td>\n",
       "      <td>0.0</td>\n",
       "      <td>1320</td>\n",
       "      <td>0</td>\n",
       "      <td>y</td>\n",
       "      <td>False</td>\n",
       "      <td>45</td>\n",
       "    </tr>\n",
       "    <tr>\n",
       "      <th>1</th>\n",
       "      <td>505972917272961</td>\n",
       "      <td>235612</td>\n",
       "      <td>505972917272961</td>\n",
       "      <td>0</td>\n",
       "      <td>0</td>\n",
       "      <td>0</td>\n",
       "      <td>None</td>\n",
       "      <td>56744.287740</td>\n",
       "      <td>150.332363</td>\n",
       "      <td>0.0</td>\n",
       "      <td>...</td>\n",
       "      <td>0.178754</td>\n",
       "      <td>-0.010564</td>\n",
       "      <td>-0.010564</td>\n",
       "      <td>0.0</td>\n",
       "      <td>0.0</td>\n",
       "      <td>40</td>\n",
       "      <td>0</td>\n",
       "      <td>z</td>\n",
       "      <td>False</td>\n",
       "      <td>24</td>\n",
       "    </tr>\n",
       "    <tr>\n",
       "      <th>2</th>\n",
       "      <td>7699373123178339</td>\n",
       "      <td>3585300</td>\n",
       "      <td>7699373123178339</td>\n",
       "      <td>0</td>\n",
       "      <td>0</td>\n",
       "      <td>0</td>\n",
       "      <td>None</td>\n",
       "      <td>57038.568894</td>\n",
       "      <td>150.877697</td>\n",
       "      <td>0.0</td>\n",
       "      <td>...</td>\n",
       "      <td>0.040459</td>\n",
       "      <td>0.001459</td>\n",
       "      <td>0.001459</td>\n",
       "      <td>0.0</td>\n",
       "      <td>0.0</td>\n",
       "      <td>4</td>\n",
       "      <td>0</td>\n",
       "      <td>z</td>\n",
       "      <td>False</td>\n",
       "      <td>11</td>\n",
       "    </tr>\n",
       "    <tr>\n",
       "      <th>3</th>\n",
       "      <td>140900697112899</td>\n",
       "      <td>65612</td>\n",
       "      <td>140900697112899</td>\n",
       "      <td>0</td>\n",
       "      <td>0</td>\n",
       "      <td>0</td>\n",
       "      <td>None</td>\n",
       "      <td>56741.417458</td>\n",
       "      <td>150.302280</td>\n",
       "      <td>0.0</td>\n",
       "      <td>...</td>\n",
       "      <td>0.191622</td>\n",
       "      <td>0.008244</td>\n",
       "      <td>0.008244</td>\n",
       "      <td>0.0</td>\n",
       "      <td>0.0</td>\n",
       "      <td>25167208</td>\n",
       "      <td>0</td>\n",
       "      <td>y</td>\n",
       "      <td>False</td>\n",
       "      <td>25</td>\n",
       "    </tr>\n",
       "    <tr>\n",
       "      <th>4</th>\n",
       "      <td>141826262565848</td>\n",
       "      <td>66043</td>\n",
       "      <td>141826262565848</td>\n",
       "      <td>0</td>\n",
       "      <td>0</td>\n",
       "      <td>0</td>\n",
       "      <td>None</td>\n",
       "      <td>56741.420702</td>\n",
       "      <td>149.846375</td>\n",
       "      <td>0.0</td>\n",
       "      <td>...</td>\n",
       "      <td>0.246414</td>\n",
       "      <td>0.008993</td>\n",
       "      <td>0.008993</td>\n",
       "      <td>0.0</td>\n",
       "      <td>0.0</td>\n",
       "      <td>41944428</td>\n",
       "      <td>0</td>\n",
       "      <td>y</td>\n",
       "      <td>False</td>\n",
       "      <td>860</td>\n",
       "    </tr>\n",
       "    <tr>\n",
       "      <th>...</th>\n",
       "      <td>...</td>\n",
       "      <td>...</td>\n",
       "      <td>...</td>\n",
       "      <td>...</td>\n",
       "      <td>...</td>\n",
       "      <td>...</td>\n",
       "      <td>...</td>\n",
       "      <td>...</td>\n",
       "      <td>...</td>\n",
       "      <td>...</td>\n",
       "      <td>...</td>\n",
       "      <td>...</td>\n",
       "      <td>...</td>\n",
       "      <td>...</td>\n",
       "      <td>...</td>\n",
       "      <td>...</td>\n",
       "      <td>...</td>\n",
       "      <td>...</td>\n",
       "      <td>...</td>\n",
       "      <td>...</td>\n",
       "      <td>...</td>\n",
       "    </tr>\n",
       "    <tr>\n",
       "      <th>995</th>\n",
       "      <td>7700094677681195</td>\n",
       "      <td>3585636</td>\n",
       "      <td>7700094677681195</td>\n",
       "      <td>0</td>\n",
       "      <td>0</td>\n",
       "      <td>0</td>\n",
       "      <td>None</td>\n",
       "      <td>57038.572779</td>\n",
       "      <td>149.724076</td>\n",
       "      <td>0.0</td>\n",
       "      <td>...</td>\n",
       "      <td>0.038012</td>\n",
       "      <td>0.006827</td>\n",
       "      <td>0.006827</td>\n",
       "      <td>0.0</td>\n",
       "      <td>0.0</td>\n",
       "      <td>41944392</td>\n",
       "      <td>0</td>\n",
       "      <td>z</td>\n",
       "      <td>False</td>\n",
       "      <td>78</td>\n",
       "    </tr>\n",
       "    <tr>\n",
       "      <th>996</th>\n",
       "      <td>5035428247765963</td>\n",
       "      <td>2344804</td>\n",
       "      <td>7714835005442681</td>\n",
       "      <td>0</td>\n",
       "      <td>0</td>\n",
       "      <td>0</td>\n",
       "      <td>None</td>\n",
       "      <td>56979.623791</td>\n",
       "      <td>150.627769</td>\n",
       "      <td>0.0</td>\n",
       "      <td>...</td>\n",
       "      <td>0.101492</td>\n",
       "      <td>-0.011841</td>\n",
       "      <td>-0.011841</td>\n",
       "      <td>0.0</td>\n",
       "      <td>0.0</td>\n",
       "      <td>41943608</td>\n",
       "      <td>0</td>\n",
       "      <td>y</td>\n",
       "      <td>False</td>\n",
       "      <td>16</td>\n",
       "    </tr>\n",
       "    <tr>\n",
       "      <th>997</th>\n",
       "      <td>5039779049636486</td>\n",
       "      <td>2346830</td>\n",
       "      <td>7688914877809842</td>\n",
       "      <td>0</td>\n",
       "      <td>0</td>\n",
       "      <td>0</td>\n",
       "      <td>None</td>\n",
       "      <td>56979.643564</td>\n",
       "      <td>150.935935</td>\n",
       "      <td>0.0</td>\n",
       "      <td>...</td>\n",
       "      <td>0.093792</td>\n",
       "      <td>-0.003979</td>\n",
       "      <td>-0.003979</td>\n",
       "      <td>0.0</td>\n",
       "      <td>0.0</td>\n",
       "      <td>25165868</td>\n",
       "      <td>0</td>\n",
       "      <td>y</td>\n",
       "      <td>False</td>\n",
       "      <td>17</td>\n",
       "    </tr>\n",
       "    <tr>\n",
       "      <th>998</th>\n",
       "      <td>7709661717332609</td>\n",
       "      <td>3590091</td>\n",
       "      <td>7709661717332609</td>\n",
       "      <td>0</td>\n",
       "      <td>0</td>\n",
       "      <td>0</td>\n",
       "      <td>None</td>\n",
       "      <td>57038.615014</td>\n",
       "      <td>150.405142</td>\n",
       "      <td>0.0</td>\n",
       "      <td>...</td>\n",
       "      <td>0.056931</td>\n",
       "      <td>-0.005788</td>\n",
       "      <td>-0.005788</td>\n",
       "      <td>0.0</td>\n",
       "      <td>0.0</td>\n",
       "      <td>25165824</td>\n",
       "      <td>0</td>\n",
       "      <td>z</td>\n",
       "      <td>False</td>\n",
       "      <td>11</td>\n",
       "    </tr>\n",
       "    <tr>\n",
       "      <th>999</th>\n",
       "      <td>7702635150836216</td>\n",
       "      <td>3586819</td>\n",
       "      <td>7702635150836216</td>\n",
       "      <td>0</td>\n",
       "      <td>0</td>\n",
       "      <td>0</td>\n",
       "      <td>None</td>\n",
       "      <td>57038.584758</td>\n",
       "      <td>150.026882</td>\n",
       "      <td>0.0</td>\n",
       "      <td>...</td>\n",
       "      <td>0.068308</td>\n",
       "      <td>-0.006920</td>\n",
       "      <td>-0.006920</td>\n",
       "      <td>0.0</td>\n",
       "      <td>0.0</td>\n",
       "      <td>1384</td>\n",
       "      <td>0</td>\n",
       "      <td>z</td>\n",
       "      <td>False</td>\n",
       "      <td>15</td>\n",
       "    </tr>\n",
       "  </tbody>\n",
       "</table>\n",
       "<p>1000 rows × 111 columns</p>\n",
       "</div>"
      ],
      "text/plain": [
       "          diaSourceId  ccdVisitId       diaObjectId  ssObjectId  \\\n",
       "0     804056532517253      374418  5026024416870960           0   \n",
       "1     505972917272961      235612   505972917272961           0   \n",
       "2    7699373123178339     3585300  7699373123178339           0   \n",
       "3     140900697112899       65612   140900697112899           0   \n",
       "4     141826262565848       66043   141826262565848           0   \n",
       "..                ...         ...               ...         ...   \n",
       "995  7700094677681195     3585636  7700094677681195           0   \n",
       "996  5035428247765963     2344804  7714835005442681           0   \n",
       "997  5039779049636486     2346830  7688914877809842           0   \n",
       "998  7709661717332609     3590091  7709661717332609           0   \n",
       "999  7702635150836216     3586819  7702635150836216           0   \n",
       "\n",
       "     parentDiaSourceId  prv_procOrder ssObjectReassocTime   midPointTai  \\\n",
       "0                    0              0                None  56750.266134   \n",
       "1                    0              0                None  56744.287740   \n",
       "2                    0              0                None  57038.568894   \n",
       "3                    0              0                None  56741.417458   \n",
       "4                    0              0                None  56741.420702   \n",
       "..                 ...            ...                 ...           ...   \n",
       "995                  0              0                None  57038.572779   \n",
       "996                  0              0                None  56979.623791   \n",
       "997                  0              0                None  56979.643564   \n",
       "998                  0              0                None  57038.615014   \n",
       "999                  0              0                None  57038.584758   \n",
       "\n",
       "             ra  raErr  ...    ixxPSF    iyyPSF    ixyPSF  extendedness  \\\n",
       "0    150.250879    0.0  ...  0.163048  0.002217  0.002217           0.0   \n",
       "1    150.332363    0.0  ...  0.178754 -0.010564 -0.010564           0.0   \n",
       "2    150.877697    0.0  ...  0.040459  0.001459  0.001459           0.0   \n",
       "3    150.302280    0.0  ...  0.191622  0.008244  0.008244           0.0   \n",
       "4    149.846375    0.0  ...  0.246414  0.008993  0.008993           0.0   \n",
       "..          ...    ...  ...       ...       ...       ...           ...   \n",
       "995  149.724076    0.0  ...  0.038012  0.006827  0.006827           0.0   \n",
       "996  150.627769    0.0  ...  0.101492 -0.011841 -0.011841           0.0   \n",
       "997  150.935935    0.0  ...  0.093792 -0.003979 -0.003979           0.0   \n",
       "998  150.405142    0.0  ...  0.056931 -0.005788 -0.005788           0.0   \n",
       "999  150.026882    0.0  ...  0.068308 -0.006920 -0.006920           0.0   \n",
       "\n",
       "    spuriousness     flags pixelId  filterName  isDipole  bboxSize  \n",
       "0            0.0      1320       0           y     False        45  \n",
       "1            0.0        40       0           z     False        24  \n",
       "2            0.0         4       0           z     False        11  \n",
       "3            0.0  25167208       0           y     False        25  \n",
       "4            0.0  41944428       0           y     False       860  \n",
       "..           ...       ...     ...         ...       ...       ...  \n",
       "995          0.0  41944392       0           z     False        78  \n",
       "996          0.0  41943608       0           y     False        16  \n",
       "997          0.0  25165868       0           y     False        17  \n",
       "998          0.0  25165824       0           z     False        11  \n",
       "999          0.0      1384       0           z     False        15  \n",
       "\n",
       "[1000 rows x 111 columns]"
      ]
     },
     "execution_count": 9,
     "metadata": {},
     "output_type": "execute_result"
    }
   ],
   "source": [
    "sources"
   ]
  },
  {
   "cell_type": "code",
   "execution_count": 10,
   "metadata": {},
   "outputs": [
    {
     "data": {
      "text/html": [
       "<div>\n",
       "<style scoped>\n",
       "    .dataframe tbody tr th:only-of-type {\n",
       "        vertical-align: middle;\n",
       "    }\n",
       "\n",
       "    .dataframe tbody tr th {\n",
       "        vertical-align: top;\n",
       "    }\n",
       "\n",
       "    .dataframe thead th {\n",
       "        text-align: right;\n",
       "    }\n",
       "</style>\n",
       "<table border=\"1\" class=\"dataframe\">\n",
       "  <thead>\n",
       "    <tr style=\"text-align: right;\">\n",
       "      <th></th>\n",
       "      <th>diaSourceId</th>\n",
       "      <th>ccdVisitId</th>\n",
       "      <th>diaObjectId</th>\n",
       "      <th>ssObjectId</th>\n",
       "      <th>parentDiaSourceId</th>\n",
       "      <th>prv_procOrder</th>\n",
       "      <th>ssObjectReassocTime</th>\n",
       "      <th>midPointTai</th>\n",
       "      <th>ra</th>\n",
       "      <th>raErr</th>\n",
       "      <th>...</th>\n",
       "      <th>ixyPSF</th>\n",
       "      <th>extendedness</th>\n",
       "      <th>spuriousness</th>\n",
       "      <th>flags</th>\n",
       "      <th>pixelId</th>\n",
       "      <th>filterName</th>\n",
       "      <th>isDipole</th>\n",
       "      <th>bboxSize</th>\n",
       "      <th>visit</th>\n",
       "      <th>ccd</th>\n",
       "    </tr>\n",
       "  </thead>\n",
       "  <tbody>\n",
       "    <tr>\n",
       "      <th>0</th>\n",
       "      <td>804056532517253</td>\n",
       "      <td>374418</td>\n",
       "      <td>5026024416870960</td>\n",
       "      <td>0</td>\n",
       "      <td>0</td>\n",
       "      <td>0</td>\n",
       "      <td>None</td>\n",
       "      <td>56750.266134</td>\n",
       "      <td>150.250879</td>\n",
       "      <td>0.0</td>\n",
       "      <td>...</td>\n",
       "      <td>0.002217</td>\n",
       "      <td>0.0</td>\n",
       "      <td>0.0</td>\n",
       "      <td>1320</td>\n",
       "      <td>0</td>\n",
       "      <td>y</td>\n",
       "      <td>False</td>\n",
       "      <td>45</td>\n",
       "      <td>1872</td>\n",
       "      <td>18</td>\n",
       "    </tr>\n",
       "    <tr>\n",
       "      <th>1</th>\n",
       "      <td>505972917272961</td>\n",
       "      <td>235612</td>\n",
       "      <td>505972917272961</td>\n",
       "      <td>0</td>\n",
       "      <td>0</td>\n",
       "      <td>0</td>\n",
       "      <td>None</td>\n",
       "      <td>56744.287740</td>\n",
       "      <td>150.332363</td>\n",
       "      <td>0.0</td>\n",
       "      <td>...</td>\n",
       "      <td>-0.010564</td>\n",
       "      <td>0.0</td>\n",
       "      <td>0.0</td>\n",
       "      <td>40</td>\n",
       "      <td>0</td>\n",
       "      <td>z</td>\n",
       "      <td>False</td>\n",
       "      <td>24</td>\n",
       "      <td>1178</td>\n",
       "      <td>12</td>\n",
       "    </tr>\n",
       "    <tr>\n",
       "      <th>2</th>\n",
       "      <td>7699373123178339</td>\n",
       "      <td>3585300</td>\n",
       "      <td>7699373123178339</td>\n",
       "      <td>0</td>\n",
       "      <td>0</td>\n",
       "      <td>0</td>\n",
       "      <td>None</td>\n",
       "      <td>57038.568894</td>\n",
       "      <td>150.877697</td>\n",
       "      <td>0.0</td>\n",
       "      <td>...</td>\n",
       "      <td>0.001459</td>\n",
       "      <td>0.0</td>\n",
       "      <td>0.0</td>\n",
       "      <td>4</td>\n",
       "      <td>0</td>\n",
       "      <td>z</td>\n",
       "      <td>False</td>\n",
       "      <td>11</td>\n",
       "      <td>17926</td>\n",
       "      <td>100</td>\n",
       "    </tr>\n",
       "    <tr>\n",
       "      <th>3</th>\n",
       "      <td>140900697112899</td>\n",
       "      <td>65612</td>\n",
       "      <td>140900697112899</td>\n",
       "      <td>0</td>\n",
       "      <td>0</td>\n",
       "      <td>0</td>\n",
       "      <td>None</td>\n",
       "      <td>56741.417458</td>\n",
       "      <td>150.302280</td>\n",
       "      <td>0.0</td>\n",
       "      <td>...</td>\n",
       "      <td>0.008244</td>\n",
       "      <td>0.0</td>\n",
       "      <td>0.0</td>\n",
       "      <td>25167208</td>\n",
       "      <td>0</td>\n",
       "      <td>y</td>\n",
       "      <td>False</td>\n",
       "      <td>25</td>\n",
       "      <td>328</td>\n",
       "      <td>12</td>\n",
       "    </tr>\n",
       "    <tr>\n",
       "      <th>4</th>\n",
       "      <td>141826262565848</td>\n",
       "      <td>66043</td>\n",
       "      <td>141826262565848</td>\n",
       "      <td>0</td>\n",
       "      <td>0</td>\n",
       "      <td>0</td>\n",
       "      <td>None</td>\n",
       "      <td>56741.420702</td>\n",
       "      <td>149.846375</td>\n",
       "      <td>0.0</td>\n",
       "      <td>...</td>\n",
       "      <td>0.008993</td>\n",
       "      <td>0.0</td>\n",
       "      <td>0.0</td>\n",
       "      <td>41944428</td>\n",
       "      <td>0</td>\n",
       "      <td>y</td>\n",
       "      <td>False</td>\n",
       "      <td>860</td>\n",
       "      <td>330</td>\n",
       "      <td>43</td>\n",
       "    </tr>\n",
       "    <tr>\n",
       "      <th>...</th>\n",
       "      <td>...</td>\n",
       "      <td>...</td>\n",
       "      <td>...</td>\n",
       "      <td>...</td>\n",
       "      <td>...</td>\n",
       "      <td>...</td>\n",
       "      <td>...</td>\n",
       "      <td>...</td>\n",
       "      <td>...</td>\n",
       "      <td>...</td>\n",
       "      <td>...</td>\n",
       "      <td>...</td>\n",
       "      <td>...</td>\n",
       "      <td>...</td>\n",
       "      <td>...</td>\n",
       "      <td>...</td>\n",
       "      <td>...</td>\n",
       "      <td>...</td>\n",
       "      <td>...</td>\n",
       "      <td>...</td>\n",
       "      <td>...</td>\n",
       "    </tr>\n",
       "    <tr>\n",
       "      <th>995</th>\n",
       "      <td>7700094677681195</td>\n",
       "      <td>3585636</td>\n",
       "      <td>7700094677681195</td>\n",
       "      <td>0</td>\n",
       "      <td>0</td>\n",
       "      <td>0</td>\n",
       "      <td>None</td>\n",
       "      <td>57038.572779</td>\n",
       "      <td>149.724076</td>\n",
       "      <td>0.0</td>\n",
       "      <td>...</td>\n",
       "      <td>0.006827</td>\n",
       "      <td>0.0</td>\n",
       "      <td>0.0</td>\n",
       "      <td>41944392</td>\n",
       "      <td>0</td>\n",
       "      <td>z</td>\n",
       "      <td>False</td>\n",
       "      <td>78</td>\n",
       "      <td>17928</td>\n",
       "      <td>36</td>\n",
       "    </tr>\n",
       "    <tr>\n",
       "      <th>996</th>\n",
       "      <td>5035428247765963</td>\n",
       "      <td>2344804</td>\n",
       "      <td>7714835005442681</td>\n",
       "      <td>0</td>\n",
       "      <td>0</td>\n",
       "      <td>0</td>\n",
       "      <td>None</td>\n",
       "      <td>56979.623791</td>\n",
       "      <td>150.627769</td>\n",
       "      <td>0.0</td>\n",
       "      <td>...</td>\n",
       "      <td>-0.011841</td>\n",
       "      <td>0.0</td>\n",
       "      <td>0.0</td>\n",
       "      <td>41943608</td>\n",
       "      <td>0</td>\n",
       "      <td>y</td>\n",
       "      <td>False</td>\n",
       "      <td>16</td>\n",
       "      <td>11724</td>\n",
       "      <td>4</td>\n",
       "    </tr>\n",
       "    <tr>\n",
       "      <th>997</th>\n",
       "      <td>5039779049636486</td>\n",
       "      <td>2346830</td>\n",
       "      <td>7688914877809842</td>\n",
       "      <td>0</td>\n",
       "      <td>0</td>\n",
       "      <td>0</td>\n",
       "      <td>None</td>\n",
       "      <td>56979.643564</td>\n",
       "      <td>150.935935</td>\n",
       "      <td>0.0</td>\n",
       "      <td>...</td>\n",
       "      <td>-0.003979</td>\n",
       "      <td>0.0</td>\n",
       "      <td>0.0</td>\n",
       "      <td>25165868</td>\n",
       "      <td>0</td>\n",
       "      <td>y</td>\n",
       "      <td>False</td>\n",
       "      <td>17</td>\n",
       "      <td>11734</td>\n",
       "      <td>30</td>\n",
       "    </tr>\n",
       "    <tr>\n",
       "      <th>998</th>\n",
       "      <td>7709661717332609</td>\n",
       "      <td>3590091</td>\n",
       "      <td>7709661717332609</td>\n",
       "      <td>0</td>\n",
       "      <td>0</td>\n",
       "      <td>0</td>\n",
       "      <td>None</td>\n",
       "      <td>57038.615014</td>\n",
       "      <td>150.405142</td>\n",
       "      <td>0.0</td>\n",
       "      <td>...</td>\n",
       "      <td>-0.005788</td>\n",
       "      <td>0.0</td>\n",
       "      <td>0.0</td>\n",
       "      <td>25165824</td>\n",
       "      <td>0</td>\n",
       "      <td>z</td>\n",
       "      <td>False</td>\n",
       "      <td>11</td>\n",
       "      <td>17950</td>\n",
       "      <td>91</td>\n",
       "    </tr>\n",
       "    <tr>\n",
       "      <th>999</th>\n",
       "      <td>7702635150836216</td>\n",
       "      <td>3586819</td>\n",
       "      <td>7702635150836216</td>\n",
       "      <td>0</td>\n",
       "      <td>0</td>\n",
       "      <td>0</td>\n",
       "      <td>None</td>\n",
       "      <td>57038.584758</td>\n",
       "      <td>150.026882</td>\n",
       "      <td>0.0</td>\n",
       "      <td>...</td>\n",
       "      <td>-0.006920</td>\n",
       "      <td>0.0</td>\n",
       "      <td>0.0</td>\n",
       "      <td>1384</td>\n",
       "      <td>0</td>\n",
       "      <td>z</td>\n",
       "      <td>False</td>\n",
       "      <td>15</td>\n",
       "      <td>17934</td>\n",
       "      <td>19</td>\n",
       "    </tr>\n",
       "  </tbody>\n",
       "</table>\n",
       "<p>1000 rows × 113 columns</p>\n",
       "</div>"
      ],
      "text/plain": [
       "          diaSourceId  ccdVisitId       diaObjectId  ssObjectId  \\\n",
       "0     804056532517253      374418  5026024416870960           0   \n",
       "1     505972917272961      235612   505972917272961           0   \n",
       "2    7699373123178339     3585300  7699373123178339           0   \n",
       "3     140900697112899       65612   140900697112899           0   \n",
       "4     141826262565848       66043   141826262565848           0   \n",
       "..                ...         ...               ...         ...   \n",
       "995  7700094677681195     3585636  7700094677681195           0   \n",
       "996  5035428247765963     2344804  7714835005442681           0   \n",
       "997  5039779049636486     2346830  7688914877809842           0   \n",
       "998  7709661717332609     3590091  7709661717332609           0   \n",
       "999  7702635150836216     3586819  7702635150836216           0   \n",
       "\n",
       "     parentDiaSourceId  prv_procOrder ssObjectReassocTime   midPointTai  \\\n",
       "0                    0              0                None  56750.266134   \n",
       "1                    0              0                None  56744.287740   \n",
       "2                    0              0                None  57038.568894   \n",
       "3                    0              0                None  56741.417458   \n",
       "4                    0              0                None  56741.420702   \n",
       "..                 ...            ...                 ...           ...   \n",
       "995                  0              0                None  57038.572779   \n",
       "996                  0              0                None  56979.623791   \n",
       "997                  0              0                None  56979.643564   \n",
       "998                  0              0                None  57038.615014   \n",
       "999                  0              0                None  57038.584758   \n",
       "\n",
       "             ra  raErr  ...    ixyPSF  extendedness  spuriousness     flags  \\\n",
       "0    150.250879    0.0  ...  0.002217           0.0           0.0      1320   \n",
       "1    150.332363    0.0  ... -0.010564           0.0           0.0        40   \n",
       "2    150.877697    0.0  ...  0.001459           0.0           0.0         4   \n",
       "3    150.302280    0.0  ...  0.008244           0.0           0.0  25167208   \n",
       "4    149.846375    0.0  ...  0.008993           0.0           0.0  41944428   \n",
       "..          ...    ...  ...       ...           ...           ...       ...   \n",
       "995  149.724076    0.0  ...  0.006827           0.0           0.0  41944392   \n",
       "996  150.627769    0.0  ... -0.011841           0.0           0.0  41943608   \n",
       "997  150.935935    0.0  ... -0.003979           0.0           0.0  25165868   \n",
       "998  150.405142    0.0  ... -0.005788           0.0           0.0  25165824   \n",
       "999  150.026882    0.0  ... -0.006920           0.0           0.0      1384   \n",
       "\n",
       "    pixelId  filterName isDipole  bboxSize  visit  ccd  \n",
       "0         0           y    False        45   1872   18  \n",
       "1         0           z    False        24   1178   12  \n",
       "2         0           z    False        11  17926  100  \n",
       "3         0           y    False        25    328   12  \n",
       "4         0           y    False       860    330   43  \n",
       "..      ...         ...      ...       ...    ...  ...  \n",
       "995       0           z    False        78  17928   36  \n",
       "996       0           y    False        16  11724    4  \n",
       "997       0           y    False        17  11734   30  \n",
       "998       0           z    False        11  17950   91  \n",
       "999       0           z    False        15  17934   19  \n",
       "\n",
       "[1000 rows x 113 columns]"
      ]
     },
     "execution_count": 10,
     "metadata": {},
     "output_type": "execute_result"
    }
   ],
   "source": [
    "# NOTE: need to run this to add ccd and visit identifiers to the sources.\n",
    "# Apdb doesn't have another way to get those, and they are necessary for retrieving the images.\n",
    "pla.addVisitCcdToSrcTable(sources, instrument=instrument, gen='gen3', butler=butler)"
   ]
  },
  {
   "cell_type": "code",
   "execution_count": 11,
   "metadata": {},
   "outputs": [],
   "source": [
    "sources['instrument'] = instrument\n"
   ]
  },
  {
   "cell_type": "code",
   "execution_count": 12,
   "metadata": {},
   "outputs": [],
   "source": [
    "sources.to_csv(output_path + 'sources.csv')"
   ]
  },
  {
   "cell_type": "markdown",
   "metadata": {},
   "source": [
    "## Use the above selected sources to make cutouts"
   ]
  },
  {
   "cell_type": "code",
   "execution_count": 13,
   "metadata": {},
   "outputs": [],
   "source": [
    "config = ZooniverseCutoutsTask.ConfigClass()\n",
    "config.urlRoot = url_root\n",
    "config.outputPath = output_path\n",
    "zooniverseCutouts = ZooniverseCutoutsTask(config)"
   ]
  },
  {
   "cell_type": "code",
   "execution_count": null,
   "metadata": {},
   "outputs": [],
   "source": []
  },
  {
   "cell_type": "code",
   "execution_count": 14,
   "metadata": {},
   "outputs": [
    {
     "name": "stdout",
     "output_type": "stream",
     "text": [
      "CPU times: user 57min 32s, sys: 10min 55s, total: 1h 8min 27s\n",
      "Wall time: 1h 31min 20s\n"
     ]
    }
   ],
   "source": [
    "%%time\n",
    "zooniverseCutouts.generate_images(sources, butler, collection)"
   ]
  },
  {
   "cell_type": "markdown",
   "metadata": {},
   "source": [
    "NOTE: `generate_images` took about 3.5 minutes on 100 sources without the lru_cache, vs. about 30 seconds with the cache on (and all 100 sources were on the same detector/visit)."
   ]
  },
  {
   "cell_type": "code",
   "execution_count": 15,
   "metadata": {},
   "outputs": [],
   "source": [
    "manifest = zooniverseCutouts.make_manifest(sources)\n",
    "manifest.to_csv(os.path.join(config.outputPath, \"manifest.csv\"), index=False)"
   ]
  },
  {
   "cell_type": "markdown",
   "metadata": {},
   "source": [
    "## Display some images"
   ]
  },
  {
   "cell_type": "code",
   "execution_count": 16,
   "metadata": {},
   "outputs": [
    {
     "data": {
      "image/png": "[encoded data removed]",
      "text/plain": [
       "<IPython.core.display.Image object>"
      ]
     },
     "metadata": {},
     "output_type": "display_data"
    },
    {
     "data": {
      "image/png": "[encoded data removed]",
      "text/plain": [
       "<IPython.core.display.Image object>"
      ]
     },
     "metadata": {},
     "output_type": "display_data"
    },
    {
     "data": {
      "image/png": "[encoded data removed]",
      "text/plain": [
       "<IPython.core.display.Image object>"
      ]
     },
     "metadata": {},
     "output_type": "display_data"
    },
    {
     "data": {
      "image/png": "[encoded data removed]",
      "text/plain": [
       "<IPython.core.display.Image object>"
      ]
     },
     "metadata": {},
     "output_type": "display_data"
    },
    {
     "data": {
      "image/png": "[encoded data removed]",
      "text/plain": [
       "<IPython.core.display.Image object>"
      ]
     },
     "metadata": {},
     "output_type": "display_data"
    },
    {
     "data": {
      "image/png": "[encoded data removed]",
      "text/plain": [
       "<IPython.core.display.Image object>"
      ]
     },
     "metadata": {},
     "output_type": "display_data"
    },
    {
     "data": {
      "image/png": "[encoded data removed]",
      "text/plain": [
       "<IPython.core.display.Image object>"
      ]
     },
     "metadata": {},
     "output_type": "display_data"
    },
    {
     "data": {
      "image/png": "[encoded data removed]",
      "text/plain": [
       "<IPython.core.display.Image object>"
      ]
     },
     "metadata": {},
     "output_type": "display_data"
    },
    {
     "data": {
      "image/png": "[encoded data removed]",
      "text/plain": [
       "<IPython.core.display.Image object>"
      ]
     },
     "metadata": {},
     "output_type": "display_data"
    },
    {
     "data": {
      "image/png": "[encoded data removed]",
      "text/plain": [
       "<IPython.core.display.Image object>"
      ]
     },
     "metadata": {},
     "output_type": "display_data"
    }
   ],
   "source": [
    "files = glob.glob(os.path.join(config.outputPath, \"images\", \"*.png\"))\n",
    "for file in files[:10]:\n",
    "    image = IPython.display.Image(file)\n",
    "    IPython.display.display(image)"
   ]
  },
  {
   "cell_type": "markdown",
   "metadata": {},
   "source": [
    "### Submit data to Panoptes\n",
    "copied from DM-27813-Crowded-Field-to-Zooniverse.ipynb"
   ]
  },
  {
   "cell_type": "code",
   "execution_count": 18,
   "metadata": {},
   "outputs": [
    {
     "name": "stderr",
     "output_type": "stream",
     "text": [
      "/home/ebellm/.local/lib/python3.8/site-packages/requests/__init__.py:89: RequestsDependencyWarning: urllib3 (1.25.11) or chardet (4.0.0) doesn't match a supported version!\n",
      "  warnings.warn(\"urllib3 ({}) or chardet ({}) doesn't match a supported \"\n"
     ]
    },
    {
     "data": {
      "text/plain": [
       "'true'"
      ]
     },
     "execution_count": 18,
     "metadata": {},
     "output_type": "execute_result"
    }
   ],
   "source": [
    "import panoptes_client\n",
    "import sys,os,os.path,logging,json\n",
    "# Add panoptes API client debugging to Stderr\n",
    "os.environ['PANOPTES_DEBUG'] = 'true'\n",
    "os.environ['PANOPTES_DEBUG']"
   ]
  },
  {
   "cell_type": "code",
   "execution_count": 19,
   "metadata": {},
   "outputs": [],
   "source": [
    "\n",
    "\n",
    "# Get access to the API client logs\n",
    "logger = logging.getLogger()\n",
    "logger.setLevel(logging.DEBUG)\n",
    "\n",
    "# Create STDERR handler\n",
    "handler = logging.StreamHandler(sys.stderr)\n",
    "\n",
    "# Create formatter and add it to the handler\n",
    "formatter = logging.Formatter('%(name)s - %(levelname)s - %(message)s')\n",
    "handler.setFormatter(formatter)\n",
    "\n",
    "# Set STDERR handler as the only handler \n",
    "logger.handlers = [handler]\n",
    "\n"
   ]
  },
  {
   "cell_type": "code",
   "execution_count": 20,
   "metadata": {},
   "outputs": [
    {
     "name": "stdout",
     "output_type": "stream",
     "text": [
      "Enter your Zooniverse credentials...\n"
     ]
    },
    {
     "name": "stdin",
     "output_type": "stream",
     "text": [
      "Username:  ebellm\n",
      " ······························\n"
     ]
    },
    {
     "name": "stderr",
     "output_type": "stream",
     "text": [
      "urllib3.connectionpool - DEBUG - Starting new HTTPS connection (1): www.zooniverse.org:443\n",
      "urllib3.connectionpool - DEBUG - https://www.zooniverse.org:443 \"GET /users/sign_in HTTP/1.1\" 200 None\n",
      "urllib3.connectionpool - DEBUG - https://www.zooniverse.org:443 \"POST /users/sign_in HTTP/1.1\" 200 None\n",
      "urllib3.connectionpool - DEBUG - https://www.zooniverse.org:443 \"GET /users/sign_in HTTP/1.1\" 200 None\n",
      "urllib3.connectionpool - DEBUG - https://www.zooniverse.org:443 \"POST /users/sign_in HTTP/1.1\" 200 None\n"
     ]
    }
   ],
   "source": [
    "client = panoptes_client.Panoptes.connect(login=\"interactive\")"
   ]
  },
  {
   "cell_type": "code",
   "execution_count": 21,
   "metadata": {},
   "outputs": [
    {
     "name": "stderr",
     "output_type": "stream",
     "text": [
      "urllib3.connectionpool - DEBUG - https://www.zooniverse.org:443 \"POST /oauth/token HTTP/1.1\" 200 None\n",
      "panoptes_client - DEBUG - params={'slug': 'ebellm/alert-production-zoo'}\n",
      "redo - DEBUG - attempt 1/5\n",
      "urllib3.connectionpool - DEBUG - https://www.zooniverse.org:443 \"GET /api/projects?slug=ebellm%2Falert-production-zoo HTTP/1.1\" 200 None\n"
     ]
    }
   ],
   "source": [
    "project = panoptes_client.Project.find(slug='ebellm/alert-production-zoo')"
   ]
  },
  {
   "cell_type": "code",
   "execution_count": 22,
   "metadata": {},
   "outputs": [
    {
     "data": {
      "text/plain": [
       "'11152'"
      ]
     },
     "execution_count": 22,
     "metadata": {},
     "output_type": "execute_result"
    }
   ],
   "source": [
    "project.id"
   ]
  },
  {
   "cell_type": "code",
   "execution_count": 23,
   "metadata": {},
   "outputs": [
    {
     "name": "stdout",
     "output_type": "stream",
     "text": [
      "[]\n"
     ]
    }
   ],
   "source": [
    "print([(ss.id, ss.display_name) for ss in project.links.subject_sets])"
   ]
  },
  {
   "cell_type": "code",
   "execution_count": 24,
   "metadata": {},
   "outputs": [
    {
     "name": "stderr",
     "output_type": "stream",
     "text": [
      "panoptes_client - DEBUG - json={'subject_sets': {'display_name': 'u/mrawls/DM-31053-HSC-fakes', 'links': {'project': '11152'}}}\n",
      "redo - DEBUG - attempt 1/1\n",
      "urllib3.connectionpool - DEBUG - https://www.zooniverse.org:443 \"POST /api/subject_sets HTTP/1.1\" 201 None\n",
      "panoptes_client - DEBUG - params={'slug': None}\n",
      "redo - DEBUG - attempt 1/5\n",
      "urllib3.connectionpool - DEBUG - https://www.zooniverse.org:443 \"GET /api/projects/11152 HTTP/1.1\" 200 None\n"
     ]
    }
   ],
   "source": [
    "# make a new subject set\n",
    "subject_set = panoptes_client.SubjectSet()\n",
    "\n",
    "subject_set.links.project = project\n",
    "subject_set.display_name = 'u/mrawls/DM-31053-HSC-fakes'\n",
    "\n",
    "subject_set.save()\n",
    "project.reload()"
   ]
  },
  {
   "cell_type": "code",
   "execution_count": 25,
   "metadata": {},
   "outputs": [
    {
     "data": {
      "text/plain": [
       "'{\"subject_set_imports\": {\"source_url\": \"https://lsst.ncsa.illinois.edu/~ebellm/zooniverse/manifest.csv\", \"links\": {\"subject_set\": \"97143\"}}}'"
      ]
     },
     "execution_count": 25,
     "metadata": {},
     "output_type": "execute_result"
    }
   ],
   "source": [
    "payload_dict = {\"subject_set_imports\": {\"source_url\": f\"{url_root}manifest.csv\", \"links\": {\"subject_set\": subject_set.id}}}\n",
    "\n",
    "json.dumps(payload_dict)"
   ]
  },
  {
   "cell_type": "code",
   "execution_count": 26,
   "metadata": {},
   "outputs": [
    {
     "name": "stderr",
     "output_type": "stream",
     "text": [
      "panoptes_client - DEBUG - json={'subject_set_imports': {'source_url': 'https://lsst.ncsa.illinois.edu/~ebellm/zooniverse/manifest.csv', 'links': {'subject_set': '97143'}}}\n",
      "redo - DEBUG - attempt 1/1\n",
      "urllib3.connectionpool - DEBUG - https://www.zooniverse.org:443 \"POST /api/subject_set_imports HTTP/1.1\" 201 None\n"
     ]
    }
   ],
   "source": [
    "# request the import via the API client (custom path as this isn't an exposed resource in the client)\n",
    "# this should be added to the Zooniverse python client / cli tools to improve the user experience\n",
    "# https://github.com/zooniverse/panoptes-python-client/issues/255\n",
    "json_response, etag = client.post(path='/subject_set_imports', json=payload_dict)"
   ]
  },
  {
   "cell_type": "code",
   "execution_count": 27,
   "metadata": {},
   "outputs": [
    {
     "data": {
      "text/plain": [
       "{'subject_set_imports': [{'id': '8',\n",
       "   'href': '/subject_set_imports/8',\n",
       "   'created_at': '2021-08-04T23:57:22.312Z',\n",
       "   'updated_at': '2021-08-04T23:57:22.312Z',\n",
       "   'source_url': 'https://lsst.ncsa.illinois.edu/~ebellm/zooniverse/manifest.csv',\n",
       "   'links': {'subject_set': '97143', 'user': '1649740'}}],\n",
       " 'links': {'subject_set_imports.subject_set': {'href': '/subject_sets/{subject_set_imports.subject_set}',\n",
       "   'type': 'subject_sets'},\n",
       "  'subject_set_imports.user': {'href': '/users/{subject_set_imports.user}',\n",
       "   'type': 'users'}},\n",
       " 'meta': {'subject_set_imports': {'page': 1,\n",
       "   'page_size': 20,\n",
       "   'count': 1,\n",
       "   'include': [],\n",
       "   'page_count': 1,\n",
       "   'previous_page': None,\n",
       "   'next_page': None,\n",
       "   'first_href': '/subject_set_imports',\n",
       "   'previous_href': None,\n",
       "   'next_href': None,\n",
       "   'last_href': '/subject_set_imports'}}}"
      ]
     },
     "execution_count": 27,
     "metadata": {},
     "output_type": "execute_result"
    }
   ],
   "source": [
    "json_response"
   ]
  },
  {
   "cell_type": "code",
   "execution_count": 28,
   "metadata": {},
   "outputs": [
    {
     "name": "stderr",
     "output_type": "stream",
     "text": [
      "redo - DEBUG - attempt 1/1\n",
      "urllib3.connectionpool - DEBUG - https://www.zooniverse.org:443 \"GET /api/subject_set_imports/8 HTTP/1.1\" 200 None\n"
     ]
    }
   ],
   "source": [
    "subject_set_imports_path = '/subject_set_imports/{}'.format(json_response['subject_set_imports'][0]['id'])\n",
    "json_response, etag = client.get(path=subject_set_imports_path)"
   ]
  },
  {
   "cell_type": "code",
   "execution_count": 29,
   "metadata": {},
   "outputs": [
    {
     "data": {
      "text/plain": [
       "{'subject_set_imports': [{'id': '8',\n",
       "   'href': '/subject_set_imports/8',\n",
       "   'created_at': '2021-08-04T23:57:22.312Z',\n",
       "   'updated_at': '2021-08-04T23:57:22.312Z',\n",
       "   'source_url': 'https://lsst.ncsa.illinois.edu/~ebellm/zooniverse/manifest.csv',\n",
       "   'links': {'subject_set': '97143', 'user': '1649740'}}],\n",
       " 'links': {'subject_set_imports.subject_set': {'href': '/subject_sets/{subject_set_imports.subject_set}',\n",
       "   'type': 'subject_sets'},\n",
       "  'subject_set_imports.user': {'href': '/users/{subject_set_imports.user}',\n",
       "   'type': 'users'}},\n",
       " 'meta': {'subject_set_imports': {'page': 1,\n",
       "   'page_size': 20,\n",
       "   'count': 1,\n",
       "   'include': [],\n",
       "   'page_count': 1,\n",
       "   'previous_page': None,\n",
       "   'next_page': None,\n",
       "   'first_href': '/subject_set_imports?id=8',\n",
       "   'previous_href': None,\n",
       "   'next_href': None,\n",
       "   'last_href': '/subject_set_imports?id=8'}}}"
      ]
     },
     "execution_count": 29,
     "metadata": {},
     "output_type": "execute_result"
    }
   ],
   "source": [
    "json_response"
   ]
  },
  {
   "cell_type": "code",
   "execution_count": null,
   "metadata": {},
   "outputs": [],
   "source": []
  }
 ],
 "metadata": {
  "kernelspec": {
   "display_name": "LSST",
   "language": "python",
   "name": "lsst"
  },
  "language_info": {
   "codemirror_mode": {
    "name": "ipython",
    "version": 3
   },
   "file_extension": ".py",
   "mimetype": "text/x-python",
   "name": "python",
   "nbconvert_exporter": "python",
   "pygments_lexer": "ipython3",
   "version": "3.8.8"
  }
 },
 "nbformat": 4,
 "nbformat_minor": 4
}
