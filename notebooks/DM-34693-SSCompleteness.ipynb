{
 "cells": [
  {
   "cell_type": "markdown",
   "id": "7d058030-5d51-40e1-b31a-07192b7c4276",
   "metadata": {},
   "source": [
    "## DM-34693: Investigate lack of solar system matches in ap_verify runs\n",
    "\n",
    "Notebook for various debugging tasks in this ticket."
   ]
  },
  {
   "cell_type": "code",
   "execution_count": 1,
   "id": "a0b54719-6684-436b-a1cf-c8aee716ca19",
   "metadata": {},
   "outputs": [
    {
     "name": "stderr",
     "output_type": "stream",
     "text": [
      "\n",
      "WARNING: version mismatch between CFITSIO header (v4.000999999999999) and linked library (v4.01).\n",
      "\n",
      "\n",
      "WARNING: version mismatch between CFITSIO header (v4.000999999999999) and linked library (v4.01).\n",
      "\n",
      "\n",
      "WARNING: version mismatch between CFITSIO header (v4.000999999999999) and linked library (v4.01).\n",
      "\n"
     ]
    },
    {
     "name": "stdout",
     "output_type": "stream",
     "text": [
      "Overriding default configuration file with /opt/lsst/software/stack/stack/miniconda3-py38_4.9.2-3.0.0/Linux64/dustmaps_cachedata/g41a3ec361e+164b02c8d4/config/.dustmapsrc\n"
     ]
    }
   ],
   "source": [
    "import os\n",
    "import numpy as np\n",
    "\n",
    "import scipy\n",
    "import matplotlib.pyplot as plt\n",
    "import pandas as pd\n",
    "import sqlite3\n",
    "import lsst.daf.persistence as dafPersist\n",
    "import lsst.afw.display as afwDisplay\n",
    "import lsst.afw.display as afw_display\n",
    "import lsst.geom\n",
    "afwDisplay.setDefaultBackend('firefly')\n",
    "import matplotlib.ticker as plticker\n",
    "import lsst.afw.cameraGeom.testUtils as testUtils\n",
    "import lsst.afw.cameraGeom as cameraGeom\n",
    "from lsst.obs.hsc import HscMapper as mapper\n",
    "import lsst.daf.butler as dafButler\n",
    "from skimage.filters import gaussian\n",
    "from lsst.ap.association import UnpackApdbFlags, TransformDiaSourceCatalogConfig\n",
    "from operator import itemgetter\n",
    "from itertools import groupby\n",
    "\n",
    "import astropy.units as u\n",
    "from astropy.visualization import (ZScaleInterval, SqrtStretch, ImageNormalize)\n",
    "import astropy.coordinates as coord\n",
    "import pyarrow.parquet as pq\n",
    "import lsst.daf.butler as dafButler\n",
    "\n"
   ]
  },
  {
   "cell_type": "code",
   "execution_count": 2,
   "id": "0dbfa90e-8d9e-4d72-8047-08ea2526862f",
   "metadata": {},
   "outputs": [],
   "source": [
    "import sys\n",
    "sys.path.append('/project/mrawls/ap_pipe-notebooks/')\n",
    "import diaObjectAnalysis as doa\n",
    "import apdbPlots as pla\n",
    "import plotLightcurve as plc\n",
    "import coaddAnalysis as coa"
   ]
  },
  {
   "cell_type": "code",
   "execution_count": 3,
   "id": "2524daf1-de41-4561-977e-14503de02e8c",
   "metadata": {},
   "outputs": [],
   "source": [
    "collection='ap_verify-output'\n",
    "repo = '/scratch/krzys001/sso_demo/repo/'\n",
    "butler = dafButler.Butler(repo, collections=collection)"
   ]
  },
  {
   "cell_type": "code",
   "execution_count": 4,
   "id": "15e036bb-6df7-4f36-937d-297078e15357",
   "metadata": {},
   "outputs": [],
   "source": [
    "ephem = butler.get(\"visitSsObjects\", visit=411420)\n",
    "filtered = ephem.loc[ephem.apply(lambda x: x[\"ssObjectId\"] in {43707620656988304, 44866635817748191, 15168997349454932}, axis=1),\n",
    "                     ['Name', 'ra', 'decl', 'Mv', 'Err(arcsec)', 'Phase(deg)', 'ssObjectId']]"
   ]
  },
  {
   "cell_type": "code",
   "execution_count": 5,
   "id": "3010c55a-197f-4570-b1a9-f253fdb3f1e9",
   "metadata": {},
   "outputs": [
    {
     "data": {
      "text/html": [
       "<div>\n",
       "<style scoped>\n",
       "    .dataframe tbody tr th:only-of-type {\n",
       "        vertical-align: middle;\n",
       "    }\n",
       "\n",
       "    .dataframe tbody tr th {\n",
       "        vertical-align: top;\n",
       "    }\n",
       "\n",
       "    .dataframe thead th {\n",
       "        text-align: right;\n",
       "    }\n",
       "</style>\n",
       "<table border=\"1\" class=\"dataframe\">\n",
       "  <thead>\n",
       "    <tr style=\"text-align: right;\">\n",
       "      <th></th>\n",
       "      <th>Name</th>\n",
       "      <th>ra</th>\n",
       "      <th>decl</th>\n",
       "      <th>Mv</th>\n",
       "      <th>Err(arcsec)</th>\n",
       "      <th>Phase(deg)</th>\n",
       "      <th>ssObjectId</th>\n",
       "    </tr>\n",
       "  </thead>\n",
       "  <tbody>\n",
       "    <tr>\n",
       "      <th>9</th>\n",
       "      <td>2015 DL180</td>\n",
       "      <td>154.829397</td>\n",
       "      <td>-5.755249</td>\n",
       "      <td>21.4</td>\n",
       "      <td>0.740</td>\n",
       "      <td>5.82</td>\n",
       "      <td>43707620656988304</td>\n",
       "    </tr>\n",
       "    <tr>\n",
       "      <th>11</th>\n",
       "      <td>2000 SS305</td>\n",
       "      <td>154.891963</td>\n",
       "      <td>-5.847119</td>\n",
       "      <td>20.1</td>\n",
       "      <td>0.226</td>\n",
       "      <td>5.74</td>\n",
       "      <td>44866635817748191</td>\n",
       "    </tr>\n",
       "    <tr>\n",
       "      <th>12</th>\n",
       "      <td>2016 LG24</td>\n",
       "      <td>155.209887</td>\n",
       "      <td>-5.957342</td>\n",
       "      <td>21.3</td>\n",
       "      <td>1.491</td>\n",
       "      <td>5.69</td>\n",
       "      <td>15168997349454932</td>\n",
       "    </tr>\n",
       "  </tbody>\n",
       "</table>\n",
       "</div>"
      ],
      "text/plain": [
       "            Name          ra      decl    Mv  Err(arcsec)  Phase(deg)  \\\n",
       "9    2015 DL180   154.829397 -5.755249  21.4        0.740        5.82   \n",
       "11   2000 SS305   154.891963 -5.847119  20.1        0.226        5.74   \n",
       "12    2016 LG24   155.209887 -5.957342  21.3        1.491        5.69   \n",
       "\n",
       "           ssObjectId  \n",
       "9   43707620656988304  \n",
       "11  44866635817748191  \n",
       "12  15168997349454932  "
      ]
     },
     "execution_count": 5,
     "metadata": {},
     "output_type": "execute_result"
    }
   ],
   "source": [
    "filtered"
   ]
  },
  {
   "cell_type": "code",
   "execution_count": 6,
   "id": "28efebdb-c632-4dc8-befa-d59d4bb8e5a8",
   "metadata": {},
   "outputs": [
    {
     "data": {
      "image/png": "[encoded data removed]",
      "text/plain": [
       "<Figure size 432x288 with 3 Axes>"
      ]
     },
     "metadata": {
      "needs_background": "light"
     },
     "output_type": "display_data"
    },
    {
     "data": {
      "image/png": "[encoded data removed]",
      "text/plain": [
       "<Figure size 432x288 with 3 Axes>"
      ]
     },
     "metadata": {
      "needs_background": "light"
     },
     "output_type": "display_data"
    },
    {
     "data": {
      "image/png": "[encoded data removed]",
      "text/plain": [
       "<Figure size 432x288 with 3 Axes>"
      ]
     },
     "metadata": {
      "needs_background": "light"
     },
     "output_type": "display_data"
    }
   ],
   "source": [
    "for index,x in filtered.iterrows():\n",
    "    \n",
    "    dataId = {\"instrument\": \"DECam\", \"visit\": 411420, \"detector\": 5}\n",
    "    sp = lsst.geom.SpherePoint(x.ra, x.decl, lsst.geom.degrees)\n",
    "    try:\n",
    "        scienceCutout, differenceCutout, templateCutout = plc.retrieveCutouts(butler, dataId, collection, sp)\n",
    "        plc.plotCutout(scienceCutout, differenceCutout, templateCutout)   \n",
    "    except:\n",
    "        dataId = {\"instrument\": \"DECam\", \"visit\": 411420, \"detector\": 10}\n",
    "        scienceCutout, differenceCutout, templateCutout = plc.retrieveCutouts(butler, dataId, collection, sp)\n",
    "        plc.plotCutout(scienceCutout, differenceCutout, templateCutout)"
   ]
  },
  {
   "cell_type": "code",
   "execution_count": 7,
   "id": "b3df6c02-242d-4eef-8338-4335009dde7a",
   "metadata": {},
   "outputs": [],
   "source": [
    "cexp = butler.get(\"calexp\",dataId=dataId,collections=collection)"
   ]
  },
  {
   "cell_type": "code",
   "execution_count": 8,
   "id": "f1a0b742-90fa-4941-a8dd-a71705f51d39",
   "metadata": {},
   "outputs": [
    {
     "data": {
      "text/plain": [
       "[SpherePoint(154.97054081071053*degrees, -5.866078103626195*degrees),\n",
       " SpherePoint(154.97035160372852*degrees, -6.015527515614197*degrees),\n",
       " SpherePoint(155.27171929820906*degrees, -6.015661272282916*degrees),\n",
       " SpherePoint(155.27166556312434*degrees, -5.866241519558192*degrees)]"
      ]
     },
     "execution_count": 8,
     "metadata": {},
     "output_type": "execute_result"
    }
   ],
   "source": [
    "cexp.getWcs().pixelToSky([lsst.geom.Point2D(x) for x in cexp.getBBox().getCorners()])"
   ]
  },
  {
   "cell_type": "markdown",
   "id": "b2dc1070-ef05-4228-adfd-a90dc68325f8",
   "metadata": {},
   "source": [
    "So, looks like the source locations are indeed within the expected bounding boxes, but as seen in the cutouts, there's really nothing to detect at those locations."
   ]
  },
  {
   "cell_type": "code",
   "execution_count": null,
   "id": "559ff5a2-740b-4551-9265-5ca786abb17d",
   "metadata": {},
   "outputs": [],
   "source": []
  }
 ],
 "metadata": {
  "kernelspec": {
   "display_name": "LSST",
   "language": "python",
   "name": "lsst"
  },
  "language_info": {
   "codemirror_mode": {
    "name": "ipython",
    "version": 3
   },
   "file_extension": ".py",
   "mimetype": "text/x-python",
   "name": "python",
   "nbconvert_exporter": "python",
   "pygments_lexer": "ipython3",
   "version": "3.8.13"
  }
 },
 "nbformat": 4,
 "nbformat_minor": 5
}
