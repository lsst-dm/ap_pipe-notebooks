{
 "cells": [
  {
   "cell_type": "markdown",
   "id": "7e022c1d",
   "metadata": {},
   "source": [
    "# DM-36076: Make HiTS completeness plots for PST status talk, Sept. 2022\n",
    "\n",
    "* based on  DM-34711 HSC with fakes processing\n",
    "* no APDB available at present due to USDF migration\n",
    "\n",
    "* Repository is `/repo/main` and collection is `u/mrawls/DM-34711/hsc9813-fakes`\n",
    "\n",
    "* test on CI for now: `/sdf/home/e/ebellm/u/workspace/cosmos/repo` and collection `ap_verify-output`\n",
    "\n",
    "* Pipeline is in \n",
    "* BPS configuration file is in \n",
    "* Logs are in \n",
    "* APDB is in Postgres at  in schema `mrawls_DM34710_take2`."
   ]
  },
  {
   "cell_type": "code",
   "execution_count": 1,
   "id": "d1f32c36",
   "metadata": {},
   "outputs": [
    {
     "name": "stdout",
     "output_type": "stream",
     "text": [
      "Overriding default configuration file with /opt/lsst/software/stack/stack/miniconda3-py38_4.9.2-4.1.0/Linux64/dustmaps_cachedata/g41a3ec361e+c9b10be330/config/.dustmapsrc\n"
     ]
    }
   ],
   "source": [
    "%matplotlib inline\n",
    "#%matplotlib widget # interactive but doesn't persist\n",
    "\n",
    "\n",
    "import os\n",
    "import sys\n",
    "import numpy as np\n",
    "import matplotlib.pyplot as plt\n",
    "import importlib\n",
    "import pandas as pd\n",
    "\n",
    "from astropy.coordinates import SkyCoord\n",
    "import astropy.units as u\n",
    "\n",
    "import lsst.geom\n",
    "import lsst.daf.butler as dafButler\n",
    "from lsst.ap.association import UnpackApdbFlags, TransformDiaSourceCatalogConfig\n",
    "\n",
    "sys.path.append('..')\n",
    "import diaObjectAnalysis as doa\n",
    "import apdbPlots as pla\n",
    "import plotLightcurve as plc\n",
    "import coaddAnalysis as coa\n",
    "import seaborn as sns"
   ]
  },
  {
   "cell_type": "code",
   "execution_count": 2,
   "id": "2f0d26fe",
   "metadata": {},
   "outputs": [],
   "source": [
    "sns.set_context('talk')"
   ]
  },
  {
   "cell_type": "code",
   "execution_count": 3,
   "id": "a3e8dfb2",
   "metadata": {},
   "outputs": [
    {
     "data": {
      "text/plain": [
       "<module 'coaddAnalysis' from '/sdf/data/rubin/u/ebellm/workspace/ap_pipe-notebooks/notebooks/../coaddAnalysis.py'>"
      ]
     },
     "execution_count": 3,
     "metadata": {},
     "output_type": "execute_result"
    }
   ],
   "source": [
    "# Only if you change anything in the code imported above\n",
    "importlib.reload(doa)\n",
    "importlib.reload(pla)\n",
    "importlib.reload(plc)\n",
    "importlib.reload(coa)"
   ]
  },
  {
   "cell_type": "code",
   "execution_count": 4,
   "id": "d8003353",
   "metadata": {},
   "outputs": [],
   "source": [
    "repo = '/repo/main'\n",
    "#repo = '/sdf/group/rubin/u/ebellm/workspace/cosmos/repo'\n",
    "butler = dafButler.Butler(repo)"
   ]
  },
  {
   "cell_type": "code",
   "execution_count": 5,
   "id": "1121f819",
   "metadata": {},
   "outputs": [],
   "source": [
    "collection = 'u/mrawls/DM-34710/hits2015-fakes'\n",
    "#collection = 'ap_verify-output'\n",
    "\n",
    "#dbSchema = 'mrawls_DM31053'\n",
    "instrument = 'HSC'\n",
    "skymap = 'hsc_rings_v1'"
   ]
  },
  {
   "cell_type": "code",
   "execution_count": 6,
   "id": "26f7d43e",
   "metadata": {},
   "outputs": [],
   "source": [
    "badFlagList = ['base_PixelFlags_flag_bad',\n",
    "               'base_PixelFlags_flag_suspect',\n",
    "               'base_PixelFlags_flag_saturatedCenter',\n",
    "               'base_PixelFlags_flag_interpolated',\n",
    "               'base_PixelFlags_flag_interpolatedCenter',\n",
    "               'base_PixelFlags_flag_edge',\n",
    "              ]"
   ]
  },
  {
   "cell_type": "code",
   "execution_count": 82,
   "id": "02b31618",
   "metadata": {},
   "outputs": [],
   "source": [
    "objTable, srcTable, goodObj, goodSrc = pla.loadTables(repo,\n",
    "                                                      dbType='sqlite',\n",
    "                                                      dbName='association.db',\n",
    "                                                      isVerify=True,\n",
    "                                                      schema=None,\n",
    "                                                      gen='gen3',\n",
    "                                                      instrument=instrument,\n",
    "                                                      badFlagList=badFlagList)"
   ]
  },
  {
   "cell_type": "code",
   "execution_count": null,
   "id": "9ce70086-1965-49c2-9d82-8b576caa3997",
   "metadata": {},
   "outputs": [],
   "source": [
    "#objTable, srcTable, goodObj, goodSrc = pla.loadTables(repo,\n",
    "#                                                      dbType='postgres',\n",
    "#                                                      dbName='lsstdevapdb1',\n",
    "#                                                      schema=dbSchema,\n",
    "#                                                      gen='gen3',\n",
    "#                                                      instrument=instrument,\n",
    "#                                                      badFlagList=badFlagList)"
   ]
  },
  {
   "cell_type": "code",
   "execution_count": 83,
   "id": "35ef3685",
   "metadata": {},
   "outputs": [],
   "source": [
    "srcTable = pla.addVisitCcdToSrcTable(srcTable, instrument=instrument, gen='gen3', butler=butler)\n",
    "flagTable, srcTableFlags, flagFilter, goodSrc, goodObj = pla.makeSrcTableFlags(srcTable, objTable,\n",
    "                                                                               badFlagList=badFlagList,\n",
    "                                                                               gen='gen3', instrument=instrument,\n",
    "                                                                               repo=repo)"
   ]
  },
  {
   "cell_type": "code",
   "execution_count": 7,
   "id": "6cb61a74",
   "metadata": {},
   "outputs": [],
   "source": [
    "bandList = ['g', 'r', 'i', 'z', 'y']\n",
    "colorList = ['C2', 'C1', 'C3', 'C5', 'k']"
   ]
  },
  {
   "cell_type": "markdown",
   "id": "9e2f9e96",
   "metadata": {},
   "source": [
    "## Access synthetic source information\n",
    "\n",
    "The `matchFakesTask` created one `fakes_goodSeeingDiff_matchDiaSrc` per visit and detector. It's a pandas dataframe, so we need to load them all up and create one with everything."
   ]
  },
  {
   "cell_type": "code",
   "execution_count": 8,
   "id": "1571581d",
   "metadata": {},
   "outputs": [],
   "source": [
    "fakesMatchDiaSrc = butler.registry.queryDatasets(collections=collection,datasetType='fakes_goodSeeingDiff_matchDiaSrc')"
   ]
  },
  {
   "cell_type": "code",
   "execution_count": 9,
   "id": "a550d5bf-c050-44a5-9d8f-42ccedc93cbb",
   "metadata": {},
   "outputs": [],
   "source": [
    "#fakesMatchDiaSrc = butler.registry.queryDatasets(collections=collection,datasetType='fakes_deepDiff_matchDiaSrc')"
   ]
  },
  {
   "cell_type": "code",
   "execution_count": 10,
   "id": "d971558f-d260-4bbf-95f0-fcce8d58aba7",
   "metadata": {},
   "outputs": [
    {
     "data": {
      "text/plain": [
       "5040"
      ]
     },
     "execution_count": 10,
     "metadata": {},
     "output_type": "execute_result"
    }
   ],
   "source": [
    "len(list(fakesMatchDiaSrc))"
   ]
  },
  {
   "cell_type": "code",
   "execution_count": 11,
   "id": "11732259",
   "metadata": {},
   "outputs": [
    {
     "name": "stdout",
     "output_type": "stream",
     "text": [
      "CPU times: user 11.2 s, sys: 2.95 s, total: 14.1 s\n",
      "Wall time: 55.1 s\n"
     ]
    }
   ],
   "source": [
    "%%time\n",
    "visitDetectorFrames = []\n",
    "\n",
    "i = 0\n",
    "maxi = 1000\n",
    "#maxi = -1\n",
    "\n",
    "for datasetRef in fakesMatchDiaSrc: \n",
    "    try:\n",
    "        frame = butler.getDirect(datasetRef)\n",
    "        \n",
    "        # nondetected sources don't have DIASource records--so propagate metadata to all rows\n",
    "        # grab a detected row\n",
    "        w = frame['diaSourceId'] > 0\n",
    "        if np.sum(w) == 0:\n",
    "            print(f'No real sources detected in {datasetRef}')\n",
    "            continue\n",
    "        ccdVisitId = int(frame.loc[w,'ccdVisitId'].iloc[0])\n",
    "        filterName = frame.loc[w,'filterName'].iloc[0]\n",
    "        # propagate to all rows\n",
    "        frame.loc[:,'ccdVisitId'] = ccdVisitId \n",
    "        frame.loc[:,'filterName'] = filterName \n",
    "    #except LookupError:\n",
    "        #print(f'No data for {datasetRef}')\n",
    "        #continue\n",
    "    except Exception as e:\n",
    "        raise(e)\n",
    "    else:\n",
    "        visitDetectorFrames.append(frame)\n",
    "    i+=1\n",
    "    if i == maxi:\n",
    "        break\n",
    "\n",
    "matchedDiaSources = pd.concat(visitDetectorFrames)\n",
    "\n",
    "matchedDiaSources.loc[:,'ra'] = np.degrees(matchedDiaSources['ra_x'])\n",
    "matchedDiaSources.loc[:,'decl'] = np.degrees(matchedDiaSources['dec'])"
   ]
  },
  {
   "cell_type": "code",
   "execution_count": 12,
   "id": "2c72500d",
   "metadata": {},
   "outputs": [
    {
     "data": {
      "text/html": [
       "<div>\n",
       "<style scoped>\n",
       "    .dataframe tbody tr th:only-of-type {\n",
       "        vertical-align: middle;\n",
       "    }\n",
       "\n",
       "    .dataframe tbody tr th {\n",
       "        vertical-align: top;\n",
       "    }\n",
       "\n",
       "    .dataframe thead th {\n",
       "        text-align: right;\n",
       "    }\n",
       "</style>\n",
       "<table border=\"1\" class=\"dataframe\">\n",
       "  <thead>\n",
       "    <tr style=\"text-align: right;\">\n",
       "      <th></th>\n",
       "      <th>fakeId</th>\n",
       "      <th>dec</th>\n",
       "      <th>ra_x</th>\n",
       "      <th>isVisitSource</th>\n",
       "      <th>isTemplateSource</th>\n",
       "      <th>u_mag</th>\n",
       "      <th>g_mag</th>\n",
       "      <th>r_mag</th>\n",
       "      <th>i_mag</th>\n",
       "      <th>z_mag</th>\n",
       "      <th>...</th>\n",
       "      <th>isDipole</th>\n",
       "      <th>totFlux</th>\n",
       "      <th>totFluxErr</th>\n",
       "      <th>ixx</th>\n",
       "      <th>iyy</th>\n",
       "      <th>ixy</th>\n",
       "      <th>ixxPSF</th>\n",
       "      <th>iyyPSF</th>\n",
       "      <th>ixyPSF</th>\n",
       "      <th>ra</th>\n",
       "    </tr>\n",
       "  </thead>\n",
       "  <tbody>\n",
       "    <tr>\n",
       "      <th>0</th>\n",
       "      <td>12328194368046917380</td>\n",
       "      <td>-0.098725</td>\n",
       "      <td>2.709162</td>\n",
       "      <td>True</td>\n",
       "      <td>False</td>\n",
       "      <td>23.950584</td>\n",
       "      <td>24.715749</td>\n",
       "      <td>23.950584</td>\n",
       "      <td>23.950584</td>\n",
       "      <td>23.950584</td>\n",
       "      <td>...</td>\n",
       "      <td>None</td>\n",
       "      <td>NaN</td>\n",
       "      <td>NaN</td>\n",
       "      <td>NaN</td>\n",
       "      <td>NaN</td>\n",
       "      <td>NaN</td>\n",
       "      <td>NaN</td>\n",
       "      <td>NaN</td>\n",
       "      <td>NaN</td>\n",
       "      <td>155.223537</td>\n",
       "    </tr>\n",
       "    <tr>\n",
       "      <th>1</th>\n",
       "      <td>10786914589037533224</td>\n",
       "      <td>-0.098930</td>\n",
       "      <td>2.711430</td>\n",
       "      <td>True</td>\n",
       "      <td>False</td>\n",
       "      <td>21.569786</td>\n",
       "      <td>22.098522</td>\n",
       "      <td>21.569786</td>\n",
       "      <td>21.569786</td>\n",
       "      <td>21.569786</td>\n",
       "      <td>...</td>\n",
       "      <td>False</td>\n",
       "      <td>5256.784466</td>\n",
       "      <td>135.648257</td>\n",
       "      <td>0.136344</td>\n",
       "      <td>0.128592</td>\n",
       "      <td>0.010188</td>\n",
       "      <td>0.147889</td>\n",
       "      <td>-0.001105</td>\n",
       "      <td>-0.001105</td>\n",
       "      <td>155.353507</td>\n",
       "    </tr>\n",
       "    <tr>\n",
       "      <th>2</th>\n",
       "      <td>10266316095425061820</td>\n",
       "      <td>-0.098082</td>\n",
       "      <td>2.709603</td>\n",
       "      <td>True</td>\n",
       "      <td>False</td>\n",
       "      <td>21.183443</td>\n",
       "      <td>20.638180</td>\n",
       "      <td>21.183443</td>\n",
       "      <td>21.183443</td>\n",
       "      <td>21.183443</td>\n",
       "      <td>...</td>\n",
       "      <td>False</td>\n",
       "      <td>19996.895435</td>\n",
       "      <td>135.044370</td>\n",
       "      <td>0.145991</td>\n",
       "      <td>0.123429</td>\n",
       "      <td>-0.001963</td>\n",
       "      <td>0.147946</td>\n",
       "      <td>-0.001106</td>\n",
       "      <td>-0.001106</td>\n",
       "      <td>155.248814</td>\n",
       "    </tr>\n",
       "    <tr>\n",
       "      <th>3</th>\n",
       "      <td>13728165483901070104</td>\n",
       "      <td>-0.099017</td>\n",
       "      <td>2.709777</td>\n",
       "      <td>True</td>\n",
       "      <td>False</td>\n",
       "      <td>21.609882</td>\n",
       "      <td>22.096219</td>\n",
       "      <td>21.609882</td>\n",
       "      <td>21.609882</td>\n",
       "      <td>21.609882</td>\n",
       "      <td>...</td>\n",
       "      <td>False</td>\n",
       "      <td>5494.136982</td>\n",
       "      <td>204.685183</td>\n",
       "      <td>0.142677</td>\n",
       "      <td>0.130548</td>\n",
       "      <td>-0.002722</td>\n",
       "      <td>0.147845</td>\n",
       "      <td>-0.001105</td>\n",
       "      <td>-0.001105</td>\n",
       "      <td>155.258813</td>\n",
       "    </tr>\n",
       "    <tr>\n",
       "      <th>4</th>\n",
       "      <td>9534982547039486306</td>\n",
       "      <td>-0.100171</td>\n",
       "      <td>2.712481</td>\n",
       "      <td>True</td>\n",
       "      <td>False</td>\n",
       "      <td>25.341527</td>\n",
       "      <td>26.307791</td>\n",
       "      <td>25.341527</td>\n",
       "      <td>25.341527</td>\n",
       "      <td>25.341527</td>\n",
       "      <td>...</td>\n",
       "      <td>None</td>\n",
       "      <td>NaN</td>\n",
       "      <td>NaN</td>\n",
       "      <td>NaN</td>\n",
       "      <td>NaN</td>\n",
       "      <td>NaN</td>\n",
       "      <td>NaN</td>\n",
       "      <td>NaN</td>\n",
       "      <td>NaN</td>\n",
       "      <td>155.413685</td>\n",
       "    </tr>\n",
       "    <tr>\n",
       "      <th>...</th>\n",
       "      <td>...</td>\n",
       "      <td>...</td>\n",
       "      <td>...</td>\n",
       "      <td>...</td>\n",
       "      <td>...</td>\n",
       "      <td>...</td>\n",
       "      <td>...</td>\n",
       "      <td>...</td>\n",
       "      <td>...</td>\n",
       "      <td>...</td>\n",
       "      <td>...</td>\n",
       "      <td>...</td>\n",
       "      <td>...</td>\n",
       "      <td>...</td>\n",
       "      <td>...</td>\n",
       "      <td>...</td>\n",
       "      <td>...</td>\n",
       "      <td>...</td>\n",
       "      <td>...</td>\n",
       "      <td>...</td>\n",
       "      <td>...</td>\n",
       "    </tr>\n",
       "    <tr>\n",
       "      <th>107</th>\n",
       "      <td>9666681264388531435</td>\n",
       "      <td>-0.106794</td>\n",
       "      <td>2.701696</td>\n",
       "      <td>False</td>\n",
       "      <td>True</td>\n",
       "      <td>23.363568</td>\n",
       "      <td>-23.363568</td>\n",
       "      <td>23.363568</td>\n",
       "      <td>23.363568</td>\n",
       "      <td>23.363568</td>\n",
       "      <td>...</td>\n",
       "      <td>False</td>\n",
       "      <td>-79.676424</td>\n",
       "      <td>110.336652</td>\n",
       "      <td>NaN</td>\n",
       "      <td>NaN</td>\n",
       "      <td>NaN</td>\n",
       "      <td>0.138446</td>\n",
       "      <td>0.017514</td>\n",
       "      <td>0.017514</td>\n",
       "      <td>154.795787</td>\n",
       "    </tr>\n",
       "    <tr>\n",
       "      <th>108</th>\n",
       "      <td>13107928418719726475</td>\n",
       "      <td>-0.107034</td>\n",
       "      <td>2.700900</td>\n",
       "      <td>False</td>\n",
       "      <td>True</td>\n",
       "      <td>24.116585</td>\n",
       "      <td>-24.116585</td>\n",
       "      <td>24.116585</td>\n",
       "      <td>24.116585</td>\n",
       "      <td>24.116585</td>\n",
       "      <td>...</td>\n",
       "      <td>False</td>\n",
       "      <td>-112.741042</td>\n",
       "      <td>110.524665</td>\n",
       "      <td>NaN</td>\n",
       "      <td>NaN</td>\n",
       "      <td>NaN</td>\n",
       "      <td>0.138417</td>\n",
       "      <td>0.017511</td>\n",
       "      <td>0.017511</td>\n",
       "      <td>154.750149</td>\n",
       "    </tr>\n",
       "    <tr>\n",
       "      <th>109</th>\n",
       "      <td>9878930928979279144</td>\n",
       "      <td>-0.105355</td>\n",
       "      <td>2.699246</td>\n",
       "      <td>False</td>\n",
       "      <td>True</td>\n",
       "      <td>23.184871</td>\n",
       "      <td>-23.184871</td>\n",
       "      <td>23.184871</td>\n",
       "      <td>23.184871</td>\n",
       "      <td>23.184871</td>\n",
       "      <td>...</td>\n",
       "      <td>None</td>\n",
       "      <td>NaN</td>\n",
       "      <td>NaN</td>\n",
       "      <td>NaN</td>\n",
       "      <td>NaN</td>\n",
       "      <td>NaN</td>\n",
       "      <td>NaN</td>\n",
       "      <td>NaN</td>\n",
       "      <td>NaN</td>\n",
       "      <td>154.655384</td>\n",
       "    </tr>\n",
       "    <tr>\n",
       "      <th>110</th>\n",
       "      <td>13202665334932651569</td>\n",
       "      <td>-0.105892</td>\n",
       "      <td>2.698420</td>\n",
       "      <td>False</td>\n",
       "      <td>True</td>\n",
       "      <td>22.961613</td>\n",
       "      <td>-22.961613</td>\n",
       "      <td>22.961613</td>\n",
       "      <td>22.961613</td>\n",
       "      <td>22.961613</td>\n",
       "      <td>...</td>\n",
       "      <td>False</td>\n",
       "      <td>-259.858533</td>\n",
       "      <td>113.932623</td>\n",
       "      <td>NaN</td>\n",
       "      <td>NaN</td>\n",
       "      <td>NaN</td>\n",
       "      <td>0.138116</td>\n",
       "      <td>0.017472</td>\n",
       "      <td>0.017472</td>\n",
       "      <td>154.608061</td>\n",
       "    </tr>\n",
       "    <tr>\n",
       "      <th>111</th>\n",
       "      <td>11428626307263716526</td>\n",
       "      <td>-0.106143</td>\n",
       "      <td>2.699703</td>\n",
       "      <td>False</td>\n",
       "      <td>True</td>\n",
       "      <td>22.745094</td>\n",
       "      <td>-22.745094</td>\n",
       "      <td>22.745094</td>\n",
       "      <td>22.745094</td>\n",
       "      <td>22.745094</td>\n",
       "      <td>...</td>\n",
       "      <td>False</td>\n",
       "      <td>74.313240</td>\n",
       "      <td>113.308350</td>\n",
       "      <td>NaN</td>\n",
       "      <td>NaN</td>\n",
       "      <td>NaN</td>\n",
       "      <td>0.138263</td>\n",
       "      <td>0.017491</td>\n",
       "      <td>0.017491</td>\n",
       "      <td>154.681604</td>\n",
       "    </tr>\n",
       "  </tbody>\n",
       "</table>\n",
       "<p>89368 rows × 66 columns</p>\n",
       "</div>"
      ],
      "text/plain": [
       "                   fakeId       dec      ra_x  isVisitSource  \\\n",
       "0    12328194368046917380 -0.098725  2.709162           True   \n",
       "1    10786914589037533224 -0.098930  2.711430           True   \n",
       "2    10266316095425061820 -0.098082  2.709603           True   \n",
       "3    13728165483901070104 -0.099017  2.709777           True   \n",
       "4     9534982547039486306 -0.100171  2.712481           True   \n",
       "..                    ...       ...       ...            ...   \n",
       "107   9666681264388531435 -0.106794  2.701696          False   \n",
       "108  13107928418719726475 -0.107034  2.700900          False   \n",
       "109   9878930928979279144 -0.105355  2.699246          False   \n",
       "110  13202665334932651569 -0.105892  2.698420          False   \n",
       "111  11428626307263716526 -0.106143  2.699703          False   \n",
       "\n",
       "     isTemplateSource      u_mag      g_mag      r_mag      i_mag      z_mag  \\\n",
       "0               False  23.950584  24.715749  23.950584  23.950584  23.950584   \n",
       "1               False  21.569786  22.098522  21.569786  21.569786  21.569786   \n",
       "2               False  21.183443  20.638180  21.183443  21.183443  21.183443   \n",
       "3               False  21.609882  22.096219  21.609882  21.609882  21.609882   \n",
       "4               False  25.341527  26.307791  25.341527  25.341527  25.341527   \n",
       "..                ...        ...        ...        ...        ...        ...   \n",
       "107              True  23.363568 -23.363568  23.363568  23.363568  23.363568   \n",
       "108              True  24.116585 -24.116585  24.116585  24.116585  24.116585   \n",
       "109              True  23.184871 -23.184871  23.184871  23.184871  23.184871   \n",
       "110              True  22.961613 -22.961613  22.961613  22.961613  22.961613   \n",
       "111              True  22.745094 -22.745094  22.745094  22.745094  22.745094   \n",
       "\n",
       "     ...  isDipole       totFlux  totFluxErr       ixx       iyy       ixy  \\\n",
       "0    ...      None           NaN         NaN       NaN       NaN       NaN   \n",
       "1    ...     False   5256.784466  135.648257  0.136344  0.128592  0.010188   \n",
       "2    ...     False  19996.895435  135.044370  0.145991  0.123429 -0.001963   \n",
       "3    ...     False   5494.136982  204.685183  0.142677  0.130548 -0.002722   \n",
       "4    ...      None           NaN         NaN       NaN       NaN       NaN   \n",
       "..   ...       ...           ...         ...       ...       ...       ...   \n",
       "107  ...     False    -79.676424  110.336652       NaN       NaN       NaN   \n",
       "108  ...     False   -112.741042  110.524665       NaN       NaN       NaN   \n",
       "109  ...      None           NaN         NaN       NaN       NaN       NaN   \n",
       "110  ...     False   -259.858533  113.932623       NaN       NaN       NaN   \n",
       "111  ...     False     74.313240  113.308350       NaN       NaN       NaN   \n",
       "\n",
       "       ixxPSF    iyyPSF    ixyPSF          ra  \n",
       "0         NaN       NaN       NaN  155.223537  \n",
       "1    0.147889 -0.001105 -0.001105  155.353507  \n",
       "2    0.147946 -0.001106 -0.001106  155.248814  \n",
       "3    0.147845 -0.001105 -0.001105  155.258813  \n",
       "4         NaN       NaN       NaN  155.413685  \n",
       "..        ...       ...       ...         ...  \n",
       "107  0.138446  0.017514  0.017514  154.795787  \n",
       "108  0.138417  0.017511  0.017511  154.750149  \n",
       "109       NaN       NaN       NaN  154.655384  \n",
       "110  0.138116  0.017472  0.017472  154.608061  \n",
       "111  0.138263  0.017491  0.017491  154.681604  \n",
       "\n",
       "[89368 rows x 66 columns]"
      ]
     },
     "execution_count": 12,
     "metadata": {},
     "output_type": "execute_result"
    }
   ],
   "source": [
    "matchedDiaSources"
   ]
  },
  {
   "cell_type": "code",
   "execution_count": 13,
   "id": "fc3992b4",
   "metadata": {},
   "outputs": [
    {
     "data": {
      "text/plain": [
       "Index(['fakeId', 'dec', 'ra_x', 'isVisitSource', 'isTemplateSource', 'u_mag',\n",
       "       'g_mag', 'r_mag', 'i_mag', 'z_mag', 'y_mag', 'disk_semimajor',\n",
       "       'bulge_semimajor', 'disk_n', 'bulge_n', 'disk_axis_ratio',\n",
       "       'bulge_axis_ratio', 'disk_pa', 'bulge_pa', 'sourceType', 'x_x', 'y_x',\n",
       "       'diaSourceId', 'ccdVisitId', 'filterName', 'diaObjectId', 'ssObjectId',\n",
       "       'parentDiaSourceId', 'midPointTai', 'bboxSize', 'flags', 'ra_y', 'decl',\n",
       "       'x_y', 'y_y', 'xErr', 'yErr', 'apFlux', 'apFluxErr', 'snr', 'psFlux',\n",
       "       'psFluxErr', 'psChi2', 'psNdata', 'trailFlux', 'trailRa', 'trailDecl',\n",
       "       'trailLength', 'trailAngle', 'dipMeanFlux', 'dipMeanFluxErr',\n",
       "       'dipFluxDiff', 'dipFluxDiffErr', 'dipLength', 'dipAngle', 'dipChi2',\n",
       "       'isDipole', 'totFlux', 'totFluxErr', 'ixx', 'iyy', 'ixy', 'ixxPSF',\n",
       "       'iyyPSF', 'ixyPSF', 'ra'],\n",
       "      dtype='object')"
      ]
     },
     "execution_count": 13,
     "metadata": {},
     "output_type": "execute_result"
    }
   ],
   "source": [
    "matchedDiaSources.columns"
   ]
  },
  {
   "cell_type": "code",
   "execution_count": 14,
   "id": "0cc0c306",
   "metadata": {},
   "outputs": [
    {
     "data": {
      "text/plain": [
       "0.5711216542834124"
      ]
     },
     "execution_count": 14,
     "metadata": {},
     "output_type": "execute_result"
    }
   ],
   "source": [
    "np.sum(matchedDiaSources['diaSourceId'] > 0) /len(matchedDiaSources)"
   ]
  },
  {
   "cell_type": "code",
   "execution_count": 15,
   "id": "8ef25627",
   "metadata": {},
   "outputs": [],
   "source": [
    "wScienceOnly = matchedDiaSources['isVisitSource'] & ~matchedDiaSources['isTemplateSource']\n",
    "wMatched = matchedDiaSources['diaSourceId'] > 0"
   ]
  },
  {
   "cell_type": "code",
   "execution_count": 16,
   "id": "63661abe",
   "metadata": {},
   "outputs": [
    {
     "data": {
      "text/plain": [
       "0.6033684115848175"
      ]
     },
     "execution_count": 16,
     "metadata": {},
     "output_type": "execute_result"
    }
   ],
   "source": [
    "np.sum(wMatched & wScienceOnly) /np.sum(wScienceOnly)"
   ]
  },
  {
   "cell_type": "code",
   "execution_count": 17,
   "id": "19445fcd",
   "metadata": {},
   "outputs": [],
   "source": [
    "# we need a spatial cut here.  spherical would be bettter\n",
    "minra = matchedDiaSources.loc[wScienceOnly & wMatched,'ra'].min()\n",
    "maxra = matchedDiaSources.loc[wScienceOnly & wMatched,'ra'].max()\n",
    "mindecl = matchedDiaSources.loc[wScienceOnly & wMatched,'decl'].min()\n",
    "maxdecl = matchedDiaSources.loc[wScienceOnly & wMatched,'decl'].max()\n",
    "\n",
    "#wRADec = (matchedDiaSources.ra < 151.0 ) & (matchedDiaSources.ra > 149.4 ) & \\\n",
    "#           (matchedDiaSources.decl > 1.5 ) & (matchedDiaSources.decl < 2.9 )\n",
    "wRADec = (matchedDiaSources.ra < maxra ) & (matchedDiaSources.ra > minra ) & \\\n",
    "           (matchedDiaSources.decl > mindecl ) & (matchedDiaSources.decl < maxdecl )"
   ]
  },
  {
   "cell_type": "code",
   "execution_count": 18,
   "id": "f681cff8",
   "metadata": {},
   "outputs": [
    {
     "data": {
      "text/plain": [
       "<matplotlib.collections.PathCollection at 0x7f8a2b936500>"
      ]
     },
     "execution_count": 18,
     "metadata": {},
     "output_type": "execute_result"
    },
    {
     "data": {
      "image/png": "[encoded data removed]",
      "text/plain": [
       "<Figure size 432x288 with 1 Axes>"
      ]
     },
     "metadata": {
      "needs_background": "light"
     },
     "output_type": "display_data"
    }
   ],
   "source": [
    "plt.figure()\n",
    "plt.scatter(matchedDiaSources.loc[wScienceOnly & wMatched,'ra'],matchedDiaSources.loc[wScienceOnly & wMatched,'decl'],marker='x')\n",
    "plt.scatter(matchedDiaSources.loc[wScienceOnly & ~wMatched,'ra'],matchedDiaSources.loc[wScienceOnly & ~wMatched,'decl'],marker='.')\n",
    "plt.scatter(matchedDiaSources.loc[wScienceOnly & wRADec,'ra'],matchedDiaSources.loc[wScienceOnly & wRADec,'decl'],marker='+')"
   ]
  },
  {
   "cell_type": "code",
   "execution_count": 19,
   "id": "4c77429c",
   "metadata": {},
   "outputs": [
    {
     "name": "stderr",
     "output_type": "stream",
     "text": [
      "/tmp/ipykernel_10454/112319062.py:13: RuntimeWarning: invalid value encountered in true_divide\n",
      "  completeness_err_all = completeness_all * np.sqrt((nmatched_err/n_matched)**2. + (ntot_err/ntot)**2.)\n"
     ]
    }
   ],
   "source": [
    "bins = np.linspace(20, 26, 70)\n",
    "n_matched, edges = np.histogram(matchedDiaSources.loc[wMatched& wScienceOnly & wRADec,'g_mag'], bins=bins)\n",
    "nmatched_err = np.sqrt(n_matched)\n",
    "\n",
    "n_unmatched, edges = np.histogram(matchedDiaSources.loc[~wMatched & wScienceOnly & wRADec, 'g_mag'], bins=bins)\n",
    "ntot = n_matched + n_unmatched\n",
    "#print(n_matched, n_unmatched, ntot)\n",
    "completeness_all = n_matched/ntot\n",
    "\n",
    "# Attempt to compute some kind of error\n",
    "ntot_err = np.sqrt(ntot) # compute on total to keep Poisson errors in gaussian regime\n",
    "#print(ntot_err)\n",
    "completeness_err_all = completeness_all * np.sqrt((nmatched_err/n_matched)**2. + (ntot_err/ntot)**2.)"
   ]
  },
  {
   "cell_type": "code",
   "execution_count": 20,
   "id": "b9132644",
   "metadata": {},
   "outputs": [
    {
     "data": {
      "text/plain": [
       "Text(0, 0.5, 'Completeness')"
      ]
     },
     "execution_count": 20,
     "metadata": {},
     "output_type": "execute_result"
    },
    {
     "data": {
      "image/png": "[encoded data removed]",
      "text/plain": [
       "<Figure size 576x360 with 1 Axes>"
      ]
     },
     "metadata": {
      "needs_background": "light"
     },
     "output_type": "display_data"
    }
   ],
   "source": [
    "figure = plt.figure(figsize=(8,5))\n",
    "plt.errorbar(bins[0:-1], completeness_all, completeness_err_all)\n",
    "#plt.plot(bins[0:-1], completeness, marker='o', ms=5, ls=':')\n",
    "\n",
    "plt.axhline(.9, ls='--', color='0.75', label='90%')\n",
    "plt.xlabel('Injected g Magnitude')\n",
    "plt.ylabel('Completeness')\n",
    "#plt.ylim(0.7, 1.)"
   ]
  },
  {
   "cell_type": "markdown",
   "id": "a330ea18",
   "metadata": {},
   "source": [
    "Now break this out by band"
   ]
  },
  {
   "cell_type": "code",
   "execution_count": 21,
   "id": "4971cdb3",
   "metadata": {},
   "outputs": [
    {
     "name": "stderr",
     "output_type": "stream",
     "text": [
      "/tmp/ipykernel_10454/3647316630.py:20: RuntimeWarning: invalid value encountered in true_divide\n",
      "  completeness_err_byband[band] = completeness_byband[band] * np.sqrt((nmatched_err/n_matched)**2. + (ntot_err/ntot)**2.)\n",
      "/tmp/ipykernel_10454/3647316630.py:15: RuntimeWarning: invalid value encountered in true_divide\n",
      "  completeness_byband[band] = n_matched/ntot\n"
     ]
    }
   ],
   "source": [
    "bins = np.linspace(20, 26, 70)\n",
    "\n",
    "completeness_byband = {}\n",
    "completeness_err_byband = {}\n",
    "\n",
    "for band in bandList:\n",
    "    wband = matchedDiaSources['filterName'] == band\n",
    "\n",
    "    n_matched, edges = np.histogram(matchedDiaSources.loc[wMatched& wScienceOnly & wRADec & wband,f'{band}_mag'], bins=bins)\n",
    "    nmatched_err = np.sqrt(n_matched)\n",
    "\n",
    "    n_unmatched, edges = np.histogram(matchedDiaSources.loc[~wMatched & wScienceOnly & wRADec  & wband, f'{band}_mag'], bins=bins)\n",
    "    ntot = n_matched + n_unmatched\n",
    "    #print(n_matched, n_unmatched, ntot)\n",
    "    completeness_byband[band] = n_matched/ntot\n",
    "\n",
    "    # Attempt to compute some kind of error\n",
    "    ntot_err = np.sqrt(ntot) # compute on total to keep Poisson errors in gaussian regime\n",
    "    #print(ntot_err)\n",
    "    completeness_err_byband[band] = completeness_byband[band] * np.sqrt((nmatched_err/n_matched)**2. + (ntot_err/ntot)**2.)"
   ]
  },
  {
   "cell_type": "code",
   "execution_count": 22,
   "id": "ba8b6283",
   "metadata": {},
   "outputs": [
    {
     "name": "stderr",
     "output_type": "stream",
     "text": [
      "/opt/lsst/software/stack/conda/miniconda3-py38_4.9.2/envs/lsst-scipipe-4.1.0/lib/python3.10/site-packages/matplotlib/axes/_base.py:2480: UserWarning: Warning: converting a masked element to nan.\n",
      "  xys = np.asarray(xys)\n"
     ]
    },
    {
     "data": {
      "image/png": "[encoded data removed]",
      "text/plain": [
       "<Figure size 648x864 with 6 Axes>"
      ]
     },
     "metadata": {
      "needs_background": "light"
     },
     "output_type": "display_data"
    }
   ],
   "source": [
    "fig, axs = plt.subplots(3, 2, figsize=(9, 12))\n",
    "\n",
    "axG = axs[0, 0]\n",
    "axR = axs[0, 1]\n",
    "axI = axs[1, 0]\n",
    "axZ = axs[1, 1]\n",
    "axY = axs[2, 0]\n",
    "#axHits = axs[2, 1]\n",
    "\n",
    "ax0 = axs[2, 1]\n",
    "ax0.axis('off')\n",
    "\n",
    "axList = [axG, axR, axI, axZ, axY]\n",
    "colorList = ['C2', 'C1', 'C3', 'C5', 'k']\n",
    "\n",
    "xlim = (20,26)\n",
    "ylim = (0, 1)\n",
    "plt.setp(axs, xlim=xlim, ylim=ylim)\n",
    "\n",
    "fig.suptitle(f'Completeness')\n",
    "\n",
    "\n",
    "for ax, band, color in zip(axList, bandList, colorList):\n",
    "    ax.errorbar(bins[0:-1], completeness_byband[band], completeness_err_byband[band], color=color)"
   ]
  },
  {
   "cell_type": "code",
   "execution_count": 23,
   "id": "11141c89",
   "metadata": {},
   "outputs": [
    {
     "data": {
      "text/plain": [
       "Text(0, 0.5, 'Fractional completeness')"
      ]
     },
     "execution_count": 23,
     "metadata": {},
     "output_type": "execute_result"
    },
    {
     "data": {
      "image/png": "[encoded data removed]",
      "text/plain": [
       "<Figure size 864x864 with 1 Axes>"
      ]
     },
     "metadata": {
      "needs_background": "light"
     },
     "output_type": "display_data"
    }
   ],
   "source": [
    "plt.figure(figsize=(12, 12))\n",
    "\n",
    "colorList = ['C2', 'C1', 'C3', 'C5', 'k']\n",
    "\n",
    "\n",
    "for  band, color in zip( bandList, colorList):\n",
    "    plt.errorbar(bins[0:-1], completeness_byband[band], completeness_err_byband[band], color=color,label=band)\n",
    "plt.axhline(.9, ls='--', color='0.75', label='90%')\n",
    "plt.legend(loc='lower left')\n",
    "plt.xlabel('Injected magnitude')\n",
    "plt.ylabel('Fractional completeness')"
   ]
  },
  {
   "cell_type": "markdown",
   "id": "9ca257dd",
   "metadata": {},
   "source": [
    "### estimate limiting magnitudes by band"
   ]
  },
  {
   "cell_type": "markdown",
   "id": "8f0b93a6",
   "metadata": {},
   "source": [
    "To understand the completeness curves above (and to relate to our requirements), we need to understand what the limiting magnitude is for each ccdVisit.  We detect at 5 sigma and our requirements are at 6 sigma.  We can either compute limiting magnitudes empirically, using the observed SNR of our DIASource catalogs, or we can derive them from noise estimates.  Since we're trying to compare the fakes completeness to our expectations, we can't use the fakes themselves to define the limiting magnitudes.\n",
    "\n",
    "As of this writing it will take a bit of effort to estimate the limiting magnitude from the image properties directly (e.g., through noise  sky objects).  Instead, we will use the catalogued DIASources, and determine the flux (→ magnitude) of sources measured (not detected, since we don't have that information) at SNRs of 5 and 6. \n",
    "(Ideally we would only use non-fake DIASources--but that is somewhat of a hassle, so we're actually mixing real and fake DIASources in the analysis below.)\n",
    "\n",
    "Future improvements would include more rigorous exclusion of fakes, and attempts to derive the limiting magnitude instead from sky sources or the image noise itself."
   ]
  },
  {
   "cell_type": "code",
   "execution_count": 25,
   "id": "4e1fe6aa",
   "metadata": {},
   "outputs": [],
   "source": [
    "# make a rough and ready estimate of the flux error\n",
    "def estimate_fluxlim(flux, fluxerr, snr=5, snr_window_halfwidth=0.1):\n",
    "    snr_all = np.abs(flux/fluxerr)\n",
    "    wwindow = ((snr-snr_window_halfwidth) <= snr_all) & (snr_all <=  (snr+snr_window_halfwidth))\n",
    "    if np.sum(wwindow) < 3:\n",
    "        return np.nan\n",
    "    return np.median(np.abs(flux.loc[wwindow]))\n",
    "    \n",
    "    \n",
    "def estimate_maglim(flux, fluxerr, snr=5):\n",
    "    fluxlim = estimate_fluxlim(flux, fluxerr, snr=snr)\n",
    "    return (fluxlim * u.nJy).to(u.ABmag).value\n",
    "\n"
   ]
  },
  {
   "cell_type": "code",
   "execution_count": 26,
   "id": "73f9ef84",
   "metadata": {},
   "outputs": [
    {
     "ename": "NameError",
     "evalue": "name 'goodSrc' is not defined",
     "output_type": "error",
     "traceback": [
      "\u001b[0;31m---------------------------------------------------------------------------\u001b[0m",
      "\u001b[0;31mNameError\u001b[0m                                 Traceback (most recent call last)",
      "Input \u001b[0;32mIn [26]\u001b[0m, in \u001b[0;36m<cell line: 1>\u001b[0;34m()\u001b[0m\n\u001b[0;32m----> 1\u001b[0m estimate_fluxlim(\u001b[43mgoodSrc\u001b[49m[\u001b[38;5;124m'\u001b[39m\u001b[38;5;124mpsFlux\u001b[39m\u001b[38;5;124m'\u001b[39m],goodSrc[\u001b[38;5;124m'\u001b[39m\u001b[38;5;124mpsFluxErr\u001b[39m\u001b[38;5;124m'\u001b[39m])\n",
      "\u001b[0;31mNameError\u001b[0m: name 'goodSrc' is not defined"
     ]
    }
   ],
   "source": [
    "estimate_fluxlim(goodSrc['psFlux'],goodSrc['psFluxErr'])"
   ]
  },
  {
   "cell_type": "code",
   "execution_count": 87,
   "id": "e5b9cd08",
   "metadata": {},
   "outputs": [
    {
     "data": {
      "text/plain": [
       "26.10899319321281"
      ]
     },
     "execution_count": 87,
     "metadata": {},
     "output_type": "execute_result"
    }
   ],
   "source": [
    "estimate_maglim(goodSrc['psFlux'],goodSrc['psFluxErr'])"
   ]
  },
  {
   "cell_type": "markdown",
   "id": "40835f59",
   "metadata": {},
   "source": [
    "For each CCDVisit, estimate the 5 and 6 sigma limiting magnitudes:"
   ]
  },
  {
   "cell_type": "code",
   "execution_count": 88,
   "id": "1ec097e2",
   "metadata": {},
   "outputs": [],
   "source": [
    "# a groupby didn't work since I'd need an aggregation function with multiple column inputs\n",
    "maglims5 = {}\n",
    "maglims6 = {}\n",
    "\n",
    "for ccdVisitId, grp in goodSrc.groupby('ccdVisitId'):\n",
    "    maglims5[ccdVisitId] = estimate_maglim(grp['psFlux'],grp['psFluxErr'],snr=5)\n",
    "    maglims6[ccdVisitId] = estimate_maglim(grp['psFlux'],grp['psFluxErr'],snr=6)\n"
   ]
  },
  {
   "cell_type": "code",
   "execution_count": 89,
   "id": "b21ec207",
   "metadata": {},
   "outputs": [],
   "source": [
    "lim5 = pd.Series(maglims5)\n",
    "lim5.name = 'maglim5'\n",
    "lim6 = pd.Series(maglims6)\n",
    "lim6.name = 'maglim6'\n",
    "\n",
    "dflim = pd.concat([lim5,lim6],axis=1)"
   ]
  },
  {
   "cell_type": "markdown",
   "id": "c38fec48",
   "metadata": {},
   "source": [
    "Get the filterName for each CCDVisit:"
   ]
  },
  {
   "cell_type": "code",
   "execution_count": 90,
   "id": "3d2888b4",
   "metadata": {},
   "outputs": [],
   "source": [
    "filter_by_ccd = goodSrc.loc[goodSrc['diaSourceId'] > 0,['ccdVisitId','filterName']].groupby('ccdVisitId').agg(lambda x: np.unique(x)[0])\n",
    "filter_by_ccd.name = 'filterName'\n",
    "dflim = dflim.join(filter_by_ccd)"
   ]
  },
  {
   "cell_type": "code",
   "execution_count": 91,
   "id": "ab4b3f0b",
   "metadata": {},
   "outputs": [
    {
     "data": {
      "text/html": [
       "<div>\n",
       "<style scoped>\n",
       "    .dataframe tbody tr th:only-of-type {\n",
       "        vertical-align: middle;\n",
       "    }\n",
       "\n",
       "    .dataframe tbody tr th {\n",
       "        vertical-align: top;\n",
       "    }\n",
       "\n",
       "    .dataframe thead th {\n",
       "        text-align: right;\n",
       "    }\n",
       "</style>\n",
       "<table border=\"1\" class=\"dataframe\">\n",
       "  <thead>\n",
       "    <tr style=\"text-align: right;\">\n",
       "      <th></th>\n",
       "      <th>ccdVisitId</th>\n",
       "      <th>maglim5</th>\n",
       "      <th>maglim6</th>\n",
       "      <th>filterName</th>\n",
       "    </tr>\n",
       "  </thead>\n",
       "  <tbody>\n",
       "    <tr>\n",
       "      <th>0</th>\n",
       "      <td>11830050</td>\n",
       "      <td>26.020757</td>\n",
       "      <td>NaN</td>\n",
       "      <td>g</td>\n",
       "    </tr>\n",
       "    <tr>\n",
       "      <th>1</th>\n",
       "      <td>11832051</td>\n",
       "      <td>NaN</td>\n",
       "      <td>25.845396</td>\n",
       "      <td>g</td>\n",
       "    </tr>\n",
       "  </tbody>\n",
       "</table>\n",
       "</div>"
      ],
      "text/plain": [
       "   ccdVisitId    maglim5    maglim6 filterName\n",
       "0    11830050  26.020757        NaN          g\n",
       "1    11832051        NaN  25.845396          g"
      ]
     },
     "execution_count": 91,
     "metadata": {},
     "output_type": "execute_result"
    }
   ],
   "source": [
    "dflim = dflim.reset_index()\n",
    "dflim.rename(columns={'index':'ccdVisitId'},inplace=True)\n",
    "dflim"
   ]
  },
  {
   "cell_type": "code",
   "execution_count": 98,
   "id": "b0f37af7",
   "metadata": {},
   "outputs": [
    {
     "data": {
      "text/plain": [
       "Text(0, 0.5, 'Number of CCD-visits')"
      ]
     },
     "execution_count": 98,
     "metadata": {},
     "output_type": "execute_result"
    },
    {
     "data": {
      "image/png": "[encoded data removed]",
      "text/plain": [
       "<Figure size 864x576 with 1 Axes>"
      ]
     },
     "metadata": {
      "needs_background": "light"
     },
     "output_type": "display_data"
    }
   ],
   "source": [
    "plt.figure(figsize=(12,8))\n",
    "\n",
    "for band, color in zip( bandList, colorList):\n",
    "    plt.hist(dflim.loc[dflim['filterName'] == band,'maglim6'],color=color,histtype='step',label=band)\n",
    "plt.legend()\n",
    "plt.xlabel('Six-sigma limiting magnitude')\n",
    "plt.ylabel('Number of CCD-visits')"
   ]
  },
  {
   "cell_type": "code",
   "execution_count": 110,
   "id": "ff7aeae2-6515-4ccb-9008-e63111afa48e",
   "metadata": {},
   "outputs": [
    {
     "data": {
      "text/plain": [
       "(0.0, 500.0)"
      ]
     },
     "execution_count": 110,
     "metadata": {},
     "output_type": "execute_result"
    },
    {
     "data": {
      "image/png": "[encoded data removed]",
      "text/plain": [
       "<Figure size 864x576 with 1 Axes>"
      ]
     },
     "metadata": {
      "needs_background": "light"
     },
     "output_type": "display_data"
    }
   ],
   "source": [
    "plt.figure(figsize=(12,8))\n",
    "\n",
    "for band, color in zip( bandList, colorList):\n",
    "    wband = goodSrc['filterName'] == band\n",
    "    plt.errorbar(goodSrc.loc[wband,'snr'],\n",
    "                 np.abs(goodSrc.loc[wband,'psFlux']),\n",
    "                 goodSrc.loc[wband,'psFluxErr'],\n",
    "                 color=color,label=band,linestyle='none',fmt='o')\n",
    "plt.legend()\n",
    "plt.xlabel('SNR')\n",
    "plt.ylabel('abs(psFlux)')\n",
    "plt.xlim(4,10)\n",
    "plt.ylim(0,500)"
   ]
  },
  {
   "cell_type": "code",
   "execution_count": 93,
   "id": "41c21db2",
   "metadata": {},
   "outputs": [
    {
     "data": {
      "text/plain": [
       "<matplotlib.collections.PathCollection at 0x7f92ba6e3dc0>"
      ]
     },
     "execution_count": 93,
     "metadata": {},
     "output_type": "execute_result"
    },
    {
     "data": {
      "image/png": "[encoded data removed]",
      "text/plain": [
       "<Figure size 432x288 with 1 Axes>"
      ]
     },
     "metadata": {
      "needs_background": "light"
     },
     "output_type": "display_data"
    }
   ],
   "source": [
    "plt.scatter(pd.Series(maglims5).values,pd.Series(maglims6).values)"
   ]
  },
  {
   "cell_type": "markdown",
   "id": "da117d63",
   "metadata": {},
   "source": [
    "Determine the 25th and 75th percentile limiting magnitudes by filter:"
   ]
  },
  {
   "cell_type": "code",
   "execution_count": 96,
   "id": "45180a4a",
   "metadata": {},
   "outputs": [],
   "source": [
    "p25_limmag = dflim.groupby('filterName').agg(lambda x: np.nanpercentile(x,25))\n",
    "median_limmag = dflim.groupby('filterName').agg(lambda x: np.nanpercentile(x,50))\n",
    "p75_limmag = dflim.groupby('filterName').agg(lambda x: np.nanpercentile(x,75))"
   ]
  },
  {
   "cell_type": "markdown",
   "id": "2cc4f91a",
   "metadata": {},
   "source": [
    "Plot per-filter completeness along with the limiting magnitudes and the required completeness:"
   ]
  },
  {
   "cell_type": "code",
   "execution_count": 97,
   "id": "e55c5854",
   "metadata": {},
   "outputs": [
    {
     "name": "stderr",
     "output_type": "stream",
     "text": [
      "/opt/lsst/software/stack/conda/miniconda3-py38_4.9.2/envs/lsst-scipipe-4.1.0/lib/python3.10/site-packages/matplotlib/axes/_base.py:2480: UserWarning: Warning: converting a masked element to nan.\n",
      "  xys = np.asarray(xys)\n"
     ]
    },
    {
     "ename": "KeyError",
     "evalue": "'r'",
     "output_type": "error",
     "traceback": [
      "\u001b[0;31m---------------------------------------------------------------------------\u001b[0m",
      "\u001b[0;31mKeyError\u001b[0m                                  Traceback (most recent call last)",
      "File \u001b[0;32m/opt/lsst/software/stack/conda/miniconda3-py38_4.9.2/envs/lsst-scipipe-4.1.0/lib/python3.10/site-packages/pandas/core/indexes/base.py:3621\u001b[0m, in \u001b[0;36mIndex.get_loc\u001b[0;34m(self, key, method, tolerance)\u001b[0m\n\u001b[1;32m   3620\u001b[0m \u001b[38;5;28;01mtry\u001b[39;00m:\n\u001b[0;32m-> 3621\u001b[0m     \u001b[38;5;28;01mreturn\u001b[39;00m \u001b[38;5;28;43mself\u001b[39;49m\u001b[38;5;241;43m.\u001b[39;49m\u001b[43m_engine\u001b[49m\u001b[38;5;241;43m.\u001b[39;49m\u001b[43mget_loc\u001b[49m\u001b[43m(\u001b[49m\u001b[43mcasted_key\u001b[49m\u001b[43m)\u001b[49m\n\u001b[1;32m   3622\u001b[0m \u001b[38;5;28;01mexcept\u001b[39;00m \u001b[38;5;167;01mKeyError\u001b[39;00m \u001b[38;5;28;01mas\u001b[39;00m err:\n",
      "File \u001b[0;32m/opt/lsst/software/stack/conda/miniconda3-py38_4.9.2/envs/lsst-scipipe-4.1.0/lib/python3.10/site-packages/pandas/_libs/index.pyx:136\u001b[0m, in \u001b[0;36mpandas._libs.index.IndexEngine.get_loc\u001b[0;34m()\u001b[0m\n",
      "File \u001b[0;32m/opt/lsst/software/stack/conda/miniconda3-py38_4.9.2/envs/lsst-scipipe-4.1.0/lib/python3.10/site-packages/pandas/_libs/index.pyx:163\u001b[0m, in \u001b[0;36mpandas._libs.index.IndexEngine.get_loc\u001b[0;34m()\u001b[0m\n",
      "File \u001b[0;32mpandas/_libs/hashtable_class_helper.pxi:5198\u001b[0m, in \u001b[0;36mpandas._libs.hashtable.PyObjectHashTable.get_item\u001b[0;34m()\u001b[0m\n",
      "File \u001b[0;32mpandas/_libs/hashtable_class_helper.pxi:5206\u001b[0m, in \u001b[0;36mpandas._libs.hashtable.PyObjectHashTable.get_item\u001b[0;34m()\u001b[0m\n",
      "\u001b[0;31mKeyError\u001b[0m: 'r'",
      "\nThe above exception was the direct cause of the following exception:\n",
      "\u001b[0;31mKeyError\u001b[0m                                  Traceback (most recent call last)",
      "Input \u001b[0;32mIn [97]\u001b[0m, in \u001b[0;36m<cell line: 6>\u001b[0;34m()\u001b[0m\n\u001b[1;32m      6\u001b[0m \u001b[38;5;28;01mfor\u001b[39;00m  band, color \u001b[38;5;129;01min\u001b[39;00m \u001b[38;5;28mzip\u001b[39m( bandList, colorList):\n\u001b[1;32m      7\u001b[0m     plt\u001b[38;5;241m.\u001b[39merrorbar(bins[\u001b[38;5;241m0\u001b[39m:\u001b[38;5;241m-\u001b[39m\u001b[38;5;241m1\u001b[39m], completeness_byband[band], completeness_err_byband[band], color\u001b[38;5;241m=\u001b[39mcolor,label\u001b[38;5;241m=\u001b[39mband)\n\u001b[0;32m----> 8\u001b[0m     plt\u001b[38;5;241m.\u001b[39maxvline(\u001b[43mmedian_limmag\u001b[49m\u001b[38;5;241;43m.\u001b[39;49m\u001b[43mloc\u001b[49m\u001b[43m[\u001b[49m\u001b[43mband\u001b[49m\u001b[43m,\u001b[49m\u001b[38;5;124;43m'\u001b[39;49m\u001b[38;5;124;43mmaglim6\u001b[39;49m\u001b[38;5;124;43m'\u001b[39;49m\u001b[43m]\u001b[49m,color\u001b[38;5;241m=\u001b[39mcolor,ls\u001b[38;5;241m=\u001b[39m\u001b[38;5;124m'\u001b[39m\u001b[38;5;124m:\u001b[39m\u001b[38;5;124m'\u001b[39m)\n\u001b[1;32m      9\u001b[0m     plt\u001b[38;5;241m.\u001b[39maxvspan(p25_limmag\u001b[38;5;241m.\u001b[39mloc[band,\u001b[38;5;124m'\u001b[39m\u001b[38;5;124mmaglim6\u001b[39m\u001b[38;5;124m'\u001b[39m],p75_limmag\u001b[38;5;241m.\u001b[39mloc[band,\u001b[38;5;124m'\u001b[39m\u001b[38;5;124mmaglim6\u001b[39m\u001b[38;5;124m'\u001b[39m],facecolor\u001b[38;5;241m=\u001b[39mcolor,alpha\u001b[38;5;241m=\u001b[39m\u001b[38;5;241m0.2\u001b[39m,edgecolor\u001b[38;5;241m=\u001b[39m\u001b[38;5;124m'\u001b[39m\u001b[38;5;124mnone\u001b[39m\u001b[38;5;124m'\u001b[39m)\n\u001b[1;32m     11\u001b[0m plt\u001b[38;5;241m.\u001b[39maxhline(\u001b[38;5;241m.9\u001b[39m, ls\u001b[38;5;241m=\u001b[39m\u001b[38;5;124m'\u001b[39m\u001b[38;5;124m--\u001b[39m\u001b[38;5;124m'\u001b[39m, color\u001b[38;5;241m=\u001b[39m\u001b[38;5;124m'\u001b[39m\u001b[38;5;124m0.75\u001b[39m\u001b[38;5;124m'\u001b[39m)\u001b[38;5;66;03m#, label='90%')\u001b[39;00m\n",
      "File \u001b[0;32m/opt/lsst/software/stack/conda/miniconda3-py38_4.9.2/envs/lsst-scipipe-4.1.0/lib/python3.10/site-packages/pandas/core/indexing.py:960\u001b[0m, in \u001b[0;36m_LocationIndexer.__getitem__\u001b[0;34m(self, key)\u001b[0m\n\u001b[1;32m    958\u001b[0m     key \u001b[38;5;241m=\u001b[39m \u001b[38;5;28mtuple\u001b[39m(com\u001b[38;5;241m.\u001b[39mapply_if_callable(x, \u001b[38;5;28mself\u001b[39m\u001b[38;5;241m.\u001b[39mobj) \u001b[38;5;28;01mfor\u001b[39;00m x \u001b[38;5;129;01min\u001b[39;00m key)\n\u001b[1;32m    959\u001b[0m     \u001b[38;5;28;01mif\u001b[39;00m \u001b[38;5;28mself\u001b[39m\u001b[38;5;241m.\u001b[39m_is_scalar_access(key):\n\u001b[0;32m--> 960\u001b[0m         \u001b[38;5;28;01mreturn\u001b[39;00m \u001b[38;5;28;43mself\u001b[39;49m\u001b[38;5;241;43m.\u001b[39;49m\u001b[43mobj\u001b[49m\u001b[38;5;241;43m.\u001b[39;49m\u001b[43m_get_value\u001b[49m\u001b[43m(\u001b[49m\u001b[38;5;241;43m*\u001b[39;49m\u001b[43mkey\u001b[49m\u001b[43m,\u001b[49m\u001b[43m \u001b[49m\u001b[43mtakeable\u001b[49m\u001b[38;5;241;43m=\u001b[39;49m\u001b[38;5;28;43mself\u001b[39;49m\u001b[38;5;241;43m.\u001b[39;49m\u001b[43m_takeable\u001b[49m\u001b[43m)\u001b[49m\n\u001b[1;32m    961\u001b[0m     \u001b[38;5;28;01mreturn\u001b[39;00m \u001b[38;5;28mself\u001b[39m\u001b[38;5;241m.\u001b[39m_getitem_tuple(key)\n\u001b[1;32m    962\u001b[0m \u001b[38;5;28;01melse\u001b[39;00m:\n\u001b[1;32m    963\u001b[0m     \u001b[38;5;66;03m# we by definition only have the 0th axis\u001b[39;00m\n",
      "File \u001b[0;32m/opt/lsst/software/stack/conda/miniconda3-py38_4.9.2/envs/lsst-scipipe-4.1.0/lib/python3.10/site-packages/pandas/core/frame.py:3622\u001b[0m, in \u001b[0;36mDataFrame._get_value\u001b[0;34m(self, index, col, takeable)\u001b[0m\n\u001b[1;32m   3616\u001b[0m engine \u001b[38;5;241m=\u001b[39m \u001b[38;5;28mself\u001b[39m\u001b[38;5;241m.\u001b[39mindex\u001b[38;5;241m.\u001b[39m_engine\n\u001b[1;32m   3618\u001b[0m \u001b[38;5;28;01mif\u001b[39;00m \u001b[38;5;129;01mnot\u001b[39;00m \u001b[38;5;28misinstance\u001b[39m(\u001b[38;5;28mself\u001b[39m\u001b[38;5;241m.\u001b[39mindex, MultiIndex):\n\u001b[1;32m   3619\u001b[0m     \u001b[38;5;66;03m# CategoricalIndex: Trying to use the engine fastpath may give incorrect\u001b[39;00m\n\u001b[1;32m   3620\u001b[0m     \u001b[38;5;66;03m#  results if our categories are integers that dont match our codes\u001b[39;00m\n\u001b[1;32m   3621\u001b[0m     \u001b[38;5;66;03m# IntervalIndex: IntervalTree has no get_loc\u001b[39;00m\n\u001b[0;32m-> 3622\u001b[0m     row \u001b[38;5;241m=\u001b[39m \u001b[38;5;28;43mself\u001b[39;49m\u001b[38;5;241;43m.\u001b[39;49m\u001b[43mindex\u001b[49m\u001b[38;5;241;43m.\u001b[39;49m\u001b[43mget_loc\u001b[49m\u001b[43m(\u001b[49m\u001b[43mindex\u001b[49m\u001b[43m)\u001b[49m\n\u001b[1;32m   3623\u001b[0m     \u001b[38;5;28;01mreturn\u001b[39;00m series\u001b[38;5;241m.\u001b[39m_values[row]\n\u001b[1;32m   3625\u001b[0m \u001b[38;5;66;03m# For MultiIndex going through engine effectively restricts us to\u001b[39;00m\n\u001b[1;32m   3626\u001b[0m \u001b[38;5;66;03m#  same-length tuples; see test_get_set_value_no_partial_indexing\u001b[39;00m\n",
      "File \u001b[0;32m/opt/lsst/software/stack/conda/miniconda3-py38_4.9.2/envs/lsst-scipipe-4.1.0/lib/python3.10/site-packages/pandas/core/indexes/base.py:3623\u001b[0m, in \u001b[0;36mIndex.get_loc\u001b[0;34m(self, key, method, tolerance)\u001b[0m\n\u001b[1;32m   3621\u001b[0m     \u001b[38;5;28;01mreturn\u001b[39;00m \u001b[38;5;28mself\u001b[39m\u001b[38;5;241m.\u001b[39m_engine\u001b[38;5;241m.\u001b[39mget_loc(casted_key)\n\u001b[1;32m   3622\u001b[0m \u001b[38;5;28;01mexcept\u001b[39;00m \u001b[38;5;167;01mKeyError\u001b[39;00m \u001b[38;5;28;01mas\u001b[39;00m err:\n\u001b[0;32m-> 3623\u001b[0m     \u001b[38;5;28;01mraise\u001b[39;00m \u001b[38;5;167;01mKeyError\u001b[39;00m(key) \u001b[38;5;28;01mfrom\u001b[39;00m \u001b[38;5;21;01merr\u001b[39;00m\n\u001b[1;32m   3624\u001b[0m \u001b[38;5;28;01mexcept\u001b[39;00m \u001b[38;5;167;01mTypeError\u001b[39;00m:\n\u001b[1;32m   3625\u001b[0m     \u001b[38;5;66;03m# If we have a listlike key, _check_indexing_error will raise\u001b[39;00m\n\u001b[1;32m   3626\u001b[0m     \u001b[38;5;66;03m#  InvalidIndexError. Otherwise we fall through and re-raise\u001b[39;00m\n\u001b[1;32m   3627\u001b[0m     \u001b[38;5;66;03m#  the TypeError.\u001b[39;00m\n\u001b[1;32m   3628\u001b[0m     \u001b[38;5;28mself\u001b[39m\u001b[38;5;241m.\u001b[39m_check_indexing_error(key)\n",
      "\u001b[0;31mKeyError\u001b[0m: 'r'"
     ]
    },
    {
     "name": "stdout",
     "output_type": "stream",
     "text": [
      "> \u001b[0;32m/opt/lsst/software/stack/conda/miniconda3-py38_4.9.2/envs/lsst-scipipe-4.1.0/lib/python3.10/site-packages/pandas/core/indexes/base.py\u001b[0m(3623)\u001b[0;36mget_loc\u001b[0;34m()\u001b[0m\n",
      "\u001b[0;32m   3621 \u001b[0;31m                \u001b[0;32mreturn\u001b[0m \u001b[0mself\u001b[0m\u001b[0;34m.\u001b[0m\u001b[0m_engine\u001b[0m\u001b[0;34m.\u001b[0m\u001b[0mget_loc\u001b[0m\u001b[0;34m(\u001b[0m\u001b[0mcasted_key\u001b[0m\u001b[0;34m)\u001b[0m\u001b[0;34m\u001b[0m\u001b[0;34m\u001b[0m\u001b[0m\n",
      "\u001b[0m\u001b[0;32m   3622 \u001b[0;31m            \u001b[0;32mexcept\u001b[0m \u001b[0mKeyError\u001b[0m \u001b[0;32mas\u001b[0m \u001b[0merr\u001b[0m\u001b[0;34m:\u001b[0m\u001b[0;34m\u001b[0m\u001b[0;34m\u001b[0m\u001b[0m\n",
      "\u001b[0m\u001b[0;32m-> 3623 \u001b[0;31m                \u001b[0;32mraise\u001b[0m \u001b[0mKeyError\u001b[0m\u001b[0;34m(\u001b[0m\u001b[0mkey\u001b[0m\u001b[0;34m)\u001b[0m \u001b[0;32mfrom\u001b[0m \u001b[0merr\u001b[0m\u001b[0;34m\u001b[0m\u001b[0;34m\u001b[0m\u001b[0m\n",
      "\u001b[0m\u001b[0;32m   3624 \u001b[0;31m            \u001b[0;32mexcept\u001b[0m \u001b[0mTypeError\u001b[0m\u001b[0;34m:\u001b[0m\u001b[0;34m\u001b[0m\u001b[0;34m\u001b[0m\u001b[0m\n",
      "\u001b[0m\u001b[0;32m   3625 \u001b[0;31m                \u001b[0;31m# If we have a listlike key, _check_indexing_error will raise\u001b[0m\u001b[0;34m\u001b[0m\u001b[0;34m\u001b[0m\u001b[0m\n",
      "\u001b[0m\n"
     ]
    },
    {
     "name": "stdin",
     "output_type": "stream",
     "text": [
      "ipdb>  q\n"
     ]
    },
    {
     "data": {
      "image/png": "[encoded data removed]",
      "text/plain": [
       "<Figure size 864x864 with 1 Axes>"
      ]
     },
     "metadata": {
      "needs_background": "light"
     },
     "output_type": "display_data"
    }
   ],
   "source": [
    "plt.figure(figsize=(12, 12))\n",
    "\n",
    "colorList = ['C2', 'C1', 'C3', 'C5', 'k']\n",
    "\n",
    "\n",
    "for  band, color in zip( bandList, colorList):\n",
    "    plt.errorbar(bins[0:-1], completeness_byband[band], completeness_err_byband[band], color=color,label=band)\n",
    "    plt.axvline(median_limmag.loc[band,'maglim6'],color=color,ls=':')\n",
    "    plt.axvspan(p25_limmag.loc[band,'maglim6'],p75_limmag.loc[band,'maglim6'],facecolor=color,alpha=0.2,edgecolor='none')\n",
    "\n",
    "plt.axhline(.9, ls='--', color='0.75')#, label='90%')\n",
    "plt.legend(loc='lower left')\n",
    "plt.xlabel('Injected magnitude')\n",
    "plt.ylabel('Fractional completeness')"
   ]
  },
  {
   "cell_type": "markdown",
   "id": "f46dd0e3",
   "metadata": {},
   "source": [
    "So we are below the required 90% completeness level at 6 sigma in all bands: this need further investigation.  See DM-31388."
   ]
  }
 ],
 "metadata": {
  "kernelspec": {
   "display_name": "LSST",
   "language": "python",
   "name": "lsst"
  },
  "language_info": {
   "codemirror_mode": {
    "name": "ipython",
    "version": 3
   },
   "file_extension": ".py",
   "mimetype": "text/x-python",
   "name": "python",
   "nbconvert_exporter": "python",
   "pygments_lexer": "ipython3",
   "version": "3.10.5"
  }
 },
 "nbformat": 4,
 "nbformat_minor": 5
}
