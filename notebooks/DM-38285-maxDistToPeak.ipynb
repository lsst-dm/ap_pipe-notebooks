{
 "cells": [
  {
   "cell_type": "markdown",
   "id": "6bb19d35-9977-4a73-9914-61b4dfef6352",
   "metadata": {
    "execution": {
     "iopub.execute_input": "2022-12-23T14:28:34.667645Z",
     "iopub.status.busy": "2022-12-23T14:28:34.666850Z",
     "iopub.status.idle": "2022-12-23T14:28:34.670538Z",
     "shell.execute_reply": "2022-12-23T14:28:34.669977Z",
     "shell.execute_reply.started": "2022-12-23T14:28:34.667619Z"
    },
    "tags": []
   },
   "source": [
    "<img align=\"left\" src = https://project.lsst.org/sites/default/files/Rubin-O-Logo_0.png width=250 style=\"padding: 10px\"> \n",
    "<br>\n",
    "<b>Reduced Chi^2 Notebook</b> <br>\n",
    "Contact author: Brianna Smart<br>\n",
    "Last verified to run: -  01/26/2023<br>\n",
    "LSST Science Piplines version: - Weekly 2023_04 Large Container<br>\n",
    "Container Size: Large <br># Clean Notebook"
   ]
  },
  {
   "cell_type": "markdown",
   "id": "b7fd4c12-dfd2-407c-a113-993568fbbf41",
   "metadata": {},
   "source": [
    "## Table of Contents\n",
    "\n",
    "1. [Introduction](#Introduction)\n",
    "2. [Conclusions](#Conclusions)\n",
    "3. [Setup](#Setup)\n",
    "4. [0.001 Cutoff](#0.001-Cutoff)\n",
    "5. [Histogram of SdssCentroid distance from Peak Centroid](#Histogram-of-SdssCentroid-distance-from-Peak-Centroid)\n",
    "6. [0.5 Cutoff](#0.5-Cutoff)\n",
    "7. [1.0 Cutoff](#1.0-Cutoff)\n",
    "8. [5.0 Cutoff](#5.0-Cutoff)\n",
    "9. [10.0 Cutoff](#10.0-Cutoff)\n",
    "10. [Reset Count Graph](#Reset-Count-Graph)\n",
    "\n",
    "## Introduction\n",
    "\n",
    "This notebook's purpose is to compare a number of ap_verify runs that have the maxDistToPeak for both NiaveCentroid and SdssCentroid set in the detectAndMeasure configurations. The default is -1 which means it is not run, so Sdss or Niave never get set even if they run off to unreasonable values. The first section runs with both Niave and Sdss maxDistToPeak set in terms of pixels from the peak, with values of 0.5, 5, and 10 pixels, with a 0.001 used for comparison. \n",
    "\n",
    "## Conclusions\n",
    "\n",
    "At 0.5 arcseconds, base_NaiveCentroid_flag_resetToPeak occurs 410 times, with the base_SdssCentroid_flag_resetToPeak occuring 216 times. At 1.0 pixels, 262 sources are reset for the NaiveCentroid, however only 66 are reset for the SdssCentroid, with 30 sources having both centroid resets occur.  The reset counts fall of significantly for both base_SdssCentroid_flag_resetToPeak and base_NaiveCentroid_flag_resetToPeak when the maxDistanceToPeak is set to 5.0 pixels. In this case, one 1 source has both resets occur.  At 10.0, the NaiveCentroid resets 36 times and the SdssCentroid resets 16 times, with no overlapping resets. "
   ]
  },
  {
   "cell_type": "markdown",
   "id": "a57437f5-ec57-45ce-a489-49b823406bb7",
   "metadata": {
    "execution": {
     "iopub.execute_input": "2023-03-08T00:49:48.008939Z",
     "iopub.status.busy": "2023-03-08T00:49:48.008698Z",
     "iopub.status.idle": "2023-03-08T00:49:48.011183Z",
     "shell.execute_reply": "2023-03-08T00:49:48.010793Z",
     "shell.execute_reply.started": "2023-03-08T00:49:48.008924Z"
    }
   },
   "source": [
    "## Setup"
   ]
  },
  {
   "cell_type": "code",
   "execution_count": 1,
   "id": "bd87347c-5ac5-4be2-82a9-2c1927993a08",
   "metadata": {
    "execution": {
     "iopub.execute_input": "2023-05-08T22:37:41.196889Z",
     "iopub.status.busy": "2023-05-08T22:37:41.196749Z",
     "iopub.status.idle": "2023-05-08T22:37:42.861037Z",
     "shell.execute_reply": "2023-05-08T22:37:42.860541Z",
     "shell.execute_reply.started": "2023-05-08T22:37:41.196875Z"
    },
    "tags": []
   },
   "outputs": [],
   "source": [
    "# Basic imports\n",
    "import os\n",
    "import sys\n",
    "import numpy as np\n",
    "import matplotlib.pyplot as plt\n",
    "import importlib\n",
    "import pandas as pd\n",
    "from IPython.display import Image, display\n",
    "\n",
    "from astropy.coordinates import SkyCoord\n",
    "\n",
    "import lsst.geom\n",
    "import lsst.daf.butler as dafButler\n",
    "from lsst.ap.association import UnpackApdbFlags, TransformDiaSourceCatalogConfig\n",
    "from lsst.analysis.ap import legacyApdbUtils as utils\n",
    "from lsst.analysis.ap import legacyPlotUtils as plac\n",
    "from lsst.analysis.ap import ZooniverseCutoutsTask\n",
    "from lsst.analysis.ap.nb_utils import make_simbad_link\n",
    "from lsst.analysis.ap import apdb\n",
    "\n",
    "\n",
    "import warnings\n",
    "warnings.filterwarnings('ignore')\n",
    "warnings.simplefilter('ignore')\n",
    "\n",
    "importlib.reload(utils)\n",
    "\n",
    "bandList = ['i', 'z', 'y']\n",
    "colorList = ['C2', 'C3', 'C5', 'k']\n",
    "import lsst.afw.display as afwDisplay\n",
    "from IPython.display import IFrame\n",
    "import matplotlib.pyplot as plt\n",
    "import numpy as np\n",
    "import scipy.ndimage\n",
    "import gc"
   ]
  },
  {
   "cell_type": "code",
   "execution_count": 2,
   "id": "3b0aa5a9-38af-4dad-b931-0df6e00eb7b3",
   "metadata": {
    "execution": {
     "iopub.execute_input": "2023-05-08T22:37:42.861841Z",
     "iopub.status.busy": "2023-05-08T22:37:42.861687Z",
     "iopub.status.idle": "2023-05-08T22:37:42.867438Z",
     "shell.execute_reply": "2023-05-08T22:37:42.867034Z",
     "shell.execute_reply.started": "2023-05-08T22:37:42.861826Z"
    },
    "tags": []
   },
   "outputs": [],
   "source": [
    "def m_and_v_plots (exposure, matplot=None, display_num=None):\n",
    "    \"\"\"\n",
    "    Create an array of plots with their mask and variance\n",
    "\n",
    "    Parameters\n",
    "    ----------\n",
    "    datasetRefs: a set of DataSetRefs\n",
    "    returned by the butler\n",
    "    matplot: Can be set to True\n",
    "    display_num: Integer setting number of images\n",
    "\n",
    "    Returns\n",
    "    -------\n",
    "    None\n",
    "    \"\"\"\n",
    "    \n",
    "    if display_num == None:\n",
    "        display_num=1\n",
    "    else:\n",
    "        display_num=display_num\n",
    "    \n",
    "    if matplot != None:\n",
    "        afwDisplay.setDefaultBackend('matplotlib') \n",
    "        \n",
    "        print('Visit: ', exposure.visitInfo.getId(), ', Detector: ', exposure.detector.getId())\n",
    "        fig, ax = plt.subplots(1, 3, figsize=(14, 7))\n",
    "        plt.sca(ax[0])  # set the first axis as current\n",
    "        plt.xlabel('Image with Mask Overlay')\n",
    "        display1 = afwDisplay.Display(frame=fig)\n",
    "        display1.scale('asinh', -1, 30)\n",
    "        display1.mtv(exposure)\n",
    "        plt.sca(ax[1])  # set the second axis as current\n",
    "        display2 = afwDisplay.Display(frame=fig)\n",
    "        display2.mtv(exposure.mask)\n",
    "        plt.tight_layout()\n",
    "        plt.sca(ax[2]) \n",
    "        display3 = afwDisplay.Display(frame=fig)\n",
    "        display3.scale('asinh', 'zscale')\n",
    "        display3.mtv(exposure.variance)\n",
    "        plt.tight_layout()\n",
    "        plt.show()\n",
    "        remove_figure(fig)\n",
    "\n",
    "    else:\n",
    "        afwDisplay.setDefaultBackend('firefly')\n",
    "\n",
    "        print('Visit: ', exposure.visitInfo.getId(), ', Detector: ',exposure.detector.getId())\n",
    "        display = afwDisplay.Display(frame=0)\n",
    "        display.scale('asinh', -1, 30)\n",
    "        display.mtv(exposure)\n",
    "        display = afwDisplay.Display(frame=1)\n",
    "        display.setMaskTransparency(90)\n",
    "        display.mtv(exposure.mask)\n",
    "        display = afwDisplay.Display(frame=2)\n",
    "        display.scale('asinh', 'zscale')\n",
    "        display.mtv(exposure.variance)"
   ]
  },
  {
   "cell_type": "code",
   "execution_count": 3,
   "id": "ae380411-3842-446f-83a3-89dd0f4e0768",
   "metadata": {
    "execution": {
     "iopub.execute_input": "2023-05-08T22:37:42.868344Z",
     "iopub.status.busy": "2023-05-08T22:37:42.868023Z",
     "iopub.status.idle": "2023-05-08T22:37:42.872884Z",
     "shell.execute_reply": "2023-05-08T22:37:42.872396Z",
     "shell.execute_reply.started": "2023-05-08T22:37:42.868330Z"
    },
    "tags": []
   },
   "outputs": [],
   "source": [
    "def remove_figure(fig):\n",
    "    \"\"\"\n",
    "    Remove a figure to reduce memory footprint.\n",
    "\n",
    "    Parameters\n",
    "    ----------\n",
    "    fig: matplotlib.figure.Figure\n",
    "        Figure to be removed.\n",
    "\n",
    "    Returns\n",
    "    -------\n",
    "    None\n",
    "    \"\"\"\n",
    "    # get the axes and clear their images\n",
    "    for ax in fig.get_axes():\n",
    "        for im in ax.get_images():\n",
    "            im.remove()\n",
    "    fig.clf()       # clear the figure\n",
    "    plt.close(fig)  # close the figure\n",
    "    gc.collect()    # call the garbage collector"
   ]
  },
  {
   "cell_type": "code",
   "execution_count": 4,
   "id": "efeb1379-91e4-4c17-9474-6eef3ae83e34",
   "metadata": {
    "execution": {
     "iopub.execute_input": "2023-05-08T22:37:42.888538Z",
     "iopub.status.busy": "2023-05-08T22:37:42.888400Z",
     "iopub.status.idle": "2023-05-08T22:37:42.892374Z",
     "shell.execute_reply": "2023-05-08T22:37:42.891935Z",
     "shell.execute_reply.started": "2023-05-08T22:37:42.888526Z"
    },
    "tags": []
   },
   "outputs": [],
   "source": [
    "def count_resets(sources):\n",
    "    \n",
    "    distance = []\n",
    "    sdssResetCount = 0\n",
    "    naiveResetCount = 0\n",
    "    peakResetCount = 0\n",
    "    overlapResetCount = 0\n",
    "    \n",
    "    for index, source in sources[0:500].iterrows():\n",
    "        dataId ={'detector':source['detector'],'visit': source['visit'], 'instrument': source['instrument']}\n",
    "        catalog = butler.get(f'deepDiff_diaSrc', dataId)\n",
    "        record = catalog.find(source['diaSourceId'])\n",
    "        seperation = np.sqrt((record['base_PeakCentroid_x']-record['base_SdssCentroid_x'])**(2)+(record['base_PeakCentroid_y']-record['base_SdssCentroid_y'])**(2.0))\n",
    "        distance.append(seperation)\n",
    "        if record['base_SdssCentroid_flag_resetToPeak']:\n",
    "            sdssResetCount += 1\n",
    "            peakResetCount += 1\n",
    "        if record['base_NaiveCentroid_flag_resetToPeak']:\n",
    "            naiveResetCount += 1\n",
    "            peakResetCount += 1\n",
    "        if record['base_NaiveCentroid_flag_resetToPeak'] and record['base_SdssCentroid_flag_resetToPeak']:\n",
    "            overlapResetCount += 1\n",
    "\n",
    "        \n",
    "    return peakResetCount, sdssResetCount, naiveResetCount, overlapResetCount, distance"
   ]
  },
  {
   "cell_type": "code",
   "execution_count": 18,
   "id": "4b206f8d-955b-4b3a-b365-b1be25c41149",
   "metadata": {
    "execution": {
     "iopub.execute_input": "2023-05-08T22:41:28.922819Z",
     "iopub.status.busy": "2023-05-08T22:41:28.922591Z",
     "iopub.status.idle": "2023-05-08T22:41:28.925569Z",
     "shell.execute_reply": "2023-05-08T22:41:28.925233Z",
     "shell.execute_reply.started": "2023-05-08T22:41:28.922803Z"
    },
    "tags": []
   },
   "outputs": [],
   "source": [
    "peakResetCount=np.zeros([5])\n",
    "sdssResetCount=np.zeros([5])\n",
    "naiveResetCount=np.zeros([5])\n",
    "overlapResetCount=np.zeros([5])\n",
    "                        \n",
    "                        "
   ]
  },
  {
   "cell_type": "markdown",
   "id": "2701b896-c945-4172-985f-74bc31cb46aa",
   "metadata": {
    "execution": {
     "iopub.execute_input": "2023-05-08T19:04:22.884610Z",
     "iopub.status.busy": "2023-05-08T19:04:22.884398Z",
     "iopub.status.idle": "2023-05-08T19:04:22.887048Z",
     "shell.execute_reply": "2023-05-08T19:04:22.886703Z",
     "shell.execute_reply.started": "2023-05-08T19:04:22.884596Z"
    },
    "tags": []
   },
   "source": [
    "## 0.001 Cutoff"
   ]
  },
  {
   "cell_type": "markdown",
   "id": "b445096c-3beb-4593-8a6f-e8f552b5d272",
   "metadata": {},
   "source": [
    "This cuttoff was just for testing purposes to see if I could force all of the NaiveCentroids to reset."
   ]
  },
  {
   "cell_type": "code",
   "execution_count": 19,
   "id": "414d4fb2-dfaf-438d-a444-e64e6f00afe1",
   "metadata": {
    "execution": {
     "iopub.execute_input": "2023-05-08T22:41:30.082704Z",
     "iopub.status.busy": "2023-05-08T22:41:30.082362Z",
     "iopub.status.idle": "2023-05-08T22:41:30.593488Z",
     "shell.execute_reply": "2023-05-08T22:41:30.593018Z",
     "shell.execute_reply.started": "2023-05-08T22:41:30.082688Z"
    },
    "tags": []
   },
   "outputs": [],
   "source": [
    "collection=\"ap_verify-output/20230412T112150Z\"\n",
    "butler = lsst.daf.butler.Butler(\"/sdf/group/rubin/u/smart/workspaces/cosmos_0.001_real/repo/\", collections=collection)\n",
    "\n",
    "apdbQuery = apdb.ApdbSqliteQuery(\"/sdf/group/rubin/u/smart/workspaces/cosmos_0.001_real/association.db\", butler=butler, instrument=\"HSC\")\n",
    "sources = apdbQuery.load_sources(exclude_flagged=True, limit=10000)\n",
    "\n",
    "source=sources.iloc[1]\n",
    "datasetType = 'calexp'"
   ]
  },
  {
   "cell_type": "code",
   "execution_count": 20,
   "id": "2379c61f-08ee-4a37-a955-c91e16aae77a",
   "metadata": {
    "execution": {
     "iopub.execute_input": "2023-05-08T22:41:30.604757Z",
     "iopub.status.busy": "2023-05-08T22:41:30.604617Z",
     "iopub.status.idle": "2023-05-08T22:41:38.703055Z",
     "shell.execute_reply": "2023-05-08T22:41:38.702615Z",
     "shell.execute_reply.started": "2023-05-08T22:41:30.604743Z"
    },
    "tags": []
   },
   "outputs": [],
   "source": [
    "peakResetCount[0], sdssResetCount[0], naiveResetCount[0], overlapResetCount[0], distance = count_resets(sources)"
   ]
  },
  {
   "cell_type": "markdown",
   "id": "1263f434-20d6-4675-835d-7ffd76612dc8",
   "metadata": {},
   "source": [
    "## Histogram of SdssCentroid distance from Peak Centroid"
   ]
  },
  {
   "cell_type": "markdown",
   "id": "28f5eaf3-4bc9-4743-86b6-94d10df174bc",
   "metadata": {},
   "source": [
    "To make the graph readable, I set the number of bins in the histogram to 100 and limited the range to 6. The actual range goes up t0 1700+, however that removes any visible structure. The second graph zooms out so the peak can be seen. The third histogram shows the full distance range."
   ]
  },
  {
   "cell_type": "code",
   "execution_count": 21,
   "id": "cb88f4fb-2eec-4886-a76b-06db1016a305",
   "metadata": {
    "execution": {
     "iopub.execute_input": "2023-05-08T22:41:38.714821Z",
     "iopub.status.busy": "2023-05-08T22:41:38.714663Z",
     "iopub.status.idle": "2023-05-08T22:41:38.801250Z",
     "shell.execute_reply": "2023-05-08T22:41:38.800872Z",
     "shell.execute_reply.started": "2023-05-08T22:41:38.714807Z"
    },
    "tags": []
   },
   "outputs": [
    {
     "data": {
      "text/plain": [
       "<matplotlib.patches.StepPatch at 0x7f07e2985ed0>"
      ]
     },
     "execution_count": 21,
     "metadata": {},
     "output_type": "execute_result"
    },
    {
     "data": {
      "image/png": "[encoded data removed]",
      "text/plain": [
       "<Figure size 640x480 with 1 Axes>"
      ]
     },
     "metadata": {},
     "output_type": "display_data"
    }
   ],
   "source": [
    "\n",
    "ax = plt.gca()\n",
    "ax.set_ylim([0, 30])\n",
    "counts,bins=np.histogram(distance, bins=100, range=[0,6])\n",
    "plt.stairs(counts, bins)"
   ]
  },
  {
   "cell_type": "code",
   "execution_count": 22,
   "id": "4622f6cd-48e1-4bab-b72a-844d415bf9d2",
   "metadata": {
    "execution": {
     "iopub.execute_input": "2023-05-08T22:41:38.801884Z",
     "iopub.status.busy": "2023-05-08T22:41:38.801746Z",
     "iopub.status.idle": "2023-05-08T22:41:38.884982Z",
     "shell.execute_reply": "2023-05-08T22:41:38.884659Z",
     "shell.execute_reply.started": "2023-05-08T22:41:38.801871Z"
    },
    "tags": []
   },
   "outputs": [
    {
     "data": {
      "text/plain": [
       "<matplotlib.patches.StepPatch at 0x7f07e246c7f0>"
      ]
     },
     "execution_count": 22,
     "metadata": {},
     "output_type": "execute_result"
    },
    {
     "data": {
      "image/png": "[encoded data removed]",
      "text/plain": [
       "<Figure size 640x480 with 1 Axes>"
      ]
     },
     "metadata": {},
     "output_type": "display_data"
    }
   ],
   "source": [
    "ax = plt.gca()\n",
    "ax.set_ylim([0, 250])\n",
    "counts,bins=np.histogram(distance, bins=100, range=[0,6])\n",
    "plt.stairs(counts, bins)"
   ]
  },
  {
   "cell_type": "markdown",
   "id": "51184a9f-3391-412b-ad8e-92655de88d5e",
   "metadata": {
    "execution": {
     "iopub.execute_input": "2023-05-08T18:05:08.204037Z",
     "iopub.status.busy": "2023-05-08T18:05:08.203890Z",
     "iopub.status.idle": "2023-05-08T18:05:08.207140Z",
     "shell.execute_reply": "2023-05-08T18:05:08.206603Z",
     "shell.execute_reply.started": "2023-05-08T18:05:08.204023Z"
    }
   },
   "source": [
    "The full range of distances without the cuttoff. Some Sdss sources get over 1700+ arcseconds away from the PeakCentroid."
   ]
  },
  {
   "cell_type": "code",
   "execution_count": 23,
   "id": "3dc6233b-8d6f-4038-8600-84634edd90ea",
   "metadata": {
    "execution": {
     "iopub.execute_input": "2023-05-08T22:41:38.885588Z",
     "iopub.status.busy": "2023-05-08T22:41:38.885454Z",
     "iopub.status.idle": "2023-05-08T22:41:38.980747Z",
     "shell.execute_reply": "2023-05-08T22:41:38.980422Z",
     "shell.execute_reply.started": "2023-05-08T22:41:38.885575Z"
    },
    "tags": []
   },
   "outputs": [
    {
     "data": {
      "text/plain": [
       "<matplotlib.patches.StepPatch at 0x7f07e38ff100>"
      ]
     },
     "execution_count": 23,
     "metadata": {},
     "output_type": "execute_result"
    },
    {
     "data": {
      "image/png": "[encoded data removed]",
      "text/plain": [
       "<Figure size 640x480 with 1 Axes>"
      ]
     },
     "metadata": {},
     "output_type": "display_data"
    }
   ],
   "source": [
    "ax = plt.gca()\n",
    "ax.set_ylim([0, 20])\n",
    "counts,bins=np.histogram(distance, bins=100)\n",
    "plt.stairs(counts, bins)"
   ]
  },
  {
   "cell_type": "code",
   "execution_count": 24,
   "id": "b08df036-5bb4-425b-8cc4-26ba0681523d",
   "metadata": {
    "execution": {
     "iopub.execute_input": "2023-05-08T22:41:38.982016Z",
     "iopub.status.busy": "2023-05-08T22:41:38.981877Z",
     "iopub.status.idle": "2023-05-08T22:41:38.985178Z",
     "shell.execute_reply": "2023-05-08T22:41:38.984845Z",
     "shell.execute_reply.started": "2023-05-08T22:41:38.982003Z"
    },
    "tags": []
   },
   "outputs": [
    {
     "data": {
      "text/plain": [
       "array([   0.        ,   18.72586031,   37.45172062,   56.17758093,\n",
       "         74.90344124,   93.62930155,  112.35516186,  131.08102217,\n",
       "        149.80688248,  168.53274279,  187.25860309,  205.9844634 ,\n",
       "        224.71032371,  243.43618402,  262.16204433,  280.88790464,\n",
       "        299.61376495,  318.33962526,  337.06548557,  355.79134588,\n",
       "        374.51720619,  393.2430665 ,  411.96892681,  430.69478712,\n",
       "        449.42064743,  468.14650774,  486.87236805,  505.59822836,\n",
       "        524.32408867,  543.04994897,  561.77580928,  580.50166959,\n",
       "        599.2275299 ,  617.95339021,  636.67925052,  655.40511083,\n",
       "        674.13097114,  692.85683145,  711.58269176,  730.30855207,\n",
       "        749.03441238,  767.76027269,  786.486133  ,  805.21199331,\n",
       "        823.93785362,  842.66371393,  861.38957424,  880.11543454,\n",
       "        898.84129485,  917.56715516,  936.29301547,  955.01887578,\n",
       "        973.74473609,  992.4705964 , 1011.19645671, 1029.92231702,\n",
       "       1048.64817733, 1067.37403764, 1086.09989795, 1104.82575826,\n",
       "       1123.55161857, 1142.27747888, 1161.00333919, 1179.7291995 ,\n",
       "       1198.45505981, 1217.18092012, 1235.90678042, 1254.63264073,\n",
       "       1273.35850104, 1292.08436135, 1310.81022166, 1329.53608197,\n",
       "       1348.26194228, 1366.98780259, 1385.7136629 , 1404.43952321,\n",
       "       1423.16538352, 1441.89124383, 1460.61710414, 1479.34296445,\n",
       "       1498.06882476, 1516.79468507, 1535.52054538, 1554.24640569,\n",
       "       1572.972266  , 1591.6981263 , 1610.42398661, 1629.14984692,\n",
       "       1647.87570723, 1666.60156754, 1685.32742785, 1704.05328816,\n",
       "       1722.77914847, 1741.50500878, 1760.23086909, 1778.9567294 ,\n",
       "       1797.68258971, 1816.40845002, 1835.13431033, 1853.86017064,\n",
       "       1872.58603095])"
      ]
     },
     "execution_count": 24,
     "metadata": {},
     "output_type": "execute_result"
    }
   ],
   "source": [
    "bins"
   ]
  },
  {
   "cell_type": "markdown",
   "id": "df3f021b-8d6d-4c8f-8ff9-ded2e9eae7ce",
   "metadata": {},
   "source": [
    "## 0.5 Cutoff"
   ]
  },
  {
   "cell_type": "code",
   "execution_count": 25,
   "id": "79a604dc-5a65-4b31-b258-51b2adc312e1",
   "metadata": {
    "execution": {
     "iopub.execute_input": "2023-05-08T22:41:38.985757Z",
     "iopub.status.busy": "2023-05-08T22:41:38.985623Z",
     "iopub.status.idle": "2023-05-08T22:41:47.302314Z",
     "shell.execute_reply": "2023-05-08T22:41:47.301697Z",
     "shell.execute_reply.started": "2023-05-08T22:41:38.985744Z"
    },
    "tags": []
   },
   "outputs": [],
   "source": [
    "collection=\"ap_verify-output/20230412T143054Z\"\n",
    "butler = lsst.daf.butler.Butler(\"/sdf/group/rubin/u/smart/workspaces/cosmos_0.5_real/repo/\", collections=collection)\n",
    "\n",
    "apdbQuery = apdb.ApdbSqliteQuery(\"/sdf/group/rubin/u/smart/workspaces/cosmos_0.5_real/association.db\", butler=butler, instrument=\"HSC\")\n",
    "sources = apdbQuery.load_sources(exclude_flagged=True, limit=10000)\n",
    "\n",
    "source=sources.iloc[1]\n",
    "datasetType = 'calexp'\n",
    "\n",
    "peakResetCount[1], sdssResetCount[1], naiveResetCount[1], overlapResetCount[1], distance = count_resets(sources)\n"
   ]
  },
  {
   "cell_type": "markdown",
   "id": "b3a571bc-0c87-4c0a-801c-2798d62d7d25",
   "metadata": {},
   "source": [
    "## 1.0 Cutoff"
   ]
  },
  {
   "cell_type": "code",
   "execution_count": 26,
   "id": "b6e2231a-8085-498d-89e3-4ac7ac76c4fd",
   "metadata": {
    "execution": {
     "iopub.execute_input": "2023-05-08T22:41:47.303295Z",
     "iopub.status.busy": "2023-05-08T22:41:47.303128Z",
     "iopub.status.idle": "2023-05-08T22:41:55.809202Z",
     "shell.execute_reply": "2023-05-08T22:41:55.808669Z",
     "shell.execute_reply.started": "2023-05-08T22:41:47.303279Z"
    },
    "tags": []
   },
   "outputs": [],
   "source": [
    "collection=\"ap_verify-output/20230412T145315Z\"\n",
    "butler = lsst.daf.butler.Butler(\"/sdf/group/rubin/u/smart/workspaces/cosmos_1.0_real/repo/\", collections=collection)\n",
    "\n",
    "apdbQuery = apdb.ApdbSqliteQuery(\"/sdf/group/rubin/u/smart/workspaces/cosmos_1.0_real/association.db\", butler=butler, instrument=\"HSC\")\n",
    "sources = apdbQuery.load_sources(exclude_flagged=True, limit=10000)\n",
    "\n",
    "source=sources.iloc[1]\n",
    "datasetType = 'calexp'\n",
    "\n",
    "peakResetCount[2], sdssResetCount[2], naiveResetCount[2], overlapResetCount[2], distance = count_resets(sources)\n"
   ]
  },
  {
   "cell_type": "markdown",
   "id": "d1ff99ce-a395-4d82-9377-2a0bf327822e",
   "metadata": {},
   "source": [
    "# 5.0 Cutoff"
   ]
  },
  {
   "cell_type": "code",
   "execution_count": 27,
   "id": "91f54575-84c7-4d75-aec6-d6bfb52425fd",
   "metadata": {
    "execution": {
     "iopub.execute_input": "2023-05-08T22:41:55.810155Z",
     "iopub.status.busy": "2023-05-08T22:41:55.809998Z",
     "iopub.status.idle": "2023-05-08T22:42:04.396916Z",
     "shell.execute_reply": "2023-05-08T22:42:04.396347Z",
     "shell.execute_reply.started": "2023-05-08T22:41:55.810140Z"
    },
    "tags": []
   },
   "outputs": [],
   "source": [
    "collection=\"ap_verify-output/20230412T151311Z\"\n",
    "butler = lsst.daf.butler.Butler(\"/sdf/group/rubin/u/smart/workspaces/cosmos_5.0_real/repo/\", collections=collection)\n",
    "\n",
    "apdbQuery = apdb.ApdbSqliteQuery(\"/sdf/group/rubin/u/smart/workspaces/cosmos_5.0_real/association.db\", butler=butler, instrument=\"HSC\")\n",
    "sources = apdbQuery.load_sources(exclude_flagged=True, limit=10000)\n",
    "\n",
    "source=sources.iloc[1]\n",
    "datasetType = 'calexp'\n",
    "\n",
    "peakResetCount[3], sdssResetCount[3], naiveResetCount[3], overlapResetCount[3], distance = count_resets(sources)"
   ]
  },
  {
   "cell_type": "markdown",
   "id": "a84c09b2-0be3-411f-81fd-e151951730e7",
   "metadata": {},
   "source": [
    "## 10.0 Cutoff"
   ]
  },
  {
   "cell_type": "code",
   "execution_count": 28,
   "id": "5fd5cdaf-5373-4fd7-8363-5d77978fe634",
   "metadata": {
    "execution": {
     "iopub.execute_input": "2023-05-08T22:42:04.397790Z",
     "iopub.status.busy": "2023-05-08T22:42:04.397626Z",
     "iopub.status.idle": "2023-05-08T22:42:12.813306Z",
     "shell.execute_reply": "2023-05-08T22:42:12.812759Z",
     "shell.execute_reply.started": "2023-05-08T22:42:04.397775Z"
    },
    "tags": []
   },
   "outputs": [],
   "source": [
    "collection=\"ap_verify-output/20230412T153253Z\"\n",
    "butler = lsst.daf.butler.Butler(\"/sdf/group/rubin/u/smart/workspaces/cosmos_10.0_real/repo/\", collections=collection)\n",
    "\n",
    "apdbQuery = apdb.ApdbSqliteQuery(\"/sdf/group/rubin/u/smart/workspaces/cosmos_10.0_real/association.db\", butler=butler, instrument=\"HSC\")\n",
    "sources = apdbQuery.load_sources(exclude_flagged=True, limit=10000)\n",
    "\n",
    "source=sources.iloc[1]\n",
    "datasetType = 'calexp'\n",
    "\n",
    "peakResetCount[4], sdssResetCount[4], naiveResetCount[4], overlapResetCount[3], distance = count_resets(sources)"
   ]
  },
  {
   "cell_type": "markdown",
   "id": "726d1e4c-95b0-463a-8576-35e3014a7999",
   "metadata": {
    "execution": {
     "iopub.execute_input": "2023-05-08T18:33:45.461760Z",
     "iopub.status.busy": "2023-05-08T18:33:45.461532Z",
     "iopub.status.idle": "2023-05-08T18:33:45.464461Z",
     "shell.execute_reply": "2023-05-08T18:33:45.464039Z",
     "shell.execute_reply.started": "2023-05-08T18:33:45.461745Z"
    },
    "tags": []
   },
   "source": [
    "## Reset Count Graph"
   ]
  },
  {
   "cell_type": "markdown",
   "id": "24d15061-271c-46d1-9908-88731273010b",
   "metadata": {},
   "source": [
    "A histogram of the total resets for the dataset. The total count may be over the 500 sources due to resets occuring for both  naiveResetCount and for sdssResetCount."
   ]
  },
  {
   "cell_type": "code",
   "execution_count": 29,
   "id": "a458df4b-f9ff-4907-af4b-6add3fa16ae2",
   "metadata": {
    "execution": {
     "iopub.execute_input": "2023-05-08T22:42:12.814201Z",
     "iopub.status.busy": "2023-05-08T22:42:12.814042Z",
     "iopub.status.idle": "2023-05-08T22:42:13.018548Z",
     "shell.execute_reply": "2023-05-08T22:42:13.018042Z",
     "shell.execute_reply.started": "2023-05-08T22:42:12.814186Z"
    },
    "tags": []
   },
   "outputs": [
    {
     "data": {
      "image/png": "[encoded data removed]",
      "text/plain": [
       "<Figure size 640x480 with 1 Axes>"
      ]
     },
     "metadata": {},
     "output_type": "display_data"
    }
   ],
   "source": [
    "\n",
    "import matplotlib.pyplot as plt\n",
    "import numpy as np\n",
    "\n",
    "species = (\"0.001\", \"0.5\", \"1.0\", \"5.0\", \"10.0\")\n",
    "reset = {\n",
    "    'Total Reset Count': (peakResetCount),\n",
    "    'naiveResetCount': (naiveResetCount),\n",
    "    'sdssResetCount': (sdssResetCount),\n",
    "    'overlapResetCount': (overlapResetCount),\n",
    "}\n",
    "\n",
    "x = np.arange(len(species))  # the label locations\n",
    "width = 0.2  # the width of the bars\n",
    "multiplier = 0\n",
    "\n",
    "fig, ax = plt.subplots(layout='constrained')\n",
    "\n",
    "for item, measurement in reset.items():\n",
    "    offset = width * multiplier\n",
    "    rects = ax.bar(x + offset, measurement, width, label=item)\n",
    "    ax.bar_label(rects, padding=3)\n",
    "    multiplier += 1\n",
    "\n",
    "# Add some text for labels, title and custom x-axis tick labels, etc.\n",
    "ax.set_ylabel('Count')\n",
    "ax.set_title('Both Sdss and Naive the same')\n",
    "ax.set_xticks(x + width, species)\n",
    "ax.legend(loc='upper left', ncols=3)\n",
    "ax.set_xlabel('maxDistToPeak')\n",
    "\n",
    "plt.show()"
   ]
  },
  {
   "cell_type": "code",
   "execution_count": null,
   "id": "ffdd9150-aeb3-4e2c-9601-26abc9b1dfa6",
   "metadata": {},
   "outputs": [],
   "source": []
  }
 ],
 "metadata": {
  "kernelspec": {
   "display_name": "LSST",
   "language": "python",
   "name": "lsst"
  },
  "language_info": {
   "codemirror_mode": {
    "name": "ipython",
    "version": 3
   },
   "file_extension": ".py",
   "mimetype": "text/x-python",
   "name": "python",
   "nbconvert_exporter": "python",
   "pygments_lexer": "ipython3",
   "version": "3.10.10"
  }
 },
 "nbformat": 4,
 "nbformat_minor": 5
}
