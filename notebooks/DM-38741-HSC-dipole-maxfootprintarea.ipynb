{
 "cells": [
  {
   "cell_type": "markdown",
   "id": "88af7917-18b6-4e1c-a330-3c7ac6faa52b",
   "metadata": {},
   "source": [
    "<img align=\"left\" src = https://project.lsst.org/sites/default/files/Rubin-O-Logo_0.png width=250 style=\"padding: 10px\"> \n",
    "<br>\n",
    "<b>HSC Cosmos Analysis Notebook</b> <br>\n",
    "Contact author: Ian Sullivan<br>\n",
    "Last verified to run: May 17, 2023<br>\n",
    "LSST Science Piplines version: d_2023_05_17<br>\n",
    "Container Size: Large <br>"
   ]
  },
  {
   "cell_type": "markdown",
   "id": "b4d7ce29",
   "metadata": {},
   "source": [
    "# DM-38741: Investigate best setting of maxFootprintArea in DipoleFitTask\n",
    "\n",
    "## Current Run details\n",
    "\n",
    "New baseline run.\n",
    "\n",
    "* Templates are in `u/mrawls/DM-34711/templates`\n",
    "* Final processing of HSC COSMOS is in  `u/elhoward/DM-38590/HSC`\n",
    "* Postgres schema is `elhoward_dm38590_hsc_appipe`\n",
    "* Working directory on USDF with bps logs, pipelines, etc. is `/sdf/group/rubin/user/elhoward/repo-main-logs/DM-38590`\n",
    "\n",
    "For ApPipeWithFakes.yaml:\n",
    "```\n",
    "inCollection: u/mrawls/DM-34711/templates,HSC/raw/RC2/9813,HSC/calib,HSC/masks,refcats,skymaps\n",
    "dataQuery: \"instrument='HSC' AND skymap='hsc_rings_v1' AND band IN ('g', 'r', 'i', 'z', 'y')\"\n",
    "```\n",
    "\n",
    "\n",
    "## Table of Contents\n",
    "\n",
    "1. [Loading DiaObjects and DiaSources](#section_1)\n",
    "2. [DiaObject and DiaSources analysis](#section_2)"
   ]
  },
  {
   "cell_type": "code",
   "execution_count": 1,
   "id": "62311997-0d56-4356-8b52-d15aaf723538",
   "metadata": {
    "execution": {
     "iopub.execute_input": "2023-05-17T22:50:11.272898Z",
     "iopub.status.busy": "2023-05-17T22:50:11.272651Z",
     "iopub.status.idle": "2023-05-17T22:50:12.908640Z",
     "shell.execute_reply": "2023-05-17T22:50:12.908100Z",
     "shell.execute_reply.started": "2023-05-17T22:50:11.272880Z"
    },
    "tags": []
   },
   "outputs": [
    {
     "data": {
      "text/plain": [
       "<module 'lsst.analysis.ap.legacyApdbUtils' from '/home/s/sullii/project/build/analysis_ap/python/lsst/analysis/ap/legacyApdbUtils.py'>"
      ]
     },
     "execution_count": 1,
     "metadata": {},
     "output_type": "execute_result"
    }
   ],
   "source": [
    "%matplotlib inline\n",
    "\n",
    "import numpy as np\n",
    "import matplotlib.pyplot as plt\n",
    "import importlib\n",
    "import pandas as pd\n",
    "import astropy.units as u\n",
    "import lsst.afw.display as afwDisplay\n",
    "import lsst.geom\n",
    "\n",
    "import lsst.daf.butler as dafButler\n",
    "from lsst.analysis.ap import legacyApdbUtils as utils\n",
    "from lsst.analysis.ap import legacyPlotUtils as plac\n",
    "\n",
    "import warnings\n",
    "warnings.filterwarnings('ignore')\n",
    "warnings.simplefilter('ignore')\n",
    "\n",
    "importlib.reload(utils)"
   ]
  },
  {
   "cell_type": "markdown",
   "id": "5b4e64f4",
   "metadata": {
    "tags": []
   },
   "source": [
    "## 1. <a id=\"section_1\">Loading DiaObjects and DiaSources</a>"
   ]
  },
  {
   "cell_type": "code",
   "execution_count": 2,
   "id": "16a01e6b",
   "metadata": {
    "execution": {
     "iopub.execute_input": "2023-05-17T22:51:06.465023Z",
     "iopub.status.busy": "2023-05-17T22:51:06.464514Z",
     "iopub.status.idle": "2023-05-17T22:51:10.559443Z",
     "shell.execute_reply": "2023-05-17T22:51:10.558880Z",
     "shell.execute_reply.started": "2023-05-17T22:51:06.465005Z"
    },
    "tags": []
   },
   "outputs": [],
   "source": [
    "repo = '/repo/main'\n",
    "butler = dafButler.Butler(repo)\n",
    "instrument = 'HSC'\n",
    "skymap = 'hsc_rings_v1'\n",
    "\n",
    "dbType='postgres'\n",
    "dbName='lsst-devl'\n",
    "\n",
    "fakeStatus = 'with fakes'\n",
    "\n",
    "dmnum = '38590'\n",
    "collections = f'u/elhoward/DM-{dmnum}/HSC'\n",
    "schema = f'elhoward_dm{dmnum}_hsc_appipe'\n",
    "month = 'February'\n",
    "year = '2023'\n",
    "\n",
    "collectionsList = collections"
   ]
  },
  {
   "cell_type": "code",
   "execution_count": 3,
   "id": "f5289027",
   "metadata": {
    "execution": {
     "iopub.execute_input": "2023-05-17T22:51:13.186635Z",
     "iopub.status.busy": "2023-05-17T22:51:13.186045Z",
     "iopub.status.idle": "2023-05-17T22:52:12.091972Z",
     "shell.execute_reply": "2023-05-17T22:52:12.091468Z",
     "shell.execute_reply.started": "2023-05-17T22:51:13.186618Z"
    },
    "tags": []
   },
   "outputs": [],
   "source": [
    "objTable, srcTable, goodObj, goodSrc = utils.loadTables(repo,\n",
    "                                                        dbName=dbName,\n",
    "                                                        dbType=dbType,\n",
    "                                                        instrument=instrument,\n",
    "                                                        schema=schema)"
   ]
  },
  {
   "cell_type": "code",
   "execution_count": 4,
   "id": "9734e442",
   "metadata": {
    "execution": {
     "iopub.execute_input": "2023-05-17T22:52:51.166882Z",
     "iopub.status.busy": "2023-05-17T22:52:51.166515Z",
     "iopub.status.idle": "2023-05-17T22:52:56.005094Z",
     "shell.execute_reply": "2023-05-17T22:52:56.004550Z",
     "shell.execute_reply.started": "2023-05-17T22:52:51.166863Z"
    },
    "tags": []
   },
   "outputs": [],
   "source": [
    "flagTable, srcTableFlags, flagFilter, goodSrc, goodObj = utils.makeSrcTableFlags(srcTable, objTable,\n",
    "                                                                                 instrument=instrument,\n",
    "                                                                                 repo=repo)"
   ]
  },
  {
   "cell_type": "markdown",
   "id": "242107b3",
   "metadata": {
    "tags": []
   },
   "source": [
    "## 2. <a id=\"section_2\">DIA object and source visual analysis</a>\n",
    "\n",
    "Plots look reasonable and are consistent with previous base run."
   ]
  },
  {
   "cell_type": "code",
   "execution_count": 5,
   "id": "be772843",
   "metadata": {
    "execution": {
     "iopub.execute_input": "2023-05-17T22:52:57.656692Z",
     "iopub.status.busy": "2023-05-17T22:52:57.656460Z",
     "iopub.status.idle": "2023-05-17T22:52:58.342839Z",
     "shell.execute_reply": "2023-05-17T22:52:58.342305Z",
     "shell.execute_reply.started": "2023-05-17T22:52:57.656677Z"
    },
    "tags": []
   },
   "outputs": [
    {
     "data": {
      "image/png": "[encoded data removed]",
      "text/plain": [
       "<Figure size 640x480 with 1 Axes>"
      ]
     },
     "metadata": {},
     "output_type": "display_data"
    }
   ],
   "source": [
    "plac.plotDiaObjectHistogram(objTable, goodObj, title=f'{month} {year}');"
   ]
  },
  {
   "cell_type": "code",
   "execution_count": 6,
   "id": "f150700a-f253-47f9-a91a-bdef314fdc3c",
   "metadata": {
    "execution": {
     "iopub.execute_input": "2023-05-17T22:54:02.413562Z",
     "iopub.status.busy": "2023-05-17T22:54:02.413341Z",
     "iopub.status.idle": "2023-05-17T22:54:02.513137Z",
     "shell.execute_reply": "2023-05-17T22:54:02.512567Z",
     "shell.execute_reply.started": "2023-05-17T22:54:02.413547Z"
    },
    "tags": []
   },
   "outputs": [],
   "source": [
    "ccdVisits = np.unique(np.sort(srcTable[\"ccdVisitId\"]))"
   ]
  },
  {
   "cell_type": "code",
   "execution_count": 13,
   "id": "4f57181f-87e0-499b-9f72-bfce810b6ce3",
   "metadata": {
    "execution": {
     "iopub.execute_input": "2023-05-17T22:57:48.879137Z",
     "iopub.status.busy": "2023-05-17T22:57:48.878803Z",
     "iopub.status.idle": "2023-05-17T22:57:48.959486Z",
     "shell.execute_reply": "2023-05-17T22:57:48.958976Z",
     "shell.execute_reply.started": "2023-05-17T22:57:48.879121Z"
    },
    "tags": []
   },
   "outputs": [],
   "source": [
    "visits = np.unique(np.sort(srcTable[\"visit\"]))"
   ]
  },
  {
   "cell_type": "code",
   "execution_count": 14,
   "id": "11d06617-9fcc-4629-825b-4264371e3ef3",
   "metadata": {
    "execution": {
     "iopub.execute_input": "2023-05-17T22:58:00.063587Z",
     "iopub.status.busy": "2023-05-17T22:58:00.063203Z",
     "iopub.status.idle": "2023-05-17T22:58:00.146249Z",
     "shell.execute_reply": "2023-05-17T22:58:00.145726Z",
     "shell.execute_reply.started": "2023-05-17T22:58:00.063568Z"
    },
    "tags": []
   },
   "outputs": [],
   "source": [
    "ccds = np.unique(np.sort(srcTable[\"detector\"]))"
   ]
  },
  {
   "cell_type": "code",
   "execution_count": 12,
   "id": "345dd024-8207-4053-b7c0-14bdb0179e57",
   "metadata": {
    "execution": {
     "iopub.execute_input": "2023-05-17T22:56:43.019864Z",
     "iopub.status.busy": "2023-05-17T22:56:43.019638Z",
     "iopub.status.idle": "2023-05-17T22:56:43.400346Z",
     "shell.execute_reply": "2023-05-17T22:56:43.399792Z",
     "shell.execute_reply.started": "2023-05-17T22:56:43.019849Z"
    },
    "tags": []
   },
   "outputs": [
    {
     "data": {
      "text/html": [
       "<div>\n",
       "<style scoped>\n",
       "    .dataframe tbody tr th:only-of-type {\n",
       "        vertical-align: middle;\n",
       "    }\n",
       "\n",
       "    .dataframe tbody tr th {\n",
       "        vertical-align: top;\n",
       "    }\n",
       "\n",
       "    .dataframe thead th {\n",
       "        text-align: right;\n",
       "    }\n",
       "</style>\n",
       "<table border=\"1\" class=\"dataframe\">\n",
       "  <thead>\n",
       "    <tr style=\"text-align: right;\">\n",
       "      <th></th>\n",
       "      <th>diaSourceId</th>\n",
       "      <th>diaObjectId</th>\n",
       "      <th>ra</th>\n",
       "      <th>decl</th>\n",
       "      <th>ccdVisitId</th>\n",
       "      <th>midPointTai</th>\n",
       "      <th>apFlux</th>\n",
       "      <th>psFlux</th>\n",
       "      <th>apFluxErr</th>\n",
       "      <th>psFluxErr</th>\n",
       "      <th>...</th>\n",
       "      <th>x</th>\n",
       "      <th>y</th>\n",
       "      <th>ixxPSF</th>\n",
       "      <th>iyyPSF</th>\n",
       "      <th>ixyPSF</th>\n",
       "      <th>flags</th>\n",
       "      <th>filterName</th>\n",
       "      <th>visit</th>\n",
       "      <th>detector</th>\n",
       "      <th>instrument</th>\n",
       "    </tr>\n",
       "  </thead>\n",
       "  <tbody>\n",
       "    <tr>\n",
       "      <th>0</th>\n",
       "      <td>502519763567035</td>\n",
       "      <td>502519763567035</td>\n",
       "      <td>150.608767</td>\n",
       "      <td>1.598474</td>\n",
       "      <td>234004</td>\n",
       "      <td>56744.273182</td>\n",
       "      <td>-1048.737797</td>\n",
       "      <td>-988.171353</td>\n",
       "      <td>346.572216</td>\n",
       "      <td>174.432111</td>\n",
       "      <td>...</td>\n",
       "      <td>43.097820</td>\n",
       "      <td>15.025450</td>\n",
       "      <td>0.164697</td>\n",
       "      <td>-0.021272</td>\n",
       "      <td>-0.021272</td>\n",
       "      <td>14288172</td>\n",
       "      <td>z</td>\n",
       "      <td>1170</td>\n",
       "      <td>4</td>\n",
       "      <td>HSC</td>\n",
       "    </tr>\n",
       "    <tr>\n",
       "      <th>1</th>\n",
       "      <td>502519763567036</td>\n",
       "      <td>502519763567036</td>\n",
       "      <td>150.611589</td>\n",
       "      <td>1.680900</td>\n",
       "      <td>234004</td>\n",
       "      <td>56744.273182</td>\n",
       "      <td>-4075.902281</td>\n",
       "      <td>-8584.637836</td>\n",
       "      <td>359.610437</td>\n",
       "      <td>186.911290</td>\n",
       "      <td>...</td>\n",
       "      <td>1929.171509</td>\n",
       "      <td>22.754538</td>\n",
       "      <td>0.169914</td>\n",
       "      <td>-0.021946</td>\n",
       "      <td>-0.021946</td>\n",
       "      <td>41943112</td>\n",
       "      <td>z</td>\n",
       "      <td>1170</td>\n",
       "      <td>4</td>\n",
       "      <td>HSC</td>\n",
       "    </tr>\n",
       "    <tr>\n",
       "      <th>2</th>\n",
       "      <td>502519763567037</td>\n",
       "      <td>502519763567037</td>\n",
       "      <td>150.611058</td>\n",
       "      <td>1.644968</td>\n",
       "      <td>234004</td>\n",
       "      <td>56744.273182</td>\n",
       "      <td>-731.686314</td>\n",
       "      <td>-1334.915736</td>\n",
       "      <td>360.002748</td>\n",
       "      <td>191.554643</td>\n",
       "      <td>...</td>\n",
       "      <td>1111.803711</td>\n",
       "      <td>33.090210</td>\n",
       "      <td>0.167665</td>\n",
       "      <td>-0.021656</td>\n",
       "      <td>-0.021656</td>\n",
       "      <td>8389928</td>\n",
       "      <td>z</td>\n",
       "      <td>1170</td>\n",
       "      <td>4</td>\n",
       "      <td>HSC</td>\n",
       "    </tr>\n",
       "    <tr>\n",
       "      <th>3</th>\n",
       "      <td>502519763567038</td>\n",
       "      <td>502519763567038</td>\n",
       "      <td>150.611446</td>\n",
       "      <td>1.681001</td>\n",
       "      <td>234004</td>\n",
       "      <td>56744.273182</td>\n",
       "      <td>-1958.747185</td>\n",
       "      <td>-880.151163</td>\n",
       "      <td>360.094300</td>\n",
       "      <td>205.549293</td>\n",
       "      <td>...</td>\n",
       "      <td>1931.525778</td>\n",
       "      <td>19.517678</td>\n",
       "      <td>0.169927</td>\n",
       "      <td>-0.021948</td>\n",
       "      <td>-0.021948</td>\n",
       "      <td>8388716</td>\n",
       "      <td>z</td>\n",
       "      <td>1170</td>\n",
       "      <td>4</td>\n",
       "      <td>HSC</td>\n",
       "    </tr>\n",
       "    <tr>\n",
       "      <th>4</th>\n",
       "      <td>502519763567039</td>\n",
       "      <td>502519763567039</td>\n",
       "      <td>150.613724</td>\n",
       "      <td>1.627217</td>\n",
       "      <td>234004</td>\n",
       "      <td>56744.273182</td>\n",
       "      <td>1844.573304</td>\n",
       "      <td>932.238775</td>\n",
       "      <td>339.879213</td>\n",
       "      <td>168.825163</td>\n",
       "      <td>...</td>\n",
       "      <td>702.940125</td>\n",
       "      <td>105.118187</td>\n",
       "      <td>0.166383</td>\n",
       "      <td>-0.021490</td>\n",
       "      <td>-0.021490</td>\n",
       "      <td>0</td>\n",
       "      <td>z</td>\n",
       "      <td>1170</td>\n",
       "      <td>4</td>\n",
       "      <td>HSC</td>\n",
       "    </tr>\n",
       "    <tr>\n",
       "      <th>...</th>\n",
       "      <td>...</td>\n",
       "      <td>...</td>\n",
       "      <td>...</td>\n",
       "      <td>...</td>\n",
       "      <td>...</td>\n",
       "      <td>...</td>\n",
       "      <td>...</td>\n",
       "      <td>...</td>\n",
       "      <td>...</td>\n",
       "      <td>...</td>\n",
       "      <td>...</td>\n",
       "      <td>...</td>\n",
       "      <td>...</td>\n",
       "      <td>...</td>\n",
       "      <td>...</td>\n",
       "      <td>...</td>\n",
       "      <td>...</td>\n",
       "      <td>...</td>\n",
       "      <td>...</td>\n",
       "      <td>...</td>\n",
       "      <td>...</td>\n",
       "    </tr>\n",
       "    <tr>\n",
       "      <th>4670060</th>\n",
       "      <td>5033040245949083</td>\n",
       "      <td>5033040245949083</td>\n",
       "      <td>150.114641</td>\n",
       "      <td>2.792279</td>\n",
       "      <td>2343692</td>\n",
       "      <td>56979.612027</td>\n",
       "      <td>NaN</td>\n",
       "      <td>-2929.855976</td>\n",
       "      <td>NaN</td>\n",
       "      <td>462.554053</td>\n",
       "      <td>...</td>\n",
       "      <td>1021.921875</td>\n",
       "      <td>4165.985840</td>\n",
       "      <td>0.095646</td>\n",
       "      <td>-0.001378</td>\n",
       "      <td>-0.001378</td>\n",
       "      <td>14386540</td>\n",
       "      <td>y</td>\n",
       "      <td>11718</td>\n",
       "      <td>92</td>\n",
       "      <td>HSC</td>\n",
       "    </tr>\n",
       "    <tr>\n",
       "      <th>4670061</th>\n",
       "      <td>5033040245949085</td>\n",
       "      <td>5033040245949085</td>\n",
       "      <td>150.114575</td>\n",
       "      <td>2.758798</td>\n",
       "      <td>2343692</td>\n",
       "      <td>56979.612027</td>\n",
       "      <td>NaN</td>\n",
       "      <td>-3009.498950</td>\n",
       "      <td>NaN</td>\n",
       "      <td>467.406507</td>\n",
       "      <td>...</td>\n",
       "      <td>1775.001953</td>\n",
       "      <td>4167.986816</td>\n",
       "      <td>0.096542</td>\n",
       "      <td>-0.001390</td>\n",
       "      <td>-0.001390</td>\n",
       "      <td>14386540</td>\n",
       "      <td>y</td>\n",
       "      <td>11718</td>\n",
       "      <td>92</td>\n",
       "      <td>HSC</td>\n",
       "    </tr>\n",
       "    <tr>\n",
       "      <th>4670062</th>\n",
       "      <td>5033040245949087</td>\n",
       "      <td>5033040245949087</td>\n",
       "      <td>150.114589</td>\n",
       "      <td>2.800907</td>\n",
       "      <td>2343692</td>\n",
       "      <td>56979.612027</td>\n",
       "      <td>NaN</td>\n",
       "      <td>-2831.011165</td>\n",
       "      <td>NaN</td>\n",
       "      <td>462.294855</td>\n",
       "      <td>...</td>\n",
       "      <td>826.950500</td>\n",
       "      <td>4166.944336</td>\n",
       "      <td>0.095397</td>\n",
       "      <td>-0.001374</td>\n",
       "      <td>-0.001374</td>\n",
       "      <td>14386540</td>\n",
       "      <td>y</td>\n",
       "      <td>11718</td>\n",
       "      <td>92</td>\n",
       "      <td>HSC</td>\n",
       "    </tr>\n",
       "    <tr>\n",
       "      <th>4670063</th>\n",
       "      <td>5033040245949089</td>\n",
       "      <td>5033040245949089</td>\n",
       "      <td>150.114487</td>\n",
       "      <td>2.808149</td>\n",
       "      <td>2343692</td>\n",
       "      <td>56979.612027</td>\n",
       "      <td>NaN</td>\n",
       "      <td>-2794.674212</td>\n",
       "      <td>NaN</td>\n",
       "      <td>462.317042</td>\n",
       "      <td>...</td>\n",
       "      <td>662.970459</td>\n",
       "      <td>4168.998535</td>\n",
       "      <td>0.095182</td>\n",
       "      <td>-0.001371</td>\n",
       "      <td>-0.001371</td>\n",
       "      <td>14385484</td>\n",
       "      <td>y</td>\n",
       "      <td>11718</td>\n",
       "      <td>92</td>\n",
       "      <td>HSC</td>\n",
       "    </tr>\n",
       "    <tr>\n",
       "      <th>4670064</th>\n",
       "      <td>5033040245949090</td>\n",
       "      <td>5033040245949090</td>\n",
       "      <td>150.114519</td>\n",
       "      <td>2.770560</td>\n",
       "      <td>2343692</td>\n",
       "      <td>56979.612027</td>\n",
       "      <td>NaN</td>\n",
       "      <td>-2780.360907</td>\n",
       "      <td>NaN</td>\n",
       "      <td>465.080218</td>\n",
       "      <td>...</td>\n",
       "      <td>1511.045166</td>\n",
       "      <td>4168.988770</td>\n",
       "      <td>0.096240</td>\n",
       "      <td>-0.001386</td>\n",
       "      <td>-0.001386</td>\n",
       "      <td>14386540</td>\n",
       "      <td>y</td>\n",
       "      <td>11718</td>\n",
       "      <td>92</td>\n",
       "      <td>HSC</td>\n",
       "    </tr>\n",
       "  </tbody>\n",
       "</table>\n",
       "<p>4670065 rows × 23 columns</p>\n",
       "</div>"
      ],
      "text/plain": [
       "              diaSourceId       diaObjectId          ra      decl  ccdVisitId   \n",
       "0         502519763567035   502519763567035  150.608767  1.598474      234004  \\\n",
       "1         502519763567036   502519763567036  150.611589  1.680900      234004   \n",
       "2         502519763567037   502519763567037  150.611058  1.644968      234004   \n",
       "3         502519763567038   502519763567038  150.611446  1.681001      234004   \n",
       "4         502519763567039   502519763567039  150.613724  1.627217      234004   \n",
       "...                   ...               ...         ...       ...         ...   \n",
       "4670060  5033040245949083  5033040245949083  150.114641  2.792279     2343692   \n",
       "4670061  5033040245949085  5033040245949085  150.114575  2.758798     2343692   \n",
       "4670062  5033040245949087  5033040245949087  150.114589  2.800907     2343692   \n",
       "4670063  5033040245949089  5033040245949089  150.114487  2.808149     2343692   \n",
       "4670064  5033040245949090  5033040245949090  150.114519  2.770560     2343692   \n",
       "\n",
       "          midPointTai       apFlux       psFlux   apFluxErr   psFluxErr  ...   \n",
       "0        56744.273182 -1048.737797  -988.171353  346.572216  174.432111  ...  \\\n",
       "1        56744.273182 -4075.902281 -8584.637836  359.610437  186.911290  ...   \n",
       "2        56744.273182  -731.686314 -1334.915736  360.002748  191.554643  ...   \n",
       "3        56744.273182 -1958.747185  -880.151163  360.094300  205.549293  ...   \n",
       "4        56744.273182  1844.573304   932.238775  339.879213  168.825163  ...   \n",
       "...               ...          ...          ...         ...         ...  ...   \n",
       "4670060  56979.612027          NaN -2929.855976         NaN  462.554053  ...   \n",
       "4670061  56979.612027          NaN -3009.498950         NaN  467.406507  ...   \n",
       "4670062  56979.612027          NaN -2831.011165         NaN  462.294855  ...   \n",
       "4670063  56979.612027          NaN -2794.674212         NaN  462.317042  ...   \n",
       "4670064  56979.612027          NaN -2780.360907         NaN  465.080218  ...   \n",
       "\n",
       "                   x            y    ixxPSF    iyyPSF    ixyPSF     flags   \n",
       "0          43.097820    15.025450  0.164697 -0.021272 -0.021272  14288172  \\\n",
       "1        1929.171509    22.754538  0.169914 -0.021946 -0.021946  41943112   \n",
       "2        1111.803711    33.090210  0.167665 -0.021656 -0.021656   8389928   \n",
       "3        1931.525778    19.517678  0.169927 -0.021948 -0.021948   8388716   \n",
       "4         702.940125   105.118187  0.166383 -0.021490 -0.021490         0   \n",
       "...              ...          ...       ...       ...       ...       ...   \n",
       "4670060  1021.921875  4165.985840  0.095646 -0.001378 -0.001378  14386540   \n",
       "4670061  1775.001953  4167.986816  0.096542 -0.001390 -0.001390  14386540   \n",
       "4670062   826.950500  4166.944336  0.095397 -0.001374 -0.001374  14386540   \n",
       "4670063   662.970459  4168.998535  0.095182 -0.001371 -0.001371  14385484   \n",
       "4670064  1511.045166  4168.988770  0.096240 -0.001386 -0.001386  14386540   \n",
       "\n",
       "         filterName  visit  detector instrument  \n",
       "0                 z   1170         4        HSC  \n",
       "1                 z   1170         4        HSC  \n",
       "2                 z   1170         4        HSC  \n",
       "3                 z   1170         4        HSC  \n",
       "4                 z   1170         4        HSC  \n",
       "...             ...    ...       ...        ...  \n",
       "4670060           y  11718        92        HSC  \n",
       "4670061           y  11718        92        HSC  \n",
       "4670062           y  11718        92        HSC  \n",
       "4670063           y  11718        92        HSC  \n",
       "4670064           y  11718        92        HSC  \n",
       "\n",
       "[4670065 rows x 23 columns]"
      ]
     },
     "execution_count": 12,
     "metadata": {},
     "output_type": "execute_result"
    }
   ],
   "source": [
    "srcTable"
   ]
  },
  {
   "cell_type": "code",
   "execution_count": 15,
   "id": "547275b4-fb0c-4834-b485-91506b911b71",
   "metadata": {
    "execution": {
     "iopub.execute_input": "2023-05-17T22:58:04.994913Z",
     "iopub.status.busy": "2023-05-17T22:58:04.994685Z",
     "iopub.status.idle": "2023-05-17T22:58:05.279195Z",
     "shell.execute_reply": "2023-05-17T22:58:05.278794Z",
     "shell.execute_reply.started": "2023-05-17T22:58:04.994897Z"
    },
    "tags": []
   },
   "outputs": [],
   "source": [
    "diaSrcCat = butler.get(\"goodSeeingDiff_diaSrc\", collections=collections, visit=visits[0], detector=ccds[0], skymap=skymap, instrument=instrument)"
   ]
  },
  {
   "cell_type": "code",
   "execution_count": 16,
   "id": "434ec813-c1e0-4d1c-877d-0e36d3b1280f",
   "metadata": {
    "execution": {
     "iopub.execute_input": "2023-05-17T22:58:23.080183Z",
     "iopub.status.busy": "2023-05-17T22:58:23.079948Z",
     "iopub.status.idle": "2023-05-17T22:58:23.083295Z",
     "shell.execute_reply": "2023-05-17T22:58:23.082865Z",
     "shell.execute_reply.started": "2023-05-17T22:58:23.080168Z"
    },
    "tags": []
   },
   "outputs": [],
   "source": [
    "def collect_dipole_pixels(visit, ccd):\n",
    "    diaSrcCat = butler.get(\"goodSeeingDiff_diaSrc\", collections=collections, visit=visit,\n",
    "                           detector=ccd, skymap=skymap, instrument=instrument)\n",
    "    dipoleFlag = diaSrcCat[\"ip_diffim_ClassificationDipole_value\"] > 0\n",
    "    npos = diaSrcCat[\"ip_diffim_NaiveDipoleFlux_npos\"]\n",
    "    nneg = diaSrcCat[\"ip_diffim_NaiveDipoleFlux_nneg\"]\n",
    "    ntot = npos +  nneg\n",
    "    return ntot[dipoleFlag]"
   ]
  },
  {
   "cell_type": "code",
   "execution_count": 33,
   "id": "d995337f-0401-40aa-80b1-406b229ef301",
   "metadata": {
    "execution": {
     "iopub.execute_input": "2023-05-17T23:36:48.411913Z",
     "iopub.status.busy": "2023-05-17T23:36:48.411672Z",
     "iopub.status.idle": "2023-05-17T23:36:48.415784Z",
     "shell.execute_reply": "2023-05-17T23:36:48.415294Z",
     "shell.execute_reply.started": "2023-05-17T23:36:48.411896Z"
    },
    "tags": []
   },
   "outputs": [],
   "source": [
    "def collect_dipole_pixels_good(visit, ccd):\n",
    "    diaSrcCat = butler.get(\"goodSeeingDiff_diaSrc\", collections=collections, visit=visit,\n",
    "                           detector=ccd, skymap=skymap, instrument=instrument)\n",
    "    dipoleFlag = diaSrcCat[\"ip_diffim_ClassificationDipole_value\"] > 0\n",
    "    for flag in badFlagList:\n",
    "        dipoleFlag *= ~diaSrcCat[flag]\n",
    "    npos = diaSrcCat[\"ip_diffim_NaiveDipoleFlux_npos\"]\n",
    "    nneg = diaSrcCat[\"ip_diffim_NaiveDipoleFlux_nneg\"]\n",
    "    ntot = npos +  nneg\n",
    "    return ntot[dipoleFlag]"
   ]
  },
  {
   "cell_type": "code",
   "execution_count": 17,
   "id": "d129dffe-b106-4472-ab92-c31ee87fafe4",
   "metadata": {
    "execution": {
     "iopub.execute_input": "2023-05-17T22:58:39.111436Z",
     "iopub.status.busy": "2023-05-17T22:58:39.110981Z",
     "iopub.status.idle": "2023-05-17T22:58:39.139478Z",
     "shell.execute_reply": "2023-05-17T22:58:39.139129Z",
     "shell.execute_reply.started": "2023-05-17T22:58:39.111420Z"
    },
    "tags": []
   },
   "outputs": [],
   "source": [
    "a0 = collect_dipole_pixels(visits[0],ccds[0])"
   ]
  },
  {
   "cell_type": "code",
   "execution_count": 18,
   "id": "997717ca-6661-49b2-abf0-d503b75853b7",
   "metadata": {
    "execution": {
     "iopub.execute_input": "2023-05-17T22:58:42.440513Z",
     "iopub.status.busy": "2023-05-17T22:58:42.440287Z",
     "iopub.status.idle": "2023-05-17T22:58:42.443631Z",
     "shell.execute_reply": "2023-05-17T22:58:42.443305Z",
     "shell.execute_reply.started": "2023-05-17T22:58:42.440498Z"
    },
    "tags": []
   },
   "outputs": [
    {
     "data": {
      "text/plain": [
       "array([1753, 2137], dtype=int32)"
      ]
     },
     "execution_count": 18,
     "metadata": {},
     "output_type": "execute_result"
    }
   ],
   "source": [
    "a0"
   ]
  },
  {
   "cell_type": "code",
   "execution_count": 26,
   "id": "356d7b89-6129-4ef8-b9a6-1a24322207d0",
   "metadata": {
    "execution": {
     "iopub.execute_input": "2023-05-17T23:07:45.627064Z",
     "iopub.status.busy": "2023-05-17T23:07:45.626842Z",
     "iopub.status.idle": "2023-05-17T23:07:45.629896Z",
     "shell.execute_reply": "2023-05-17T23:07:45.629441Z",
     "shell.execute_reply.started": "2023-05-17T23:07:45.627049Z"
    },
    "tags": []
   },
   "outputs": [],
   "source": [
    "npixArr = np.ndarray(0, dtype=a0.dtype)"
   ]
  },
  {
   "cell_type": "code",
   "execution_count": 28,
   "id": "e7c9e2ee-f5e1-4824-95dc-265f9de558a3",
   "metadata": {
    "execution": {
     "iopub.execute_input": "2023-05-17T23:33:05.597316Z",
     "iopub.status.busy": "2023-05-17T23:33:05.597102Z",
     "iopub.status.idle": "2023-05-17T23:33:05.600171Z",
     "shell.execute_reply": "2023-05-17T23:33:05.599740Z",
     "shell.execute_reply.started": "2023-05-17T23:33:05.597301Z"
    },
    "tags": []
   },
   "outputs": [],
   "source": [
    "badFlagList = [\"base_PixelFlags_flag\", \"base_PixelFlags_flag_edge\", \"base_PixelFlags_flag_interpolated\",\n",
    "               \"base_PixelFlags_flag_saturated\", \"base_PixelFlags_flag_saturatedCenter\", \"slot_PsfFlux_flag_edge\",\n",
    "               \"ip_diffim_ClassificationDipole_flag\", \"ip_diffim_DipoleFit_flag\", \"sky_source\"]"
   ]
  },
  {
   "cell_type": "code",
   "execution_count": 27,
   "id": "3123bbe5-3732-4697-bb6d-64c9d10116cf",
   "metadata": {
    "collapsed": true,
    "execution": {
     "iopub.execute_input": "2023-05-17T23:09:06.870548Z",
     "iopub.status.busy": "2023-05-17T23:09:06.870329Z",
     "iopub.status.idle": "2023-05-17T23:29:06.974466Z",
     "shell.execute_reply": "2023-05-17T23:29:06.973873Z",
     "shell.execute_reply.started": "2023-05-17T23:09:06.870533Z"
    },
    "jupyter": {
     "outputs_hidden": true
    },
    "tags": []
   },
   "outputs": [
    {
     "name": "stdout",
     "output_type": "stream",
     "text": [
      "Could not find dataset with visit=1208 and detector=97\n",
      "Could not find dataset with visit=1874 and detector=3\n",
      "Could not find dataset with visit=11702 and detector=0\n",
      "Could not find dataset with visit=11702 and detector=1\n",
      "Could not find dataset with visit=11702 and detector=2\n",
      "Could not find dataset with visit=11702 and detector=3\n",
      "Could not find dataset with visit=11702 and detector=4\n",
      "Could not find dataset with visit=11702 and detector=5\n",
      "Could not find dataset with visit=11702 and detector=6\n",
      "Could not find dataset with visit=11702 and detector=7\n",
      "Could not find dataset with visit=11702 and detector=8\n",
      "Could not find dataset with visit=11702 and detector=10\n",
      "Could not find dataset with visit=11702 and detector=11\n",
      "Could not find dataset with visit=11702 and detector=12\n",
      "Could not find dataset with visit=11702 and detector=13\n",
      "Could not find dataset with visit=11702 and detector=14\n",
      "Could not find dataset with visit=11702 and detector=15\n",
      "Could not find dataset with visit=11702 and detector=16\n",
      "Could not find dataset with visit=11702 and detector=17\n",
      "Could not find dataset with visit=11702 and detector=18\n",
      "Could not find dataset with visit=11702 and detector=19\n",
      "Could not find dataset with visit=11702 and detector=20\n",
      "Could not find dataset with visit=11702 and detector=21\n",
      "Could not find dataset with visit=11702 and detector=22\n",
      "Could not find dataset with visit=11702 and detector=23\n",
      "Could not find dataset with visit=11702 and detector=24\n",
      "Could not find dataset with visit=11702 and detector=25\n",
      "Could not find dataset with visit=11702 and detector=26\n",
      "Could not find dataset with visit=11702 and detector=27\n",
      "Could not find dataset with visit=11702 and detector=28\n",
      "Could not find dataset with visit=11702 and detector=29\n",
      "Could not find dataset with visit=11702 and detector=30\n",
      "Could not find dataset with visit=11702 and detector=31\n",
      "Could not find dataset with visit=11702 and detector=32\n",
      "Could not find dataset with visit=11702 and detector=33\n",
      "Could not find dataset with visit=11702 and detector=34\n",
      "Could not find dataset with visit=11702 and detector=35\n",
      "Could not find dataset with visit=11702 and detector=36\n",
      "Could not find dataset with visit=11702 and detector=37\n",
      "Could not find dataset with visit=11702 and detector=38\n",
      "Could not find dataset with visit=11702 and detector=39\n",
      "Could not find dataset with visit=11702 and detector=40\n",
      "Could not find dataset with visit=11702 and detector=41\n",
      "Could not find dataset with visit=11702 and detector=42\n",
      "Could not find dataset with visit=11702 and detector=43\n",
      "Could not find dataset with visit=11702 and detector=44\n",
      "Could not find dataset with visit=11702 and detector=45\n",
      "Could not find dataset with visit=11702 and detector=46\n",
      "Could not find dataset with visit=11702 and detector=47\n",
      "Could not find dataset with visit=11702 and detector=48\n",
      "Could not find dataset with visit=11702 and detector=49\n",
      "Could not find dataset with visit=11702 and detector=50\n",
      "Could not find dataset with visit=11702 and detector=51\n",
      "Could not find dataset with visit=11702 and detector=52\n",
      "Could not find dataset with visit=11702 and detector=53\n",
      "Could not find dataset with visit=11702 and detector=54\n",
      "Could not find dataset with visit=11702 and detector=55\n",
      "Could not find dataset with visit=11702 and detector=56\n",
      "Could not find dataset with visit=11702 and detector=57\n",
      "Could not find dataset with visit=11702 and detector=58\n",
      "Could not find dataset with visit=11702 and detector=59\n",
      "Could not find dataset with visit=11702 and detector=60\n",
      "Could not find dataset with visit=11702 and detector=61\n",
      "Could not find dataset with visit=11702 and detector=62\n",
      "Could not find dataset with visit=11702 and detector=63\n",
      "Could not find dataset with visit=11702 and detector=64\n",
      "Could not find dataset with visit=11702 and detector=65\n",
      "Could not find dataset with visit=11702 and detector=66\n",
      "Could not find dataset with visit=11702 and detector=67\n",
      "Could not find dataset with visit=11702 and detector=68\n",
      "Could not find dataset with visit=11702 and detector=69\n",
      "Could not find dataset with visit=11702 and detector=70\n",
      "Could not find dataset with visit=11702 and detector=71\n",
      "Could not find dataset with visit=11702 and detector=72\n",
      "Could not find dataset with visit=11702 and detector=73\n",
      "Could not find dataset with visit=11702 and detector=74\n",
      "Could not find dataset with visit=11702 and detector=75\n",
      "Could not find dataset with visit=11702 and detector=76\n",
      "Could not find dataset with visit=11702 and detector=77\n",
      "Could not find dataset with visit=11702 and detector=78\n",
      "Could not find dataset with visit=11702 and detector=79\n",
      "Could not find dataset with visit=11702 and detector=80\n",
      "Could not find dataset with visit=11702 and detector=81\n",
      "Could not find dataset with visit=11702 and detector=82\n",
      "Could not find dataset with visit=11702 and detector=83\n",
      "Could not find dataset with visit=11702 and detector=84\n",
      "Could not find dataset with visit=11702 and detector=85\n",
      "Could not find dataset with visit=11702 and detector=86\n",
      "Could not find dataset with visit=11702 and detector=87\n",
      "Could not find dataset with visit=11702 and detector=88\n",
      "Could not find dataset with visit=11702 and detector=89\n",
      "Could not find dataset with visit=11702 and detector=90\n",
      "Could not find dataset with visit=11702 and detector=91\n",
      "Could not find dataset with visit=11702 and detector=92\n",
      "Could not find dataset with visit=11702 and detector=93\n",
      "Could not find dataset with visit=11702 and detector=94\n",
      "Could not find dataset with visit=11702 and detector=95\n",
      "Could not find dataset with visit=11702 and detector=96\n",
      "Could not find dataset with visit=11702 and detector=97\n",
      "Could not find dataset with visit=11702 and detector=98\n",
      "Could not find dataset with visit=11702 and detector=99\n",
      "Could not find dataset with visit=11702 and detector=101\n",
      "Could not find dataset with visit=11702 and detector=102\n",
      "Could not find dataset with visit=11702 and detector=103\n",
      "Could not find dataset with visit=11704 and detector=0\n",
      "Could not find dataset with visit=11704 and detector=1\n",
      "Could not find dataset with visit=11704 and detector=2\n",
      "Could not find dataset with visit=11704 and detector=3\n",
      "Could not find dataset with visit=11704 and detector=4\n",
      "Could not find dataset with visit=11704 and detector=5\n",
      "Could not find dataset with visit=11704 and detector=6\n",
      "Could not find dataset with visit=11704 and detector=7\n",
      "Could not find dataset with visit=11704 and detector=8\n",
      "Could not find dataset with visit=11704 and detector=10\n",
      "Could not find dataset with visit=11704 and detector=11\n",
      "Could not find dataset with visit=11704 and detector=12\n",
      "Could not find dataset with visit=11704 and detector=13\n",
      "Could not find dataset with visit=11704 and detector=14\n",
      "Could not find dataset with visit=11704 and detector=15\n",
      "Could not find dataset with visit=11704 and detector=16\n",
      "Could not find dataset with visit=11704 and detector=17\n",
      "Could not find dataset with visit=11704 and detector=18\n",
      "Could not find dataset with visit=11704 and detector=19\n",
      "Could not find dataset with visit=11704 and detector=20\n",
      "Could not find dataset with visit=11704 and detector=21\n",
      "Could not find dataset with visit=11704 and detector=22\n",
      "Could not find dataset with visit=11704 and detector=23\n",
      "Could not find dataset with visit=11704 and detector=24\n",
      "Could not find dataset with visit=11704 and detector=25\n",
      "Could not find dataset with visit=11704 and detector=26\n",
      "Could not find dataset with visit=11704 and detector=27\n",
      "Could not find dataset with visit=11704 and detector=28\n",
      "Could not find dataset with visit=11704 and detector=29\n",
      "Could not find dataset with visit=11704 and detector=30\n",
      "Could not find dataset with visit=11704 and detector=31\n",
      "Could not find dataset with visit=11704 and detector=32\n",
      "Could not find dataset with visit=11704 and detector=33\n",
      "Could not find dataset with visit=11704 and detector=34\n",
      "Could not find dataset with visit=11704 and detector=35\n",
      "Could not find dataset with visit=11704 and detector=36\n",
      "Could not find dataset with visit=11704 and detector=37\n",
      "Could not find dataset with visit=11704 and detector=38\n",
      "Could not find dataset with visit=11704 and detector=39\n",
      "Could not find dataset with visit=11704 and detector=40\n",
      "Could not find dataset with visit=11704 and detector=41\n",
      "Could not find dataset with visit=11704 and detector=42\n",
      "Could not find dataset with visit=11704 and detector=43\n",
      "Could not find dataset with visit=11704 and detector=44\n",
      "Could not find dataset with visit=11704 and detector=45\n",
      "Could not find dataset with visit=11704 and detector=46\n",
      "Could not find dataset with visit=11704 and detector=47\n",
      "Could not find dataset with visit=11704 and detector=48\n",
      "Could not find dataset with visit=11704 and detector=49\n",
      "Could not find dataset with visit=11704 and detector=50\n",
      "Could not find dataset with visit=11704 and detector=51\n",
      "Could not find dataset with visit=11704 and detector=52\n",
      "Could not find dataset with visit=11704 and detector=53\n",
      "Could not find dataset with visit=11704 and detector=54\n",
      "Could not find dataset with visit=11704 and detector=55\n",
      "Could not find dataset with visit=11704 and detector=56\n",
      "Could not find dataset with visit=11704 and detector=57\n",
      "Could not find dataset with visit=11704 and detector=58\n",
      "Could not find dataset with visit=11704 and detector=59\n",
      "Could not find dataset with visit=11704 and detector=60\n",
      "Could not find dataset with visit=11704 and detector=61\n",
      "Could not find dataset with visit=11704 and detector=62\n",
      "Could not find dataset with visit=11704 and detector=63\n",
      "Could not find dataset with visit=11704 and detector=64\n",
      "Could not find dataset with visit=11704 and detector=65\n",
      "Could not find dataset with visit=11704 and detector=66\n",
      "Could not find dataset with visit=11704 and detector=67\n",
      "Could not find dataset with visit=11704 and detector=68\n",
      "Could not find dataset with visit=11704 and detector=69\n",
      "Could not find dataset with visit=11704 and detector=70\n",
      "Could not find dataset with visit=11704 and detector=71\n",
      "Could not find dataset with visit=11704 and detector=72\n",
      "Could not find dataset with visit=11704 and detector=73\n",
      "Could not find dataset with visit=11704 and detector=74\n",
      "Could not find dataset with visit=11704 and detector=75\n",
      "Could not find dataset with visit=11704 and detector=76\n",
      "Could not find dataset with visit=11704 and detector=77\n",
      "Could not find dataset with visit=11704 and detector=78\n",
      "Could not find dataset with visit=11704 and detector=79\n",
      "Could not find dataset with visit=11704 and detector=80\n",
      "Could not find dataset with visit=11704 and detector=81\n",
      "Could not find dataset with visit=11704 and detector=82\n",
      "Could not find dataset with visit=11704 and detector=83\n",
      "Could not find dataset with visit=11704 and detector=84\n",
      "Could not find dataset with visit=11704 and detector=85\n",
      "Could not find dataset with visit=11704 and detector=86\n",
      "Could not find dataset with visit=11704 and detector=87\n",
      "Could not find dataset with visit=11704 and detector=88\n",
      "Could not find dataset with visit=11704 and detector=89\n",
      "Could not find dataset with visit=11704 and detector=90\n",
      "Could not find dataset with visit=11704 and detector=91\n",
      "Could not find dataset with visit=11704 and detector=92\n",
      "Could not find dataset with visit=11704 and detector=93\n",
      "Could not find dataset with visit=11704 and detector=94\n",
      "Could not find dataset with visit=11704 and detector=95\n",
      "Could not find dataset with visit=11704 and detector=96\n",
      "Could not find dataset with visit=11704 and detector=97\n",
      "Could not find dataset with visit=11704 and detector=98\n",
      "Could not find dataset with visit=11704 and detector=99\n",
      "Could not find dataset with visit=11704 and detector=101\n",
      "Could not find dataset with visit=11704 and detector=102\n",
      "Could not find dataset with visit=11704 and detector=103\n",
      "Could not find dataset with visit=11710 and detector=0\n",
      "Could not find dataset with visit=11710 and detector=1\n",
      "Could not find dataset with visit=11710 and detector=2\n",
      "Could not find dataset with visit=11710 and detector=3\n",
      "Could not find dataset with visit=11710 and detector=4\n",
      "Could not find dataset with visit=11710 and detector=5\n",
      "Could not find dataset with visit=11710 and detector=6\n",
      "Could not find dataset with visit=11710 and detector=7\n",
      "Could not find dataset with visit=11710 and detector=8\n",
      "Could not find dataset with visit=11710 and detector=10\n",
      "Could not find dataset with visit=11710 and detector=11\n",
      "Could not find dataset with visit=11710 and detector=12\n",
      "Could not find dataset with visit=11710 and detector=13\n",
      "Could not find dataset with visit=11710 and detector=14\n",
      "Could not find dataset with visit=11710 and detector=15\n",
      "Could not find dataset with visit=11710 and detector=16\n",
      "Could not find dataset with visit=11710 and detector=17\n",
      "Could not find dataset with visit=11710 and detector=18\n",
      "Could not find dataset with visit=11710 and detector=19\n",
      "Could not find dataset with visit=11710 and detector=20\n",
      "Could not find dataset with visit=11710 and detector=21\n",
      "Could not find dataset with visit=11710 and detector=22\n",
      "Could not find dataset with visit=11710 and detector=23\n",
      "Could not find dataset with visit=11710 and detector=24\n",
      "Could not find dataset with visit=11710 and detector=25\n",
      "Could not find dataset with visit=11710 and detector=26\n",
      "Could not find dataset with visit=11710 and detector=27\n",
      "Could not find dataset with visit=11710 and detector=28\n",
      "Could not find dataset with visit=11710 and detector=29\n",
      "Could not find dataset with visit=11710 and detector=30\n",
      "Could not find dataset with visit=11710 and detector=31\n",
      "Could not find dataset with visit=11710 and detector=32\n",
      "Could not find dataset with visit=11710 and detector=33\n",
      "Could not find dataset with visit=11710 and detector=34\n",
      "Could not find dataset with visit=11710 and detector=35\n",
      "Could not find dataset with visit=11710 and detector=36\n",
      "Could not find dataset with visit=11710 and detector=37\n",
      "Could not find dataset with visit=11710 and detector=38\n",
      "Could not find dataset with visit=11710 and detector=39\n",
      "Could not find dataset with visit=11710 and detector=40\n",
      "Could not find dataset with visit=11710 and detector=41\n",
      "Could not find dataset with visit=11710 and detector=42\n",
      "Could not find dataset with visit=11710 and detector=43\n",
      "Could not find dataset with visit=11710 and detector=44\n",
      "Could not find dataset with visit=11710 and detector=45\n",
      "Could not find dataset with visit=11710 and detector=46\n",
      "Could not find dataset with visit=11710 and detector=47\n",
      "Could not find dataset with visit=11710 and detector=48\n",
      "Could not find dataset with visit=11710 and detector=49\n",
      "Could not find dataset with visit=11710 and detector=50\n",
      "Could not find dataset with visit=11710 and detector=51\n",
      "Could not find dataset with visit=11710 and detector=52\n",
      "Could not find dataset with visit=11710 and detector=53\n",
      "Could not find dataset with visit=11710 and detector=54\n",
      "Could not find dataset with visit=11710 and detector=55\n",
      "Could not find dataset with visit=11710 and detector=56\n",
      "Could not find dataset with visit=11710 and detector=57\n",
      "Could not find dataset with visit=11710 and detector=58\n",
      "Could not find dataset with visit=11710 and detector=59\n",
      "Could not find dataset with visit=11710 and detector=60\n",
      "Could not find dataset with visit=11710 and detector=61\n",
      "Could not find dataset with visit=11710 and detector=62\n",
      "Could not find dataset with visit=11710 and detector=63\n",
      "Could not find dataset with visit=11710 and detector=64\n",
      "Could not find dataset with visit=11710 and detector=65\n",
      "Could not find dataset with visit=11710 and detector=66\n",
      "Could not find dataset with visit=11710 and detector=67\n",
      "Could not find dataset with visit=11710 and detector=68\n",
      "Could not find dataset with visit=11710 and detector=69\n",
      "Could not find dataset with visit=11710 and detector=70\n",
      "Could not find dataset with visit=11710 and detector=71\n",
      "Could not find dataset with visit=11710 and detector=72\n",
      "Could not find dataset with visit=11710 and detector=73\n",
      "Could not find dataset with visit=11710 and detector=74\n",
      "Could not find dataset with visit=11710 and detector=75\n",
      "Could not find dataset with visit=11710 and detector=76\n",
      "Could not find dataset with visit=11710 and detector=77\n",
      "Could not find dataset with visit=11710 and detector=78\n",
      "Could not find dataset with visit=11710 and detector=79\n",
      "Could not find dataset with visit=11710 and detector=80\n",
      "Could not find dataset with visit=11710 and detector=81\n",
      "Could not find dataset with visit=11710 and detector=82\n",
      "Could not find dataset with visit=11710 and detector=83\n",
      "Could not find dataset with visit=11710 and detector=84\n",
      "Could not find dataset with visit=11710 and detector=85\n",
      "Could not find dataset with visit=11710 and detector=86\n",
      "Could not find dataset with visit=11710 and detector=87\n",
      "Could not find dataset with visit=11710 and detector=88\n",
      "Could not find dataset with visit=11710 and detector=89\n",
      "Could not find dataset with visit=11710 and detector=90\n",
      "Could not find dataset with visit=11710 and detector=91\n",
      "Could not find dataset with visit=11710 and detector=92\n",
      "Could not find dataset with visit=11710 and detector=93\n",
      "Could not find dataset with visit=11710 and detector=94\n",
      "Could not find dataset with visit=11710 and detector=96\n",
      "Could not find dataset with visit=11710 and detector=97\n",
      "Could not find dataset with visit=11710 and detector=98\n",
      "Could not find dataset with visit=11710 and detector=99\n",
      "Could not find dataset with visit=11710 and detector=100\n",
      "Could not find dataset with visit=11710 and detector=101\n",
      "Could not find dataset with visit=11710 and detector=102\n",
      "Could not find dataset with visit=11710 and detector=103\n",
      "Could not find dataset with visit=11734 and detector=93\n",
      "Could not find dataset with visit=17950 and detector=93\n",
      "Could not find dataset with visit=17950 and detector=103\n",
      "Could not find dataset with visit=19710 and detector=93\n",
      "Could not find dataset with visit=19710 and detector=99\n",
      "Could not find dataset with visit=29324 and detector=0\n",
      "Could not find dataset with visit=29324 and detector=1\n",
      "Could not find dataset with visit=29324 and detector=2\n",
      "Could not find dataset with visit=29324 and detector=3\n",
      "Could not find dataset with visit=29324 and detector=4\n",
      "Could not find dataset with visit=29324 and detector=5\n",
      "Could not find dataset with visit=29324 and detector=6\n",
      "Could not find dataset with visit=29324 and detector=7\n",
      "Could not find dataset with visit=29324 and detector=8\n",
      "Could not find dataset with visit=29324 and detector=10\n",
      "Could not find dataset with visit=29324 and detector=11\n",
      "Could not find dataset with visit=29324 and detector=12\n",
      "Could not find dataset with visit=29324 and detector=13\n",
      "Could not find dataset with visit=29324 and detector=14\n",
      "Could not find dataset with visit=29324 and detector=15\n",
      "Could not find dataset with visit=29324 and detector=16\n",
      "Could not find dataset with visit=29324 and detector=17\n",
      "Could not find dataset with visit=29324 and detector=18\n",
      "Could not find dataset with visit=29324 and detector=19\n",
      "Could not find dataset with visit=29324 and detector=20\n",
      "Could not find dataset with visit=29324 and detector=21\n",
      "Could not find dataset with visit=29324 and detector=22\n",
      "Could not find dataset with visit=29324 and detector=23\n",
      "Could not find dataset with visit=29324 and detector=24\n",
      "Could not find dataset with visit=29324 and detector=25\n",
      "Could not find dataset with visit=29324 and detector=26\n",
      "Could not find dataset with visit=29324 and detector=27\n",
      "Could not find dataset with visit=29324 and detector=28\n",
      "Could not find dataset with visit=29324 and detector=29\n",
      "Could not find dataset with visit=29324 and detector=30\n",
      "Could not find dataset with visit=29324 and detector=31\n",
      "Could not find dataset with visit=29324 and detector=32\n",
      "Could not find dataset with visit=29324 and detector=33\n",
      "Could not find dataset with visit=29324 and detector=34\n",
      "Could not find dataset with visit=29324 and detector=35\n",
      "Could not find dataset with visit=29324 and detector=36\n",
      "Could not find dataset with visit=29324 and detector=37\n",
      "Could not find dataset with visit=29324 and detector=38\n",
      "Could not find dataset with visit=29324 and detector=39\n",
      "Could not find dataset with visit=29324 and detector=40\n",
      "Could not find dataset with visit=29324 and detector=41\n",
      "Could not find dataset with visit=29324 and detector=42\n",
      "Could not find dataset with visit=29324 and detector=43\n",
      "Could not find dataset with visit=29324 and detector=44\n",
      "Could not find dataset with visit=29324 and detector=45\n",
      "Could not find dataset with visit=29324 and detector=46\n",
      "Could not find dataset with visit=29324 and detector=47\n",
      "Could not find dataset with visit=29324 and detector=48\n",
      "Could not find dataset with visit=29324 and detector=49\n",
      "Could not find dataset with visit=29324 and detector=50\n",
      "Could not find dataset with visit=29324 and detector=51\n",
      "Could not find dataset with visit=29324 and detector=52\n",
      "Could not find dataset with visit=29324 and detector=53\n",
      "Could not find dataset with visit=29324 and detector=54\n",
      "Could not find dataset with visit=29324 and detector=55\n",
      "Could not find dataset with visit=29324 and detector=56\n",
      "Could not find dataset with visit=29324 and detector=57\n",
      "Could not find dataset with visit=29324 and detector=58\n",
      "Could not find dataset with visit=29324 and detector=59\n",
      "Could not find dataset with visit=29324 and detector=60\n",
      "Could not find dataset with visit=29324 and detector=61\n",
      "Could not find dataset with visit=29324 and detector=62\n",
      "Could not find dataset with visit=29324 and detector=63\n",
      "Could not find dataset with visit=29324 and detector=64\n",
      "Could not find dataset with visit=29324 and detector=65\n",
      "Could not find dataset with visit=29324 and detector=66\n",
      "Could not find dataset with visit=29324 and detector=67\n",
      "Could not find dataset with visit=29324 and detector=68\n",
      "Could not find dataset with visit=29324 and detector=69\n",
      "Could not find dataset with visit=29324 and detector=70\n",
      "Could not find dataset with visit=29324 and detector=71\n",
      "Could not find dataset with visit=29324 and detector=72\n",
      "Could not find dataset with visit=29324 and detector=73\n",
      "Could not find dataset with visit=29324 and detector=74\n",
      "Could not find dataset with visit=29324 and detector=75\n",
      "Could not find dataset with visit=29324 and detector=76\n",
      "Could not find dataset with visit=29324 and detector=77\n",
      "Could not find dataset with visit=29324 and detector=78\n",
      "Could not find dataset with visit=29324 and detector=79\n",
      "Could not find dataset with visit=29324 and detector=80\n",
      "Could not find dataset with visit=29324 and detector=81\n",
      "Could not find dataset with visit=29324 and detector=82\n",
      "Could not find dataset with visit=29324 and detector=83\n",
      "Could not find dataset with visit=29324 and detector=84\n",
      "Could not find dataset with visit=29324 and detector=85\n",
      "Could not find dataset with visit=29324 and detector=86\n",
      "Could not find dataset with visit=29324 and detector=87\n",
      "Could not find dataset with visit=29324 and detector=88\n",
      "Could not find dataset with visit=29324 and detector=89\n",
      "Could not find dataset with visit=29324 and detector=90\n",
      "Could not find dataset with visit=29324 and detector=91\n",
      "Could not find dataset with visit=29324 and detector=92\n",
      "Could not find dataset with visit=29324 and detector=93\n",
      "Could not find dataset with visit=29324 and detector=94\n",
      "Could not find dataset with visit=29324 and detector=96\n",
      "Could not find dataset with visit=29324 and detector=97\n",
      "Could not find dataset with visit=29324 and detector=98\n",
      "Could not find dataset with visit=29324 and detector=99\n",
      "Could not find dataset with visit=29324 and detector=100\n",
      "Could not find dataset with visit=29324 and detector=101\n",
      "Could not find dataset with visit=29324 and detector=102\n",
      "Could not find dataset with visit=29324 and detector=103\n",
      "Could not find dataset with visit=29326 and detector=0\n",
      "Could not find dataset with visit=29326 and detector=1\n",
      "Could not find dataset with visit=29326 and detector=2\n",
      "Could not find dataset with visit=29326 and detector=3\n",
      "Could not find dataset with visit=29326 and detector=4\n",
      "Could not find dataset with visit=29326 and detector=5\n",
      "Could not find dataset with visit=29326 and detector=6\n",
      "Could not find dataset with visit=29326 and detector=7\n",
      "Could not find dataset with visit=29326 and detector=8\n",
      "Could not find dataset with visit=29326 and detector=10\n",
      "Could not find dataset with visit=29326 and detector=11\n",
      "Could not find dataset with visit=29326 and detector=12\n",
      "Could not find dataset with visit=29326 and detector=13\n",
      "Could not find dataset with visit=29326 and detector=14\n",
      "Could not find dataset with visit=29326 and detector=15\n",
      "Could not find dataset with visit=29326 and detector=16\n",
      "Could not find dataset with visit=29326 and detector=17\n",
      "Could not find dataset with visit=29326 and detector=18\n",
      "Could not find dataset with visit=29326 and detector=19\n",
      "Could not find dataset with visit=29326 and detector=20\n",
      "Could not find dataset with visit=29326 and detector=21\n",
      "Could not find dataset with visit=29326 and detector=22\n",
      "Could not find dataset with visit=29326 and detector=23\n",
      "Could not find dataset with visit=29326 and detector=24\n",
      "Could not find dataset with visit=29326 and detector=25\n",
      "Could not find dataset with visit=29326 and detector=26\n",
      "Could not find dataset with visit=29326 and detector=27\n",
      "Could not find dataset with visit=29326 and detector=28\n",
      "Could not find dataset with visit=29326 and detector=29\n",
      "Could not find dataset with visit=29326 and detector=30\n",
      "Could not find dataset with visit=29326 and detector=31\n",
      "Could not find dataset with visit=29326 and detector=32\n",
      "Could not find dataset with visit=29326 and detector=33\n",
      "Could not find dataset with visit=29326 and detector=34\n",
      "Could not find dataset with visit=29326 and detector=35\n",
      "Could not find dataset with visit=29326 and detector=36\n",
      "Could not find dataset with visit=29326 and detector=37\n",
      "Could not find dataset with visit=29326 and detector=38\n",
      "Could not find dataset with visit=29326 and detector=39\n",
      "Could not find dataset with visit=29326 and detector=40\n",
      "Could not find dataset with visit=29326 and detector=41\n",
      "Could not find dataset with visit=29326 and detector=42\n",
      "Could not find dataset with visit=29326 and detector=43\n",
      "Could not find dataset with visit=29326 and detector=44\n",
      "Could not find dataset with visit=29326 and detector=45\n",
      "Could not find dataset with visit=29326 and detector=46\n",
      "Could not find dataset with visit=29326 and detector=47\n",
      "Could not find dataset with visit=29326 and detector=48\n",
      "Could not find dataset with visit=29326 and detector=49\n",
      "Could not find dataset with visit=29326 and detector=50\n",
      "Could not find dataset with visit=29326 and detector=51\n",
      "Could not find dataset with visit=29326 and detector=52\n",
      "Could not find dataset with visit=29326 and detector=53\n",
      "Could not find dataset with visit=29326 and detector=54\n",
      "Could not find dataset with visit=29326 and detector=55\n",
      "Could not find dataset with visit=29326 and detector=56\n",
      "Could not find dataset with visit=29326 and detector=57\n",
      "Could not find dataset with visit=29326 and detector=58\n",
      "Could not find dataset with visit=29326 and detector=59\n",
      "Could not find dataset with visit=29326 and detector=60\n",
      "Could not find dataset with visit=29326 and detector=61\n",
      "Could not find dataset with visit=29326 and detector=62\n",
      "Could not find dataset with visit=29326 and detector=63\n",
      "Could not find dataset with visit=29326 and detector=64\n",
      "Could not find dataset with visit=29326 and detector=65\n",
      "Could not find dataset with visit=29326 and detector=66\n",
      "Could not find dataset with visit=29326 and detector=67\n",
      "Could not find dataset with visit=29326 and detector=68\n",
      "Could not find dataset with visit=29326 and detector=69\n",
      "Could not find dataset with visit=29326 and detector=70\n",
      "Could not find dataset with visit=29326 and detector=71\n",
      "Could not find dataset with visit=29326 and detector=72\n",
      "Could not find dataset with visit=29326 and detector=73\n",
      "Could not find dataset with visit=29326 and detector=74\n",
      "Could not find dataset with visit=29326 and detector=75\n",
      "Could not find dataset with visit=29326 and detector=76\n",
      "Could not find dataset with visit=29326 and detector=77\n",
      "Could not find dataset with visit=29326 and detector=78\n",
      "Could not find dataset with visit=29326 and detector=79\n",
      "Could not find dataset with visit=29326 and detector=80\n",
      "Could not find dataset with visit=29326 and detector=81\n",
      "Could not find dataset with visit=29326 and detector=82\n",
      "Could not find dataset with visit=29326 and detector=83\n",
      "Could not find dataset with visit=29326 and detector=84\n",
      "Could not find dataset with visit=29326 and detector=85\n",
      "Could not find dataset with visit=29326 and detector=86\n",
      "Could not find dataset with visit=29326 and detector=87\n",
      "Could not find dataset with visit=29326 and detector=88\n",
      "Could not find dataset with visit=29326 and detector=89\n",
      "Could not find dataset with visit=29326 and detector=90\n",
      "Could not find dataset with visit=29326 and detector=91\n",
      "Could not find dataset with visit=29326 and detector=92\n",
      "Could not find dataset with visit=29326 and detector=93\n",
      "Could not find dataset with visit=29326 and detector=94\n",
      "Could not find dataset with visit=29326 and detector=99\n",
      "Could not find dataset with visit=29326 and detector=100\n",
      "Could not find dataset with visit=29326 and detector=101\n",
      "Could not find dataset with visit=29326 and detector=102\n",
      "Could not find dataset with visit=29326 and detector=103\n",
      "Could not find dataset with visit=29336 and detector=0\n",
      "Could not find dataset with visit=29336 and detector=1\n",
      "Could not find dataset with visit=29336 and detector=2\n",
      "Could not find dataset with visit=29336 and detector=3\n",
      "Could not find dataset with visit=29336 and detector=4\n",
      "Could not find dataset with visit=29336 and detector=5\n",
      "Could not find dataset with visit=29336 and detector=6\n",
      "Could not find dataset with visit=29336 and detector=7\n",
      "Could not find dataset with visit=29336 and detector=8\n",
      "Could not find dataset with visit=29336 and detector=10\n",
      "Could not find dataset with visit=29336 and detector=11\n",
      "Could not find dataset with visit=29336 and detector=12\n",
      "Could not find dataset with visit=29336 and detector=13\n",
      "Could not find dataset with visit=29336 and detector=14\n",
      "Could not find dataset with visit=29336 and detector=15\n",
      "Could not find dataset with visit=29336 and detector=16\n",
      "Could not find dataset with visit=29336 and detector=17\n",
      "Could not find dataset with visit=29336 and detector=18\n",
      "Could not find dataset with visit=29336 and detector=19\n",
      "Could not find dataset with visit=29336 and detector=20\n",
      "Could not find dataset with visit=29336 and detector=21\n",
      "Could not find dataset with visit=29336 and detector=22\n",
      "Could not find dataset with visit=29336 and detector=23\n",
      "Could not find dataset with visit=29336 and detector=24\n",
      "Could not find dataset with visit=29336 and detector=25\n",
      "Could not find dataset with visit=29336 and detector=26\n",
      "Could not find dataset with visit=29336 and detector=27\n",
      "Could not find dataset with visit=29336 and detector=28\n",
      "Could not find dataset with visit=29336 and detector=29\n",
      "Could not find dataset with visit=29336 and detector=30\n",
      "Could not find dataset with visit=29336 and detector=31\n",
      "Could not find dataset with visit=29336 and detector=32\n",
      "Could not find dataset with visit=29336 and detector=33\n",
      "Could not find dataset with visit=29336 and detector=34\n",
      "Could not find dataset with visit=29336 and detector=35\n",
      "Could not find dataset with visit=29336 and detector=36\n",
      "Could not find dataset with visit=29336 and detector=37\n",
      "Could not find dataset with visit=29336 and detector=38\n",
      "Could not find dataset with visit=29336 and detector=39\n",
      "Could not find dataset with visit=29336 and detector=40\n",
      "Could not find dataset with visit=29336 and detector=41\n",
      "Could not find dataset with visit=29336 and detector=42\n",
      "Could not find dataset with visit=29336 and detector=43\n",
      "Could not find dataset with visit=29336 and detector=44\n",
      "Could not find dataset with visit=29336 and detector=46\n",
      "Could not find dataset with visit=29336 and detector=47\n",
      "Could not find dataset with visit=29336 and detector=48\n",
      "Could not find dataset with visit=29336 and detector=49\n",
      "Could not find dataset with visit=29336 and detector=50\n",
      "Could not find dataset with visit=29336 and detector=51\n",
      "Could not find dataset with visit=29336 and detector=52\n",
      "Could not find dataset with visit=29336 and detector=54\n",
      "Could not find dataset with visit=29336 and detector=55\n",
      "Could not find dataset with visit=29336 and detector=56\n",
      "Could not find dataset with visit=29336 and detector=57\n",
      "Could not find dataset with visit=29336 and detector=58\n",
      "Could not find dataset with visit=29336 and detector=59\n",
      "Could not find dataset with visit=29336 and detector=60\n",
      "Could not find dataset with visit=29336 and detector=62\n",
      "Could not find dataset with visit=29336 and detector=63\n",
      "Could not find dataset with visit=29336 and detector=64\n",
      "Could not find dataset with visit=29336 and detector=65\n",
      "Could not find dataset with visit=29336 and detector=66\n",
      "Could not find dataset with visit=29336 and detector=67\n",
      "Could not find dataset with visit=29336 and detector=68\n",
      "Could not find dataset with visit=29336 and detector=69\n",
      "Could not find dataset with visit=29336 and detector=70\n",
      "Could not find dataset with visit=29336 and detector=71\n",
      "Could not find dataset with visit=29336 and detector=72\n",
      "Could not find dataset with visit=29336 and detector=73\n",
      "Could not find dataset with visit=29336 and detector=74\n",
      "Could not find dataset with visit=29336 and detector=75\n",
      "Could not find dataset with visit=29336 and detector=76\n",
      "Could not find dataset with visit=29336 and detector=77\n",
      "Could not find dataset with visit=29336 and detector=78\n",
      "Could not find dataset with visit=29336 and detector=79\n",
      "Could not find dataset with visit=29336 and detector=80\n",
      "Could not find dataset with visit=29336 and detector=81\n",
      "Could not find dataset with visit=29336 and detector=82\n",
      "Could not find dataset with visit=29336 and detector=83\n",
      "Could not find dataset with visit=29336 and detector=84\n",
      "Could not find dataset with visit=29336 and detector=85\n",
      "Could not find dataset with visit=29336 and detector=86\n",
      "Could not find dataset with visit=29336 and detector=87\n",
      "Could not find dataset with visit=29336 and detector=88\n",
      "Could not find dataset with visit=29336 and detector=89\n",
      "Could not find dataset with visit=29336 and detector=90\n",
      "Could not find dataset with visit=29336 and detector=91\n",
      "Could not find dataset with visit=29336 and detector=92\n",
      "Could not find dataset with visit=29336 and detector=93\n",
      "Could not find dataset with visit=29336 and detector=94\n",
      "Could not find dataset with visit=29336 and detector=96\n",
      "Could not find dataset with visit=29336 and detector=97\n",
      "Could not find dataset with visit=29336 and detector=98\n",
      "Could not find dataset with visit=29336 and detector=99\n",
      "Could not find dataset with visit=29336 and detector=100\n",
      "Could not find dataset with visit=29336 and detector=101\n",
      "Could not find dataset with visit=29336 and detector=102\n",
      "Could not find dataset with visit=29336 and detector=103\n",
      "Could not find dataset with visit=29340 and detector=0\n",
      "Could not find dataset with visit=29340 and detector=1\n",
      "Could not find dataset with visit=29340 and detector=2\n",
      "Could not find dataset with visit=29340 and detector=3\n",
      "Could not find dataset with visit=29340 and detector=4\n",
      "Could not find dataset with visit=29340 and detector=5\n",
      "Could not find dataset with visit=29340 and detector=6\n",
      "Could not find dataset with visit=29340 and detector=7\n",
      "Could not find dataset with visit=29340 and detector=8\n",
      "Could not find dataset with visit=29340 and detector=10\n",
      "Could not find dataset with visit=29340 and detector=11\n",
      "Could not find dataset with visit=29340 and detector=12\n",
      "Could not find dataset with visit=29340 and detector=13\n",
      "Could not find dataset with visit=29340 and detector=14\n",
      "Could not find dataset with visit=29340 and detector=15\n",
      "Could not find dataset with visit=29340 and detector=16\n",
      "Could not find dataset with visit=29340 and detector=17\n",
      "Could not find dataset with visit=29340 and detector=18\n",
      "Could not find dataset with visit=29340 and detector=19\n",
      "Could not find dataset with visit=29340 and detector=20\n",
      "Could not find dataset with visit=29340 and detector=21\n",
      "Could not find dataset with visit=29340 and detector=22\n",
      "Could not find dataset with visit=29340 and detector=23\n",
      "Could not find dataset with visit=29340 and detector=24\n",
      "Could not find dataset with visit=29340 and detector=25\n",
      "Could not find dataset with visit=29340 and detector=26\n",
      "Could not find dataset with visit=29340 and detector=27\n",
      "Could not find dataset with visit=29340 and detector=28\n",
      "Could not find dataset with visit=29340 and detector=29\n",
      "Could not find dataset with visit=29340 and detector=30\n",
      "Could not find dataset with visit=29340 and detector=31\n",
      "Could not find dataset with visit=29340 and detector=32\n",
      "Could not find dataset with visit=29340 and detector=33\n",
      "Could not find dataset with visit=29340 and detector=34\n",
      "Could not find dataset with visit=29340 and detector=35\n",
      "Could not find dataset with visit=29340 and detector=36\n",
      "Could not find dataset with visit=29340 and detector=37\n",
      "Could not find dataset with visit=29340 and detector=38\n",
      "Could not find dataset with visit=29340 and detector=39\n",
      "Could not find dataset with visit=29340 and detector=40\n",
      "Could not find dataset with visit=29340 and detector=41\n",
      "Could not find dataset with visit=29340 and detector=42\n",
      "Could not find dataset with visit=29340 and detector=43\n",
      "Could not find dataset with visit=29340 and detector=44\n",
      "Could not find dataset with visit=29340 and detector=45\n",
      "Could not find dataset with visit=29340 and detector=46\n",
      "Could not find dataset with visit=29340 and detector=47\n",
      "Could not find dataset with visit=29340 and detector=48\n",
      "Could not find dataset with visit=29340 and detector=49\n",
      "Could not find dataset with visit=29340 and detector=50\n",
      "Could not find dataset with visit=29340 and detector=51\n",
      "Could not find dataset with visit=29340 and detector=52\n",
      "Could not find dataset with visit=29340 and detector=54\n",
      "Could not find dataset with visit=29340 and detector=55\n",
      "Could not find dataset with visit=29340 and detector=56\n",
      "Could not find dataset with visit=29340 and detector=57\n",
      "Could not find dataset with visit=29340 and detector=58\n",
      "Could not find dataset with visit=29340 and detector=59\n",
      "Could not find dataset with visit=29340 and detector=60\n",
      "Could not find dataset with visit=29340 and detector=62\n",
      "Could not find dataset with visit=29340 and detector=63\n",
      "Could not find dataset with visit=29340 and detector=64\n",
      "Could not find dataset with visit=29340 and detector=65\n",
      "Could not find dataset with visit=29340 and detector=66\n",
      "Could not find dataset with visit=29340 and detector=67\n",
      "Could not find dataset with visit=29340 and detector=68\n",
      "Could not find dataset with visit=29340 and detector=69\n",
      "Could not find dataset with visit=29340 and detector=70\n",
      "Could not find dataset with visit=29340 and detector=71\n",
      "Could not find dataset with visit=29340 and detector=72\n",
      "Could not find dataset with visit=29340 and detector=73\n",
      "Could not find dataset with visit=29340 and detector=74\n",
      "Could not find dataset with visit=29340 and detector=75\n",
      "Could not find dataset with visit=29340 and detector=76\n",
      "Could not find dataset with visit=29340 and detector=77\n",
      "Could not find dataset with visit=29340 and detector=78\n",
      "Could not find dataset with visit=29340 and detector=79\n",
      "Could not find dataset with visit=29340 and detector=80\n",
      "Could not find dataset with visit=29340 and detector=81\n",
      "Could not find dataset with visit=29340 and detector=82\n",
      "Could not find dataset with visit=29340 and detector=83\n",
      "Could not find dataset with visit=29340 and detector=84\n",
      "Could not find dataset with visit=29340 and detector=85\n",
      "Could not find dataset with visit=29340 and detector=86\n",
      "Could not find dataset with visit=29340 and detector=87\n",
      "Could not find dataset with visit=29340 and detector=88\n",
      "Could not find dataset with visit=29340 and detector=89\n",
      "Could not find dataset with visit=29340 and detector=90\n",
      "Could not find dataset with visit=29340 and detector=91\n",
      "Could not find dataset with visit=29340 and detector=92\n",
      "Could not find dataset with visit=29340 and detector=93\n",
      "Could not find dataset with visit=29340 and detector=94\n",
      "Could not find dataset with visit=29340 and detector=95\n",
      "Could not find dataset with visit=29340 and detector=96\n",
      "Could not find dataset with visit=29340 and detector=97\n",
      "Could not find dataset with visit=29340 and detector=98\n",
      "Could not find dataset with visit=29340 and detector=99\n",
      "Could not find dataset with visit=29340 and detector=100\n",
      "Could not find dataset with visit=29340 and detector=101\n",
      "Could not find dataset with visit=29340 and detector=102\n",
      "Could not find dataset with visit=29340 and detector=103\n",
      "Could not find dataset with visit=30482 and detector=99\n",
      "Could not find dataset with visit=30484 and detector=96\n",
      "Could not find dataset with visit=30484 and detector=97\n",
      "Could not find dataset with visit=30484 and detector=98\n",
      "Could not find dataset with visit=30484 and detector=99\n"
     ]
    }
   ],
   "source": [
    "for v in visits:\n",
    "    for c in ccds:\n",
    "        try:\n",
    "            npix = collect_dipole_pixels(v, c)\n",
    "            npixArr = np.append(npixArr, npix)\n",
    "        except LookupError:\n",
    "            print(f\"Could not find dataset with visit={v} and detector={c}\")"
   ]
  },
  {
   "cell_type": "code",
   "execution_count": 29,
   "id": "7c2e7bab-7601-4a5c-8f24-47ae170157c4",
   "metadata": {
    "execution": {
     "iopub.execute_input": "2023-05-17T23:33:26.367611Z",
     "iopub.status.busy": "2023-05-17T23:33:26.367271Z",
     "iopub.status.idle": "2023-05-17T23:33:26.370946Z",
     "shell.execute_reply": "2023-05-17T23:33:26.370523Z",
     "shell.execute_reply.started": "2023-05-17T23:33:26.367591Z"
    },
    "tags": []
   },
   "outputs": [
    {
     "data": {
      "text/plain": [
       "401750"
      ]
     },
     "execution_count": 29,
     "metadata": {},
     "output_type": "execute_result"
    }
   ],
   "source": [
    "len(npixArr)"
   ]
  },
  {
   "cell_type": "code",
   "execution_count": 30,
   "id": "f5f73bdf-3b3c-4821-8155-54412e104591",
   "metadata": {
    "execution": {
     "iopub.execute_input": "2023-05-17T23:33:27.484699Z",
     "iopub.status.busy": "2023-05-17T23:33:27.484516Z",
     "iopub.status.idle": "2023-05-17T23:33:27.487970Z",
     "shell.execute_reply": "2023-05-17T23:33:27.487566Z",
     "shell.execute_reply.started": "2023-05-17T23:33:27.484682Z"
    },
    "tags": []
   },
   "outputs": [
    {
     "data": {
      "text/plain": [
       "7770"
      ]
     },
     "execution_count": 30,
     "metadata": {},
     "output_type": "execute_result"
    }
   ],
   "source": [
    "np.max(npixArr)"
   ]
  },
  {
   "cell_type": "code",
   "execution_count": 31,
   "id": "f286fe61-f88a-42d0-9a26-16ffe071b22a",
   "metadata": {
    "execution": {
     "iopub.execute_input": "2023-05-17T23:33:28.655572Z",
     "iopub.status.busy": "2023-05-17T23:33:28.655357Z",
     "iopub.status.idle": "2023-05-17T23:33:28.661552Z",
     "shell.execute_reply": "2023-05-17T23:33:28.661146Z",
     "shell.execute_reply.started": "2023-05-17T23:33:28.655556Z"
    },
    "tags": []
   },
   "outputs": [
    {
     "data": {
      "text/plain": [
       "315.0"
      ]
     },
     "execution_count": 31,
     "metadata": {},
     "output_type": "execute_result"
    }
   ],
   "source": [
    "np.median(npixArr)"
   ]
  },
  {
   "cell_type": "code",
   "execution_count": 44,
   "id": "88fc3719-d640-4b3d-8ce0-59e043e69182",
   "metadata": {
    "execution": {
     "iopub.execute_input": "2023-05-17T23:48:43.174599Z",
     "iopub.status.busy": "2023-05-17T23:48:43.174368Z",
     "iopub.status.idle": "2023-05-17T23:48:43.409588Z",
     "shell.execute_reply": "2023-05-17T23:48:43.409231Z",
     "shell.execute_reply.started": "2023-05-17T23:48:43.174585Z"
    },
    "tags": []
   },
   "outputs": [
    {
     "data": {
      "image/png": "[encoded data removed]",
      "text/plain": [
       "<Figure size 640x480 with 1 Axes>"
      ]
     },
     "metadata": {},
     "output_type": "display_data"
    }
   ],
   "source": [
    "plt.xscale('log')\n",
    "plt.title('HSC all dipole # pixels')\n",
    "histplot = plt.hist(npixArr, bins=100, range=[100,2000])"
   ]
  },
  {
   "cell_type": "code",
   "execution_count": 46,
   "id": "ea6e7dfe-2225-451b-b9dc-493361223972",
   "metadata": {
    "execution": {
     "iopub.execute_input": "2023-05-17T23:54:10.587400Z",
     "iopub.status.busy": "2023-05-17T23:54:10.587163Z",
     "iopub.status.idle": "2023-05-17T23:54:10.849195Z",
     "shell.execute_reply": "2023-05-17T23:54:10.848841Z",
     "shell.execute_reply.started": "2023-05-17T23:54:10.587385Z"
    },
    "tags": []
   },
   "outputs": [
    {
     "data": {
      "image/png": "[encoded data removed]",
      "text/plain": [
       "<Figure size 640x480 with 1 Axes>"
      ]
     },
     "metadata": {},
     "output_type": "display_data"
    }
   ],
   "source": [
    "plt.xscale('log')\n",
    "plt.title('HSC all dipole # pixels tail')\n",
    "histplot = plt.hist(npixArr, bins=100, range=[1000,5000])"
   ]
  },
  {
   "cell_type": "code",
   "execution_count": 34,
   "id": "eed7dc39-f1c8-4e09-b841-939e117c8a22",
   "metadata": {
    "execution": {
     "iopub.execute_input": "2023-05-17T23:37:04.684809Z",
     "iopub.status.busy": "2023-05-17T23:37:04.684542Z",
     "iopub.status.idle": "2023-05-17T23:37:04.687717Z",
     "shell.execute_reply": "2023-05-17T23:37:04.687227Z",
     "shell.execute_reply.started": "2023-05-17T23:37:04.684790Z"
    },
    "tags": []
   },
   "outputs": [],
   "source": [
    "npixArr_good = np.ndarray(0, dtype=a0.dtype)"
   ]
  },
  {
   "cell_type": "code",
   "execution_count": 35,
   "id": "8d2f327d-6d7d-47ff-acaf-b53a8edb9664",
   "metadata": {
    "execution": {
     "iopub.execute_input": "2023-05-17T23:37:33.950748Z",
     "iopub.status.busy": "2023-05-17T23:37:33.950479Z",
     "iopub.status.idle": "2023-05-17T23:42:15.277852Z",
     "shell.execute_reply": "2023-05-17T23:42:15.277339Z",
     "shell.execute_reply.started": "2023-05-17T23:37:33.950729Z"
    },
    "tags": []
   },
   "outputs": [],
   "source": [
    "for v in visits:\n",
    "    for c in ccds:\n",
    "        try:\n",
    "            npix = collect_dipole_pixels_good(v, c)\n",
    "            npixArr_good = np.append(npixArr_good, npix)\n",
    "        except LookupError:\n",
    "            pass"
   ]
  },
  {
   "cell_type": "code",
   "execution_count": 36,
   "id": "657aa4eb-e95c-4936-a719-2bcbd680f60c",
   "metadata": {
    "execution": {
     "iopub.execute_input": "2023-05-17T23:44:40.865623Z",
     "iopub.status.busy": "2023-05-17T23:44:40.865389Z",
     "iopub.status.idle": "2023-05-17T23:44:40.868812Z",
     "shell.execute_reply": "2023-05-17T23:44:40.868488Z",
     "shell.execute_reply.started": "2023-05-17T23:44:40.865602Z"
    },
    "tags": []
   },
   "outputs": [
    {
     "data": {
      "text/plain": [
       "4836"
      ]
     },
     "execution_count": 36,
     "metadata": {},
     "output_type": "execute_result"
    }
   ],
   "source": [
    "np.max(npixArr_good)"
   ]
  },
  {
   "cell_type": "code",
   "execution_count": 37,
   "id": "d5a55c5e-bfb0-4179-8646-94b77794ff02",
   "metadata": {
    "execution": {
     "iopub.execute_input": "2023-05-17T23:44:49.839764Z",
     "iopub.status.busy": "2023-05-17T23:44:49.839520Z",
     "iopub.status.idle": "2023-05-17T23:44:49.843383Z",
     "shell.execute_reply": "2023-05-17T23:44:49.843075Z",
     "shell.execute_reply.started": "2023-05-17T23:44:49.839749Z"
    },
    "tags": []
   },
   "outputs": [
    {
     "data": {
      "text/plain": [
       "252.0"
      ]
     },
     "execution_count": 37,
     "metadata": {},
     "output_type": "execute_result"
    }
   ],
   "source": [
    "np.median(npixArr_good)"
   ]
  },
  {
   "cell_type": "code",
   "execution_count": 45,
   "id": "ef085570-5ba4-4af0-aa1e-a2d61f0e069d",
   "metadata": {
    "execution": {
     "iopub.execute_input": "2023-05-17T23:53:38.286421Z",
     "iopub.status.busy": "2023-05-17T23:53:38.286201Z",
     "iopub.status.idle": "2023-05-17T23:53:38.539941Z",
     "shell.execute_reply": "2023-05-17T23:53:38.539576Z",
     "shell.execute_reply.started": "2023-05-17T23:53:38.286406Z"
    },
    "tags": []
   },
   "outputs": [
    {
     "data": {
      "image/png": "[encoded data removed]",
      "text/plain": [
       "<Figure size 640x480 with 1 Axes>"
      ]
     },
     "metadata": {},
     "output_type": "display_data"
    }
   ],
   "source": [
    "plt.xscale('log')\n",
    "plt.title('HSC good dipole # pixels tail')\n",
    "histplot = plt.hist(npixArr_good, bins=100, range=[1000,5000])"
   ]
  },
  {
   "cell_type": "code",
   "execution_count": 45,
   "id": "646fca5c",
   "metadata": {
    "execution": {
     "iopub.execute_input": "2023-05-17T23:53:38.286421Z",
     "iopub.status.busy": "2023-05-17T23:53:38.286201Z",
     "iopub.status.idle": "2023-05-17T23:53:38.539941Z",
     "shell.execute_reply": "2023-05-17T23:53:38.539576Z",
     "shell.execute_reply.started": "2023-05-17T23:53:38.286406Z"
    },
    "tags": []
   },
   "outputs": [
    {
     "data": {
      "image/png": "[encoded data removed]",
      "text/plain": [
       "<Figure size 640x480 with 1 Axes>"
      ]
     },
     "metadata": {},
     "output_type": "display_data"
    }
   ],
   "source": [
    "plt.xscale('log')\n",
    "plt.title('HSC good dipole # pixels tail')\n",
    "histplot = plt.hist(npixArr_good, bins=100, range=[1000,5000])"
   ]
  },
  {
   "cell_type": "code",
   "execution_count": 47,
   "id": "858d6190-502e-433b-a8d0-7318efb7f0e0",
   "metadata": {
    "execution": {
     "iopub.execute_input": "2023-05-18T00:04:04.789880Z",
     "iopub.status.busy": "2023-05-18T00:04:04.789650Z",
     "iopub.status.idle": "2023-05-18T00:04:04.792860Z",
     "shell.execute_reply": "2023-05-18T00:04:04.792543Z",
     "shell.execute_reply.started": "2023-05-18T00:04:04.789865Z"
    },
    "tags": []
   },
   "outputs": [
    {
     "data": {
      "text/plain": [
       "139"
      ]
     },
     "execution_count": 47,
     "metadata": {},
     "output_type": "execute_result"
    }
   ],
   "source": [
    "len(visits)"
   ]
  },
  {
   "cell_type": "code",
   "execution_count": 50,
   "id": "84db28e7-b5d6-4864-b594-6c6dde463d00",
   "metadata": {
    "execution": {
     "iopub.execute_input": "2023-05-18T16:48:01.473430Z",
     "iopub.status.busy": "2023-05-18T16:48:01.473011Z",
     "iopub.status.idle": "2023-05-18T16:48:01.476288Z",
     "shell.execute_reply": "2023-05-18T16:48:01.475925Z",
     "shell.execute_reply.started": "2023-05-18T16:48:01.473414Z"
    },
    "tags": []
   },
   "outputs": [
    {
     "data": {
      "text/plain": [
       "103"
      ]
     },
     "execution_count": 50,
     "metadata": {},
     "output_type": "execute_result"
    }
   ],
   "source": [
    "len(ccds)"
   ]
  },
  {
   "cell_type": "code",
   "execution_count": 51,
   "id": "d3d1311d-38eb-4060-aadf-48dc0be213fb",
   "metadata": {
    "execution": {
     "iopub.execute_input": "2023-05-18T17:04:43.456912Z",
     "iopub.status.busy": "2023-05-18T17:04:43.456688Z",
     "iopub.status.idle": "2023-05-18T17:04:43.459802Z",
     "shell.execute_reply": "2023-05-18T17:04:43.459484Z",
     "shell.execute_reply.started": "2023-05-18T17:04:43.456893Z"
    },
    "tags": []
   },
   "outputs": [
    {
     "data": {
      "text/plain": [
       "2"
      ]
     },
     "execution_count": 51,
     "metadata": {},
     "output_type": "execute_result"
    }
   ],
   "source": [
    "1+1"
   ]
  },
  {
   "cell_type": "markdown",
   "id": "c070df6a-a9a2-4f2c-85f1-10a25920fc55",
   "metadata": {},
   "source": [
    "## Find the npix cutoff\n",
    "The above distribution has a clear log-linear trend with an intercept near 1000 pixels\n",
    "Fit the distribution and find the intercept, assuming that the high npix tail are artifacts and not real dipoles"
   ]
  },
  {
   "cell_type": "markdown",
   "id": "82bb3637-34ed-4b80-9356-99107bbb7dbf",
   "metadata": {},
   "source": [
    "For all of the dipoles"
   ]
  },
  {
   "cell_type": "code",
   "execution_count": 53,
   "id": "97b5b3dd-0e96-4084-a5ef-3aeb96a61a74",
   "metadata": {
    "execution": {
     "iopub.execute_input": "2023-05-18T17:43:28.314896Z",
     "iopub.status.busy": "2023-05-18T17:43:28.314686Z",
     "iopub.status.idle": "2023-05-18T17:43:28.321932Z",
     "shell.execute_reply": "2023-05-18T17:43:28.321621Z",
     "shell.execute_reply.started": "2023-05-18T17:43:28.314882Z"
    },
    "tags": []
   },
   "outputs": [
    {
     "data": {
      "text/plain": [
       "901.884285213342"
      ]
     },
     "execution_count": 53,
     "metadata": {},
     "output_type": "execute_result"
    }
   ],
   "source": [
    "hist_all = np.histogram(npixArr, bins=100, range=[300,1000])\n",
    "\n",
    "n_vals = hist_all[0]\n",
    "\n",
    "npix_vals = np.log10(hist_all[1])\n",
    "\n",
    "fit = np.polyfit(n_vals, npix_vals[1:], 1)\n",
    "\n",
    "x_intercept = 10**fit[1]\n",
    "\n",
    "x_intercept"
   ]
  },
  {
   "cell_type": "markdown",
   "id": "c26e60ea-2b4c-48a8-9d56-37951caf36d5",
   "metadata": {},
   "source": [
    "For only the good dipoles"
   ]
  },
  {
   "cell_type": "code",
   "execution_count": 54,
   "id": "69daf18a-a7fe-4cd2-8906-40fc1ef200be",
   "metadata": {
    "execution": {
     "iopub.execute_input": "2023-05-18T17:47:37.078362Z",
     "iopub.status.busy": "2023-05-18T17:47:37.077599Z",
     "iopub.status.idle": "2023-05-18T17:47:37.083508Z",
     "shell.execute_reply": "2023-05-18T17:47:37.083091Z",
     "shell.execute_reply.started": "2023-05-18T17:47:37.078308Z"
    },
    "tags": []
   },
   "outputs": [
    {
     "data": {
      "text/plain": [
       "792.8182164392002"
      ]
     },
     "execution_count": 54,
     "metadata": {},
     "output_type": "execute_result"
    }
   ],
   "source": [
    "hist_good = np.histogram(npixArr_good, bins=100, range=[300,1000])\n",
    "\n",
    "n_vals1 = hist_good[0]\n",
    "\n",
    "npix_vals1 = np.log10(hist_good[1])\n",
    "\n",
    "fit1 = np.polyfit(n_vals1, npix_vals1[1:], 1)\n",
    "\n",
    "x_intercept1 = 10**fit1[1]\n",
    "\n",
    "x_intercept1"
   ]
  },
  {
   "cell_type": "code",
   "execution_count": null,
   "id": "b53cd0d6-9fc5-4206-9539-eec90a31d388",
   "metadata": {},
   "outputs": [],
   "source": []
  }
 ],
 "metadata": {
  "kernelspec": {
   "display_name": "LSST",
   "language": "python",
   "name": "lsst"
  },
  "language_info": {
   "codemirror_mode": {
    "name": "ipython",
    "version": 3
   },
   "file_extension": ".py",
   "mimetype": "text/x-python",
   "name": "python",
   "nbconvert_exporter": "python",
   "pygments_lexer": "ipython3",
   "version": "3.10.10"
  }
 },
 "nbformat": 4,
 "nbformat_minor": 5
}
