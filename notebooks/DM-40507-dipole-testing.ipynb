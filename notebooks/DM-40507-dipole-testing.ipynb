{
 "cells": [
  {
   "cell_type": "code",
   "execution_count": 1,
   "id": "31bdf86f-dc40-4647-a01d-8ecdecb033e5",
   "metadata": {
    "execution": {
     "iopub.execute_input": "2024-03-22T21:49:39.576398Z",
     "iopub.status.busy": "2024-03-22T21:49:39.576273Z",
     "iopub.status.idle": "2024-03-22T21:49:44.306089Z",
     "shell.execute_reply": "2024-03-22T21:49:44.305593Z",
     "shell.execute_reply.started": "2024-03-22T21:49:39.576385Z"
    }
   },
   "outputs": [],
   "source": [
    "#%matplotlib inline\n",
    "import lsst.daf.butler as dafButler\n",
    "import lsst.afw.display as afwDisplay\n",
    "from lsst.analysis.ap import apdb\n",
    "\n",
    "\n",
    "import astropy.visualization as aviz\n",
    "import matplotlib.pyplot as plt\n",
    "\n",
    "import pandas as pd\n"
   ]
  },
  {
   "cell_type": "code",
   "execution_count": 2,
   "id": "eb4201ad-d437-4c69-8e7c-16091ad9ed0e",
   "metadata": {
    "execution": {
     "iopub.execute_input": "2024-03-22T21:49:45.346488Z",
     "iopub.status.busy": "2024-03-22T21:49:45.346368Z",
     "iopub.status.idle": "2024-03-22T21:49:45.491840Z",
     "shell.execute_reply": "2024-03-22T21:49:45.491397Z",
     "shell.execute_reply.started": "2024-03-22T21:49:45.346476Z"
    }
   },
   "outputs": [],
   "source": [
    "afwDisplay.setDefaultBackend('firefly')"
   ]
  },
  {
   "cell_type": "code",
   "execution_count": 3,
   "id": "d9b4623e-3982-4326-88cf-3443dbc6546a",
   "metadata": {
    "execution": {
     "iopub.execute_input": "2024-03-22T19:24:32.666930Z",
     "iopub.status.busy": "2024-03-22T19:24:32.666634Z",
     "iopub.status.idle": "2024-03-22T19:24:32.896997Z",
     "shell.execute_reply": "2024-03-22T19:24:32.896526Z",
     "shell.execute_reply.started": "2024-03-22T19:24:32.666915Z"
    }
   },
   "outputs": [],
   "source": [
    "dataset = \"dc2\"\n",
    "collection = \"ap_verify-output\"\n",
    "base_path = \"/sdf/group/rubin/user/parejko/scratch/ap_verify_runs/\"\n",
    "butler_main = lsst.daf.butler.Butler(f\"{base_path}{dataset}-main/repo\", collections=collection)\n",
    "butler_new = lsst.daf.butler.Butler(f\"{base_path}{dataset}-40507/repo\", collections=collection)"
   ]
  },
  {
   "cell_type": "code",
   "execution_count": 4,
   "id": "7db33c5a-cb08-41be-9759-3f60d874bf5d",
   "metadata": {
    "execution": {
     "iopub.execute_input": "2024-03-22T19:24:34.188648Z",
     "iopub.status.busy": "2024-03-22T19:24:34.188227Z",
     "iopub.status.idle": "2024-03-22T19:24:34.323717Z",
     "shell.execute_reply": "2024-03-22T19:24:34.322839Z",
     "shell.execute_reply.started": "2024-03-22T19:24:34.188632Z"
    }
   },
   "outputs": [
    {
     "name": "stdout",
     "output_type": "stream",
     "text": [
      "Number of exposures: 2\n"
     ]
    }
   ],
   "source": [
    "dataids = list(butler_main.registry.queryDataIds((\"visit\", \"detector\"), datasets=\"initial_stars_footprints_detector\"))\n",
    "print(\"Number of exposures:\", len(dataids))\n",
    "display = afwDisplay.Display(frame=1)"
   ]
  },
  {
   "cell_type": "code",
   "execution_count": 5,
   "id": "4f392199-9722-416c-8d63-43428cc17302",
   "metadata": {
    "execution": {
     "iopub.execute_input": "2024-03-22T19:24:34.330972Z",
     "iopub.status.busy": "2024-03-22T19:24:34.330847Z",
     "iopub.status.idle": "2024-03-22T19:24:34.333513Z",
     "shell.execute_reply": "2024-03-22T19:24:34.333165Z",
     "shell.execute_reply.started": "2024-03-22T19:24:34.330960Z"
    }
   },
   "outputs": [
    {
     "data": {
      "text/plain": [
       "'firefly'"
      ]
     },
     "execution_count": 5,
     "metadata": {},
     "output_type": "execute_result"
    }
   ],
   "source": [
    "display.getDefaultBackend()"
   ]
  },
  {
   "cell_type": "code",
   "execution_count": null,
   "id": "9c330e46-f069-4041-b602-6f5da0554052",
   "metadata": {},
   "outputs": [],
   "source": []
  },
  {
   "cell_type": "code",
   "execution_count": null,
   "id": "a125ebe7-7b4e-4304-95eb-93efed2d5dee",
   "metadata": {},
   "outputs": [],
   "source": []
  },
  {
   "cell_type": "code",
   "execution_count": 2,
   "id": "b768da55-ada2-423f-9809-8a5a49533618",
   "metadata": {
    "execution": {
     "iopub.execute_input": "2024-03-22T21:48:16.671202Z",
     "iopub.status.busy": "2024-03-22T21:48:16.670726Z",
     "iopub.status.idle": "2024-03-22T21:48:16.673331Z",
     "shell.execute_reply": "2024-03-22T21:48:16.672929Z",
     "shell.execute_reply.started": "2024-03-22T21:48:16.671187Z"
    }
   },
   "outputs": [],
   "source": [
    "\n"
   ]
  },
  {
   "cell_type": "code",
   "execution_count": 3,
   "id": "5d0781e0-62b1-4ccd-8654-8c3bb22f1462",
   "metadata": {
    "execution": {
     "iopub.execute_input": "2024-03-22T21:49:47.685395Z",
     "iopub.status.busy": "2024-03-22T21:49:47.684886Z",
     "iopub.status.idle": "2024-03-22T21:49:48.045783Z",
     "shell.execute_reply": "2024-03-22T21:49:48.045343Z",
     "shell.execute_reply.started": "2024-03-22T21:49:47.685377Z"
    }
   },
   "outputs": [],
   "source": [
    "repo = '/repo/main'\n",
    "butler = dafButler.Butler(repo)\n",
    "instrument = 'HSC'\n",
    "skymap = 'hsc_rings_v1'\n",
    "\n",
    "fakeStatus = 'with fakes'\n",
    "\n",
    "\n",
    "dmnum = '37699'\n",
    "collections = f'u/elhoward/DM-{dmnum}/HSC-precon-rb'\n",
    "schema = f'elhoward_dm{dmnum}_hsc_appipewithfakes_precon_rb'\n",
    "month = 'October'\n",
    "year = '2023'\n",
    "\n",
    "apdbQuery = apdb.ApdbPostgresQuery(butler=butler, instrument=instrument, namespace=schema)"
   ]
  },
  {
   "cell_type": "code",
   "execution_count": 16,
   "id": "31691e7d-6162-42ec-81b4-5a3964b6141a",
   "metadata": {
    "execution": {
     "iopub.execute_input": "2024-03-22T21:55:01.845408Z",
     "iopub.status.busy": "2024-03-22T21:55:01.845082Z",
     "iopub.status.idle": "2024-03-22T21:55:02.447866Z",
     "shell.execute_reply": "2024-03-22T21:55:02.447409Z",
     "shell.execute_reply.started": "2024-03-22T21:55:01.845392Z"
    }
   },
   "outputs": [],
   "source": [
    "with apdbQuery.connection as connection:\n",
    "    srcTable = pd.read_sql_query('SELECT \"dipoleLength\", \"dipoleAngle\", \"diaObjectId\", \"ra\", \"dec\"  \"ccdVisitId\", \\\n",
    "                                 \"psfFlux\" AS \"psFlux\", \"psfFluxErr\" AS \"psFluxErr\", \\\n",
    "                                 \"scienceFlux\" AS \"totFlux\", \"scienceFluxErr\" AS \"totFluxErr\", \"snr\", \\\n",
    "                                 \"flags\", \"band\" AS \"filterName\" \\\n",
    "                                 FROM \"{}\".\"DiaSource\" LIMIT 100000;'.format(schema), connection)"
   ]
  },
  {
   "cell_type": "code",
   "execution_count": 17,
   "id": "b4bce1ff-58a8-4f54-acbc-eb28ea0f9beb",
   "metadata": {
    "execution": {
     "iopub.execute_input": "2024-03-22T21:55:03.132215Z",
     "iopub.status.busy": "2024-03-22T21:55:03.131937Z",
     "iopub.status.idle": "2024-03-22T21:55:03.141926Z",
     "shell.execute_reply": "2024-03-22T21:55:03.141532Z",
     "shell.execute_reply.started": "2024-03-22T21:55:03.132201Z"
    }
   },
   "outputs": [
    {
     "data": {
      "text/html": [
       "<div>\n",
       "<style scoped>\n",
       "    .dataframe tbody tr th:only-of-type {\n",
       "        vertical-align: middle;\n",
       "    }\n",
       "\n",
       "    .dataframe tbody tr th {\n",
       "        vertical-align: top;\n",
       "    }\n",
       "\n",
       "    .dataframe thead th {\n",
       "        text-align: right;\n",
       "    }\n",
       "</style>\n",
       "<table border=\"1\" class=\"dataframe\">\n",
       "  <thead>\n",
       "    <tr style=\"text-align: right;\">\n",
       "      <th></th>\n",
       "      <th>dipoleLength</th>\n",
       "      <th>dipoleAngle</th>\n",
       "      <th>diaObjectId</th>\n",
       "      <th>ra</th>\n",
       "      <th>ccdVisitId</th>\n",
       "      <th>psFlux</th>\n",
       "      <th>psFluxErr</th>\n",
       "      <th>totFlux</th>\n",
       "      <th>totFluxErr</th>\n",
       "      <th>snr</th>\n",
       "      <th>flags</th>\n",
       "      <th>filterName</th>\n",
       "    </tr>\n",
       "  </thead>\n",
       "  <tbody>\n",
       "    <tr>\n",
       "      <th>0</th>\n",
       "      <td>NaN</td>\n",
       "      <td>NaN</td>\n",
       "      <td>808430956708596</td>\n",
       "      <td>150.512463</td>\n",
       "      <td>2.338205</td>\n",
       "      <td>1697.917049</td>\n",
       "      <td>391.322042</td>\n",
       "      <td>1631.655928</td>\n",
       "      <td>390.162420</td>\n",
       "      <td>5.172753</td>\n",
       "      <td>0</td>\n",
       "      <td>y</td>\n",
       "    </tr>\n",
       "    <tr>\n",
       "      <th>1</th>\n",
       "      <td>NaN</td>\n",
       "      <td>NaN</td>\n",
       "      <td>808430956708597</td>\n",
       "      <td>150.512066</td>\n",
       "      <td>2.330343</td>\n",
       "      <td>1383.334502</td>\n",
       "      <td>392.396919</td>\n",
       "      <td>7886.109409</td>\n",
       "      <td>389.982984</td>\n",
       "      <td>5.040255</td>\n",
       "      <td>8388608</td>\n",
       "      <td>y</td>\n",
       "    </tr>\n",
       "    <tr>\n",
       "      <th>2</th>\n",
       "      <td>NaN</td>\n",
       "      <td>NaN</td>\n",
       "      <td>808430956708598</td>\n",
       "      <td>150.511874</td>\n",
       "      <td>2.320394</td>\n",
       "      <td>1620.428762</td>\n",
       "      <td>390.549705</td>\n",
       "      <td>1961.683475</td>\n",
       "      <td>385.162903</td>\n",
       "      <td>5.253160</td>\n",
       "      <td>1320</td>\n",
       "      <td>y</td>\n",
       "    </tr>\n",
       "    <tr>\n",
       "      <th>3</th>\n",
       "      <td>NaN</td>\n",
       "      <td>NaN</td>\n",
       "      <td>808430956708599</td>\n",
       "      <td>150.510887</td>\n",
       "      <td>2.367015</td>\n",
       "      <td>-1575.374033</td>\n",
       "      <td>401.263075</td>\n",
       "      <td>41944.156126</td>\n",
       "      <td>403.121687</td>\n",
       "      <td>5.090733</td>\n",
       "      <td>8388608</td>\n",
       "      <td>y</td>\n",
       "    </tr>\n",
       "    <tr>\n",
       "      <th>4</th>\n",
       "      <td>NaN</td>\n",
       "      <td>NaN</td>\n",
       "      <td>808430956708600</td>\n",
       "      <td>150.509815</td>\n",
       "      <td>2.366319</td>\n",
       "      <td>-1760.498056</td>\n",
       "      <td>390.116566</td>\n",
       "      <td>-1303.999623</td>\n",
       "      <td>391.479768</td>\n",
       "      <td>5.371327</td>\n",
       "      <td>0</td>\n",
       "      <td>y</td>\n",
       "    </tr>\n",
       "    <tr>\n",
       "      <th>...</th>\n",
       "      <td>...</td>\n",
       "      <td>...</td>\n",
       "      <td>...</td>\n",
       "      <td>...</td>\n",
       "      <td>...</td>\n",
       "      <td>...</td>\n",
       "      <td>...</td>\n",
       "      <td>...</td>\n",
       "      <td>...</td>\n",
       "      <td>...</td>\n",
       "      <td>...</td>\n",
       "      <td>...</td>\n",
       "    </tr>\n",
       "    <tr>\n",
       "      <th>99995</th>\n",
       "      <td>NaN</td>\n",
       "      <td>NaN</td>\n",
       "      <td>8464695493132968</td>\n",
       "      <td>150.030071</td>\n",
       "      <td>2.504953</td>\n",
       "      <td>494.116725</td>\n",
       "      <td>91.079680</td>\n",
       "      <td>22506.972277</td>\n",
       "      <td>89.790116</td>\n",
       "      <td>11.500257</td>\n",
       "      <td>8388972</td>\n",
       "      <td>i</td>\n",
       "    </tr>\n",
       "    <tr>\n",
       "      <th>99996</th>\n",
       "      <td>NaN</td>\n",
       "      <td>NaN</td>\n",
       "      <td>8464695493132969</td>\n",
       "      <td>150.029390</td>\n",
       "      <td>2.550519</td>\n",
       "      <td>-7673.057996</td>\n",
       "      <td>88.657262</td>\n",
       "      <td>7042.996118</td>\n",
       "      <td>86.806946</td>\n",
       "      <td>24.497120</td>\n",
       "      <td>8391644</td>\n",
       "      <td>i</td>\n",
       "    </tr>\n",
       "    <tr>\n",
       "      <th>99997</th>\n",
       "      <td>NaN</td>\n",
       "      <td>NaN</td>\n",
       "      <td>8464695493132970</td>\n",
       "      <td>150.030930</td>\n",
       "      <td>2.568844</td>\n",
       "      <td>749.716305</td>\n",
       "      <td>94.746231</td>\n",
       "      <td>23929.728133</td>\n",
       "      <td>93.242757</td>\n",
       "      <td>7.773108</td>\n",
       "      <td>0</td>\n",
       "      <td>i</td>\n",
       "    </tr>\n",
       "    <tr>\n",
       "      <th>99998</th>\n",
       "      <td>NaN</td>\n",
       "      <td>NaN</td>\n",
       "      <td>8464695493132971</td>\n",
       "      <td>150.030972</td>\n",
       "      <td>2.551137</td>\n",
       "      <td>-403.162213</td>\n",
       "      <td>85.740913</td>\n",
       "      <td>-327.310387</td>\n",
       "      <td>83.940646</td>\n",
       "      <td>5.261158</td>\n",
       "      <td>8389596</td>\n",
       "      <td>i</td>\n",
       "    </tr>\n",
       "    <tr>\n",
       "      <th>99999</th>\n",
       "      <td>NaN</td>\n",
       "      <td>NaN</td>\n",
       "      <td>8464695493132972</td>\n",
       "      <td>150.031184</td>\n",
       "      <td>2.528161</td>\n",
       "      <td>198.963273</td>\n",
       "      <td>88.951972</td>\n",
       "      <td>15709.777351</td>\n",
       "      <td>87.467336</td>\n",
       "      <td>5.919390</td>\n",
       "      <td>0</td>\n",
       "      <td>i</td>\n",
       "    </tr>\n",
       "  </tbody>\n",
       "</table>\n",
       "<p>100000 rows × 12 columns</p>\n",
       "</div>"
      ],
      "text/plain": [
       "       dipoleLength  dipoleAngle       diaObjectId          ra  ccdVisitId  \\\n",
       "0               NaN          NaN   808430956708596  150.512463    2.338205   \n",
       "1               NaN          NaN   808430956708597  150.512066    2.330343   \n",
       "2               NaN          NaN   808430956708598  150.511874    2.320394   \n",
       "3               NaN          NaN   808430956708599  150.510887    2.367015   \n",
       "4               NaN          NaN   808430956708600  150.509815    2.366319   \n",
       "...             ...          ...               ...         ...         ...   \n",
       "99995           NaN          NaN  8464695493132968  150.030071    2.504953   \n",
       "99996           NaN          NaN  8464695493132969  150.029390    2.550519   \n",
       "99997           NaN          NaN  8464695493132970  150.030930    2.568844   \n",
       "99998           NaN          NaN  8464695493132971  150.030972    2.551137   \n",
       "99999           NaN          NaN  8464695493132972  150.031184    2.528161   \n",
       "\n",
       "            psFlux   psFluxErr       totFlux  totFluxErr        snr    flags  \\\n",
       "0      1697.917049  391.322042   1631.655928  390.162420   5.172753        0   \n",
       "1      1383.334502  392.396919   7886.109409  389.982984   5.040255  8388608   \n",
       "2      1620.428762  390.549705   1961.683475  385.162903   5.253160     1320   \n",
       "3     -1575.374033  401.263075  41944.156126  403.121687   5.090733  8388608   \n",
       "4     -1760.498056  390.116566  -1303.999623  391.479768   5.371327        0   \n",
       "...            ...         ...           ...         ...        ...      ...   \n",
       "99995   494.116725   91.079680  22506.972277   89.790116  11.500257  8388972   \n",
       "99996 -7673.057996   88.657262   7042.996118   86.806946  24.497120  8391644   \n",
       "99997   749.716305   94.746231  23929.728133   93.242757   7.773108        0   \n",
       "99998  -403.162213   85.740913   -327.310387   83.940646   5.261158  8389596   \n",
       "99999   198.963273   88.951972  15709.777351   87.467336   5.919390        0   \n",
       "\n",
       "      filterName  \n",
       "0              y  \n",
       "1              y  \n",
       "2              y  \n",
       "3              y  \n",
       "4              y  \n",
       "...          ...  \n",
       "99995          i  \n",
       "99996          i  \n",
       "99997          i  \n",
       "99998          i  \n",
       "99999          i  \n",
       "\n",
       "[100000 rows x 12 columns]"
      ]
     },
     "execution_count": 17,
     "metadata": {},
     "output_type": "execute_result"
    }
   ],
   "source": [
    "srcTable"
   ]
  },
  {
   "cell_type": "code",
   "execution_count": 15,
   "id": "c6f3e699-2758-407e-ac22-865942fbd3bf",
   "metadata": {
    "execution": {
     "iopub.execute_input": "2024-03-22T21:51:25.326216Z",
     "iopub.status.busy": "2024-03-22T21:51:25.325904Z",
     "iopub.status.idle": "2024-03-22T21:51:26.120803Z",
     "shell.execute_reply": "2024-03-22T21:51:26.120383Z",
     "shell.execute_reply.started": "2024-03-22T21:51:25.326201Z"
    }
   },
   "outputs": [
    {
     "data": {
      "image/png": "[encoded data removed]",
      "text/plain": [
       "<Figure size 640x480 with 1 Axes>"
      ]
     },
     "metadata": {},
     "output_type": "display_data"
    }
   ],
   "source": [
    "plt.hist(srcTable['dipoleLength'],bins=1000);"
   ]
  },
  {
   "cell_type": "code",
   "execution_count": 18,
   "id": "cd71879f-3dc1-40cd-9457-49d005533373",
   "metadata": {
    "execution": {
     "iopub.execute_input": "2024-03-22T21:55:11.751743Z",
     "iopub.status.busy": "2024-03-22T21:55:11.751413Z",
     "iopub.status.idle": "2024-03-22T21:55:12.921607Z",
     "shell.execute_reply": "2024-03-22T21:55:12.921276Z",
     "shell.execute_reply.started": "2024-03-22T21:55:11.751724Z"
    }
   },
   "outputs": [
    {
     "data": {
      "image/png": "[encoded data removed]",
      "text/plain": [
       "<Figure size 640x480 with 1 Axes>"
      ]
     },
     "metadata": {},
     "output_type": "display_data"
    }
   ],
   "source": [
    "plt.hist(srcTable['dipoleAngle'],bins=1000);"
   ]
  },
  {
   "cell_type": "code",
   "execution_count": null,
   "id": "4d1f0d1d-73f3-4e3b-bc05-fb4cf1cf3c42",
   "metadata": {},
   "outputs": [],
   "source": []
  }
 ],
 "metadata": {
  "kernelspec": {
   "display_name": "LSST",
   "language": "python",
   "name": "lsst"
  },
  "language_info": {
   "codemirror_mode": {
    "name": "ipython",
    "version": 3
   },
   "file_extension": ".py",
   "mimetype": "text/x-python",
   "name": "python",
   "nbconvert_exporter": "python",
   "pygments_lexer": "ipython3",
   "version": "3.11.7"
  }
 },
 "nbformat": 4,
 "nbformat_minor": 5
}
