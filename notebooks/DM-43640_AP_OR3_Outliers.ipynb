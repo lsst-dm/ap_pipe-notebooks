{
 "cells": [
  {
   "cell_type": "markdown",
   "id": "3dc7711f-45de-42bc-a7b9-c79ea87b376e",
   "metadata": {},
   "source": [
    "<img align=\"left\" src = https://project.lsst.org/sites/default/files/Rubin-O-Logo_0.png width=250 style=\"padding: 10px\"> \n",
    "<br>\n",
    "<b>AP OR3 Outlier Analysis</b> <br>\n",
    "Contact author: Eric Bellm<br>\n",
    "Last verified to run: <br>\n",
    "LSST Science Piplines version: <br>\n",
    "Container Size: Medium <br>"
   ]
  },
  {
   "cell_type": "code",
   "execution_count": 1,
   "id": "588781f4-5b99-4353-8f35-32fea6458c91",
   "metadata": {
    "execution": {
     "iopub.execute_input": "2024-04-03T17:15:08.366119Z",
     "iopub.status.busy": "2024-04-03T17:15:08.365993Z",
     "iopub.status.idle": "2024-04-03T17:15:08.368237Z",
     "shell.execute_reply": "2024-04-03T17:15:08.367871Z",
     "shell.execute_reply.started": "2024-04-03T17:15:08.366106Z"
    }
   },
   "outputs": [],
   "source": [
    "repo = '/repo/embargo'\n",
    "collections = ['LSSTComCamSim/prompt/output-2024-04-04']\n",
    "schema = 'pp_apdb_lsstcomcamsim'\n",
    "instrument = 'LSSTComCamSim'"
   ]
  },
  {
   "cell_type": "code",
   "execution_count": 2,
   "id": "f1b5371c-72e1-4907-8c86-6252f783785e",
   "metadata": {
    "execution": {
     "iopub.execute_input": "2024-04-03T17:15:08.368871Z",
     "iopub.status.busy": "2024-04-03T17:15:08.368752Z",
     "iopub.status.idle": "2024-04-03T17:15:12.728405Z",
     "shell.execute_reply": "2024-04-03T17:15:12.727913Z",
     "shell.execute_reply.started": "2024-04-03T17:15:08.368859Z"
    }
   },
   "outputs": [],
   "source": [
    "%matplotlib inline\n",
    "\n",
    "import numpy as np\n",
    "import matplotlib.pyplot as plt\n",
    "from matplotlib import gridspec\n",
    "import importlib\n",
    "import pandas as pd\n",
    "import astropy.units as u\n",
    "\n",
    "import lsst.afw.display as afwDisplay\n",
    "import lsst.daf.butler as dafButler\n",
    "\n",
    "from lsst.analysis.ap import apdb"
   ]
  },
  {
   "cell_type": "code",
   "execution_count": 3,
   "id": "6f776e27-2b3b-40c8-af34-f057f904a395",
   "metadata": {
    "execution": {
     "iopub.execute_input": "2024-04-03T17:15:12.729401Z",
     "iopub.status.busy": "2024-04-03T17:15:12.728997Z",
     "iopub.status.idle": "2024-04-03T17:15:14.640436Z",
     "shell.execute_reply": "2024-04-03T17:15:14.639978Z",
     "shell.execute_reply.started": "2024-04-03T17:15:12.729387Z"
    }
   },
   "outputs": [],
   "source": [
    "\n",
    "butler = dafButler.Butler(repo, collections=collections)\n",
    "apdbQuery = apdb.ApdbPostgresQuery(schema, butler=butler, instrument=instrument,\n",
    "                                  url='rubin@usdf-prompt-processing.slac.stanford.edu/lsst-devl')"
   ]
  },
  {
   "cell_type": "code",
   "execution_count": 24,
   "id": "4d5f56b9-86aa-4572-91ce-23b11b3c7edc",
   "metadata": {
    "execution": {
     "iopub.execute_input": "2024-04-03T17:52:57.064740Z",
     "iopub.status.busy": "2024-04-03T17:52:57.064172Z",
     "iopub.status.idle": "2024-04-03T17:52:57.256125Z",
     "shell.execute_reply": "2024-04-03T17:52:57.255766Z",
     "shell.execute_reply.started": "2024-04-03T17:52:57.064726Z"
    }
   },
   "outputs": [
    {
     "name": "stdout",
     "output_type": "stream",
     "text": [
      "     count\n",
      "0  2931981\n"
     ]
    }
   ],
   "source": [
    "with apdbQuery.connection as connection:\n",
    "    print(pd.read_sql_query(f'select count(\"diaSourceId\") from \"{schema}\".\"DiaSource\";', connection))"
   ]
  },
  {
   "cell_type": "code",
   "execution_count": 22,
   "id": "2478cd0b-c1eb-4283-88ad-f098545cef93",
   "metadata": {
    "execution": {
     "iopub.execute_input": "2024-04-03T17:48:55.904562Z",
     "iopub.status.busy": "2024-04-03T17:48:55.904310Z",
     "iopub.status.idle": "2024-04-03T17:48:55.914853Z",
     "shell.execute_reply": "2024-04-03T17:48:55.914389Z",
     "shell.execute_reply.started": "2024-04-03T17:48:55.904548Z"
    }
   },
   "outputs": [
    {
     "name": "stdout",
     "output_type": "stream",
     "text": [
      "['_Connection__can_reconnect', '_Connection__in_begin', '_Connection__savepoint_seq', '__annotations__', '__class__', '__class_getitem__', '__delattr__', '__dict__', '__dir__', '__doc__', '__enter__', '__eq__', '__exit__', '__format__', '__ge__', '__getattribute__', '__getstate__', '__gt__', '__hash__', '__init__', '__init_subclass__', '__le__', '__lt__', '__module__', '__ne__', '__new__', '__orig_bases__', '__parameters__', '__reduce__', '__reduce_ex__', '__repr__', '__setattr__', '__sizeof__', '__slots__', '__str__', '__subclasshook__', '__weakref__', '_allow_autobegin', '_autobegin', '_begin_impl', '_begin_twophase_impl', '_commit_impl', '_commit_twophase_impl', '_cursor_execute', '_dbapi_connection', '_echo', '_exec_insertmany_context', '_exec_single_context', '_execute_clauseelement', '_execute_compiled', '_execute_context', '_execute_ddl', '_execute_default', '_execute_function', '_execution_options', '_get_required_nested_transaction', '_get_required_transaction', '_handle_dbapi_exception', '_handle_dbapi_exception_noconnection', '_has_events', '_invalid_transaction', '_invoke_before_exec_event', '_is_autocommit_isolation', '_is_disconnect', '_is_protocol', '_log_debug', '_log_info', '_message_formatter', '_nested_transaction', '_prepare_twophase_impl', '_reentrant_error', '_release_savepoint_impl', '_revalidate_connection', '_rollback_impl', '_rollback_to_savepoint_impl', '_rollback_twophase_impl', '_run_ddl_visitor', '_safe_close_cursor', '_savepoint_impl', '_schema_translate_map', '_sqla_logger_namespace', '_still_open_and_dbapi_connection_is_valid', '_trans_context_manager', '_transaction', 'begin', 'begin_nested', 'begin_twophase', 'close', 'closed', 'commit', 'commit_prepared', 'connection', 'default_isolation_level', 'detach', 'dialect', 'dispatch', 'engine', 'exec_driver_sql', 'execute', 'execution_options', 'get_execution_options', 'get_isolation_level', 'get_nested_transaction', 'get_transaction', 'in_nested_transaction', 'in_transaction', 'info', 'invalidate', 'invalidated', 'recover_twophase', 'rollback', 'rollback_prepared', 'scalar', 'scalars', 'schema_for_object', 'should_close_with_result']\n"
     ]
    }
   ],
   "source": [
    "with apdbQuery.connection as connection:\n",
    "    print(dir(connection))"
   ]
  },
  {
   "cell_type": "code",
   "execution_count": null,
   "id": "9e7907b3-5cb3-412a-8d5b-cd6d70f91f04",
   "metadata": {},
   "outputs": [],
   "source": []
  }
 ],
 "metadata": {
  "kernelspec": {
   "display_name": "LSST",
   "language": "python",
   "name": "lsst"
  },
  "language_info": {
   "codemirror_mode": {
    "name": "ipython",
    "version": 3
   },
   "file_extension": ".py",
   "mimetype": "text/x-python",
   "name": "python",
   "nbconvert_exporter": "python",
   "pygments_lexer": "ipython3",
   "version": "3.11.7"
  }
 },
 "nbformat": 4,
 "nbformat_minor": 5
}
