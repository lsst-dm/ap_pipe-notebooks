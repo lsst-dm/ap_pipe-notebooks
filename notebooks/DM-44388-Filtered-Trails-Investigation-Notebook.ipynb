{
 "cells": [
  {
   "cell_type": "markdown",
   "id": "906b49bf-f010-4dea-aa9c-5da750289662",
   "metadata": {
    "execution": {
     "iopub.execute_input": "2024-05-15T17:20:17.598910Z",
     "iopub.status.busy": "2024-05-15T17:20:17.598705Z",
     "iopub.status.idle": "2024-05-15T17:20:17.602231Z",
     "shell.execute_reply": "2024-05-15T17:20:17.601789Z",
     "shell.execute_reply.started": "2024-05-15T17:20:17.598896Z"
    }
   },
   "source": [
    "<img align=\"left\" src = https://project.lsst.org/sites/default/files/Rubin-O-Logo_0.png width=250 style=\"padding: 10px\"> \n",
    "<br>\n",
    "<b>DM-44388: Filtered Trails Investigation Notebook</b> <br>\n",
    "Contact author: Brianna Smart<br>\n",
    "Last verified to run: -  05/15/2024<br>\n",
    "LSST Science Piplines version: - r26.0.2 Large Container<br>\n",
    "Container Size: Large <br># Clean Notebook"
   ]
  },
  {
   "cell_type": "markdown",
   "id": "1b1fbabb-d39f-4a9a-8800-6a3ef46189db",
   "metadata": {
    "execution": {
     "iopub.execute_input": "2024-05-31T17:58:14.500056Z",
     "iopub.status.busy": "2024-05-31T17:58:14.499840Z",
     "iopub.status.idle": "2024-05-31T17:58:14.504476Z",
     "shell.execute_reply": "2024-05-31T17:58:14.503985Z",
     "shell.execute_reply.started": "2024-05-31T17:58:14.500040Z"
    }
   },
   "source": [
    "## Table of Contents\n",
    "\n",
    "1. [Introduction](#Introduction)\n",
    "2. [Conclusions](#Conclusions)\n",
    "3. [Setup](#Setup)\n",
    "4. [Load Data](#Load-Data)\n",
    "5. [Inspecting Columns](#Inspecting-Columns)\n",
    "6. [Investigate Trail Measurements](#Investigate-Trail-Measurements)\n",
    "7. [Scratchwork](#Scratchwork)"
   ]
  },
  {
   "cell_type": "markdown",
   "id": "3b4d42d7-22c7-4c95-bc4a-41cdef956c20",
   "metadata": {},
   "source": [
    "# Introduction\n",
    "The goal of this notebook is to inspect the output trailed source tables from Ops Rehearsal 3 and determine what kinds of sources are being filtered out of the catalog and if any of the sources should not have been caught in the filter.\n",
    "\n",
    "During Ops Rehearsal 3, a significant number of sources were filtered out by the trailed source filter. However, the majority of these sources appear to not be trailed sources at all, but point sources which have been erroneously flagged.\n",
    "\n",
    "\n",
    "# Conclusions\n",
    "\n",
    "The majority of the sources in the trailed source catalog are not trailed sources at all, but point sources which had the `unweighted` Sdss flag set along with the `edge` flag set in the trailed source measurement plugin. Looking into this, it was noted that there were several compounding issues. The first is that any sources with the shape flag set should result in a retun in the plugin, indicating no trailed measurement will be made. However, we were using the `HSMShape` flag, but using `SdssShape` was hardcoded into the plugin. This resulted in several sources getting though which should not have been measured. Additionally, these sources had the `unweighted` flag set for `SdssShape`, meaning that they did not go through the length measurement which checked for convergence and valid results. This resulted in sources with a trail length of `nan` which were treated as valid trailed sources, with the rest of their values being calculated and flags set if their coordinates lied on edge pixels. These point sources were then filtered out later.\n",
    "\n",
    "The few sources that were valid did have either the correct edge flag set or were longer than 12.5 arcseconds in length, the cutoff for trailed sources allowed in the catalog. Data from the next ops rehearsal will show us more clearly how well the filtering is working."
   ]
  },
  {
   "cell_type": "markdown",
   "id": "0a25d500-8f52-4d26-a929-f742975e4657",
   "metadata": {
    "execution": {
     "iopub.execute_input": "2024-05-24T00:25:28.336758Z",
     "iopub.status.busy": "2024-05-24T00:25:28.336559Z",
     "iopub.status.idle": "2024-05-24T00:25:28.339175Z",
     "shell.execute_reply": "2024-05-24T00:25:28.338641Z",
     "shell.execute_reply.started": "2024-05-24T00:25:28.336744Z"
    }
   },
   "source": [
    "## Setup"
   ]
  },
  {
   "cell_type": "code",
   "execution_count": 6,
   "id": "6548d8a8-b6b7-4d72-b824-bcd795c02022",
   "metadata": {
    "execution": {
     "iopub.execute_input": "2024-05-31T18:07:22.350667Z",
     "iopub.status.busy": "2024-05-31T18:07:22.350369Z",
     "iopub.status.idle": "2024-05-31T18:07:24.772367Z",
     "shell.execute_reply": "2024-05-31T18:07:24.771868Z",
     "shell.execute_reply.started": "2024-05-31T18:07:22.350653Z"
    }
   },
   "outputs": [],
   "source": [
    "import pandas as pd\n",
    "import numpy as np\n",
    "# Basic imports\n",
    "import os\n",
    "import sys\n",
    "import numpy as np\n",
    "import matplotlib.pyplot as plt\n",
    "import importlib\n",
    "import pandas as pd\n",
    "from IPython.display import Image, display\n",
    "from lsst.daf.butler import DatasetNotFoundError\n",
    "\n",
    "from astropy.coordinates import SkyCoord\n",
    "\n",
    "import lsst.geom\n",
    "import lsst.daf.butler as dafButler\n",
    "from lsst.ap.association import UnpackApdbFlags, TransformDiaSourceCatalogConfig\n",
    "from lsst.analysis.ap import legacyApdbUtils as utils\n",
    "from lsst.analysis.ap import legacyPlotUtils as plac\n",
    "from lsst.analysis.ap import PlotImageSubtractionCutoutsTask\n",
    "from lsst.analysis.ap.nb_utils import make_simbad_link\n",
    "from lsst.analysis.ap import apdb\n",
    "from lsst.analysis.ap.plotImageSubtractionCutouts import PlotImageSubtractionCutoutsTask as plotCutouts\n",
    "\n",
    "\n",
    "import warnings\n",
    "warnings.filterwarnings('ignore')\n",
    "warnings.simplefilter('ignore')\n",
    "\n",
    "importlib.reload(utils)\n",
    "\n",
    "bandList = ['i', 'z', 'y']\n",
    "colorList = ['C2', 'C3', 'C5', 'k']\n",
    "import lsst.afw.display as afwDisplay\n",
    "from IPython.display import IFrame\n",
    "import matplotlib.pyplot as plt\n",
    "import numpy as np\n",
    "import scipy.ndimage\n",
    "import gc"
   ]
  },
  {
   "cell_type": "code",
   "execution_count": 7,
   "id": "d8017af2-36c3-4c32-b7cb-1ac46bf192a9",
   "metadata": {
    "execution": {
     "iopub.execute_input": "2024-05-31T18:07:24.780298Z",
     "iopub.status.busy": "2024-05-31T18:07:24.780178Z",
     "iopub.status.idle": "2024-05-31T18:07:24.786011Z",
     "shell.execute_reply": "2024-05-31T18:07:24.785598Z",
     "shell.execute_reply.started": "2024-05-31T18:07:24.780287Z"
    }
   },
   "outputs": [],
   "source": [
    "def m_and_v_plots (exposure, matplot=None, display_num=None, record=None):\n",
    "    \"\"\"\n",
    "    Create an array of plots with their mask and variance\n",
    "\n",
    "    Parameters\n",
    "    ----------\n",
    "    datasetRefs: a set of DataSetRefs\n",
    "    returned by the butler\n",
    "    matplot: Can be set to True\n",
    "    display_num: Integer setting number of images\n",
    "\n",
    "    Returns\n",
    "    -------\n",
    "    None\n",
    "    \"\"\"\n",
    "    \n",
    "    if display_num == None:\n",
    "        display_num=1\n",
    "    else:\n",
    "        display_num=display_num\n",
    "    \n",
    "    if matplot != None:\n",
    "        afwDisplay.setDefaultBackend('matplotlib') \n",
    "        \n",
    "        print('Visit: ', exposure.visitInfo.getId(), ', Detector: ', exposure.detector.getId())\n",
    "        fig, ax = plt.subplots(1, 3, figsize=(14, 7))\n",
    "        plt.sca(ax[0])  # set the first axis as current\n",
    "        plt.xlabel('Image with Mask Overlay')\n",
    "        display1 = afwDisplay.Display(frame=fig)\n",
    "        display1.scale('asinh', -1, 30)\n",
    "        display1.mtv(exposure)\n",
    "        plt.sca(ax[1])  # set the second axis as current\n",
    "        display2 = afwDisplay.Display(frame=fig)\n",
    "        display2.mtv(exposure.mask)\n",
    "        plt.tight_layout()\n",
    "        plt.sca(ax[2]) \n",
    "        display3 = afwDisplay.Display(frame=fig)\n",
    "        display3.scale('asinh', 'zscale')\n",
    "        display3.mtv(exposure.variance)\n",
    "        plt.tight_layout()\n",
    "        plt.show()\n",
    "        remove_figure(fig)\n",
    "\n",
    "    else:\n",
    "        afwDisplay.setDefaultBackend('firefly')\n",
    "\n",
    "        print('Visit: ', exposure.visitInfo.getId(), ', Detector: ',exposure.detector.getId())\n",
    "        display = afwDisplay.Display(frame=0)\n",
    "        display.scale('asinh', -1, 30)\n",
    "        display.mtv(exposure)\n",
    "        display = afwDisplay.Display(frame=1)\n",
    "        display.setMaskTransparency(90)\n",
    "        display.mtv(exposure.mask)\n",
    "        display = afwDisplay.Display(frame=2)\n",
    "        display.scale('asinh', 'zscale')\n",
    "        display.mtv(exposure.variance)\n",
    "\n",
    "    if record is not None:\n",
    "        display1.dot('x', record.getX(),record.getY())\n",
    "        display2.dot('x', record.getX(),record.getY())\n",
    "        display3.dot('x', record.getX(),record.getY())"
   ]
  },
  {
   "cell_type": "code",
   "execution_count": 8,
   "id": "a1e5f9ad-ec68-4cd6-a093-eb25fcae068f",
   "metadata": {
    "execution": {
     "iopub.execute_input": "2024-05-31T18:07:24.786922Z",
     "iopub.status.busy": "2024-05-31T18:07:24.786798Z",
     "iopub.status.idle": "2024-05-31T18:07:24.791312Z",
     "shell.execute_reply": "2024-05-31T18:07:24.790961Z",
     "shell.execute_reply.started": "2024-05-31T18:07:24.786911Z"
    }
   },
   "outputs": [],
   "source": [
    "def remove_figure(fig):\n",
    "    \"\"\"\n",
    "    Remove a figure to reduce memory footprint.\n",
    "\n",
    "    Parameters\n",
    "    ----------\n",
    "    fig: matplotlib.figure.Figure\n",
    "        Figure to be removed.\n",
    "\n",
    "    Returns\n",
    "    -------\n",
    "    None\n",
    "    \"\"\"\n",
    "    # get the axes and clear their images\n",
    "    for ax in fig.get_axes():\n",
    "        for im in ax.get_images():\n",
    "            im.remove()\n",
    "    fig.clf()       # clear the figure\n",
    "    plt.close(fig)  # close the figure\n",
    "    gc.collect()    # call the garbage collector"
   ]
  },
  {
   "cell_type": "code",
   "execution_count": 9,
   "id": "0597d08d-025b-4da6-a634-c827a181c100",
   "metadata": {
    "execution": {
     "iopub.execute_input": "2024-05-31T18:07:24.791918Z",
     "iopub.status.busy": "2024-05-31T18:07:24.791799Z",
     "iopub.status.idle": "2024-05-31T18:07:24.798676Z",
     "shell.execute_reply": "2024-05-31T18:07:24.798306Z",
     "shell.execute_reply.started": "2024-05-31T18:07:24.791906Z"
    }
   },
   "outputs": [],
   "source": [
    "def plot_stamps(filename, pixel_max=3200, pixel_min=200, sourceId = None, return_alert = False):\n",
    "    # Can take a single sourceId or look at all of them for a range of pixel dimensions. Can also return the packet if \n",
    "    with open(filename,'rb') as f:\n",
    "        try:\n",
    "            freader = fastavro.reader(f)\n",
    "            for packet in freader:\n",
    "                image_data = packet['cutoutDifference']\n",
    "                if sourceId is not None:\n",
    "                    if packet['diaSource']['diaSourceId'] != sourceId:\n",
    "                        continue\n",
    "                    else:\n",
    "                        print(\"source_found\")\n",
    "                        if return_alert: \n",
    "                            return packet\n",
    "                with io.BytesIO(image_data) as bytesIO:\n",
    "                    cutoutFromBytes = CCDData.read(bytesIO, format=\"fits\")\n",
    "                bbox = cutoutFromBytes.shape\n",
    "                if bbox[0] >=pixel_min and bbox[1] >= pixel_min and bbox[0] <= pixel_max and bbox[1] <= pixel_max:\n",
    "                    plt.figure()\n",
    "                    source = apdbQuery.load_source(packet['diaSource']['diaSourceId'])\n",
    "                    dataId ={'detector':source['detector'],'visit': source['visit']}\n",
    "                    catalog = butler.get(f'goodSeeingDiff_diaSrc', dataId)\n",
    "                    record = catalog.find(packet['diaSource']['diaSourceId'])\n",
    "                    print('-----------------------------------------------')\n",
    "                    print(filename)\n",
    "                    print(\"DiaSource Id: \", packet['diaSource']['diaSourceId'])\n",
    "                    print(\"Bounding Box: \", bbox)\n",
    "                    print(\"Centroid: \", record.getX(), record.getY())\n",
    "                    print(\"Interpolated Flag: \", record['base_PixelFlags_flag_interpolated'])\n",
    "                    print(\"Saturated Flag: \", record['base_PixelFlags_flag_saturated'])\n",
    "                    print(\"Trailed Source Flag: \", record['ext_trailedSources_Naive_flag'])\n",
    "                    length_check = record['ext_trailedSources_Naive_length']\n",
    "                    print(\"Trailed Source Length more than limit: \", )\n",
    "                    print(\"Dipole Flux Flag: \", record['ip_diffim_PsfDipoleFlux_flag'])\n",
    "                    print(\"Dipole Flux Centroid: \", record['ip_diffim_NaiveDipoleCentroid_x'],record['ip_diffim_NaiveDipoleCentroid_y'])\n",
    "                    x_dipole_sep=record['ip_diffim_NaiveDipoleCentroid_pos_x']-record['ip_diffim_NaiveDipoleCentroid_neg_x']\n",
    "                    y_dipole_sep=record['ip_diffim_NaiveDipoleCentroid_pos_y']-record['ip_diffim_NaiveDipoleCentroid_neg_y']\n",
    "                    print(\"Seperation of x and y dipole coords: \", [x_dipole_sep,y_dipole_sep])\n",
    "                    plt.imshow(cutoutFromBytes, vmin=-1, vmax=30)\n",
    "        except:\n",
    "            out=1\n",
    "            # print(filename + \" not a data packet\")\n",
    "            #print(\"\")"
   ]
  },
  {
   "cell_type": "code",
   "execution_count": 10,
   "id": "4b6397bd-9246-4a59-989e-e42f981d7d49",
   "metadata": {
    "execution": {
     "iopub.execute_input": "2024-05-31T18:07:24.799217Z",
     "iopub.status.busy": "2024-05-31T18:07:24.799098Z",
     "iopub.status.idle": "2024-05-31T18:07:24.804014Z",
     "shell.execute_reply": "2024-05-31T18:07:24.803648Z",
     "shell.execute_reply.started": "2024-05-31T18:07:24.799205Z"
    }
   },
   "outputs": [],
   "source": [
    "def plot_footprint(detector, visit, source_id, dataSetType):\n",
    "    #Modified plot footprint code which works with the Ops3 rehearsal data\n",
    "    \n",
    "    calexp=butler.get('goodSeeingDiff_differenceExp', visit = 7024040400780, detector = 0)\n",
    "    catalog = butler.get(dataSetType, visit = visit, detector = detector)\n",
    "    record = catalog.find(source_id)\n",
    "    footprint = record.getFootprint()\n",
    "    print(footprint)\n",
    "    cutout_calexp = calexp.subset(footprint.getBBox())\n",
    "    print(\"Footprint bounding box: \", footprint.getBBox())\n",
    "    print(\"Centroid from record = \", record.getX(), record.getY())\n",
    "    m_and_v_plots(cutout_calexp, display_num=0, matplot=True, record=record)\n",
    "    print(record)\n"
   ]
  },
  {
   "cell_type": "markdown",
   "id": "e75d7725-2394-4aa6-b43d-e073c755a374",
   "metadata": {
    "execution": {
     "iopub.execute_input": "2024-05-24T00:07:08.830985Z",
     "iopub.status.busy": "2024-05-24T00:07:08.830755Z",
     "iopub.status.idle": "2024-05-24T00:07:08.833335Z",
     "shell.execute_reply": "2024-05-24T00:07:08.832949Z",
     "shell.execute_reply.started": "2024-05-24T00:07:08.830971Z"
    }
   },
   "source": [
    "## Load Data"
   ]
  },
  {
   "cell_type": "code",
   "execution_count": 11,
   "id": "b5cefbcc-2875-4cfe-9099-cdaef33d48d2",
   "metadata": {
    "execution": {
     "iopub.execute_input": "2024-05-31T18:07:25.847110Z",
     "iopub.status.busy": "2024-05-31T18:07:25.846912Z",
     "iopub.status.idle": "2024-05-31T18:07:26.452566Z",
     "shell.execute_reply": "2024-05-31T18:07:26.452123Z",
     "shell.execute_reply.started": "2024-05-31T18:07:25.847097Z"
    }
   },
   "outputs": [
    {
     "data": {
      "text/html": [
       "<pre style=\"margin: 0.1em;\n",
       "padding-left: 0.25em;\n",
       "border-left-style: solid;\n",
       "font-family: var(--jp-code-font-family);\n",
       "font-size: var(--jp-code-font-size);\n",
       "line-height: var(--jp-code-line-height);\n",
       "\"><span style=\"color: var(--jp-warn-color2)\">botocore.credentials</span> <span style=\"color: var(--jp-info-color0)\">INFO</span>: Found credentials in shared credentials file: /home/s/smart/.lsst/aws-credentials.ini</pre>"
      ],
      "text/plain": [
       "<IPython.core.display.HTML object>"
      ]
     },
     "metadata": {},
     "output_type": "display_data"
    }
   ],
   "source": [
    "repo = '/repo/embargo'\n",
    "collections = 'u/elhoward/DM-44138/LSSTComCamSim'\n",
    "instrument = 'LSSTComCamSim'\n",
    "\n",
    "butler = dafButler.Butler(repo, collections=collections, instrument=instrument)\n",
    "registry = butler.registry"
   ]
  },
  {
   "cell_type": "markdown",
   "id": "6cad42a3-cd2c-4fe2-b1a6-732de87820e0",
   "metadata": {},
   "source": [
    "Load up all trailed source tables produces. Many of them are empty."
   ]
  },
  {
   "cell_type": "code",
   "execution_count": 12,
   "id": "4035d5d1-72da-4caf-9518-9c0aa11da160",
   "metadata": {
    "execution": {
     "iopub.execute_input": "2024-05-31T18:07:27.723931Z",
     "iopub.status.busy": "2024-05-31T18:07:27.723464Z",
     "iopub.status.idle": "2024-05-31T18:07:27.838381Z",
     "shell.execute_reply": "2024-05-31T18:07:27.837959Z",
     "shell.execute_reply.started": "2024-05-31T18:07:27.723918Z"
    }
   },
   "outputs": [],
   "source": [
    "all_trailed_sources=butler.registry.queryDatasets('goodSeeingDiff_longTrailedSrc', collections=collections)"
   ]
  },
  {
   "cell_type": "code",
   "execution_count": 13,
   "id": "186e98eb-5ba7-4b1d-a2f8-8bcd847b3217",
   "metadata": {
    "execution": {
     "iopub.execute_input": "2024-05-31T18:07:28.353685Z",
     "iopub.status.busy": "2024-05-31T18:07:28.353511Z",
     "iopub.status.idle": "2024-05-31T18:07:29.279394Z",
     "shell.execute_reply": "2024-05-31T18:07:29.278966Z",
     "shell.execute_reply.started": "2024-05-31T18:07:28.353671Z"
    },
    "scrolled": true
   },
   "outputs": [
    {
     "data": {
      "text/plain": [
       "20785"
      ]
     },
     "execution_count": 13,
     "metadata": {},
     "output_type": "execute_result"
    }
   ],
   "source": [
    "len(list(all_trailed_sources))"
   ]
  },
  {
   "cell_type": "code",
   "execution_count": 14,
   "id": "ab269b82-33b5-46ec-923b-1d892b0d6771",
   "metadata": {
    "execution": {
     "iopub.execute_input": "2024-05-31T18:07:29.287424Z",
     "iopub.status.busy": "2024-05-31T18:07:29.287301Z",
     "iopub.status.idle": "2024-05-31T18:07:29.461166Z",
     "shell.execute_reply": "2024-05-31T18:07:29.460745Z",
     "shell.execute_reply.started": "2024-05-31T18:07:29.287413Z"
    }
   },
   "outputs": [],
   "source": [
    "metrics=butler.get('trailedDiaSrcCore_metrics', detector=0, visit=7024040200003)"
   ]
  },
  {
   "cell_type": "code",
   "execution_count": 15,
   "id": "da86b7ea-f20c-4101-9dbf-2bcca78f1c3d",
   "metadata": {
    "execution": {
     "iopub.execute_input": "2024-05-31T18:07:29.713512Z",
     "iopub.status.busy": "2024-05-31T18:07:29.713006Z",
     "iopub.status.idle": "2024-05-31T18:07:29.716276Z",
     "shell.execute_reply": "2024-05-31T18:07:29.715926Z",
     "shell.execute_reply.started": "2024-05-31T18:07:29.713495Z"
    }
   },
   "outputs": [
    {
     "data": {
      "text/plain": [
       "{'numDiaSourcesAll': [Measurement('numTrailedDiaSrc', <Quantity 3. ct>)]}"
      ]
     },
     "execution_count": 15,
     "metadata": {},
     "output_type": "execute_result"
    }
   ],
   "source": [
    "metrics"
   ]
  },
  {
   "cell_type": "code",
   "execution_count": 19,
   "id": "58769772-84c4-46a3-994e-841cb7f57e63",
   "metadata": {
    "execution": {
     "iopub.execute_input": "2024-05-31T18:07:45.601431Z",
     "iopub.status.busy": "2024-05-31T18:07:45.601160Z",
     "iopub.status.idle": "2024-05-31T18:07:45.777593Z",
     "shell.execute_reply": "2024-05-31T18:07:45.777164Z",
     "shell.execute_reply.started": "2024-05-31T18:07:45.601418Z"
    },
    "scrolled": true
   },
   "outputs": [
    {
     "name": "stdout",
     "output_type": "stream",
     "text": [
      "['nUnmergedDiaSources', 'nMergedDiaSources', 'nGoodPixels', 'nBadPixels', 'nPixelsDetectedPositive', 'nPixelsDetectedNegative', 'nBadPixelsDetectedPositive', 'nBadPixelsDetectedNegative', 'sciencePsfSize', 'templatePsfSize', 'scaleScienceVarianceFactor', 'scaleTemplateVarianceFactor', 'templateCoveragePercent']\n",
      "['nUnmergedDiaSources', 'nMergedDiaSources', 'nGoodPixels', 'nBadPixels', 'nPixelsDetectedPositive', 'nPixelsDetectedNegative', 'nBadPixelsDetectedPositive', 'nBadPixelsDetectedNegative', 'sciencePsfSize', 'templatePsfSize', 'scaleScienceVarianceFactor', 'scaleTemplateVarianceFactor', 'templateCoveragePercent']\n"
     ]
    }
   ],
   "source": [
    "for visit in range (7024040200000,7024040200003):\n",
    "    try:\n",
    "        bundle = butler.get('diffimMetadata_metrics', detector = 0, visit = visit)\n",
    "    except DatasetNotFoundError:\n",
    "        continue\n",
    "    else:\n",
    "        metricList = bundle.get('diffimMetadataMetric')\n",
    "    test = [item.metric_name.metric for item in metricList]\n",
    "    print(test)"
   ]
  },
  {
   "cell_type": "code",
   "execution_count": 20,
   "id": "b86e1374-bad9-4496-ae90-b0c9b0f051da",
   "metadata": {
    "execution": {
     "iopub.execute_input": "2024-05-31T18:07:51.264296Z",
     "iopub.status.busy": "2024-05-31T18:07:51.264000Z",
     "iopub.status.idle": "2024-05-31T18:07:51.267639Z",
     "shell.execute_reply": "2024-05-31T18:07:51.267282Z",
     "shell.execute_reply.started": "2024-05-31T18:07:51.264283Z"
    }
   },
   "outputs": [
    {
     "data": {
      "text/latex": [
       "3.00 $\\mathrm{ct}$"
      ],
      "text/plain": [
       "Measurement('numTrailedDiaSrc', <Quantity 3. ct>)"
      ]
     },
     "execution_count": 20,
     "metadata": {},
     "output_type": "execute_result"
    }
   ],
   "source": [
    "metrics.get('numDiaSourcesAll')[0]"
   ]
  },
  {
   "cell_type": "code",
   "execution_count": 21,
   "id": "f5461854-52e8-4cba-b72b-2f4adbff5436",
   "metadata": {
    "execution": {
     "iopub.execute_input": "2024-05-31T18:07:51.637333Z",
     "iopub.status.busy": "2024-05-31T18:07:51.637199Z",
     "iopub.status.idle": "2024-05-31T18:07:51.688543Z",
     "shell.execute_reply": "2024-05-31T18:07:51.688164Z",
     "shell.execute_reply.started": "2024-05-31T18:07:51.637321Z"
    }
   },
   "outputs": [],
   "source": [
    "one_metricbundle = butler.get('diffimMetadata_metrics', detector=0,visit=7024040200003)"
   ]
  },
  {
   "cell_type": "code",
   "execution_count": 22,
   "id": "78b14e0e-ea0f-44e6-9f38-f4fb55c63715",
   "metadata": {
    "execution": {
     "iopub.execute_input": "2024-05-31T18:07:52.127914Z",
     "iopub.status.busy": "2024-05-31T18:07:52.127542Z",
     "iopub.status.idle": "2024-05-31T18:29:06.509511Z",
     "shell.execute_reply": "2024-05-31T18:29:06.509042Z",
     "shell.execute_reply.started": "2024-05-31T18:07:52.127898Z"
    },
    "scrolled": true
   },
   "outputs": [],
   "source": [
    "count= 0\n",
    "for id in all_trailed_sources.dataIds:\n",
    "    metrics=butler.get('trailedDiaSrcCore_metrics', detector=id['detector'], visit=id['visit'])\n",
    "    count+=metrics.get('numDiaSourcesAll')[0].quantity.value"
   ]
  },
  {
   "cell_type": "markdown",
   "id": "8048487b-8f90-4407-9f6e-6c1a7e6481ed",
   "metadata": {},
   "source": [
    "Count all filtered out sources from the Ops Rehearsal 3 data. This includes all the genuine sources along with the mistakenly captured point sources"
   ]
  },
  {
   "cell_type": "code",
   "execution_count": 29,
   "id": "898701dc-7e17-44c0-afa6-80827b4411f3",
   "metadata": {
    "execution": {
     "iopub.execute_input": "2024-05-24T17:09:42.986671Z",
     "iopub.status.busy": "2024-05-24T17:09:42.986218Z",
     "iopub.status.idle": "2024-05-24T17:09:42.989354Z",
     "shell.execute_reply": "2024-05-24T17:09:42.988988Z",
     "shell.execute_reply.started": "2024-05-24T17:09:42.986657Z"
    }
   },
   "outputs": [
    {
     "data": {
      "text/plain": [
       "32398.0"
      ]
     },
     "execution_count": 29,
     "metadata": {},
     "output_type": "execute_result"
    }
   ],
   "source": [
    "count"
   ]
  },
  {
   "cell_type": "markdown",
   "id": "9c47866f-a25f-4c62-882d-7607a09afef1",
   "metadata": {},
   "source": [
    "Count all sources in the trailed source catalog for visits "
   ]
  },
  {
   "cell_type": "code",
   "execution_count": 30,
   "id": "69391a9a-a29f-4de3-934f-634f8433ad18",
   "metadata": {
    "execution": {
     "iopub.execute_input": "2024-05-24T18:32:58.508455Z",
     "iopub.status.busy": "2024-05-24T18:32:58.508020Z",
     "iopub.status.idle": "2024-05-24T18:48:50.034286Z",
     "shell.execute_reply": "2024-05-24T18:48:50.033886Z",
     "shell.execute_reply.started": "2024-05-24T18:32:58.508431Z"
    },
    "scrolled": true
   },
   "outputs": [
    {
     "name": "stdout",
     "output_type": "stream",
     "text": [
      "964.0\n"
     ]
    }
   ],
   "source": [
    "count= 0\n",
    "for visit in range (7024040200000,7024040300020):\n",
    "    try:\n",
    "        metrics = butler.get('trailedDiaSrcCore_metrics', detector = 0, visit = visit)\n",
    "    except DatasetNotFoundError:\n",
    "        continue\n",
    "    else:\n",
    "        count+=metrics.get('numDiaSourcesAll')[0].quantity.value\n",
    "print(count)"
   ]
  },
  {
   "cell_type": "markdown",
   "id": "53e081f2-b1f5-46d2-be02-86d63fd1ef67",
   "metadata": {},
   "source": [
    "For visit in range (7024040200000,7024040300020), we have 964 trailed sources filtered out. However, of those, only a few were actual trailed sources"
   ]
  },
  {
   "cell_type": "code",
   "execution_count": 26,
   "id": "08d0c903-9470-4d9d-be74-f952c1c6052b",
   "metadata": {
    "execution": {
     "iopub.execute_input": "2024-06-03T19:09:14.348416Z",
     "iopub.status.busy": "2024-06-03T19:09:14.348071Z",
     "iopub.status.idle": "2024-06-03T19:09:14.351638Z",
     "shell.execute_reply": "2024-06-03T19:09:14.351283Z",
     "shell.execute_reply.started": "2024-06-03T19:09:14.348403Z"
    }
   },
   "outputs": [
    {
     "data": {
      "text/plain": [
       "{'numDiaSourcesAll': [Measurement('numTrailedDiaSrc', <Quantity 5. ct>)]}"
      ]
     },
     "execution_count": 26,
     "metadata": {},
     "output_type": "execute_result"
    }
   ],
   "source": [
    "metrics"
   ]
  },
  {
   "cell_type": "code",
   "execution_count": 27,
   "id": "9edda7d0-2798-439b-8ab2-19433fce5f77",
   "metadata": {
    "execution": {
     "iopub.execute_input": "2024-06-03T19:09:14.943194Z",
     "iopub.status.busy": "2024-06-03T19:09:14.943023Z",
     "iopub.status.idle": "2024-06-03T19:09:14.954218Z",
     "shell.execute_reply": "2024-06-03T19:09:14.953836Z",
     "shell.execute_reply.started": "2024-06-03T19:09:14.943180Z"
    }
   },
   "outputs": [],
   "source": [
    "all_trailed_sources=butler.registry.queryDatasets('goodSeeingDiff_longTrailedSrc', collections=collections)"
   ]
  },
  {
   "cell_type": "code",
   "execution_count": 28,
   "id": "9494b546-f2e8-4880-b5fd-f1b52bc4c03a",
   "metadata": {
    "execution": {
     "iopub.execute_input": "2024-06-03T19:09:16.531117Z",
     "iopub.status.busy": "2024-06-03T19:09:16.530925Z",
     "iopub.status.idle": "2024-06-03T19:09:21.404775Z",
     "shell.execute_reply": "2024-06-03T19:09:21.404339Z",
     "shell.execute_reply.started": "2024-06-03T19:09:16.531103Z"
    },
    "scrolled": true
   },
   "outputs": [
    {
     "data": {
      "text/plain": [
       "[DatasetRef(DatasetType('goodSeeingDiff_longTrailedSrc', {band, instrument, day_obs, detector, physical_filter, visit}, DataFrame), {instrument: 'LSSTComCamSim', detector: 2, visit: 7024040300346, band: 'r', day_obs: 20240403, physical_filter: 'r_03'}, run='u/elhoward/DM-44138/LSSTComCamSim/20240510T175057Z', id=2bb65b4f-8e92-4d9a-86bd-cda370179b63),\n",
       " DatasetRef(DatasetType('goodSeeingDiff_longTrailedSrc', {band, instrument, day_obs, detector, physical_filter, visit}, DataFrame), {instrument: 'LSSTComCamSim', detector: 2, visit: 7024040300599, band: 'i', day_obs: 20240403, physical_filter: 'i_06'}, run='u/elhoward/DM-44138/LSSTComCamSim/20240510T175057Z', id=c3de9f1c-9b2e-41c0-9ab1-33151ab5f7c3),\n",
       " DatasetRef(DatasetType('goodSeeingDiff_longTrailedSrc', {band, instrument, day_obs, detector, physical_filter, visit}, DataFrame), {instrument: 'LSSTComCamSim', detector: 5, visit: 7024040300715, band: 'i', day_obs: 20240403, physical_filter: 'i_06'}, run='u/elhoward/DM-44138/LSSTComCamSim/20240510T175057Z', id=3886cba8-fde5-4ff7-afc5-77701f730628),\n",
       " DatasetRef(DatasetType('goodSeeingDiff_longTrailedSrc', {band, instrument, day_obs, detector, physical_filter, visit}, DataFrame), {instrument: 'LSSTComCamSim', detector: 2, visit: 7024040300396, band: 'g', day_obs: 20240403, physical_filter: 'g_01'}, run='u/elhoward/DM-44138/LSSTComCamSim/20240510T175057Z', id=b3c23b16-a3e3-4ec3-a12a-0c5791ed14ba),\n",
       " DatasetRef(DatasetType('goodSeeingDiff_longTrailedSrc', {band, instrument, day_obs, detector, physical_filter, visit}, DataFrame), {instrument: 'LSSTComCamSim', detector: 3, visit: 7024040300731, band: 'i', day_obs: 20240403, physical_filter: 'i_06'}, run='u/elhoward/DM-44138/LSSTComCamSim/20240510T175057Z', id=8cdc5091-2147-4cf1-bfab-3644c92e2375),\n",
       " DatasetRef(DatasetType('goodSeeingDiff_longTrailedSrc', {band, instrument, day_obs, detector, physical_filter, visit}, DataFrame), {instrument: 'LSSTComCamSim', detector: 5, visit: 7024040400150, band: 'g', day_obs: 20240404, physical_filter: 'g_01'}, run='u/elhoward/DM-44138/LSSTComCamSim/20240510T175057Z', id=b2819bc6-8394-43f9-95b0-79f56072e834),\n",
       " DatasetRef(DatasetType('goodSeeingDiff_longTrailedSrc', {band, instrument, day_obs, detector, physical_filter, visit}, DataFrame), {instrument: 'LSSTComCamSim', detector: 0, visit: 7024040400079, band: 'i', day_obs: 20240404, physical_filter: 'i_06'}, run='u/elhoward/DM-44138/LSSTComCamSim/20240510T175057Z', id=98aa57e8-cfea-4d1b-9531-8025d77918b2),\n",
       " DatasetRef(DatasetType('goodSeeingDiff_longTrailedSrc', {band, instrument, day_obs, detector, physical_filter, visit}, DataFrame), {instrument: 'LSSTComCamSim', detector: 0, visit: 7024040400107, band: 'r', day_obs: 20240404, physical_filter: 'r_03'}, run='u/elhoward/DM-44138/LSSTComCamSim/20240510T175057Z', id=53d15c35-914b-42cb-9297-77591b0d753e),\n",
       " DatasetRef(DatasetType('goodSeeingDiff_longTrailedSrc', {band, instrument, day_obs, detector, physical_filter, visit}, DataFrame), {instrument: 'LSSTComCamSim', detector: 2, visit: 7024040400545, band: 'r', day_obs: 20240404, physical_filter: 'r_03'}, run='u/elhoward/DM-44138/LSSTComCamSim/20240510T175057Z', id=1bcb12e6-53ef-4896-9b73-eee839c74677),\n",
       " DatasetRef(DatasetType('goodSeeingDiff_longTrailedSrc', {band, instrument, day_obs, detector, physical_filter, visit}, DataFrame), {instrument: 'LSSTComCamSim', detector: 1, visit: 7024040200177, band: 'i', day_obs: 20240402, physical_filter: 'i_06'}, run='u/elhoward/DM-44138/LSSTComCamSim/20240510T175057Z', id=a195fe9f-f05a-429f-94e5-6798181aeee6),\n",
       " DatasetRef(DatasetType('goodSeeingDiff_longTrailedSrc', {band, instrument, day_obs, detector, physical_filter, visit}, DataFrame), {instrument: 'LSSTComCamSim', detector: 0, visit: 7024040300422, band: 'r', day_obs: 20240403, physical_filter: 'r_03'}, run='u/elhoward/DM-44138/LSSTComCamSim/20240510T175057Z', id=2443b23f-2cf7-45af-8108-319d40b9d4db),\n",
       " DatasetRef(DatasetType('goodSeeingDiff_longTrailedSrc', {band, instrument, day_obs, detector, physical_filter, visit}, DataFrame), {instrument: 'LSSTComCamSim', detector: 2, visit: 7024040200474, band: 'i', day_obs: 20240402, physical_filter: 'i_06'}, run='u/elhoward/DM-44138/LSSTComCamSim/20240510T175057Z', id=98ee009e-3a21-4505-8971-6a0ea7955b44),\n",
       " DatasetRef(DatasetType('goodSeeingDiff_longTrailedSrc', {band, instrument, day_obs, detector, physical_filter, visit}, DataFrame), {instrument: 'LSSTComCamSim', detector: 5, visit: 7024040400616, band: 'i', day_obs: 20240404, physical_filter: 'i_06'}, run='u/elhoward/DM-44138/LSSTComCamSim/20240510T175057Z', id=87f8a56e-3585-470e-8d5c-a42a020b5275),\n",
       " DatasetRef(DatasetType('goodSeeingDiff_longTrailedSrc', {band, instrument, day_obs, detector, physical_filter, visit}, DataFrame), {instrument: 'LSSTComCamSim', detector: 2, visit: 7024040200405, band: 'i', day_obs: 20240402, physical_filter: 'i_06'}, run='u/elhoward/DM-44138/LSSTComCamSim/20240510T175057Z', id=328c9719-7563-4b2e-833e-d82fe15eb15a),\n",
       " DatasetRef(DatasetType('goodSeeingDiff_longTrailedSrc', {band, instrument, day_obs, detector, physical_filter, visit}, DataFrame), {instrument: 'LSSTComCamSim', detector: 1, visit: 7024040400626, band: 'g', day_obs: 20240404, physical_filter: 'g_01'}, run='u/elhoward/DM-44138/LSSTComCamSim/20240510T175057Z', id=a6c01d5e-1651-4a0b-9ab5-ca4639c53374),\n",
       " DatasetRef(DatasetType('goodSeeingDiff_longTrailedSrc', {band, instrument, day_obs, detector, physical_filter, visit}, DataFrame), {instrument: 'LSSTComCamSim', detector: 6, visit: 7024040300727, band: 'i', day_obs: 20240403, physical_filter: 'i_06'}, run='u/elhoward/DM-44138/LSSTComCamSim/20240510T175057Z', id=a3c4e87f-2427-4560-a4b1-ce028c1758f0),\n",
       " DatasetRef(DatasetType('goodSeeingDiff_longTrailedSrc', {band, instrument, day_obs, detector, physical_filter, visit}, DataFrame), {instrument: 'LSSTComCamSim', detector: 6, visit: 7024040400481, band: 'r', day_obs: 20240404, physical_filter: 'r_03'}, run='u/elhoward/DM-44138/LSSTComCamSim/20240510T175057Z', id=eafc6e36-f511-4f2e-b604-723a2d9c8a40),\n",
       " DatasetRef(DatasetType('goodSeeingDiff_longTrailedSrc', {band, instrument, day_obs, detector, physical_filter, visit}, DataFrame), {instrument: 'LSSTComCamSim', detector: 7, visit: 7024040300140, band: 'r', day_obs: 20240403, physical_filter: 'r_03'}, run='u/elhoward/DM-44138/LSSTComCamSim/20240510T175057Z', id=22d103dd-bc8e-4bb8-a171-c959e315ad6b),\n",
       " DatasetRef(DatasetType('goodSeeingDiff_longTrailedSrc', {band, instrument, day_obs, detector, physical_filter, visit}, DataFrame), {instrument: 'LSSTComCamSim', detector: 1, visit: 7024040300380, band: 'r', day_obs: 20240403, physical_filter: 'r_03'}, run='u/elhoward/DM-44138/LSSTComCamSim/20240510T175057Z', id=8d43b155-6b25-4f46-bf9c-2b8bc55e0e4e),\n",
       " DatasetRef(DatasetType('goodSeeingDiff_longTrailedSrc', {band, instrument, day_obs, detector, physical_filter, visit}, DataFrame), {instrument: 'LSSTComCamSim', detector: 2, visit: 7024040200602, band: 'i', day_obs: 20240402, physical_filter: 'i_06'}, run='u/elhoward/DM-44138/LSSTComCamSim/20240510T175057Z', id=5a0eb391-e3a0-4e22-a901-d01b01339838),\n",
       " DatasetRef(DatasetType('goodSeeingDiff_longTrailedSrc', {band, instrument, day_obs, detector, physical_filter, visit}, DataFrame), {instrument: 'LSSTComCamSim', detector: 7, visit: 7024040300341, band: 'r', day_obs: 20240403, physical_filter: 'r_03'}, run='u/elhoward/DM-44138/LSSTComCamSim/20240510T175057Z', id=e9990a28-ce3f-49b6-9db2-9c584f3e3216),\n",
       " DatasetRef(DatasetType('goodSeeingDiff_longTrailedSrc', {band, instrument, day_obs, detector, physical_filter, visit}, DataFrame), {instrument: 'LSSTComCamSim', detector: 3, visit: 7024040200378, band: 'r', day_obs: 20240402, physical_filter: 'r_03'}, run='u/elhoward/DM-44138/LSSTComCamSim/20240510T175057Z', id=d9c199e8-56c2-4f4a-85ae-ffe3b2548e1f),\n",
       " DatasetRef(DatasetType('goodSeeingDiff_longTrailedSrc', {band, instrument, day_obs, detector, physical_filter, visit}, DataFrame), {instrument: 'LSSTComCamSim', detector: 4, visit: 7024040300340, band: 'g', day_obs: 20240403, physical_filter: 'g_01'}, run='u/elhoward/DM-44138/LSSTComCamSim/20240510T175057Z', id=c90054d8-673b-42ca-9154-e0852fcc7430),\n",
       " DatasetRef(DatasetType('goodSeeingDiff_longTrailedSrc', {band, instrument, day_obs, detector, physical_filter, visit}, DataFrame), {instrument: 'LSSTComCamSim', detector: 2, visit: 7024040400302, band: 'r', day_obs: 20240404, physical_filter: 'r_03'}, run='u/elhoward/DM-44138/LSSTComCamSim/20240510T175057Z', id=b336bfd6-212a-464b-916a-51bfa93dcfcc),\n",
       " DatasetRef(DatasetType('goodSeeingDiff_longTrailedSrc', {band, instrument, day_obs, detector, physical_filter, visit}, DataFrame), {instrument: 'LSSTComCamSim', detector: 2, visit: 7024040300355, band: 'r', day_obs: 20240403, physical_filter: 'r_03'}, run='u/elhoward/DM-44138/LSSTComCamSim/20240510T175057Z', id=63bf48a2-d56d-4a89-8e1f-8509f76e2fc4),\n",
       " DatasetRef(DatasetType('goodSeeingDiff_longTrailedSrc', {band, instrument, day_obs, detector, physical_filter, visit}, DataFrame), {instrument: 'LSSTComCamSim', detector: 0, visit: 7024040200693, band: 'g', day_obs: 20240402, physical_filter: 'g_01'}, run='u/elhoward/DM-44138/LSSTComCamSim/20240510T175057Z', id=6a5fa677-b9ab-4e04-a8c6-f4de1dc811e2),\n",
       " DatasetRef(DatasetType('goodSeeingDiff_longTrailedSrc', {band, instrument, day_obs, detector, physical_filter, visit}, DataFrame), {instrument: 'LSSTComCamSim', detector: 0, visit: 7024040200173, band: 'i', day_obs: 20240402, physical_filter: 'i_06'}, run='u/elhoward/DM-44138/LSSTComCamSim/20240510T175057Z', id=6119c73c-44ff-4773-90ee-64cd54b14521),\n",
       " DatasetRef(DatasetType('goodSeeingDiff_longTrailedSrc', {band, instrument, day_obs, detector, physical_filter, visit}, DataFrame), {instrument: 'LSSTComCamSim', detector: 0, visit: 7024040300153, band: 'g', day_obs: 20240403, physical_filter: 'g_01'}, run='u/elhoward/DM-44138/LSSTComCamSim/20240510T175057Z', id=fc103944-da79-4c2a-a7e0-e3e38dd7271c),\n",
       " DatasetRef(DatasetType('goodSeeingDiff_longTrailedSrc', {band, instrument, day_obs, detector, physical_filter, visit}, DataFrame), {instrument: 'LSSTComCamSim', detector: 3, visit: 7024040300469, band: 'i', day_obs: 20240403, physical_filter: 'i_06'}, run='u/elhoward/DM-44138/LSSTComCamSim/20240510T175057Z', id=54eefb9b-377d-4dc3-b260-312fe65819b6),\n",
       " DatasetRef(DatasetType('goodSeeingDiff_longTrailedSrc', {band, instrument, day_obs, detector, physical_filter, visit}, DataFrame), {instrument: 'LSSTComCamSim', detector: 6, visit: 7024040200717, band: 'i', day_obs: 20240402, physical_filter: 'i_06'}, run='u/elhoward/DM-44138/LSSTComCamSim/20240510T175057Z', id=4f1e178c-2453-4668-8e17-caa73eeb4ffb),\n",
       " DatasetRef(DatasetType('goodSeeingDiff_longTrailedSrc', {band, instrument, day_obs, detector, physical_filter, visit}, DataFrame), {instrument: 'LSSTComCamSim', detector: 1, visit: 7024040400522, band: 'i', day_obs: 20240404, physical_filter: 'i_06'}, run='u/elhoward/DM-44138/LSSTComCamSim/20240510T175057Z', id=ab156690-50b5-4d4c-a768-5e83b78620a0),\n",
       " DatasetRef(DatasetType('goodSeeingDiff_longTrailedSrc', {band, instrument, day_obs, detector, physical_filter, visit}, DataFrame), {instrument: 'LSSTComCamSim', detector: 0, visit: 7024040200008, band: 'r', day_obs: 20240402, physical_filter: 'r_03'}, run='u/elhoward/DM-44138/LSSTComCamSim/20240510T175057Z', id=41b2882d-d7c5-455d-974e-e89e250e5863),\n",
       " DatasetRef(DatasetType('goodSeeingDiff_longTrailedSrc', {band, instrument, day_obs, detector, physical_filter, visit}, DataFrame), {instrument: 'LSSTComCamSim', detector: 2, visit: 7024040200341, band: 'i', day_obs: 20240402, physical_filter: 'i_06'}, run='u/elhoward/DM-44138/LSSTComCamSim/20240510T175057Z', id=2859b6d0-ea68-4fa0-8380-d1d3141d0cb5),\n",
       " DatasetRef(DatasetType('goodSeeingDiff_longTrailedSrc', {band, instrument, day_obs, detector, physical_filter, visit}, DataFrame), {instrument: 'LSSTComCamSim', detector: 7, visit: 7024040400101, band: 'r', day_obs: 20240404, physical_filter: 'r_03'}, run='u/elhoward/DM-44138/LSSTComCamSim/20240510T175057Z', id=6ed949f6-89e3-4a75-ab0c-7d076c5bb43e),\n",
       " DatasetRef(DatasetType('goodSeeingDiff_longTrailedSrc', {band, instrument, day_obs, detector, physical_filter, visit}, DataFrame), {instrument: 'LSSTComCamSim', detector: 2, visit: 7024040200708, band: 'i', day_obs: 20240402, physical_filter: 'i_06'}, run='u/elhoward/DM-44138/LSSTComCamSim/20240510T175057Z', id=19809d16-1c7d-43ea-8738-fc836f73e799),\n",
       " DatasetRef(DatasetType('goodSeeingDiff_longTrailedSrc', {band, instrument, day_obs, detector, physical_filter, visit}, DataFrame), {instrument: 'LSSTComCamSim', detector: 5, visit: 7024040400275, band: 'g', day_obs: 20240404, physical_filter: 'g_01'}, run='u/elhoward/DM-44138/LSSTComCamSim/20240510T175057Z', id=c3961196-59d2-42e8-8165-4541022e6bf1),\n",
       " DatasetRef(DatasetType('goodSeeingDiff_longTrailedSrc', {band, instrument, day_obs, detector, physical_filter, visit}, DataFrame), {instrument: 'LSSTComCamSim', detector: 3, visit: 7024040200350, band: 'i', day_obs: 20240402, physical_filter: 'i_06'}, run='u/elhoward/DM-44138/LSSTComCamSim/20240510T175057Z', id=b3bd5936-03c8-42c4-8ffb-2bc7c01772fc),\n",
       " DatasetRef(DatasetType('goodSeeingDiff_longTrailedSrc', {band, instrument, day_obs, detector, physical_filter, visit}, DataFrame), {instrument: 'LSSTComCamSim', detector: 0, visit: 7024040300303, band: 'i', day_obs: 20240403, physical_filter: 'i_06'}, run='u/elhoward/DM-44138/LSSTComCamSim/20240510T175057Z', id=f5bc57af-a52b-4af2-bdcb-f5111338b181),\n",
       " DatasetRef(DatasetType('goodSeeingDiff_longTrailedSrc', {band, instrument, day_obs, detector, physical_filter, visit}, DataFrame), {instrument: 'LSSTComCamSim', detector: 0, visit: 7024040300609, band: 'i', day_obs: 20240403, physical_filter: 'i_06'}, run='u/elhoward/DM-44138/LSSTComCamSim/20240510T175057Z', id=cad1279f-27bd-4dec-b7d0-556d863312c0),\n",
       " DatasetRef(DatasetType('goodSeeingDiff_longTrailedSrc', {band, instrument, day_obs, detector, physical_filter, visit}, DataFrame), {instrument: 'LSSTComCamSim', detector: 2, visit: 7024040400228, band: 'r', day_obs: 20240404, physical_filter: 'r_03'}, run='u/elhoward/DM-44138/LSSTComCamSim/20240510T175057Z', id=a2a08296-ab16-4926-b7c3-e66f45f041cb),\n",
       " DatasetRef(DatasetType('goodSeeingDiff_longTrailedSrc', {band, instrument, day_obs, detector, physical_filter, visit}, DataFrame), {instrument: 'LSSTComCamSim', detector: 0, visit: 7024040200345, band: 'i', day_obs: 20240402, physical_filter: 'i_06'}, run='u/elhoward/DM-44138/LSSTComCamSim/20240510T175057Z', id=c19591dd-ddc7-4de6-8a76-399983e69b5d),\n",
       " DatasetRef(DatasetType('goodSeeingDiff_longTrailedSrc', {band, instrument, day_obs, detector, physical_filter, visit}, DataFrame), {instrument: 'LSSTComCamSim', detector: 4, visit: 7024040300008, band: 'r', day_obs: 20240403, physical_filter: 'r_03'}, run='u/elhoward/DM-44138/LSSTComCamSim/20240510T175057Z', id=6f60f352-5f7a-4061-bb57-c1ba729c7f4c),\n",
       " DatasetRef(DatasetType('goodSeeingDiff_longTrailedSrc', {band, instrument, day_obs, detector, physical_filter, visit}, DataFrame), {instrument: 'LSSTComCamSim', detector: 4, visit: 7024040200269, band: 'g', day_obs: 20240402, physical_filter: 'g_01'}, run='u/elhoward/DM-44138/LSSTComCamSim/20240510T175057Z', id=20f271e3-f51f-4e01-b772-eb3ed82c10ce),\n",
       " DatasetRef(DatasetType('goodSeeingDiff_longTrailedSrc', {band, instrument, day_obs, detector, physical_filter, visit}, DataFrame), {instrument: 'LSSTComCamSim', detector: 8, visit: 7024040400733, band: 'i', day_obs: 20240404, physical_filter: 'i_06'}, run='u/elhoward/DM-44138/LSSTComCamSim/20240510T175057Z', id=d4a04c86-6f5a-4889-a93b-4aac8df3c328),\n",
       " DatasetRef(DatasetType('goodSeeingDiff_longTrailedSrc', {band, instrument, day_obs, detector, physical_filter, visit}, DataFrame), {instrument: 'LSSTComCamSim', detector: 6, visit: 7024040200574, band: 'g', day_obs: 20240402, physical_filter: 'g_01'}, run='u/elhoward/DM-44138/LSSTComCamSim/20240510T175057Z', id=1f772429-e7c7-4172-999c-d4c20c1877d2),\n",
       " DatasetRef(DatasetType('goodSeeingDiff_longTrailedSrc', {band, instrument, day_obs, detector, physical_filter, visit}, DataFrame), {instrument: 'LSSTComCamSim', detector: 1, visit: 7024040200163, band: 'i', day_obs: 20240402, physical_filter: 'i_06'}, run='u/elhoward/DM-44138/LSSTComCamSim/20240510T175057Z', id=f525e77b-6b44-4aa1-af36-88cc37e7ae0b),\n",
       " DatasetRef(DatasetType('goodSeeingDiff_longTrailedSrc', {band, instrument, day_obs, detector, physical_filter, visit}, DataFrame), {instrument: 'LSSTComCamSim', detector: 5, visit: 7024040300719, band: 'i', day_obs: 20240403, physical_filter: 'i_06'}, run='u/elhoward/DM-44138/LSSTComCamSim/20240510T175057Z', id=03300d49-9f1f-4ec0-9547-4f3f48ca90fa),\n",
       " DatasetRef(DatasetType('goodSeeingDiff_longTrailedSrc', {band, instrument, day_obs, detector, physical_filter, visit}, DataFrame), {instrument: 'LSSTComCamSim', detector: 1, visit: 7024040300142, band: 'g', day_obs: 20240403, physical_filter: 'g_01'}, run='u/elhoward/DM-44138/LSSTComCamSim/20240510T175057Z', id=e40b9d2c-7467-4749-849d-8c2330874a6c),\n",
       " DatasetRef(DatasetType('goodSeeingDiff_longTrailedSrc', {band, instrument, day_obs, detector, physical_filter, visit}, DataFrame), {instrument: 'LSSTComCamSim', detector: 3, visit: 7024040200203, band: 'g', day_obs: 20240402, physical_filter: 'g_01'}, run='u/elhoward/DM-44138/LSSTComCamSim/20240510T175057Z', id=ff4fcf99-4c45-40f8-8534-9a99bb1b79d2),\n",
       " DatasetRef(DatasetType('goodSeeingDiff_longTrailedSrc', {band, instrument, day_obs, detector, physical_filter, visit}, DataFrame), {instrument: 'LSSTComCamSim', detector: 7, visit: 7024040200399, band: 'g', day_obs: 20240402, physical_filter: 'g_01'}, run='u/elhoward/DM-44138/LSSTComCamSim/20240510T175057Z', id=fc7ff0b8-4158-4292-9780-2dcd3a317504),\n",
       " DatasetRef(DatasetType('goodSeeingDiff_longTrailedSrc', {band, instrument, day_obs, detector, physical_filter, visit}, DataFrame), {instrument: 'LSSTComCamSim', detector: 2, visit: 7024040300570, band: 'g', day_obs: 20240403, physical_filter: 'g_01'}, run='u/elhoward/DM-44138/LSSTComCamSim/20240510T175057Z', id=ada46d88-f4a3-43a7-9843-ce072481e5c9),\n",
       " DatasetRef(DatasetType('goodSeeingDiff_longTrailedSrc', {band, instrument, day_obs, detector, physical_filter, visit}, DataFrame), {instrument: 'LSSTComCamSim', detector: 2, visit: 7024040200024, band: 'g', day_obs: 20240402, physical_filter: 'g_01'}, run='u/elhoward/DM-44138/LSSTComCamSim/20240510T175057Z', id=ee1daaf8-56c1-4ec8-96a7-57b0601694c1),\n",
       " DatasetRef(DatasetType('goodSeeingDiff_longTrailedSrc', {band, instrument, day_obs, detector, physical_filter, visit}, DataFrame), {instrument: 'LSSTComCamSim', detector: 4, visit: 7024040400189, band: 'i', day_obs: 20240404, physical_filter: 'i_06'}, run='u/elhoward/DM-44138/LSSTComCamSim/20240510T175057Z', id=0f1e5a92-dcee-43bf-90ee-9eae03f5ebb6),\n",
       " DatasetRef(DatasetType('goodSeeingDiff_longTrailedSrc', {band, instrument, day_obs, detector, physical_filter, visit}, DataFrame), {instrument: 'LSSTComCamSim', detector: 0, visit: 7024040200737, band: 'i', day_obs: 20240402, physical_filter: 'i_06'}, run='u/elhoward/DM-44138/LSSTComCamSim/20240510T175057Z', id=530a64d4-1169-413d-add0-a7390597f612),\n",
       " DatasetRef(DatasetType('goodSeeingDiff_longTrailedSrc', {band, instrument, day_obs, detector, physical_filter, visit}, DataFrame), {instrument: 'LSSTComCamSim', detector: 0, visit: 7024040400541, band: 'r', day_obs: 20240404, physical_filter: 'r_03'}, run='u/elhoward/DM-44138/LSSTComCamSim/20240510T175057Z', id=0f730e7f-4ed8-432b-b2ff-037fa64366aa),\n",
       " DatasetRef(DatasetType('goodSeeingDiff_longTrailedSrc', {band, instrument, day_obs, detector, physical_filter, visit}, DataFrame), {instrument: 'LSSTComCamSim', detector: 5, visit: 7024040200473, band: 'i', day_obs: 20240402, physical_filter: 'i_06'}, run='u/elhoward/DM-44138/LSSTComCamSim/20240510T175057Z', id=7e628027-e111-42c7-9074-c36d3312ea7e),\n",
       " DatasetRef(DatasetType('goodSeeingDiff_longTrailedSrc', {band, instrument, day_obs, detector, physical_filter, visit}, DataFrame), {instrument: 'LSSTComCamSim', detector: 6, visit: 7024040200184, band: 'i', day_obs: 20240402, physical_filter: 'i_06'}, run='u/elhoward/DM-44138/LSSTComCamSim/20240510T175057Z', id=ef4465d0-88c4-46a0-88dd-e6c14f8e4cba),\n",
       " DatasetRef(DatasetType('goodSeeingDiff_longTrailedSrc', {band, instrument, day_obs, detector, physical_filter, visit}, DataFrame), {instrument: 'LSSTComCamSim', detector: 2, visit: 7024040200546, band: 'r', day_obs: 20240402, physical_filter: 'r_03'}, run='u/elhoward/DM-44138/LSSTComCamSim/20240510T175057Z', id=8b82875c-61c0-4062-bf88-9f01f796fedd),\n",
       " DatasetRef(DatasetType('goodSeeingDiff_longTrailedSrc', {band, instrument, day_obs, detector, physical_filter, visit}, DataFrame), {instrument: 'LSSTComCamSim', detector: 1, visit: 7024040300605, band: 'i', day_obs: 20240403, physical_filter: 'i_06'}, run='u/elhoward/DM-44138/LSSTComCamSim/20240510T175057Z', id=1ffaf98c-3ddd-4d81-99d8-8d46ebef1c83),\n",
       " DatasetRef(DatasetType('goodSeeingDiff_longTrailedSrc', {band, instrument, day_obs, detector, physical_filter, visit}, DataFrame), {instrument: 'LSSTComCamSim', detector: 4, visit: 7024040400083, band: 'g', day_obs: 20240404, physical_filter: 'g_01'}, run='u/elhoward/DM-44138/LSSTComCamSim/20240510T175057Z', id=3124674b-354b-4eee-b214-ecea64c213a1),\n",
       " DatasetRef(DatasetType('goodSeeingDiff_longTrailedSrc', {band, instrument, day_obs, detector, physical_filter, visit}, DataFrame), {instrument: 'LSSTComCamSim', detector: 5, visit: 7024040300107, band: 'r', day_obs: 20240403, physical_filter: 'r_03'}, run='u/elhoward/DM-44138/LSSTComCamSim/20240510T175057Z', id=8f231fd2-f088-479d-87a0-d9a475dec693),\n",
       " DatasetRef(DatasetType('goodSeeingDiff_longTrailedSrc', {band, instrument, day_obs, detector, physical_filter, visit}, DataFrame), {instrument: 'LSSTComCamSim', detector: 4, visit: 7024040300652, band: 'r', day_obs: 20240403, physical_filter: 'r_03'}, run='u/elhoward/DM-44138/LSSTComCamSim/20240510T175057Z', id=d6eaca06-ba6e-4ab3-b3f6-82eb38b9b352),\n",
       " DatasetRef(DatasetType('goodSeeingDiff_longTrailedSrc', {band, instrument, day_obs, detector, physical_filter, visit}, DataFrame), {instrument: 'LSSTComCamSim', detector: 1, visit: 7024040400338, band: 'g', day_obs: 20240404, physical_filter: 'g_01'}, run='u/elhoward/DM-44138/LSSTComCamSim/20240510T175057Z', id=18955187-1821-44f1-ab7d-212e5144e3bc),\n",
       " DatasetRef(DatasetType('goodSeeingDiff_longTrailedSrc', {band, instrument, day_obs, detector, physical_filter, visit}, DataFrame), {instrument: 'LSSTComCamSim', detector: 4, visit: 7024040200439, band: 'r', day_obs: 20240402, physical_filter: 'r_03'}, run='u/elhoward/DM-44138/LSSTComCamSim/20240510T175057Z', id=d337bda1-9fe3-4330-a984-4a1d85056690),\n",
       " DatasetRef(DatasetType('goodSeeingDiff_longTrailedSrc', {band, instrument, day_obs, detector, physical_filter, visit}, DataFrame), {instrument: 'LSSTComCamSim', detector: 5, visit: 7024040400218, band: 'g', day_obs: 20240404, physical_filter: 'g_01'}, run='u/elhoward/DM-44138/LSSTComCamSim/20240510T175057Z', id=f1857e71-f14a-4b0b-9112-27d86fce2d46),\n",
       " DatasetRef(DatasetType('goodSeeingDiff_longTrailedSrc', {band, instrument, day_obs, detector, physical_filter, visit}, DataFrame), {instrument: 'LSSTComCamSim', detector: 3, visit: 7024040200644, band: 'r', day_obs: 20240402, physical_filter: 'r_03'}, run='u/elhoward/DM-44138/LSSTComCamSim/20240510T175057Z', id=a7ecb3cc-b07e-447b-826a-9691abc8e27a),\n",
       " DatasetRef(DatasetType('goodSeeingDiff_longTrailedSrc', {band, instrument, day_obs, detector, physical_filter, visit}, DataFrame), {instrument: 'LSSTComCamSim', detector: 3, visit: 7024040400291, band: 'r', day_obs: 20240404, physical_filter: 'r_03'}, run='u/elhoward/DM-44138/LSSTComCamSim/20240510T175057Z', id=cce4817c-e5ea-4a01-82c0-823c7ca0b66d),\n",
       " DatasetRef(DatasetType('goodSeeingDiff_longTrailedSrc', {band, instrument, day_obs, detector, physical_filter, visit}, DataFrame), {instrument: 'LSSTComCamSim', detector: 3, visit: 7024040300675, band: 'r', day_obs: 20240403, physical_filter: 'r_03'}, run='u/elhoward/DM-44138/LSSTComCamSim/20240510T175057Z', id=69f96dae-46d0-44d7-b87b-12af25a6e19b),\n",
       " DatasetRef(DatasetType('goodSeeingDiff_longTrailedSrc', {band, instrument, day_obs, detector, physical_filter, visit}, DataFrame), {instrument: 'LSSTComCamSim', detector: 6, visit: 7024040200106, band: 'r', day_obs: 20240402, physical_filter: 'r_03'}, run='u/elhoward/DM-44138/LSSTComCamSim/20240510T175057Z', id=35c0da36-3a31-44c8-8f5a-7e44f7b7dc78),\n",
       " DatasetRef(DatasetType('goodSeeingDiff_longTrailedSrc', {band, instrument, day_obs, detector, physical_filter, visit}, DataFrame), {instrument: 'LSSTComCamSim', detector: 6, visit: 7024040400560, band: 'r', day_obs: 20240404, physical_filter: 'r_03'}, run='u/elhoward/DM-44138/LSSTComCamSim/20240510T175057Z', id=daa02ae1-db8d-40ca-8ad6-9163744b01e9),\n",
       " DatasetRef(DatasetType('goodSeeingDiff_longTrailedSrc', {band, instrument, day_obs, detector, physical_filter, visit}, DataFrame), {instrument: 'LSSTComCamSim', detector: 3, visit: 7024040300423, band: 'r', day_obs: 20240403, physical_filter: 'r_03'}, run='u/elhoward/DM-44138/LSSTComCamSim/20240510T175057Z', id=907f0d4a-096e-4803-ac3f-9b8697d2c4dd),\n",
       " DatasetRef(DatasetType('goodSeeingDiff_longTrailedSrc', {band, instrument, day_obs, detector, physical_filter, visit}, DataFrame), {instrument: 'LSSTComCamSim', detector: 8, visit: 7024040300726, band: 'i', day_obs: 20240403, physical_filter: 'i_06'}, run='u/elhoward/DM-44138/LSSTComCamSim/20240510T175057Z', id=e7c2b85b-1aeb-44c5-9392-0d2827945c37),\n",
       " DatasetRef(DatasetType('goodSeeingDiff_longTrailedSrc', {band, instrument, day_obs, detector, physical_filter, visit}, DataFrame), {instrument: 'LSSTComCamSim', detector: 3, visit: 7024040200442, band: 'g', day_obs: 20240402, physical_filter: 'g_01'}, run='u/elhoward/DM-44138/LSSTComCamSim/20240510T175057Z', id=7f4d139e-4fb2-4403-beb0-5f9a030d69b1),\n",
       " DatasetRef(DatasetType('goodSeeingDiff_longTrailedSrc', {band, instrument, day_obs, detector, physical_filter, visit}, DataFrame), {instrument: 'LSSTComCamSim', detector: 6, visit: 7024040200284, band: 'i', day_obs: 20240402, physical_filter: 'i_06'}, run='u/elhoward/DM-44138/LSSTComCamSim/20240510T175057Z', id=7928f8ab-430b-455b-a652-3211b5f65e99),\n",
       " DatasetRef(DatasetType('goodSeeingDiff_longTrailedSrc', {band, instrument, day_obs, detector, physical_filter, visit}, DataFrame), {instrument: 'LSSTComCamSim', detector: 6, visit: 7024040200252, band: 'r', day_obs: 20240402, physical_filter: 'r_03'}, run='u/elhoward/DM-44138/LSSTComCamSim/20240510T175057Z', id=bcc522c3-3fb3-4898-8d92-d66010de41bf),\n",
       " DatasetRef(DatasetType('goodSeeingDiff_longTrailedSrc', {band, instrument, day_obs, detector, physical_filter, visit}, DataFrame), {instrument: 'LSSTComCamSim', detector: 5, visit: 7024040400672, band: 'r', day_obs: 20240404, physical_filter: 'r_03'}, run='u/elhoward/DM-44138/LSSTComCamSim/20240510T175057Z', id=33b16962-79df-42fe-9822-ea77e8be6dc9),\n",
       " DatasetRef(DatasetType('goodSeeingDiff_longTrailedSrc', {band, instrument, day_obs, detector, physical_filter, visit}, DataFrame), {instrument: 'LSSTComCamSim', detector: 0, visit: 7024040400638, band: 'g', day_obs: 20240404, physical_filter: 'g_01'}, run='u/elhoward/DM-44138/LSSTComCamSim/20240510T175057Z', id=80a90381-4a0b-4e91-90a6-193c32ef905f),\n",
       " DatasetRef(DatasetType('goodSeeingDiff_longTrailedSrc', {band, instrument, day_obs, detector, physical_filter, visit}, DataFrame), {instrument: 'LSSTComCamSim', detector: 3, visit: 7024040300465, band: 'i', day_obs: 20240403, physical_filter: 'i_06'}, run='u/elhoward/DM-44138/LSSTComCamSim/20240510T175057Z', id=9a219e0f-e2ad-4d33-b3e9-9acf614a20a4),\n",
       " DatasetRef(DatasetType('goodSeeingDiff_longTrailedSrc', {band, instrument, day_obs, detector, physical_filter, visit}, DataFrame), {instrument: 'LSSTComCamSim', detector: 3, visit: 7024040400573, band: 'g', day_obs: 20240404, physical_filter: 'g_01'}, run='u/elhoward/DM-44138/LSSTComCamSim/20240510T175057Z', id=59acf9a8-c65d-4896-b142-43e36133c44a),\n",
       " DatasetRef(DatasetType('goodSeeingDiff_longTrailedSrc', {band, instrument, day_obs, detector, physical_filter, visit}, DataFrame), {instrument: 'LSSTComCamSim', detector: 6, visit: 7024040300779, band: 'r', day_obs: 20240403, physical_filter: 'r_03'}, run='u/elhoward/DM-44138/LSSTComCamSim/20240510T175057Z', id=4a684a53-7edb-431a-92e5-acf04e88ebd3),\n",
       " DatasetRef(DatasetType('goodSeeingDiff_longTrailedSrc', {band, instrument, day_obs, detector, physical_filter, visit}, DataFrame), {instrument: 'LSSTComCamSim', detector: 7, visit: 7024040300664, band: 'r', day_obs: 20240403, physical_filter: 'r_03'}, run='u/elhoward/DM-44138/LSSTComCamSim/20240510T175057Z', id=a501f08f-5a8a-402d-a36e-5c711b218179),\n",
       " DatasetRef(DatasetType('goodSeeingDiff_longTrailedSrc', {band, instrument, day_obs, detector, physical_filter, visit}, DataFrame), {instrument: 'LSSTComCamSim', detector: 1, visit: 7024040300308, band: 'i', day_obs: 20240403, physical_filter: 'i_06'}, run='u/elhoward/DM-44138/LSSTComCamSim/20240510T175057Z', id=cb71e8cf-7cdd-4d19-af6b-2c309dad99f8),\n",
       " DatasetRef(DatasetType('goodSeeingDiff_longTrailedSrc', {band, instrument, day_obs, detector, physical_filter, visit}, DataFrame), {instrument: 'LSSTComCamSim', detector: 1, visit: 7024040200034, band: 'g', day_obs: 20240402, physical_filter: 'g_01'}, run='u/elhoward/DM-44138/LSSTComCamSim/20240510T175057Z', id=8cd4ceec-3554-494f-ba2d-768f638dbca8),\n",
       " DatasetRef(DatasetType('goodSeeingDiff_longTrailedSrc', {band, instrument, day_obs, detector, physical_filter, visit}, DataFrame), {instrument: 'LSSTComCamSim', detector: 5, visit: 7024040400543, band: 'r', day_obs: 20240404, physical_filter: 'r_03'}, run='u/elhoward/DM-44138/LSSTComCamSim/20240510T175057Z', id=4a848c1a-1c6d-46a9-ae5c-b33edfa951aa),\n",
       " DatasetRef(DatasetType('goodSeeingDiff_longTrailedSrc', {band, instrument, day_obs, detector, physical_filter, visit}, DataFrame), {instrument: 'LSSTComCamSim', detector: 8, visit: 7024040400141, band: 'g', day_obs: 20240404, physical_filter: 'g_01'}, run='u/elhoward/DM-44138/LSSTComCamSim/20240510T175057Z', id=f05c50d6-bba1-4fe8-8055-ea4ac7d080ae),\n",
       " DatasetRef(DatasetType('goodSeeingDiff_longTrailedSrc', {band, instrument, day_obs, detector, physical_filter, visit}, DataFrame), {instrument: 'LSSTComCamSim', detector: 4, visit: 7024040400418, band: 'i', day_obs: 20240404, physical_filter: 'i_06'}, run='u/elhoward/DM-44138/LSSTComCamSim/20240510T175057Z', id=4dfc7382-c3c3-4c1f-ba6c-424f16de291d),\n",
       " DatasetRef(DatasetType('goodSeeingDiff_longTrailedSrc', {band, instrument, day_obs, detector, physical_filter, visit}, DataFrame), {instrument: 'LSSTComCamSim', detector: 5, visit: 7024040400378, band: 'r', day_obs: 20240404, physical_filter: 'r_03'}, run='u/elhoward/DM-44138/LSSTComCamSim/20240510T175057Z', id=a8fe44c6-d8de-41cc-804d-528cfed2f3af),\n",
       " DatasetRef(DatasetType('goodSeeingDiff_longTrailedSrc', {band, instrument, day_obs, detector, physical_filter, visit}, DataFrame), {instrument: 'LSSTComCamSim', detector: 6, visit: 7024040400254, band: 'i', day_obs: 20240404, physical_filter: 'i_06'}, run='u/elhoward/DM-44138/LSSTComCamSim/20240510T175057Z', id=a41d5c9d-f8ab-4d9c-a4bf-e27608c59872),\n",
       " DatasetRef(DatasetType('goodSeeingDiff_longTrailedSrc', {band, instrument, day_obs, detector, physical_filter, visit}, DataFrame), {instrument: 'LSSTComCamSim', detector: 3, visit: 7024040400300, band: 'r', day_obs: 20240404, physical_filter: 'r_03'}, run='u/elhoward/DM-44138/LSSTComCamSim/20240510T175057Z', id=465ea8a9-8d3a-4ef7-ab8b-3b142d3d913e),\n",
       " DatasetRef(DatasetType('goodSeeingDiff_longTrailedSrc', {band, instrument, day_obs, detector, physical_filter, visit}, DataFrame), {instrument: 'LSSTComCamSim', detector: 0, visit: 7024040300611, band: 'i', day_obs: 20240403, physical_filter: 'i_06'}, run='u/elhoward/DM-44138/LSSTComCamSim/20240510T175057Z', id=4e99a773-3e47-4128-b40d-8ff926f376fe),\n",
       " DatasetRef(DatasetType('goodSeeingDiff_longTrailedSrc', {band, instrument, day_obs, detector, physical_filter, visit}, DataFrame), {instrument: 'LSSTComCamSim', detector: 2, visit: 7024040400193, band: 'i', day_obs: 20240404, physical_filter: 'i_06'}, run='u/elhoward/DM-44138/LSSTComCamSim/20240510T175057Z', id=d404d450-f61f-436e-a344-f90c57c7ed54),\n",
       " DatasetRef(DatasetType('goodSeeingDiff_longTrailedSrc', {band, instrument, day_obs, detector, physical_filter, visit}, DataFrame), {instrument: 'LSSTComCamSim', detector: 8, visit: 7024040400210, band: 'g', day_obs: 20240404, physical_filter: 'g_01'}, run='u/elhoward/DM-44138/LSSTComCamSim/20240510T175057Z', id=22f98b6d-56ea-4bcb-af89-2dc5814f21c9),\n",
       " DatasetRef(DatasetType('goodSeeingDiff_longTrailedSrc', {band, instrument, day_obs, detector, physical_filter, visit}, DataFrame), {instrument: 'LSSTComCamSim', detector: 6, visit: 7024040400422, band: 'i', day_obs: 20240404, physical_filter: 'i_06'}, run='u/elhoward/DM-44138/LSSTComCamSim/20240510T175057Z', id=2b10f99f-71fb-49a5-96e7-d8140810384b),\n",
       " DatasetRef(DatasetType('goodSeeingDiff_longTrailedSrc', {band, instrument, day_obs, detector, physical_filter, visit}, DataFrame), {instrument: 'LSSTComCamSim', detector: 7, visit: 7024040200566, band: 'g', day_obs: 20240402, physical_filter: 'g_01'}, run='u/elhoward/DM-44138/LSSTComCamSim/20240510T175057Z', id=586e0a95-984d-45db-a9cb-44300e58599b),\n",
       " DatasetRef(DatasetType('goodSeeingDiff_longTrailedSrc', {band, instrument, day_obs, detector, physical_filter, visit}, DataFrame), {instrument: 'LSSTComCamSim', detector: 3, visit: 7024040200571, band: 'g', day_obs: 20240402, physical_filter: 'g_01'}, run='u/elhoward/DM-44138/LSSTComCamSim/20240510T175057Z', id=429ac98b-2479-4e4a-bee0-143d41d6174a),\n",
       " DatasetRef(DatasetType('goodSeeingDiff_longTrailedSrc', {band, instrument, day_obs, detector, physical_filter, visit}, DataFrame), {instrument: 'LSSTComCamSim', detector: 4, visit: 7024040400484, band: 'r', day_obs: 20240404, physical_filter: 'r_03'}, run='u/elhoward/DM-44138/LSSTComCamSim/20240510T175057Z', id=20767348-0144-4aa7-885a-5bdc1f7e34ac),\n",
       " DatasetRef(DatasetType('goodSeeingDiff_longTrailedSrc', {band, instrument, day_obs, detector, physical_filter, visit}, DataFrame), {instrument: 'LSSTComCamSim', detector: 1, visit: 7024040300751, band: 'g', day_obs: 20240403, physical_filter: 'g_01'}, run='u/elhoward/DM-44138/LSSTComCamSim/20240510T175057Z', id=1a5d7fce-c489-491f-9ba2-254e19353e05),\n",
       " DatasetRef(DatasetType('goodSeeingDiff_longTrailedSrc', {band, instrument, day_obs, detector, physical_filter, visit}, DataFrame), {instrument: 'LSSTComCamSim', detector: 4, visit: 7024040300609, band: 'i', day_obs: 20240403, physical_filter: 'i_06'}, run='u/elhoward/DM-44138/LSSTComCamSim/20240510T175057Z', id=ea8fea77-aca1-4e45-8ba9-28955d159800),\n",
       " DatasetRef(DatasetType('goodSeeingDiff_longTrailedSrc', {band, instrument, day_obs, detector, physical_filter, visit}, DataFrame), {instrument: 'LSSTComCamSim', detector: 6, visit: 7024040400019, band: 'r', day_obs: 20240404, physical_filter: 'r_03'}, run='u/elhoward/DM-44138/LSSTComCamSim/20240510T175057Z', id=18b6deb9-c7a7-49ab-9036-3943aec7b53d),\n",
       " DatasetRef(DatasetType('goodSeeingDiff_longTrailedSrc', {band, instrument, day_obs, detector, physical_filter, visit}, DataFrame), {instrument: 'LSSTComCamSim', detector: 4, visit: 7024040200024, band: 'g', day_obs: 20240402, physical_filter: 'g_01'}, run='u/elhoward/DM-44138/LSSTComCamSim/20240510T175057Z', id=11d96da5-2a27-4fe2-92aa-c3c002e9037f),\n",
       " DatasetRef(DatasetType('goodSeeingDiff_longTrailedSrc', {band, instrument, day_obs, detector, physical_filter, visit}, DataFrame), {instrument: 'LSSTComCamSim', detector: 8, visit: 7024040400711, band: 'i', day_obs: 20240404, physical_filter: 'i_06'}, run='u/elhoward/DM-44138/LSSTComCamSim/20240510T175057Z', id=2ec9546e-6bb6-46f0-b407-9e99e6e2529a),\n",
       " DatasetRef(DatasetType('goodSeeingDiff_longTrailedSrc', {band, instrument, day_obs, detector, physical_filter, visit}, DataFrame), {instrument: 'LSSTComCamSim', detector: 4, visit: 7024040200138, band: 'r', day_obs: 20240402, physical_filter: 'r_03'}, run='u/elhoward/DM-44138/LSSTComCamSim/20240510T175057Z', id=4d0625e5-be37-48f4-80ab-a81680ba3a6d),\n",
       " DatasetRef(DatasetType('goodSeeingDiff_longTrailedSrc', {band, instrument, day_obs, detector, physical_filter, visit}, DataFrame), {instrument: 'LSSTComCamSim', detector: 8, visit: 7024040300616, band: 'i', day_obs: 20240403, physical_filter: 'i_06'}, run='u/elhoward/DM-44138/LSSTComCamSim/20240510T175057Z', id=6c941291-55cd-45bf-8b47-3268044754aa),\n",
       " DatasetRef(DatasetType('goodSeeingDiff_longTrailedSrc', {band, instrument, day_obs, detector, physical_filter, visit}, DataFrame), {instrument: 'LSSTComCamSim', detector: 3, visit: 7024040400544, band: 'r', day_obs: 20240404, physical_filter: 'r_03'}, run='u/elhoward/DM-44138/LSSTComCamSim/20240510T175057Z', id=66b521f6-d8d4-4815-8c07-9a9d4a62c4f1),\n",
       " DatasetRef(DatasetType('goodSeeingDiff_longTrailedSrc', {band, instrument, day_obs, detector, physical_filter, visit}, DataFrame), {instrument: 'LSSTComCamSim', detector: 4, visit: 7024040300590, band: 'i', day_obs: 20240403, physical_filter: 'i_06'}, run='u/elhoward/DM-44138/LSSTComCamSim/20240510T175057Z', id=18f18814-41b3-4afd-a24b-9586f0feae7a),\n",
       " DatasetRef(DatasetType('goodSeeingDiff_longTrailedSrc', {band, instrument, day_obs, detector, physical_filter, visit}, DataFrame), {instrument: 'LSSTComCamSim', detector: 2, visit: 7024040200693, band: 'g', day_obs: 20240402, physical_filter: 'g_01'}, run='u/elhoward/DM-44138/LSSTComCamSim/20240510T175057Z', id=dee2700c-1599-4b61-963c-f3e8b196b000),\n",
       " DatasetRef(DatasetType('goodSeeingDiff_longTrailedSrc', {band, instrument, day_obs, detector, physical_filter, visit}, DataFrame), {instrument: 'LSSTComCamSim', detector: 2, visit: 7024040400713, band: 'i', day_obs: 20240404, physical_filter: 'i_06'}, run='u/elhoward/DM-44138/LSSTComCamSim/20240510T175057Z', id=e0448f5c-b19e-46ef-858f-ee7c78674b45),\n",
       " DatasetRef(DatasetType('goodSeeingDiff_longTrailedSrc', {band, instrument, day_obs, detector, physical_filter, visit}, DataFrame), {instrument: 'LSSTComCamSim', detector: 6, visit: 7024040300141, band: 'g', day_obs: 20240403, physical_filter: 'g_01'}, run='u/elhoward/DM-44138/LSSTComCamSim/20240510T175057Z', id=321db8a2-6b21-4a9c-b9af-43cf6ec23241),\n",
       " DatasetRef(DatasetType('goodSeeingDiff_longTrailedSrc', {band, instrument, day_obs, detector, physical_filter, visit}, DataFrame), {instrument: 'LSSTComCamSim', detector: 2, visit: 7024040200452, band: 'g', day_obs: 20240402, physical_filter: 'g_01'}, run='u/elhoward/DM-44138/LSSTComCamSim/20240510T175057Z', id=f1d3c9d8-11df-4c8f-9776-91857458a12a),\n",
       " DatasetRef(DatasetType('goodSeeingDiff_longTrailedSrc', {band, instrument, day_obs, detector, physical_filter, visit}, DataFrame), {instrument: 'LSSTComCamSim', detector: 7, visit: 7024040300629, band: 'g', day_obs: 20240403, physical_filter: 'g_01'}, run='u/elhoward/DM-44138/LSSTComCamSim/20240510T175057Z', id=74674867-af17-4ffa-81eb-fc40e6af8261),\n",
       " DatasetRef(DatasetType('goodSeeingDiff_longTrailedSrc', {band, instrument, day_obs, detector, physical_filter, visit}, DataFrame), {instrument: 'LSSTComCamSim', detector: 5, visit: 7024040400269, band: 'g', day_obs: 20240404, physical_filter: 'g_01'}, run='u/elhoward/DM-44138/LSSTComCamSim/20240510T175057Z', id=77d36b81-1174-4608-af64-1153b39358d7),\n",
       " DatasetRef(DatasetType('goodSeeingDiff_longTrailedSrc', {band, instrument, day_obs, detector, physical_filter, visit}, DataFrame), {instrument: 'LSSTComCamSim', detector: 2, visit: 7024040200267, band: 'g', day_obs: 20240402, physical_filter: 'g_01'}, run='u/elhoward/DM-44138/LSSTComCamSim/20240510T175057Z', id=38dc2636-94c3-4ca0-98f0-b3a6f68f24da),\n",
       " DatasetRef(DatasetType('goodSeeingDiff_longTrailedSrc', {band, instrument, day_obs, detector, physical_filter, visit}, DataFrame), {instrument: 'LSSTComCamSim', detector: 3, visit: 7024040300770, band: 'r', day_obs: 20240403, physical_filter: 'r_03'}, run='u/elhoward/DM-44138/LSSTComCamSim/20240510T175057Z', id=045b3df2-dbe1-4dde-9de3-5e0e295316a8),\n",
       " DatasetRef(DatasetType('goodSeeingDiff_longTrailedSrc', {band, instrument, day_obs, detector, physical_filter, visit}, DataFrame), {instrument: 'LSSTComCamSim', detector: 1, visit: 7024040300546, band: 'r', day_obs: 20240403, physical_filter: 'r_03'}, run='u/elhoward/DM-44138/LSSTComCamSim/20240510T175057Z', id=39498277-8695-4b89-b11a-536f93da2e19),\n",
       " DatasetRef(DatasetType('goodSeeingDiff_longTrailedSrc', {band, instrument, day_obs, detector, physical_filter, visit}, DataFrame), {instrument: 'LSSTComCamSim', detector: 5, visit: 7024040200564, band: 'g', day_obs: 20240402, physical_filter: 'g_01'}, run='u/elhoward/DM-44138/LSSTComCamSim/20240510T175057Z', id=63da0b8a-3694-4b0b-92e3-c3906ca2affd),\n",
       " DatasetRef(DatasetType('goodSeeingDiff_longTrailedSrc', {band, instrument, day_obs, detector, physical_filter, visit}, DataFrame), {instrument: 'LSSTComCamSim', detector: 3, visit: 7024040300253, band: 'i', day_obs: 20240403, physical_filter: 'i_06'}, run='u/elhoward/DM-44138/LSSTComCamSim/20240510T175057Z', id=669c29d5-77b6-4703-af47-ccca65b04ef6),\n",
       " DatasetRef(DatasetType('goodSeeingDiff_longTrailedSrc', {band, instrument, day_obs, detector, physical_filter, visit}, DataFrame), {instrument: 'LSSTComCamSim', detector: 3, visit: 7024040300460, band: 'g', day_obs: 20240403, physical_filter: 'g_01'}, run='u/elhoward/DM-44138/LSSTComCamSim/20240510T175057Z', id=2cf5604d-2c0f-4ac9-94e6-5d22faf23051),\n",
       " DatasetRef(DatasetType('goodSeeingDiff_longTrailedSrc', {band, instrument, day_obs, detector, physical_filter, visit}, DataFrame), {instrument: 'LSSTComCamSim', detector: 3, visit: 7024040200262, band: 'g', day_obs: 20240402, physical_filter: 'g_01'}, run='u/elhoward/DM-44138/LSSTComCamSim/20240510T175057Z', id=01fce297-363f-4b9e-9a38-50204adc2326),\n",
       " DatasetRef(DatasetType('goodSeeingDiff_longTrailedSrc', {band, instrument, day_obs, detector, physical_filter, visit}, DataFrame), {instrument: 'LSSTComCamSim', detector: 0, visit: 7024040400040, band: 'g', day_obs: 20240404, physical_filter: 'g_01'}, run='u/elhoward/DM-44138/LSSTComCamSim/20240510T175057Z', id=87217b0e-d946-4ddb-9ca5-aafb81429a03),\n",
       " DatasetRef(DatasetType('goodSeeingDiff_longTrailedSrc', {band, instrument, day_obs, detector, physical_filter, visit}, DataFrame), {instrument: 'LSSTComCamSim', detector: 2, visit: 7024040200239, band: 'r', day_obs: 20240402, physical_filter: 'r_03'}, run='u/elhoward/DM-44138/LSSTComCamSim/20240510T175057Z', id=d031d575-172f-479e-b692-63e3d3dac501),\n",
       " DatasetRef(DatasetType('goodSeeingDiff_longTrailedSrc', {band, instrument, day_obs, detector, physical_filter, visit}, DataFrame), {instrument: 'LSSTComCamSim', detector: 4, visit: 7024040200238, band: 'r', day_obs: 20240402, physical_filter: 'r_03'}, run='u/elhoward/DM-44138/LSSTComCamSim/20240510T175057Z', id=a7d85121-707d-4f13-97d3-96e38cb8876b),\n",
       " DatasetRef(DatasetType('goodSeeingDiff_longTrailedSrc', {band, instrument, day_obs, detector, physical_filter, visit}, DataFrame), {instrument: 'LSSTComCamSim', detector: 3, visit: 7024040200702, band: 'i', day_obs: 20240402, physical_filter: 'i_06'}, run='u/elhoward/DM-44138/LSSTComCamSim/20240510T175057Z', id=a6c2376e-2223-4576-94dd-b03cc0ae5aef),\n",
       " DatasetRef(DatasetType('goodSeeingDiff_longTrailedSrc', {band, instrument, day_obs, detector, physical_filter, visit}, DataFrame), {instrument: 'LSSTComCamSim', detector: 7, visit: 7024040300544, band: 'r', day_obs: 20240403, physical_filter: 'r_03'}, run='u/elhoward/DM-44138/LSSTComCamSim/20240510T175057Z', id=88df7f77-c20f-4ab5-b3de-ddcc69ebb5b5),\n",
       " DatasetRef(DatasetType('goodSeeingDiff_longTrailedSrc', {band, instrument, day_obs, detector, physical_filter, visit}, DataFrame), {instrument: 'LSSTComCamSim', detector: 3, visit: 7024040200445, band: 'g', day_obs: 20240402, physical_filter: 'g_01'}, run='u/elhoward/DM-44138/LSSTComCamSim/20240510T175057Z', id=acdabb68-d47b-45a7-a3ec-a3cd45ad596b),\n",
       " DatasetRef(DatasetType('goodSeeingDiff_longTrailedSrc', {band, instrument, day_obs, detector, physical_filter, visit}, DataFrame), {instrument: 'LSSTComCamSim', detector: 1, visit: 7024040200082, band: 'g', day_obs: 20240402, physical_filter: 'g_01'}, run='u/elhoward/DM-44138/LSSTComCamSim/20240510T175057Z', id=13c29aae-1c9a-4571-8a83-d897894addfc),\n",
       " DatasetRef(DatasetType('goodSeeingDiff_longTrailedSrc', {band, instrument, day_obs, detector, physical_filter, visit}, DataFrame), {instrument: 'LSSTComCamSim', detector: 4, visit: 7024040400035, band: 'g', day_obs: 20240404, physical_filter: 'g_01'}, run='u/elhoward/DM-44138/LSSTComCamSim/20240510T175057Z', id=061b8304-d950-4921-87e2-ce16c716b991),\n",
       " DatasetRef(DatasetType('goodSeeingDiff_longTrailedSrc', {band, instrument, day_obs, detector, physical_filter, visit}, DataFrame), {instrument: 'LSSTComCamSim', detector: 0, visit: 7024040300748, band: 'g', day_obs: 20240403, physical_filter: 'g_01'}, run='u/elhoward/DM-44138/LSSTComCamSim/20240510T175057Z', id=a406feeb-c382-41d9-92e9-1c252147f12d),\n",
       " DatasetRef(DatasetType('goodSeeingDiff_longTrailedSrc', {band, instrument, day_obs, detector, physical_filter, visit}, DataFrame), {instrument: 'LSSTComCamSim', detector: 5, visit: 7024040300072, band: 'i', day_obs: 20240403, physical_filter: 'i_06'}, run='u/elhoward/DM-44138/LSSTComCamSim/20240510T175057Z', id=b16dddf1-7131-4131-bd9a-21d6d15d7cf8),\n",
       " DatasetRef(DatasetType('goodSeeingDiff_longTrailedSrc', {band, instrument, day_obs, detector, physical_filter, visit}, DataFrame), {instrument: 'LSSTComCamSim', detector: 1, visit: 7024040400248, band: 'i', day_obs: 20240404, physical_filter: 'i_06'}, run='u/elhoward/DM-44138/LSSTComCamSim/20240510T175057Z', id=6301a9ac-6241-4820-9741-e1d6482ac667),\n",
       " DatasetRef(DatasetType('goodSeeingDiff_longTrailedSrc', {band, instrument, day_obs, detector, physical_filter, visit}, DataFrame), {instrument: 'LSSTComCamSim', detector: 6, visit: 7024040400403, band: 'i', day_obs: 20240404, physical_filter: 'i_06'}, run='u/elhoward/DM-44138/LSSTComCamSim/20240510T175057Z', id=13ede594-16d9-488b-b0ac-9926d5aebddc),\n",
       " DatasetRef(DatasetType('goodSeeingDiff_longTrailedSrc', {band, instrument, day_obs, detector, physical_filter, visit}, DataFrame), {instrument: 'LSSTComCamSim', detector: 3, visit: 7024040200613, band: 'i', day_obs: 20240402, physical_filter: 'i_06'}, run='u/elhoward/DM-44138/LSSTComCamSim/20240510T175057Z', id=bd57078a-198b-4dc7-9b49-a7f553761658),\n",
       " DatasetRef(DatasetType('goodSeeingDiff_longTrailedSrc', {band, instrument, day_obs, detector, physical_filter, visit}, DataFrame), {instrument: 'LSSTComCamSim', detector: 4, visit: 7024040400610, band: 'i', day_obs: 20240404, physical_filter: 'i_06'}, run='u/elhoward/DM-44138/LSSTComCamSim/20240510T175057Z', id=38af5c1c-9e19-422f-b983-71c783c4efb9),\n",
       " DatasetRef(DatasetType('goodSeeingDiff_longTrailedSrc', {band, instrument, day_obs, detector, physical_filter, visit}, DataFrame), {instrument: 'LSSTComCamSim', detector: 4, visit: 7024040300564, band: 'g', day_obs: 20240403, physical_filter: 'g_01'}, run='u/elhoward/DM-44138/LSSTComCamSim/20240510T175057Z', id=10b6c5f4-e46a-4ba1-ad3b-1f613ec02385),\n",
       " DatasetRef(DatasetType('goodSeeingDiff_longTrailedSrc', {band, instrument, day_obs, detector, physical_filter, visit}, DataFrame), {instrument: 'LSSTComCamSim', detector: 2, visit: 7024040300518, band: 'g', day_obs: 20240403, physical_filter: 'g_01'}, run='u/elhoward/DM-44138/LSSTComCamSim/20240510T175057Z', id=176f4e11-760c-41c2-8774-0453ec867227),\n",
       " DatasetRef(DatasetType('goodSeeingDiff_longTrailedSrc', {band, instrument, day_obs, detector, physical_filter, visit}, DataFrame), {instrument: 'LSSTComCamSim', detector: 0, visit: 7024040200407, band: 'i', day_obs: 20240402, physical_filter: 'i_06'}, run='u/elhoward/DM-44138/LSSTComCamSim/20240510T175057Z', id=11c8b420-48b0-4f2b-b8cd-4372095f0de4),\n",
       " DatasetRef(DatasetType('goodSeeingDiff_longTrailedSrc', {band, instrument, day_obs, detector, physical_filter, visit}, DataFrame), {instrument: 'LSSTComCamSim', detector: 8, visit: 7024040400306, band: 'r', day_obs: 20240404, physical_filter: 'r_03'}, run='u/elhoward/DM-44138/LSSTComCamSim/20240510T175057Z', id=013bde38-4b34-4287-9529-4ffba80372c5),\n",
       " DatasetRef(DatasetType('goodSeeingDiff_longTrailedSrc', {band, instrument, day_obs, detector, physical_filter, visit}, DataFrame), {instrument: 'LSSTComCamSim', detector: 8, visit: 7024040300660, band: 'r', day_obs: 20240403, physical_filter: 'r_03'}, run='u/elhoward/DM-44138/LSSTComCamSim/20240510T175057Z', id=e66ebdc9-8bcb-4be9-99c6-5c57ce7d2c3d),\n",
       " DatasetRef(DatasetType('goodSeeingDiff_longTrailedSrc', {band, instrument, day_obs, detector, physical_filter, visit}, DataFrame), {instrument: 'LSSTComCamSim', detector: 3, visit: 7024040300138, band: 'r', day_obs: 20240403, physical_filter: 'r_03'}, run='u/elhoward/DM-44138/LSSTComCamSim/20240510T175057Z', id=9d3a7925-d8dc-4a72-90cb-a4e39d90b812),\n",
       " DatasetRef(DatasetType('goodSeeingDiff_longTrailedSrc', {band, instrument, day_obs, detector, physical_filter, visit}, DataFrame), {instrument: 'LSSTComCamSim', detector: 8, visit: 7024040300730, band: 'i', day_obs: 20240403, physical_filter: 'i_06'}, run='u/elhoward/DM-44138/LSSTComCamSim/20240510T175057Z', id=4ff997d2-700b-4ccb-bad4-0e797cdfa5ab),\n",
       " DatasetRef(DatasetType('goodSeeingDiff_longTrailedSrc', {band, instrument, day_obs, detector, physical_filter, visit}, DataFrame), {instrument: 'LSSTComCamSim', detector: 6, visit: 7024040300036, band: 'g', day_obs: 20240403, physical_filter: 'g_01'}, run='u/elhoward/DM-44138/LSSTComCamSim/20240510T175057Z', id=f9931f5f-742e-4c4c-b266-1b5619ae2961),\n",
       " DatasetRef(DatasetType('goodSeeingDiff_longTrailedSrc', {band, instrument, day_obs, detector, physical_filter, visit}, DataFrame), {instrument: 'LSSTComCamSim', detector: 8, visit: 7024040200457, band: 'g', day_obs: 20240402, physical_filter: 'g_01'}, run='u/elhoward/DM-44138/LSSTComCamSim/20240510T175057Z', id=eab578a0-63f7-4ac3-9383-3a5b2d9835cd),\n",
       " DatasetRef(DatasetType('goodSeeingDiff_longTrailedSrc', {band, instrument, day_obs, detector, physical_filter, visit}, DataFrame), {instrument: 'LSSTComCamSim', detector: 2, visit: 7024040400375, band: 'r', day_obs: 20240404, physical_filter: 'r_03'}, run='u/elhoward/DM-44138/LSSTComCamSim/20240510T175057Z', id=72f31b8d-ed69-4923-81e2-2b1ccecdc2ba),\n",
       " DatasetRef(DatasetType('goodSeeingDiff_longTrailedSrc', {band, instrument, day_obs, detector, physical_filter, visit}, DataFrame), {instrument: 'LSSTComCamSim', detector: 5, visit: 7024040400530, band: 'i', day_obs: 20240404, physical_filter: 'i_06'}, run='u/elhoward/DM-44138/LSSTComCamSim/20240510T175057Z', id=f9c14bce-c9bd-4ae0-b815-500afe593527),\n",
       " DatasetRef(DatasetType('goodSeeingDiff_longTrailedSrc', {band, instrument, day_obs, detector, physical_filter, visit}, DataFrame), {instrument: 'LSSTComCamSim', detector: 1, visit: 7024040300412, band: 'i', day_obs: 20240403, physical_filter: 'i_06'}, run='u/elhoward/DM-44138/LSSTComCamSim/20240510T175057Z', id=276da77e-788a-4e2a-bd77-8efc2d189b04),\n",
       " DatasetRef(DatasetType('goodSeeingDiff_longTrailedSrc', {band, instrument, day_obs, detector, physical_filter, visit}, DataFrame), {instrument: 'LSSTComCamSim', detector: 0, visit: 7024040400120, band: 'r', day_obs: 20240404, physical_filter: 'r_03'}, run='u/elhoward/DM-44138/LSSTComCamSim/20240510T175057Z', id=1c6d4fad-4c15-465d-91c4-7adef1fcd977),\n",
       " DatasetRef(DatasetType('goodSeeingDiff_longTrailedSrc', {band, instrument, day_obs, detector, physical_filter, visit}, DataFrame), {instrument: 'LSSTComCamSim', detector: 2, visit: 7024040400518, band: 'g', day_obs: 20240404, physical_filter: 'g_01'}, run='u/elhoward/DM-44138/LSSTComCamSim/20240510T175057Z', id=d2e1447b-2317-4ebf-9757-69386ee91651),\n",
       " DatasetRef(DatasetType('goodSeeingDiff_longTrailedSrc', {band, instrument, day_obs, detector, physical_filter, visit}, DataFrame), {instrument: 'LSSTComCamSim', detector: 0, visit: 7024040200388, band: 'g', day_obs: 20240402, physical_filter: 'g_01'}, run='u/elhoward/DM-44138/LSSTComCamSim/20240510T175057Z', id=247e3114-0bce-474c-8248-feb5ea34d206),\n",
       " DatasetRef(DatasetType('goodSeeingDiff_longTrailedSrc', {band, instrument, day_obs, detector, physical_filter, visit}, DataFrame), {instrument: 'LSSTComCamSim', detector: 7, visit: 7024040200031, band: 'g', day_obs: 20240402, physical_filter: 'g_01'}, run='u/elhoward/DM-44138/LSSTComCamSim/20240510T175057Z', id=65c2e47d-72e9-40a6-b059-169f941d8752),\n",
       " DatasetRef(DatasetType('goodSeeingDiff_longTrailedSrc', {band, instrument, day_obs, detector, physical_filter, visit}, DataFrame), {instrument: 'LSSTComCamSim', detector: 2, visit: 7024040400319, band: 'r', day_obs: 20240404, physical_filter: 'r_03'}, run='u/elhoward/DM-44138/LSSTComCamSim/20240510T175057Z', id=983a2f63-9727-4a14-85fa-97729f65bbdb),\n",
       " DatasetRef(DatasetType('goodSeeingDiff_longTrailedSrc', {band, instrument, day_obs, detector, physical_filter, visit}, DataFrame), {instrument: 'LSSTComCamSim', detector: 2, visit: 7024040400681, band: 'g', day_obs: 20240404, physical_filter: 'g_01'}, run='u/elhoward/DM-44138/LSSTComCamSim/20240510T175057Z', id=46a932e4-7d27-4d6c-a1c9-8ab03b84a135),\n",
       " DatasetRef(DatasetType('goodSeeingDiff_longTrailedSrc', {band, instrument, day_obs, detector, physical_filter, visit}, DataFrame), {instrument: 'LSSTComCamSim', detector: 8, visit: 7024040300022, band: 'g', day_obs: 20240403, physical_filter: 'g_01'}, run='u/elhoward/DM-44138/LSSTComCamSim/20240510T175057Z', id=0e46344c-ae73-4f89-a03d-a6c4701e9088),\n",
       " DatasetRef(DatasetType('goodSeeingDiff_longTrailedSrc', {band, instrument, day_obs, detector, physical_filter, visit}, DataFrame), {instrument: 'LSSTComCamSim', detector: 2, visit: 7024040200415, band: 'i', day_obs: 20240402, physical_filter: 'i_06'}, run='u/elhoward/DM-44138/LSSTComCamSim/20240510T175057Z', id=3e246b3d-a376-4424-8152-743eef7debe5),\n",
       " DatasetRef(DatasetType('goodSeeingDiff_longTrailedSrc', {band, instrument, day_obs, detector, physical_filter, visit}, DataFrame), {instrument: 'LSSTComCamSim', detector: 7, visit: 7024040400427, band: 'i', day_obs: 20240404, physical_filter: 'i_06'}, run='u/elhoward/DM-44138/LSSTComCamSim/20240510T175057Z', id=7cd46a1e-b549-46bf-8cca-276e88b05702),\n",
       " DatasetRef(DatasetType('goodSeeingDiff_longTrailedSrc', {band, instrument, day_obs, detector, physical_filter, visit}, DataFrame), {instrument: 'LSSTComCamSim', detector: 2, visit: 7024040300345, band: 'r', day_obs: 20240403, physical_filter: 'r_03'}, run='u/elhoward/DM-44138/LSSTComCamSim/20240510T175057Z', id=8efa23c6-47b5-41f6-8711-3fca8a0efd54),\n",
       " DatasetRef(DatasetType('goodSeeingDiff_longTrailedSrc', {band, instrument, day_obs, detector, physical_filter, visit}, DataFrame), {instrument: 'LSSTComCamSim', detector: 3, visit: 7024040400319, band: 'r', day_obs: 20240404, physical_filter: 'r_03'}, run='u/elhoward/DM-44138/LSSTComCamSim/20240510T175057Z', id=6bab5dae-0d27-42dd-a887-5ec1db5c7619),\n",
       " DatasetRef(DatasetType('goodSeeingDiff_longTrailedSrc', {band, instrument, day_obs, detector, physical_filter, visit}, DataFrame), {instrument: 'LSSTComCamSim', detector: 7, visit: 7024040200737, band: 'i', day_obs: 20240402, physical_filter: 'i_06'}, run='u/elhoward/DM-44138/LSSTComCamSim/20240510T175057Z', id=16cbe865-23f2-4924-9a5f-0e90a54cc408),\n",
       " DatasetRef(DatasetType('goodSeeingDiff_longTrailedSrc', {band, instrument, day_obs, detector, physical_filter, visit}, DataFrame), {instrument: 'LSSTComCamSim', detector: 7, visit: 7024040200114, band: 'r', day_obs: 20240402, physical_filter: 'r_03'}, run='u/elhoward/DM-44138/LSSTComCamSim/20240510T175057Z', id=8522e19f-ad62-4bf6-92d9-9d916939ad66),\n",
       " DatasetRef(DatasetType('goodSeeingDiff_longTrailedSrc', {band, instrument, day_obs, detector, physical_filter, visit}, DataFrame), {instrument: 'LSSTComCamSim', detector: 5, visit: 7024040300594, band: 'i', day_obs: 20240403, physical_filter: 'i_06'}, run='u/elhoward/DM-44138/LSSTComCamSim/20240510T175057Z', id=2c435aa3-e95c-40cc-9ce5-5ec7931786db),\n",
       " DatasetRef(DatasetType('goodSeeingDiff_longTrailedSrc', {band, instrument, day_obs, detector, physical_filter, visit}, DataFrame), {instrument: 'LSSTComCamSim', detector: 2, visit: 7024040400239, band: 'r', day_obs: 20240404, physical_filter: 'r_03'}, run='u/elhoward/DM-44138/LSSTComCamSim/20240510T175057Z', id=d8ae6b90-936e-4b23-b2e8-9d02b43a341c),\n",
       " DatasetRef(DatasetType('goodSeeingDiff_longTrailedSrc', {band, instrument, day_obs, detector, physical_filter, visit}, DataFrame), {instrument: 'LSSTComCamSim', detector: 3, visit: 7024040200518, band: 'g', day_obs: 20240402, physical_filter: 'g_01'}, run='u/elhoward/DM-44138/LSSTComCamSim/20240510T175057Z', id=3c8c113b-6859-43a5-99cf-8cb1643e7023),\n",
       " DatasetRef(DatasetType('goodSeeingDiff_longTrailedSrc', {band, instrument, day_obs, detector, physical_filter, visit}, DataFrame), {instrument: 'LSSTComCamSim', detector: 3, visit: 7024040400096, band: 'g', day_obs: 20240404, physical_filter: 'g_01'}, run='u/elhoward/DM-44138/LSSTComCamSim/20240510T175057Z', id=fbdf5fb4-8aec-45d6-aff6-2403e5285e8b),\n",
       " DatasetRef(DatasetType('goodSeeingDiff_longTrailedSrc', {band, instrument, day_obs, detector, physical_filter, visit}, DataFrame), {instrument: 'LSSTComCamSim', detector: 3, visit: 7024040200188, band: 'i', day_obs: 20240402, physical_filter: 'i_06'}, run='u/elhoward/DM-44138/LSSTComCamSim/20240510T175057Z', id=8e055028-0dcf-4f7f-ab72-bc3e4b091169),\n",
       " DatasetRef(DatasetType('goodSeeingDiff_longTrailedSrc', {band, instrument, day_obs, detector, physical_filter, visit}, DataFrame), {instrument: 'LSSTComCamSim', detector: 7, visit: 7024040200283, band: 'i', day_obs: 20240402, physical_filter: 'i_06'}, run='u/elhoward/DM-44138/LSSTComCamSim/20240510T175057Z', id=940fd384-9a54-49d7-98cf-ceff31e83eca),\n",
       " DatasetRef(DatasetType('goodSeeingDiff_longTrailedSrc', {band, instrument, day_obs, detector, physical_filter, visit}, DataFrame), {instrument: 'LSSTComCamSim', detector: 8, visit: 7024040400635, band: 'g', day_obs: 20240404, physical_filter: 'g_01'}, run='u/elhoward/DM-44138/LSSTComCamSim/20240510T175057Z', id=8e3ef8be-c5ba-49bb-be54-5f9880cebfd3),\n",
       " DatasetRef(DatasetType('goodSeeingDiff_longTrailedSrc', {band, instrument, day_obs, detector, physical_filter, visit}, DataFrame), {instrument: 'LSSTComCamSim', detector: 8, visit: 7024040200472, band: 'i', day_obs: 20240402, physical_filter: 'i_06'}, run='u/elhoward/DM-44138/LSSTComCamSim/20240510T175057Z', id=f36a1048-9544-496f-8583-501efa8bc23d),\n",
       " DatasetRef(DatasetType('goodSeeingDiff_longTrailedSrc', {band, instrument, day_obs, detector, physical_filter, visit}, DataFrame), {instrument: 'LSSTComCamSim', detector: 2, visit: 7024040200497, band: 'i', day_obs: 20240402, physical_filter: 'i_06'}, run='u/elhoward/DM-44138/LSSTComCamSim/20240510T175057Z', id=be91643e-6515-4b15-b00b-c97a4d5cb530),\n",
       " DatasetRef(DatasetType('goodSeeingDiff_longTrailedSrc', {band, instrument, day_obs, detector, physical_filter, visit}, DataFrame), {instrument: 'LSSTComCamSim', detector: 5, visit: 7024040400321, band: 'g', day_obs: 20240404, physical_filter: 'g_01'}, run='u/elhoward/DM-44138/LSSTComCamSim/20240510T175057Z', id=985115af-0192-44a3-95ad-51d4306ee8d5),\n",
       " DatasetRef(DatasetType('goodSeeingDiff_longTrailedSrc', {band, instrument, day_obs, detector, physical_filter, visit}, DataFrame), {instrument: 'LSSTComCamSim', detector: 2, visit: 7024040300138, band: 'r', day_obs: 20240403, physical_filter: 'r_03'}, run='u/elhoward/DM-44138/LSSTComCamSim/20240510T175057Z', id=4eb13b66-2cde-49ab-8e47-ea6952f9c0ca),\n",
       " DatasetRef(DatasetType('goodSeeingDiff_longTrailedSrc', {band, instrument, day_obs, detector, physical_filter, visit}, DataFrame), {instrument: 'LSSTComCamSim', detector: 1, visit: 7024040400247, band: 'i', day_obs: 20240404, physical_filter: 'i_06'}, run='u/elhoward/DM-44138/LSSTComCamSim/20240510T175057Z', id=c3dd519a-b7f7-40ab-9e44-8bc8657f88b9),\n",
       " DatasetRef(DatasetType('goodSeeingDiff_longTrailedSrc', {band, instrument, day_obs, detector, physical_filter, visit}, DataFrame), {instrument: 'LSSTComCamSim', detector: 4, visit: 7024040400450, band: 'g', day_obs: 20240404, physical_filter: 'g_01'}, run='u/elhoward/DM-44138/LSSTComCamSim/20240510T175057Z', id=46f1bef8-3cfa-4f12-b8c5-ed696e9b15bd),\n",
       " DatasetRef(DatasetType('goodSeeingDiff_longTrailedSrc', {band, instrument, day_obs, detector, physical_filter, visit}, DataFrame), {instrument: 'LSSTComCamSim', detector: 3, visit: 7024040400261, band: 'g', day_obs: 20240404, physical_filter: 'g_01'}, run='u/elhoward/DM-44138/LSSTComCamSim/20240510T175057Z', id=4315c67c-5530-4efa-8e61-5568c12d167f),\n",
       " DatasetRef(DatasetType('goodSeeingDiff_longTrailedSrc', {band, instrument, day_obs, detector, physical_filter, visit}, DataFrame), {instrument: 'LSSTComCamSim', detector: 7, visit: 7024040400164, band: 'i', day_obs: 20240404, physical_filter: 'i_06'}, run='u/elhoward/DM-44138/LSSTComCamSim/20240510T175057Z', id=74242966-a57d-4432-94e9-04f0e418ed14),\n",
       " DatasetRef(DatasetType('goodSeeingDiff_longTrailedSrc', {band, instrument, day_obs, detector, physical_filter, visit}, DataFrame), {instrument: 'LSSTComCamSim', detector: 0, visit: 7024040300437, band: 'r', day_obs: 20240403, physical_filter: 'r_03'}, run='u/elhoward/DM-44138/LSSTComCamSim/20240510T175057Z', id=7ade4c92-0270-4d2f-89cd-5e870ba6257f),\n",
       " DatasetRef(DatasetType('goodSeeingDiff_longTrailedSrc', {band, instrument, day_obs, detector, physical_filter, visit}, DataFrame), {instrument: 'LSSTComCamSim', detector: 1, visit: 7024040200459, band: 'g', day_obs: 20240402, physical_filter: 'g_01'}, run='u/elhoward/DM-44138/LSSTComCamSim/20240510T175057Z', id=0533da0f-90a2-4be0-b349-47298cceb064),\n",
       " DatasetRef(DatasetType('goodSeeingDiff_longTrailedSrc', {band, instrument, day_obs, detector, physical_filter, visit}, DataFrame), {instrument: 'LSSTComCamSim', detector: 0, visit: 7024040400398, band: 'g', day_obs: 20240404, physical_filter: 'g_01'}, run='u/elhoward/DM-44138/LSSTComCamSim/20240510T175057Z', id=d4930ea6-d1de-4bb4-9a10-7a4090c2b1b6),\n",
       " DatasetRef(DatasetType('goodSeeingDiff_longTrailedSrc', {band, instrument, day_obs, detector, physical_filter, visit}, DataFrame), {instrument: 'LSSTComCamSim', detector: 2, visit: 7024040300267, band: 'g', day_obs: 20240403, physical_filter: 'g_01'}, run='u/elhoward/DM-44138/LSSTComCamSim/20240510T175057Z', id=ff775d06-f168-4fc5-82cd-158977739146),\n",
       " DatasetRef(DatasetType('goodSeeingDiff_longTrailedSrc', {band, instrument, day_obs, detector, physical_filter, visit}, DataFrame), {instrument: 'LSSTComCamSim', detector: 1, visit: 7024040400336, band: 'g', day_obs: 20240404, physical_filter: 'g_01'}, run='u/elhoward/DM-44138/LSSTComCamSim/20240510T175057Z', id=1988adc8-9bcd-4594-a4a2-d4647584e329),\n",
       " DatasetRef(DatasetType('goodSeeingDiff_longTrailedSrc', {band, instrument, day_obs, detector, physical_filter, visit}, DataFrame), {instrument: 'LSSTComCamSim', detector: 8, visit: 7024040200350, band: 'i', day_obs: 20240402, physical_filter: 'i_06'}, run='u/elhoward/DM-44138/LSSTComCamSim/20240510T175057Z', id=69501d90-f7b8-4d0d-91a6-373f08daa75d),\n",
       " DatasetRef(DatasetType('goodSeeingDiff_longTrailedSrc', {band, instrument, day_obs, detector, physical_filter, visit}, DataFrame), {instrument: 'LSSTComCamSim', detector: 7, visit: 7024040400171, band: 'i', day_obs: 20240404, physical_filter: 'i_06'}, run='u/elhoward/DM-44138/LSSTComCamSim/20240510T175057Z', id=a70bf2f2-0b3c-4ab2-b232-8cfe9365ba40),\n",
       " DatasetRef(DatasetType('goodSeeingDiff_longTrailedSrc', {band, instrument, day_obs, detector, physical_filter, visit}, DataFrame), {instrument: 'LSSTComCamSim', detector: 6, visit: 7024040200013, band: 'r', day_obs: 20240402, physical_filter: 'r_03'}, run='u/elhoward/DM-44138/LSSTComCamSim/20240510T175057Z', id=e362baa0-aec8-45e1-ac2f-48cf6328e0c5),\n",
       " DatasetRef(DatasetType('goodSeeingDiff_longTrailedSrc', {band, instrument, day_obs, detector, physical_filter, visit}, DataFrame), {instrument: 'LSSTComCamSim', detector: 2, visit: 7024040400105, band: 'r', day_obs: 20240404, physical_filter: 'r_03'}, run='u/elhoward/DM-44138/LSSTComCamSim/20240510T175057Z', id=12d4bd52-274c-458c-af0b-10074ba3e3c2),\n",
       " DatasetRef(DatasetType('goodSeeingDiff_longTrailedSrc', {band, instrument, day_obs, detector, physical_filter, visit}, DataFrame), {instrument: 'LSSTComCamSim', detector: 1, visit: 7024040400106, band: 'r', day_obs: 20240404, physical_filter: 'r_03'}, run='u/elhoward/DM-44138/LSSTComCamSim/20240510T175057Z', id=ce548ab1-fd25-46ca-99a6-9d488758595c),\n",
       " DatasetRef(DatasetType('goodSeeingDiff_longTrailedSrc', {band, instrument, day_obs, detector, physical_filter, visit}, DataFrame), {instrument: 'LSSTComCamSim', detector: 8, visit: 7024040400488, band: 'r', day_obs: 20240404, physical_filter: 'r_03'}, run='u/elhoward/DM-44138/LSSTComCamSim/20240510T175057Z', id=a76e88cc-0cc7-4a2d-b9e9-db08bad8be9e),\n",
       " DatasetRef(DatasetType('goodSeeingDiff_longTrailedSrc', {band, instrument, day_obs, detector, physical_filter, visit}, DataFrame), {instrument: 'LSSTComCamSim', detector: 7, visit: 7024040300251, band: 'i', day_obs: 20240403, physical_filter: 'i_06'}, run='u/elhoward/DM-44138/LSSTComCamSim/20240510T175057Z', id=661691c6-0f75-4484-a0e0-59b5ab956bef),\n",
       " DatasetRef(DatasetType('goodSeeingDiff_longTrailedSrc', {band, instrument, day_obs, detector, physical_filter, visit}, DataFrame), {instrument: 'LSSTComCamSim', detector: 1, visit: 7024040200017, band: 'r', day_obs: 20240402, physical_filter: 'r_03'}, run='u/elhoward/DM-44138/LSSTComCamSim/20240510T175057Z', id=377c03eb-ce89-4c58-915f-01add2562d6c),\n",
       " DatasetRef(DatasetType('goodSeeingDiff_longTrailedSrc', {band, instrument, day_obs, detector, physical_filter, visit}, DataFrame), {instrument: 'LSSTComCamSim', detector: 3, visit: 7024040200453, band: 'g', day_obs: 20240402, physical_filter: 'g_01'}, run='u/elhoward/DM-44138/LSSTComCamSim/20240510T175057Z', id=fccca324-e0ed-43c3-9e1b-e7efd268721a),\n",
       " DatasetRef(DatasetType('goodSeeingDiff_longTrailedSrc', {band, instrument, day_obs, detector, physical_filter, visit}, DataFrame), {instrument: 'LSSTComCamSim', detector: 6, visit: 7024040200317, band: 'r', day_obs: 20240402, physical_filter: 'r_03'}, run='u/elhoward/DM-44138/LSSTComCamSim/20240510T175057Z', id=959c23cb-a28c-47e6-af18-a88d5dd5513e),\n",
       " DatasetRef(DatasetType('goodSeeingDiff_longTrailedSrc', {band, instrument, day_obs, detector, physical_filter, visit}, DataFrame), {instrument: 'LSSTComCamSim', detector: 6, visit: 7024040300694, band: 'g', day_obs: 20240403, physical_filter: 'g_01'}, run='u/elhoward/DM-44138/LSSTComCamSim/20240510T175057Z', id=65422cb4-394d-4d03-bf01-ffc559c028e6),\n",
       " DatasetRef(DatasetType('goodSeeingDiff_longTrailedSrc', {band, instrument, day_obs, detector, physical_filter, visit}, DataFrame), {instrument: 'LSSTComCamSim', detector: 1, visit: 7024040400235, band: 'r', day_obs: 20240404, physical_filter: 'r_03'}, run='u/elhoward/DM-44138/LSSTComCamSim/20240510T175057Z', id=f7bf3e51-43bf-4606-a70c-9f357f936064),\n",
       " DatasetRef(DatasetType('goodSeeingDiff_longTrailedSrc', {band, instrument, day_obs, detector, physical_filter, visit}, DataFrame), {instrument: 'LSSTComCamSim', detector: 8, visit: 7024040200436, band: 'r', day_obs: 20240402, physical_filter: 'r_03'}, run='u/elhoward/DM-44138/LSSTComCamSim/20240510T175057Z', id=ba62c880-8f15-4bbd-b7a6-75bd4c73b316),\n",
       " DatasetRef(DatasetType('goodSeeingDiff_longTrailedSrc', {band, instrument, day_obs, detector, physical_filter, visit}, DataFrame), {instrument: 'LSSTComCamSim', detector: 7, visit: 7024040400703, band: 'i', day_obs: 20240404, physical_filter: 'i_06'}, run='u/elhoward/DM-44138/LSSTComCamSim/20240510T175057Z', id=b798b0b5-adfa-4164-8621-f244c7b685f3),\n",
       " DatasetRef(DatasetType('goodSeeingDiff_longTrailedSrc', {band, instrument, day_obs, detector, physical_filter, visit}, DataFrame), {instrument: 'LSSTComCamSim', detector: 4, visit: 7024040200056, band: 'i', day_obs: 20240402, physical_filter: 'i_06'}, run='u/elhoward/DM-44138/LSSTComCamSim/20240510T175057Z', id=797c5a7c-5279-47ca-9054-6de6ce07d2ef),\n",
       " DatasetRef(DatasetType('goodSeeingDiff_longTrailedSrc', {band, instrument, day_obs, detector, physical_filter, visit}, DataFrame), {instrument: 'LSSTComCamSim', detector: 5, visit: 7024040400210, band: 'g', day_obs: 20240404, physical_filter: 'g_01'}, run='u/elhoward/DM-44138/LSSTComCamSim/20240510T175057Z', id=2e5b12d3-7335-4617-8994-ec9ebae8e096),\n",
       " DatasetRef(DatasetType('goodSeeingDiff_longTrailedSrc', {band, instrument, day_obs, detector, physical_filter, visit}, DataFrame), {instrument: 'LSSTComCamSim', detector: 7, visit: 7024040400456, band: 'g', day_obs: 20240404, physical_filter: 'g_01'}, run='u/elhoward/DM-44138/LSSTComCamSim/20240510T175057Z', id=9e6221d0-16f4-4aa1-bfac-9290efb5bc07),\n",
       " DatasetRef(DatasetType('goodSeeingDiff_longTrailedSrc', {band, instrument, day_obs, detector, physical_filter, visit}, DataFrame), {instrument: 'LSSTComCamSim', detector: 5, visit: 7024040400598, band: 'i', day_obs: 20240404, physical_filter: 'i_06'}, run='u/elhoward/DM-44138/LSSTComCamSim/20240510T175057Z', id=d4c64f7c-136c-46d3-8690-fc83160a5aa5),\n",
       " DatasetRef(DatasetType('goodSeeingDiff_longTrailedSrc', {band, instrument, day_obs, detector, physical_filter, visit}, DataFrame), {instrument: 'LSSTComCamSim', detector: 3, visit: 7024040200568, band: 'g', day_obs: 20240402, physical_filter: 'g_01'}, run='u/elhoward/DM-44138/LSSTComCamSim/20240510T175057Z', id=5c786931-d03e-4042-8519-8a96ff5b8f5d),\n",
       " DatasetRef(DatasetType('goodSeeingDiff_longTrailedSrc', {band, instrument, day_obs, detector, physical_filter, visit}, DataFrame), {instrument: 'LSSTComCamSim', detector: 7, visit: 7024040200490, band: 'i', day_obs: 20240402, physical_filter: 'i_06'}, run='u/elhoward/DM-44138/LSSTComCamSim/20240510T175057Z', id=896c91e2-b6a4-42cb-83e8-9b1b5b2c7b1b),\n",
       " DatasetRef(DatasetType('goodSeeingDiff_longTrailedSrc', {band, instrument, day_obs, detector, physical_filter, visit}, DataFrame), {instrument: 'LSSTComCamSim', detector: 2, visit: 7024040200726, band: 'i', day_obs: 20240402, physical_filter: 'i_06'}, run='u/elhoward/DM-44138/LSSTComCamSim/20240510T175057Z', id=2723ee76-c146-4707-b843-1794552ed980),\n",
       " DatasetRef(DatasetType('goodSeeingDiff_longTrailedSrc', {band, instrument, day_obs, detector, physical_filter, visit}, DataFrame), {instrument: 'LSSTComCamSim', detector: 1, visit: 7024040200051, band: 'i', day_obs: 20240402, physical_filter: 'i_06'}, run='u/elhoward/DM-44138/LSSTComCamSim/20240510T175057Z', id=53daf85e-e41e-4a12-9515-d1b92b5fc0e5),\n",
       " DatasetRef(DatasetType('goodSeeingDiff_longTrailedSrc', {band, instrument, day_obs, detector, physical_filter, visit}, DataFrame), {instrument: 'LSSTComCamSim', detector: 1, visit: 7024040300387, band: 'g', day_obs: 20240403, physical_filter: 'g_01'}, run='u/elhoward/DM-44138/LSSTComCamSim/20240510T175057Z', id=f9093867-dcbe-4ac9-b4ef-a3ae7d2bbb68),\n",
       " DatasetRef(DatasetType('goodSeeingDiff_longTrailedSrc', {band, instrument, day_obs, detector, physical_filter, visit}, DataFrame), {instrument: 'LSSTComCamSim', detector: 8, visit: 7024040200599, band: 'i', day_obs: 20240402, physical_filter: 'i_06'}, run='u/elhoward/DM-44138/LSSTComCamSim/20240510T175057Z', id=783cd2e2-5c33-4c68-8724-b189dd35ae90),\n",
       " DatasetRef(DatasetType('goodSeeingDiff_longTrailedSrc', {band, instrument, day_obs, detector, physical_filter, visit}, DataFrame), {instrument: 'LSSTComCamSim', detector: 3, visit: 7024040200752, band: 'g', day_obs: 20240402, physical_filter: 'g_01'}, run='u/elhoward/DM-44138/LSSTComCamSim/20240510T175057Z', id=92726b87-b987-41d5-9feb-b930baf98344),\n",
       " DatasetRef(DatasetType('goodSeeingDiff_longTrailedSrc', {band, instrument, day_obs, detector, physical_filter, visit}, DataFrame), {instrument: 'LSSTComCamSim', detector: 0, visit: 7024040400550, band: 'r', day_obs: 20240404, physical_filter: 'r_03'}, run='u/elhoward/DM-44138/LSSTComCamSim/20240510T175057Z', id=d4ee7e26-1951-4187-b7ab-3c361f7a05ab),\n",
       " DatasetRef(DatasetType('goodSeeingDiff_longTrailedSrc', {band, instrument, day_obs, detector, physical_filter, visit}, DataFrame), {instrument: 'LSSTComCamSim', detector: 1, visit: 7024040300040, band: 'g', day_obs: 20240403, physical_filter: 'g_01'}, run='u/elhoward/DM-44138/LSSTComCamSim/20240510T175057Z', id=bd54ecb7-0709-4504-b00e-fc442d8e6a26),\n",
       " DatasetRef(DatasetType('goodSeeingDiff_longTrailedSrc', {band, instrument, day_obs, detector, physical_filter, visit}, DataFrame), {instrument: 'LSSTComCamSim', detector: 3, visit: 7024040200179, band: 'i', day_obs: 20240402, physical_filter: 'i_06'}, run='u/elhoward/DM-44138/LSSTComCamSim/20240510T175057Z', id=1542422a-989e-456c-9860-ca057710e744),\n",
       " DatasetRef(DatasetType('goodSeeingDiff_longTrailedSrc', {band, instrument, day_obs, detector, physical_filter, visit}, DataFrame), {instrument: 'LSSTComCamSim', detector: 0, visit: 7024040300480, band: 'i', day_obs: 20240403, physical_filter: 'i_06'}, run='u/elhoward/DM-44138/LSSTComCamSim/20240510T175057Z', id=d011dc95-f97a-4cf0-b1a4-79a97a652afe),\n",
       " DatasetRef(DatasetType('goodSeeingDiff_longTrailedSrc', {band, instrument, day_obs, detector, physical_filter, visit}, DataFrame), {instrument: 'LSSTComCamSim', detector: 8, visit: 7024040300379, band: 'r', day_obs: 20240403, physical_filter: 'r_03'}, run='u/elhoward/DM-44138/LSSTComCamSim/20240510T175057Z', id=15379249-f6ac-4005-921a-5b095d75129b),\n",
       " DatasetRef(DatasetType('goodSeeingDiff_longTrailedSrc', {band, instrument, day_obs, detector, physical_filter, visit}, DataFrame), {instrument: 'LSSTComCamSim', detector: 5, visit: 7024040400177, band: 'i', day_obs: 20240404, physical_filter: 'i_06'}, run='u/elhoward/DM-44138/LSSTComCamSim/20240510T175057Z', id=0c98bf47-b688-4a58-8445-e98a8390c04b),\n",
       " DatasetRef(DatasetType('goodSeeingDiff_longTrailedSrc', {band, instrument, day_obs, detector, physical_filter, visit}, DataFrame), {instrument: 'LSSTComCamSim', detector: 6, visit: 7024040200130, band: 'r', day_obs: 20240402, physical_filter: 'r_03'}, run='u/elhoward/DM-44138/LSSTComCamSim/20240510T175057Z', id=5a348e1a-97fa-4daa-b152-0e99d2f725a1),\n",
       " DatasetRef(DatasetType('goodSeeingDiff_longTrailedSrc', {band, instrument, day_obs, detector, physical_filter, visit}, DataFrame), {instrument: 'LSSTComCamSim', detector: 4, visit: 7024040400231, band: 'r', day_obs: 20240404, physical_filter: 'r_03'}, run='u/elhoward/DM-44138/LSSTComCamSim/20240510T175057Z', id=4fb0d33b-f3a8-40ff-bec1-dfa01a1d8b38),\n",
       " DatasetRef(DatasetType('goodSeeingDiff_longTrailedSrc', {band, instrument, day_obs, detector, physical_filter, visit}, DataFrame), {instrument: 'LSSTComCamSim', detector: 0, visit: 7024040400511, band: 'g', day_obs: 20240404, physical_filter: 'g_01'}, run='u/elhoward/DM-44138/LSSTComCamSim/20240510T175057Z', id=0da1ff85-0e6f-4e3b-bffc-4bb72c62a16d),\n",
       " DatasetRef(DatasetType('goodSeeingDiff_longTrailedSrc', {band, instrument, day_obs, detector, physical_filter, visit}, DataFrame), {instrument: 'LSSTComCamSim', detector: 0, visit: 7024040200487, band: 'i', day_obs: 20240402, physical_filter: 'i_06'}, run='u/elhoward/DM-44138/LSSTComCamSim/20240510T175057Z', id=bdd09f86-76ba-41a6-a3c8-2c38d8ca0627),\n",
       " DatasetRef(DatasetType('goodSeeingDiff_longTrailedSrc', {band, instrument, day_obs, detector, physical_filter, visit}, DataFrame), {instrument: 'LSSTComCamSim', detector: 1, visit: 7024040400292, band: 'r', day_obs: 20240404, physical_filter: 'r_03'}, run='u/elhoward/DM-44138/LSSTComCamSim/20240510T175057Z', id=d9f24a30-0673-40a0-b735-ce5139040e23),\n",
       " DatasetRef(DatasetType('goodSeeingDiff_longTrailedSrc', {band, instrument, day_obs, detector, physical_filter, visit}, DataFrame), {instrument: 'LSSTComCamSim', detector: 3, visit: 7024040200450, band: 'g', day_obs: 20240402, physical_filter: 'g_01'}, run='u/elhoward/DM-44138/LSSTComCamSim/20240510T175057Z', id=9c9005ae-79cb-4390-b980-e688cbf3f6dc),\n",
       " DatasetRef(DatasetType('goodSeeingDiff_longTrailedSrc', {band, instrument, day_obs, detector, physical_filter, visit}, DataFrame), {instrument: 'LSSTComCamSim', detector: 1, visit: 7024040400382, band: 'g', day_obs: 20240404, physical_filter: 'g_01'}, run='u/elhoward/DM-44138/LSSTComCamSim/20240510T175057Z', id=d0c0d1cf-4b53-4d30-bf97-3697e31c29e0),\n",
       " DatasetRef(DatasetType('goodSeeingDiff_longTrailedSrc', {band, instrument, day_obs, detector, physical_filter, visit}, DataFrame), {instrument: 'LSSTComCamSim', detector: 2, visit: 7024040200281, band: 'i', day_obs: 20240402, physical_filter: 'i_06'}, run='u/elhoward/DM-44138/LSSTComCamSim/20240510T175057Z', id=3b0fd585-a276-4c6c-9335-18687374b026),\n",
       " DatasetRef(DatasetType('goodSeeingDiff_longTrailedSrc', {band, instrument, day_obs, detector, physical_filter, visit}, DataFrame), {instrument: 'LSSTComCamSim', detector: 8, visit: 7024040200202, band: 'g', day_obs: 20240402, physical_filter: 'g_01'}, run='u/elhoward/DM-44138/LSSTComCamSim/20240510T175057Z', id=899b4953-b029-4976-8007-9c97fda747c0),\n",
       " DatasetRef(DatasetType('goodSeeingDiff_longTrailedSrc', {band, instrument, day_obs, detector, physical_filter, visit}, DataFrame), {instrument: 'LSSTComCamSim', detector: 2, visit: 7024040300633, band: 'g', day_obs: 20240403, physical_filter: 'g_01'}, run='u/elhoward/DM-44138/LSSTComCamSim/20240510T175057Z', id=c038ecd7-9b59-4110-89d8-2503901a8b2c),\n",
       " DatasetRef(DatasetType('goodSeeingDiff_longTrailedSrc', {band, instrument, day_obs, detector, physical_filter, visit}, DataFrame), {instrument: 'LSSTComCamSim', detector: 3, visit: 7024040400169, band: 'i', day_obs: 20240404, physical_filter: 'i_06'}, run='u/elhoward/DM-44138/LSSTComCamSim/20240510T175057Z', id=0c88952c-f63f-45e8-a044-3650832de48f),\n",
       " DatasetRef(DatasetType('goodSeeingDiff_longTrailedSrc', {band, instrument, day_obs, detector, physical_filter, visit}, DataFrame), {instrument: 'LSSTComCamSim', detector: 6, visit: 7024040300157, band: 'g', day_obs: 20240403, physical_filter: 'g_01'}, run='u/elhoward/DM-44138/LSSTComCamSim/20240510T175057Z', id=ca5ba581-37b9-46e1-818e-3276a5e8dcb8),\n",
       " DatasetRef(DatasetType('goodSeeingDiff_longTrailedSrc', {band, instrument, day_obs, detector, physical_filter, visit}, DataFrame), {instrument: 'LSSTComCamSim', detector: 3, visit: 7024040400042, band: 'i', day_obs: 20240404, physical_filter: 'i_06'}, run='u/elhoward/DM-44138/LSSTComCamSim/20240510T175057Z', id=7f795881-38e9-4075-8b2c-6ab2c070903d),\n",
       " DatasetRef(DatasetType('goodSeeingDiff_longTrailedSrc', {band, instrument, day_obs, detector, physical_filter, visit}, DataFrame), {instrument: 'LSSTComCamSim', detector: 8, visit: 7024040300045, band: 'i', day_obs: 20240403, physical_filter: 'i_06'}, run='u/elhoward/DM-44138/LSSTComCamSim/20240510T175057Z', id=68dea313-ae77-4f86-b70b-ba6ab59297c3),\n",
       " DatasetRef(DatasetType('goodSeeingDiff_longTrailedSrc', {band, instrument, day_obs, detector, physical_filter, visit}, DataFrame), {instrument: 'LSSTComCamSim', detector: 0, visit: 7024040200521, band: 'r', day_obs: 20240402, physical_filter: 'r_03'}, run='u/elhoward/DM-44138/LSSTComCamSim/20240510T175057Z', id=02748908-9a03-42fd-9f1b-b2d76460fc4a),\n",
       " DatasetRef(DatasetType('goodSeeingDiff_longTrailedSrc', {band, instrument, day_obs, detector, physical_filter, visit}, DataFrame), {instrument: 'LSSTComCamSim', detector: 4, visit: 7024040200128, band: 'r', day_obs: 20240402, physical_filter: 'r_03'}, run='u/elhoward/DM-44138/LSSTComCamSim/20240510T175057Z', id=cb434118-5244-4013-aa77-365f398993a8),\n",
       " DatasetRef(DatasetType('goodSeeingDiff_longTrailedSrc', {band, instrument, day_obs, detector, physical_filter, visit}, DataFrame), {instrument: 'LSSTComCamSim', detector: 7, visit: 7024040300616, band: 'i', day_obs: 20240403, physical_filter: 'i_06'}, run='u/elhoward/DM-44138/LSSTComCamSim/20240510T175057Z', id=2cf1c471-001d-4cb9-934d-440906af2eaa),\n",
       " DatasetRef(DatasetType('goodSeeingDiff_longTrailedSrc', {band, instrument, day_obs, detector, physical_filter, visit}, DataFrame), {instrument: 'LSSTComCamSim', detector: 1, visit: 7024040200277, band: 'g', day_obs: 20240402, physical_filter: 'g_01'}, run='u/elhoward/DM-44138/LSSTComCamSim/20240510T175057Z', id=37673c4b-8eb1-4f5f-8e56-135971821a38),\n",
       " DatasetRef(DatasetType('goodSeeingDiff_longTrailedSrc', {band, instrument, day_obs, detector, physical_filter, visit}, DataFrame), {instrument: 'LSSTComCamSim', detector: 0, visit: 7024040200646, band: 'r', day_obs: 20240402, physical_filter: 'r_03'}, run='u/elhoward/DM-44138/LSSTComCamSim/20240510T175057Z', id=c7d039f0-0897-4ff1-8c60-72d791b49589),\n",
       " DatasetRef(DatasetType('goodSeeingDiff_longTrailedSrc', {band, instrument, day_obs, detector, physical_filter, visit}, DataFrame), {instrument: 'LSSTComCamSim', detector: 6, visit: 7024040300516, band: 'g', day_obs: 20240403, physical_filter: 'g_01'}, run='u/elhoward/DM-44138/LSSTComCamSim/20240510T175057Z', id=bf45098f-d797-46bd-a551-04dc3315df25),\n",
       " DatasetRef(DatasetType('goodSeeingDiff_longTrailedSrc', {band, instrument, day_obs, detector, physical_filter, visit}, DataFrame), {instrument: 'LSSTComCamSim', detector: 6, visit: 7024040300560, band: 'r', day_obs: 20240403, physical_filter: 'r_03'}, run='u/elhoward/DM-44138/LSSTComCamSim/20240510T175057Z', id=7ab82a3f-416b-4a3c-9d8e-49711d18c370),\n",
       " DatasetRef(DatasetType('goodSeeingDiff_longTrailedSrc', {band, instrument, day_obs, detector, physical_filter, visit}, DataFrame), {instrument: 'LSSTComCamSim', detector: 5, visit: 7024040400696, band: 'g', day_obs: 20240404, physical_filter: 'g_01'}, run='u/elhoward/DM-44138/LSSTComCamSim/20240510T175057Z', id=be2e47b4-a51c-4cf8-a8fe-be1340082d69),\n",
       " DatasetRef(DatasetType('goodSeeingDiff_longTrailedSrc', {band, instrument, day_obs, detector, physical_filter, visit}, DataFrame), {instrument: 'LSSTComCamSim', detector: 2, visit: 7024040400200, band: 'i', day_obs: 20240404, physical_filter: 'i_06'}, run='u/elhoward/DM-44138/LSSTComCamSim/20240510T175057Z', id=9afa10bb-3cf8-42f1-819f-713e82817dbc),\n",
       " DatasetRef(DatasetType('goodSeeingDiff_longTrailedSrc', {band, instrument, day_obs, detector, physical_filter, visit}, DataFrame), {instrument: 'LSSTComCamSim', detector: 3, visit: 7024040200083, band: 'g', day_obs: 20240402, physical_filter: 'g_01'}, run='u/elhoward/DM-44138/LSSTComCamSim/20240510T175057Z', id=9ffe33fd-e97d-4cf5-8f46-a9914814adc8),\n",
       " DatasetRef(DatasetType('goodSeeingDiff_longTrailedSrc', {band, instrument, day_obs, detector, physical_filter, visit}, DataFrame), {instrument: 'LSSTComCamSim', detector: 0, visit: 7024040400003, band: 'r', day_obs: 20240404, physical_filter: 'r_03'}, run='u/elhoward/DM-44138/LSSTComCamSim/20240510T175057Z', id=57356188-1abb-4f7f-8fda-6b8d596e998c),\n",
       " DatasetRef(DatasetType('goodSeeingDiff_longTrailedSrc', {band, instrument, day_obs, detector, physical_filter, visit}, DataFrame), {instrument: 'LSSTComCamSim', detector: 2, visit: 7024040300531, band: 'r', day_obs: 20240403, physical_filter: 'r_03'}, run='u/elhoward/DM-44138/LSSTComCamSim/20240510T175057Z', id=34c5bf92-ba10-48f0-bdfc-c0828d42ce11),\n",
       " DatasetRef(DatasetType('goodSeeingDiff_longTrailedSrc', {band, instrument, day_obs, detector, physical_filter, visit}, DataFrame), {instrument: 'LSSTComCamSim', detector: 4, visit: 7024040200563, band: 'g', day_obs: 20240402, physical_filter: 'g_01'}, run='u/elhoward/DM-44138/LSSTComCamSim/20240510T175057Z', id=a42b536f-6a43-491c-8770-603b1efc4cb5),\n",
       " DatasetRef(DatasetType('goodSeeingDiff_longTrailedSrc', {band, instrument, day_obs, detector, physical_filter, visit}, DataFrame), {instrument: 'LSSTComCamSim', detector: 2, visit: 7024040400090, band: 'g', day_obs: 20240404, physical_filter: 'g_01'}, run='u/elhoward/DM-44138/LSSTComCamSim/20240510T175057Z', id=d70f0e38-24fb-4bcd-ac7a-eea77909b6ba),\n",
       " DatasetRef(DatasetType('goodSeeingDiff_longTrailedSrc', {band, instrument, day_obs, detector, physical_filter, visit}, DataFrame), {instrument: 'LSSTComCamSim', detector: 6, visit: 7024040200771, band: 'r', day_obs: 20240402, physical_filter: 'r_03'}, run='u/elhoward/DM-44138/LSSTComCamSim/20240510T175057Z', id=3a2a1fb3-eb5a-4479-ae01-c32186cd723d),\n",
       " DatasetRef(DatasetType('goodSeeingDiff_longTrailedSrc', {band, instrument, day_obs, detector, physical_filter, visit}, DataFrame), {instrument: 'LSSTComCamSim', detector: 6, visit: 7024040400718, band: 'i', day_obs: 20240404, physical_filter: 'i_06'}, run='u/elhoward/DM-44138/LSSTComCamSim/20240510T175057Z', id=854e924e-23a7-4785-befe-a34c5ddcd9d2),\n",
       " DatasetRef(DatasetType('goodSeeingDiff_longTrailedSrc', {band, instrument, day_obs, detector, physical_filter, visit}, DataFrame), {instrument: 'LSSTComCamSim', detector: 6, visit: 7024040400004, band: 'r', day_obs: 20240404, physical_filter: 'r_03'}, run='u/elhoward/DM-44138/LSSTComCamSim/20240510T175057Z', id=7e6c310d-cdae-4e9e-9a66-74340d6b2105),\n",
       " DatasetRef(DatasetType('goodSeeingDiff_longTrailedSrc', {band, instrument, day_obs, detector, physical_filter, visit}, DataFrame), {instrument: 'LSSTComCamSim', detector: 1, visit: 7024040200673, band: 'r', day_obs: 20240402, physical_filter: 'r_03'}, run='u/elhoward/DM-44138/LSSTComCamSim/20240510T175057Z', id=9ca49926-70e4-4630-a266-9a68dd5ee4ae),\n",
       " DatasetRef(DatasetType('goodSeeingDiff_longTrailedSrc', {band, instrument, day_obs, detector, physical_filter, visit}, DataFrame), {instrument: 'LSSTComCamSim', detector: 7, visit: 7024040300319, band: 'i', day_obs: 20240403, physical_filter: 'i_06'}, run='u/elhoward/DM-44138/LSSTComCamSim/20240510T175057Z', id=97ea411e-52aa-49d7-b4af-c426a9d3c75c),\n",
       " DatasetRef(DatasetType('goodSeeingDiff_longTrailedSrc', {band, instrument, day_obs, detector, physical_filter, visit}, DataFrame), {instrument: 'LSSTComCamSim', detector: 5, visit: 7024040400205, band: 'g', day_obs: 20240404, physical_filter: 'g_01'}, run='u/elhoward/DM-44138/LSSTComCamSim/20240510T175057Z', id=6905a00b-5bb1-47fe-a282-d27c96dc565c),\n",
       " DatasetRef(DatasetType('goodSeeingDiff_longTrailedSrc', {band, instrument, day_obs, detector, physical_filter, visit}, DataFrame), {instrument: 'LSSTComCamSim', detector: 3, visit: 7024040200619, band: 'i', day_obs: 20240402, physical_filter: 'i_06'}, run='u/elhoward/DM-44138/LSSTComCamSim/20240510T175057Z', id=f8bc295d-51f9-4b16-8673-613755023d6d),\n",
       " DatasetRef(DatasetType('goodSeeingDiff_longTrailedSrc', {band, instrument, day_obs, detector, physical_filter, visit}, DataFrame), {instrument: 'LSSTComCamSim', detector: 6, visit: 7024040200517, band: 'g', day_obs: 20240402, physical_filter: 'g_01'}, run='u/elhoward/DM-44138/LSSTComCamSim/20240510T175057Z', id=39419b76-1b00-4acd-a757-8c9fa200bfdb),\n",
       " DatasetRef(DatasetType('goodSeeingDiff_longTrailedSrc', {band, instrument, day_obs, detector, physical_filter, visit}, DataFrame), {instrument: 'LSSTComCamSim', detector: 7, visit: 7024040300036, band: 'g', day_obs: 20240403, physical_filter: 'g_01'}, run='u/elhoward/DM-44138/LSSTComCamSim/20240510T175057Z', id=2dfe7ef5-0b42-44ba-b615-c28043c37090),\n",
       " DatasetRef(DatasetType('goodSeeingDiff_longTrailedSrc', {band, instrument, day_obs, detector, physical_filter, visit}, DataFrame), {instrument: 'LSSTComCamSim', detector: 7, visit: 7024040300320, band: 'i', day_obs: 20240403, physical_filter: 'i_06'}, run='u/elhoward/DM-44138/LSSTComCamSim/20240510T175057Z', id=539d9832-1acf-4cb0-85e8-574dc30730e0),\n",
       " DatasetRef(DatasetType('goodSeeingDiff_longTrailedSrc', {band, instrument, day_obs, detector, physical_filter, visit}, DataFrame), {instrument: 'LSSTComCamSim', detector: 0, visit: 7024040300029, band: 'g', day_obs: 20240403, physical_filter: 'g_01'}, run='u/elhoward/DM-44138/LSSTComCamSim/20240510T175057Z', id=8e3daa9a-436a-4fe5-941e-2e7b1a04173c),\n",
       " DatasetRef(DatasetType('goodSeeingDiff_longTrailedSrc', {band, instrument, day_obs, detector, physical_filter, visit}, DataFrame), {instrument: 'LSSTComCamSim', detector: 3, visit: 7024040300493, band: 'i', day_obs: 20240403, physical_filter: 'i_06'}, run='u/elhoward/DM-44138/LSSTComCamSim/20240510T175057Z', id=3e1560dd-a81a-41a9-9649-ca4e1e9a8951),\n",
       " DatasetRef(DatasetType('goodSeeingDiff_longTrailedSrc', {band, instrument, day_obs, detector, physical_filter, visit}, DataFrame), {instrument: 'LSSTComCamSim', detector: 0, visit: 7024040400605, band: 'i', day_obs: 20240404, physical_filter: 'i_06'}, run='u/elhoward/DM-44138/LSSTComCamSim/20240510T175057Z', id=5851fee5-0e2c-406b-b618-46364207935a),\n",
       " DatasetRef(DatasetType('goodSeeingDiff_longTrailedSrc', {band, instrument, day_obs, detector, physical_filter, visit}, DataFrame), {instrument: 'LSSTComCamSim', detector: 6, visit: 7024040200135, band: 'r', day_obs: 20240402, physical_filter: 'r_03'}, run='u/elhoward/DM-44138/LSSTComCamSim/20240510T175057Z', id=469e4ef5-df55-412a-9cc8-abd30b760d8e),\n",
       " DatasetRef(DatasetType('goodSeeingDiff_longTrailedSrc', {band, instrument, day_obs, detector, physical_filter, visit}, DataFrame), {instrument: 'LSSTComCamSim', detector: 2, visit: 7024040300186, band: 'i', day_obs: 20240403, physical_filter: 'i_06'}, run='u/elhoward/DM-44138/LSSTComCamSim/20240510T175057Z', id=a198043d-24db-436f-8248-98a9964c7b37),\n",
       " DatasetRef(DatasetType('goodSeeingDiff_longTrailedSrc', {band, instrument, day_obs, detector, physical_filter, visit}, DataFrame), {instrument: 'LSSTComCamSim', detector: 1, visit: 7024040200670, band: 'r', day_obs: 20240402, physical_filter: 'r_03'}, run='u/elhoward/DM-44138/LSSTComCamSim/20240510T175057Z', id=585071df-c094-48a2-aaeb-b72b9a93d20f),\n",
       " DatasetRef(DatasetType('goodSeeingDiff_longTrailedSrc', {band, instrument, day_obs, detector, physical_filter, visit}, DataFrame), {instrument: 'LSSTComCamSim', detector: 1, visit: 7024040300222, band: 'r', day_obs: 20240403, physical_filter: 'r_03'}, run='u/elhoward/DM-44138/LSSTComCamSim/20240510T175057Z', id=fbd53658-6b8f-40b7-b943-37c6d82b91a7),\n",
       " DatasetRef(DatasetType('goodSeeingDiff_longTrailedSrc', {band, instrument, day_obs, detector, physical_filter, visit}, DataFrame), {instrument: 'LSSTComCamSim', detector: 0, visit: 7024040200594, band: 'i', day_obs: 20240402, physical_filter: 'i_06'}, run='u/elhoward/DM-44138/LSSTComCamSim/20240510T175057Z', id=5be0a7d9-c6fb-4324-aeda-dd0d1b7c7e5a),\n",
       " DatasetRef(DatasetType('goodSeeingDiff_longTrailedSrc', {band, instrument, day_obs, detector, physical_filter, visit}, DataFrame), {instrument: 'LSSTComCamSim', detector: 8, visit: 7024040200361, band: 'r', day_obs: 20240402, physical_filter: 'r_03'}, run='u/elhoward/DM-44138/LSSTComCamSim/20240510T175057Z', id=93bf4cff-375b-4cd9-94a6-3ee440ea30ba),\n",
       " DatasetRef(DatasetType('goodSeeingDiff_longTrailedSrc', {band, instrument, day_obs, detector, physical_filter, visit}, DataFrame), {instrument: 'LSSTComCamSim', detector: 0, visit: 7024040300738, band: 'i', day_obs: 20240403, physical_filter: 'i_06'}, run='u/elhoward/DM-44138/LSSTComCamSim/20240510T175057Z', id=a3c6eec3-7523-40b7-90e2-98e199741221),\n",
       " DatasetRef(DatasetType('goodSeeingDiff_longTrailedSrc', {band, instrument, day_obs, detector, physical_filter, visit}, DataFrame), {instrument: 'LSSTComCamSim', detector: 3, visit: 7024040400190, band: 'i', day_obs: 20240404, physical_filter: 'i_06'}, run='u/elhoward/DM-44138/LSSTComCamSim/20240510T175057Z', id=bd7b2b19-0baf-4273-ad38-600c8c750466),\n",
       " DatasetRef(DatasetType('goodSeeingDiff_longTrailedSrc', {band, instrument, day_obs, detector, physical_filter, visit}, DataFrame), {instrument: 'LSSTComCamSim', detector: 3, visit: 7024040200507, band: 'g', day_obs: 20240402, physical_filter: 'g_01'}, run='u/elhoward/DM-44138/LSSTComCamSim/20240510T175057Z', id=543fac39-0dfd-41d8-8df5-c7993a97899b),\n",
       " DatasetRef(DatasetType('goodSeeingDiff_longTrailedSrc', {band, instrument, day_obs, detector, physical_filter, visit}, DataFrame), {instrument: 'LSSTComCamSim', detector: 1, visit: 7024040200521, band: 'r', day_obs: 20240402, physical_filter: 'r_03'}, run='u/elhoward/DM-44138/LSSTComCamSim/20240510T175057Z', id=46eda201-1fbe-4d5a-936d-ae7f26baad91),\n",
       " DatasetRef(DatasetType('goodSeeingDiff_longTrailedSrc', {band, instrument, day_obs, detector, physical_filter, visit}, DataFrame), {instrument: 'LSSTComCamSim', detector: 2, visit: 7024040400508, band: 'g', day_obs: 20240404, physical_filter: 'g_01'}, run='u/elhoward/DM-44138/LSSTComCamSim/20240510T175057Z', id=870b7d83-6da0-4d19-9656-390f4f7d2fb4),\n",
       " DatasetRef(DatasetType('goodSeeingDiff_longTrailedSrc', {band, instrument, day_obs, detector, physical_filter, visit}, DataFrame), {instrument: 'LSSTComCamSim', detector: 5, visit: 7024040300567, band: 'g', day_obs: 20240403, physical_filter: 'g_01'}, run='u/elhoward/DM-44138/LSSTComCamSim/20240510T175057Z', id=67163950-ca81-4bc3-b081-6d8aec96ba63),\n",
       " DatasetRef(DatasetType('goodSeeingDiff_longTrailedSrc', {band, instrument, day_obs, detector, physical_filter, visit}, DataFrame), {instrument: 'LSSTComCamSim', detector: 3, visit: 7024040300640, band: 'g', day_obs: 20240403, physical_filter: 'g_01'}, run='u/elhoward/DM-44138/LSSTComCamSim/20240510T175057Z', id=12720d1b-d1e8-44a8-ab89-eecb2ffbf389),\n",
       " DatasetRef(DatasetType('goodSeeingDiff_longTrailedSrc', {band, instrument, day_obs, detector, physical_filter, visit}, DataFrame), {instrument: 'LSSTComCamSim', detector: 0, visit: 7024040400683, band: 'g', day_obs: 20240404, physical_filter: 'g_01'}, run='u/elhoward/DM-44138/LSSTComCamSim/20240510T175057Z', id=a8080c63-f6f5-4ded-b6ca-ff05f8862945),\n",
       " DatasetRef(DatasetType('goodSeeingDiff_longTrailedSrc', {band, instrument, day_obs, detector, physical_filter, visit}, DataFrame), {instrument: 'LSSTComCamSim', detector: 4, visit: 7024040400087, band: 'g', day_obs: 20240404, physical_filter: 'g_01'}, run='u/elhoward/DM-44138/LSSTComCamSim/20240510T175057Z', id=49db835d-0ddb-40b8-9954-1b5c8b4e1335),\n",
       " DatasetRef(DatasetType('goodSeeingDiff_longTrailedSrc', {band, instrument, day_obs, detector, physical_filter, visit}, DataFrame), {instrument: 'LSSTComCamSim', detector: 8, visit: 7024040300300, band: 'r', day_obs: 20240403, physical_filter: 'r_03'}, run='u/elhoward/DM-44138/LSSTComCamSim/20240510T175057Z', id=90314153-cc6d-42a2-be65-6f3009e283f3),\n",
       " DatasetRef(DatasetType('goodSeeingDiff_longTrailedSrc', {band, instrument, day_obs, detector, physical_filter, visit}, DataFrame), {instrument: 'LSSTComCamSim', detector: 7, visit: 7024040300427, band: 'r', day_obs: 20240403, physical_filter: 'r_03'}, run='u/elhoward/DM-44138/LSSTComCamSim/20240510T175057Z', id=190b92a5-f11b-4798-882c-5e60720bdcb9),\n",
       " DatasetRef(DatasetType('goodSeeingDiff_longTrailedSrc', {band, instrument, day_obs, detector, physical_filter, visit}, DataFrame), {instrument: 'LSSTComCamSim', detector: 8, visit: 7024040200012, band: 'r', day_obs: 20240402, physical_filter: 'r_03'}, run='u/elhoward/DM-44138/LSSTComCamSim/20240510T175057Z', id=82a3607d-da1f-4249-828b-b9188786071f),\n",
       " DatasetRef(DatasetType('goodSeeingDiff_longTrailedSrc', {band, instrument, day_obs, detector, physical_filter, visit}, DataFrame), {instrument: 'LSSTComCamSim', detector: 3, visit: 7024040200713, band: 'i', day_obs: 20240402, physical_filter: 'i_06'}, run='u/elhoward/DM-44138/LSSTComCamSim/20240510T175057Z', id=2b14fe99-46eb-499c-8e86-41710d944ca2),\n",
       " DatasetRef(DatasetType('goodSeeingDiff_longTrailedSrc', {band, instrument, day_obs, detector, physical_filter, visit}, DataFrame), {instrument: 'LSSTComCamSim', detector: 3, visit: 7024040200343, band: 'i', day_obs: 20240402, physical_filter: 'i_06'}, run='u/elhoward/DM-44138/LSSTComCamSim/20240510T175057Z', id=eb01b78b-47bd-4f8e-a51a-6fe7432d1d19),\n",
       " DatasetRef(DatasetType('goodSeeingDiff_longTrailedSrc', {band, instrument, day_obs, detector, physical_filter, visit}, DataFrame), {instrument: 'LSSTComCamSim', detector: 0, visit: 7024040200609, band: 'i', day_obs: 20240402, physical_filter: 'i_06'}, run='u/elhoward/DM-44138/LSSTComCamSim/20240510T175057Z', id=ca14f086-71dd-4c50-ad80-8944dbe83734),\n",
       " DatasetRef(DatasetType('goodSeeingDiff_longTrailedSrc', {band, instrument, day_obs, detector, physical_filter, visit}, DataFrame), {instrument: 'LSSTComCamSim', detector: 3, visit: 7024040400211, band: 'g', day_obs: 20240404, physical_filter: 'g_01'}, run='u/elhoward/DM-44138/LSSTComCamSim/20240510T175057Z', id=f42948af-6766-4e9b-a520-71d239e124c1),\n",
       " DatasetRef(DatasetType('goodSeeingDiff_longTrailedSrc', {band, instrument, day_obs, detector, physical_filter, visit}, DataFrame), {instrument: 'LSSTComCamSim', detector: 1, visit: 7024040200645, band: 'r', day_obs: 20240402, physical_filter: 'r_03'}, run='u/elhoward/DM-44138/LSSTComCamSim/20240510T175057Z', id=3e50a636-61b7-4d6f-b895-ba70278f2ec8),\n",
       " DatasetRef(DatasetType('goodSeeingDiff_longTrailedSrc', {band, instrument, day_obs, detector, physical_filter, visit}, DataFrame), {instrument: 'LSSTComCamSim', detector: 2, visit: 7024040200166, band: 'i', day_obs: 20240402, physical_filter: 'i_06'}, run='u/elhoward/DM-44138/LSSTComCamSim/20240510T175057Z', id=1c490d5d-8393-4727-b9eb-9c9179c1e11d),\n",
       " DatasetRef(DatasetType('goodSeeingDiff_longTrailedSrc', {band, instrument, day_obs, detector, physical_filter, visit}, DataFrame), {instrument: 'LSSTComCamSim', detector: 2, visit: 7024040300366, band: 'r', day_obs: 20240403, physical_filter: 'r_03'}, run='u/elhoward/DM-44138/LSSTComCamSim/20240510T175057Z', id=b20aa7cc-0d38-4bae-9900-d5427a653cd1),\n",
       " DatasetRef(DatasetType('goodSeeingDiff_longTrailedSrc', {band, instrument, day_obs, detector, physical_filter, visit}, DataFrame), {instrument: 'LSSTComCamSim', detector: 4, visit: 7024040200171, band: 'i', day_obs: 20240402, physical_filter: 'i_06'}, run='u/elhoward/DM-44138/LSSTComCamSim/20240510T175057Z', id=2e9f1035-ac04-4868-b7ec-694b886f5742),\n",
       " DatasetRef(DatasetType('goodSeeingDiff_longTrailedSrc', {band, instrument, day_obs, detector, physical_filter, visit}, DataFrame), {instrument: 'LSSTComCamSim', detector: 8, visit: 7024040200035, band: 'g', day_obs: 20240402, physical_filter: 'g_01'}, run='u/elhoward/DM-44138/LSSTComCamSim/20240510T175057Z', id=09f43eb9-4311-443b-891c-a65dd57678ca),\n",
       " DatasetRef(DatasetType('goodSeeingDiff_longTrailedSrc', {band, instrument, day_obs, detector, physical_filter, visit}, DataFrame), {instrument: 'LSSTComCamSim', detector: 8, visit: 7024040200535, band: 'r', day_obs: 20240402, physical_filter: 'r_03'}, run='u/elhoward/DM-44138/LSSTComCamSim/20240510T175057Z', id=1bc026a2-2698-4840-97db-940a751ed8b5),\n",
       " DatasetRef(DatasetType('goodSeeingDiff_longTrailedSrc', {band, instrument, day_obs, detector, physical_filter, visit}, DataFrame), {instrument: 'LSSTComCamSim', detector: 4, visit: 7024040300022, band: 'g', day_obs: 20240403, physical_filter: 'g_01'}, run='u/elhoward/DM-44138/LSSTComCamSim/20240510T175057Z', id=607b9227-da3e-4b47-8abd-523cb825406b),\n",
       " DatasetRef(DatasetType('goodSeeingDiff_longTrailedSrc', {band, instrument, day_obs, detector, physical_filter, visit}, DataFrame), {instrument: 'LSSTComCamSim', detector: 5, visit: 7024040400230, band: 'r', day_obs: 20240404, physical_filter: 'r_03'}, run='u/elhoward/DM-44138/LSSTComCamSim/20240510T175057Z', id=ab094cc5-86db-46c1-bc72-2751d426e483),\n",
       " DatasetRef(DatasetType('goodSeeingDiff_longTrailedSrc', {band, instrument, day_obs, detector, physical_filter, visit}, DataFrame), {instrument: 'LSSTComCamSim', detector: 0, visit: 7024040200366, band: 'r', day_obs: 20240402, physical_filter: 'r_03'}, run='u/elhoward/DM-44138/LSSTComCamSim/20240510T175057Z', id=25313672-8b6a-4f01-b833-62a58df622bc),\n",
       " DatasetRef(DatasetType('goodSeeingDiff_longTrailedSrc', {band, instrument, day_obs, detector, physical_filter, visit}, DataFrame), {instrument: 'LSSTComCamSim', detector: 1, visit: 7024040200519, band: 'g', day_obs: 20240402, physical_filter: 'g_01'}, run='u/elhoward/DM-44138/LSSTComCamSim/20240510T175057Z', id=7e22ca1b-d515-4606-be3a-c2a9fc9eea80),\n",
       " DatasetRef(DatasetType('goodSeeingDiff_longTrailedSrc', {band, instrument, day_obs, detector, physical_filter, visit}, DataFrame), {instrument: 'LSSTComCamSim', detector: 0, visit: 7024040200671, band: 'r', day_obs: 20240402, physical_filter: 'r_03'}, run='u/elhoward/DM-44138/LSSTComCamSim/20240510T175057Z', id=944f5d2f-20d8-469b-bec5-e74c147ee5f6),\n",
       " DatasetRef(DatasetType('goodSeeingDiff_longTrailedSrc', {band, instrument, day_obs, detector, physical_filter, visit}, DataFrame), {instrument: 'LSSTComCamSim', detector: 6, visit: 7024040200576, band: 'g', day_obs: 20240402, physical_filter: 'g_01'}, run='u/elhoward/DM-44138/LSSTComCamSim/20240510T175057Z', id=c84eed34-27e0-494a-a6f2-2e6a84695097),\n",
       " DatasetRef(DatasetType('goodSeeingDiff_longTrailedSrc', {band, instrument, day_obs, detector, physical_filter, visit}, DataFrame), {instrument: 'LSSTComCamSim', detector: 5, visit: 7024040300484, band: 'i', day_obs: 20240403, physical_filter: 'i_06'}, run='u/elhoward/DM-44138/LSSTComCamSim/20240510T175057Z', id=a1acf915-2258-4eb6-82d7-729f96e12536),\n",
       " DatasetRef(DatasetType('goodSeeingDiff_longTrailedSrc', {band, instrument, day_obs, detector, physical_filter, visit}, DataFrame), {instrument: 'LSSTComCamSim', detector: 4, visit: 7024040300629, band: 'g', day_obs: 20240403, physical_filter: 'g_01'}, run='u/elhoward/DM-44138/LSSTComCamSim/20240510T175057Z', id=c6b9c5dd-fe59-461a-bd2a-a72668426a26),\n",
       " DatasetRef(DatasetType('goodSeeingDiff_longTrailedSrc', {band, instrument, day_obs, detector, physical_filter, visit}, DataFrame), {instrument: 'LSSTComCamSim', detector: 7, visit: 7024040200134, band: 'r', day_obs: 20240402, physical_filter: 'r_03'}, run='u/elhoward/DM-44138/LSSTComCamSim/20240510T175057Z', id=995c41a7-7c9e-42d7-a398-0f22704b8451),\n",
       " DatasetRef(DatasetType('goodSeeingDiff_longTrailedSrc', {band, instrument, day_obs, detector, physical_filter, visit}, DataFrame), {instrument: 'LSSTComCamSim', detector: 2, visit: 7024040400484, band: 'r', day_obs: 20240404, physical_filter: 'r_03'}, run='u/elhoward/DM-44138/LSSTComCamSim/20240510T175057Z', id=73c8ecfc-02bd-46d2-a73f-8e0faaaf64a9),\n",
       " DatasetRef(DatasetType('goodSeeingDiff_longTrailedSrc', {band, instrument, day_obs, detector, physical_filter, visit}, DataFrame), {instrument: 'LSSTComCamSim', detector: 7, visit: 7024040400346, band: 'i', day_obs: 20240404, physical_filter: 'i_06'}, run='u/elhoward/DM-44138/LSSTComCamSim/20240510T175057Z', id=661f17d4-be58-4593-8826-e44167306ec0),\n",
       " DatasetRef(DatasetType('goodSeeingDiff_longTrailedSrc', {band, instrument, day_obs, detector, physical_filter, visit}, DataFrame), {instrument: 'LSSTComCamSim', detector: 8, visit: 7024040200204, band: 'g', day_obs: 20240402, physical_filter: 'g_01'}, run='u/elhoward/DM-44138/LSSTComCamSim/20240510T175057Z', id=cc8eb557-2d7b-4072-ba1f-2f6e51a017bb),\n",
       " DatasetRef(DatasetType('goodSeeingDiff_longTrailedSrc', {band, instrument, day_obs, detector, physical_filter, visit}, DataFrame), {instrument: 'LSSTComCamSim', detector: 1, visit: 7024040300184, band: 'i', day_obs: 20240403, physical_filter: 'i_06'}, run='u/elhoward/DM-44138/LSSTComCamSim/20240510T175057Z', id=a65a3f09-2ce8-49c6-9032-0b84df1acd62),\n",
       " DatasetRef(DatasetType('goodSeeingDiff_longTrailedSrc', {band, instrument, day_obs, detector, physical_filter, visit}, DataFrame), {instrument: 'LSSTComCamSim', detector: 2, visit: 7024040200757, band: 'g', day_obs: 20240402, physical_filter: 'g_01'}, run='u/elhoward/DM-44138/LSSTComCamSim/20240510T175057Z', id=a9cb1f2e-1094-489d-ac59-aeddf5ed56b6),\n",
       " DatasetRef(DatasetType('goodSeeingDiff_longTrailedSrc', {band, instrument, day_obs, detector, physical_filter, visit}, DataFrame), {instrument: 'LSSTComCamSim', detector: 5, visit: 7024040300727, band: 'i', day_obs: 20240403, physical_filter: 'i_06'}, run='u/elhoward/DM-44138/LSSTComCamSim/20240510T175057Z', id=e9a66880-0242-4ee6-af58-c08e54c02463),\n",
       " DatasetRef(DatasetType('goodSeeingDiff_longTrailedSrc', {band, instrument, day_obs, detector, physical_filter, visit}, DataFrame), {instrument: 'LSSTComCamSim', detector: 0, visit: 7024040300378, band: 'r', day_obs: 20240403, physical_filter: 'r_03'}, run='u/elhoward/DM-44138/LSSTComCamSim/20240510T175057Z', id=331fe7e9-4f10-4b6b-8fff-65813333c044),\n",
       " DatasetRef(DatasetType('goodSeeingDiff_longTrailedSrc', {band, instrument, day_obs, detector, physical_filter, visit}, DataFrame), {instrument: 'LSSTComCamSim', detector: 2, visit: 7024040200603, band: 'i', day_obs: 20240402, physical_filter: 'i_06'}, run='u/elhoward/DM-44138/LSSTComCamSim/20240510T175057Z', id=0b705a95-0ce5-4e6d-9b17-462a6518a81d),\n",
       " DatasetRef(DatasetType('goodSeeingDiff_longTrailedSrc', {band, instrument, day_obs, detector, physical_filter, visit}, DataFrame), {instrument: 'LSSTComCamSim', detector: 0, visit: 7024040200550, band: 'r', day_obs: 20240402, physical_filter: 'r_03'}, run='u/elhoward/DM-44138/LSSTComCamSim/20240510T175057Z', id=e37232d5-6a2e-4321-ba55-1e69b75d0291),\n",
       " DatasetRef(DatasetType('goodSeeingDiff_longTrailedSrc', {band, instrument, day_obs, detector, physical_filter, visit}, DataFrame), {instrument: 'LSSTComCamSim', detector: 5, visit: 7024040400043, band: 'i', day_obs: 20240404, physical_filter: 'i_06'}, run='u/elhoward/DM-44138/LSSTComCamSim/20240510T175057Z', id=169dd573-7f11-49c6-a5e9-60de3eda4da1),\n",
       " DatasetRef(DatasetType('goodSeeingDiff_longTrailedSrc', {band, instrument, day_obs, detector, physical_filter, visit}, DataFrame), {instrument: 'LSSTComCamSim', detector: 2, visit: 7024040400607, band: 'i', day_obs: 20240404, physical_filter: 'i_06'}, run='u/elhoward/DM-44138/LSSTComCamSim/20240510T175057Z', id=8fa3deb2-7bac-4edb-ad8f-3b7b633ba4ff),\n",
       " DatasetRef(DatasetType('goodSeeingDiff_longTrailedSrc', {band, instrument, day_obs, detector, physical_filter, visit}, DataFrame), {instrument: 'LSSTComCamSim', detector: 3, visit: 7024040400223, band: 'r', day_obs: 20240404, physical_filter: 'r_03'}, run='u/elhoward/DM-44138/LSSTComCamSim/20240510T175057Z', id=5e0e1903-eeb4-41de-b9b8-d379370c0d16),\n",
       " DatasetRef(DatasetType('goodSeeingDiff_longTrailedSrc', {band, instrument, day_obs, detector, physical_filter, visit}, DataFrame), {instrument: 'LSSTComCamSim', detector: 2, visit: 7024040200500, band: 'i', day_obs: 20240402, physical_filter: 'i_06'}, run='u/elhoward/DM-44138/LSSTComCamSim/20240510T175057Z', id=85f59251-cdc4-46fa-97c6-45ea99c0e443),\n",
       " DatasetRef(DatasetType('goodSeeingDiff_longTrailedSrc', {band, instrument, day_obs, detector, physical_filter, visit}, DataFrame), {instrument: 'LSSTComCamSim', detector: 7, visit: 7024040300731, band: 'i', day_obs: 20240403, physical_filter: 'i_06'}, run='u/elhoward/DM-44138/LSSTComCamSim/20240510T175057Z', id=a074e820-4eb6-4d74-91e5-838582943078),\n",
       " DatasetRef(DatasetType('goodSeeingDiff_longTrailedSrc', {band, instrument, day_obs, detector, physical_filter, visit}, DataFrame), {instrument: 'LSSTComCamSim', detector: 7, visit: 7024040200635, band: 'g', day_obs: 20240402, physical_filter: 'g_01'}, run='u/elhoward/DM-44138/LSSTComCamSim/20240510T175057Z', id=3d0a60ef-bcfe-44fa-a382-7875ed347466),\n",
       " DatasetRef(DatasetType('goodSeeingDiff_longTrailedSrc', {band, instrument, day_obs, detector, physical_filter, visit}, DataFrame), {instrument: 'LSSTComCamSim', detector: 4, visit: 7024040200616, band: 'i', day_obs: 20240402, physical_filter: 'i_06'}, run='u/elhoward/DM-44138/LSSTComCamSim/20240510T175057Z', id=883aef26-a15a-44f6-8501-42c0136df45b),\n",
       " DatasetRef(DatasetType('goodSeeingDiff_longTrailedSrc', {band, instrument, day_obs, detector, physical_filter, visit}, DataFrame), {instrument: 'LSSTComCamSim', detector: 5, visit: 7024040400703, band: 'i', day_obs: 20240404, physical_filter: 'i_06'}, run='u/elhoward/DM-44138/LSSTComCamSim/20240510T175057Z', id=568ce947-ebb8-4957-aff4-77ac45cfd170),\n",
       " DatasetRef(DatasetType('goodSeeingDiff_longTrailedSrc', {band, instrument, day_obs, detector, physical_filter, visit}, DataFrame), {instrument: 'LSSTComCamSim', detector: 3, visit: 7024040400306, band: 'r', day_obs: 20240404, physical_filter: 'r_03'}, run='u/elhoward/DM-44138/LSSTComCamSim/20240510T175057Z', id=6d3570cf-3634-431d-9e24-9eeec6aa837e),\n",
       " DatasetRef(DatasetType('goodSeeingDiff_longTrailedSrc', {band, instrument, day_obs, detector, physical_filter, visit}, DataFrame), {instrument: 'LSSTComCamSim', detector: 1, visit: 7024040300001, band: 'r', day_obs: 20240403, physical_filter: 'r_03'}, run='u/elhoward/DM-44138/LSSTComCamSim/20240510T175057Z', id=9d146b33-fea0-4c20-9b36-70b94599bb59),\n",
       " DatasetRef(DatasetType('goodSeeingDiff_longTrailedSrc', {band, instrument, day_obs, detector, physical_filter, visit}, DataFrame), {instrument: 'LSSTComCamSim', detector: 8, visit: 7024040200256, band: 'r', day_obs: 20240402, physical_filter: 'r_03'}, run='u/elhoward/DM-44138/LSSTComCamSim/20240510T175057Z', id=958448ec-ca0c-4c9a-b02c-9dfe2319b78f),\n",
       " DatasetRef(DatasetType('goodSeeingDiff_longTrailedSrc', {band, instrument, day_obs, detector, physical_filter, visit}, DataFrame), {instrument: 'LSSTComCamSim', detector: 8, visit: 7024040200750, band: 'g', day_obs: 20240402, physical_filter: 'g_01'}, run='u/elhoward/DM-44138/LSSTComCamSim/20240510T175057Z', id=6843ef34-4d74-4f21-a25a-6c1d53c7a389),\n",
       " DatasetRef(DatasetType('goodSeeingDiff_longTrailedSrc', {band, instrument, day_obs, detector, physical_filter, visit}, DataFrame), {instrument: 'LSSTComCamSim', detector: 0, visit: 7024040200387, band: 'g', day_obs: 20240402, physical_filter: 'g_01'}, run='u/elhoward/DM-44138/LSSTComCamSim/20240510T175057Z', id=3671efe3-e906-4204-be40-dd24f0b98c8a),\n",
       " DatasetRef(DatasetType('goodSeeingDiff_longTrailedSrc', {band, instrument, day_obs, detector, physical_filter, visit}, DataFrame), {instrument: 'LSSTComCamSim', detector: 1, visit: 7024040400486, band: 'r', day_obs: 20240404, physical_filter: 'r_03'}, run='u/elhoward/DM-44138/LSSTComCamSim/20240510T175057Z', id=812d5a62-31bb-418c-8573-b36e167f9079),\n",
       " DatasetRef(DatasetType('goodSeeingDiff_longTrailedSrc', {band, instrument, day_obs, detector, physical_filter, visit}, DataFrame), {instrument: 'LSSTComCamSim', detector: 3, visit: 7024040400626, band: 'g', day_obs: 20240404, physical_filter: 'g_01'}, run='u/elhoward/DM-44138/LSSTComCamSim/20240510T175057Z', id=3f14b3af-0b75-4da7-8d26-aabc8906aff7),\n",
       " DatasetRef(DatasetType('goodSeeingDiff_longTrailedSrc', {band, instrument, day_obs, detector, physical_filter, visit}, DataFrame), {instrument: 'LSSTComCamSim', detector: 8, visit: 7024040200325, band: 'g', day_obs: 20240402, physical_filter: 'g_01'}, run='u/elhoward/DM-44138/LSSTComCamSim/20240510T175057Z', id=95925444-dbe7-441d-b35f-3ba157e97c2d),\n",
       " DatasetRef(DatasetType('goodSeeingDiff_longTrailedSrc', {band, instrument, day_obs, detector, physical_filter, visit}, DataFrame), {instrument: 'LSSTComCamSim', detector: 8, visit: 7024040200076, band: 'i', day_obs: 20240402, physical_filter: 'i_06'}, run='u/elhoward/DM-44138/LSSTComCamSim/20240510T175057Z', id=0acd58bf-e01a-43f2-b87b-15a871e97db9),\n",
       " DatasetRef(DatasetType('goodSeeingDiff_longTrailedSrc', {band, instrument, day_obs, detector, physical_filter, visit}, DataFrame), {instrument: 'LSSTComCamSim', detector: 5, visit: 7024040400158, band: 'g', day_obs: 20240404, physical_filter: 'g_01'}, run='u/elhoward/DM-44138/LSSTComCamSim/20240510T175057Z', id=bb7b7922-f419-46c6-8e89-f6d6a517e6f8),\n",
       " DatasetRef(DatasetType('goodSeeingDiff_longTrailedSrc', {band, instrument, day_obs, detector, physical_filter, visit}, DataFrame), {instrument: 'LSSTComCamSim', detector: 7, visit: 7024040400420, band: 'i', day_obs: 20240404, physical_filter: 'i_06'}, run='u/elhoward/DM-44138/LSSTComCamSim/20240510T175057Z', id=7699d85a-6551-4049-9abc-b8e6633e1b30),\n",
       " DatasetRef(DatasetType('goodSeeingDiff_longTrailedSrc', {band, instrument, day_obs, detector, physical_filter, visit}, DataFrame), {instrument: 'LSSTComCamSim', detector: 2, visit: 7024040400660, band: 'r', day_obs: 20240404, physical_filter: 'r_03'}, run='u/elhoward/DM-44138/LSSTComCamSim/20240510T175057Z', id=847113d3-875a-4a1e-b0e5-c9c3e4304c6d),\n",
       " DatasetRef(DatasetType('goodSeeingDiff_longTrailedSrc', {band, instrument, day_obs, detector, physical_filter, visit}, DataFrame), {instrument: 'LSSTComCamSim', detector: 8, visit: 7024040300751, band: 'g', day_obs: 20240403, physical_filter: 'g_01'}, run='u/elhoward/DM-44138/LSSTComCamSim/20240510T175057Z', id=2fa7705d-31b4-4318-b3bd-3e3cd6138514),\n",
       " DatasetRef(DatasetType('goodSeeingDiff_longTrailedSrc', {band, instrument, day_obs, detector, physical_filter, visit}, DataFrame), {instrument: 'LSSTComCamSim', detector: 7, visit: 7024040200524, band: 'r', day_obs: 20240402, physical_filter: 'r_03'}, run='u/elhoward/DM-44138/LSSTComCamSim/20240510T175057Z', id=4b702cfe-1c36-4b39-9cee-4b80a8e7c3fe),\n",
       " DatasetRef(DatasetType('goodSeeingDiff_longTrailedSrc', {band, instrument, day_obs, detector, physical_filter, visit}, DataFrame), {instrument: 'LSSTComCamSim', detector: 5, visit: 7024040400508, band: 'g', day_obs: 20240404, physical_filter: 'g_01'}, run='u/elhoward/DM-44138/LSSTComCamSim/20240510T175057Z', id=6759c876-3f14-44c1-8908-ece97bf4f7e2),\n",
       " DatasetRef(DatasetType('goodSeeingDiff_longTrailedSrc', {band, instrument, day_obs, detector, physical_filter, visit}, DataFrame), {instrument: 'LSSTComCamSim', detector: 2, visit: 7024040200584, band: 'i', day_obs: 20240402, physical_filter: 'i_06'}, run='u/elhoward/DM-44138/LSSTComCamSim/20240510T175057Z', id=897e26a6-34b9-4e57-a6f6-8839c54aab3e),\n",
       " DatasetRef(DatasetType('goodSeeingDiff_longTrailedSrc', {band, instrument, day_obs, detector, physical_filter, visit}, DataFrame), {instrument: 'LSSTComCamSim', detector: 4, visit: 7024040200285, band: 'i', day_obs: 20240402, physical_filter: 'i_06'}, run='u/elhoward/DM-44138/LSSTComCamSim/20240510T175057Z', id=76de7897-735a-498a-92a8-bd975902d1e3),\n",
       " DatasetRef(DatasetType('goodSeeingDiff_longTrailedSrc', {band, instrument, day_obs, detector, physical_filter, visit}, DataFrame), {instrument: 'LSSTComCamSim', detector: 7, visit: 7024040300660, band: 'r', day_obs: 20240403, physical_filter: 'r_03'}, run='u/elhoward/DM-44138/LSSTComCamSim/20240510T175057Z', id=68b80376-05b6-499c-a33c-a104dbf95175),\n",
       " DatasetRef(DatasetType('goodSeeingDiff_longTrailedSrc', {band, instrument, day_obs, detector, physical_filter, visit}, DataFrame), {instrument: 'LSSTComCamSim', detector: 4, visit: 7024040400257, band: 'i', day_obs: 20240404, physical_filter: 'i_06'}, run='u/elhoward/DM-44138/LSSTComCamSim/20240510T175057Z', id=4fef457e-001c-4d3e-a7eb-8ca99ce6346a),\n",
       " DatasetRef(DatasetType('goodSeeingDiff_longTrailedSrc', {band, instrument, day_obs, detector, physical_filter, visit}, DataFrame), {instrument: 'LSSTComCamSim', detector: 4, visit: 7024040400053, band: 'i', day_obs: 20240404, physical_filter: 'i_06'}, run='u/elhoward/DM-44138/LSSTComCamSim/20240510T175057Z', id=4cbe3741-5119-43f1-80f2-b146b18a7ed3),\n",
       " DatasetRef(DatasetType('goodSeeingDiff_longTrailedSrc', {band, instrument, day_obs, detector, physical_filter, visit}, DataFrame), {instrument: 'LSSTComCamSim', detector: 7, visit: 7024040200378, band: 'r', day_obs: 20240402, physical_filter: 'r_03'}, run='u/elhoward/DM-44138/LSSTComCamSim/20240510T175057Z', id=e4899f3a-9a5e-4175-8661-ce5095a11290),\n",
       " DatasetRef(DatasetType('goodSeeingDiff_longTrailedSrc', {band, instrument, day_obs, detector, physical_filter, visit}, DataFrame), {instrument: 'LSSTComCamSim', detector: 5, visit: 7024040400337, band: 'g', day_obs: 20240404, physical_filter: 'g_01'}, run='u/elhoward/DM-44138/LSSTComCamSim/20240510T175057Z', id=e1080863-6243-4fc3-9ff6-c70ae330a024),\n",
       " DatasetRef(DatasetType('goodSeeingDiff_longTrailedSrc', {band, instrument, day_obs, detector, physical_filter, visit}, DataFrame), {instrument: 'LSSTComCamSim', detector: 3, visit: 7024040400359, band: 'i', day_obs: 20240404, physical_filter: 'i_06'}, run='u/elhoward/DM-44138/LSSTComCamSim/20240510T175057Z', id=b09e84fe-232f-4fc8-a138-918a8c0a2028),\n",
       " DatasetRef(DatasetType('goodSeeingDiff_longTrailedSrc', {band, instrument, day_obs, detector, physical_filter, visit}, DataFrame), {instrument: 'LSSTComCamSim', detector: 3, visit: 7024040300746, band: 'g', day_obs: 20240403, physical_filter: 'g_01'}, run='u/elhoward/DM-44138/LSSTComCamSim/20240510T175057Z', id=06e8a2e1-106e-4bc0-a678-d2369fe1c09f),\n",
       " DatasetRef(DatasetType('goodSeeingDiff_longTrailedSrc', {band, instrument, day_obs, detector, physical_filter, visit}, DataFrame), {instrument: 'LSSTComCamSim', detector: 4, visit: 7024040400480, band: 'r', day_obs: 20240404, physical_filter: 'r_03'}, run='u/elhoward/DM-44138/LSSTComCamSim/20240510T175057Z', id=027bc53e-9454-4d5e-8a34-7f15cc5333d6),\n",
       " DatasetRef(DatasetType('goodSeeingDiff_longTrailedSrc', {band, instrument, day_obs, detector, physical_filter, visit}, DataFrame), {instrument: 'LSSTComCamSim', detector: 6, visit: 7024040200777, band: 'r', day_obs: 20240402, physical_filter: 'r_03'}, run='u/elhoward/DM-44138/LSSTComCamSim/20240510T175057Z', id=2ba0f7fe-0c69-4acb-b0e2-92f0c43a4873),\n",
       " DatasetRef(DatasetType('goodSeeingDiff_longTrailedSrc', {band, instrument, day_obs, detector, physical_filter, visit}, DataFrame), {instrument: 'LSSTComCamSim', detector: 0, visit: 7024040200683, band: 'g', day_obs: 20240402, physical_filter: 'g_01'}, run='u/elhoward/DM-44138/LSSTComCamSim/20240510T175057Z', id=42abebbf-0e89-4c17-b8c8-a81924a43e3f),\n",
       " DatasetRef(DatasetType('goodSeeingDiff_longTrailedSrc', {band, instrument, day_obs, detector, physical_filter, visit}, DataFrame), {instrument: 'LSSTComCamSim', detector: 1, visit: 7024040400368, band: 'r', day_obs: 20240404, physical_filter: 'r_03'}, run='u/elhoward/DM-44138/LSSTComCamSim/20240510T175057Z', id=4606f0a0-6d94-450a-8c4e-18c6ee4176b6),\n",
       " DatasetRef(DatasetType('goodSeeingDiff_longTrailedSrc', {band, instrument, day_obs, detector, physical_filter, visit}, DataFrame), {instrument: 'LSSTComCamSim', detector: 0, visit: 7024040400050, band: 'i', day_obs: 20240404, physical_filter: 'i_06'}, run='u/elhoward/DM-44138/LSSTComCamSim/20240510T175057Z', id=bbf2e861-2d57-49ea-a8b8-4461b5104f75),\n",
       " DatasetRef(DatasetType('goodSeeingDiff_longTrailedSrc', {band, instrument, day_obs, detector, physical_filter, visit}, DataFrame), {instrument: 'LSSTComCamSim', detector: 1, visit: 7024040400388, band: 'g', day_obs: 20240404, physical_filter: 'g_01'}, run='u/elhoward/DM-44138/LSSTComCamSim/20240510T175057Z', id=778fb5f2-5c65-4e11-8bb3-af29ea60ae96),\n",
       " DatasetRef(DatasetType('goodSeeingDiff_longTrailedSrc', {band, instrument, day_obs, detector, physical_filter, visit}, DataFrame), {instrument: 'LSSTComCamSim', detector: 6, visit: 7024040400282, band: 'r', day_obs: 20240404, physical_filter: 'r_03'}, run='u/elhoward/DM-44138/LSSTComCamSim/20240510T175057Z', id=54c301e7-0544-4c80-a2ca-3cfcd40f3b3b),\n",
       " DatasetRef(DatasetType('goodSeeingDiff_longTrailedSrc', {band, instrument, day_obs, detector, physical_filter, visit}, DataFrame), {instrument: 'LSSTComCamSim', detector: 5, visit: 7024040400761, band: 'r', day_obs: 20240404, physical_filter: 'r_03'}, run='u/elhoward/DM-44138/LSSTComCamSim/20240510T175057Z', id=d3a6256a-214a-4455-8d70-eb98a0027cc4),\n",
       " DatasetRef(DatasetType('goodSeeingDiff_longTrailedSrc', {band, instrument, day_obs, detector, physical_filter, visit}, DataFrame), {instrument: 'LSSTComCamSim', detector: 4, visit: 7024040300531, band: 'r', day_obs: 20240403, physical_filter: 'r_03'}, run='u/elhoward/DM-44138/LSSTComCamSim/20240510T175057Z', id=9135c957-4188-472d-9d51-da6fab62664f),\n",
       " DatasetRef(DatasetType('goodSeeingDiff_longTrailedSrc', {band, instrument, day_obs, detector, physical_filter, visit}, DataFrame), {instrument: 'LSSTComCamSim', detector: 0, visit: 7024040200638, band: 'g', day_obs: 20240402, physical_filter: 'g_01'}, run='u/elhoward/DM-44138/LSSTComCamSim/20240510T175057Z', id=3ff93a97-608f-45b1-9284-5be7061ef263),\n",
       " DatasetRef(DatasetType('goodSeeingDiff_longTrailedSrc', {band, instrument, day_obs, detector, physical_filter, visit}, DataFrame), {instrument: 'LSSTComCamSim', detector: 7, visit: 7024040400377, band: 'r', day_obs: 20240404, physical_filter: 'r_03'}, run='u/elhoward/DM-44138/LSSTComCamSim/20240510T175057Z', id=8c12b483-6316-47fb-aea9-3d0a4423dfe4),\n",
       " DatasetRef(DatasetType('goodSeeingDiff_longTrailedSrc', {band, instrument, day_obs, detector, physical_filter, visit}, DataFrame), {instrument: 'LSSTComCamSim', detector: 5, visit: 7024040300699, band: 'g', day_obs: 20240403, physical_filter: 'g_01'}, run='u/elhoward/DM-44138/LSSTComCamSim/20240510T175057Z', id=9557a63f-3735-46a6-acfd-76acc36eeae4),\n",
       " DatasetRef(DatasetType('goodSeeingDiff_longTrailedSrc', {band, instrument, day_obs, detector, physical_filter, visit}, DataFrame), {instrument: 'LSSTComCamSim', detector: 7, visit: 7024040200012, band: 'r', day_obs: 20240402, physical_filter: 'r_03'}, run='u/elhoward/DM-44138/LSSTComCamSim/20240510T175057Z', id=11df0f4e-21d0-45b5-8377-658a732ef2af),\n",
       " DatasetRef(DatasetType('goodSeeingDiff_longTrailedSrc', {band, instrument, day_obs, detector, physical_filter, visit}, DataFrame), {instrument: 'LSSTComCamSim', detector: 0, visit: 7024040400247, band: 'i', day_obs: 20240404, physical_filter: 'i_06'}, run='u/elhoward/DM-44138/LSSTComCamSim/20240510T175057Z', id=206c0666-6ad4-49a2-ab50-dc8a40935350),\n",
       " DatasetRef(DatasetType('goodSeeingDiff_longTrailedSrc', {band, instrument, day_obs, detector, physical_filter, visit}, DataFrame), {instrument: 'LSSTComCamSim', detector: 1, visit: 7024040200665, band: 'r', day_obs: 20240402, physical_filter: 'r_03'}, run='u/elhoward/DM-44138/LSSTComCamSim/20240510T175057Z', id=c569564b-7924-4771-acd6-4eeb0f31e4d7),\n",
       " DatasetRef(DatasetType('goodSeeingDiff_longTrailedSrc', {band, instrument, day_obs, detector, physical_filter, visit}, DataFrame), {instrument: 'LSSTComCamSim', detector: 7, visit: 7024040300714, band: 'i', day_obs: 20240403, physical_filter: 'i_06'}, run='u/elhoward/DM-44138/LSSTComCamSim/20240510T175057Z', id=fad2b2cf-c781-47ca-9c7c-15cc34f161f9),\n",
       " DatasetRef(DatasetType('goodSeeingDiff_longTrailedSrc', {band, instrument, day_obs, detector, physical_filter, visit}, DataFrame), {instrument: 'LSSTComCamSim', detector: 6, visit: 7024040300527, band: 'r', day_obs: 20240403, physical_filter: 'r_03'}, run='u/elhoward/DM-44138/LSSTComCamSim/20240510T175057Z', id=e8ecf9f8-8fd9-4e17-b657-6ec18ded2fa8),\n",
       " DatasetRef(DatasetType('goodSeeingDiff_longTrailedSrc', {band, instrument, day_obs, detector, physical_filter, visit}, DataFrame), {instrument: 'LSSTComCamSim', detector: 6, visit: 7024040200644, band: 'r', day_obs: 20240402, physical_filter: 'r_03'}, run='u/elhoward/DM-44138/LSSTComCamSim/20240510T175057Z', id=e8eae1f1-6c86-4169-9cba-f790b3d114f0),\n",
       " DatasetRef(DatasetType('goodSeeingDiff_longTrailedSrc', {band, instrument, day_obs, detector, physical_filter, visit}, DataFrame), {instrument: 'LSSTComCamSim', detector: 3, visit: 7024040400047, band: 'i', day_obs: 20240404, physical_filter: 'i_06'}, run='u/elhoward/DM-44138/LSSTComCamSim/20240510T175057Z', id=3b9bca03-d1e0-4533-9c33-b43949427758),\n",
       " DatasetRef(DatasetType('goodSeeingDiff_longTrailedSrc', {band, instrument, day_obs, detector, physical_filter, visit}, DataFrame), {instrument: 'LSSTComCamSim', detector: 4, visit: 7024040300636, band: 'g', day_obs: 20240403, physical_filter: 'g_01'}, run='u/elhoward/DM-44138/LSSTComCamSim/20240510T175057Z', id=2b5612f5-5ce8-456c-b688-b4ec62447579),\n",
       " DatasetRef(DatasetType('goodSeeingDiff_longTrailedSrc', {band, instrument, day_obs, detector, physical_filter, visit}, DataFrame), {instrument: 'LSSTComCamSim', detector: 3, visit: 7024040400511, band: 'g', day_obs: 20240404, physical_filter: 'g_01'}, run='u/elhoward/DM-44138/LSSTComCamSim/20240510T175057Z', id=7c5d678b-4dfb-4b1f-9d1f-691be7bdc812),\n",
       " DatasetRef(DatasetType('goodSeeingDiff_longTrailedSrc', {band, instrument, day_obs, detector, physical_filter, visit}, DataFrame), {instrument: 'LSSTComCamSim', detector: 4, visit: 7024040400682, band: 'g', day_obs: 20240404, physical_filter: 'g_01'}, run='u/elhoward/DM-44138/LSSTComCamSim/20240510T175057Z', id=591fbfc6-3f1c-4811-9fc6-57fe063760c7),\n",
       " DatasetRef(DatasetType('goodSeeingDiff_longTrailedSrc', {band, instrument, day_obs, detector, physical_filter, visit}, DataFrame), {instrument: 'LSSTComCamSim', detector: 3, visit: 7024040400609, band: 'i', day_obs: 20240404, physical_filter: 'i_06'}, run='u/elhoward/DM-44138/LSSTComCamSim/20240510T175057Z', id=57fa832c-fcef-464b-a520-4e6ef2306ee5),\n",
       " DatasetRef(DatasetType('goodSeeingDiff_longTrailedSrc', {band, instrument, day_obs, detector, physical_filter, visit}, DataFrame), {instrument: 'LSSTComCamSim', detector: 1, visit: 7024040200349, band: 'i', day_obs: 20240402, physical_filter: 'i_06'}, run='u/elhoward/DM-44138/LSSTComCamSim/20240510T175057Z', id=fb7fafb5-a6a2-42c8-95c9-c85e586e0aef),\n",
       " DatasetRef(DatasetType('goodSeeingDiff_longTrailedSrc', {band, instrument, day_obs, detector, physical_filter, visit}, DataFrame), {instrument: 'LSSTComCamSim', detector: 3, visit: 7024040300385, band: 'g', day_obs: 20240403, physical_filter: 'g_01'}, run='u/elhoward/DM-44138/LSSTComCamSim/20240510T175057Z', id=40a8f2fa-466a-4d6f-bb67-8e1e706c360e),\n",
       " DatasetRef(DatasetType('goodSeeingDiff_longTrailedSrc', {band, instrument, day_obs, detector, physical_filter, visit}, DataFrame), {instrument: 'LSSTComCamSim', detector: 8, visit: 7024040400003, band: 'r', day_obs: 20240404, physical_filter: 'r_03'}, run='u/elhoward/DM-44138/LSSTComCamSim/20240510T175057Z', id=81225359-19fa-46e3-8978-ca8963c36a64),\n",
       " DatasetRef(DatasetType('goodSeeingDiff_longTrailedSrc', {band, instrument, day_obs, detector, physical_filter, visit}, DataFrame), {instrument: 'LSSTComCamSim', detector: 1, visit: 7024040200076, band: 'i', day_obs: 20240402, physical_filter: 'i_06'}, run='u/elhoward/DM-44138/LSSTComCamSim/20240510T175057Z', id=9616ed71-57df-4985-8b33-8920abcdd572),\n",
       " DatasetRef(DatasetType('goodSeeingDiff_longTrailedSrc', {band, instrument, day_obs, detector, physical_filter, visit}, DataFrame), {instrument: 'LSSTComCamSim', detector: 3, visit: 7024040400431, band: 'i', day_obs: 20240404, physical_filter: 'i_06'}, run='u/elhoward/DM-44138/LSSTComCamSim/20240510T175057Z', id=88607b48-c7b2-435d-9ce5-b519441a86bc),\n",
       " DatasetRef(DatasetType('goodSeeingDiff_longTrailedSrc', {band, instrument, day_obs, detector, physical_filter, visit}, DataFrame), {instrument: 'LSSTComCamSim', detector: 3, visit: 7024040400432, band: 'i', day_obs: 20240404, physical_filter: 'i_06'}, run='u/elhoward/DM-44138/LSSTComCamSim/20240510T175057Z', id=b25f4c9c-4d42-48d8-b259-df4b81535ae3),\n",
       " DatasetRef(DatasetType('goodSeeingDiff_longTrailedSrc', {band, instrument, day_obs, detector, physical_filter, visit}, DataFrame), {instrument: 'LSSTComCamSim', detector: 3, visit: 7024040300549, band: 'r', day_obs: 20240403, physical_filter: 'r_03'}, run='u/elhoward/DM-44138/LSSTComCamSim/20240510T175057Z', id=f2b59d79-22b3-4255-a611-a465884f0f33),\n",
       " DatasetRef(DatasetType('goodSeeingDiff_longTrailedSrc', {band, instrument, day_obs, detector, physical_filter, visit}, DataFrame), {instrument: 'LSSTComCamSim', detector: 8, visit: 7024040200659, band: 'r', day_obs: 20240402, physical_filter: 'r_03'}, run='u/elhoward/DM-44138/LSSTComCamSim/20240510T175057Z', id=3dd40f7b-4550-42f9-b28e-f2f2b14c8a54),\n",
       " DatasetRef(DatasetType('goodSeeingDiff_longTrailedSrc', {band, instrument, day_obs, detector, physical_filter, visit}, DataFrame), {instrument: 'LSSTComCamSim', detector: 3, visit: 7024040400743, band: 'g', day_obs: 20240404, physical_filter: 'g_01'}, run='u/elhoward/DM-44138/LSSTComCamSim/20240510T175057Z', id=02c5f1b4-4f14-46f1-a503-93c55d836ac5),\n",
       " DatasetRef(DatasetType('goodSeeingDiff_longTrailedSrc', {band, instrument, day_obs, detector, physical_filter, visit}, DataFrame), {instrument: 'LSSTComCamSim', detector: 3, visit: 7024040300777, band: 'r', day_obs: 20240403, physical_filter: 'r_03'}, run='u/elhoward/DM-44138/LSSTComCamSim/20240510T175057Z', id=44e9f369-7ba0-4041-8b0a-9c73f578a06e),\n",
       " DatasetRef(DatasetType('goodSeeingDiff_longTrailedSrc', {band, instrument, day_obs, detector, physical_filter, visit}, DataFrame), {instrument: 'LSSTComCamSim', detector: 4, visit: 7024040300406, band: 'i', day_obs: 20240403, physical_filter: 'i_06'}, run='u/elhoward/DM-44138/LSSTComCamSim/20240510T175057Z', id=48bf77e9-59bb-4ebe-a02e-d714bbc12c86),\n",
       " DatasetRef(DatasetType('goodSeeingDiff_longTrailedSrc', {band, instrument, day_obs, detector, physical_filter, visit}, DataFrame), {instrument: 'LSSTComCamSim', detector: 8, visit: 7024040400576, band: 'g', day_obs: 20240404, physical_filter: 'g_01'}, run='u/elhoward/DM-44138/LSSTComCamSim/20240510T175057Z', id=79ec30f7-4895-4175-b88e-0e6b751d16c1),\n",
       " DatasetRef(DatasetType('goodSeeingDiff_longTrailedSrc', {band, instrument, day_obs, detector, physical_filter, visit}, DataFrame), {instrument: 'LSSTComCamSim', detector: 3, visit: 7024040300585, band: 'i', day_obs: 20240403, physical_filter: 'i_06'}, run='u/elhoward/DM-44138/LSSTComCamSim/20240510T175057Z', id=a02b8d4c-52e0-499b-a697-21e0f1d3d592),\n",
       " DatasetRef(DatasetType('goodSeeingDiff_longTrailedSrc', {band, instrument, day_obs, detector, physical_filter, visit}, DataFrame), {instrument: 'LSSTComCamSim', detector: 7, visit: 7024040400288, band: 'r', day_obs: 20240404, physical_filter: 'r_03'}, run='u/elhoward/DM-44138/LSSTComCamSim/20240510T175057Z', id=c7597523-c600-400e-9276-9ad0359f21f6),\n",
       " DatasetRef(DatasetType('goodSeeingDiff_longTrailedSrc', {band, instrument, day_obs, detector, physical_filter, visit}, DataFrame), {instrument: 'LSSTComCamSim', detector: 0, visit: 7024040300657, band: 'r', day_obs: 20240403, physical_filter: 'r_03'}, run='u/elhoward/DM-44138/LSSTComCamSim/20240510T175057Z', id=52af25f2-1f44-4e19-bfe3-1f0dab3bb1cc),\n",
       " DatasetRef(DatasetType('goodSeeingDiff_longTrailedSrc', {band, instrument, day_obs, detector, physical_filter, visit}, DataFrame), {instrument: 'LSSTComCamSim', detector: 2, visit: 7024040200132, band: 'r', day_obs: 20240402, physical_filter: 'r_03'}, run='u/elhoward/DM-44138/LSSTComCamSim/20240510T175057Z', id=85fe81ab-5e3e-4683-849f-3049013a6e99),\n",
       " DatasetRef(DatasetType('goodSeeingDiff_longTrailedSrc', {band, instrument, day_obs, detector, physical_filter, visit}, DataFrame), {instrument: 'LSSTComCamSim', detector: 7, visit: 7024040200450, band: 'g', day_obs: 20240402, physical_filter: 'g_01'}, run='u/elhoward/DM-44138/LSSTComCamSim/20240510T175057Z', id=fb3bf6f4-3625-49ec-a92e-b32fbf0e5336),\n",
       " DatasetRef(DatasetType('goodSeeingDiff_longTrailedSrc', {band, instrument, day_obs, detector, physical_filter, visit}, DataFrame), {instrument: 'LSSTComCamSim', detector: 3, visit: 7024040400489, band: 'r', day_obs: 20240404, physical_filter: 'r_03'}, run='u/elhoward/DM-44138/LSSTComCamSim/20240510T175057Z', id=011c43f1-78f7-454c-930c-868ee68df88e),\n",
       " DatasetRef(DatasetType('goodSeeingDiff_longTrailedSrc', {band, instrument, day_obs, detector, physical_filter, visit}, DataFrame), {instrument: 'LSSTComCamSim', detector: 2, visit: 7024040400278, band: 'g', day_obs: 20240404, physical_filter: 'g_01'}, run='u/elhoward/DM-44138/LSSTComCamSim/20240510T175057Z', id=355e5684-cccc-4787-b0ec-c1b23b7766cb),\n",
       " DatasetRef(DatasetType('goodSeeingDiff_longTrailedSrc', {band, instrument, day_obs, detector, physical_filter, visit}, DataFrame), {instrument: 'LSSTComCamSim', detector: 3, visit: 7024040200005, band: 'r', day_obs: 20240402, physical_filter: 'r_03'}, run='u/elhoward/DM-44138/LSSTComCamSim/20240510T175057Z', id=d5fb9c96-8211-4dc3-827a-1708507ab4bc),\n",
       " DatasetRef(DatasetType('goodSeeingDiff_longTrailedSrc', {band, instrument, day_obs, detector, physical_filter, visit}, DataFrame), {instrument: 'LSSTComCamSim', detector: 8, visit: 7024040400295, band: 'r', day_obs: 20240404, physical_filter: 'r_03'}, run='u/elhoward/DM-44138/LSSTComCamSim/20240510T175057Z', id=8f7fd4c5-23ef-4d32-a663-c7cbb00c3982),\n",
       " DatasetRef(DatasetType('goodSeeingDiff_longTrailedSrc', {band, instrument, day_obs, detector, physical_filter, visit}, DataFrame), {instrument: 'LSSTComCamSim', detector: 4, visit: 7024040400080, band: 'i', day_obs: 20240404, physical_filter: 'i_06'}, run='u/elhoward/DM-44138/LSSTComCamSim/20240510T175057Z', id=9d715ad9-5f1a-41bb-a4f1-610d3f26154e),\n",
       " DatasetRef(DatasetType('goodSeeingDiff_longTrailedSrc', {band, instrument, day_obs, detector, physical_filter, visit}, DataFrame), {instrument: 'LSSTComCamSim', detector: 6, visit: 7024040200412, band: 'i', day_obs: 20240402, physical_filter: 'i_06'}, run='u/elhoward/DM-44138/LSSTComCamSim/20240510T175057Z', id=2294f770-7621-407d-9196-d3e146a59f4e),\n",
       " DatasetRef(DatasetType('goodSeeingDiff_longTrailedSrc', {band, instrument, day_obs, detector, physical_filter, visit}, DataFrame), {instrument: 'LSSTComCamSim', detector: 3, visit: 7024040200362, band: 'r', day_obs: 20240402, physical_filter: 'r_03'}, run='u/elhoward/DM-44138/LSSTComCamSim/20240510T175057Z', id=5c9d61a2-b840-4e0f-a633-e4e2f011b2ce),\n",
       " DatasetRef(DatasetType('goodSeeingDiff_longTrailedSrc', {band, instrument, day_obs, detector, physical_filter, visit}, DataFrame), {instrument: 'LSSTComCamSim', detector: 4, visit: 7024040200776, band: 'r', day_obs: 20240402, physical_filter: 'r_03'}, run='u/elhoward/DM-44138/LSSTComCamSim/20240510T175057Z', id=2c35edb2-d7e2-4fd9-8f33-8b9774baa49e),\n",
       " DatasetRef(DatasetType('goodSeeingDiff_longTrailedSrc', {band, instrument, day_obs, detector, physical_filter, visit}, DataFrame), {instrument: 'LSSTComCamSim', detector: 8, visit: 7024040200044, band: 'i', day_obs: 20240402, physical_filter: 'i_06'}, run='u/elhoward/DM-44138/LSSTComCamSim/20240510T175057Z', id=3b70e3de-4574-483d-bb3c-9d0511286174),\n",
       " DatasetRef(DatasetType('goodSeeingDiff_longTrailedSrc', {band, instrument, day_obs, detector, physical_filter, visit}, DataFrame), {instrument: 'LSSTComCamSim', detector: 8, visit: 7024040300055, band: 'i', day_obs: 20240403, physical_filter: 'i_06'}, run='u/elhoward/DM-44138/LSSTComCamSim/20240510T175057Z', id=bc0e9f1e-72c0-4852-988a-df202ecb60c5),\n",
       " DatasetRef(DatasetType('goodSeeingDiff_longTrailedSrc', {band, instrument, day_obs, detector, physical_filter, visit}, DataFrame), {instrument: 'LSSTComCamSim', detector: 8, visit: 7024040200160, band: 'g', day_obs: 20240402, physical_filter: 'g_01'}, run='u/elhoward/DM-44138/LSSTComCamSim/20240510T175057Z', id=c8187b76-da24-4fec-994a-862ae672a409),\n",
       " DatasetRef(DatasetType('goodSeeingDiff_longTrailedSrc', {band, instrument, day_obs, detector, physical_filter, visit}, DataFrame), {instrument: 'LSSTComCamSim', detector: 4, visit: 7024040200150, band: 'g', day_obs: 20240402, physical_filter: 'g_01'}, run='u/elhoward/DM-44138/LSSTComCamSim/20240510T175057Z', id=c81bb6cd-3a50-4ec4-90c8-39979493ad00),\n",
       " DatasetRef(DatasetType('goodSeeingDiff_longTrailedSrc', {band, instrument, day_obs, detector, physical_filter, visit}, DataFrame), {instrument: 'LSSTComCamSim', detector: 5, visit: 7024040300675, band: 'r', day_obs: 20240403, physical_filter: 'r_03'}, run='u/elhoward/DM-44138/LSSTComCamSim/20240510T175057Z', id=9bb4be33-52db-4697-bc48-00cb05e36ec5),\n",
       " DatasetRef(DatasetType('goodSeeingDiff_longTrailedSrc', {band, instrument, day_obs, detector, physical_filter, visit}, DataFrame), {instrument: 'LSSTComCamSim', detector: 6, visit: 7024040400427, band: 'i', day_obs: 20240404, physical_filter: 'i_06'}, run='u/elhoward/DM-44138/LSSTComCamSim/20240510T175057Z', id=cd8d7ca5-e66c-47b1-9d5e-4ea6703d65f3),\n",
       " DatasetRef(DatasetType('goodSeeingDiff_longTrailedSrc', {band, instrument, day_obs, detector, physical_filter, visit}, DataFrame), {instrument: 'LSSTComCamSim', detector: 5, visit: 7024040400401, band: 'i', day_obs: 20240404, physical_filter: 'i_06'}, run='u/elhoward/DM-44138/LSSTComCamSim/20240510T175057Z', id=ed8c941f-65fb-4334-b084-e79a000789f3),\n",
       " DatasetRef(DatasetType('goodSeeingDiff_longTrailedSrc', {band, instrument, day_obs, detector, physical_filter, visit}, DataFrame), {instrument: 'LSSTComCamSim', detector: 8, visit: 7024040200138, band: 'r', day_obs: 20240402, physical_filter: 'r_03'}, run='u/elhoward/DM-44138/LSSTComCamSim/20240510T175057Z', id=f9415b54-e051-46c6-bc61-ed43d8db6d45),\n",
       " DatasetRef(DatasetType('goodSeeingDiff_longTrailedSrc', {band, instrument, day_obs, detector, physical_filter, visit}, DataFrame), {instrument: 'LSSTComCamSim', detector: 3, visit: 7024040300404, band: 'i', day_obs: 20240403, physical_filter: 'i_06'}, run='u/elhoward/DM-44138/LSSTComCamSim/20240510T175057Z', id=cfc28a18-ffa9-4f7c-85e5-d1b4c95fa7d9),\n",
       " DatasetRef(DatasetType('goodSeeingDiff_longTrailedSrc', {band, instrument, day_obs, detector, physical_filter, visit}, DataFrame), {instrument: 'LSSTComCamSim', detector: 0, visit: 7024040200724, band: 'i', day_obs: 20240402, physical_filter: 'i_06'}, run='u/elhoward/DM-44138/LSSTComCamSim/20240510T175057Z', id=f4785df5-281b-4043-b9a4-ff77e98c21b6),\n",
       " DatasetRef(DatasetType('goodSeeingDiff_longTrailedSrc', {band, instrument, day_obs, detector, physical_filter, visit}, DataFrame), {instrument: 'LSSTComCamSim', detector: 8, visit: 7024040200246, band: 'r', day_obs: 20240402, physical_filter: 'r_03'}, run='u/elhoward/DM-44138/LSSTComCamSim/20240510T175057Z', id=c5886969-63a2-4f7a-a2d7-34117721a7e6),\n",
       " DatasetRef(DatasetType('goodSeeingDiff_longTrailedSrc', {band, instrument, day_obs, detector, physical_filter, visit}, DataFrame), {instrument: 'LSSTComCamSim', detector: 0, visit: 7024040200090, band: 'g', day_obs: 20240402, physical_filter: 'g_01'}, run='u/elhoward/DM-44138/LSSTComCamSim/20240510T175057Z', id=7b0f7145-d7cb-484e-9abc-27d95f10e17a),\n",
       " DatasetRef(DatasetType('goodSeeingDiff_longTrailedSrc', {band, instrument, day_obs, detector, physical_filter, visit}, DataFrame), {instrument: 'LSSTComCamSim', detector: 2, visit: 7024040400639, band: 'g', day_obs: 20240404, physical_filter: 'g_01'}, run='u/elhoward/DM-44138/LSSTComCamSim/20240510T175057Z', id=635edc2f-92dc-4782-9be4-41080a08e7f3),\n",
       " DatasetRef(DatasetType('goodSeeingDiff_longTrailedSrc', {band, instrument, day_obs, detector, physical_filter, visit}, DataFrame), {instrument: 'LSSTComCamSim', detector: 0, visit: 7024040400108, band: 'r', day_obs: 20240404, physical_filter: 'r_03'}, run='u/elhoward/DM-44138/LSSTComCamSim/20240510T175057Z', id=ce0f309c-12ea-4c7d-953d-12bebc6fc00e),\n",
       " DatasetRef(DatasetType('goodSeeingDiff_longTrailedSrc', {band, instrument, day_obs, detector, physical_filter, visit}, DataFrame), {instrument: 'LSSTComCamSim', detector: 8, visit: 7024040300230, band: 'r', day_obs: 20240403, physical_filter: 'r_03'}, run='u/elhoward/DM-44138/LSSTComCamSim/20240510T175057Z', id=68ca13fd-5296-409c-a239-d25d4a989f31),\n",
       " DatasetRef(DatasetType('goodSeeingDiff_longTrailedSrc', {band, instrument, day_obs, detector, physical_filter, visit}, DataFrame), {instrument: 'LSSTComCamSim', detector: 2, visit: 7024040400244, band: 'i', day_obs: 20240404, physical_filter: 'i_06'}, run='u/elhoward/DM-44138/LSSTComCamSim/20240510T175057Z', id=2350322d-c239-4bba-b825-adf77422466b),\n",
       " DatasetRef(DatasetType('goodSeeingDiff_longTrailedSrc', {band, instrument, day_obs, detector, physical_filter, visit}, DataFrame), {instrument: 'LSSTComCamSim', detector: 5, visit: 7024040200044, band: 'i', day_obs: 20240402, physical_filter: 'i_06'}, run='u/elhoward/DM-44138/LSSTComCamSim/20240510T175057Z', id=7daa7d97-c4c5-4c5b-be0c-882fa7f4c177),\n",
       " DatasetRef(DatasetType('goodSeeingDiff_longTrailedSrc', {band, instrument, day_obs, detector, physical_filter, visit}, DataFrame), {instrument: 'LSSTComCamSim', detector: 6, visit: 7024040200737, band: 'i', day_obs: 20240402, physical_filter: 'i_06'}, run='u/elhoward/DM-44138/LSSTComCamSim/20240510T175057Z', id=c19f31b4-fb2e-4a72-9265-49a89d7050c3),\n",
       " DatasetRef(DatasetType('goodSeeingDiff_longTrailedSrc', {band, instrument, day_obs, detector, physical_filter, visit}, DataFrame), {instrument: 'LSSTComCamSim', detector: 4, visit: 7024040400383, band: 'g', day_obs: 20240404, physical_filter: 'g_01'}, run='u/elhoward/DM-44138/LSSTComCamSim/20240510T175057Z', id=29ad0760-72c5-4b29-ae53-cda6fb564b47),\n",
       " DatasetRef(DatasetType('goodSeeingDiff_longTrailedSrc', {band, instrument, day_obs, detector, physical_filter, visit}, DataFrame), {instrument: 'LSSTComCamSim', detector: 5, visit: 7024040300701, band: 'i', day_obs: 20240403, physical_filter: 'i_06'}, run='u/elhoward/DM-44138/LSSTComCamSim/20240510T175057Z', id=103d3eb4-539d-4d9d-a8cb-ec13fde637b6),\n",
       " DatasetRef(DatasetType('goodSeeingDiff_longTrailedSrc', {band, instrument, day_obs, detector, physical_filter, visit}, DataFrame), {instrument: 'LSSTComCamSim', detector: 6, visit: 7024040400495, band: 'r', day_obs: 20240404, physical_filter: 'r_03'}, run='u/elhoward/DM-44138/LSSTComCamSim/20240510T175057Z', id=b1413448-0660-428e-9c9d-65d275b3100e),\n",
       " DatasetRef(DatasetType('goodSeeingDiff_longTrailedSrc', {band, instrument, day_obs, detector, physical_filter, visit}, DataFrame), {instrument: 'LSSTComCamSim', detector: 5, visit: 7024040400133, band: 'r', day_obs: 20240404, physical_filter: 'r_03'}, run='u/elhoward/DM-44138/LSSTComCamSim/20240510T175057Z', id=5d2a787a-0a39-4f95-a1f5-3168b833a808),\n",
       " DatasetRef(DatasetType('goodSeeingDiff_longTrailedSrc', {band, instrument, day_obs, detector, physical_filter, visit}, DataFrame), {instrument: 'LSSTComCamSim', detector: 4, visit: 7024040300700, band: 'g', day_obs: 20240403, physical_filter: 'g_01'}, run='u/elhoward/DM-44138/LSSTComCamSim/20240510T175057Z', id=dde8ee27-7f6f-4c51-af82-3552e759c229),\n",
       " DatasetRef(DatasetType('goodSeeingDiff_longTrailedSrc', {band, instrument, day_obs, detector, physical_filter, visit}, DataFrame), {instrument: 'LSSTComCamSim', detector: 8, visit: 7024040400252, band: 'i', day_obs: 20240404, physical_filter: 'i_06'}, run='u/elhoward/DM-44138/LSSTComCamSim/20240510T175057Z', id=77b6a254-959e-4d08-8d51-ebe3a5e63cda),\n",
       " DatasetRef(DatasetType('goodSeeingDiff_longTrailedSrc', {band, instrument, day_obs, detector, physical_filter, visit}, DataFrame), {instrument: 'LSSTComCamSim', detector: 3, visit: 7024040400605, band: 'i', day_obs: 20240404, physical_filter: 'i_06'}, run='u/elhoward/DM-44138/LSSTComCamSim/20240510T175057Z', id=4f052d11-e068-42e3-b881-9d0188028e45),\n",
       " DatasetRef(DatasetType('goodSeeingDiff_longTrailedSrc', {band, instrument, day_obs, detector, physical_filter, visit}, DataFrame), {instrument: 'LSSTComCamSim', detector: 1, visit: 7024040300521, band: 'r', day_obs: 20240403, physical_filter: 'r_03'}, run='u/elhoward/DM-44138/LSSTComCamSim/20240510T175057Z', id=d2189fd1-7e47-484f-8e12-9f17392762c0),\n",
       " DatasetRef(DatasetType('goodSeeingDiff_longTrailedSrc', {band, instrument, day_obs, detector, physical_filter, visit}, DataFrame), {instrument: 'LSSTComCamSim', detector: 8, visit: 7024040200161, band: 'i', day_obs: 20240402, physical_filter: 'i_06'}, run='u/elhoward/DM-44138/LSSTComCamSim/20240510T175057Z', id=23d75950-16c4-4418-a543-5ad4a0a984c2),\n",
       " DatasetRef(DatasetType('goodSeeingDiff_longTrailedSrc', {band, instrument, day_obs, detector, physical_filter, visit}, DataFrame), {instrument: 'LSSTComCamSim', detector: 0, visit: 7024040400597, band: 'i', day_obs: 20240404, physical_filter: 'i_06'}, run='u/elhoward/DM-44138/LSSTComCamSim/20240510T175057Z', id=5ba5a4df-5f51-419b-829c-ceda5d8f98a1),\n",
       " DatasetRef(DatasetType('goodSeeingDiff_longTrailedSrc', {band, instrument, day_obs, detector, physical_filter, visit}, DataFrame), {instrument: 'LSSTComCamSim', detector: 3, visit: 7024040300300, band: 'r', day_obs: 20240403, physical_filter: 'r_03'}, run='u/elhoward/DM-44138/LSSTComCamSim/20240510T175057Z', id=d788d9d5-8a5e-4b9a-ae21-fef6e1c44896),\n",
       " DatasetRef(DatasetType('goodSeeingDiff_longTrailedSrc', {band, instrument, day_obs, detector, physical_filter, visit}, DataFrame), {instrument: 'LSSTComCamSim', detector: 5, visit: 7024040400039, band: 'g', day_obs: 20240404, physical_filter: 'g_01'}, run='u/elhoward/DM-44138/LSSTComCamSim/20240510T175057Z', id=51c08b75-a5ac-415d-9acb-8a767e7a1ae3),\n",
       " DatasetRef(DatasetType('goodSeeingDiff_longTrailedSrc', {band, instrument, day_obs, detector, physical_filter, visit}, DataFrame), {instrument: 'LSSTComCamSim', detector: 7, visit: 7024040300452, band: 'g', day_obs: 20240403, physical_filter: 'g_01'}, run='u/elhoward/DM-44138/LSSTComCamSim/20240510T175057Z', id=c120d375-3408-4de5-8080-528f1df6b68f),\n",
       " DatasetRef(DatasetType('goodSeeingDiff_longTrailedSrc', {band, instrument, day_obs, detector, physical_filter, visit}, DataFrame), {instrument: 'LSSTComCamSim', detector: 0, visit: 7024040400549, band: 'r', day_obs: 20240404, physical_filter: 'r_03'}, run='u/elhoward/DM-44138/LSSTComCamSim/20240510T175057Z', id=f909d80b-68d7-4a86-9fcb-aca754915194),\n",
       " DatasetRef(DatasetType('goodSeeingDiff_longTrailedSrc', {band, instrument, day_obs, detector, physical_filter, visit}, DataFrame), {instrument: 'LSSTComCamSim', detector: 3, visit: 7024040200026, band: 'g', day_obs: 20240402, physical_filter: 'g_01'}, run='u/elhoward/DM-44138/LSSTComCamSim/20240510T175057Z', id=ae3f39e9-9cf6-433a-8b36-7cfdc2c10c2a),\n",
       " DatasetRef(DatasetType('goodSeeingDiff_longTrailedSrc', {band, instrument, day_obs, detector, physical_filter, visit}, DataFrame), {instrument: 'LSSTComCamSim', detector: 8, visit: 7024040400105, band: 'r', day_obs: 20240404, physical_filter: 'r_03'}, run='u/elhoward/DM-44138/LSSTComCamSim/20240510T175057Z', id=11754430-391b-4109-9cc7-4fb63bd59d91),\n",
       " DatasetRef(DatasetType('goodSeeingDiff_longTrailedSrc', {band, instrument, day_obs, detector, physical_filter, visit}, DataFrame), {instrument: 'LSSTComCamSim', detector: 5, visit: 7024040300248, band: 'i', day_obs: 20240403, physical_filter: 'i_06'}, run='u/elhoward/DM-44138/LSSTComCamSim/20240510T175057Z', id=1ab2809d-31e1-4e07-9885-348ed4f135f8),\n",
       " DatasetRef(DatasetType('goodSeeingDiff_longTrailedSrc', {band, instrument, day_obs, detector, physical_filter, visit}, DataFrame), {instrument: 'LSSTComCamSim', detector: 4, visit: 7024040300659, band: 'r', day_obs: 20240403, physical_filter: 'r_03'}, run='u/elhoward/DM-44138/LSSTComCamSim/20240510T175057Z', id=46b65534-b5c0-4c21-bcb0-55996a104529),\n",
       " DatasetRef(DatasetType('goodSeeingDiff_longTrailedSrc', {band, instrument, day_obs, detector, physical_filter, visit}, DataFrame), {instrument: 'LSSTComCamSim', detector: 6, visit: 7024040300541, band: 'r', day_obs: 20240403, physical_filter: 'r_03'}, run='u/elhoward/DM-44138/LSSTComCamSim/20240510T175057Z', id=b368b8a9-e6d7-4afb-acac-edab92aa4e32),\n",
       " DatasetRef(DatasetType('goodSeeingDiff_longTrailedSrc', {band, instrument, day_obs, detector, physical_filter, visit}, DataFrame), {instrument: 'LSSTComCamSim', detector: 6, visit: 7024040300220, band: 'g', day_obs: 20240403, physical_filter: 'g_01'}, run='u/elhoward/DM-44138/LSSTComCamSim/20240510T175057Z', id=18e67373-efa3-4c54-a166-f7634bdbc3aa),\n",
       " DatasetRef(DatasetType('goodSeeingDiff_longTrailedSrc', {band, instrument, day_obs, detector, physical_filter, visit}, DataFrame), {instrument: 'LSSTComCamSim', detector: 4, visit: 7024040400457, band: 'g', day_obs: 20240404, physical_filter: 'g_01'}, run='u/elhoward/DM-44138/LSSTComCamSim/20240510T175057Z', id=ea7419dd-3146-4627-b6f5-233f8b29f518),\n",
       " DatasetRef(DatasetType('goodSeeingDiff_longTrailedSrc', {band, instrument, day_obs, detector, physical_filter, visit}, DataFrame), {instrument: 'LSSTComCamSim', detector: 5, visit: 7024040300603, band: 'i', day_obs: 20240403, physical_filter: 'i_06'}, run='u/elhoward/DM-44138/LSSTComCamSim/20240510T175057Z', id=30d52b1a-0ef7-40f6-a945-feb474d49efd),\n",
       " DatasetRef(DatasetType('goodSeeingDiff_longTrailedSrc', {band, instrument, day_obs, detector, physical_filter, visit}, DataFrame), {instrument: 'LSSTComCamSim', detector: 2, visit: 7024040300481, band: 'i', day_obs: 20240403, physical_filter: 'i_06'}, run='u/elhoward/DM-44138/LSSTComCamSim/20240510T175057Z', id=49f5a90e-23cd-4782-9e91-e320352dea6a),\n",
       " DatasetRef(DatasetType('goodSeeingDiff_longTrailedSrc', {band, instrument, day_obs, detector, physical_filter, visit}, DataFrame), {instrument: 'LSSTComCamSim', detector: 8, visit: 7024040400207, band: 'g', day_obs: 20240404, physical_filter: 'g_01'}, run='u/elhoward/DM-44138/LSSTComCamSim/20240510T175057Z', id=59ec3329-cd1c-4409-9df8-cef0fb2c8652),\n",
       " DatasetRef(DatasetType('goodSeeingDiff_longTrailedSrc', {band, instrument, day_obs, detector, physical_filter, visit}, DataFrame), {instrument: 'LSSTComCamSim', detector: 0, visit: 7024040400555, band: 'r', day_obs: 20240404, physical_filter: 'r_03'}, run='u/elhoward/DM-44138/LSSTComCamSim/20240510T175057Z', id=91de7a12-d475-4200-b299-826ed57f96b3),\n",
       " DatasetRef(DatasetType('goodSeeingDiff_longTrailedSrc', {band, instrument, day_obs, detector, physical_filter, visit}, DataFrame), {instrument: 'LSSTComCamSim', detector: 4, visit: 7024040200220, band: 'g', day_obs: 20240402, physical_filter: 'g_01'}, run='u/elhoward/DM-44138/LSSTComCamSim/20240510T175057Z', id=4325c400-4f41-40c1-b797-b001500720de),\n",
       " DatasetRef(DatasetType('goodSeeingDiff_longTrailedSrc', {band, instrument, day_obs, detector, physical_filter, visit}, DataFrame), {instrument: 'LSSTComCamSim', detector: 1, visit: 7024040400270, band: 'g', day_obs: 20240404, physical_filter: 'g_01'}, run='u/elhoward/DM-44138/LSSTComCamSim/20240510T175057Z', id=9a3755be-71d2-4605-ac05-126026b576ad),\n",
       " DatasetRef(DatasetType('goodSeeingDiff_longTrailedSrc', {band, instrument, day_obs, detector, physical_filter, visit}, DataFrame), {instrument: 'LSSTComCamSim', detector: 0, visit: 7024040200336, band: 'g', day_obs: 20240402, physical_filter: 'g_01'}, run='u/elhoward/DM-44138/LSSTComCamSim/20240510T175057Z', id=47c13bd5-feda-4b83-a939-2828f87ccad1),\n",
       " DatasetRef(DatasetType('goodSeeingDiff_longTrailedSrc', {band, instrument, day_obs, detector, physical_filter, visit}, DataFrame), {instrument: 'LSSTComCamSim', detector: 4, visit: 7024040200671, band: 'r', day_obs: 20240402, physical_filter: 'r_03'}, run='u/elhoward/DM-44138/LSSTComCamSim/20240510T175057Z', id=491ec293-7067-4f60-92db-84e7aa42ac1f),\n",
       " DatasetRef(DatasetType('goodSeeingDiff_longTrailedSrc', {band, instrument, day_obs, detector, physical_filter, visit}, DataFrame), {instrument: 'LSSTComCamSim', detector: 4, visit: 7024040200771, band: 'r', day_obs: 20240402, physical_filter: 'r_03'}, run='u/elhoward/DM-44138/LSSTComCamSim/20240510T175057Z', id=ba17e15f-00a6-419e-96fb-c94786f71a15),\n",
       " DatasetRef(DatasetType('goodSeeingDiff_longTrailedSrc', {band, instrument, day_obs, detector, physical_filter, visit}, DataFrame), {instrument: 'LSSTComCamSim', detector: 5, visit: 7024040400478, band: 'r', day_obs: 20240404, physical_filter: 'r_03'}, run='u/elhoward/DM-44138/LSSTComCamSim/20240510T175057Z', id=47b98d92-8ebc-4fe2-a35f-2f6e45b7a815),\n",
       " DatasetRef(DatasetType('goodSeeingDiff_longTrailedSrc', {band, instrument, day_obs, detector, physical_filter, visit}, DataFrame), {instrument: 'LSSTComCamSim', detector: 2, visit: 7024040300170, band: 'i', day_obs: 20240403, physical_filter: 'i_06'}, run='u/elhoward/DM-44138/LSSTComCamSim/20240510T175057Z', id=f1c4a809-1824-473a-a67b-50ca5885ed57),\n",
       " DatasetRef(DatasetType('goodSeeingDiff_longTrailedSrc', {band, instrument, day_obs, detector, physical_filter, visit}, DataFrame), {instrument: 'LSSTComCamSim', detector: 0, visit: 7024040400657, band: 'r', day_obs: 20240404, physical_filter: 'r_03'}, run='u/elhoward/DM-44138/LSSTComCamSim/20240510T175057Z', id=490d7d93-55e9-45d7-bc9e-af22cad7f89b),\n",
       " DatasetRef(DatasetType('goodSeeingDiff_longTrailedSrc', {band, instrument, day_obs, detector, physical_filter, visit}, DataFrame), {instrument: 'LSSTComCamSim', detector: 3, visit: 7024040300578, band: 'g', day_obs: 20240403, physical_filter: 'g_01'}, run='u/elhoward/DM-44138/LSSTComCamSim/20240510T175057Z', id=94f51f5a-891f-4c57-bb77-98c95872448f),\n",
       " DatasetRef(DatasetType('goodSeeingDiff_longTrailedSrc', {band, instrument, day_obs, detector, physical_filter, visit}, DataFrame), {instrument: 'LSSTComCamSim', detector: 1, visit: 7024040200236, band: 'r', day_obs: 20240402, physical_filter: 'r_03'}, run='u/elhoward/DM-44138/LSSTComCamSim/20240510T175057Z', id=eb77d74f-d1ed-49f5-872a-43efa985d789),\n",
       " DatasetRef(DatasetType('goodSeeingDiff_longTrailedSrc', {band, instrument, day_obs, detector, physical_filter, visit}, DataFrame), {instrument: 'LSSTComCamSim', detector: 0, visit: 7024040400754, band: 'g', day_obs: 20240404, physical_filter: 'g_01'}, run='u/elhoward/DM-44138/LSSTComCamSim/20240510T175057Z', id=0942a8e4-e4cb-4af1-b829-4c1648c7cff6),\n",
       " DatasetRef(DatasetType('goodSeeingDiff_longTrailedSrc', {band, instrument, day_obs, detector, physical_filter, visit}, DataFrame), {instrument: 'LSSTComCamSim', detector: 7, visit: 7024040200197, band: 'i', day_obs: 20240402, physical_filter: 'i_06'}, run='u/elhoward/DM-44138/LSSTComCamSim/20240510T175057Z', id=130db5f7-353f-444a-91f9-a45087268544),\n",
       " DatasetRef(DatasetType('goodSeeingDiff_longTrailedSrc', {band, instrument, day_obs, detector, physical_filter, visit}, DataFrame), {instrument: 'LSSTComCamSim', detector: 4, visit: 7024040300572, band: 'g', day_obs: 20240403, physical_filter: 'g_01'}, run='u/elhoward/DM-44138/LSSTComCamSim/20240510T175057Z', id=c2e41c3f-d891-42ed-bdd5-25c38b271003),\n",
       " DatasetRef(DatasetType('goodSeeingDiff_longTrailedSrc', {band, instrument, day_obs, detector, physical_filter, visit}, DataFrame), {instrument: 'LSSTComCamSim', detector: 6, visit: 7024040400476, band: 'r', day_obs: 20240404, physical_filter: 'r_03'}, run='u/elhoward/DM-44138/LSSTComCamSim/20240510T175057Z', id=ae81c50b-55bb-4173-91f2-2fe61db71c03),\n",
       " DatasetRef(DatasetType('goodSeeingDiff_longTrailedSrc', {band, instrument, day_obs, detector, physical_filter, visit}, DataFrame), {instrument: 'LSSTComCamSim', detector: 3, visit: 7024040400608, band: 'i', day_obs: 20240404, physical_filter: 'i_06'}, run='u/elhoward/DM-44138/LSSTComCamSim/20240510T175057Z', id=6a2048ba-4659-432d-a852-b72d15bb0e34),\n",
       " DatasetRef(DatasetType('goodSeeingDiff_longTrailedSrc', {band, instrument, day_obs, detector, physical_filter, visit}, DataFrame), {instrument: 'LSSTComCamSim', detector: 4, visit: 7024040200209, band: 'g', day_obs: 20240402, physical_filter: 'g_01'}, run='u/elhoward/DM-44138/LSSTComCamSim/20240510T175057Z', id=f32e6518-b8a2-4973-9f47-64692d675c04),\n",
       " DatasetRef(DatasetType('goodSeeingDiff_longTrailedSrc', {band, instrument, day_obs, detector, physical_filter, visit}, DataFrame), {instrument: 'LSSTComCamSim', detector: 8, visit: 7024040400277, band: 'g', day_obs: 20240404, physical_filter: 'g_01'}, run='u/elhoward/DM-44138/LSSTComCamSim/20240510T175057Z', id=0df8d20b-d04e-41da-89bf-13c3adaf18e7),\n",
       " DatasetRef(DatasetType('goodSeeingDiff_longTrailedSrc', {band, instrument, day_obs, detector, physical_filter, visit}, DataFrame), {instrument: 'LSSTComCamSim', detector: 6, visit: 7024040400420, band: 'i', day_obs: 20240404, physical_filter: 'i_06'}, run='u/elhoward/DM-44138/LSSTComCamSim/20240510T175057Z', id=67b1d716-a412-4dc2-8fcd-0160eba039a5),\n",
       " DatasetRef(DatasetType('goodSeeingDiff_longTrailedSrc', {band, instrument, day_obs, detector, physical_filter, visit}, DataFrame), {instrument: 'LSSTComCamSim', detector: 7, visit: 7024040200631, band: 'g', day_obs: 20240402, physical_filter: 'g_01'}, run='u/elhoward/DM-44138/LSSTComCamSim/20240510T175057Z', id=c5d18e10-652f-4b75-a442-bb3605f0cc07),\n",
       " DatasetRef(DatasetType('goodSeeingDiff_longTrailedSrc', {band, instrument, day_obs, detector, physical_filter, visit}, DataFrame), {instrument: 'LSSTComCamSim', detector: 1, visit: 7024040200710, band: 'i', day_obs: 20240402, physical_filter: 'i_06'}, run='u/elhoward/DM-44138/LSSTComCamSim/20240510T175057Z', id=0339a0d8-6902-4529-901d-7b1d65647eb8),\n",
       " DatasetRef(DatasetType('goodSeeingDiff_longTrailedSrc', {band, instrument, day_obs, detector, physical_filter, visit}, DataFrame), {instrument: 'LSSTComCamSim', detector: 1, visit: 7024040300684, band: 'g', day_obs: 20240403, physical_filter: 'g_01'}, run='u/elhoward/DM-44138/LSSTComCamSim/20240510T175057Z', id=80702f7d-0be9-4d14-b369-031a48773f57),\n",
       " DatasetRef(DatasetType('goodSeeingDiff_longTrailedSrc', {band, instrument, day_obs, detector, physical_filter, visit}, DataFrame), {instrument: 'LSSTComCamSim', detector: 5, visit: 7024040400347, band: 'i', day_obs: 20240404, physical_filter: 'i_06'}, run='u/elhoward/DM-44138/LSSTComCamSim/20240510T175057Z', id=5b92c8cc-620a-452d-b9c2-64b6b862feb4),\n",
       " DatasetRef(DatasetType('goodSeeingDiff_longTrailedSrc', {band, instrument, day_obs, detector, physical_filter, visit}, DataFrame), {instrument: 'LSSTComCamSim', detector: 5, visit: 7024040200089, band: 'g', day_obs: 20240402, physical_filter: 'g_01'}, run='u/elhoward/DM-44138/LSSTComCamSim/20240510T175057Z', id=717240d8-e6b4-4e50-9d2f-be8f1e3c357d),\n",
       " DatasetRef(DatasetType('goodSeeingDiff_longTrailedSrc', {band, instrument, day_obs, detector, physical_filter, visit}, DataFrame), {instrument: 'LSSTComCamSim', detector: 4, visit: 7024040400306, band: 'r', day_obs: 20240404, physical_filter: 'r_03'}, run='u/elhoward/DM-44138/LSSTComCamSim/20240510T175057Z', id=74193085-ea54-409f-ab0b-f45e767ea323),\n",
       " DatasetRef(DatasetType('goodSeeingDiff_longTrailedSrc', {band, instrument, day_obs, detector, physical_filter, visit}, DataFrame), {instrument: 'LSSTComCamSim', detector: 7, visit: 7024040300570, band: 'g', day_obs: 20240403, physical_filter: 'g_01'}, run='u/elhoward/DM-44138/LSSTComCamSim/20240510T175057Z', id=d1cfd99a-26b6-4219-84e6-3530f20c9752),\n",
       " DatasetRef(DatasetType('goodSeeingDiff_longTrailedSrc', {band, instrument, day_obs, detector, physical_filter, visit}, DataFrame), {instrument: 'LSSTComCamSim', detector: 1, visit: 7024040300135, band: 'r', day_obs: 20240403, physical_filter: 'r_03'}, run='u/elhoward/DM-44138/LSSTComCamSim/20240510T175057Z', id=f9efd624-4c72-4f23-a98a-5db943ffaee4),\n",
       " DatasetRef(DatasetType('goodSeeingDiff_longTrailedSrc', {band, instrument, day_obs, detector, physical_filter, visit}, DataFrame), {instrument: 'LSSTComCamSim', detector: 8, visit: 7024040400440, band: 'i', day_obs: 20240404, physical_filter: 'i_06'}, run='u/elhoward/DM-44138/LSSTComCamSim/20240510T175057Z', id=77761f1e-bbb6-439f-aa25-1fdf4a848b64),\n",
       " DatasetRef(DatasetType('goodSeeingDiff_longTrailedSrc', {band, instrument, day_obs, detector, physical_filter, visit}, DataFrame), {instrument: 'LSSTComCamSim', detector: 4, visit: 7024040200252, band: 'r', day_obs: 20240402, physical_filter: 'r_03'}, run='u/elhoward/DM-44138/LSSTComCamSim/20240510T175057Z', id=817ac19d-e7c0-463e-b4ef-e5e7b704f6c5),\n",
       " DatasetRef(DatasetType('goodSeeingDiff_longTrailedSrc', {band, instrument, day_obs, detector, physical_filter, visit}, DataFrame), {instrument: 'LSSTComCamSim', detector: 4, visit: 7024040300320, band: 'i', day_obs: 20240403, physical_filter: 'i_06'}, run='u/elhoward/DM-44138/LSSTComCamSim/20240510T175057Z', id=da1ac90f-d20d-47be-a2d1-13d6bf706abe),\n",
       " DatasetRef(DatasetType('goodSeeingDiff_longTrailedSrc', {band, instrument, day_obs, detector, physical_filter, visit}, DataFrame), {instrument: 'LSSTComCamSim', detector: 7, visit: 7024040400575, band: 'g', day_obs: 20240404, physical_filter: 'g_01'}, run='u/elhoward/DM-44138/LSSTComCamSim/20240510T175057Z', id=fadb8fc2-96da-4ee6-96f1-6b1fd1c0b16f),\n",
       " DatasetRef(DatasetType('goodSeeingDiff_longTrailedSrc', {band, instrument, day_obs, detector, physical_filter, visit}, DataFrame), {instrument: 'LSSTComCamSim', detector: 7, visit: 7024040400773, band: 'r', day_obs: 20240404, physical_filter: 'r_03'}, run='u/elhoward/DM-44138/LSSTComCamSim/20240510T175057Z', id=c5c53dac-cd2a-4bbc-a23a-b5ca0f004adc),\n",
       " DatasetRef(DatasetType('goodSeeingDiff_longTrailedSrc', {band, instrument, day_obs, detector, physical_filter, visit}, DataFrame), {instrument: 'LSSTComCamSim', detector: 8, visit: 7024040400644, band: 'r', day_obs: 20240404, physical_filter: 'r_03'}, run='u/elhoward/DM-44138/LSSTComCamSim/20240510T175057Z', id=d33dc3ff-377b-4996-a147-92a0fc795c1a),\n",
       " DatasetRef(DatasetType('goodSeeingDiff_longTrailedSrc', {band, instrument, day_obs, detector, physical_filter, visit}, DataFrame), {instrument: 'LSSTComCamSim', detector: 1, visit: 7024040400203, band: 'g', day_obs: 20240404, physical_filter: 'g_01'}, run='u/elhoward/DM-44138/LSSTComCamSim/20240510T175057Z', id=d0f8ef8d-4263-4b93-bd7c-8b1cbe77cc3b),\n",
       " DatasetRef(DatasetType('goodSeeingDiff_longTrailedSrc', {band, instrument, day_obs, detector, physical_filter, visit}, DataFrame), {instrument: 'LSSTComCamSim', detector: 4, visit: 7024040300395, band: 'g', day_obs: 20240403, physical_filter: 'g_01'}, run='u/elhoward/DM-44138/LSSTComCamSim/20240510T175057Z', id=438cf0c8-f71f-4929-8821-3ae9c240dfb0),\n",
       " DatasetRef(DatasetType('goodSeeingDiff_longTrailedSrc', {band, instrument, day_obs, detector, physical_filter, visit}, DataFrame), {instrument: 'LSSTComCamSim', detector: 5, visit: 7024040300368, band: 'r', day_obs: 20240403, physical_filter: 'r_03'}, run='u/elhoward/DM-44138/LSSTComCamSim/20240510T175057Z', id=468555bf-cbb1-4294-9947-a32beeab946a),\n",
       " DatasetRef(DatasetType('goodSeeingDiff_longTrailedSrc', {band, instrument, day_obs, detector, physical_filter, visit}, DataFrame), {instrument: 'LSSTComCamSim', detector: 4, visit: 7024040400202, band: 'g', day_obs: 20240404, physical_filter: 'g_01'}, run='u/elhoward/DM-44138/LSSTComCamSim/20240510T175057Z', id=8fb8e7a8-cda0-4d4d-8e6e-451bbe5f3e8a),\n",
       " DatasetRef(DatasetType('goodSeeingDiff_longTrailedSrc', {band, instrument, day_obs, detector, physical_filter, visit}, DataFrame), {instrument: 'LSSTComCamSim', detector: 8, visit: 7024040400165, band: 'i', day_obs: 20240404, physical_filter: 'i_06'}, run='u/elhoward/DM-44138/LSSTComCamSim/20240510T175057Z', id=be481973-02cb-4600-874e-1da5ecbef906),\n",
       " DatasetRef(DatasetType('goodSeeingDiff_longTrailedSrc', {band, instrument, day_obs, detector, physical_filter, visit}, DataFrame), {instrument: 'LSSTComCamSim', detector: 1, visit: 7024040200612, band: 'i', day_obs: 20240402, physical_filter: 'i_06'}, run='u/elhoward/DM-44138/LSSTComCamSim/20240510T175057Z', id=32a81c68-f248-4869-a392-20b4b43c65e1),\n",
       " DatasetRef(DatasetType('goodSeeingDiff_longTrailedSrc', {band, instrument, day_obs, detector, physical_filter, visit}, DataFrame), {instrument: 'LSSTComCamSim', detector: 4, visit: 7024040400775, band: 'r', day_obs: 20240404, physical_filter: 'r_03'}, run='u/elhoward/DM-44138/LSSTComCamSim/20240510T175057Z', id=bb9486bd-4818-48dd-91dc-a43830ca622f),\n",
       " DatasetRef(DatasetType('goodSeeingDiff_longTrailedSrc', {band, instrument, day_obs, detector, physical_filter, visit}, DataFrame), {instrument: 'LSSTComCamSim', detector: 8, visit: 7024040300708, band: 'i', day_obs: 20240403, physical_filter: 'i_06'}, run='u/elhoward/DM-44138/LSSTComCamSim/20240510T175057Z', id=865f3b8c-be2c-4e59-b423-c8b269ac3659),\n",
       " DatasetRef(DatasetType('goodSeeingDiff_longTrailedSrc', {band, instrument, day_obs, detector, physical_filter, visit}, DataFrame), {instrument: 'LSSTComCamSim', detector: 5, visit: 7024040400588, band: 'i', day_obs: 20240404, physical_filter: 'i_06'}, run='u/elhoward/DM-44138/LSSTComCamSim/20240510T175057Z', id=beaa3db8-8d67-4fd5-a002-728fbffd2a8f),\n",
       " DatasetRef(DatasetType('goodSeeingDiff_longTrailedSrc', {band, instrument, day_obs, detector, physical_filter, visit}, DataFrame), {instrument: 'LSSTComCamSim', detector: 0, visit: 7024040300770, band: 'r', day_obs: 20240403, physical_filter: 'r_03'}, run='u/elhoward/DM-44138/LSSTComCamSim/20240510T175057Z', id=35de8e69-f3d6-4226-a785-eb509f7d186b),\n",
       " DatasetRef(DatasetType('goodSeeingDiff_longTrailedSrc', {band, instrument, day_obs, detector, physical_filter, visit}, DataFrame), {instrument: 'LSSTComCamSim', detector: 4, visit: 7024040400475, band: 'r', day_obs: 20240404, physical_filter: 'r_03'}, run='u/elhoward/DM-44138/LSSTComCamSim/20240510T175057Z', id=19d22831-fe6e-400f-b68b-763fa08a2926),\n",
       " DatasetRef(DatasetType('goodSeeingDiff_longTrailedSrc', {band, instrument, day_obs, detector, physical_filter, visit}, DataFrame), {instrument: 'LSSTComCamSim', detector: 6, visit: 7024040400146, band: 'g', day_obs: 20240404, physical_filter: 'g_01'}, run='u/elhoward/DM-44138/LSSTComCamSim/20240510T175057Z', id=d414d92e-7abb-4901-968e-f66a1941e164),\n",
       " DatasetRef(DatasetType('goodSeeingDiff_longTrailedSrc', {band, instrument, day_obs, detector, physical_filter, visit}, DataFrame), {instrument: 'LSSTComCamSim', detector: 0, visit: 7024040300206, band: 'g', day_obs: 20240403, physical_filter: 'g_01'}, run='u/elhoward/DM-44138/LSSTComCamSim/20240510T175057Z', id=e4917ee8-d8d2-4422-867c-c9ecbfd08886),\n",
       " DatasetRef(DatasetType('goodSeeingDiff_longTrailedSrc', {band, instrument, day_obs, detector, physical_filter, visit}, DataFrame), {instrument: 'LSSTComCamSim', detector: 0, visit: 7024040400453, band: 'g', day_obs: 20240404, physical_filter: 'g_01'}, run='u/elhoward/DM-44138/LSSTComCamSim/20240510T175057Z', id=1c1c594e-7853-48c6-a336-692d9de1e3c1),\n",
       " DatasetRef(DatasetType('goodSeeingDiff_longTrailedSrc', {band, instrument, day_obs, detector, physical_filter, visit}, DataFrame), {instrument: 'LSSTComCamSim', detector: 3, visit: 7024040400069, band: 'i', day_obs: 20240404, physical_filter: 'i_06'}, run='u/elhoward/DM-44138/LSSTComCamSim/20240510T175057Z', id=b0a53db9-80d5-4d16-80cd-d1da004f412b),\n",
       " DatasetRef(DatasetType('goodSeeingDiff_longTrailedSrc', {band, instrument, day_obs, detector, physical_filter, visit}, DataFrame), {instrument: 'LSSTComCamSim', detector: 3, visit: 7024040400162, band: 'i', day_obs: 20240404, physical_filter: 'i_06'}, run='u/elhoward/DM-44138/LSSTComCamSim/20240510T175057Z', id=01ad47a2-1246-4805-a7df-16b8e37dea15),\n",
       " DatasetRef(DatasetType('goodSeeingDiff_longTrailedSrc', {band, instrument, day_obs, detector, physical_filter, visit}, DataFrame), {instrument: 'LSSTComCamSim', detector: 4, visit: 7024040400778, band: 'r', day_obs: 20240404, physical_filter: 'r_03'}, run='u/elhoward/DM-44138/LSSTComCamSim/20240510T175057Z', id=14d3b8fe-a7d8-4b29-83fa-65d17c83d0ce),\n",
       " DatasetRef(DatasetType('goodSeeingDiff_longTrailedSrc', {band, instrument, day_obs, detector, physical_filter, visit}, DataFrame), {instrument: 'LSSTComCamSim', detector: 8, visit: 7024040200123, band: 'r', day_obs: 20240402, physical_filter: 'r_03'}, run='u/elhoward/DM-44138/LSSTComCamSim/20240510T175057Z', id=ab09b3a0-e66b-4d74-82bc-75021ecabe5f),\n",
       " DatasetRef(DatasetType('goodSeeingDiff_longTrailedSrc', {band, instrument, day_obs, detector, physical_filter, visit}, DataFrame), {instrument: 'LSSTComCamSim', detector: 8, visit: 7024040200454, band: 'g', day_obs: 20240402, physical_filter: 'g_01'}, run='u/elhoward/DM-44138/LSSTComCamSim/20240510T175057Z', id=f1792467-d1f6-4c31-81cc-5cd8bae648b6),\n",
       " DatasetRef(DatasetType('goodSeeingDiff_longTrailedSrc', {band, instrument, day_obs, detector, physical_filter, visit}, DataFrame), {instrument: 'LSSTComCamSim', detector: 4, visit: 7024040400334, band: 'g', day_obs: 20240404, physical_filter: 'g_01'}, run='u/elhoward/DM-44138/LSSTComCamSim/20240510T175057Z', id=790d3a90-1199-46ee-9c51-1bdad259f2e2),\n",
       " DatasetRef(DatasetType('goodSeeingDiff_longTrailedSrc', {band, instrument, day_obs, detector, physical_filter, visit}, DataFrame), {instrument: 'LSSTComCamSim', detector: 7, visit: 7024040300361, band: 'r', day_obs: 20240403, physical_filter: 'r_03'}, run='u/elhoward/DM-44138/LSSTComCamSim/20240510T175057Z', id=ea645694-df84-4b7a-a565-36a9524ece71),\n",
       " DatasetRef(DatasetType('goodSeeingDiff_longTrailedSrc', {band, instrument, day_obs, detector, physical_filter, visit}, DataFrame), {instrument: 'LSSTComCamSim', detector: 8, visit: 7024040200331, band: 'g', day_obs: 20240402, physical_filter: 'g_01'}, run='u/elhoward/DM-44138/LSSTComCamSim/20240510T175057Z', id=e3f6c327-9b60-43f4-9f24-ccbb2da18abe),\n",
       " DatasetRef(DatasetType('goodSeeingDiff_longTrailedSrc', {band, instrument, day_obs, detector, physical_filter, visit}, DataFrame), {instrument: 'LSSTComCamSim', detector: 1, visit: 7024040300427, band: 'r', day_obs: 20240403, physical_filter: 'r_03'}, run='u/elhoward/DM-44138/LSSTComCamSim/20240510T175057Z', id=e3a8c4dc-32a6-4066-8f29-d9ad664da735),\n",
       " DatasetRef(DatasetType('goodSeeingDiff_longTrailedSrc', {band, instrument, day_obs, detector, physical_filter, visit}, DataFrame), {instrument: 'LSSTComCamSim', detector: 1, visit: 7024040300506, band: 'g', day_obs: 20240403, physical_filter: 'g_01'}, run='u/elhoward/DM-44138/LSSTComCamSim/20240510T175057Z', id=108eda33-53fd-4421-95b6-0d4a363889d3),\n",
       " DatasetRef(DatasetType('goodSeeingDiff_longTrailedSrc', {band, instrument, day_obs, detector, physical_filter, visit}, DataFrame), {instrument: 'LSSTComCamSim', detector: 7, visit: 7024040200200, band: 'i', day_obs: 20240402, physical_filter: 'i_06'}, run='u/elhoward/DM-44138/LSSTComCamSim/20240510T175057Z', id=a18e03d5-613c-400f-898c-8b9db9ebaa8e),\n",
       " DatasetRef(DatasetType('goodSeeingDiff_longTrailedSrc', {band, instrument, day_obs, detector, physical_filter, visit}, DataFrame), {instrument: 'LSSTComCamSim', detector: 2, visit: 7024040300126, band: 'r', day_obs: 20240403, physical_filter: 'r_03'}, run='u/elhoward/DM-44138/LSSTComCamSim/20240510T175057Z', id=e2387905-9100-4074-8e94-a355163b2713),\n",
       " DatasetRef(DatasetType('goodSeeingDiff_longTrailedSrc', {band, instrument, day_obs, detector, physical_filter, visit}, DataFrame), {instrument: 'LSSTComCamSim', detector: 7, visit: 7024040300496, band: 'i', day_obs: 20240403, physical_filter: 'i_06'}, run='u/elhoward/DM-44138/LSSTComCamSim/20240510T175057Z', id=93aa2e20-bd1a-43fe-a8c3-13e0a9528b27),\n",
       " DatasetRef(DatasetType('goodSeeingDiff_longTrailedSrc', {band, instrument, day_obs, detector, physical_filter, visit}, DataFrame), {instrument: 'LSSTComCamSim', detector: 1, visit: 7024040400442, band: 'g', day_obs: 20240404, physical_filter: 'g_01'}, run='u/elhoward/DM-44138/LSSTComCamSim/20240510T175057Z', id=66ac016f-53d0-4d7e-8ea4-bc683f4abf35),\n",
       " DatasetRef(DatasetType('goodSeeingDiff_longTrailedSrc', {band, instrument, day_obs, detector, physical_filter, visit}, DataFrame), {instrument: 'LSSTComCamSim', detector: 0, visit: 7024040300100, band: 'g', day_obs: 20240403, physical_filter: 'g_01'}, run='u/elhoward/DM-44138/LSSTComCamSim/20240510T175057Z', id=b5094f2e-50fe-4acb-a5dd-15a76f5ad51d),\n",
       " DatasetRef(DatasetType('goodSeeingDiff_longTrailedSrc', {band, instrument, day_obs, detector, physical_filter, visit}, DataFrame), {instrument: 'LSSTComCamSim', detector: 6, visit: 7024040300028, band: 'g', day_obs: 20240403, physical_filter: 'g_01'}, run='u/elhoward/DM-44138/LSSTComCamSim/20240510T175057Z', id=5b33ba64-6235-4c10-bf28-8721adc4cb19),\n",
       " DatasetRef(DatasetType('goodSeeingDiff_longTrailedSrc', {band, instrument, day_obs, detector, physical_filter, visit}, DataFrame), {instrument: 'LSSTComCamSim', detector: 6, visit: 7024040200428, band: 'r', day_obs: 20240402, physical_filter: 'r_03'}, run='u/elhoward/DM-44138/LSSTComCamSim/20240510T175057Z', id=712d9991-ace9-4122-9c3c-bfef29dc22b9),\n",
       " DatasetRef(DatasetType('goodSeeingDiff_longTrailedSrc', {band, instrument, day_obs, detector, physical_filter, visit}, DataFrame), {instrument: 'LSSTComCamSim', detector: 3, visit: 7024040400141, band: 'g', day_obs: 20240404, physical_filter: 'g_01'}, run='u/elhoward/DM-44138/LSSTComCamSim/20240510T175057Z', id=1102219b-6f6a-4c86-b5ff-2b02471fc7a8),\n",
       " DatasetRef(DatasetType('goodSeeingDiff_longTrailedSrc', {band, instrument, day_obs, detector, physical_filter, visit}, DataFrame), {instrument: 'LSSTComCamSim', detector: 0, visit: 7024040200434, band: 'r', day_obs: 20240402, physical_filter: 'r_03'}, run='u/elhoward/DM-44138/LSSTComCamSim/20240510T175057Z', id=d6526c71-f9fd-434c-bdf2-a1befda49188),\n",
       " DatasetRef(DatasetType('goodSeeingDiff_longTrailedSrc', {band, instrument, day_obs, detector, physical_filter, visit}, DataFrame), {instrument: 'LSSTComCamSim', detector: 3, visit: 7024040200366, band: 'r', day_obs: 20240402, physical_filter: 'r_03'}, run='u/elhoward/DM-44138/LSSTComCamSim/20240510T175057Z', id=7c01c972-0735-4eaa-8d43-409b1b96b6b9),\n",
       " DatasetRef(DatasetType('goodSeeingDiff_longTrailedSrc', {band, instrument, day_obs, detector, physical_filter, visit}, DataFrame), {instrument: 'LSSTComCamSim', detector: 7, visit: 7024040400475, band: 'r', day_obs: 20240404, physical_filter: 'r_03'}, run='u/elhoward/DM-44138/LSSTComCamSim/20240510T175057Z', id=7bd40063-1ab7-4513-b891-19fa330483b9),\n",
       " DatasetRef(DatasetType('goodSeeingDiff_longTrailedSrc', {band, instrument, day_obs, detector, physical_filter, visit}, DataFrame), {instrument: 'LSSTComCamSim', detector: 4, visit: 7024040200728, band: 'i', day_obs: 20240402, physical_filter: 'i_06'}, run='u/elhoward/DM-44138/LSSTComCamSim/20240510T175057Z', id=1389f341-267b-4587-a495-c1a15c14804a),\n",
       " DatasetRef(DatasetType('goodSeeingDiff_longTrailedSrc', {band, instrument, day_obs, detector, physical_filter, visit}, DataFrame), {instrument: 'LSSTComCamSim', detector: 8, visit: 7024040300343, band: 'r', day_obs: 20240403, physical_filter: 'r_03'}, run='u/elhoward/DM-44138/LSSTComCamSim/20240510T175057Z', id=4ab3de52-cf94-4f56-9952-8bd100d831bd),\n",
       " DatasetRef(DatasetType('goodSeeingDiff_longTrailedSrc', {band, instrument, day_obs, detector, physical_filter, visit}, DataFrame), {instrument: 'LSSTComCamSim', detector: 6, visit: 7024040400197, band: 'i', day_obs: 20240404, physical_filter: 'i_06'}, run='u/elhoward/DM-44138/LSSTComCamSim/20240510T175057Z', id=71e91140-3883-4109-bd37-211554e0a444),\n",
       " DatasetRef(DatasetType('goodSeeingDiff_longTrailedSrc', {band, instrument, day_obs, detector, physical_filter, visit}, DataFrame), {instrument: 'LSSTComCamSim', detector: 5, visit: 7024040300147, band: 'g', day_obs: 20240403, physical_filter: 'g_01'}, run='u/elhoward/DM-44138/LSSTComCamSim/20240510T175057Z', id=a8bc6224-dd67-46d3-8268-967876cbf5ff),\n",
       " DatasetRef(DatasetType('goodSeeingDiff_longTrailedSrc', {band, instrument, day_obs, detector, physical_filter, visit}, DataFrame), {instrument: 'LSSTComCamSim', detector: 6, visit: 7024040300063, band: 'i', day_obs: 20240403, physical_filter: 'i_06'}, run='u/elhoward/DM-44138/LSSTComCamSim/20240510T175057Z', id=27db2686-5f23-41b5-a0d2-b91626631f08),\n",
       " DatasetRef(DatasetType('goodSeeingDiff_longTrailedSrc', {band, instrument, day_obs, detector, physical_filter, visit}, DataFrame), {instrument: 'LSSTComCamSim', detector: 1, visit: 7024040200577, band: 'g', day_obs: 20240402, physical_filter: 'g_01'}, run='u/elhoward/DM-44138/LSSTComCamSim/20240510T175057Z', id=343dab37-c64b-46e5-acd5-c0b50b9bf59d),\n",
       " DatasetRef(DatasetType('goodSeeingDiff_longTrailedSrc', {band, instrument, day_obs, detector, physical_filter, visit}, DataFrame), {instrument: 'LSSTComCamSim', detector: 4, visit: 7024040400157, band: 'g', day_obs: 20240404, physical_filter: 'g_01'}, run='u/elhoward/DM-44138/LSSTComCamSim/20240510T175057Z', id=160b039c-794c-49d5-92cb-8cb6fef35eae),\n",
       " DatasetRef(DatasetType('goodSeeingDiff_longTrailedSrc', {band, instrument, day_obs, detector, physical_filter, visit}, DataFrame), {instrument: 'LSSTComCamSim', detector: 0, visit: 7024040400337, band: 'g', day_obs: 20240404, physical_filter: 'g_01'}, run='u/elhoward/DM-44138/LSSTComCamSim/20240510T175057Z', id=766d6a30-3455-47b5-9181-f7e1f7046f68),\n",
       " DatasetRef(DatasetType('goodSeeingDiff_longTrailedSrc', {band, instrument, day_obs, detector, physical_filter, visit}, DataFrame), {instrument: 'LSSTComCamSim', detector: 8, visit: 7024040400715, band: 'i', day_obs: 20240404, physical_filter: 'i_06'}, run='u/elhoward/DM-44138/LSSTComCamSim/20240510T175057Z', id=65195632-f4c6-46c3-9f38-843c02227756),\n",
       " DatasetRef(DatasetType('goodSeeingDiff_longTrailedSrc', {band, instrument, day_obs, detector, physical_filter, visit}, DataFrame), {instrument: 'LSSTComCamSim', detector: 5, visit: 7024040200646, band: 'r', day_obs: 20240402, physical_filter: 'r_03'}, run='u/elhoward/DM-44138/LSSTComCamSim/20240510T175057Z', id=3319622f-8606-4d27-b114-d20b16b04444),\n",
       " DatasetRef(DatasetType('goodSeeingDiff_longTrailedSrc', {band, instrument, day_obs, detector, physical_filter, visit}, DataFrame), {instrument: 'LSSTComCamSim', detector: 2, visit: 7024040400657, band: 'r', day_obs: 20240404, physical_filter: 'r_03'}, run='u/elhoward/DM-44138/LSSTComCamSim/20240510T175057Z', id=2ab990a7-616a-4151-9c0b-e67c48d42319),\n",
       " DatasetRef(DatasetType('goodSeeingDiff_longTrailedSrc', {band, instrument, day_obs, detector, physical_filter, visit}, DataFrame), {instrument: 'LSSTComCamSim', detector: 1, visit: 7024040400410, band: 'i', day_obs: 20240404, physical_filter: 'i_06'}, run='u/elhoward/DM-44138/LSSTComCamSim/20240510T175057Z', id=e5b0c20e-a4cd-4905-8e11-0b37f218e557),\n",
       " DatasetRef(DatasetType('goodSeeingDiff_longTrailedSrc', {band, instrument, day_obs, detector, physical_filter, visit}, DataFrame), {instrument: 'LSSTComCamSim', detector: 1, visit: 7024040200416, band: 'i', day_obs: 20240402, physical_filter: 'i_06'}, run='u/elhoward/DM-44138/LSSTComCamSim/20240510T175057Z', id=59e5dbbc-f358-4983-b789-5a639803617c),\n",
       " DatasetRef(DatasetType('goodSeeingDiff_longTrailedSrc', {band, instrument, day_obs, detector, physical_filter, visit}, DataFrame), {instrument: 'LSSTComCamSim', detector: 8, visit: 7024040200741, band: 'g', day_obs: 20240402, physical_filter: 'g_01'}, run='u/elhoward/DM-44138/LSSTComCamSim/20240510T175057Z', id=131bae3f-18e6-490b-9ee8-09c6d28a655f),\n",
       " DatasetRef(DatasetType('goodSeeingDiff_longTrailedSrc', {band, instrument, day_obs, detector, physical_filter, visit}, DataFrame), {instrument: 'LSSTComCamSim', detector: 4, visit: 7024040400587, band: 'i', day_obs: 20240404, physical_filter: 'i_06'}, run='u/elhoward/DM-44138/LSSTComCamSim/20240510T175057Z', id=080d2552-1143-4407-ade8-c8dd25278daf),\n",
       " DatasetRef(DatasetType('goodSeeingDiff_longTrailedSrc', {band, instrument, day_obs, detector, physical_filter, visit}, DataFrame), {instrument: 'LSSTComCamSim', detector: 7, visit: 7024040300372, band: 'r', day_obs: 20240403, physical_filter: 'r_03'}, run='u/elhoward/DM-44138/LSSTComCamSim/20240510T175057Z', id=8cfc1e76-e151-4b9d-8cfa-b7442e7350f2),\n",
       " DatasetRef(DatasetType('goodSeeingDiff_longTrailedSrc', {band, instrument, day_obs, detector, physical_filter, visit}, DataFrame), {instrument: 'LSSTComCamSim', detector: 8, visit: 7024040400561, band: 'g', day_obs: 20240404, physical_filter: 'g_01'}, run='u/elhoward/DM-44138/LSSTComCamSim/20240510T175057Z', id=273337e5-2d91-497a-8020-465567c46267),\n",
       " DatasetRef(DatasetType('goodSeeingDiff_longTrailedSrc', {band, instrument, day_obs, detector, physical_filter, visit}, DataFrame), {instrument: 'LSSTComCamSim', detector: 0, visit: 7024040300013, band: 'r', day_obs: 20240403, physical_filter: 'r_03'}, run='u/elhoward/DM-44138/LSSTComCamSim/20240510T175057Z', id=ccfa0120-b95b-4fb1-90ae-5cfb90f3b0ca),\n",
       " DatasetRef(DatasetType('goodSeeingDiff_longTrailedSrc', {band, instrument, day_obs, detector, physical_filter, visit}, DataFrame), {instrument: 'LSSTComCamSim', detector: 5, visit: 7024040400027, band: 'g', day_obs: 20240404, physical_filter: 'g_01'}, run='u/elhoward/DM-44138/LSSTComCamSim/20240510T175057Z', id=b0cf4010-20c3-4c04-87a7-17777d2d4e24),\n",
       " DatasetRef(DatasetType('goodSeeingDiff_longTrailedSrc', {band, instrument, day_obs, detector, physical_filter, visit}, DataFrame), {instrument: 'LSSTComCamSim', detector: 0, visit: 7024040200491, band: 'i', day_obs: 20240402, physical_filter: 'i_06'}, run='u/elhoward/DM-44138/LSSTComCamSim/20240510T175057Z', id=a28859c8-869d-4912-9cad-e1d1b49d65b7),\n",
       " DatasetRef(DatasetType('goodSeeingDiff_longTrailedSrc', {band, instrument, day_obs, detector, physical_filter, visit}, DataFrame), {instrument: 'LSSTComCamSim', detector: 3, visit: 7024040200646, band: 'r', day_obs: 20240402, physical_filter: 'r_03'}, run='u/elhoward/DM-44138/LSSTComCamSim/20240510T175057Z', id=24171ad6-6eef-4387-8cf9-49f232b61257),\n",
       " DatasetRef(DatasetType('goodSeeingDiff_longTrailedSrc', {band, instrument, day_obs, detector, physical_filter, visit}, DataFrame), {instrument: 'LSSTComCamSim', detector: 3, visit: 7024040200564, band: 'g', day_obs: 20240402, physical_filter: 'g_01'}, run='u/elhoward/DM-44138/LSSTComCamSim/20240510T175057Z', id=bf14265f-6af3-4a6f-a8c8-5ad1ede35b2e),\n",
       " DatasetRef(DatasetType('goodSeeingDiff_longTrailedSrc', {band, instrument, day_obs, detector, physical_filter, visit}, DataFrame), {instrument: 'LSSTComCamSim', detector: 3, visit: 7024040400050, band: 'i', day_obs: 20240404, physical_filter: 'i_06'}, run='u/elhoward/DM-44138/LSSTComCamSim/20240510T175057Z', id=5a7c601d-f840-4ef1-886b-8b8720fa3755),\n",
       " DatasetRef(DatasetType('goodSeeingDiff_longTrailedSrc', {band, instrument, day_obs, detector, physical_filter, visit}, DataFrame), {instrument: 'LSSTComCamSim', detector: 4, visit: 7024040300518, band: 'g', day_obs: 20240403, physical_filter: 'g_01'}, run='u/elhoward/DM-44138/LSSTComCamSim/20240510T175057Z', id=e0df3b87-837b-424f-a688-228915a79caf),\n",
       " DatasetRef(DatasetType('goodSeeingDiff_longTrailedSrc', {band, instrument, day_obs, detector, physical_filter, visit}, DataFrame), {instrument: 'LSSTComCamSim', detector: 3, visit: 7024040200341, band: 'i', day_obs: 20240402, physical_filter: 'i_06'}, run='u/elhoward/DM-44138/LSSTComCamSim/20240510T175057Z', id=4390445e-dba9-42eb-9e44-922411471800),\n",
       " DatasetRef(DatasetType('goodSeeingDiff_longTrailedSrc', {band, instrument, day_obs, detector, physical_filter, visit}, DataFrame), {instrument: 'LSSTComCamSim', detector: 3, visit: 7024040400696, band: 'g', day_obs: 20240404, physical_filter: 'g_01'}, run='u/elhoward/DM-44138/LSSTComCamSim/20240510T175057Z', id=577abf27-75e4-4955-b501-77c2664e64be),\n",
       " DatasetRef(DatasetType('goodSeeingDiff_longTrailedSrc', {band, instrument, day_obs, detector, physical_filter, visit}, DataFrame), {instrument: 'LSSTComCamSim', detector: 4, visit: 7024040300369, band: 'r', day_obs: 20240403, physical_filter: 'r_03'}, run='u/elhoward/DM-44138/LSSTComCamSim/20240510T175057Z', id=eb934883-1447-418b-9a7b-cfb744d12319),\n",
       " DatasetRef(DatasetType('goodSeeingDiff_longTrailedSrc', {band, instrument, day_obs, detector, physical_filter, visit}, DataFrame), {instrument: 'LSSTComCamSim', detector: 4, visit: 7024040400533, band: 'i', day_obs: 20240404, physical_filter: 'i_06'}, run='u/elhoward/DM-44138/LSSTComCamSim/20240510T175057Z', id=ea65950e-3cd0-4a3e-b085-56d81fab5d65),\n",
       " DatasetRef(DatasetType('goodSeeingDiff_longTrailedSrc', {band, instrument, day_obs, detector, physical_filter, visit}, DataFrame), {instrument: 'LSSTComCamSim', detector: 8, visit: 7024040200327, band: 'g', day_obs: 20240402, physical_filter: 'g_01'}, run='u/elhoward/DM-44138/LSSTComCamSim/20240510T175057Z', id=d3f3afc0-c43c-4e6f-83b8-bfa8ef2dbc4e),\n",
       " DatasetRef(DatasetType('goodSeeingDiff_longTrailedSrc', {band, instrument, day_obs, detector, physical_filter, visit}, DataFrame), {instrument: 'LSSTComCamSim', detector: 3, visit: 7024040300747, band: 'g', day_obs: 20240403, physical_filter: 'g_01'}, run='u/elhoward/DM-44138/LSSTComCamSim/20240510T175057Z', id=3c9e0bf6-6758-40f9-8a30-125c412f285c),\n",
       " DatasetRef(DatasetType('goodSeeingDiff_longTrailedSrc', {band, instrument, day_obs, detector, physical_filter, visit}, DataFrame), {instrument: 'LSSTComCamSim', detector: 4, visit: 7024040200481, band: 'i', day_obs: 20240402, physical_filter: 'i_06'}, run='u/elhoward/DM-44138/LSSTComCamSim/20240510T175057Z', id=2e9b664e-4388-450d-9831-6793cb360839),\n",
       " DatasetRef(DatasetType('goodSeeingDiff_longTrailedSrc', {band, instrument, day_obs, detector, physical_filter, visit}, DataFrame), {instrument: 'LSSTComCamSim', detector: 8, visit: 7024040300057, band: 'i', day_obs: 20240403, physical_filter: 'i_06'}, run='u/elhoward/DM-44138/LSSTComCamSim/20240510T175057Z', id=eabc16b8-386e-4f4c-8fb4-f740da84b621),\n",
       " DatasetRef(DatasetType('goodSeeingDiff_longTrailedSrc', {band, instrument, day_obs, detector, physical_filter, visit}, DataFrame), {instrument: 'LSSTComCamSim', detector: 1, visit: 7024040200658, band: 'r', day_obs: 20240402, physical_filter: 'r_03'}, run='u/elhoward/DM-44138/LSSTComCamSim/20240510T175057Z', id=664d7ab3-c539-4020-bac3-4f145d492f7f),\n",
       " DatasetRef(DatasetType('goodSeeingDiff_longTrailedSrc', {band, instrument, day_obs, detector, physical_filter, visit}, DataFrame), {instrument: 'LSSTComCamSim', detector: 6, visit: 7024040300363, band: 'r', day_obs: 20240403, physical_filter: 'r_03'}, run='u/elhoward/DM-44138/LSSTComCamSim/20240510T175057Z', id=73a515af-9e10-463d-861c-d3b86e0d7edd),\n",
       " DatasetRef(DatasetType('goodSeeingDiff_longTrailedSrc', {band, instrument, day_obs, detector, physical_filter, visit}, DataFrame), {instrument: 'LSSTComCamSim', detector: 6, visit: 7024040300490, band: 'i', day_obs: 20240403, physical_filter: 'i_06'}, run='u/elhoward/DM-44138/LSSTComCamSim/20240510T175057Z', id=c5cf2df8-cc8e-4764-9533-ea59de0af5b2),\n",
       " DatasetRef(DatasetType('goodSeeingDiff_longTrailedSrc', {band, instrument, day_obs, detector, physical_filter, visit}, DataFrame), {instrument: 'LSSTComCamSim', detector: 6, visit: 7024040200043, band: 'i', day_obs: 20240402, physical_filter: 'i_06'}, run='u/elhoward/DM-44138/LSSTComCamSim/20240510T175057Z', id=f975b76c-d079-45ea-ae65-fdb0fbb4818d),\n",
       " DatasetRef(DatasetType('goodSeeingDiff_longTrailedSrc', {band, instrument, day_obs, detector, physical_filter, visit}, DataFrame), {instrument: 'LSSTComCamSim', detector: 7, visit: 7024040200735, band: 'i', day_obs: 20240402, physical_filter: 'i_06'}, run='u/elhoward/DM-44138/LSSTComCamSim/20240510T175057Z', id=f0dc22c1-56f3-440a-9139-475b254490c5),\n",
       " DatasetRef(DatasetType('goodSeeingDiff_longTrailedSrc', {band, instrument, day_obs, detector, physical_filter, visit}, DataFrame), {instrument: 'LSSTComCamSim', detector: 3, visit: 7024040200399, band: 'g', day_obs: 20240402, physical_filter: 'g_01'}, run='u/elhoward/DM-44138/LSSTComCamSim/20240510T175057Z', id=effae1c3-b606-420b-8839-4ff896da20c8),\n",
       " DatasetRef(DatasetType('goodSeeingDiff_longTrailedSrc', {band, instrument, day_obs, detector, physical_filter, visit}, DataFrame), {instrument: 'LSSTComCamSim', detector: 1, visit: 7024040200614, band: 'i', day_obs: 20240402, physical_filter: 'i_06'}, run='u/elhoward/DM-44138/LSSTComCamSim/20240510T175057Z', id=07b82696-8ab0-484c-8a99-054785b66ed3),\n",
       " DatasetRef(DatasetType('goodSeeingDiff_longTrailedSrc', {band, instrument, day_obs, detector, physical_filter, visit}, DataFrame), {instrument: 'LSSTComCamSim', detector: 1, visit: 7024040200295, band: 'i', day_obs: 20240402, physical_filter: 'i_06'}, run='u/elhoward/DM-44138/LSSTComCamSim/20240510T175057Z', id=ccb36144-6069-4234-a609-040d63109f9d),\n",
       " DatasetRef(DatasetType('goodSeeingDiff_longTrailedSrc', {band, instrument, day_obs, detector, physical_filter, visit}, DataFrame), {instrument: 'LSSTComCamSim', detector: 5, visit: 7024040300374, band: 'r', day_obs: 20240403, physical_filter: 'r_03'}, run='u/elhoward/DM-44138/LSSTComCamSim/20240510T175057Z', id=afc079ed-069d-4ecd-8dd1-7a213a2b3ade),\n",
       " DatasetRef(DatasetType('goodSeeingDiff_longTrailedSrc', {band, instrument, day_obs, detector, physical_filter, visit}, DataFrame), {instrument: 'LSSTComCamSim', detector: 0, visit: 7024040200122, band: 'r', day_obs: 20240402, physical_filter: 'r_03'}, run='u/elhoward/DM-44138/LSSTComCamSim/20240510T175057Z', id=a3b6e076-5482-41d9-b175-61b4fa652272),\n",
       " DatasetRef(DatasetType('goodSeeingDiff_longTrailedSrc', {band, instrument, day_obs, detector, physical_filter, visit}, DataFrame), {instrument: 'LSSTComCamSim', detector: 2, visit: 7024040200682, band: 'g', day_obs: 20240402, physical_filter: 'g_01'}, run='u/elhoward/DM-44138/LSSTComCamSim/20240510T175057Z', id=83d40d4b-6d40-4f67-bc01-6d12a709b633),\n",
       " DatasetRef(DatasetType('goodSeeingDiff_longTrailedSrc', {band, instrument, day_obs, detector, physical_filter, visit}, DataFrame), {instrument: 'LSSTComCamSim', detector: 2, visit: 7024040300061, band: 'i', day_obs: 20240403, physical_filter: 'i_06'}, run='u/elhoward/DM-44138/LSSTComCamSim/20240510T175057Z', id=9df3c60c-3b37-4a83-8280-19bbaba15d50),\n",
       " DatasetRef(DatasetType('goodSeeingDiff_longTrailedSrc', {band, instrument, day_obs, detector, physical_filter, visit}, DataFrame), {instrument: 'LSSTComCamSim', detector: 5, visit: 7024040200107, band: 'r', day_obs: 20240402, physical_filter: 'r_03'}, run='u/elhoward/DM-44138/LSSTComCamSim/20240510T175057Z', id=40e8b859-82a1-481e-a6c4-0d0d82eef08a),\n",
       " DatasetRef(DatasetType('goodSeeingDiff_longTrailedSrc', {band, instrument, day_obs, detector, physical_filter, visit}, DataFrame), {instrument: 'LSSTComCamSim', detector: 1, visit: 7024040300320, band: 'i', day_obs: 20240403, physical_filter: 'i_06'}, run='u/elhoward/DM-44138/LSSTComCamSim/20240510T175057Z', id=f6574896-2317-416d-8283-bfb5616da62a),\n",
       " DatasetRef(DatasetType('goodSeeingDiff_longTrailedSrc', {band, instrument, day_obs, detector, physical_filter, visit}, DataFrame), {instrument: 'LSSTComCamSim', detector: 0, visit: 7024040400671, band: 'r', day_obs: 20240404, physical_filter: 'r_03'}, run='u/elhoward/DM-44138/LSSTComCamSim/20240510T175057Z', id=8d29a389-d9e8-47ab-9f87-40a7c0aff42b),\n",
       " DatasetRef(DatasetType('goodSeeingDiff_longTrailedSrc', {band, instrument, day_obs, detector, physical_filter, visit}, DataFrame), {instrument: 'LSSTComCamSim', detector: 5, visit: 7024040400106, band: 'r', day_obs: 20240404, physical_filter: 'r_03'}, run='u/elhoward/DM-44138/LSSTComCamSim/20240510T175057Z', id=b5734db5-c2a3-42c3-ae5c-432377899b5d),\n",
       " DatasetRef(DatasetType('goodSeeingDiff_longTrailedSrc', {band, instrument, day_obs, detector, physical_filter, visit}, DataFrame), {instrument: 'LSSTComCamSim', detector: 3, visit: 7024040200510, band: 'g', day_obs: 20240402, physical_filter: 'g_01'}, run='u/elhoward/DM-44138/LSSTComCamSim/20240510T175057Z', id=458904fb-56c0-4c7f-baa8-27c567cf4dcf),\n",
       " DatasetRef(DatasetType('goodSeeingDiff_longTrailedSrc', {band, instrument, day_obs, detector, physical_filter, visit}, DataFrame), {instrument: 'LSSTComCamSim', detector: 8, visit: 7024040300435, band: 'r', day_obs: 20240403, physical_filter: 'r_03'}, run='u/elhoward/DM-44138/LSSTComCamSim/20240510T175057Z', id=2daef8d4-af70-4c3b-a075-7f4d5dd74ff4),\n",
       " DatasetRef(DatasetType('goodSeeingDiff_longTrailedSrc', {band, instrument, day_obs, detector, physical_filter, visit}, DataFrame), {instrument: 'LSSTComCamSim', detector: 6, visit: 7024040200728, band: 'i', day_obs: 20240402, physical_filter: 'i_06'}, run='u/elhoward/DM-44138/LSSTComCamSim/20240510T175057Z', id=b0eb5258-ba43-4fdb-a31c-8cde7b64b304),\n",
       " DatasetRef(DatasetType('goodSeeingDiff_longTrailedSrc', {band, instrument, day_obs, detector, physical_filter, visit}, DataFrame), {instrument: 'LSSTComCamSim', detector: 2, visit: 7024040200110, band: 'r', day_obs: 20240402, physical_filter: 'r_03'}, run='u/elhoward/DM-44138/LSSTComCamSim/20240510T175057Z', id=988b4b14-a976-4e5e-904f-13bdfbaebf13),\n",
       " DatasetRef(DatasetType('goodSeeingDiff_longTrailedSrc', {band, instrument, day_obs, detector, physical_filter, visit}, DataFrame), {instrument: 'LSSTComCamSim', detector: 0, visit: 7024040300263, band: 'g', day_obs: 20240403, physical_filter: 'g_01'}, run='u/elhoward/DM-44138/LSSTComCamSim/20240510T175057Z', id=8df2c527-1bd1-4a80-b640-6b7e43115de7),\n",
       " DatasetRef(DatasetType('goodSeeingDiff_longTrailedSrc', {band, instrument, day_obs, detector, physical_filter, visit}, DataFrame), {instrument: 'LSSTComCamSim', detector: 4, visit: 7024040400601, band: 'i', day_obs: 20240404, physical_filter: 'i_06'}, run='u/elhoward/DM-44138/LSSTComCamSim/20240510T175057Z', id=ad2d18e8-602d-4ae6-a4c8-6492376cdab2),\n",
       " DatasetRef(DatasetType('goodSeeingDiff_longTrailedSrc', {band, instrument, day_obs, detector, physical_filter, visit}, DataFrame), {instrument: 'LSSTComCamSim', detector: 3, visit: 7024040200183, band: 'i', day_obs: 20240402, physical_filter: 'i_06'}, run='u/elhoward/DM-44138/LSSTComCamSim/20240510T175057Z', id=7aa96551-49e4-4b64-be0b-827e01cc56f9),\n",
       " DatasetRef(DatasetType('goodSeeingDiff_longTrailedSrc', {band, instrument, day_obs, detector, physical_filter, visit}, DataFrame), {instrument: 'LSSTComCamSim', detector: 5, visit: 7024040200052, band: 'i', day_obs: 20240402, physical_filter: 'i_06'}, run='u/elhoward/DM-44138/LSSTComCamSim/20240510T175057Z', id=74b703c4-2b70-4120-a484-1f6ec713a915),\n",
       " DatasetRef(DatasetType('goodSeeingDiff_longTrailedSrc', {band, instrument, day_obs, detector, physical_filter, visit}, DataFrame), {instrument: 'LSSTComCamSim', detector: 4, visit: 7024040300699, band: 'g', day_obs: 20240403, physical_filter: 'g_01'}, run='u/elhoward/DM-44138/LSSTComCamSim/20240510T175057Z', id=132056ce-2369-4e58-9377-0caa7e52bf7b),\n",
       " DatasetRef(DatasetType('goodSeeingDiff_longTrailedSrc', {band, instrument, day_obs, detector, physical_filter, visit}, DataFrame), {instrument: 'LSSTComCamSim', detector: 5, visit: 7024040300764, band: 'r', day_obs: 20240403, physical_filter: 'r_03'}, run='u/elhoward/DM-44138/LSSTComCamSim/20240510T175057Z', id=a7c87ee4-4324-436f-a058-f80c699516a3),\n",
       " DatasetRef(DatasetType('goodSeeingDiff_longTrailedSrc', {band, instrument, day_obs, detector, physical_filter, visit}, DataFrame), {instrument: 'LSSTComCamSim', detector: 2, visit: 7024040300429, band: 'r', day_obs: 20240403, physical_filter: 'r_03'}, run='u/elhoward/DM-44138/LSSTComCamSim/20240510T175057Z', id=a0b63ffc-4939-47c6-8e9b-75b57ac67404),\n",
       " DatasetRef(DatasetType('goodSeeingDiff_longTrailedSrc', {band, instrument, day_obs, detector, physical_filter, visit}, DataFrame), {instrument: 'LSSTComCamSim', detector: 0, visit: 7024040200294, band: 'i', day_obs: 20240402, physical_filter: 'i_06'}, run='u/elhoward/DM-44138/LSSTComCamSim/20240510T175057Z', id=2bbac0af-1c29-4aa5-acf7-fea6d89f5d13),\n",
       " DatasetRef(DatasetType('goodSeeingDiff_longTrailedSrc', {band, instrument, day_obs, detector, physical_filter, visit}, DataFrame), {instrument: 'LSSTComCamSim', detector: 8, visit: 7024040300565, band: 'g', day_obs: 20240403, physical_filter: 'g_01'}, run='u/elhoward/DM-44138/LSSTComCamSim/20240510T175057Z', id=f16670ea-b653-44ab-aa3f-a7d185ef8ccf),\n",
       " DatasetRef(DatasetType('goodSeeingDiff_longTrailedSrc', {band, instrument, day_obs, detector, physical_filter, visit}, DataFrame), {instrument: 'LSSTComCamSim', detector: 4, visit: 7024040300723, band: 'i', day_obs: 20240403, physical_filter: 'i_06'}, run='u/elhoward/DM-44138/LSSTComCamSim/20240510T175057Z', id=9bb33eab-75c7-46ea-8ca5-4ede858a7b0b),\n",
       " DatasetRef(DatasetType('goodSeeingDiff_longTrailedSrc', {band, instrument, day_obs, detector, physical_filter, visit}, DataFrame), {instrument: 'LSSTComCamSim', detector: 0, visit: 7024040300779, band: 'r', day_obs: 20240403, physical_filter: 'r_03'}, run='u/elhoward/DM-44138/LSSTComCamSim/20240510T175057Z', id=aab91c9a-da4a-4591-b988-16b985bd8605),\n",
       " DatasetRef(DatasetType('goodSeeingDiff_longTrailedSrc', {band, instrument, day_obs, detector, physical_filter, visit}, DataFrame), {instrument: 'LSSTComCamSim', detector: 4, visit: 7024040400678, band: 'r', day_obs: 20240404, physical_filter: 'r_03'}, run='u/elhoward/DM-44138/LSSTComCamSim/20240510T175057Z', id=0d9c911e-9cee-470c-9359-1ecd6ef77a1b),\n",
       " DatasetRef(DatasetType('goodSeeingDiff_longTrailedSrc', {band, instrument, day_obs, detector, physical_filter, visit}, DataFrame), {instrument: 'LSSTComCamSim', detector: 3, visit: 7024040300766, band: 'r', day_obs: 20240403, physical_filter: 'r_03'}, run='u/elhoward/DM-44138/LSSTComCamSim/20240510T175057Z', id=4c1f601c-c87a-425a-b7dc-42bd83a3a018),\n",
       " DatasetRef(DatasetType('goodSeeingDiff_longTrailedSrc', {band, instrument, day_obs, detector, physical_filter, visit}, DataFrame), {instrument: 'LSSTComCamSim', detector: 5, visit: 7024040400739, band: 'i', day_obs: 20240404, physical_filter: 'i_06'}, run='u/elhoward/DM-44138/LSSTComCamSim/20240510T175057Z', id=d3a2e2df-3b1f-4057-b6de-66f3d6263029),\n",
       " DatasetRef(DatasetType('goodSeeingDiff_longTrailedSrc', {band, instrument, day_obs, detector, physical_filter, visit}, DataFrame), {instrument: 'LSSTComCamSim', detector: 0, visit: 7024040300280, band: 'g', day_obs: 20240403, physical_filter: 'g_01'}, run='u/elhoward/DM-44138/LSSTComCamSim/20240510T175057Z', id=8356a0a1-a2e6-42aa-b605-992c50fe9db8),\n",
       " DatasetRef(DatasetType('goodSeeingDiff_longTrailedSrc', {band, instrument, day_obs, detector, physical_filter, visit}, DataFrame), {instrument: 'LSSTComCamSim', detector: 0, visit: 7024040300225, band: 'r', day_obs: 20240403, physical_filter: 'r_03'}, run='u/elhoward/DM-44138/LSSTComCamSim/20240510T175057Z', id=5a89b093-390a-4140-b5cb-644d561428ee),\n",
       " DatasetRef(DatasetType('goodSeeingDiff_longTrailedSrc', {band, instrument, day_obs, detector, physical_filter, visit}, DataFrame), {instrument: 'LSSTComCamSim', detector: 7, visit: 7024040400401, band: 'i', day_obs: 20240404, physical_filter: 'i_06'}, run='u/elhoward/DM-44138/LSSTComCamSim/20240510T175057Z', id=d48cc327-b928-4a55-988e-ff1e4f54e07d),\n",
       " DatasetRef(DatasetType('goodSeeingDiff_longTrailedSrc', {band, instrument, day_obs, detector, physical_filter, visit}, DataFrame), {instrument: 'LSSTComCamSim', detector: 8, visit: 7024040300373, band: 'r', day_obs: 20240403, physical_filter: 'r_03'}, run='u/elhoward/DM-44138/LSSTComCamSim/20240510T175057Z', id=a107d159-5959-4037-bc3a-c532f2cfb136),\n",
       " DatasetRef(DatasetType('goodSeeingDiff_longTrailedSrc', {band, instrument, day_obs, detector, physical_filter, visit}, DataFrame), {instrument: 'LSSTComCamSim', detector: 5, visit: 7024040300269, band: 'g', day_obs: 20240403, physical_filter: 'g_01'}, run='u/elhoward/DM-44138/LSSTComCamSim/20240510T175057Z', id=68873490-7891-4341-ba5f-b486a02a9938),\n",
       " DatasetRef(DatasetType('goodSeeingDiff_longTrailedSrc', {band, instrument, day_obs, detector, physical_filter, visit}, DataFrame), {instrument: 'LSSTComCamSim', detector: 0, visit: 7024040400535, band: 'i', day_obs: 20240404, physical_filter: 'i_06'}, run='u/elhoward/DM-44138/LSSTComCamSim/20240510T175057Z', id=985a82df-9e4f-482b-b92f-631521cef20a),\n",
       " DatasetRef(DatasetType('goodSeeingDiff_longTrailedSrc', {band, instrument, day_obs, detector, physical_filter, visit}, DataFrame), {instrument: 'LSSTComCamSim', detector: 2, visit: 7024040300626, band: 'g', day_obs: 20240403, physical_filter: 'g_01'}, run='u/elhoward/DM-44138/LSSTComCamSim/20240510T175057Z', id=ca7d45f1-d795-486d-b713-2f51c2fd6ffb),\n",
       " DatasetRef(DatasetType('goodSeeingDiff_longTrailedSrc', {band, instrument, day_obs, detector, physical_filter, visit}, DataFrame), {instrument: 'LSSTComCamSim', detector: 0, visit: 7024040300505, band: 'g', day_obs: 20240403, physical_filter: 'g_01'}, run='u/elhoward/DM-44138/LSSTComCamSim/20240510T175057Z', id=578783a1-1b41-4c7e-8296-bcb523154fa8),\n",
       " DatasetRef(DatasetType('goodSeeingDiff_longTrailedSrc', {band, instrument, day_obs, detector, physical_filter, visit}, DataFrame), {instrument: 'LSSTComCamSim', detector: 3, visit: 7024040200401, band: 'i', day_obs: 20240402, physical_filter: 'i_06'}, run='u/elhoward/DM-44138/LSSTComCamSim/20240510T175057Z', id=e9cc58a5-840c-4604-aba0-1510012f8326),\n",
       " DatasetRef(DatasetType('goodSeeingDiff_longTrailedSrc', {band, instrument, day_obs, detector, physical_filter, visit}, DataFrame), {instrument: 'LSSTComCamSim', detector: 1, visit: 7024040400387, band: 'g', day_obs: 20240404, physical_filter: 'g_01'}, run='u/elhoward/DM-44138/LSSTComCamSim/20240510T175057Z', id=c7c8ec4f-4974-439c-a189-2f10a55a96a8),\n",
       " DatasetRef(DatasetType('goodSeeingDiff_longTrailedSrc', {band, instrument, day_obs, detector, physical_filter, visit}, DataFrame), {instrument: 'LSSTComCamSim', detector: 7, visit: 7024040400168, band: 'i', day_obs: 20240404, physical_filter: 'i_06'}, run='u/elhoward/DM-44138/LSSTComCamSim/20240510T175057Z', id=b15b65a6-551a-46c5-be0b-1dbe14297d72),\n",
       " DatasetRef(DatasetType('goodSeeingDiff_longTrailedSrc', {band, instrument, day_obs, detector, physical_filter, visit}, DataFrame), {instrument: 'LSSTComCamSim', detector: 8, visit: 7024040400605, band: 'i', day_obs: 20240404, physical_filter: 'i_06'}, run='u/elhoward/DM-44138/LSSTComCamSim/20240510T175057Z', id=17762244-9905-478b-810e-ef0025c6776e),\n",
       " DatasetRef(DatasetType('goodSeeingDiff_longTrailedSrc', {band, instrument, day_obs, detector, physical_filter, visit}, DataFrame), {instrument: 'LSSTComCamSim', detector: 4, visit: 7024040400215, band: 'g', day_obs: 20240404, physical_filter: 'g_01'}, run='u/elhoward/DM-44138/LSSTComCamSim/20240510T175057Z', id=746c0b7e-31a3-48c5-a6f3-e53b4de96d95),\n",
       " DatasetRef(DatasetType('goodSeeingDiff_longTrailedSrc', {band, instrument, day_obs, detector, physical_filter, visit}, DataFrame), {instrument: 'LSSTComCamSim', detector: 2, visit: 7024040200508, band: 'g', day_obs: 20240402, physical_filter: 'g_01'}, run='u/elhoward/DM-44138/LSSTComCamSim/20240510T175057Z', id=642a4492-ab8a-4444-885c-459ae7b8919c),\n",
       " DatasetRef(DatasetType('goodSeeingDiff_longTrailedSrc', {band, instrument, day_obs, detector, physical_filter, visit}, DataFrame), {instrument: 'LSSTComCamSim', detector: 2, visit: 7024040400190, band: 'i', day_obs: 20240404, physical_filter: 'i_06'}, run='u/elhoward/DM-44138/LSSTComCamSim/20240510T175057Z', id=c8d1ca3c-924a-4957-90a3-1b4192a1e8db),\n",
       " DatasetRef(DatasetType('goodSeeingDiff_longTrailedSrc', {band, instrument, day_obs, detector, physical_filter, visit}, DataFrame), {instrument: 'LSSTComCamSim', detector: 2, visit: 7024040400415, band: 'i', day_obs: 20240404, physical_filter: 'i_06'}, run='u/elhoward/DM-44138/LSSTComCamSim/20240510T175057Z', id=d5a8dafe-9b98-448b-94e5-7890da498f3e),\n",
       " DatasetRef(DatasetType('goodSeeingDiff_longTrailedSrc', {band, instrument, day_obs, detector, physical_filter, visit}, DataFrame), {instrument: 'LSSTComCamSim', detector: 4, visit: 7024040200691, band: 'g', day_obs: 20240402, physical_filter: 'g_01'}, run='u/elhoward/DM-44138/LSSTComCamSim/20240510T175057Z', id=baa7a733-9cf5-494a-968f-de7e313be978),\n",
       " DatasetRef(DatasetType('goodSeeingDiff_longTrailedSrc', {band, instrument, day_obs, detector, physical_filter, visit}, DataFrame), {instrument: 'LSSTComCamSim', detector: 1, visit: 7024040400053, band: 'i', day_obs: 20240404, physical_filter: 'i_06'}, run='u/elhoward/DM-44138/LSSTComCamSim/20240510T175057Z', id=68361bc0-a567-486b-8b1c-d979908ef091),\n",
       " DatasetRef(DatasetType('goodSeeingDiff_longTrailedSrc', {band, instrument, day_obs, detector, physical_filter, visit}, DataFrame), {instrument: 'LSSTComCamSim', detector: 1, visit: 7024040200085, band: 'g', day_obs: 20240402, physical_filter: 'g_01'}, run='u/elhoward/DM-44138/LSSTComCamSim/20240510T175057Z', id=0e95a425-cfe3-442f-b327-df22673d1296),\n",
       " DatasetRef(DatasetType('goodSeeingDiff_longTrailedSrc', {band, instrument, day_obs, detector, physical_filter, visit}, DataFrame), {instrument: 'LSSTComCamSim', detector: 6, visit: 7024040200744, band: 'g', day_obs: 20240402, physical_filter: 'g_01'}, run='u/elhoward/DM-44138/LSSTComCamSim/20240510T175057Z', id=92da7279-16b1-40d9-8771-7424a1fbad42),\n",
       " DatasetRef(DatasetType('goodSeeingDiff_longTrailedSrc', {band, instrument, day_obs, detector, physical_filter, visit}, DataFrame), {instrument: 'LSSTComCamSim', detector: 5, visit: 7024040300343, band: 'r', day_obs: 20240403, physical_filter: 'r_03'}, run='u/elhoward/DM-44138/LSSTComCamSim/20240510T175057Z', id=34c3625a-1eac-461d-a20d-c6fc3c5a034c),\n",
       " DatasetRef(DatasetType('goodSeeingDiff_longTrailedSrc', {band, instrument, day_obs, detector, physical_filter, visit}, DataFrame), {instrument: 'LSSTComCamSim', detector: 6, visit: 7024040200301, band: 'r', day_obs: 20240402, physical_filter: 'r_03'}, run='u/elhoward/DM-44138/LSSTComCamSim/20240510T175057Z', id=3757c9b7-e895-4548-be14-6b82815389f8),\n",
       " DatasetRef(DatasetType('goodSeeingDiff_longTrailedSrc', {band, instrument, day_obs, detector, physical_filter, visit}, DataFrame), {instrument: 'LSSTComCamSim', detector: 4, visit: 7024040300179, band: 'i', day_obs: 20240403, physical_filter: 'i_06'}, run='u/elhoward/DM-44138/LSSTComCamSim/20240510T175057Z', id=92161564-2d0e-4346-868b-65fc92ee19ef),\n",
       " DatasetRef(DatasetType('goodSeeingDiff_longTrailedSrc', {band, instrument, day_obs, detector, physical_filter, visit}, DataFrame), {instrument: 'LSSTComCamSim', detector: 5, visit: 7024040400330, band: 'g', day_obs: 20240404, physical_filter: 'g_01'}, run='u/elhoward/DM-44138/LSSTComCamSim/20240510T175057Z', id=dbccd670-0685-4ec6-9bdc-0b6c4745be01),\n",
       " DatasetRef(DatasetType('goodSeeingDiff_longTrailedSrc', {band, instrument, day_obs, detector, physical_filter, visit}, DataFrame), {instrument: 'LSSTComCamSim', detector: 1, visit: 7024040300636, band: 'g', day_obs: 20240403, physical_filter: 'g_01'}, run='u/elhoward/DM-44138/LSSTComCamSim/20240510T175057Z', id=fe0001e9-b3f9-46f2-bfe9-9d61882e7c4c),\n",
       " DatasetRef(DatasetType('goodSeeingDiff_longTrailedSrc', {band, instrument, day_obs, detector, physical_filter, visit}, DataFrame), {instrument: 'LSSTComCamSim', detector: 7, visit: 7024040200022, band: 'g', day_obs: 20240402, physical_filter: 'g_01'}, run='u/elhoward/DM-44138/LSSTComCamSim/20240510T175057Z', id=0563c40d-6d55-4b98-a0e1-8ff688b1d7c9),\n",
       " DatasetRef(DatasetType('goodSeeingDiff_longTrailedSrc', {band, instrument, day_obs, detector, physical_filter, visit}, DataFrame), {instrument: 'LSSTComCamSim', detector: 4, visit: 7024040400746, band: 'g', day_obs: 20240404, physical_filter: 'g_01'}, run='u/elhoward/DM-44138/LSSTComCamSim/20240510T175057Z', id=3fc00b1c-4b52-41cc-917b-0a4e27612646),\n",
       " DatasetRef(DatasetType('goodSeeingDiff_longTrailedSrc', {band, instrument, day_obs, detector, physical_filter, visit}, DataFrame), {instrument: 'LSSTComCamSim', detector: 2, visit: 7024040200386, band: 'g', day_obs: 20240402, physical_filter: 'g_01'}, run='u/elhoward/DM-44138/LSSTComCamSim/20240510T175057Z', id=7efd351f-42eb-4dc5-baef-b7fef9a7c6a3),\n",
       " DatasetRef(DatasetType('goodSeeingDiff_longTrailedSrc', {band, instrument, day_obs, detector, physical_filter, visit}, DataFrame), {instrument: 'LSSTComCamSim', detector: 1, visit: 7024040300573, band: 'g', day_obs: 20240403, physical_filter: 'g_01'}, run='u/elhoward/DM-44138/LSSTComCamSim/20240510T175057Z', id=d76ee516-8285-4ba2-9167-67c7c5afd7ea),\n",
       " DatasetRef(DatasetType('goodSeeingDiff_longTrailedSrc', {band, instrument, day_obs, detector, physical_filter, visit}, DataFrame), {instrument: 'LSSTComCamSim', detector: 3, visit: 7024040200160, band: 'g', day_obs: 20240402, physical_filter: 'g_01'}, run='u/elhoward/DM-44138/LSSTComCamSim/20240510T175057Z', id=9b69e29d-7585-4aed-9aae-ffee4b575dcb),\n",
       " DatasetRef(DatasetType('goodSeeingDiff_longTrailedSrc', {band, instrument, day_obs, detector, physical_filter, visit}, DataFrame), {instrument: 'LSSTComCamSim', detector: 7, visit: 7024040200254, band: 'r', day_obs: 20240402, physical_filter: 'r_03'}, run='u/elhoward/DM-44138/LSSTComCamSim/20240510T175057Z', id=8850860e-f867-4f36-bc8d-2beabd103b86),\n",
       " DatasetRef(DatasetType('goodSeeingDiff_longTrailedSrc', {band, instrument, day_obs, detector, physical_filter, visit}, DataFrame), {instrument: 'LSSTComCamSim', detector: 8, visit: 7024040400568, band: 'g', day_obs: 20240404, physical_filter: 'g_01'}, run='u/elhoward/DM-44138/LSSTComCamSim/20240510T175057Z', id=66b1963a-302f-462b-b834-b965d53e03ef),\n",
       " DatasetRef(DatasetType('goodSeeingDiff_longTrailedSrc', {band, instrument, day_obs, detector, physical_filter, visit}, DataFrame), {instrument: 'LSSTComCamSim', detector: 8, visit: 7024040200048, band: 'i', day_obs: 20240402, physical_filter: 'i_06'}, run='u/elhoward/DM-44138/LSSTComCamSim/20240510T175057Z', id=9a892dcb-d9a9-459b-9287-c32bbbd68864),\n",
       " DatasetRef(DatasetType('goodSeeingDiff_longTrailedSrc', {band, instrument, day_obs, detector, physical_filter, visit}, DataFrame), {instrument: 'LSSTComCamSim', detector: 7, visit: 7024040300675, band: 'r', day_obs: 20240403, physical_filter: 'r_03'}, run='u/elhoward/DM-44138/LSSTComCamSim/20240510T175057Z', id=b4e643d2-afbf-4f4e-83e2-a80286d13b10),\n",
       " DatasetRef(DatasetType('goodSeeingDiff_longTrailedSrc', {band, instrument, day_obs, detector, physical_filter, visit}, DataFrame), {instrument: 'LSSTComCamSim', detector: 0, visit: 7024040400383, band: 'g', day_obs: 20240404, physical_filter: 'g_01'}, run='u/elhoward/DM-44138/LSSTComCamSim/20240510T175057Z', id=ba88b95b-108d-4fdf-be71-a750c4bc36ac),\n",
       " DatasetRef(DatasetType('goodSeeingDiff_longTrailedSrc', {band, instrument, day_obs, detector, physical_filter, visit}, DataFrame), {instrument: 'LSSTComCamSim', detector: 3, visit: 7024040200685, band: 'g', day_obs: 20240402, physical_filter: 'g_01'}, run='u/elhoward/DM-44138/LSSTComCamSim/20240510T175057Z', id=474d9641-4275-4e02-a580-3b64f73845d9),\n",
       " DatasetRef(DatasetType('goodSeeingDiff_longTrailedSrc', {band, instrument, day_obs, detector, physical_filter, visit}, DataFrame), {instrument: 'LSSTComCamSim', detector: 5, visit: 7024040300669, band: 'r', day_obs: 20240403, physical_filter: 'r_03'}, run='u/elhoward/DM-44138/LSSTComCamSim/20240510T175057Z', id=082e7390-3780-49fd-abf5-93d53c016618),\n",
       " DatasetRef(DatasetType('goodSeeingDiff_longTrailedSrc', {band, instrument, day_obs, detector, physical_filter, visit}, DataFrame), {instrument: 'LSSTComCamSim', detector: 8, visit: 7024040300344, band: 'r', day_obs: 20240403, physical_filter: 'r_03'}, run='u/elhoward/DM-44138/LSSTComCamSim/20240510T175057Z', id=7dd84807-896c-4a97-9cc4-ae4e94006115),\n",
       " DatasetRef(DatasetType('goodSeeingDiff_longTrailedSrc', {band, instrument, day_obs, detector, physical_filter, visit}, DataFrame), {instrument: 'LSSTComCamSim', detector: 6, visit: 7024040400639, band: 'g', day_obs: 20240404, physical_filter: 'g_01'}, run='u/elhoward/DM-44138/LSSTComCamSim/20240510T175057Z', id=49adc8f5-cf92-4317-b48d-ed8b834f1d3a),\n",
       " DatasetRef(DatasetType('goodSeeingDiff_longTrailedSrc', {band, instrument, day_obs, detector, physical_filter, visit}, DataFrame), {instrument: 'LSSTComCamSim', detector: 0, visit: 7024040200005, band: 'r', day_obs: 20240402, physical_filter: 'r_03'}, run='u/elhoward/DM-44138/LSSTComCamSim/20240510T175057Z', id=c805c423-764d-40da-80f5-f49ee4882f24),\n",
       " DatasetRef(DatasetType('goodSeeingDiff_longTrailedSrc', {band, instrument, day_obs, detector, physical_filter, visit}, DataFrame), {instrument: 'LSSTComCamSim', detector: 7, visit: 7024040200081, band: 'g', day_obs: 20240402, physical_filter: 'g_01'}, run='u/elhoward/DM-44138/LSSTComCamSim/20240510T175057Z', id=cc3c1ea9-951d-4b94-af40-41bb8a40d976),\n",
       " DatasetRef(DatasetType('goodSeeingDiff_longTrailedSrc', {band, instrument, day_obs, detector, physical_filter, visit}, DataFrame), {instrument: 'LSSTComCamSim', detector: 5, visit: 7024040300205, band: 'g', day_obs: 20240403, physical_filter: 'g_01'}, run='u/elhoward/DM-44138/LSSTComCamSim/20240510T175057Z', id=1c4724a3-1442-4015-9fa0-9ed28d41b57a),\n",
       " DatasetRef(DatasetType('goodSeeingDiff_longTrailedSrc', {band, instrument, day_obs, detector, physical_filter, visit}, DataFrame), {instrument: 'LSSTComCamSim', detector: 6, visit: 7024040200254, band: 'r', day_obs: 20240402, physical_filter: 'r_03'}, run='u/elhoward/DM-44138/LSSTComCamSim/20240510T175057Z', id=207736ef-97a7-45e1-9b51-8ccd8f878731),\n",
       " DatasetRef(DatasetType('goodSeeingDiff_longTrailedSrc', {band, instrument, day_obs, detector, physical_filter, visit}, DataFrame), {instrument: 'LSSTComCamSim', detector: 6, visit: 7024040400669, band: 'r', day_obs: 20240404, physical_filter: 'r_03'}, run='u/elhoward/DM-44138/LSSTComCamSim/20240510T175057Z', id=00b7225f-f70e-4437-b67a-6a56c83b14b1),\n",
       " DatasetRef(DatasetType('goodSeeingDiff_longTrailedSrc', {band, instrument, day_obs, detector, physical_filter, visit}, DataFrame), {instrument: 'LSSTComCamSim', detector: 4, visit: 7024040200518, band: 'g', day_obs: 20240402, physical_filter: 'g_01'}, run='u/elhoward/DM-44138/LSSTComCamSim/20240510T175057Z', id=ad7f6053-79d6-427a-b319-01f0ccfda26f),\n",
       " DatasetRef(DatasetType('goodSeeingDiff_longTrailedSrc', {band, instrument, day_obs, detector, physical_filter, visit}, DataFrame), {instrument: 'LSSTComCamSim', detector: 0, visit: 7024040300498, band: 'i', day_obs: 20240403, physical_filter: 'i_06'}, run='u/elhoward/DM-44138/LSSTComCamSim/20240510T175057Z', id=b4a92275-04fc-466c-a6ae-af5acc2802fa),\n",
       " DatasetRef(DatasetType('goodSeeingDiff_longTrailedSrc', {band, instrument, day_obs, detector, physical_filter, visit}, DataFrame), {instrument: 'LSSTComCamSim', detector: 5, visit: 7024040400088, band: 'g', day_obs: 20240404, physical_filter: 'g_01'}, run='u/elhoward/DM-44138/LSSTComCamSim/20240510T175057Z', id=e522c694-43e5-4b74-b71d-29456fb05a97),\n",
       " DatasetRef(DatasetType('goodSeeingDiff_longTrailedSrc', {band, instrument, day_obs, detector, physical_filter, visit}, DataFrame), {instrument: 'LSSTComCamSim', detector: 0, visit: 7024040300102, band: 'r', day_obs: 20240403, physical_filter: 'r_03'}, run='u/elhoward/DM-44138/LSSTComCamSim/20240510T175057Z', id=0d794b64-12b3-422e-b052-34bbcb00253e),\n",
       " DatasetRef(DatasetType('goodSeeingDiff_longTrailedSrc', {band, instrument, day_obs, detector, physical_filter, visit}, DataFrame), {instrument: 'LSSTComCamSim', detector: 4, visit: 7024040200470, band: 'i', day_obs: 20240402, physical_filter: 'i_06'}, run='u/elhoward/DM-44138/LSSTComCamSim/20240510T175057Z', id=5121eaae-587c-45b0-a986-f254ee6d8936),\n",
       " DatasetRef(DatasetType('goodSeeingDiff_longTrailedSrc', {band, instrument, day_obs, detector, physical_filter, visit}, DataFrame), {instrument: 'LSSTComCamSim', detector: 1, visit: 7024040200347, band: 'i', day_obs: 20240402, physical_filter: 'i_06'}, run='u/elhoward/DM-44138/LSSTComCamSim/20240510T175057Z', id=f6adcf56-e2d6-47a2-aaae-18a859b67996),\n",
       " DatasetRef(DatasetType('goodSeeingDiff_longTrailedSrc', {band, instrument, day_obs, detector, physical_filter, visit}, DataFrame), {instrument: 'LSSTComCamSim', detector: 6, visit: 7024040200229, band: 'r', day_obs: 20240402, physical_filter: 'r_03'}, run='u/elhoward/DM-44138/LSSTComCamSim/20240510T175057Z', id=49921a9b-5120-42ba-b81a-3b36deb0a10e),\n",
       " DatasetRef(DatasetType('goodSeeingDiff_longTrailedSrc', {band, instrument, day_obs, detector, physical_filter, visit}, DataFrame), {instrument: 'LSSTComCamSim', detector: 6, visit: 7024040200401, band: 'i', day_obs: 20240402, physical_filter: 'i_06'}, run='u/elhoward/DM-44138/LSSTComCamSim/20240510T175057Z', id=acd02733-0d5a-4b78-a557-f758cdd9db0d),\n",
       " DatasetRef(DatasetType('goodSeeingDiff_longTrailedSrc', {band, instrument, day_obs, detector, physical_filter, visit}, DataFrame), {instrument: 'LSSTComCamSim', detector: 7, visit: 7024040200720, band: 'i', day_obs: 20240402, physical_filter: 'i_06'}, run='u/elhoward/DM-44138/LSSTComCamSim/20240510T175057Z', id=54d28fbf-a455-4b6b-8faf-25b69068db91),\n",
       " DatasetRef(DatasetType('goodSeeingDiff_longTrailedSrc', {band, instrument, day_obs, detector, physical_filter, visit}, DataFrame), {instrument: 'LSSTComCamSim', detector: 3, visit: 7024040400510, band: 'g', day_obs: 20240404, physical_filter: 'g_01'}, run='u/elhoward/DM-44138/LSSTComCamSim/20240510T175057Z', id=f498201c-7874-4aec-b114-bc018377df3e),\n",
       " DatasetRef(DatasetType('goodSeeingDiff_longTrailedSrc', {band, instrument, day_obs, detector, physical_filter, visit}, DataFrame), {instrument: 'LSSTComCamSim', detector: 8, visit: 7024040400179, band: 'i', day_obs: 20240404, physical_filter: 'i_06'}, run='u/elhoward/DM-44138/LSSTComCamSim/20240510T175057Z', id=ea060087-e6c2-46ef-8ca6-2f9efd09ff9c),\n",
       " DatasetRef(DatasetType('goodSeeingDiff_longTrailedSrc', {band, instrument, day_obs, detector, physical_filter, visit}, DataFrame), {instrument: 'LSSTComCamSim', detector: 1, visit: 7024040200372, band: 'r', day_obs: 20240402, physical_filter: 'r_03'}, run='u/elhoward/DM-44138/LSSTComCamSim/20240510T175057Z', id=1b18fa4c-6df3-4656-b39f-aaa268d304c0),\n",
       " DatasetRef(DatasetType('goodSeeingDiff_longTrailedSrc', {band, instrument, day_obs, detector, physical_filter, visit}, DataFrame), {instrument: 'LSSTComCamSim', detector: 8, visit: 7024040400442, band: 'g', day_obs: 20240404, physical_filter: 'g_01'}, run='u/elhoward/DM-44138/LSSTComCamSim/20240510T175057Z', id=262e3a57-e6d9-40fe-bf1f-9cadc74a2f76),\n",
       " DatasetRef(DatasetType('goodSeeingDiff_longTrailedSrc', {band, instrument, day_obs, detector, physical_filter, visit}, DataFrame), {instrument: 'LSSTComCamSim', detector: 7, visit: 7024040400170, band: 'i', day_obs: 20240404, physical_filter: 'i_06'}, run='u/elhoward/DM-44138/LSSTComCamSim/20240510T175057Z', id=dd21f28f-9837-4769-bdc7-4be057547c14),\n",
       " DatasetRef(DatasetType('goodSeeingDiff_longTrailedSrc', {band, instrument, day_obs, detector, physical_filter, visit}, DataFrame), {instrument: 'LSSTComCamSim', detector: 0, visit: 7024040300606, band: 'i', day_obs: 20240403, physical_filter: 'i_06'}, run='u/elhoward/DM-44138/LSSTComCamSim/20240510T175057Z', id=40584cde-9758-401f-bdc9-ff5af5c0b6a3),\n",
       " DatasetRef(DatasetType('goodSeeingDiff_longTrailedSrc', {band, instrument, day_obs, detector, physical_filter, visit}, DataFrame), {instrument: 'LSSTComCamSim', detector: 1, visit: 7024040200325, band: 'g', day_obs: 20240402, physical_filter: 'g_01'}, run='u/elhoward/DM-44138/LSSTComCamSim/20240510T175057Z', id=81c1cef6-fcd5-48c6-81df-f31ace5ff181),\n",
       " DatasetRef(DatasetType('goodSeeingDiff_longTrailedSrc', {band, instrument, day_obs, detector, physical_filter, visit}, DataFrame), {instrument: 'LSSTComCamSim', detector: 2, visit: 7024040200513, band: 'g', day_obs: 20240402, physical_filter: 'g_01'}, run='u/elhoward/DM-44138/LSSTComCamSim/20240510T175057Z', id=a923e465-a1c9-4b4e-a6d1-1316e2d75d37),\n",
       " DatasetRef(DatasetType('goodSeeingDiff_longTrailedSrc', {band, instrument, day_obs, detector, physical_filter, visit}, DataFrame), {instrument: 'LSSTComCamSim', detector: 7, visit: 7024040300095, band: 'g', day_obs: 20240403, physical_filter: 'g_01'}, run='u/elhoward/DM-44138/LSSTComCamSim/20240510T175057Z', id=8d3abeb6-1729-4233-ae2f-432ee989a618),\n",
       " DatasetRef(DatasetType('goodSeeingDiff_longTrailedSrc', {band, instrument, day_obs, detector, physical_filter, visit}, DataFrame), {instrument: 'LSSTComCamSim', detector: 1, visit: 7024040400760, band: 'g', day_obs: 20240404, physical_filter: 'g_01'}, run='u/elhoward/DM-44138/LSSTComCamSim/20240510T175057Z', id=8f744fbf-ad6b-4ebd-86f0-59d6092441b2),\n",
       " DatasetRef(DatasetType('goodSeeingDiff_longTrailedSrc', {band, instrument, day_obs, detector, physical_filter, visit}, DataFrame), {instrument: 'LSSTComCamSim', detector: 3, visit: 7024040400228, band: 'r', day_obs: 20240404, physical_filter: 'r_03'}, run='u/elhoward/DM-44138/LSSTComCamSim/20240510T175057Z', id=4b987c7e-443d-469d-9da7-445b78420326),\n",
       " DatasetRef(DatasetType('goodSeeingDiff_longTrailedSrc', {band, instrument, day_obs, detector, physical_filter, visit}, DataFrame), {instrument: 'LSSTComCamSim', detector: 2, visit: 7024040400195, band: 'i', day_obs: 20240404, physical_filter: 'i_06'}, run='u/elhoward/DM-44138/LSSTComCamSim/20240510T175057Z', id=5ef3a02a-cf31-43da-8dfe-709a7e639939),\n",
       " DatasetRef(DatasetType('goodSeeingDiff_longTrailedSrc', {band, instrument, day_obs, detector, physical_filter, visit}, DataFrame), {instrument: 'LSSTComCamSim', detector: 1, visit: 7024040400732, band: 'i', day_obs: 20240404, physical_filter: 'i_06'}, run='u/elhoward/DM-44138/LSSTComCamSim/20240510T175057Z', id=92a4ffef-1143-4d37-b807-acb13f55ce4b),\n",
       " DatasetRef(DatasetType('goodSeeingDiff_longTrailedSrc', {band, instrument, day_obs, detector, physical_filter, visit}, DataFrame), {instrument: 'LSSTComCamSim', detector: 4, visit: 7024040300645, band: 'r', day_obs: 20240403, physical_filter: 'r_03'}, run='u/elhoward/DM-44138/LSSTComCamSim/20240510T175057Z', id=17563c9a-93bc-4a4e-8430-218f72f1e5cb),\n",
       " DatasetRef(DatasetType('goodSeeingDiff_longTrailedSrc', {band, instrument, day_obs, detector, physical_filter, visit}, DataFrame), {instrument: 'LSSTComCamSim', detector: 3, visit: 7024040400437, band: 'i', day_obs: 20240404, physical_filter: 'i_06'}, run='u/elhoward/DM-44138/LSSTComCamSim/20240510T175057Z', id=a2659548-9822-4fc8-b848-f4bb6d0b39fd),\n",
       " DatasetRef(DatasetType('goodSeeingDiff_longTrailedSrc', {band, instrument, day_obs, detector, physical_filter, visit}, DataFrame), {instrument: 'LSSTComCamSim', detector: 6, visit: 7024040200286, band: 'i', day_obs: 20240402, physical_filter: 'i_06'}, run='u/elhoward/DM-44138/LSSTComCamSim/20240510T175057Z', id=fef96326-0d7e-4325-9fce-c8c9ddb49f2d),\n",
       " DatasetRef(DatasetType('goodSeeingDiff_longTrailedSrc', {band, instrument, day_obs, detector, physical_filter, visit}, DataFrame), {instrument: 'LSSTComCamSim', detector: 2, visit: 7024040200300, band: 'i', day_obs: 20240402, physical_filter: 'i_06'}, run='u/elhoward/DM-44138/LSSTComCamSim/20240510T175057Z', id=7390aad9-eab1-47f8-8d1a-cada3783f8c9),\n",
       " DatasetRef(DatasetType('goodSeeingDiff_longTrailedSrc', {band, instrument, day_obs, detector, physical_filter, visit}, DataFrame), {instrument: 'LSSTComCamSim', detector: 1, visit: 7024040400552, band: 'r', day_obs: 20240404, physical_filter: 'r_03'}, run='u/elhoward/DM-44138/LSSTComCamSim/20240510T175057Z', id=4869f2dd-0909-4b63-a23b-574cba2c5da2),\n",
       " DatasetRef(DatasetType('goodSeeingDiff_longTrailedSrc', {band, instrument, day_obs, detector, physical_filter, visit}, DataFrame), {instrument: 'LSSTComCamSim', detector: 7, visit: 7024040400048, band: 'i', day_obs: 20240404, physical_filter: 'i_06'}, run='u/elhoward/DM-44138/LSSTComCamSim/20240510T175057Z', id=817d0c0a-5877-44a4-8fb0-6a92bb7f139d),\n",
       " DatasetRef(DatasetType('goodSeeingDiff_longTrailedSrc', {band, instrument, day_obs, detector, physical_filter, visit}, DataFrame), {instrument: 'LSSTComCamSim', detector: 1, visit: 7024040300197, band: 'i', day_obs: 20240403, physical_filter: 'i_06'}, run='u/elhoward/DM-44138/LSSTComCamSim/20240510T175057Z', id=8ee97866-8b70-431d-b0b3-f6238dd09fcc),\n",
       " DatasetRef(DatasetType('goodSeeingDiff_longTrailedSrc', {band, instrument, day_obs, detector, physical_filter, visit}, DataFrame), {instrument: 'LSSTComCamSim', detector: 8, visit: 7024040200396, band: 'g', day_obs: 20240402, physical_filter: 'g_01'}, run='u/elhoward/DM-44138/LSSTComCamSim/20240510T175057Z', id=d141c32a-5ad4-4f6e-9021-2891ce68bd3b),\n",
       " DatasetRef(DatasetType('goodSeeingDiff_longTrailedSrc', {band, instrument, day_obs, detector, physical_filter, visit}, DataFrame), {instrument: 'LSSTComCamSim', detector: 8, visit: 7024040400384, band: 'g', day_obs: 20240404, physical_filter: 'g_01'}, run='u/elhoward/DM-44138/LSSTComCamSim/20240510T175057Z', id=9d42d27a-cc0f-4b96-83b5-870a9bf55c0a),\n",
       " DatasetRef(DatasetType('goodSeeingDiff_longTrailedSrc', {band, instrument, day_obs, detector, physical_filter, visit}, DataFrame), {instrument: 'LSSTComCamSim', detector: 6, visit: 7024040200575, band: 'g', day_obs: 20240402, physical_filter: 'g_01'}, run='u/elhoward/DM-44138/LSSTComCamSim/20240510T175057Z', id=7f496b82-65b0-46a0-a95c-06069eae03ea),\n",
       " DatasetRef(DatasetType('goodSeeingDiff_longTrailedSrc', {band, instrument, day_obs, detector, physical_filter, visit}, DataFrame), {instrument: 'LSSTComCamSim', detector: 0, visit: 7024040300456, band: 'g', day_obs: 20240403, physical_filter: 'g_01'}, run='u/elhoward/DM-44138/LSSTComCamSim/20240510T175057Z', id=d74cb069-7085-4afd-b642-a65e006b60d5),\n",
       " DatasetRef(DatasetType('goodSeeingDiff_longTrailedSrc', {band, instrument, day_obs, detector, physical_filter, visit}, DataFrame), {instrument: 'LSSTComCamSim', detector: 8, visit: 7024040300607, band: 'i', day_obs: 20240403, physical_filter: 'i_06'}, run='u/elhoward/DM-44138/LSSTComCamSim/20240510T175057Z', id=7728f4d0-34cb-40c5-8a19-5ccba3ad32c9),\n",
       " DatasetRef(DatasetType('goodSeeingDiff_longTrailedSrc', {band, instrument, day_obs, detector, physical_filter, visit}, DataFrame), {instrument: 'LSSTComCamSim', detector: 8, visit: 7024040200449, band: 'g', day_obs: 20240402, physical_filter: 'g_01'}, run='u/elhoward/DM-44138/LSSTComCamSim/20240510T175057Z', id=407b7db9-9bfc-4f73-b63c-5080f8a23d3a),\n",
       " DatasetRef(DatasetType('goodSeeingDiff_longTrailedSrc', {band, instrument, day_obs, detector, physical_filter, visit}, DataFrame), {instrument: 'LSSTComCamSim', detector: 8, visit: 7024040300144, band: 'g', day_obs: 20240403, physical_filter: 'g_01'}, run='u/elhoward/DM-44138/LSSTComCamSim/20240510T175057Z', id=92ca5c2d-c048-468d-b035-30e7a7d2847e),\n",
       " DatasetRef(DatasetType('goodSeeingDiff_longTrailedSrc', {band, instrument, day_obs, detector, physical_filter, visit}, DataFrame), {instrument: 'LSSTComCamSim', detector: 6, visit: 7024040300154, band: 'g', day_obs: 20240403, physical_filter: 'g_01'}, run='u/elhoward/DM-44138/LSSTComCamSim/20240510T175057Z', id=70f1a1f4-aac8-4fad-9557-4a65fa263bbe),\n",
       " DatasetRef(DatasetType('goodSeeingDiff_longTrailedSrc', {band, instrument, day_obs, detector, physical_filter, visit}, DataFrame), {instrument: 'LSSTComCamSim', detector: 1, visit: 7024040300069, band: 'i', day_obs: 20240403, physical_filter: 'i_06'}, run='u/elhoward/DM-44138/LSSTComCamSim/20240510T175057Z', id=46c49b30-5727-4035-95b1-64a06edcb78f),\n",
       " DatasetRef(DatasetType('goodSeeingDiff_longTrailedSrc', {band, instrument, day_obs, detector, physical_filter, visit}, DataFrame), {instrument: 'LSSTComCamSim', detector: 7, visit: 7024040300321, band: 'g', day_obs: 20240403, physical_filter: 'g_01'}, run='u/elhoward/DM-44138/LSSTComCamSim/20240510T175057Z', id=19deec1c-11e3-442f-b85c-f37a81b997f6),\n",
       " DatasetRef(DatasetType('goodSeeingDiff_longTrailedSrc', {band, instrument, day_obs, detector, physical_filter, visit}, DataFrame), {instrument: 'LSSTComCamSim', detector: 4, visit: 7024040400550, band: 'r', day_obs: 20240404, physical_filter: 'r_03'}, run='u/elhoward/DM-44138/LSSTComCamSim/20240510T175057Z', id=5aa32ace-ef11-4b31-8593-8492da835fb3),\n",
       " DatasetRef(DatasetType('goodSeeingDiff_longTrailedSrc', {band, instrument, day_obs, detector, physical_filter, visit}, DataFrame), {instrument: 'LSSTComCamSim', detector: 5, visit: 7024040300132, band: 'r', day_obs: 20240403, physical_filter: 'r_03'}, run='u/elhoward/DM-44138/LSSTComCamSim/20240510T175057Z', id=217b458d-2269-4533-aeb1-fbaeceed8ff7),\n",
       " DatasetRef(DatasetType('goodSeeingDiff_longTrailedSrc', {band, instrument, day_obs, detector, physical_filter, visit}, DataFrame), {instrument: 'LSSTComCamSim', detector: 1, visit: 7024040300264, band: 'g', day_obs: 20240403, physical_filter: 'g_01'}, run='u/elhoward/DM-44138/LSSTComCamSim/20240510T175057Z', id=83823643-e37a-4627-9b4a-70cb23188834),\n",
       " DatasetRef(DatasetType('goodSeeingDiff_longTrailedSrc', {band, instrument, day_obs, detector, physical_filter, visit}, DataFrame), {instrument: 'LSSTComCamSim', detector: 0, visit: 7024040200566, band: 'g', day_obs: 20240402, physical_filter: 'g_01'}, run='u/elhoward/DM-44138/LSSTComCamSim/20240510T175057Z', id=3f5d797a-823f-4313-a297-c74e5c52a0e4),\n",
       " DatasetRef(DatasetType('goodSeeingDiff_longTrailedSrc', {band, instrument, day_obs, detector, physical_filter, visit}, DataFrame), {instrument: 'LSSTComCamSim', detector: 0, visit: 7024040300343, band: 'r', day_obs: 20240403, physical_filter: 'r_03'}, run='u/elhoward/DM-44138/LSSTComCamSim/20240510T175057Z', id=a66734a5-b19f-4719-9e47-9997974200ae),\n",
       " DatasetRef(DatasetType('goodSeeingDiff_longTrailedSrc', {band, instrument, day_obs, detector, physical_filter, visit}, DataFrame), {instrument: 'LSSTComCamSim', detector: 7, visit: 7024040400097, band: 'g', day_obs: 20240404, physical_filter: 'g_01'}, run='u/elhoward/DM-44138/LSSTComCamSim/20240510T175057Z', id=4552da79-ce27-447d-89af-c4cf704d95b0),\n",
       " DatasetRef(DatasetType('goodSeeingDiff_longTrailedSrc', {band, instrument, day_obs, detector, physical_filter, visit}, DataFrame), {instrument: 'LSSTComCamSim', detector: 0, visit: 7024040400068, band: 'i', day_obs: 20240404, physical_filter: 'i_06'}, run='u/elhoward/DM-44138/LSSTComCamSim/20240510T175057Z', id=1e3e59ec-85ae-491d-bc09-f714134670e2),\n",
       " DatasetRef(DatasetType('goodSeeingDiff_longTrailedSrc', {band, instrument, day_obs, detector, physical_filter, visit}, DataFrame), {instrument: 'LSSTComCamSim', detector: 8, visit: 7024040200384, band: 'g', day_obs: 20240402, physical_filter: 'g_01'}, run='u/elhoward/DM-44138/LSSTComCamSim/20240510T175057Z', id=262d6305-c853-402f-9994-5a57ad763863),\n",
       " DatasetRef(DatasetType('goodSeeingDiff_longTrailedSrc', {band, instrument, day_obs, detector, physical_filter, visit}, DataFrame), {instrument: 'LSSTComCamSim', detector: 8, visit: 7024040400525, band: 'i', day_obs: 20240404, physical_filter: 'i_06'}, run='u/elhoward/DM-44138/LSSTComCamSim/20240510T175057Z', id=b887037c-f041-4eca-bd47-75696c5f4344),\n",
       " DatasetRef(DatasetType('goodSeeingDiff_longTrailedSrc', {band, instrument, day_obs, detector, physical_filter, visit}, DataFrame), {instrument: 'LSSTComCamSim', detector: 2, visit: 7024040200618, band: 'i', day_obs: 20240402, physical_filter: 'i_06'}, run='u/elhoward/DM-44138/LSSTComCamSim/20240510T175057Z', id=77877bc5-2995-44f3-a7bd-5520b937124b),\n",
       " DatasetRef(DatasetType('goodSeeingDiff_longTrailedSrc', {band, instrument, day_obs, detector, physical_filter, visit}, DataFrame), {instrument: 'LSSTComCamSim', detector: 8, visit: 7024040200263, band: 'g', day_obs: 20240402, physical_filter: 'g_01'}, run='u/elhoward/DM-44138/LSSTComCamSim/20240510T175057Z', id=85a0dba5-ebca-418a-8870-5c9072c72d92),\n",
       " DatasetRef(DatasetType('goodSeeingDiff_longTrailedSrc', {band, instrument, day_obs, detector, physical_filter, visit}, DataFrame), {instrument: 'LSSTComCamSim', detector: 8, visit: 7024040300017, band: 'r', day_obs: 20240403, physical_filter: 'r_03'}, run='u/elhoward/DM-44138/LSSTComCamSim/20240510T175057Z', id=4d02dcf4-d8bf-4528-b6db-09f0452090de),\n",
       " DatasetRef(DatasetType('goodSeeingDiff_longTrailedSrc', {band, instrument, day_obs, detector, physical_filter, visit}, DataFrame), {instrument: 'LSSTComCamSim', detector: 2, visit: 7024040300725, band: 'i', day_obs: 20240403, physical_filter: 'i_06'}, run='u/elhoward/DM-44138/LSSTComCamSim/20240510T175057Z', id=06ee3dd7-d111-44a3-866a-4acb1e039524),\n",
       " DatasetRef(DatasetType('goodSeeingDiff_longTrailedSrc', {band, instrument, day_obs, detector, physical_filter, visit}, DataFrame), {instrument: 'LSSTComCamSim', detector: 5, visit: 7024040400468, band: 'r', day_obs: 20240404, physical_filter: 'r_03'}, run='u/elhoward/DM-44138/LSSTComCamSim/20240510T175057Z', id=597d4736-6139-4df8-b6e7-d7f862ff4a66),\n",
       " DatasetRef(DatasetType('goodSeeingDiff_longTrailedSrc', {band, instrument, day_obs, detector, physical_filter, visit}, DataFrame), {instrument: 'LSSTComCamSim', detector: 6, visit: 7024040300412, band: 'i', day_obs: 20240403, physical_filter: 'i_06'}, run='u/elhoward/DM-44138/LSSTComCamSim/20240510T175057Z', id=1a24eedd-2bbc-42f9-8df0-b9d7330da286),\n",
       " DatasetRef(DatasetType('goodSeeingDiff_longTrailedSrc', {band, instrument, day_obs, detector, physical_filter, visit}, DataFrame), {instrument: 'LSSTComCamSim', detector: 2, visit: 7024040200571, band: 'g', day_obs: 20240402, physical_filter: 'g_01'}, run='u/elhoward/DM-44138/LSSTComCamSim/20240510T175057Z', id=6ceed274-0451-4b3a-b401-8b8240a0e072),\n",
       " DatasetRef(DatasetType('goodSeeingDiff_longTrailedSrc', {band, instrument, day_obs, detector, physical_filter, visit}, DataFrame), {instrument: 'LSSTComCamSim', detector: 6, visit: 7024040200198, band: 'i', day_obs: 20240402, physical_filter: 'i_06'}, run='u/elhoward/DM-44138/LSSTComCamSim/20240510T175057Z', id=05fd00cd-1103-4d71-a061-06a863a2cf03),\n",
       " DatasetRef(DatasetType('goodSeeingDiff_longTrailedSrc', {band, instrument, day_obs, detector, physical_filter, visit}, DataFrame), {instrument: 'LSSTComCamSim', detector: 7, visit: 7024040200185, band: 'i', day_obs: 20240402, physical_filter: 'i_06'}, run='u/elhoward/DM-44138/LSSTComCamSim/20240510T175057Z', id=1280adec-5f2d-4d3b-a4fd-af165fd3d0e0),\n",
       " DatasetRef(DatasetType('goodSeeingDiff_longTrailedSrc', {band, instrument, day_obs, detector, physical_filter, visit}, DataFrame), {instrument: 'LSSTComCamSim', detector: 8, visit: 7024040200706, band: 'i', day_obs: 20240402, physical_filter: 'i_06'}, run='u/elhoward/DM-44138/LSSTComCamSim/20240510T175057Z', id=dfb801f1-82fe-4e14-83d5-f7a95ebec9ff),\n",
       " DatasetRef(DatasetType('goodSeeingDiff_longTrailedSrc', {band, instrument, day_obs, detector, physical_filter, visit}, DataFrame), {instrument: 'LSSTComCamSim', detector: 7, visit: 7024040300662, band: 'r', day_obs: 20240403, physical_filter: 'r_03'}, run='u/elhoward/DM-44138/LSSTComCamSim/20240510T175057Z', id=ad44a330-1a95-4748-8540-351a53bc80e2),\n",
       " DatasetRef(DatasetType('goodSeeingDiff_longTrailedSrc', {band, instrument, day_obs, detector, physical_filter, visit}, DataFrame), {instrument: 'LSSTComCamSim', detector: 1, visit: 7024040400186, band: 'i', day_obs: 20240404, physical_filter: 'i_06'}, run='u/elhoward/DM-44138/LSSTComCamSim/20240510T175057Z', id=b75ced74-1ac6-4baa-9edc-112346b55e01),\n",
       " DatasetRef(DatasetType('goodSeeingDiff_longTrailedSrc', {band, instrument, day_obs, detector, physical_filter, visit}, DataFrame), {instrument: 'LSSTComCamSim', detector: 3, visit: 7024040300257, band: 'i', day_obs: 20240403, physical_filter: 'i_06'}, run='u/elhoward/DM-44138/LSSTComCamSim/20240510T175057Z', id=ed7c7003-0efe-45d9-b442-cde950c60c8a),\n",
       " DatasetRef(DatasetType('goodSeeingDiff_longTrailedSrc', {band, instrument, day_obs, detector, physical_filter, visit}, DataFrame), {instrument: 'LSSTComCamSim', detector: 1, visit: 7024040300382, band: 'g', day_obs: 20240403, physical_filter: 'g_01'}, run='u/elhoward/DM-44138/LSSTComCamSim/20240510T175057Z', id=b16e2128-a9f1-47df-908a-ab024fcefc62),\n",
       " DatasetRef(DatasetType('goodSeeingDiff_longTrailedSrc', {band, instrument, day_obs, detector, physical_filter, visit}, DataFrame), {instrument: 'LSSTComCamSim', detector: 2, visit: 7024040400555, band: 'r', day_obs: 20240404, physical_filter: 'r_03'}, run='u/elhoward/DM-44138/LSSTComCamSim/20240510T175057Z', id=3ba21668-cf12-4bb1-b1ab-d04cc23cde3a),\n",
       " DatasetRef(DatasetType('goodSeeingDiff_longTrailedSrc', {band, instrument, day_obs, detector, physical_filter, visit}, DataFrame), {instrument: 'LSSTComCamSim', detector: 1, visit: 7024040200332, band: 'g', day_obs: 20240402, physical_filter: 'g_01'}, run='u/elhoward/DM-44138/LSSTComCamSim/20240510T175057Z', id=8b00a332-d8a2-4d57-959e-2178459b50db),\n",
       " DatasetRef(DatasetType('goodSeeingDiff_longTrailedSrc', {band, instrument, day_obs, detector, physical_filter, visit}, DataFrame), {instrument: 'LSSTComCamSim', detector: 2, visit: 7024040200287, band: 'i', day_obs: 20240402, physical_filter: 'i_06'}, run='u/elhoward/DM-44138/LSSTComCamSim/20240510T175057Z', id=2141253f-e304-4366-b6f3-01d3c4b2a0b1),\n",
       " DatasetRef(DatasetType('goodSeeingDiff_longTrailedSrc', {band, instrument, day_obs, detector, physical_filter, visit}, DataFrame), {instrument: 'LSSTComCamSim', detector: 2, visit: 7024040300575, band: 'g', day_obs: 20240403, physical_filter: 'g_01'}, run='u/elhoward/DM-44138/LSSTComCamSim/20240510T175057Z', id=559bb5d2-b640-400a-a30e-d8d30a3a3b8f),\n",
       " DatasetRef(DatasetType('goodSeeingDiff_longTrailedSrc', {band, instrument, day_obs, detector, physical_filter, visit}, DataFrame), {instrument: 'LSSTComCamSim', detector: 0, visit: 7024040300292, band: 'r', day_obs: 20240403, physical_filter: 'r_03'}, run='u/elhoward/DM-44138/LSSTComCamSim/20240510T175057Z', id=ada2df65-15ee-45d4-82e8-f49220e38d18),\n",
       " DatasetRef(DatasetType('goodSeeingDiff_longTrailedSrc', {band, instrument, day_obs, detector, physical_filter, visit}, DataFrame), {instrument: 'LSSTComCamSim', detector: 8, visit: 7024040400667, band: 'r', day_obs: 20240404, physical_filter: 'r_03'}, run='u/elhoward/DM-44138/LSSTComCamSim/20240510T175057Z', id=c0bc58be-44fc-4b42-949f-73eb6e0d61b1),\n",
       " DatasetRef(DatasetType('goodSeeingDiff_longTrailedSrc', {band, instrument, day_obs, detector, physical_filter, visit}, DataFrame), {instrument: 'LSSTComCamSim', detector: 2, visit: 7024040400700, band: 'g', day_obs: 20240404, physical_filter: 'g_01'}, run='u/elhoward/DM-44138/LSSTComCamSim/20240510T175057Z', id=488f2b7b-8923-4439-9e22-62b4f0771a15),\n",
       " DatasetRef(DatasetType('goodSeeingDiff_longTrailedSrc', {band, instrument, day_obs, detector, physical_filter, visit}, DataFrame), {instrument: 'LSSTComCamSim', detector: 4, visit: 7024040200227, band: 'r', day_obs: 20240402, physical_filter: 'r_03'}, run='u/elhoward/DM-44138/LSSTComCamSim/20240510T175057Z', id=03f4b831-92e4-4070-a943-90c3b867b873),\n",
       " DatasetRef(DatasetType('goodSeeingDiff_longTrailedSrc', {band, instrument, day_obs, detector, physical_filter, visit}, DataFrame), {instrument: 'LSSTComCamSim', detector: 7, visit: 7024040300529, band: 'r', day_obs: 20240403, physical_filter: 'r_03'}, run='u/elhoward/DM-44138/LSSTComCamSim/20240510T175057Z', id=3ee78a1f-8b2d-421a-b849-d31d2d87ab1d),\n",
       " DatasetRef(DatasetType('goodSeeingDiff_longTrailedSrc', {band, instrument, day_obs, detector, physical_filter, visit}, DataFrame), {instrument: 'LSSTComCamSim', detector: 1, visit: 7024040200536, band: 'r', day_obs: 20240402, physical_filter: 'r_03'}, run='u/elhoward/DM-44138/LSSTComCamSim/20240510T175057Z', id=fad63adf-314f-47e8-b000-55ef7cb8fccb),\n",
       " DatasetRef(DatasetType('goodSeeingDiff_longTrailedSrc', {band, instrument, day_obs, detector, physical_filter, visit}, DataFrame), {instrument: 'LSSTComCamSim', detector: 8, visit: 7024040400438, band: 'i', day_obs: 20240404, physical_filter: 'i_06'}, run='u/elhoward/DM-44138/LSSTComCamSim/20240510T175057Z', id=32cd2077-7925-432b-a61d-097fb69922de),\n",
       " DatasetRef(DatasetType('goodSeeingDiff_longTrailedSrc', {band, instrument, day_obs, detector, physical_filter, visit}, DataFrame), {instrument: 'LSSTComCamSim', detector: 2, visit: 7024040400276, band: 'g', day_obs: 20240404, physical_filter: 'g_01'}, run='u/elhoward/DM-44138/LSSTComCamSim/20240510T175057Z', id=fecf7c1e-fb6b-429c-94fd-c3ce9648a740),\n",
       " DatasetRef(DatasetType('goodSeeingDiff_longTrailedSrc', {band, instrument, day_obs, detector, physical_filter, visit}, DataFrame), {instrument: 'LSSTComCamSim', detector: 6, visit: 7024040200629, band: 'g', day_obs: 20240402, physical_filter: 'g_01'}, run='u/elhoward/DM-44138/LSSTComCamSim/20240510T175057Z', id=5b80973d-278f-4998-b12c-54c71bf76f9f),\n",
       " DatasetRef(DatasetType('goodSeeingDiff_longTrailedSrc', {band, instrument, day_obs, detector, physical_filter, visit}, DataFrame), {instrument: 'LSSTComCamSim', detector: 0, visit: 7024040400545, band: 'r', day_obs: 20240404, physical_filter: 'r_03'}, run='u/elhoward/DM-44138/LSSTComCamSim/20240510T175057Z', id=c1c6fe70-00cc-49ef-aace-8e36ea00ecaa),\n",
       " DatasetRef(DatasetType('goodSeeingDiff_longTrailedSrc', {band, instrument, day_obs, detector, physical_filter, visit}, DataFrame), {instrument: 'LSSTComCamSim', detector: 3, visit: 7024040300422, band: 'r', day_obs: 20240403, physical_filter: 'r_03'}, run='u/elhoward/DM-44138/LSSTComCamSim/20240510T175057Z', id=d5c2bd9b-b1cb-4af5-a6ce-181df205e49d),\n",
       " DatasetRef(DatasetType('goodSeeingDiff_longTrailedSrc', {band, instrument, day_obs, detector, physical_filter, visit}, DataFrame), {instrument: 'LSSTComCamSim', detector: 7, visit: 7024040300055, band: 'i', day_obs: 20240403, physical_filter: 'i_06'}, run='u/elhoward/DM-44138/LSSTComCamSim/20240510T175057Z', id=ea8efa4a-af0f-4655-8c55-cd29f15489ab),\n",
       " DatasetRef(DatasetType('goodSeeingDiff_longTrailedSrc', {band, instrument, day_obs, detector, physical_filter, visit}, DataFrame), {instrument: 'LSSTComCamSim', detector: 5, visit: 7024040400485, band: 'r', day_obs: 20240404, physical_filter: 'r_03'}, run='u/elhoward/DM-44138/LSSTComCamSim/20240510T175057Z', id=8ece4ee7-51d5-4e64-ac67-e79972554977),\n",
       " DatasetRef(DatasetType('goodSeeingDiff_longTrailedSrc', {band, instrument, day_obs, detector, physical_filter, visit}, DataFrame), {instrument: 'LSSTComCamSim', detector: 1, visit: 7024040300617, band: 'i', day_obs: 20240403, physical_filter: 'i_06'}, run='u/elhoward/DM-44138/LSSTComCamSim/20240510T175057Z', id=42b474ff-b533-4ec4-8ddb-e350974bc68d),\n",
       " DatasetRef(DatasetType('goodSeeingDiff_longTrailedSrc', {band, instrument, day_obs, detector, physical_filter, visit}, DataFrame), {instrument: 'LSSTComCamSim', detector: 2, visit: 7024040400766, band: 'r', day_obs: 20240404, physical_filter: 'r_03'}, run='u/elhoward/DM-44138/LSSTComCamSim/20240510T175057Z', id=3e04e16a-1252-4a11-b4c4-384cb3ed6be4),\n",
       " DatasetRef(DatasetType('goodSeeingDiff_longTrailedSrc', {band, instrument, day_obs, detector, physical_filter, visit}, DataFrame), {instrument: 'LSSTComCamSim', detector: 6, visit: 7024040400748, band: 'g', day_obs: 20240404, physical_filter: 'g_01'}, run='u/elhoward/DM-44138/LSSTComCamSim/20240510T175057Z', id=c54b7d7e-f0d7-4535-8aaf-a97ea252930c),\n",
       " DatasetRef(DatasetType('goodSeeingDiff_longTrailedSrc', {band, instrument, day_obs, detector, physical_filter, visit}, DataFrame), {instrument: 'LSSTComCamSim', detector: 4, visit: 7024040300467, band: 'i', day_obs: 20240403, physical_filter: 'i_06'}, run='u/elhoward/DM-44138/LSSTComCamSim/20240510T175057Z', id=2b601c05-75f3-47f6-b73e-c5c5a8c27d5d),\n",
       " DatasetRef(DatasetType('goodSeeingDiff_longTrailedSrc', {band, instrument, day_obs, detector, physical_filter, visit}, DataFrame), {instrument: 'LSSTComCamSim', detector: 7, visit: 7024040200560, band: 'r', day_obs: 20240402, physical_filter: 'r_03'}, run='u/elhoward/DM-44138/LSSTComCamSim/20240510T175057Z', id=d33cdb08-92a4-4233-a696-cd3661a0ab43),\n",
       " DatasetRef(DatasetType('goodSeeingDiff_longTrailedSrc', {band, instrument, day_obs, detector, physical_filter, visit}, DataFrame), {instrument: 'LSSTComCamSim', detector: 6, visit: 7024040300720, band: 'i', day_obs: 20240403, physical_filter: 'i_06'}, run='u/elhoward/DM-44138/LSSTComCamSim/20240510T175057Z', id=b56d6c01-c85e-465f-b206-50a1f3478a20),\n",
       " DatasetRef(DatasetType('goodSeeingDiff_longTrailedSrc', {band, instrument, day_obs, detector, physical_filter, visit}, DataFrame), {instrument: 'LSSTComCamSim', detector: 5, visit: 7024040400494, band: 'r', day_obs: 20240404, physical_filter: 'r_03'}, run='u/elhoward/DM-44138/LSSTComCamSim/20240510T175057Z', id=9fbc597f-0ce3-4821-ae31-2b1969017c46),\n",
       " DatasetRef(DatasetType('goodSeeingDiff_longTrailedSrc', {band, instrument, day_obs, detector, physical_filter, visit}, DataFrame), {instrument: 'LSSTComCamSim', detector: 3, visit: 7024040300485, band: 'i', day_obs: 20240403, physical_filter: 'i_06'}, run='u/elhoward/DM-44138/LSSTComCamSim/20240510T175057Z', id=47b65469-597e-4111-956c-1e8fe153b426),\n",
       " DatasetRef(DatasetType('goodSeeingDiff_longTrailedSrc', {band, instrument, day_obs, detector, physical_filter, visit}, DataFrame), {instrument: 'LSSTComCamSim', detector: 1, visit: 7024040300027, band: 'g', day_obs: 20240403, physical_filter: 'g_01'}, run='u/elhoward/DM-44138/LSSTComCamSim/20240510T175057Z', id=e5ae0a82-b18a-4d79-bdda-2cbb9a96d178),\n",
       " DatasetRef(DatasetType('goodSeeingDiff_longTrailedSrc', {band, instrument, day_obs, detector, physical_filter, visit}, DataFrame), {instrument: 'LSSTComCamSim', detector: 1, visit: 7024040300342, band: 'r', day_obs: 20240403, physical_filter: 'r_03'}, run='u/elhoward/DM-44138/LSSTComCamSim/20240510T175057Z', id=df8a5a70-8dc6-4263-b9f4-2a55b7702a63),\n",
       " DatasetRef(DatasetType('goodSeeingDiff_longTrailedSrc', {band, instrument, day_obs, detector, physical_filter, visit}, DataFrame), {instrument: 'LSSTComCamSim', detector: 5, visit: 7024040300105, band: 'r', day_obs: 20240403, physical_filter: 'r_03'}, run='u/elhoward/DM-44138/LSSTComCamSim/20240510T175057Z', id=9b7531cb-de18-48b0-85b6-0c913a177816),\n",
       " DatasetRef(DatasetType('goodSeeingDiff_longTrailedSrc', {band, instrument, day_obs, detector, physical_filter, visit}, DataFrame), {instrument: 'LSSTComCamSim', detector: 3, visit: 7024040300573, band: 'g', day_obs: 20240403, physical_filter: 'g_01'}, run='u/elhoward/DM-44138/LSSTComCamSim/20240510T175057Z', id=f86ce14e-ffc3-40f5-a266-806e634eb5eb),\n",
       " DatasetRef(DatasetType('goodSeeingDiff_longTrailedSrc', {band, instrument, day_obs, detector, physical_filter, visit}, DataFrame), {instrument: 'LSSTComCamSim', detector: 1, visit: 7024040300705, band: 'i', day_obs: 20240403, physical_filter: 'i_06'}, run='u/elhoward/DM-44138/LSSTComCamSim/20240510T175057Z', id=36612835-7ab1-47ef-9335-35e540ea7e67),\n",
       " DatasetRef(DatasetType('goodSeeingDiff_longTrailedSrc', {band, instrument, day_obs, detector, physical_filter, visit}, DataFrame), {instrument: 'LSSTComCamSim', detector: 3, visit: 7024040400067, band: 'i', day_obs: 20240404, physical_filter: 'i_06'}, run='u/elhoward/DM-44138/LSSTComCamSim/20240510T175057Z', id=60c8a6ff-67b9-4e4b-afbb-18a8b1e94b92),\n",
       " DatasetRef(DatasetType('goodSeeingDiff_longTrailedSrc', {band, instrument, day_obs, detector, physical_filter, visit}, DataFrame), {instrument: 'LSSTComCamSim', detector: 8, visit: 7024040300112, band: 'r', day_obs: 20240403, physical_filter: 'r_03'}, run='u/elhoward/DM-44138/LSSTComCamSim/20240510T175057Z', id=6600dfd1-9b99-4f55-b32f-7e643fb3434a),\n",
       " DatasetRef(DatasetType('goodSeeingDiff_longTrailedSrc', {band, instrument, day_obs, detector, physical_filter, visit}, DataFrame), {instrument: 'LSSTComCamSim', detector: 1, visit: 7024040400605, band: 'i', day_obs: 20240404, physical_filter: 'i_06'}, run='u/elhoward/DM-44138/LSSTComCamSim/20240510T175057Z', id=47ee992b-46b3-4e7e-bd2a-9a0ab71fca02),\n",
       " DatasetRef(DatasetType('goodSeeingDiff_longTrailedSrc', {band, instrument, day_obs, detector, physical_filter, visit}, DataFrame), {instrument: 'LSSTComCamSim', detector: 1, visit: 7024040400194, band: 'i', day_obs: 20240404, physical_filter: 'i_06'}, run='u/elhoward/DM-44138/LSSTComCamSim/20240510T175057Z', id=51165119-4f74-4a17-a231-6f5abde26d1f),\n",
       " DatasetRef(DatasetType('goodSeeingDiff_longTrailedSrc', {band, instrument, day_obs, detector, physical_filter, visit}, DataFrame), {instrument: 'LSSTComCamSim', detector: 3, visit: 7024040300407, band: 'i', day_obs: 20240403, physical_filter: 'i_06'}, run='u/elhoward/DM-44138/LSSTComCamSim/20240510T175057Z', id=2e24f340-2a33-4a76-9ca2-5964f1fcea4d),\n",
       " DatasetRef(DatasetType('goodSeeingDiff_longTrailedSrc', {band, instrument, day_obs, detector, physical_filter, visit}, DataFrame), {instrument: 'LSSTComCamSim', detector: 7, visit: 7024040400448, band: 'g', day_obs: 20240404, physical_filter: 'g_01'}, run='u/elhoward/DM-44138/LSSTComCamSim/20240510T175057Z', id=2e5ec889-d7b2-441d-bea5-8efa51839cf6),\n",
       " DatasetRef(DatasetType('goodSeeingDiff_longTrailedSrc', {band, instrument, day_obs, detector, physical_filter, visit}, DataFrame), {instrument: 'LSSTComCamSim', detector: 0, visit: 7024040300536, band: 'r', day_obs: 20240403, physical_filter: 'r_03'}, run='u/elhoward/DM-44138/LSSTComCamSim/20240510T175057Z', id=1ce3e26f-f2c4-4614-b70c-15c85e178d75),\n",
       " DatasetRef(DatasetType('goodSeeingDiff_longTrailedSrc', {band, instrument, day_obs, detector, physical_filter, visit}, DataFrame), {instrument: 'LSSTComCamSim', detector: 6, visit: 7024040300601, band: 'i', day_obs: 20240403, physical_filter: 'i_06'}, run='u/elhoward/DM-44138/LSSTComCamSim/20240510T175057Z', id=5decaa76-fad1-49b2-9580-f964cc017067),\n",
       " DatasetRef(DatasetType('goodSeeingDiff_longTrailedSrc', {band, instrument, day_obs, detector, physical_filter, visit}, DataFrame), {instrument: 'LSSTComCamSim', detector: 1, visit: 7024040200029, band: 'g', day_obs: 20240402, physical_filter: 'g_01'}, run='u/elhoward/DM-44138/LSSTComCamSim/20240510T175057Z', id=386f3ee1-7385-4231-800f-cb4576ab2cc8),\n",
       " DatasetRef(DatasetType('goodSeeingDiff_longTrailedSrc', {band, instrument, day_obs, detector, physical_filter, visit}, DataFrame), {instrument: 'LSSTComCamSim', detector: 8, visit: 7024040300319, band: 'i', day_obs: 20240403, physical_filter: 'i_06'}, run='u/elhoward/DM-44138/LSSTComCamSim/20240510T175057Z', id=5b2ba47f-ea2c-42c4-bd17-a5c9f8e3282f),\n",
       " DatasetRef(DatasetType('goodSeeingDiff_longTrailedSrc', {band, instrument, day_obs, detector, physical_filter, visit}, DataFrame), {instrument: 'LSSTComCamSim', detector: 6, visit: 7024040400424, band: 'i', day_obs: 20240404, physical_filter: 'i_06'}, run='u/elhoward/DM-44138/LSSTComCamSim/20240510T175057Z', id=83b56bfb-a1ad-445d-914f-12bd46641b90),\n",
       " DatasetRef(DatasetType('goodSeeingDiff_longTrailedSrc', {band, instrument, day_obs, detector, physical_filter, visit}, DataFrame), {instrument: 'LSSTComCamSim', detector: 8, visit: 7024040300082, band: 'g', day_obs: 20240403, physical_filter: 'g_01'}, run='u/elhoward/DM-44138/LSSTComCamSim/20240510T175057Z', id=b20db996-6aed-4e7e-a354-6db1d6184ab8),\n",
       " DatasetRef(DatasetType('goodSeeingDiff_longTrailedSrc', {band, instrument, day_obs, detector, physical_filter, visit}, DataFrame), {instrument: 'LSSTComCamSim', detector: 2, visit: 7024040300354, band: 'r', day_obs: 20240403, physical_filter: 'r_03'}, run='u/elhoward/DM-44138/LSSTComCamSim/20240510T175057Z', id=6c7741a6-4dd1-48e6-bceb-1c505925776e),\n",
       " DatasetRef(DatasetType('goodSeeingDiff_longTrailedSrc', {band, instrument, day_obs, detector, physical_filter, visit}, DataFrame), {instrument: 'LSSTComCamSim', detector: 7, visit: 7024040200434, band: 'r', day_obs: 20240402, physical_filter: 'r_03'}, run='u/elhoward/DM-44138/LSSTComCamSim/20240510T175057Z', id=e98b1217-0798-4ebf-b9e2-fee39eb3c8a2),\n",
       " DatasetRef(DatasetType('goodSeeingDiff_longTrailedSrc', {band, instrument, day_obs, detector, physical_filter, visit}, DataFrame), {instrument: 'LSSTComCamSim', detector: 4, visit: 7024040200192, band: 'i', day_obs: 20240402, physical_filter: 'i_06'}, run='u/elhoward/DM-44138/LSSTComCamSim/20240510T175057Z', id=806b7fde-2c95-4358-bfdc-9fc8fa292414),\n",
       " DatasetRef(DatasetType('goodSeeingDiff_longTrailedSrc', {band, instrument, day_obs, detector, physical_filter, visit}, DataFrame), {instrument: 'LSSTComCamSim', detector: 1, visit: 7024040200455, band: 'g', day_obs: 20240402, physical_filter: 'g_01'}, run='u/elhoward/DM-44138/LSSTComCamSim/20240510T175057Z', id=2f2465ad-d752-4b10-aa44-f0225a22e682),\n",
       " DatasetRef(DatasetType('goodSeeingDiff_longTrailedSrc', {band, instrument, day_obs, detector, physical_filter, visit}, DataFrame), {instrument: 'LSSTComCamSim', detector: 2, visit: 7024040300604, band: 'i', day_obs: 20240403, physical_filter: 'i_06'}, run='u/elhoward/DM-44138/LSSTComCamSim/20240510T175057Z', id=05f7e35b-2804-4a6a-8335-1f288980ebf8),\n",
       " DatasetRef(DatasetType('goodSeeingDiff_longTrailedSrc', {band, instrument, day_obs, detector, physical_filter, visit}, DataFrame), {instrument: 'LSSTComCamSim', detector: 8, visit: 7024040200369, band: 'r', day_obs: 20240402, physical_filter: 'r_03'}, run='u/elhoward/DM-44138/LSSTComCamSim/20240510T175057Z', id=5332af47-7854-4157-b452-8a364d9a34dc),\n",
       " DatasetRef(DatasetType('goodSeeingDiff_longTrailedSrc', {band, instrument, day_obs, detector, physical_filter, visit}, DataFrame), {instrument: 'LSSTComCamSim', detector: 5, visit: 7024040400313, band: 'r', day_obs: 20240404, physical_filter: 'r_03'}, run='u/elhoward/DM-44138/LSSTComCamSim/20240510T175057Z', id=df2766be-0356-4512-88bf-a344edd696e8),\n",
       " DatasetRef(DatasetType('goodSeeingDiff_longTrailedSrc', {band, instrument, day_obs, detector, physical_filter, visit}, DataFrame), {instrument: 'LSSTComCamSim', detector: 8, visit: 7024040200569, band: 'g', day_obs: 20240402, physical_filter: 'g_01'}, run='u/elhoward/DM-44138/LSSTComCamSim/20240510T175057Z', id=b058cccd-47eb-4d5c-9ad3-9d230f5754a7),\n",
       " DatasetRef(DatasetType('goodSeeingDiff_longTrailedSrc', {band, instrument, day_obs, detector, physical_filter, visit}, DataFrame), {instrument: 'LSSTComCamSim', detector: 4, visit: 7024040300029, band: 'g', day_obs: 20240403, physical_filter: 'g_01'}, run='u/elhoward/DM-44138/LSSTComCamSim/20240510T175057Z', id=f1122250-3921-4f73-9f7d-6e94b7ed43f0),\n",
       " DatasetRef(DatasetType('goodSeeingDiff_longTrailedSrc', {band, instrument, day_obs, detector, physical_filter, visit}, DataFrame), {instrument: 'LSSTComCamSim', detector: 7, visit: 7024040300535, band: 'r', day_obs: 20240403, physical_filter: 'r_03'}, run='u/elhoward/DM-44138/LSSTComCamSim/20240510T175057Z', id=d3f27b8c-5a8e-4d49-b49e-c5b98497554b),\n",
       " DatasetRef(DatasetType('goodSeeingDiff_longTrailedSrc', {band, instrument, day_obs, detector, physical_filter, visit}, DataFrame), {instrument: 'LSSTComCamSim', detector: 6, visit: 7024040400746, band: 'g', day_obs: 20240404, physical_filter: 'g_01'}, run='u/elhoward/DM-44138/LSSTComCamSim/20240510T175057Z', id=e2afe9d4-e760-4d6c-8433-21a4540f53a2),\n",
       " DatasetRef(DatasetType('goodSeeingDiff_longTrailedSrc', {band, instrument, day_obs, detector, physical_filter, visit}, DataFrame), {instrument: 'LSSTComCamSim', detector: 1, visit: 7024040200498, band: 'i', day_obs: 20240402, physical_filter: 'i_06'}, run='u/elhoward/DM-44138/LSSTComCamSim/20240510T175057Z', id=b45f5ac0-2f75-4490-956f-db575ec61b24),\n",
       " DatasetRef(DatasetType('goodSeeingDiff_longTrailedSrc', {band, instrument, day_obs, detector, physical_filter, visit}, DataFrame), {instrument: 'LSSTComCamSim', detector: 4, visit: 7024040400435, band: 'i', day_obs: 20240404, physical_filter: 'i_06'}, run='u/elhoward/DM-44138/LSSTComCamSim/20240510T175057Z', id=5d1e5828-15d2-403a-b82f-fa671eca3e22),\n",
       " DatasetRef(DatasetType('goodSeeingDiff_longTrailedSrc', {band, instrument, day_obs, detector, physical_filter, visit}, DataFrame), {instrument: 'LSSTComCamSim', detector: 2, visit: 7024040400257, band: 'i', day_obs: 20240404, physical_filter: 'i_06'}, run='u/elhoward/DM-44138/LSSTComCamSim/20240510T175057Z', id=585d35fc-4052-4c5c-a495-b12c39485ce2),\n",
       " DatasetRef(DatasetType('goodSeeingDiff_longTrailedSrc', {band, instrument, day_obs, detector, physical_filter, visit}, DataFrame), {instrument: 'LSSTComCamSim', detector: 8, visit: 7024040200571, band: 'g', day_obs: 20240402, physical_filter: 'g_01'}, run='u/elhoward/DM-44138/LSSTComCamSim/20240510T175057Z', id=ab0a4eec-04ef-4e30-9966-f9249c9fce3e),\n",
       " DatasetRef(DatasetType('goodSeeingDiff_longTrailedSrc', {band, instrument, day_obs, detector, physical_filter, visit}, DataFrame), {instrument: 'LSSTComCamSim', detector: 4, visit: 7024040200163, band: 'i', day_obs: 20240402, physical_filter: 'i_06'}, run='u/elhoward/DM-44138/LSSTComCamSim/20240510T175057Z', id=27627587-9b92-4753-9af0-99f4a3a78579),\n",
       " DatasetRef(DatasetType('goodSeeingDiff_longTrailedSrc', {band, instrument, day_obs, detector, physical_filter, visit}, DataFrame), {instrument: 'LSSTComCamSim', detector: 5, visit: 7024040300060, band: 'i', day_obs: 20240403, physical_filter: 'i_06'}, run='u/elhoward/DM-44138/LSSTComCamSim/20240510T175057Z', id=7c8699d8-48ee-4704-9641-376ca4d487e1),\n",
       " DatasetRef(DatasetType('goodSeeingDiff_longTrailedSrc', {band, instrument, day_obs, detector, physical_filter, visit}, DataFrame), {instrument: 'LSSTComCamSim', detector: 7, visit: 7024040200078, band: 'i', day_obs: 20240402, physical_filter: 'i_06'}, run='u/elhoward/DM-44138/LSSTComCamSim/20240510T175057Z', id=9a29dd05-4a0c-4df0-9e62-1e799eab50c8),\n",
       " DatasetRef(DatasetType('goodSeeingDiff_longTrailedSrc', {band, instrument, day_obs, detector, physical_filter, visit}, DataFrame), {instrument: 'LSSTComCamSim', detector: 7, visit: 7024040300456, band: 'g', day_obs: 20240403, physical_filter: 'g_01'}, run='u/elhoward/DM-44138/LSSTComCamSim/20240510T175057Z', id=16e0eedf-5f20-4d9f-884a-c5cce00f537c),\n",
       " DatasetRef(DatasetType('goodSeeingDiff_longTrailedSrc', {band, instrument, day_obs, detector, physical_filter, visit}, DataFrame), {instrument: 'LSSTComCamSim', detector: 7, visit: 7024040300059, band: 'i', day_obs: 20240403, physical_filter: 'i_06'}, run='u/elhoward/DM-44138/LSSTComCamSim/20240510T175057Z', id=3f563991-f92c-4058-8f69-4b036d6e3db1),\n",
       " DatasetRef(DatasetType('goodSeeingDiff_longTrailedSrc', {band, instrument, day_obs, detector, physical_filter, visit}, DataFrame), {instrument: 'LSSTComCamSim', detector: 5, visit: 7024040400433, band: 'i', day_obs: 20240404, physical_filter: 'i_06'}, run='u/elhoward/DM-44138/LSSTComCamSim/20240510T175057Z', id=8ee13b01-0da5-48eb-a354-a759ebb8f91b),\n",
       " DatasetRef(DatasetType('goodSeeingDiff_longTrailedSrc', {band, instrument, day_obs, detector, physical_filter, visit}, DataFrame), {instrument: 'LSSTComCamSim', detector: 4, visit: 7024040300481, band: 'i', day_obs: 20240403, physical_filter: 'i_06'}, run='u/elhoward/DM-44138/LSSTComCamSim/20240510T175057Z', id=757eefe4-69e0-4a42-8df5-589f912e6e70),\n",
       " DatasetRef(DatasetType('goodSeeingDiff_longTrailedSrc', {band, instrument, day_obs, detector, physical_filter, visit}, DataFrame), {instrument: 'LSSTComCamSim', detector: 0, visit: 7024040400137, band: 'r', day_obs: 20240404, physical_filter: 'r_03'}, run='u/elhoward/DM-44138/LSSTComCamSim/20240510T175057Z', id=1af20280-d110-4fc6-bd93-bdd1ac9e428f),\n",
       " DatasetRef(DatasetType('goodSeeingDiff_longTrailedSrc', {band, instrument, day_obs, detector, physical_filter, visit}, DataFrame), {instrument: 'LSSTComCamSim', detector: 8, visit: 7024040400379, band: 'r', day_obs: 20240404, physical_filter: 'r_03'}, run='u/elhoward/DM-44138/LSSTComCamSim/20240510T175057Z', id=2db84046-1bd6-408f-8a2c-0000945dbc41),\n",
       " DatasetRef(DatasetType('goodSeeingDiff_longTrailedSrc', {band, instrument, day_obs, detector, physical_filter, visit}, DataFrame), {instrument: 'LSSTComCamSim', detector: 5, visit: 7024040200536, band: 'r', day_obs: 20240402, physical_filter: 'r_03'}, run='u/elhoward/DM-44138/LSSTComCamSim/20240510T175057Z', id=76200050-b877-479a-a682-516cb3f083af),\n",
       " DatasetRef(DatasetType('goodSeeingDiff_longTrailedSrc', {band, instrument, day_obs, detector, physical_filter, visit}, DataFrame), {instrument: 'LSSTComCamSim', detector: 2, visit: 7024040400346, band: 'i', day_obs: 20240404, physical_filter: 'i_06'}, run='u/elhoward/DM-44138/LSSTComCamSim/20240510T175057Z', id=c0a53329-78e3-48e6-bd87-3cd423d67964),\n",
       " DatasetRef(DatasetType('goodSeeingDiff_longTrailedSrc', {band, instrument, day_obs, detector, physical_filter, visit}, DataFrame), {instrument: 'LSSTComCamSim', detector: 1, visit: 7024040400131, band: 'r', day_obs: 20240404, physical_filter: 'r_03'}, run='u/elhoward/DM-44138/LSSTComCamSim/20240510T175057Z', id=d4d354ae-dc92-4b48-835e-58201b88e66c),\n",
       " DatasetRef(DatasetType('goodSeeingDiff_longTrailedSrc', {band, instrument, day_obs, detector, physical_filter, visit}, DataFrame), {instrument: 'LSSTComCamSim', detector: 3, visit: 7024040200605, band: 'i', day_obs: 20240402, physical_filter: 'i_06'}, run='u/elhoward/DM-44138/LSSTComCamSim/20240510T175057Z', id=07370ff8-9102-4476-8a0c-0c6440cb1d24),\n",
       " DatasetRef(DatasetType('goodSeeingDiff_longTrailedSrc', {band, instrument, day_obs, detector, physical_filter, visit}, DataFrame), {instrument: 'LSSTComCamSim', detector: 4, visit: 7024040400583, band: 'i', day_obs: 20240404, physical_filter: 'i_06'}, run='u/elhoward/DM-44138/LSSTComCamSim/20240510T175057Z', id=033febc9-3f79-416a-a3f1-f993bb3c35bc),\n",
       " DatasetRef(DatasetType('goodSeeingDiff_longTrailedSrc', {band, instrument, day_obs, detector, physical_filter, visit}, DataFrame), {instrument: 'LSSTComCamSim', detector: 2, visit: 7024040200169, band: 'i', day_obs: 20240402, physical_filter: 'i_06'}, run='u/elhoward/DM-44138/LSSTComCamSim/20240510T175057Z', id=16296720-ed57-4399-a221-ab9240cba440),\n",
       " DatasetRef(DatasetType('goodSeeingDiff_longTrailedSrc', {band, instrument, day_obs, detector, physical_filter, visit}, DataFrame), {instrument: 'LSSTComCamSim', detector: 4, visit: 7024040400674, band: 'r', day_obs: 20240404, physical_filter: 'r_03'}, run='u/elhoward/DM-44138/LSSTComCamSim/20240510T175057Z', id=cee1eb19-b334-44e6-80a0-3fa7cc7f19c3),\n",
       " DatasetRef(DatasetType('goodSeeingDiff_longTrailedSrc', {band, instrument, day_obs, detector, physical_filter, visit}, DataFrame), {instrument: 'LSSTComCamSim', detector: 2, visit: 7024040400171, band: 'i', day_obs: 20240404, physical_filter: 'i_06'}, run='u/elhoward/DM-44138/LSSTComCamSim/20240510T175057Z', id=be01f6fd-0731-4715-b250-c9e25d808855),\n",
       " DatasetRef(DatasetType('goodSeeingDiff_longTrailedSrc', {band, instrument, day_obs, detector, physical_filter, visit}, DataFrame), {instrument: 'LSSTComCamSim', detector: 1, visit: 7024040300273, band: 'g', day_obs: 20240403, physical_filter: 'g_01'}, run='u/elhoward/DM-44138/LSSTComCamSim/20240510T175057Z', id=e486eed4-6f94-485b-9870-1cf96d51fe02),\n",
       " DatasetRef(DatasetType('goodSeeingDiff_longTrailedSrc', {band, instrument, day_obs, detector, physical_filter, visit}, DataFrame), {instrument: 'LSSTComCamSim', detector: 2, visit: 7024040200372, band: 'r', day_obs: 20240402, physical_filter: 'r_03'}, run='u/elhoward/DM-44138/LSSTComCamSim/20240510T175057Z', id=ca52ecb7-c2a2-4e45-8c22-a8c3beb1cf12),\n",
       " DatasetRef(DatasetType('goodSeeingDiff_longTrailedSrc', {band, instrument, day_obs, detector, physical_filter, visit}, DataFrame), {instrument: 'LSSTComCamSim', detector: 8, visit: 7024040400147, band: 'g', day_obs: 20240404, physical_filter: 'g_01'}, run='u/elhoward/DM-44138/LSSTComCamSim/20240510T175057Z', id=8a0144f3-8a5e-46bf-a9d9-8774630a8b5c),\n",
       " DatasetRef(DatasetType('goodSeeingDiff_longTrailedSrc', {band, instrument, day_obs, detector, physical_filter, visit}, DataFrame), {instrument: 'LSSTComCamSim', detector: 8, visit: 7024040200483, band: 'i', day_obs: 20240402, physical_filter: 'i_06'}, run='u/elhoward/DM-44138/LSSTComCamSim/20240510T175057Z', id=ec59ee39-1b8a-4d06-a0ed-015bdca55913),\n",
       " DatasetRef(DatasetType('goodSeeingDiff_longTrailedSrc', {band, instrument, day_obs, detector, physical_filter, visit}, DataFrame), {instrument: 'LSSTComCamSim', detector: 8, visit: 7024040200037, band: 'g', day_obs: 20240402, physical_filter: 'g_01'}, run='u/elhoward/DM-44138/LSSTComCamSim/20240510T175057Z', id=5eea50f8-3bf9-4386-8304-7d0d870b254a),\n",
       " DatasetRef(DatasetType('goodSeeingDiff_longTrailedSrc', {band, instrument, day_obs, detector, physical_filter, visit}, DataFrame), {instrument: 'LSSTComCamSim', detector: 2, visit: 7024040200311, band: 'r', day_obs: 20240402, physical_filter: 'r_03'}, run='u/elhoward/DM-44138/LSSTComCamSim/20240510T175057Z', id=a64e923e-eaf1-4946-bd0a-9c1c6f2ef74b),\n",
       " DatasetRef(DatasetType('goodSeeingDiff_longTrailedSrc', {band, instrument, day_obs, detector, physical_filter, visit}, DataFrame), {instrument: 'LSSTComCamSim', detector: 5, visit: 7024040200237, band: 'r', day_obs: 20240402, physical_filter: 'r_03'}, run='u/elhoward/DM-44138/LSSTComCamSim/20240510T175057Z', id=bf89bc35-a0cd-4587-a8a7-a6bcef2c1553),\n",
       " DatasetRef(DatasetType('goodSeeingDiff_longTrailedSrc', {band, instrument, day_obs, detector, physical_filter, visit}, DataFrame), {instrument: 'LSSTComCamSim', detector: 4, visit: 7024040300719, band: 'i', day_obs: 20240403, physical_filter: 'i_06'}, run='u/elhoward/DM-44138/LSSTComCamSim/20240510T175057Z', id=3a74d330-74c4-46c0-acee-736516488bb0),\n",
       " DatasetRef(DatasetType('goodSeeingDiff_longTrailedSrc', {band, instrument, day_obs, detector, physical_filter, visit}, DataFrame), {instrument: 'LSSTComCamSim', detector: 7, visit: 7024040300333, band: 'g', day_obs: 20240403, physical_filter: 'g_01'}, run='u/elhoward/DM-44138/LSSTComCamSim/20240510T175057Z', id=db8fca76-cff3-4f1c-8fdc-b63c767dc8bc),\n",
       " DatasetRef(DatasetType('goodSeeingDiff_longTrailedSrc', {band, instrument, day_obs, detector, physical_filter, visit}, DataFrame), {instrument: 'LSSTComCamSim', detector: 4, visit: 7024040200244, band: 'r', day_obs: 20240402, physical_filter: 'r_03'}, run='u/elhoward/DM-44138/LSSTComCamSim/20240510T175057Z', id=565a6bc3-34a9-4bc1-af12-90011c33e3ec),\n",
       " DatasetRef(DatasetType('goodSeeingDiff_longTrailedSrc', {band, instrument, day_obs, detector, physical_filter, visit}, DataFrame), {instrument: 'LSSTComCamSim', detector: 1, visit: 7024040200756, band: 'g', day_obs: 20240402, physical_filter: 'g_01'}, run='u/elhoward/DM-44138/LSSTComCamSim/20240510T175057Z', id=beb139d7-7eec-4ff4-b192-e64fb37bc256),\n",
       " DatasetRef(DatasetType('goodSeeingDiff_longTrailedSrc', {band, instrument, day_obs, detector, physical_filter, visit}, DataFrame), {instrument: 'LSSTComCamSim', detector: 3, visit: 7024040300042, band: 'i', day_obs: 20240403, physical_filter: 'i_06'}, run='u/elhoward/DM-44138/LSSTComCamSim/20240510T175057Z', id=e12ba52f-493d-492e-98d1-49b7bd9f789c),\n",
       " DatasetRef(DatasetType('goodSeeingDiff_longTrailedSrc', {band, instrument, day_obs, detector, physical_filter, visit}, DataFrame), {instrument: 'LSSTComCamSim', detector: 2, visit: 7024040400450, band: 'g', day_obs: 20240404, physical_filter: 'g_01'}, run='u/elhoward/DM-44138/LSSTComCamSim/20240510T175057Z', id=82f2c55b-f30f-4326-b800-85b04ce628d2),\n",
       " DatasetRef(DatasetType('goodSeeingDiff_longTrailedSrc', {band, instrument, day_obs, detector, physical_filter, visit}, DataFrame), {instrument: 'LSSTComCamSim', detector: 5, visit: 7024040300295, band: 'r', day_obs: 20240403, physical_filter: 'r_03'}, run='u/elhoward/DM-44138/LSSTComCamSim/20240510T175057Z', id=7359fa76-40e5-4586-857f-b518de889600),\n",
       " DatasetRef(DatasetType('goodSeeingDiff_longTrailedSrc', {band, instrument, day_obs, detector, physical_filter, visit}, DataFrame), {instrument: 'LSSTComCamSim', detector: 5, visit: 7024040400381, band: 'g', day_obs: 20240404, physical_filter: 'g_01'}, run='u/elhoward/DM-44138/LSSTComCamSim/20240510T175057Z', id=0e629fb8-b919-4280-9a55-359190ea2e4a),\n",
       " DatasetRef(DatasetType('goodSeeingDiff_longTrailedSrc', {band, instrument, day_obs, detector, physical_filter, visit}, DataFrame), {instrument: 'LSSTComCamSim', detector: 0, visit: 7024040400299, band: 'r', day_obs: 20240404, physical_filter: 'r_03'}, run='u/elhoward/DM-44138/LSSTComCamSim/20240510T175057Z', id=aed9c9d1-b686-4997-8a0d-b1591c73f576),\n",
       " DatasetRef(DatasetType('goodSeeingDiff_longTrailedSrc', {band, instrument, day_obs, detector, physical_filter, visit}, DataFrame), {instrument: 'LSSTComCamSim', detector: 3, visit: 7024040300778, band: 'r', day_obs: 20240403, physical_filter: 'r_03'}, run='u/elhoward/DM-44138/LSSTComCamSim/20240510T175057Z', id=4104cfea-fe93-4041-ac11-a588977f4025),\n",
       " DatasetRef(DatasetType('goodSeeingDiff_longTrailedSrc', {band, instrument, day_obs, detector, physical_filter, visit}, DataFrame), {instrument: 'LSSTComCamSim', detector: 4, visit: 7024040400294, band: 'r', day_obs: 20240404, physical_filter: 'r_03'}, run='u/elhoward/DM-44138/LSSTComCamSim/20240510T175057Z', id=868ccce8-457c-4add-a47c-988a5169ebac),\n",
       " DatasetRef(DatasetType('goodSeeingDiff_longTrailedSrc', {band, instrument, day_obs, detector, physical_filter, visit}, DataFrame), {instrument: 'LSSTComCamSim', detector: 7, visit: 7024040200496, band: 'i', day_obs: 20240402, physical_filter: 'i_06'}, run='u/elhoward/DM-44138/LSSTComCamSim/20240510T175057Z', id=0433a7d4-edbe-40ed-934c-b4a5c81b3b4c),\n",
       " DatasetRef(DatasetType('goodSeeingDiff_longTrailedSrc', {band, instrument, day_obs, detector, physical_filter, visit}, DataFrame), {instrument: 'LSSTComCamSim', detector: 7, visit: 7024040200458, band: 'g', day_obs: 20240402, physical_filter: 'g_01'}, run='u/elhoward/DM-44138/LSSTComCamSim/20240510T175057Z', id=36bc56d2-9270-4970-abe4-e857c34a773a),\n",
       " DatasetRef(DatasetType('goodSeeingDiff_longTrailedSrc', {band, instrument, day_obs, detector, physical_filter, visit}, DataFrame), {instrument: 'LSSTComCamSim', detector: 6, visit: 7024040400636, band: 'g', day_obs: 20240404, physical_filter: 'g_01'}, run='u/elhoward/DM-44138/LSSTComCamSim/20240510T175057Z', id=fab2ce0b-ddee-48fb-b714-d28aca36facc),\n",
       " DatasetRef(DatasetType('goodSeeingDiff_longTrailedSrc', {band, instrument, day_obs, detector, physical_filter, visit}, DataFrame), {instrument: 'LSSTComCamSim', detector: 8, visit: 7024040300124, band: 'r', day_obs: 20240403, physical_filter: 'r_03'}, run='u/elhoward/DM-44138/LSSTComCamSim/20240510T175057Z', id=f33f560f-70ea-4c03-9b5c-9eef43f9e2ac),\n",
       " DatasetRef(DatasetType('goodSeeingDiff_longTrailedSrc', {band, instrument, day_obs, detector, physical_filter, visit}, DataFrame), {instrument: 'LSSTComCamSim', detector: 0, visit: 7024040300081, band: 'g', day_obs: 20240403, physical_filter: 'g_01'}, run='u/elhoward/DM-44138/LSSTComCamSim/20240510T175057Z', id=b49f8e8b-82cd-4c7c-a61d-dc8a96d0dee6),\n",
       " DatasetRef(DatasetType('goodSeeingDiff_longTrailedSrc', {band, instrument, day_obs, detector, physical_filter, visit}, DataFrame), {instrument: 'LSSTComCamSim', detector: 4, visit: 7024040300546, band: 'r', day_obs: 20240403, physical_filter: 'r_03'}, run='u/elhoward/DM-44138/LSSTComCamSim/20240510T175057Z', id=633cef75-2a40-4019-8e47-4302a2cd4292),\n",
       " DatasetRef(DatasetType('goodSeeingDiff_longTrailedSrc', {band, instrument, day_obs, detector, physical_filter, visit}, DataFrame), {instrument: 'LSSTComCamSim', detector: 5, visit: 7024040400261, band: 'g', day_obs: 20240404, physical_filter: 'g_01'}, run='u/elhoward/DM-44138/LSSTComCamSim/20240510T175057Z', id=1f5b1b50-1eda-4e56-a4fd-765043f4d0d2),\n",
       " DatasetRef(DatasetType('goodSeeingDiff_longTrailedSrc', {band, instrument, day_obs, detector, physical_filter, visit}, DataFrame), {instrument: 'LSSTComCamSim', detector: 5, visit: 7024040400096, band: 'g', day_obs: 20240404, physical_filter: 'g_01'}, run='u/elhoward/DM-44138/LSSTComCamSim/20240510T175057Z', id=48723ac8-2de1-4dfb-929e-eaa9dd54d3a9),\n",
       " DatasetRef(DatasetType('goodSeeingDiff_longTrailedSrc', {band, instrument, day_obs, detector, physical_filter, visit}, DataFrame), {instrument: 'LSSTComCamSim', detector: 7, visit: 7024040300061, band: 'i', day_obs: 20240403, physical_filter: 'i_06'}, run='u/elhoward/DM-44138/LSSTComCamSim/20240510T175057Z', id=d2cda7ad-8ebb-4ed8-b18f-05de93f2cca0),\n",
       " DatasetRef(DatasetType('goodSeeingDiff_longTrailedSrc', {band, instrument, day_obs, detector, physical_filter, visit}, DataFrame), {instrument: 'LSSTComCamSim', detector: 6, visit: 7024040300586, band: 'i', day_obs: 20240403, physical_filter: 'i_06'}, run='u/elhoward/DM-44138/LSSTComCamSim/20240510T175057Z', id=675708d8-608e-4d01-ab93-e815cec35b87),\n",
       " DatasetRef(DatasetType('goodSeeingDiff_longTrailedSrc', {band, instrument, day_obs, detector, physical_filter, visit}, DataFrame), {instrument: 'LSSTComCamSim', detector: 4, visit: 7024040300102, band: 'r', day_obs: 20240403, physical_filter: 'r_03'}, run='u/elhoward/DM-44138/LSSTComCamSim/20240510T175057Z', id=8322c395-4e69-43ce-a2e1-6079a6b6a511),\n",
       " DatasetRef(DatasetType('goodSeeingDiff_longTrailedSrc', {band, instrument, day_obs, detector, physical_filter, visit}, DataFrame), {instrument: 'LSSTComCamSim', detector: 6, visit: 7024040200666, band: 'r', day_obs: 20240402, physical_filter: 'r_03'}, run='u/elhoward/DM-44138/LSSTComCamSim/20240510T175057Z', id=451dcd80-e46b-43df-a97d-b2eefbaf24af),\n",
       " DatasetRef(DatasetType('goodSeeingDiff_longTrailedSrc', {band, instrument, day_obs, detector, physical_filter, visit}, DataFrame), {instrument: 'LSSTComCamSim', detector: 6, visit: 7024040300339, band: 'g', day_obs: 20240403, physical_filter: 'g_01'}, run='u/elhoward/DM-44138/LSSTComCamSim/20240510T175057Z', id=f0b0e9eb-71ad-459d-b43e-4a85bdf996aa),\n",
       " DatasetRef(DatasetType('goodSeeingDiff_longTrailedSrc', {band, instrument, day_obs, detector, physical_filter, visit}, DataFrame), {instrument: 'LSSTComCamSim', detector: 7, visit: 7024040400305, band: 'r', day_obs: 20240404, physical_filter: 'r_03'}, run='u/elhoward/DM-44138/LSSTComCamSim/20240510T175057Z', id=a1bb8fb9-e444-4bcd-ba9a-e3c88198e533),\n",
       " DatasetRef(DatasetType('goodSeeingDiff_longTrailedSrc', {band, instrument, day_obs, detector, physical_filter, visit}, DataFrame), {instrument: 'LSSTComCamSim', detector: 4, visit: 7024040200657, band: 'r', day_obs: 20240402, physical_filter: 'r_03'}, run='u/elhoward/DM-44138/LSSTComCamSim/20240510T175057Z', id=0ac35523-f5ef-401f-a877-369c5e9e42d8),\n",
       " DatasetRef(DatasetType('goodSeeingDiff_longTrailedSrc', {band, instrument, day_obs, detector, physical_filter, visit}, DataFrame), {instrument: 'LSSTComCamSim', detector: 4, visit: 7024040300389, band: 'g', day_obs: 20240403, physical_filter: 'g_01'}, run='u/elhoward/DM-44138/LSSTComCamSim/20240510T175057Z', id=6eed669b-f77c-4b1d-ad02-c4515968ead6),\n",
       " DatasetRef(DatasetType('goodSeeingDiff_longTrailedSrc', {band, instrument, day_obs, detector, physical_filter, visit}, DataFrame), {instrument: 'LSSTComCamSim', detector: 4, visit: 7024040200129, band: 'r', day_obs: 20240402, physical_filter: 'r_03'}, run='u/elhoward/DM-44138/LSSTComCamSim/20240510T175057Z', id=b6e83c09-6551-4b9c-bcac-950f0d19e6d8),\n",
       " DatasetRef(DatasetType('goodSeeingDiff_longTrailedSrc', {band, instrument, day_obs, detector, physical_filter, visit}, DataFrame), {instrument: 'LSSTComCamSim', detector: 6, visit: 7024040200148, band: 'g', day_obs: 20240402, physical_filter: 'g_01'}, run='u/elhoward/DM-44138/LSSTComCamSim/20240510T175057Z', id=a5cfbfdf-6f1b-4647-93f9-6c1cafc31176),\n",
       " DatasetRef(DatasetType('goodSeeingDiff_longTrailedSrc', {band, instrument, day_obs, detector, physical_filter, visit}, DataFrame), {instrument: 'LSSTComCamSim', detector: 2, visit: 7024040300415, band: 'i', day_obs: 20240403, physical_filter: 'i_06'}, run='u/elhoward/DM-44138/LSSTComCamSim/20240510T175057Z', id=2c3b20f9-1bd0-49ff-8233-cb58c553f406),\n",
       " DatasetRef(DatasetType('goodSeeingDiff_longTrailedSrc', {band, instrument, day_obs, detector, physical_filter, visit}, DataFrame), {instrument: 'LSSTComCamSim', detector: 0, visit: 7024040400314, band: 'r', day_obs: 20240404, physical_filter: 'r_03'}, run='u/elhoward/DM-44138/LSSTComCamSim/20240510T175057Z', id=578603fc-333d-4df7-8c8a-08c48ed4d445),\n",
       " DatasetRef(DatasetType('goodSeeingDiff_longTrailedSrc', {band, instrument, day_obs, detector, physical_filter, visit}, DataFrame), {instrument: 'LSSTComCamSim', detector: 4, visit: 7024040400023, band: 'g', day_obs: 20240404, physical_filter: 'g_01'}, run='u/elhoward/DM-44138/LSSTComCamSim/20240510T175057Z', id=72421dc5-13b7-4767-9645-532c249a08c9),\n",
       " DatasetRef(DatasetType('goodSeeingDiff_longTrailedSrc', {band, instrument, day_obs, detector, physical_filter, visit}, DataFrame), {instrument: 'LSSTComCamSim', detector: 3, visit: 7024040300224, band: 'r', day_obs: 20240403, physical_filter: 'r_03'}, run='u/elhoward/DM-44138/LSSTComCamSim/20240510T175057Z', id=342fc21c-1bdf-4432-9015-3823cfe9a299),\n",
       " DatasetRef(DatasetType('goodSeeingDiff_longTrailedSrc', {band, instrument, day_obs, detector, physical_filter, visit}, DataFrame), {instrument: 'LSSTComCamSim', detector: 0, visit: 7024040400070, band: 'i', day_obs: 20240404, physical_filter: 'i_06'}, run='u/elhoward/DM-44138/LSSTComCamSim/20240510T175057Z', id=efb6330c-eb65-4baa-bbf2-b17d9d93e6af),\n",
       " DatasetRef(DatasetType('goodSeeingDiff_longTrailedSrc', {band, instrument, day_obs, detector, physical_filter, visit}, DataFrame), {instrument: 'LSSTComCamSim', detector: 3, visit: 7024040300145, band: 'g', day_obs: 20240403, physical_filter: 'g_01'}, run='u/elhoward/DM-44138/LSSTComCamSim/20240510T175057Z', id=e5de5b2e-0986-4de8-b142-3a19813c5510),\n",
       " DatasetRef(DatasetType('goodSeeingDiff_longTrailedSrc', {band, instrument, day_obs, detector, physical_filter, visit}, DataFrame), {instrument: 'LSSTComCamSim', detector: 5, visit: 7024040300536, band: 'r', day_obs: 20240403, physical_filter: 'r_03'}, run='u/elhoward/DM-44138/LSSTComCamSim/20240510T175057Z', id=d01ed2e5-ad09-42cb-a63e-4a8914802dfe),\n",
       " DatasetRef(DatasetType('goodSeeingDiff_longTrailedSrc', {band, instrument, day_obs, detector, physical_filter, visit}, DataFrame), {instrument: 'LSSTComCamSim', detector: 5, visit: 7024040300357, band: 'r', day_obs: 20240403, physical_filter: 'r_03'}, run='u/elhoward/DM-44138/LSSTComCamSim/20240510T175057Z', id=ed28a725-2c1b-41cc-b947-e9431a59b5ff),\n",
       " DatasetRef(DatasetType('goodSeeingDiff_longTrailedSrc', {band, instrument, day_obs, detector, physical_filter, visit}, DataFrame), {instrument: 'LSSTComCamSim', detector: 0, visit: 7024040400176, band: 'i', day_obs: 20240404, physical_filter: 'i_06'}, run='u/elhoward/DM-44138/LSSTComCamSim/20240510T175057Z', id=415e883d-19cd-4b4f-a80e-f516c0deea1a),\n",
       " DatasetRef(DatasetType('goodSeeingDiff_longTrailedSrc', {band, instrument, day_obs, detector, physical_filter, visit}, DataFrame), {instrument: 'LSSTComCamSim', detector: 3, visit: 7024040300523, band: 'r', day_obs: 20240403, physical_filter: 'r_03'}, run='u/elhoward/DM-44138/LSSTComCamSim/20240510T175057Z', id=13b3d660-72bb-4251-8eb3-ca06a6aa3237),\n",
       " DatasetRef(DatasetType('goodSeeingDiff_longTrailedSrc', {band, instrument, day_obs, detector, physical_filter, visit}, DataFrame), {instrument: 'LSSTComCamSim', detector: 4, visit: 7024040200641, band: 'r', day_obs: 20240402, physical_filter: 'r_03'}, run='u/elhoward/DM-44138/LSSTComCamSim/20240510T175057Z', id=1314cb83-ee8e-463a-91c9-e11699c492d9),\n",
       " DatasetRef(DatasetType('goodSeeingDiff_longTrailedSrc', {band, instrument, day_obs, detector, physical_filter, visit}, DataFrame), {instrument: 'LSSTComCamSim', detector: 7, visit: 7024040200261, band: 'g', day_obs: 20240402, physical_filter: 'g_01'}, run='u/elhoward/DM-44138/LSSTComCamSim/20240510T175057Z', id=5028b5af-6451-43ed-9a49-50ee28f4a53f),\n",
       " DatasetRef(DatasetType('goodSeeingDiff_longTrailedSrc', {band, instrument, day_obs, detector, physical_filter, visit}, DataFrame), {instrument: 'LSSTComCamSim', detector: 8, visit: 7024040400096, band: 'g', day_obs: 20240404, physical_filter: 'g_01'}, run='u/elhoward/DM-44138/LSSTComCamSim/20240510T175057Z', id=5796058a-548e-4b18-bfab-ce08e16febb2),\n",
       " DatasetRef(DatasetType('goodSeeingDiff_longTrailedSrc', {band, instrument, day_obs, detector, physical_filter, visit}, DataFrame), {instrument: 'LSSTComCamSim', detector: 5, visit: 7024040200172, band: 'i', day_obs: 20240402, physical_filter: 'i_06'}, run='u/elhoward/DM-44138/LSSTComCamSim/20240510T175057Z', id=9d15a992-3335-4a2c-9aab-e3133286736b),\n",
       " DatasetRef(DatasetType('goodSeeingDiff_longTrailedSrc', {band, instrument, day_obs, detector, physical_filter, visit}, DataFrame), {instrument: 'LSSTComCamSim', detector: 2, visit: 7024040400608, band: 'i', day_obs: 20240404, physical_filter: 'i_06'}, run='u/elhoward/DM-44138/LSSTComCamSim/20240510T175057Z', id=13946364-99bf-44b2-adb9-259c0d369f3a),\n",
       " DatasetRef(DatasetType('goodSeeingDiff_longTrailedSrc', {band, instrument, day_obs, detector, physical_filter, visit}, DataFrame), {instrument: 'LSSTComCamSim', detector: 6, visit: 7024040300316, band: 'i', day_obs: 20240403, physical_filter: 'i_06'}, run='u/elhoward/DM-44138/LSSTComCamSim/20240510T175057Z', id=85a80bb4-58b0-4d82-89fa-ae231410d8c6),\n",
       " DatasetRef(DatasetType('goodSeeingDiff_longTrailedSrc', {band, instrument, day_obs, detector, physical_filter, visit}, DataFrame), {instrument: 'LSSTComCamSim', detector: 7, visit: 7024040400228, band: 'r', day_obs: 20240404, physical_filter: 'r_03'}, run='u/elhoward/DM-44138/LSSTComCamSim/20240510T175057Z', id=0d02a06c-34fe-4476-9b35-3ea2cd52a159),\n",
       " DatasetRef(DatasetType('goodSeeingDiff_longTrailedSrc', {band, instrument, day_obs, detector, physical_filter, visit}, DataFrame), {instrument: 'LSSTComCamSim', detector: 7, visit: 7024040300398, band: 'g', day_obs: 20240403, physical_filter: 'g_01'}, run='u/elhoward/DM-44138/LSSTComCamSim/20240510T175057Z', id=82acffb8-bfb6-427e-9df7-917b9296b18d),\n",
       " DatasetRef(DatasetType('goodSeeingDiff_longTrailedSrc', {band, instrument, day_obs, detector, physical_filter, visit}, DataFrame), {instrument: 'LSSTComCamSim', detector: 7, visit: 7024040200403, band: 'i', day_obs: 20240402, physical_filter: 'i_06'}, run='u/elhoward/DM-44138/LSSTComCamSim/20240510T175057Z', id=ab17f5cf-8050-4fed-9e22-3bf1cac4460f),\n",
       " DatasetRef(DatasetType('goodSeeingDiff_longTrailedSrc', {band, instrument, day_obs, detector, physical_filter, visit}, DataFrame), {instrument: 'LSSTComCamSim', detector: 4, visit: 7024040200569, band: 'g', day_obs: 20240402, physical_filter: 'g_01'}, run='u/elhoward/DM-44138/LSSTComCamSim/20240510T175057Z', id=03847040-bcc2-4423-9415-5f7ec4c6a486),\n",
       " DatasetRef(DatasetType('goodSeeingDiff_longTrailedSrc', {band, instrument, day_obs, detector, physical_filter, visit}, DataFrame), {instrument: 'LSSTComCamSim', detector: 6, visit: 7024040300585, band: 'i', day_obs: 20240403, physical_filter: 'i_06'}, run='u/elhoward/DM-44138/LSSTComCamSim/20240510T175057Z', id=98bd13d8-9f9c-4702-8118-e2de95790d82),\n",
       " DatasetRef(DatasetType('goodSeeingDiff_longTrailedSrc', {band, instrument, day_obs, detector, physical_filter, visit}, DataFrame), {instrument: 'LSSTComCamSim', detector: 8, visit: 7024040200525, band: 'r', day_obs: 20240402, physical_filter: 'r_03'}, run='u/elhoward/DM-44138/LSSTComCamSim/20240510T175057Z', id=6dc7cb3a-5db3-4e55-b84c-321acbc6d302),\n",
       " DatasetRef(DatasetType('goodSeeingDiff_longTrailedSrc', {band, instrument, day_obs, detector, physical_filter, visit}, DataFrame), {instrument: 'LSSTComCamSim', detector: 0, visit: 7024040400480, band: 'r', day_obs: 20240404, physical_filter: 'r_03'}, run='u/elhoward/DM-44138/LSSTComCamSim/20240510T175057Z', id=3afb13fd-614e-4394-b429-470bccdfa8fe),\n",
       " DatasetRef(DatasetType('goodSeeingDiff_longTrailedSrc', {band, instrument, day_obs, detector, physical_filter, visit}, DataFrame), {instrument: 'LSSTComCamSim', detector: 5, visit: 7024040300625, band: 'g', day_obs: 20240403, physical_filter: 'g_01'}, run='u/elhoward/DM-44138/LSSTComCamSim/20240510T175057Z', id=f57d0d8f-ff7d-4050-877f-383c3c34c315),\n",
       " DatasetRef(DatasetType('goodSeeingDiff_longTrailedSrc', {band, instrument, day_obs, detector, physical_filter, visit}, DataFrame), {instrument: 'LSSTComCamSim', detector: 7, visit: 7024040400274, band: 'g', day_obs: 20240404, physical_filter: 'g_01'}, run='u/elhoward/DM-44138/LSSTComCamSim/20240510T175057Z', id=5ef06b51-cc7a-49c4-b2d6-1b1750987797),\n",
       " DatasetRef(DatasetType('goodSeeingDiff_longTrailedSrc', {band, instrument, day_obs, detector, physical_filter, visit}, DataFrame), {instrument: 'LSSTComCamSim', detector: 2, visit: 7024040300432, band: 'r', day_obs: 20240403, physical_filter: 'r_03'}, run='u/elhoward/DM-44138/LSSTComCamSim/20240510T175057Z', id=6890cfaa-95b1-48e7-9158-418f1b6bfe90),\n",
       " DatasetRef(DatasetType('goodSeeingDiff_longTrailedSrc', {band, instrument, day_obs, detector, physical_filter, visit}, DataFrame), {instrument: 'LSSTComCamSim', detector: 2, visit: 7024040400301, band: 'r', day_obs: 20240404, physical_filter: 'r_03'}, run='u/elhoward/DM-44138/LSSTComCamSim/20240510T175057Z', id=cb02b75d-e49d-4966-9c48-ca5af4e4fa8f),\n",
       " DatasetRef(DatasetType('goodSeeingDiff_longTrailedSrc', {band, instrument, day_obs, detector, physical_filter, visit}, DataFrame), {instrument: 'LSSTComCamSim', detector: 6, visit: 7024040300521, band: 'r', day_obs: 20240403, physical_filter: 'r_03'}, run='u/elhoward/DM-44138/LSSTComCamSim/20240510T175057Z', id=a01eb658-ef59-4b0b-94b1-e65a09236db5),\n",
       " DatasetRef(DatasetType('goodSeeingDiff_longTrailedSrc', {band, instrument, day_obs, detector, physical_filter, visit}, DataFrame), {instrument: 'LSSTComCamSim', detector: 3, visit: 7024040300028, band: 'g', day_obs: 20240403, physical_filter: 'g_01'}, run='u/elhoward/DM-44138/LSSTComCamSim/20240510T175057Z', id=ae95b6bb-4074-4133-a63b-54e0f719bc5b),\n",
       " DatasetRef(DatasetType('goodSeeingDiff_longTrailedSrc', {band, instrument, day_obs, detector, physical_filter, visit}, DataFrame), {instrument: 'LSSTComCamSim', detector: 1, visit: 7024040300372, band: 'r', day_obs: 20240403, physical_filter: 'r_03'}, run='u/elhoward/DM-44138/LSSTComCamSim/20240510T175057Z', id=66e3c854-8ba1-47df-999a-5b19fba6875c),\n",
       " DatasetRef(DatasetType('goodSeeingDiff_longTrailedSrc', {band, instrument, day_obs, detector, physical_filter, visit}, DataFrame), {instrument: 'LSSTComCamSim', detector: 1, visit: 7024040400100, band: 'g', day_obs: 20240404, physical_filter: 'g_01'}, run='u/elhoward/DM-44138/LSSTComCamSim/20240510T175057Z', id=497985d2-4c20-44e0-a5ee-095290859f50),\n",
       " DatasetRef(DatasetType('goodSeeingDiff_longTrailedSrc', {band, instrument, day_obs, detector, physical_filter, visit}, DataFrame), {instrument: 'LSSTComCamSim', detector: 7, visit: 7024040300167, band: 'i', day_obs: 20240403, physical_filter: 'i_06'}, run='u/elhoward/DM-44138/LSSTComCamSim/20240510T175057Z', id=43ce1622-364a-4cd9-b379-1746e89b5fa7),\n",
       " DatasetRef(DatasetType('goodSeeingDiff_longTrailedSrc', {band, instrument, day_obs, detector, physical_filter, visit}, DataFrame), {instrument: 'LSSTComCamSim', detector: 6, visit: 7024040300313, band: 'i', day_obs: 20240403, physical_filter: 'i_06'}, run='u/elhoward/DM-44138/LSSTComCamSim/20240510T175057Z', id=46824652-74bf-4bc5-8291-eee46e8c6865),\n",
       " DatasetRef(DatasetType('goodSeeingDiff_longTrailedSrc', {band, instrument, day_obs, detector, physical_filter, visit}, DataFrame), {instrument: 'LSSTComCamSim', detector: 6, visit: 7024040200495, band: 'i', day_obs: 20240402, physical_filter: 'i_06'}, run='u/elhoward/DM-44138/LSSTComCamSim/20240510T175057Z', id=0abb3a91-eaaf-455d-94b2-74871ee39bb6),\n",
       " DatasetRef(DatasetType('goodSeeingDiff_longTrailedSrc', {band, instrument, day_obs, detector, physical_filter, visit}, DataFrame), {instrument: 'LSSTComCamSim', detector: 6, visit: 7024040300690, band: 'g', day_obs: 20240403, physical_filter: 'g_01'}, run='u/elhoward/DM-44138/LSSTComCamSim/20240510T175057Z', id=77434476-3521-466c-8c22-28e5220c932c),\n",
       " DatasetRef(DatasetType('goodSeeingDiff_longTrailedSrc', {band, instrument, day_obs, detector, physical_filter, visit}, DataFrame), {instrument: 'LSSTComCamSim', detector: 7, visit: 7024040300653, band: 'r', day_obs: 20240403, physical_filter: 'r_03'}, run='u/elhoward/DM-44138/LSSTComCamSim/20240510T175057Z', id=9873a93c-e646-488c-90a2-21bdfa9c01f7),\n",
       " DatasetRef(DatasetType('goodSeeingDiff_longTrailedSrc', {band, instrument, day_obs, detector, physical_filter, visit}, DataFrame), {instrument: 'LSSTComCamSim', detector: 0, visit: 7024040400443, band: 'g', day_obs: 20240404, physical_filter: 'g_01'}, run='u/elhoward/DM-44138/LSSTComCamSim/20240510T175057Z', id=4b16c59f-14cb-4393-b853-ee36fa43aa74),\n",
       " DatasetRef(DatasetType('goodSeeingDiff_longTrailedSrc', {band, instrument, day_obs, detector, physical_filter, visit}, DataFrame), {instrument: 'LSSTComCamSim', detector: 1, visit: 7024040200537, band: 'r', day_obs: 20240402, physical_filter: 'r_03'}, run='u/elhoward/DM-44138/LSSTComCamSim/20240510T175057Z', id=409381fc-1fda-4fb1-a5f3-a3ffc59dc9b5),\n",
       " DatasetRef(DatasetType('goodSeeingDiff_longTrailedSrc', {band, instrument, day_obs, detector, physical_filter, visit}, DataFrame), {instrument: 'LSSTComCamSim', detector: 8, visit: 7024040400111, band: 'r', day_obs: 20240404, physical_filter: 'r_03'}, run='u/elhoward/DM-44138/LSSTComCamSim/20240510T175057Z', id=03f30dbc-af9f-4c75-9708-9b814a94e397),\n",
       " DatasetRef(DatasetType('goodSeeingDiff_longTrailedSrc', {band, instrument, day_obs, detector, physical_filter, visit}, DataFrame), {instrument: 'LSSTComCamSim', detector: 6, visit: 7024040400533, band: 'i', day_obs: 20240404, physical_filter: 'i_06'}, run='u/elhoward/DM-44138/LSSTComCamSim/20240510T175057Z', id=e69c4081-02d8-4361-bc7f-8f2818ceac27),\n",
       " DatasetRef(DatasetType('goodSeeingDiff_longTrailedSrc', {band, instrument, day_obs, detector, physical_filter, visit}, DataFrame), {instrument: 'LSSTComCamSim', detector: 4, visit: 7024040400648, band: 'r', day_obs: 20240404, physical_filter: 'r_03'}, run='u/elhoward/DM-44138/LSSTComCamSim/20240510T175057Z', id=9075506f-3369-43b9-b9a1-c866b913a96d),\n",
       " DatasetRef(DatasetType('goodSeeingDiff_longTrailedSrc', {band, instrument, day_obs, detector, physical_filter, visit}, DataFrame), {instrument: 'LSSTComCamSim', detector: 6, visit: 7024040400054, band: 'i', day_obs: 20240404, physical_filter: 'i_06'}, run='u/elhoward/DM-44138/LSSTComCamSim/20240510T175057Z', id=1fd84127-025f-4d07-a397-127809255f88),\n",
       " DatasetRef(DatasetType('goodSeeingDiff_longTrailedSrc', {band, instrument, day_obs, detector, physical_filter, visit}, DataFrame), {instrument: 'LSSTComCamSim', detector: 8, visit: 7024040300503, band: 'g', day_obs: 20240403, physical_filter: 'g_01'}, run='u/elhoward/DM-44138/LSSTComCamSim/20240510T175057Z', id=b69260b0-29e0-4fb6-adbe-7d1899cb4a00),\n",
       " DatasetRef(DatasetType('goodSeeingDiff_longTrailedSrc', {band, instrument, day_obs, detector, physical_filter, visit}, DataFrame), {instrument: 'LSSTComCamSim', detector: 6, visit: 7024040300498, band: 'i', day_obs: 20240403, physical_filter: 'i_06'}, run='u/elhoward/DM-44138/LSSTComCamSim/20240510T175057Z', id=1fc18799-ee48-470c-8cc4-99e9058a8f82),\n",
       " DatasetRef(DatasetType('goodSeeingDiff_longTrailedSrc', {band, instrument, day_obs, detector, physical_filter, visit}, DataFrame), {instrument: 'LSSTComCamSim', detector: 2, visit: 7024040200298, band: 'i', day_obs: 20240402, physical_filter: 'i_06'}, run='u/elhoward/DM-44138/LSSTComCamSim/20240510T175057Z', id=d1c4fce3-22ec-4bb7-95aa-9902bef169ee),\n",
       " DatasetRef(DatasetType('goodSeeingDiff_longTrailedSrc', {band, instrument, day_obs, detector, physical_filter, visit}, DataFrame), {instrument: 'LSSTComCamSim', detector: 4, visit: 7024040400608, band: 'i', day_obs: 20240404, physical_filter: 'i_06'}, run='u/elhoward/DM-44138/LSSTComCamSim/20240510T175057Z', id=37eaa1ad-0d78-430b-9ac6-0381b451af9f),\n",
       " DatasetRef(DatasetType('goodSeeingDiff_longTrailedSrc', {band, instrument, day_obs, detector, physical_filter, visit}, DataFrame), {instrument: 'LSSTComCamSim', detector: 7, visit: 7024040400725, band: 'i', day_obs: 20240404, physical_filter: 'i_06'}, run='u/elhoward/DM-44138/LSSTComCamSim/20240510T175057Z', id=9dbf38a1-2330-4743-9083-d485d7ea0dc8),\n",
       " DatasetRef(DatasetType('goodSeeingDiff_longTrailedSrc', {band, instrument, day_obs, detector, physical_filter, visit}, DataFrame), {instrument: 'LSSTComCamSim', detector: 1, visit: 7024040200671, band: 'r', day_obs: 20240402, physical_filter: 'r_03'}, run='u/elhoward/DM-44138/LSSTComCamSim/20240510T175057Z', id=1f403f9b-d12e-4163-91ce-51e762f6bd31),\n",
       " DatasetRef(DatasetType('goodSeeingDiff_longTrailedSrc', {band, instrument, day_obs, detector, physical_filter, visit}, DataFrame), {instrument: 'LSSTComCamSim', detector: 3, visit: 7024040200260, band: 'r', day_obs: 20240402, physical_filter: 'r_03'}, run='u/elhoward/DM-44138/LSSTComCamSim/20240510T175057Z', id=2d1a241f-0fbd-4070-8179-f28c71f744ca),\n",
       " DatasetRef(DatasetType('goodSeeingDiff_longTrailedSrc', {band, instrument, day_obs, detector, physical_filter, visit}, DataFrame), {instrument: 'LSSTComCamSim', detector: 5, visit: 7024040300771, band: 'r', day_obs: 20240403, physical_filter: 'r_03'}, run='u/elhoward/DM-44138/LSSTComCamSim/20240510T175057Z', id=c153d419-86bd-4e99-9d73-9f6229f1d378),\n",
       " DatasetRef(DatasetType('goodSeeingDiff_longTrailedSrc', {band, instrument, day_obs, detector, physical_filter, visit}, DataFrame), {instrument: 'LSSTComCamSim', detector: 6, visit: 7024040400342, band: 'i', day_obs: 20240404, physical_filter: 'i_06'}, run='u/elhoward/DM-44138/LSSTComCamSim/20240510T175057Z', id=5d691ba0-a2fe-4f72-bcae-ea4fae7a4ccc),\n",
       " DatasetRef(DatasetType('goodSeeingDiff_longTrailedSrc', {band, instrument, day_obs, detector, physical_filter, visit}, DataFrame), {instrument: 'LSSTComCamSim', detector: 7, visit: 7024040200730, band: 'i', day_obs: 20240402, physical_filter: 'i_06'}, run='u/elhoward/DM-44138/LSSTComCamSim/20240510T175057Z', id=702f2887-5a15-4dd2-ac76-672a0dc559c6),\n",
       " DatasetRef(DatasetType('goodSeeingDiff_longTrailedSrc', {band, instrument, day_obs, detector, physical_filter, visit}, DataFrame), {instrument: 'LSSTComCamSim', detector: 6, visit: 7024040200139, band: 'r', day_obs: 20240402, physical_filter: 'r_03'}, run='u/elhoward/DM-44138/LSSTComCamSim/20240510T175057Z', id=3d5a901f-6fc8-4454-afdc-0987507225f0),\n",
       " DatasetRef(DatasetType('goodSeeingDiff_longTrailedSrc', {band, instrument, day_obs, detector, physical_filter, visit}, DataFrame), {instrument: 'LSSTComCamSim', detector: 8, visit: 7024040200605, band: 'i', day_obs: 20240402, physical_filter: 'i_06'}, run='u/elhoward/DM-44138/LSSTComCamSim/20240510T175057Z', id=7c702a5f-2650-40ac-9ac7-b71982974334),\n",
       " DatasetRef(DatasetType('goodSeeingDiff_longTrailedSrc', {band, instrument, day_obs, detector, physical_filter, visit}, DataFrame), {instrument: 'LSSTComCamSim', detector: 5, visit: 7024040300607, band: 'i', day_obs: 20240403, physical_filter: 'i_06'}, run='u/elhoward/DM-44138/LSSTComCamSim/20240510T175057Z', id=0e5d57c1-22c2-4655-91e8-feeaa7de1613),\n",
       " DatasetRef(DatasetType('goodSeeingDiff_longTrailedSrc', {band, instrument, day_obs, detector, physical_filter, visit}, DataFrame), {instrument: 'LSSTComCamSim', detector: 1, visit: 7024040300391, band: 'g', day_obs: 20240403, physical_filter: 'g_01'}, run='u/elhoward/DM-44138/LSSTComCamSim/20240510T175057Z', id=2db31bb8-0edf-4c66-a4f4-b72ea4efe585),\n",
       " DatasetRef(DatasetType('goodSeeingDiff_longTrailedSrc', {band, instrument, day_obs, detector, physical_filter, visit}, DataFrame), {instrument: 'LSSTComCamSim', detector: 3, visit: 7024040200283, band: 'i', day_obs: 20240402, physical_filter: 'i_06'}, run='u/elhoward/DM-44138/LSSTComCamSim/20240510T175057Z', id=e876b707-e991-45f0-9094-c15f55a69911),\n",
       " DatasetRef(DatasetType('goodSeeingDiff_longTrailedSrc', {band, instrument, day_obs, detector, physical_filter, visit}, DataFrame), {instrument: 'LSSTComCamSim', detector: 5, visit: 7024040300035, band: 'g', day_obs: 20240403, physical_filter: 'g_01'}, run='u/elhoward/DM-44138/LSSTComCamSim/20240510T175057Z', id=1d0fbf50-12c9-478a-8278-8d0d03808ca8),\n",
       " DatasetRef(DatasetType('goodSeeingDiff_longTrailedSrc', {band, instrument, day_obs, detector, physical_filter, visit}, DataFrame), {instrument: 'LSSTComCamSim', detector: 8, visit: 7024040300041, band: 'i', day_obs: 20240403, physical_filter: 'i_06'}, run='u/elhoward/DM-44138/LSSTComCamSim/20240510T175057Z', id=1307f8f2-2f0b-41c6-b164-b0f93982bae3),\n",
       " DatasetRef(DatasetType('goodSeeingDiff_longTrailedSrc', {band, instrument, day_obs, detector, physical_filter, visit}, DataFrame), {instrument: 'LSSTComCamSim', detector: 0, visit: 7024040200687, band: 'g', day_obs: 20240402, physical_filter: 'g_01'}, run='u/elhoward/DM-44138/LSSTComCamSim/20240510T175057Z', id=140d0f98-bb43-4e06-b5f6-76df20ced8d4),\n",
       " DatasetRef(DatasetType('goodSeeingDiff_longTrailedSrc', {band, instrument, day_obs, detector, physical_filter, visit}, DataFrame), {instrument: 'LSSTComCamSim', detector: 2, visit: 7024040200258, band: 'r', day_obs: 20240402, physical_filter: 'r_03'}, run='u/elhoward/DM-44138/LSSTComCamSim/20240510T175057Z', id=f316f9db-0499-4c32-bf02-a157615c6742),\n",
       " DatasetRef(DatasetType('goodSeeingDiff_longTrailedSrc', {band, instrument, day_obs, detector, physical_filter, visit}, DataFrame), {instrument: 'LSSTComCamSim', detector: 0, visit: 7024040300634, band: 'g', day_obs: 20240403, physical_filter: 'g_01'}, run='u/elhoward/DM-44138/LSSTComCamSim/20240510T175057Z', id=ba2bb183-2302-4bd3-9fdc-baffd810ea70),\n",
       " DatasetRef(DatasetType('goodSeeingDiff_longTrailedSrc', {band, instrument, day_obs, detector, physical_filter, visit}, DataFrame), {instrument: 'LSSTComCamSim', detector: 5, visit: 7024040200760, band: 'g', day_obs: 20240402, physical_filter: 'g_01'}, run='u/elhoward/DM-44138/LSSTComCamSim/20240510T175057Z', id=6eb6ed7d-9d18-4edd-a14f-9d15318cd222),\n",
       " DatasetRef(DatasetType('goodSeeingDiff_longTrailedSrc', {band, instrument, day_obs, detector, physical_filter, visit}, DataFrame), {instrument: 'LSSTComCamSim', detector: 3, visit: 7024040400371, band: 'r', day_obs: 20240404, physical_filter: 'r_03'}, run='u/elhoward/DM-44138/LSSTComCamSim/20240510T175057Z', id=980e7725-f106-40f8-8210-f763aa2e417c),\n",
       " DatasetRef(DatasetType('goodSeeingDiff_longTrailedSrc', {band, instrument, day_obs, detector, physical_filter, visit}, DataFrame), {instrument: 'LSSTComCamSim', detector: 7, visit: 7024040300717, band: 'i', day_obs: 20240403, physical_filter: 'i_06'}, run='u/elhoward/DM-44138/LSSTComCamSim/20240510T175057Z', id=b403d62f-c1db-4f85-ab8e-8c1a65a6cd7a),\n",
       " DatasetRef(DatasetType('goodSeeingDiff_longTrailedSrc', {band, instrument, day_obs, detector, physical_filter, visit}, DataFrame), {instrument: 'LSSTComCamSim', detector: 5, visit: 7024040400066, band: 'i', day_obs: 20240404, physical_filter: 'i_06'}, run='u/elhoward/DM-44138/LSSTComCamSim/20240510T175057Z', id=91e6467b-dc4e-4659-b505-7fd9397196e3),\n",
       " DatasetRef(DatasetType('goodSeeingDiff_longTrailedSrc', {band, instrument, day_obs, detector, physical_filter, visit}, DataFrame), {instrument: 'LSSTComCamSim', detector: 7, visit: 7024040400666, band: 'r', day_obs: 20240404, physical_filter: 'r_03'}, run='u/elhoward/DM-44138/LSSTComCamSim/20240510T175057Z', id=c89c5e7f-3ba2-45cb-a80b-584c627d9b47),\n",
       " DatasetRef(DatasetType('goodSeeingDiff_longTrailedSrc', {band, instrument, day_obs, detector, physical_filter, visit}, DataFrame), {instrument: 'LSSTComCamSim', detector: 2, visit: 7024040300503, band: 'g', day_obs: 20240403, physical_filter: 'g_01'}, run='u/elhoward/DM-44138/LSSTComCamSim/20240510T175057Z', id=f869096b-af77-4435-8463-7dd9ee2d282b),\n",
       " DatasetRef(DatasetType('goodSeeingDiff_longTrailedSrc', {band, instrument, day_obs, detector, physical_filter, visit}, DataFrame), {instrument: 'LSSTComCamSim', detector: 6, visit: 7024040300077, band: 'i', day_obs: 20240403, physical_filter: 'i_06'}, run='u/elhoward/DM-44138/LSSTComCamSim/20240510T175057Z', id=7fecb8ad-d6f2-48d8-9b41-675b1705034b),\n",
       " DatasetRef(DatasetType('goodSeeingDiff_longTrailedSrc', {band, instrument, day_obs, detector, physical_filter, visit}, DataFrame), {instrument: 'LSSTComCamSim', detector: 1, visit: 7024040200773, band: 'r', day_obs: 20240402, physical_filter: 'r_03'}, run='u/elhoward/DM-44138/LSSTComCamSim/20240510T175057Z', id=dd2a902a-0e3c-45f0-81f3-8ac1fd389a72),\n",
       " DatasetRef(DatasetType('goodSeeingDiff_longTrailedSrc', {band, instrument, day_obs, detector, physical_filter, visit}, DataFrame), {instrument: 'LSSTComCamSim', detector: 2, visit: 7024040300293, band: 'r', day_obs: 20240403, physical_filter: 'r_03'}, run='u/elhoward/DM-44138/LSSTComCamSim/20240510T175057Z', id=65e1066b-6fde-483d-b2bb-5a7a3410883d),\n",
       " DatasetRef(DatasetType('goodSeeingDiff_longTrailedSrc', {band, instrument, day_obs, detector, physical_filter, visit}, DataFrame), {instrument: 'LSSTComCamSim', detector: 2, visit: 7024040200065, band: 'i', day_obs: 20240402, physical_filter: 'i_06'}, run='u/elhoward/DM-44138/LSSTComCamSim/20240510T175057Z', id=d4374e0f-780f-4a4b-b62a-adf197a177c3),\n",
       " DatasetRef(DatasetType('goodSeeingDiff_longTrailedSrc', {band, instrument, day_obs, detector, physical_filter, visit}, DataFrame), {instrument: 'LSSTComCamSim', detector: 2, visit: 7024040300631, band: 'g', day_obs: 20240403, physical_filter: 'g_01'}, run='u/elhoward/DM-44138/LSSTComCamSim/20240510T175057Z', id=0c3c7c9f-1fbc-44bc-bfc2-a3c17d82a473),\n",
       " DatasetRef(DatasetType('goodSeeingDiff_longTrailedSrc', {band, instrument, day_obs, detector, physical_filter, visit}, DataFrame), {instrument: 'LSSTComCamSim', detector: 5, visit: 7024040200508, band: 'g', day_obs: 20240402, physical_filter: 'g_01'}, run='u/elhoward/DM-44138/LSSTComCamSim/20240510T175057Z', id=4c560f00-3706-410d-adbb-48daff8941dc),\n",
       " DatasetRef(DatasetType('goodSeeingDiff_longTrailedSrc', {band, instrument, day_obs, detector, physical_filter, visit}, DataFrame), {instrument: 'LSSTComCamSim', detector: 6, visit: 7024040400116, band: 'r', day_obs: 20240404, physical_filter: 'r_03'}, run='u/elhoward/DM-44138/LSSTComCamSim/20240510T175057Z', id=316b8256-58be-4388-85a1-3211808c2e23),\n",
       " DatasetRef(DatasetType('goodSeeingDiff_longTrailedSrc', {band, instrument, day_obs, detector, physical_filter, visit}, DataFrame), {instrument: 'LSSTComCamSim', detector: 6, visit: 7024040200557, band: 'r', day_obs: 20240402, physical_filter: 'r_03'}, run='u/elhoward/DM-44138/LSSTComCamSim/20240510T175057Z', id=c7163fb5-854b-4f9f-a8db-e42b1bd5cd54),\n",
       " DatasetRef(DatasetType('goodSeeingDiff_longTrailedSrc', {band, instrument, day_obs, detector, physical_filter, visit}, DataFrame), {instrument: 'LSSTComCamSim', detector: 2, visit: 7024040400503, band: 'g', day_obs: 20240404, physical_filter: 'g_01'}, run='u/elhoward/DM-44138/LSSTComCamSim/20240510T175057Z', id=c105390e-4e6c-4ad7-8388-fc7df15b73ba),\n",
       " DatasetRef(DatasetType('goodSeeingDiff_longTrailedSrc', {band, instrument, day_obs, detector, physical_filter, visit}, DataFrame), {instrument: 'LSSTComCamSim', detector: 7, visit: 7024040400230, band: 'r', day_obs: 20240404, physical_filter: 'r_03'}, run='u/elhoward/DM-44138/LSSTComCamSim/20240510T175057Z', id=b1b3af68-d851-4328-b490-dc33e64e3135),\n",
       " DatasetRef(DatasetType('goodSeeingDiff_longTrailedSrc', {band, instrument, day_obs, detector, physical_filter, visit}, DataFrame), {instrument: 'LSSTComCamSim', detector: 3, visit: 7024040400185, band: 'i', day_obs: 20240404, physical_filter: 'i_06'}, run='u/elhoward/DM-44138/LSSTComCamSim/20240510T175057Z', id=9cf059ba-5597-42a0-b64e-ca412eb8354f),\n",
       " DatasetRef(DatasetType('goodSeeingDiff_longTrailedSrc', {band, instrument, day_obs, detector, physical_filter, visit}, DataFrame), {instrument: 'LSSTComCamSim', detector: 8, visit: 7024040300254, band: 'i', day_obs: 20240403, physical_filter: 'i_06'}, run='u/elhoward/DM-44138/LSSTComCamSim/20240510T175057Z', id=c0de5c9f-32b1-4659-a482-8b33912d97bb),\n",
       " DatasetRef(DatasetType('goodSeeingDiff_longTrailedSrc', {band, instrument, day_obs, detector, physical_filter, visit}, DataFrame), {instrument: 'LSSTComCamSim', detector: 1, visit: 7024040400319, band: 'r', day_obs: 20240404, physical_filter: 'r_03'}, run='u/elhoward/DM-44138/LSSTComCamSim/20240510T175057Z', id=dd839ce5-d460-4daa-a372-7f8ff72edd33),\n",
       " DatasetRef(DatasetType('goodSeeingDiff_longTrailedSrc', {band, instrument, day_obs, detector, physical_filter, visit}, DataFrame), {instrument: 'LSSTComCamSim', detector: 1, visit: 7024040300660, band: 'r', day_obs: 20240403, physical_filter: 'r_03'}, run='u/elhoward/DM-44138/LSSTComCamSim/20240510T175057Z', id=8878fa71-53ce-45ef-8bb3-a57642349b10),\n",
       " DatasetRef(DatasetType('goodSeeingDiff_longTrailedSrc', {band, instrument, day_obs, detector, physical_filter, visit}, DataFrame), {instrument: 'LSSTComCamSim', detector: 6, visit: 7024040300646, band: 'r', day_obs: 20240403, physical_filter: 'r_03'}, run='u/elhoward/DM-44138/LSSTComCamSim/20240510T175057Z', id=f3e20b43-48d4-45dd-bdd6-4fa34ec91ba5),\n",
       " DatasetRef(DatasetType('goodSeeingDiff_longTrailedSrc', {band, instrument, day_obs, detector, physical_filter, visit}, DataFrame), {instrument: 'LSSTComCamSim', detector: 3, visit: 7024040400519, band: 'g', day_obs: 20240404, physical_filter: 'g_01'}, run='u/elhoward/DM-44138/LSSTComCamSim/20240510T175057Z', id=193e402e-bfae-4ca3-8597-ded2042f65c3),\n",
       " DatasetRef(DatasetType('goodSeeingDiff_longTrailedSrc', {band, instrument, day_obs, detector, physical_filter, visit}, DataFrame), {instrument: 'LSSTComCamSim', detector: 6, visit: 7024040200390, band: 'g', day_obs: 20240402, physical_filter: 'g_01'}, run='u/elhoward/DM-44138/LSSTComCamSim/20240510T175057Z', id=e68fc8d1-e797-4768-b0cb-244368918f3f),\n",
       " DatasetRef(DatasetType('goodSeeingDiff_longTrailedSrc', {band, instrument, day_obs, detector, physical_filter, visit}, DataFrame), {instrument: 'LSSTComCamSim', detector: 3, visit: 7024040400006, band: 'r', day_obs: 20240404, physical_filter: 'r_03'}, run='u/elhoward/DM-44138/LSSTComCamSim/20240510T175057Z', id=118091e9-c836-45cb-81b3-fa78fbc19c8e),\n",
       " DatasetRef(DatasetType('goodSeeingDiff_longTrailedSrc', {band, instrument, day_obs, detector, physical_filter, visit}, DataFrame), {instrument: 'LSSTComCamSim', detector: 7, visit: 7024040200670, band: 'r', day_obs: 20240402, physical_filter: 'r_03'}, run='u/elhoward/DM-44138/LSSTComCamSim/20240510T175057Z', id=a3f2e321-e11e-47c3-884a-cafb08f88c92),\n",
       " DatasetRef(DatasetType('goodSeeingDiff_longTrailedSrc', {band, instrument, day_obs, detector, physical_filter, visit}, DataFrame), {instrument: 'LSSTComCamSim', detector: 7, visit: 7024040300142, band: 'g', day_obs: 20240403, physical_filter: 'g_01'}, run='u/elhoward/DM-44138/LSSTComCamSim/20240510T175057Z', id=beeab086-91d3-4960-9178-bbd31b15ffc2),\n",
       " DatasetRef(DatasetType('goodSeeingDiff_longTrailedSrc', {band, instrument, day_obs, detector, physical_filter, visit}, DataFrame), {instrument: 'LSSTComCamSim', detector: 4, visit: 7024040300457, band: 'g', day_obs: 20240403, physical_filter: 'g_01'}, run='u/elhoward/DM-44138/LSSTComCamSim/20240510T175057Z', id=52787efe-6477-4292-96f3-a9f00b6c366d),\n",
       " DatasetRef(DatasetType('goodSeeingDiff_longTrailedSrc', {band, instrument, day_obs, detector, physical_filter, visit}, DataFrame), {instrument: 'LSSTComCamSim', detector: 5, visit: 7024040200455, band: 'g', day_obs: 20240402, physical_filter: 'g_01'}, run='u/elhoward/DM-44138/LSSTComCamSim/20240510T175057Z', id=05f56068-abc6-41ee-bcb6-01c335da3b98),\n",
       " DatasetRef(DatasetType('goodSeeingDiff_longTrailedSrc', {band, instrument, day_obs, detector, physical_filter, visit}, DataFrame), {instrument: 'LSSTComCamSim', detector: 7, visit: 7024040200667, band: 'r', day_obs: 20240402, physical_filter: 'r_03'}, run='u/elhoward/DM-44138/LSSTComCamSim/20240510T175057Z', id=e720a3ec-e307-4636-a6ca-a320d543992c),\n",
       " DatasetRef(DatasetType('goodSeeingDiff_longTrailedSrc', {band, instrument, day_obs, detector, physical_filter, visit}, DataFrame), {instrument: 'LSSTComCamSim', detector: 2, visit: 7024040400054, band: 'i', day_obs: 20240404, physical_filter: 'i_06'}, run='u/elhoward/DM-44138/LSSTComCamSim/20240510T175057Z', id=e94fedb6-8175-49c5-9fe9-8ca1b05dfce5),\n",
       " DatasetRef(DatasetType('goodSeeingDiff_longTrailedSrc', {band, instrument, day_obs, detector, physical_filter, visit}, DataFrame), {instrument: 'LSSTComCamSim', detector: 1, visit: 7024040300616, band: 'i', day_obs: 20240403, physical_filter: 'i_06'}, run='u/elhoward/DM-44138/LSSTComCamSim/20240510T175057Z', id=b4e447ca-af5d-45e8-9f7d-4a2862d29c01),\n",
       " DatasetRef(DatasetType('goodSeeingDiff_longTrailedSrc', {band, instrument, day_obs, detector, physical_filter, visit}, DataFrame), {instrument: 'LSSTComCamSim', detector: 0, visit: 7024040200485, band: 'i', day_obs: 20240402, physical_filter: 'i_06'}, run='u/elhoward/DM-44138/LSSTComCamSim/20240510T175057Z', id=c8765671-8fea-461e-8b17-1380fea41a43),\n",
       " DatasetRef(DatasetType('goodSeeingDiff_longTrailedSrc', {band, instrument, day_obs, detector, physical_filter, visit}, DataFrame), {instrument: 'LSSTComCamSim', detector: 6, visit: 7024040200031, band: 'g', day_obs: 20240402, physical_filter: 'g_01'}, run='u/elhoward/DM-44138/LSSTComCamSim/20240510T175057Z', id=641c94ea-a33f-4246-84b5-0939bb1c3949),\n",
       " DatasetRef(DatasetType('goodSeeingDiff_longTrailedSrc', {band, instrument, day_obs, detector, physical_filter, visit}, DataFrame), {instrument: 'LSSTComCamSim', detector: 0, visit: 7024040300431, band: 'r', day_obs: 20240403, physical_filter: 'r_03'}, run='u/elhoward/DM-44138/LSSTComCamSim/20240510T175057Z', id=876c4a5a-0d0d-4d5b-af88-7306ed36e0d2),\n",
       " DatasetRef(DatasetType('goodSeeingDiff_longTrailedSrc', {band, instrument, day_obs, detector, physical_filter, visit}, DataFrame), {instrument: 'LSSTComCamSim', detector: 0, visit: 7024040400250, band: 'i', day_obs: 20240404, physical_filter: 'i_06'}, run='u/elhoward/DM-44138/LSSTComCamSim/20240510T175057Z', id=3c3c9420-54a9-41fc-bb08-7b3609a9bc27),\n",
       " DatasetRef(DatasetType('goodSeeingDiff_longTrailedSrc', {band, instrument, day_obs, detector, physical_filter, visit}, DataFrame), {instrument: 'LSSTComCamSim', detector: 5, visit: 7024040400006, band: 'r', day_obs: 20240404, physical_filter: 'r_03'}, run='u/elhoward/DM-44138/LSSTComCamSim/20240510T175057Z', id=b2d3181f-a7fa-4296-a2d7-6c9152a3b73d),\n",
       " DatasetRef(DatasetType('goodSeeingDiff_longTrailedSrc', {band, instrument, day_obs, detector, physical_filter, visit}, DataFrame), {instrument: 'LSSTComCamSim', detector: 6, visit: 7024040200354, band: 'i', day_obs: 20240402, physical_filter: 'i_06'}, run='u/elhoward/DM-44138/LSSTComCamSim/20240510T175057Z', id=2de976fd-85b7-4ebb-b72e-17a9da49d626),\n",
       " DatasetRef(DatasetType('goodSeeingDiff_longTrailedSrc', {band, instrument, day_obs, detector, physical_filter, visit}, DataFrame), {instrument: 'LSSTComCamSim', detector: 1, visit: 7024040300383, band: 'g', day_obs: 20240403, physical_filter: 'g_01'}, run='u/elhoward/DM-44138/LSSTComCamSim/20240510T175057Z', id=32f23539-d0a0-48b4-ba8f-1ff3b3ca067f),\n",
       " DatasetRef(DatasetType('goodSeeingDiff_longTrailedSrc', {band, instrument, day_obs, detector, physical_filter, visit}, DataFrame), {instrument: 'LSSTComCamSim', detector: 5, visit: 7024040200772, band: 'r', day_obs: 20240402, physical_filter: 'r_03'}, run='u/elhoward/DM-44138/LSSTComCamSim/20240510T175057Z', id=13f7a29c-5aa7-4a2e-ab90-d83483a3fae4),\n",
       " DatasetRef(DatasetType('goodSeeingDiff_longTrailedSrc', {band, instrument, day_obs, detector, physical_filter, visit}, DataFrame), {instrument: 'LSSTComCamSim', detector: 3, visit: 7024040200184, band: 'i', day_obs: 20240402, physical_filter: 'i_06'}, run='u/elhoward/DM-44138/LSSTComCamSim/20240510T175057Z', id=df63f4e9-4ce1-4bcf-a60b-be8d0939ed87),\n",
       " DatasetRef(DatasetType('goodSeeingDiff_longTrailedSrc', {band, instrument, day_obs, detector, physical_filter, visit}, DataFrame), {instrument: 'LSSTComCamSim', detector: 6, visit: 7024040300663, band: 'r', day_obs: 20240403, physical_filter: 'r_03'}, run='u/elhoward/DM-44138/LSSTComCamSim/20240510T175057Z', id=b34b95c7-1382-4017-8144-b0791f3acb7e),\n",
       " DatasetRef(DatasetType('goodSeeingDiff_longTrailedSrc', {band, instrument, day_obs, detector, physical_filter, visit}, DataFrame), {instrument: 'LSSTComCamSim', detector: 5, visit: 7024040300721, band: 'i', day_obs: 20240403, physical_filter: 'i_06'}, run='u/elhoward/DM-44138/LSSTComCamSim/20240510T175057Z', id=a1c32bb2-6df5-4894-9523-2ab9d6bf87a3),\n",
       " DatasetRef(DatasetType('goodSeeingDiff_longTrailedSrc', {band, instrument, day_obs, detector, physical_filter, visit}, DataFrame), {instrument: 'LSSTComCamSim', detector: 4, visit: 7024040300175, band: 'i', day_obs: 20240403, physical_filter: 'i_06'}, run='u/elhoward/DM-44138/LSSTComCamSim/20240510T175057Z', id=6070007a-972b-44db-9b43-9d0223e02598),\n",
       " DatasetRef(DatasetType('goodSeeingDiff_longTrailedSrc', {band, instrument, day_obs, detector, physical_filter, visit}, DataFrame), {instrument: 'LSSTComCamSim', detector: 5, visit: 7024040200503, band: 'g', day_obs: 20240402, physical_filter: 'g_01'}, run='u/elhoward/DM-44138/LSSTComCamSim/20240510T175057Z', id=e5df0c35-5cf1-4c48-b14f-d96d8b2e6a13),\n",
       " DatasetRef(DatasetType('goodSeeingDiff_longTrailedSrc', {band, instrument, day_obs, detector, physical_filter, visit}, DataFrame), {instrument: 'LSSTComCamSim', detector: 2, visit: 7024040400731, band: 'i', day_obs: 20240404, physical_filter: 'i_06'}, run='u/elhoward/DM-44138/LSSTComCamSim/20240510T175057Z', id=d52a55c9-b8d8-44ed-b2a2-34f15193a4f9),\n",
       " DatasetRef(DatasetType('goodSeeingDiff_longTrailedSrc', {band, instrument, day_obs, detector, physical_filter, visit}, DataFrame), {instrument: 'LSSTComCamSim', detector: 8, visit: 7024040400456, band: 'g', day_obs: 20240404, physical_filter: 'g_01'}, run='u/elhoward/DM-44138/LSSTComCamSim/20240510T175057Z', id=4d574aa5-72cd-4caf-a619-61fad064e72a),\n",
       " DatasetRef(DatasetType('goodSeeingDiff_longTrailedSrc', {band, instrument, day_obs, detector, physical_filter, visit}, DataFrame), {instrument: 'LSSTComCamSim', detector: 0, visit: 7024040200498, band: 'i', day_obs: 20240402, physical_filter: 'i_06'}, run='u/elhoward/DM-44138/LSSTComCamSim/20240510T175057Z', id=97ba643b-6770-44db-a473-b1b30fd0a5c9),\n",
       " DatasetRef(DatasetType('goodSeeingDiff_longTrailedSrc', {band, instrument, day_obs, detector, physical_filter, visit}, DataFrame), {instrument: 'LSSTComCamSim', detector: 3, visit: 7024040300435, band: 'r', day_obs: 20240403, physical_filter: 'r_03'}, run='u/elhoward/DM-44138/LSSTComCamSim/20240510T175057Z', id=648a34f7-c543-4b20-a3af-5283afd573f0),\n",
       " DatasetRef(DatasetType('goodSeeingDiff_longTrailedSrc', {band, instrument, day_obs, detector, physical_filter, visit}, DataFrame), {instrument: 'LSSTComCamSim', detector: 8, visit: 7024040300014, band: 'r', day_obs: 20240403, physical_filter: 'r_03'}, run='u/elhoward/DM-44138/LSSTComCamSim/20240510T175057Z', id=c4216603-1230-417a-a6f6-2d576e6040e9),\n",
       " DatasetRef(DatasetType('goodSeeingDiff_longTrailedSrc', {band, instrument, day_obs, detector, physical_filter, visit}, DataFrame), {instrument: 'LSSTComCamSim', detector: 4, visit: 7024040300770, band: 'r', day_obs: 20240403, physical_filter: 'r_03'}, run='u/elhoward/DM-44138/LSSTComCamSim/20240510T175057Z', id=981b5618-ec07-44fc-9e63-4b13dd7b250e),\n",
       " DatasetRef(DatasetType('goodSeeingDiff_longTrailedSrc', {band, instrument, day_obs, detector, physical_filter, visit}, DataFrame), {instrument: 'LSSTComCamSim', detector: 8, visit: 7024040400115, band: 'r', day_obs: 20240404, physical_filter: 'r_03'}, run='u/elhoward/DM-44138/LSSTComCamSim/20240510T175057Z', id=46b991a9-ad46-402e-be22-e0fd88f54bc6),\n",
       " DatasetRef(DatasetType('goodSeeingDiff_longTrailedSrc', {band, instrument, day_obs, detector, physical_filter, visit}, DataFrame), {instrument: 'LSSTComCamSim', detector: 6, visit: 7024040400169, band: 'i', day_obs: 20240404, physical_filter: 'i_06'}, run='u/elhoward/DM-44138/LSSTComCamSim/20240510T175057Z', id=69152364-b039-4f5f-9a02-7911e8535267),\n",
       " DatasetRef(DatasetType('goodSeeingDiff_longTrailedSrc', {band, instrument, day_obs, detector, physical_filter, visit}, DataFrame), {instrument: 'LSSTComCamSim', detector: 2, visit: 7024040200017, band: 'r', day_obs: 20240402, physical_filter: 'r_03'}, run='u/elhoward/DM-44138/LSSTComCamSim/20240510T175057Z', id=868509ea-ee85-4de1-bc1a-5d0dfad25e53),\n",
       " DatasetRef(DatasetType('goodSeeingDiff_longTrailedSrc', {band, instrument, day_obs, detector, physical_filter, visit}, DataFrame), {instrument: 'LSSTComCamSim', detector: 4, visit: 7024040400384, band: 'g', day_obs: 20240404, physical_filter: 'g_01'}, run='u/elhoward/DM-44138/LSSTComCamSim/20240510T175057Z', id=dad4f6a4-740a-4316-87b1-2c26a12f34ad),\n",
       " DatasetRef(DatasetType('goodSeeingDiff_longTrailedSrc', {band, instrument, day_obs, detector, physical_filter, visit}, DataFrame), {instrument: 'LSSTComCamSim', detector: 7, visit: 7024040400341, band: 'i', day_obs: 20240404, physical_filter: 'i_06'}, run='u/elhoward/DM-44138/LSSTComCamSim/20240510T175057Z', id=a47fa750-2441-4a65-8832-d1939b767a5e),\n",
       " DatasetRef(DatasetType('goodSeeingDiff_longTrailedSrc', {band, instrument, day_obs, detector, physical_filter, visit}, DataFrame), {instrument: 'LSSTComCamSim', detector: 5, visit: 7024040200433, band: 'r', day_obs: 20240402, physical_filter: 'r_03'}, run='u/elhoward/DM-44138/LSSTComCamSim/20240510T175057Z', id=dc041ddc-9336-42c1-90f8-ff4910e2b78c),\n",
       " DatasetRef(DatasetType('goodSeeingDiff_longTrailedSrc', {band, instrument, day_obs, detector, physical_filter, visit}, DataFrame), {instrument: 'LSSTComCamSim', detector: 5, visit: 7024040200296, band: 'i', day_obs: 20240402, physical_filter: 'i_06'}, run='u/elhoward/DM-44138/LSSTComCamSim/20240510T175057Z', id=f3accb2e-c819-4ee4-b38a-2c93714b5671),\n",
       " DatasetRef(DatasetType('goodSeeingDiff_longTrailedSrc', {band, instrument, day_obs, detector, physical_filter, visit}, DataFrame), {instrument: 'LSSTComCamSim', detector: 2, visit: 7024040400442, band: 'g', day_obs: 20240404, physical_filter: 'g_01'}, run='u/elhoward/DM-44138/LSSTComCamSim/20240510T175057Z', id=26f7bcf4-226f-4119-b225-4b1dc6c244e5),\n",
       " DatasetRef(DatasetType('goodSeeingDiff_longTrailedSrc', {band, instrument, day_obs, detector, physical_filter, visit}, DataFrame), {instrument: 'LSSTComCamSim', detector: 2, visit: 7024040400652, band: 'r', day_obs: 20240404, physical_filter: 'r_03'}, run='u/elhoward/DM-44138/LSSTComCamSim/20240510T175057Z', id=47894df3-c24e-46ad-817d-591b9e539863),\n",
       " DatasetRef(DatasetType('goodSeeingDiff_longTrailedSrc', {band, instrument, day_obs, detector, physical_filter, visit}, DataFrame), {instrument: 'LSSTComCamSim', detector: 5, visit: 7024040200363, band: 'r', day_obs: 20240402, physical_filter: 'r_03'}, run='u/elhoward/DM-44138/LSSTComCamSim/20240510T175057Z', id=f538fdf5-421b-4ea4-b068-a01cfe47d8a4),\n",
       " DatasetRef(DatasetType('goodSeeingDiff_longTrailedSrc', {band, instrument, day_obs, detector, physical_filter, visit}, DataFrame), {instrument: 'LSSTComCamSim', detector: 3, visit: 7024040300298, band: 'r', day_obs: 20240403, physical_filter: 'r_03'}, run='u/elhoward/DM-44138/LSSTComCamSim/20240510T175057Z', id=c355575a-14f6-41e4-ae6c-fd449b053e86),\n",
       " DatasetRef(DatasetType('goodSeeingDiff_longTrailedSrc', {band, instrument, day_obs, detector, physical_filter, visit}, DataFrame), {instrument: 'LSSTComCamSim', detector: 6, visit: 7024040300191, band: 'i', day_obs: 20240403, physical_filter: 'i_06'}, run='u/elhoward/DM-44138/LSSTComCamSim/20240510T175057Z', id=57881746-7711-4729-ba69-4652eab9951f),\n",
       " DatasetRef(DatasetType('goodSeeingDiff_longTrailedSrc', {band, instrument, day_obs, detector, physical_filter, visit}, DataFrame), {instrument: 'LSSTComCamSim', detector: 6, visit: 7024040300292, band: 'r', day_obs: 20240403, physical_filter: 'r_03'}, run='u/elhoward/DM-44138/LSSTComCamSim/20240510T175057Z', id=9b533a02-d45b-45b0-b9a9-498856a5a0e8),\n",
       " DatasetRef(DatasetType('goodSeeingDiff_longTrailedSrc', {band, instrument, day_obs, detector, physical_filter, visit}, DataFrame), {instrument: 'LSSTComCamSim', detector: 4, visit: 7024040200341, band: 'i', day_obs: 20240402, physical_filter: 'i_06'}, run='u/elhoward/DM-44138/LSSTComCamSim/20240510T175057Z', id=ee6bddf3-2a61-4124-955a-2ead44f5c55b),\n",
       " DatasetRef(DatasetType('goodSeeingDiff_longTrailedSrc', {band, instrument, day_obs, detector, physical_filter, visit}, DataFrame), {instrument: 'LSSTComCamSim', detector: 5, visit: 7024040200124, band: 'r', day_obs: 20240402, physical_filter: 'r_03'}, run='u/elhoward/DM-44138/LSSTComCamSim/20240510T175057Z', id=3a57e04a-30b8-4706-bbbf-c265c4e31688),\n",
       " DatasetRef(DatasetType('goodSeeingDiff_longTrailedSrc', {band, instrument, day_obs, detector, physical_filter, visit}, DataFrame), {instrument: 'LSSTComCamSim', detector: 4, visit: 7024040400339, band: 'g', day_obs: 20240404, physical_filter: 'g_01'}, run='u/elhoward/DM-44138/LSSTComCamSim/20240510T175057Z', id=ddcd5e84-633b-490a-8e7f-d0cf32418628),\n",
       " DatasetRef(DatasetType('goodSeeingDiff_longTrailedSrc', {band, instrument, day_obs, detector, physical_filter, visit}, DataFrame), {instrument: 'LSSTComCamSim', detector: 6, visit: 7024040300761, band: 'r', day_obs: 20240403, physical_filter: 'r_03'}, run='u/elhoward/DM-44138/LSSTComCamSim/20240510T175057Z', id=27c2a036-5358-4e02-b68c-85591f205eaf),\n",
       " DatasetRef(DatasetType('goodSeeingDiff_longTrailedSrc', {band, instrument, day_obs, detector, physical_filter, visit}, DataFrame), {instrument: 'LSSTComCamSim', detector: 4, visit: 7024040300198, band: 'i', day_obs: 20240403, physical_filter: 'i_06'}, run='u/elhoward/DM-44138/LSSTComCamSim/20240510T175057Z', id=07d836f0-b6eb-4269-b019-cddd4870bb84),\n",
       " DatasetRef(DatasetType('goodSeeingDiff_longTrailedSrc', {band, instrument, day_obs, detector, physical_filter, visit}, DataFrame), {instrument: 'LSSTComCamSim', detector: 7, visit: 7024040400770, band: 'r', day_obs: 20240404, physical_filter: 'r_03'}, run='u/elhoward/DM-44138/LSSTComCamSim/20240510T175057Z', id=4690a128-ad40-442e-a25e-14467360ad50),\n",
       " DatasetRef(DatasetType('goodSeeingDiff_longTrailedSrc', {band, instrument, day_obs, detector, physical_filter, visit}, DataFrame), {instrument: 'LSSTComCamSim', detector: 0, visit: 7024040200585, band: 'i', day_obs: 20240402, physical_filter: 'i_06'}, run='u/elhoward/DM-44138/LSSTComCamSim/20240510T175057Z', id=04e404ab-7721-41ce-9c42-25150bc14067),\n",
       " DatasetRef(DatasetType('goodSeeingDiff_longTrailedSrc', {band, instrument, day_obs, detector, physical_filter, visit}, DataFrame), {instrument: 'LSSTComCamSim', detector: 6, visit: 7024040200235, band: 'r', day_obs: 20240402, physical_filter: 'r_03'}, run='u/elhoward/DM-44138/LSSTComCamSim/20240510T175057Z', id=c020cda9-fe7f-4f38-a014-0ce3607154eb),\n",
       " DatasetRef(DatasetType('goodSeeingDiff_longTrailedSrc', {band, instrument, day_obs, detector, physical_filter, visit}, DataFrame), {instrument: 'LSSTComCamSim', detector: 1, visit: 7024040400064, band: 'i', day_obs: 20240404, physical_filter: 'i_06'}, run='u/elhoward/DM-44138/LSSTComCamSim/20240510T175057Z', id=9c3f36c2-a511-4eda-a603-6f812d54d7f4),\n",
       " DatasetRef(DatasetType('goodSeeingDiff_longTrailedSrc', {band, instrument, day_obs, detector, physical_filter, visit}, DataFrame), {instrument: 'LSSTComCamSim', detector: 3, visit: 7024040400507, band: 'g', day_obs: 20240404, physical_filter: 'g_01'}, run='u/elhoward/DM-44138/LSSTComCamSim/20240510T175057Z', id=857c964a-a572-433d-923e-b3d6e04bb4ef),\n",
       " DatasetRef(DatasetType('goodSeeingDiff_longTrailedSrc', {band, instrument, day_obs, detector, physical_filter, visit}, DataFrame), {instrument: 'LSSTComCamSim', detector: 7, visit: 7024040200618, band: 'i', day_obs: 20240402, physical_filter: 'i_06'}, run='u/elhoward/DM-44138/LSSTComCamSim/20240510T175057Z', id=88aa2122-9950-43de-bf51-ec0185bc2ff0),\n",
       " DatasetRef(DatasetType('goodSeeingDiff_longTrailedSrc', {band, instrument, day_obs, detector, physical_filter, visit}, DataFrame), {instrument: 'LSSTComCamSim', detector: 7, visit: 7024040400203, band: 'g', day_obs: 20240404, physical_filter: 'g_01'}, run='u/elhoward/DM-44138/LSSTComCamSim/20240510T175057Z', id=5d0c15ab-8ebf-4557-908a-3ada0013a43e),\n",
       " DatasetRef(DatasetType('goodSeeingDiff_longTrailedSrc', {band, instrument, day_obs, detector, physical_filter, visit}, DataFrame), {instrument: 'LSSTComCamSim', detector: 2, visit: 7024040400344, band: 'i', day_obs: 20240404, physical_filter: 'i_06'}, run='u/elhoward/DM-44138/LSSTComCamSim/20240510T175057Z', id=7048c021-ae32-4f34-baa1-f6e0f9f15551),\n",
       " DatasetRef(DatasetType('goodSeeingDiff_longTrailedSrc', {band, instrument, day_obs, detector, physical_filter, visit}, DataFrame), {instrument: 'LSSTComCamSim', detector: 2, visit: 7024040200209, band: 'g', day_obs: 20240402, physical_filter: 'g_01'}, run='u/elhoward/DM-44138/LSSTComCamSim/20240510T175057Z', id=69255721-0211-474d-981c-25021b6494ab),\n",
       " DatasetRef(DatasetType('goodSeeingDiff_longTrailedSrc', {band, instrument, day_obs, detector, physical_filter, visit}, DataFrame), {instrument: 'LSSTComCamSim', detector: 1, visit: 7024040400304, band: 'r', day_obs: 20240404, physical_filter: 'r_03'}, run='u/elhoward/DM-44138/LSSTComCamSim/20240510T175057Z', id=5f05788d-2b62-4e4b-8fb7-c6d6bce9dce2),\n",
       " DatasetRef(DatasetType('goodSeeingDiff_longTrailedSrc', {band, instrument, day_obs, detector, physical_filter, visit}, DataFrame), {instrument: 'LSSTComCamSim', detector: 7, visit: 7024040400378, band: 'r', day_obs: 20240404, physical_filter: 'r_03'}, run='u/elhoward/DM-44138/LSSTComCamSim/20240510T175057Z', id=c446388c-b651-4b8a-afc2-fefc871e72c5),\n",
       " DatasetRef(DatasetType('goodSeeingDiff_longTrailedSrc', {band, instrument, day_obs, detector, physical_filter, visit}, DataFrame), {instrument: 'LSSTComCamSim', detector: 3, visit: 7024040400248, band: 'i', day_obs: 20240404, physical_filter: 'i_06'}, run='u/elhoward/DM-44138/LSSTComCamSim/20240510T175057Z', id=9467fbfe-1bc3-4a28-89c6-591d7661fdf7),\n",
       " DatasetRef(DatasetType('goodSeeingDiff_longTrailedSrc', {band, instrument, day_obs, detector, physical_filter, visit}, DataFrame), {instrument: 'LSSTComCamSim', detector: 8, visit: 7024040400308, band: 'r', day_obs: 20240404, physical_filter: 'r_03'}, run='u/elhoward/DM-44138/LSSTComCamSim/20240510T175057Z', id=567282ee-3399-44b6-89f7-16ced3d529bd),\n",
       " DatasetRef(DatasetType('goodSeeingDiff_longTrailedSrc', {band, instrument, day_obs, detector, physical_filter, visit}, DataFrame), {instrument: 'LSSTComCamSim', detector: 3, visit: 7024040300655, band: 'r', day_obs: 20240403, physical_filter: 'r_03'}, run='u/elhoward/DM-44138/LSSTComCamSim/20240510T175057Z', id=9b904a01-ce41-4a0e-9c37-9e827b26feea),\n",
       " DatasetRef(DatasetType('goodSeeingDiff_longTrailedSrc', {band, instrument, day_obs, detector, physical_filter, visit}, DataFrame), {instrument: 'LSSTComCamSim', detector: 6, visit: 7024040300123, band: 'r', day_obs: 20240403, physical_filter: 'r_03'}, run='u/elhoward/DM-44138/LSSTComCamSim/20240510T175057Z', id=43a0e1b8-50c1-48fe-b952-4dd51c7e878d),\n",
       " DatasetRef(DatasetType('goodSeeingDiff_longTrailedSrc', {band, instrument, day_obs, detector, physical_filter, visit}, DataFrame), {instrument: 'LSSTComCamSim', detector: 1, visit: 7024040200691, band: 'g', day_obs: 20240402, physical_filter: 'g_01'}, run='u/elhoward/DM-44138/LSSTComCamSim/20240510T175057Z', id=f833291a-e2dd-49e1-94be-aa860ee1804d),\n",
       " DatasetRef(DatasetType('goodSeeingDiff_longTrailedSrc', {band, instrument, day_obs, detector, physical_filter, visit}, DataFrame), {instrument: 'LSSTComCamSim', detector: 5, visit: 7024040300276, band: 'g', day_obs: 20240403, physical_filter: 'g_01'}, run='u/elhoward/DM-44138/LSSTComCamSim/20240510T175057Z', id=77ae55e9-038d-4858-9650-c4cdbfc98cf8),\n",
       " DatasetRef(DatasetType('goodSeeingDiff_longTrailedSrc', {band, instrument, day_obs, detector, physical_filter, visit}, DataFrame), {instrument: 'LSSTComCamSim', detector: 5, visit: 7024040400605, band: 'i', day_obs: 20240404, physical_filter: 'i_06'}, run='u/elhoward/DM-44138/LSSTComCamSim/20240510T175057Z', id=45ccdb7c-57b1-4180-9922-4f6674f4c3b3),\n",
       " DatasetRef(DatasetType('goodSeeingDiff_longTrailedSrc', {band, instrument, day_obs, detector, physical_filter, visit}, DataFrame), {instrument: 'LSSTComCamSim', detector: 7, visit: 7024040200475, band: 'i', day_obs: 20240402, physical_filter: 'i_06'}, run='u/elhoward/DM-44138/LSSTComCamSim/20240510T175057Z', id=66c2f46e-745b-43fd-8e55-cff1a60cafed),\n",
       " DatasetRef(DatasetType('goodSeeingDiff_longTrailedSrc', {band, instrument, day_obs, detector, physical_filter, visit}, DataFrame), {instrument: 'LSSTComCamSim', detector: 0, visit: 7024040400292, band: 'r', day_obs: 20240404, physical_filter: 'r_03'}, run='u/elhoward/DM-44138/LSSTComCamSim/20240510T175057Z', id=30737aef-170b-47ca-b3dd-ddd1ffa3918f),\n",
       " DatasetRef(DatasetType('goodSeeingDiff_longTrailedSrc', {band, instrument, day_obs, detector, physical_filter, visit}, DataFrame), {instrument: 'LSSTComCamSim', detector: 1, visit: 7024040300192, band: 'i', day_obs: 20240403, physical_filter: 'i_06'}, run='u/elhoward/DM-44138/LSSTComCamSim/20240510T175057Z', id=6929ef94-b415-4340-a52e-92a7680b362e),\n",
       " DatasetRef(DatasetType('goodSeeingDiff_longTrailedSrc', {band, instrument, day_obs, detector, physical_filter, visit}, DataFrame), {instrument: 'LSSTComCamSim', detector: 0, visit: 7024040300576, band: 'g', day_obs: 20240403, physical_filter: 'g_01'}, run='u/elhoward/DM-44138/LSSTComCamSim/20240510T175057Z', id=3b7137bf-4f8b-4264-920f-731873673d25),\n",
       " DatasetRef(DatasetType('goodSeeingDiff_longTrailedSrc', {band, instrument, day_obs, detector, physical_filter, visit}, DataFrame), {instrument: 'LSSTComCamSim', detector: 0, visit: 7024040400159, band: 'g', day_obs: 20240404, physical_filter: 'g_01'}, run='u/elhoward/DM-44138/LSSTComCamSim/20240510T175057Z', id=d279a6e1-0df2-4c01-abe5-bf54312d701c),\n",
       " DatasetRef(DatasetType('goodSeeingDiff_longTrailedSrc', {band, instrument, day_obs, detector, physical_filter, visit}, DataFrame), {instrument: 'LSSTComCamSim', detector: 3, visit: 7024040300175, band: 'i', day_obs: 20240403, physical_filter: 'i_06'}, run='u/elhoward/DM-44138/LSSTComCamSim/20240510T175057Z', id=991cc5d1-ba39-4e97-8664-b067c029dba3),\n",
       " DatasetRef(DatasetType('goodSeeingDiff_longTrailedSrc', {band, instrument, day_obs, detector, physical_filter, visit}, DataFrame), {instrument: 'LSSTComCamSim', detector: 3, visit: 7024040400525, band: 'i', day_obs: 20240404, physical_filter: 'i_06'}, run='u/elhoward/DM-44138/LSSTComCamSim/20240510T175057Z', id=f142f3a4-e330-4d40-805a-5afc267fe602),\n",
       " DatasetRef(DatasetType('goodSeeingDiff_longTrailedSrc', {band, instrument, day_obs, detector, physical_filter, visit}, DataFrame), {instrument: 'LSSTComCamSim', detector: 3, visit: 7024040200082, band: 'g', day_obs: 20240402, physical_filter: 'g_01'}, run='u/elhoward/DM-44138/LSSTComCamSim/20240510T175057Z', id=f796fba5-ab0b-4474-9636-456dc1b12ce9),\n",
       " DatasetRef(DatasetType('goodSeeingDiff_longTrailedSrc', {band, instrument, day_obs, detector, physical_filter, visit}, DataFrame), {instrument: 'LSSTComCamSim', detector: 2, visit: 7024040400590, band: 'i', day_obs: 20240404, physical_filter: 'i_06'}, run='u/elhoward/DM-44138/LSSTComCamSim/20240510T175057Z', id=0cabd95a-d84a-4b2e-adfd-d042000e7758),\n",
       " DatasetRef(DatasetType('goodSeeingDiff_longTrailedSrc', {band, instrument, day_obs, detector, physical_filter, visit}, DataFrame), {instrument: 'LSSTComCamSim', detector: 4, visit: 7024040200369, band: 'r', day_obs: 20240402, physical_filter: 'r_03'}, run='u/elhoward/DM-44138/LSSTComCamSim/20240510T175057Z', id=0b870b57-d4a5-4540-af5a-32a582a8a67c),\n",
       " DatasetRef(DatasetType('goodSeeingDiff_longTrailedSrc', {band, instrument, day_obs, detector, physical_filter, visit}, DataFrame), {instrument: 'LSSTComCamSim', detector: 3, visit: 7024040200678, band: 'r', day_obs: 20240402, physical_filter: 'r_03'}, run='u/elhoward/DM-44138/LSSTComCamSim/20240510T175057Z', id=f96056ee-55d0-4691-9305-8448318e1c45),\n",
       " DatasetRef(DatasetType('goodSeeingDiff_longTrailedSrc', {band, instrument, day_obs, detector, physical_filter, visit}, DataFrame), {instrument: 'LSSTComCamSim', detector: 5, visit: 7024040300648, band: 'r', day_obs: 20240403, physical_filter: 'r_03'}, run='u/elhoward/DM-44138/LSSTComCamSim/20240510T175057Z', id=85b9a7a5-9b4e-4551-a9a7-8f2f4a8f263d),\n",
       " DatasetRef(DatasetType('goodSeeingDiff_longTrailedSrc', {band, instrument, day_obs, detector, physical_filter, visit}, DataFrame), {instrument: 'LSSTComCamSim', detector: 3, visit: 7024040300726, band: 'i', day_obs: 20240403, physical_filter: 'i_06'}, run='u/elhoward/DM-44138/LSSTComCamSim/20240510T175057Z', id=cc53d08a-4875-4a34-9244-527ac62aff88),\n",
       " DatasetRef(DatasetType('goodSeeingDiff_longTrailedSrc', {band, instrument, day_obs, detector, physical_filter, visit}, DataFrame), {instrument: 'LSSTComCamSim', detector: 4, visit: 7024040200352, band: 'i', day_obs: 20240402, physical_filter: 'i_06'}, run='u/elhoward/DM-44138/LSSTComCamSim/20240510T175057Z', id=f1a8b072-54e1-468e-b465-f35d2cf21ca5),\n",
       " DatasetRef(DatasetType('goodSeeingDiff_longTrailedSrc', {band, instrument, day_obs, detector, physical_filter, visit}, DataFrame), {instrument: 'LSSTComCamSim', detector: 8, visit: 7024040400297, band: 'r', day_obs: 20240404, physical_filter: 'r_03'}, run='u/elhoward/DM-44138/LSSTComCamSim/20240510T175057Z', id=839699a6-e399-41c1-ab2e-66754830c32b),\n",
       " DatasetRef(DatasetType('goodSeeingDiff_longTrailedSrc', {band, instrument, day_obs, detector, physical_filter, visit}, DataFrame), {instrument: 'LSSTComCamSim', detector: 5, visit: 7024040400582, band: 'i', day_obs: 20240404, physical_filter: 'i_06'}, run='u/elhoward/DM-44138/LSSTComCamSim/20240510T175057Z', id=8e645108-6b19-4f30-bdb8-fbe610a5d813),\n",
       " DatasetRef(DatasetType('goodSeeingDiff_longTrailedSrc', {band, instrument, day_obs, detector, physical_filter, visit}, DataFrame), {instrument: 'LSSTComCamSim', detector: 6, visit: 7024040400743, band: 'g', day_obs: 20240404, physical_filter: 'g_01'}, run='u/elhoward/DM-44138/LSSTComCamSim/20240510T175057Z', id=e8c8564f-65db-4317-96e9-2641d52438d8),\n",
       " DatasetRef(DatasetType('goodSeeingDiff_longTrailedSrc', {band, instrument, day_obs, detector, physical_filter, visit}, DataFrame), {instrument: 'LSSTComCamSim', detector: 5, visit: 7024040300557, band: 'r', day_obs: 20240403, physical_filter: 'r_03'}, run='u/elhoward/DM-44138/LSSTComCamSim/20240510T175057Z', id=fe92f3fd-ed78-4e34-b1bd-c6a8b9bddff0),\n",
       " DatasetRef(DatasetType('goodSeeingDiff_longTrailedSrc', {band, instrument, day_obs, detector, physical_filter, visit}, DataFrame), {instrument: 'LSSTComCamSim', detector: 6, visit: 7024040400337, band: 'g', day_obs: 20240404, physical_filter: 'g_01'}, run='u/elhoward/DM-44138/LSSTComCamSim/20240510T175057Z', id=bc42bf96-fbb2-4777-8f97-16a26d9d15e7),\n",
       " DatasetRef(DatasetType('goodSeeingDiff_longTrailedSrc', {band, instrument, day_obs, detector, physical_filter, visit}, DataFrame), {instrument: 'LSSTComCamSim', detector: 0, visit: 7024040200465, band: 'i', day_obs: 20240402, physical_filter: 'i_06'}, run='u/elhoward/DM-44138/LSSTComCamSim/20240510T175057Z', id=85b421bc-1f31-433b-b94a-9ea9fa48b800),\n",
       " DatasetRef(DatasetType('goodSeeingDiff_longTrailedSrc', {band, instrument, day_obs, detector, physical_filter, visit}, DataFrame), {instrument: 'LSSTComCamSim', detector: 8, visit: 7024040300076, band: 'i', day_obs: 20240403, physical_filter: 'i_06'}, run='u/elhoward/DM-44138/LSSTComCamSim/20240510T175057Z', id=f323771f-75b5-482d-af3c-fa3ce916906d),\n",
       " DatasetRef(DatasetType('goodSeeingDiff_longTrailedSrc', {band, instrument, day_obs, detector, physical_filter, visit}, DataFrame), {instrument: 'LSSTComCamSim', detector: 1, visit: 7024040200482, band: 'i', day_obs: 20240402, physical_filter: 'i_06'}, run='u/elhoward/DM-44138/LSSTComCamSim/20240510T175057Z', id=1b65d6dd-2875-4133-b550-dcd7cb0148a4),\n",
       " DatasetRef(DatasetType('goodSeeingDiff_longTrailedSrc', {band, instrument, day_obs, detector, physical_filter, visit}, DataFrame), {instrument: 'LSSTComCamSim', detector: 8, visit: 7024040300479, band: 'i', day_obs: 20240403, physical_filter: 'i_06'}, run='u/elhoward/DM-44138/LSSTComCamSim/20240510T175057Z', id=aee7abca-cf38-4128-a3cf-30159ef6c8fa),\n",
       " DatasetRef(DatasetType('goodSeeingDiff_longTrailedSrc', {band, instrument, day_obs, detector, physical_filter, visit}, DataFrame), {instrument: 'LSSTComCamSim', detector: 1, visit: 7024040300390, band: 'g', day_obs: 20240403, physical_filter: 'g_01'}, run='u/elhoward/DM-44138/LSSTComCamSim/20240510T175057Z', id=2cbc929d-ae7c-405b-a166-dcd4d9884fb6),\n",
       " DatasetRef(DatasetType('goodSeeingDiff_longTrailedSrc', {band, instrument, day_obs, detector, physical_filter, visit}, DataFrame), {instrument: 'LSSTComCamSim', detector: 6, visit: 7024040400045, band: 'i', day_obs: 20240404, physical_filter: 'i_06'}, run='u/elhoward/DM-44138/LSSTComCamSim/20240510T175057Z', id=d6d231da-bcd7-4846-b21d-4a67090b9055),\n",
       " DatasetRef(DatasetType('goodSeeingDiff_longTrailedSrc', {band, instrument, day_obs, detector, physical_filter, visit}, DataFrame), {instrument: 'LSSTComCamSim', detector: 0, visit: 7024040300178, band: 'i', day_obs: 20240403, physical_filter: 'i_06'}, run='u/elhoward/DM-44138/LSSTComCamSim/20240510T175057Z', id=21fd3eb0-631c-41b4-8d8a-3b16c0d74527),\n",
       " DatasetRef(DatasetType('goodSeeingDiff_longTrailedSrc', {band, instrument, day_obs, detector, physical_filter, visit}, DataFrame), {instrument: 'LSSTComCamSim', detector: 4, visit: 7024040200181, band: 'i', day_obs: 20240402, physical_filter: 'i_06'}, run='u/elhoward/DM-44138/LSSTComCamSim/20240510T175057Z', id=b88d9f62-5844-40f5-868b-a71a228ecb27),\n",
       " DatasetRef(DatasetType('goodSeeingDiff_longTrailedSrc', {band, instrument, day_obs, detector, physical_filter, visit}, DataFrame), {instrument: 'LSSTComCamSim', detector: 5, visit: 7024040300728, band: 'i', day_obs: 20240403, physical_filter: 'i_06'}, run='u/elhoward/DM-44138/LSSTComCamSim/20240510T175057Z', id=087a635f-bac1-4633-a078-32a2002aa15b),\n",
       " DatasetRef(DatasetType('goodSeeingDiff_longTrailedSrc', {band, instrument, day_obs, detector, physical_filter, visit}, DataFrame), {instrument: 'LSSTComCamSim', detector: 4, visit: 7024040200385, band: 'g', day_obs: 20240402, physical_filter: 'g_01'}, run='u/elhoward/DM-44138/LSSTComCamSim/20240510T175057Z', id=12f3ae47-8bd4-469b-9660-0fc960af9e3a),\n",
       " DatasetRef(DatasetType('goodSeeingDiff_longTrailedSrc', {band, instrument, day_obs, detector, physical_filter, visit}, DataFrame), {instrument: 'LSSTComCamSim', detector: 7, visit: 7024040200087, band: 'g', day_obs: 20240402, physical_filter: 'g_01'}, run='u/elhoward/DM-44138/LSSTComCamSim/20240510T175057Z', id=c1ec2e89-6441-4855-b8ca-0c0c4787907b),\n",
       " DatasetRef(DatasetType('goodSeeingDiff_longTrailedSrc', {band, instrument, day_obs, detector, physical_filter, visit}, DataFrame), {instrument: 'LSSTComCamSim', detector: 3, visit: 7024040200557, band: 'r', day_obs: 20240402, physical_filter: 'r_03'}, run='u/elhoward/DM-44138/LSSTComCamSim/20240510T175057Z', id=226a90c6-84eb-450d-8296-38d53c9a2af8),\n",
       " DatasetRef(DatasetType('goodSeeingDiff_longTrailedSrc', {band, instrument, day_obs, detector, physical_filter, visit}, DataFrame), {instrument: 'LSSTComCamSim', detector: 1, visit: 7024040200048, band: 'i', day_obs: 20240402, physical_filter: 'i_06'}, run='u/elhoward/DM-44138/LSSTComCamSim/20240510T175057Z', id=94c4b39e-f18b-440b-954a-7943f15032fb),\n",
       " DatasetRef(DatasetType('goodSeeingDiff_longTrailedSrc', {band, instrument, day_obs, detector, physical_filter, visit}, DataFrame), {instrument: 'LSSTComCamSim', detector: 6, visit: 7024040300248, band: 'i', day_obs: 20240403, physical_filter: 'i_06'}, run='u/elhoward/DM-44138/LSSTComCamSim/20240510T175057Z', id=5696cb39-0920-43c0-8b58-b862894435d0),\n",
       " DatasetRef(DatasetType('goodSeeingDiff_longTrailedSrc', {band, instrument, day_obs, detector, physical_filter, visit}, DataFrame), {instrument: 'LSSTComCamSim', detector: 1, visit: 7024040200354, band: 'i', day_obs: 20240402, physical_filter: 'i_06'}, run='u/elhoward/DM-44138/LSSTComCamSim/20240510T175057Z', id=bff7f9bf-3e37-462f-acb6-b9b4e4052253),\n",
       " DatasetRef(DatasetType('goodSeeingDiff_longTrailedSrc', {band, instrument, day_obs, detector, physical_filter, visit}, DataFrame), {instrument: 'LSSTComCamSim', detector: 4, visit: 7024040300082, band: 'g', day_obs: 20240403, physical_filter: 'g_01'}, run='u/elhoward/DM-44138/LSSTComCamSim/20240510T175057Z', id=1250edfd-624b-4f7d-91a7-4faa51ced808),\n",
       " DatasetRef(DatasetType('goodSeeingDiff_longTrailedSrc', {band, instrument, day_obs, detector, physical_filter, visit}, DataFrame), {instrument: 'LSSTComCamSim', detector: 7, visit: 7024040400732, band: 'i', day_obs: 20240404, physical_filter: 'i_06'}, run='u/elhoward/DM-44138/LSSTComCamSim/20240510T175057Z', id=a1e62e88-12fe-48d1-b1b8-5bc31f610d57),\n",
       " DatasetRef(DatasetType('goodSeeingDiff_longTrailedSrc', {band, instrument, day_obs, detector, physical_filter, visit}, DataFrame), {instrument: 'LSSTComCamSim', detector: 6, visit: 7024040200466, band: 'i', day_obs: 20240402, physical_filter: 'i_06'}, run='u/elhoward/DM-44138/LSSTComCamSim/20240510T175057Z', id=1cd93491-5c8c-4bb8-99a9-e0a7d344763b),\n",
       " DatasetRef(DatasetType('goodSeeingDiff_longTrailedSrc', {band, instrument, day_obs, detector, physical_filter, visit}, DataFrame), {instrument: 'LSSTComCamSim', detector: 1, visit: 7024040200544, band: 'r', day_obs: 20240402, physical_filter: 'r_03'}, run='u/elhoward/DM-44138/LSSTComCamSim/20240510T175057Z', id=ec0fda8c-acd3-432d-9e48-04ae9667ba49),\n",
       " DatasetRef(DatasetType('goodSeeingDiff_longTrailedSrc', {band, instrument, day_obs, detector, physical_filter, visit}, DataFrame), {instrument: 'LSSTComCamSim', detector: 0, visit: 7024040400663, band: 'r', day_obs: 20240404, physical_filter: 'r_03'}, run='u/elhoward/DM-44138/LSSTComCamSim/20240510T175057Z', id=d7e0cefd-6331-46ae-8f65-8feb0d529ecc),\n",
       " DatasetRef(DatasetType('goodSeeingDiff_longTrailedSrc', {band, instrument, day_obs, detector, physical_filter, visit}, DataFrame), {instrument: 'LSSTComCamSim', detector: 3, visit: 7024040400775, band: 'r', day_obs: 20240404, physical_filter: 'r_03'}, run='u/elhoward/DM-44138/LSSTComCamSim/20240510T175057Z', id=e7ecd1a2-54be-4564-a89a-6c5505fe291c),\n",
       " DatasetRef(DatasetType('goodSeeingDiff_longTrailedSrc', {band, instrument, day_obs, detector, physical_filter, visit}, DataFrame), {instrument: 'LSSTComCamSim', detector: 0, visit: 7024040200569, band: 'g', day_obs: 20240402, physical_filter: 'g_01'}, run='u/elhoward/DM-44138/LSSTComCamSim/20240510T175057Z', id=29d9d0e7-61f4-45ee-9966-3328256824fa),\n",
       " DatasetRef(DatasetType('goodSeeingDiff_longTrailedSrc', {band, instrument, day_obs, detector, physical_filter, visit}, DataFrame), {instrument: 'LSSTComCamSim', detector: 4, visit: 7024040400630, band: 'g', day_obs: 20240404, physical_filter: 'g_01'}, run='u/elhoward/DM-44138/LSSTComCamSim/20240510T175057Z', id=7247d8ea-6387-4262-bef1-fe947ab7417b),\n",
       " DatasetRef(DatasetType('goodSeeingDiff_longTrailedSrc', {band, instrument, day_obs, detector, physical_filter, visit}, DataFrame), {instrument: 'LSSTComCamSim', detector: 7, visit: 7024040200009, band: 'r', day_obs: 20240402, physical_filter: 'r_03'}, run='u/elhoward/DM-44138/LSSTComCamSim/20240510T175057Z', id=48d17096-2b08-4d9f-bb75-752da568e7b0),\n",
       " DatasetRef(DatasetType('goodSeeingDiff_longTrailedSrc', {band, instrument, day_obs, detector, physical_filter, visit}, DataFrame), {instrument: 'LSSTComCamSim', detector: 4, visit: 7024040300204, band: 'g', day_obs: 20240403, physical_filter: 'g_01'}, run='u/elhoward/DM-44138/LSSTComCamSim/20240510T175057Z', id=1c9a7ce5-1184-4cf1-97d8-69b2c80aed47),\n",
       " DatasetRef(DatasetType('goodSeeingDiff_longTrailedSrc', {band, instrument, day_obs, detector, physical_filter, visit}, DataFrame), {instrument: 'LSSTComCamSim', detector: 2, visit: 7024040200158, band: 'g', day_obs: 20240402, physical_filter: 'g_01'}, run='u/elhoward/DM-44138/LSSTComCamSim/20240510T175057Z', id=00e8417e-5278-4bc2-98a2-ae2ce23cf68e),\n",
       " DatasetRef(DatasetType('goodSeeingDiff_longTrailedSrc', {band, instrument, day_obs, detector, physical_filter, visit}, DataFrame), {instrument: 'LSSTComCamSim', detector: 4, visit: 7024040200116, band: 'r', day_obs: 20240402, physical_filter: 'r_03'}, run='u/elhoward/DM-44138/LSSTComCamSim/20240510T175057Z', id=75358f31-18c6-4890-8d74-0c80eb3e1029),\n",
       " DatasetRef(DatasetType('goodSeeingDiff_longTrailedSrc', {band, instrument, day_obs, detector, physical_filter, visit}, DataFrame), {instrument: 'LSSTComCamSim', detector: 7, visit: 7024040200250, band: 'r', day_obs: 20240402, physical_filter: 'r_03'}, run='u/elhoward/DM-44138/LSSTComCamSim/20240510T175057Z', id=6c48b6b6-db36-4baf-ab65-006b3e267743),\n",
       " DatasetRef(DatasetType('goodSeeingDiff_longTrailedSrc', {band, instrument, day_obs, detector, physical_filter, visit}, DataFrame), {instrument: 'LSSTComCamSim', detector: 0, visit: 7024040300603, band: 'i', day_obs: 20240403, physical_filter: 'i_06'}, run='u/elhoward/DM-44138/LSSTComCamSim/20240510T175057Z', id=615783b3-0da6-4ceb-bed0-e18ffb5d6d9b),\n",
       " DatasetRef(DatasetType('goodSeeingDiff_longTrailedSrc', {band, instrument, day_obs, detector, physical_filter, visit}, DataFrame), {instrument: 'LSSTComCamSim', detector: 2, visit: 7024040200424, band: 'r', day_obs: 20240402, physical_filter: 'r_03'}, run='u/elhoward/DM-44138/LSSTComCamSim/20240510T175057Z', id=a1bb1733-4c89-47b3-b22b-f394c9d71791),\n",
       " DatasetRef(DatasetType('goodSeeingDiff_longTrailedSrc', {band, instrument, day_obs, detector, physical_filter, visit}, DataFrame), {instrument: 'LSSTComCamSim', detector: 3, visit: 7024040200645, band: 'r', day_obs: 20240402, physical_filter: 'r_03'}, run='u/elhoward/DM-44138/LSSTComCamSim/20240510T175057Z', id=b397f44d-1fe0-4abf-baf0-db62a1f3ff66),\n",
       " DatasetRef(DatasetType('goodSeeingDiff_longTrailedSrc', {band, instrument, day_obs, detector, physical_filter, visit}, DataFrame), {instrument: 'LSSTComCamSim', detector: 1, visit: 7024040300205, band: 'g', day_obs: 20240403, physical_filter: 'g_01'}, run='u/elhoward/DM-44138/LSSTComCamSim/20240510T175057Z', id=e1087ec1-ff61-46cd-93b5-7494b7489f29),\n",
       " DatasetRef(DatasetType('goodSeeingDiff_longTrailedSrc', {band, instrument, day_obs, detector, physical_filter, visit}, DataFrame), {instrument: 'LSSTComCamSim', detector: 0, visit: 7024040200254, band: 'r', day_obs: 20240402, physical_filter: 'r_03'}, run='u/elhoward/DM-44138/LSSTComCamSim/20240510T175057Z', id=749e8dae-4ce0-4b86-8ee8-518fd6aef94f),\n",
       " DatasetRef(DatasetType('goodSeeingDiff_longTrailedSrc', {band, instrument, day_obs, detector, physical_filter, visit}, DataFrame), {instrument: 'LSSTComCamSim', detector: 4, visit: 7024040300224, band: 'r', day_obs: 20240403, physical_filter: 'r_03'}, run='u/elhoward/DM-44138/LSSTComCamSim/20240510T175057Z', id=f7e120cf-ccd1-4bb9-ae11-f2d13a50781b),\n",
       " DatasetRef(DatasetType('goodSeeingDiff_longTrailedSrc', {band, instrument, day_obs, detector, physical_filter, visit}, DataFrame), {instrument: 'LSSTComCamSim', detector: 2, visit: 7024040200722, band: 'i', day_obs: 20240402, physical_filter: 'i_06'}, run='u/elhoward/DM-44138/LSSTComCamSim/20240510T175057Z', id=fe906151-b42a-47a2-bb80-e30e5b1718f1),\n",
       " DatasetRef(DatasetType('goodSeeingDiff_longTrailedSrc', {band, instrument, day_obs, detector, physical_filter, visit}, DataFrame), {instrument: 'LSSTComCamSim', detector: 6, visit: 7024040400670, band: 'r', day_obs: 20240404, physical_filter: 'r_03'}, run='u/elhoward/DM-44138/LSSTComCamSim/20240510T175057Z', id=0386b520-b522-45c0-be12-10083dc1a85f),\n",
       " DatasetRef(DatasetType('goodSeeingDiff_longTrailedSrc', {band, instrument, day_obs, detector, physical_filter, visit}, DataFrame), {instrument: 'LSSTComCamSim', detector: 8, visit: 7024040300750, band: 'g', day_obs: 20240403, physical_filter: 'g_01'}, run='u/elhoward/DM-44138/LSSTComCamSim/20240510T175057Z', id=70f5927b-8d57-4cff-bbbd-93d986e86e6d),\n",
       " DatasetRef(DatasetType('goodSeeingDiff_longTrailedSrc', {band, instrument, day_obs, detector, physical_filter, visit}, DataFrame), {instrument: 'LSSTComCamSim', detector: 4, visit: 7024040400170, band: 'i', day_obs: 20240404, physical_filter: 'i_06'}, run='u/elhoward/DM-44138/LSSTComCamSim/20240510T175057Z', id=9667410c-010f-4d60-9705-395e53076b89),\n",
       " DatasetRef(DatasetType('goodSeeingDiff_longTrailedSrc', {band, instrument, day_obs, detector, physical_filter, visit}, DataFrame), {instrument: 'LSSTComCamSim', detector: 7, visit: 7024040400598, band: 'i', day_obs: 20240404, physical_filter: 'i_06'}, run='u/elhoward/DM-44138/LSSTComCamSim/20240510T175057Z', id=a1b3b557-1fa8-4435-9fc0-a87c9c6db4e5),\n",
       " DatasetRef(DatasetType('goodSeeingDiff_longTrailedSrc', {band, instrument, day_obs, detector, physical_filter, visit}, DataFrame), {instrument: 'LSSTComCamSim', detector: 1, visit: 7024040400660, band: 'r', day_obs: 20240404, physical_filter: 'r_03'}, run='u/elhoward/DM-44138/LSSTComCamSim/20240510T175057Z', id=2e9a8414-6a76-42ba-a92e-9e23eb72c0ea),\n",
       " DatasetRef(DatasetType('goodSeeingDiff_longTrailedSrc', {band, instrument, day_obs, detector, physical_filter, visit}, DataFrame), {instrument: 'LSSTComCamSim', detector: 3, visit: 7024040300526, band: 'r', day_obs: 20240403, physical_filter: 'r_03'}, run='u/elhoward/DM-44138/LSSTComCamSim/20240510T175057Z', id=de6eea95-4199-42de-acc2-f304275abfd8),\n",
       " DatasetRef(DatasetType('goodSeeingDiff_longTrailedSrc', {band, instrument, day_obs, detector, physical_filter, visit}, DataFrame), {instrument: 'LSSTComCamSim', detector: 0, visit: 7024040400711, band: 'i', day_obs: 20240404, physical_filter: 'i_06'}, run='u/elhoward/DM-44138/LSSTComCamSim/20240510T175057Z', id=4a1bcd42-32db-4663-9222-3ed77e88a3e3),\n",
       " DatasetRef(DatasetType('goodSeeingDiff_longTrailedSrc', {band, instrument, day_obs, detector, physical_filter, visit}, DataFrame), {instrument: 'LSSTComCamSim', detector: 1, visit: 7024040200737, band: 'i', day_obs: 20240402, physical_filter: 'i_06'}, run='u/elhoward/DM-44138/LSSTComCamSim/20240510T175057Z', id=468ae4c4-5917-4643-80c2-3c3e197e24e3),\n",
       " DatasetRef(DatasetType('goodSeeingDiff_longTrailedSrc', {band, instrument, day_obs, detector, physical_filter, visit}, DataFrame), {instrument: 'LSSTComCamSim', detector: 5, visit: 7024040400714, band: 'i', day_obs: 20240404, physical_filter: 'i_06'}, run='u/elhoward/DM-44138/LSSTComCamSim/20240510T175057Z', id=27372e85-acd4-4b3b-b4d8-82691c5ffd47),\n",
       " DatasetRef(DatasetType('goodSeeingDiff_longTrailedSrc', {band, instrument, day_obs, detector, physical_filter, visit}, DataFrame), {instrument: 'LSSTComCamSim', detector: 4, visit: 7024040200058, band: 'i', day_obs: 20240402, physical_filter: 'i_06'}, run='u/elhoward/DM-44138/LSSTComCamSim/20240510T175057Z', id=6e05935a-9d78-4eda-9f25-4bbbb810e02d),\n",
       " DatasetRef(DatasetType('goodSeeingDiff_longTrailedSrc', {band, instrument, day_obs, detector, physical_filter, visit}, DataFrame), {instrument: 'LSSTComCamSim', detector: 8, visit: 7024040400409, band: 'i', day_obs: 20240404, physical_filter: 'i_06'}, run='u/elhoward/DM-44138/LSSTComCamSim/20240510T175057Z', id=6f2839d6-9c9d-403d-9587-4fb5c3f5d514),\n",
       " DatasetRef(DatasetType('goodSeeingDiff_longTrailedSrc', {band, instrument, day_obs, detector, physical_filter, visit}, DataFrame), {instrument: 'LSSTComCamSim', detector: 1, visit: 7024040300041, band: 'i', day_obs: 20240403, physical_filter: 'i_06'}, run='u/elhoward/DM-44138/LSSTComCamSim/20240510T175057Z', id=a6fa2730-39ab-4640-bd82-61d70baca501),\n",
       " DatasetRef(DatasetType('goodSeeingDiff_longTrailedSrc', {band, instrument, day_obs, detector, physical_filter, visit}, DataFrame), {instrument: 'LSSTComCamSim', detector: 4, visit: 7024040200287, band: 'i', day_obs: 20240402, physical_filter: 'i_06'}, run='u/elhoward/DM-44138/LSSTComCamSim/20240510T175057Z', id=9ea8d16a-2148-4afd-a233-ce236e11ff4a),\n",
       " DatasetRef(DatasetType('goodSeeingDiff_longTrailedSrc', {band, instrument, day_obs, detector, physical_filter, visit}, DataFrame), {instrument: 'LSSTComCamSim', detector: 0, visit: 7024040200385, band: 'g', day_obs: 20240402, physical_filter: 'g_01'}, run='u/elhoward/DM-44138/LSSTComCamSim/20240510T175057Z', id=ab8beaed-3800-4bbe-868f-60fa695ff952),\n",
       " DatasetRef(DatasetType('goodSeeingDiff_longTrailedSrc', {band, instrument, day_obs, detector, physical_filter, visit}, DataFrame), {instrument: 'LSSTComCamSim', detector: 8, visit: 7024040400328, band: 'g', day_obs: 20240404, physical_filter: 'g_01'}, run='u/elhoward/DM-44138/LSSTComCamSim/20240510T175057Z', id=3edddaeb-6d3a-404f-932a-b398337e5505),\n",
       " DatasetRef(DatasetType('goodSeeingDiff_longTrailedSrc', {band, instrument, day_obs, detector, physical_filter, visit}, DataFrame), {instrument: 'LSSTComCamSim', detector: 5, visit: 7024040300380, band: 'r', day_obs: 20240403, physical_filter: 'r_03'}, run='u/elhoward/DM-44138/LSSTComCamSim/20240510T175057Z', id=1868faeb-081d-424f-85b5-81ee26ad4512),\n",
       " DatasetRef(DatasetType('goodSeeingDiff_longTrailedSrc', {band, instrument, day_obs, detector, physical_filter, visit}, DataFrame), {instrument: 'LSSTComCamSim', detector: 4, visit: 7024040200438, band: 'r', day_obs: 20240402, physical_filter: 'r_03'}, run='u/elhoward/DM-44138/LSSTComCamSim/20240510T175057Z', id=064a5669-7979-4c4e-8539-368f5654f538),\n",
       " DatasetRef(DatasetType('goodSeeingDiff_longTrailedSrc', {band, instrument, day_obs, detector, physical_filter, visit}, DataFrame), {instrument: 'LSSTComCamSim', detector: 4, visit: 7024040400310, band: 'r', day_obs: 20240404, physical_filter: 'r_03'}, run='u/elhoward/DM-44138/LSSTComCamSim/20240510T175057Z', id=b62a88f1-2889-4a35-9c6f-5ae601ed05b9),\n",
       " DatasetRef(DatasetType('goodSeeingDiff_longTrailedSrc', {band, instrument, day_obs, detector, physical_filter, visit}, DataFrame), {instrument: 'LSSTComCamSim', detector: 7, visit: 7024040400323, band: 'g', day_obs: 20240404, physical_filter: 'g_01'}, run='u/elhoward/DM-44138/LSSTComCamSim/20240510T175057Z', id=4a798843-87ed-4ce7-a2ee-14472bb9f05a),\n",
       " DatasetRef(DatasetType('goodSeeingDiff_longTrailedSrc', {band, instrument, day_obs, detector, physical_filter, visit}, DataFrame), {instrument: 'LSSTComCamSim', detector: 5, visit: 7024040200282, band: 'i', day_obs: 20240402, physical_filter: 'i_06'}, run='u/elhoward/DM-44138/LSSTComCamSim/20240510T175057Z', id=3b59294e-f29b-465e-a876-28ff7e8f24b7),\n",
       " DatasetRef(DatasetType('goodSeeingDiff_longTrailedSrc', {band, instrument, day_obs, detector, physical_filter, visit}, DataFrame), {instrument: 'LSSTComCamSim', detector: 4, visit: 7024040400667, band: 'r', day_obs: 20240404, physical_filter: 'r_03'}, run='u/elhoward/DM-44138/LSSTComCamSim/20240510T175057Z', id=71233daa-1556-497e-a422-de78ede88b92),\n",
       " DatasetRef(DatasetType('goodSeeingDiff_longTrailedSrc', {band, instrument, day_obs, detector, physical_filter, visit}, DataFrame), {instrument: 'LSSTComCamSim', detector: 5, visit: 7024040400422, band: 'i', day_obs: 20240404, physical_filter: 'i_06'}, run='u/elhoward/DM-44138/LSSTComCamSim/20240510T175057Z', id=92cf3817-af5f-4cc5-a1b3-eea3d740715c),\n",
       " DatasetRef(DatasetType('goodSeeingDiff_longTrailedSrc', {band, instrument, day_obs, detector, physical_filter, visit}, DataFrame), {instrument: 'LSSTComCamSim', detector: 5, visit: 7024040200770, band: 'r', day_obs: 20240402, physical_filter: 'r_03'}, run='u/elhoward/DM-44138/LSSTComCamSim/20240510T175057Z', id=56bac637-eb10-42b2-98a3-4cd9927ac25c),\n",
       " DatasetRef(DatasetType('goodSeeingDiff_longTrailedSrc', {band, instrument, day_obs, detector, physical_filter, visit}, DataFrame), {instrument: 'LSSTComCamSim', detector: 8, visit: 7024040200478, band: 'i', day_obs: 20240402, physical_filter: 'i_06'}, run='u/elhoward/DM-44138/LSSTComCamSim/20240510T175057Z', id=eccbfc7c-7aa4-4390-aac1-8783aa67bb58),\n",
       " DatasetRef(DatasetType('goodSeeingDiff_longTrailedSrc', {band, instrument, day_obs, detector, physical_filter, visit}, DataFrame), {instrument: 'LSSTComCamSim', detector: 8, visit: 7024040200371, band: 'r', day_obs: 20240402, physical_filter: 'r_03'}, run='u/elhoward/DM-44138/LSSTComCamSim/20240510T175057Z', id=f033cb3d-8043-4182-8f55-17ec5811cbc7),\n",
       " DatasetRef(DatasetType('goodSeeingDiff_longTrailedSrc', {band, instrument, day_obs, detector, physical_filter, visit}, DataFrame), {instrument: 'LSSTComCamSim', detector: 8, visit: 7024040200104, band: 'r', day_obs: 20240402, physical_filter: 'r_03'}, run='u/elhoward/DM-44138/LSSTComCamSim/20240510T175057Z', id=38e5c9d7-c88b-42e7-8ac5-0288b1f940f5),\n",
       " DatasetRef(DatasetType('goodSeeingDiff_longTrailedSrc', {band, instrument, day_obs, detector, physical_filter, visit}, DataFrame), {instrument: 'LSSTComCamSim', detector: 2, visit: 7024040400093, band: 'g', day_obs: 20240404, physical_filter: 'g_01'}, run='u/elhoward/DM-44138/LSSTComCamSim/20240510T175057Z', id=9e6ecfc7-0a61-4948-b736-922d80da8dd7),\n",
       " DatasetRef(DatasetType('goodSeeingDiff_longTrailedSrc', {band, instrument, day_obs, detector, physical_filter, visit}, DataFrame), {instrument: 'LSSTComCamSim', detector: 1, visit: 7024040400163, band: 'i', day_obs: 20240404, physical_filter: 'i_06'}, run='u/elhoward/DM-44138/LSSTComCamSim/20240510T175057Z', id=0d022c83-0170-4544-bca4-8ecb1a362e23),\n",
       " DatasetRef(DatasetType('goodSeeingDiff_longTrailedSrc', {band, instrument, day_obs, detector, physical_filter, visit}, DataFrame), {instrument: 'LSSTComCamSim', detector: 2, visit: 7024040300720, band: 'i', day_obs: 20240403, physical_filter: 'i_06'}, run='u/elhoward/DM-44138/LSSTComCamSim/20240510T175057Z', id=f6fcee39-e0fe-4da7-bb22-f46990646ab2),\n",
       " DatasetRef(DatasetType('goodSeeingDiff_longTrailedSrc', {band, instrument, day_obs, detector, physical_filter, visit}, DataFrame), {instrument: 'LSSTComCamSim', detector: 6, visit: 7024040300010, band: 'r', day_obs: 20240403, physical_filter: 'r_03'}, run='u/elhoward/DM-44138/LSSTComCamSim/20240510T175057Z', id=d2ef9a5e-a5f8-4d63-8a75-4ec984c5ed1c),\n",
       " DatasetRef(DatasetType('goodSeeingDiff_longTrailedSrc', {band, instrument, day_obs, detector, physical_filter, visit}, DataFrame), {instrument: 'LSSTComCamSim', detector: 2, visit: 7024040300328, band: 'g', day_obs: 20240403, physical_filter: 'g_01'}, run='u/elhoward/DM-44138/LSSTComCamSim/20240510T175057Z', id=698a2f99-db14-43cc-aa1d-689777a639d9),\n",
       " ...]"
      ]
     },
     "execution_count": 28,
     "metadata": {},
     "output_type": "execute_result"
    }
   ],
   "source": [
    "list(all_trailed_sources)"
   ]
  },
  {
   "cell_type": "markdown",
   "id": "b1df6796-ed72-4382-bb1c-e70e0f2c7d6a",
   "metadata": {},
   "source": [
    " DatasetRef(DatasetType('goodSeeingDiff_longTrailedSrc', {band, instrument, day_obs, detector, physical_filter, visit}, DataFrame), {instrument: 'LSSTComCamSim', detector: 0, visit: 7024040200737, band: 'i', day_obs: 20240402, physical_filter: 'i_06'}, run='u/elhoward/DM-44138/LSSTComCamSim/20240510T175057Z', id=530a64d4-1169-413d-add0-a7390597f612),"
   ]
  },
  {
   "cell_type": "markdown",
   "id": "a4411f5a-8f4d-434c-922b-e8dbb1b50c62",
   "metadata": {},
   "source": [
    "# Inspecting Columns"
   ]
  },
  {
   "cell_type": "markdown",
   "id": "5847c89b-3ea5-4c78-a54f-167d8924b233",
   "metadata": {},
   "source": [
    "To determine why a large number of the filtered sources contain nan trails, we inspected the columns and flags to see if we could find a pattern."
   ]
  },
  {
   "cell_type": "code",
   "execution_count": 29,
   "id": "3886e49d-341c-4bd4-87d2-e6b0d1a7ee41",
   "metadata": {
    "execution": {
     "iopub.execute_input": "2024-06-03T19:10:37.976554Z",
     "iopub.status.busy": "2024-06-03T19:10:37.976277Z",
     "iopub.status.idle": "2024-06-03T19:10:38.117992Z",
     "shell.execute_reply": "2024-06-03T19:10:38.117567Z",
     "shell.execute_reply.started": "2024-06-03T19:10:37.976541Z"
    }
   },
   "outputs": [],
   "source": [
    "data = butler.get('goodSeeingDiff_diaSrc', detector = 0, visit = 7024040200001).asAstropy()"
   ]
  },
  {
   "cell_type": "code",
   "execution_count": 30,
   "id": "a257dbdd-2f6b-44a5-af76-1976c7d23ada",
   "metadata": {
    "execution": {
     "iopub.execute_input": "2024-06-03T19:10:40.723671Z",
     "iopub.status.busy": "2024-06-03T19:10:40.723157Z",
     "iopub.status.idle": "2024-06-03T19:10:40.726423Z",
     "shell.execute_reply": "2024-06-03T19:10:40.726100Z",
     "shell.execute_reply.started": "2024-06-03T19:10:40.723657Z"
    },
    "scrolled": true
   },
   "outputs": [
    {
     "data": {
      "text/plain": [
       "<TableColumns names=('id','coord_ra','coord_dec','parent','coord_raErr','coord_decErr','coord_ra_dec_Cov','flags_negative','deblend_nChild','deblend_deblendedAsPsf','deblend_psfCenter_x','deblend_psfCenter_y','deblend_psf_instFlux','deblend_tooManyPeaks','deblend_parentTooBig','deblend_masked','deblend_failed','deblend_skipped','deblend_rampedTemplate','deblend_patchedTemplate','deblend_hasStrayFlux','deblend_peak_center_x','deblend_peak_center_y','deblend_peakId','deblend_nPeaks','deblend_parentNPeaks','detect_isPrimary','detect_isDeblendedSource','detect_fromBlend','detect_isIsolated','base_SdssCentroid_x','base_SdssCentroid_y','base_SdssCentroid_xErr','base_SdssCentroid_yErr','base_SdssCentroid_flag','base_CircularApertureFlux_flag_badCentroid','base_GaussianFlux_flag_badCentroid','base_PeakLikelihoodFlux_flag_badCentroid','base_PsfFlux_flag_badCentroid','base_SdssShape_flag_badCentroid','ext_shapeHSM_HsmPsfMoments_flag_badCentroid','ext_shapeHSM_HsmSourceMoments_flag_badCentroid','ext_trailedSources_Naive_flag_badCentroid','base_SdssCentroid_flag_edge','base_CircularApertureFlux_flag_badCentroid_edge','base_GaussianFlux_flag_badCentroid_edge','base_PeakLikelihoodFlux_flag_badCentroid_edge','base_PsfFlux_flag_badCentroid_edge','base_SdssShape_flag_badCentroid_edge','ext_shapeHSM_HsmPsfMoments_flag_badCentroid_edge','ext_shapeHSM_HsmSourceMoments_flag_badCentroid_edge','ext_trailedSources_Naive_flag_badCentroid_edge','base_SdssCentroid_flag_noSecondDerivative','base_CircularApertureFlux_flag_badCentroid_noSecondDerivative','base_GaussianFlux_flag_badCentroid_noSecondDerivative','base_PeakLikelihoodFlux_flag_badCentroid_noSecondDerivative','base_PsfFlux_flag_badCentroid_noSecondDerivative','base_SdssShape_flag_badCentroid_noSecondDerivative','ext_shapeHSM_HsmPsfMoments_flag_badCentroid_noSecondDerivative','ext_shapeHSM_HsmSourceMoments_flag_badCentroid_noSecondDerivative','ext_trailedSources_Naive_flag_badCentroid_noSecondDerivative','base_SdssCentroid_flag_almostNoSecondDerivative','base_CircularApertureFlux_flag_badCentroid_almostNoSecondDerivative','base_GaussianFlux_flag_badCentroid_almostNoSecondDerivative','base_PeakLikelihoodFlux_flag_badCentroid_almostNoSecondDerivative','base_PsfFlux_flag_badCentroid_almostNoSecondDerivative','base_SdssShape_flag_badCentroid_almostNoSecondDerivative','ext_shapeHSM_HsmPsfMoments_flag_badCentroid_almostNoSecondDerivative','ext_shapeHSM_HsmSourceMoments_flag_badCentroid_almostNoSecondDerivative','ext_trailedSources_Naive_flag_badCentroid_almostNoSecondDerivative','base_SdssCentroid_flag_notAtMaximum','base_CircularApertureFlux_flag_badCentroid_notAtMaximum','base_GaussianFlux_flag_badCentroid_notAtMaximum','base_PeakLikelihoodFlux_flag_badCentroid_notAtMaximum','base_PsfFlux_flag_badCentroid_notAtMaximum','base_SdssShape_flag_badCentroid_notAtMaximum','ext_shapeHSM_HsmPsfMoments_flag_badCentroid_notAtMaximum','ext_shapeHSM_HsmSourceMoments_flag_badCentroid_notAtMaximum','ext_trailedSources_Naive_flag_badCentroid_notAtMaximum','base_SdssCentroid_flag_near_edge','base_CircularApertureFlux_flag_badCentroid_near_edge','base_GaussianFlux_flag_badCentroid_near_edge','base_PeakLikelihoodFlux_flag_badCentroid_near_edge','base_PsfFlux_flag_badCentroid_near_edge','base_SdssShape_flag_badCentroid_near_edge','ext_shapeHSM_HsmPsfMoments_flag_badCentroid_near_edge','ext_shapeHSM_HsmSourceMoments_flag_badCentroid_near_edge','ext_trailedSources_Naive_flag_badCentroid_near_edge','base_SdssCentroid_flag_resetToPeak','base_CircularApertureFlux_flag_badCentroid_resetToPeak','base_GaussianFlux_flag_badCentroid_resetToPeak','base_PeakLikelihoodFlux_flag_badCentroid_resetToPeak','base_PsfFlux_flag_badCentroid_resetToPeak','base_SdssShape_flag_badCentroid_resetToPeak','ext_shapeHSM_HsmPsfMoments_flag_badCentroid_resetToPeak','ext_shapeHSM_HsmSourceMoments_flag_badCentroid_resetToPeak','ext_trailedSources_Naive_flag_badCentroid_resetToPeak','base_SdssCentroid_flag_badError','base_CircularApertureFlux_flag_badCentroid_badError','base_GaussianFlux_flag_badCentroid_badError','base_PeakLikelihoodFlux_flag_badCentroid_badError','base_PsfFlux_flag_badCentroid_badError','base_SdssShape_flag_badCentroid_badError','ext_shapeHSM_HsmPsfMoments_flag_badCentroid_badError','ext_shapeHSM_HsmSourceMoments_flag_badCentroid_badError','ext_trailedSources_Naive_flag_badCentroid_badError','ip_diffim_DipoleFit_pos_instFlux','slot_Centroid_pos_instFlux','ip_diffim_DipoleFit_pos_instFluxErr','slot_Centroid_pos_instFluxErr','ip_diffim_DipoleFit_neg_instFlux','slot_Centroid_neg_instFlux','ip_diffim_DipoleFit_neg_instFluxErr','slot_Centroid_neg_instFluxErr','ip_diffim_DipoleFit_instFlux','slot_Centroid_instFlux','ip_diffim_DipoleFit_instFluxErr','slot_Centroid_instFluxErr','ip_diffim_DipoleFit_pos_x','slot_Centroid_pos_x','ip_diffim_DipoleFit_pos_y','slot_Centroid_pos_y','ip_diffim_DipoleFit_neg_x','slot_Centroid_neg_x','ip_diffim_DipoleFit_neg_y','slot_Centroid_neg_y','ip_diffim_DipoleFit_x','slot_Centroid_x','ip_diffim_DipoleFit_y','slot_Centroid_y','ip_diffim_DipoleFit_xErr','slot_Centroid_xErr','ip_diffim_DipoleFit_yErr','slot_Centroid_yErr','ip_diffim_DipoleFit_orientation','slot_Centroid_orientation','ip_diffim_DipoleFit_separation','slot_Centroid_separation','ip_diffim_DipoleFit_chi2dof','slot_Centroid_chi2dof','ip_diffim_DipoleFit_nData','slot_Centroid_nData','ip_diffim_DipoleFit_signalToNoise','slot_Centroid_signalToNoise','ip_diffim_DipoleFit_flag_classification','slot_Centroid_flag_classification','ip_diffim_DipoleFit_flag_classificationAttempted','slot_Centroid_flag_classificationAttempted','ip_diffim_DipoleFit_flag','slot_Centroid_flag','ip_diffim_DipoleFit_flag_edge','slot_Centroid_flag_edge','base_SdssShape_xx','base_SdssShape_yy','base_SdssShape_xy','base_SdssShape_xxErr','base_SdssShape_yyErr','base_SdssShape_xyErr','base_SdssShape_x','base_SdssShape_y','base_SdssShape_instFlux','base_SdssShape_instFluxErr','base_SdssShape_psf_xx','base_SdssShape_psf_yy','base_SdssShape_psf_xy','base_SdssShape_instFlux_xx_Cov','base_SdssShape_instFlux_yy_Cov','base_SdssShape_instFlux_xy_Cov','base_SdssShape_flag','base_SdssShape_flag_unweightedBad','base_SdssShape_flag_unweighted','base_SdssShape_flag_shift','base_SdssShape_flag_maxIter','base_SdssShape_flag_psf','ext_shapeHSM_HsmPsfMoments_flag','slot_PsfShape_flag','ext_shapeHSM_HsmPsfMoments_flag_no_pixels','slot_PsfShape_flag_no_pixels','ext_shapeHSM_HsmPsfMoments_flag_not_contained','slot_PsfShape_flag_not_contained','ext_shapeHSM_HsmPsfMoments_flag_parent_source','slot_PsfShape_flag_parent_source','ext_shapeHSM_HsmPsfMoments_flag_galsim','slot_PsfShape_flag_galsim','ext_shapeHSM_HsmPsfMoments_flag_invalid_param','slot_PsfShape_flag_invalid_param','ext_shapeHSM_HsmPsfMoments_flag_edge','slot_PsfShape_flag_edge','ext_shapeHSM_HsmPsfMoments_flag_no_psf','slot_PsfShape_flag_no_psf','ext_shapeHSM_HsmPsfMoments_x','slot_PsfShape_x','ext_shapeHSM_HsmPsfMoments_y','slot_PsfShape_y','ext_shapeHSM_HsmPsfMoments_xx','slot_PsfShape_xx','ext_shapeHSM_HsmPsfMoments_yy','slot_PsfShape_yy','ext_shapeHSM_HsmPsfMoments_xy','slot_PsfShape_xy','ext_shapeHSM_HsmSourceMoments_flag','base_GaussianFlux_flag_badShape','slot_Shape_flag','ext_shapeHSM_HsmSourceMoments_flag_no_pixels','base_GaussianFlux_flag_badShape_no_pixels','slot_Shape_flag_no_pixels','ext_shapeHSM_HsmSourceMoments_flag_not_contained','base_GaussianFlux_flag_badShape_not_contained','slot_Shape_flag_not_contained','ext_shapeHSM_HsmSourceMoments_flag_parent_source','base_GaussianFlux_flag_badShape_parent_source','slot_Shape_flag_parent_source','ext_shapeHSM_HsmSourceMoments_flag_galsim','base_GaussianFlux_flag_badShape_galsim','slot_Shape_flag_galsim','ext_shapeHSM_HsmSourceMoments_flag_invalid_param','base_GaussianFlux_flag_badShape_invalid_param','slot_Shape_flag_invalid_param','ext_shapeHSM_HsmSourceMoments_flag_edge','base_GaussianFlux_flag_badShape_edge','slot_Shape_flag_edge','ext_shapeHSM_HsmSourceMoments_flag_no_psf','base_GaussianFlux_flag_badShape_no_psf','slot_Shape_flag_no_psf','ext_shapeHSM_HsmSourceMoments_x','slot_Shape_x','ext_shapeHSM_HsmSourceMoments_y','slot_Shape_y','ext_shapeHSM_HsmSourceMoments_xx','slot_Shape_xx','ext_shapeHSM_HsmSourceMoments_yy','slot_Shape_yy','ext_shapeHSM_HsmSourceMoments_xy','slot_Shape_xy','base_CircularApertureFlux_12_0_instFlux','slot_ApFlux_instFlux','base_CircularApertureFlux_12_0_instFluxErr','slot_ApFlux_instFluxErr','base_CircularApertureFlux_12_0_flag','slot_ApFlux_flag','base_CircularApertureFlux_12_0_flag_apertureTruncated','slot_ApFlux_flag_apertureTruncated','base_GaussianFlux_instFlux','base_GaussianFlux_instFluxErr','base_GaussianFlux_flag','base_LocalPhotoCalib_flag','base_LocalPhotoCalib','base_LocalPhotoCalibErr','base_LocalWcs_flag','base_LocalWcs_CDMatrix_1_1','base_LocalWcs_CDMatrix_1_2','base_LocalWcs_CDMatrix_2_1','base_LocalWcs_CDMatrix_2_2','base_PeakLikelihoodFlux_instFlux','base_PeakLikelihoodFlux_instFluxErr','base_PeakLikelihoodFlux_flag','base_PixelFlags_flag','base_PixelFlags_flag_offimage','base_PixelFlags_flag_edge','base_PixelFlags_flag_interpolated','base_PixelFlags_flag_saturated','base_PixelFlags_flag_cr','base_PixelFlags_flag_bad','base_PixelFlags_flag_suspect','base_PixelFlags_flag_edgeCenter','base_PixelFlags_flag_interpolatedCenter','base_PixelFlags_flag_saturatedCenter','base_PixelFlags_flag_crCenter','base_PixelFlags_flag_badCenter','base_PixelFlags_flag_suspectCenter','base_PixelFlags_flag_edgeCenterAll','base_PixelFlags_flag_interpolatedCenterAll','base_PixelFlags_flag_saturatedCenterAll','base_PixelFlags_flag_crCenterAll','base_PixelFlags_flag_badCenterAll','base_PixelFlags_flag_suspectCenterAll','base_PixelFlags_flag_streakCenter','base_PixelFlags_flag_injectedCenter','base_PixelFlags_flag_injected_templateCenter','base_PixelFlags_flag_streakCenterAll','base_PixelFlags_flag_injectedCenterAll','base_PixelFlags_flag_injected_templateCenterAll','base_PixelFlags_flag_streak','base_PixelFlags_flag_injected','base_PixelFlags_flag_injected_template','base_PsfFlux_instFlux','slot_PsfFlux_instFlux','base_PsfFlux_instFluxErr','slot_PsfFlux_instFluxErr','base_PsfFlux_area','slot_PsfFlux_area','base_PsfFlux_chi2','slot_PsfFlux_chi2','base_PsfFlux_npixels','slot_PsfFlux_npixels','base_PsfFlux_flag','slot_PsfFlux_flag','base_PsfFlux_flag_noGoodPixels','slot_PsfFlux_flag_noGoodPixels','base_PsfFlux_flag_edge','slot_PsfFlux_flag_edge','ext_trailedSources_Naive_ra','ext_trailedSources_Naive_dec','ext_trailedSources_Naive_x0','ext_trailedSources_Naive_y0','ext_trailedSources_Naive_x1','ext_trailedSources_Naive_y1','ext_trailedSources_Naive_flux','ext_trailedSources_Naive_length','ext_trailedSources_Naive_angle','ext_trailedSources_Naive_x0Err','ext_trailedSources_Naive_y0Err','ext_trailedSources_Naive_x1Err','ext_trailedSources_Naive_y1Err','ext_trailedSources_Naive_fluxErr','ext_trailedSources_Naive_lengthErr','ext_trailedSources_Naive_angleErr','ext_trailedSources_Naive_flag','ext_trailedSources_Naive_flag_noFlux','ext_trailedSources_Naive_flag_noConverge','ext_trailedSources_Naive_flag_noSigma','ext_trailedSources_Naive_flag_safeCentroid','ext_trailedSources_Naive_flag_edge','ext_trailedSources_Naive_flag_shape','base_GaussianFlux_apCorr','base_GaussianFlux_apCorrErr','base_GaussianFlux_flag_apCorr','base_PsfFlux_apCorr','slot_PsfFlux_apCorr','base_PsfFlux_apCorrErr','slot_PsfFlux_apCorrErr','base_PsfFlux_flag_apCorr','slot_PsfFlux_flag_apCorr','ip_diffim_forced_PsfFlux_instFlux','ip_diffim_forced_PsfFlux_instFluxErr','ip_diffim_forced_PsfFlux_area','ip_diffim_forced_PsfFlux_flag','ip_diffim_forced_PsfFlux_flag_noGoodPixels','ip_diffim_forced_PsfFlux_flag_edge','refMatchId','srcMatchId','sky_source')>"
      ]
     },
     "execution_count": 30,
     "metadata": {},
     "output_type": "execute_result"
    }
   ],
   "source": [
    "data.columns"
   ]
  },
  {
   "cell_type": "code",
   "execution_count": 31,
   "id": "f9f481c4-80b3-4421-869d-8134acab7658",
   "metadata": {
    "execution": {
     "iopub.execute_input": "2024-06-03T19:10:41.707329Z",
     "iopub.status.busy": "2024-06-03T19:10:41.707054Z",
     "iopub.status.idle": "2024-06-03T19:10:41.710792Z",
     "shell.execute_reply": "2024-06-03T19:10:41.710433Z",
     "shell.execute_reply.started": "2024-06-03T19:10:41.707316Z"
    }
   },
   "outputs": [
    {
     "data": {
      "text/html": [
       "&lt;Column name=&apos;ext_trailedSources_Naive_length&apos; dtype=&apos;float64&apos; unit=&apos;pix&apos; description=&apos;Trail length.&apos; length=305&gt;\n",
       "<table>\n",
       "<tr><td>nan</td></tr>\n",
       "<tr><td>8.37861515241461</td></tr>\n",
       "<tr><td>3.7472153670704493</td></tr>\n",
       "<tr><td>nan</td></tr>\n",
       "<tr><td>2.696608249027258</td></tr>\n",
       "<tr><td>nan</td></tr>\n",
       "<tr><td>nan</td></tr>\n",
       "<tr><td>nan</td></tr>\n",
       "<tr><td>0.3050389262232474</td></tr>\n",
       "<tr><td>nan</td></tr>\n",
       "<tr><td>nan</td></tr>\n",
       "<tr><td>3.0279336986412124</td></tr>\n",
       "<tr><td>...</td></tr>\n",
       "<tr><td>nan</td></tr>\n",
       "<tr><td>nan</td></tr>\n",
       "<tr><td>nan</td></tr>\n",
       "<tr><td>nan</td></tr>\n",
       "<tr><td>nan</td></tr>\n",
       "<tr><td>nan</td></tr>\n",
       "<tr><td>nan</td></tr>\n",
       "<tr><td>nan</td></tr>\n",
       "<tr><td>nan</td></tr>\n",
       "<tr><td>nan</td></tr>\n",
       "<tr><td>nan</td></tr>\n",
       "<tr><td>nan</td></tr>\n",
       "</table>"
      ],
      "text/plain": [
       "<Column name='ext_trailedSources_Naive_length' dtype='float64' unit='pix' description='Trail length.' length=305>\n",
       "               nan\n",
       "  8.37861515241461\n",
       "3.7472153670704493\n",
       "               nan\n",
       " 2.696608249027258\n",
       "               nan\n",
       "               nan\n",
       "               nan\n",
       "0.3050389262232474\n",
       "               nan\n",
       "               nan\n",
       "3.0279336986412124\n",
       "               ...\n",
       "               nan\n",
       "               nan\n",
       "               nan\n",
       "               nan\n",
       "               nan\n",
       "               nan\n",
       "               nan\n",
       "               nan\n",
       "               nan\n",
       "               nan\n",
       "               nan\n",
       "               nan"
      ]
     },
     "execution_count": 31,
     "metadata": {},
     "output_type": "execute_result"
    }
   ],
   "source": [
    "data['ext_trailedSources_Naive_length']"
   ]
  },
  {
   "cell_type": "code",
   "execution_count": 35,
   "id": "2cd10ec5-6ea1-4616-ae03-9efbadd3bebc",
   "metadata": {
    "execution": {
     "iopub.execute_input": "2024-06-03T19:16:03.632507Z",
     "iopub.status.busy": "2024-06-03T19:16:03.632236Z",
     "iopub.status.idle": "2024-06-03T19:24:10.190633Z",
     "shell.execute_reply": "2024-06-03T19:24:10.190139Z",
     "shell.execute_reply.started": "2024-06-03T19:16:03.632493Z"
    },
    "scrolled": true
   },
   "outputs": [
    {
     "name": "stdout",
     "output_type": "stream",
     "text": [
      "0         NaN\n",
      "1    1.533029\n",
      "Name: trailLength, dtype: float64\n",
      "0    1.663312\n",
      "Name: trailLength, dtype: float64\n"
     ]
    }
   ],
   "source": [
    "count= 0\n",
    "for visit in range (7024040200000,7024040250020):\n",
    "    try:\n",
    "        data = butler.get('goodSeeingDiff_longTrailedSrc', detector = 0, visit = visit)\n",
    "    except DatasetNotFoundError:\n",
    "        continue\n",
    "    else:\n",
    "        if data['trailLength'].any():\n",
    "            print(data['trailLength'])"
   ]
  },
  {
   "cell_type": "markdown",
   "id": "73cad063-2430-4550-ab84-98701c7d99a4",
   "metadata": {},
   "source": [
    "From looking at just one detector over all visits, it looks like trails which exceed the length limits are being caught, as well as numerous nan sources. These nan trails should not be caught at all."
   ]
  },
  {
   "cell_type": "code",
   "execution_count": 36,
   "id": "eaa42c42-4a35-40fa-bcf7-26f5bc038925",
   "metadata": {
    "execution": {
     "iopub.execute_input": "2024-06-03T19:45:47.575112Z",
     "iopub.status.busy": "2024-06-03T19:45:47.574843Z",
     "iopub.status.idle": "2024-06-03T20:33:24.636034Z",
     "shell.execute_reply": "2024-06-03T20:33:24.635564Z",
     "shell.execute_reply.started": "2024-06-03T19:45:47.575098Z"
    }
   },
   "outputs": [
    {
     "name": "stdout",
     "output_type": "stream",
     "text": [
      "0         NaN\n",
      "1    1.533029\n",
      "Name: trailLength, dtype: float64\n",
      "0    True\n",
      "1    True\n",
      "Name: trail_flag_edge, dtype: bool\n",
      "0    1.663312\n",
      "Name: trailLength, dtype: float64\n",
      "0    True\n",
      "Name: trail_flag_edge, dtype: bool\n",
      "0    1.972324\n",
      "1         NaN\n",
      "2         NaN\n",
      "Name: trailLength, dtype: float64\n",
      "0    True\n",
      "1    True\n",
      "2    True\n",
      "Name: trail_flag_edge, dtype: bool\n",
      "0           NaN\n",
      "1           NaN\n",
      "2           NaN\n",
      "3           NaN\n",
      "4           NaN\n",
      "5           NaN\n",
      "6           NaN\n",
      "7           NaN\n",
      "8     15.171376\n",
      "9           NaN\n",
      "10          NaN\n",
      "Name: trailLength, dtype: float64\n",
      "0      True\n",
      "1      True\n",
      "2      True\n",
      "3      True\n",
      "4      True\n",
      "5      True\n",
      "6      True\n",
      "7      True\n",
      "8     False\n",
      "9      True\n",
      "10     True\n",
      "Name: trail_flag_edge, dtype: bool\n",
      "0           NaN\n",
      "1           NaN\n",
      "2           NaN\n",
      "3           NaN\n",
      "4           NaN\n",
      "5           NaN\n",
      "6           NaN\n",
      "7           NaN\n",
      "8           NaN\n",
      "9           NaN\n",
      "10    14.537347\n",
      "11          NaN\n",
      "12          NaN\n",
      "13          NaN\n",
      "14          NaN\n",
      "15          NaN\n",
      "16          NaN\n",
      "17          NaN\n",
      "Name: trailLength, dtype: float64\n",
      "0      True\n",
      "1      True\n",
      "2      True\n",
      "3      True\n",
      "4      True\n",
      "5      True\n",
      "6      True\n",
      "7      True\n",
      "8      True\n",
      "9      True\n",
      "10    False\n",
      "11     True\n",
      "12     True\n",
      "13     True\n",
      "14     True\n",
      "15     True\n",
      "16     True\n",
      "17     True\n",
      "Name: trail_flag_edge, dtype: bool\n",
      "0          NaN\n",
      "1          NaN\n",
      "2          NaN\n",
      "3          NaN\n",
      "4          NaN\n",
      "5    17.999076\n",
      "6          NaN\n",
      "7          NaN\n",
      "8          NaN\n",
      "Name: trailLength, dtype: float64\n",
      "0     True\n",
      "1     True\n",
      "2     True\n",
      "3     True\n",
      "4     True\n",
      "5    False\n",
      "6     True\n",
      "7     True\n",
      "8     True\n",
      "Name: trail_flag_edge, dtype: bool\n",
      "0       NaN\n",
      "1       NaN\n",
      "2       NaN\n",
      "3    1.1225\n",
      "Name: trailLength, dtype: float64\n",
      "0    True\n",
      "1    True\n",
      "2    True\n",
      "3    True\n",
      "Name: trail_flag_edge, dtype: bool\n"
     ]
    }
   ],
   "source": [
    "count= 0\n",
    "for visit in range (7024040200000,7024040500500):\n",
    "    try:\n",
    "        data = butler.get('goodSeeingDiff_longTrailedSrc', detector = 0, visit = visit)\n",
    "    except DatasetNotFoundError:\n",
    "        continue\n",
    "    else:\n",
    "        if data['trailLength'].any():\n",
    "            print(data['trailLength'])\n",
    "            print(data['trail_flag_edge'])"
   ]
  },
  {
   "attachments": {},
   "cell_type": "markdown",
   "id": "872291f5-8ebe-467a-9d80-9537a4f8726b",
   "metadata": {},
   "source": [
    "# Investigate Trail Measurements\n",
    "\n",
    "Test loading trailed source count from detector 0, visit 7024040200003"
   ]
  },
  {
   "cell_type": "code",
   "execution_count": null,
   "id": "c663c9f4-23d0-4b7d-a2df-79aae7229f66",
   "metadata": {},
   "outputs": [],
   "source": [
    "We see here three correctly filtered trailed sources which are longer than 12.5 arcseconds, which is the maximum trail length allowed for a 30 second exposure. The rest of the sources may be edge sources which do not have trails but still ended up with the "
   ]
  },
  {
   "cell_type": "markdown",
   "id": "e71a35a9-4144-42db-93f7-bb982ffa4797",
   "metadata": {
    "execution": {
     "iopub.execute_input": "2024-05-17T17:45:28.839640Z",
     "iopub.status.busy": "2024-05-17T17:45:28.839425Z",
     "iopub.status.idle": "2024-05-17T17:45:28.842787Z",
     "shell.execute_reply": "2024-05-17T17:45:28.842372Z",
     "shell.execute_reply.started": "2024-05-17T17:45:28.839626Z"
    }
   },
   "source": [
    "The maximum trail length should be 36000/3600.0/24.0*30, which is 12.5 arcseconds."
   ]
  },
  {
   "cell_type": "code",
   "execution_count": 19,
   "id": "9756bc4d-9f78-4e41-81f3-6e9422556b4e",
   "metadata": {
    "execution": {
     "iopub.execute_input": "2024-05-16T22:26:31.330306Z",
     "iopub.status.busy": "2024-05-16T22:26:31.330046Z",
     "iopub.status.idle": "2024-05-16T22:26:31.333643Z",
     "shell.execute_reply": "2024-05-16T22:26:31.333304Z",
     "shell.execute_reply.started": "2024-05-16T22:26:31.330293Z"
    }
   },
   "outputs": [
    {
     "data": {
      "text/plain": [
       "0   -47.589607\n",
       "1   -47.697461\n",
       "Name: dec, dtype: float64"
      ]
     },
     "execution_count": 19,
     "metadata": {},
     "output_type": "execute_result"
    }
   ],
   "source": [
    "data['dec']"
   ]
  },
  {
   "cell_type": "code",
   "execution_count": 20,
   "id": "a4746b62-2cfa-4f0a-8468-35fefa03dd5c",
   "metadata": {
    "execution": {
     "iopub.execute_input": "2024-05-16T22:26:32.287592Z",
     "iopub.status.busy": "2024-05-16T22:26:32.287173Z",
     "iopub.status.idle": "2024-05-16T22:26:32.290785Z",
     "shell.execute_reply": "2024-05-16T22:26:32.290433Z",
     "shell.execute_reply.started": "2024-05-16T22:26:32.287577Z"
    }
   },
   "outputs": [
    {
     "data": {
      "text/plain": [
       "0   -47.589599\n",
       "1   -47.697470\n",
       "Name: trailDec, dtype: float64"
      ]
     },
     "execution_count": 20,
     "metadata": {},
     "output_type": "execute_result"
    }
   ],
   "source": [
    "data['trailDec']"
   ]
  },
  {
   "cell_type": "code",
   "execution_count": 21,
   "id": "a5adeae6-dc27-4c0e-9159-3b67c7d43b4e",
   "metadata": {
    "execution": {
     "iopub.execute_input": "2024-05-16T22:26:34.129590Z",
     "iopub.status.busy": "2024-05-16T22:26:34.129402Z",
     "iopub.status.idle": "2024-05-16T22:26:34.132901Z",
     "shell.execute_reply": "2024-05-16T22:26:34.132566Z",
     "shell.execute_reply.started": "2024-05-16T22:26:34.129576Z"
    }
   },
   "outputs": [
    {
     "data": {
      "text/plain": [
       "0    280.146787\n",
       "1    279.940903\n",
       "Name: trailRa, dtype: float64"
      ]
     },
     "execution_count": 21,
     "metadata": {},
     "output_type": "execute_result"
    }
   ],
   "source": [
    "data['trailRa']"
   ]
  },
  {
   "cell_type": "code",
   "execution_count": 22,
   "id": "202649bc-d13f-400d-ab3a-365fff8ffedb",
   "metadata": {
    "execution": {
     "iopub.execute_input": "2024-05-16T22:26:35.642000Z",
     "iopub.status.busy": "2024-05-16T22:26:35.641722Z",
     "iopub.status.idle": "2024-05-16T22:26:35.645495Z",
     "shell.execute_reply": "2024-05-16T22:26:35.645140Z",
     "shell.execute_reply.started": "2024-05-16T22:26:35.641987Z"
    }
   },
   "outputs": [
    {
     "data": {
      "text/plain": [
       "0     -8014.669628\n",
       "1    664489.219988\n",
       "Name: trailFlux, dtype: float64"
      ]
     },
     "execution_count": 22,
     "metadata": {},
     "output_type": "execute_result"
    }
   ],
   "source": [
    "data['trailFlux']"
   ]
  },
  {
   "cell_type": "code",
   "execution_count": 23,
   "id": "4ccef60f-07bd-4a44-aa4d-1c5fd287ff44",
   "metadata": {
    "execution": {
     "iopub.execute_input": "2024-05-16T22:26:43.291605Z",
     "iopub.status.busy": "2024-05-16T22:26:43.291311Z",
     "iopub.status.idle": "2024-05-16T22:26:43.294997Z",
     "shell.execute_reply": "2024-05-16T22:26:43.294653Z",
     "shell.execute_reply.started": "2024-05-16T22:26:43.291592Z"
    }
   },
   "outputs": [
    {
     "data": {
      "text/plain": [
       "0    False\n",
       "1    False\n",
       "Name: shape_flag, dtype: bool"
      ]
     },
     "execution_count": 23,
     "metadata": {},
     "output_type": "execute_result"
    }
   ],
   "source": [
    "data['shape_flag']"
   ]
  },
  {
   "cell_type": "code",
   "execution_count": 26,
   "id": "a9a188e6-6cb3-4afd-8cdf-0d8ddb7849ec",
   "metadata": {
    "execution": {
     "iopub.execute_input": "2024-05-16T22:27:20.470152Z",
     "iopub.status.busy": "2024-05-16T22:27:20.469766Z",
     "iopub.status.idle": "2024-05-16T22:27:20.473249Z",
     "shell.execute_reply": "2024-05-16T22:27:20.472908Z",
     "shell.execute_reply.started": "2024-05-16T22:27:20.470139Z"
    }
   },
   "outputs": [
    {
     "data": {
      "text/plain": [
       "0    True\n",
       "1    True\n",
       "Name: trail_flag_edge, dtype: bool"
      ]
     },
     "execution_count": 26,
     "metadata": {},
     "output_type": "execute_result"
    }
   ],
   "source": [
    "data['trail_flag_edge']"
   ]
  },
  {
   "cell_type": "code",
   "execution_count": 208,
   "id": "e5ac0106-f418-4771-b7f9-ab877c10bcc6",
   "metadata": {
    "execution": {
     "iopub.execute_input": "2024-05-16T18:52:34.573952Z",
     "iopub.status.busy": "2024-05-16T18:52:34.573752Z",
     "iopub.status.idle": "2024-05-16T18:52:34.577332Z",
     "shell.execute_reply": "2024-05-16T18:52:34.576976Z",
     "shell.execute_reply.started": "2024-05-16T18:52:34.573940Z"
    }
   },
   "outputs": [
    {
     "data": {
      "text/plain": [
       "Index(['diaSourceId', 'visit', 'detector', 'band', 'diaObjectId', 'ssObjectId',\n",
       "       'parentDiaSourceId', 'midpointMjdTai', 'bboxSize', 'time_processed',\n",
       "       'ra', 'dec', 'raErr', 'decErr', 'ra_dec_Cov', 'x', 'y', 'xErr', 'yErr',\n",
       "       'apFlux', 'apFluxErr', 'snr', 'psfFlux', 'psfFluxErr', 'psfChi2',\n",
       "       'psfNdata', 'trailFlux', 'trailRa', 'trailDec', 'trailLength',\n",
       "       'trailAngle', 'dipoleMeanFlux', 'dipoleMeanFluxErr', 'dipoleFluxDiff',\n",
       "       'dipoleFluxDiffErr', 'dipoleLength', 'dipoleAngle', 'dipoleChi2',\n",
       "       'isDipole', 'dipoleNdata', 'scienceFlux', 'scienceFluxErr', 'ixx',\n",
       "       'iyy', 'ixy', 'ixxPSF', 'iyyPSF', 'ixyPSF', 'reliability', 'pixelFlags',\n",
       "       'pixelFlags_offimage', 'pixelFlags_edge', 'pixelFlags_interpolated',\n",
       "       'pixelFlags_saturated', 'pixelFlags_cr', 'pixelFlags_bad',\n",
       "       'pixelFlags_suspect', 'pixelFlags_interpolatedCenter',\n",
       "       'pixelFlags_saturatedCenter', 'pixelFlags_crCenter',\n",
       "       'pixelFlags_suspectCenter', 'centroid_flag', 'apFlux_flag',\n",
       "       'apFlux_flag_apertureTruncated', 'psfFlux_flag',\n",
       "       'psfFlux_flag_noGoodPixels', 'psfFlux_flag_edge', 'forced_PsfFlux_flag',\n",
       "       'forced_PsfFlux_flag_noGoodPixels', 'forced_PsfFlux_flag_edge',\n",
       "       'shape_flag', 'shape_flag_no_pixels', 'shape_flag_not_contained',\n",
       "       'shape_flag_parent_source', 'trail_flag_edge', 'pixelFlags_streak',\n",
       "       'pixelFlags_streakCenter', 'pixelFlags_injected',\n",
       "       'pixelFlags_injectedCenter', 'pixelFlags_injected_template',\n",
       "       'pixelFlags_injected_templateCenter'],\n",
       "      dtype='object')"
      ]
     },
     "execution_count": 208,
     "metadata": {},
     "output_type": "execute_result"
    }
   ],
   "source": [
    "data.columns"
   ]
  },
  {
   "cell_type": "code",
   "execution_count": 14,
   "id": "add866a3-230e-4a08-8cfb-6cd694f7faef",
   "metadata": {
    "execution": {
     "iopub.execute_input": "2024-05-17T17:54:27.142183Z",
     "iopub.status.busy": "2024-05-17T17:54:27.141724Z",
     "iopub.status.idle": "2024-05-17T17:54:27.152165Z",
     "shell.execute_reply": "2024-05-17T17:54:27.151814Z",
     "shell.execute_reply.started": "2024-05-17T17:54:27.142169Z"
    }
   },
   "outputs": [
    {
     "data": {
      "text/html": [
       "<div>\n",
       "<style scoped>\n",
       "    .dataframe tbody tr th:only-of-type {\n",
       "        vertical-align: middle;\n",
       "    }\n",
       "\n",
       "    .dataframe tbody tr th {\n",
       "        vertical-align: top;\n",
       "    }\n",
       "\n",
       "    .dataframe thead th {\n",
       "        text-align: right;\n",
       "    }\n",
       "</style>\n",
       "<table border=\"1\" class=\"dataframe\">\n",
       "  <thead>\n",
       "    <tr style=\"text-align: right;\">\n",
       "      <th></th>\n",
       "      <th>diaSourceId</th>\n",
       "      <th>visit</th>\n",
       "      <th>detector</th>\n",
       "      <th>band</th>\n",
       "      <th>diaObjectId</th>\n",
       "      <th>ssObjectId</th>\n",
       "      <th>parentDiaSourceId</th>\n",
       "      <th>midpointMjdTai</th>\n",
       "      <th>bboxSize</th>\n",
       "      <th>time_processed</th>\n",
       "      <th>...</th>\n",
       "      <th>shape_flag_no_pixels</th>\n",
       "      <th>shape_flag_not_contained</th>\n",
       "      <th>shape_flag_parent_source</th>\n",
       "      <th>trail_flag_edge</th>\n",
       "      <th>pixelFlags_streak</th>\n",
       "      <th>pixelFlags_streakCenter</th>\n",
       "      <th>pixelFlags_injected</th>\n",
       "      <th>pixelFlags_injectedCenter</th>\n",
       "      <th>pixelFlags_injected_template</th>\n",
       "      <th>pixelFlags_injected_templateCenter</th>\n",
       "    </tr>\n",
       "  </thead>\n",
       "  <tbody>\n",
       "    <tr>\n",
       "      <th>0</th>\n",
       "      <td>3065509624502288434</td>\n",
       "      <td>7024040400780</td>\n",
       "      <td>0</td>\n",
       "      <td>r</td>\n",
       "      <td>0</td>\n",
       "      <td>0</td>\n",
       "      <td>0</td>\n",
       "      <td>60405.424882</td>\n",
       "      <td>35</td>\n",
       "      <td>2024-05-09 23:02:29.605506</td>\n",
       "      <td>...</td>\n",
       "      <td>False</td>\n",
       "      <td>False</td>\n",
       "      <td>False</td>\n",
       "      <td>True</td>\n",
       "      <td>False</td>\n",
       "      <td>False</td>\n",
       "      <td>False</td>\n",
       "      <td>False</td>\n",
       "      <td>False</td>\n",
       "      <td>False</td>\n",
       "    </tr>\n",
       "  </tbody>\n",
       "</table>\n",
       "<p>1 rows × 81 columns</p>\n",
       "</div>"
      ],
      "text/plain": [
       "           diaSourceId          visit  detector band  diaObjectId  ssObjectId  \\\n",
       "0  3065509624502288434  7024040400780         0    r            0           0   \n",
       "\n",
       "   parentDiaSourceId  midpointMjdTai  bboxSize             time_processed  \\\n",
       "0                  0    60405.424882        35 2024-05-09 23:02:29.605506   \n",
       "\n",
       "   ...  shape_flag_no_pixels  shape_flag_not_contained  \\\n",
       "0  ...                 False                     False   \n",
       "\n",
       "   shape_flag_parent_source  trail_flag_edge  pixelFlags_streak  \\\n",
       "0                     False             True              False   \n",
       "\n",
       "   pixelFlags_streakCenter  pixelFlags_injected  pixelFlags_injectedCenter  \\\n",
       "0                    False                False                      False   \n",
       "\n",
       "   pixelFlags_injected_template  pixelFlags_injected_templateCenter  \n",
       "0                         False                               False  \n",
       "\n",
       "[1 rows x 81 columns]"
      ]
     },
     "execution_count": 14,
     "metadata": {},
     "output_type": "execute_result"
    }
   ],
   "source": [
    "data"
   ]
  },
  {
   "cell_type": "code",
   "execution_count": 108,
   "id": "c67cacc5-44ad-472b-9f85-934640fed4c7",
   "metadata": {
    "execution": {
     "iopub.execute_input": "2024-05-17T22:56:41.154702Z",
     "iopub.status.busy": "2024-05-17T22:56:41.154482Z",
     "iopub.status.idle": "2024-05-17T22:56:43.307786Z",
     "shell.execute_reply": "2024-05-17T22:56:43.307316Z",
     "shell.execute_reply.started": "2024-05-17T22:56:41.154687Z"
    },
    "scrolled": true
   },
   "outputs": [
    {
     "name": "stdout",
     "output_type": "stream",
     "text": [
      "6 peaks, area=539, centroid=(978.312, 407.824)\n",
      "Footprint bounding box:  (minimum=(961, 393), maximum=(992, 422))\n",
      "Centroid from record =  978.1577969429278 408.4433506237532\n",
      "Visit:  7024040400780 , Detector:  0\n"
     ]
    },
    {
     "data": {
      "image/png": "[encoded data removed]",
      "text/plain": [
       "<Figure size 1400x700 with 6 Axes>"
      ]
     },
     "metadata": {},
     "output_type": "display_data"
    },
    {
     "name": "stdout",
     "output_type": "stream",
     "text": [
      "id: 3065509624502288434\n",
      "coord_ra: 5.23138 rad\n",
      "coord_dec: -0.711712 rad\n",
      "parent: 0\n",
      "coord_raErr: 8.31525e-09\n",
      "coord_decErr: 1.47874e-08\n",
      "coord_ra_dec_Cov: -1.35533e-17\n",
      "flags_negative: 0\n",
      "deblend_nChild: 0\n",
      "deblend_deblendedAsPsf: 0\n",
      "deblend_psfCenter_x: nan\n",
      "deblend_psfCenter_y: nan\n",
      "deblend_psf_instFlux: nan\n",
      "deblend_tooManyPeaks: 0\n",
      "deblend_parentTooBig: 0\n",
      "deblend_masked: 0\n",
      "deblend_failed: 0\n",
      "deblend_skipped: 0\n",
      "deblend_rampedTemplate: 0\n",
      "deblend_patchedTemplate: 0\n",
      "deblend_hasStrayFlux: 0\n",
      "deblend_peak_center_x: 0\n",
      "deblend_peak_center_y: 0\n",
      "deblend_peakId: 0\n",
      "deblend_nPeaks: 0\n",
      "deblend_parentNPeaks: 0\n",
      "detect_isPrimary: 0\n",
      "detect_isDeblendedSource: 0\n",
      "detect_fromBlend: 0\n",
      "detect_isIsolated: 0\n",
      "base_SdssCentroid_x: 975.284\n",
      "base_SdssCentroid_y: 409.916\n",
      "base_SdssCentroid_xErr: 0.01117\n",
      "base_SdssCentroid_yErr: 0.0153536\n",
      "base_SdssCentroid_flag: 0\n",
      "base_SdssCentroid_flag_edge: 0\n",
      "base_SdssCentroid_flag_noSecondDerivative: 0\n",
      "base_SdssCentroid_flag_almostNoSecondDerivative: 0\n",
      "base_SdssCentroid_flag_notAtMaximum: 0\n",
      "base_SdssCentroid_flag_near_edge: 0\n",
      "base_SdssCentroid_flag_resetToPeak: 0\n",
      "base_SdssCentroid_flag_badError: 0\n",
      "ip_diffim_DipoleFit_pos_instFlux: 1.27589e+06\n",
      "ip_diffim_DipoleFit_pos_instFluxErr: 6084.41\n",
      "ip_diffim_DipoleFit_neg_instFlux: -1.27589e+06\n",
      "ip_diffim_DipoleFit_neg_instFluxErr: 6084.41\n",
      "ip_diffim_DipoleFit_instFlux: 1.27589e+06\n",
      "ip_diffim_DipoleFit_instFluxErr: nan\n",
      "ip_diffim_DipoleFit_pos_x: 978.203\n",
      "ip_diffim_DipoleFit_pos_y: 408.471\n",
      "ip_diffim_DipoleFit_neg_x: 978.112\n",
      "ip_diffim_DipoleFit_neg_y: 408.416\n",
      "ip_diffim_DipoleFit_x: 978.158\n",
      "ip_diffim_DipoleFit_y: 408.443\n",
      "ip_diffim_DipoleFit_xErr: nan\n",
      "ip_diffim_DipoleFit_yErr: nan\n",
      "ip_diffim_DipoleFit_orientation: 31.201\n",
      "ip_diffim_DipoleFit_separation: 0.106243\n",
      "ip_diffim_DipoleFit_chi2dof: 3.12644e+06\n",
      "ip_diffim_DipoleFit_nData: 2880\n",
      "ip_diffim_DipoleFit_signalToNoise: 6084.41\n",
      "ip_diffim_DipoleFit_flag_classification: 1\n",
      "ip_diffim_DipoleFit_flag_classificationAttempted: 1\n",
      "ip_diffim_DipoleFit_flag: 0\n",
      "ip_diffim_DipoleFit_flag_edge: 0\n",
      "base_SdssShape_xx: 8.17997\n",
      "base_SdssShape_yy: 12.604\n",
      "base_SdssShape_xy: -1.07678\n",
      "base_SdssShape_xxErr: nan\n",
      "base_SdssShape_yyErr: nan\n",
      "base_SdssShape_xyErr: nan\n",
      "base_SdssShape_x: 975.444\n",
      "base_SdssShape_y: 409.917\n",
      "base_SdssShape_instFlux: nan\n",
      "base_SdssShape_instFluxErr: nan\n",
      "base_SdssShape_psf_xx: 2.07924\n",
      "base_SdssShape_psf_yy: 2.06776\n",
      "base_SdssShape_psf_xy: 0.0346304\n",
      "base_SdssShape_instFlux_xx_Cov: nan\n",
      "base_SdssShape_instFlux_yy_Cov: nan\n",
      "base_SdssShape_instFlux_xy_Cov: nan\n",
      "base_SdssShape_flag: 1\n",
      "base_SdssShape_flag_unweightedBad: 0\n",
      "base_SdssShape_flag_unweighted: 1\n",
      "base_SdssShape_flag_shift: 0\n",
      "base_SdssShape_flag_maxIter: 0\n",
      "base_SdssShape_flag_psf: 0\n",
      "ext_shapeHSM_HsmPsfMoments_flag: 0\n",
      "ext_shapeHSM_HsmPsfMoments_flag_no_pixels: 0\n",
      "ext_shapeHSM_HsmPsfMoments_flag_not_contained: 0\n",
      "ext_shapeHSM_HsmPsfMoments_flag_parent_source: 0\n",
      "ext_shapeHSM_HsmPsfMoments_flag_galsim: 0\n",
      "ext_shapeHSM_HsmPsfMoments_flag_invalid_param: 0\n",
      "ext_shapeHSM_HsmPsfMoments_flag_edge: 0\n",
      "ext_shapeHSM_HsmPsfMoments_flag_no_psf: 0\n",
      "ext_shapeHSM_HsmPsfMoments_x: 0.000398167\n",
      "ext_shapeHSM_HsmPsfMoments_y: 0.000105456\n",
      "ext_shapeHSM_HsmPsfMoments_xx: 2.08002\n",
      "ext_shapeHSM_HsmPsfMoments_yy: 2.0685\n",
      "ext_shapeHSM_HsmPsfMoments_xy: 0.0344729\n",
      "ext_shapeHSM_HsmSourceMoments_flag: 0\n",
      "ext_shapeHSM_HsmSourceMoments_flag_no_pixels: 0\n",
      "ext_shapeHSM_HsmSourceMoments_flag_not_contained: 0\n",
      "ext_shapeHSM_HsmSourceMoments_flag_parent_source: 0\n",
      "ext_shapeHSM_HsmSourceMoments_flag_galsim: 0\n",
      "ext_shapeHSM_HsmSourceMoments_flag_invalid_param: 0\n",
      "ext_shapeHSM_HsmSourceMoments_flag_edge: 0\n",
      "ext_shapeHSM_HsmSourceMoments_flag_no_psf: 0\n",
      "ext_shapeHSM_HsmSourceMoments_x: 977.472\n",
      "ext_shapeHSM_HsmSourceMoments_y: 408.265\n",
      "ext_shapeHSM_HsmSourceMoments_xx: 8.24453\n",
      "ext_shapeHSM_HsmSourceMoments_yy: 6.2507\n",
      "ext_shapeHSM_HsmSourceMoments_xy: -0.944413\n",
      "base_CircularApertureFlux_12_0_instFlux: 115183\n",
      "base_CircularApertureFlux_12_0_instFluxErr: 1314.92\n",
      "base_CircularApertureFlux_12_0_flag: 0\n",
      "base_CircularApertureFlux_12_0_flag_apertureTruncated: 0\n",
      "base_GaussianFlux_instFlux: 70170.5\n",
      "base_GaussianFlux_instFluxErr: 1174.57\n",
      "base_GaussianFlux_flag: 0\n",
      "base_LocalPhotoCalib_flag: 0\n",
      "base_LocalPhotoCalib: 1\n",
      "base_LocalPhotoCalibErr: 0.000143731\n",
      "base_LocalWcs_flag: 0\n",
      "base_LocalWcs_CDMatrix_1_1: 9.55253e-07\n",
      "base_LocalWcs_CDMatrix_1_2: 1.68953e-07\n",
      "base_LocalWcs_CDMatrix_2_1: 1.69039e-07\n",
      "base_LocalWcs_CDMatrix_2_2: -9.55238e-07\n",
      "base_PeakLikelihoodFlux_instFlux: 159821\n",
      "base_PeakLikelihoodFlux_instFluxErr: 2968.99\n",
      "base_PeakLikelihoodFlux_flag: 0\n",
      "base_PixelFlags_flag: 0\n",
      "base_PixelFlags_flag_offimage: 0\n",
      "base_PixelFlags_flag_edge: 0\n",
      "base_PixelFlags_flag_interpolated: 1\n",
      "base_PixelFlags_flag_saturated: 1\n",
      "base_PixelFlags_flag_cr: 0\n",
      "base_PixelFlags_flag_bad: 0\n",
      "base_PixelFlags_flag_suspect: 0\n",
      "base_PixelFlags_flag_edgeCenter: 0\n",
      "base_PixelFlags_flag_interpolatedCenter: 0\n",
      "base_PixelFlags_flag_saturatedCenter: 0\n",
      "base_PixelFlags_flag_crCenter: 0\n",
      "base_PixelFlags_flag_badCenter: 0\n",
      "base_PixelFlags_flag_suspectCenter: 0\n",
      "base_PixelFlags_flag_edgeCenterAll: 0\n",
      "base_PixelFlags_flag_interpolatedCenterAll: 0\n",
      "base_PixelFlags_flag_saturatedCenterAll: 0\n",
      "base_PixelFlags_flag_crCenterAll: 0\n",
      "base_PixelFlags_flag_badCenterAll: 0\n",
      "base_PixelFlags_flag_suspectCenterAll: 0\n",
      "base_PixelFlags_flag_streakCenter: 0\n",
      "base_PixelFlags_flag_injectedCenter: 0\n",
      "base_PixelFlags_flag_injected_templateCenter: 0\n",
      "base_PixelFlags_flag_streakCenterAll: 0\n",
      "base_PixelFlags_flag_injectedCenterAll: 0\n",
      "base_PixelFlags_flag_injected_templateCenterAll: 0\n",
      "base_PixelFlags_flag_streak: 0\n",
      "base_PixelFlags_flag_injected: 0\n",
      "base_PixelFlags_flag_injected_template: 0\n",
      "base_PsfFlux_instFlux: 78534.4\n",
      "base_PsfFlux_instFluxErr: 659.981\n",
      "base_PsfFlux_area: 31.4244\n",
      "base_PsfFlux_chi2: 220577\n",
      "base_PsfFlux_npixels: 1681\n",
      "base_PsfFlux_flag: 0\n",
      "base_PsfFlux_flag_noGoodPixels: 0\n",
      "base_PsfFlux_flag_edge: 0\n",
      "ext_trailedSources_Naive_ra: 299.736\n",
      "ext_trailedSources_Naive_dec: -40.7781\n",
      "ext_trailedSources_Naive_x0: -nan\n",
      "ext_trailedSources_Naive_y0: -nan\n",
      "ext_trailedSources_Naive_x1: -nan\n",
      "ext_trailedSources_Naive_y1: -nan\n",
      "ext_trailedSources_Naive_flux: 115183\n",
      "ext_trailedSources_Naive_length: -nan\n",
      "ext_trailedSources_Naive_angle: -0.379181\n",
      "ext_trailedSources_Naive_x0Err: -nan\n",
      "ext_trailedSources_Naive_y0Err: -nan\n",
      "ext_trailedSources_Naive_x1Err: -nan\n",
      "ext_trailedSources_Naive_y1Err: -nan\n",
      "ext_trailedSources_Naive_fluxErr: nan\n",
      "ext_trailedSources_Naive_lengthErr: -nan\n",
      "ext_trailedSources_Naive_angleErr: 0\n",
      "ext_trailedSources_Naive_flag: 0\n",
      "ext_trailedSources_Naive_flag_noFlux: 0\n",
      "ext_trailedSources_Naive_flag_noConverge: 0\n",
      "ext_trailedSources_Naive_flag_noSigma: 0\n",
      "ext_trailedSources_Naive_flag_safeCentroid: 0\n",
      "ext_trailedSources_Naive_flag_edge: 1\n",
      "ext_trailedSources_Naive_flag_shape: 0\n",
      "base_GaussianFlux_apCorr: 1.10373\n",
      "base_GaussianFlux_apCorrErr: 0\n",
      "base_GaussianFlux_flag_apCorr: 0\n",
      "base_PsfFlux_apCorr: 0.99352\n",
      "base_PsfFlux_apCorrErr: 0\n",
      "base_PsfFlux_flag_apCorr: 0\n",
      "ip_diffim_forced_PsfFlux_instFlux: 510489\n",
      "ip_diffim_forced_PsfFlux_instFluxErr: 643.335\n",
      "ip_diffim_forced_PsfFlux_area: 32.7049\n",
      "ip_diffim_forced_PsfFlux_flag: 0\n",
      "ip_diffim_forced_PsfFlux_flag_noGoodPixels: 0\n",
      "ip_diffim_forced_PsfFlux_flag_edge: 0\n",
      "refMatchId: 0\n",
      "srcMatchId: 0\n",
      "sky_source: 0\n",
      "\n"
     ]
    }
   ],
   "source": [
    "plot_footprint(0, 7024040400780, 3065509624502288434,'goodSeeingDiff_diaSrc')"
   ]
  },
  {
   "cell_type": "markdown",
   "id": "90df8e32-0e66-45d0-b9bd-a89d3ddf211f",
   "metadata": {},
   "source": [
    "The above source is a point source which happens to fall on edge pixels. It this gets flagged and filtered out, despute it not containing a trail length. Note that it also had the unwighted Sdss shape flag set, which allowed it to get an invalid trail length and continue on in the trail measurement code instead of falling out and being marked as a non-trailed source. This appears to be the main source of the eronously flagged point sources."
   ]
  },
  {
   "cell_type": "markdown",
   "id": "3d3476b1-a7d8-40fa-b9d9-c749ae1b9568",
   "metadata": {},
   "source": [
    "# Scratchwork"
   ]
  },
  {
   "cell_type": "code",
   "execution_count": 104,
   "id": "c65040c0-9fa8-47a9-93f4-a9425723507c",
   "metadata": {
    "execution": {
     "iopub.execute_input": "2024-05-17T22:56:08.213573Z",
     "iopub.status.busy": "2024-05-17T22:56:08.213041Z",
     "iopub.status.idle": "2024-05-17T22:56:08.864427Z",
     "shell.execute_reply": "2024-05-17T22:56:08.863908Z",
     "shell.execute_reply.started": "2024-05-17T22:56:08.213559Z"
    }
   },
   "outputs": [],
   "source": [
    "calexp=butler.get('goodSeeingDiff_differenceExp', visit = 7024040400780, detector = 0)"
   ]
  },
  {
   "cell_type": "code",
   "execution_count": 109,
   "id": "60cdf6e4-f5c7-43f9-9ac6-7e43d053e07c",
   "metadata": {
    "execution": {
     "iopub.execute_input": "2024-05-17T22:59:52.868686Z",
     "iopub.status.busy": "2024-05-17T22:59:52.868502Z",
     "iopub.status.idle": "2024-05-17T22:59:52.897259Z",
     "shell.execute_reply": "2024-05-17T22:59:52.896883Z",
     "shell.execute_reply.started": "2024-05-17T22:59:52.868674Z"
    }
   },
   "outputs": [],
   "source": [
    "catalog = butler.get('goodSeeingDiff_diaSrc', visit = 7024040400780, detector = 0)\n",
    "record = catalog.find(3065509624502288434)"
   ]
  },
  {
   "cell_type": "code",
   "execution_count": 85,
   "id": "1aa4f633-7a94-4d34-8f0e-6e5c3e20bea7",
   "metadata": {
    "execution": {
     "iopub.execute_input": "2024-05-17T22:48:32.825895Z",
     "iopub.status.busy": "2024-05-17T22:48:32.825706Z",
     "iopub.status.idle": "2024-05-17T22:48:32.852916Z",
     "shell.execute_reply": "2024-05-17T22:48:32.852477Z",
     "shell.execute_reply.started": "2024-05-17T22:48:32.825882Z"
    }
   },
   "outputs": [],
   "source": [
    "catalog = butler.get('goodSeeingDiff_diaSrc', visit = 7024040400780, detector = 0)"
   ]
  },
  {
   "cell_type": "code",
   "execution_count": 86,
   "id": "df435d53-1dff-4c78-a873-cfa5aba19922",
   "metadata": {
    "execution": {
     "iopub.execute_input": "2024-05-17T22:48:36.225246Z",
     "iopub.status.busy": "2024-05-17T22:48:36.224791Z",
     "iopub.status.idle": "2024-05-17T22:48:36.227432Z",
     "shell.execute_reply": "2024-05-17T22:48:36.227083Z",
     "shell.execute_reply.started": "2024-05-17T22:48:36.225232Z"
    },
    "scrolled": true
   },
   "outputs": [],
   "source": [
    "record=catalog.find(3065509624502288434)"
   ]
  },
  {
   "cell_type": "code",
   "execution_count": 87,
   "id": "eec53c0b-bc17-443b-8832-088d65aba3e3",
   "metadata": {
    "execution": {
     "iopub.execute_input": "2024-05-17T22:48:38.459508Z",
     "iopub.status.busy": "2024-05-17T22:48:38.458875Z",
     "iopub.status.idle": "2024-05-17T22:48:38.461534Z",
     "shell.execute_reply": "2024-05-17T22:48:38.461151Z",
     "shell.execute_reply.started": "2024-05-17T22:48:38.459494Z"
    }
   },
   "outputs": [],
   "source": [
    "footprint=record.getFootprint()"
   ]
  },
  {
   "cell_type": "code",
   "execution_count": 88,
   "id": "b04e1f45-f3f0-446d-a72b-c5c99c9e781e",
   "metadata": {
    "execution": {
     "iopub.execute_input": "2024-05-17T22:48:39.059609Z",
     "iopub.status.busy": "2024-05-17T22:48:39.059199Z",
     "iopub.status.idle": "2024-05-17T22:48:39.061549Z",
     "shell.execute_reply": "2024-05-17T22:48:39.061189Z",
     "shell.execute_reply.started": "2024-05-17T22:48:39.059596Z"
    }
   },
   "outputs": [],
   "source": [
    "bbox=footprint.getBBox()"
   ]
  },
  {
   "cell_type": "code",
   "execution_count": 90,
   "id": "aa960333-b655-414d-8680-b3f682526957",
   "metadata": {
    "execution": {
     "iopub.execute_input": "2024-05-17T22:48:45.126603Z",
     "iopub.status.busy": "2024-05-17T22:48:45.126027Z",
     "iopub.status.idle": "2024-05-17T22:48:45.129297Z",
     "shell.execute_reply": "2024-05-17T22:48:45.128959Z",
     "shell.execute_reply.started": "2024-05-17T22:48:45.126588Z"
    }
   },
   "outputs": [
    {
     "data": {
      "text/plain": [
       "Box2I(corner=Point2I(961, 393), dimensions=Extent2I(32, 30))"
      ]
     },
     "execution_count": 90,
     "metadata": {},
     "output_type": "execute_result"
    }
   ],
   "source": [
    "bbox"
   ]
  },
  {
   "cell_type": "code",
   "execution_count": 84,
   "id": "d67e842c-6258-4178-8327-3196fbe7dcc6",
   "metadata": {
    "execution": {
     "iopub.execute_input": "2024-05-17T22:42:14.957117Z",
     "iopub.status.busy": "2024-05-17T22:42:14.956715Z",
     "iopub.status.idle": "2024-05-17T22:42:14.980264Z",
     "shell.execute_reply": "2024-05-17T22:42:14.979870Z",
     "shell.execute_reply.started": "2024-05-17T22:42:14.957103Z"
    }
   },
   "outputs": [],
   "source": [
    "dataframe = butler.get('goodSeeingDiff_diaSrc', visit = 7024040400780, detector = 0)"
   ]
  },
  {
   "cell_type": "code",
   "execution_count": 76,
   "id": "9d6d0b72-b01a-4dc2-861f-9552c45f2f9a",
   "metadata": {
    "execution": {
     "iopub.execute_input": "2024-05-17T22:17:29.332959Z",
     "iopub.status.busy": "2024-05-17T22:17:29.332537Z",
     "iopub.status.idle": "2024-05-17T22:17:29.335108Z",
     "shell.execute_reply": "2024-05-17T22:17:29.334731Z",
     "shell.execute_reply.started": "2024-05-17T22:17:29.332946Z"
    }
   },
   "outputs": [],
   "source": [
    "bbox_sources=dataframe.bboxSize"
   ]
  },
  {
   "cell_type": "code",
   "execution_count": 115,
   "id": "05f17cc9-12d5-47c5-b29f-f739b0b2715e",
   "metadata": {
    "execution": {
     "iopub.execute_input": "2024-05-17T23:51:29.097177Z",
     "iopub.status.busy": "2024-05-17T23:51:29.096767Z",
     "iopub.status.idle": "2024-05-17T23:51:29.100022Z",
     "shell.execute_reply": "2024-05-17T23:51:29.099706Z",
     "shell.execute_reply.started": "2024-05-17T23:51:29.097163Z"
    }
   },
   "outputs": [
    {
     "data": {
      "text/plain": [
       "array([[0., 0., 0.],\n",
       "       [0., 0., 0.],\n",
       "       [0., 0., 0.]], dtype=float32)"
      ]
     },
     "execution_count": 115,
     "metadata": {},
     "output_type": "execute_result"
    }
   ],
   "source": [
    "record.getShapeErr()"
   ]
  },
  {
   "cell_type": "markdown",
   "id": "ee2c13b0-793e-4dda-99e0-92e5b84a0c29",
   "metadata": {},
   "source": [
    "Looking at the record, we can see multiple unusual things going on, specifically with the shape flags. This source has the Sdssshape flag set, however it was still processed and not immediatly returned. However, the shape flag it was using was not the SdssShape flag but the HSM flag. This, combined with manual usage of Sdss measurements, started some of the problems. Additionally, with the flag set the uneweighted flag was also set, sending the "
   ]
  },
  {
   "cell_type": "code",
   "execution_count": 114,
   "id": "cf87fd46-67fc-4c56-8027-27ded49b7bcf",
   "metadata": {
    "execution": {
     "iopub.execute_input": "2024-05-17T23:50:41.694858Z",
     "iopub.status.busy": "2024-05-17T23:50:41.694655Z",
     "iopub.status.idle": "2024-05-17T23:50:41.698436Z",
     "shell.execute_reply": "2024-05-17T23:50:41.698049Z",
     "shell.execute_reply.started": "2024-05-17T23:50:41.694843Z"
    },
    "scrolled": true
   },
   "outputs": [
    {
     "data": {
      "text/plain": [
       "<class 'lsst.afw.table.SourceRecord'>\n",
       "id: 3065509624502288434\n",
       "coord_ra: 5.23138 rad\n",
       "coord_dec: -0.711712 rad\n",
       "parent: 0\n",
       "coord_raErr: 8.31525e-09\n",
       "coord_decErr: 1.47874e-08\n",
       "coord_ra_dec_Cov: -1.35533e-17\n",
       "flags_negative: 0\n",
       "deblend_nChild: 0\n",
       "deblend_deblendedAsPsf: 0\n",
       "deblend_psfCenter_x: nan\n",
       "deblend_psfCenter_y: nan\n",
       "deblend_psf_instFlux: nan\n",
       "deblend_tooManyPeaks: 0\n",
       "deblend_parentTooBig: 0\n",
       "deblend_masked: 0\n",
       "deblend_failed: 0\n",
       "deblend_skipped: 0\n",
       "deblend_rampedTemplate: 0\n",
       "deblend_patchedTemplate: 0\n",
       "deblend_hasStrayFlux: 0\n",
       "deblend_peak_center_x: 0\n",
       "deblend_peak_center_y: 0\n",
       "deblend_peakId: 0\n",
       "deblend_nPeaks: 0\n",
       "deblend_parentNPeaks: 0\n",
       "detect_isPrimary: 0\n",
       "detect_isDeblendedSource: 0\n",
       "detect_fromBlend: 0\n",
       "detect_isIsolated: 0\n",
       "base_SdssCentroid_x: 975.284\n",
       "base_SdssCentroid_y: 409.916\n",
       "base_SdssCentroid_xErr: 0.01117\n",
       "base_SdssCentroid_yErr: 0.0153536\n",
       "base_SdssCentroid_flag: 0\n",
       "base_SdssCentroid_flag_edge: 0\n",
       "base_SdssCentroid_flag_noSecondDerivative: 0\n",
       "base_SdssCentroid_flag_almostNoSecondDerivative: 0\n",
       "base_SdssCentroid_flag_notAtMaximum: 0\n",
       "base_SdssCentroid_flag_near_edge: 0\n",
       "base_SdssCentroid_flag_resetToPeak: 0\n",
       "base_SdssCentroid_flag_badError: 0\n",
       "ip_diffim_DipoleFit_pos_instFlux: 1.27589e+06\n",
       "ip_diffim_DipoleFit_pos_instFluxErr: 6084.41\n",
       "ip_diffim_DipoleFit_neg_instFlux: -1.27589e+06\n",
       "ip_diffim_DipoleFit_neg_instFluxErr: 6084.41\n",
       "ip_diffim_DipoleFit_instFlux: 1.27589e+06\n",
       "ip_diffim_DipoleFit_instFluxErr: nan\n",
       "ip_diffim_DipoleFit_pos_x: 978.203\n",
       "ip_diffim_DipoleFit_pos_y: 408.471\n",
       "ip_diffim_DipoleFit_neg_x: 978.112\n",
       "ip_diffim_DipoleFit_neg_y: 408.416\n",
       "ip_diffim_DipoleFit_x: 978.158\n",
       "ip_diffim_DipoleFit_y: 408.443\n",
       "ip_diffim_DipoleFit_xErr: nan\n",
       "ip_diffim_DipoleFit_yErr: nan\n",
       "ip_diffim_DipoleFit_orientation: 31.201\n",
       "ip_diffim_DipoleFit_separation: 0.106243\n",
       "ip_diffim_DipoleFit_chi2dof: 3.12644e+06\n",
       "ip_diffim_DipoleFit_nData: 2880\n",
       "ip_diffim_DipoleFit_signalToNoise: 6084.41\n",
       "ip_diffim_DipoleFit_flag_classification: 1\n",
       "ip_diffim_DipoleFit_flag_classificationAttempted: 1\n",
       "ip_diffim_DipoleFit_flag: 0\n",
       "ip_diffim_DipoleFit_flag_edge: 0\n",
       "base_SdssShape_xx: 8.17997\n",
       "base_SdssShape_yy: 12.604\n",
       "base_SdssShape_xy: -1.07678\n",
       "base_SdssShape_xxErr: nan\n",
       "base_SdssShape_yyErr: nan\n",
       "base_SdssShape_xyErr: nan\n",
       "base_SdssShape_x: 975.444\n",
       "base_SdssShape_y: 409.917\n",
       "base_SdssShape_instFlux: nan\n",
       "base_SdssShape_instFluxErr: nan\n",
       "base_SdssShape_psf_xx: 2.07924\n",
       "base_SdssShape_psf_yy: 2.06776\n",
       "base_SdssShape_psf_xy: 0.0346304\n",
       "base_SdssShape_instFlux_xx_Cov: nan\n",
       "base_SdssShape_instFlux_yy_Cov: nan\n",
       "base_SdssShape_instFlux_xy_Cov: nan\n",
       "base_SdssShape_flag: 1\n",
       "base_SdssShape_flag_unweightedBad: 0\n",
       "base_SdssShape_flag_unweighted: 1\n",
       "base_SdssShape_flag_shift: 0\n",
       "base_SdssShape_flag_maxIter: 0\n",
       "base_SdssShape_flag_psf: 0\n",
       "ext_shapeHSM_HsmPsfMoments_flag: 0\n",
       "ext_shapeHSM_HsmPsfMoments_flag_no_pixels: 0\n",
       "ext_shapeHSM_HsmPsfMoments_flag_not_contained: 0\n",
       "ext_shapeHSM_HsmPsfMoments_flag_parent_source: 0\n",
       "ext_shapeHSM_HsmPsfMoments_flag_galsim: 0\n",
       "ext_shapeHSM_HsmPsfMoments_flag_invalid_param: 0\n",
       "ext_shapeHSM_HsmPsfMoments_flag_edge: 0\n",
       "ext_shapeHSM_HsmPsfMoments_flag_no_psf: 0\n",
       "ext_shapeHSM_HsmPsfMoments_x: 0.000398167\n",
       "ext_shapeHSM_HsmPsfMoments_y: 0.000105456\n",
       "ext_shapeHSM_HsmPsfMoments_xx: 2.08002\n",
       "ext_shapeHSM_HsmPsfMoments_yy: 2.0685\n",
       "ext_shapeHSM_HsmPsfMoments_xy: 0.0344729\n",
       "ext_shapeHSM_HsmSourceMoments_flag: 0\n",
       "ext_shapeHSM_HsmSourceMoments_flag_no_pixels: 0\n",
       "ext_shapeHSM_HsmSourceMoments_flag_not_contained: 0\n",
       "ext_shapeHSM_HsmSourceMoments_flag_parent_source: 0\n",
       "ext_shapeHSM_HsmSourceMoments_flag_galsim: 0\n",
       "ext_shapeHSM_HsmSourceMoments_flag_invalid_param: 0\n",
       "ext_shapeHSM_HsmSourceMoments_flag_edge: 0\n",
       "ext_shapeHSM_HsmSourceMoments_flag_no_psf: 0\n",
       "ext_shapeHSM_HsmSourceMoments_x: 977.472\n",
       "ext_shapeHSM_HsmSourceMoments_y: 408.265\n",
       "ext_shapeHSM_HsmSourceMoments_xx: 8.24453\n",
       "ext_shapeHSM_HsmSourceMoments_yy: 6.2507\n",
       "ext_shapeHSM_HsmSourceMoments_xy: -0.944413\n",
       "base_CircularApertureFlux_12_0_instFlux: 115183\n",
       "base_CircularApertureFlux_12_0_instFluxErr: 1314.92\n",
       "base_CircularApertureFlux_12_0_flag: 0\n",
       "base_CircularApertureFlux_12_0_flag_apertureTruncated: 0\n",
       "base_GaussianFlux_instFlux: 70170.5\n",
       "base_GaussianFlux_instFluxErr: 1174.57\n",
       "base_GaussianFlux_flag: 0\n",
       "base_LocalPhotoCalib_flag: 0\n",
       "base_LocalPhotoCalib: 1\n",
       "base_LocalPhotoCalibErr: 0.000143731\n",
       "base_LocalWcs_flag: 0\n",
       "base_LocalWcs_CDMatrix_1_1: 9.55253e-07\n",
       "base_LocalWcs_CDMatrix_1_2: 1.68953e-07\n",
       "base_LocalWcs_CDMatrix_2_1: 1.69039e-07\n",
       "base_LocalWcs_CDMatrix_2_2: -9.55238e-07\n",
       "base_PeakLikelihoodFlux_instFlux: 159821\n",
       "base_PeakLikelihoodFlux_instFluxErr: 2968.99\n",
       "base_PeakLikelihoodFlux_flag: 0\n",
       "base_PixelFlags_flag: 0\n",
       "base_PixelFlags_flag_offimage: 0\n",
       "base_PixelFlags_flag_edge: 0\n",
       "base_PixelFlags_flag_interpolated: 1\n",
       "base_PixelFlags_flag_saturated: 1\n",
       "base_PixelFlags_flag_cr: 0\n",
       "base_PixelFlags_flag_bad: 0\n",
       "base_PixelFlags_flag_suspect: 0\n",
       "base_PixelFlags_flag_edgeCenter: 0\n",
       "base_PixelFlags_flag_interpolatedCenter: 0\n",
       "base_PixelFlags_flag_saturatedCenter: 0\n",
       "base_PixelFlags_flag_crCenter: 0\n",
       "base_PixelFlags_flag_badCenter: 0\n",
       "base_PixelFlags_flag_suspectCenter: 0\n",
       "base_PixelFlags_flag_edgeCenterAll: 0\n",
       "base_PixelFlags_flag_interpolatedCenterAll: 0\n",
       "base_PixelFlags_flag_saturatedCenterAll: 0\n",
       "base_PixelFlags_flag_crCenterAll: 0\n",
       "base_PixelFlags_flag_badCenterAll: 0\n",
       "base_PixelFlags_flag_suspectCenterAll: 0\n",
       "base_PixelFlags_flag_streakCenter: 0\n",
       "base_PixelFlags_flag_injectedCenter: 0\n",
       "base_PixelFlags_flag_injected_templateCenter: 0\n",
       "base_PixelFlags_flag_streakCenterAll: 0\n",
       "base_PixelFlags_flag_injectedCenterAll: 0\n",
       "base_PixelFlags_flag_injected_templateCenterAll: 0\n",
       "base_PixelFlags_flag_streak: 0\n",
       "base_PixelFlags_flag_injected: 0\n",
       "base_PixelFlags_flag_injected_template: 0\n",
       "base_PsfFlux_instFlux: 78534.4\n",
       "base_PsfFlux_instFluxErr: 659.981\n",
       "base_PsfFlux_area: 31.4244\n",
       "base_PsfFlux_chi2: 220577\n",
       "base_PsfFlux_npixels: 1681\n",
       "base_PsfFlux_flag: 0\n",
       "base_PsfFlux_flag_noGoodPixels: 0\n",
       "base_PsfFlux_flag_edge: 0\n",
       "ext_trailedSources_Naive_ra: 299.736\n",
       "ext_trailedSources_Naive_dec: -40.7781\n",
       "ext_trailedSources_Naive_x0: -nan\n",
       "ext_trailedSources_Naive_y0: -nan\n",
       "ext_trailedSources_Naive_x1: -nan\n",
       "ext_trailedSources_Naive_y1: -nan\n",
       "ext_trailedSources_Naive_flux: 115183\n",
       "ext_trailedSources_Naive_length: -nan\n",
       "ext_trailedSources_Naive_angle: -0.379181\n",
       "ext_trailedSources_Naive_x0Err: -nan\n",
       "ext_trailedSources_Naive_y0Err: -nan\n",
       "ext_trailedSources_Naive_x1Err: -nan\n",
       "ext_trailedSources_Naive_y1Err: -nan\n",
       "ext_trailedSources_Naive_fluxErr: nan\n",
       "ext_trailedSources_Naive_lengthErr: -nan\n",
       "ext_trailedSources_Naive_angleErr: 0\n",
       "ext_trailedSources_Naive_flag: 0\n",
       "ext_trailedSources_Naive_flag_noFlux: 0\n",
       "ext_trailedSources_Naive_flag_noConverge: 0\n",
       "ext_trailedSources_Naive_flag_noSigma: 0\n",
       "ext_trailedSources_Naive_flag_safeCentroid: 0\n",
       "ext_trailedSources_Naive_flag_edge: 1\n",
       "ext_trailedSources_Naive_flag_shape: 0\n",
       "base_GaussianFlux_apCorr: 1.10373\n",
       "base_GaussianFlux_apCorrErr: 0\n",
       "base_GaussianFlux_flag_apCorr: 0\n",
       "base_PsfFlux_apCorr: 0.99352\n",
       "base_PsfFlux_apCorrErr: 0\n",
       "base_PsfFlux_flag_apCorr: 0\n",
       "ip_diffim_forced_PsfFlux_instFlux: 510489\n",
       "ip_diffim_forced_PsfFlux_instFluxErr: 643.335\n",
       "ip_diffim_forced_PsfFlux_area: 32.7049\n",
       "ip_diffim_forced_PsfFlux_flag: 0\n",
       "ip_diffim_forced_PsfFlux_flag_noGoodPixels: 0\n",
       "ip_diffim_forced_PsfFlux_flag_edge: 0\n",
       "refMatchId: 0\n",
       "srcMatchId: 0\n",
       "sky_source: 0"
      ]
     },
     "execution_count": 114,
     "metadata": {},
     "output_type": "execute_result"
    }
   ],
   "source": [
    "record"
   ]
  },
  {
   "cell_type": "code",
   "execution_count": 118,
   "id": "33eb7937-77db-4a93-89de-7299418b9626",
   "metadata": {
    "execution": {
     "iopub.execute_input": "2024-05-18T00:12:48.539033Z",
     "iopub.status.busy": "2024-05-18T00:12:48.538632Z",
     "iopub.status.idle": "2024-05-18T00:12:48.541814Z",
     "shell.execute_reply": "2024-05-18T00:12:48.541470Z",
     "shell.execute_reply.started": "2024-05-18T00:12:48.539019Z"
    }
   },
   "outputs": [
    {
     "data": {
      "text/plain": [
       "8.244526476004024"
      ]
     },
     "execution_count": 118,
     "metadata": {},
     "output_type": "execute_result"
    }
   ],
   "source": [
    "record.getShape().getIxx()"
   ]
  }
 ],
 "metadata": {
  "kernelspec": {
   "display_name": "LSST",
   "language": "python",
   "name": "lsst"
  },
  "language_info": {
   "codemirror_mode": {
    "name": "ipython",
    "version": 3
   },
   "file_extension": ".py",
   "mimetype": "text/x-python",
   "name": "python",
   "nbconvert_exporter": "python",
   "pygments_lexer": "ipython3",
   "version": "3.11.7"
  }
 },
 "nbformat": 4,
 "nbformat_minor": 5
}
