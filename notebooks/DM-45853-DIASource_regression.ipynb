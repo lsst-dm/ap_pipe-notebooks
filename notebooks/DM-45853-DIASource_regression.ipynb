{
 "cells": [
  {
   "cell_type": "markdown",
   "id": "f0530659-3815-481e-9b8d-55e3dfacd074",
   "metadata": {},
   "source": [
    "<img align=\"left\" src = https://project.lsst.org/sites/default/files/Rubin-O-Logo_0.png width=250 style=\"padding: 10px\"> \n",
    "<br>\n",
    "<b>DM-45853: Investigate increase in unassociated DIASources after Replace LoadDiaCatalogs with a PipelineTask</b> <br>\n",
    "Contact author: Eric Bellm<br>\n",
    "Last verified to run: August 26, 2024<br>\n",
    "LSST Science Piplines version: w_2024_32<br>\n",
    "Container Size: Medium<br>"
   ]
  },
  {
   "cell_type": "markdown",
   "id": "b7c5b8af-def5-48bd-8002-e2164caae265",
   "metadata": {},
   "source": [
    "## Analysis Summary\n",
    "\n",
    "* \n",
    "\n",
    "## Table of Contents\n",
    "\n",
    "1. [Imports, Helper Functions, and Loading](#section_1)"
   ]
  },
  {
   "cell_type": "markdown",
   "id": "98b71161-f682-4490-8360-9b8ffc1bf840",
   "metadata": {},
   "source": [
    "## 1. <a id=\"section_1\">Imports, Helper Functions, and Loading</a>"
   ]
  },
  {
   "cell_type": "code",
   "execution_count": 9,
   "id": "5cee9fc1-18b9-4034-bef6-bd990a9f06b1",
   "metadata": {
    "execution": {
     "iopub.execute_input": "2024-08-26T20:34:00.518316Z",
     "iopub.status.busy": "2024-08-26T20:34:00.518007Z",
     "iopub.status.idle": "2024-08-26T20:34:00.521564Z",
     "shell.execute_reply": "2024-08-26T20:34:00.521147Z",
     "shell.execute_reply.started": "2024-08-26T20:34:00.518301Z"
    },
    "tags": []
   },
   "outputs": [],
   "source": [
    "import numpy as np\n",
    "import matplotlib.pyplot as plt\n",
    "import lsst.daf.butler as dafButler\n",
    "import functools\n",
    "import operator\n",
    "\n",
    "from lsst.analysis.ap.nb_utils import compare_sources\n",
    "import lsst.analysis.ap.apdb as apdb\n",
    "\n",
    "import warnings\n",
    "warnings.filterwarnings('ignore')\n",
    "warnings.simplefilter('ignore')\n",
    "\n",
    "plt.set_loglevel('WARNING')"
   ]
  },
  {
   "cell_type": "code",
   "execution_count": 30,
   "id": "e1ccab00-ea64-4caf-9428-458686718b2d",
   "metadata": {
    "execution": {
     "iopub.execute_input": "2024-08-26T20:54:21.778185Z",
     "iopub.status.busy": "2024-08-26T20:54:21.777864Z",
     "iopub.status.idle": "2024-08-26T20:54:21.906732Z",
     "shell.execute_reply": "2024-08-26T20:54:21.906328Z",
     "shell.execute_reply.started": "2024-08-26T20:54:21.778169Z"
    }
   },
   "outputs": [],
   "source": [
    "base_dir = '/sdf/group/rubin/user/ebellm/workspace/tickets/DM-45853/cosmos_d_2024_08_13/'\n",
    "repo = base_dir+'/repo'\n",
    "collections = 'ap_verify-output'\n",
    "instrument = 'HSC'\n",
    "skymap = 'hsc_rings_v1'\n",
    "\n",
    "butler_13 = dafButler.Butler(repo, collections=collections)\n",
    "\n",
    "dbType='sqlite'\n",
    "dbName = base_dir+\"association.db\"\n",
    "\n",
    "apdb_query_13 = apdb.ApdbSqliteQuery(dbName, instrument='HSC')\n",
    "cutout_path_13 = base_dir+'/cutouts/'"
   ]
  },
  {
   "cell_type": "code",
   "execution_count": 31,
   "id": "2e3728c4-e872-4e61-94fd-6b921f0586dd",
   "metadata": {
    "execution": {
     "iopub.execute_input": "2024-08-26T20:54:22.112786Z",
     "iopub.status.busy": "2024-08-26T20:54:22.112653Z",
     "iopub.status.idle": "2024-08-26T20:54:22.231777Z",
     "shell.execute_reply": "2024-08-26T20:54:22.231395Z",
     "shell.execute_reply.started": "2024-08-26T20:54:22.112774Z"
    }
   },
   "outputs": [],
   "source": [
    "base_dir = '/sdf/group/rubin/user/ebellm/workspace/tickets/DM-45853/cosmos_d_2024_08_15/'\n",
    "repo = base_dir+'/repo'\n",
    "collections = 'ap_verify-output'\n",
    "instrument = 'HSC'\n",
    "skymap = 'hsc_rings_v1'\n",
    "\n",
    "butler_15 = dafButler.Butler(repo, collections=collections)\n",
    "\n",
    "dbType='sqlite'\n",
    "dbName = base_dir+\"association.db\"\n",
    "\n",
    "apdb_query_15 = apdb.ApdbSqliteQuery(dbName, instrument='HSC')\n",
    "cutout_path_15 = base_dir+'/cutouts/'"
   ]
  },
  {
   "cell_type": "code",
   "execution_count": 34,
   "id": "10951e80-3826-49cf-8897-8db913acb06a",
   "metadata": {
    "execution": {
     "iopub.execute_input": "2024-08-26T20:55:26.688357Z",
     "iopub.status.busy": "2024-08-26T20:55:26.688091Z",
     "iopub.status.idle": "2024-08-26T20:55:26.801746Z",
     "shell.execute_reply": "2024-08-26T20:55:26.801137Z",
     "shell.execute_reply.started": "2024-08-26T20:55:26.688340Z"
    }
   },
   "outputs": [
    {
     "name": "stdout",
     "output_type": "stream",
     "text": [
      "139 matched sources; 0 unique to set 1; 7 unique to set 2.\n"
     ]
    },
    {
     "data": {
      "text/html": [
       "<pre style=\"margin: 0.1em;\n",
       "padding-left: 0.25em;\n",
       "border-left-style: solid;\n",
       "font-family: var(--jp-code-font-family);\n",
       "font-size: var(--jp-code-font-size);\n",
       "line-height: var(--jp-code-line-height);\n",
       "\"><span style=\"color: var(--jp-warn-color2)\">lsst.plotImageSubtractionCutouts</span> <span style=\"color: var(--jp-error-color2)\">ERROR</span>: MissingDatasetTypeError processing diaSourceId 25397870345584738: &quot;Dataset type with name &#x27;calexp&#x27; not found.&quot;</pre>"
      ],
      "text/plain": [
       "<IPython.core.display.HTML object>"
      ]
     },
     "metadata": {},
     "output_type": "display_data"
    },
    {
     "data": {
      "text/html": [
       "<pre style=\"margin: 0.1em;\n",
       "padding-left: 0.25em;\n",
       "border-left-style: solid;\n",
       "font-family: var(--jp-code-font-family);\n",
       "font-size: var(--jp-code-font-size);\n",
       "line-height: var(--jp-code-line-height);\n",
       "\"><span style=\"color: var(--jp-warn-color2)\">lsst.plotImageSubtractionCutouts</span> <span style=\"color: var(--jp-error-color2)\">ERROR</span>: MissingDatasetTypeError processing diaSourceId 25397870345584739: &quot;Dataset type with name &#x27;calexp&#x27; not found.&quot;</pre>"
      ],
      "text/plain": [
       "<IPython.core.display.HTML object>"
      ]
     },
     "metadata": {},
     "output_type": "display_data"
    },
    {
     "data": {
      "text/html": [
       "<pre style=\"margin: 0.1em;\n",
       "padding-left: 0.25em;\n",
       "border-left-style: solid;\n",
       "font-family: var(--jp-code-font-family);\n",
       "font-size: var(--jp-code-font-size);\n",
       "line-height: var(--jp-code-line-height);\n",
       "\"><span style=\"color: var(--jp-warn-color2)\">lsst.plotImageSubtractionCutouts</span> <span style=\"color: var(--jp-error-color2)\">ERROR</span>: MissingDatasetTypeError processing diaSourceId 25397870345584741: &quot;Dataset type with name &#x27;calexp&#x27; not found.&quot;</pre>"
      ],
      "text/plain": [
       "<IPython.core.display.HTML object>"
      ]
     },
     "metadata": {},
     "output_type": "display_data"
    },
    {
     "data": {
      "text/html": [
       "<pre style=\"margin: 0.1em;\n",
       "padding-left: 0.25em;\n",
       "border-left-style: solid;\n",
       "font-family: var(--jp-code-font-family);\n",
       "font-size: var(--jp-code-font-size);\n",
       "line-height: var(--jp-code-line-height);\n",
       "\"><span style=\"color: var(--jp-warn-color2)\">lsst.plotImageSubtractionCutouts</span> <span style=\"color: var(--jp-error-color2)\">ERROR</span>: MissingDatasetTypeError processing diaSourceId 25397870345584745: &quot;Dataset type with name &#x27;calexp&#x27; not found.&quot;</pre>"
      ],
      "text/plain": [
       "<IPython.core.display.HTML object>"
      ]
     },
     "metadata": {},
     "output_type": "display_data"
    },
    {
     "data": {
      "text/html": [
       "<pre style=\"margin: 0.1em;\n",
       "padding-left: 0.25em;\n",
       "border-left-style: solid;\n",
       "font-family: var(--jp-code-font-family);\n",
       "font-size: var(--jp-code-font-size);\n",
       "line-height: var(--jp-code-line-height);\n",
       "\"><span style=\"color: var(--jp-warn-color2)\">lsst.plotImageSubtractionCutouts</span> <span style=\"color: var(--jp-error-color2)\">ERROR</span>: MissingDatasetTypeError processing diaSourceId 25397870345584756: &quot;Dataset type with name &#x27;calexp&#x27; not found.&quot;</pre>"
      ],
      "text/plain": [
       "<IPython.core.display.HTML object>"
      ]
     },
     "metadata": {},
     "output_type": "display_data"
    },
    {
     "data": {
      "text/html": [
       "<pre style=\"margin: 0.1em;\n",
       "padding-left: 0.25em;\n",
       "border-left-style: solid;\n",
       "font-family: var(--jp-code-font-family);\n",
       "font-size: var(--jp-code-font-size);\n",
       "line-height: var(--jp-code-line-height);\n",
       "\"><span style=\"color: var(--jp-warn-color2)\">lsst.plotImageSubtractionCutouts</span> <span style=\"color: var(--jp-error-color2)\">ERROR</span>: MissingDatasetTypeError processing diaSourceId 25397870345584757: &quot;Dataset type with name &#x27;calexp&#x27; not found.&quot;</pre>"
      ],
      "text/plain": [
       "<IPython.core.display.HTML object>"
      ]
     },
     "metadata": {},
     "output_type": "display_data"
    },
    {
     "data": {
      "text/html": [
       "<pre style=\"margin: 0.1em;\n",
       "padding-left: 0.25em;\n",
       "border-left-style: solid;\n",
       "font-family: var(--jp-code-font-family);\n",
       "font-size: var(--jp-code-font-size);\n",
       "line-height: var(--jp-code-line-height);\n",
       "\"><span style=\"color: var(--jp-warn-color2)\">lsst.plotImageSubtractionCutouts</span> <span style=\"color: var(--jp-error-color2)\">ERROR</span>: MissingDatasetTypeError processing diaSourceId 25397870345584764: &quot;Dataset type with name &#x27;calexp&#x27; not found.&quot;</pre>"
      ],
      "text/plain": [
       "<IPython.core.display.HTML object>"
      ]
     },
     "metadata": {},
     "output_type": "display_data"
    },
    {
     "name": "stdout",
     "output_type": "stream",
     "text": [
      "Unique to dataset 2: 25397870345584738\n"
     ]
    },
    {
     "ename": "FileNotFoundError",
     "evalue": "[Errno 2] No such file or directory: '/sdf/group/rubin/user/ebellm/workspace/tickets/DM-45853/cosmos_d_2024_08_15//cutouts/images/25397870345584738.png'",
     "output_type": "error",
     "traceback": [
      "\u001b[0;31m---------------------------------------------------------------------------\u001b[0m",
      "\u001b[0;31mFileNotFoundError\u001b[0m                         Traceback (most recent call last)",
      "Cell \u001b[0;32mIn[34], line 1\u001b[0m\n\u001b[0;32m----> 1\u001b[0m df_only_13, df_only_15, df_matched \u001b[38;5;241m=\u001b[39m \u001b[43mcompare_sources\u001b[49m\u001b[43m(\u001b[49m\u001b[43mbutler_13\u001b[49m\u001b[43m,\u001b[49m\u001b[43m \u001b[49m\u001b[43mbutler_15\u001b[49m\u001b[43m,\u001b[49m\u001b[43m \u001b[49m\u001b[43mapdb_query_13\u001b[49m\u001b[43m,\u001b[49m\u001b[43m \u001b[49m\u001b[43mapdb_query_15\u001b[49m\u001b[43m,\u001b[49m\u001b[43m \u001b[49m\u001b[43mmatch_radius\u001b[49m\u001b[38;5;241;43m=\u001b[39;49m\u001b[38;5;241;43m1\u001b[39;49m\u001b[43m,\u001b[49m\u001b[43m \u001b[49m\n\u001b[1;32m      2\u001b[0m \u001b[43m                                                     \u001b[49m\u001b[43mcutout_path1\u001b[49m\u001b[38;5;241;43m=\u001b[39;49m\u001b[43mcutout_path_13\u001b[49m\u001b[43m,\u001b[49m\u001b[43m \u001b[49m\u001b[43mcutout_path2\u001b[49m\u001b[38;5;241;43m=\u001b[39;49m\u001b[43mcutout_path_15\u001b[49m\u001b[43m,\u001b[49m\n\u001b[1;32m      3\u001b[0m \u001b[43m                                                     \u001b[49m\u001b[43mmake_cutouts\u001b[49m\u001b[38;5;241;43m=\u001b[39;49m\u001b[38;5;28;43;01mTrue\u001b[39;49;00m\u001b[43m,\u001b[49m\u001b[43m \u001b[49m\u001b[43mdisplay_cutouts\u001b[49m\u001b[38;5;241;43m=\u001b[39;49m\u001b[38;5;28;43;01mTrue\u001b[39;49;00m\u001b[43m)\u001b[49m\n",
      "File \u001b[0;32m/sdf/group/rubin/u/ebellm/stack/analysis_ap/python/lsst/analysis/ap/nb_utils.py:269\u001b[0m, in \u001b[0;36mcompare_sources\u001b[0;34m(butler1, butler2, query1, query2, bad_flag_list, match_radius, make_cutouts, display_cutouts, cutout_path1, cutout_path2, cutout_config1, cutout_config2, njobs)\u001b[0m\n\u001b[1;32m    266\u001b[0m         fpath \u001b[38;5;241m=\u001b[39m cpath2(\u001b[38;5;28mint\u001b[39m(isrc\u001b[38;5;241m.\u001b[39mdiaSourceId), \u001b[38;5;124mf\u001b[39m\u001b[38;5;124m\"\u001b[39m\u001b[38;5;132;01m{\u001b[39;00m\u001b[38;5;28mint\u001b[39m(isrc\u001b[38;5;241m.\u001b[39mdiaSourceId)\u001b[38;5;132;01m}\u001b[39;00m\u001b[38;5;124m.png\u001b[39m\u001b[38;5;124m\"\u001b[39m)\n\u001b[1;32m    268\u001b[0m         \u001b[38;5;28mprint\u001b[39m(\u001b[38;5;124m'\u001b[39m\u001b[38;5;124mUnique to dataset 2: \u001b[39m\u001b[38;5;132;01m{}\u001b[39;00m\u001b[38;5;124m'\u001b[39m\u001b[38;5;241m.\u001b[39mformat(\u001b[38;5;28mint\u001b[39m(isrc\u001b[38;5;241m.\u001b[39mdiaSourceId)))\n\u001b[0;32m--> 269\u001b[0m         display(\u001b[43mImage\u001b[49m\u001b[43m(\u001b[49m\u001b[43mfilename\u001b[49m\u001b[38;5;241;43m=\u001b[39;49m\u001b[43mfpath\u001b[49m\u001b[43m)\u001b[49m)\n\u001b[1;32m    271\u001b[0m \u001b[38;5;66;03m# drop pathexists columns to return to original dataframe shape\u001b[39;00m\n\u001b[1;32m    272\u001b[0m _ \u001b[38;5;241m=\u001b[39m unique1\u001b[38;5;241m.\u001b[39mpop(\u001b[38;5;124m'\u001b[39m\u001b[38;5;124mpathexists\u001b[39m\u001b[38;5;124m'\u001b[39m)\n",
      "File \u001b[0;32m/opt/lsst/software/stack/conda/envs/lsst-scipipe-9.0.0/lib/python3.11/site-packages/IPython/core/display.py:970\u001b[0m, in \u001b[0;36mImage.__init__\u001b[0;34m(self, data, url, filename, format, embed, width, height, retina, unconfined, metadata, alt)\u001b[0m\n\u001b[1;32m    968\u001b[0m \u001b[38;5;28mself\u001b[39m\u001b[38;5;241m.\u001b[39munconfined \u001b[38;5;241m=\u001b[39m unconfined\n\u001b[1;32m    969\u001b[0m \u001b[38;5;28mself\u001b[39m\u001b[38;5;241m.\u001b[39malt \u001b[38;5;241m=\u001b[39m alt\n\u001b[0;32m--> 970\u001b[0m \u001b[38;5;28;43msuper\u001b[39;49m\u001b[43m(\u001b[49m\u001b[43mImage\u001b[49m\u001b[43m,\u001b[49m\u001b[43m \u001b[49m\u001b[38;5;28;43mself\u001b[39;49m\u001b[43m)\u001b[49m\u001b[38;5;241;43m.\u001b[39;49m\u001b[38;5;21;43m__init__\u001b[39;49m\u001b[43m(\u001b[49m\u001b[43mdata\u001b[49m\u001b[38;5;241;43m=\u001b[39;49m\u001b[43mdata\u001b[49m\u001b[43m,\u001b[49m\u001b[43m \u001b[49m\u001b[43murl\u001b[49m\u001b[38;5;241;43m=\u001b[39;49m\u001b[43murl\u001b[49m\u001b[43m,\u001b[49m\u001b[43m \u001b[49m\u001b[43mfilename\u001b[49m\u001b[38;5;241;43m=\u001b[39;49m\u001b[43mfilename\u001b[49m\u001b[43m,\u001b[49m\n\u001b[1;32m    971\u001b[0m \u001b[43m        \u001b[49m\u001b[43mmetadata\u001b[49m\u001b[38;5;241;43m=\u001b[39;49m\u001b[43mmetadata\u001b[49m\u001b[43m)\u001b[49m\n\u001b[1;32m    973\u001b[0m \u001b[38;5;28;01mif\u001b[39;00m \u001b[38;5;28mself\u001b[39m\u001b[38;5;241m.\u001b[39mwidth \u001b[38;5;129;01mis\u001b[39;00m \u001b[38;5;28;01mNone\u001b[39;00m \u001b[38;5;129;01mand\u001b[39;00m \u001b[38;5;28mself\u001b[39m\u001b[38;5;241m.\u001b[39mmetadata\u001b[38;5;241m.\u001b[39mget(\u001b[38;5;124m'\u001b[39m\u001b[38;5;124mwidth\u001b[39m\u001b[38;5;124m'\u001b[39m, {}):\n\u001b[1;32m    974\u001b[0m     \u001b[38;5;28mself\u001b[39m\u001b[38;5;241m.\u001b[39mwidth \u001b[38;5;241m=\u001b[39m metadata[\u001b[38;5;124m'\u001b[39m\u001b[38;5;124mwidth\u001b[39m\u001b[38;5;124m'\u001b[39m]\n",
      "File \u001b[0;32m/opt/lsst/software/stack/conda/envs/lsst-scipipe-9.0.0/lib/python3.11/site-packages/IPython/core/display.py:327\u001b[0m, in \u001b[0;36mDisplayObject.__init__\u001b[0;34m(self, data, url, filename, metadata)\u001b[0m\n\u001b[1;32m    324\u001b[0m \u001b[38;5;28;01melif\u001b[39;00m \u001b[38;5;28mself\u001b[39m\u001b[38;5;241m.\u001b[39mmetadata \u001b[38;5;129;01mis\u001b[39;00m \u001b[38;5;28;01mNone\u001b[39;00m:\n\u001b[1;32m    325\u001b[0m     \u001b[38;5;28mself\u001b[39m\u001b[38;5;241m.\u001b[39mmetadata \u001b[38;5;241m=\u001b[39m {}\n\u001b[0;32m--> 327\u001b[0m \u001b[38;5;28;43mself\u001b[39;49m\u001b[38;5;241;43m.\u001b[39;49m\u001b[43mreload\u001b[49m\u001b[43m(\u001b[49m\u001b[43m)\u001b[49m\n\u001b[1;32m    328\u001b[0m \u001b[38;5;28mself\u001b[39m\u001b[38;5;241m.\u001b[39m_check_data()\n",
      "File \u001b[0;32m/opt/lsst/software/stack/conda/envs/lsst-scipipe-9.0.0/lib/python3.11/site-packages/IPython/core/display.py:1005\u001b[0m, in \u001b[0;36mImage.reload\u001b[0;34m(self)\u001b[0m\n\u001b[1;32m   1003\u001b[0m \u001b[38;5;250m\u001b[39m\u001b[38;5;124;03m\"\"\"Reload the raw data from file or URL.\"\"\"\u001b[39;00m\n\u001b[1;32m   1004\u001b[0m \u001b[38;5;28;01mif\u001b[39;00m \u001b[38;5;28mself\u001b[39m\u001b[38;5;241m.\u001b[39membed:\n\u001b[0;32m-> 1005\u001b[0m     \u001b[38;5;28;43msuper\u001b[39;49m\u001b[43m(\u001b[49m\u001b[43mImage\u001b[49m\u001b[43m,\u001b[49m\u001b[38;5;28;43mself\u001b[39;49m\u001b[43m)\u001b[49m\u001b[38;5;241;43m.\u001b[39;49m\u001b[43mreload\u001b[49m\u001b[43m(\u001b[49m\u001b[43m)\u001b[49m\n\u001b[1;32m   1006\u001b[0m     \u001b[38;5;28;01mif\u001b[39;00m \u001b[38;5;28mself\u001b[39m\u001b[38;5;241m.\u001b[39mretina:\n\u001b[1;32m   1007\u001b[0m         \u001b[38;5;28mself\u001b[39m\u001b[38;5;241m.\u001b[39m_retina_shape()\n",
      "File \u001b[0;32m/opt/lsst/software/stack/conda/envs/lsst-scipipe-9.0.0/lib/python3.11/site-packages/IPython/core/display.py:353\u001b[0m, in \u001b[0;36mDisplayObject.reload\u001b[0;34m(self)\u001b[0m\n\u001b[1;32m    351\u001b[0m \u001b[38;5;28;01mif\u001b[39;00m \u001b[38;5;28mself\u001b[39m\u001b[38;5;241m.\u001b[39mfilename \u001b[38;5;129;01mis\u001b[39;00m \u001b[38;5;129;01mnot\u001b[39;00m \u001b[38;5;28;01mNone\u001b[39;00m:\n\u001b[1;32m    352\u001b[0m     encoding \u001b[38;5;241m=\u001b[39m \u001b[38;5;28;01mNone\u001b[39;00m \u001b[38;5;28;01mif\u001b[39;00m \u001b[38;5;124m\"\u001b[39m\u001b[38;5;124mb\u001b[39m\u001b[38;5;124m\"\u001b[39m \u001b[38;5;129;01min\u001b[39;00m \u001b[38;5;28mself\u001b[39m\u001b[38;5;241m.\u001b[39m_read_flags \u001b[38;5;28;01melse\u001b[39;00m \u001b[38;5;124m\"\u001b[39m\u001b[38;5;124mutf-8\u001b[39m\u001b[38;5;124m\"\u001b[39m\n\u001b[0;32m--> 353\u001b[0m     \u001b[38;5;28;01mwith\u001b[39;00m \u001b[38;5;28mopen\u001b[39m(\u001b[38;5;28mself\u001b[39m\u001b[38;5;241m.\u001b[39mfilename, \u001b[38;5;28mself\u001b[39m\u001b[38;5;241m.\u001b[39m_read_flags, encoding\u001b[38;5;241m=\u001b[39mencoding) \u001b[38;5;28;01mas\u001b[39;00m f:\n\u001b[1;32m    354\u001b[0m         \u001b[38;5;28mself\u001b[39m\u001b[38;5;241m.\u001b[39mdata \u001b[38;5;241m=\u001b[39m f\u001b[38;5;241m.\u001b[39mread()\n\u001b[1;32m    355\u001b[0m \u001b[38;5;28;01melif\u001b[39;00m \u001b[38;5;28mself\u001b[39m\u001b[38;5;241m.\u001b[39murl \u001b[38;5;129;01mis\u001b[39;00m \u001b[38;5;129;01mnot\u001b[39;00m \u001b[38;5;28;01mNone\u001b[39;00m:\n\u001b[1;32m    356\u001b[0m     \u001b[38;5;66;03m# Deferred import\u001b[39;00m\n",
      "\u001b[0;31mFileNotFoundError\u001b[0m: [Errno 2] No such file or directory: '/sdf/group/rubin/user/ebellm/workspace/tickets/DM-45853/cosmos_d_2024_08_15//cutouts/images/25397870345584738.png'"
     ]
    }
   ],
   "source": [
    "df_only_13, df_only_15, df_matched = compare_sources(butler_13, butler_15, apdb_query_13, apdb_query_15, match_radius=1, \n",
    "                                                     cutout_path1=cutout_path_13, cutout_path2=cutout_path_15,\n",
    "                                                     make_cutouts=True, display_cutouts=True)"
   ]
  },
  {
   "cell_type": "code",
   "execution_count": 26,
   "id": "ae9b2983-8366-4ee5-95e9-a835c0bee570",
   "metadata": {
    "execution": {
     "iopub.execute_input": "2024-08-26T20:53:06.039484Z",
     "iopub.status.busy": "2024-08-26T20:53:06.039340Z",
     "iopub.status.idle": "2024-08-26T20:53:06.046329Z",
     "shell.execute_reply": "2024-08-26T20:53:06.045925Z",
     "shell.execute_reply.started": "2024-08-26T20:53:06.039471Z"
    }
   },
   "outputs": [
    {
     "data": {
      "text/html": [
       "<div>\n",
       "<style scoped>\n",
       "    .dataframe tbody tr th:only-of-type {\n",
       "        vertical-align: middle;\n",
       "    }\n",
       "\n",
       "    .dataframe tbody tr th {\n",
       "        vertical-align: top;\n",
       "    }\n",
       "\n",
       "    .dataframe thead th {\n",
       "        text-align: right;\n",
       "    }\n",
       "</style>\n",
       "<table border=\"1\" class=\"dataframe\">\n",
       "  <thead>\n",
       "    <tr style=\"text-align: right;\">\n",
       "      <th></th>\n",
       "      <th>diaSourceId</th>\n",
       "      <th>visit</th>\n",
       "      <th>detector</th>\n",
       "      <th>diaObjectId</th>\n",
       "      <th>ssObjectId</th>\n",
       "      <th>parentDiaSourceId</th>\n",
       "      <th>ssObjectReassocTime</th>\n",
       "      <th>midpointMjdTai</th>\n",
       "      <th>ra</th>\n",
       "      <th>raErr</th>\n",
       "      <th>...</th>\n",
       "      <th>pixelFlags_streak</th>\n",
       "      <th>pixelFlags_streakCenter</th>\n",
       "      <th>pixelFlags_injected</th>\n",
       "      <th>pixelFlags_injectedCenter</th>\n",
       "      <th>pixelFlags_injected_template</th>\n",
       "      <th>pixelFlags_injected_templateCenter</th>\n",
       "      <th>pixelId</th>\n",
       "      <th>instrument</th>\n",
       "      <th>xmatch_dist_arcsec</th>\n",
       "      <th>src2_diaSourceId</th>\n",
       "    </tr>\n",
       "  </thead>\n",
       "  <tbody>\n",
       "  </tbody>\n",
       "</table>\n",
       "<p>0 rows × 147 columns</p>\n",
       "</div>"
      ],
      "text/plain": [
       "Empty DataFrame\n",
       "Columns: [diaSourceId, visit, detector, diaObjectId, ssObjectId, parentDiaSourceId, ssObjectReassocTime, midpointMjdTai, ra, raErr, dec, decErr, ra_dec_Cov, x, xErr, y, yErr, x_y_Cov, centroid_flag, apFlux, apFluxErr, apFlux_flag, apFlux_flag_apertureTruncated, snr, psfFlux, psfFluxErr, psfRa, psfRaErr, psfDec, psfDecErr, psfFlux_psfRa_Cov, psfFlux_psfDec_Cov, psfRa_psfDec_Cov, psfLnL, psfChi2, psfNdata, psfFlux_flag, psfFlux_flag_edge, psfFlux_flag_noGoodPixels, trailFlux, trailFluxErr, trailRa, trailRaErr, trailDec, trailDecErr, trailLength, trailLengthErr, trailAngle, trailAngleErr, trailFlux_trailRa_Cov, trailFlux_trailDec_Cov, trailFlux_trailLength_Cov, trailFlux_trailAngle_Cov, trailRa_trailDec_Cov, trailRa_trailLength_Cov, trailRa_trailAngle_Cov, trailDec_trailLength_Cov, trailDec_trailAngle_Cov, trailLength_trailAngle_Cov, trailLnL, trailChi2, trailNdata, trail_flag_edge, dipoleMeanFlux, dipoleMeanFluxErr, dipoleFluxDiff, dipoleFluxDiffErr, dipoleRa, dipoleRaErr, dipoleDec, dipoleDecErr, dipoleLength, dipoleLengthErr, dipoleAngle, dipoleAngleErr, dipoleMeanFlux_dipoleFluxDiff_Cov, dipoleMeanFlux_dipoleRa_Cov, dipoleMeanFlux_dipoleDec_Cov, dipoleMeanFlux_dipoleLength_Cov, dipoleMeanFlux_dipoleAngle_Cov, dipoleFluxDiff_dipoleRa_Cov, dipoleFluxDiff_dipoleDec_Cov, dipoleFluxDiff_dipoleLength_Cov, dipoleFluxDiff_dipoleAngle_Cov, dipoleRa_dipoleDec_Cov, dipoleRa_dipoleLength_Cov, dipoleRa_dipoleAngle_Cov, dipoleDec_dipoleLength_Cov, dipoleDec_dipoleAngle_Cov, dipoleLength_dipoleAngle_Cov, dipoleLnL, dipoleChi2, dipoleNdata, scienceFlux, scienceFluxErr, forced_PsfFlux_flag, forced_PsfFlux_flag_edge, forced_PsfFlux_flag_noGoodPixels, snapDiffFlux, snapDiffFluxErr, ...]\n",
       "Index: []\n",
       "\n",
       "[0 rows x 147 columns]"
      ]
     },
     "execution_count": 26,
     "metadata": {},
     "output_type": "execute_result"
    }
   ],
   "source": [
    "df_only_13"
   ]
  },
  {
   "cell_type": "code",
   "execution_count": 27,
   "id": "15641a06-ffa0-4e7c-8a91-9a531131b035",
   "metadata": {
    "execution": {
     "iopub.execute_input": "2024-08-26T20:53:06.539387Z",
     "iopub.status.busy": "2024-08-26T20:53:06.539135Z",
     "iopub.status.idle": "2024-08-26T20:53:06.549168Z",
     "shell.execute_reply": "2024-08-26T20:53:06.548726Z",
     "shell.execute_reply.started": "2024-08-26T20:53:06.539362Z"
    }
   },
   "outputs": [
    {
     "data": {
      "text/html": [
       "<div>\n",
       "<style scoped>\n",
       "    .dataframe tbody tr th:only-of-type {\n",
       "        vertical-align: middle;\n",
       "    }\n",
       "\n",
       "    .dataframe tbody tr th {\n",
       "        vertical-align: top;\n",
       "    }\n",
       "\n",
       "    .dataframe thead th {\n",
       "        text-align: right;\n",
       "    }\n",
       "</style>\n",
       "<table border=\"1\" class=\"dataframe\">\n",
       "  <thead>\n",
       "    <tr style=\"text-align: right;\">\n",
       "      <th></th>\n",
       "      <th>diaSourceId</th>\n",
       "      <th>visit</th>\n",
       "      <th>detector</th>\n",
       "      <th>diaObjectId</th>\n",
       "      <th>ssObjectId</th>\n",
       "      <th>parentDiaSourceId</th>\n",
       "      <th>ssObjectReassocTime</th>\n",
       "      <th>midpointMjdTai</th>\n",
       "      <th>ra</th>\n",
       "      <th>raErr</th>\n",
       "      <th>...</th>\n",
       "      <th>pixelFlags_suspect</th>\n",
       "      <th>pixelFlags_suspectCenter</th>\n",
       "      <th>pixelFlags_streak</th>\n",
       "      <th>pixelFlags_streakCenter</th>\n",
       "      <th>pixelFlags_injected</th>\n",
       "      <th>pixelFlags_injectedCenter</th>\n",
       "      <th>pixelFlags_injected_template</th>\n",
       "      <th>pixelFlags_injected_templateCenter</th>\n",
       "      <th>pixelId</th>\n",
       "      <th>instrument</th>\n",
       "    </tr>\n",
       "  </thead>\n",
       "  <tbody>\n",
       "    <tr>\n",
       "      <th>91</th>\n",
       "      <td>25397870345584738</td>\n",
       "      <td>59134</td>\n",
       "      <td>5</td>\n",
       "      <td>25397870345584738</td>\n",
       "      <td>0</td>\n",
       "      <td>0</td>\n",
       "      <td>None</td>\n",
       "      <td>57454.289074</td>\n",
       "      <td>149.749938</td>\n",
       "      <td>NaN</td>\n",
       "      <td>...</td>\n",
       "      <td>False</td>\n",
       "      <td>False</td>\n",
       "      <td>False</td>\n",
       "      <td>False</td>\n",
       "      <td>False</td>\n",
       "      <td>False</td>\n",
       "      <td>False</td>\n",
       "      <td>False</td>\n",
       "      <td>15560586125031</td>\n",
       "      <td>HSC</td>\n",
       "    </tr>\n",
       "    <tr>\n",
       "      <th>92</th>\n",
       "      <td>25397870345584739</td>\n",
       "      <td>59134</td>\n",
       "      <td>5</td>\n",
       "      <td>25397870345584739</td>\n",
       "      <td>0</td>\n",
       "      <td>0</td>\n",
       "      <td>None</td>\n",
       "      <td>57454.289074</td>\n",
       "      <td>149.749938</td>\n",
       "      <td>NaN</td>\n",
       "      <td>...</td>\n",
       "      <td>False</td>\n",
       "      <td>False</td>\n",
       "      <td>False</td>\n",
       "      <td>False</td>\n",
       "      <td>False</td>\n",
       "      <td>False</td>\n",
       "      <td>False</td>\n",
       "      <td>False</td>\n",
       "      <td>15560586125031</td>\n",
       "      <td>HSC</td>\n",
       "    </tr>\n",
       "    <tr>\n",
       "      <th>94</th>\n",
       "      <td>25397870345584741</td>\n",
       "      <td>59134</td>\n",
       "      <td>5</td>\n",
       "      <td>25397870345584741</td>\n",
       "      <td>0</td>\n",
       "      <td>0</td>\n",
       "      <td>None</td>\n",
       "      <td>57454.289074</td>\n",
       "      <td>149.749938</td>\n",
       "      <td>NaN</td>\n",
       "      <td>...</td>\n",
       "      <td>False</td>\n",
       "      <td>False</td>\n",
       "      <td>False</td>\n",
       "      <td>False</td>\n",
       "      <td>False</td>\n",
       "      <td>False</td>\n",
       "      <td>False</td>\n",
       "      <td>False</td>\n",
       "      <td>15560586125031</td>\n",
       "      <td>HSC</td>\n",
       "    </tr>\n",
       "    <tr>\n",
       "      <th>96</th>\n",
       "      <td>25397870345584745</td>\n",
       "      <td>59134</td>\n",
       "      <td>5</td>\n",
       "      <td>25397870345584745</td>\n",
       "      <td>0</td>\n",
       "      <td>0</td>\n",
       "      <td>None</td>\n",
       "      <td>57454.289074</td>\n",
       "      <td>149.754771</td>\n",
       "      <td>NaN</td>\n",
       "      <td>...</td>\n",
       "      <td>False</td>\n",
       "      <td>False</td>\n",
       "      <td>False</td>\n",
       "      <td>False</td>\n",
       "      <td>False</td>\n",
       "      <td>False</td>\n",
       "      <td>False</td>\n",
       "      <td>False</td>\n",
       "      <td>15560586131151</td>\n",
       "      <td>HSC</td>\n",
       "    </tr>\n",
       "    <tr>\n",
       "      <th>105</th>\n",
       "      <td>25397870345584756</td>\n",
       "      <td>59134</td>\n",
       "      <td>5</td>\n",
       "      <td>25397870345584756</td>\n",
       "      <td>0</td>\n",
       "      <td>0</td>\n",
       "      <td>None</td>\n",
       "      <td>57454.289074</td>\n",
       "      <td>149.774723</td>\n",
       "      <td>NaN</td>\n",
       "      <td>...</td>\n",
       "      <td>False</td>\n",
       "      <td>False</td>\n",
       "      <td>False</td>\n",
       "      <td>False</td>\n",
       "      <td>False</td>\n",
       "      <td>False</td>\n",
       "      <td>False</td>\n",
       "      <td>False</td>\n",
       "      <td>15560586491095</td>\n",
       "      <td>HSC</td>\n",
       "    </tr>\n",
       "    <tr>\n",
       "      <th>106</th>\n",
       "      <td>25397870345584757</td>\n",
       "      <td>59134</td>\n",
       "      <td>5</td>\n",
       "      <td>25397870345584757</td>\n",
       "      <td>0</td>\n",
       "      <td>0</td>\n",
       "      <td>None</td>\n",
       "      <td>57454.289074</td>\n",
       "      <td>149.754771</td>\n",
       "      <td>NaN</td>\n",
       "      <td>...</td>\n",
       "      <td>False</td>\n",
       "      <td>False</td>\n",
       "      <td>False</td>\n",
       "      <td>False</td>\n",
       "      <td>False</td>\n",
       "      <td>False</td>\n",
       "      <td>False</td>\n",
       "      <td>False</td>\n",
       "      <td>15560586131151</td>\n",
       "      <td>HSC</td>\n",
       "    </tr>\n",
       "    <tr>\n",
       "      <th>110</th>\n",
       "      <td>25397870345584764</td>\n",
       "      <td>59134</td>\n",
       "      <td>5</td>\n",
       "      <td>25397870345584764</td>\n",
       "      <td>0</td>\n",
       "      <td>0</td>\n",
       "      <td>None</td>\n",
       "      <td>57454.289074</td>\n",
       "      <td>149.719781</td>\n",
       "      <td>NaN</td>\n",
       "      <td>...</td>\n",
       "      <td>False</td>\n",
       "      <td>False</td>\n",
       "      <td>False</td>\n",
       "      <td>False</td>\n",
       "      <td>False</td>\n",
       "      <td>False</td>\n",
       "      <td>False</td>\n",
       "      <td>False</td>\n",
       "      <td>15560584991949</td>\n",
       "      <td>HSC</td>\n",
       "    </tr>\n",
       "  </tbody>\n",
       "</table>\n",
       "<p>7 rows × 145 columns</p>\n",
       "</div>"
      ],
      "text/plain": [
       "           diaSourceId  visit  detector        diaObjectId  ssObjectId  \\\n",
       "91   25397870345584738  59134         5  25397870345584738           0   \n",
       "92   25397870345584739  59134         5  25397870345584739           0   \n",
       "94   25397870345584741  59134         5  25397870345584741           0   \n",
       "96   25397870345584745  59134         5  25397870345584745           0   \n",
       "105  25397870345584756  59134         5  25397870345584756           0   \n",
       "106  25397870345584757  59134         5  25397870345584757           0   \n",
       "110  25397870345584764  59134         5  25397870345584764           0   \n",
       "\n",
       "     parentDiaSourceId ssObjectReassocTime  midpointMjdTai          ra  raErr  \\\n",
       "91                   0                None    57454.289074  149.749938    NaN   \n",
       "92                   0                None    57454.289074  149.749938    NaN   \n",
       "94                   0                None    57454.289074  149.749938    NaN   \n",
       "96                   0                None    57454.289074  149.754771    NaN   \n",
       "105                  0                None    57454.289074  149.774723    NaN   \n",
       "106                  0                None    57454.289074  149.754771    NaN   \n",
       "110                  0                None    57454.289074  149.719781    NaN   \n",
       "\n",
       "     ...  pixelFlags_suspect  pixelFlags_suspectCenter  pixelFlags_streak  \\\n",
       "91   ...               False                     False              False   \n",
       "92   ...               False                     False              False   \n",
       "94   ...               False                     False              False   \n",
       "96   ...               False                     False              False   \n",
       "105  ...               False                     False              False   \n",
       "106  ...               False                     False              False   \n",
       "110  ...               False                     False              False   \n",
       "\n",
       "     pixelFlags_streakCenter  pixelFlags_injected  pixelFlags_injectedCenter  \\\n",
       "91                     False                False                      False   \n",
       "92                     False                False                      False   \n",
       "94                     False                False                      False   \n",
       "96                     False                False                      False   \n",
       "105                    False                False                      False   \n",
       "106                    False                False                      False   \n",
       "110                    False                False                      False   \n",
       "\n",
       "     pixelFlags_injected_template pixelFlags_injected_templateCenter  \\\n",
       "91                          False                              False   \n",
       "92                          False                              False   \n",
       "94                          False                              False   \n",
       "96                          False                              False   \n",
       "105                         False                              False   \n",
       "106                         False                              False   \n",
       "110                         False                              False   \n",
       "\n",
       "            pixelId  instrument  \n",
       "91   15560586125031         HSC  \n",
       "92   15560586125031         HSC  \n",
       "94   15560586125031         HSC  \n",
       "96   15560586131151         HSC  \n",
       "105  15560586491095         HSC  \n",
       "106  15560586131151         HSC  \n",
       "110  15560584991949         HSC  \n",
       "\n",
       "[7 rows x 145 columns]"
      ]
     },
     "execution_count": 27,
     "metadata": {},
     "output_type": "execute_result"
    }
   ],
   "source": [
    "df_only_15"
   ]
  },
  {
   "cell_type": "code",
   "execution_count": 35,
   "id": "9348410f-f853-4c8d-85a3-6ae668578464",
   "metadata": {
    "execution": {
     "iopub.execute_input": "2024-08-26T20:56:58.610716Z",
     "iopub.status.busy": "2024-08-26T20:56:58.610524Z",
     "iopub.status.idle": "2024-08-26T20:56:58.694394Z",
     "shell.execute_reply": "2024-08-26T20:56:58.693976Z",
     "shell.execute_reply.started": "2024-08-26T20:56:58.610702Z"
    }
   },
   "outputs": [
    {
     "data": {
      "text/plain": [
       "<matplotlib.collections.PathCollection at 0x7f1053d8b4d0>"
      ]
     },
     "execution_count": 35,
     "metadata": {},
     "output_type": "execute_result"
    },
    {
     "data": {
      "image/png": "[encoded data removed]",
      "text/plain": [
       "<Figure size 640x480 with 1 Axes>"
      ]
     },
     "metadata": {},
     "output_type": "display_data"
    }
   ],
   "source": [
    "plt.figure()\n",
    "plt.scatter(df_matched.ra, df_matched.dec)\n",
    "plt.scatter(df_only_15.ra, df_only_15.dec, marker='x')"
   ]
  },
  {
   "cell_type": "code",
   "execution_count": null,
   "id": "6f4d70d7-c2c9-48b9-8596-1c5cdc681ebb",
   "metadata": {},
   "outputs": [],
   "source": []
  }
 ],
 "metadata": {
  "kernelspec": {
   "display_name": "LSST",
   "language": "python",
   "name": "lsst"
  },
  "language_info": {
   "codemirror_mode": {
    "name": "ipython",
    "version": 3
   },
   "file_extension": ".py",
   "mimetype": "text/x-python",
   "name": "python",
   "nbconvert_exporter": "python",
   "pygments_lexer": "ipython3",
   "version": "3.11.9"
  }
 },
 "nbformat": 4,
 "nbformat_minor": 5
}
