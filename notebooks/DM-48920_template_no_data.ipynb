{
 "cells": [
  {
   "cell_type": "markdown",
   "id": "eddf0bca-951c-45a0-82b9-c762a9b024f5",
   "metadata": {},
   "source": [
    "## DM-48920\n",
    "\n",
    "Eric Bellm & John Parejko, initially 2024-04-01 "
   ]
  },
  {
   "cell_type": "code",
   "execution_count": 8,
   "id": "f52d432b-06e1-405f-b4fd-a8589a07edd2",
   "metadata": {
    "execution": {
     "iopub.execute_input": "2025-02-12T19:14:49.828916Z",
     "iopub.status.busy": "2025-02-12T19:14:49.828715Z",
     "iopub.status.idle": "2025-02-12T19:14:50.771505Z",
     "shell.execute_reply": "2025-02-12T19:14:50.771040Z",
     "shell.execute_reply.started": "2025-02-12T19:14:49.828902Z"
    }
   },
   "outputs": [],
   "source": [
    "import lsst.daf.butler"
   ]
  },
  {
   "cell_type": "code",
   "execution_count": 3,
   "id": "597a136d-9035-4873-8eaa-64e16c1576eb",
   "metadata": {
    "execution": {
     "iopub.execute_input": "2025-02-12T19:10:37.718897Z",
     "iopub.status.busy": "2025-02-12T19:10:37.718459Z",
     "iopub.status.idle": "2025-02-12T19:10:37.742633Z",
     "shell.execute_reply": "2025-02-12T19:10:37.742211Z",
     "shell.execute_reply.started": "2025-02-12T19:10:37.718880Z"
    }
   },
   "outputs": [],
   "source": [
    "import lsst.afw.display\n",
    "display1 = lsst.afw.display.Display(backend='firefly', frame=1)\n",
    "display2 = lsst.afw.display.Display(backend='firefly', frame=2)"
   ]
  },
  {
   "cell_type": "code",
   "execution_count": null,
   "id": "49d370ea-6910-4ede-b565-f4a3f2c3e606",
   "metadata": {},
   "outputs": [],
   "source": []
  },
  {
   "cell_type": "code",
   "execution_count": null,
   "id": "11d9e6fb-d7cc-40a8-ae13-1662b86bbef6",
   "metadata": {},
   "outputs": [],
   "source": []
  },
  {
   "cell_type": "code",
   "execution_count": null,
   "id": "ac9d196a-7132-4acf-a0a9-35f56b5f50fa",
   "metadata": {},
   "outputs": [],
   "source": [
    "(2024120600098, 2024112000208, 2024112800140, 2024111100094, 2024111900082, 2024111600297)"
   ]
  },
  {
   "cell_type": "code",
   "execution_count": 9,
   "id": "53569ad9-9cdd-4f0d-94ee-81783066837e",
   "metadata": {
    "execution": {
     "iopub.execute_input": "2025-02-12T19:14:51.588849Z",
     "iopub.status.busy": "2025-02-12T19:14:51.588562Z",
     "iopub.status.idle": "2025-02-12T19:14:51.973459Z",
     "shell.execute_reply": "2025-02-12T19:14:51.973018Z",
     "shell.execute_reply.started": "2025-02-12T19:14:51.588833Z"
    }
   },
   "outputs": [],
   "source": [
    "\n",
    "collection = 'LSSTComCam/runs/DRP/DP1/w_2025_06/DM-48810'\n",
    "butler = lsst.daf.butler.Butler(\"/repo/main\", collections=collection)"
   ]
  },
  {
   "cell_type": "code",
   "execution_count": 11,
   "id": "97db2d93-56e5-4a21-99e9-08849899585a",
   "metadata": {
    "execution": {
     "iopub.execute_input": "2025-02-12T19:15:03.014747Z",
     "iopub.status.busy": "2025-02-12T19:15:03.014467Z",
     "iopub.status.idle": "2025-02-12T19:15:03.017472Z",
     "shell.execute_reply": "2025-02-12T19:15:03.017010Z",
     "shell.execute_reply.started": "2025-02-12T19:15:03.014732Z"
    }
   },
   "outputs": [],
   "source": [
    "dataId = {'instrument': 'LSSTComCam', 'detector': 4, 'visit': 2024120600098}\n"
   ]
  },
  {
   "cell_type": "code",
   "execution_count": 37,
   "id": "9b4e79dc-65f6-4b0a-b5fd-151777091440",
   "metadata": {
    "execution": {
     "iopub.execute_input": "2025-02-12T18:08:55.339417Z",
     "iopub.status.busy": "2025-02-12T18:08:55.339164Z",
     "iopub.status.idle": "2025-02-12T18:09:02.444502Z",
     "shell.execute_reply": "2025-02-12T18:09:02.444050Z",
     "shell.execute_reply.started": "2025-02-12T18:08:55.339402Z"
    }
   },
   "outputs": [],
   "source": [
    "template = butler.get('goodSeeingDiff_templateExp', dataId) \n",
    "\n",
    "display2.image(template)"
   ]
  },
  {
   "cell_type": "code",
   "execution_count": 15,
   "id": "b346a479-e3bb-4d46-9d99-aea376bc45ec",
   "metadata": {
    "execution": {
     "iopub.execute_input": "2025-02-12T19:16:12.978312Z",
     "iopub.status.busy": "2025-02-12T19:16:12.978106Z",
     "iopub.status.idle": "2025-02-12T19:16:13.000415Z",
     "shell.execute_reply": "2025-02-12T19:16:13.000008Z",
     "shell.execute_reply.started": "2025-02-12T19:16:12.978299Z"
    }
   },
   "outputs": [
    {
     "data": {
      "text/plain": [
       "[{band: 'r', skymap: 'lsst_cells_v1', tract: 4848, patch: 80},\n",
       " {band: 'r', skymap: 'lsst_cells_v1', tract: 4848, patch: 90},\n",
       " {band: 'r', skymap: 'lsst_cells_v1', tract: 4848, patch: 91},\n",
       " {band: 'r', skymap: 'lsst_cells_v1', tract: 4849, patch: 88},\n",
       " {band: 'r', skymap: 'lsst_cells_v1', tract: 4849, patch: 89},\n",
       " {band: 'r', skymap: 'lsst_cells_v1', tract: 4849, patch: 98},\n",
       " {band: 'r', skymap: 'lsst_cells_v1', tract: 4849, patch: 99},\n",
       " {band: 'r', skymap: 'lsst_cells_v1', tract: 5063, patch: 4},\n",
       " {band: 'r', skymap: 'lsst_cells_v1', tract: 5063, patch: 5},\n",
       " {band: 'r', skymap: 'lsst_cells_v1', tract: 5063, patch: 6},\n",
       " {band: 'r', skymap: 'lsst_cells_v1', tract: 5063, patch: 14},\n",
       " {band: 'r', skymap: 'lsst_cells_v1', tract: 5063, patch: 15},\n",
       " {band: 'r', skymap: 'lsst_cells_v1', tract: 5063, patch: 16}]"
      ]
     },
     "execution_count": 15,
     "metadata": {},
     "output_type": "execute_result"
    }
   ],
   "source": [
    "patch_ids = butler.query_data_ids(['patch', 'band'], data_id=dataId, skymap='lsst_cells_v1') \n",
    "patch_ids"
   ]
  },
  {
   "cell_type": "code",
   "execution_count": 23,
   "id": "e2913773-429e-46ca-859c-4842f179fe55",
   "metadata": {
    "execution": {
     "iopub.execute_input": "2025-02-12T19:31:38.093148Z",
     "iopub.status.busy": "2025-02-12T19:31:38.092840Z",
     "iopub.status.idle": "2025-02-12T19:31:39.113968Z",
     "shell.execute_reply": "2025-02-12T19:31:39.113580Z",
     "shell.execute_reply.started": "2025-02-12T19:31:38.093131Z"
    }
   },
   "outputs": [
    {
     "name": "stdout",
     "output_type": "stream",
     "text": [
      "{band: 'r', skymap: 'lsst_cells_v1', tract: 4848, patch: 90}\n"
     ]
    }
   ],
   "source": [
    "use_id = patch_ids[1]\n",
    "print(use_id)\n",
    "coadd = butler.get('goodSeeingCoadd', patch_ids[1])"
   ]
  },
  {
   "cell_type": "code",
   "execution_count": 19,
   "id": "0d6b8247-aa26-41f9-86d6-4edef8da1ded",
   "metadata": {
    "execution": {
     "iopub.execute_input": "2025-02-12T19:17:44.850620Z",
     "iopub.status.busy": "2025-02-12T19:17:44.850317Z",
     "iopub.status.idle": "2025-02-12T19:17:45.428473Z",
     "shell.execute_reply": "2025-02-12T19:17:45.428045Z",
     "shell.execute_reply.started": "2025-02-12T19:17:44.850605Z"
    }
   },
   "outputs": [],
   "source": [
    "display1.image(coadd)"
   ]
  },
  {
   "cell_type": "code",
   "execution_count": 20,
   "id": "0c66f654-6d20-4b16-96ad-684434c4e259",
   "metadata": {
    "execution": {
     "iopub.execute_input": "2025-02-12T19:28:05.072086Z",
     "iopub.status.busy": "2025-02-12T19:28:05.071796Z",
     "iopub.status.idle": "2025-02-12T19:28:05.129345Z",
     "shell.execute_reply": "2025-02-12T19:28:05.128918Z",
     "shell.execute_reply.started": "2025-02-12T19:28:05.072072Z"
    }
   },
   "outputs": [],
   "source": [
    "display3 = lsst.afw.display.Display(backend='firefly', frame=3)"
   ]
  },
  {
   "cell_type": "code",
   "execution_count": 21,
   "id": "afd4619c-40f5-4bd7-92ea-cfc2242100d4",
   "metadata": {
    "execution": {
     "iopub.execute_input": "2025-02-12T19:28:14.823799Z",
     "iopub.status.busy": "2025-02-12T19:28:14.823438Z",
     "iopub.status.idle": "2025-02-12T19:28:17.504897Z",
     "shell.execute_reply": "2025-02-12T19:28:17.504430Z",
     "shell.execute_reply.started": "2025-02-12T19:28:14.823778Z"
    }
   },
   "outputs": [],
   "source": [
    "deep = butler.get('deepCoadd', patch_ids[1])"
   ]
  },
  {
   "cell_type": "code",
   "execution_count": 22,
   "id": "57cee637-7cf7-4da2-baea-8a00ddb2a44d",
   "metadata": {
    "execution": {
     "iopub.execute_input": "2025-02-12T19:28:22.415787Z",
     "iopub.status.busy": "2025-02-12T19:28:22.415469Z",
     "iopub.status.idle": "2025-02-12T19:28:22.978333Z",
     "shell.execute_reply": "2025-02-12T19:28:22.977899Z",
     "shell.execute_reply.started": "2025-02-12T19:28:22.415772Z"
    }
   },
   "outputs": [],
   "source": [
    "display3.image(deep)"
   ]
  },
  {
   "cell_type": "markdown",
   "id": "a51158dd-41c5-46f1-9757-a8fd6b708a96",
   "metadata": {},
   "source": [
    "Initial inspection suggests that the NO_DATA patches in the template have corresponding UNMASKEDNAN mask planes in the goodSeeing and deep coadds.  This is despite the fact that the coadds have non-nan pixel values at those locations.  We hypothesize that these are detector-level features printing through to the coadd mask planes, hence the repetition at different translational and rotational dithers.\n",
    "\n",
    "Apparent problems:\n",
    "\n",
    "* unmasked nans at the detector level\n",
    "* propagation of the UNMASKEDNAN mask plane into the coadd\n",
    "* GetTemplateTask converting non-nan pixels with UNMASKEDNAN into NO_DATA (and setting their pixel values to nan!)\n",
    "* in some cases GetTemplateTask sets the pixel values to nan but fails to set the NO_DATA mask plane.\n",
    "  "
   ]
  },
  {
   "cell_type": "code",
   "execution_count": null,
   "id": "0e34c9cd-bf4b-4095-ac77-39bbc5d760b2",
   "metadata": {},
   "outputs": [],
   "source": []
  }
 ],
 "metadata": {
  "kernelspec": {
   "display_name": "LSST",
   "language": "python",
   "name": "lsst"
  },
  "language_info": {
   "codemirror_mode": {
    "name": "ipython",
    "version": 3
   },
   "file_extension": ".py",
   "mimetype": "text/x-python",
   "name": "python",
   "nbconvert_exporter": "python",
   "pygments_lexer": "ipython3",
   "version": "3.11.11"
  }
 },
 "nbformat": 4,
 "nbformat_minor": 5
}
