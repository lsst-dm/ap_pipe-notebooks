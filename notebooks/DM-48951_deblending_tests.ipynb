{
 "cells": [
  {
   "cell_type": "markdown",
   "id": "eddf0bca-951c-45a0-82b9-c762a9b024f5",
   "metadata": {},
   "source": [
    "## DM-48951: DIA deblending tests with ComCam\n",
    "\n",
    "Eric Bellm, 2025-02-18\n",
    "\n",
    "Examining the effects of "
   ]
  },
  {
   "cell_type": "code",
   "execution_count": 33,
   "id": "597a136d-9035-4873-8eaa-64e16c1576eb",
   "metadata": {
    "execution": {
     "iopub.execute_input": "2025-02-19T20:53:20.444237Z",
     "iopub.status.busy": "2025-02-19T20:53:20.443800Z",
     "iopub.status.idle": "2025-02-19T20:53:20.522639Z",
     "shell.execute_reply": "2025-02-19T20:53:20.522238Z",
     "shell.execute_reply.started": "2025-02-19T20:53:20.444217Z"
    }
   },
   "outputs": [],
   "source": [
    "import lsst.afw.display\n",
    "display1 = lsst.afw.display.Display(backend='firefly', frame=1)"
   ]
  },
  {
   "cell_type": "code",
   "execution_count": 34,
   "id": "6c11f186-25f1-4cbd-8975-05dbc508aa8a",
   "metadata": {
    "execution": {
     "iopub.execute_input": "2025-02-19T20:53:21.163352Z",
     "iopub.status.busy": "2025-02-19T20:53:21.162806Z",
     "iopub.status.idle": "2025-02-19T20:53:21.165478Z",
     "shell.execute_reply": "2025-02-19T20:53:21.165105Z",
     "shell.execute_reply.started": "2025-02-19T20:53:21.163337Z"
    }
   },
   "outputs": [],
   "source": [
    "from lsst.ip.diffim import detectAndMeasure\n",
    "import lsst.daf.butler"
   ]
  },
  {
   "cell_type": "markdown",
   "id": "45b76d3c-1290-4f80-8578-8c9b3674aafe",
   "metadata": {},
   "source": [
    "This is the status quo collection prior to DM-48879."
   ]
  },
  {
   "cell_type": "code",
   "execution_count": 8,
   "id": "07cb566b-83aa-435b-aadf-8d90ea0ce664",
   "metadata": {
    "execution": {
     "iopub.execute_input": "2025-02-19T18:31:03.326194Z",
     "iopub.status.busy": "2025-02-19T18:31:03.325998Z",
     "iopub.status.idle": "2025-02-19T18:31:03.714359Z",
     "shell.execute_reply": "2025-02-19T18:31:03.713834Z",
     "shell.execute_reply.started": "2025-02-19T18:31:03.326181Z"
    }
   },
   "outputs": [],
   "source": [
    "collection_old = 'LSSTComCam/runs/DRP/DP1/w_2025_05/DM-48666'\n",
    "\n",
    "butler_old = lsst.daf.butler.Butler(\"/repo/main\", collections=collection_old)"
   ]
  },
  {
   "cell_type": "markdown",
   "id": "50966532-3d76-4969-9102-0117b6bed05d",
   "metadata": {},
   "source": [
    "This is the first weekly DRP incorporating DM-48879, which reduced the number of DIASources around bright stars by reducing the numbers of excluded mask planes in detectAndMeasure and by turning off deblending."
   ]
  },
  {
   "cell_type": "code",
   "execution_count": 9,
   "id": "fd65adf6-bae8-4e6d-b460-88ff5f44c9cc",
   "metadata": {
    "execution": {
     "iopub.execute_input": "2025-02-19T18:31:04.278807Z",
     "iopub.status.busy": "2025-02-19T18:31:04.278519Z",
     "iopub.status.idle": "2025-02-19T18:31:04.512717Z",
     "shell.execute_reply": "2025-02-19T18:31:04.512266Z",
     "shell.execute_reply.started": "2025-02-19T18:31:04.278793Z"
    }
   },
   "outputs": [],
   "source": [
    "collection_w07 = 'LSSTComCam/runs/DRP/DP1/w_2025_07/DM-48940'\n",
    "\n",
    "butler_w07 = lsst.daf.butler.Butler(\"/repo/main\", collections=collection_w07)"
   ]
  },
  {
   "cell_type": "markdown",
   "id": "d5a735de-a8db-4314-99ab-a07a0d7a27df",
   "metadata": {},
   "source": [
    "This is a rerun of a few detectors in w07 with deblending on."
   ]
  },
  {
   "cell_type": "code",
   "execution_count": 29,
   "id": "ec52b62d-8f19-4f92-87ff-bf0b7d5af569",
   "metadata": {
    "execution": {
     "iopub.execute_input": "2025-02-19T20:49:36.524837Z",
     "iopub.status.busy": "2025-02-19T20:49:36.524505Z",
     "iopub.status.idle": "2025-02-19T20:49:36.732904Z",
     "shell.execute_reply": "2025-02-19T20:49:36.732474Z",
     "shell.execute_reply.started": "2025-02-19T20:49:36.524822Z"
    }
   },
   "outputs": [],
   "source": [
    "collection_w07_deblended = 'u/ebellm/DM-48951/w07_deblend_check'\n",
    "\n",
    "butler_w07_deblended = lsst.daf.butler.Butler(\"/repo/main\", collections=collection_w07_deblended)"
   ]
  },
  {
   "cell_type": "markdown",
   "id": "988d43b1-1516-49fd-a80e-c850e4aa6ec7",
   "metadata": {},
   "source": [
    "This is a collection with injection.  This specific collection does not include the w07 fix of DM-48879 due to a local setup of ip_diffim: \n",
    " https://rubin-obs.slack.com/archives/C07S1F999T3/p1739991277357829"
   ]
  },
  {
   "cell_type": "code",
   "execution_count": 21,
   "id": "aca00485-b23d-4743-8dc7-de9871ddffdd",
   "metadata": {
    "execution": {
     "iopub.execute_input": "2025-02-19T18:38:56.039067Z",
     "iopub.status.busy": "2025-02-19T18:38:56.038732Z",
     "iopub.status.idle": "2025-02-19T18:38:56.276961Z",
     "shell.execute_reply": "2025-02-19T18:38:56.276539Z",
     "shell.execute_reply.started": "2025-02-19T18:38:56.039054Z"
    }
   },
   "outputs": [],
   "source": [
    "\n",
    "collection_w07_injected = 'u/bos/DM-48896-DRP_DiffimWithFakes'\n",
    "\n",
    "butler_w07_injected = lsst.daf.butler.Butler(\"/repo/main\", collections=collection_w07_injected)"
   ]
  },
  {
   "cell_type": "markdown",
   "id": "f7990126-9c58-4a44-b663-3fcf5c6f80b1",
   "metadata": {
    "execution": {
     "iopub.execute_input": "2025-02-19T23:47:23.891878Z",
     "iopub.status.busy": "2025-02-19T23:47:23.891430Z",
     "iopub.status.idle": "2025-02-19T23:47:23.895139Z",
     "shell.execute_reply": "2025-02-19T23:47:23.894674Z",
     "shell.execute_reply.started": "2025-02-19T23:47:23.891857Z"
    }
   },
   "source": [
    "This rerun adds deblending to the injected data above."
   ]
  },
  {
   "cell_type": "code",
   "execution_count": 11,
   "id": "a7892949-d97a-4b90-bb13-62815e7aee1e",
   "metadata": {
    "execution": {
     "iopub.execute_input": "2025-02-19T18:31:05.846135Z",
     "iopub.status.busy": "2025-02-19T18:31:05.845800Z",
     "iopub.status.idle": "2025-02-19T18:31:06.075231Z",
     "shell.execute_reply": "2025-02-19T18:31:06.074801Z",
     "shell.execute_reply.started": "2025-02-19T18:31:05.846121Z"
    }
   },
   "outputs": [],
   "source": [
    "collection_deblend_injected = 'u/ebellm/DM-48951/deblend_check'\n",
    "\n",
    "butler_deblend_injected = lsst.daf.butler.Butler(\"/repo/main\", collections=collection_deblend_injected)"
   ]
  },
  {
   "cell_type": "code",
   "execution_count": 19,
   "id": "26ece74e-6618-43e5-8f30-33b835dc155c",
   "metadata": {
    "execution": {
     "iopub.execute_input": "2025-02-12T16:07:37.893967Z",
     "iopub.status.busy": "2025-02-12T16:07:37.893774Z",
     "iopub.status.idle": "2025-02-12T16:07:37.896172Z",
     "shell.execute_reply": "2025-02-12T16:07:37.895820Z",
     "shell.execute_reply.started": "2025-02-12T16:07:37.893953Z"
    },
    "scrolled": true
   },
   "outputs": [],
   "source": [
    "#butler.registry.queryDatasetTypes()"
   ]
  },
  {
   "cell_type": "markdown",
   "id": "2308c141-ba38-453a-a943-8f94a7a7c139",
   "metadata": {},
   "source": [
    "standard comcam test set: \n",
    "\n",
    "detector 4\n",
    "(2024120600098, 2024112000208, 2024112800140, 2024111100094, 2024111900082, 2024111600297)\n",
    "(all r band)\n"
   ]
  },
  {
   "cell_type": "code",
   "execution_count": 12,
   "id": "fab1aa2e-bd31-4abe-9e7a-8b2edc9c307a",
   "metadata": {
    "execution": {
     "iopub.execute_input": "2025-02-19T18:31:12.128687Z",
     "iopub.status.busy": "2025-02-19T18:31:12.128103Z",
     "iopub.status.idle": "2025-02-19T18:31:12.130832Z",
     "shell.execute_reply": "2025-02-19T18:31:12.130480Z",
     "shell.execute_reply.started": "2025-02-19T18:31:12.128672Z"
    }
   },
   "outputs": [],
   "source": [
    "dataId = {'instrument': 'LSSTComCam', 'detector': 4, 'visit': 2024112800140}"
   ]
  },
  {
   "cell_type": "code",
   "execution_count": 13,
   "id": "21d8bf74-6430-4a85-a122-e556ad3853d9",
   "metadata": {
    "execution": {
     "iopub.execute_input": "2025-02-19T18:38:06.533676Z",
     "iopub.status.busy": "2025-02-19T18:38:06.533175Z",
     "iopub.status.idle": "2025-02-19T18:38:08.377755Z",
     "shell.execute_reply": "2025-02-19T18:38:08.377320Z",
     "shell.execute_reply.started": "2025-02-19T18:38:06.533662Z"
    }
   },
   "outputs": [
    {
     "data": {
      "text/plain": [
       "206"
      ]
     },
     "execution_count": 13,
     "metadata": {},
     "output_type": "execute_result"
    }
   ],
   "source": [
    "difference_old = butler_old.get('goodSeeingDiff_differenceExp', dataId) \n",
    "diaSrc_old = butler_old.get('goodSeeingDiff_diaSrc', dataId)\n",
    "len(diaSrc_old)"
   ]
  },
  {
   "cell_type": "code",
   "execution_count": 35,
   "id": "b4e8337c-26c6-4c58-b304-fcf5a6c4102a",
   "metadata": {
    "execution": {
     "iopub.execute_input": "2025-02-19T20:53:28.370971Z",
     "iopub.status.busy": "2025-02-19T20:53:28.370480Z",
     "iopub.status.idle": "2025-02-19T20:53:31.107547Z",
     "shell.execute_reply": "2025-02-19T20:53:31.107130Z",
     "shell.execute_reply.started": "2025-02-19T20:53:28.370957Z"
    }
   },
   "outputs": [],
   "source": [
    "display1.image(difference_old)\n",
    "display1.centroids(diaSrc_old, size=10, ctype='red')"
   ]
  },
  {
   "cell_type": "code",
   "execution_count": 36,
   "id": "5aae56f9-6a21-4e30-95cb-39b12634ba98",
   "metadata": {
    "execution": {
     "iopub.execute_input": "2025-02-19T20:53:32.192974Z",
     "iopub.status.busy": "2025-02-19T20:53:32.192782Z",
     "iopub.status.idle": "2025-02-19T20:53:32.248181Z",
     "shell.execute_reply": "2025-02-19T20:53:32.247802Z",
     "shell.execute_reply.started": "2025-02-19T20:53:32.192961Z"
    }
   },
   "outputs": [],
   "source": [
    "display2 = lsst.afw.display.Display(backend='firefly', frame=2)"
   ]
  },
  {
   "cell_type": "code",
   "execution_count": 16,
   "id": "b6df4efa-ca94-4d1f-9ba3-307665887852",
   "metadata": {
    "execution": {
     "iopub.execute_input": "2025-02-19T18:38:14.936975Z",
     "iopub.status.busy": "2025-02-19T18:38:14.936707Z",
     "iopub.status.idle": "2025-02-19T18:38:16.017998Z",
     "shell.execute_reply": "2025-02-19T18:38:16.017697Z",
     "shell.execute_reply.started": "2025-02-19T18:38:14.936961Z"
    }
   },
   "outputs": [
    {
     "data": {
      "text/plain": [
       "100"
      ]
     },
     "execution_count": 16,
     "metadata": {},
     "output_type": "execute_result"
    }
   ],
   "source": [
    "difference_w07 = butler_w07.get('goodSeeingDiff_differenceExp', dataId) \n",
    "diaSrc_w07 = butler_w07.get('goodSeeingDiff_diaSrc', dataId)\n",
    "len(diaSrc_w07)"
   ]
  },
  {
   "cell_type": "code",
   "execution_count": 37,
   "id": "b4620e6a-85dc-43a3-aede-4967dbe5f80e",
   "metadata": {
    "execution": {
     "iopub.execute_input": "2025-02-19T20:53:34.490116Z",
     "iopub.status.busy": "2025-02-19T20:53:34.489572Z",
     "iopub.status.idle": "2025-02-19T20:53:37.150310Z",
     "shell.execute_reply": "2025-02-19T20:53:37.149887Z",
     "shell.execute_reply.started": "2025-02-19T20:53:34.490099Z"
    }
   },
   "outputs": [],
   "source": [
    "display2.image(difference_w07)\n",
    "display2.centroids(diaSrc_w07, size=10, ctype='red')"
   ]
  },
  {
   "cell_type": "code",
   "execution_count": 38,
   "id": "3e520525-b420-4b0d-916b-f9bcb543bce6",
   "metadata": {
    "execution": {
     "iopub.execute_input": "2025-02-19T20:53:37.151130Z",
     "iopub.status.busy": "2025-02-19T20:53:37.150995Z",
     "iopub.status.idle": "2025-02-19T20:53:37.200535Z",
     "shell.execute_reply": "2025-02-19T20:53:37.200148Z",
     "shell.execute_reply.started": "2025-02-19T20:53:37.151117Z"
    }
   },
   "outputs": [],
   "source": [
    "display3 = lsst.afw.display.Display(backend='firefly', frame=3)"
   ]
  },
  {
   "cell_type": "code",
   "execution_count": 39,
   "id": "86c17e72-4b99-446e-a4b0-45ac79208b99",
   "metadata": {
    "execution": {
     "iopub.execute_input": "2025-02-19T20:53:37.345007Z",
     "iopub.status.busy": "2025-02-19T20:53:37.344868Z",
     "iopub.status.idle": "2025-02-19T20:53:38.112657Z",
     "shell.execute_reply": "2025-02-19T20:53:38.112228Z",
     "shell.execute_reply.started": "2025-02-19T20:53:37.344994Z"
    }
   },
   "outputs": [
    {
     "data": {
      "text/plain": [
       "284"
      ]
     },
     "execution_count": 39,
     "metadata": {},
     "output_type": "execute_result"
    }
   ],
   "source": [
    "difference_w07_deblended = butler_w07_deblended.get('goodSeeingDiff_differenceExp', dataId) \n",
    "diaSrc_w07_deblended = butler_w07_deblended.get('goodSeeingDiff_diaSrc', dataId)\n",
    "len(diaSrc_w07_deblended)"
   ]
  },
  {
   "cell_type": "code",
   "execution_count": 40,
   "id": "3c1b10f7-c239-49d0-8b57-a8d5b7e50cb2",
   "metadata": {
    "execution": {
     "iopub.execute_input": "2025-02-19T20:53:38.698742Z",
     "iopub.status.busy": "2025-02-19T20:53:38.698180Z",
     "iopub.status.idle": "2025-02-19T20:53:41.409599Z",
     "shell.execute_reply": "2025-02-19T20:53:41.409141Z",
     "shell.execute_reply.started": "2025-02-19T20:53:38.698726Z"
    }
   },
   "outputs": [],
   "source": [
    "display3.image(difference_w07_deblended)\n",
    "display3.centroids(diaSrc_w07_deblended, size=10, ctype='red')"
   ]
  },
  {
   "cell_type": "markdown",
   "id": "9f7d384d-2741-4b42-8b88-f6d15055822b",
   "metadata": {},
   "source": [
    "Examination of these data show a large increase in false detections on the diffraction spikes of bright stars."
   ]
  },
  {
   "cell_type": "code",
   "execution_count": 22,
   "id": "7973bdf5-46e8-47b2-9e90-ee1ad8962689",
   "metadata": {
    "execution": {
     "iopub.execute_input": "2025-02-19T18:38:59.128597Z",
     "iopub.status.busy": "2025-02-19T18:38:59.128323Z",
     "iopub.status.idle": "2025-02-19T18:39:00.089751Z",
     "shell.execute_reply": "2025-02-19T18:39:00.089272Z",
     "shell.execute_reply.started": "2025-02-19T18:38:59.128583Z"
    }
   },
   "outputs": [
    {
     "data": {
      "text/plain": [
       "257"
      ]
     },
     "execution_count": 22,
     "metadata": {},
     "output_type": "execute_result"
    }
   ],
   "source": [
    "#difference_w07_injected = butler_w07_injected.get('injected_goodSeeingDiff_differenceExp', dataId) \n",
    "#diaSrc_w07_injected = butler_w07_injected.get('injected_goodSeeingDiff_diaSrc', dataId)\n",
    "#len(diaSrc_w07_injected)"
   ]
  },
  {
   "cell_type": "code",
   "execution_count": 27,
   "id": "0c6abe39-07b2-45bc-8477-326559da9df8",
   "metadata": {
    "execution": {
     "iopub.execute_input": "2025-02-19T18:39:37.338238Z",
     "iopub.status.busy": "2025-02-19T18:39:37.337941Z",
     "iopub.status.idle": "2025-02-19T18:39:38.380987Z",
     "shell.execute_reply": "2025-02-19T18:39:38.380587Z",
     "shell.execute_reply.started": "2025-02-19T18:39:37.338221Z"
    }
   },
   "outputs": [],
   "source": [
    "#display3.image(difference_w07_injected)\n",
    "#display3.centroids(diaSrc_w07_injected, size=10, ctype='red')"
   ]
  },
  {
   "cell_type": "code",
   "execution_count": 24,
   "id": "a9768b85-608c-49f7-ae16-069d4a69aa15",
   "metadata": {
    "execution": {
     "iopub.execute_input": "2025-02-19T18:39:06.032538Z",
     "iopub.status.busy": "2025-02-19T18:39:06.032242Z",
     "iopub.status.idle": "2025-02-19T18:39:06.090598Z",
     "shell.execute_reply": "2025-02-19T18:39:06.090179Z",
     "shell.execute_reply.started": "2025-02-19T18:39:06.032524Z"
    }
   },
   "outputs": [],
   "source": [
    "#display4 = lsst.afw.display.Display(backend='firefly', frame=4)"
   ]
  },
  {
   "cell_type": "code",
   "execution_count": 25,
   "id": "b8d5ec5a-ebda-4d0f-ac06-05be6ecd1bc8",
   "metadata": {
    "execution": {
     "iopub.execute_input": "2025-02-19T18:39:13.577508Z",
     "iopub.status.busy": "2025-02-19T18:39:13.577238Z",
     "iopub.status.idle": "2025-02-19T18:39:14.705713Z",
     "shell.execute_reply": "2025-02-19T18:39:14.705323Z",
     "shell.execute_reply.started": "2025-02-19T18:39:13.577494Z"
    }
   },
   "outputs": [
    {
     "data": {
      "text/plain": [
       "369"
      ]
     },
     "execution_count": 25,
     "metadata": {},
     "output_type": "execute_result"
    }
   ],
   "source": [
    "#difference_deblend_injected = butler_deblend_injected.get('injected_goodSeeingDiff_differenceExp', dataId) \n",
    "#diaSrc_deblend_injected = butler_deblend_injected.get('injected_goodSeeingDiff_diaSrc', dataId)\n",
    "#len(diaSrc_deblend_injected)"
   ]
  },
  {
   "cell_type": "code",
   "execution_count": 28,
   "id": "7b97e1e8-d3c3-4a4a-bb97-14d52bac10bd",
   "metadata": {
    "execution": {
     "iopub.execute_input": "2025-02-19T18:39:40.035632Z",
     "iopub.status.busy": "2025-02-19T18:39:40.035301Z",
     "iopub.status.idle": "2025-02-19T18:39:40.816142Z",
     "shell.execute_reply": "2025-02-19T18:39:40.815790Z",
     "shell.execute_reply.started": "2025-02-19T18:39:40.035616Z"
    }
   },
   "outputs": [],
   "source": [
    "#display4.image(difference_deblend_injected)\n",
    "#display4.centroids(diaSrc_deblend_injected, size=10, ctype='red')"
   ]
  },
  {
   "cell_type": "markdown",
   "id": "a266f330-845c-4121-9ef3-5f3e89cff232",
   "metadata": {},
   "source": [
    "Examination of the injected data show nonzero but minimal loss of injection completeness when the deblender is off, but a large loss of purity when it is on."
   ]
  },
  {
   "cell_type": "code",
   "execution_count": null,
   "id": "6f3fc6ec-0d14-4ce9-b57a-c0873db73ee6",
   "metadata": {},
   "outputs": [],
   "source": []
  }
 ],
 "metadata": {
  "kernelspec": {
   "display_name": "LSST",
   "language": "python",
   "name": "lsst"
  },
  "language_info": {
   "codemirror_mode": {
    "name": "ipython",
    "version": 3
   },
   "file_extension": ".py",
   "mimetype": "text/x-python",
   "name": "python",
   "nbconvert_exporter": "python",
   "pygments_lexer": "ipython3",
   "version": "3.11.11"
  }
 },
 "nbformat": 4,
 "nbformat_minor": 5
}
