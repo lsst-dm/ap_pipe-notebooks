{
 "cells": [
  {
   "cell_type": "markdown",
   "id": "eddf0bca-951c-45a0-82b9-c762a9b024f5",
   "metadata": {},
   "source": [
    "## DP1 negative source fitlering\n",
    "\n",
    "Eric Bellm, 2025-04-02"
   ]
  },
  {
   "cell_type": "code",
   "execution_count": 34,
   "id": "597a136d-9035-4873-8eaa-64e16c1576eb",
   "metadata": {
    "execution": {
     "iopub.execute_input": "2025-04-02T16:18:06.876082Z",
     "iopub.status.busy": "2025-04-02T16:18:06.875663Z",
     "iopub.status.idle": "2025-04-02T16:18:06.935543Z",
     "shell.execute_reply": "2025-04-02T16:18:06.935163Z",
     "shell.execute_reply.started": "2025-04-02T16:18:06.876064Z"
    }
   },
   "outputs": [],
   "source": [
    "import lsst.afw.display\n",
    "import numpy as np\n",
    "import matplotlib.pyplot as plt\n",
    "display1 = lsst.afw.display.Display(backend='firefly', frame=1)"
   ]
  },
  {
   "cell_type": "code",
   "execution_count": 3,
   "id": "6c11f186-25f1-4cbd-8975-05dbc508aa8a",
   "metadata": {
    "execution": {
     "iopub.execute_input": "2025-04-02T15:50:56.781700Z",
     "iopub.status.busy": "2025-04-02T15:50:56.781434Z",
     "iopub.status.idle": "2025-04-02T15:50:57.694236Z",
     "shell.execute_reply": "2025-04-02T15:50:57.693817Z",
     "shell.execute_reply.started": "2025-04-02T15:50:56.781686Z"
    }
   },
   "outputs": [],
   "source": [
    "import lsst.daf.butler"
   ]
  },
  {
   "cell_type": "code",
   "execution_count": 4,
   "id": "fd65adf6-bae8-4e6d-b460-88ff5f44c9cc",
   "metadata": {
    "execution": {
     "iopub.execute_input": "2025-04-02T15:50:59.576204Z",
     "iopub.status.busy": "2025-04-02T15:50:59.575976Z",
     "iopub.status.idle": "2025-04-02T15:50:59.913233Z",
     "shell.execute_reply": "2025-04-02T15:50:59.912806Z",
     "shell.execute_reply.started": "2025-04-02T15:50:59.576190Z"
    }
   },
   "outputs": [],
   "source": [
    "collection_w13 = 'LSSTComCam/runs/DRP/DP1/w_2025_13/DM-49751'\n",
    "\n",
    "butler_w13 = lsst.daf.butler.Butler(\"/repo/main\", collections=collection_w13)"
   ]
  },
  {
   "cell_type": "markdown",
   "id": "e0927168-dc87-469d-a8ee-943343777c0c",
   "metadata": {},
   "source": [
    "random u-band visit:\n",
    "2024110900195"
   ]
  },
  {
   "cell_type": "code",
   "execution_count": 5,
   "id": "dc327cf6-6ac4-4ef7-ba4a-8348db17378e",
   "metadata": {
    "execution": {
     "iopub.execute_input": "2025-04-02T15:51:03.294867Z",
     "iopub.status.busy": "2025-04-02T15:51:03.294231Z",
     "iopub.status.idle": "2025-04-02T15:51:03.297297Z",
     "shell.execute_reply": "2025-04-02T15:51:03.296835Z",
     "shell.execute_reply.started": "2025-04-02T15:51:03.294848Z"
    }
   },
   "outputs": [],
   "source": [
    "# u band detector id\n",
    "dataId = {'instrument': 'LSSTComCam', 'detector': 4, 'visit': 2024110900195}"
   ]
  },
  {
   "cell_type": "code",
   "execution_count": 6,
   "id": "5aae56f9-6a21-4e30-95cb-39b12634ba98",
   "metadata": {
    "execution": {
     "iopub.execute_input": "2025-04-02T15:51:06.104559Z",
     "iopub.status.busy": "2025-04-02T15:51:06.104234Z",
     "iopub.status.idle": "2025-04-02T15:51:06.115540Z",
     "shell.execute_reply": "2025-04-02T15:51:06.115186Z",
     "shell.execute_reply.started": "2025-04-02T15:51:06.104544Z"
    }
   },
   "outputs": [],
   "source": [
    "display2 = lsst.afw.display.Display(backend='firefly', frame=2)"
   ]
  },
  {
   "cell_type": "code",
   "execution_count": 11,
   "id": "b6df4efa-ca94-4d1f-9ba3-307665887852",
   "metadata": {
    "execution": {
     "iopub.execute_input": "2025-04-02T15:56:53.513564Z",
     "iopub.status.busy": "2025-04-02T15:56:53.512928Z",
     "iopub.status.idle": "2025-04-02T15:56:54.438292Z",
     "shell.execute_reply": "2025-04-02T15:56:54.437942Z",
     "shell.execute_reply.started": "2025-04-02T15:56:53.513548Z"
    }
   },
   "outputs": [
    {
     "data": {
      "text/plain": [
       "45"
      ]
     },
     "execution_count": 11,
     "metadata": {},
     "output_type": "execute_result"
    }
   ],
   "source": [
    "difference_w13 = butler_w13.get('difference_image', dataId) \n",
    "diaSrc_w13_unfiltered = butler_w13.get('dia_source_unfiltered', dataId)\n",
    "diaSrc_w13= butler_w13.get('dia_source_detector', dataId)\n",
    "len(diaSrc_w13)"
   ]
  },
  {
   "cell_type": "code",
   "execution_count": 36,
   "id": "7d4d4bf1-c5c9-490d-a061-9a2e4fda8932",
   "metadata": {
    "execution": {
     "iopub.execute_input": "2025-04-02T16:18:42.092643Z",
     "iopub.status.busy": "2025-04-02T16:18:42.092211Z",
     "iopub.status.idle": "2025-04-02T16:18:42.095393Z",
     "shell.execute_reply": "2025-04-02T16:18:42.095045Z",
     "shell.execute_reply.started": "2025-04-02T16:18:42.092627Z"
    }
   },
   "outputs": [],
   "source": [
    "not_sky = ~diaSrc_w13_unfiltered['sky_source']\n",
    "science_snr_unfiltered = (diaSrc_w13_unfiltered['ip_diffim_forced_PsfFlux_instFlux']/\n",
    "diaSrc_w13_unfiltered['ip_diffim_forced_PsfFlux_instFluxErr'])\n",
    "science_snr = diaSrc_w13['scienceFlux']/diaSrc_w13['scienceFluxErr']"
   ]
  },
  {
   "cell_type": "code",
   "execution_count": 39,
   "id": "ae85cfd7-8fda-4fa1-9b3f-c889390f403f",
   "metadata": {
    "execution": {
     "iopub.execute_input": "2025-04-02T16:24:08.789269Z",
     "iopub.status.busy": "2025-04-02T16:24:08.788753Z",
     "iopub.status.idle": "2025-04-02T16:24:08.791891Z",
     "shell.execute_reply": "2025-04-02T16:24:08.791497Z",
     "shell.execute_reply.started": "2025-04-02T16:24:08.789253Z"
    }
   },
   "outputs": [],
   "source": [
    "        trail_mask = (diaSrc_w13_unfiltered[\"ext_trailedSources_Naive_length\"]\n",
    "                      >= (36000/3600.0/24.0*30.))\n",
    "        trail_mask |= diaSrc_w13_unfiltered['ext_trailedSources_Naive_flag_off_image']\n",
    "        trail_mask |= (diaSrc_w13_unfiltered['ext_trailedSources_Naive_flag_suspect_long_trail']\n",
    "                       & diaSrc_w13_unfiltered['ext_trailedSources_Naive_flag_edge'])"
   ]
  },
  {
   "cell_type": "code",
   "execution_count": 40,
   "id": "596c372c-e2bb-471e-91f3-ec09e60b8e1a",
   "metadata": {
    "execution": {
     "iopub.execute_input": "2025-04-02T16:24:17.143833Z",
     "iopub.status.busy": "2025-04-02T16:24:17.143365Z",
     "iopub.status.idle": "2025-04-02T16:24:17.146571Z",
     "shell.execute_reply": "2025-04-02T16:24:17.146243Z",
     "shell.execute_reply.started": "2025-04-02T16:24:17.143817Z"
    }
   },
   "outputs": [
    {
     "data": {
      "text/plain": [
       "np.int64(57)"
      ]
     },
     "execution_count": 40,
     "metadata": {},
     "output_type": "execute_result"
    }
   ],
   "source": [
    "np.sum(trail_mask)"
   ]
  },
  {
   "cell_type": "code",
   "execution_count": 41,
   "id": "65de4b3f-071a-41ed-a39f-fa922014fd82",
   "metadata": {
    "execution": {
     "iopub.execute_input": "2025-04-02T16:24:29.533860Z",
     "iopub.status.busy": "2025-04-02T16:24:29.533297Z",
     "iopub.status.idle": "2025-04-02T16:24:29.884022Z",
     "shell.execute_reply": "2025-04-02T16:24:29.883676Z",
     "shell.execute_reply.started": "2025-04-02T16:24:29.533846Z"
    }
   },
   "outputs": [
    {
     "data": {
      "text/plain": [
       "Text(0, 0.5, 'Number of DIASources')"
      ]
     },
     "execution_count": 41,
     "metadata": {},
     "output_type": "execute_result"
    },
    {
     "data": {
      "image/png": "[encoded data removed]",
      "text/plain": [
       "<Figure size 640x480 with 1 Axes>"
      ]
     },
     "metadata": {},
     "output_type": "display_data"
    }
   ],
   "source": [
    "plt.figure()\n",
    "plt.hist(science_snr_unfiltered[not_sky & ~trail_mask],bins=np.linspace(-10,10,50))\n",
    "plt.hist(science_snr,bins=np.linspace(-10,10,50))\n",
    "plt.xlabel('scienceFlux/scienceFluxErr')\n",
    "plt.ylabel('Number of DIASources')"
   ]
  },
  {
   "cell_type": "code",
   "execution_count": 22,
   "id": "64caf16f-5abf-4486-83de-82627f4a1471",
   "metadata": {
    "execution": {
     "iopub.execute_input": "2025-04-02T16:09:20.633136Z",
     "iopub.status.busy": "2025-04-02T16:09:20.632568Z",
     "iopub.status.idle": "2025-04-02T16:09:20.635851Z",
     "shell.execute_reply": "2025-04-02T16:09:20.635516Z",
     "shell.execute_reply.started": "2025-04-02T16:09:20.633121Z"
    }
   },
   "outputs": [
    {
     "data": {
      "text/plain": [
       "<lsst.afw.table.SourceColumnView at 0x7fc61ace2bf0>"
      ]
     },
     "execution_count": 22,
     "metadata": {},
     "output_type": "execute_result"
    }
   ],
   "source": [
    "diaSrc_w13_unfiltered.columns"
   ]
  },
  {
   "cell_type": "code",
   "execution_count": 17,
   "id": "b4620e6a-85dc-43a3-aede-4967dbe5f80e",
   "metadata": {
    "execution": {
     "iopub.execute_input": "2025-04-02T16:06:28.262954Z",
     "iopub.status.busy": "2025-04-02T16:06:28.262537Z",
     "iopub.status.idle": "2025-04-02T16:06:31.695020Z",
     "shell.execute_reply": "2025-04-02T16:06:31.694630Z",
     "shell.execute_reply.started": "2025-04-02T16:06:28.262934Z"
    }
   },
   "outputs": [],
   "source": [
    "display2.image(difference_w13)\n",
    "display2.centroids(diaSrc_w13_unfiltered, size=10, ctype='blue')\n",
    "for idx,row in diaSrc_w13.iterrows():\n",
    "    display2.dot('o',row['x'], row['y'], size=10, ctype='red')"
   ]
  }
 ],
 "metadata": {
  "kernelspec": {
   "display_name": "LSST",
   "language": "python",
   "name": "lsst"
  },
  "language_info": {
   "codemirror_mode": {
    "name": "ipython",
    "version": 3
   },
   "file_extension": ".py",
   "mimetype": "text/x-python",
   "name": "python",
   "nbconvert_exporter": "python",
   "pygments_lexer": "ipython3",
   "version": "3.12.9"
  }
 },
 "nbformat": 4,
 "nbformat_minor": 5
}
