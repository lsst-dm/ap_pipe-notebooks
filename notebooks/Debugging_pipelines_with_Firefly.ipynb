{
 "cells": [
  {
   "cell_type": "markdown",
   "id": "eddf0bca-951c-45a0-82b9-c762a9b024f5",
   "metadata": {},
   "source": [
    "## Debugging Pipelines with Firefly\n",
    "\n",
    "Eric Bellm & John Parejko, initially 2024-04-01 "
   ]
  },
  {
   "cell_type": "code",
   "execution_count": 1,
   "id": "2ec462b7-70ae-48a0-a271-93e1d7295f6c",
   "metadata": {
    "execution": {
     "iopub.execute_input": "2025-02-10T21:52:13.669375Z",
     "iopub.status.busy": "2025-02-10T21:52:13.669057Z",
     "iopub.status.idle": "2025-02-10T21:52:13.671345Z",
     "shell.execute_reply": "2025-02-10T21:52:13.671039Z",
     "shell.execute_reply.started": "2025-02-10T21:52:13.669360Z"
    }
   },
   "outputs": [],
   "source": [
    "#!pip install --user ipdb"
   ]
  },
  {
   "cell_type": "code",
   "execution_count": 14,
   "id": "597a136d-9035-4873-8eaa-64e16c1576eb",
   "metadata": {
    "execution": {
     "iopub.execute_input": "2025-02-12T16:00:18.042319Z",
     "iopub.status.busy": "2025-02-12T16:00:18.042072Z",
     "iopub.status.idle": "2025-02-12T16:00:18.178326Z",
     "shell.execute_reply": "2025-02-12T16:00:18.177866Z",
     "shell.execute_reply.started": "2025-02-12T16:00:18.042304Z"
    }
   },
   "outputs": [],
   "source": [
    "import lsst.afw.display\n",
    "display1 = lsst.afw.display.Display(backend='firefly', frame=1)\n",
    "display2 = lsst.afw.display.Display(backend='firefly', frame=2)"
   ]
  },
  {
   "cell_type": "code",
   "execution_count": 15,
   "id": "6c11f186-25f1-4cbd-8975-05dbc508aa8a",
   "metadata": {
    "execution": {
     "iopub.execute_input": "2025-02-12T16:00:18.566243Z",
     "iopub.status.busy": "2025-02-12T16:00:18.565904Z",
     "iopub.status.idle": "2025-02-12T16:00:18.569258Z",
     "shell.execute_reply": "2025-02-12T16:00:18.568687Z",
     "shell.execute_reply.started": "2025-02-12T16:00:18.566221Z"
    }
   },
   "outputs": [],
   "source": [
    "from lsst.ip.diffim import detectAndMeasure\n",
    "import lsst.daf.butler"
   ]
  },
  {
   "cell_type": "code",
   "execution_count": 16,
   "id": "ef75830e-a689-469c-a4bb-4d5c599e22c2",
   "metadata": {
    "execution": {
     "iopub.execute_input": "2025-02-12T16:00:19.713454Z",
     "iopub.status.busy": "2025-02-12T16:00:19.713077Z",
     "iopub.status.idle": "2025-02-12T16:00:19.727316Z",
     "shell.execute_reply": "2025-02-12T16:00:19.726427Z",
     "shell.execute_reply.started": "2025-02-12T16:00:19.713428Z"
    }
   },
   "outputs": [],
   "source": [
    "# ap-verify run\n",
    "#dataset = \"cosmos\"\n",
    "#base_path = \"/sdf/group/rubin/user/parejko/scratch/ap_verify_runs/\"\n",
    "#collection = 'ap_verify-output'\n",
    "\n",
    "#butler = lsst.daf.butler.Butler(f\"{base_path}{dataset}-40507/repo\", collections=collection)\n"
   ]
  },
  {
   "cell_type": "code",
   "execution_count": 17,
   "id": "07cb566b-83aa-435b-aadf-8d90ea0ce664",
   "metadata": {
    "execution": {
     "iopub.execute_input": "2025-02-12T16:00:20.202646Z",
     "iopub.status.busy": "2025-02-12T16:00:20.202027Z",
     "iopub.status.idle": "2025-02-12T16:00:20.436382Z",
     "shell.execute_reply": "2025-02-12T16:00:20.435831Z",
     "shell.execute_reply.started": "2025-02-12T16:00:20.202621Z"
    }
   },
   "outputs": [],
   "source": [
    "collection = 'LSSTComCam/runs/DRP/DP1/w_2025_05/DM-48666'\n",
    "#collection = 'u/bos/DM-47926-DRP_DiffimWithFakes'\n",
    "\n",
    "butler = lsst.daf.butler.Butler(\"/repo/main\", collections=collection)"
   ]
  },
  {
   "cell_type": "code",
   "execution_count": 18,
   "id": "4ed00a08-4c07-4e3d-95f3-7235c490deab",
   "metadata": {
    "execution": {
     "iopub.execute_input": "2025-02-12T16:07:37.541701Z",
     "iopub.status.busy": "2025-02-12T16:07:37.541406Z",
     "iopub.status.idle": "2025-02-12T16:07:37.544147Z",
     "shell.execute_reply": "2025-02-12T16:07:37.543688Z",
     "shell.execute_reply.started": "2025-02-12T16:07:37.541686Z"
    }
   },
   "outputs": [],
   "source": [
    "#dir(butler.registry)"
   ]
  },
  {
   "cell_type": "code",
   "execution_count": 19,
   "id": "26ece74e-6618-43e5-8f30-33b835dc155c",
   "metadata": {
    "execution": {
     "iopub.execute_input": "2025-02-12T16:07:37.893967Z",
     "iopub.status.busy": "2025-02-12T16:07:37.893774Z",
     "iopub.status.idle": "2025-02-12T16:07:37.896172Z",
     "shell.execute_reply": "2025-02-12T16:07:37.895820Z",
     "shell.execute_reply.started": "2025-02-12T16:07:37.893953Z"
    },
    "scrolled": true
   },
   "outputs": [],
   "source": [
    "#butler.registry.queryDatasetTypes()"
   ]
  },
  {
   "cell_type": "markdown",
   "id": "2308c141-ba38-453a-a943-8f94a7a7c139",
   "metadata": {},
   "source": [
    "standard comcam test set: \n",
    "\n",
    "detector 4\n",
    "(2024120600098, 2024112000208, 2024112800140, 2024111100094, 2024111900082, 2024111600297)\n",
    "(all r band)\n"
   ]
  },
  {
   "cell_type": "code",
   "execution_count": 20,
   "id": "eb3f2690-31cf-4ebf-9a25-a9b0c7b2db3d",
   "metadata": {
    "execution": {
     "iopub.execute_input": "2025-02-12T16:07:38.537806Z",
     "iopub.status.busy": "2025-02-12T16:07:38.537530Z",
     "iopub.status.idle": "2025-02-12T16:07:38.540129Z",
     "shell.execute_reply": "2025-02-12T16:07:38.539680Z",
     "shell.execute_reply.started": "2025-02-12T16:07:38.537791Z"
    }
   },
   "outputs": [],
   "source": [
    "#pvi_ref = list(butler.query_datasets('calexp', detector=4, visit=2024120600098))\n",
    "#len(pvi_ref)\n",
    "#pvi = butler.get(pvi_ref[2])"
   ]
  },
  {
   "cell_type": "code",
   "execution_count": 21,
   "id": "95f6697b-f8e8-45fd-9d12-4c3bfa618a7b",
   "metadata": {
    "execution": {
     "iopub.execute_input": "2025-02-12T16:07:39.126698Z",
     "iopub.status.busy": "2025-02-12T16:07:39.126286Z",
     "iopub.status.idle": "2025-02-12T16:07:39.128871Z",
     "shell.execute_reply": "2025-02-12T16:07:39.128468Z",
     "shell.execute_reply.started": "2025-02-12T16:07:39.126679Z"
    }
   },
   "outputs": [],
   "source": [
    "# looking at injections\n",
    "# pvi_ref = list(butler.query_datasets('injected_goodSeeingDiff_differenceExp', detector=4, band='r'))\n",
    "# len(pvi_ref)\n",
    "#difference = butler.get('injected_goodSeeingDiff_differenceExp', pvi_ref[0].dataId) \n",
    "#diaSrc = butler.get('injected_goodSeeingDiff_diaSrc', pvi_ref[0].dataId)\n",
    "#match = butler.get('injected_goodSeeingDiff_matchDiaSourceTable', pvi_ref[0].dataId)"
   ]
  },
  {
   "cell_type": "code",
   "execution_count": 22,
   "id": "fab1aa2e-bd31-4abe-9e7a-8b2edc9c307a",
   "metadata": {
    "execution": {
     "iopub.execute_input": "2025-02-12T16:07:39.262230Z",
     "iopub.status.busy": "2025-02-12T16:07:39.262085Z",
     "iopub.status.idle": "2025-02-12T16:07:39.264379Z",
     "shell.execute_reply": "2025-02-12T16:07:39.264024Z",
     "shell.execute_reply.started": "2025-02-12T16:07:39.262218Z"
    }
   },
   "outputs": [],
   "source": [
    "dataId = {'instrument': 'LSSTComCam', 'detector': 4, 'visit': 2024112800140}"
   ]
  },
  {
   "cell_type": "code",
   "execution_count": 23,
   "id": "76bebce5-4ba3-4f20-bb35-cac1ac6ece6a",
   "metadata": {
    "execution": {
     "iopub.execute_input": "2025-02-12T16:07:41.300941Z",
     "iopub.status.busy": "2025-02-12T16:07:41.300653Z",
     "iopub.status.idle": "2025-02-12T16:07:41.303057Z",
     "shell.execute_reply": "2025-02-12T16:07:41.302660Z",
     "shell.execute_reply.started": "2025-02-12T16:07:41.300926Z"
    }
   },
   "outputs": [],
   "source": [
    "# drp calls these calexp, blargh\n",
    "#pvi = butler.get('calexp', dataId= dataId)\n",
    "#display.image(pvi)"
   ]
  },
  {
   "cell_type": "code",
   "execution_count": 24,
   "id": "21d8bf74-6430-4a85-a122-e556ad3853d9",
   "metadata": {
    "execution": {
     "iopub.execute_input": "2025-02-12T16:07:42.216111Z",
     "iopub.status.busy": "2025-02-12T16:07:42.215823Z",
     "iopub.status.idle": "2025-02-12T16:07:43.219280Z",
     "shell.execute_reply": "2025-02-12T16:07:43.218806Z",
     "shell.execute_reply.started": "2025-02-12T16:07:42.216096Z"
    }
   },
   "outputs": [],
   "source": [
    "# inputs to detectAndMeasureTask\n",
    "#science = butler.get('fakes_initial_pvi', dataId)\n",
    "#stars = butler.get('initial_psf_stars_detector', dataId)\n",
    "\n",
    "difference = butler.get('goodSeeingDiff_differenceExp', dataId) \n",
    "#template = butler.get('goodSeeingDiff_matchedExp', dataId)\n",
    "diaSrc = butler.get('goodSeeingDiff_diaSrc', dataId)"
   ]
  },
  {
   "cell_type": "code",
   "execution_count": null,
   "id": "49d370ea-6910-4ede-b565-f4a3f2c3e606",
   "metadata": {},
   "outputs": [],
   "source": []
  },
  {
   "cell_type": "code",
   "execution_count": 26,
   "id": "b4e8337c-26c6-4c58-b304-fcf5a6c4102a",
   "metadata": {
    "execution": {
     "iopub.execute_input": "2025-02-12T16:08:15.984971Z",
     "iopub.status.busy": "2025-02-12T16:08:15.984677Z",
     "iopub.status.idle": "2025-02-12T16:08:16.679881Z",
     "shell.execute_reply": "2025-02-12T16:08:16.679458Z",
     "shell.execute_reply.started": "2025-02-12T16:08:15.984956Z"
    }
   },
   "outputs": [],
   "source": [
    "display1.image(difference)\n",
    "display1.centroids(diaSrc, size=10, ctype='red')"
   ]
  },
  {
   "cell_type": "code",
   "execution_count": 9,
   "id": "0c5b7354-2ca0-4462-82ef-d8917d9b4169",
   "metadata": {
    "execution": {
     "iopub.execute_input": "2025-02-10T22:13:08.371828Z",
     "iopub.status.busy": "2025-02-10T22:13:08.371192Z",
     "iopub.status.idle": "2025-02-10T22:13:08.375331Z",
     "shell.execute_reply": "2025-02-10T22:13:08.374891Z",
     "shell.execute_reply.started": "2025-02-10T22:13:08.371804Z"
    }
   },
   "outputs": [
    {
     "data": {
      "text/plain": [
       "206"
      ]
     },
     "execution_count": 9,
     "metadata": {},
     "output_type": "execute_result"
    }
   ],
   "source": [
    "len(diaSrc)"
   ]
  },
  {
   "cell_type": "code",
   "execution_count": null,
   "id": "5aae56f9-6a21-4e30-95cb-39b12634ba98",
   "metadata": {},
   "outputs": [],
   "source": []
  },
  {
   "cell_type": "markdown",
   "id": "a4e46895-ad8c-4cfd-8893-1a2b912a9c88",
   "metadata": {},
   "source": [
    "drop into code\n",
    "```\n",
    "import ipdb\n",
    "import lsst.afw.display; display = lsst.afw.display.Display(backend='firefly')\n",
    "ipdb.set_trace()\n",
    "```"
   ]
  },
  {
   "cell_type": "code",
   "execution_count": 27,
   "id": "c945b7ac-1b1a-4ee4-9f8f-5fef6123d01f",
   "metadata": {
    "execution": {
     "iopub.execute_input": "2025-02-12T16:09:51.077877Z",
     "iopub.status.busy": "2025-02-12T16:09:51.077503Z",
     "iopub.status.idle": "2025-02-12T16:09:51.147663Z",
     "shell.execute_reply": "2025-02-12T16:09:51.147268Z",
     "shell.execute_reply.started": "2025-02-12T16:09:51.077855Z"
    }
   },
   "outputs": [],
   "source": [
    "task = detectAndMeasure.DetectAndMeasureTask()"
   ]
  },
  {
   "cell_type": "code",
   "execution_count": 28,
   "id": "70727570-5992-40a1-a05f-63e7f245cc66",
   "metadata": {
    "execution": {
     "iopub.execute_input": "2025-02-12T16:09:51.458516Z",
     "iopub.status.busy": "2025-02-12T16:09:51.458011Z",
     "iopub.status.idle": "2025-02-12T16:09:54.951731Z",
     "shell.execute_reply": "2025-02-12T16:09:54.951210Z",
     "shell.execute_reply.started": "2025-02-12T16:09:51.458497Z"
    }
   },
   "outputs": [],
   "source": [
    "# detect and measure for DRP wants pvi, goodSeeingDiff_matchedExp, goodSeeingDiff_differenceTempExp as inputs\n",
    "pvi = butler.get('pvi', dataId) \n",
    "template = butler.get('goodSeeingDiff_matchedExp', dataId) \n",
    "difference = butler.get('goodSeeingDiff_differenceTempExp', dataId) \n"
   ]
  },
  {
   "cell_type": "code",
   "execution_count": 29,
   "id": "8029f04f-392e-4633-8c0c-159c6c303a25",
   "metadata": {
    "execution": {
     "iopub.execute_input": "2025-02-12T16:09:54.952907Z",
     "iopub.status.busy": "2025-02-12T16:09:54.952761Z",
     "iopub.status.idle": "2025-02-12T16:10:02.536336Z",
     "shell.execute_reply": "2025-02-12T16:10:02.535813Z",
     "shell.execute_reply.started": "2025-02-12T16:09:54.952895Z"
    }
   },
   "outputs": [
    {
     "data": {
      "text/html": [
       "<pre style=\"margin: 0.1em;\n",
       "padding-left: 0.25em;\n",
       "border-left-style: solid;\n",
       "font-family: var(--jp-code-font-family);\n",
       "font-size: var(--jp-code-font-size);\n",
       "line-height: var(--jp-code-line-height);\n",
       "\"><span style=\"color: var(--jp-warn-color2)\">lsst.detectAndMeasure.detection</span> <span style=\"color: var(--jp-info-color0)\">INFO</span>: Setting factor for negative detections equal to that for positive detections: 1.000000</pre>"
      ],
      "text/plain": [
       "<IPython.core.display.HTML object>"
      ]
     },
     "metadata": {},
     "output_type": "display_data"
    },
    {
     "data": {
      "text/html": [
       "<pre style=\"margin: 0.1em;\n",
       "padding-left: 0.25em;\n",
       "border-left-style: solid;\n",
       "font-family: var(--jp-code-font-family);\n",
       "font-size: var(--jp-code-font-size);\n",
       "line-height: var(--jp-code-line-height);\n",
       "\"><span style=\"color: var(--jp-warn-color2)\">lsst.detectAndMeasure.detection</span> <span style=\"color: var(--jp-info-color0)\">INFO</span>: Detected 397 positive peaks in 146 footprints and 641 negative peaks in 112 footprints to 5 +ve and 5 -ve sigma</pre>"
      ],
      "text/plain": [
       "<IPython.core.display.HTML object>"
      ]
     },
     "metadata": {},
     "output_type": "display_data"
    },
    {
     "data": {
      "text/html": [
       "<pre style=\"margin: 0.1em;\n",
       "padding-left: 0.25em;\n",
       "border-left-style: solid;\n",
       "font-family: var(--jp-code-font-family);\n",
       "font-size: var(--jp-code-font-size);\n",
       "line-height: var(--jp-code-line-height);\n",
       "\"><span style=\"color: var(--jp-warn-color2)\">lsst.detectAndMeasure</span> <span style=\"color: var(--jp-info-color0)\">INFO</span>: Merging detections into 143 sources</pre>"
      ],
      "text/plain": [
       "<IPython.core.display.HTML object>"
      ]
     },
     "metadata": {},
     "output_type": "display_data"
    },
    {
     "data": {
      "text/html": [
       "<pre style=\"margin: 0.1em;\n",
       "padding-left: 0.25em;\n",
       "border-left-style: solid;\n",
       "font-family: var(--jp-code-font-family);\n",
       "font-size: var(--jp-code-font-size);\n",
       "line-height: var(--jp-code-line-height);\n",
       "\"><span style=\"color: var(--jp-warn-color2)\">lsst.detectAndMeasure.streakDetection</span> <span style=\"color: var(--jp-info-color0)\">INFO</span>: Setting factor for negative detections equal to that for positive detections: 1.000000</pre>"
      ],
      "text/plain": [
       "<IPython.core.display.HTML object>"
      ]
     },
     "metadata": {},
     "output_type": "display_data"
    },
    {
     "data": {
      "text/html": [
       "<pre style=\"margin: 0.1em;\n",
       "padding-left: 0.25em;\n",
       "border-left-style: solid;\n",
       "font-family: var(--jp-code-font-family);\n",
       "font-size: var(--jp-code-font-size);\n",
       "line-height: var(--jp-code-line-height);\n",
       "\"><span style=\"color: var(--jp-warn-color2)\">lsst.detectAndMeasure.streakDetection</span> <span style=\"color: var(--jp-info-color0)\">INFO</span>: Detected 217 positive peaks in 144 footprints to 5 +ve and 5 -ve sigma</pre>"
      ],
      "text/plain": [
       "<IPython.core.display.HTML object>"
      ]
     },
     "metadata": {},
     "output_type": "display_data"
    },
    {
     "data": {
      "text/html": [
       "<pre style=\"margin: 0.1em;\n",
       "padding-left: 0.25em;\n",
       "border-left-style: solid;\n",
       "font-family: var(--jp-code-font-family);\n",
       "font-size: var(--jp-code-font-size);\n",
       "line-height: var(--jp-code-line-height);\n",
       "\"><span style=\"color: var(--jp-warn-color2)\">lsst.detectAndMeasure.maskStreaks</span> <span style=\"color: var(--jp-info-color0)\">INFO</span>: The Kernel Hough Transform detected 3 line(s)</pre>"
      ],
      "text/plain": [
       "<IPython.core.display.HTML object>"
      ]
     },
     "metadata": {},
     "output_type": "display_data"
    },
    {
     "data": {
      "text/html": [
       "<pre style=\"margin: 0.1em;\n",
       "padding-left: 0.25em;\n",
       "border-left-style: solid;\n",
       "font-family: var(--jp-code-font-family);\n",
       "font-size: var(--jp-code-font-size);\n",
       "line-height: var(--jp-code-line-height);\n",
       "\"><span style=\"color: var(--jp-warn-color2)\">lsst.detectAndMeasure.maskStreaks</span> <span style=\"color: var(--jp-info-color0)\">INFO</span>: Lines were grouped into 2 potential streak(s)</pre>"
      ],
      "text/plain": [
       "<IPython.core.display.HTML object>"
      ]
     },
     "metadata": {},
     "output_type": "display_data"
    },
    {
     "data": {
      "text/html": [
       "<pre style=\"margin: 0.1em;\n",
       "padding-left: 0.25em;\n",
       "border-left-style: solid;\n",
       "font-family: var(--jp-code-font-family);\n",
       "font-size: var(--jp-code-font-size);\n",
       "line-height: var(--jp-code-line-height);\n",
       "\"><span style=\"color: var(--jp-warn-color2)\">lsst.detectAndMeasure.maskStreaks</span> <span style=\"color: var(--jp-info-color0)\">INFO</span>: Line with width 7731 exceeded maximum configured width of 100</pre>"
      ],
      "text/plain": [
       "<IPython.core.display.HTML object>"
      ]
     },
     "metadata": {},
     "output_type": "display_data"
    },
    {
     "data": {
      "text/html": [
       "<pre style=\"margin: 0.1em;\n",
       "padding-left: 0.25em;\n",
       "border-left-style: solid;\n",
       "font-family: var(--jp-code-font-family);\n",
       "font-size: var(--jp-code-font-size);\n",
       "line-height: var(--jp-code-line-height);\n",
       "\"><span style=\"color: var(--jp-warn-color2)\">lsst.detectAndMeasure.measurement</span> <span style=\"color: var(--jp-info-color0)\">INFO</span>: Measuring 143 sources (143 parents, 0 children) </pre>"
      ],
      "text/plain": [
       "<IPython.core.display.HTML object>"
      ]
     },
     "metadata": {},
     "output_type": "display_data"
    },
    {
     "data": {
      "text/html": [
       "<pre style=\"margin: 0.1em;\n",
       "padding-left: 0.25em;\n",
       "border-left-style: solid;\n",
       "font-family: var(--jp-code-font-family);\n",
       "font-size: var(--jp-code-font-size);\n",
       "line-height: var(--jp-code-line-height);\n",
       "\"><span style=\"color: var(--jp-warn-color2)\">ip_diffim_DipoleFit</span> <span style=\"color: var(--jp-warn-color0)\">WARNING</span>: DipoleFitPlugin failed on record 1: bad dipole fit</pre>"
      ],
      "text/plain": [
       "<IPython.core.display.HTML object>"
      ]
     },
     "metadata": {},
     "output_type": "display_data"
    },
    {
     "data": {
      "text/html": [
       "<pre style=\"margin: 0.1em;\n",
       "padding-left: 0.25em;\n",
       "border-left-style: solid;\n",
       "font-family: var(--jp-code-font-family);\n",
       "font-size: var(--jp-code-font-size);\n",
       "line-height: var(--jp-code-line-height);\n",
       "\"><span style=\"color: var(--jp-warn-color2)\">lsst.detectAndMeasure.measurement</span> <span style=\"color: var(--jp-info-color0)\">INFO</span>: Measuring 143 sources (143 parents, 0 children) </pre>"
      ],
      "text/plain": [
       "<IPython.core.display.HTML object>"
      ]
     },
     "metadata": {},
     "output_type": "display_data"
    },
    {
     "data": {
      "text/html": [
       "<pre style=\"margin: 0.1em;\n",
       "padding-left: 0.25em;\n",
       "border-left-style: solid;\n",
       "font-family: var(--jp-code-font-family);\n",
       "font-size: var(--jp-code-font-size);\n",
       "line-height: var(--jp-code-line-height);\n",
       "\"><span style=\"color: var(--jp-warn-color2)\">lsst.detectAndMeasure.measurement.base_PsfFlux</span> <span style=\"color: var(--jp-warn-color0)\">WARNING</span>: Exception in base_PsfFlux.measure on record 5: \n",
       "  File &quot;src/PsfFlux.cc&quot;, line 120, in virtual void lsst::meas::base::PsfFluxAlgorithm::measure(lsst::afw::table::SourceRecord&amp;, const lsst::afw::image::Exposure&lt;float&gt;&amp;) const\n",
       "    Invalid pixel value detected in image. {0}\n",
       "lsst::meas::base::PixelValueError: &#x27;Invalid pixel value detected in image.&#x27;\n",
       "</pre>"
      ],
      "text/plain": [
       "<IPython.core.display.HTML object>"
      ]
     },
     "metadata": {},
     "output_type": "display_data"
    },
    {
     "data": {
      "text/html": [
       "<pre style=\"margin: 0.1em;\n",
       "padding-left: 0.25em;\n",
       "border-left-style: solid;\n",
       "font-family: var(--jp-code-font-family);\n",
       "font-size: var(--jp-code-font-size);\n",
       "line-height: var(--jp-code-line-height);\n",
       "\"><span style=\"color: var(--jp-warn-color2)\">lsst.detectAndMeasure.measurement.base_PsfFlux</span> <span style=\"color: var(--jp-warn-color0)\">WARNING</span>: Exception in base_PsfFlux.measure on record 39: \n",
       "  File &quot;src/PsfFlux.cc&quot;, line 120, in virtual void lsst::meas::base::PsfFluxAlgorithm::measure(lsst::afw::table::SourceRecord&amp;, const lsst::afw::image::Exposure&lt;float&gt;&amp;) const\n",
       "    Invalid pixel value detected in image. {0}\n",
       "lsst::meas::base::PixelValueError: &#x27;Invalid pixel value detected in image.&#x27;\n",
       "</pre>"
      ],
      "text/plain": [
       "<IPython.core.display.HTML object>"
      ]
     },
     "metadata": {},
     "output_type": "display_data"
    },
    {
     "data": {
      "text/html": [
       "<pre style=\"margin: 0.1em;\n",
       "padding-left: 0.25em;\n",
       "border-left-style: solid;\n",
       "font-family: var(--jp-code-font-family);\n",
       "font-size: var(--jp-code-font-size);\n",
       "line-height: var(--jp-code-line-height);\n",
       "\"><span style=\"color: var(--jp-warn-color2)\">lsst.detectAndMeasure.measurement.base_PsfFlux</span> <span style=\"color: var(--jp-warn-color0)\">WARNING</span>: Exception in base_PsfFlux.measure on record 41: \n",
       "  File &quot;src/PsfFlux.cc&quot;, line 120, in virtual void lsst::meas::base::PsfFluxAlgorithm::measure(lsst::afw::table::SourceRecord&amp;, const lsst::afw::image::Exposure&lt;float&gt;&amp;) const\n",
       "    Invalid pixel value detected in image. {0}\n",
       "lsst::meas::base::PixelValueError: &#x27;Invalid pixel value detected in image.&#x27;\n",
       "</pre>"
      ],
      "text/plain": [
       "<IPython.core.display.HTML object>"
      ]
     },
     "metadata": {},
     "output_type": "display_data"
    },
    {
     "data": {
      "text/html": [
       "<pre style=\"margin: 0.1em;\n",
       "padding-left: 0.25em;\n",
       "border-left-style: solid;\n",
       "font-family: var(--jp-code-font-family);\n",
       "font-size: var(--jp-code-font-size);\n",
       "line-height: var(--jp-code-line-height);\n",
       "\"><span style=\"color: var(--jp-warn-color2)\">lsst.detectAndMeasure.measurement.base_PsfFlux</span> <span style=\"color: var(--jp-warn-color0)\">WARNING</span>: Exception in base_PsfFlux.measure on record 103: \n",
       "  File &quot;src/PsfFlux.cc&quot;, line 120, in virtual void lsst::meas::base::PsfFluxAlgorithm::measure(lsst::afw::table::SourceRecord&amp;, const lsst::afw::image::Exposure&lt;float&gt;&amp;) const\n",
       "    Invalid pixel value detected in image. {0}\n",
       "lsst::meas::base::PixelValueError: &#x27;Invalid pixel value detected in image.&#x27;\n",
       "</pre>"
      ],
      "text/plain": [
       "<IPython.core.display.HTML object>"
      ]
     },
     "metadata": {},
     "output_type": "display_data"
    },
    {
     "data": {
      "text/html": [
       "<pre style=\"margin: 0.1em;\n",
       "padding-left: 0.25em;\n",
       "border-left-style: solid;\n",
       "font-family: var(--jp-code-font-family);\n",
       "font-size: var(--jp-code-font-size);\n",
       "line-height: var(--jp-code-line-height);\n",
       "\"><span style=\"color: var(--jp-warn-color2)\">lsst.detectAndMeasure.measurement.base_PsfFlux</span> <span style=\"color: var(--jp-warn-color0)\">WARNING</span>: Exception in base_PsfFlux.measure on record 112: \n",
       "  File &quot;src/PsfFlux.cc&quot;, line 120, in virtual void lsst::meas::base::PsfFluxAlgorithm::measure(lsst::afw::table::SourceRecord&amp;, const lsst::afw::image::Exposure&lt;float&gt;&amp;) const\n",
       "    Invalid pixel value detected in image. {0}\n",
       "lsst::meas::base::PixelValueError: &#x27;Invalid pixel value detected in image.&#x27;\n",
       "</pre>"
      ],
      "text/plain": [
       "<IPython.core.display.HTML object>"
      ]
     },
     "metadata": {},
     "output_type": "display_data"
    },
    {
     "data": {
      "text/html": [
       "<pre style=\"margin: 0.1em;\n",
       "padding-left: 0.25em;\n",
       "border-left-style: solid;\n",
       "font-family: var(--jp-code-font-family);\n",
       "font-size: var(--jp-code-font-size);\n",
       "line-height: var(--jp-code-line-height);\n",
       "\"><span style=\"color: var(--jp-warn-color2)\">lsst.detectAndMeasure.measurement.base_PsfFlux</span> <span style=\"color: var(--jp-warn-color0)\">WARNING</span>: Exception in base_PsfFlux.measure on record 129: \n",
       "  File &quot;src/PsfFlux.cc&quot;, line 120, in virtual void lsst::meas::base::PsfFluxAlgorithm::measure(lsst::afw::table::SourceRecord&amp;, const lsst::afw::image::Exposure&lt;float&gt;&amp;) const\n",
       "    Invalid pixel value detected in image. {0}\n",
       "lsst::meas::base::PixelValueError: &#x27;Invalid pixel value detected in image.&#x27;\n",
       "</pre>"
      ],
      "text/plain": [
       "<IPython.core.display.HTML object>"
      ]
     },
     "metadata": {},
     "output_type": "display_data"
    },
    {
     "data": {
      "text/html": [
       "<pre style=\"margin: 0.1em;\n",
       "padding-left: 0.25em;\n",
       "border-left-style: solid;\n",
       "font-family: var(--jp-code-font-family);\n",
       "font-size: var(--jp-code-font-size);\n",
       "line-height: var(--jp-code-line-height);\n",
       "\"><span style=\"color: var(--jp-warn-color2)\">lsst.detectAndMeasure.applyApCorr</span> <span style=\"color: var(--jp-info-color0)\">INFO</span>: Applying aperture corrections to 1 instFlux fields</pre>"
      ],
      "text/plain": [
       "<IPython.core.display.HTML object>"
      ]
     },
     "metadata": {},
     "output_type": "display_data"
    },
    {
     "data": {
      "text/html": [
       "<pre style=\"margin: 0.1em;\n",
       "padding-left: 0.25em;\n",
       "border-left-style: solid;\n",
       "font-family: var(--jp-code-font-family);\n",
       "font-size: var(--jp-code-font-size);\n",
       "line-height: var(--jp-code-line-height);\n",
       "\"><span style=\"color: var(--jp-warn-color2)\">lsst.detectAndMeasure</span> <span style=\"color: var(--jp-info-color0)\">INFO</span>: Removed 18 unphysical sources.</pre>"
      ],
      "text/plain": [
       "<IPython.core.display.HTML object>"
      ]
     },
     "metadata": {},
     "output_type": "display_data"
    },
    {
     "data": {
      "text/html": [
       "<pre style=\"margin: 0.1em;\n",
       "padding-left: 0.25em;\n",
       "border-left-style: solid;\n",
       "font-family: var(--jp-code-font-family);\n",
       "font-size: var(--jp-code-font-size);\n",
       "line-height: var(--jp-code-line-height);\n",
       "\"><span style=\"color: var(--jp-warn-color2)\">lsst.detectAndMeasure.forcedMeasurement</span> <span style=\"color: var(--jp-info-color0)\">INFO</span>: Performing forced measurement on 125 sources</pre>"
      ],
      "text/plain": [
       "<IPython.core.display.HTML object>"
      ]
     },
     "metadata": {},
     "output_type": "display_data"
    },
    {
     "name": "stdout",
     "output_type": "stream",
     "text": [
      "CPU times: user 6.84 s, sys: 586 ms, total: 7.43 s\n",
      "Wall time: 7.58 s\n"
     ]
    }
   ],
   "source": [
    "%%time\n",
    "result = task.run(pvi, template, difference)"
   ]
  },
  {
   "cell_type": "code",
   "execution_count": 30,
   "id": "2ff6f2e5-ed75-40e2-a931-36f2b21bcc6c",
   "metadata": {
    "execution": {
     "iopub.execute_input": "2025-02-12T16:10:02.537196Z",
     "iopub.status.busy": "2025-02-12T16:10:02.537041Z",
     "iopub.status.idle": "2025-02-12T16:10:03.325881Z",
     "shell.execute_reply": "2025-02-12T16:10:03.325444Z",
     "shell.execute_reply.started": "2025-02-12T16:10:02.537183Z"
    }
   },
   "outputs": [],
   "source": [
    "display2.image(result.subtractedMeasuredExposure)\n",
    "display2.centroids(result.diaSources, size=10, ctype='red')"
   ]
  },
  {
   "cell_type": "code",
   "execution_count": 19,
   "id": "ce057f39-13b6-45b6-bf2a-ef7237b06718",
   "metadata": {
    "execution": {
     "iopub.execute_input": "2025-02-09T02:42:09.658940Z",
     "iopub.status.busy": "2025-02-09T02:42:09.658800Z",
     "iopub.status.idle": "2025-02-09T02:42:09.661888Z",
     "shell.execute_reply": "2025-02-09T02:42:09.661543Z",
     "shell.execute_reply.started": "2025-02-09T02:42:09.658928Z"
    }
   },
   "outputs": [
    {
     "data": {
      "text/plain": [
       "125"
      ]
     },
     "execution_count": 19,
     "metadata": {},
     "output_type": "execute_result"
    }
   ],
   "source": [
    "len(result.diaSources)"
   ]
  },
  {
   "cell_type": "code",
   "execution_count": 20,
   "id": "74f25515-bb19-43b5-b4b4-19823fb1f1fd",
   "metadata": {
    "execution": {
     "iopub.execute_input": "2025-02-09T02:42:09.662423Z",
     "iopub.status.busy": "2025-02-09T02:42:09.662301Z",
     "iopub.status.idle": "2025-02-09T02:42:09.688814Z",
     "shell.execute_reply": "2025-02-09T02:42:09.688454Z",
     "shell.execute_reply.started": "2025-02-09T02:42:09.662412Z"
    }
   },
   "outputs": [],
   "source": [
    "#display2.centroids(diaSrc, size=10, symbol='x', ctype='yellow')"
   ]
  },
  {
   "cell_type": "code",
   "execution_count": null,
   "id": "11d9e6fb-d7cc-40a8-ae13-1662b86bbef6",
   "metadata": {},
   "outputs": [],
   "source": []
  },
  {
   "cell_type": "code",
   "execution_count": null,
   "id": "ac9d196a-7132-4acf-a0a9-35f56b5f50fa",
   "metadata": {},
   "outputs": [],
   "source": [
    "(2024120600098, 2024112000208, 2024112800140, 2024111100094, 2024111900082, 2024111600297)"
   ]
  },
  {
   "cell_type": "code",
   "execution_count": 36,
   "id": "53569ad9-9cdd-4f0d-94ee-81783066837e",
   "metadata": {
    "execution": {
     "iopub.execute_input": "2025-02-12T18:08:53.273403Z",
     "iopub.status.busy": "2025-02-12T18:08:53.272946Z",
     "iopub.status.idle": "2025-02-12T18:08:53.572704Z",
     "shell.execute_reply": "2025-02-12T18:08:53.572258Z",
     "shell.execute_reply.started": "2025-02-12T18:08:53.273386Z"
    }
   },
   "outputs": [],
   "source": [
    "\n",
    "collection = 'LSSTComCam/runs/DRP/DP1/w_2025_06/DM-48810'\n",
    "butler = lsst.daf.butler.Butler(\"/repo/main\", collections=collection)"
   ]
  },
  {
   "cell_type": "code",
   "execution_count": 37,
   "id": "9b4e79dc-65f6-4b0a-b5fd-151777091440",
   "metadata": {
    "execution": {
     "iopub.execute_input": "2025-02-12T18:08:55.339417Z",
     "iopub.status.busy": "2025-02-12T18:08:55.339164Z",
     "iopub.status.idle": "2025-02-12T18:09:02.444502Z",
     "shell.execute_reply": "2025-02-12T18:09:02.444050Z",
     "shell.execute_reply.started": "2025-02-12T18:08:55.339402Z"
    }
   },
   "outputs": [],
   "source": [
    "dataId = {'instrument': 'LSSTComCam', 'detector': 4, 'visit': 2024120600098}\n",
    "template = butler.get('goodSeeingDiff_templateExp', dataId) \n",
    "\n",
    "display2.image(template)"
   ]
  },
  {
   "cell_type": "code",
   "execution_count": null,
   "id": "b346a479-e3bb-4d46-9d99-aea376bc45ec",
   "metadata": {},
   "outputs": [],
   "source": []
  }
 ],
 "metadata": {
  "kernelspec": {
   "display_name": "LSST",
   "language": "python",
   "name": "lsst"
  },
  "language_info": {
   "codemirror_mode": {
    "name": "ipython",
    "version": 3
   },
   "file_extension": ".py",
   "mimetype": "text/x-python",
   "name": "python",
   "nbconvert_exporter": "python",
   "pygments_lexer": "ipython3",
   "version": "3.11.11"
  }
 },
 "nbformat": 4,
 "nbformat_minor": 5
}
