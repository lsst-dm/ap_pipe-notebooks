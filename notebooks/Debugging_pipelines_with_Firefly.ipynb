{
 "cells": [
  {
   "cell_type": "markdown",
   "id": "eddf0bca-951c-45a0-82b9-c762a9b024f5",
   "metadata": {},
   "source": [
    "## Debugging Pipelines with Firefly\n",
    "\n",
    "Eric Bellm & John Parejko, initially 2024-04-01 "
   ]
  },
  {
   "cell_type": "code",
   "execution_count": 1,
   "id": "2ec462b7-70ae-48a0-a271-93e1d7295f6c",
   "metadata": {
    "execution": {
     "iopub.execute_input": "2024-04-01T17:57:39.320853Z",
     "iopub.status.busy": "2024-04-01T17:57:39.320723Z",
     "iopub.status.idle": "2024-04-01T17:57:39.322663Z",
     "shell.execute_reply": "2024-04-01T17:57:39.322335Z",
     "shell.execute_reply.started": "2024-04-01T17:57:39.320840Z"
    }
   },
   "outputs": [],
   "source": [
    "#!pip install --user ipdb"
   ]
  },
  {
   "cell_type": "code",
   "execution_count": 2,
   "id": "597a136d-9035-4873-8eaa-64e16c1576eb",
   "metadata": {
    "execution": {
     "iopub.execute_input": "2024-04-01T17:57:39.323234Z",
     "iopub.status.busy": "2024-04-01T17:57:39.323116Z",
     "iopub.status.idle": "2024-04-01T17:57:39.741303Z",
     "shell.execute_reply": "2024-04-01T17:57:39.740595Z",
     "shell.execute_reply.started": "2024-04-01T17:57:39.323223Z"
    }
   },
   "outputs": [],
   "source": [
    "import lsst.afw.display\n",
    "display = lsst.afw.display.Display(backend='firefly')"
   ]
  },
  {
   "cell_type": "code",
   "execution_count": 3,
   "id": "6c11f186-25f1-4cbd-8975-05dbc508aa8a",
   "metadata": {
    "execution": {
     "iopub.execute_input": "2024-04-01T17:57:39.743015Z",
     "iopub.status.busy": "2024-04-01T17:57:39.742606Z",
     "iopub.status.idle": "2024-04-01T17:57:42.563266Z",
     "shell.execute_reply": "2024-04-01T17:57:42.562800Z",
     "shell.execute_reply.started": "2024-04-01T17:57:39.743000Z"
    }
   },
   "outputs": [],
   "source": [
    "from lsst.ip.diffim import detectAndMeasure\n",
    "import lsst.daf.butler"
   ]
  },
  {
   "cell_type": "code",
   "execution_count": 4,
   "id": "ef75830e-a689-469c-a4bb-4d5c599e22c2",
   "metadata": {
    "execution": {
     "iopub.execute_input": "2024-04-01T17:57:42.564249Z",
     "iopub.status.busy": "2024-04-01T17:57:42.563837Z",
     "iopub.status.idle": "2024-04-01T17:57:42.705515Z",
     "shell.execute_reply": "2024-04-01T17:57:42.705087Z",
     "shell.execute_reply.started": "2024-04-01T17:57:42.564233Z"
    }
   },
   "outputs": [],
   "source": [
    "\n",
    "dataset = \"cosmos\"\n",
    "base_path = \"/sdf/group/rubin/user/parejko/scratch/ap_verify_runs/\"\n",
    "collection = 'ap_verify-output'\n",
    "\n",
    "butler = lsst.daf.butler.Butler(f\"{base_path}{dataset}-40507/repo\", collections=collection)\n"
   ]
  },
  {
   "cell_type": "code",
   "execution_count": 5,
   "id": "21d8bf74-6430-4a85-a122-e556ad3853d9",
   "metadata": {
    "execution": {
     "iopub.execute_input": "2024-04-01T17:57:42.706199Z",
     "iopub.status.busy": "2024-04-01T17:57:42.706062Z",
     "iopub.status.idle": "2024-04-01T17:57:44.142732Z",
     "shell.execute_reply": "2024-04-01T17:57:44.142296Z",
     "shell.execute_reply.started": "2024-04-01T17:57:42.706186Z"
    }
   },
   "outputs": [],
   "source": [
    "dataId = {'visit':59150, 'detector':50}\n",
    "\n",
    "# inputs to detectAndMeasureTask\n",
    "science = butler.get('initial_pvi', dataId)\n",
    "difference = butler.get('goodSeeingDiff_differenceTempExp', dataId) \n",
    "template = butler.get('goodSeeingDiff_matchedExp', dataId)\n",
    "\n",
    "diaSrc = butler.get('goodSeeingDiff_diaSrc', dataId)"
   ]
  },
  {
   "cell_type": "code",
   "execution_count": 6,
   "id": "b4e8337c-26c6-4c58-b304-fcf5a6c4102a",
   "metadata": {
    "execution": {
     "iopub.execute_input": "2024-04-01T17:57:44.143415Z",
     "iopub.status.busy": "2024-04-01T17:57:44.143286Z",
     "iopub.status.idle": "2024-04-01T17:57:44.843441Z",
     "shell.execute_reply": "2024-04-01T17:57:44.842988Z",
     "shell.execute_reply.started": "2024-04-01T17:57:44.143402Z"
    }
   },
   "outputs": [],
   "source": [
    "display.image(difference)\n",
    "display.centroids(diaSrc, size=10, ctype='red')"
   ]
  },
  {
   "cell_type": "code",
   "execution_count": 7,
   "id": "c945b7ac-1b1a-4ee4-9f8f-5fef6123d01f",
   "metadata": {
    "execution": {
     "iopub.execute_input": "2024-04-01T17:57:44.844098Z",
     "iopub.status.busy": "2024-04-01T17:57:44.843973Z",
     "iopub.status.idle": "2024-04-01T17:57:44.897593Z",
     "shell.execute_reply": "2024-04-01T17:57:44.897247Z",
     "shell.execute_reply.started": "2024-04-01T17:57:44.844086Z"
    }
   },
   "outputs": [],
   "source": [
    "task = detectAndMeasure.DetectAndMeasureTask()"
   ]
  },
  {
   "cell_type": "markdown",
   "id": "b42b009f-3c37-472c-9048-620b2220f892",
   "metadata": {},
   "source": [
    "put \n",
    "\n",
    "```\n",
    "import ipdb\n",
    "ipdb.set_trace()\n",
    "import lsst.afw.display; display = lsst.afw.display.Display(backend='firefly')\n",
    "```\n",
    "\n",
    "in `detectAndMeasure.py`"
   ]
  },
  {
   "cell_type": "code",
   "execution_count": 9,
   "id": "8029f04f-392e-4633-8c0c-159c6c303a25",
   "metadata": {
    "execution": {
     "iopub.execute_input": "2024-04-01T18:03:50.249295Z",
     "iopub.status.busy": "2024-04-01T18:03:50.249046Z",
     "iopub.status.idle": "2024-04-01T18:20:02.461192Z",
     "shell.execute_reply": "2024-04-01T18:20:02.460592Z",
     "shell.execute_reply.started": "2024-04-01T18:03:50.249283Z"
    }
   },
   "outputs": [
    {
     "data": {
      "text/html": [
       "<pre style=\"margin: 0.1em;\n",
       "padding-left: 0.25em;\n",
       "border-left-style: solid;\n",
       "font-family: var(--jp-code-font-family);\n",
       "font-size: var(--jp-code-font-size);\n",
       "line-height: var(--jp-code-line-height);\n",
       "\"><span style=\"color: var(--jp-warn-color2)\">lsst.detectAndMeasure.detection</span> <span style=\"color: var(--jp-info-color0)\">INFO</span>: Setting factor for negative detections equal to that for positive detections: 1.000000</pre>"
      ],
      "text/plain": [
       "<IPython.core.display.HTML object>"
      ]
     },
     "metadata": {},
     "output_type": "display_data"
    },
    {
     "data": {
      "text/html": [
       "<pre style=\"margin: 0.1em;\n",
       "padding-left: 0.25em;\n",
       "border-left-style: solid;\n",
       "font-family: var(--jp-code-font-family);\n",
       "font-size: var(--jp-code-font-size);\n",
       "line-height: var(--jp-code-line-height);\n",
       "\"><span style=\"color: var(--jp-warn-color2)\">lsst.detectAndMeasure.detection</span> <span style=\"color: var(--jp-info-color0)\">INFO</span>: Detected 417 positive peaks in 213 footprints and 216 negative peaks in 173 footprints to 5 +ve and 5 -ve sigma</pre>"
      ],
      "text/plain": [
       "<IPython.core.display.HTML object>"
      ]
     },
     "metadata": {},
     "output_type": "display_data"
    },
    {
     "data": {
      "text/html": [
       "<pre style=\"margin: 0.1em;\n",
       "padding-left: 0.25em;\n",
       "border-left-style: solid;\n",
       "font-family: var(--jp-code-font-family);\n",
       "font-size: var(--jp-code-font-size);\n",
       "line-height: var(--jp-code-line-height);\n",
       "\"><span style=\"color: var(--jp-warn-color2)\">lsst.detectAndMeasure.deblend</span> <span style=\"color: var(--jp-info-color0)\">INFO</span>: Deblending 213 sources</pre>"
      ],
      "text/plain": [
       "<IPython.core.display.HTML object>"
      ]
     },
     "metadata": {},
     "output_type": "display_data"
    },
    {
     "data": {
      "text/html": [
       "<pre style=\"margin: 0.1em;\n",
       "padding-left: 0.25em;\n",
       "border-left-style: solid;\n",
       "font-family: var(--jp-code-font-family);\n",
       "font-size: var(--jp-code-font-size);\n",
       "line-height: var(--jp-code-line-height);\n",
       "\"><span style=\"color: var(--jp-warn-color2)\">lsst.detectAndMeasure.deblend</span> <span style=\"color: var(--jp-info-color0)\">INFO</span>: Deblended: of 213 sources, 36 were deblended, creating 111 children, total 324 sources</pre>"
      ],
      "text/plain": [
       "<IPython.core.display.HTML object>"
      ]
     },
     "metadata": {},
     "output_type": "display_data"
    },
    {
     "data": {
      "text/html": [
       "<pre style=\"margin: 0.1em;\n",
       "padding-left: 0.25em;\n",
       "border-left-style: solid;\n",
       "font-family: var(--jp-code-font-family);\n",
       "font-size: var(--jp-code-font-size);\n",
       "line-height: var(--jp-code-line-height);\n",
       "\"><span style=\"color: var(--jp-warn-color2)\">lsst.detectAndMeasure.deblend</span> <span style=\"color: var(--jp-info-color0)\">INFO</span>: Deblending 173 sources</pre>"
      ],
      "text/plain": [
       "<IPython.core.display.HTML object>"
      ]
     },
     "metadata": {},
     "output_type": "display_data"
    },
    {
     "data": {
      "text/html": [
       "<pre style=\"margin: 0.1em;\n",
       "padding-left: 0.25em;\n",
       "border-left-style: solid;\n",
       "font-family: var(--jp-code-font-family);\n",
       "font-size: var(--jp-code-font-size);\n",
       "line-height: var(--jp-code-line-height);\n",
       "\"><span style=\"color: var(--jp-warn-color2)\">lsst.detectAndMeasure.deblend</span> <span style=\"color: var(--jp-info-color0)\">INFO</span>: Deblended: of 173 sources, 10 were deblended, creating 30 children, total 203 sources</pre>"
      ],
      "text/plain": [
       "<IPython.core.display.HTML object>"
      ]
     },
     "metadata": {},
     "output_type": "display_data"
    },
    {
     "name": "stdout",
     "output_type": "stream",
     "text": [
      "> \u001b[0;32m/sdf/group/rubin/u/ebellm/stack/ip_diffim/python/lsst/ip/diffim/detectAndMeasure.py\u001b[0m(323)\u001b[0;36mrun\u001b[0;34m()\u001b[0m\n",
      "\u001b[0;32m    322 \u001b[0;31m\u001b[0;34m\u001b[0m\u001b[0m\n",
      "\u001b[0m\u001b[0;32m--> 323 \u001b[0;31m        return self.processResults(science, matchedTemplate, difference, sources, idFactory,\n",
      "\u001b[0m\u001b[0;32m    324 \u001b[0;31m                                   \u001b[0mpositiveFootprints\u001b[0m\u001b[0;34m=\u001b[0m\u001b[0mpositives\u001b[0m\u001b[0;34m,\u001b[0m\u001b[0;34m\u001b[0m\u001b[0;34m\u001b[0m\u001b[0m\n",
      "\u001b[0m\n"
     ]
    },
    {
     "name": "stdin",
     "output_type": "stream",
     "text": [
      "ipdb>  for x in sources:\n"
     ]
    },
    {
     "name": "stdout",
     "output_type": "stream",
     "text": [
      "*** IndentationError: expected an indented block after 'for' statement on line 1\n"
     ]
    },
    {
     "name": "stdin",
     "output_type": "stream",
     "text": [
      "ipdb>  for x in sources: print(x)\n"
     ]
    },
    {
     "name": "stderr",
     "output_type": "stream",
     "text": [
      "IOPub data rate exceeded.\n",
      "The Jupyter server will temporarily stop sending output\n",
      "to the client in order to avoid crashing it.\n",
      "To change this limit, set the config variable\n",
      "`--ServerApp.iopub_data_rate_limit`.\n",
      "\n",
      "Current values:\n",
      "ServerApp.iopub_data_rate_limit=1000000.0 (bytes/sec)\n",
      "ServerApp.rate_limit_window=3.0 (secs)\n",
      "\n"
     ]
    },
    {
     "name": "stdin",
     "output_type": "stream",
     "text": [
      "ipdb>  for in range(10): print(i)\n"
     ]
    },
    {
     "name": "stdout",
     "output_type": "stream",
     "text": [
      "*** SyntaxError: invalid syntax\n"
     ]
    },
    {
     "name": "stdin",
     "output_type": "stream",
     "text": [
      "ipdb>  for i in range(10): print(i)\n"
     ]
    },
    {
     "name": "stdout",
     "output_type": "stream",
     "text": [
      "0\n",
      "1\n",
      "2\n",
      "3\n",
      "4\n",
      "5\n",
      "6\n",
      "7\n",
      "8\n",
      "9\n"
     ]
    },
    {
     "name": "stdin",
     "output_type": "stream",
     "text": [
      "ipdb>  import lsst.afw.display display = lsst.afw.display.Display(backend='firefly')\n"
     ]
    },
    {
     "name": "stdout",
     "output_type": "stream",
     "text": [
      "*** SyntaxError: invalid syntax\n"
     ]
    },
    {
     "name": "stdin",
     "output_type": "stream",
     "text": [
      "ipdb>  import lsst.afw.display; display = lsst.afw.display.Display(backend='firefly')\n",
      "ipdb>  for x in sources: display.dot('x',x.getFootprint().getCentroid().x, x.getFootprint().getCentroid().y)  \n",
      "ipdb>  !display.image(difference)\n",
      "ipdb>  for x in sources: display.dot('x',x.getFootprint().getCentroid().x, x.getFootprint().getCentroid().y, size=10, ctype='red')  \n",
      "ipdb>  for x in results.sources: display.dot('+',x.getFootprint().getCentroid().x, x.getFootprint().getCentroid().y, size=10, ctype='yellow')  \n",
      "ipdb>  for x in results.sources: display.dot('+',x.getFootprint().getCentroid().x, x.getFootprint().getCentroid().y, size=10, ctype='cyan')  \n",
      "ipdb>  s\n"
     ]
    },
    {
     "name": "stdout",
     "output_type": "stream",
     "text": [
      "> \u001b[0;32m/sdf/group/rubin/u/ebellm/stack/ip_diffim/python/lsst/ip/diffim/detectAndMeasure.py\u001b[0m(324)\u001b[0;36mrun\u001b[0;34m()\u001b[0m\n",
      "\u001b[0;32m    323 \u001b[0;31m        return self.processResults(science, matchedTemplate, difference, sources, idFactory,\n",
      "\u001b[0m\u001b[0;32m--> 324 \u001b[0;31m                                   \u001b[0mpositiveFootprints\u001b[0m\u001b[0;34m=\u001b[0m\u001b[0mpositives\u001b[0m\u001b[0;34m,\u001b[0m\u001b[0;34m\u001b[0m\u001b[0;34m\u001b[0m\u001b[0m\n",
      "\u001b[0m\u001b[0;32m    325 \u001b[0;31m                                   negativeFootprints=negatives)\n",
      "\u001b[0m\n"
     ]
    },
    {
     "name": "stdin",
     "output_type": "stream",
     "text": [
      "ipdb>  s\n"
     ]
    },
    {
     "name": "stdout",
     "output_type": "stream",
     "text": [
      "> \u001b[0;32m/sdf/group/rubin/u/ebellm/stack/ip_diffim/python/lsst/ip/diffim/detectAndMeasure.py\u001b[0m(325)\u001b[0;36mrun\u001b[0;34m()\u001b[0m\n",
      "\u001b[0;32m    324 \u001b[0;31m                                   \u001b[0mpositiveFootprints\u001b[0m\u001b[0;34m=\u001b[0m\u001b[0mpositives\u001b[0m\u001b[0;34m,\u001b[0m\u001b[0;34m\u001b[0m\u001b[0;34m\u001b[0m\u001b[0m\n",
      "\u001b[0m\u001b[0;32m--> 325 \u001b[0;31m                                   negativeFootprints=negatives)\n",
      "\u001b[0m\u001b[0;32m    326 \u001b[0;31m\u001b[0;34m\u001b[0m\u001b[0m\n",
      "\u001b[0m\n"
     ]
    },
    {
     "name": "stdin",
     "output_type": "stream",
     "text": [
      "ipdb>  s\n"
     ]
    },
    {
     "name": "stdout",
     "output_type": "stream",
     "text": [
      "> \u001b[0;32m/sdf/group/rubin/u/ebellm/stack/ip_diffim/python/lsst/ip/diffim/detectAndMeasure.py\u001b[0m(323)\u001b[0;36mrun\u001b[0;34m()\u001b[0m\n",
      "\u001b[0;32m    322 \u001b[0;31m\u001b[0;34m\u001b[0m\u001b[0m\n",
      "\u001b[0m\u001b[0;32m--> 323 \u001b[0;31m        return self.processResults(science, matchedTemplate, difference, sources, idFactory,\n",
      "\u001b[0m\u001b[0;32m    324 \u001b[0;31m                                   \u001b[0mpositiveFootprints\u001b[0m\u001b[0;34m=\u001b[0m\u001b[0mpositives\u001b[0m\u001b[0;34m,\u001b[0m\u001b[0;34m\u001b[0m\u001b[0;34m\u001b[0m\u001b[0m\n",
      "\u001b[0m\n"
     ]
    },
    {
     "name": "stdin",
     "output_type": "stream",
     "text": [
      "ipdb>  s\n"
     ]
    },
    {
     "name": "stdout",
     "output_type": "stream",
     "text": [
      "--Call--\n",
      "> \u001b[0;32m/sdf/group/rubin/u/ebellm/stack/ip_diffim/python/lsst/ip/diffim/detectAndMeasure.py\u001b[0m(327)\u001b[0;36mprocessResults\u001b[0;34m()\u001b[0m\n",
      "\u001b[0;32m    326 \u001b[0;31m\u001b[0;34m\u001b[0m\u001b[0m\n",
      "\u001b[0m\u001b[0;32m--> 327 \u001b[0;31m    def processResults(self, science, matchedTemplate, difference, sources, idFactory,\n",
      "\u001b[0m\u001b[0;32m    328 \u001b[0;31m                       positiveFootprints=None, negativeFootprints=None,):\n",
      "\u001b[0m\n"
     ]
    },
    {
     "name": "stdin",
     "output_type": "stream",
     "text": [
      "ipdb>  s\n"
     ]
    },
    {
     "name": "stdout",
     "output_type": "stream",
     "text": [
      "> \u001b[0;32m/sdf/group/rubin/u/ebellm/stack/ip_diffim/python/lsst/ip/diffim/detectAndMeasure.py\u001b[0m(359)\u001b[0;36mprocessResults\u001b[0;34m()\u001b[0m\n",
      "\u001b[0;32m    358 \u001b[0;31m        \"\"\"\n",
      "\u001b[0m\u001b[0;32m--> 359 \u001b[0;31m        \u001b[0mself\u001b[0m\u001b[0;34m.\u001b[0m\u001b[0mmetadata\u001b[0m\u001b[0;34m.\u001b[0m\u001b[0madd\u001b[0m\u001b[0;34m(\u001b[0m\u001b[0;34m\"nUnmergedDiaSources\"\u001b[0m\u001b[0;34m,\u001b[0m \u001b[0mlen\u001b[0m\u001b[0;34m(\u001b[0m\u001b[0msources\u001b[0m\u001b[0;34m)\u001b[0m\u001b[0;34m)\u001b[0m\u001b[0;34m\u001b[0m\u001b[0;34m\u001b[0m\u001b[0m\n",
      "\u001b[0m\u001b[0;32m    360 \u001b[0;31m        \u001b[0;32mif\u001b[0m \u001b[0mself\u001b[0m\u001b[0;34m.\u001b[0m\u001b[0mconfig\u001b[0m\u001b[0;34m.\u001b[0m\u001b[0mdoMerge\u001b[0m\u001b[0;34m:\u001b[0m\u001b[0;34m\u001b[0m\u001b[0;34m\u001b[0m\u001b[0m\n",
      "\u001b[0m\n"
     ]
    },
    {
     "name": "stdin",
     "output_type": "stream",
     "text": [
      "ipdb>  s\n"
     ]
    },
    {
     "name": "stdout",
     "output_type": "stream",
     "text": [
      "--Call--\n",
      "> \u001b[0;32m/opt/lsst/software/stack/stack/miniconda3-py38_4.9.2-8.0.0/Linux64/pipe_base/g3034863d04+9a86a4bc4e/python/lsst/pipe/base/_task_metadata.py\u001b[0m(210)\u001b[0;36madd\u001b[0;34m()\u001b[0m\n",
      "\u001b[0;32m    209 \u001b[0;31m\u001b[0;34m\u001b[0m\u001b[0m\n",
      "\u001b[0m\u001b[0;32m--> 210 \u001b[0;31m    \u001b[0;32mdef\u001b[0m \u001b[0madd\u001b[0m\u001b[0;34m(\u001b[0m\u001b[0mself\u001b[0m\u001b[0;34m,\u001b[0m \u001b[0mname\u001b[0m\u001b[0;34m:\u001b[0m \u001b[0mstr\u001b[0m\u001b[0;34m,\u001b[0m \u001b[0mvalue\u001b[0m\u001b[0;34m:\u001b[0m \u001b[0mAny\u001b[0m\u001b[0;34m)\u001b[0m \u001b[0;34m->\u001b[0m \u001b[0;32mNone\u001b[0m\u001b[0;34m:\u001b[0m\u001b[0;34m\u001b[0m\u001b[0;34m\u001b[0m\u001b[0m\n",
      "\u001b[0m\u001b[0;32m    211 \u001b[0;31m        \"\"\"Store a new value, adding to a list if one already exists.\n",
      "\u001b[0m\n"
     ]
    },
    {
     "name": "stdin",
     "output_type": "stream",
     "text": [
      "ipdb>  s\n"
     ]
    },
    {
     "name": "stdout",
     "output_type": "stream",
     "text": [
      "> \u001b[0;32m/opt/lsst/software/stack/stack/miniconda3-py38_4.9.2-8.0.0/Linux64/pipe_base/g3034863d04+9a86a4bc4e/python/lsst/pipe/base/_task_metadata.py\u001b[0m(220)\u001b[0;36madd\u001b[0;34m()\u001b[0m\n",
      "\u001b[0;32m    219 \u001b[0;31m        \"\"\"\n",
      "\u001b[0m\u001b[0;32m--> 220 \u001b[0;31m        \u001b[0mkeys\u001b[0m \u001b[0;34m=\u001b[0m \u001b[0mself\u001b[0m\u001b[0;34m.\u001b[0m\u001b[0m_getKeys\u001b[0m\u001b[0;34m(\u001b[0m\u001b[0mname\u001b[0m\u001b[0;34m)\u001b[0m\u001b[0;34m\u001b[0m\u001b[0;34m\u001b[0m\u001b[0m\n",
      "\u001b[0m\u001b[0;32m    221 \u001b[0;31m        \u001b[0mkey0\u001b[0m \u001b[0;34m=\u001b[0m \u001b[0mkeys\u001b[0m\u001b[0;34m.\u001b[0m\u001b[0mpop\u001b[0m\u001b[0;34m(\u001b[0m\u001b[0;36m0\u001b[0m\u001b[0;34m)\u001b[0m\u001b[0;34m\u001b[0m\u001b[0;34m\u001b[0m\u001b[0m\n",
      "\u001b[0m\n"
     ]
    },
    {
     "name": "stdin",
     "output_type": "stream",
     "text": [
      "ipdb>  n\n"
     ]
    },
    {
     "name": "stdout",
     "output_type": "stream",
     "text": [
      "> \u001b[0;32m/opt/lsst/software/stack/stack/miniconda3-py38_4.9.2-8.0.0/Linux64/pipe_base/g3034863d04+9a86a4bc4e/python/lsst/pipe/base/_task_metadata.py\u001b[0m(221)\u001b[0;36madd\u001b[0;34m()\u001b[0m\n",
      "\u001b[0;32m    220 \u001b[0;31m        \u001b[0mkeys\u001b[0m \u001b[0;34m=\u001b[0m \u001b[0mself\u001b[0m\u001b[0;34m.\u001b[0m\u001b[0m_getKeys\u001b[0m\u001b[0;34m(\u001b[0m\u001b[0mname\u001b[0m\u001b[0;34m)\u001b[0m\u001b[0;34m\u001b[0m\u001b[0;34m\u001b[0m\u001b[0m\n",
      "\u001b[0m\u001b[0;32m--> 221 \u001b[0;31m        \u001b[0mkey0\u001b[0m \u001b[0;34m=\u001b[0m \u001b[0mkeys\u001b[0m\u001b[0;34m.\u001b[0m\u001b[0mpop\u001b[0m\u001b[0;34m(\u001b[0m\u001b[0;36m0\u001b[0m\u001b[0;34m)\u001b[0m\u001b[0;34m\u001b[0m\u001b[0;34m\u001b[0m\u001b[0m\n",
      "\u001b[0m\u001b[0;32m    222 \u001b[0;31m        \u001b[0;32mif\u001b[0m \u001b[0mlen\u001b[0m\u001b[0;34m(\u001b[0m\u001b[0mkeys\u001b[0m\u001b[0;34m)\u001b[0m \u001b[0;34m==\u001b[0m \u001b[0;36m0\u001b[0m\u001b[0;34m:\u001b[0m\u001b[0;34m\u001b[0m\u001b[0;34m\u001b[0m\u001b[0m\n",
      "\u001b[0m\n"
     ]
    },
    {
     "name": "stdin",
     "output_type": "stream",
     "text": [
      "ipdb>  n\n"
     ]
    },
    {
     "name": "stdout",
     "output_type": "stream",
     "text": [
      "> \u001b[0;32m/opt/lsst/software/stack/stack/miniconda3-py38_4.9.2-8.0.0/Linux64/pipe_base/g3034863d04+9a86a4bc4e/python/lsst/pipe/base/_task_metadata.py\u001b[0m(222)\u001b[0;36madd\u001b[0;34m()\u001b[0m\n",
      "\u001b[0;32m    221 \u001b[0;31m        \u001b[0mkey0\u001b[0m \u001b[0;34m=\u001b[0m \u001b[0mkeys\u001b[0m\u001b[0;34m.\u001b[0m\u001b[0mpop\u001b[0m\u001b[0;34m(\u001b[0m\u001b[0;36m0\u001b[0m\u001b[0;34m)\u001b[0m\u001b[0;34m\u001b[0m\u001b[0;34m\u001b[0m\u001b[0m\n",
      "\u001b[0m\u001b[0;32m--> 222 \u001b[0;31m        \u001b[0;32mif\u001b[0m \u001b[0mlen\u001b[0m\u001b[0;34m(\u001b[0m\u001b[0mkeys\u001b[0m\u001b[0;34m)\u001b[0m \u001b[0;34m==\u001b[0m \u001b[0;36m0\u001b[0m\u001b[0;34m:\u001b[0m\u001b[0;34m\u001b[0m\u001b[0;34m\u001b[0m\u001b[0m\n",
      "\u001b[0m\u001b[0;32m    223 \u001b[0;31m            \u001b[0;31m# If add() is being used, always store the value in the arrays\u001b[0m\u001b[0;34m\u001b[0m\u001b[0;34m\u001b[0m\u001b[0m\n",
      "\u001b[0m\n"
     ]
    },
    {
     "name": "stdin",
     "output_type": "stream",
     "text": [
      "ipdb>  n\n"
     ]
    },
    {
     "name": "stdout",
     "output_type": "stream",
     "text": [
      "> \u001b[0;32m/opt/lsst/software/stack/stack/miniconda3-py38_4.9.2-8.0.0/Linux64/pipe_base/g3034863d04+9a86a4bc4e/python/lsst/pipe/base/_task_metadata.py\u001b[0m(225)\u001b[0;36madd\u001b[0;34m()\u001b[0m\n",
      "\u001b[0;32m    224 \u001b[0;31m            \u001b[0;31m# property as a list. It's likely there will be another call.\u001b[0m\u001b[0;34m\u001b[0m\u001b[0;34m\u001b[0m\u001b[0m\n",
      "\u001b[0m\u001b[0;32m--> 225 \u001b[0;31m            \u001b[0mslot_type\u001b[0m\u001b[0;34m,\u001b[0m \u001b[0mvalue\u001b[0m \u001b[0;34m=\u001b[0m \u001b[0mself\u001b[0m\u001b[0;34m.\u001b[0m\u001b[0m_validate_value\u001b[0m\u001b[0;34m(\u001b[0m\u001b[0mvalue\u001b[0m\u001b[0;34m)\u001b[0m\u001b[0;34m\u001b[0m\u001b[0;34m\u001b[0m\u001b[0m\n",
      "\u001b[0m\u001b[0;32m    226 \u001b[0;31m            \u001b[0;32mif\u001b[0m \u001b[0mslot_type\u001b[0m \u001b[0;34m==\u001b[0m \u001b[0;34m\"array\"\u001b[0m\u001b[0;34m:\u001b[0m\u001b[0;34m\u001b[0m\u001b[0;34m\u001b[0m\u001b[0m\n",
      "\u001b[0m\n"
     ]
    },
    {
     "name": "stdin",
     "output_type": "stream",
     "text": [
      "ipdb>  n\n"
     ]
    },
    {
     "name": "stdout",
     "output_type": "stream",
     "text": [
      "> \u001b[0;32m/opt/lsst/software/stack/stack/miniconda3-py38_4.9.2-8.0.0/Linux64/pipe_base/g3034863d04+9a86a4bc4e/python/lsst/pipe/base/_task_metadata.py\u001b[0m(226)\u001b[0;36madd\u001b[0;34m()\u001b[0m\n",
      "\u001b[0;32m    225 \u001b[0;31m            \u001b[0mslot_type\u001b[0m\u001b[0;34m,\u001b[0m \u001b[0mvalue\u001b[0m \u001b[0;34m=\u001b[0m \u001b[0mself\u001b[0m\u001b[0;34m.\u001b[0m\u001b[0m_validate_value\u001b[0m\u001b[0;34m(\u001b[0m\u001b[0mvalue\u001b[0m\u001b[0;34m)\u001b[0m\u001b[0;34m\u001b[0m\u001b[0;34m\u001b[0m\u001b[0m\n",
      "\u001b[0m\u001b[0;32m--> 226 \u001b[0;31m            \u001b[0;32mif\u001b[0m \u001b[0mslot_type\u001b[0m \u001b[0;34m==\u001b[0m \u001b[0;34m\"array\"\u001b[0m\u001b[0;34m:\u001b[0m\u001b[0;34m\u001b[0m\u001b[0;34m\u001b[0m\u001b[0m\n",
      "\u001b[0m\u001b[0;32m    227 \u001b[0;31m                \u001b[0;32mpass\u001b[0m\u001b[0;34m\u001b[0m\u001b[0;34m\u001b[0m\u001b[0m\n",
      "\u001b[0m\n"
     ]
    },
    {
     "name": "stdin",
     "output_type": "stream",
     "text": [
      "ipdb>  n\n"
     ]
    },
    {
     "name": "stdout",
     "output_type": "stream",
     "text": [
      "> \u001b[0;32m/opt/lsst/software/stack/stack/miniconda3-py38_4.9.2-8.0.0/Linux64/pipe_base/g3034863d04+9a86a4bc4e/python/lsst/pipe/base/_task_metadata.py\u001b[0m(228)\u001b[0;36madd\u001b[0;34m()\u001b[0m\n",
      "\u001b[0;32m    227 \u001b[0;31m                \u001b[0;32mpass\u001b[0m\u001b[0;34m\u001b[0m\u001b[0;34m\u001b[0m\u001b[0m\n",
      "\u001b[0m\u001b[0;32m--> 228 \u001b[0;31m            \u001b[0;32melif\u001b[0m \u001b[0mslot_type\u001b[0m \u001b[0;34m==\u001b[0m \u001b[0;34m\"scalar\"\u001b[0m\u001b[0;34m:\u001b[0m\u001b[0;34m\u001b[0m\u001b[0;34m\u001b[0m\u001b[0m\n",
      "\u001b[0m\u001b[0;32m    229 \u001b[0;31m                \u001b[0mvalue\u001b[0m \u001b[0;34m=\u001b[0m \u001b[0;34m[\u001b[0m\u001b[0mvalue\u001b[0m\u001b[0;34m]\u001b[0m\u001b[0;34m\u001b[0m\u001b[0;34m\u001b[0m\u001b[0m\n",
      "\u001b[0m\n"
     ]
    },
    {
     "name": "stdin",
     "output_type": "stream",
     "text": [
      "ipdb>  n\n"
     ]
    },
    {
     "name": "stdout",
     "output_type": "stream",
     "text": [
      "> \u001b[0;32m/opt/lsst/software/stack/stack/miniconda3-py38_4.9.2-8.0.0/Linux64/pipe_base/g3034863d04+9a86a4bc4e/python/lsst/pipe/base/_task_metadata.py\u001b[0m(229)\u001b[0;36madd\u001b[0;34m()\u001b[0m\n",
      "\u001b[0;32m    228 \u001b[0;31m            \u001b[0;32melif\u001b[0m \u001b[0mslot_type\u001b[0m \u001b[0;34m==\u001b[0m \u001b[0;34m\"scalar\"\u001b[0m\u001b[0;34m:\u001b[0m\u001b[0;34m\u001b[0m\u001b[0;34m\u001b[0m\u001b[0m\n",
      "\u001b[0m\u001b[0;32m--> 229 \u001b[0;31m                \u001b[0mvalue\u001b[0m \u001b[0;34m=\u001b[0m \u001b[0;34m[\u001b[0m\u001b[0mvalue\u001b[0m\u001b[0;34m]\u001b[0m\u001b[0;34m\u001b[0m\u001b[0;34m\u001b[0m\u001b[0m\n",
      "\u001b[0m\u001b[0;32m    230 \u001b[0;31m            \u001b[0;32melse\u001b[0m\u001b[0;34m:\u001b[0m\u001b[0;34m\u001b[0m\u001b[0;34m\u001b[0m\u001b[0m\n",
      "\u001b[0m\n"
     ]
    },
    {
     "name": "stdin",
     "output_type": "stream",
     "text": [
      "ipdb>  n\n"
     ]
    },
    {
     "name": "stdout",
     "output_type": "stream",
     "text": [
      "> \u001b[0;32m/opt/lsst/software/stack/stack/miniconda3-py38_4.9.2-8.0.0/Linux64/pipe_base/g3034863d04+9a86a4bc4e/python/lsst/pipe/base/_task_metadata.py\u001b[0m(233)\u001b[0;36madd\u001b[0;34m()\u001b[0m\n",
      "\u001b[0;32m    232 \u001b[0;31m\u001b[0;34m\u001b[0m\u001b[0m\n",
      "\u001b[0m\u001b[0;32m--> 233 \u001b[0;31m            \u001b[0;32mif\u001b[0m \u001b[0mkey0\u001b[0m \u001b[0;32min\u001b[0m \u001b[0mself\u001b[0m\u001b[0;34m.\u001b[0m\u001b[0mmetadata\u001b[0m\u001b[0;34m:\u001b[0m\u001b[0;34m\u001b[0m\u001b[0;34m\u001b[0m\u001b[0m\n",
      "\u001b[0m\u001b[0;32m    234 \u001b[0;31m                \u001b[0;32mraise\u001b[0m \u001b[0mValueError\u001b[0m\u001b[0;34m(\u001b[0m\u001b[0;34mf\"Can not add() to key '{name}' since that is a TaskMetadata\"\u001b[0m\u001b[0;34m)\u001b[0m\u001b[0;34m\u001b[0m\u001b[0;34m\u001b[0m\u001b[0m\n",
      "\u001b[0m\n"
     ]
    },
    {
     "name": "stdin",
     "output_type": "stream",
     "text": [
      "ipdb>  n\n"
     ]
    },
    {
     "name": "stdout",
     "output_type": "stream",
     "text": [
      "> \u001b[0;32m/opt/lsst/software/stack/stack/miniconda3-py38_4.9.2-8.0.0/Linux64/pipe_base/g3034863d04+9a86a4bc4e/python/lsst/pipe/base/_task_metadata.py\u001b[0m(236)\u001b[0;36madd\u001b[0;34m()\u001b[0m\n",
      "\u001b[0;32m    235 \u001b[0;31m\u001b[0;34m\u001b[0m\u001b[0m\n",
      "\u001b[0m\u001b[0;32m--> 236 \u001b[0;31m            \u001b[0;32mif\u001b[0m \u001b[0mkey0\u001b[0m \u001b[0;32min\u001b[0m \u001b[0mself\u001b[0m\u001b[0;34m.\u001b[0m\u001b[0mscalars\u001b[0m\u001b[0;34m:\u001b[0m\u001b[0;34m\u001b[0m\u001b[0;34m\u001b[0m\u001b[0m\n",
      "\u001b[0m\u001b[0;32m    237 \u001b[0;31m                \u001b[0;31m# Convert scalar to array.\u001b[0m\u001b[0;34m\u001b[0m\u001b[0;34m\u001b[0m\u001b[0m\n",
      "\u001b[0m\n"
     ]
    },
    {
     "name": "stdin",
     "output_type": "stream",
     "text": [
      "ipdb>  n\n"
     ]
    },
    {
     "name": "stdout",
     "output_type": "stream",
     "text": [
      "> \u001b[0;32m/opt/lsst/software/stack/stack/miniconda3-py38_4.9.2-8.0.0/Linux64/pipe_base/g3034863d04+9a86a4bc4e/python/lsst/pipe/base/_task_metadata.py\u001b[0m(243)\u001b[0;36madd\u001b[0;34m()\u001b[0m\n",
      "\u001b[0;32m    242 \u001b[0;31m\u001b[0;34m\u001b[0m\u001b[0m\n",
      "\u001b[0m\u001b[0;32m--> 243 \u001b[0;31m            \u001b[0;32mif\u001b[0m \u001b[0mkey0\u001b[0m \u001b[0;32min\u001b[0m \u001b[0mself\u001b[0m\u001b[0;34m.\u001b[0m\u001b[0marrays\u001b[0m\u001b[0;34m:\u001b[0m\u001b[0;34m\u001b[0m\u001b[0;34m\u001b[0m\u001b[0m\n",
      "\u001b[0m\u001b[0;32m    244 \u001b[0;31m                \u001b[0;31m# Check that the type is not changing.\u001b[0m\u001b[0;34m\u001b[0m\u001b[0;34m\u001b[0m\u001b[0m\n",
      "\u001b[0m\n"
     ]
    },
    {
     "name": "stdin",
     "output_type": "stream",
     "text": [
      "ipdb>  n\n"
     ]
    },
    {
     "name": "stdout",
     "output_type": "stream",
     "text": [
      "> \u001b[0;32m/opt/lsst/software/stack/stack/miniconda3-py38_4.9.2-8.0.0/Linux64/pipe_base/g3034863d04+9a86a4bc4e/python/lsst/pipe/base/_task_metadata.py\u001b[0m(245)\u001b[0;36madd\u001b[0;34m()\u001b[0m\n",
      "\u001b[0;32m    244 \u001b[0;31m                \u001b[0;31m# Check that the type is not changing.\u001b[0m\u001b[0;34m\u001b[0m\u001b[0;34m\u001b[0m\u001b[0m\n",
      "\u001b[0m\u001b[0;32m--> 245 \u001b[0;31m                \u001b[0;32mif\u001b[0m \u001b[0;34m(\u001b[0m\u001b[0mcurtype\u001b[0m \u001b[0;34m:=\u001b[0m \u001b[0mtype\u001b[0m\u001b[0;34m(\u001b[0m\u001b[0mself\u001b[0m\u001b[0;34m.\u001b[0m\u001b[0marrays\u001b[0m\u001b[0;34m[\u001b[0m\u001b[0mkey0\u001b[0m\u001b[0;34m]\u001b[0m\u001b[0;34m[\u001b[0m\u001b[0;36m0\u001b[0m\u001b[0;34m]\u001b[0m\u001b[0;34m)\u001b[0m\u001b[0;34m)\u001b[0m \u001b[0;32mis\u001b[0m \u001b[0;32mnot\u001b[0m \u001b[0;34m(\u001b[0m\u001b[0mnewtype\u001b[0m \u001b[0;34m:=\u001b[0m \u001b[0mtype\u001b[0m\u001b[0;34m(\u001b[0m\u001b[0mvalue\u001b[0m\u001b[0;34m[\u001b[0m\u001b[0;36m0\u001b[0m\u001b[0;34m]\u001b[0m\u001b[0;34m)\u001b[0m\u001b[0;34m)\u001b[0m\u001b[0;34m:\u001b[0m\u001b[0;34m\u001b[0m\u001b[0;34m\u001b[0m\u001b[0m\n",
      "\u001b[0m\u001b[0;32m    246 \u001b[0;31m                    \u001b[0;32mraise\u001b[0m \u001b[0mValueError\u001b[0m\u001b[0;34m(\u001b[0m\u001b[0;34mf\"Type mismatch in add() -- currently {curtype} but adding {newtype}\"\u001b[0m\u001b[0;34m)\u001b[0m\u001b[0;34m\u001b[0m\u001b[0;34m\u001b[0m\u001b[0m\n",
      "\u001b[0m\n"
     ]
    },
    {
     "name": "stdin",
     "output_type": "stream",
     "text": [
      "ipdb>  n\n"
     ]
    },
    {
     "name": "stdout",
     "output_type": "stream",
     "text": [
      "> \u001b[0;32m/opt/lsst/software/stack/stack/miniconda3-py38_4.9.2-8.0.0/Linux64/pipe_base/g3034863d04+9a86a4bc4e/python/lsst/pipe/base/_task_metadata.py\u001b[0m(247)\u001b[0;36madd\u001b[0;34m()\u001b[0m\n",
      "\u001b[0;32m    246 \u001b[0;31m                    \u001b[0;32mraise\u001b[0m \u001b[0mValueError\u001b[0m\u001b[0;34m(\u001b[0m\u001b[0;34mf\"Type mismatch in add() -- currently {curtype} but adding {newtype}\"\u001b[0m\u001b[0;34m)\u001b[0m\u001b[0;34m\u001b[0m\u001b[0;34m\u001b[0m\u001b[0m\n",
      "\u001b[0m\u001b[0;32m--> 247 \u001b[0;31m                \u001b[0mself\u001b[0m\u001b[0;34m.\u001b[0m\u001b[0marrays\u001b[0m\u001b[0;34m[\u001b[0m\u001b[0mkey0\u001b[0m\u001b[0;34m]\u001b[0m\u001b[0;34m.\u001b[0m\u001b[0mextend\u001b[0m\u001b[0;34m(\u001b[0m\u001b[0mvalue\u001b[0m\u001b[0;34m)\u001b[0m\u001b[0;34m\u001b[0m\u001b[0;34m\u001b[0m\u001b[0m\n",
      "\u001b[0m\u001b[0;32m    248 \u001b[0;31m            \u001b[0;32melse\u001b[0m\u001b[0;34m:\u001b[0m\u001b[0;34m\u001b[0m\u001b[0;34m\u001b[0m\u001b[0m\n",
      "\u001b[0m\n"
     ]
    },
    {
     "name": "stdin",
     "output_type": "stream",
     "text": [
      "ipdb>  n\n"
     ]
    },
    {
     "name": "stdout",
     "output_type": "stream",
     "text": [
      "> \u001b[0;32m/opt/lsst/software/stack/stack/miniconda3-py38_4.9.2-8.0.0/Linux64/pipe_base/g3034863d04+9a86a4bc4e/python/lsst/pipe/base/_task_metadata.py\u001b[0m(251)\u001b[0;36madd\u001b[0;34m()\u001b[0m\n",
      "\u001b[0;32m    250 \u001b[0;31m\u001b[0;34m\u001b[0m\u001b[0m\n",
      "\u001b[0m\u001b[0;32m--> 251 \u001b[0;31m            \u001b[0;32mreturn\u001b[0m\u001b[0;34m\u001b[0m\u001b[0;34m\u001b[0m\u001b[0m\n",
      "\u001b[0m\u001b[0;32m    252 \u001b[0;31m\u001b[0;34m\u001b[0m\u001b[0m\n",
      "\u001b[0m\n"
     ]
    },
    {
     "name": "stdin",
     "output_type": "stream",
     "text": [
      "ipdb>  n\n"
     ]
    },
    {
     "name": "stdout",
     "output_type": "stream",
     "text": [
      "--Return--\n",
      "None\n",
      "> \u001b[0;32m/opt/lsst/software/stack/stack/miniconda3-py38_4.9.2-8.0.0/Linux64/pipe_base/g3034863d04+9a86a4bc4e/python/lsst/pipe/base/_task_metadata.py\u001b[0m(251)\u001b[0;36madd\u001b[0;34m()\u001b[0m\n",
      "\u001b[0;32m    250 \u001b[0;31m\u001b[0;34m\u001b[0m\u001b[0m\n",
      "\u001b[0m\u001b[0;32m--> 251 \u001b[0;31m            \u001b[0;32mreturn\u001b[0m\u001b[0;34m\u001b[0m\u001b[0;34m\u001b[0m\u001b[0m\n",
      "\u001b[0m\u001b[0;32m    252 \u001b[0;31m\u001b[0;34m\u001b[0m\u001b[0m\n",
      "\u001b[0m\n"
     ]
    },
    {
     "name": "stdin",
     "output_type": "stream",
     "text": [
      "ipdb>  n\n"
     ]
    },
    {
     "name": "stdout",
     "output_type": "stream",
     "text": [
      "> \u001b[0;32m/sdf/group/rubin/u/ebellm/stack/ip_diffim/python/lsst/ip/diffim/detectAndMeasure.py\u001b[0m(360)\u001b[0;36mprocessResults\u001b[0;34m()\u001b[0m\n",
      "\u001b[0;32m    359 \u001b[0;31m        \u001b[0mself\u001b[0m\u001b[0;34m.\u001b[0m\u001b[0mmetadata\u001b[0m\u001b[0;34m.\u001b[0m\u001b[0madd\u001b[0m\u001b[0;34m(\u001b[0m\u001b[0;34m\"nUnmergedDiaSources\"\u001b[0m\u001b[0;34m,\u001b[0m \u001b[0mlen\u001b[0m\u001b[0;34m(\u001b[0m\u001b[0msources\u001b[0m\u001b[0;34m)\u001b[0m\u001b[0;34m)\u001b[0m\u001b[0;34m\u001b[0m\u001b[0;34m\u001b[0m\u001b[0m\n",
      "\u001b[0m\u001b[0;32m--> 360 \u001b[0;31m        \u001b[0;32mif\u001b[0m \u001b[0mself\u001b[0m\u001b[0;34m.\u001b[0m\u001b[0mconfig\u001b[0m\u001b[0;34m.\u001b[0m\u001b[0mdoMerge\u001b[0m\u001b[0;34m:\u001b[0m\u001b[0;34m\u001b[0m\u001b[0;34m\u001b[0m\u001b[0m\n",
      "\u001b[0m\u001b[0;32m    361 \u001b[0;31m            \u001b[0mfpSet\u001b[0m \u001b[0;34m=\u001b[0m \u001b[0mpositiveFootprints\u001b[0m\u001b[0;34m\u001b[0m\u001b[0;34m\u001b[0m\u001b[0m\n",
      "\u001b[0m\n"
     ]
    },
    {
     "name": "stdin",
     "output_type": "stream",
     "text": [
      "ipdb>  n\n"
     ]
    },
    {
     "name": "stdout",
     "output_type": "stream",
     "text": [
      "> \u001b[0;32m/sdf/group/rubin/u/ebellm/stack/ip_diffim/python/lsst/ip/diffim/detectAndMeasure.py\u001b[0m(361)\u001b[0;36mprocessResults\u001b[0;34m()\u001b[0m\n",
      "\u001b[0;32m    360 \u001b[0;31m        \u001b[0;32mif\u001b[0m \u001b[0mself\u001b[0m\u001b[0;34m.\u001b[0m\u001b[0mconfig\u001b[0m\u001b[0;34m.\u001b[0m\u001b[0mdoMerge\u001b[0m\u001b[0;34m:\u001b[0m\u001b[0;34m\u001b[0m\u001b[0;34m\u001b[0m\u001b[0m\n",
      "\u001b[0m\u001b[0;32m--> 361 \u001b[0;31m            \u001b[0mfpSet\u001b[0m \u001b[0;34m=\u001b[0m \u001b[0mpositiveFootprints\u001b[0m\u001b[0;34m\u001b[0m\u001b[0;34m\u001b[0m\u001b[0m\n",
      "\u001b[0m\u001b[0;32m    362 \u001b[0;31m            fpSet.merge(negativeFootprints, self.config.growFootprint,\n",
      "\u001b[0m\n"
     ]
    },
    {
     "name": "stdin",
     "output_type": "stream",
     "text": [
      "ipdb>  n\n"
     ]
    },
    {
     "name": "stdout",
     "output_type": "stream",
     "text": [
      "> \u001b[0;32m/sdf/group/rubin/u/ebellm/stack/ip_diffim/python/lsst/ip/diffim/detectAndMeasure.py\u001b[0m(362)\u001b[0;36mprocessResults\u001b[0;34m()\u001b[0m\n",
      "\u001b[0;32m    361 \u001b[0;31m            \u001b[0mfpSet\u001b[0m \u001b[0;34m=\u001b[0m \u001b[0mpositiveFootprints\u001b[0m\u001b[0;34m\u001b[0m\u001b[0;34m\u001b[0m\u001b[0m\n",
      "\u001b[0m\u001b[0;32m--> 362 \u001b[0;31m            fpSet.merge(negativeFootprints, self.config.growFootprint,\n",
      "\u001b[0m\u001b[0;32m    363 \u001b[0;31m                        self.config.growFootprint, False)\n",
      "\u001b[0m\n"
     ]
    },
    {
     "name": "stdin",
     "output_type": "stream",
     "text": [
      "ipdb>  n\n"
     ]
    },
    {
     "name": "stdout",
     "output_type": "stream",
     "text": [
      "> \u001b[0;32m/sdf/group/rubin/u/ebellm/stack/ip_diffim/python/lsst/ip/diffim/detectAndMeasure.py\u001b[0m(363)\u001b[0;36mprocessResults\u001b[0;34m()\u001b[0m\n",
      "\u001b[0;32m    362 \u001b[0;31m            fpSet.merge(negativeFootprints, self.config.growFootprint,\n",
      "\u001b[0m\u001b[0;32m--> 363 \u001b[0;31m                        self.config.growFootprint, False)\n",
      "\u001b[0m\u001b[0;32m    364 \u001b[0;31m            \u001b[0minitialDiaSources\u001b[0m \u001b[0;34m=\u001b[0m \u001b[0mafwTable\u001b[0m\u001b[0;34m.\u001b[0m\u001b[0mSourceCatalog\u001b[0m\u001b[0;34m(\u001b[0m\u001b[0mself\u001b[0m\u001b[0;34m.\u001b[0m\u001b[0mschema\u001b[0m\u001b[0;34m)\u001b[0m\u001b[0;34m\u001b[0m\u001b[0;34m\u001b[0m\u001b[0m\n",
      "\u001b[0m\n"
     ]
    },
    {
     "name": "stdin",
     "output_type": "stream",
     "text": [
      "ipdb>  n\n"
     ]
    },
    {
     "name": "stdout",
     "output_type": "stream",
     "text": [
      "> \u001b[0;32m/sdf/group/rubin/u/ebellm/stack/ip_diffim/python/lsst/ip/diffim/detectAndMeasure.py\u001b[0m(362)\u001b[0;36mprocessResults\u001b[0;34m()\u001b[0m\n",
      "\u001b[0;32m    361 \u001b[0;31m            \u001b[0mfpSet\u001b[0m \u001b[0;34m=\u001b[0m \u001b[0mpositiveFootprints\u001b[0m\u001b[0;34m\u001b[0m\u001b[0;34m\u001b[0m\u001b[0m\n",
      "\u001b[0m\u001b[0;32m--> 362 \u001b[0;31m            fpSet.merge(negativeFootprints, self.config.growFootprint,\n",
      "\u001b[0m\u001b[0;32m    363 \u001b[0;31m                        self.config.growFootprint, False)\n",
      "\u001b[0m\n"
     ]
    },
    {
     "name": "stdin",
     "output_type": "stream",
     "text": [
      "ipdb>  n\n"
     ]
    },
    {
     "name": "stdout",
     "output_type": "stream",
     "text": [
      "> \u001b[0;32m/sdf/group/rubin/u/ebellm/stack/ip_diffim/python/lsst/ip/diffim/detectAndMeasure.py\u001b[0m(364)\u001b[0;36mprocessResults\u001b[0;34m()\u001b[0m\n",
      "\u001b[0;32m    363 \u001b[0;31m                        self.config.growFootprint, False)\n",
      "\u001b[0m\u001b[0;32m--> 364 \u001b[0;31m            \u001b[0minitialDiaSources\u001b[0m \u001b[0;34m=\u001b[0m \u001b[0mafwTable\u001b[0m\u001b[0;34m.\u001b[0m\u001b[0mSourceCatalog\u001b[0m\u001b[0;34m(\u001b[0m\u001b[0mself\u001b[0m\u001b[0;34m.\u001b[0m\u001b[0mschema\u001b[0m\u001b[0;34m)\u001b[0m\u001b[0;34m\u001b[0m\u001b[0;34m\u001b[0m\u001b[0m\n",
      "\u001b[0m\u001b[0;32m    365 \u001b[0;31m            \u001b[0mfpSet\u001b[0m\u001b[0;34m.\u001b[0m\u001b[0mmakeSources\u001b[0m\u001b[0;34m(\u001b[0m\u001b[0minitialDiaSources\u001b[0m\u001b[0;34m)\u001b[0m\u001b[0;34m\u001b[0m\u001b[0;34m\u001b[0m\u001b[0m\n",
      "\u001b[0m\n"
     ]
    },
    {
     "name": "stdin",
     "output_type": "stream",
     "text": [
      "ipdb>  n\n"
     ]
    },
    {
     "name": "stdout",
     "output_type": "stream",
     "text": [
      "> \u001b[0;32m/sdf/group/rubin/u/ebellm/stack/ip_diffim/python/lsst/ip/diffim/detectAndMeasure.py\u001b[0m(365)\u001b[0;36mprocessResults\u001b[0;34m()\u001b[0m\n",
      "\u001b[0;32m    364 \u001b[0;31m            \u001b[0minitialDiaSources\u001b[0m \u001b[0;34m=\u001b[0m \u001b[0mafwTable\u001b[0m\u001b[0;34m.\u001b[0m\u001b[0mSourceCatalog\u001b[0m\u001b[0;34m(\u001b[0m\u001b[0mself\u001b[0m\u001b[0;34m.\u001b[0m\u001b[0mschema\u001b[0m\u001b[0;34m)\u001b[0m\u001b[0;34m\u001b[0m\u001b[0;34m\u001b[0m\u001b[0m\n",
      "\u001b[0m\u001b[0;32m--> 365 \u001b[0;31m            \u001b[0mfpSet\u001b[0m\u001b[0;34m.\u001b[0m\u001b[0mmakeSources\u001b[0m\u001b[0;34m(\u001b[0m\u001b[0minitialDiaSources\u001b[0m\u001b[0;34m)\u001b[0m\u001b[0;34m\u001b[0m\u001b[0;34m\u001b[0m\u001b[0m\n",
      "\u001b[0m\u001b[0;32m    366 \u001b[0;31m            \u001b[0mself\u001b[0m\u001b[0;34m.\u001b[0m\u001b[0mlog\u001b[0m\u001b[0;34m.\u001b[0m\u001b[0minfo\u001b[0m\u001b[0;34m(\u001b[0m\u001b[0;34m\"Merging detections into %d sources\"\u001b[0m\u001b[0;34m,\u001b[0m \u001b[0mlen\u001b[0m\u001b[0;34m(\u001b[0m\u001b[0minitialDiaSources\u001b[0m\u001b[0;34m)\u001b[0m\u001b[0;34m)\u001b[0m\u001b[0;34m\u001b[0m\u001b[0;34m\u001b[0m\u001b[0m\n",
      "\u001b[0m\n"
     ]
    },
    {
     "name": "stdin",
     "output_type": "stream",
     "text": [
      "ipdb>  n\n"
     ]
    },
    {
     "name": "stdout",
     "output_type": "stream",
     "text": [
      "> \u001b[0;32m/sdf/group/rubin/u/ebellm/stack/ip_diffim/python/lsst/ip/diffim/detectAndMeasure.py\u001b[0m(366)\u001b[0;36mprocessResults\u001b[0;34m()\u001b[0m\n",
      "\u001b[0;32m    365 \u001b[0;31m            \u001b[0mfpSet\u001b[0m\u001b[0;34m.\u001b[0m\u001b[0mmakeSources\u001b[0m\u001b[0;34m(\u001b[0m\u001b[0minitialDiaSources\u001b[0m\u001b[0;34m)\u001b[0m\u001b[0;34m\u001b[0m\u001b[0;34m\u001b[0m\u001b[0m\n",
      "\u001b[0m\u001b[0;32m--> 366 \u001b[0;31m            \u001b[0mself\u001b[0m\u001b[0;34m.\u001b[0m\u001b[0mlog\u001b[0m\u001b[0;34m.\u001b[0m\u001b[0minfo\u001b[0m\u001b[0;34m(\u001b[0m\u001b[0;34m\"Merging detections into %d sources\"\u001b[0m\u001b[0;34m,\u001b[0m \u001b[0mlen\u001b[0m\u001b[0;34m(\u001b[0m\u001b[0minitialDiaSources\u001b[0m\u001b[0;34m)\u001b[0m\u001b[0;34m)\u001b[0m\u001b[0;34m\u001b[0m\u001b[0;34m\u001b[0m\u001b[0m\n",
      "\u001b[0m\u001b[0;32m    367 \u001b[0;31m        \u001b[0;32melse\u001b[0m\u001b[0;34m:\u001b[0m\u001b[0;34m\u001b[0m\u001b[0;34m\u001b[0m\u001b[0m\n",
      "\u001b[0m\n"
     ]
    },
    {
     "name": "stdin",
     "output_type": "stream",
     "text": [
      "ipdb>  for x in initialDiaSources: display.dot('o',x.getFootprint().getCentroid().x, x.getFootprint().getCentroid().y, size=10, ctype='orange')  \n"
     ]
    },
    {
     "name": "stdout",
     "output_type": "stream",
     "text": [
      "*** AttributeError: 'function' object has no attribute 'dot'\n"
     ]
    },
    {
     "name": "stdin",
     "output_type": "stream",
     "text": [
      "ipdb>  import lsst.afw.display; display = lsst.afw.display.Display(backend='firefly')\n",
      "ipdb>  for x in initialDiaSources: display.dot('o',x.getFootprint().getCentroid().x, x.getFootprint().getCentroid().y, size=10, ctype='orange')  \n",
      "ipdb>  q\n"
     ]
    }
   ],
   "source": [
    "task.run(science, template, diffe"
   ]
  },
  {
   "cell_type": "code",
   "execution_count": null,
   "id": "2ff6f2e5-ed75-40e2-a931-36f2b21bcc6c",
   "metadata": {},
   "outputs": [],
   "source": []
  }
 ],
 "metadata": {
  "kernelspec": {
   "display_name": "LSST",
   "language": "python",
   "name": "lsst"
  },
  "language_info": {
   "codemirror_mode": {
    "name": "ipython",
    "version": 3
   },
   "file_extension": ".py",
   "mimetype": "text/x-python",
   "name": "python",
   "nbconvert_exporter": "python",
   "pygments_lexer": "ipython3",
   "version": "3.11.7"
  }
 },
 "nbformat": 4,
 "nbformat_minor": 5
}
