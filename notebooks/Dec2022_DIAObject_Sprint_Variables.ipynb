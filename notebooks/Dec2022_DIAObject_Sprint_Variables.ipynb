{
 "cells": [
  {
   "cell_type": "markdown",
   "id": "88af7917-18b6-4e1c-a330-3c7ac6faa52b",
   "metadata": {},
   "source": [
    "<img align=\"left\" src = https://project.lsst.org/sites/default/files/Rubin-O-Logo_0.png width=250 style=\"padding: 10px\"> \n",
    "<br>\n",
    "<b>HSC Cosmos Analysis Notebook</b> <br>\n",
    "Contact author: Erin Howard<br>\n",
    "Last verified to run: December 5, 2022<br>\n",
    "LSST Science Piplines version: w_2022_46<br>\n",
    "Container Size: Large <br>"
   ]
  },
  {
   "cell_type": "markdown",
   "id": "4922a155-a41e-4be0-ae26-df663f7c7386",
   "metadata": {},
   "source": [
    "modified by Eric Bellm as part of testing for DIAObject sprint in Dec 2022"
   ]
  },
  {
   "cell_type": "markdown",
   "id": "b4d7ce29",
   "metadata": {},
   "source": [
    "# DIAObject sprint, December 2022: Selecting \"good\" variables\n",
    "\n",
    "after notebook from DM-35285: ApPipeWithFakes on HSC COSMOS, November 2022\n",
    "\n",
    "New baseline run, still using \"new diffim\" (before the big refactor).\n",
    "\n",
    "* Used weekly `w_2022_46` with default convolution mode\n",
    "* Working directory on USDF with bps logs, pipelines, etc. is `/sdf/group/rubin/user/elhoward/repo-main-logs/DM-35285`\n",
    "* Templates are in `u/mrawls/DM-34711/templates`\n",
    "* Final processing of HSC COSMOS is in `u/elhoward/DM-35285/hsc-output-collection`\n",
    "* Postgres schema is `elhoward_dm35285_hsc_appipewithfakes`\n",
    "\n",
    "For ApPipeWithFakes.yaml:\n",
    "```\n",
    "inCollection: u/mrawls/DM-34711/templates,HSC/raw/RC2/9813,HSC/calib,HSC/masks,refcats,skymaps\n",
    "dataQuery: \"instrument='HSC' AND skymap='hsc_rings_v1' AND band IN ('g', 'r', 'i', 'z', 'y')\"\n",
    "```"
   ]
  },
  {
   "cell_type": "code",
   "execution_count": 2,
   "id": "62311997-0d56-4356-8b52-d15aaf723538",
   "metadata": {
    "execution": {
     "iopub.execute_input": "2022-12-13T19:43:04.102987Z",
     "iopub.status.busy": "2022-12-13T19:43:04.102572Z",
     "iopub.status.idle": "2022-12-13T19:43:04.108313Z",
     "shell.execute_reply": "2022-12-13T19:43:04.107843Z",
     "shell.execute_reply.started": "2022-12-13T19:43:04.102965Z"
    },
    "tags": []
   },
   "outputs": [],
   "source": [
    "%matplotlib widget\n",
    "\n",
    "import numpy as np\n",
    "import matplotlib.pyplot as plt\n",
    "import importlib\n",
    "import pandas as pd\n",
    "import astropy.units as u\n",
    "import lsst.afw.display as afwDisplay\n",
    "import lsst.geom\n",
    "\n",
    "import lsst.daf.butler as dafButler\n",
    "\n",
    "from lsst.analysis.ap import apdb\n",
    "\n",
    "import warnings\n",
    "warnings.filterwarnings('ignore')\n",
    "warnings.simplefilter('ignore')\n",
    "\n",
    "from IPython.display import Image, display"
   ]
  },
  {
   "cell_type": "markdown",
   "id": "5b4e64f4",
   "metadata": {},
   "source": [
    "## 1. Loading DiaObjects and DiaSources"
   ]
  },
  {
   "cell_type": "code",
   "execution_count": 3,
   "id": "16a01e6b",
   "metadata": {
    "execution": {
     "iopub.execute_input": "2022-12-13T19:43:06.473883Z",
     "iopub.status.busy": "2022-12-13T19:43:06.473157Z",
     "iopub.status.idle": "2022-12-13T19:43:10.502258Z",
     "shell.execute_reply": "2022-12-13T19:43:10.501620Z",
     "shell.execute_reply.started": "2022-12-13T19:43:06.473857Z"
    },
    "tags": []
   },
   "outputs": [],
   "source": [
    "repo = '/repo/main'\n",
    "butler = dafButler.Butler(repo)\n",
    "instrument = 'HSC'\n",
    "skymap = 'hsc_rings_v1'\n",
    "\n",
    "dbType='postgres'\n",
    "dbName='lsst-devl'\n",
    "\n",
    "collections = 'u/elhoward/DM-35285/hsc-output-collection'\n",
    "schema = 'elhoward_dm35285_hsc_appipewithfakes'\n",
    "month = 'November'\n",
    "year = '2022'\n",
    "\n",
    "collections_old = 'u/smart/DM-36389/hsc-output-collection'\n",
    "schema_old = 'smart_dm36389_hsc_fakes_rerun'\n",
    "month_old = 'October'\n",
    "year_old = '2022'\n",
    "\n",
    "collectionsList = [collections,collections_old]"
   ]
  },
  {
   "cell_type": "code",
   "execution_count": 4,
   "id": "9c297683-811b-4341-876f-2b74f08942e4",
   "metadata": {
    "execution": {
     "iopub.execute_input": "2022-12-13T19:43:56.291510Z",
     "iopub.status.busy": "2022-12-13T19:43:56.290671Z",
     "iopub.status.idle": "2022-12-13T19:43:59.946089Z",
     "shell.execute_reply": "2022-12-13T19:43:59.945370Z",
     "shell.execute_reply.started": "2022-12-13T19:43:56.291486Z"
    }
   },
   "outputs": [],
   "source": [
    "\n",
    "butler = lsst.daf.butler.Butler(repo, collections=collections)\n",
    "apdbQuery = apdb.ApdbPostgresQuery(schema, butler=butler, instrument=instrument)\n"
   ]
  },
  {
   "cell_type": "code",
   "execution_count": null,
   "id": "ac52d58e-15ef-444b-9148-aa22e3ee344b",
   "metadata": {},
   "outputs": [],
   "source": [
    "#sources = apdbQuery.load_sources()\n",
    "#objects = apdbQuery.load_objects()\n",
    "#one_object = apdbQuery.load_sources_for_object(SOME_OBJECT_ID)"
   ]
  },
  {
   "cell_type": "markdown",
   "id": "8283a026-71d7-4d34-a3dc-e55999b5ef92",
   "metadata": {},
   "source": [
    "## test writing raw SQL queries to the APDB"
   ]
  },
  {
   "cell_type": "markdown",
   "id": "3c5922d6-3f4b-4462-912c-353509e9d3d5",
   "metadata": {},
   "source": [
    "the legacy utils only give us a few columns.  Raw sql time"
   ]
  },
  {
   "cell_type": "code",
   "execution_count": 5,
   "id": "7af4f0dd-8adc-485a-9186-be133e67a32a",
   "metadata": {
    "execution": {
     "iopub.execute_input": "2022-12-13T19:44:14.672694Z",
     "iopub.status.busy": "2022-12-13T19:44:14.671835Z",
     "iopub.status.idle": "2022-12-13T19:44:14.696457Z",
     "shell.execute_reply": "2022-12-13T19:44:14.695852Z",
     "shell.execute_reply.started": "2022-12-13T19:44:14.672670Z"
    },
    "tags": []
   },
   "outputs": [],
   "source": [
    "with apdbQuery.connection as connection:\n",
    "     testTable = pd.read_sql_query('select \"diaObjectId\", \"ra\", \"decl\", \"nDiaSources\", \\\n",
    "                                    \"gPSFluxMean\", \"rPSFluxMean\", \"iPSFluxMean\", \\\n",
    "                                    \"zPSFluxMean\", \"yPSFluxMean\", \"validityEnd\", \"flags\" from {0} \\\n",
    "                                    where \"validityEnd\" is NULL LIMIT 100;'.format('\"DiaObject\"'), connection)"
   ]
  },
  {
   "cell_type": "code",
   "execution_count": 6,
   "id": "2fb6f247-b1fe-42df-87ee-b807bb187166",
   "metadata": {
    "execution": {
     "iopub.execute_input": "2022-12-13T19:44:16.300575Z",
     "iopub.status.busy": "2022-12-13T19:44:16.300271Z",
     "iopub.status.idle": "2022-12-13T19:44:16.314101Z",
     "shell.execute_reply": "2022-12-13T19:44:16.313524Z",
     "shell.execute_reply.started": "2022-12-13T19:44:16.300555Z"
    },
    "tags": []
   },
   "outputs": [
    {
     "data": {
      "text/html": [
       "<div>\n",
       "<style scoped>\n",
       "    .dataframe tbody tr th:only-of-type {\n",
       "        vertical-align: middle;\n",
       "    }\n",
       "\n",
       "    .dataframe tbody tr th {\n",
       "        vertical-align: top;\n",
       "    }\n",
       "\n",
       "    .dataframe thead th {\n",
       "        text-align: right;\n",
       "    }\n",
       "</style>\n",
       "<table border=\"1\" class=\"dataframe\">\n",
       "  <thead>\n",
       "    <tr style=\"text-align: right;\">\n",
       "      <th></th>\n",
       "      <th>diaObjectId</th>\n",
       "      <th>ra</th>\n",
       "      <th>decl</th>\n",
       "      <th>nDiaSources</th>\n",
       "      <th>gPSFluxMean</th>\n",
       "      <th>rPSFluxMean</th>\n",
       "      <th>iPSFluxMean</th>\n",
       "      <th>zPSFluxMean</th>\n",
       "      <th>yPSFluxMean</th>\n",
       "      <th>validityEnd</th>\n",
       "      <th>flags</th>\n",
       "    </tr>\n",
       "  </thead>\n",
       "  <tbody>\n",
       "    <tr>\n",
       "      <th>0</th>\n",
       "      <td>9717926147916312</td>\n",
       "      <td>150.874729</td>\n",
       "      <td>2.350798</td>\n",
       "      <td>1</td>\n",
       "      <td>None</td>\n",
       "      <td>NaN</td>\n",
       "      <td>NaN</td>\n",
       "      <td>NaN</td>\n",
       "      <td>1232.587926</td>\n",
       "      <td>None</td>\n",
       "      <td>1</td>\n",
       "    </tr>\n",
       "    <tr>\n",
       "      <th>1</th>\n",
       "      <td>9732546216591920</td>\n",
       "      <td>150.873182</td>\n",
       "      <td>2.356089</td>\n",
       "      <td>2</td>\n",
       "      <td>None</td>\n",
       "      <td>NaN</td>\n",
       "      <td>NaN</td>\n",
       "      <td>NaN</td>\n",
       "      <td>4448.875247</td>\n",
       "      <td>None</td>\n",
       "      <td>1</td>\n",
       "    </tr>\n",
       "    <tr>\n",
       "      <th>2</th>\n",
       "      <td>13092018095915533</td>\n",
       "      <td>150.871356</td>\n",
       "      <td>2.379869</td>\n",
       "      <td>2</td>\n",
       "      <td>None</td>\n",
       "      <td>NaN</td>\n",
       "      <td>-475.086307</td>\n",
       "      <td>NaN</td>\n",
       "      <td>1309.996970</td>\n",
       "      <td>None</td>\n",
       "      <td>1</td>\n",
       "    </tr>\n",
       "    <tr>\n",
       "      <th>3</th>\n",
       "      <td>5039847769113514</td>\n",
       "      <td>150.870091</td>\n",
       "      <td>2.387772</td>\n",
       "      <td>2</td>\n",
       "      <td>None</td>\n",
       "      <td>NaN</td>\n",
       "      <td>NaN</td>\n",
       "      <td>NaN</td>\n",
       "      <td>3266.279123</td>\n",
       "      <td>None</td>\n",
       "      <td>1</td>\n",
       "    </tr>\n",
       "    <tr>\n",
       "      <th>4</th>\n",
       "      <td>521529288820947</td>\n",
       "      <td>150.535431</td>\n",
       "      <td>2.287965</td>\n",
       "      <td>2</td>\n",
       "      <td>None</td>\n",
       "      <td>-35.908517</td>\n",
       "      <td>NaN</td>\n",
       "      <td>NaN</td>\n",
       "      <td>NaN</td>\n",
       "      <td>None</td>\n",
       "      <td>1</td>\n",
       "    </tr>\n",
       "    <tr>\n",
       "      <th>...</th>\n",
       "      <td>...</td>\n",
       "      <td>...</td>\n",
       "      <td>...</td>\n",
       "      <td>...</td>\n",
       "      <td>...</td>\n",
       "      <td>...</td>\n",
       "      <td>...</td>\n",
       "      <td>...</td>\n",
       "      <td>...</td>\n",
       "      <td>...</td>\n",
       "      <td>...</td>\n",
       "    </tr>\n",
       "    <tr>\n",
       "      <th>95</th>\n",
       "      <td>13096334538049410</td>\n",
       "      <td>150.473572</td>\n",
       "      <td>2.285980</td>\n",
       "      <td>1</td>\n",
       "      <td>None</td>\n",
       "      <td>NaN</td>\n",
       "      <td>288.237223</td>\n",
       "      <td>NaN</td>\n",
       "      <td>NaN</td>\n",
       "      <td>None</td>\n",
       "      <td>1</td>\n",
       "    </tr>\n",
       "    <tr>\n",
       "      <th>96</th>\n",
       "      <td>9720528898097643</td>\n",
       "      <td>150.080724</td>\n",
       "      <td>2.534144</td>\n",
       "      <td>1</td>\n",
       "      <td>None</td>\n",
       "      <td>NaN</td>\n",
       "      <td>NaN</td>\n",
       "      <td>NaN</td>\n",
       "      <td>1090.874994</td>\n",
       "      <td>None</td>\n",
       "      <td>1</td>\n",
       "    </tr>\n",
       "    <tr>\n",
       "      <th>97</th>\n",
       "      <td>9717926147916382</td>\n",
       "      <td>150.865334</td>\n",
       "      <td>2.394468</td>\n",
       "      <td>1</td>\n",
       "      <td>None</td>\n",
       "      <td>NaN</td>\n",
       "      <td>NaN</td>\n",
       "      <td>NaN</td>\n",
       "      <td>1315.665263</td>\n",
       "      <td>None</td>\n",
       "      <td>1</td>\n",
       "    </tr>\n",
       "    <tr>\n",
       "      <th>98</th>\n",
       "      <td>9717926147916383</td>\n",
       "      <td>150.865115</td>\n",
       "      <td>2.396599</td>\n",
       "      <td>1</td>\n",
       "      <td>None</td>\n",
       "      <td>NaN</td>\n",
       "      <td>NaN</td>\n",
       "      <td>NaN</td>\n",
       "      <td>1363.965705</td>\n",
       "      <td>None</td>\n",
       "      <td>1</td>\n",
       "    </tr>\n",
       "    <tr>\n",
       "      <th>99</th>\n",
       "      <td>9717926147916384</td>\n",
       "      <td>150.864967</td>\n",
       "      <td>2.404326</td>\n",
       "      <td>1</td>\n",
       "      <td>None</td>\n",
       "      <td>NaN</td>\n",
       "      <td>NaN</td>\n",
       "      <td>NaN</td>\n",
       "      <td>1321.119585</td>\n",
       "      <td>None</td>\n",
       "      <td>1</td>\n",
       "    </tr>\n",
       "  </tbody>\n",
       "</table>\n",
       "<p>100 rows × 11 columns</p>\n",
       "</div>"
      ],
      "text/plain": [
       "          diaObjectId          ra      decl  nDiaSources gPSFluxMean  \\\n",
       "0    9717926147916312  150.874729  2.350798            1        None   \n",
       "1    9732546216591920  150.873182  2.356089            2        None   \n",
       "2   13092018095915533  150.871356  2.379869            2        None   \n",
       "3    5039847769113514  150.870091  2.387772            2        None   \n",
       "4     521529288820947  150.535431  2.287965            2        None   \n",
       "..                ...         ...       ...          ...         ...   \n",
       "95  13096334538049410  150.473572  2.285980            1        None   \n",
       "96   9720528898097643  150.080724  2.534144            1        None   \n",
       "97   9717926147916382  150.865334  2.394468            1        None   \n",
       "98   9717926147916383  150.865115  2.396599            1        None   \n",
       "99   9717926147916384  150.864967  2.404326            1        None   \n",
       "\n",
       "    rPSFluxMean  iPSFluxMean  zPSFluxMean  yPSFluxMean validityEnd  flags  \n",
       "0           NaN          NaN          NaN  1232.587926        None      1  \n",
       "1           NaN          NaN          NaN  4448.875247        None      1  \n",
       "2           NaN  -475.086307          NaN  1309.996970        None      1  \n",
       "3           NaN          NaN          NaN  3266.279123        None      1  \n",
       "4    -35.908517          NaN          NaN          NaN        None      1  \n",
       "..          ...          ...          ...          ...         ...    ...  \n",
       "95          NaN   288.237223          NaN          NaN        None      1  \n",
       "96          NaN          NaN          NaN  1090.874994        None      1  \n",
       "97          NaN          NaN          NaN  1315.665263        None      1  \n",
       "98          NaN          NaN          NaN  1363.965705        None      1  \n",
       "99          NaN          NaN          NaN  1321.119585        None      1  \n",
       "\n",
       "[100 rows x 11 columns]"
      ]
     },
     "execution_count": 6,
     "metadata": {},
     "output_type": "execute_result"
    }
   ],
   "source": [
    "testTable"
   ]
  },
  {
   "cell_type": "code",
   "execution_count": 7,
   "id": "c7310412-1335-462c-bd69-68380f072b6a",
   "metadata": {
    "execution": {
     "iopub.execute_input": "2022-12-13T19:44:22.182799Z",
     "iopub.status.busy": "2022-12-13T19:44:22.182492Z",
     "iopub.status.idle": "2022-12-13T19:44:22.188152Z",
     "shell.execute_reply": "2022-12-13T19:44:22.187614Z",
     "shell.execute_reply.started": "2022-12-13T19:44:22.182779Z"
    },
    "tags": []
   },
   "outputs": [
    {
     "data": {
      "text/plain": [
       "0     None\n",
       "1     None\n",
       "2     None\n",
       "3     None\n",
       "4     None\n",
       "      ... \n",
       "95    None\n",
       "96    None\n",
       "97    None\n",
       "98    None\n",
       "99    None\n",
       "Name: gPSFluxMean, Length: 100, dtype: object"
      ]
     },
     "execution_count": 7,
     "metadata": {},
     "output_type": "execute_result"
    }
   ],
   "source": [
    "testTable.loc[testTable['gPSFluxMean'].isna(),'gPSFluxMean']"
   ]
  },
  {
   "cell_type": "code",
   "execution_count": 8,
   "id": "da85034a-c002-465d-b80d-b74a0aef428e",
   "metadata": {
    "execution": {
     "iopub.execute_input": "2022-12-13T19:44:34.470323Z",
     "iopub.status.busy": "2022-12-13T19:44:34.470025Z",
     "iopub.status.idle": "2022-12-13T19:44:34.963953Z",
     "shell.execute_reply": "2022-12-13T19:44:34.963323Z",
     "shell.execute_reply.started": "2022-12-13T19:44:34.470304Z"
    },
    "tags": []
   },
   "outputs": [
    {
     "name": "stdout",
     "output_type": "stream",
     "text": [
      "     count\n",
      "0  2450334\n"
     ]
    }
   ],
   "source": [
    "with apdbQuery.connection as connection:\n",
    "    print(pd.read_sql_query('select count(\"diaObjectId\") from \"DiaObject\" where \"validityEnd\" is NULL', connection))"
   ]
  },
  {
   "cell_type": "code",
   "execution_count": 9,
   "id": "049fa629-fb11-4b00-a73c-8593d4e78912",
   "metadata": {
    "execution": {
     "iopub.execute_input": "2022-12-13T19:44:38.737657Z",
     "iopub.status.busy": "2022-12-13T19:44:38.737349Z",
     "iopub.status.idle": "2022-12-13T19:44:38.993678Z",
     "shell.execute_reply": "2022-12-13T19:44:38.993026Z",
     "shell.execute_reply.started": "2022-12-13T19:44:38.737637Z"
    },
    "tags": []
   },
   "outputs": [
    {
     "name": "stdout",
     "output_type": "stream",
     "text": [
      "     count\n",
      "0  5007735\n"
     ]
    }
   ],
   "source": [
    "with apdbQuery.connection as connection:\n",
    "    print(pd.read_sql_query('select count(\"diaSourceId\") from \"DiaSource\"', connection))"
   ]
  },
  {
   "cell_type": "code",
   "execution_count": 10,
   "id": "9217f6fc-03d8-4456-af64-91153338743c",
   "metadata": {
    "execution": {
     "iopub.execute_input": "2022-12-13T19:44:43.799907Z",
     "iopub.status.busy": "2022-12-13T19:44:43.799498Z",
     "iopub.status.idle": "2022-12-13T19:44:43.826494Z",
     "shell.execute_reply": "2022-12-13T19:44:43.825963Z",
     "shell.execute_reply.started": "2022-12-13T19:44:43.799887Z"
    },
    "tags": []
   },
   "outputs": [
    {
     "name": "stdout",
     "output_type": "stream",
     "text": [
      "['diaSourceId', 'ccdVisitId', 'diaObjectId', 'ssObjectId', 'parentDiaSourceId', 'prv_procOrder', 'ssObjectReassocTime', 'midPointTai', 'ra', 'raErr', 'decl', 'declErr', 'ra_decl_Cov', 'x', 'xErr', 'y', 'yErr', 'x_y_Cov', 'apFlux', 'apFluxErr', 'snr', 'psFlux', 'psFluxErr', 'psRa', 'psRaErr', 'psDecl', 'psDeclErr', 'psFlux_psRa_Cov', 'psFlux_psDecl_Cov', 'psRa_psDecl_Cov', 'psLnL', 'psChi2', 'psNdata', 'trailFlux', 'trailFluxErr', 'trailRa', 'trailRaErr', 'trailDecl', 'trailDeclErr', 'trailLength', 'trailLengthErr', 'trailAngle', 'trailAngleErr', 'trailFlux_trailRa_Cov', 'trailFlux_trailDecl_Cov', 'trailFlux_trailLength_Cov', 'trailFlux_trailAngle_Cov', 'trailRa_trailDecl_Cov', 'trailRa_trailLength_Cov', 'trailRa_trailAngle_Cov', 'trailDecl_trailLength_Cov', 'trailDecl_trailAngle_Cov', 'trailLength_trailAngle_Cov', 'trailLnL', 'trailChi2', 'trailNdata', 'dipMeanFlux', 'dipMeanFluxErr', 'dipFluxDiff', 'dipFluxDiffErr', 'dipRa', 'dipRaErr', 'dipDecl', 'dipDeclErr', 'dipLength', 'dipLengthErr', 'dipAngle', 'dipAngleErr', 'dipMeanFlux_dipFluxDiff_Cov', 'dipMeanFlux_dipRa_Cov', 'dipMeanFlux_dipDecl_Cov', 'dipMeanFlux_dipLength_Cov', 'dipMeanFlux_dipAngle_Cov', 'dipFluxDiff_dipRa_Cov', 'dipFluxDiff_dipDecl_Cov', 'dipFluxDiff_dipLength_Cov', 'dipFluxDiff_dipAngle_Cov', 'dipRa_dipDecl_Cov', 'dipRa_dipLength_Cov', 'dipRa_dipAngle_Cov', 'dipDecl_dipLength_Cov', 'dipDecl_dipAngle_Cov', 'dipLength_dipAngle_Cov', 'dipLnL', 'dipChi2', 'dipNdata', 'totFlux', 'totFluxErr', 'diffFlux', 'diffFluxErr', 'fpBkgd', 'fpBkgdErr', 'ixx', 'ixxErr', 'iyy', 'iyyErr', 'ixy', 'ixyErr', 'ixx_iyy_Cov', 'ixx_ixy_Cov', 'iyy_ixy_Cov', 'ixxPSF', 'iyyPSF', 'ixyPSF', 'extendedness', 'spuriousness', 'flags', 'filterName', 'isDipole', 'bboxSize', 'pixelId']\n"
     ]
    }
   ],
   "source": [
    "with apdbQuery.connection as connection:\n",
    "    print(pd.read_sql_query('select * from \"DiaSource\" LIMIT 1', connection).columns.to_list())"
   ]
  },
  {
   "cell_type": "markdown",
   "id": "01979b3a-85e1-406a-94a4-6a19fb9be987",
   "metadata": {},
   "source": [
    "this appears to be all of the columns in [sdm_schemas.apdb.yaml](https://github.com/lsst/sdm_schemas/blob/main/yml/apdb.yaml) even though they are not all populated at present by [ap_association](https://github.com/lsst/ap_association/blob/main/data/DiaSource.yaml)"
   ]
  },
  {
   "cell_type": "code",
   "execution_count": 11,
   "id": "b52936d8-8653-47f9-afd2-0caf20b765d2",
   "metadata": {
    "execution": {
     "iopub.execute_input": "2022-12-13T19:44:48.849097Z",
     "iopub.status.busy": "2022-12-13T19:44:48.848709Z",
     "iopub.status.idle": "2022-12-13T19:44:48.879840Z",
     "shell.execute_reply": "2022-12-13T19:44:48.878968Z",
     "shell.execute_reply.started": "2022-12-13T19:44:48.849077Z"
    },
    "tags": []
   },
   "outputs": [
    {
     "name": "stdout",
     "output_type": "stream",
     "text": [
      "['diaObjectId', 'validityStart', 'validityEnd', 'ra', 'raErr', 'decl', 'declErr', 'ra_decl_Cov', 'radecTai', 'pmRa', 'pmRaErr', 'pmDecl', 'pmDeclErr', 'parallax', 'parallaxErr', 'pmRa_pmDecl_Cov', 'pmRa_parallax_Cov', 'pmDecl_parallax_Cov', 'pmParallaxLnL', 'pmParallaxChi2', 'pmParallaxNdata', 'uPSFluxMean', 'uPSFluxMeanErr', 'uPSFluxSigma', 'uPSFluxChi2', 'uPSFluxNdata', 'uFPFluxMean', 'uFPFluxMeanErr', 'uFPFluxSigma', 'gPSFluxMean', 'gPSFluxMeanErr', 'gPSFluxSigma', 'gPSFluxChi2', 'gPSFluxNdata', 'gFPFluxMean', 'gFPFluxMeanErr', 'gFPFluxSigma', 'rPSFluxMean', 'rPSFluxMeanErr', 'rPSFluxSigma', 'rPSFluxChi2', 'rPSFluxNdata', 'rFPFluxMean', 'rFPFluxMeanErr', 'rFPFluxSigma', 'iPSFluxMean', 'iPSFluxMeanErr', 'iPSFluxSigma', 'iPSFluxChi2', 'iPSFluxNdata', 'iFPFluxMean', 'iFPFluxMeanErr', 'iFPFluxSigma', 'zPSFluxMean', 'zPSFluxMeanErr', 'zPSFluxSigma', 'zPSFluxChi2', 'zPSFluxNdata', 'zFPFluxMean', 'zFPFluxMeanErr', 'zFPFluxSigma', 'yPSFluxMean', 'yPSFluxMeanErr', 'yPSFluxSigma', 'yPSFluxChi2', 'yPSFluxNdata', 'yFPFluxMean', 'yFPFluxMeanErr', 'yFPFluxSigma', 'uLcPeriodic', 'gLcPeriodic', 'rLcPeriodic', 'iLcPeriodic', 'zLcPeriodic', 'yLcPeriodic', 'uLcNonPeriodic', 'gLcNonPeriodic', 'rLcNonPeriodic', 'iLcNonPeriodic', 'zLcNonPeriodic', 'yLcNonPeriodic', 'nearbyObj1', 'nearbyObj1Dist', 'nearbyObj1LnP', 'nearbyObj2', 'nearbyObj2Dist', 'nearbyObj2LnP', 'nearbyObj3', 'nearbyObj3Dist', 'nearbyObj3LnP', 'nearbyExtObj1', 'nearbyExtObj1Sep', 'nearbyExtObj2', 'nearbyExtObj2Sep', 'nearbyExtObj3', 'nearbyExtObj3Sep', 'nearbyLowzGal', 'nearbyLowzGalSep', 'uTOTFluxMean', 'uTOTFluxMeanErr', 'uTOTFluxSigma', 'gTOTFluxMean', 'gTOTFluxMeanErr', 'gTOTFluxSigma', 'rTOTFluxMean', 'rTOTFluxMeanErr', 'rTOTFluxSigma', 'iTOTFluxMean', 'iTOTFluxMeanErr', 'iTOTFluxSigma', 'zTOTFluxMean', 'zTOTFluxMeanErr', 'zTOTFluxSigma', 'yTOTFluxMean', 'yTOTFluxMeanErr', 'yTOTFluxSigma', 'uPSFluxMAD', 'uPSFluxSkew', 'uPSFluxPercentile05', 'uPSFluxPercentile25', 'uPSFluxPercentile50', 'uPSFluxPercentile75', 'uPSFluxPercentile95', 'uPSFluxMin', 'uPSFluxMax', 'uPSFluxStetsonJ', 'uPSFluxLinearSlope', 'uPSFluxLinearIntercept', 'uPSFluxMaxSlope', 'uPSFluxErrMean', 'gPSFluxMAD', 'gPSFluxSkew', 'gPSFluxPercentile05', 'gPSFluxPercentile25', 'gPSFluxPercentile50', 'gPSFluxPercentile75', 'gPSFluxPercentile95', 'gPSFluxMin', 'gPSFluxMax', 'gPSFluxStetsonJ', 'gPSFluxLinearSlope', 'gPSFluxLinearIntercept', 'gPSFluxMaxSlope', 'gPSFluxErrMean', 'rPSFluxMAD', 'rPSFluxSkew', 'rPSFluxPercentile05', 'rPSFluxPercentile25', 'rPSFluxPercentile50', 'rPSFluxPercentile75', 'rPSFluxPercentile95', 'rPSFluxMin', 'rPSFluxMax', 'rPSFluxStetsonJ', 'rPSFluxLinearSlope', 'rPSFluxLinearIntercept', 'rPSFluxMaxSlope', 'rPSFluxErrMean', 'iPSFluxMAD', 'iPSFluxSkew', 'iPSFluxPercentile05', 'iPSFluxPercentile25', 'iPSFluxPercentile50', 'iPSFluxPercentile75', 'iPSFluxPercentile95', 'iPSFluxMin', 'iPSFluxMax', 'iPSFluxStetsonJ', 'iPSFluxLinearSlope', 'iPSFluxLinearIntercept', 'iPSFluxMaxSlope', 'iPSFluxErrMean', 'zPSFluxMAD', 'zPSFluxSkew', 'zPSFluxPercentile05', 'zPSFluxPercentile25', 'zPSFluxPercentile50', 'zPSFluxPercentile75', 'zPSFluxPercentile95', 'zPSFluxMin', 'zPSFluxMax', 'zPSFluxStetsonJ', 'zPSFluxLinearSlope', 'zPSFluxLinearIntercept', 'zPSFluxMaxSlope', 'zPSFluxErrMean', 'yPSFluxMAD', 'yPSFluxSkew', 'yPSFluxPercentile05', 'yPSFluxPercentile25', 'yPSFluxPercentile50', 'yPSFluxPercentile75', 'yPSFluxPercentile95', 'yPSFluxMin', 'yPSFluxMax', 'yPSFluxStetsonJ', 'yPSFluxLinearSlope', 'yPSFluxLinearIntercept', 'yPSFluxMaxSlope', 'yPSFluxErrMean', 'flags', 'lastNonForcedSource', 'nDiaSources', 'pixelId']\n"
     ]
    }
   ],
   "source": [
    "with apdbQuery.connection as connection:\n",
    "    print(pd.read_sql_query('select * from \"DiaObject\" LIMIT 1', connection).columns.to_list())"
   ]
  },
  {
   "cell_type": "markdown",
   "id": "1d88ab84-42fc-4031-a202-94827fade3a8",
   "metadata": {},
   "source": [
    "## Try to select Variable Sources\n",
    "\n",
    "We want to make this selection without having to load all of the DIASource lightcurves.  So we need to make use of the DIAObject summary statistics.  \n",
    "\n",
    "One question is what flag propagation we have up from the individual DIASources.  Per [this link](https://github.com/lsst/meas_base/blob/26961ef6c7a3bd91c4b40a0307c740244fea775e/python/lsst/meas/base/diaCalculationPlugins.py#L228) it looks like we do have flagging propagated up (if any flag is set it sets the DIAObject flag?)"
   ]
  },
  {
   "cell_type": "markdown",
   "id": "af6ef77a-97f5-4f78-af3d-c4bfb28063fe",
   "metadata": {},
   "source": [
    "How do we define a variable source?  \n",
    "\n",
    "* has a template counterpart ⇒ totflux > 0 catches both galaxies and variable stars. \n",
    "\n",
    "Would be good to have a PSF measure, but the eventual DRP crossmatch will handle this\n",
    "\n",
    "* can also select for amplitudes (both positive and negative DIA flux amplitudes is too conservative but would find variables)\n",
    "\n",
    "How do we make sure they are good?\n",
    "\n",
    "* individual DIASource chisqr, RB score, flags, etc...  expensive to look up one by one"
   ]
  },
  {
   "cell_type": "code",
   "execution_count": 12,
   "id": "9220abde-be56-444e-85c6-0c8174247b7c",
   "metadata": {
    "execution": {
     "iopub.execute_input": "2022-12-13T19:44:56.450911Z",
     "iopub.status.busy": "2022-12-13T19:44:56.450045Z",
     "iopub.status.idle": "2022-12-13T19:44:57.505076Z",
     "shell.execute_reply": "2022-12-13T19:44:57.504416Z",
     "shell.execute_reply.started": "2022-12-13T19:44:56.450887Z"
    },
    "tags": []
   },
   "outputs": [
    {
     "name": "stdout",
     "output_type": "stream",
     "text": [
      "select max(\"uPSFluxNdata\"), max(\"gPSFluxNdata\"), max(\"rPSFluxNdata\"), max(\"iPSFluxNdata\"), max(\"zPSFluxNdata\"), max(\"yPSFluxNdata\") from \"DiaObject\" LIMIT 10\n",
      "   max  max  max  max  max  max\n",
      "0    0    3   16   33   31   51\n"
     ]
    }
   ],
   "source": [
    "bands = ['u','g','r','i','z','y']\n",
    "base_cols = ['PSFluxNdata']\n",
    "\n",
    "cols_to_return = []\n",
    "\n",
    "for col in base_cols:\n",
    "    for band in bands:\n",
    "        cols_to_return.append(f'max(\"{band}{col}\")')\n",
    "\n",
    "#query = f'select \"diaObjectId\", {\", \".join(cols_to_return)} from \"DiaObject\" LIMIT 10'\n",
    "query = f'select {\", \".join(cols_to_return)} from \"DiaObject\" LIMIT 10'\n",
    "\n",
    "print(query)\n",
    "\n",
    "with apdbQuery.connection as connection:\n",
    "    print(pd.read_sql_query(query, connection))"
   ]
  },
  {
   "cell_type": "code",
   "execution_count": 13,
   "id": "a529518e-047a-4c9d-9bdd-32c50f5ae887",
   "metadata": {
    "execution": {
     "iopub.execute_input": "2022-12-13T19:45:01.447672Z",
     "iopub.status.busy": "2022-12-13T19:45:01.447289Z",
     "iopub.status.idle": "2022-12-13T19:45:03.717486Z",
     "shell.execute_reply": "2022-12-13T19:45:03.716956Z",
     "shell.execute_reply.started": "2022-12-13T19:45:01.447652Z"
    },
    "tags": []
   },
   "outputs": [
    {
     "name": "stdout",
     "output_type": "stream",
     "text": [
      "select * from \"DiaObject\" where \n",
      "    (\"nDiaSources\" > 30) and \n",
      "    (((\"uPSFluxMin\" < 0) and (\"uPSFluxMax\" > 0)) or ((\"gPSFluxMin\" < 0) and (\"gPSFluxMax\" > 0)) or ((\"rPSFluxMin\" < 0) and (\"rPSFluxMax\" > 0)) or ((\"iPSFluxMin\" < 0) and (\"iPSFluxMax\" > 0)) or ((\"zPSFluxMin\" < 0) and (\"zPSFluxMax\" > 0)) or ((\"yPSFluxMin\" < 0) and (\"yPSFluxMax\" > 0))) \n",
      "     and \"validityEnd\" is NULL\n",
      "    ORDER BY \"rPSFluxStetsonJ\" limit 1000\n",
      "    ;\n"
     ]
    }
   ],
   "source": [
    "\n",
    "\n",
    "minmax_where = [f'((\"{band}PSFluxMin\" < 0) and (\"{band}PSFluxMax\" > 0))' for band in bands]\n",
    "#query = f\"\"\"select count(\"diaObjectId\") from \"DiaObject\" where \n",
    "query = f\"\"\"select * from \"DiaObject\" where \n",
    "    (\"nDiaSources\" > 30) and \n",
    "    ({\" or \".join(minmax_where)}) \n",
    "     and \"validityEnd\" is NULL\n",
    "    ORDER BY \"rPSFluxStetsonJ\" limit 1000\n",
    "    ;\"\"\"\n",
    "\n",
    "#    and flags>1  # returns nothing\n",
    "\n",
    "\n",
    "print(query)\n",
    "\n",
    "with apdbQuery.connection as connection:\n",
    "    variable_sample_diao = pd.read_sql_query(query, connection)"
   ]
  },
  {
   "cell_type": "code",
   "execution_count": 14,
   "id": "5b1c7cd1-1b52-42c2-affe-9d5c3be32a1e",
   "metadata": {
    "execution": {
     "iopub.execute_input": "2022-12-13T19:45:04.123402Z",
     "iopub.status.busy": "2022-12-13T19:45:04.122993Z",
     "iopub.status.idle": "2022-12-13T19:45:04.177759Z",
     "shell.execute_reply": "2022-12-13T19:45:04.177273Z",
     "shell.execute_reply.started": "2022-12-13T19:45:04.123379Z"
    },
    "tags": []
   },
   "outputs": [
    {
     "data": {
      "text/html": [
       "<div>\n",
       "<style scoped>\n",
       "    .dataframe tbody tr th:only-of-type {\n",
       "        vertical-align: middle;\n",
       "    }\n",
       "\n",
       "    .dataframe tbody tr th {\n",
       "        vertical-align: top;\n",
       "    }\n",
       "\n",
       "    .dataframe thead th {\n",
       "        text-align: right;\n",
       "    }\n",
       "</style>\n",
       "<table border=\"1\" class=\"dataframe\">\n",
       "  <thead>\n",
       "    <tr style=\"text-align: right;\">\n",
       "      <th></th>\n",
       "      <th>diaObjectId</th>\n",
       "      <th>validityStart</th>\n",
       "      <th>validityEnd</th>\n",
       "      <th>ra</th>\n",
       "      <th>raErr</th>\n",
       "      <th>decl</th>\n",
       "      <th>declErr</th>\n",
       "      <th>ra_decl_Cov</th>\n",
       "      <th>radecTai</th>\n",
       "      <th>pmRa</th>\n",
       "      <th>...</th>\n",
       "      <th>yPSFluxMax</th>\n",
       "      <th>yPSFluxStetsonJ</th>\n",
       "      <th>yPSFluxLinearSlope</th>\n",
       "      <th>yPSFluxLinearIntercept</th>\n",
       "      <th>yPSFluxMaxSlope</th>\n",
       "      <th>yPSFluxErrMean</th>\n",
       "      <th>flags</th>\n",
       "      <th>lastNonForcedSource</th>\n",
       "      <th>nDiaSources</th>\n",
       "      <th>pixelId</th>\n",
       "    </tr>\n",
       "  </thead>\n",
       "  <tbody>\n",
       "    <tr>\n",
       "      <th>0</th>\n",
       "      <td>8443991603282714</td>\n",
       "      <td>2015-05-21 06:38:55.891500</td>\n",
       "      <td>None</td>\n",
       "      <td>150.498146</td>\n",
       "      <td>None</td>\n",
       "      <td>2.087375</td>\n",
       "      <td>None</td>\n",
       "      <td>None</td>\n",
       "      <td>57163.296292</td>\n",
       "      <td>None</td>\n",
       "      <td>...</td>\n",
       "      <td>-1791.663927</td>\n",
       "      <td>0.441361</td>\n",
       "      <td>1.017018</td>\n",
       "      <td>-6.022418e+04</td>\n",
       "      <td>9.742968e+05</td>\n",
       "      <td>340.353759</td>\n",
       "      <td>1</td>\n",
       "      <td>2015-05-21 06:38:55.891500</td>\n",
       "      <td>31</td>\n",
       "      <td>15559756459607</td>\n",
       "    </tr>\n",
       "    <tr>\n",
       "      <th>1</th>\n",
       "      <td>5037229986546173</td>\n",
       "      <td>2015-01-16 14:39:46.833500</td>\n",
       "      <td>None</td>\n",
       "      <td>149.821674</td>\n",
       "      <td>None</td>\n",
       "      <td>2.076510</td>\n",
       "      <td>None</td>\n",
       "      <td>None</td>\n",
       "      <td>57163.296292</td>\n",
       "      <td>None</td>\n",
       "      <td>...</td>\n",
       "      <td>2080.322177</td>\n",
       "      <td>23.225268</td>\n",
       "      <td>-0.453137</td>\n",
       "      <td>2.276681e+04</td>\n",
       "      <td>1.862307e+02</td>\n",
       "      <td>265.145391</td>\n",
       "      <td>1</td>\n",
       "      <td>2015-01-16 14:39:46.833500</td>\n",
       "      <td>33</td>\n",
       "      <td>15560610518492</td>\n",
       "    </tr>\n",
       "    <tr>\n",
       "      <th>2</th>\n",
       "      <td>9724770178302279</td>\n",
       "      <td>2015-01-16 13:02:43.287500</td>\n",
       "      <td>None</td>\n",
       "      <td>150.418931</td>\n",
       "      <td>None</td>\n",
       "      <td>2.228094</td>\n",
       "      <td>None</td>\n",
       "      <td>None</td>\n",
       "      <td>57163.296292</td>\n",
       "      <td>None</td>\n",
       "      <td>...</td>\n",
       "      <td>86.640314</td>\n",
       "      <td>26.237305</td>\n",
       "      <td>7.711649</td>\n",
       "      <td>-4.426850e+05</td>\n",
       "      <td>6.004501e+02</td>\n",
       "      <td>291.627782</td>\n",
       "      <td>1</td>\n",
       "      <td>2015-01-16 13:02:43.287500</td>\n",
       "      <td>45</td>\n",
       "      <td>15559777410258</td>\n",
       "    </tr>\n",
       "    <tr>\n",
       "      <th>3</th>\n",
       "      <td>9731562669081045</td>\n",
       "      <td>2014-03-28 11:17:42.705500</td>\n",
       "      <td>None</td>\n",
       "      <td>150.126006</td>\n",
       "      <td>None</td>\n",
       "      <td>1.674522</td>\n",
       "      <td>None</td>\n",
       "      <td>None</td>\n",
       "      <td>57163.296292</td>\n",
       "      <td>None</td>\n",
       "      <td>...</td>\n",
       "      <td>7455.383517</td>\n",
       "      <td>24.733917</td>\n",
       "      <td>-5.319947</td>\n",
       "      <td>3.044317e+05</td>\n",
       "      <td>1.307140e+06</td>\n",
       "      <td>278.292105</td>\n",
       "      <td>1</td>\n",
       "      <td>2014-03-28 11:17:42.705500</td>\n",
       "      <td>31</td>\n",
       "      <td>15560480877236</td>\n",
       "    </tr>\n",
       "    <tr>\n",
       "      <th>4</th>\n",
       "      <td>531878012519028</td>\n",
       "      <td>2014-03-28 11:22:58.038000</td>\n",
       "      <td>None</td>\n",
       "      <td>149.796658</td>\n",
       "      <td>None</td>\n",
       "      <td>2.530000</td>\n",
       "      <td>None</td>\n",
       "      <td>None</td>\n",
       "      <td>57163.296292</td>\n",
       "      <td>None</td>\n",
       "      <td>...</td>\n",
       "      <td>1730.581599</td>\n",
       "      <td>2.441227</td>\n",
       "      <td>23636.420116</td>\n",
       "      <td>-1.348448e+09</td>\n",
       "      <td>1.159390e+05</td>\n",
       "      <td>203.545420</td>\n",
       "      <td>1</td>\n",
       "      <td>2014-03-28 11:22:58.038000</td>\n",
       "      <td>43</td>\n",
       "      <td>15560599077715</td>\n",
       "    </tr>\n",
       "    <tr>\n",
       "      <th>...</th>\n",
       "      <td>...</td>\n",
       "      <td>...</td>\n",
       "      <td>...</td>\n",
       "      <td>...</td>\n",
       "      <td>...</td>\n",
       "      <td>...</td>\n",
       "      <td>...</td>\n",
       "      <td>...</td>\n",
       "      <td>...</td>\n",
       "      <td>...</td>\n",
       "      <td>...</td>\n",
       "      <td>...</td>\n",
       "      <td>...</td>\n",
       "      <td>...</td>\n",
       "      <td>...</td>\n",
       "      <td>...</td>\n",
       "      <td>...</td>\n",
       "      <td>...</td>\n",
       "      <td>...</td>\n",
       "      <td>...</td>\n",
       "      <td>...</td>\n",
       "    </tr>\n",
       "    <tr>\n",
       "      <th>995</th>\n",
       "      <td>7699315141116552</td>\n",
       "      <td>2015-01-16 14:34:06.322000</td>\n",
       "      <td>None</td>\n",
       "      <td>150.352236</td>\n",
       "      <td>None</td>\n",
       "      <td>2.498994</td>\n",
       "      <td>None</td>\n",
       "      <td>None</td>\n",
       "      <td>57163.296292</td>\n",
       "      <td>None</td>\n",
       "      <td>...</td>\n",
       "      <td>1164.589282</td>\n",
       "      <td>19.345628</td>\n",
       "      <td>28.918430</td>\n",
       "      <td>-1.651954e+06</td>\n",
       "      <td>4.427318e+05</td>\n",
       "      <td>286.543701</td>\n",
       "      <td>1</td>\n",
       "      <td>2015-01-16 14:34:06.322000</td>\n",
       "      <td>63</td>\n",
       "      <td>15559805252735</td>\n",
       "    </tr>\n",
       "    <tr>\n",
       "      <th>996</th>\n",
       "      <td>8443113282470493</td>\n",
       "      <td>2015-03-18 10:40:51.122500</td>\n",
       "      <td>None</td>\n",
       "      <td>150.709269</td>\n",
       "      <td>None</td>\n",
       "      <td>2.000978</td>\n",
       "      <td>None</td>\n",
       "      <td>None</td>\n",
       "      <td>57163.284735</td>\n",
       "      <td>None</td>\n",
       "      <td>...</td>\n",
       "      <td>-9245.638918</td>\n",
       "      <td>-0.739980</td>\n",
       "      <td>-105756.566911</td>\n",
       "      <td>6.033365e+09</td>\n",
       "      <td>-1.057566e+05</td>\n",
       "      <td>430.684195</td>\n",
       "      <td>1</td>\n",
       "      <td>2015-03-18 10:40:51.122500</td>\n",
       "      <td>38</td>\n",
       "      <td>15557830966349</td>\n",
       "    </tr>\n",
       "    <tr>\n",
       "      <th>997</th>\n",
       "      <td>13101439106679768</td>\n",
       "      <td>2015-01-21 13:36:23.426500</td>\n",
       "      <td>None</td>\n",
       "      <td>150.179288</td>\n",
       "      <td>None</td>\n",
       "      <td>2.107391</td>\n",
       "      <td>None</td>\n",
       "      <td>None</td>\n",
       "      <td>57163.296292</td>\n",
       "      <td>None</td>\n",
       "      <td>...</td>\n",
       "      <td>-35025.634257</td>\n",
       "      <td>4.341782</td>\n",
       "      <td>14.967303</td>\n",
       "      <td>-8.889047e+05</td>\n",
       "      <td>2.017090e+01</td>\n",
       "      <td>637.505166</td>\n",
       "      <td>1</td>\n",
       "      <td>2015-01-21 13:36:23.426500</td>\n",
       "      <td>32</td>\n",
       "      <td>15559776047000</td>\n",
       "    </tr>\n",
       "    <tr>\n",
       "      <th>998</th>\n",
       "      <td>8460385493451473</td>\n",
       "      <td>2015-01-21 14:06:47.317000</td>\n",
       "      <td>None</td>\n",
       "      <td>150.049306</td>\n",
       "      <td>None</td>\n",
       "      <td>2.505285</td>\n",
       "      <td>None</td>\n",
       "      <td>None</td>\n",
       "      <td>57163.284735</td>\n",
       "      <td>None</td>\n",
       "      <td>...</td>\n",
       "      <td>-5576.676329</td>\n",
       "      <td>36.412917</td>\n",
       "      <td>11.470178</td>\n",
       "      <td>-6.885083e+05</td>\n",
       "      <td>7.430402e+05</td>\n",
       "      <td>408.500280</td>\n",
       "      <td>1</td>\n",
       "      <td>2015-01-21 14:06:47.317000</td>\n",
       "      <td>39</td>\n",
       "      <td>15559686227977</td>\n",
       "    </tr>\n",
       "    <tr>\n",
       "      <th>999</th>\n",
       "      <td>520670295361439</td>\n",
       "      <td>2014-03-28 11:17:42.705500</td>\n",
       "      <td>None</td>\n",
       "      <td>150.438979</td>\n",
       "      <td>None</td>\n",
       "      <td>2.344457</td>\n",
       "      <td>None</td>\n",
       "      <td>None</td>\n",
       "      <td>57163.296292</td>\n",
       "      <td>None</td>\n",
       "      <td>...</td>\n",
       "      <td>2158.482331</td>\n",
       "      <td>0.301496</td>\n",
       "      <td>-1.208495</td>\n",
       "      <td>7.015301e+04</td>\n",
       "      <td>6.270841e+03</td>\n",
       "      <td>277.370966</td>\n",
       "      <td>1</td>\n",
       "      <td>2014-03-28 11:17:42.705500</td>\n",
       "      <td>49</td>\n",
       "      <td>15559853593765</td>\n",
       "    </tr>\n",
       "  </tbody>\n",
       "</table>\n",
       "<p>1000 rows × 204 columns</p>\n",
       "</div>"
      ],
      "text/plain": [
       "           diaObjectId              validityStart validityEnd          ra  \\\n",
       "0     8443991603282714 2015-05-21 06:38:55.891500        None  150.498146   \n",
       "1     5037229986546173 2015-01-16 14:39:46.833500        None  149.821674   \n",
       "2     9724770178302279 2015-01-16 13:02:43.287500        None  150.418931   \n",
       "3     9731562669081045 2014-03-28 11:17:42.705500        None  150.126006   \n",
       "4      531878012519028 2014-03-28 11:22:58.038000        None  149.796658   \n",
       "..                 ...                        ...         ...         ...   \n",
       "995   7699315141116552 2015-01-16 14:34:06.322000        None  150.352236   \n",
       "996   8443113282470493 2015-03-18 10:40:51.122500        None  150.709269   \n",
       "997  13101439106679768 2015-01-21 13:36:23.426500        None  150.179288   \n",
       "998   8460385493451473 2015-01-21 14:06:47.317000        None  150.049306   \n",
       "999    520670295361439 2014-03-28 11:17:42.705500        None  150.438979   \n",
       "\n",
       "    raErr      decl declErr ra_decl_Cov      radecTai  pmRa  ...  \\\n",
       "0    None  2.087375    None        None  57163.296292  None  ...   \n",
       "1    None  2.076510    None        None  57163.296292  None  ...   \n",
       "2    None  2.228094    None        None  57163.296292  None  ...   \n",
       "3    None  1.674522    None        None  57163.296292  None  ...   \n",
       "4    None  2.530000    None        None  57163.296292  None  ...   \n",
       "..    ...       ...     ...         ...           ...   ...  ...   \n",
       "995  None  2.498994    None        None  57163.296292  None  ...   \n",
       "996  None  2.000978    None        None  57163.284735  None  ...   \n",
       "997  None  2.107391    None        None  57163.296292  None  ...   \n",
       "998  None  2.505285    None        None  57163.284735  None  ...   \n",
       "999  None  2.344457    None        None  57163.296292  None  ...   \n",
       "\n",
       "       yPSFluxMax yPSFluxStetsonJ yPSFluxLinearSlope yPSFluxLinearIntercept  \\\n",
       "0    -1791.663927        0.441361           1.017018          -6.022418e+04   \n",
       "1     2080.322177       23.225268          -0.453137           2.276681e+04   \n",
       "2       86.640314       26.237305           7.711649          -4.426850e+05   \n",
       "3     7455.383517       24.733917          -5.319947           3.044317e+05   \n",
       "4     1730.581599        2.441227       23636.420116          -1.348448e+09   \n",
       "..            ...             ...                ...                    ...   \n",
       "995   1164.589282       19.345628          28.918430          -1.651954e+06   \n",
       "996  -9245.638918       -0.739980     -105756.566911           6.033365e+09   \n",
       "997 -35025.634257        4.341782          14.967303          -8.889047e+05   \n",
       "998  -5576.676329       36.412917          11.470178          -6.885083e+05   \n",
       "999   2158.482331        0.301496          -1.208495           7.015301e+04   \n",
       "\n",
       "    yPSFluxMaxSlope yPSFluxErrMean flags        lastNonForcedSource  \\\n",
       "0      9.742968e+05     340.353759     1 2015-05-21 06:38:55.891500   \n",
       "1      1.862307e+02     265.145391     1 2015-01-16 14:39:46.833500   \n",
       "2      6.004501e+02     291.627782     1 2015-01-16 13:02:43.287500   \n",
       "3      1.307140e+06     278.292105     1 2014-03-28 11:17:42.705500   \n",
       "4      1.159390e+05     203.545420     1 2014-03-28 11:22:58.038000   \n",
       "..              ...            ...   ...                        ...   \n",
       "995    4.427318e+05     286.543701     1 2015-01-16 14:34:06.322000   \n",
       "996   -1.057566e+05     430.684195     1 2015-03-18 10:40:51.122500   \n",
       "997    2.017090e+01     637.505166     1 2015-01-21 13:36:23.426500   \n",
       "998    7.430402e+05     408.500280     1 2015-01-21 14:06:47.317000   \n",
       "999    6.270841e+03     277.370966     1 2014-03-28 11:17:42.705500   \n",
       "\n",
       "    nDiaSources         pixelId  \n",
       "0            31  15559756459607  \n",
       "1            33  15560610518492  \n",
       "2            45  15559777410258  \n",
       "3            31  15560480877236  \n",
       "4            43  15560599077715  \n",
       "..          ...             ...  \n",
       "995          63  15559805252735  \n",
       "996          38  15557830966349  \n",
       "997          32  15559776047000  \n",
       "998          39  15559686227977  \n",
       "999          49  15559853593765  \n",
       "\n",
       "[1000 rows x 204 columns]"
      ]
     },
     "execution_count": 14,
     "metadata": {},
     "output_type": "execute_result"
    }
   ],
   "source": [
    "variable_sample_diao"
   ]
  },
  {
   "cell_type": "markdown",
   "id": "f0d0d494-08f2-47db-a206-17826c4ce1cb",
   "metadata": {},
   "source": [
    "## Explore the potential variable sample"
   ]
  },
  {
   "cell_type": "code",
   "execution_count": 15,
   "id": "0958c765-f9d1-40f2-9407-0a8f2ebb3da9",
   "metadata": {
    "execution": {
     "iopub.execute_input": "2022-12-13T19:45:07.267579Z",
     "iopub.status.busy": "2022-12-13T19:45:07.267176Z",
     "iopub.status.idle": "2022-12-13T19:45:07.271719Z",
     "shell.execute_reply": "2022-12-13T19:45:07.271288Z",
     "shell.execute_reply.started": "2022-12-13T19:45:07.267557Z"
    },
    "tags": []
   },
   "outputs": [
    {
     "data": {
      "text/plain": [
       "array([1])"
      ]
     },
     "execution_count": 15,
     "metadata": {},
     "output_type": "execute_result"
    }
   ],
   "source": [
    "variable_sample_diao['flags'].unique()"
   ]
  },
  {
   "cell_type": "markdown",
   "id": "2d8a05d0-7e44-49f0-ab7c-e55c12e4fa22",
   "metadata": {},
   "source": [
    "looks like all of our DIAObject flags are 1??"
   ]
  },
  {
   "cell_type": "code",
   "execution_count": 16,
   "id": "a5e0b580-5caf-4394-8118-26f27a45904f",
   "metadata": {
    "execution": {
     "iopub.execute_input": "2022-12-13T19:45:10.646003Z",
     "iopub.status.busy": "2022-12-13T19:45:10.645201Z",
     "iopub.status.idle": "2022-12-13T19:45:12.839247Z",
     "shell.execute_reply": "2022-12-13T19:45:12.838725Z",
     "shell.execute_reply.started": "2022-12-13T19:45:10.645980Z"
    },
    "tags": []
   },
   "outputs": [
    {
     "name": "stdout",
     "output_type": "stream",
     "text": [
      "   count\n",
      "0  50447\n"
     ]
    }
   ],
   "source": [
    "with apdbQuery.connection as connection:\n",
    "    print(pd.read_sql_query('select count(\"diaObjectId\") from \"DiaObject\" where flags !=1',connection))"
   ]
  },
  {
   "cell_type": "markdown",
   "id": "90df8d27-1050-437d-acee-c5530911b69f",
   "metadata": {},
   "source": [
    "no, not in the whole table..."
   ]
  },
  {
   "cell_type": "code",
   "execution_count": 18,
   "id": "cbde5dcf-a550-4ff3-8da8-355881d2c092",
   "metadata": {
    "execution": {
     "iopub.execute_input": "2022-12-13T19:45:24.012386Z",
     "iopub.status.busy": "2022-12-13T19:45:24.011991Z",
     "iopub.status.idle": "2022-12-13T19:45:24.139723Z",
     "shell.execute_reply": "2022-12-13T19:45:24.139183Z",
     "shell.execute_reply.started": "2022-12-13T19:45:24.012365Z"
    },
    "tags": []
   },
   "outputs": [
    {
     "data": {
      "text/plain": [
       "Text(0, 0.5, 'Tot Flux Sigma')"
      ]
     },
     "execution_count": 18,
     "metadata": {},
     "output_type": "execute_result"
    },
    {
     "data": {
      "application/vnd.jupyter.widget-view+json": {
       "model_id": "e3e37a73586346be875311ede601faf0",
       "version_major": 2,
       "version_minor": 0
      },
      "image/png": "[encoded data removed]",
      "text/html": [
       "\n",
       "            <div style=\"display: inline-block;\">\n",
       "                <div class=\"jupyter-widgets widget-label\" style=\"text-align: center;\">\n",
       "                    Figure\n",
       "                </div>\n",
       "                <img src='data:image/png;base64,iVBORw0KGgoAAAANSUhEUgAAAoAAAAHgCAYAAAA10dzkAAAAOXRFWHRTb2Z0d2FyZQBNYXRwbG90bGliIHZlcnNpb24zLjYuMiwgaHR0cHM6Ly9tYXRwbG90bGliLm9yZy8o6BhiAAAACXBIWXMAAA9hAAAPYQGoP6dpAACKU0lEQVR4nOzdeXxc5X0v/s9ZZtfM0UiyNBpLtrzhBdkGTDAGghzAhtRL0vY2KSYq3KQ0XBbHhSylr/7KcltMqGPawiUkuX0R0iQ47QW3tAFj4wSDQQbjBUveF8na99k0+5zz/P4Ye+yxFttYi+X5vF+veSU6z3fOeeZYZj5+znmeIwkhBIiIiIgoZ8hj3QEiIiIiGl0MgEREREQ5hgGQiIiIKMcwABIRERHlGAZAIiIiohzDAEhERESUYxgAiYiIiHIMAyARERFRjmEAJCIiIsoxDIBEREREOYYBkIiIiCjHMAASERER5RgGQCIiIqIcwwBIRERElGMYAImIiIhyDAMgERERUY5hACQiIiLKMQyARERERDmGAZCIiIgoxzAAEhEREeUYBkAiIiKiHMMASERERJRjGACJiIiIcgwDIBEREVGOYQAkIiIiyjEMgEREREQ5hgGQiIiIKMcwABIRERHlGAZAIiIiohzDAEhERESUYxgAiYiIiHIMAyARERFRjmEAJCIiIsoxDIBEREREOYYBkIiIiCjHMAASERER5RgGQCIiIqIcwwBIRERElGMYAImIiIhyDAMgERERUY5hACQiIiLKMQyARERERDmGAZCIiIgoxzAAEhEREeUYBkAiIiKiHMMASERERJRjGACJiIiIcgwDIBEREVGOYQAkIiIiyjEMgEREREQ5hgGQiIiIKMcwABIRERHlGAZAIiIiohzDAEhERESUYxgAiYiIiHIMAyARERFRjlHHugPjmWEYaG1thdPphCRJY90dIiIiugBCCIRCIXi9Xshybo6FMQBegtbWVpSXl491N4iIiOhzaGpqQllZ2Vh3Y0wwAF4Cp9MJIP0L5HK5xrg3REREdCGCwSDKy8sz3+O5iAHwEpy+7OtyuRgAiYiIxplcvn0rNy98ExEREeUwBkAiIiKiHMMASERERJRjeA/gCBNCIJVKQdf1se7KiFAUBaqq5vR9FEREROMNA+AISiQSaGtrQyQSGeuujCi73Y7S0lKYzeax7goRERFdAAbAEWIYBurr66EoCrxeL8xm8xU3SiaEQCKRQFdXF+rr6zFjxoycXVCTiIhoPGEAHCGJRAKGYaC8vBx2u32suzNibDYbTCYTTp48iUQiAavVOtZdIiIiovPgcM0Iy4URsVz4jERERFcSfnMTERER5RheAiYiokvi72hHZ8NxJKJR2JwueKbNgCPfPdbdIqIhDNsIYCqVwt/8zd9gypQpsNlsmDp1Kp5++mkYhpGpEULgySefhNfrhc1mw+LFi7F///6s/cTjcTzyyCMoKiqCw+HAypUr0dzcnFXj8/lQXV0NTdOgaRqqq6vh9/uzahobG7FixQo4HA4UFRVh9erVSCQSWTW1tbWoqqqCzWbDxIkT8fTTT0MIMVynhIjoitewdxcOvL8V3Y0NCHZ1oOPEUex7dxM6G06MddeIaAjDFgB/+MMf4uWXX8aLL76IgwcP4rnnnsM//MM/4IUXXsjUPPfcc1i/fj1efPFF7Ny5Ex6PB0uWLEEoFMrUrFmzBhs3bsSGDRuwfft29PX1Yfny5Vnr6K1atQp79+7Fpk2bsGnTJuzduxfV1dWZdl3XsWzZMoTDYWzfvh0bNmzA66+/jsceeyxTEwwGsWTJEni9XuzcuRMvvPAC1q1bh/Xr1w/XKSEiuqIFOtvRevRQv+1CGDi+62MkYtEx6BURXRAxTJYtWya++c1vZm37oz/6I/GNb3xDCCGEYRjC4/GIZ599NtMei8WEpmni5ZdfFkII4ff7hclkEhs2bMjUtLS0CFmWxaZNm4QQQhw4cEAAEDt27MjU1NTUCADi0KFDQggh3nrrLSHLsmhpacnUvPbaa8JisYhAICCEEOKll14SmqaJWCyWqVm7dq3wer3CMIwL+syBQEAAyOzzbNFoVBw4cEBEo9EL2tdgWv0RsWV/u/iPPc3igyNdwh9OXNL+LsTkyZPF888/n7Vt/vz54oknnhiwfrg+KxGNL4d3bBcf/tsvB301Hzow1l0kGtBQ39+5YthGAG+55RZs3boVR44cAQB89tln2L59O/7gD/4AAFBfX4/29nYsXbo08x6LxYKqqip89NFHAIBdu3YhmUxm1Xi9XlRWVmZqampqoGkaFi5cmKm58cYboWlaVk1lZSW8Xm+m5s4770Q8HseuXbsyNVVVVbBYLFk1ra2taGhoGPAzxuNxBIPBrNdI+uhYNzZ80oTalgBOdIWxs6EXr9Y04Fhn6PxvJiIaYclYbOj26JW9CD7ReDZsAfAHP/gB7r77bsyaNQsmkwnXXnst1qxZg7vvvhsA0N7eDgAoKSnJel9JSUmmrb29HWazGW63e8ia4uLifscvLi7Oqjn3OG63G2azecia0z+frjnX2rVrM/cdapqG8vLy85yVz6+pN4KP63v7bdcNgU117Yglr8xHyxHR+GFzuoZud2mj1BMiuljDFgB/85vf4Je//CV+/etfY/fu3Xj11Vexbt06vPrqq1l15z4NQwhx3idknFszUP1w1IhTE0AG68/jjz+OQCCQeTU1NQ3Z70tR1xIYtC2pCxxq5yggEY0tz7QZkKSBv0ZUswVFkyaPco+I6EINWwD83ve+h7/6q7/Cn/7pn2Lu3Lmorq7GX/7lX2Lt2rUAAI/HA6D/6FpnZ2dm5M3j8SCRSMDn8w1Z09HR0e/4XV1dWTXnHsfn8yGZTA5Z09nZCaD/KOVpFosFLpcr6zVSQvHU0O2x5IgdW5blfrOhk8mROx4RjU92LR/Trl8I6ZzF4FWzBbNuroKimsaoZ0R0PsMWACORSL8nQiiKklkGZsqUKfB4PNiyZUumPZFIYNu2bbjpppsAAAsWLIDJZMqqaWtrQ11dXaZm0aJFCAQC+OSTTzI1H3/8MQKBQFZNXV0d2traMjWbN2+GxWLBggULMjXvv/9+1tIwmzdvhtfrRUVFxXCckkuSbxv6P5xuu3nEjj1hwoSscxcMBlFfXz9ixyOi8au4YiquX/aHqJh/HbxXzca0BQuxYNlX4CqaMNZdI6IhDFsAXLFiBf7+7/8ev/3tb9HQ0ICNGzdi/fr1+MM//EMA6cuqa9aswTPPPIONGzeirq4O9913H+x2O1atWgUA0DQN3/rWt/DYY49h69at2LNnD77xjW9g7ty5uOOOOwAAs2fPxl133YX7778fO3bswI4dO3D//fdj+fLlmDlzJgBg6dKlmDNnDqqrq7Fnzx5s3boV3/3ud3H//fdnRu1WrVoFi8WC++67D3V1ddi4cSOeeeYZPProo+e9JD0a5pXlY7BuWEwyripxjtixb7vtNvzrv/4rPvjgA9TV1eHee++FoigjdjwiGt9MViu8V81GxfzrUDJ1Okf+iMaBYXsSyAsvvID/7//7//Dggw+is7MTXq8X3/72t/G3f/u3mZrvf//7iEajePDBB+Hz+bBw4UJs3rwZTueZMPP8889DVVV87WtfQzQaxe23346f//znWQHkV7/6FVavXp2ZLbxy5Uq8+OKLmXZFUfDb3/4WDz74IG6++WbYbDasWrUK69aty9RomoYtW7bgoYcewvXXXw+3241HH30Ujz766HCdkkvi0ayoumoCth3pwtlXY82qjBXzvDCrI/cUv8cffxwnTpzA8uXLoWka/vf//t8cASQiIrqCSOLcm73oggWDQWiahkAg0O9+wFgshvr6ekyZMgVWq/VzHyMQSWJ/WwCRuI6CPDPmlLpgNV1eo3HD9VmJiIhGw1Df37mCzwK+zGl2E26aVjTW3SAiIqIryMhdRyQiIiKiyxIDIBEREVGOYQAkIiIiyjEMgEREREQ5hgGQiIiIKMcwABIRERHlGAZAIiIiohzDAEhERESUYxgAiYiIiHIMAyARERFRjmEAJCIiIsoxDICXu94TwP7/APb8CjjyDtDXOeKHDIVCuOeee+BwOFBaWornn38eixcvxpo1a0b82ERERDTyGAAvZ0e3AJ/9Bug8CPgbgZbdwKevAO21I3rYRx99FB9++CHefPNNbNmyBR988AF27949osckIiKi0aOOdQdoED3HgeZP+28XBnB4E1AwFTA7hv2woVAIr776Kn7961/j9ttvBwC88sor8Hq9w34sIiIiGhscAbxcte8bvM1IAR0HRuSwJ06cQDKZxA033JDZpmkaZs6cOSLHIyIiotHHAHi5SoTP0x4akcMKIQAAkiQNuJ2IiIjGPwbAy5W98DztRSNy2GnTpsFkMuGTTz7JbAsGgzh69OiIHI+IiIhGH+8BvFx5rwPaPgMGGnkz24Hi2SNyWKfTiXvvvRff+973UFBQgOLiYjzxxBOQZbnfqCARERGNTxwBvFw5S4CZXwZkJXu72Q5U/g9AMY3YodevX49FixZh+fLluOOOO3DzzTdj9uzZsFqtI3ZMIiIiGj0cAbyclc4HCqYBHfuBRB/gKAKK54xo+APSo4C/+tWvMj+Hw2E89dRT+Iu/+IsRPS4RERGNDgbAy50lD5i0cFQPuWfPHhw6dAg33HADAoEAnn76aQDAV77ylVHtBxEREY0MBkAa0Lp163D48GGYzWYsWLAAH3zwAYqKRmbiCREREY0uBkDq59prr8WuXbvGuhtEREQ0QjgJhIiIiCjHMAASERER5RgGQCIiIqIcwwBIRERElGMYAImIiIhyDAMgERERUY5hACQiIiLKMcMWACsqKiBJUr/XQw89BAAQQuDJJ5+E1+uFzWbD4sWLsX///qx9xONxPPLIIygqKoLD4cDKlSvR3NycVePz+VBdXQ1N06BpGqqrq+H3+7NqGhsbsWLFCjgcDhQVFWH16tVIJBJZNbW1taiqqoLNZsPEiRPx9NNPQwgxXKeDiIiI6LI1bAFw586daGtry7y2bNkCAPiTP/kTAMBzzz2H9evX48UXX8TOnTvh8XiwZMkShEKhzD7WrFmDjRs3YsOGDdi+fTv6+vqwfPly6LqeqVm1ahX27t2LTZs2YdOmTdi7dy+qq6sz7bquY9myZQiHw9i+fTs2bNiA119/HY899limJhgMYsmSJfB6vdi5cydeeOEFrFu3DuvXrx+u03FFOTc8ExER0TgnRsh3vvMdMW3aNGEYhjAMQ3g8HvHss89m2mOxmNA0Tbz88stCCCH8fr8wmUxiw4YNmZqWlhYhy7LYtGmTEEKIAwcOCABix44dmZqamhoBQBw6dEgIIcRbb70lZFkWLS0tmZrXXntNWCwWEQgEhBBCvPTSS0LTNBGLxTI1a9euFV6vVxiGccGfMRAICACZ/Z4tGo2KAwcOiGg0esH7O5dhGOKY75j4r+P/JX5z6DdiS8MW0dbX9rn3d6GqqqrEQw89JP7yL/9SFBYWiltvvXXI+uH4rERERKNlqO/vXDEi9wAmEgn88pe/xDe/+U1IkoT6+nq0t7dj6dKlmRqLxYKqqip89NFHAIBdu3YhmUxm1Xi9XlRWVmZqampqoGkaFi5cmKm58cYboWlaVk1lZSW8Xm+m5s4770Q8Hs883qympgZVVVWwWCxZNa2trWhoaBj0c8XjcQSDwazXSBFC4HdNv8M7De+gMdiI7mg3jviOYOPRjdjfvf/8O7hEr776KlRVxYcffoif/OQnI348IiIiGj0jEgD/4z/+A36/H/fddx8AoL29HQBQUlKSVVdSUpJpa29vh9lshtvtHrKmuLi43/GKi4uzas49jtvthtlsHrLm9M+nawaydu3azL2HmqahvLx88JNwiU4GT+Jw7+F+2wUEPmj5AJFkZMSODQDTp0/Hc889h5kzZ2LWrFkjeiwiIiIaXSMSAP/lX/4FX/7yl7NG4QBAkqSsn4UQ/bad69yageqHo0acmgAyVH8ef/xxBAKBzKupqWnIvl+KQ75Dg7YZwsAR35EROzYAXH/99SO6fyIiIho7wx4AT548iXfffRd//ud/ntnm8XgA9B9d6+zszIy8eTweJBIJ+Hy+IWs6Ojr6HbOrqyur5tzj+Hw+JJPJIWs6OzsB9B+lPJvFYoHL5cp6jZRoMjpkeyQ1siOADodjRPdPREREY2fYA+Arr7yC4uJiLFu2LLNtypQp8Hg8mZnBQPo+wW3btuGmm24CACxYsAAmkymrpq2tDXV1dZmaRYsWIRAI4JNPPsnUfPzxxwgEAlk1dXV1aGtry9Rs3rwZFosFCxYsyNS8//77WbNbN2/eDK/Xi4qKimE8G59foa1w6Hbr0O1EREREgxnWAGgYBl555RXce++9UFU1s12SJKxZswbPPPMMNm7ciLq6Otx3332w2+1YtWoVAEDTNHzrW9/CY489hq1bt2LPnj34xje+gblz5+KOO+4AAMyePRt33XUX7r//fuzYsQM7duzA/fffj+XLl2PmzJkAgKVLl2LOnDmorq7Gnj17sHXrVnz3u9/F/fffnxmxW7VqFSwWC+677z7U1dVh48aNeOaZZ/Doo4+e95L0aKksqoQsDfzH4zA5MC1/2ij3iIiIiK4U6vlLLty7776LxsZGfPOb3+zX9v3vfx/RaBQPPvggfD4fFi5ciM2bN8PpdGZqnn/+eaiqiq997WuIRqO4/fbb8fOf/xyKomRqfvWrX2H16tWZ2cIrV67Eiy++mGlXFAW//e1v8eCDD+Lmm2+GzWbDqlWrsG7dukyNpmnYsmULHnroIVx//fVwu9149NFH8eijjw7n6bgkBdYC3DHpDvy+6fdIGsnM9jxTHv5g6h9AlYf1j46IiIhyiCQEH3/xeQWDQWiahkAg0O9+wFgshvr6ekyZMgVWq/VzHyOhJ3DMfwzhZBgF1gJM0aYMOjI4VobrsxIREY2Gob6/cwWHkS5zZsWMOYVzxrobREREdAW5vIaSiIiIiGjEMQASERER5RgGQCIiIqIcwwBIRERElGMYAImIiIhyDAMgERERUY5hACQiIiLKMQyARERERDmGAZD6Wbx4MdasWTPW3SAiIqIRwieBUD9vvPEGTCbTWHeDiIiIRggDIPVTUFAw1l0gIiKiEcQAeBkThoH4oUOIHTwIIxyBUlAA27y5ME+aNKLHXbx4Ma655hr84z/+44geh4iIiMYGA+BlSgiB0DvvIH7seGabHgggUV8Px803wX7ddWPYOyIiIhrPOAnkMpU4fjwr/J0tXFMDPRQa5R4RERHRlYIB8DIVO3x48EZDIH706Oh1hoiIiK4oDICXKRGLn6c9Nko9ISIioisNA+BlSi2eMHT7hKHbiYiIiAbDAHiZslZWQlKVAdsUzQXz1Kmj3CMiIiK6UjAAXqZUtxuuL38Zss2atV1xu+FasQKSMnA4JCIiIjofLgNzGTNXVKDgvvuQqK+HEQ5DKSiAqbwckiSN6HHfe++9Ed0/ERERjS0GwMucpKqwzJgx1t0gIiKiKwgvARMRERHlGAZAIiIiohzDAEhERESUYxgAiYiIiHIMAyARERFRjmEAJCIiIsoxDIBEREREOYYBkIiIiCjHMAASERER5ZhhDYAtLS34xje+gcLCQtjtdlxzzTXYtWtXpl0IgSeffBJerxc2mw2LFy/G/v37s/YRj8fxyCOPoKioCA6HAytXrkRzc3NWjc/nQ3V1NTRNg6ZpqK6uht/vz6ppbGzEihUr4HA4UFRUhNWrVyORSGTV1NbWoqqqCjabDRMnTsTTTz8NIcRwnhIiIiKiy86wBUCfz4ebb74ZJpMJb7/9Ng4cOIAf/ehHyM/Pz9Q899xzWL9+PV588UXs3LkTHo8HS5YsQSgUytSsWbMGGzduxIYNG7B9+3b09fVh+fLl0HU9U7Nq1Srs3bsXmzZtwqZNm7B3715UV1dn2nVdx7JlyxAOh7F9+3Zs2LABr7/+Oh577LFMTTAYxJIlS+D1erFz50688MILWLduHdavXz9cp4SIiIjo8iSGyQ9+8ANxyy23DNpuGIbweDzi2WefzWyLxWJC0zTx8ssvCyGE8Pv9wmQyiQ0bNmRqWlpahCzLYtOmTUIIIQ4cOCAAiB07dmRqampqBABx6NAhIYQQb731lpBlWbS0tGRqXnvtNWGxWEQgEBBCCPHSSy8JTdNELBbL1Kxdu1Z4vV5hGMYFfeZAICAAZPZ5tmg0Kg4cOCCi0egF7Wsgum6ItuN+Uftek9j1ToM48GGr6Gnp+9z7uxD19fUCQL9XVVXVoO8Zjs9KREQ0Wob6/s4VwzYC+Oabb+L666/Hn/zJn6C4uBjXXnstfvazn2Xa6+vr0d7ejqVLl2a2WSwWVFVV4aOPPgIA7Nq1C8lkMqvG6/WisrIyU1NTUwNN07Bw4cJMzY033ghN07JqKisr4fV6MzV33nkn4vF45pJ0TU0NqqqqYLFYsmpaW1vR0NAw4GeMx+MIBoNZr5EiDIGjOzvQuL8HkWACqbiOUE8Ux3Z1oPmwb8SOW15ejra2tsxrz549KCwsxK233jpixyQiIqLRNWwB8MSJE/jxj3+MGTNm4J133sEDDzyA1atX4xe/+AUAoL29HQBQUlKS9b6SkpJMW3t7O8xmM9xu95A1xcXF/Y5fXFycVXPucdxuN8xm85A1p38+XXOutWvXZu471DQN5eXl5zkrn19vWxiBzsiAba1H/YiFkyNyXEVR4PF44PF4kJ+fjwceeACLFi3Ck08+OSLHIyIiotE3bAHQMAxcd911eOaZZ3Dttdfi29/+Nu6//378+Mc/zqqTJCnrZyFEv23nOrdmoPrhqBGnJoAM1p/HH38cgUAg82pqahqy35eip6Vv8EYh0NsaHrFjn/atb30LoVAIv/71ryHLnDBORER0pRi2b/XS0lLMmTMna9vs2bPR2NgIAPB4PAD6j651dnZmRt48Hg8SiQR8Pt+QNR0dHf2O39XVlVVz7nF8Ph+SyeSQNZ2dnQD6j1KeZrFY4HK5sl4jRU8Zl9R+qf7u7/4OmzZtwptvvgmn0zmixyIiIqLRNWwB8Oabb8bhw4ezth05cgSTJ08GAEyZMgUejwdbtmzJtCcSCWzbtg033XQTAGDBggUwmUxZNW1tbairq8vULFq0CIFAAJ988kmm5uOPP0YgEMiqqaurQ1tbW6Zm8+bNsFgsWLBgQabm/fffz1oaZvPmzfB6vaioqBiOU3JJ8vKtQ7e7LUO2X4rXX38dTz/9NP7t3/4N06ZNG7HjEBER0dgYtgD4l3/5l9ixYweeeeYZHDt2DL/+9a/x05/+FA899BCA9GXVNWvW4JlnnsHGjRtRV1eH++67D3a7HatWrQIAaJqGb33rW3jsscewdetW7NmzB9/4xjcwd+5c3HHHHQDSo4p33XUX7r//fuzYsQM7duzA/fffj+XLl2PmzJkAgKVLl2LOnDmorq7Gnj17sHXrVnz3u9/F/fffnxm1W7VqFSwWC+677z7U1dVh48aNeOaZZ/Doo4+e95L0aCiucEJWB/7jseaZkV9sH5Hj1tXV4c/+7M/wgx/8AFdffTXa29vR3t6O3t7eETkeERHRuSIBP+r3fIpDH72Phn17EO0Lnf9NdHGGc0rxf/3Xf4nKykphsVjErFmzxE9/+tOsdsMwxBNPPCE8Ho+wWCzi1ltvFbW1tVk10WhUPPzww6KgoEDYbDaxfPly0djYmFXT09Mj7rnnHuF0OoXT6RT33HOP8Pl8WTUnT54Uy5YtEzabTRQUFIiHH344a8kXIYTYt2+f+OIXvygsFovweDziySefvOAlYIQY+WVgAl0RsWfLSfHxm8czr7r3m0UsnPjc+zyfV155hcvAEBHRmGk5fFB8+G+/Eh/+2y8zr4/+/deis+HEsB2Dy8AIIQnBR198XsFgEJqmIRAI9LsfMBaLob6+HlOmTIHVOvTl3KEIQyDQHUUypsPmNCHP/fn3NVKG67MSEVFuC/t9+GzL20iPPWSTZBnXffkrsNgv/QrYUN/fuYJTOy9zkiwhv9iOCZOcl2X4IyIiGi4d9ccwUPgDAGEY6Go4MboduoIxABIREdFlIR4ZeP3bTHt05JdAyxUMgERERHRZsDnyhmy3nKedLhwDIBEREV0WiqdOhyQNHE1kWUFxxdRR7tGViwGQiIiILgt2l4apC27oFwJlWcGMG2+G2Wobo55dedSx7gARERHRaSVTpkErLkFXwwnEIxFY8/JQPGUaw98wYwAkIiKiy4rVkYfyq+eNdTeuaLwETERERJRjGACJiIiIcgwDIBEREVGOYQAkIiIiyjEMgEREREQ5hgHwMqanUmg6UItdv/1P1Lz+Gj7b8jY66o+P6DF/8YtfoLCwEPF4PGv7H//xH+PP/uzPRvTYRERENDoYAC9ThqHj4Ae/R9P+fYhH+iAMA2F/L45/ugP1e3eN2HH/5E/+BLqu480338xs6+7uxn//93/jf/7P/zlixyUiIqLRwwB4mepuPIlgd+eAbW1HDyMaCo7IcW02G1atWoVXXnkls+1Xv/oVysrKsHjx4hE5JhEREY0uBsDLVE/TySFaBXqaGkfs2Pfffz82b96MlpYWAMArr7yC++67D5IkjdgxiYiIaPQwAF6m9FTqktovxbXXXov58+fjF7/4BXbv3o3a2lrcd999I3Y8IiIiGl18FNxlyjWheNBLwADgLJowosf/8z//czz//PNoaWnBHXfcgfLy8hE9HhEREY0ejgBepkqmzoBiMg/Y5sh3w13qHdHj33PPPWhpacHPfvYzfPOb3xzRYxEREdHoYgC8TFnsdsy59UuwOV1Z27ViD2Z/8Usjfj+ey+XCH//xHyMvLw9f/epXR/RYRERENLp4Cfgy5iwowrV3rUCwuwvJWBQ2lwa7Sxu147e1teGee+6BxWIZtWMSERHRyGMAHAdcI3y/37l6e3uxefNm/O53v8OLL744qscmIiKikccASP1cd9118Pl8+OEPf4iZM2eOdXeIiIhomDEAUj8NDQ1j3QUiIiIaQZwEQkRERJRjGACJiIiIcgwD4AgzDGOsuzDicuEzEhERXUlUAIhEImhsbEQikchqnDdv3ph06kpgNpshyzJaW1sxYcIEmM3mK+5ZukIIJBIJdHV1QZZlmM0DL1xNRERElxd1+fLlePvttwds1HV9lLtz5ZBlGVOmTEFbWxtaW1vHujsjym63Y9KkSZBlDigTERGNB6rP58OOHTvwpS99CRs3bkRHRwf+7u/+Dj/60Y/Gum/jntlsxqRJk5BKpa7YMK0oClRVveJGN4mIiK5k6vPPP48vfOELkGUZkydPxpIlS+ByubB27VosW7ZsrPs37kmSBJPJBJPJNNZdISIiIgIAyMXFxQCAgoICdHV1AQDmzp2L3bt3X9SOnnzySUiSlPXyeDyZdiEEnnzySXi9XthsNixevBj79+/P2kc8HscjjzyCoqIiOBwOrFy5Es3NzVk1Pp8P1dXV0DQNmqahuroafr8/q6axsRErVqyAw+FAUVERVq9e3e/+xtraWlRVVcFms2HixIl4+umnIYS4qM9MRERENB7Jhw8fBgBcc801+MlPfoKWlha8/PLLKC0tveidXX311Whra8u8amtrM23PPfcc1q9fjxdffBE7d+6Ex+PBkiVLEAqFMjVr1qzBxo0bsWHDBmzfvh19fX1Yvnx51uXTVatWYe/evdi0aRM2bdqEvXv3orq6OtOu6zqWLVuGcDiM7du3Y8OGDXj99dfx2GOPZWqCwSCWLFkCr9eLnTt34oUXXsC6deuwfv36i/7MREREROPOK6+8IoQQYvfu3WLChAlClmVhtVrFhg0bxMV44oknxPz58wdsMwxDeDwe8eyzz2a2xWIxoWmaePnll4UQQvj9fmEymbKO29LSImRZFps2bRJCCHHgwAEBQOzYsSNTU1NTIwCIQ4cOCSGEeOutt4Qsy6KlpSVT89prrwmLxSICgYAQQoiXXnpJaJomYrFYpmbt2rXC6/UKwzAu+DMHAgEBILNfIiIiuvzx+1sI+b777gMAXHvttWhoaMDOnTvR1NSEr3/96xcdJo8ePQqv14spU6bgT//0T3HixAkAQH19Pdrb27F06dJMrcViQVVVFT766CMAwK5du5BMJrNqvF4vKisrMzU1NTXQNA0LFy7M1Nx4443QNC2rprKyEl6vN1Nz5513Ih6PY9euXZmaqqoqWCyWrJrW1tYhH4MWj8cRDAazXkRERETjTda6HXa7Hddddx2KioouekcLFy7EL37xC7zzzjv42c9+hvb2dtx0003o6elBe3s7AKCkpCTrPSUlJZm29vZ2mM1muN3uIWtO37N4tuLi4qyac4/jdrthNpuHrDn98+magaxduzZz76GmaSgvLx/6pBARERFdhtR///d/x+9//3t0dnb2e6LDG2+8ccE7+vKXv5z5/3PnzsWiRYswbdo0vPrqq7jxxhsBoN9SIUKI8y4fcm7NQPXDUSNOTQAZqj+PP/44Hn300czPwWCQIZCIiIjGHbm6uhr19fXIy8vLGt3SNO2SduxwODB37lwcPXo0Mxv43NG1zs7OzMibx+NBIpGAz+cbsqajo6Pfsbq6urJqzj2Oz+dDMpkcsqazsxNA/1HKs1ksFrhcrqwXERER0Xgjv/HGG3j77bfx85//HK+88krW61LE43EcPHgQpaWlmDJlCjweD7Zs2ZJpTyQS2LZtG2666SYAwIIFC2AymbJq2traUFdXl6lZtGgRAoEAPvnkk0zNxx9/jEAgkFVTV1eHtra2TM3mzZthsViwYMGCTM3777+ftTTM5s2b4fV6UVFRcUmfm4iIiOiyd/DgwWGZTfLYY4+J9957T5w4cULs2LFDLF++XDidTtHQ0CCEEOLZZ58VmqaJN954Q9TW1oq7775blJaWimAwmNnHAw88IMrKysS7774rdu/eLW677TYxf/58kUqlMjV33XWXmDdvnqipqRE1NTVi7ty5Yvny5Zn2VColKisrxe233y52794t3n33XVFWViYefvjhTI3f7xclJSXi7rvvFrW1teKNN94QLpdLrFu37qI+M2cRERERjT/8/hYCf/qnfyoikcgl7+jrX/+6KC0tFSaTSXi9XvFHf/RHYv/+/Zl2wzDEE088ITwej7BYLOLWW28VtbW1WfuIRqPi4YcfFgUFBcJms4nly5eLxsbGrJqenh5xzz33CKfTKZxOp7jnnnuEz+fLqjl58qRYtmyZsNlsoqCgQDz88MNZS74IIcS+ffvEF7/4RWGxWITH4xFPPvnkRS0BIwR/gYiIiMYjfn8LId15553iww8/REVFRb/HlV3s00ByTTAYhKZpCAQCvB+QiIhonOD3N6Du2rUL3/jGN1BSUnLeGblERERENP6pGzduxC233DLW/SAiIiKiUSLn6tAnERERUa6Sv//97w/5+DMiIiIiurKov//97zFt2jTY7fZ+k0B6e3vHqFtERERENFLUn/70p2PdByIiIiIaReq999471n0gIiIiolGkBoPBfhslSYLFYoHZbB6DLhERERHRSJLdbjfOfeXn58Nms2Hy5Ml44oknYBjGWPeTiIiIiIaJ6vV6cd999+GGG26AEAI7d+7Eq6++ir/5m79BV1cX1q1bB4vFgr/+678e674SERER0TBQf/SjH+FrX/taZsPKlSsxd+5c/OQnP8HWrVsxadIk/P3f/z0DIBEREdEVQr722mv7bbz22mtRU1MDALjlllvQ2Ng42v0iIiIiohEi/8u//Eu/jf/yL/+C8vJyAEBPTw/cbvdo94uIiIiIRoj6/PPP4+2338YXvvAFSJKEnTt34tChQ/h//+//AQB27tyJr3/962PcTSIiIiIaLlJ9fb14+eWXceTIEQghMGvWLHz7299GRUXFWPftshcMBqFpGgKBAPhMZSIiovGB39+AJIQQY92J8Yq/QEREROMPv78Bdd++fYM2zps3bxS7QkRERESjQb322msx0CCgJEnQdX0MukREREREI0k9ceLEWPeBiIiIiEaROnny5LHuAxERERGNIvn0/9m6dSu+9KUv4YYbbsAzzzwzln0iIiIiohEkA0B9fT1WrFgBs9mMRYsWYe3atfjHf/zHMe4aEREREY0EFQB+9atf4aqrrsI777wDID3794UXXsCaNWvGsm9ERERENAJkAPj973+PFStWZDYuXrwYDQ0NY9UnIiIiIhpBsmEY+PTTT7Fw4cLMxkQiMeDSMEREREQ0/sn/+I//CMMw8KUvfSmz8cCBA3wUHBEREdEVSv3BD36Af/7nf4bD4chs/Nd//VfcdtttY9gtIiIiIhop6smTJ+H1erM2PvXUUygrKxujLhERERHRSFLPDX8AMH/+/DHoChERERGNBvn8JURERER0JRmxALh27VpIkpS1lqAQAk8++SS8Xi9sNhsWL16M/fv3Z70vHo/jkUceQVFRERwOB1auXInm5uasGp/Ph+rqamiaBk3TUF1dDb/fn1XT2NiIFStWwOFwoKioCKtXr0Yikciqqa2tRVVVFWw2GyZOnIinn36as5+JiIjoijciAXDnzp346U9/innz5mVtf+6557B+/Xq8+OKL2LlzJzweD5YsWYJQKJSpWbNmDTZu3IgNGzZg+/bt6Ovrw/Lly6HreqZm1apV2Lt3LzZt2oRNmzZh7969qK6uzrTruo5ly5YhHA5j+/bt2LBhA15//XU89thjmZpgMIglS5bA6/Vi586deOGFF7Bu3TqsX79+JE4JERER0eVDDLNQKCRmzJghtmzZIqqqqsR3vvMdIYQQhmEIj8cjnn322UxtLBYTmqaJl19+WQghhN/vFyaTSWzYsCFT09LSImRZFps2bRJCCHHgwAEBQOzYsSNTU1NTIwCIQ4cOCSGEeOutt4Qsy6KlpSVT89prrwmLxSICgYAQQoiXXnpJaJomYrFYpmbt2rXC6/UKwzAu6LMGAgEBILNPIiIiuvzx+1sI+eyRtdMCgQDuvvvuzxUoH3roISxbtgx33HFH1vb6+nq0t7dj6dKlmW0WiwVVVVX46KOPAAC7du1CMpnMqvF6vaisrMzU1NTUQNO0rIWrb7zxRmiallVTWVmZNbv5zjvvRDwex65duzI1VVVVsFgsWTWtra18CgoRERFd0eSbb74Zx48fz2x47733MHfu3M8VgjZs2IDdu3dj7dq1/dra29sBACUlJVnbS0pKMm3t7e0wm81wu91D1hQXF/fbf3FxcVbNucdxu90wm81D1pz++XTNueLxOILBYNaLiIiIaLyRKyoqcM011+BnP/sZvve972Hp0qW47777sH379ovaUVNTE77zne/gl7/8JaxW66B1kiRl/SyE6LftXOfWDFQ/HDXi1ASQwfqzdu3azMQTTdNQXl4+ZL+JiIiILkfyhg0bsHr1anz729/GP/3TP+Htt9/G008/DUVRLmpHu3btQmdnJxYsWABVVaGqKrZt24Z//ud/hqqqg46udXZ2Zto8Hg8SiQR8Pt+QNR0dHf2O39XVlVVz7nF8Ph+SyeSQNZ2dnQD6j1Ke9vjjjyMQCGReTU1N5z8xRERERJcZ+YUXXsDzzz+Pu+++G1OnTsXq1avx2WefXfSObr/9dtTW1mLv3r2Z1/XXX4977rkHe/fuxdSpU+HxeLBly5bMexKJBLZt24abbroJALBgwQKYTKasmra2NtTV1WVqFi1ahEAggE8++SRT8/HHHyMQCGTV1NXVoa2tLVOzefNmWCwWLFiwIFPz/vvvZy0Ns3nzZni93kGfg2yxWOByubJeRERERONOYWGh+Pd//3chhBCRSEQ88MADwmq1ih/+8IeXPMPk7FnAQgjx7LPPCk3TxBtvvCFqa2vF3XffLUpLS0UwGMzUPPDAA6KsrEy8++67Yvfu3eK2224T8+fPF6lUKlNz1113iXnz5omamhpRU1Mj5s6dK5YvX55pT6VSorKyUtx+++1i9+7d4t133xVlZWXi4YcfztT4/X5RUlIi7r77blFbWyveeOMN4XK5xLp16y7483EWERER0fjD728hcPZSKaf993//t/B4PJe883MDoGEY4oknnhAej0dYLBZx6623itra2qz3RKNR8fDDD4uCggJhs9nE8uXLRWNjY1ZNT0+PuOeee4TT6RROp1Pcc889wufzZdWcPHlSLFu2TNhsNlFQUCAefvjhrCVfhBBi37594otf/KKwWCzC4/GIJ5988oKXgBGCv0BERETjEb+/hZCEGPjRF93d3SgqKhrNwchxJxgMQtM0BAIBXg4mIiIaJ/j9PcSTQBj+iIiIiK5M6lCzfQdaJJqIiIiIxjf1jTfeyPyQTCaxZ88evPrqq3jqqafGsFtERERENFIGvAfw17/+NX7zm9/gP//zP8eiT+MG7yEgIiIaf/j9Pcg9gAsXLsS777472n0hIiIiolHQLwBGo1G88MILKCsrG4v+EBEREdEIUwsKCjI/CCEQCoVgt9vxy1/+cgy7RUREREQjRX3++eczP8iyjAkTJmDhwoVwu91j2C0iIiIiGinqvffeO9Z9ICIiIqJRpO7bt2/Qxnnz5o1iV4iIiIhoNKjXXHPNgA2SJHEhaCIiIqIrkFpfXz/WfSAiIiKiUaROnjx5rPtARERERKNIBoA333wT0Wh0rPtCRERERKNABoBvfOMbaGtrG+u+EBEREdEokIH0AtBERERElBsGfBYwEREREV251DfffBOGYWDr1q2oq6vLaly5cuUYdYuIiIiIRookSdKA13+5DuD5BYNBaJqGQCAAl8s11t0hIiKiC8Dvb0A1DGOs+0BEREREo4j3ABIRERHlGAZAIiIiohzDAEhERESUYxgAiYiIiHIMAyARERFRjpF7enr6bfT7/Zg6deoYdIeIiIiIRpo80Fp/8XgcLS0tY9AdIiIiIhpp6jvvvANN0zIbdF3H1q1bUVFRMXa9IiIiIqIRo957771ZG0wmEyoqKvCjH/1ojLpERERERCNJ7ezsRFFR0Vj3g4iIiIhGiczwR0RERJRb5G3btmHFihWYPn06ZsyYgZUrV+KDDz646B39+Mc/xrx58+ByueByubBo0SK8/fbbmXYhBJ588kl4vV7YbDYsXrwY+/fvz9pHPB7HI488gqKiIjgcDqxcuRLNzc1ZNT6fD9XV1dA0DZqmobq6Gn6/P6umsbERK1asgMPhQFFREVavXo1EIpFVU1tbi6qqKthsNkycOBFPP/00hBAX/bmJiIiIxhv5jjvugN1ux+rVq/Hwww/DZrPh9ttvx69//euL2lFZWRmeffZZfPrpp/j0009x22234Stf+Uom5D333HNYv349XnzxRezcuRMejwdLlixBKBTK7GPNmjXYuHEjNmzYgO3bt6Ovrw/Lly/H2TOVV61ahb1792LTpk3YtGkT9u7di+rq6ky7rutYtmwZwuEwtm/fjg0bNuD111/HY489lqkJBoNYsmQJvF4vdu7ciRdeeAHr1q3D+vXrP+95JCIiIho/1q9fL871ox/9SMyaNavf9ovldrvF//2//1cYhiE8Ho949tlnM22xWExomiZefvllIYQQfr9fmEwmsWHDhkxNS0uLkGVZbNq0SQghxIEDBwQAsWPHjkxNTU2NACAOHTokhBDirbfeErIsi5aWlkzNa6+9JiwWiwgEAkIIIV566SWhaZqIxWKZmrVr1wqv1ysMw7jgzxcIBASAzH6JiIjo8sfvbyHkFStW9AuFK1euRH19/ecOlbquY8OGDQiHw1i0aBHq6+vR3t6OpUuXZmosFguqqqrw0UcfAQB27dqFZDKZVeP1elFZWZmpqampgaZpWLhwYabmxhtvhKZpWTWVlZXwer2ZmjvvvBPxeBy7du3K1FRVVcFisWTVtLa2oqGh4XN/biIiIqLxQN66dWu/jVu3bkV5eflF76y2thZ5eXmwWCx44IEHsHHjRsyZMwft7e0AgJKSkqz6kpKSTFt7ezvMZjPcbveQNcXFxf2OW1xcnFVz7nHcbjfMZvOQNad/Pl0zkHg8jmAwmPUiIiIiGm/U1atXY+/evbjpppsgSRK2b9+On//85/inf/qni97ZzJkzsXfvXvj9frz++uu49957sW3btky7JElZ9UKIftvOdW7NQPXDUSNOTQAZqj9r167FU089NWR/iYiIiC538oYNG1BbW4s1a9bgO9/5Durq6vCb3/wG3/72ty96Z2azGdOnT8f111+PtWvXYv78+finf/oneDweAP1H1zo7OzMjbx6PB4lEAj6fb8iajo6Ofsft6urKqjn3OD6fD8lkcsiazs5OAP1HKc/2+OOPIxAIZF5NTU1DnxAiIiKiy5D8h3/4h9i+fTt6enrQ09OD7du34ytf+cqw7FwIgXg8jilTpsDj8WDLli2ZtkQigW3btuGmm24CACxYsAAmkymrpq2tDXV1dZmaRYsWIRAI4JNPPsnUfPzxxwgEAlk1dXV1aGtry9Rs3rwZFosFCxYsyNS8//77WUvDbN68GV6vd8hH4FkslswyN6dfREREROPOcM0mefzxx8X7778v6uvrxb59+8Rf//VfC1mWxebNm4UQQjz77LNC0zTxxhtviNraWnH33XeL0tJSEQwGM/t44IEHRFlZmXj33XfF7t27xW233Sbmz58vUqlUpuauu+4S8+bNEzU1NaKmpkbMnTtXLF++PNOeSqVEZWWluP3228Xu3bvFu+++K8rKysTDDz+cqfH7/aKkpETcfffdora2VrzxxhvC5XKJdevWXdRn5iwiIiKi8Yff30KoBQUFg4bD3t7eCw6SHR0dqK6uRltbGzRNw7x587Bp0yYsWbIEAPD9738f0WgUDz74IHw+HxYuXIjNmzfD6XRm9vH8889DVVV87WtfQzQaxe23346f//znUBQlU/OrX/0Kq1evzswWXrlyJV588cVMu6Io+O1vf4sHH3wQN998M2w2G1atWoV169ZlajRNw5YtW/DQQw/h+uuvh9vtxqOPPopHH330gj8vERER0Xgl/fznPx/08Rf33nvvaPZl3AkGg9A0DYFAgJeDiYiIxgl+fwMqQx4RERFRbpHHugNERERENLoYAImIiIhyDAMgERERUY5hACQiIiLKMQyARERERDmGAZCIiIgoxzAAEhEREeUYdaw7QHQ5S8RSiAQSUEwy8twWSJI01l0iIiK6ZAyARAPQdQMna3vQ09IHYaQflmOxmzC5shD5JfYx7h0REdGl4SVgogHU7+1Gd1MoE/4AIB5J4uinHQgH4mPYMyIiokvHAEh0jlhfEr1t4QHbhCHQfjwwyj0iIiIaXgyAROcI9cYAIQZtD/bERrE3REREw48BkOgcsjL0RI/ztRMREV3uGACJzqEV2yCrg//VKPA6RrE3REREw48BkOgcqklB2Uz3gG0WuwmeKdoo94iIiGh4cRkYogF4pmow21S0Hw+gzx+HokoonJgH74x8mCzKWHePiIjokjAAEg2ioNSBglJe7iUioisPLwETERER5RgGQCIiIqIcwwBIRERElGMYAImIiIhyDAMgERERUY5hACQiIiLKMQyARERERDmGAZCIiIgoxzAAEhEREeUYBkAiIiKiHMMASERERJRjGACJiIiIcgwDIBEREVGOGbYAuHbtWnzhC1+A0+lEcXExvvrVr+Lw4cNZNUIIPPnkk/B6vbDZbFi8eDH279+fVROPx/HII4+gqKgIDocDK1euRHNzc1aNz+dDdXU1NE2Dpmmorq6G3+/PqmlsbMSKFSvgcDhQVFSE1atXI5FIZNXU1taiqqoKNpsNEydOxNNPPw0hxHCdEiIiIqLL0rAFwG3btuGhhx7Cjh07sGXLFqRSKSxduhThcDhT89xzz2H9+vV48cUXsXPnTng8HixZsgShUChTs2bNGmzcuBEbNmzA9u3b0dfXh+XLl0PX9UzNqlWrsHfvXmzatAmbNm3C3r17UV1dnWnXdR3Lli1DOBzG9u3bsWHDBrz++ut47LHHMjXBYBBLliyB1+vFzp078cILL2DdunVYv379cJ0SIiIiosuTGCGdnZ0CgNi2bZsQQgjDMITH4xHPPvtspiYWiwlN08TLL78shBDC7/cLk8kkNmzYkKlpaWkRsiyLTZs2CSGEOHDggAAgduzYkampqakRAMShQ4eEEEK89dZbQpZl0dLSkql57bXXhMViEYFAQAghxEsvvSQ0TROxWCxTs3btWuH1eoVhGBf0GQOBgACQ2ScRERFd/vj9LcSI3QMYCAQAAAUFBQCA+vp6tLe3Y+nSpZkai8WCqqoqfPTRRwCAXbt2IZlMZtV4vV5UVlZmampqaqBpGhYuXJipufHGG6FpWlZNZWUlvF5vpubOO+9EPB7Hrl27MjVVVVWwWCxZNa2trWhoaBjOU0FERER0WRmRACiEwKOPPopbbrkFlZWVAID29nYAQElJSVZtSUlJpq29vR1msxlut3vImuLi4n7HLC4uzqo59zhutxtms3nImtM/n645VzweRzAYzHoRERERjTcjEgAffvhh7Nu3D6+99lq/NkmSsn4WQvTbdq5zawaqH44acWoCyGD9Wbt2bWbiiaZpKC8vH7LfRERERJejYQ+AjzzyCN588038/ve/R1lZWWa7x+MB0H90rbOzMzPy5vF4kEgk4PP5hqzp6Ojod9yurq6smnOP4/P5kEwmh6zp7OwE0H+U8rTHH38cgUAg82pqahriTBARERFdnoYtAAoh8PDDD+ONN97A7373O0yZMiWrfcqUKfB4PNiyZUtmWyKRwLZt23DTTTcBABYsWACTyZRV09bWhrq6ukzNokWLEAgE8Mknn2RqPv74YwQCgayauro6tLW1ZWo2b94Mi8WCBQsWZGref//9rKVhNm/eDK/Xi4qKigE/o8VigcvlynoRERERjTvDNZvkf/2v/yU0TRPvvfeeaGtry7wikUim5tlnnxWapok33nhD1NbWirvvvluUlpaKYDCYqXnggQdEWVmZePfdd8Xu3bvFbbfdJubPny9SqVSm5q677hLz5s0TNTU1oqamRsydO1csX748055KpURlZaW4/fbbxe7du8W7774rysrKxMMPP5yp8fv9oqSkRNx9992itrZWvPHGG8Llcol169Zd8GfmLCIiIqLxh9/fQgxbAAQw4OuVV17J1BiGIZ544gnh8XiExWIRt956q6itrc3aTzQaFQ8//LAoKCgQNptNLF++XDQ2NmbV9PT0iHvuuUc4nU7hdDrFPffcI3w+X1bNyZMnxbJly4TNZhMFBQXi4YcfzlryRQgh9u3bJ774xS8Ki8UiPB6PePLJJy94CRgh+AtEREQ0HvH7WwhJCD764vMKBoPQNA2BQICXg4mIiMYJfn/zWcBEREREOYcBkIiIiCjHMAASERER5RgGQCIiIqIcwwBIRERElGMYAImIiIhyDAMgERERUY5hACS6jOipFIRhjHU3iIjoCqeOdQeICOhsOIHWI4cQCfggywoKyydhUuV8WOyOse4aERFdgTgCSDTGWg4dwLGdNYgEfAAAw9DRdbIetb/bjEQ0Msa9IyKiKxEDINEYSiUSaDpQO2BbIhpB6+GDo9wjIiLKBQyA9LklEzqSCX2suzGu+dpbYeipQdt7WppHsTdERJQreA8gXbRAVxQth33o88UAAI58CyZe5UZ+iX2Mezb+nG/Ch2EwYBMR0fDjCCBdlEBXBEc+ac+EPwAI++M4srMDvvbwGPZsfHJNKAYgDdqeX+wZvc4QEVHOYACki9J8yAdhiP4NQqD5kG/0OzTOWR15mFAxZcA2WVbgnTl7lHtERES5gJeA6YIlYimE/fFB26OhBGLhJKwO0yj2avybtuAGKKqKzvoTmfsBbS4NU6+9Ho589xj3joiIrkQMgHTBxAADf/2LRrwbVxxZVjD12i+g/Op5iPj9UEwm5LkLxrpbRER0BWMApAtmsamwOc2IhhIDtztMsDj4K/V5mcwWaMUlY90NIiLKAbwHkC6K96r8wdtmaDB0DgESERFd7jhcQxel0JsHiPRkkHgkCQAwWRQoZgWN+3tRv7cbZpuK4goXSqdqkOTBZ7gSERHR2GAApItWODEPBV4HoqEkDF2gobYbkcCZySGJaArNB3sRDSUw7driMewpERERDYSXgOlzkSQJdlf6fsCzw9/Zepr7EB6kjYiIiMYOAyBdkvMt/tzbxsWhiYiILjcMgHRJBlwU+iLaiYiIaPQxANIlcRbZhmx3naediIiIRh8DIF2SCZOcMFkHnkvkyLdAm8AASEREdLlhAKRLYjIrmLXIg7wCa2abJEtwlzowc6EHksRlYIiIiC43XAaGLpktz4w5N3sR60siEUvB6jDBbOOvFhGNvGQ8BgjAZLWev5iIMvgtTcPGmmeCNc801t0gohwQ6OxA4/7PEOruAgA48t0omzMXhRPLx7hnROMDLwETEdG4EuzqxIEPfpcJfwAQ9vtw+KMP0N3YMHYdIxpHGABpXDN0A7pujHU3iGgUNdZ9BmEM9PdeoHH/PgjB5aeIzmdYA+D777+PFStWwOv1QpIk/Md//EdWuxACTz75JLxeL2w2GxYvXoz9+/dn1cTjcTzyyCMoKiqCw+HAypUr0dzcnFXj8/lQXV0NTdOgaRqqq6vh9/uzahobG7FixQo4HA4UFRVh9erVSCQSWTW1tbWoqqqCzWbDxIkT8fTTT/M/HONEOBDHkU/a8enbJ7HrrQYc+LAVga7IWHeLiEZYMhFHsLtz0PZYXwiRgH/0OkQ0Tg1rAAyHw5g/fz5efPHFAdufe+45rF+/Hi+++CJ27twJj8eDJUuWIBQKZWrWrFmDjRs3YsOGDdi+fTv6+vqwfPly6LqeqVm1ahX27t2LTZs2YdOmTdi7dy+qq6sz7bquY9myZQiHw9i+fTs2bNiA119/HY899limJhgMYsmSJfB6vdi5cydeeOEFrFu3DuvXrx/OU0IjIOyP4+CHbfB3RIBTgb2vN4bDH3ec98kkROeKhfvQsHcX9rzz39j7zm/RWPcZkrHYWHeLBsN/pBMNC0mM0JCXJEnYuHEjvvrVrwJIj/55vV6sWbMGP/jBDwCkR/tKSkrwwx/+EN/+9rcRCAQwYcIE/Ou//iu+/vWvAwBaW1tRXl6Ot956C3feeScOHjyIOXPmYMeOHVi4cCEAYMeOHVi0aBEOHTqEmTNn4u2338by5cvR1NQEr9cLANiwYQPuu+8+dHZ2wuVy4cc//jEef/xxdHR0wGKxAACeffZZvPDCC2hubr6g5UuCwSA0TUMgEIDL5RruU5hzwv44Qr0xyIoEt8cBk0UZsO7wx+0IdA482mfNM2Hu4jIuP0MXJOz3Yf+2rUglsp9ZbbE7cPXiO2B15I1Rz2go+97dhD5fz4BtZpsdC/7gK5Bk3uFEg+P39yjeA1hfX4/29nYsXbo0s81isaCqqgofffQRAGDXrl1IJpNZNV6vF5WVlZmampoaaJqWCX8AcOONN0LTtKyaysrKTPgDgDvvvBPxeBy7du3K1FRVVWXC3+ma1tZWNDQ0DP8JoEGlkjoO72jD/g9a0Li/Bw37urH33Ua0HvP3q9VTBgJd0UH3FetLIhJMDNpOdLb6PZ/2C38AEI+E0Vi7d/Q7RBekbM5cAAP/I698zlyGP6ILMGrLwLS3twMASkpKsraXlJTg5MmTmRqz2Qy3292v5vT729vbUVxc3G//xcXFWTXnHsftdsNsNmfVVFRU9DvO6bYpU6b0O0Y8Hkc8fubLIhgMDv2h6YLUf9bdL9QJQ6D5YC8sdhWF3jOjMEKI814CEpwTctkwDB2dJ46js+EEkvEYbC4NpdOvgrt04lh3DbFw35D3kvW0NEFPJaGoXNroclPgnYiZi76Ik7V7EetL/3fYYnegbHYlSqZOH+PeEY0Po74O4LmX5oQQ571cd27NQPXDUXP6avhg/Vm7di2eeuqpIftKFyceScLXPvjkjY4TwawAqJoU2DULIoH+ozYAoFoU2F0j94WdjOvobgohFknBYldRVJYH8yCPwst1wjBw+MP34WtvzWyLR8Lwt7di8txrMXHWnDHsHZCKD/w7dJowDOipFAPgZaqwrBwFE8sQDQUhDAN2l8aRP6KLMGp/WzweD4AzI4GndXZ2ZkbePB4PEokEfD7fkDUdHR399t/V1ZVVc+5xfD4fksnkkDWdnenRgHNHD097/PHHEQgEMq+mpqbzf3AaUjiQGHJELzxA0Jt4VT4wSEgvnZYPWRmZX2tfexifbW1E08FedJ0MovlgLz7b2oSelr4ROd541910Miv8na2x7jPEI2M7a9vqdA0Z7sw2O0xmy6DtNPYkSYLdpcGR72b4I7pIo/Y3ZsqUKfB4PNiyZUtmWyKRwLZt23DTTTcBABYsWACTyZRV09bWhrq6ukzNokWLEAgE8Mknn2RqPv74YwQCgayauro6tLW1ZWo2b94Mi8WCBQsWZGref//9rKVhNm/eDK/X2+/S8GkWiwUulyvrRZdGNQ/9K6ia+k8EcXscmHrNhKzHzalmBeWzC1A6TRv2PgJAIpbC8d2dMPTssCoMgRN7uxCPJAd9r2EIBLoi6G0LIxFLjUj/LkdDLcgrhIHuppODtuupJPp8vYj1jVy4Vk0mlEyZNmh76YxZDBVEdMUa1mtXfX19OHbsWObn+vp67N27FwUFBZg0aRLWrFmDZ555BjNmzMCMGTPwzDPPwG63Y9WqVQAATdPwrW99C4899hgKCwtRUFCA7373u5g7dy7uuOMOAMDs2bNx11134f7778dPfvITAMBf/MVfYPny5Zg5cyYAYOnSpZgzZw6qq6vxD//wD+jt7cV3v/td3H///ZnQtmrVKjz11FO477778Nd//dc4evQonnnmGfzt3/4tZ5COImeBFRa7adAAVVQ28CzMorI8FHodCAfiMAyBvHzLBY38pZI6oqEkVJMMm9N8wf3sbgr1C3+nCUOg9bgf3ulumK1K1u9PT0sfGvf3IhlPBz9JllBU7sTkykLI8pX9e5ZMDD0ZR0/2bxeGgca6fWg/fgR6Kv07kVdQhKnXXo+8gsJh7+OkedcgGY+jq7EBwOlbQGR4ps2A96pZw348IqLLxbAuA/Pee+/hS1/6Ur/t9957L37+859DCIGnnnoKP/nJT+Dz+bBw4UL8n//zf1BZWZmpjcVi+N73vodf//rXiEajuP322/HSSy+hvPzM8x17e3uxevVqvPnmmwCAlStX4sUXX0R+fn6mprGxEQ8++CB+97vfwWazYdWqVVi3bl3WrN/a2lo89NBD+OSTT+B2u/HAAw9cVADkNPLhEeiK4ujODhjnPNHD7jJj1qJSqOaBl4O5GIYh0HSgF12Nocxx7JoFkysL4Sw4/0PkT+zpQndzqN/2RDSFYHcUsiqjoNQBi8ME7/R8TJjkRKArisMftw94iXvCZBemzCu65M91Oavf8ynajh0etH3WzVUo8JZlbTu+62N0nDjWr1ZRTZh3x12wOUfm71kkGECgox2QgAJvGSx2x4gch4guD/z+HsF1AHMBf4GGTzSUQHt9EKGe9DqAhV4Hiie7oJiG5xLcYAFOVmVc/UUvbHlDjwY2HepF21F/1rZkLIWupj4IIZDntkKbYMu0Tbq6EP7OCIKDLFkjyRLm315+RU8giYaC+GzzWzAMvV+bzenCNUuXZV1ijYX7sPutN3F6JO5cJVNnYNqCG0aqu0SUQ/j9PQazgIkGYnOaR2xELBZOonuQiRpGykD7ieB5jz2h3Im2Y4Gs0bxgb/zUzHEJdi07QLYe9SOZ0AdZqSx92Tjsj8PsuXL/CtqcLsy86Ys4tnMHkvEzT9Zw5Lsxc9Gt/e6vC3S0Y7DwBwD+9rZB24iI6OJcud8+lCGEQPzoUcQPH4YRjUItmgDbvLlQi67sS5CnBbujQ840HmyU7mxWhwkVcwvRUNsDCJE+p+EkAAlacXrkL9AVRSqhQ1Fl2DUzZEWGOsQIpqxc2fcAAoC7dCIWLP8qfK2tSMaisGv5cE3ov44ngPNOuOCtuUREw4cB8AonhEDonXcQP3rmvqpURydiBw/AtXQpLDNmjGHvRod0nskW0gVeZS6e7EKe24quxhBi4QSC3THYXWYk4zo6T4ayQmY4EEfx5MEvK5gsKpyFtkHbx4NkRwfiR45AxONQS0pgmTkTsrn/pXRZVlBYVj7AHrLle0ohyTKEMfBK3ufeL0hERJ8fA+AVLn7kSFb4yzAEQr/7PUyTJ2e+tFM+H6KffYZUezskkxmWq66CdfYsSOr4/jXJL7ZDkiUIY+BRQHfJwDf8B7u70NvaDAiB/JJSaCUe2F1mTK5Mz0aVJAk9LX3wd0T6jTBKsgRI6Qua/eKnJGHS1QXjehZw6L33EKutO7Ph4CFEPtkJ7SsrP/fIstlqg3fGbLQc3t+vzWS1ofSq2Z+3u0REdI7x/c1O5xU7eHDQNpFIIHH8OKyzZyPR2Ijgb38LkTpzw36ytRXxI4ehrVwJyTR+n4ZgsigonZ6P1iO+fm1mm4qSqemROsPQ4WtrRTwSRsfxY4iGApm61iMH4SyagNm3fAnqqXPhneFG82EfBppH5SywwmRW4PY4YLIq6G0Nw9ANOAus8EzLz5owMt7EDh/ODn+nGJEIgm9vgvsb93zupZQmz7sGJqsVbUcPIx7pgyTJKJhYhklzr4HFbr/UrhMR0SkMgFc44zxPWzAiEQjDQGjr77LC32nJ1jZE9+2DuaIC0c/2IdXVBdlqgWXmTFiuumrA+7bO90i9sVA2M71GX/uJAGJ9SciKBHep49R2Ff72NhzdWYNYOILO+mYEuzthslhRPKUCDs0BSQJC3V2o37MTM25ILzie57bAM1VDJJhA8tQCz7Iqw+m2Is+dXm7IMAQq5hahYu6Vc79lrK5/+DtN9/uRbGmBuezzX671XjULpTNmIhmPQVFVPoqNiGgEMABe4dSCQug9vYO2KwUFSDY2whjiiQt9H2yH9PHHwFnr9CUamxA/egyuZX+QCYGJxkZEPt2FZGsrJEWGeeo02G/4AlS3+4L7a8TjiB04gMTJ9FMiLBUVsMyZM+C9ZRereLILEyY5oacMyLKUWTg62hfCoY/eRywcR3dzCP72TghDRyoRRvP+o5gwZToKSvMgSenHm1XMvw4mS3rtwIJSB/p6Y0glDQghoJqUrMkK1ryxCS96Kome5iYkYlHYXRrcHu+wPdVC9wfO334JARBI/+PBbB2/o6TDJRIMoO3oYfT1dkNRTSiaVIHiiqmQlUtfG5OIchsD4BXONn8e4seODTgLVsnPh7miAvHDgy/WK3Qdsbo62ObP79eWaGhA7MBB2CqvRvzoUQTf2Zw5jkjpiB85gkTjSeT/j/8B1e2GEYkgduAAku0dkMwmWK+6CqbJkzMjhXpfHwJvbIQeOBMwkk3NCO6pg1p1F0wuB5wF1vNO6hiKJEn9Hi/XcewI9FQKva1h6MkUxFnr1ul6AqEuH6wOMxyaGcIwEA+HMwGwqCwPzYd9A/5FkmQJxZOcANKXl0PdXTAMA87CCZnLyCOhp7kJx3bWZJ6kAQDWPCdm3VwFu+vSH5Unu5yZkeVkKoXuvgD6YhFIkgTNloc8+/kX1qbz87W34vCH72etoxjs7kRXYz3mfPE2KOP83lwiGlv8L8gVzlRairyqKvR98H7WCJ6iueBaviwdiAoHf8SW7vdDOuvpKeeKHzoI65zZ6PvwwwFDpojFEfn4E9iuvQaBN9+EiMXPvPfwEVhmTIdz6VJIsozwBx9khT9DAG2hPPg7VSj+PbBMnwazTcXkykK4PcP3pIaQrwfxSBJ6UockyZAkGUKcOVd6Ko6wPw6HZgYgwXTWyJRqVjDj+mIc/bQTRurMeyRZQsW8IticZnScOIbGus8ya+EpqgmlM2bBVTwdXY0hxCMpmG0Kiie5kF9yafe5RYIBHPl4e7+ZtLG+EA5+8B6u/fJyyPLnGz0yDB09TY1oMxKIdLRAVRT4I31Z90BGYCB+9CAq7EWIhkTmUrvFpkJPpdDVcAK9rc0wDAP5xR6UTJ0Ok3V8B8b0kkBhSLI8bPcpGoaO4zt3DLiIdqi7C23HDqNs1tXDciwiyk0MgDnANrcSlmlTET96FEY0BnVCEcxTpmQuCaoTJsA0cSKSLS393iuSSaglJYPu24hEkerogBEa/BJy9MABRPbuhREOQ9E0yGcFyvjRYzBNnAjLjBmInziR9b7WkBP+mBW6kURf61FYnIDNNQHHdumYtagUDs0ESZIu+dKmajJDT525b9FkdSIRPRNEJUmGfircuT2l/b7ktQl2XHN7Obqb+xDrS8JsU1FUlgezTUV300kc3/VxVr2eSuLA9p1Q1HZoJdMBAJEA4G+PwDNVw6SrP/8zb9uPH8kKf4loBH29vUjGY5BVFVpxMaZdf+NF35+pp1I4uP09BLs6ICQg4bSjs/4EUoYOt8MJk6JCMqlQp0xD4/4WdJx4HwVl6YDSdLAXReU2BDt2I+w/MxEn2NWBtuNHcHXV7cMyMjkWOhtOoPlgHWJ96afM5BUUYvLca6EVD/535kIEOtqRiA2+PmVXwwkGQCK6JAyAOUK22we8jHua686lCPz2t0h1dJ7ZqMhw3HIzEseOD/q+mL0ITZ+0obM1D2bVBM2axARHBGbFgIBAouEkEo2N6dB3KnSoxRNgrqiAdGqBlNj+AzCVlaWH/E5J6DICMQtCkXb0RTshhICpOQG/qkJWVPhaXMhzi/Qac+WTUH71PFgdeZ/r3BRNqkD78ZOZn615hdCTMeipOCRIMFnzoJpkWOx5mHLdFwbch2pW4JnaP8S0HOq/pEkyriPUHYWs1sM5YUrWiFz7iQDcpY6s5xMbug5fWwuSsRjs+flwFQ28kLIwBPp6z9zvGeruQk9rM2RZyQS+Ix9/BGEITL9h0UWFwNYjBxHs6gCQ/mOUJ06E4e8FolH0yUDJpElQJxShtzOORCSBZLwF7omz06OphsDhj3ZCUbtPjaKedS5iURzf9THmfmnpBfdlpAjDQDwSgaKqFzQq2X78KE7s/iRrW19vDw588DtcXXX7oH9OFyIZj19SOxHR+TAAEgBAdjjg/trXkGhuRqqtDZLZDMv06ZDsdvg3bECqu6ffezpDBo72tSIWqkWqox0yFHTbvWi0T4LbFocp1IW87hjyzgp/AJDq7IJkMsM8cSIAwOgLQXE4IJlMEMn0fWuRpAnhmA+hSDp0nH5/LOxDrK8bYb8L06+fBcPQ0XWyHoGOdsy9/a7PdQmuqGwSSqZOgr/zEFJxHbKsIK+gHMlYCCZrHuyuEky7/irM+MLVUC9iMkoqkcga8TotEkykP3cqiWQ0CIsje5JMT3NfJgD2trbg2M4apBJnvvAd+QWYdfOtsNgdp85JEi1HfGg+cAzNB3cjHu6GJMURjwQhKwokSYbZaoPF4YCiquhqrEfBxPIhF2eO9fVBTyVhc7ogKwo667NHZ41UCrLFAtligQBgaC7oQkasL/3nJ/T0vZSSIiMa6kZn/acQIo78Ehfy3G7YnGcWyQ51dyHaF4Itz3nB53a4tR45iNYjh5CIRgBIyC/xYPK8a+HIH3gCk2HoaDpQO2CbMAw07a/F1VW3f+7+DHbcC20nIjofBkDKYi4r67eEh+sP/gCB//pv6L4zYSamp3AomkQ80JMJbbGEjlCyA5YoYLgnwx4SCKpTMcFtwN25L2ufqY4OmLylkCQZSn4+JLMZ1jmzEf0sXSdLAuFYFwABEY8DkoxEezuisW4Ik4KkJEFPJqGYTBAivWjzvq3vYPLc+SgsK7+opUMkWcasm2+Fas7D3nfeR6wvCNVih7OoAs6iySifU4HpCyZe9LlMX5qWYBg6krEYJFmGyWKFoYuzavrfj5dMpO/7igQDOFzzfr/7+cL+Xhz84D3MX/oHSMZ0HPyoDR3H9yHU3QAIgUiwG0YqASFSMFlMUM0WxKNhGIaOiTPTiyl3NhwfMAAGuzvR8Nlu9PWmA79qtsB71axTwegM9XSoP3X/n55KQhimzM+q2QZJVhHsOoHe5gOIR/wAgGgIiIWCyCsohLvUe+YzR6NjFgBP1u49Z6RWwN/RhtB7PZh3+51ZYfW0sM+H5BCXaAOdHTB0/XPP1nXku+GaUJIZdT1X6YyZn2u/RESnMQDSeSmaBvc9q5BoaDi1DqAV7e1dSGz6MBP+hNmKlCEBuo5EshPRcDFsAFS3G367HXZ7CyyRM6OIIpWCiMchWW2wVlYCAByLFkEPBJBoOAmHKQ5dj0JEoxAAZJsFKT0OQxhAwoCEFBKRCEw2G7qbTiIZi6G3tRnJWAT1ez7FtAU3oGhSxQV/Rl9bK3qaj8E7swTdjQYCXZ3wtXVCGE3osjdCVa7C5PnXXdRlU1lRIAwDbUcOwdDToU41W2C2FwBQ0peWLU6kkgZkRco8GcTuTI8yth87Muhj0SJBP/ztrQj2WNHX250OfwAMIwVZVqGLOAzdQDKeACBBNZmhmEzQUykoJlNmQsppwa5ONB2oxYk9O6GazHC4C6CaTEgl4mis+wyxvj5Y885cYldUFXZNQ8TvBwCYLFYI48y9mM6iCqQSUfjaDgOSBFkxQRipzFNR+np7YHNpsDockCQZVufYhL9kPIa2I4cGbNOTCbQcPojp1y/s1zbQ4t/nVFxAzdCuuvFmHPpwWyaMA+l/VEy6ej4fi0dEl4wBMEekkkm0Hz2MrqYG6MkknIUT4L1qFpyFF7ZAsSRJsEyZAsuUKQAA/2e/ghE7EyJ0QwZUBZKiAEIgJcWhFnsyoSbimQ1b8ycwEonMe4SsIFxagva2dsgdHZgwuRzuW2+FZVYnUl1dyPcF0NtqpPeJM1+6siSgiiSMQBDdXZ1IxmNIJuKIBANoOXwQiqrC39GORf/jbriKJpz/3CQSOPZJDYRhIBLwIx7ugdWuAFAQC/kQCWpoPXoIsmrCpMp5A+4j1NuNeF8fLHl5cBYUQQiB5gO1SCZiAAT0VAqJaBSG7oMkd8JkK4XdPRcd9UEkY0Gkkn2wOiwonjIJEyanw9DZX/xnMwwDYV8v9r27CcFeE6JBP4xUEorJglQ8ApMlD3oqDj0ZgwEJqWQis2RItC8Es80Gu3bmEuKJ3TvRfvwIepobETk1CzvU042i8smZ0GekUtB1HcpZI1puz0ToyRQkCTCdmthjsqiw5HnhLKpAoCO9/JAkSTDbNBi6P+tzhH29MPQU8tyFCHV3we2d+LlnKH9egY72AWfanuZr6z8xCgDyCgpgstoGHQXUij2XvEyL2WrDvNvvQqCzA6GeLigmEwrLJnF9RCIaFgyAOSCVSGD/tncRamtDsq0Nut8PP4AGmxXO6dMhmS2QFQUFZeUonz03a6RnMCoSMIwEhAHIQoKhq+mrfzIASYaqAibNCf3U7GDDZIV13jzoPT0wwmGgeAIOacXoOdoF41AHjHgcSmQrCtQEZpV6YC0swkS3A3qgF9EkEE2koCf6IJIhyNAhS1aEOnwIGgnE+vxIxsKQVRV6MgGzzY5ELIadb76OL917/3kvw3U3ncysmRfq6TrrvMWRjMXQdvQwCkonIhIMQ7UUIN8zAXZnOvBEggEc/fgjhP3pyRfRviSScQsc7pnoatgJi12GTStA+ORxJGNxCAioZjNS8T74O5qhJxNIxtJBL+KXkIwdR8XVMrxXTYdiMiEejQCGgMlmgyzLMAwD3SfrEY9EkO8pRSJqQjTYiXgkAJtzAoQwkIgGYOg6JFmFokhQVBMkWUasL4RYXwj5xR6UTr8KQHrNwPbjR071/cxMbmEY6GlphHfGLEiyDJumIc9dkHVPo6zIqJh/HcrmVCLU0wU9lcLUBeVoOZKAnjRgpM6E/byCIihKOqwCQCqZQE9LE/JTHlgdeThc8wFMVhtmLvriBYX24fJ5x+hkWUH57Eqc2LOzX5skyyifM/fSOnYWrbjkkmcVExGdiwEwB7QeOYRQawtiBw9BpNKPLIslEwh0d6CntRllNyyC6sxDV8MJ+NtaUXnb0iHvx+ptbUEo6Eci3oVE3AAMA4akQIcKSICsqFDy8qFMWoDEwf2IRXwwI4q4XYZ1wgTIk8pxyFaCrvr0zFsjkUCqpwcpAXRIEmymXkxXVGhNrbAnwuhLxqCHgoChQ4eBOCT0RWQoLR3Q5SQMPQZZlqCYFSTiScQiPphC6XXZOuuPw3Mq7ABAKqEjHklBT0UR7G5BKpFAX083hEiP0kUDASQTcSRjURiGAVlWEI9GEer2Q0/paDvWDpPVCVdhISbPrUBvywnIqgmSBAS7o+hq6oOhG5DqW6CaVSTjEvp6W2F3uWBzShAQEDrQ549DGHVQzC5Y7DbIsgTVrABGErvf3ozmA3vQcuQggl2dMFttUEwmOAuLIEky4pEIIEmwa/kIB3oRj/gRjwQQC/cCQkBPxjKTZgzDgIr0JWVhGAh1d2PCpClo+Gw3isono7v5zOxnCdmByEjpiISCcGj5kCQJZXPmwuZ0obvxJAw9BdeEYjjy3Wj4bDd6W5ohhIFupQFaSTlszmlIxgsQj7TA5jTDrpkhyy4kYkUI+33obW5CvqcUxZOnZI6XjEVxcPt7uO7LKzILbY+0/GIPJFke9FK72+MdcDsAeKanH4XYcmg/YuF0eM5zF2LS3GvgmpA9AzjU242I3w/VbIG71MsneRDRmGMAzAHdjfVINDZlwp8QAqFYBAKAruvoO34U+ddcCyB9T1TzgVrMuOEmhHp70HYqhMiKgoKJ5cgrKMTRjz+C2eWCkooAuoEUJBhCAJIVMswwGRJ0NYzGg5shy2bowg8R9SOUlOGdNQcVS1eg/dU3Mv0zgsH0ZWM9AcNIoqHHQKnmgk+V4Pf3ok/oiBspGBBQIAGww4AOIxWAgIAkqzCEing4CUnSIYRAMpZ+PNun//1fWPrt/wXFZEXjgV70NIfgaz0KX9sRQALsLjOEEUEs1AXDEIiEAtBTKaRiMQgIQJJh6BJk2QRIQLDzBMw2F0LdDehuOgKzNQmb0wmr04Pmw10wUon00icARF8SJosCQ9eRiEqw2FUk4zpi4SQSsfTC01ZZzgrb8bAPgY4OdJ3UYXO5oKeS6OuNwOZ0IWh0IpVIQDWbkV/iQSqRQLyv/dRkEwE9GYcsK6cWsZagKCpkVYZiNkExmZCIRpGMRdFx4igCne3objqJSMAPV1ExJFmC1elC5JxZy/qpezwV1QSt2APVdOYyuJ5K4rMtmxDrC575s9RT8LXWQ58QwcKvVGH3W21ZM5jNVhviah8sdgcKSvtPrNGTCXTWn8DEWXMu4Tf+wpmsVpTOmIXWwwf6tSmqCd5Tk2YGUzJ1OoqnTEOsLwRJlvstRZSIRnC4ZnvWyLLJYsW06xfyPj4iGlMMgFcoQ9fR09yIaCgEX0sT9IA/s+5eUk9BP2vEQ+8Lw4gnIFvSI0VtRw8j2N2F459+DGEYMNvt0CaUIBbug6+9Daqqwt/cBMlkAhJ9MGBAggRZpKDCCQUKwpFupKI6ZEWGatKRMilQVQXhtkaEPqqBoZ8Jo8lICKFoB1J6AhKAqGLGJycOwKyqiEFA0VPpK8sAElCg4/Q9WwLpm+0NQDcgRAKQ0vcrSpIEQ9fRdPAw/usffwTFPBmqxQOLw4Lmgx8hGggAEJBNVpisCkLdJyBJApKkwEhGIYn0MVKGgCSZIFQZEAaEIaCYklBMZkQCXTD0PIR62xAJnoAwAEk2QVZUyIoCWTYhISyQIJCI6UglDRi6kV50WihIJQ3E+uKwuQRkWYKejCPW14NkPH1fmYT0KF8iGkUiFoXZbkcqmUDJ1Omwaxq6GxsgKxLsLisSMROkZByQpFMziwUUVYZqsUCSJCQiUciqkp6RnIgj1ZteokYxmSArCpyFRXAVTUA0FITQz9wTd3rZm4mz5mQeXxePRNDT3Iiukyfg72gdcP3FYFcH+np7MPuLi3How/ez7pVLJZMoLJ8ExWRCn68XYV8vUskkVLMZee4C9PkHf3b1SJg89xqoZjPajhzKTI5xTShBxfzrLmiBakmSBpwpDACHPnwffb7sezmT8RgO13yAebffNeLLueipJFKJJExWy6jfX0lElzcGwCtQsLsLhz96P/NlFurpRjjoh2ZzwGIy93tim6oowKkb4ROxGLoaTmRmsAJAIhJB18l6ONwFaD9+BMlYHCrSozVJRYahC0jp1eBgNsWRknSEfd0wTgU1WVWhqCaoZiusDgdifTUQcCEW6kI8EkQs1I10vDsdUONo7zWgSiqEYoIsmWGIJFLQoSMFIAVAAWAAkAGRBHDqfjMhQQhASDJSiSgAEzobOqCYDchyG6K+E+lLuxAwjDh0EYcQKQACEKf2h1M/nyJE/NRsZwmGng5RJosFhp5eOFjXYxC6Dkm2AnoMhm6GYrIBCqAoVhgpAUPXoZrTs2QVVYEkOZCM+wBJRTySgi3PhEQ0cGqiSwqQ0sFLggSLzQ6LzQ7XhGJYHA5ISno/sVP37KkmGRabAkWxw2zPQyISAiBg19xQTWZEggHoyWT6sX8WS+YfAsIwkIrHEPb74CwsgsliQXHFVAQ62hHrC0ExmeAuKcXE2ZXwTJsBAGjavw/NB/dDCANdjQ2IhUIw2+0oKp/cb9KDv60FFdcswIJlX0Fvc9OpCSh2hHq60Fl/HD0tTZlZxACQSKXQG4nAnu/GzBtvubBf9mEgSRLKZl0N71WzEOvrg6KahuWRboHO9n7h7zRhGGg7dmTAGcbDIR6J4GTtHvQ0N0IYBkwWKzzTZqBsduUlPzmHiK4MDIBXmFQyiUMfbsu67OYsLkHfyQb4I31w2tJfbAIiHS5UEwxZRndHO5KxKCLBABRVhWIy4fRdYcIQiEcj6ZmukQj0ZBLxVApGKpl1z5gOgUAiBuOcW+uNZBJGMolkLI54OAJJ6YGEdMDUkxGcCVunQ6CBJICkSAKpJE4Hw2z6Of+L7Dqhw9AlJGNBJKN+CNGB9K97EpLsPBVOExBGCukgKU69koOcWePMflMGdEVGKh4DRCpzbGEkACEg9CgMPQzJ6oZs2ABJRTpUSlDNdiimfCRiQDIegGJyIpXQIYQJhp6CpEiQlXSIjQSCUEwqzFYrJFmGnkjAWVB0Zimas9bhSy/2bIHD5YTFakEk4IeiKFBUNf27IEmQZRlW+7mjdRKsZ12CNlutmDC5ArKiYsbCm1HgnZg5XndjQ/bix6f+2BKRCHpbmjDhrPv5TvcvEgyg9cghBLs6IMvKqQWoJ6Gx7rOs8He2xKnfNWfBhc1QHy6yrAzrI+lCg8ziPm2wWd6XKpmIY/97WzL3JQLpUcemA7WIhfsw44abRuS4RDS+MABeYbpP1meFv3gkglQ8DtWpIdDWingqCZOiIhyPIqXrkCUZ7X0BKL4uqBYLUvEEZFU9FW5EeoFf3YAQApIsQzo1MmjoAy+dcW74yyJ0GCk9nYUGLsDA8zIvZq7mWVMZROrU6N7p7adHvgIQMOFM8JOQDpIXeByRQioWOmu/SO9LxM/sw0ghGfdDkhTY3ZNhsZkgDBnxmA4jDkiyBFv+NUhGuyHJ6TXjLA4rEOlDLJiEQApADJKUHjF0uDWY7TFYhBMVc69Dd2MDbE5nZtkWu5YPQKRHYxUVeYVFcGgaYuEwFFWFakmPvg50GbB48hTMqbodXad+d+xaPiZMnpq55Hta69HDMHQDwe5OhH29iPWFEI9GYbbZ0tE5Hs8sBwOk73Xb9+6mzOV+IL1+oTXPCZNl4KVMnIVFsNjs6G48OeoBcLippqGfGnPu+R0uHSeOZYW/s3WdrMfEWVeP22cvE9HwYQC8AhiGjvCpp3SEA34AgK6n0NPUiHg4DD2VQl84BFhMMFICoVgCsWT2s0STiTjQFzp311mEoWcuFV+S05lrRAw8mzM7XCZw5jKyOKv9Ypz7vnPn0AoIPYZErBMTi6dBSCVIxPIhqWHIsgVmezFkxYJEzI9UrBnlc2xIJlw4tL0VJls+krEQhBAQIn1ZPtEWgWwywZFfgM76Y3C4CzGn6g6c2PUJVLMJQpjQfOgY4qe++B35JbDklaBokg2lM2aiu7EBiegAa9ZJEsrnzofdpWHy3GuG/MRhfy+6Tp5IL00jBExWGxLRKGJ9IRh6+mknpwNgvseLzpMnssLfabG+ECAMFE2ajL7eXqSSiczi03ZX+l66VDLR733jTWFZORr27hp0ncGLWaj8YvhaB1678LTe1mYGQCJiABzv2o4dRvOBusz9fpGAH4ZhIBoKIhIIIJWIIxaJwNBTSCT19AQDMVhIGiUjFv7OXEI+P+MC6y7UuQFSSi+JIwsEOk/A6jTD7Liq36PfzNZ8FJR6cHXVFBz7dDcc7mZEg10w21xIJaJIJaIw9BRkxYpExIRAJxAJhpAXTMBkNmP+ki+j/rNaNO1vhtXhgdmahKyYYLLmIZV0oWjyfGgTJAgh0N3YgORZi3dDkjB57jUoqZh2QZ8wGggg0NmBZDwGIQRkRYHJaoWcUk8tm6NDUU0onjINBRPLsP+9dwfdVyzcB7vmHnTyxHgf/QPSI6CT512L+r2f9mtzTShBccXUETnueZ9AYlzaE0qI6MrAADiOtR8/ivo95365SGg+dACJcDg9WUCkL7sZqUGvu15BBruEPDbSt+gJRAJ+mO1hQPQg2NUMIxWBLJthsntgtijo6+7GJ/+5Ez3NbTBSAqo5H7FwJ4D0jF5FdUJWbTD0U5NkYim0Hu1C0/79cBVPQiwsIEkWFE2eg/ziyVl9CPbImHptOSrm9UE1mxELhZCIRiApCkqnz8ScW2+7oM+SSiTQ29aCxFmzeQ1dRzwchtlmh9vjxdTrbsCUaxZAUVX0trYg1tcHIQyYbfZ+E0SsTidUsxn6ACN9ZqsNEyZXXNzJvkyVzpgJm9OFtqOHEPb7oFqsmDB5CkqnXzViawG6PaXo6+0etD2/dPC1DYkodzAAjkN6MomTdZ/h0/96HbFwGBarHY7CAvT19MDf3opwMAAMsrAtjSIpfVk4lUwiHGiBas6D2SKQkgUgYgj37kCfABTVirA/gUBnNxKxPsiSCsXsgiRbYegxCCMBIXRIUgEAIBryIdTTAUDAbAsjHjXB0BM4+dmnCE8GnIUlcGhmKKoMI2Ug1BPDpMr58EybgZ6WJhi6AW1CMfIKCofsfiTgh6HrsGv56DhxDIqiQlVNSKWyJ8okY1FoJbNhsligqCo6G07gxO6d6GpsSD8KTpbgyC9Avqc0M6HEWTAB079wI47s2J6+JHyKzaVh5o23QFFH5v64sZDvKUW+p3TUjlcybQY6ThzLCuunFXjLkOcuGLW+ENHliwFwHIkE/Kjfuwu7fvsf8LW3Qk8m05d7LvGh81eOy+w8CAmSLKXX5kMKqUQEJosDiioj1OtL3zuXCkNWLIj1mWHoEoSegI4EICuQFUd6zUAISEKHIQDDEAj7uzOX+XRdQippIJVMB/6epkMAXOjrjaHA64DVYcqELrPNjtLpM8/bbX97Gxo+243Iqce2qWYLoqEgLHl5sOe7kYxFkYzHIYSAYjLBYrPB0HVoxR742lpwbOcOpJehyUfE74MwRHrGq3TmyRreq2Yhz12Aa+9agWBXB2LhMKyOPD7ybBiYrTZcvfgO1O/5FP6OdqTXhDRhQsUUVMy7bqy7R0SXCQbAy5RIpWDE4pBtVkiKgkgwgNrfb8H+bVvhb28d9NFVNNzOzB5O39dnBcTZS9cMJr1AtaxaYbU7kOfWIIwoAEf6SSDREISRPDVLWYEwTOkFrSUVECkYyQiEsAAwASIBSbEiGYugrzcI/dTlfFlWAZghjDMjcolY4NQ9gyp628KYeJUbzsILf6xasLsLBz98L+v3K5WIo6e5CRabDYqqQrLZYbZlr5NndbqgFZecuu8vfW7cpV4IQ0c0mH5SSNjng1bsweS512Tuf5MkCVqxB5ySMLxsThfm3HobEtEIkvE4LI68EZt1TETjEwPgZcZIJBCpqUHs0GGIRALCbIY/Pw+fHt2HzoZ66KHwWHcxR5xeLNcOyDYAApJaAgkxGMkWAKlTk2lOB6VzZwHLUE1W2JwFKPCWIBWPw+pS4XA7ED3mhywDkpSCoshnvU9AVlQAMgw9HY4UcyEgYlBUQBjpJ4oYuoCsyDBZi2DoSF/q1fX0QLAQiISSkCQDiirDbFOhqBe+8G/Lof0wTi37I8tnZutYHQ70+XpRNKkC/va2rCd72JwuzLv9TgDpAJk5A7KMovLJSMbjiIX7IEkSZt54S//1AmnEmAcI60REAAPgZUUYBoJvvolEaxtSuo5gOIT3Dn+GcOLMzM0RXUGFkH12FQBWSJIZkFSY7bdAVhUkw+9AT7RD6DGcCYpnBUBJhayaYLI6MWHybOTlq+hpboLZaoXJrMCWZ4IkOZFKdJ0KegqEIQAo6cuqigJFtcFkLYBqdiOZTEGk+iCECkguCOFPz+qO9cIwwpAVJ1SLGYloCpKcDyMlQVYEZEVCd3MfAl0RaBPOHwIS0RTq9x5HJBiDMARMFgV5BVbYXWbkFRYh7PdBGAY806YjEYtBTyVhMltQNKkic2lXVpR+S7+YLJbM8jAWu+NS/nCIiGiYMABeRmJHj+J47Wf47OQR+KIDj/Qx/I0ECem/CgLpQGdCJtgpJkiyE5JSAAk2yEKCxToPks2GWLgVqUTwzD4kGZIkQzHlwWpPh7I8tws2pwkma1d60kXmfjwXABP0VDL9/GHDACQZEEp6VE82QVatkGQJZqsJyVg+zHnXIBU7CVm1A0YvhKEjGUtAkkKQTYWQlTw4i6bB5rRAkk+NICoSTuzpxvw7yrNG9M6ViKVw8KM2RIKJU2EUSMZ1+NrC0JMGnIXp2avWPCcMPXXq6STpR8BNve4Lmf0UlpWj62T9gMcw2+xwFo7/5V2IiK4EOf9QyJdeeglTpkyB1WrFggUL8MEHH4xZX3b990a8d2jPoOGPRoIKwJa+t08yQ5JdUFQNkuKCpOZDVsshKRoU1QtJAiRhQJZK4ZA1FJbOgs1ZBMXkgKLaoZpdsLmmwmrPh6xKsDqcsDnNMFmsuOlP7oFW7Ek/t9dhQjxiwOyYClnJPxUcJUAAkuKGyTYBQpggSVYoJhmqyQ73xGthtcchST44CwvgyPdCVk4/dUNCKhFGnvtq2PMLISsSJEmCrMiw5pmQjKcQ6IwMeRY66oOIR5Kwa/0nYYR6YzD09KSOG77yP3DN0mW4uuoOXL/sDzHjhpuyZuyWz5kHk2Wgew4lVMy/js+hJSK6TOT0COBvfvMbrFmzBi+99BJuvvlm/OQnP8GXv/xlHDhwAJMmTRrVvvjaW7Fnz85RPeaV4/TI1mATM2T0X/RZBiQrJKUcQkQAkYKi2CBBQIh4euqH7EoHKbkAsjoxfSRJwKRImOCYguKSAPxXe9B6+ATi0fR6fWab+VRoE5j7pUXI9xShwFsGRVXhmTYDwe4udDV2Ys+WdlhdeVDMPYiF9sHQI5CgQlbNMNvcMNsrYLVLKJyowd+lQJIkhPo+g6xIsNhVqGo+7PkakrEEbE4zAt1xmCz6mekqsoSCUntm1C8ZH/oJLr1t6X90uIqnIRrszLqMKwyBWDiJadd/AbKinHrs3MCseXmYe9udaD5Yh57mxlOzg0vgnTkH+SWeIftARESjRxLnXTb+yrVw4UJcd911+PGPf5zZNnv2bHz1q1/F2rVrz/v+YDAITdMQCATgcg38RIMLtfut/8TvX/3ZJe3jynT25dnTIU5GetTOfGpG7umwcnbIMU69Vz7rlb6DUpLt6XX1ZCsU81QAevqeOUPO7N+AA7Ligoo8qIodQjXDEBKsagoucwJzirvgtsXhvvtP0e3vRevRQwh0+WDoQNGkclx1w/WDPuWiqymEY7s60N3Yh0B3FICAhBBkJQXV7IDZpqG4woWwPw5Hvhntx4MABIJdn8JkisFkOWsBYUmCZ6qG7uYQIJfB7qqAyaLA7jJDVs6Mts2+2QtnweCzgfe+24hENH0eE9Eg/O1HEA11nXrkmxOzb1mAmTdWnu8Pi4hoXBjO7+/xKmdHABOJBHbt2oW/+qu/ytq+dOlSfPTRRwO+Jx6PIx4/8wzdYDA4YN3n4e/sGLZ9XRlOhzYz0r+mxqn75xRIch4kSYUkOyEr5RDyUeh6EHIqCl0//edjBYQMIJx+n2SBrOZDlidAUdL368mKE5A9kE0u5BcXoaQYaD/UBd2QkNAVCAGYUyGoFgFDTkKWgCJ7BFZVh2ZNH8cIh+GZfhVKps1AKh6HrCrnXcRYliUoigyH24JU8nRotWTaJTl9717ZLDfKZxfAZG5Fnz8Os7UYEV/2c14tdhWKKsFVZINiKoJd6z/Jwq5Zhgx/AOAqsqG7Kb0gs9nmQvGU62HoKQhhQDFZMHlu2ZDvJyKi8SVnA2B3dzd0XUdJSfY9TyUlJWhvbx/wPWvXrsVTTz01Iv3JLx69JwVcvk6vuedIr4cnmdKXNCUzJFihmCZDUidBltLRUFEELJZuhGdcByUSgVcyIxrsRTwaRzwqQYYMQ08hlQxDNedBManQUwaEACTJBKtrLgArzFYVxRUuOPItKFLtCLb4YUroiCUkmAwByUhBhoBJNqDKAkX2CGQJgCRBcbvTPZckmKwXtt6eVmyDrMiw5ZkQ7JL6PbvVlpcOkIUT8+DQLKisKsPBD9ugKhWI+FszC3/Lqoz84vTsXrenACVTZ6L1WCAziQMArHlmzLi++Lx98kzV0NsahqGfuVSeXpIGKJyYXlCaiIiuHDkbAE87/ZSE04QQ/bad9vjjj+PRRx/N/BwMBlFeXj4s/Zh3+1L8/tWfDMu+Rp+C9K+SjPRlWBlAEmcuyZ6+jJvCmZm2llPtZ4ef9P12kuIBoEMSMVhlD0qnz4IlFEJPIIKoiEGWUpBNcSjmCFJOM4TNjGkLy+DxT0Mynh61CvWGEOpJAlAQj3Qh3tcIWY7A4jBDkgsgq2WnLreqsLvMmdDlnGBHIm4gEU3BYVGRCsqId/uhSAIFtig8eWEU2tNr4JmnVED5HJcOVJOCiVflo+lgL1wTbAh0RjPnQVFl5Lkt0IrtKJqYBwCwOky4+lYvOhryoKhxdDbsg9mWrlNUGdY8J2bfshg2pwtFk1zobelDKmUgL9+C/GJ7+mkk52F3mXHVDSU4WdeDaCj9fF5ZkVBU5sSkq/noMCKiK03OBsCioiIoitJvtK+zs7PfqOBpFosFFotlwLZLpVosQEoG1At9wsdEAAEAYQw++eH0iNrneWrI2Qsbn7vI8WlmpJdMUaHINgjJBsAKRQgYhg+6FAOgQxZJyIaAbACKnoA1ocIwWZFSrZARgwogrhYAqgMKTFD0EBRJQr65EDf96RdQfNdtCO/ahd6P3sf+9n0IxouQ1F1I2S2IzMhD/nQFX7puEYyIjOO7OxENJeAq1OAsSF/9LZs9DdHQdehuDKYfy3ZWwM/32DFpTgGaDvrg74hANoDS6fmwOc1QVAnCKIZx7CCs7UdgN6VwOkupnhI4b7vtc5zXtNLp+TBZVbSfCMBklhEJJmGyKCgsz0PpVA1F5c6s4Ga2qiifVYDyWTcilbgOPc2NSMZisOfnw+3xZmbXWmwqSqfnf64+uYpsmLu4DOFAHHrSgM1lhsmsnP+NREQ07uT8JJAFCxbgpZdeymybM2cOvvKVr4z6JJDTfvT15eepyINFuQ2SzQtARkpvRipxANA7AZweSTp175xkgSTZ0gsIiygAP85MmDABUiEUyQlz3I+YKQ9C6gVEDOnAKCBBhoIwgBQUXUJKNkGXbZCUQsiwQpYMGAVmqLcUYF7pPBRZpmPX/u1obj6CVDICp6yjKJqCEk0i0NeBiDmGrklm9OabMLEjhek+FRMcRSi+bhHKKm7CyQ8PorutB5JhoKTIiclfmgvthmszn9yIRBA8chANPUfRbI3DKCrAtMKpuMp9FUzKmUuUwZ4o4pEULHYVrkJbZntXUwidDUHEwkmYrSomTHKipMKVCVp60oCeMmCyKP1GzVK9vYgfOwakUjCVlcFUXj7oSPHFMnQDkiwN2/6IiGhonASS4wHwN7/5Daqrq/Hyyy9j0aJF+OlPf4qf/exn2L9/PyZPnnze94/UL9CPlnwLKDhrUoiYil5nC/ZP60N9aQcUPQUBCXlhBwpCUfRqBiSpAKphhkj1YUJYx6RuCXkJCbEyN9rnFSMa70NxxIpZrrmYmlcJyWZCLFwPReiQ3RqUwkIoigmWThWhzm7AbYK1LA9ljokojFgRj0RgzcuDxeFAKORHbywMZ0Ehygu9gwaXcy+nt4fbcTJ4EqqsoshWhDxTHvIt+VDkM6NMut8PkUpBcbshKRx9+v/bu/uYquo/DuDvg3CveMUrpHC9gqGhpl1ggmY+JBhOGD5kf1gZoWnLaKG4WObDCuY/MEtNN7XWw9XVEluAs9QGBuIDBI2HuESx2nwKIdQBoiYofH5/9OPMI2qUwOV23q/t/nG+53PP+fKGwYfD4XuIiKjnsQHUeQMI/LUQ9ObNm1FXVwebzYZt27Zh1qxZ3Xovv4CIiIhcD39+swF8IPwCIiIicj38+c1HwRERERHpDhtAIiIiIp1hA0hERESkM2wAiYiIiHSGDSARERGRzrABJCIiItIZNoBEREREOsMGkIiIiEhn2AASERER6Yy7syfgyjofonLlyhUnz4SIiIi6q/Pntp4fhsYG8AG0tLQAAAICApw8EyIiIvqnWlpaYDabnT0Np+CzgB9AR0cHLly4AC8vLyiK0uPHv3LlCgICAnD+/HndPqvQWZi9czF/52L+zsPs+4aIoKWlBVarFW5u+rwbjlcAH4Cbmxv8/f17/TxDhgzhNwInYfbOxfydi/k7D7PvfXq98tdJn20vERERkY6xASQiIiLSGTaA/ZjRaERKSgqMRqOzp6I7zN65mL9zMX/nYfbUV/hPIEREREQ6wyuARERERDrDBpCIiIhIZ9gAEhEREekMG0AiIiIinWED2E/t2rULo0ePxsCBAxEeHo4TJ044e0r9yvHjx7FgwQJYrVYoioIDBw5o9osIUlNTYbVa4enpicjISPz000+amtbWVqxatQrDhg2DyWTCwoUL8fvvv2tqGhsbER8fD7PZDLPZjPj4eDQ1NWlqzp07hwULFsBkMmHYsGFYvXo12traNDUOhwMRERHw9PTEyJEjsWnTJpd9BmVaWhqmTJkCLy8v+Pr6YtGiRaipqdHUMP/es3v3boSEhKgLBU+bNg1HjhxR9zP7vpOWlgZFUbBmzRp1jPmTyxDqdzIyMsTDw0M++ugjqa6ulqSkJDGZTHL27FlnT63fOHz4sGzcuFEyMzMFgGRnZ2v2p6eni5eXl2RmZorD4ZDnnntORowYIVeuXFFrEhISZOTIkZKbmytlZWUye/ZsCQ0NlVu3bqk1MTExYrPZpLCwUAoLC8Vms8n8+fPV/bdu3RKbzSazZ8+WsrIyyc3NFavVKomJiWpNc3Oz+Pn5yfPPPy8Oh0MyMzPFy8tL3nvvvd4LqBdFR0eL3W6XqqoqqaiokHnz5smoUaPk6tWrag3z7z0HDx6UQ4cOSU1NjdTU1MiGDRvEw8NDqqqqRITZ95WSkhIJDAyUkJAQSUpKUseZP7kKNoD90OOPPy4JCQmasUcffVTWrVvnpBn1b3c2gB0dHWKxWCQ9PV0du3HjhpjNZvnggw9ERKSpqUk8PDwkIyNDramtrRU3Nzf59ttvRUSkurpaAMj333+v1hQVFQkA+eWXX0Tkr0bUzc1Namtr1Zp9+/aJ0WiU5uZmERHZtWuXmM1muXHjhlqTlpYmVqtVOjo6ejAJ52hoaBAAUlBQICLM3xm8vb3l448/ZvZ9pKWlRcaOHSu5ubkSERGhNoDMn1wJ/wTcz7S1taG0tBRz587VjM+dOxeFhYVOmpVrOX36NOrr6zUZGo1GREREqBmWlpbi5s2bmhqr1QqbzabWFBUVwWw2Y+rUqWrNE088AbPZrKmx2WywWq1qTXR0NFpbW1FaWqrWREREaBZ2jY6OxoULF3DmzJmeD6CPNTc3AwB8fHwAMP++1N7ejoyMDFy7dg3Tpk1j9n3k9ddfx7x58zBnzhzNOPMnV8IGsJ+5dOkS2tvb4efnpxn38/NDfX29k2blWjpzul+G9fX1MBgM8Pb2vm+Nr69vl+P7+vpqau48j7e3NwwGw31rOrdd/XMqInjjjTcwc+ZM2Gw2AMy/LzgcDgwePBhGoxEJCQnIzs7GxIkTmX0fyMjIQFlZGdLS0rrsY/7kStydPQG6O0VRNNsi0mWM7u/fZHhnzd3qe6JG/n8Ttqt/ThMTE1FZWYmTJ0922cf8e8/48eNRUVGBpqYmZGZmYtmyZSgoKFD3M/vecf78eSQlJSEnJwcDBw68Zx3zJ1fAK4D9zLBhwzBgwIAuv501NDR0+U2O7s5isQDo+hvu7RlaLBa0tbWhsbHxvjV//PFHl+NfvHhRU3PneRobG3Hz5s371jQ0NADoeqXAlaxatQoHDx5Efn4+/P391XHm3/sMBgOCgoIwefJkpKWlITQ0FNu3b2f2vay0tBQNDQ0IDw+Hu7s73N3dUVBQgB07dsDd3f2eV9eYP/VHbAD7GYPBgPDwcOTm5mrGc3NzMX36dCfNyrWMHj0aFotFk2FbWxsKCgrUDMPDw+Hh4aGpqaurQ1VVlVozbdo0NDc3o6SkRK0pLi5Gc3Ozpqaqqgp1dXVqTU5ODoxGI8LDw9Wa48ePa5ZnyMnJgdVqRWBgYM8H0MtEBImJicjKykJeXh5Gjx6t2c/8+56IoLW1ldn3sqioKDgcDlRUVKivyZMnIy4uDhUVFRgzZgzzJ9fRd/9vQt3VuQzMJ598ItXV1bJmzRoxmUxy5swZZ0+t32hpaZHy8nIpLy8XALJ161YpLy9Xl8pJT08Xs9ksWVlZ4nA4ZMmSJXddisHf31+OHj0qZWVl8tRTT911KYaQkBApKiqSoqIiCQ4OvutSDFFRUVJWViZHjx4Vf39/zVIMTU1N4ufnJ0uWLBGHwyFZWVkyZMgQl12K4bXXXhOz2SzHjh2Turo69XX9+nW1hvn3nvXr18vx48fl9OnTUllZKRs2bBA3NzfJyckREWbf127/L2AR5k+ugw1gP7Vz5055+OGHxWAwSFhYmLrEBv0lPz9fAHR5LVu2TET+Wo4hJSVFLBaLGI1GmTVrljgcDs0x/vzzT0lMTBQfHx/x9PSU+fPny7lz5zQ1ly9flri4OPHy8hIvLy+Ji4uTxsZGTc3Zs2dl3rx54unpKT4+PpKYmKhZdkFEpLKyUp588kkxGo1isVgkNTXVZZdhuFvuAMRut6s1zL/3rFixQv3eMHz4cImKilKbPxFm39fubACZP7kKRYRLghMRERHpCe8BJCIiItIZNoBEREREOsMGkIiIiEhn2AASERER6QwbQCIiIiKdYQNIREREpDNsAImIiIh0hg0gEf2nnTlzBoqioKKiwtlTISLqN9gAElGvURTlvq+XXnrpb99/4MCBf3WemTNn9swH0U2RkZFQFAXp6eld9sXGxkJRFKSmpvbpnIiI7sXd2RMgov+u2x9Uv3//frzzzjuoqalRxzw9PXvsXHa7HTExMeq2wWDosWN3V0BAAOx2O9atW6eOXbhwAXl5eRgxYkSfz4eI6F54BZCIeo3FYlFfZrMZiqJoxr744gs88sgjMBgMGD9+PD777DP1vYGBgQCAZ555BoqiqNv3MnToUM2xfXx87lq3Z88eDB06VDN24MABKIoCABARzJkzBzExMeh8UmZTUxNGjRqFjRs33ncO8+fPx+XLl3Hq1CnN+ebOnQtfX19NbVtbG9auXYuRI0fCZDJh6tSpOHbsmLr/8uXLWLJkCfz9/TFo0CAEBwdj3759mmNERkZi9erVWLt2LXx8fGCxWHiVkYi6hQ0gETlFdnY2kpKSkJycjKqqKrz66qtYvnw58vPzAQA//PADgL+u7NXV1anbvU1RFOzduxclJSXYsWMHACAhIQF+fn5/21wZDAbExcXBbrerY3v27MGKFSu61C5fvhynTp1CRkYGKisrsXjxYsTExODXX38FANy4cQPh4eH45ptvUFVVhZUrVyI+Ph7FxcWa4+zduxcmkwnFxcXYvHkzNm3ahNzc3AdMgYj+84SIqA/Y7XYxm83q9vTp0+WVV17R1CxevFhiY2PVbQCSnZ39t8cGIAMHDhSTyaS+Ot93+vRpASDl5eV3nYeISHZ2ttz57fDLL78Uo9Eo69evl0GDBklNTc195xARESFJSUny448/ipeXl1y9elUKCgrE19dX2traJDQ0VFJSUkRE5LfffhNFUaS2tlZzjKioKFm/fv09zxEbGyvJycmac86cOVNTM2XKFHnrrbfuO1ciIt4DSERO8fPPP2PlypWasRkzZmD79u3/6njbtm3DnDlz1O0Hvedu8eLFyM7ORlpaGnbv3o1x48Z1630hISEYO3YsvvrqK+Tn5yM+Ph4eHh6amrKyMohIl2O2trbioYceAgC0t7cjPT0d+/fvR21tLVpbW9Ha2gqTydTlfLcbMWIEGhoa/umHS0Q6wwaQiJym8767TiLSZay7LBYLgoKC/rbOzc1Nvbev082bN7vUXb9+HaWlpRgwYID6Z9nuWrFiBXbu3Inq6mqUlJR02d/R0YEBAwaox7/d4MGDAQBbtmzBtm3b8P777yM4OBgmkwlr1qxBW1ubpv7O5lJRFHR0dPyj+RKR/vAeQCJyigkTJuDkyZOascLCQkyYMEHd9vDwQHt7e4+ed/jw4WhpacG1a9fUsbutEZicnAw3NzccOXIEO3bsQF5eXrfP8cILL8DhcMBms2HixIld9k+aNAnt7e1oaGhAUFCQ5mWxWAAAJ06cwNNPP40XX3wRoaGhGDNmzD9uRImI7oVXAInIKd588008++yzCAsLQ1RUFL7++mtkZWXh6NGjak1gYCC+++47zJgxA0ajEd7e3g983qlTp2LQoEHYsGEDVq1ahZKSEuzZs0dTc+jQIXz66acoKipCWFgY1q1bh2XLlqGysrJbc/D29kZdXV2Xq3Odxo0bh7i4OCxduhRbtmzBpEmTcOnSJeTl5SE4OBixsbEICgpCZmYmCgsL4e3tja1bt6K+vl7TIBMR/Vu8AkhETrFo0SJs374d7777Lh577DF8+OGHsNvtiIyMVGu2bNmC3NxcBAQEYNKkST1yXh8fH3z++ec4fPiwurTK7f/de/HiRbz88stITU1FWFgYACAlJQVWqxUJCQndPs/QoUO73K93O7vdjqVLlyI5ORnjx4/HwoULUVxcjICAAADA22+/jbCwMERHRyMyMhIWiwWLFi36Vx8zEdGdFLnzZhgiIiIi+k/jFUAiIiIinWEDSERERKQzbACJiIiIdIYNIBEREZHOsAEkIiIi0hk2gEREREQ6wwaQiIiISGfYABIRERHpDBtAIiIiIp1hA0hERESkM2wAiYiIiHSGDSARERGRzvwPwPK8bZMnMRMAAAAASUVORK5CYII=' width=640.0/>\n",
       "            </div>\n",
       "        "
      ],
      "text/plain": [
       "Canvas(toolbar=Toolbar(toolitems=[('Home', 'Reset original view', 'home', 'home'), ('Back', 'Back to previous …"
      ]
     },
     "metadata": {},
     "output_type": "display_data"
    }
   ],
   "source": [
    "plt.figure()\n",
    "for band in bands:\n",
    "    plt.scatter(variable_sample_diao[f'{band}TOTFluxMean'], \n",
    "                variable_sample_diao[f'{band}TOTFluxSigma'],\n",
    "                edgecolor='none',alpha=0.5, label=band)\n",
    "plt.legend()\n",
    "plt.xlabel(\"Tot Flux Mean\")\n",
    "plt.ylabel(\"Tot Flux Sigma\")"
   ]
  },
  {
   "cell_type": "markdown",
   "id": "ca392990-ad5e-493b-87e7-a7f863282ffc",
   "metadata": {},
   "source": [
    "## testing John P's cutout service"
   ]
  },
  {
   "cell_type": "code",
   "execution_count": 19,
   "id": "8384b786-9675-4dd3-b291-6865fba263d1",
   "metadata": {
    "execution": {
     "iopub.execute_input": "2022-12-13T19:45:28.802961Z",
     "iopub.status.busy": "2022-12-13T19:45:28.802556Z",
     "iopub.status.idle": "2022-12-13T19:45:28.808244Z",
     "shell.execute_reply": "2022-12-13T19:45:28.807778Z",
     "shell.execute_reply.started": "2022-12-13T19:45:28.802940Z"
    },
    "tags": []
   },
   "outputs": [],
   "source": [
    "class PathManager:\n",
    "    \"\"\"Manage paths to local files, chunked directories, and s3 buckets.\n",
    "    Parameters\n",
    "    ----------\n",
    "    root : `str`\n",
    "        Root file path to manage.\n",
    "    chunk_size : `int`, optional\n",
    "        How many files per directory?\n",
    "    \"\"\"\n",
    "    def __init__(self, root, chunk_size=None):\n",
    "        self._root = root\n",
    "        if chunk_size is not None and chunk_size % 10 != 0:\n",
    "            raise RuntimeError(f\"PathManager file chunking must be a multiple of 10, got {chunk_size}.\")\n",
    "        self._chunk_size = chunk_size\n",
    "\n",
    "    def __call__(self, id=None, filename=None):\n",
    "        \"\"\"Return the full path to this diaSourceId cutout.\n",
    "        Parameters\n",
    "        ----------\n",
    "        id : `int`\n",
    "            Description\n",
    "        filename : None, optional\n",
    "            Description\n",
    "        Returns\n",
    "        -------\n",
    "        TYPE\n",
    "            Description\n",
    "        \"\"\"\n",
    "        def chunker(id, size):\n",
    "            return (id // size)*size\n",
    "\n",
    "        if id is not None:\n",
    "            if self._chunk_size is not None:\n",
    "                return os.path.join(self._root, f\"images/{chunker(id, self._chunk_size)}/{id}.png\")\n",
    "            else:\n",
    "                return os.path.join(self._root, f\"images/{id}.png\")\n",
    "        elif filename is not None:\n",
    "            return os.path.join(self._root, filename)"
   ]
  },
  {
   "cell_type": "code",
   "execution_count": 20,
   "id": "afdf48b0-711d-4b06-af28-17bc9da877f7",
   "metadata": {
    "execution": {
     "iopub.execute_input": "2022-12-13T19:45:29.235318Z",
     "iopub.status.busy": "2022-12-13T19:45:29.234918Z",
     "iopub.status.idle": "2022-12-13T19:45:29.238463Z",
     "shell.execute_reply": "2022-12-13T19:45:29.237947Z",
     "shell.execute_reply.started": "2022-12-13T19:45:29.235296Z"
    },
    "tags": []
   },
   "outputs": [],
   "source": [
    "path_manager = PathManager(\"/sdf/group/rubin/u/parejko/scratch/cutouts\", chunk_size=10000)"
   ]
  },
  {
   "cell_type": "code",
   "execution_count": 21,
   "id": "89604a32-80f5-4ced-862f-f1c4d8283f7a",
   "metadata": {
    "execution": {
     "iopub.execute_input": "2022-12-13T19:45:30.195346Z",
     "iopub.status.busy": "2022-12-13T19:45:30.194948Z",
     "iopub.status.idle": "2022-12-13T19:45:30.212877Z",
     "shell.execute_reply": "2022-12-13T19:45:30.212298Z",
     "shell.execute_reply.started": "2022-12-13T19:45:30.195324Z"
    },
    "tags": []
   },
   "outputs": [
    {
     "data": {
      "image/png": "[encoded data removed]",
      "text/plain": [
       "<IPython.core.display.Image object>"
      ]
     },
     "metadata": {},
     "output_type": "display_data"
    }
   ],
   "source": [
    "diaSourceId = 506834058215689\n",
    "path = path_manager(diaSourceId)\n",
    "display(Image(path))\n"
   ]
  },
  {
   "cell_type": "code",
   "execution_count": 23,
   "id": "f59e855e-fd04-4841-ade0-049ef943e85e",
   "metadata": {
    "execution": {
     "iopub.execute_input": "2022-12-13T19:45:41.574555Z",
     "iopub.status.busy": "2022-12-13T19:45:41.574168Z",
     "iopub.status.idle": "2022-12-13T19:45:41.600336Z",
     "shell.execute_reply": "2022-12-13T19:45:41.599776Z",
     "shell.execute_reply.started": "2022-12-13T19:45:41.574534Z"
    },
    "tags": []
   },
   "outputs": [],
   "source": [
    "with apdbQuery.connection as connection:\n",
    "    sample_ids = pd.read_sql_query('select \"diaSourceId\" from \"DiaSource\" LIMIT 10', connection)"
   ]
  },
  {
   "cell_type": "code",
   "execution_count": 46,
   "id": "5a6b2e25-fae4-4056-965e-65969c6625d4",
   "metadata": {
    "execution": {
     "iopub.execute_input": "2022-12-12T19:45:11.756602Z",
     "iopub.status.busy": "2022-12-12T19:45:11.756321Z",
     "iopub.status.idle": "2022-12-12T19:45:11.759832Z",
     "shell.execute_reply": "2022-12-12T19:45:11.759301Z",
     "shell.execute_reply.started": "2022-12-12T19:45:11.756572Z"
    },
    "tags": []
   },
   "outputs": [],
   "source": [
    "#for idx, idi in sample_ids.iterrows():\n",
    "#    try:\n",
    "#        path = path_manager(idi.values[0])\n",
    "#        display(Image(path))\n",
    "#    except: #FileNotFoundError:\n",
    "#        continue"
   ]
  },
  {
   "cell_type": "code",
   "execution_count": null,
   "id": "7cd0a318-51df-4852-a533-af1f2acb7a3a",
   "metadata": {},
   "outputs": [],
   "source": []
  }
 ],
 "metadata": {
  "kernelspec": {
   "display_name": "LSST",
   "language": "python",
   "name": "lsst"
  },
  "language_info": {
   "codemirror_mode": {
    "name": "ipython",
    "version": 3
   },
   "file_extension": ".py",
   "mimetype": "text/x-python",
   "name": "python",
   "nbconvert_exporter": "python",
   "pygments_lexer": "ipython3",
   "version": "3.10.6"
  }
 },
 "nbformat": 4,
 "nbformat_minor": 5
}
