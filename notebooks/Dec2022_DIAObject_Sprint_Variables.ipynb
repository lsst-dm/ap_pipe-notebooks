{
 "cells": [
  {
   "cell_type": "markdown",
   "id": "88af7917-18b6-4e1c-a330-3c7ac6faa52b",
   "metadata": {},
   "source": [
    "<img align=\"left\" src = https://project.lsst.org/sites/default/files/Rubin-O-Logo_0.png width=250 style=\"padding: 10px\"> \n",
    "<br>\n",
    "<b>HSC Cosmos Analysis Notebook</b> <br>\n",
    "Contact author: Erin Howard<br>\n",
    "Last verified to run: December 5, 2022<br>\n",
    "LSST Science Piplines version: w_2022_46<br>\n",
    "Container Size: Large <br>"
   ]
  },
  {
   "cell_type": "markdown",
   "id": "4922a155-a41e-4be0-ae26-df663f7c7386",
   "metadata": {},
   "source": [
    "modified by Eric Bellm as part of testing for DIAObject sprint in Dec 2022"
   ]
  },
  {
   "cell_type": "markdown",
   "id": "b4d7ce29",
   "metadata": {},
   "source": [
    "# DIAObject sprint, December 2022: Selecting \"good\" variables\n",
    "\n",
    "after notebook from DM-35285: ApPipeWithFakes on HSC COSMOS, November 2022\n",
    "\n",
    "New baseline run, still using \"new diffim\" (before the big refactor).\n",
    "\n",
    "* Used weekly `w_2022_46` with default convolution mode\n",
    "* Working directory on USDF with bps logs, pipelines, etc. is `/sdf/group/rubin/user/elhoward/repo-main-logs/DM-35285`\n",
    "* Templates are in `u/mrawls/DM-34711/templates`\n",
    "* Final processing of HSC COSMOS is in `u/elhoward/DM-35285/hsc-output-collection`\n",
    "* Postgres schema is `elhoward_dm35285_hsc_appipewithfakes`\n",
    "\n",
    "For ApPipeWithFakes.yaml:\n",
    "```\n",
    "inCollection: u/mrawls/DM-34711/templates,HSC/raw/RC2/9813,HSC/calib,HSC/masks,refcats,skymaps\n",
    "dataQuery: \"instrument='HSC' AND skymap='hsc_rings_v1' AND band IN ('g', 'r', 'i', 'z', 'y')\"\n",
    "```\n",
    "\n",
    "## Table of Contents\n",
    "\n",
    "1. Loading DiaObjects and DiaSources\n",
    "2. DiaObject and DiaSources analysis\n",
    "3. Comparisons to previous processing run\n",
    "4. Separating the fake sources from the real sources\n",
    "5. Fakes completeness analysis\n",
    "6. Calexp and PSF analysis\n",
    "7. SNR distributions"
   ]
  },
  {
   "cell_type": "code",
   "execution_count": 28,
   "id": "62311997-0d56-4356-8b52-d15aaf723538",
   "metadata": {
    "execution": {
     "iopub.execute_input": "2022-12-12T19:37:04.668191Z",
     "iopub.status.busy": "2022-12-12T19:37:04.667348Z",
     "iopub.status.idle": "2022-12-12T19:37:04.680100Z",
     "shell.execute_reply": "2022-12-12T19:37:04.679570Z",
     "shell.execute_reply.started": "2022-12-12T19:37:04.668169Z"
    },
    "tags": []
   },
   "outputs": [
    {
     "data": {
      "text/plain": [
       "<module 'lsst.analysis.ap.legacyApdbUtils' from '/sdf/group/rubin/u/ebellm/stack/analysis_ap/python/lsst/analysis/ap/legacyApdbUtils.py'>"
      ]
     },
     "execution_count": 28,
     "metadata": {},
     "output_type": "execute_result"
    }
   ],
   "source": [
    "%matplotlib widget\n",
    "\n",
    "import numpy as np\n",
    "import matplotlib.pyplot as plt\n",
    "import importlib\n",
    "import pandas as pd\n",
    "import astropy.units as u\n",
    "import lsst.afw.display as afwDisplay\n",
    "import lsst.geom\n",
    "\n",
    "import lsst.daf.butler as dafButler\n",
    "from lsst.analysis.ap import legacyApdbUtils as utils\n",
    "from lsst.analysis.ap import legacyPlotUtils as plac\n",
    "\n",
    "import warnings\n",
    "warnings.filterwarnings('ignore')\n",
    "warnings.simplefilter('ignore')\n",
    "\n",
    "from IPython.display import Image, display\n",
    "\n",
    "\n",
    "importlib.reload(utils)"
   ]
  },
  {
   "cell_type": "markdown",
   "id": "5b4e64f4",
   "metadata": {},
   "source": [
    "## 1. Loading DiaObjects and DiaSources"
   ]
  },
  {
   "cell_type": "code",
   "execution_count": 2,
   "id": "16a01e6b",
   "metadata": {
    "execution": {
     "iopub.execute_input": "2022-12-12T19:00:34.111410Z",
     "iopub.status.busy": "2022-12-12T19:00:34.111143Z",
     "iopub.status.idle": "2022-12-12T19:00:37.986833Z",
     "shell.execute_reply": "2022-12-12T19:00:37.986169Z",
     "shell.execute_reply.started": "2022-12-12T19:00:34.111389Z"
    },
    "tags": []
   },
   "outputs": [],
   "source": [
    "repo = '/repo/main'\n",
    "butler = dafButler.Butler(repo)\n",
    "instrument = 'HSC'\n",
    "skymap = 'hsc_rings_v1'\n",
    "\n",
    "dbType='postgres'\n",
    "dbName='lsst-devl'\n",
    "\n",
    "collections = 'u/elhoward/DM-35285/hsc-output-collection'\n",
    "schema = 'elhoward_dm35285_hsc_appipewithfakes'\n",
    "month = 'November'\n",
    "year = '2022'\n",
    "\n",
    "collections_old = 'u/smart/DM-36389/hsc-output-collection'\n",
    "schema_old = 'smart_dm36389_hsc_fakes_rerun'\n",
    "month_old = 'October'\n",
    "year_old = '2022'\n",
    "\n",
    "collectionsList = [collections,collections_old]"
   ]
  },
  {
   "cell_type": "code",
   "execution_count": 3,
   "id": "f5289027",
   "metadata": {
    "execution": {
     "iopub.execute_input": "2022-12-12T19:00:38.183482Z",
     "iopub.status.busy": "2022-12-12T19:00:38.182771Z",
     "iopub.status.idle": "2022-12-12T19:01:56.010045Z",
     "shell.execute_reply": "2022-12-12T19:01:56.009374Z",
     "shell.execute_reply.started": "2022-12-12T19:00:38.183460Z"
    },
    "tags": []
   },
   "outputs": [],
   "source": [
    "objTable, srcTable, goodObj, goodSrc = utils.loadTables(repo,\n",
    "                                                        dbName=dbName,\n",
    "                                                        dbType=dbType,\n",
    "                                                        instrument=instrument,\n",
    "                                                        schema=schema)"
   ]
  },
  {
   "cell_type": "code",
   "execution_count": 4,
   "id": "9734e442",
   "metadata": {
    "execution": {
     "iopub.execute_input": "2022-12-12T19:01:56.021677Z",
     "iopub.status.busy": "2022-12-12T19:01:56.021300Z",
     "iopub.status.idle": "2022-12-12T19:02:01.492349Z",
     "shell.execute_reply": "2022-12-12T19:02:01.491624Z",
     "shell.execute_reply.started": "2022-12-12T19:01:56.021660Z"
    },
    "tags": []
   },
   "outputs": [],
   "source": [
    "flagTable, srcTableFlags, flagFilter, goodSrc, goodObj = utils.makeSrcTableFlags(srcTable, objTable,\n",
    "                                                                                 instrument=instrument,\n",
    "                                                                                 repo=repo)"
   ]
  },
  {
   "cell_type": "code",
   "execution_count": 5,
   "id": "017c8ef3-3a23-4858-a00a-036ac8fa9ffb",
   "metadata": {
    "execution": {
     "iopub.execute_input": "2022-12-12T19:03:03.268375Z",
     "iopub.status.busy": "2022-12-12T19:03:03.267987Z",
     "iopub.status.idle": "2022-12-12T19:03:03.271355Z",
     "shell.execute_reply": "2022-12-12T19:03:03.270797Z",
     "shell.execute_reply.started": "2022-12-12T19:03:03.268354Z"
    },
    "tags": []
   },
   "outputs": [],
   "source": [
    "#objTable_old, srcTable_old, goodObj_old, goodSrc_old = utils.loadTables(repo,\n",
    "#                                                                        dbName=dbName,\n",
    "#                                                                        dbType=dbType,\n",
    "#                                                                        instrument=instrument,\n",
    "#                                                                        schema=schema_old)"
   ]
  },
  {
   "cell_type": "code",
   "execution_count": 6,
   "id": "6dea332c-756d-4373-a736-f016924f0e1d",
   "metadata": {
    "execution": {
     "iopub.execute_input": "2022-12-12T19:03:03.482834Z",
     "iopub.status.busy": "2022-12-12T19:03:03.482630Z",
     "iopub.status.idle": "2022-12-12T19:03:03.485781Z",
     "shell.execute_reply": "2022-12-12T19:03:03.485247Z",
     "shell.execute_reply.started": "2022-12-12T19:03:03.482817Z"
    },
    "tags": []
   },
   "outputs": [],
   "source": [
    "#flagTable_old, srcTableFlags_old, flagFilter_old, goodSrc_old, goodObj_old = utils.makeSrcTableFlags(srcTable_old, objTable_old,\n",
    "#                                                                                                     instrument=instrument,\n",
    "#                                                                                                     repo=repo)"
   ]
  },
  {
   "cell_type": "code",
   "execution_count": 7,
   "id": "02702bd6-668a-4d68-9bac-04ba3d6db761",
   "metadata": {
    "execution": {
     "iopub.execute_input": "2022-12-12T19:03:24.381168Z",
     "iopub.status.busy": "2022-12-12T19:03:24.380781Z",
     "iopub.status.idle": "2022-12-12T19:03:24.385497Z",
     "shell.execute_reply": "2022-12-12T19:03:24.384952Z",
     "shell.execute_reply.started": "2022-12-12T19:03:24.381146Z"
    }
   },
   "outputs": [
    {
     "data": {
      "text/plain": [
       "Index(['diaObjectId', 'ra', 'decl', 'nDiaSources', 'gPSFluxMean',\n",
       "       'rPSFluxMean', 'iPSFluxMean', 'zPSFluxMean', 'yPSFluxMean',\n",
       "       'validityEnd', 'flags'],\n",
       "      dtype='object')"
      ]
     },
     "execution_count": 7,
     "metadata": {},
     "output_type": "execute_result"
    }
   ],
   "source": [
    "objTable.columns"
   ]
  },
  {
   "cell_type": "markdown",
   "id": "8283a026-71d7-4d34-a3dc-e55999b5ef92",
   "metadata": {},
   "source": [
    "## test writing raw SQL queries to the APDB"
   ]
  },
  {
   "cell_type": "markdown",
   "id": "3c5922d6-3f4b-4462-912c-353509e9d3d5",
   "metadata": {},
   "source": [
    "the legacy utils only give us a few columns.  Raw sql time"
   ]
  },
  {
   "cell_type": "code",
   "execution_count": 9,
   "id": "7af4f0dd-8adc-485a-9186-be133e67a32a",
   "metadata": {
    "execution": {
     "iopub.execute_input": "2022-12-12T19:12:29.904324Z",
     "iopub.status.busy": "2022-12-12T19:12:29.903935Z",
     "iopub.status.idle": "2022-12-12T19:12:29.927202Z",
     "shell.execute_reply": "2022-12-12T19:12:29.926611Z",
     "shell.execute_reply.started": "2022-12-12T19:12:29.904303Z"
    },
    "tags": []
   },
   "outputs": [],
   "source": [
    "with utils.connectToApdb(dbName, dbType=dbType, schema=schema) as connection:\n",
    "     testTable = pd.read_sql_query('select \"diaObjectId\", \"ra\", \"decl\", \"nDiaSources\", \\\n",
    "                                    \"gPSFluxMean\", \"rPSFluxMean\", \"iPSFluxMean\", \\\n",
    "                                    \"zPSFluxMean\", \"yPSFluxMean\", \"validityEnd\", \"flags\" from {0} \\\n",
    "                                    where \"validityEnd\" is NULL LIMIT 100;'.format('\"DiaObject\"'), connection)"
   ]
  },
  {
   "cell_type": "code",
   "execution_count": 10,
   "id": "2fb6f247-b1fe-42df-87ee-b807bb187166",
   "metadata": {
    "execution": {
     "iopub.execute_input": "2022-12-12T19:12:35.548005Z",
     "iopub.status.busy": "2022-12-12T19:12:35.547619Z",
     "iopub.status.idle": "2022-12-12T19:12:35.561869Z",
     "shell.execute_reply": "2022-12-12T19:12:35.561317Z",
     "shell.execute_reply.started": "2022-12-12T19:12:35.547985Z"
    }
   },
   "outputs": [
    {
     "data": {
      "text/html": [
       "<div>\n",
       "<style scoped>\n",
       "    .dataframe tbody tr th:only-of-type {\n",
       "        vertical-align: middle;\n",
       "    }\n",
       "\n",
       "    .dataframe tbody tr th {\n",
       "        vertical-align: top;\n",
       "    }\n",
       "\n",
       "    .dataframe thead th {\n",
       "        text-align: right;\n",
       "    }\n",
       "</style>\n",
       "<table border=\"1\" class=\"dataframe\">\n",
       "  <thead>\n",
       "    <tr style=\"text-align: right;\">\n",
       "      <th></th>\n",
       "      <th>diaObjectId</th>\n",
       "      <th>ra</th>\n",
       "      <th>decl</th>\n",
       "      <th>nDiaSources</th>\n",
       "      <th>gPSFluxMean</th>\n",
       "      <th>rPSFluxMean</th>\n",
       "      <th>iPSFluxMean</th>\n",
       "      <th>zPSFluxMean</th>\n",
       "      <th>yPSFluxMean</th>\n",
       "      <th>validityEnd</th>\n",
       "      <th>flags</th>\n",
       "    </tr>\n",
       "  </thead>\n",
       "  <tbody>\n",
       "    <tr>\n",
       "      <th>0</th>\n",
       "      <td>9717926147916312</td>\n",
       "      <td>150.874729</td>\n",
       "      <td>2.350798</td>\n",
       "      <td>1</td>\n",
       "      <td>None</td>\n",
       "      <td>NaN</td>\n",
       "      <td>NaN</td>\n",
       "      <td>NaN</td>\n",
       "      <td>1232.587926</td>\n",
       "      <td>None</td>\n",
       "      <td>1</td>\n",
       "    </tr>\n",
       "    <tr>\n",
       "      <th>1</th>\n",
       "      <td>9732546216591920</td>\n",
       "      <td>150.873182</td>\n",
       "      <td>2.356089</td>\n",
       "      <td>2</td>\n",
       "      <td>None</td>\n",
       "      <td>NaN</td>\n",
       "      <td>NaN</td>\n",
       "      <td>NaN</td>\n",
       "      <td>4448.875247</td>\n",
       "      <td>None</td>\n",
       "      <td>1</td>\n",
       "    </tr>\n",
       "    <tr>\n",
       "      <th>2</th>\n",
       "      <td>13092018095915533</td>\n",
       "      <td>150.871356</td>\n",
       "      <td>2.379869</td>\n",
       "      <td>2</td>\n",
       "      <td>None</td>\n",
       "      <td>NaN</td>\n",
       "      <td>-475.086307</td>\n",
       "      <td>NaN</td>\n",
       "      <td>1309.996970</td>\n",
       "      <td>None</td>\n",
       "      <td>1</td>\n",
       "    </tr>\n",
       "    <tr>\n",
       "      <th>3</th>\n",
       "      <td>5039847769113514</td>\n",
       "      <td>150.870091</td>\n",
       "      <td>2.387772</td>\n",
       "      <td>2</td>\n",
       "      <td>None</td>\n",
       "      <td>NaN</td>\n",
       "      <td>NaN</td>\n",
       "      <td>NaN</td>\n",
       "      <td>3266.279123</td>\n",
       "      <td>None</td>\n",
       "      <td>1</td>\n",
       "    </tr>\n",
       "    <tr>\n",
       "      <th>4</th>\n",
       "      <td>521529288820947</td>\n",
       "      <td>150.535431</td>\n",
       "      <td>2.287965</td>\n",
       "      <td>2</td>\n",
       "      <td>None</td>\n",
       "      <td>-35.908517</td>\n",
       "      <td>NaN</td>\n",
       "      <td>NaN</td>\n",
       "      <td>NaN</td>\n",
       "      <td>None</td>\n",
       "      <td>1</td>\n",
       "    </tr>\n",
       "    <tr>\n",
       "      <th>...</th>\n",
       "      <td>...</td>\n",
       "      <td>...</td>\n",
       "      <td>...</td>\n",
       "      <td>...</td>\n",
       "      <td>...</td>\n",
       "      <td>...</td>\n",
       "      <td>...</td>\n",
       "      <td>...</td>\n",
       "      <td>...</td>\n",
       "      <td>...</td>\n",
       "      <td>...</td>\n",
       "    </tr>\n",
       "    <tr>\n",
       "      <th>95</th>\n",
       "      <td>13096334538049410</td>\n",
       "      <td>150.473572</td>\n",
       "      <td>2.285980</td>\n",
       "      <td>1</td>\n",
       "      <td>None</td>\n",
       "      <td>NaN</td>\n",
       "      <td>288.237223</td>\n",
       "      <td>NaN</td>\n",
       "      <td>NaN</td>\n",
       "      <td>None</td>\n",
       "      <td>1</td>\n",
       "    </tr>\n",
       "    <tr>\n",
       "      <th>96</th>\n",
       "      <td>9720528898097643</td>\n",
       "      <td>150.080724</td>\n",
       "      <td>2.534144</td>\n",
       "      <td>1</td>\n",
       "      <td>None</td>\n",
       "      <td>NaN</td>\n",
       "      <td>NaN</td>\n",
       "      <td>NaN</td>\n",
       "      <td>1090.874994</td>\n",
       "      <td>None</td>\n",
       "      <td>1</td>\n",
       "    </tr>\n",
       "    <tr>\n",
       "      <th>97</th>\n",
       "      <td>9717926147916382</td>\n",
       "      <td>150.865334</td>\n",
       "      <td>2.394468</td>\n",
       "      <td>1</td>\n",
       "      <td>None</td>\n",
       "      <td>NaN</td>\n",
       "      <td>NaN</td>\n",
       "      <td>NaN</td>\n",
       "      <td>1315.665263</td>\n",
       "      <td>None</td>\n",
       "      <td>1</td>\n",
       "    </tr>\n",
       "    <tr>\n",
       "      <th>98</th>\n",
       "      <td>9717926147916383</td>\n",
       "      <td>150.865115</td>\n",
       "      <td>2.396599</td>\n",
       "      <td>1</td>\n",
       "      <td>None</td>\n",
       "      <td>NaN</td>\n",
       "      <td>NaN</td>\n",
       "      <td>NaN</td>\n",
       "      <td>1363.965705</td>\n",
       "      <td>None</td>\n",
       "      <td>1</td>\n",
       "    </tr>\n",
       "    <tr>\n",
       "      <th>99</th>\n",
       "      <td>9717926147916384</td>\n",
       "      <td>150.864967</td>\n",
       "      <td>2.404326</td>\n",
       "      <td>1</td>\n",
       "      <td>None</td>\n",
       "      <td>NaN</td>\n",
       "      <td>NaN</td>\n",
       "      <td>NaN</td>\n",
       "      <td>1321.119585</td>\n",
       "      <td>None</td>\n",
       "      <td>1</td>\n",
       "    </tr>\n",
       "  </tbody>\n",
       "</table>\n",
       "<p>100 rows × 11 columns</p>\n",
       "</div>"
      ],
      "text/plain": [
       "          diaObjectId          ra      decl  nDiaSources gPSFluxMean  \\\n",
       "0    9717926147916312  150.874729  2.350798            1        None   \n",
       "1    9732546216591920  150.873182  2.356089            2        None   \n",
       "2   13092018095915533  150.871356  2.379869            2        None   \n",
       "3    5039847769113514  150.870091  2.387772            2        None   \n",
       "4     521529288820947  150.535431  2.287965            2        None   \n",
       "..                ...         ...       ...          ...         ...   \n",
       "95  13096334538049410  150.473572  2.285980            1        None   \n",
       "96   9720528898097643  150.080724  2.534144            1        None   \n",
       "97   9717926147916382  150.865334  2.394468            1        None   \n",
       "98   9717926147916383  150.865115  2.396599            1        None   \n",
       "99   9717926147916384  150.864967  2.404326            1        None   \n",
       "\n",
       "    rPSFluxMean  iPSFluxMean  zPSFluxMean  yPSFluxMean validityEnd  flags  \n",
       "0           NaN          NaN          NaN  1232.587926        None      1  \n",
       "1           NaN          NaN          NaN  4448.875247        None      1  \n",
       "2           NaN  -475.086307          NaN  1309.996970        None      1  \n",
       "3           NaN          NaN          NaN  3266.279123        None      1  \n",
       "4    -35.908517          NaN          NaN          NaN        None      1  \n",
       "..          ...          ...          ...          ...         ...    ...  \n",
       "95          NaN   288.237223          NaN          NaN        None      1  \n",
       "96          NaN          NaN          NaN  1090.874994        None      1  \n",
       "97          NaN          NaN          NaN  1315.665263        None      1  \n",
       "98          NaN          NaN          NaN  1363.965705        None      1  \n",
       "99          NaN          NaN          NaN  1321.119585        None      1  \n",
       "\n",
       "[100 rows x 11 columns]"
      ]
     },
     "execution_count": 10,
     "metadata": {},
     "output_type": "execute_result"
    }
   ],
   "source": [
    "testTable"
   ]
  },
  {
   "cell_type": "code",
   "execution_count": 67,
   "id": "c7310412-1335-462c-bd69-68380f072b6a",
   "metadata": {
    "execution": {
     "iopub.execute_input": "2022-12-12T21:26:30.565144Z",
     "iopub.status.busy": "2022-12-12T21:26:30.564763Z",
     "iopub.status.idle": "2022-12-12T21:26:30.570453Z",
     "shell.execute_reply": "2022-12-12T21:26:30.569952Z",
     "shell.execute_reply.started": "2022-12-12T21:26:30.565125Z"
    },
    "tags": []
   },
   "outputs": [
    {
     "data": {
      "text/plain": [
       "0     None\n",
       "1     None\n",
       "2     None\n",
       "3     None\n",
       "4     None\n",
       "      ... \n",
       "95    None\n",
       "96    None\n",
       "97    None\n",
       "98    None\n",
       "99    None\n",
       "Name: gPSFluxMean, Length: 100, dtype: object"
      ]
     },
     "execution_count": 67,
     "metadata": {},
     "output_type": "execute_result"
    }
   ],
   "source": [
    "testTable.loc[testTable['gPSFluxMean'].isna(),'gPSFluxMean']"
   ]
  },
  {
   "cell_type": "code",
   "execution_count": 87,
   "id": "da85034a-c002-465d-b80d-b74a0aef428e",
   "metadata": {
    "execution": {
     "iopub.execute_input": "2022-12-12T22:18:56.264759Z",
     "iopub.status.busy": "2022-12-12T22:18:56.264506Z",
     "iopub.status.idle": "2022-12-12T22:18:56.755024Z",
     "shell.execute_reply": "2022-12-12T22:18:56.754349Z",
     "shell.execute_reply.started": "2022-12-12T22:18:56.264740Z"
    },
    "tags": []
   },
   "outputs": [
    {
     "name": "stdout",
     "output_type": "stream",
     "text": [
      "     count\n",
      "0  2450334\n"
     ]
    }
   ],
   "source": [
    "with utils.connectToApdb(dbName, dbType=dbType, schema=schema) as connection:\n",
    "    print(pd.read_sql_query('select count(\"diaObjectId\") from \"DiaObject\" where \"validityEnd\" is NULL', connection))"
   ]
  },
  {
   "cell_type": "code",
   "execution_count": 15,
   "id": "049fa629-fb11-4b00-a73c-8593d4e78912",
   "metadata": {
    "execution": {
     "iopub.execute_input": "2022-12-12T19:16:29.940162Z",
     "iopub.status.busy": "2022-12-12T19:16:29.939848Z",
     "iopub.status.idle": "2022-12-12T19:16:31.750200Z",
     "shell.execute_reply": "2022-12-12T19:16:31.749546Z",
     "shell.execute_reply.started": "2022-12-12T19:16:29.940141Z"
    }
   },
   "outputs": [
    {
     "name": "stdout",
     "output_type": "stream",
     "text": [
      "     count\n",
      "0  5007735\n"
     ]
    }
   ],
   "source": [
    "with utils.connectToApdb(dbName, dbType=dbType, schema=schema) as connection:\n",
    "    print(pd.read_sql_query('select count(\"diaSourceId\") from \"DiaSource\"', connection))"
   ]
  },
  {
   "cell_type": "code",
   "execution_count": 19,
   "id": "9217f6fc-03d8-4456-af64-91153338743c",
   "metadata": {
    "execution": {
     "iopub.execute_input": "2022-12-12T19:20:01.635120Z",
     "iopub.status.busy": "2022-12-12T19:20:01.634817Z",
     "iopub.status.idle": "2022-12-12T19:20:01.659571Z",
     "shell.execute_reply": "2022-12-12T19:20:01.658997Z",
     "shell.execute_reply.started": "2022-12-12T19:20:01.635100Z"
    },
    "tags": []
   },
   "outputs": [
    {
     "name": "stdout",
     "output_type": "stream",
     "text": [
      "['diaSourceId', 'ccdVisitId', 'diaObjectId', 'ssObjectId', 'parentDiaSourceId', 'prv_procOrder', 'ssObjectReassocTime', 'midPointTai', 'ra', 'raErr', 'decl', 'declErr', 'ra_decl_Cov', 'x', 'xErr', 'y', 'yErr', 'x_y_Cov', 'apFlux', 'apFluxErr', 'snr', 'psFlux', 'psFluxErr', 'psRa', 'psRaErr', 'psDecl', 'psDeclErr', 'psFlux_psRa_Cov', 'psFlux_psDecl_Cov', 'psRa_psDecl_Cov', 'psLnL', 'psChi2', 'psNdata', 'trailFlux', 'trailFluxErr', 'trailRa', 'trailRaErr', 'trailDecl', 'trailDeclErr', 'trailLength', 'trailLengthErr', 'trailAngle', 'trailAngleErr', 'trailFlux_trailRa_Cov', 'trailFlux_trailDecl_Cov', 'trailFlux_trailLength_Cov', 'trailFlux_trailAngle_Cov', 'trailRa_trailDecl_Cov', 'trailRa_trailLength_Cov', 'trailRa_trailAngle_Cov', 'trailDecl_trailLength_Cov', 'trailDecl_trailAngle_Cov', 'trailLength_trailAngle_Cov', 'trailLnL', 'trailChi2', 'trailNdata', 'dipMeanFlux', 'dipMeanFluxErr', 'dipFluxDiff', 'dipFluxDiffErr', 'dipRa', 'dipRaErr', 'dipDecl', 'dipDeclErr', 'dipLength', 'dipLengthErr', 'dipAngle', 'dipAngleErr', 'dipMeanFlux_dipFluxDiff_Cov', 'dipMeanFlux_dipRa_Cov', 'dipMeanFlux_dipDecl_Cov', 'dipMeanFlux_dipLength_Cov', 'dipMeanFlux_dipAngle_Cov', 'dipFluxDiff_dipRa_Cov', 'dipFluxDiff_dipDecl_Cov', 'dipFluxDiff_dipLength_Cov', 'dipFluxDiff_dipAngle_Cov', 'dipRa_dipDecl_Cov', 'dipRa_dipLength_Cov', 'dipRa_dipAngle_Cov', 'dipDecl_dipLength_Cov', 'dipDecl_dipAngle_Cov', 'dipLength_dipAngle_Cov', 'dipLnL', 'dipChi2', 'dipNdata', 'totFlux', 'totFluxErr', 'diffFlux', 'diffFluxErr', 'fpBkgd', 'fpBkgdErr', 'ixx', 'ixxErr', 'iyy', 'iyyErr', 'ixy', 'ixyErr', 'ixx_iyy_Cov', 'ixx_ixy_Cov', 'iyy_ixy_Cov', 'ixxPSF', 'iyyPSF', 'ixyPSF', 'extendedness', 'spuriousness', 'flags', 'filterName', 'isDipole', 'bboxSize', 'pixelId']\n"
     ]
    }
   ],
   "source": [
    "with utils.connectToApdb(dbName, dbType=dbType, schema=schema) as connection:\n",
    "    print(pd.read_sql_query('select * from \"DiaSource\" LIMIT 1', connection).columns.to_list())"
   ]
  },
  {
   "cell_type": "markdown",
   "id": "01979b3a-85e1-406a-94a4-6a19fb9be987",
   "metadata": {},
   "source": [
    "this appears to be all of the columns in [sdm_schemas.apdb.yaml](https://github.com/lsst/sdm_schemas/blob/main/yml/apdb.yaml) even though they are not all populated at present by [ap_association](https://github.com/lsst/ap_association/blob/main/data/DiaSource.yaml)"
   ]
  },
  {
   "cell_type": "code",
   "execution_count": 20,
   "id": "b52936d8-8653-47f9-afd2-0caf20b765d2",
   "metadata": {
    "execution": {
     "iopub.execute_input": "2022-12-12T19:23:38.477835Z",
     "iopub.status.busy": "2022-12-12T19:23:38.477158Z",
     "iopub.status.idle": "2022-12-12T19:23:38.502681Z",
     "shell.execute_reply": "2022-12-12T19:23:38.502051Z",
     "shell.execute_reply.started": "2022-12-12T19:23:38.477812Z"
    }
   },
   "outputs": [
    {
     "name": "stdout",
     "output_type": "stream",
     "text": [
      "['diaObjectId', 'validityStart', 'validityEnd', 'ra', 'raErr', 'decl', 'declErr', 'ra_decl_Cov', 'radecTai', 'pmRa', 'pmRaErr', 'pmDecl', 'pmDeclErr', 'parallax', 'parallaxErr', 'pmRa_pmDecl_Cov', 'pmRa_parallax_Cov', 'pmDecl_parallax_Cov', 'pmParallaxLnL', 'pmParallaxChi2', 'pmParallaxNdata', 'uPSFluxMean', 'uPSFluxMeanErr', 'uPSFluxSigma', 'uPSFluxChi2', 'uPSFluxNdata', 'uFPFluxMean', 'uFPFluxMeanErr', 'uFPFluxSigma', 'gPSFluxMean', 'gPSFluxMeanErr', 'gPSFluxSigma', 'gPSFluxChi2', 'gPSFluxNdata', 'gFPFluxMean', 'gFPFluxMeanErr', 'gFPFluxSigma', 'rPSFluxMean', 'rPSFluxMeanErr', 'rPSFluxSigma', 'rPSFluxChi2', 'rPSFluxNdata', 'rFPFluxMean', 'rFPFluxMeanErr', 'rFPFluxSigma', 'iPSFluxMean', 'iPSFluxMeanErr', 'iPSFluxSigma', 'iPSFluxChi2', 'iPSFluxNdata', 'iFPFluxMean', 'iFPFluxMeanErr', 'iFPFluxSigma', 'zPSFluxMean', 'zPSFluxMeanErr', 'zPSFluxSigma', 'zPSFluxChi2', 'zPSFluxNdata', 'zFPFluxMean', 'zFPFluxMeanErr', 'zFPFluxSigma', 'yPSFluxMean', 'yPSFluxMeanErr', 'yPSFluxSigma', 'yPSFluxChi2', 'yPSFluxNdata', 'yFPFluxMean', 'yFPFluxMeanErr', 'yFPFluxSigma', 'uLcPeriodic', 'gLcPeriodic', 'rLcPeriodic', 'iLcPeriodic', 'zLcPeriodic', 'yLcPeriodic', 'uLcNonPeriodic', 'gLcNonPeriodic', 'rLcNonPeriodic', 'iLcNonPeriodic', 'zLcNonPeriodic', 'yLcNonPeriodic', 'nearbyObj1', 'nearbyObj1Dist', 'nearbyObj1LnP', 'nearbyObj2', 'nearbyObj2Dist', 'nearbyObj2LnP', 'nearbyObj3', 'nearbyObj3Dist', 'nearbyObj3LnP', 'nearbyExtObj1', 'nearbyExtObj1Sep', 'nearbyExtObj2', 'nearbyExtObj2Sep', 'nearbyExtObj3', 'nearbyExtObj3Sep', 'nearbyLowzGal', 'nearbyLowzGalSep', 'uTOTFluxMean', 'uTOTFluxMeanErr', 'uTOTFluxSigma', 'gTOTFluxMean', 'gTOTFluxMeanErr', 'gTOTFluxSigma', 'rTOTFluxMean', 'rTOTFluxMeanErr', 'rTOTFluxSigma', 'iTOTFluxMean', 'iTOTFluxMeanErr', 'iTOTFluxSigma', 'zTOTFluxMean', 'zTOTFluxMeanErr', 'zTOTFluxSigma', 'yTOTFluxMean', 'yTOTFluxMeanErr', 'yTOTFluxSigma', 'uPSFluxMAD', 'uPSFluxSkew', 'uPSFluxPercentile05', 'uPSFluxPercentile25', 'uPSFluxPercentile50', 'uPSFluxPercentile75', 'uPSFluxPercentile95', 'uPSFluxMin', 'uPSFluxMax', 'uPSFluxStetsonJ', 'uPSFluxLinearSlope', 'uPSFluxLinearIntercept', 'uPSFluxMaxSlope', 'uPSFluxErrMean', 'gPSFluxMAD', 'gPSFluxSkew', 'gPSFluxPercentile05', 'gPSFluxPercentile25', 'gPSFluxPercentile50', 'gPSFluxPercentile75', 'gPSFluxPercentile95', 'gPSFluxMin', 'gPSFluxMax', 'gPSFluxStetsonJ', 'gPSFluxLinearSlope', 'gPSFluxLinearIntercept', 'gPSFluxMaxSlope', 'gPSFluxErrMean', 'rPSFluxMAD', 'rPSFluxSkew', 'rPSFluxPercentile05', 'rPSFluxPercentile25', 'rPSFluxPercentile50', 'rPSFluxPercentile75', 'rPSFluxPercentile95', 'rPSFluxMin', 'rPSFluxMax', 'rPSFluxStetsonJ', 'rPSFluxLinearSlope', 'rPSFluxLinearIntercept', 'rPSFluxMaxSlope', 'rPSFluxErrMean', 'iPSFluxMAD', 'iPSFluxSkew', 'iPSFluxPercentile05', 'iPSFluxPercentile25', 'iPSFluxPercentile50', 'iPSFluxPercentile75', 'iPSFluxPercentile95', 'iPSFluxMin', 'iPSFluxMax', 'iPSFluxStetsonJ', 'iPSFluxLinearSlope', 'iPSFluxLinearIntercept', 'iPSFluxMaxSlope', 'iPSFluxErrMean', 'zPSFluxMAD', 'zPSFluxSkew', 'zPSFluxPercentile05', 'zPSFluxPercentile25', 'zPSFluxPercentile50', 'zPSFluxPercentile75', 'zPSFluxPercentile95', 'zPSFluxMin', 'zPSFluxMax', 'zPSFluxStetsonJ', 'zPSFluxLinearSlope', 'zPSFluxLinearIntercept', 'zPSFluxMaxSlope', 'zPSFluxErrMean', 'yPSFluxMAD', 'yPSFluxSkew', 'yPSFluxPercentile05', 'yPSFluxPercentile25', 'yPSFluxPercentile50', 'yPSFluxPercentile75', 'yPSFluxPercentile95', 'yPSFluxMin', 'yPSFluxMax', 'yPSFluxStetsonJ', 'yPSFluxLinearSlope', 'yPSFluxLinearIntercept', 'yPSFluxMaxSlope', 'yPSFluxErrMean', 'flags', 'lastNonForcedSource', 'nDiaSources', 'pixelId']\n"
     ]
    }
   ],
   "source": [
    "with utils.connectToApdb(dbName, dbType=dbType, schema=schema) as connection:\n",
    "    print(pd.read_sql_query('select * from \"DiaObject\" LIMIT 1', connection).columns.to_list())"
   ]
  },
  {
   "cell_type": "markdown",
   "id": "1d88ab84-42fc-4031-a202-94827fade3a8",
   "metadata": {},
   "source": [
    "## Try to select Variable Sources\n",
    "\n",
    "We want to make this selection without having to load all of the DIASource lightcurves.  So we need to make use of the DIAObject summary statistics.  \n",
    "\n",
    "One question is what flag propagation we have up from the individual DIASources.  Per [this link](https://github.com/lsst/meas_base/blob/26961ef6c7a3bd91c4b40a0307c740244fea775e/python/lsst/meas/base/diaCalculationPlugins.py#L228) it looks like we do have flagging propagated up (if any flag is set it sets the DIAObject flag?)"
   ]
  },
  {
   "cell_type": "markdown",
   "id": "af6ef77a-97f5-4f78-af3d-c4bfb28063fe",
   "metadata": {},
   "source": [
    "How do we define a variable source?  \n",
    "\n",
    "* has a template counterpart ⇒ totflux > 0 catches both galaxies and variable stars. \n",
    "\n",
    "Would be good to have a PSF measure, but the eventual DRP crossmatch will handle this\n",
    "\n",
    "* can also select for amplitudes (both positive and negative DIA flux amplitudes is too conservative but would find variables)\n",
    "\n",
    "How do we make sure they are good?\n",
    "\n",
    "* individual DIASource chisqr, RB score, flags, etc...  expensive to look up one by one"
   ]
  },
  {
   "cell_type": "code",
   "execution_count": 71,
   "id": "9220abde-be56-444e-85c6-0c8174247b7c",
   "metadata": {
    "execution": {
     "iopub.execute_input": "2022-12-12T21:34:19.973619Z",
     "iopub.status.busy": "2022-12-12T21:34:19.973229Z",
     "iopub.status.idle": "2022-12-12T21:34:21.162287Z",
     "shell.execute_reply": "2022-12-12T21:34:21.161600Z",
     "shell.execute_reply.started": "2022-12-12T21:34:19.973599Z"
    },
    "tags": []
   },
   "outputs": [
    {
     "name": "stdout",
     "output_type": "stream",
     "text": [
      "select max(\"uPSFluxNdata\"), max(\"gPSFluxNdata\"), max(\"rPSFluxNdata\"), max(\"iPSFluxNdata\"), max(\"zPSFluxNdata\"), max(\"yPSFluxNdata\") from \"DiaObject\" LIMIT 10\n",
      "   max  max  max  max  max  max\n",
      "0    0    3   16   33   31   51\n"
     ]
    }
   ],
   "source": [
    "bands = ['u','g','r','i','z','y']\n",
    "base_cols = ['PSFluxNdata']\n",
    "\n",
    "cols_to_return = []\n",
    "\n",
    "for col in base_cols:\n",
    "    for band in bands:\n",
    "        cols_to_return.append(f'max(\"{band}{col}\")')\n",
    "\n",
    "#query = f'select \"diaObjectId\", {\", \".join(cols_to_return)} from \"DiaObject\" LIMIT 10'\n",
    "query = f'select {\", \".join(cols_to_return)} from \"DiaObject\" LIMIT 10'\n",
    "\n",
    "print(query)\n",
    "\n",
    "with utils.connectToApdb(dbName, dbType=dbType, schema=schema) as connection:\n",
    "    print(pd.read_sql_query(query, connection))"
   ]
  },
  {
   "cell_type": "code",
   "execution_count": 112,
   "id": "a529518e-047a-4c9d-9bdd-32c50f5ae887",
   "metadata": {
    "execution": {
     "iopub.execute_input": "2022-12-12T22:34:34.956871Z",
     "iopub.status.busy": "2022-12-12T22:34:34.956615Z",
     "iopub.status.idle": "2022-12-12T22:34:37.196262Z",
     "shell.execute_reply": "2022-12-12T22:34:37.195627Z",
     "shell.execute_reply.started": "2022-12-12T22:34:34.956851Z"
    },
    "tags": []
   },
   "outputs": [
    {
     "name": "stdout",
     "output_type": "stream",
     "text": [
      "select * from \"DiaObject\" where \n",
      "    (\"nDiaSources\" > 30) and \n",
      "    (((\"uPSFluxMin\" < 0) and (\"uPSFluxMax\" > 0)) or ((\"gPSFluxMin\" < 0) and (\"gPSFluxMax\" > 0)) or ((\"rPSFluxMin\" < 0) and (\"rPSFluxMax\" > 0)) or ((\"iPSFluxMin\" < 0) and (\"iPSFluxMax\" > 0)) or ((\"zPSFluxMin\" < 0) and (\"zPSFluxMax\" > 0)) or ((\"yPSFluxMin\" < 0) and (\"yPSFluxMax\" > 0))) \n",
      "     and \"validityEnd\" is NULL\n",
      "    ORDER BY \"rPSFluxStetsonJ\" limit 1000\n",
      "    ;\n"
     ]
    }
   ],
   "source": [
    "\n",
    "\n",
    "minmax_where = [f'((\"{band}PSFluxMin\" < 0) and (\"{band}PSFluxMax\" > 0))' for band in bands]\n",
    "#query = f\"\"\"select count(\"diaObjectId\") from \"DiaObject\" where \n",
    "query = f\"\"\"select * from \"DiaObject\" where \n",
    "    (\"nDiaSources\" > 30) and \n",
    "    ({\" or \".join(minmax_where)}) \n",
    "     and \"validityEnd\" is NULL\n",
    "    ORDER BY \"rPSFluxStetsonJ\" limit 1000\n",
    "    ;\"\"\"\n",
    "\n",
    "#    and flags>1  # returns nothing\n",
    "\n",
    "\n",
    "print(query)\n",
    "\n",
    "with utils.connectToApdb(dbName, dbType=dbType, schema=schema) as connection:\n",
    "    variable_sample_diao = pd.read_sql_query(query, connection)"
   ]
  },
  {
   "cell_type": "code",
   "execution_count": 113,
   "id": "5b1c7cd1-1b52-42c2-affe-9d5c3be32a1e",
   "metadata": {
    "execution": {
     "iopub.execute_input": "2022-12-12T22:34:37.213532Z",
     "iopub.status.busy": "2022-12-12T22:34:37.213103Z",
     "iopub.status.idle": "2022-12-12T22:34:37.264115Z",
     "shell.execute_reply": "2022-12-12T22:34:37.263563Z",
     "shell.execute_reply.started": "2022-12-12T22:34:37.213514Z"
    },
    "tags": []
   },
   "outputs": [
    {
     "data": {
      "text/html": [
       "<div>\n",
       "<style scoped>\n",
       "    .dataframe tbody tr th:only-of-type {\n",
       "        vertical-align: middle;\n",
       "    }\n",
       "\n",
       "    .dataframe tbody tr th {\n",
       "        vertical-align: top;\n",
       "    }\n",
       "\n",
       "    .dataframe thead th {\n",
       "        text-align: right;\n",
       "    }\n",
       "</style>\n",
       "<table border=\"1\" class=\"dataframe\">\n",
       "  <thead>\n",
       "    <tr style=\"text-align: right;\">\n",
       "      <th></th>\n",
       "      <th>diaObjectId</th>\n",
       "      <th>validityStart</th>\n",
       "      <th>validityEnd</th>\n",
       "      <th>ra</th>\n",
       "      <th>raErr</th>\n",
       "      <th>decl</th>\n",
       "      <th>declErr</th>\n",
       "      <th>ra_decl_Cov</th>\n",
       "      <th>radecTai</th>\n",
       "      <th>pmRa</th>\n",
       "      <th>...</th>\n",
       "      <th>yPSFluxMax</th>\n",
       "      <th>yPSFluxStetsonJ</th>\n",
       "      <th>yPSFluxLinearSlope</th>\n",
       "      <th>yPSFluxLinearIntercept</th>\n",
       "      <th>yPSFluxMaxSlope</th>\n",
       "      <th>yPSFluxErrMean</th>\n",
       "      <th>flags</th>\n",
       "      <th>lastNonForcedSource</th>\n",
       "      <th>nDiaSources</th>\n",
       "      <th>pixelId</th>\n",
       "    </tr>\n",
       "  </thead>\n",
       "  <tbody>\n",
       "    <tr>\n",
       "      <th>0</th>\n",
       "      <td>8443991603282714</td>\n",
       "      <td>2015-05-21 06:38:55.891500</td>\n",
       "      <td>None</td>\n",
       "      <td>150.498146</td>\n",
       "      <td>None</td>\n",
       "      <td>2.087375</td>\n",
       "      <td>None</td>\n",
       "      <td>None</td>\n",
       "      <td>57163.296292</td>\n",
       "      <td>None</td>\n",
       "      <td>...</td>\n",
       "      <td>-1791.663927</td>\n",
       "      <td>0.441361</td>\n",
       "      <td>1.017018</td>\n",
       "      <td>-6.022418e+04</td>\n",
       "      <td>9.742968e+05</td>\n",
       "      <td>340.353759</td>\n",
       "      <td>1</td>\n",
       "      <td>2015-05-21 06:38:55.891500</td>\n",
       "      <td>31</td>\n",
       "      <td>15559756459607</td>\n",
       "    </tr>\n",
       "    <tr>\n",
       "      <th>1</th>\n",
       "      <td>5037229986546173</td>\n",
       "      <td>2015-01-16 14:39:46.833500</td>\n",
       "      <td>None</td>\n",
       "      <td>149.821674</td>\n",
       "      <td>None</td>\n",
       "      <td>2.076510</td>\n",
       "      <td>None</td>\n",
       "      <td>None</td>\n",
       "      <td>57163.296292</td>\n",
       "      <td>None</td>\n",
       "      <td>...</td>\n",
       "      <td>2080.322177</td>\n",
       "      <td>23.225268</td>\n",
       "      <td>-0.453137</td>\n",
       "      <td>2.276681e+04</td>\n",
       "      <td>1.862307e+02</td>\n",
       "      <td>265.145391</td>\n",
       "      <td>1</td>\n",
       "      <td>2015-01-16 14:39:46.833500</td>\n",
       "      <td>33</td>\n",
       "      <td>15560610518492</td>\n",
       "    </tr>\n",
       "    <tr>\n",
       "      <th>2</th>\n",
       "      <td>9724770178302279</td>\n",
       "      <td>2015-01-16 13:02:43.287500</td>\n",
       "      <td>None</td>\n",
       "      <td>150.418931</td>\n",
       "      <td>None</td>\n",
       "      <td>2.228094</td>\n",
       "      <td>None</td>\n",
       "      <td>None</td>\n",
       "      <td>57163.296292</td>\n",
       "      <td>None</td>\n",
       "      <td>...</td>\n",
       "      <td>86.640314</td>\n",
       "      <td>26.237305</td>\n",
       "      <td>7.711649</td>\n",
       "      <td>-4.426850e+05</td>\n",
       "      <td>6.004501e+02</td>\n",
       "      <td>291.627782</td>\n",
       "      <td>1</td>\n",
       "      <td>2015-01-16 13:02:43.287500</td>\n",
       "      <td>45</td>\n",
       "      <td>15559777410258</td>\n",
       "    </tr>\n",
       "    <tr>\n",
       "      <th>3</th>\n",
       "      <td>9731562669081045</td>\n",
       "      <td>2014-03-28 11:17:42.705500</td>\n",
       "      <td>None</td>\n",
       "      <td>150.126006</td>\n",
       "      <td>None</td>\n",
       "      <td>1.674522</td>\n",
       "      <td>None</td>\n",
       "      <td>None</td>\n",
       "      <td>57163.296292</td>\n",
       "      <td>None</td>\n",
       "      <td>...</td>\n",
       "      <td>7455.383517</td>\n",
       "      <td>24.733917</td>\n",
       "      <td>-5.319947</td>\n",
       "      <td>3.044317e+05</td>\n",
       "      <td>1.307140e+06</td>\n",
       "      <td>278.292105</td>\n",
       "      <td>1</td>\n",
       "      <td>2014-03-28 11:17:42.705500</td>\n",
       "      <td>31</td>\n",
       "      <td>15560480877236</td>\n",
       "    </tr>\n",
       "    <tr>\n",
       "      <th>4</th>\n",
       "      <td>531878012519028</td>\n",
       "      <td>2014-03-28 11:22:58.038000</td>\n",
       "      <td>None</td>\n",
       "      <td>149.796658</td>\n",
       "      <td>None</td>\n",
       "      <td>2.530000</td>\n",
       "      <td>None</td>\n",
       "      <td>None</td>\n",
       "      <td>57163.296292</td>\n",
       "      <td>None</td>\n",
       "      <td>...</td>\n",
       "      <td>1730.581599</td>\n",
       "      <td>2.441227</td>\n",
       "      <td>23636.420116</td>\n",
       "      <td>-1.348448e+09</td>\n",
       "      <td>1.159390e+05</td>\n",
       "      <td>203.545420</td>\n",
       "      <td>1</td>\n",
       "      <td>2014-03-28 11:22:58.038000</td>\n",
       "      <td>43</td>\n",
       "      <td>15560599077715</td>\n",
       "    </tr>\n",
       "    <tr>\n",
       "      <th>...</th>\n",
       "      <td>...</td>\n",
       "      <td>...</td>\n",
       "      <td>...</td>\n",
       "      <td>...</td>\n",
       "      <td>...</td>\n",
       "      <td>...</td>\n",
       "      <td>...</td>\n",
       "      <td>...</td>\n",
       "      <td>...</td>\n",
       "      <td>...</td>\n",
       "      <td>...</td>\n",
       "      <td>...</td>\n",
       "      <td>...</td>\n",
       "      <td>...</td>\n",
       "      <td>...</td>\n",
       "      <td>...</td>\n",
       "      <td>...</td>\n",
       "      <td>...</td>\n",
       "      <td>...</td>\n",
       "      <td>...</td>\n",
       "      <td>...</td>\n",
       "    </tr>\n",
       "    <tr>\n",
       "      <th>995</th>\n",
       "      <td>7699315141116552</td>\n",
       "      <td>2015-01-16 14:34:06.322000</td>\n",
       "      <td>None</td>\n",
       "      <td>150.352236</td>\n",
       "      <td>None</td>\n",
       "      <td>2.498994</td>\n",
       "      <td>None</td>\n",
       "      <td>None</td>\n",
       "      <td>57163.296292</td>\n",
       "      <td>None</td>\n",
       "      <td>...</td>\n",
       "      <td>1164.589282</td>\n",
       "      <td>19.345628</td>\n",
       "      <td>28.918430</td>\n",
       "      <td>-1.651954e+06</td>\n",
       "      <td>4.427318e+05</td>\n",
       "      <td>286.543701</td>\n",
       "      <td>1</td>\n",
       "      <td>2015-01-16 14:34:06.322000</td>\n",
       "      <td>63</td>\n",
       "      <td>15559805252735</td>\n",
       "    </tr>\n",
       "    <tr>\n",
       "      <th>996</th>\n",
       "      <td>8443113282470493</td>\n",
       "      <td>2015-03-18 10:40:51.122500</td>\n",
       "      <td>None</td>\n",
       "      <td>150.709269</td>\n",
       "      <td>None</td>\n",
       "      <td>2.000978</td>\n",
       "      <td>None</td>\n",
       "      <td>None</td>\n",
       "      <td>57163.284735</td>\n",
       "      <td>None</td>\n",
       "      <td>...</td>\n",
       "      <td>-9245.638918</td>\n",
       "      <td>-0.739980</td>\n",
       "      <td>-105756.566911</td>\n",
       "      <td>6.033365e+09</td>\n",
       "      <td>-1.057566e+05</td>\n",
       "      <td>430.684195</td>\n",
       "      <td>1</td>\n",
       "      <td>2015-03-18 10:40:51.122500</td>\n",
       "      <td>38</td>\n",
       "      <td>15557830966349</td>\n",
       "    </tr>\n",
       "    <tr>\n",
       "      <th>997</th>\n",
       "      <td>13101439106679768</td>\n",
       "      <td>2015-01-21 13:36:23.426500</td>\n",
       "      <td>None</td>\n",
       "      <td>150.179288</td>\n",
       "      <td>None</td>\n",
       "      <td>2.107391</td>\n",
       "      <td>None</td>\n",
       "      <td>None</td>\n",
       "      <td>57163.296292</td>\n",
       "      <td>None</td>\n",
       "      <td>...</td>\n",
       "      <td>-35025.634257</td>\n",
       "      <td>4.341782</td>\n",
       "      <td>14.967303</td>\n",
       "      <td>-8.889047e+05</td>\n",
       "      <td>2.017090e+01</td>\n",
       "      <td>637.505166</td>\n",
       "      <td>1</td>\n",
       "      <td>2015-01-21 13:36:23.426500</td>\n",
       "      <td>32</td>\n",
       "      <td>15559776047000</td>\n",
       "    </tr>\n",
       "    <tr>\n",
       "      <th>998</th>\n",
       "      <td>8460385493451473</td>\n",
       "      <td>2015-01-21 14:06:47.317000</td>\n",
       "      <td>None</td>\n",
       "      <td>150.049306</td>\n",
       "      <td>None</td>\n",
       "      <td>2.505285</td>\n",
       "      <td>None</td>\n",
       "      <td>None</td>\n",
       "      <td>57163.284735</td>\n",
       "      <td>None</td>\n",
       "      <td>...</td>\n",
       "      <td>-5576.676329</td>\n",
       "      <td>36.412917</td>\n",
       "      <td>11.470178</td>\n",
       "      <td>-6.885083e+05</td>\n",
       "      <td>7.430402e+05</td>\n",
       "      <td>408.500280</td>\n",
       "      <td>1</td>\n",
       "      <td>2015-01-21 14:06:47.317000</td>\n",
       "      <td>39</td>\n",
       "      <td>15559686227977</td>\n",
       "    </tr>\n",
       "    <tr>\n",
       "      <th>999</th>\n",
       "      <td>520670295361439</td>\n",
       "      <td>2014-03-28 11:17:42.705500</td>\n",
       "      <td>None</td>\n",
       "      <td>150.438979</td>\n",
       "      <td>None</td>\n",
       "      <td>2.344457</td>\n",
       "      <td>None</td>\n",
       "      <td>None</td>\n",
       "      <td>57163.296292</td>\n",
       "      <td>None</td>\n",
       "      <td>...</td>\n",
       "      <td>2158.482331</td>\n",
       "      <td>0.301496</td>\n",
       "      <td>-1.208495</td>\n",
       "      <td>7.015301e+04</td>\n",
       "      <td>6.270841e+03</td>\n",
       "      <td>277.370966</td>\n",
       "      <td>1</td>\n",
       "      <td>2014-03-28 11:17:42.705500</td>\n",
       "      <td>49</td>\n",
       "      <td>15559853593765</td>\n",
       "    </tr>\n",
       "  </tbody>\n",
       "</table>\n",
       "<p>1000 rows × 204 columns</p>\n",
       "</div>"
      ],
      "text/plain": [
       "           diaObjectId              validityStart validityEnd          ra  \\\n",
       "0     8443991603282714 2015-05-21 06:38:55.891500        None  150.498146   \n",
       "1     5037229986546173 2015-01-16 14:39:46.833500        None  149.821674   \n",
       "2     9724770178302279 2015-01-16 13:02:43.287500        None  150.418931   \n",
       "3     9731562669081045 2014-03-28 11:17:42.705500        None  150.126006   \n",
       "4      531878012519028 2014-03-28 11:22:58.038000        None  149.796658   \n",
       "..                 ...                        ...         ...         ...   \n",
       "995   7699315141116552 2015-01-16 14:34:06.322000        None  150.352236   \n",
       "996   8443113282470493 2015-03-18 10:40:51.122500        None  150.709269   \n",
       "997  13101439106679768 2015-01-21 13:36:23.426500        None  150.179288   \n",
       "998   8460385493451473 2015-01-21 14:06:47.317000        None  150.049306   \n",
       "999    520670295361439 2014-03-28 11:17:42.705500        None  150.438979   \n",
       "\n",
       "    raErr      decl declErr ra_decl_Cov      radecTai  pmRa  ...  \\\n",
       "0    None  2.087375    None        None  57163.296292  None  ...   \n",
       "1    None  2.076510    None        None  57163.296292  None  ...   \n",
       "2    None  2.228094    None        None  57163.296292  None  ...   \n",
       "3    None  1.674522    None        None  57163.296292  None  ...   \n",
       "4    None  2.530000    None        None  57163.296292  None  ...   \n",
       "..    ...       ...     ...         ...           ...   ...  ...   \n",
       "995  None  2.498994    None        None  57163.296292  None  ...   \n",
       "996  None  2.000978    None        None  57163.284735  None  ...   \n",
       "997  None  2.107391    None        None  57163.296292  None  ...   \n",
       "998  None  2.505285    None        None  57163.284735  None  ...   \n",
       "999  None  2.344457    None        None  57163.296292  None  ...   \n",
       "\n",
       "       yPSFluxMax yPSFluxStetsonJ yPSFluxLinearSlope yPSFluxLinearIntercept  \\\n",
       "0    -1791.663927        0.441361           1.017018          -6.022418e+04   \n",
       "1     2080.322177       23.225268          -0.453137           2.276681e+04   \n",
       "2       86.640314       26.237305           7.711649          -4.426850e+05   \n",
       "3     7455.383517       24.733917          -5.319947           3.044317e+05   \n",
       "4     1730.581599        2.441227       23636.420116          -1.348448e+09   \n",
       "..            ...             ...                ...                    ...   \n",
       "995   1164.589282       19.345628          28.918430          -1.651954e+06   \n",
       "996  -9245.638918       -0.739980     -105756.566911           6.033365e+09   \n",
       "997 -35025.634257        4.341782          14.967303          -8.889047e+05   \n",
       "998  -5576.676329       36.412917          11.470178          -6.885083e+05   \n",
       "999   2158.482331        0.301496          -1.208495           7.015301e+04   \n",
       "\n",
       "    yPSFluxMaxSlope yPSFluxErrMean flags        lastNonForcedSource  \\\n",
       "0      9.742968e+05     340.353759     1 2015-05-21 06:38:55.891500   \n",
       "1      1.862307e+02     265.145391     1 2015-01-16 14:39:46.833500   \n",
       "2      6.004501e+02     291.627782     1 2015-01-16 13:02:43.287500   \n",
       "3      1.307140e+06     278.292105     1 2014-03-28 11:17:42.705500   \n",
       "4      1.159390e+05     203.545420     1 2014-03-28 11:22:58.038000   \n",
       "..              ...            ...   ...                        ...   \n",
       "995    4.427318e+05     286.543701     1 2015-01-16 14:34:06.322000   \n",
       "996   -1.057566e+05     430.684195     1 2015-03-18 10:40:51.122500   \n",
       "997    2.017090e+01     637.505166     1 2015-01-21 13:36:23.426500   \n",
       "998    7.430402e+05     408.500280     1 2015-01-21 14:06:47.317000   \n",
       "999    6.270841e+03     277.370966     1 2014-03-28 11:17:42.705500   \n",
       "\n",
       "    nDiaSources         pixelId  \n",
       "0            31  15559756459607  \n",
       "1            33  15560610518492  \n",
       "2            45  15559777410258  \n",
       "3            31  15560480877236  \n",
       "4            43  15560599077715  \n",
       "..          ...             ...  \n",
       "995          63  15559805252735  \n",
       "996          38  15557830966349  \n",
       "997          32  15559776047000  \n",
       "998          39  15559686227977  \n",
       "999          49  15559853593765  \n",
       "\n",
       "[1000 rows x 204 columns]"
      ]
     },
     "execution_count": 113,
     "metadata": {},
     "output_type": "execute_result"
    }
   ],
   "source": [
    "variable_sample_diao"
   ]
  },
  {
   "cell_type": "markdown",
   "id": "f0d0d494-08f2-47db-a206-17826c4ce1cb",
   "metadata": {},
   "source": [
    "## Explore the potential variable sample"
   ]
  },
  {
   "cell_type": "code",
   "execution_count": 114,
   "id": "0958c765-f9d1-40f2-9407-0a8f2ebb3da9",
   "metadata": {
    "execution": {
     "iopub.execute_input": "2022-12-12T22:34:40.822144Z",
     "iopub.status.busy": "2022-12-12T22:34:40.821887Z",
     "iopub.status.idle": "2022-12-12T22:34:40.826647Z",
     "shell.execute_reply": "2022-12-12T22:34:40.826135Z",
     "shell.execute_reply.started": "2022-12-12T22:34:40.822124Z"
    },
    "tags": []
   },
   "outputs": [
    {
     "data": {
      "text/plain": [
       "array([1])"
      ]
     },
     "execution_count": 114,
     "metadata": {},
     "output_type": "execute_result"
    }
   ],
   "source": [
    "variable_sample_diao['flags'].unique()"
   ]
  },
  {
   "cell_type": "markdown",
   "id": "2d8a05d0-7e44-49f0-ab7c-e55c12e4fa22",
   "metadata": {},
   "source": [
    "looks like all of our DIAObject flags are 1??"
   ]
  },
  {
   "cell_type": "code",
   "execution_count": 111,
   "id": "a5e0b580-5caf-4394-8118-26f27a45904f",
   "metadata": {
    "execution": {
     "iopub.execute_input": "2022-12-12T22:34:26.092024Z",
     "iopub.status.busy": "2022-12-12T22:34:26.091095Z",
     "iopub.status.idle": "2022-12-12T22:34:28.244493Z",
     "shell.execute_reply": "2022-12-12T22:34:28.243826Z",
     "shell.execute_reply.started": "2022-12-12T22:34:26.092000Z"
    },
    "tags": []
   },
   "outputs": [
    {
     "name": "stdout",
     "output_type": "stream",
     "text": [
      "   count\n",
      "0  50447\n"
     ]
    }
   ],
   "source": [
    "with utils.connectToApdb(dbName, dbType=dbType, schema=schema) as connection:\n",
    "    print(pd.read_sql_query('select count(\"diaObjectId\") from \"DiaObject\" where flags !=1',connection))"
   ]
  },
  {
   "cell_type": "markdown",
   "id": "90df8d27-1050-437d-acee-c5530911b69f",
   "metadata": {},
   "source": [
    "no, not in the whole table..."
   ]
  },
  {
   "cell_type": "code",
   "execution_count": 122,
   "id": "cbde5dcf-a550-4ff3-8da8-355881d2c092",
   "metadata": {
    "execution": {
     "iopub.execute_input": "2022-12-12T22:38:21.588775Z",
     "iopub.status.busy": "2022-12-12T22:38:21.588469Z",
     "iopub.status.idle": "2022-12-12T22:38:21.717355Z",
     "shell.execute_reply": "2022-12-12T22:38:21.716820Z",
     "shell.execute_reply.started": "2022-12-12T22:38:21.588754Z"
    },
    "tags": []
   },
   "outputs": [
    {
     "data": {
      "text/plain": [
       "Text(0, 0.5, 'PS Flux Sigma')"
      ]
     },
     "execution_count": 122,
     "metadata": {},
     "output_type": "execute_result"
    },
    {
     "data": {
      "application/vnd.jupyter.widget-view+json": {
       "model_id": "2240e2bd5e444e3c9b90caf5eccebd23",
       "version_major": 2,
       "version_minor": 0
      },
      "image/png": "[encoded data removed]",
      "text/html": [
       "\n",
       "            <div style=\"display: inline-block;\">\n",
       "                <div class=\"jupyter-widgets widget-label\" style=\"text-align: center;\">\n",
       "                    Figure\n",
       "                </div>\n",
       "                <img src='data:image/png;base64,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' width=640.0/>\n",
       "            </div>\n",
       "        "
      ],
      "text/plain": [
       "Canvas(toolbar=Toolbar(toolitems=[('Home', 'Reset original view', 'home', 'home'), ('Back', 'Back to previous …"
      ]
     },
     "metadata": {},
     "output_type": "display_data"
    }
   ],
   "source": [
    "plt.figure()\n",
    "for band in bands:\n",
    "    plt.scatter(variable_sample_diao[f'{band}PSFluxMean'], \n",
    "                variable_sample_diao[f'{band}PSFluxSigma'],\n",
    "                edgecolor='none',alpha=0.5, label=band)\n",
    "plt.legend()\n",
    "plt.xlabel(\"PS Flux Mean\")\n",
    "plt.ylabel(\"PS Flux Sigma\")"
   ]
  },
  {
   "cell_type": "markdown",
   "id": "ca392990-ad5e-493b-87e7-a7f863282ffc",
   "metadata": {},
   "source": [
    "## testing John P's cutout service"
   ]
  },
  {
   "cell_type": "code",
   "execution_count": 22,
   "id": "8384b786-9675-4dd3-b291-6865fba263d1",
   "metadata": {
    "execution": {
     "iopub.execute_input": "2022-12-12T19:34:51.015342Z",
     "iopub.status.busy": "2022-12-12T19:34:51.015042Z",
     "iopub.status.idle": "2022-12-12T19:34:51.020780Z",
     "shell.execute_reply": "2022-12-12T19:34:51.020156Z",
     "shell.execute_reply.started": "2022-12-12T19:34:51.015323Z"
    },
    "tags": []
   },
   "outputs": [],
   "source": [
    "class PathManager:\n",
    "    \"\"\"Manage paths to local files, chunked directories, and s3 buckets.\n",
    "    Parameters\n",
    "    ----------\n",
    "    root : `str`\n",
    "        Root file path to manage.\n",
    "    chunk_size : `int`, optional\n",
    "        How many files per directory?\n",
    "    \"\"\"\n",
    "    def __init__(self, root, chunk_size=None):\n",
    "        self._root = root\n",
    "        if chunk_size is not None and chunk_size % 10 != 0:\n",
    "            raise RuntimeError(f\"PathManager file chunking must be a multiple of 10, got {chunk_size}.\")\n",
    "        self._chunk_size = chunk_size\n",
    "\n",
    "    def __call__(self, id=None, filename=None):\n",
    "        \"\"\"Return the full path to this diaSourceId cutout.\n",
    "        Parameters\n",
    "        ----------\n",
    "        id : `int`\n",
    "            Description\n",
    "        filename : None, optional\n",
    "            Description\n",
    "        Returns\n",
    "        -------\n",
    "        TYPE\n",
    "            Description\n",
    "        \"\"\"\n",
    "        def chunker(id, size):\n",
    "            return (id // size)*size\n",
    "\n",
    "        if id is not None:\n",
    "            if self._chunk_size is not None:\n",
    "                return os.path.join(self._root, f\"images/{chunker(id, self._chunk_size)}/{id}.png\")\n",
    "            else:\n",
    "                return os.path.join(self._root, f\"images/{id}.png\")\n",
    "        elif filename is not None:\n",
    "            return os.path.join(self._root, filename)"
   ]
  },
  {
   "cell_type": "code",
   "execution_count": 23,
   "id": "afdf48b0-711d-4b06-af28-17bc9da877f7",
   "metadata": {
    "execution": {
     "iopub.execute_input": "2022-12-12T19:34:58.390024Z",
     "iopub.status.busy": "2022-12-12T19:34:58.389707Z",
     "iopub.status.idle": "2022-12-12T19:34:58.393314Z",
     "shell.execute_reply": "2022-12-12T19:34:58.392757Z",
     "shell.execute_reply.started": "2022-12-12T19:34:58.390003Z"
    }
   },
   "outputs": [],
   "source": [
    "path_manager = PathManager(\"/sdf/group/rubin/u/parejko/scratch/cutouts\", chunk_size=10000)"
   ]
  },
  {
   "cell_type": "code",
   "execution_count": 45,
   "id": "89604a32-80f5-4ced-862f-f1c4d8283f7a",
   "metadata": {
    "execution": {
     "iopub.execute_input": "2022-12-12T19:44:29.256788Z",
     "iopub.status.busy": "2022-12-12T19:44:29.256530Z",
     "iopub.status.idle": "2022-12-12T19:44:29.268296Z",
     "shell.execute_reply": "2022-12-12T19:44:29.267781Z",
     "shell.execute_reply.started": "2022-12-12T19:44:29.256770Z"
    },
    "tags": []
   },
   "outputs": [
    {
     "data": {
      "image/png": "[encoded data removed]",
      "text/plain": [
       "<IPython.core.display.Image object>"
      ]
     },
     "metadata": {},
     "output_type": "display_data"
    }
   ],
   "source": [
    "diaSourceId = 506834058215689\n",
    "path = path_manager(diaSourceId)\n",
    "display(Image(path))\n"
   ]
  },
  {
   "cell_type": "code",
   "execution_count": 47,
   "id": "f59e855e-fd04-4841-ade0-049ef943e85e",
   "metadata": {
    "execution": {
     "iopub.execute_input": "2022-12-12T19:45:29.547950Z",
     "iopub.status.busy": "2022-12-12T19:45:29.547066Z",
     "iopub.status.idle": "2022-12-12T19:45:29.562475Z",
     "shell.execute_reply": "2022-12-12T19:45:29.561828Z",
     "shell.execute_reply.started": "2022-12-12T19:45:29.547925Z"
    }
   },
   "outputs": [],
   "source": [
    "with utils.connectToApdb(dbName, dbType=dbType, schema=schema) as connection:\n",
    "    sample_ids = pd.read_sql_query('select \"diaSourceId\" from \"DiaSource\" LIMIT 10', connection)"
   ]
  },
  {
   "cell_type": "code",
   "execution_count": 46,
   "id": "5a6b2e25-fae4-4056-965e-65969c6625d4",
   "metadata": {
    "execution": {
     "iopub.execute_input": "2022-12-12T19:45:11.756602Z",
     "iopub.status.busy": "2022-12-12T19:45:11.756321Z",
     "iopub.status.idle": "2022-12-12T19:45:11.759832Z",
     "shell.execute_reply": "2022-12-12T19:45:11.759301Z",
     "shell.execute_reply.started": "2022-12-12T19:45:11.756572Z"
    },
    "tags": []
   },
   "outputs": [],
   "source": [
    "#for idx, idi in sample_ids.iterrows():\n",
    "#    try:\n",
    "#        path = path_manager(idi.values[0])\n",
    "#        display(Image(path))\n",
    "#    except: #FileNotFoundError:\n",
    "#        continue"
   ]
  },
  {
   "cell_type": "code",
   "execution_count": null,
   "id": "7cd0a318-51df-4852-a533-af1f2acb7a3a",
   "metadata": {},
   "outputs": [],
   "source": []
  }
 ],
 "metadata": {
  "kernelspec": {
   "display_name": "LSST",
   "language": "python",
   "name": "lsst"
  },
  "language_info": {
   "codemirror_mode": {
    "name": "ipython",
    "version": 3
   },
   "file_extension": ".py",
   "mimetype": "text/x-python",
   "name": "python",
   "nbconvert_exporter": "python",
   "pygments_lexer": "ipython3",
   "version": "3.10.6"
  }
 },
 "nbformat": 4,
 "nbformat_minor": 5
}
