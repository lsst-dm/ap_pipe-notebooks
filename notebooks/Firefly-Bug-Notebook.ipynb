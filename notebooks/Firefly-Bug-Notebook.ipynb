{
 "cells": [
  {
   "cell_type": "markdown",
   "id": "134fa36d-b05e-49d0-bd4c-1de8b08b856b",
   "metadata": {},
   "source": [
    "# Example notebook for WCS bug ans mask plotting bug"
   ]
  },
  {
   "cell_type": "code",
   "execution_count": 17,
   "id": "2a99ebe9-e012-41d4-ac75-14c0cfd2225d",
   "metadata": {
    "execution": {
     "iopub.execute_input": "2022-12-23T10:15:39.281419Z",
     "iopub.status.busy": "2022-12-23T10:15:39.281161Z",
     "iopub.status.idle": "2022-12-23T10:15:39.284840Z",
     "shell.execute_reply": "2022-12-23T10:15:39.284335Z",
     "shell.execute_reply.started": "2022-12-23T10:15:39.281400Z"
    },
    "tags": []
   },
   "outputs": [],
   "source": [
    "from lsst.daf.butler import Butler\n",
    "import lsst.afw.display as afwDisplay\n",
    "from IPython.display import IFrame\n",
    "import matplotlib.pyplot as plt\n",
    "import numpy as np\n",
    "import scipy.ndimage\n",
    "import gc"
   ]
  },
  {
   "cell_type": "code",
   "execution_count": 20,
   "id": "044a8995-30ca-4cd2-8649-3d374925dcfe",
   "metadata": {
    "execution": {
     "iopub.execute_input": "2022-12-23T10:21:01.070112Z",
     "iopub.status.busy": "2022-12-23T10:21:01.069717Z",
     "iopub.status.idle": "2022-12-23T10:21:01.078419Z",
     "shell.execute_reply": "2022-12-23T10:21:01.077869Z",
     "shell.execute_reply.started": "2022-12-23T10:21:01.070090Z"
    },
    "tags": []
   },
   "outputs": [],
   "source": [
    "def mask_and_var_plots (datasetRefs, matplot=None, display_num=None):\n",
    "    \"\"\"\n",
    "    Create an array of plots with their mask and variance\n",
    "\n",
    "    Parameters\n",
    "    ----------\n",
    "    datasetRefs: a set of DataSetRefs\n",
    "    returned by the butler\n",
    "    matplot: Can be set to True\n",
    "    display_num: Integer setting number of images\n",
    "\n",
    "    Returns\n",
    "    -------\n",
    "    None\n",
    "    \"\"\"\n",
    "    \n",
    "    if not display_num:\n",
    "        display_num=1\n",
    "    else:\n",
    "        display_num=display_num\n",
    "    \n",
    "    if matplot != None:\n",
    "        afwDisplay.setDefaultBackend('matplotlib') \n",
    "        \n",
    "        for i, ref in enumerate(datasetRefs):\n",
    "\n",
    "            calexp = butler.getDirect(ref)\n",
    "            print('Visit: ', calexp.visitInfo.getId(), ', Detector: ',calexp.detector.getId())\n",
    "            fig, ax = plt.subplots(1, 3, figsize=(14, 7))\n",
    "            plt.sca(ax[0])  # set the first axis as current\n",
    "            plt.xlabel('Image with Mask Overlay')\n",
    "            display1 = afwDisplay.Display(frame=fig)\n",
    "            display1.scale('asinh', -1, 30)\n",
    "            display1.mtv(calexp)\n",
    "            plt.sca(ax[1])  # set the second axis as current\n",
    "            display2 = afwDisplay.Display(frame=fig)\n",
    "            display2.mtv(calexp.mask)\n",
    "            plt.tight_layout()\n",
    "            plt.sca(ax[2]) \n",
    "            display3 = afwDisplay.Display(frame=fig)\n",
    "            display3.scale('asinh', 'zscale')\n",
    "            display3.mtv(calexp.variance)\n",
    "            plt.tight_layout()\n",
    "            plt.show()\n",
    "            remove_figure(fig)\n",
    "            \n",
    "            if i == display_num:\n",
    "                print('...')\n",
    "                break\n",
    "\n",
    "    else:\n",
    "        afwDisplay.setDefaultBackend('firefly')\n",
    "        for i, ref in enumerate(datasetRefs):\n",
    "\n",
    "            calexp = butler.getDirect(ref)\n",
    "            print('Visit: ', calexp.visitInfo.getId(), ', Detector: ',calexp.detector.getId())\n",
    "            display = afwDisplay.Display(frame=3*i)\n",
    "            display.scale('asinh', -1, 30)\n",
    "            display.mtv(calexp)\n",
    "            display = afwDisplay.Display(frame=3*i+1)\n",
    "            display.setMaskTransparency(90)\n",
    "            display.mtv(calexp.mask)\n",
    "            display = afwDisplay.Display(frame=3*i+2)\n",
    "            display.scale('asinh', 'zscale')\n",
    "            display.mtv(calexp.variance)\n",
    "\n",
    "            if i == display_num:\n",
    "                print('...')\n",
    "                break"
   ]
  },
  {
   "cell_type": "code",
   "execution_count": 3,
   "id": "332a482d-e55b-4341-98ae-efdcd6d7f224",
   "metadata": {
    "execution": {
     "iopub.execute_input": "2022-12-23T10:10:07.679265Z",
     "iopub.status.busy": "2022-12-23T10:10:07.678904Z",
     "iopub.status.idle": "2022-12-23T10:10:07.683158Z",
     "shell.execute_reply": "2022-12-23T10:10:07.682609Z",
     "shell.execute_reply.started": "2022-12-23T10:10:07.679243Z"
    }
   },
   "outputs": [],
   "source": [
    "def remove_figure(fig):\n",
    "    \"\"\"\n",
    "    Remove a figure to reduce memory footprint.\n",
    "\n",
    "    Parameters\n",
    "    ----------\n",
    "    fig: matplotlib.figure.Figure\n",
    "        Figure to be removed.\n",
    "\n",
    "    Returns\n",
    "    -------\n",
    "    None\n",
    "    \"\"\"\n",
    "    # get the axes and clear their images\n",
    "    for ax in fig.get_axes():\n",
    "        for im in ax.get_images():\n",
    "            im.remove()\n",
    "    fig.clf()       # clear the figure\n",
    "    plt.close(fig)  # close the figure\n",
    "    gc.collect()    # call the garbage collector"
   ]
  },
  {
   "cell_type": "code",
   "execution_count": 22,
   "id": "893575d5-7adf-41a4-8840-d17ec153df12",
   "metadata": {
    "execution": {
     "iopub.execute_input": "2022-12-23T10:32:36.116955Z",
     "iopub.status.busy": "2022-12-23T10:32:36.116064Z",
     "iopub.status.idle": "2022-12-23T10:32:41.163648Z",
     "shell.execute_reply": "2022-12-23T10:32:41.162915Z",
     "shell.execute_reply.started": "2022-12-23T10:32:36.116930Z"
    },
    "tags": []
   },
   "outputs": [],
   "source": [
    "collection=\"u/elhoward/DM-35285/hsc-output-collection\"\n",
    "butler = lsst.daf.butler.Butler(\"/repo/main\", collections=collection)\n",
    "\n",
    "registry = butler.registry\n",
    "dt = registry.getDatasetType('calexp')\n",
    "\n",
    "datasetType = 'calexp'\n",
    "datasetRefs = set(registry.queryDatasets(datasetType, dataId=None))"
   ]
  },
  {
   "cell_type": "code",
   "execution_count": 23,
   "id": "168b3c0f-a543-4dbe-947c-9d3f91811640",
   "metadata": {
    "execution": {
     "iopub.execute_input": "2022-12-23T10:32:41.940680Z",
     "iopub.status.busy": "2022-12-23T10:32:41.940453Z",
     "iopub.status.idle": "2022-12-23T10:32:42.119037Z",
     "shell.execute_reply": "2022-12-23T10:32:42.118432Z",
     "shell.execute_reply.started": "2022-12-23T10:32:41.940661Z"
    },
    "tags": []
   },
   "outputs": [
    {
     "data": {
      "text/html": [
       "\n",
       "        <iframe\n",
       "            width=\"1100\"\n",
       "            height=\"700\"\n",
       "            src=\"https://usdf-rsp.slac.stanford.edu/portal/app/?__wsch=ffChan-nb-smart-1670883008-88\"\n",
       "            frameborder=\"0\"\n",
       "            allowfullscreen\n",
       "            \n",
       "        ></iframe>\n",
       "        "
      ],
      "text/plain": [
       "<IPython.lib.display.IFrame at 0x7f79bd1cffa0>"
      ]
     },
     "execution_count": 23,
     "metadata": {},
     "output_type": "execute_result"
    }
   ],
   "source": [
    "afwDisplay.setDefaultBackend('firefly')\n",
    "display = afwDisplay.Display(frame=1)\n",
    "IFrame(display.getClient().get_firefly_url(), 1100, 700)"
   ]
  },
  {
   "cell_type": "code",
   "execution_count": 21,
   "id": "c92d8837-35ad-48cb-949d-3b3cb7e55eca",
   "metadata": {
    "execution": {
     "iopub.execute_input": "2022-12-23T10:21:11.421771Z",
     "iopub.status.busy": "2022-12-23T10:21:11.421380Z",
     "iopub.status.idle": "2022-12-23T10:21:16.783896Z",
     "shell.execute_reply": "2022-12-23T10:21:16.783176Z",
     "shell.execute_reply.started": "2022-12-23T10:21:11.421748Z"
    },
    "tags": []
   },
   "outputs": [
    {
     "name": "stdout",
     "output_type": "stream",
     "text": [
      "Visit:  22608 , Detector:  33\n",
      "Visit:  22658 , Detector:  101\n",
      "...\n"
     ]
    }
   ],
   "source": [
    "mask_and_var_plots(datasetRefs)"
   ]
  },
  {
   "cell_type": "code",
   "execution_count": null,
   "id": "588612c9-1404-4914-a242-e74524ba4ed0",
   "metadata": {},
   "outputs": [],
   "source": []
  }
 ],
 "metadata": {
  "kernelspec": {
   "display_name": "LSST",
   "language": "python",
   "name": "lsst"
  },
  "language_info": {
   "codemirror_mode": {
    "name": "ipython",
    "version": 3
   },
   "file_extension": ".py",
   "mimetype": "text/x-python",
   "name": "python",
   "nbconvert_exporter": "python",
   "pygments_lexer": "ipython3",
   "version": "3.10.8"
  }
 },
 "nbformat": 4,
 "nbformat_minor": 5
}
