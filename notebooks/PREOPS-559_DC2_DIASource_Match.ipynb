{
 "cells": [
  {
   "cell_type": "code",
   "execution_count": 142,
   "id": "c07b02d9",
   "metadata": {},
   "outputs": [],
   "source": [
    "import os\n",
    "import numpy as np\n",
    "\n",
    "import scipy\n",
    "import matplotlib.pyplot as plt\n",
    "import pandas as pd\n",
    "import sqlite3\n",
    "import lsst.daf.persistence as dafPersist\n",
    "import lsst.afw.display as afwDisplay\n",
    "import lsst.afw.display as afw_display\n",
    "import lsst.geom\n",
    "afwDisplay.setDefaultBackend('matplotlib')\n",
    "import matplotlib.ticker as plticker\n",
    "import lsst.afw.cameraGeom.testUtils as testUtils\n",
    "import lsst.afw.cameraGeom as cameraGeom\n",
    "from lsst.obs.hsc import HscMapper as mapper\n",
    "import lsst.daf.butler as dafButler\n",
    "from skimage.filters import gaussian\n",
    "from lsst.ap.association import UnpackApdbFlags, TransformDiaSourceCatalogConfig\n",
    "import pandas as pd\n",
    "from operator import itemgetter\n",
    "from itertools import groupby\n",
    "os.environ['PGPASSFILE'] = \"/home/ebellm/.lsst/.pgpassfile\" # unclear this \n",
    "\n",
    "import pandas as pd\n",
    "import astropy.units as u\n",
    "import astropy.coordinates as coord\n",
    "import pyarrow.parquet as pq\n",
    "import lsst.daf.butler as dafButler"
   ]
  },
  {
   "cell_type": "markdown",
   "id": "81f91804",
   "metadata": {},
   "source": [
    "### Examine DC2 Truth Table\n",
    "\n",
    "See \n",
    "* https://lsstdesc-portal.nersc.gov/\n",
    "* https://ui.adsabs.harvard.edu/abs/2021ApJS..253...31L/abstract \n",
    "* https://arxiv.org/pdf/2101.04855.pdf \n",
    "\n",
    "for details"
   ]
  },
  {
   "cell_type": "code",
   "execution_count": 107,
   "id": "1155bc99",
   "metadata": {},
   "outputs": [
    {
     "name": "stdout",
     "output_type": "stream",
     "text": [
      "truth_tract2723.parquet  truth_tract3445.parquet  truth_tract4230.parquet\n",
      "truth_tract2724.parquet  truth_tract3446.parquet  truth_tract4231.parquet\n",
      "truth_tract2725.parquet  truth_tract3447.parquet  truth_tract4232.parquet\n",
      "truth_tract2726.parquet  truth_tract3448.parquet  truth_tract4233.parquet\n",
      "truth_tract2727.parquet  truth_tract3449.parquet  truth_tract4234.parquet\n",
      "truth_tract2728.parquet  truth_tract3450.parquet  truth_tract4235.parquet\n",
      "truth_tract2729.parquet  truth_tract3451.parquet  truth_tract4236.parquet\n",
      "truth_tract2730.parquet  truth_tract3452.parquet  truth_tract4429.parquet\n",
      "truth_tract2731.parquet  truth_tract3453.parquet  truth_tract4430.parquet\n",
      "truth_tract2732.parquet  truth_tract3454.parquet  truth_tract4431.parquet\n",
      "truth_tract2733.parquet  truth_tract3631.parquet  truth_tract4432.parquet\n",
      "truth_tract2734.parquet  truth_tract3632.parquet  truth_tract4433.parquet\n",
      "truth_tract2735.parquet  truth_tract3633.parquet  truth_tract4434.parquet\n",
      "truth_tract2896.parquet  truth_tract3634.parquet  truth_tract4435.parquet\n",
      "truth_tract2897.parquet  truth_tract3635.parquet  truth_tract4436.parquet\n",
      "truth_tract2898.parquet  truth_tract3636.parquet  truth_tract4437.parquet\n",
      "truth_tract2899.parquet  truth_tract3637.parquet  truth_tract4438.parquet\n",
      "truth_tract2900.parquet  truth_tract3638.parquet  truth_tract4439.parquet\n",
      "truth_tract2901.parquet  truth_tract3639.parquet  truth_tract4440.parquet\n",
      "truth_tract2902.parquet  truth_tract3640.parquet  truth_tract4441.parquet\n",
      "truth_tract2903.parquet  truth_tract3641.parquet  truth_tract4636.parquet\n",
      "truth_tract2904.parquet  truth_tract3642.parquet  truth_tract4637.parquet\n",
      "truth_tract2905.parquet  truth_tract3643.parquet  truth_tract4638.parquet\n",
      "truth_tract2906.parquet  truth_tract3825.parquet  truth_tract4639.parquet\n",
      "truth_tract2907.parquet  truth_tract3826.parquet  truth_tract4640.parquet\n",
      "truth_tract2908.parquet  truth_tract3827.parquet  truth_tract4641.parquet\n",
      "truth_tract3074.parquet  truth_tract3828.parquet  truth_tract4642.parquet\n",
      "truth_tract3075.parquet  truth_tract3829.parquet  truth_tract4643.parquet\n",
      "truth_tract3076.parquet  truth_tract3830.parquet  truth_tract4644.parquet\n",
      "truth_tract3077.parquet  truth_tract3831.parquet  truth_tract4645.parquet\n",
      "truth_tract3078.parquet  truth_tract3832.parquet  truth_tract4646.parquet\n",
      "truth_tract3079.parquet  truth_tract3833.parquet  truth_tract4647.parquet\n",
      "truth_tract3080.parquet  truth_tract3834.parquet  truth_tract4648.parquet\n",
      "truth_tract3081.parquet  truth_tract3835.parquet  truth_tract4850.parquet\n",
      "truth_tract3082.parquet  truth_tract3836.parquet  truth_tract4851.parquet\n",
      "truth_tract3083.parquet  truth_tract3837.parquet  truth_tract4852.parquet\n",
      "truth_tract3084.parquet  truth_tract4022.parquet  truth_tract4853.parquet\n",
      "truth_tract3085.parquet  truth_tract4023.parquet  truth_tract4854.parquet\n",
      "truth_tract3086.parquet  truth_tract4024.parquet  truth_tract4855.parquet\n",
      "truth_tract3256.parquet  truth_tract4025.parquet  truth_tract4856.parquet\n",
      "truth_tract3257.parquet  truth_tract4026.parquet  truth_tract4857.parquet\n",
      "truth_tract3258.parquet  truth_tract4027.parquet  truth_tract4858.parquet\n",
      "truth_tract3259.parquet  truth_tract4028.parquet  truth_tract4859.parquet\n",
      "truth_tract3260.parquet  truth_tract4029.parquet  truth_tract4860.parquet\n",
      "truth_tract3261.parquet  truth_tract4030.parquet  truth_tract5065.parquet\n",
      "truth_tract3262.parquet  truth_tract4031.parquet  truth_tract5066.parquet\n",
      "truth_tract3263.parquet  truth_tract4032.parquet  truth_tract5067.parquet\n",
      "truth_tract3264.parquet  truth_tract4033.parquet  truth_tract5068.parquet\n",
      "truth_tract3265.parquet  truth_tract4034.parquet  truth_tract5069.parquet\n",
      "truth_tract3266.parquet  truth_tract4035.parquet  truth_tract5070.parquet\n",
      "truth_tract3267.parquet  truth_tract4224.parquet  truth_tract5071.parquet\n",
      "truth_tract3268.parquet  truth_tract4225.parquet  truth_tract5072.parquet\n",
      "truth_tract3441.parquet  truth_tract4226.parquet  truth_tract5073.parquet\n",
      "truth_tract3442.parquet  truth_tract4227.parquet  truth_tract5074.parquet\n",
      "truth_tract3443.parquet  truth_tract4228.parquet\n",
      "truth_tract3444.parquet  truth_tract4229.parquet\n"
     ]
    }
   ],
   "source": [
    "!ls /project/shared/DC2/truth_parquet"
   ]
  },
  {
   "cell_type": "code",
   "execution_count": 4,
   "id": "76d42633",
   "metadata": {},
   "outputs": [],
   "source": [
    "truth = pq.read_pandas('/project/shared/DC2/truth_parquet/truth_tract3828.parquet').to_pandas()"
   ]
  },
  {
   "cell_type": "code",
   "execution_count": 5,
   "id": "37c0d017",
   "metadata": {},
   "outputs": [
    {
     "data": {
      "text/plain": [
       "4645755"
      ]
     },
     "execution_count": 5,
     "metadata": {},
     "output_type": "execute_result"
    }
   ],
   "source": [
    "len(truth)"
   ]
  },
  {
   "cell_type": "code",
   "execution_count": 6,
   "id": "749bce06",
   "metadata": {},
   "outputs": [
    {
     "data": {
      "text/html": [
       "<div>\n",
       "<style scoped>\n",
       "    .dataframe tbody tr th:only-of-type {\n",
       "        vertical-align: middle;\n",
       "    }\n",
       "\n",
       "    .dataframe tbody tr th {\n",
       "        vertical-align: top;\n",
       "    }\n",
       "\n",
       "    .dataframe thead th {\n",
       "        text-align: right;\n",
       "    }\n",
       "</style>\n",
       "<table border=\"1\" class=\"dataframe\">\n",
       "  <thead>\n",
       "    <tr style=\"text-align: right;\">\n",
       "      <th></th>\n",
       "      <th>id</th>\n",
       "      <th>host_galaxy</th>\n",
       "      <th>ra</th>\n",
       "      <th>dec</th>\n",
       "      <th>redshift</th>\n",
       "      <th>is_variable</th>\n",
       "      <th>is_pointsource</th>\n",
       "      <th>flux_u</th>\n",
       "      <th>flux_g</th>\n",
       "      <th>flux_r</th>\n",
       "      <th>...</th>\n",
       "      <th>patch</th>\n",
       "      <th>truth_type</th>\n",
       "      <th>cosmodc2_hp</th>\n",
       "      <th>cosmodc2_id</th>\n",
       "      <th>mag_r</th>\n",
       "      <th>match_objectId</th>\n",
       "      <th>match_sep</th>\n",
       "      <th>is_good_match</th>\n",
       "      <th>is_nearest_neighbor</th>\n",
       "      <th>is_unique_truth_entry</th>\n",
       "    </tr>\n",
       "  </thead>\n",
       "  <tbody>\n",
       "    <tr>\n",
       "      <th>0</th>\n",
       "      <td>7816513885</td>\n",
       "      <td>-1</td>\n",
       "      <td>57.503538</td>\n",
       "      <td>-37.189842</td>\n",
       "      <td>1.270010</td>\n",
       "      <td>0</td>\n",
       "      <td>0</td>\n",
       "      <td>246.984558</td>\n",
       "      <td>234.669754</td>\n",
       "      <td>214.219315</td>\n",
       "      <td>...</td>\n",
       "      <td>0,0</td>\n",
       "      <td>1</td>\n",
       "      <td>9812</td>\n",
       "      <td>7816513885</td>\n",
       "      <td>25.572853</td>\n",
       "      <td>16835722044507628</td>\n",
       "      <td>0.049484</td>\n",
       "      <td>True</td>\n",
       "      <td>True</td>\n",
       "      <td>True</td>\n",
       "    </tr>\n",
       "    <tr>\n",
       "      <th>1</th>\n",
       "      <td>7812675090</td>\n",
       "      <td>-1</td>\n",
       "      <td>57.451876</td>\n",
       "      <td>-37.189982</td>\n",
       "      <td>0.344580</td>\n",
       "      <td>0</td>\n",
       "      <td>0</td>\n",
       "      <td>31.958035</td>\n",
       "      <td>60.569202</td>\n",
       "      <td>131.726593</td>\n",
       "      <td>...</td>\n",
       "      <td>0,0</td>\n",
       "      <td>1</td>\n",
       "      <td>9812</td>\n",
       "      <td>7812675090</td>\n",
       "      <td>26.100817</td>\n",
       "      <td>16835722044507640</td>\n",
       "      <td>0.234430</td>\n",
       "      <td>True</td>\n",
       "      <td>True</td>\n",
       "      <td>True</td>\n",
       "    </tr>\n",
       "    <tr>\n",
       "      <th>2</th>\n",
       "      <td>7814647934</td>\n",
       "      <td>-1</td>\n",
       "      <td>57.506052</td>\n",
       "      <td>-37.189499</td>\n",
       "      <td>0.990622</td>\n",
       "      <td>0</td>\n",
       "      <td>0</td>\n",
       "      <td>65.868942</td>\n",
       "      <td>80.165848</td>\n",
       "      <td>122.161423</td>\n",
       "      <td>...</td>\n",
       "      <td>0,0</td>\n",
       "      <td>1</td>\n",
       "      <td>9812</td>\n",
       "      <td>7814647934</td>\n",
       "      <td>26.182667</td>\n",
       "      <td>16835722044507645</td>\n",
       "      <td>0.215764</td>\n",
       "      <td>True</td>\n",
       "      <td>True</td>\n",
       "      <td>True</td>\n",
       "    </tr>\n",
       "    <tr>\n",
       "      <th>3</th>\n",
       "      <td>7814197393</td>\n",
       "      <td>-1</td>\n",
       "      <td>57.529435</td>\n",
       "      <td>-37.189048</td>\n",
       "      <td>0.892836</td>\n",
       "      <td>0</td>\n",
       "      <td>0</td>\n",
       "      <td>66.701424</td>\n",
       "      <td>88.351448</td>\n",
       "      <td>162.388611</td>\n",
       "      <td>...</td>\n",
       "      <td>0,0</td>\n",
       "      <td>1</td>\n",
       "      <td>9812</td>\n",
       "      <td>7814197393</td>\n",
       "      <td>25.873611</td>\n",
       "      <td>16835722044507650</td>\n",
       "      <td>0.032703</td>\n",
       "      <td>True</td>\n",
       "      <td>True</td>\n",
       "      <td>True</td>\n",
       "    </tr>\n",
       "    <tr>\n",
       "      <th>4</th>\n",
       "      <td>7813507782</td>\n",
       "      <td>-1</td>\n",
       "      <td>57.407629</td>\n",
       "      <td>-37.189873</td>\n",
       "      <td>0.697208</td>\n",
       "      <td>0</td>\n",
       "      <td>0</td>\n",
       "      <td>17.108637</td>\n",
       "      <td>28.560108</td>\n",
       "      <td>67.255020</td>\n",
       "      <td>...</td>\n",
       "      <td>0,0</td>\n",
       "      <td>1</td>\n",
       "      <td>9812</td>\n",
       "      <td>7813507782</td>\n",
       "      <td>26.830688</td>\n",
       "      <td>16835722044507655</td>\n",
       "      <td>0.208699</td>\n",
       "      <td>False</td>\n",
       "      <td>True</td>\n",
       "      <td>True</td>\n",
       "    </tr>\n",
       "  </tbody>\n",
       "</table>\n",
       "<p>5 rows × 30 columns</p>\n",
       "</div>"
      ],
      "text/plain": [
       "           id  host_galaxy         ra        dec  redshift  is_variable  \\\n",
       "0  7816513885           -1  57.503538 -37.189842  1.270010            0   \n",
       "1  7812675090           -1  57.451876 -37.189982  0.344580            0   \n",
       "2  7814647934           -1  57.506052 -37.189499  0.990622            0   \n",
       "3  7814197393           -1  57.529435 -37.189048  0.892836            0   \n",
       "4  7813507782           -1  57.407629 -37.189873  0.697208            0   \n",
       "\n",
       "   is_pointsource      flux_u      flux_g      flux_r  ...  patch  truth_type  \\\n",
       "0               0  246.984558  234.669754  214.219315  ...    0,0           1   \n",
       "1               0   31.958035   60.569202  131.726593  ...    0,0           1   \n",
       "2               0   65.868942   80.165848  122.161423  ...    0,0           1   \n",
       "3               0   66.701424   88.351448  162.388611  ...    0,0           1   \n",
       "4               0   17.108637   28.560108   67.255020  ...    0,0           1   \n",
       "\n",
       "   cosmodc2_hp  cosmodc2_id      mag_r     match_objectId  match_sep  \\\n",
       "0         9812   7816513885  25.572853  16835722044507628   0.049484   \n",
       "1         9812   7812675090  26.100817  16835722044507640   0.234430   \n",
       "2         9812   7814647934  26.182667  16835722044507645   0.215764   \n",
       "3         9812   7814197393  25.873611  16835722044507650   0.032703   \n",
       "4         9812   7813507782  26.830688  16835722044507655   0.208699   \n",
       "\n",
       "   is_good_match  is_nearest_neighbor  is_unique_truth_entry  \n",
       "0           True                 True                   True  \n",
       "1           True                 True                   True  \n",
       "2           True                 True                   True  \n",
       "3           True                 True                   True  \n",
       "4          False                 True                   True  \n",
       "\n",
       "[5 rows x 30 columns]"
      ]
     },
     "execution_count": 6,
     "metadata": {},
     "output_type": "execute_result"
    }
   ],
   "source": [
    "truth.head()"
   ]
  },
  {
   "cell_type": "code",
   "execution_count": 7,
   "id": "5eb8db39",
   "metadata": {},
   "outputs": [
    {
     "data": {
      "text/plain": [
       "Index(['id', 'host_galaxy', 'ra', 'dec', 'redshift', 'is_variable',\n",
       "       'is_pointsource', 'flux_u', 'flux_g', 'flux_r', 'flux_i', 'flux_z',\n",
       "       'flux_y', 'flux_u_noMW', 'flux_g_noMW', 'flux_r_noMW', 'flux_i_noMW',\n",
       "       'flux_z_noMW', 'flux_y_noMW', 'tract', 'patch', 'truth_type',\n",
       "       'cosmodc2_hp', 'cosmodc2_id', 'mag_r', 'match_objectId', 'match_sep',\n",
       "       'is_good_match', 'is_nearest_neighbor', 'is_unique_truth_entry'],\n",
       "      dtype='object')"
      ]
     },
     "execution_count": 7,
     "metadata": {},
     "output_type": "execute_result"
    }
   ],
   "source": [
    "truth.columns"
   ]
  },
  {
   "cell_type": "code",
   "execution_count": 8,
   "id": "55b98e80",
   "metadata": {},
   "outputs": [
    {
     "data": {
      "text/plain": [
       "4690        7825439919\n",
       "4691        7825439919\n",
       "4692        7817065275\n",
       "4693       30830360449\n",
       "4694       30830360449\n",
       "              ...     \n",
       "1107869     6827612401\n",
       "1107916     6819858142\n",
       "1107957     6814015831\n",
       "1108019     6825945915\n",
       "1108063     6819222223\n",
       "Name: id, Length: 7585, dtype: object"
      ]
     },
     "execution_count": 8,
     "metadata": {},
     "output_type": "execute_result"
    }
   ],
   "source": [
    "truth.loc[~truth['is_unique_truth_entry'],'id']"
   ]
  },
  {
   "cell_type": "code",
   "execution_count": 9,
   "id": "68adda31",
   "metadata": {},
   "outputs": [
    {
     "data": {
      "text/html": [
       "<div>\n",
       "<style scoped>\n",
       "    .dataframe tbody tr th:only-of-type {\n",
       "        vertical-align: middle;\n",
       "    }\n",
       "\n",
       "    .dataframe tbody tr th {\n",
       "        vertical-align: top;\n",
       "    }\n",
       "\n",
       "    .dataframe thead th {\n",
       "        text-align: right;\n",
       "    }\n",
       "</style>\n",
       "<table border=\"1\" class=\"dataframe\">\n",
       "  <thead>\n",
       "    <tr style=\"text-align: right;\">\n",
       "      <th></th>\n",
       "      <th>id</th>\n",
       "      <th>host_galaxy</th>\n",
       "      <th>ra</th>\n",
       "      <th>dec</th>\n",
       "      <th>redshift</th>\n",
       "      <th>is_variable</th>\n",
       "      <th>is_pointsource</th>\n",
       "      <th>flux_u</th>\n",
       "      <th>flux_g</th>\n",
       "      <th>flux_r</th>\n",
       "      <th>...</th>\n",
       "      <th>patch</th>\n",
       "      <th>truth_type</th>\n",
       "      <th>cosmodc2_hp</th>\n",
       "      <th>cosmodc2_id</th>\n",
       "      <th>mag_r</th>\n",
       "      <th>match_objectId</th>\n",
       "      <th>match_sep</th>\n",
       "      <th>is_good_match</th>\n",
       "      <th>is_nearest_neighbor</th>\n",
       "      <th>is_unique_truth_entry</th>\n",
       "    </tr>\n",
       "  </thead>\n",
       "  <tbody>\n",
       "  </tbody>\n",
       "</table>\n",
       "<p>0 rows × 30 columns</p>\n",
       "</div>"
      ],
      "text/plain": [
       "Empty DataFrame\n",
       "Columns: [id, host_galaxy, ra, dec, redshift, is_variable, is_pointsource, flux_u, flux_g, flux_r, flux_i, flux_z, flux_y, flux_u_noMW, flux_g_noMW, flux_r_noMW, flux_i_noMW, flux_z_noMW, flux_y_noMW, tract, patch, truth_type, cosmodc2_hp, cosmodc2_id, mag_r, match_objectId, match_sep, is_good_match, is_nearest_neighbor, is_unique_truth_entry]\n",
       "Index: []\n",
       "\n",
       "[0 rows x 30 columns]"
      ]
     },
     "execution_count": 9,
     "metadata": {},
     "output_type": "execute_result"
    }
   ],
   "source": [
    "truth.loc[truth['id']==7825439919]"
   ]
  },
  {
   "cell_type": "code",
   "execution_count": 10,
   "id": "d1e0958d",
   "metadata": {},
   "outputs": [
    {
     "data": {
      "text/html": [
       "<div>\n",
       "<style scoped>\n",
       "    .dataframe tbody tr th:only-of-type {\n",
       "        vertical-align: middle;\n",
       "    }\n",
       "\n",
       "    .dataframe tbody tr th {\n",
       "        vertical-align: top;\n",
       "    }\n",
       "\n",
       "    .dataframe thead th {\n",
       "        text-align: right;\n",
       "    }\n",
       "</style>\n",
       "<table border=\"1\" class=\"dataframe\">\n",
       "  <thead>\n",
       "    <tr style=\"text-align: right;\">\n",
       "      <th></th>\n",
       "      <th>id</th>\n",
       "      <th>host_galaxy</th>\n",
       "      <th>ra</th>\n",
       "      <th>dec</th>\n",
       "      <th>redshift</th>\n",
       "      <th>is_variable</th>\n",
       "      <th>is_pointsource</th>\n",
       "      <th>flux_u</th>\n",
       "      <th>flux_g</th>\n",
       "      <th>flux_r</th>\n",
       "      <th>...</th>\n",
       "      <th>patch</th>\n",
       "      <th>truth_type</th>\n",
       "      <th>cosmodc2_hp</th>\n",
       "      <th>cosmodc2_id</th>\n",
       "      <th>mag_r</th>\n",
       "      <th>match_objectId</th>\n",
       "      <th>match_sep</th>\n",
       "      <th>is_good_match</th>\n",
       "      <th>is_nearest_neighbor</th>\n",
       "      <th>is_unique_truth_entry</th>\n",
       "    </tr>\n",
       "  </thead>\n",
       "  <tbody>\n",
       "    <tr>\n",
       "      <th>4690</th>\n",
       "      <td>7825439919</td>\n",
       "      <td>-1</td>\n",
       "      <td>57.491971</td>\n",
       "      <td>-37.186337</td>\n",
       "      <td>1.998428</td>\n",
       "      <td>0</td>\n",
       "      <td>0</td>\n",
       "      <td>14.737312</td>\n",
       "      <td>15.066756</td>\n",
       "      <td>13.18913</td>\n",
       "      <td>...</td>\n",
       "      <td>0,0</td>\n",
       "      <td>1</td>\n",
       "      <td>9812</td>\n",
       "      <td>7825439919</td>\n",
       "      <td>28.599461</td>\n",
       "      <td>16835722044535449</td>\n",
       "      <td>1.462159</td>\n",
       "      <td>False</td>\n",
       "      <td>True</td>\n",
       "      <td>False</td>\n",
       "    </tr>\n",
       "    <tr>\n",
       "      <th>4691</th>\n",
       "      <td>7825439919</td>\n",
       "      <td>-1</td>\n",
       "      <td>57.491971</td>\n",
       "      <td>-37.186337</td>\n",
       "      <td>1.998428</td>\n",
       "      <td>0</td>\n",
       "      <td>0</td>\n",
       "      <td>14.737312</td>\n",
       "      <td>15.066756</td>\n",
       "      <td>13.18913</td>\n",
       "      <td>...</td>\n",
       "      <td>0,0</td>\n",
       "      <td>1</td>\n",
       "      <td>9812</td>\n",
       "      <td>7825439919</td>\n",
       "      <td>28.599461</td>\n",
       "      <td>16835722044535450</td>\n",
       "      <td>0.896426</td>\n",
       "      <td>False</td>\n",
       "      <td>True</td>\n",
       "      <td>False</td>\n",
       "    </tr>\n",
       "  </tbody>\n",
       "</table>\n",
       "<p>2 rows × 30 columns</p>\n",
       "</div>"
      ],
      "text/plain": [
       "              id  host_galaxy         ra        dec  redshift  is_variable  \\\n",
       "4690  7825439919           -1  57.491971 -37.186337  1.998428            0   \n",
       "4691  7825439919           -1  57.491971 -37.186337  1.998428            0   \n",
       "\n",
       "      is_pointsource     flux_u     flux_g    flux_r  ...  patch  truth_type  \\\n",
       "4690               0  14.737312  15.066756  13.18913  ...    0,0           1   \n",
       "4691               0  14.737312  15.066756  13.18913  ...    0,0           1   \n",
       "\n",
       "      cosmodc2_hp  cosmodc2_id      mag_r     match_objectId  match_sep  \\\n",
       "4690         9812   7825439919  28.599461  16835722044535449   1.462159   \n",
       "4691         9812   7825439919  28.599461  16835722044535450   0.896426   \n",
       "\n",
       "      is_good_match  is_nearest_neighbor  is_unique_truth_entry  \n",
       "4690          False                 True                  False  \n",
       "4691          False                 True                  False  \n",
       "\n",
       "[2 rows x 30 columns]"
      ]
     },
     "execution_count": 10,
     "metadata": {},
     "output_type": "execute_result"
    }
   ],
   "source": [
    "truth.loc[[4690,4691]]"
   ]
  },
  {
   "cell_type": "code",
   "execution_count": 11,
   "id": "b02481e8",
   "metadata": {},
   "outputs": [
    {
     "data": {
      "text/html": [
       "<div>\n",
       "<style scoped>\n",
       "    .dataframe tbody tr th:only-of-type {\n",
       "        vertical-align: middle;\n",
       "    }\n",
       "\n",
       "    .dataframe tbody tr th {\n",
       "        vertical-align: top;\n",
       "    }\n",
       "\n",
       "    .dataframe thead th {\n",
       "        text-align: right;\n",
       "    }\n",
       "</style>\n",
       "<table border=\"1\" class=\"dataframe\">\n",
       "  <thead>\n",
       "    <tr style=\"text-align: right;\">\n",
       "      <th></th>\n",
       "      <th>id</th>\n",
       "      <th>host_galaxy</th>\n",
       "      <th>ra</th>\n",
       "      <th>dec</th>\n",
       "      <th>redshift</th>\n",
       "      <th>is_variable</th>\n",
       "      <th>is_pointsource</th>\n",
       "      <th>flux_u</th>\n",
       "      <th>flux_g</th>\n",
       "      <th>flux_r</th>\n",
       "      <th>...</th>\n",
       "      <th>patch</th>\n",
       "      <th>truth_type</th>\n",
       "      <th>cosmodc2_hp</th>\n",
       "      <th>cosmodc2_id</th>\n",
       "      <th>mag_r</th>\n",
       "      <th>match_objectId</th>\n",
       "      <th>match_sep</th>\n",
       "      <th>is_good_match</th>\n",
       "      <th>is_nearest_neighbor</th>\n",
       "      <th>is_unique_truth_entry</th>\n",
       "    </tr>\n",
       "  </thead>\n",
       "  <tbody>\n",
       "  </tbody>\n",
       "</table>\n",
       "<p>0 rows × 30 columns</p>\n",
       "</div>"
      ],
      "text/plain": [
       "Empty DataFrame\n",
       "Columns: [id, host_galaxy, ra, dec, redshift, is_variable, is_pointsource, flux_u, flux_g, flux_r, flux_i, flux_z, flux_y, flux_u_noMW, flux_g_noMW, flux_r_noMW, flux_i_noMW, flux_z_noMW, flux_y_noMW, tract, patch, truth_type, cosmodc2_hp, cosmodc2_id, mag_r, match_objectId, match_sep, is_good_match, is_nearest_neighbor, is_unique_truth_entry]\n",
       "Index: []\n",
       "\n",
       "[0 rows x 30 columns]"
      ]
     },
     "execution_count": 11,
     "metadata": {},
     "output_type": "execute_result"
    }
   ],
   "source": [
    "truth.loc[(truth.is_variable == True) & (truth.is_pointsource == False) ]"
   ]
  },
  {
   "cell_type": "markdown",
   "id": "faa14811",
   "metadata": {},
   "source": [
    "So it looks like all variables are point sources."
   ]
  },
  {
   "cell_type": "code",
   "execution_count": 12,
   "id": "bd4ba3bf",
   "metadata": {},
   "outputs": [
    {
     "data": {
      "text/plain": [
       "array([2, 3])"
      ]
     },
     "execution_count": 12,
     "metadata": {},
     "output_type": "execute_result"
    }
   ],
   "source": [
    "truth.loc[(truth.is_variable == True),'truth_type'].unique()"
   ]
  },
  {
   "cell_type": "markdown",
   "id": "c0fcfe67",
   "metadata": {},
   "source": [
    "per https://arxiv.org/pdf/2101.04855.pdf truth types 2 are stars and 3 are SNe"
   ]
  },
  {
   "cell_type": "code",
   "execution_count": 13,
   "id": "f99014b3",
   "metadata": {},
   "outputs": [],
   "source": [
    "truthsc = coord.SkyCoord(truth.ra,truth.dec,unit='deg')"
   ]
  },
  {
   "cell_type": "markdown",
   "id": "e330e403",
   "metadata": {},
   "source": [
    "### Load DM-reprocessed DIASource catalogs\n",
    "\n",
    "swiped from https://github.com/yalsayyad/dm_notebooks/blob/u/yusra/first_dc2/examples/Gen3-DiaSourceCensus-DC2-med-test.ipynb"
   ]
  },
  {
   "cell_type": "code",
   "execution_count": 14,
   "id": "06e1cc8c",
   "metadata": {},
   "outputs": [],
   "source": [
    "COLLECTION = '2.2i/runs/test-med-1/w_2021_24/DM-30674'\n",
    "#COLLECTION = 'u/ebellm/PREOPS-559'\n",
    "butler = dafButler.Butler('/repo/dc2', collections=COLLECTION)"
   ]
  },
  {
   "cell_type": "code",
   "execution_count": 15,
   "id": "5d4f4a81",
   "metadata": {},
   "outputs": [],
   "source": [
    "dataIds =  butler.registry.queryDataIds(['band', 'instrument', 'detector', 'physical_filter', 'visit_system', 'visit'] , datasets=\"goodSeeingDiff_diaSrcTable\", \n",
    "                                       collections=COLLECTION, where=\"instrument='LSSTCam-imSim'\")"
   ]
  },
  {
   "cell_type": "code",
   "execution_count": 16,
   "id": "4da49f76",
   "metadata": {},
   "outputs": [],
   "source": [
    "tables = []\n",
    "for dataId in dataIds:\n",
    "    tables.append(butler.get('goodSeeingDiff_diaSrcTable', dataId=dataId))\n",
    "\n",
    "df = pd.concat(tables)"
   ]
  },
  {
   "cell_type": "code",
   "execution_count": 17,
   "id": "b9a21a0e",
   "metadata": {},
   "outputs": [
    {
     "data": {
      "text/plain": [
       "416672"
      ]
     },
     "execution_count": 17,
     "metadata": {},
     "output_type": "execute_result"
    }
   ],
   "source": [
    "len(df)"
   ]
  },
  {
   "cell_type": "code",
   "execution_count": 18,
   "id": "af1bb4b0",
   "metadata": {},
   "outputs": [
    {
     "name": "stdout",
     "output_type": "stream",
     "text": [
      "List of available flags:  Index(['base_PixelFlags_flag', 'base_PixelFlags_flag_offimage',\n",
      "       'base_PixelFlags_flag_edge', 'base_PixelFlags_flag_interpolated',\n",
      "       'base_PixelFlags_flag_saturated', 'base_PixelFlags_flag_cr',\n",
      "       'base_PixelFlags_flag_bad', 'base_PixelFlags_flag_suspect',\n",
      "       'base_PixelFlags_flag_interpolatedCenter',\n",
      "       'base_PixelFlags_flag_saturatedCenter', 'base_PixelFlags_flag_crCenter',\n",
      "       'base_PixelFlags_flag_suspectCenter', 'slot_Centroid_flag',\n",
      "       'slot_Centroid_pos_flag', 'slot_Centroid_neg_flag', 'slot_ApFlux_flag',\n",
      "       'slot_ApFlux_flag_apertureTruncated', 'slot_PsfFlux_flag',\n",
      "       'slot_PsfFlux_flag_noGoodPixels', 'slot_PsfFlux_flag_edge',\n",
      "       'ip_diffim_forced_PsfFlux_flag',\n",
      "       'ip_diffim_forced_PsfFlux_flag_noGoodPixels',\n",
      "       'ip_diffim_forced_PsfFlux_flag_edge', 'slot_Shape_flag',\n",
      "       'slot_Shape_flag_unweightedBad', 'slot_Shape_flag_unweighted',\n",
      "       'slot_Shape_flag_shift', 'slot_Shape_flag_maxIter',\n",
      "       'slot_Shape_flag_psf'],\n",
      "      dtype='object')\n"
     ]
    }
   ],
   "source": [
    "config = TransformDiaSourceCatalogConfig()\n",
    "unpacker = UnpackApdbFlags(config.flagMap, 'DiaSource')\n",
    "flag_values = unpacker.unpack(df['flags'], 'flags')\n",
    "flag_names = list(flag_values.dtype.names)\n",
    "\n",
    "flags = pd.DataFrame(flag_values, index=df.index)\n",
    "df = pd.concat([df, flags], axis=1)\n",
    "print(\"List of available flags: \", flags.columns)\n"
   ]
  },
  {
   "cell_type": "code",
   "execution_count": 19,
   "id": "04bca9ca",
   "metadata": {},
   "outputs": [],
   "source": [
    "instrumentDataId = butler.registry.expandDataId(instrument='LSSTCam-imSim')\n",
    "packer = butler.registry.dimensions.makePacker(\"visit_detector\", instrumentDataId)\n",
    "df['visit'] = df.ccdVisitId.apply(lambda x: packer.unpack(x)['visit'])\n",
    "df['detector'] = df.ccdVisitId.apply(lambda x: packer.unpack(x)['detector'])"
   ]
  },
  {
   "cell_type": "code",
   "execution_count": 20,
   "id": "0e130f70",
   "metadata": {},
   "outputs": [],
   "source": [
    "# create some derived columns\n",
    "\n",
    "pixToArcseconds = 0.2\n",
    "PIXEL_SCALE = 0.2\n",
    "SIGMA2FWHM = 2*np.sqrt(2*np.log(2))\n",
    "traceRadius = np.sqrt(0.5) * np.sqrt(df.ixxPSF + df.iyyPSF)\n",
    "df['seeing'] = SIGMA2FWHM * traceRadius\n",
    "\n",
    "bbox = butler.get('goodSeeingDiff_differenceExp.bbox', visit = 471987 , detector=5)\n",
    "wcs = butler.get('goodSeeingDiff_differenceExp.wcs', visit = 471987 , detector=5)\n",
    "APPROX_CCD_AREA = bbox.getArea()*wcs.getPixelScale().asDegrees()**2"
   ]
  },
  {
   "cell_type": "code",
   "execution_count": 21,
   "id": "cd9e150f",
   "metadata": {},
   "outputs": [],
   "source": [
    "# get Focal Plane Coordinates (is there a faster way to do this?)\n",
    "camera = butler.get('camera', instrument='LSSTCam-imSim')\n",
    "\n",
    "def ccd2focalPlane(x, y, ccd):\n",
    "    cc = int(ccd)\n",
    "    det = camera[cc]\n",
    "    point = det.transform(lsst.geom.Point2D(x, y), cameraGeom.PIXELS, cameraGeom.FOCAL_PLANE)\n",
    "    return point[0], point[1]\n",
    "\n",
    "vecCcd2FP =  np.vectorize(ccd2focalPlane)\n",
    "focal_plane = vecCcd2FP(df['x'].values.astype(float), df['y'].values.astype(float), df['detector'].values.astype(int))\n",
    "df['xFP'] = focal_plane[0]\n",
    "df['yFP'] = focal_plane[1]"
   ]
  },
  {
   "cell_type": "code",
   "execution_count": 22,
   "id": "82d0bdeb",
   "metadata": {},
   "outputs": [],
   "source": [
    "pixelFlagNames = [\n",
    "       'base_PixelFlags_flag_offimage',\n",
    "       'base_PixelFlags_flag_edge',\n",
    "       'base_PixelFlags_flag_interpolated',\n",
    "       'base_PixelFlags_flag_saturated',\n",
    "       'base_PixelFlags_flag_cr',\n",
    "       'base_PixelFlags_flag_bad',\n",
    "       'base_PixelFlags_flag_suspect',\n",
    "       'base_PixelFlags_flag_interpolatedCenter',\n",
    "       'base_PixelFlags_flag_saturatedCenter',\n",
    "       'base_PixelFlags_flag_crCenter',\n",
    "       'base_PixelFlags_flag_suspectCenter']\n",
    "\n",
    "centroidFlagNames = [\n",
    "       'slot_Centroid_flag',\n",
    "       'slot_Centroid_pos_flag',\n",
    "       'slot_Centroid_neg_flag',]\n",
    "    \n",
    "fluxFlagNames = [\n",
    "       'slot_ApFlux_flag',\n",
    "       'slot_ApFlux_flag_apertureTruncated',\n",
    "       'slot_PsfFlux_flag',\n",
    "       'slot_PsfFlux_flag_noGoodPixels',\n",
    "       'slot_PsfFlux_flag_edge',\n",
    "       'ip_diffim_forced_PsfFlux_flag',\n",
    "       'ip_diffim_forced_PsfFlux_flag_noGoodPixels',\n",
    "       'ip_diffim_forced_PsfFlux_flag_edge']\n",
    "\n",
    "shapeFlagNames = [\n",
    "       'slot_Shape_flag',\n",
    "       'slot_Shape_flag_unweightedBad',\n",
    "       'slot_Shape_flag_unweighted',\n",
    "       'slot_Shape_flag_shift',\n",
    "       'slot_Shape_flag_maxIter',\n",
    "       'slot_Shape_flag_psf']"
   ]
  },
  {
   "cell_type": "code",
   "execution_count": 23,
   "id": "91a72719",
   "metadata": {},
   "outputs": [
    {
     "data": {
      "text/plain": [
       "Index(['diaSourceId', 'ccdVisitId', 'filterName', 'diaObjectId',\n",
       "       'parentDiaSourceId', 'midPointTai', 'pixelId', 'bboxSize', 'flags',\n",
       "       'ra', 'decl', 'x', 'y', 'xErr', 'yErr', 'apFlux', 'apFluxErr', 'snr',\n",
       "       'psFlux', 'psFluxErr', 'dipMeanFlux', 'dipMeanFluxErr', 'dipFluxDiff',\n",
       "       'dipFluxDiffErr', 'dipLength', 'dipAngle', 'dipChi2', 'isDipole',\n",
       "       'totFlux', 'totFluxErr', 'ixx', 'iyy', 'ixy', 'ixxPSF', 'iyyPSF',\n",
       "       'ixyPSF', 'base_PixelFlags_flag', 'base_PixelFlags_flag_offimage',\n",
       "       'base_PixelFlags_flag_edge', 'base_PixelFlags_flag_interpolated',\n",
       "       'base_PixelFlags_flag_saturated', 'base_PixelFlags_flag_cr',\n",
       "       'base_PixelFlags_flag_bad', 'base_PixelFlags_flag_suspect',\n",
       "       'base_PixelFlags_flag_interpolatedCenter',\n",
       "       'base_PixelFlags_flag_saturatedCenter', 'base_PixelFlags_flag_crCenter',\n",
       "       'base_PixelFlags_flag_suspectCenter', 'slot_Centroid_flag',\n",
       "       'slot_Centroid_pos_flag', 'slot_Centroid_neg_flag', 'slot_ApFlux_flag',\n",
       "       'slot_ApFlux_flag_apertureTruncated', 'slot_PsfFlux_flag',\n",
       "       'slot_PsfFlux_flag_noGoodPixels', 'slot_PsfFlux_flag_edge',\n",
       "       'ip_diffim_forced_PsfFlux_flag',\n",
       "       'ip_diffim_forced_PsfFlux_flag_noGoodPixels',\n",
       "       'ip_diffim_forced_PsfFlux_flag_edge', 'slot_Shape_flag',\n",
       "       'slot_Shape_flag_unweightedBad', 'slot_Shape_flag_unweighted',\n",
       "       'slot_Shape_flag_shift', 'slot_Shape_flag_maxIter',\n",
       "       'slot_Shape_flag_psf', 'visit', 'detector', 'seeing', 'xFP', 'yFP'],\n",
       "      dtype='object')"
      ]
     },
     "execution_count": 23,
     "metadata": {},
     "output_type": "execute_result"
    }
   ],
   "source": [
    "df.columns"
   ]
  },
  {
   "cell_type": "code",
   "execution_count": 24,
   "id": "a8f6cc8d",
   "metadata": {},
   "outputs": [
    {
     "data": {
      "text/plain": [
       "416672"
      ]
     },
     "execution_count": 24,
     "metadata": {},
     "output_type": "execute_result"
    }
   ],
   "source": [
    "len(df)"
   ]
  },
  {
   "cell_type": "code",
   "execution_count": 25,
   "id": "00b5ccee",
   "metadata": {},
   "outputs": [
    {
     "data": {
      "text/plain": [
       "<matplotlib.collections.PathCollection at 0x7f922867b100>"
      ]
     },
     "execution_count": 25,
     "metadata": {},
     "output_type": "execute_result"
    },
    {
     "data": {
      "image/png": "[encoded data removed]",
      "text/plain": [
       "<Figure size 432x288 with 1 Axes>"
      ]
     },
     "metadata": {
      "needs_background": "light"
     },
     "output_type": "display_data"
    }
   ],
   "source": [
    "plt.scatter(df.ra,df.decl)"
   ]
  },
  {
   "cell_type": "code",
   "execution_count": 26,
   "id": "e4534c18",
   "metadata": {},
   "outputs": [],
   "source": [
    "diaSourcesc = coord.SkyCoord(df.ra,df.decl,unit='deg')"
   ]
  },
  {
   "cell_type": "markdown",
   "id": "78abf0cc",
   "metadata": {},
   "source": [
    "### check on DIASource associations"
   ]
  },
  {
   "cell_type": "code",
   "execution_count": 27,
   "id": "c0ad564a",
   "metadata": {},
   "outputs": [],
   "source": [
    "\n",
    "\n",
    "dataIds =  butler.registry.queryDataIds(['skymap','tract','patch'] , datasets=\"goodSeeingDiff_assocDiaSrcTable\", \n",
    "                                       collections=COLLECTION, where=\"instrument='LSSTCam-imSim'\")"
   ]
  },
  {
   "cell_type": "code",
   "execution_count": 28,
   "id": "8f150337",
   "metadata": {},
   "outputs": [
    {
     "data": {
      "text/plain": [
       "{3828}"
      ]
     },
     "execution_count": 28,
     "metadata": {},
     "output_type": "execute_result"
    }
   ],
   "source": [
    "set([x['tract'] for x in dataIds])"
   ]
  },
  {
   "cell_type": "code",
   "execution_count": 29,
   "id": "2e062c6e",
   "metadata": {},
   "outputs": [],
   "source": [
    "tables = []\n",
    "for dataId in dataIds:\n",
    "    tables.append(butler.get('goodSeeingDiff_assocDiaSrcTable', dataId=dataId))\n",
    "\n",
    "dfass = pd.concat(tables)"
   ]
  },
  {
   "cell_type": "code",
   "execution_count": 30,
   "id": "fc59dd28",
   "metadata": {},
   "outputs": [
    {
     "data": {
      "text/plain": [
       "37888"
      ]
     },
     "execution_count": 30,
     "metadata": {},
     "output_type": "execute_result"
    }
   ],
   "source": [
    "len(dfass)"
   ]
  },
  {
   "cell_type": "markdown",
   "id": "e89524b3",
   "metadata": {},
   "source": [
    "so a lot fewer DiaSources, due to upstream pipeline failures.  I can use the \"raw\" DiaSources above to compare to the truth table, although it will be more annoying..."
   ]
  },
  {
   "cell_type": "code",
   "execution_count": 31,
   "id": "daca7d4e",
   "metadata": {},
   "outputs": [
    {
     "data": {
      "text/html": [
       "<div>\n",
       "<style scoped>\n",
       "    .dataframe tbody tr th:only-of-type {\n",
       "        vertical-align: middle;\n",
       "    }\n",
       "\n",
       "    .dataframe tbody tr th {\n",
       "        vertical-align: top;\n",
       "    }\n",
       "\n",
       "    .dataframe thead th {\n",
       "        text-align: right;\n",
       "    }\n",
       "</style>\n",
       "<table border=\"1\" class=\"dataframe\">\n",
       "  <thead>\n",
       "    <tr style=\"text-align: right;\">\n",
       "      <th></th>\n",
       "      <th>ccdVisitId</th>\n",
       "      <th>diaSourceId</th>\n",
       "      <th>filterName</th>\n",
       "      <th>diaObjectId</th>\n",
       "      <th>parentDiaSourceId</th>\n",
       "      <th>midPointTai</th>\n",
       "      <th>pixelId</th>\n",
       "      <th>bboxSize</th>\n",
       "      <th>flags</th>\n",
       "      <th>ra</th>\n",
       "      <th>...</th>\n",
       "      <th>dipChi2</th>\n",
       "      <th>isDipole</th>\n",
       "      <th>totFlux</th>\n",
       "      <th>totFluxErr</th>\n",
       "      <th>ixx</th>\n",
       "      <th>iyy</th>\n",
       "      <th>ixy</th>\n",
       "      <th>ixxPSF</th>\n",
       "      <th>iyyPSF</th>\n",
       "      <th>ixyPSF</th>\n",
       "    </tr>\n",
       "  </thead>\n",
       "  <tbody>\n",
       "    <tr>\n",
       "      <th>0</th>\n",
       "      <td>183818013</td>\n",
       "      <td>98686544281338023</td>\n",
       "      <td>g</td>\n",
       "      <td>3300135772258041994</td>\n",
       "      <td>0</td>\n",
       "      <td>59823.311143</td>\n",
       "      <td>0</td>\n",
       "      <td>129</td>\n",
       "      <td>75498268</td>\n",
       "      <td>56.171273</td>\n",
       "      <td>...</td>\n",
       "      <td>NaN</td>\n",
       "      <td>False</td>\n",
       "      <td>1.987825e+05</td>\n",
       "      <td>395.947396</td>\n",
       "      <td>10.062371</td>\n",
       "      <td>4.054994</td>\n",
       "      <td>0.312510</td>\n",
       "      <td>0.237825</td>\n",
       "      <td>0.003751</td>\n",
       "      <td>0.003751</td>\n",
       "    </tr>\n",
       "    <tr>\n",
       "      <th>1</th>\n",
       "      <td>183818013</td>\n",
       "      <td>98686544281338025</td>\n",
       "      <td>g</td>\n",
       "      <td>3300135772258041926</td>\n",
       "      <td>0</td>\n",
       "      <td>59823.311143</td>\n",
       "      <td>0</td>\n",
       "      <td>47</td>\n",
       "      <td>25165824</td>\n",
       "      <td>56.230046</td>\n",
       "      <td>...</td>\n",
       "      <td>1518.554526</td>\n",
       "      <td>True</td>\n",
       "      <td>2.907464e+05</td>\n",
       "      <td>527.708239</td>\n",
       "      <td>NaN</td>\n",
       "      <td>NaN</td>\n",
       "      <td>NaN</td>\n",
       "      <td>0.237828</td>\n",
       "      <td>0.003751</td>\n",
       "      <td>0.003751</td>\n",
       "    </tr>\n",
       "    <tr>\n",
       "      <th>2</th>\n",
       "      <td>183818013</td>\n",
       "      <td>98686544281338027</td>\n",
       "      <td>g</td>\n",
       "      <td>3300135772258042168</td>\n",
       "      <td>0</td>\n",
       "      <td>59823.311143</td>\n",
       "      <td>0</td>\n",
       "      <td>17</td>\n",
       "      <td>25165824</td>\n",
       "      <td>56.219070</td>\n",
       "      <td>...</td>\n",
       "      <td>NaN</td>\n",
       "      <td>False</td>\n",
       "      <td>-2.108749e+02</td>\n",
       "      <td>103.807468</td>\n",
       "      <td>NaN</td>\n",
       "      <td>NaN</td>\n",
       "      <td>NaN</td>\n",
       "      <td>0.237829</td>\n",
       "      <td>0.003751</td>\n",
       "      <td>0.003751</td>\n",
       "    </tr>\n",
       "    <tr>\n",
       "      <th>3</th>\n",
       "      <td>183818013</td>\n",
       "      <td>98686544281338029</td>\n",
       "      <td>g</td>\n",
       "      <td>3300135772258042140</td>\n",
       "      <td>0</td>\n",
       "      <td>59823.311143</td>\n",
       "      <td>0</td>\n",
       "      <td>32</td>\n",
       "      <td>25166092</td>\n",
       "      <td>56.156852</td>\n",
       "      <td>...</td>\n",
       "      <td>NaN</td>\n",
       "      <td>False</td>\n",
       "      <td>-1.672217e+02</td>\n",
       "      <td>104.428236</td>\n",
       "      <td>NaN</td>\n",
       "      <td>NaN</td>\n",
       "      <td>NaN</td>\n",
       "      <td>0.237826</td>\n",
       "      <td>0.003751</td>\n",
       "      <td>0.003751</td>\n",
       "    </tr>\n",
       "    <tr>\n",
       "      <th>4</th>\n",
       "      <td>183818013</td>\n",
       "      <td>98686544281338030</td>\n",
       "      <td>g</td>\n",
       "      <td>3300135772258041886</td>\n",
       "      <td>0</td>\n",
       "      <td>59823.311143</td>\n",
       "      <td>0</td>\n",
       "      <td>61</td>\n",
       "      <td>41943836</td>\n",
       "      <td>56.207051</td>\n",
       "      <td>...</td>\n",
       "      <td>NaN</td>\n",
       "      <td>False</td>\n",
       "      <td>2.285673e+06</td>\n",
       "      <td>1448.221200</td>\n",
       "      <td>0.228815</td>\n",
       "      <td>0.211231</td>\n",
       "      <td>-0.000957</td>\n",
       "      <td>0.237833</td>\n",
       "      <td>0.003751</td>\n",
       "      <td>0.003751</td>\n",
       "    </tr>\n",
       "  </tbody>\n",
       "</table>\n",
       "<p>5 rows × 36 columns</p>\n",
       "</div>"
      ],
      "text/plain": [
       "   ccdVisitId        diaSourceId filterName          diaObjectId  \\\n",
       "0   183818013  98686544281338023          g  3300135772258041994   \n",
       "1   183818013  98686544281338025          g  3300135772258041926   \n",
       "2   183818013  98686544281338027          g  3300135772258042168   \n",
       "3   183818013  98686544281338029          g  3300135772258042140   \n",
       "4   183818013  98686544281338030          g  3300135772258041886   \n",
       "\n",
       "   parentDiaSourceId   midPointTai  pixelId  bboxSize     flags         ra  \\\n",
       "0                  0  59823.311143        0       129  75498268  56.171273   \n",
       "1                  0  59823.311143        0        47  25165824  56.230046   \n",
       "2                  0  59823.311143        0        17  25165824  56.219070   \n",
       "3                  0  59823.311143        0        32  25166092  56.156852   \n",
       "4                  0  59823.311143        0        61  41943836  56.207051   \n",
       "\n",
       "   ...      dipChi2  isDipole       totFlux   totFluxErr        ixx       iyy  \\\n",
       "0  ...          NaN     False  1.987825e+05   395.947396  10.062371  4.054994   \n",
       "1  ...  1518.554526      True  2.907464e+05   527.708239        NaN       NaN   \n",
       "2  ...          NaN     False -2.108749e+02   103.807468        NaN       NaN   \n",
       "3  ...          NaN     False -1.672217e+02   104.428236        NaN       NaN   \n",
       "4  ...          NaN     False  2.285673e+06  1448.221200   0.228815  0.211231   \n",
       "\n",
       "        ixy    ixxPSF    iyyPSF    ixyPSF  \n",
       "0  0.312510  0.237825  0.003751  0.003751  \n",
       "1       NaN  0.237828  0.003751  0.003751  \n",
       "2       NaN  0.237829  0.003751  0.003751  \n",
       "3       NaN  0.237826  0.003751  0.003751  \n",
       "4 -0.000957  0.237833  0.003751  0.003751  \n",
       "\n",
       "[5 rows x 36 columns]"
      ]
     },
     "execution_count": 31,
     "metadata": {},
     "output_type": "execute_result"
    }
   ],
   "source": [
    "dfass.head()"
   ]
  },
  {
   "cell_type": "code",
   "execution_count": 32,
   "id": "6a657d3e",
   "metadata": {},
   "outputs": [
    {
     "data": {
      "text/plain": [
       "Index(['ccdVisitId', 'diaSourceId', 'filterName', 'diaObjectId',\n",
       "       'parentDiaSourceId', 'midPointTai', 'pixelId', 'bboxSize', 'flags',\n",
       "       'ra', 'decl', 'x', 'y', 'xErr', 'yErr', 'apFlux', 'apFluxErr', 'snr',\n",
       "       'psFlux', 'psFluxErr', 'dipMeanFlux', 'dipMeanFluxErr', 'dipFluxDiff',\n",
       "       'dipFluxDiffErr', 'dipLength', 'dipAngle', 'dipChi2', 'isDipole',\n",
       "       'totFlux', 'totFluxErr', 'ixx', 'iyy', 'ixy', 'ixxPSF', 'iyyPSF',\n",
       "       'ixyPSF'],\n",
       "      dtype='object')"
      ]
     },
     "execution_count": 32,
     "metadata": {},
     "output_type": "execute_result"
    }
   ],
   "source": [
    "dfass.columns"
   ]
  },
  {
   "cell_type": "code",
   "execution_count": 33,
   "id": "11ce6aa2",
   "metadata": {},
   "outputs": [
    {
     "data": {
      "text/plain": [
       "<matplotlib.collections.PathCollection at 0x7f9228682a30>"
      ]
     },
     "execution_count": 33,
     "metadata": {},
     "output_type": "execute_result"
    },
    {
     "data": {
      "image/png": "[encoded data removed]",
      "text/plain": [
       "<Figure size 432x288 with 1 Axes>"
      ]
     },
     "metadata": {
      "needs_background": "light"
     },
     "output_type": "display_data"
    }
   ],
   "source": [
    "#plt.scatter(df.ra,df.decl)\n",
    "plt.scatter(dfass.ra,dfass.decl)"
   ]
  },
  {
   "cell_type": "markdown",
   "id": "e7f7ae53",
   "metadata": {},
   "source": [
    "These are highly incomplete due to pipeline failures in this reprocessing"
   ]
  },
  {
   "cell_type": "markdown",
   "id": "1cdcfd8e",
   "metadata": {},
   "source": [
    "### DIAObjects"
   ]
  },
  {
   "cell_type": "code",
   "execution_count": 34,
   "id": "43510907",
   "metadata": {},
   "outputs": [],
   "source": [
    "\n",
    "\n",
    "dataIds =  butler.registry.queryDataIds(['skymap','tract','patch'] , datasets=\"goodSeeingDiff_diaObjTable\", \n",
    "                                       collections=COLLECTION, where=\"instrument='LSSTCam-imSim'\")"
   ]
  },
  {
   "cell_type": "code",
   "execution_count": 35,
   "id": "4497f159",
   "metadata": {},
   "outputs": [],
   "source": [
    "tables = []\n",
    "for dataId in dataIds:\n",
    "    tables.append(butler.get('goodSeeingDiff_diaObjTable', dataId=dataId))\n",
    "\n",
    "dfo = pd.concat(tables)"
   ]
  },
  {
   "cell_type": "code",
   "execution_count": 36,
   "id": "f8853ad3",
   "metadata": {},
   "outputs": [
    {
     "data": {
      "text/plain": [
       "10778"
      ]
     },
     "execution_count": 36,
     "metadata": {},
     "output_type": "execute_result"
    }
   ],
   "source": [
    "len(dfo)"
   ]
  },
  {
   "cell_type": "code",
   "execution_count": 37,
   "id": "5c5263ae",
   "metadata": {},
   "outputs": [
    {
     "data": {
      "text/html": [
       "<div>\n",
       "<style scoped>\n",
       "    .dataframe tbody tr th:only-of-type {\n",
       "        vertical-align: middle;\n",
       "    }\n",
       "\n",
       "    .dataframe tbody tr th {\n",
       "        vertical-align: top;\n",
       "    }\n",
       "\n",
       "    .dataframe thead th {\n",
       "        text-align: right;\n",
       "    }\n",
       "</style>\n",
       "<table border=\"1\" class=\"dataframe\">\n",
       "  <thead>\n",
       "    <tr style=\"text-align: right;\">\n",
       "      <th></th>\n",
       "      <th>diaObjectId</th>\n",
       "      <th>ra</th>\n",
       "      <th>decl</th>\n",
       "      <th>nDiaSources</th>\n",
       "    </tr>\n",
       "  </thead>\n",
       "  <tbody>\n",
       "    <tr>\n",
       "      <th>0</th>\n",
       "      <td>3300135772258041857</td>\n",
       "      <td>55.958846</td>\n",
       "      <td>-36.715960</td>\n",
       "      <td>4</td>\n",
       "    </tr>\n",
       "    <tr>\n",
       "      <th>1</th>\n",
       "      <td>3300135772258041858</td>\n",
       "      <td>56.000846</td>\n",
       "      <td>-36.733261</td>\n",
       "      <td>1</td>\n",
       "    </tr>\n",
       "    <tr>\n",
       "      <th>2</th>\n",
       "      <td>3300135772258041859</td>\n",
       "      <td>55.966733</td>\n",
       "      <td>-36.747807</td>\n",
       "      <td>54</td>\n",
       "    </tr>\n",
       "    <tr>\n",
       "      <th>3</th>\n",
       "      <td>3300135772258041860</td>\n",
       "      <td>56.005147</td>\n",
       "      <td>-36.753971</td>\n",
       "      <td>33</td>\n",
       "    </tr>\n",
       "    <tr>\n",
       "      <th>4</th>\n",
       "      <td>3300135772258041861</td>\n",
       "      <td>56.093826</td>\n",
       "      <td>-36.556317</td>\n",
       "      <td>1</td>\n",
       "    </tr>\n",
       "  </tbody>\n",
       "</table>\n",
       "</div>"
      ],
      "text/plain": [
       "           diaObjectId         ra       decl  nDiaSources\n",
       "0  3300135772258041857  55.958846 -36.715960            4\n",
       "1  3300135772258041858  56.000846 -36.733261            1\n",
       "2  3300135772258041859  55.966733 -36.747807           54\n",
       "3  3300135772258041860  56.005147 -36.753971           33\n",
       "4  3300135772258041861  56.093826 -36.556317            1"
      ]
     },
     "execution_count": 37,
     "metadata": {},
     "output_type": "execute_result"
    }
   ],
   "source": [
    "dfo.head()"
   ]
  },
  {
   "cell_type": "code",
   "execution_count": 38,
   "id": "cc51dccc",
   "metadata": {},
   "outputs": [
    {
     "data": {
      "text/plain": [
       "<matplotlib.collections.PathCollection at 0x7f922867f6d0>"
      ]
     },
     "execution_count": 38,
     "metadata": {},
     "output_type": "execute_result"
    },
    {
     "data": {
      "image/png": "[encoded data removed]",
      "text/plain": [
       "<Figure size 432x288 with 1 Axes>"
      ]
     },
     "metadata": {
      "needs_background": "light"
     },
     "output_type": "display_data"
    }
   ],
   "source": [
    "plt.scatter(dfo.ra,dfo.decl)"
   ]
  },
  {
   "cell_type": "markdown",
   "id": "dd3502c2",
   "metadata": {},
   "source": [
    "Similar to the associated DIASources, these are highly incomplete."
   ]
  },
  {
   "cell_type": "markdown",
   "id": "1ed7e2cd",
   "metadata": {},
   "source": [
    "### Perform crossmatch"
   ]
  },
  {
   "cell_type": "markdown",
   "id": "19173c96",
   "metadata": {},
   "source": [
    "We will crossmatch the raw DIASources to the truth table as the associated DIASources are incomplete."
   ]
  },
  {
   "cell_type": "code",
   "execution_count": 39,
   "id": "c48b73e9",
   "metadata": {},
   "outputs": [],
   "source": [
    "MATCH_RADIUS_ARCSEC = 1.0"
   ]
  },
  {
   "cell_type": "code",
   "execution_count": 40,
   "id": "ed4a46b8",
   "metadata": {},
   "outputs": [],
   "source": [
    "idx, d2d, d3d = diaSourcesc.match_to_catalog_sky(truthsc)"
   ]
  },
  {
   "cell_type": "code",
   "execution_count": 41,
   "id": "396cb6bd",
   "metadata": {},
   "outputs": [
    {
     "data": {
      "text/plain": [
       "array([2072686, 2206113, 2072686, ..., 2043969, 1781747, 1506716])"
      ]
     },
     "execution_count": 41,
     "metadata": {},
     "output_type": "execute_result"
    }
   ],
   "source": [
    "idx"
   ]
  },
  {
   "cell_type": "code",
   "execution_count": 42,
   "id": "bfaf2a40",
   "metadata": {},
   "outputs": [
    {
     "data": {
      "text/plain": [
       "2072686    6883181858\n",
       "2206113    6883487998\n",
       "2072686    6883181858\n",
       "1818886    6878683571\n",
       "2202652    6883450817\n",
       "              ...    \n",
       "2043969    6887700131\n",
       "1620968    6878506904\n",
       "2043969    6887700131\n",
       "1781747    6878105501\n",
       "1506716    6876129758\n",
       "Name: id, Length: 416672, dtype: object"
      ]
     },
     "execution_count": 42,
     "metadata": {},
     "output_type": "execute_result"
    }
   ],
   "source": [
    "truth.iloc[idx]['id']"
   ]
  },
  {
   "cell_type": "code",
   "execution_count": 43,
   "id": "528321f2",
   "metadata": {},
   "outputs": [],
   "source": [
    "# get back into pandas.  \n",
    "df['truth_xmatch_dist_arcsec'] = d2d.to_value(u.arcsecond)\n",
    "# Let's include all the matches, for reference\n",
    "df['truth_xmatch_id_all'] = pd.Series(truth.iloc[idx]['id'].values, index=df.index)\n",
    "# now make a column that only has the matches with radius.\n",
    "df.loc[df['truth_xmatch_dist_arcsec'] <= MATCH_RADIUS_ARCSEC, 'truth_xmatch_id'] = df.loc[df['truth_xmatch_dist_arcsec'] <= MATCH_RADIUS_ARCSEC, 'truth_xmatch_id_all']"
   ]
  },
  {
   "cell_type": "code",
   "execution_count": 44,
   "id": "08cd986b",
   "metadata": {},
   "outputs": [
    {
     "data": {
      "image/png": "[encoded data removed]",
      "text/plain": [
       "<Figure size 432x288 with 1 Axes>"
      ]
     },
     "metadata": {
      "needs_background": "light"
     },
     "output_type": "display_data"
    }
   ],
   "source": [
    "_ = plt.hist(df['truth_xmatch_dist_arcsec'],bins=np.linspace(0,10,100))\n",
    "plt.gca().set_yscale('log')"
   ]
  },
  {
   "cell_type": "markdown",
   "id": "6c7e7ef3",
   "metadata": {},
   "source": [
    "note that running this seems to require a \"large\" instance"
   ]
  },
  {
   "cell_type": "code",
   "execution_count": 45,
   "id": "527375ce",
   "metadata": {},
   "outputs": [],
   "source": [
    "dfm = pd.merge(truth,df,left_on='id',right_on='truth_xmatch_id',how='outer')"
   ]
  },
  {
   "cell_type": "code",
   "execution_count": 46,
   "id": "595fae59",
   "metadata": {},
   "outputs": [
    {
     "data": {
      "text/html": [
       "<div>\n",
       "<style scoped>\n",
       "    .dataframe tbody tr th:only-of-type {\n",
       "        vertical-align: middle;\n",
       "    }\n",
       "\n",
       "    .dataframe tbody tr th {\n",
       "        vertical-align: top;\n",
       "    }\n",
       "\n",
       "    .dataframe thead th {\n",
       "        text-align: right;\n",
       "    }\n",
       "</style>\n",
       "<table border=\"1\" class=\"dataframe\">\n",
       "  <thead>\n",
       "    <tr style=\"text-align: right;\">\n",
       "      <th></th>\n",
       "      <th>id</th>\n",
       "      <th>host_galaxy</th>\n",
       "      <th>ra_x</th>\n",
       "      <th>dec</th>\n",
       "      <th>redshift</th>\n",
       "      <th>is_variable</th>\n",
       "      <th>is_pointsource</th>\n",
       "      <th>flux_u</th>\n",
       "      <th>flux_g</th>\n",
       "      <th>flux_r</th>\n",
       "      <th>...</th>\n",
       "      <th>slot_Shape_flag_maxIter</th>\n",
       "      <th>slot_Shape_flag_psf</th>\n",
       "      <th>visit</th>\n",
       "      <th>detector</th>\n",
       "      <th>seeing</th>\n",
       "      <th>xFP</th>\n",
       "      <th>yFP</th>\n",
       "      <th>truth_xmatch_dist_arcsec</th>\n",
       "      <th>truth_xmatch_id_all</th>\n",
       "      <th>truth_xmatch_id</th>\n",
       "    </tr>\n",
       "  </thead>\n",
       "  <tbody>\n",
       "    <tr>\n",
       "      <th>0</th>\n",
       "      <td>7816513885</td>\n",
       "      <td>-1.0</td>\n",
       "      <td>57.503538</td>\n",
       "      <td>-37.189842</td>\n",
       "      <td>1.270010</td>\n",
       "      <td>0.0</td>\n",
       "      <td>0.0</td>\n",
       "      <td>246.984558</td>\n",
       "      <td>234.669754</td>\n",
       "      <td>214.219315</td>\n",
       "      <td>...</td>\n",
       "      <td>NaN</td>\n",
       "      <td>NaN</td>\n",
       "      <td>NaN</td>\n",
       "      <td>NaN</td>\n",
       "      <td>NaN</td>\n",
       "      <td>NaN</td>\n",
       "      <td>NaN</td>\n",
       "      <td>NaN</td>\n",
       "      <td>NaN</td>\n",
       "      <td>NaN</td>\n",
       "    </tr>\n",
       "    <tr>\n",
       "      <th>1</th>\n",
       "      <td>7812675090</td>\n",
       "      <td>-1.0</td>\n",
       "      <td>57.451876</td>\n",
       "      <td>-37.189982</td>\n",
       "      <td>0.344580</td>\n",
       "      <td>0.0</td>\n",
       "      <td>0.0</td>\n",
       "      <td>31.958035</td>\n",
       "      <td>60.569202</td>\n",
       "      <td>131.726593</td>\n",
       "      <td>...</td>\n",
       "      <td>NaN</td>\n",
       "      <td>NaN</td>\n",
       "      <td>NaN</td>\n",
       "      <td>NaN</td>\n",
       "      <td>NaN</td>\n",
       "      <td>NaN</td>\n",
       "      <td>NaN</td>\n",
       "      <td>NaN</td>\n",
       "      <td>NaN</td>\n",
       "      <td>NaN</td>\n",
       "    </tr>\n",
       "    <tr>\n",
       "      <th>2</th>\n",
       "      <td>7814647934</td>\n",
       "      <td>-1.0</td>\n",
       "      <td>57.506052</td>\n",
       "      <td>-37.189499</td>\n",
       "      <td>0.990622</td>\n",
       "      <td>0.0</td>\n",
       "      <td>0.0</td>\n",
       "      <td>65.868942</td>\n",
       "      <td>80.165848</td>\n",
       "      <td>122.161423</td>\n",
       "      <td>...</td>\n",
       "      <td>NaN</td>\n",
       "      <td>NaN</td>\n",
       "      <td>NaN</td>\n",
       "      <td>NaN</td>\n",
       "      <td>NaN</td>\n",
       "      <td>NaN</td>\n",
       "      <td>NaN</td>\n",
       "      <td>NaN</td>\n",
       "      <td>NaN</td>\n",
       "      <td>NaN</td>\n",
       "    </tr>\n",
       "    <tr>\n",
       "      <th>3</th>\n",
       "      <td>7814197393</td>\n",
       "      <td>-1.0</td>\n",
       "      <td>57.529435</td>\n",
       "      <td>-37.189048</td>\n",
       "      <td>0.892836</td>\n",
       "      <td>0.0</td>\n",
       "      <td>0.0</td>\n",
       "      <td>66.701424</td>\n",
       "      <td>88.351448</td>\n",
       "      <td>162.388611</td>\n",
       "      <td>...</td>\n",
       "      <td>NaN</td>\n",
       "      <td>NaN</td>\n",
       "      <td>NaN</td>\n",
       "      <td>NaN</td>\n",
       "      <td>NaN</td>\n",
       "      <td>NaN</td>\n",
       "      <td>NaN</td>\n",
       "      <td>NaN</td>\n",
       "      <td>NaN</td>\n",
       "      <td>NaN</td>\n",
       "    </tr>\n",
       "    <tr>\n",
       "      <th>4</th>\n",
       "      <td>7813507782</td>\n",
       "      <td>-1.0</td>\n",
       "      <td>57.407629</td>\n",
       "      <td>-37.189873</td>\n",
       "      <td>0.697208</td>\n",
       "      <td>0.0</td>\n",
       "      <td>0.0</td>\n",
       "      <td>17.108637</td>\n",
       "      <td>28.560108</td>\n",
       "      <td>67.255020</td>\n",
       "      <td>...</td>\n",
       "      <td>NaN</td>\n",
       "      <td>NaN</td>\n",
       "      <td>NaN</td>\n",
       "      <td>NaN</td>\n",
       "      <td>NaN</td>\n",
       "      <td>NaN</td>\n",
       "      <td>NaN</td>\n",
       "      <td>NaN</td>\n",
       "      <td>NaN</td>\n",
       "      <td>NaN</td>\n",
       "    </tr>\n",
       "    <tr>\n",
       "      <th>...</th>\n",
       "      <td>...</td>\n",
       "      <td>...</td>\n",
       "      <td>...</td>\n",
       "      <td>...</td>\n",
       "      <td>...</td>\n",
       "      <td>...</td>\n",
       "      <td>...</td>\n",
       "      <td>...</td>\n",
       "      <td>...</td>\n",
       "      <td>...</td>\n",
       "      <td>...</td>\n",
       "      <td>...</td>\n",
       "      <td>...</td>\n",
       "      <td>...</td>\n",
       "      <td>...</td>\n",
       "      <td>...</td>\n",
       "      <td>...</td>\n",
       "      <td>...</td>\n",
       "      <td>...</td>\n",
       "      <td>...</td>\n",
       "      <td>...</td>\n",
       "    </tr>\n",
       "    <tr>\n",
       "      <th>5086070</th>\n",
       "      <td>NaN</td>\n",
       "      <td>NaN</td>\n",
       "      <td>NaN</td>\n",
       "      <td>NaN</td>\n",
       "      <td>NaN</td>\n",
       "      <td>NaN</td>\n",
       "      <td>NaN</td>\n",
       "      <td>NaN</td>\n",
       "      <td>NaN</td>\n",
       "      <td>NaN</td>\n",
       "      <td>...</td>\n",
       "      <td>False</td>\n",
       "      <td>False</td>\n",
       "      <td>496989.0</td>\n",
       "      <td>188.0</td>\n",
       "      <td>0.599789</td>\n",
       "      <td>180.056313</td>\n",
       "      <td>314.882361</td>\n",
       "      <td>2872.473468</td>\n",
       "      <td>6887700131</td>\n",
       "      <td>NaN</td>\n",
       "    </tr>\n",
       "    <tr>\n",
       "      <th>5086071</th>\n",
       "      <td>NaN</td>\n",
       "      <td>NaN</td>\n",
       "      <td>NaN</td>\n",
       "      <td>NaN</td>\n",
       "      <td>NaN</td>\n",
       "      <td>NaN</td>\n",
       "      <td>NaN</td>\n",
       "      <td>NaN</td>\n",
       "      <td>NaN</td>\n",
       "      <td>NaN</td>\n",
       "      <td>...</td>\n",
       "      <td>False</td>\n",
       "      <td>False</td>\n",
       "      <td>496989.0</td>\n",
       "      <td>188.0</td>\n",
       "      <td>0.599744</td>\n",
       "      <td>189.139590</td>\n",
       "      <td>315.104912</td>\n",
       "      <td>2983.971227</td>\n",
       "      <td>6878506904</td>\n",
       "      <td>NaN</td>\n",
       "    </tr>\n",
       "    <tr>\n",
       "      <th>5086072</th>\n",
       "      <td>NaN</td>\n",
       "      <td>NaN</td>\n",
       "      <td>NaN</td>\n",
       "      <td>NaN</td>\n",
       "      <td>NaN</td>\n",
       "      <td>NaN</td>\n",
       "      <td>NaN</td>\n",
       "      <td>NaN</td>\n",
       "      <td>NaN</td>\n",
       "      <td>NaN</td>\n",
       "      <td>...</td>\n",
       "      <td>False</td>\n",
       "      <td>False</td>\n",
       "      <td>496989.0</td>\n",
       "      <td>188.0</td>\n",
       "      <td>0.599795</td>\n",
       "      <td>177.325662</td>\n",
       "      <td>315.626277</td>\n",
       "      <td>2852.117651</td>\n",
       "      <td>6887700131</td>\n",
       "      <td>NaN</td>\n",
       "    </tr>\n",
       "    <tr>\n",
       "      <th>5086073</th>\n",
       "      <td>NaN</td>\n",
       "      <td>NaN</td>\n",
       "      <td>NaN</td>\n",
       "      <td>NaN</td>\n",
       "      <td>NaN</td>\n",
       "      <td>NaN</td>\n",
       "      <td>NaN</td>\n",
       "      <td>NaN</td>\n",
       "      <td>NaN</td>\n",
       "      <td>NaN</td>\n",
       "      <td>...</td>\n",
       "      <td>False</td>\n",
       "      <td>False</td>\n",
       "      <td>496989.0</td>\n",
       "      <td>188.0</td>\n",
       "      <td>0.599837</td>\n",
       "      <td>168.135417</td>\n",
       "      <td>315.661987</td>\n",
       "      <td>2743.393065</td>\n",
       "      <td>6878105501</td>\n",
       "      <td>NaN</td>\n",
       "    </tr>\n",
       "    <tr>\n",
       "      <th>5086074</th>\n",
       "      <td>NaN</td>\n",
       "      <td>NaN</td>\n",
       "      <td>NaN</td>\n",
       "      <td>NaN</td>\n",
       "      <td>NaN</td>\n",
       "      <td>NaN</td>\n",
       "      <td>NaN</td>\n",
       "      <td>NaN</td>\n",
       "      <td>NaN</td>\n",
       "      <td>NaN</td>\n",
       "      <td>...</td>\n",
       "      <td>False</td>\n",
       "      <td>False</td>\n",
       "      <td>496989.0</td>\n",
       "      <td>188.0</td>\n",
       "      <td>0.599802</td>\n",
       "      <td>175.539133</td>\n",
       "      <td>315.734726</td>\n",
       "      <td>2832.541161</td>\n",
       "      <td>6876129758</td>\n",
       "      <td>NaN</td>\n",
       "    </tr>\n",
       "  </tbody>\n",
       "</table>\n",
       "<p>5086075 rows × 103 columns</p>\n",
       "</div>"
      ],
      "text/plain": [
       "                 id  host_galaxy       ra_x        dec  redshift  is_variable  \\\n",
       "0        7816513885         -1.0  57.503538 -37.189842  1.270010          0.0   \n",
       "1        7812675090         -1.0  57.451876 -37.189982  0.344580          0.0   \n",
       "2        7814647934         -1.0  57.506052 -37.189499  0.990622          0.0   \n",
       "3        7814197393         -1.0  57.529435 -37.189048  0.892836          0.0   \n",
       "4        7813507782         -1.0  57.407629 -37.189873  0.697208          0.0   \n",
       "...             ...          ...        ...        ...       ...          ...   \n",
       "5086070         NaN          NaN        NaN        NaN       NaN          NaN   \n",
       "5086071         NaN          NaN        NaN        NaN       NaN          NaN   \n",
       "5086072         NaN          NaN        NaN        NaN       NaN          NaN   \n",
       "5086073         NaN          NaN        NaN        NaN       NaN          NaN   \n",
       "5086074         NaN          NaN        NaN        NaN       NaN          NaN   \n",
       "\n",
       "         is_pointsource      flux_u      flux_g      flux_r  ...  \\\n",
       "0                   0.0  246.984558  234.669754  214.219315  ...   \n",
       "1                   0.0   31.958035   60.569202  131.726593  ...   \n",
       "2                   0.0   65.868942   80.165848  122.161423  ...   \n",
       "3                   0.0   66.701424   88.351448  162.388611  ...   \n",
       "4                   0.0   17.108637   28.560108   67.255020  ...   \n",
       "...                 ...         ...         ...         ...  ...   \n",
       "5086070             NaN         NaN         NaN         NaN  ...   \n",
       "5086071             NaN         NaN         NaN         NaN  ...   \n",
       "5086072             NaN         NaN         NaN         NaN  ...   \n",
       "5086073             NaN         NaN         NaN         NaN  ...   \n",
       "5086074             NaN         NaN         NaN         NaN  ...   \n",
       "\n",
       "         slot_Shape_flag_maxIter  slot_Shape_flag_psf     visit  detector  \\\n",
       "0                            NaN                  NaN       NaN       NaN   \n",
       "1                            NaN                  NaN       NaN       NaN   \n",
       "2                            NaN                  NaN       NaN       NaN   \n",
       "3                            NaN                  NaN       NaN       NaN   \n",
       "4                            NaN                  NaN       NaN       NaN   \n",
       "...                          ...                  ...       ...       ...   \n",
       "5086070                    False                False  496989.0     188.0   \n",
       "5086071                    False                False  496989.0     188.0   \n",
       "5086072                    False                False  496989.0     188.0   \n",
       "5086073                    False                False  496989.0     188.0   \n",
       "5086074                    False                False  496989.0     188.0   \n",
       "\n",
       "           seeing         xFP         yFP  truth_xmatch_dist_arcsec  \\\n",
       "0             NaN         NaN         NaN                       NaN   \n",
       "1             NaN         NaN         NaN                       NaN   \n",
       "2             NaN         NaN         NaN                       NaN   \n",
       "3             NaN         NaN         NaN                       NaN   \n",
       "4             NaN         NaN         NaN                       NaN   \n",
       "...           ...         ...         ...                       ...   \n",
       "5086070  0.599789  180.056313  314.882361               2872.473468   \n",
       "5086071  0.599744  189.139590  315.104912               2983.971227   \n",
       "5086072  0.599795  177.325662  315.626277               2852.117651   \n",
       "5086073  0.599837  168.135417  315.661987               2743.393065   \n",
       "5086074  0.599802  175.539133  315.734726               2832.541161   \n",
       "\n",
       "         truth_xmatch_id_all  truth_xmatch_id  \n",
       "0                        NaN              NaN  \n",
       "1                        NaN              NaN  \n",
       "2                        NaN              NaN  \n",
       "3                        NaN              NaN  \n",
       "4                        NaN              NaN  \n",
       "...                      ...              ...  \n",
       "5086070           6887700131              NaN  \n",
       "5086071           6878506904              NaN  \n",
       "5086072           6887700131              NaN  \n",
       "5086073           6878105501              NaN  \n",
       "5086074           6876129758              NaN  \n",
       "\n",
       "[5086075 rows x 103 columns]"
      ]
     },
     "execution_count": 46,
     "metadata": {},
     "output_type": "execute_result"
    }
   ],
   "source": [
    "dfm"
   ]
  },
  {
   "cell_type": "code",
   "execution_count": 97,
   "id": "e7652ae7",
   "metadata": {},
   "outputs": [
    {
     "data": {
      "text/plain": [
       "['id',\n",
       " 'host_galaxy',\n",
       " 'ra_x',\n",
       " 'dec',\n",
       " 'redshift',\n",
       " 'is_variable',\n",
       " 'is_pointsource',\n",
       " 'flux_u',\n",
       " 'flux_g',\n",
       " 'flux_r',\n",
       " 'flux_i',\n",
       " 'flux_z',\n",
       " 'flux_y',\n",
       " 'flux_u_noMW',\n",
       " 'flux_g_noMW',\n",
       " 'flux_r_noMW',\n",
       " 'flux_i_noMW',\n",
       " 'flux_z_noMW',\n",
       " 'flux_y_noMW',\n",
       " 'tract',\n",
       " 'patch',\n",
       " 'truth_type',\n",
       " 'cosmodc2_hp',\n",
       " 'cosmodc2_id',\n",
       " 'mag_r',\n",
       " 'match_objectId',\n",
       " 'match_sep',\n",
       " 'is_good_match',\n",
       " 'is_nearest_neighbor',\n",
       " 'is_unique_truth_entry',\n",
       " 'diaSourceId',\n",
       " 'ccdVisitId',\n",
       " 'filterName',\n",
       " 'diaObjectId',\n",
       " 'parentDiaSourceId',\n",
       " 'midPointTai',\n",
       " 'pixelId',\n",
       " 'bboxSize',\n",
       " 'flags',\n",
       " 'ra_y',\n",
       " 'decl',\n",
       " 'x',\n",
       " 'y',\n",
       " 'xErr',\n",
       " 'yErr',\n",
       " 'apFlux',\n",
       " 'apFluxErr',\n",
       " 'snr',\n",
       " 'psFlux',\n",
       " 'psFluxErr',\n",
       " 'dipMeanFlux',\n",
       " 'dipMeanFluxErr',\n",
       " 'dipFluxDiff',\n",
       " 'dipFluxDiffErr',\n",
       " 'dipLength',\n",
       " 'dipAngle',\n",
       " 'dipChi2',\n",
       " 'isDipole',\n",
       " 'totFlux',\n",
       " 'totFluxErr',\n",
       " 'ixx',\n",
       " 'iyy',\n",
       " 'ixy',\n",
       " 'ixxPSF',\n",
       " 'iyyPSF',\n",
       " 'ixyPSF',\n",
       " 'base_PixelFlags_flag',\n",
       " 'base_PixelFlags_flag_offimage',\n",
       " 'base_PixelFlags_flag_edge',\n",
       " 'base_PixelFlags_flag_interpolated',\n",
       " 'base_PixelFlags_flag_saturated',\n",
       " 'base_PixelFlags_flag_cr',\n",
       " 'base_PixelFlags_flag_bad',\n",
       " 'base_PixelFlags_flag_suspect',\n",
       " 'base_PixelFlags_flag_interpolatedCenter',\n",
       " 'base_PixelFlags_flag_saturatedCenter',\n",
       " 'base_PixelFlags_flag_crCenter',\n",
       " 'base_PixelFlags_flag_suspectCenter',\n",
       " 'slot_Centroid_flag',\n",
       " 'slot_Centroid_pos_flag',\n",
       " 'slot_Centroid_neg_flag',\n",
       " 'slot_ApFlux_flag',\n",
       " 'slot_ApFlux_flag_apertureTruncated',\n",
       " 'slot_PsfFlux_flag',\n",
       " 'slot_PsfFlux_flag_noGoodPixels',\n",
       " 'slot_PsfFlux_flag_edge',\n",
       " 'ip_diffim_forced_PsfFlux_flag',\n",
       " 'ip_diffim_forced_PsfFlux_flag_noGoodPixels',\n",
       " 'ip_diffim_forced_PsfFlux_flag_edge',\n",
       " 'slot_Shape_flag',\n",
       " 'slot_Shape_flag_unweightedBad',\n",
       " 'slot_Shape_flag_unweighted',\n",
       " 'slot_Shape_flag_shift',\n",
       " 'slot_Shape_flag_maxIter',\n",
       " 'slot_Shape_flag_psf',\n",
       " 'visit',\n",
       " 'detector',\n",
       " 'seeing',\n",
       " 'xFP',\n",
       " 'yFP',\n",
       " 'truth_xmatch_dist_arcsec',\n",
       " 'truth_xmatch_id_all',\n",
       " 'truth_xmatch_id',\n",
       " 'confusion_label']"
      ]
     },
     "execution_count": 97,
     "metadata": {},
     "output_type": "execute_result"
    }
   ],
   "source": [
    "dfm.columns.to_list()"
   ]
  },
  {
   "cell_type": "markdown",
   "id": "d65d3637",
   "metadata": {},
   "source": [
    "### Evaluate confusion matrix"
   ]
  },
  {
   "cell_type": "code",
   "execution_count": 48,
   "id": "87ab8f87",
   "metadata": {},
   "outputs": [],
   "source": [
    "wmatched = (dfm['truth_xmatch_dist_arcsec'] <= MATCH_RADIUS_ARCSEC)"
   ]
  },
  {
   "cell_type": "code",
   "execution_count": 49,
   "id": "c7693653",
   "metadata": {},
   "outputs": [
    {
     "data": {
      "text/plain": [
       "5086075"
      ]
     },
     "execution_count": 49,
     "metadata": {},
     "output_type": "execute_result"
    }
   ],
   "source": [
    "len(dfm)"
   ]
  },
  {
   "cell_type": "code",
   "execution_count": 50,
   "id": "78bca731",
   "metadata": {},
   "outputs": [
    {
     "data": {
      "text/plain": [
       "5086075"
      ]
     },
     "execution_count": 50,
     "metadata": {},
     "output_type": "execute_result"
    }
   ],
   "source": [
    "np.sum(wmatched) + np.sum(~wmatched)"
   ]
  },
  {
   "cell_type": "code",
   "execution_count": 51,
   "id": "026ede12",
   "metadata": {},
   "outputs": [
    {
     "name": "stdout",
     "output_type": "stream",
     "text": [
      "196016\n"
     ]
    }
   ],
   "source": [
    "# true positives\n",
    "wtp = wmatched & (dfm['is_variable'] == 1) # have to use explicit equality since is_variable can be NaN when there is no truth counterpart\n",
    "ntp = np.sum(wtp)\n",
    "dfm.loc[wtp,'confusion_label'] = 'True Positive'\n",
    "print(ntp)"
   ]
  },
  {
   "cell_type": "code",
   "execution_count": 52,
   "id": "c2f8f31c",
   "metadata": {},
   "outputs": [
    {
     "name": "stdout",
     "output_type": "stream",
     "text": [
      "4590911\n"
     ]
    }
   ],
   "source": [
    "# true negatives \n",
    "wtn = ~wmatched & (dfm['is_variable'] == 0)\n",
    "ntn = np.sum(wtn)\n",
    "dfm.loc[wtn,'confusion_label'] = 'True Negative'\n",
    "\n",
    "print(ntn)"
   ]
  },
  {
   "cell_type": "code",
   "execution_count": 53,
   "id": "b4476994",
   "metadata": {},
   "outputs": [
    {
     "name": "stdout",
     "output_type": "stream",
     "text": [
      "275936\n"
     ]
    }
   ],
   "source": [
    "# false positives (either a match to a non-variable source, or a DIASource with no truth table counterpart)\n",
    "wfp = (wmatched & (dfm['is_variable'] == 0)) | (dfm['id'].isnull())\n",
    "nfp = np.sum(wfp)\n",
    "dfm.loc[wfp,'confusion_label'] = 'False Positive'\n",
    "\n",
    "print(nfp)"
   ]
  },
  {
   "cell_type": "code",
   "execution_count": 54,
   "id": "4b972e4c",
   "metadata": {},
   "outputs": [
    {
     "name": "stdout",
     "output_type": "stream",
     "text": [
      "23212\n"
     ]
    }
   ],
   "source": [
    "# false negatives (maybe!  depends how bright the variability is) \n",
    "wfn = ~wmatched & (dfm['is_variable'] == 1)\n",
    "nfn = np.sum(wfn)\n",
    "dfm.loc[wfn,'confusion_label'] = 'False Negative'\n",
    "\n",
    "print(nfn)"
   ]
  },
  {
   "cell_type": "markdown",
   "id": "d4640efc",
   "metadata": {},
   "source": [
    "Since we have truth labels and \"predictions\" (whether or not we actually detected a DIASource) we can use the scikit-learn tooling to make a confusion matrix.  Our truth labels are true if there is a variable source in the simulation and false otherwise, and our prediction for that row is true if there is a matched DIASource and false otherwise."
   ]
  },
  {
   "cell_type": "code",
   "execution_count": 55,
   "id": "b90e086d",
   "metadata": {},
   "outputs": [],
   "source": [
    "# now let's put this in sklearn language\n",
    "y_true = dfm['is_variable'] == 1.0\n",
    "y_pred = wmatched"
   ]
  },
  {
   "cell_type": "code",
   "execution_count": 56,
   "id": "b92da1ac",
   "metadata": {},
   "outputs": [
    {
     "data": {
      "text/plain": [
       "True"
      ]
     },
     "execution_count": 56,
     "metadata": {},
     "output_type": "execute_result"
    }
   ],
   "source": [
    "len(dfm) == (ntp + ntn + nfp + nfn)"
   ]
  },
  {
   "cell_type": "code",
   "execution_count": 57,
   "id": "8a0de904",
   "metadata": {},
   "outputs": [
    {
     "data": {
      "text/plain": [
       "5086075"
      ]
     },
     "execution_count": 57,
     "metadata": {},
     "output_type": "execute_result"
    }
   ],
   "source": [
    "(ntp + ntn + nfp + nfn)"
   ]
  },
  {
   "cell_type": "code",
   "execution_count": 58,
   "id": "75a3fe0b",
   "metadata": {},
   "outputs": [
    {
     "data": {
      "text/plain": [
       "False"
      ]
     },
     "execution_count": 58,
     "metadata": {},
     "output_type": "execute_result"
    }
   ],
   "source": [
    "len(truth) == len(dfm)"
   ]
  },
  {
   "cell_type": "markdown",
   "id": "72130fd6",
   "metadata": {},
   "source": [
    "these are not the same because we have false positive DIASources that don't have truth entries"
   ]
  },
  {
   "cell_type": "code",
   "execution_count": 59,
   "id": "e53c4c5e",
   "metadata": {},
   "outputs": [
    {
     "data": {
      "text/plain": [
       "232849"
      ]
     },
     "execution_count": 59,
     "metadata": {},
     "output_type": "execute_result"
    }
   ],
   "source": [
    "np.sum(dfm['id'].isna())"
   ]
  },
  {
   "cell_type": "code",
   "execution_count": 60,
   "id": "ee6dd778",
   "metadata": {},
   "outputs": [
    {
     "data": {
      "text/plain": [
       "False"
      ]
     },
     "execution_count": 60,
     "metadata": {},
     "output_type": "execute_result"
    }
   ],
   "source": [
    "len(truth) + np.sum(dfm['id'].isna())== len(dfm)"
   ]
  },
  {
   "cell_type": "code",
   "execution_count": 61,
   "id": "a1e549bb",
   "metadata": {},
   "outputs": [
    {
     "data": {
      "text/plain": [
       "4645755"
      ]
     },
     "execution_count": 61,
     "metadata": {},
     "output_type": "execute_result"
    }
   ],
   "source": [
    "len(truth)"
   ]
  },
  {
   "cell_type": "code",
   "execution_count": 62,
   "id": "fdb85abd",
   "metadata": {},
   "outputs": [
    {
     "data": {
      "text/plain": [
       "5086075"
      ]
     },
     "execution_count": 62,
     "metadata": {},
     "output_type": "execute_result"
    }
   ],
   "source": [
    "len(dfm)"
   ]
  },
  {
   "cell_type": "code",
   "execution_count": 63,
   "id": "5f4f3e20",
   "metadata": {},
   "outputs": [
    {
     "data": {
      "text/plain": [
       "4878604"
      ]
     },
     "execution_count": 63,
     "metadata": {},
     "output_type": "execute_result"
    }
   ],
   "source": [
    "len(truth) + np.sum(dfm['id'].isna())"
   ]
  },
  {
   "cell_type": "markdown",
   "id": "d5553e0d",
   "metadata": {},
   "source": [
    "(maybe this is multiple DIASources to the same truth entry?)"
   ]
  },
  {
   "cell_type": "code",
   "execution_count": 64,
   "id": "0adb79ce",
   "metadata": {},
   "outputs": [
    {
     "data": {
      "text/plain": [
       "4638171"
      ]
     },
     "execution_count": 64,
     "metadata": {},
     "output_type": "execute_result"
    }
   ],
   "source": [
    "len(dfm['id'].unique())"
   ]
  },
  {
   "cell_type": "code",
   "execution_count": 65,
   "id": "4a351153",
   "metadata": {},
   "outputs": [
    {
     "data": {
      "text/plain": [
       "4638170"
      ]
     },
     "execution_count": 65,
     "metadata": {},
     "output_type": "execute_result"
    }
   ],
   "source": [
    "len(truth['id'].unique())"
   ]
  },
  {
   "cell_type": "markdown",
   "id": "41569adc",
   "metadata": {},
   "source": [
    "the off by one is pretty annoying...  but this seems to confirm that duplicate truth-match entries is the issue."
   ]
  },
  {
   "cell_type": "code",
   "execution_count": 66,
   "id": "bc2cfd47",
   "metadata": {},
   "outputs": [],
   "source": [
    "from sklearn.metrics import confusion_matrix, plot_confusion_matrix, ConfusionMatrixDisplay\n",
    "import seaborn as sns"
   ]
  },
  {
   "cell_type": "code",
   "execution_count": 67,
   "id": "de713d40",
   "metadata": {},
   "outputs": [],
   "source": [
    "sns.set_context('talk')"
   ]
  },
  {
   "cell_type": "code",
   "execution_count": 68,
   "id": "493ca914",
   "metadata": {},
   "outputs": [
    {
     "data": {
      "text/plain": [
       "<sklearn.metrics._plot.confusion_matrix.ConfusionMatrixDisplay at 0x7f92416ed700>"
      ]
     },
     "execution_count": 68,
     "metadata": {},
     "output_type": "execute_result"
    },
    {
     "data": {
      "image/png": "[encoded data removed]",
      "text/plain": [
       "<Figure size 720x720 with 2 Axes>"
      ]
     },
     "metadata": {
      "needs_background": "light"
     },
     "output_type": "display_data"
    }
   ],
   "source": [
    "fig = plt.figure(figsize=(10,10))\n",
    "ax = fig.add_subplot(111)\n",
    "cm = confusion_matrix(y_true, y_pred, normalize='true')#, labels=clf.classes_)\n",
    "disp = ConfusionMatrixDisplay(confusion_matrix=cm)#,\n",
    "                               #display_labels=clf.classes_)\n",
    "disp.plot(ax=ax) "
   ]
  },
  {
   "cell_type": "code",
   "execution_count": 135,
   "id": "09730b50",
   "metadata": {},
   "outputs": [
    {
     "data": {
      "text/plain": [
       "<sklearn.metrics._plot.confusion_matrix.ConfusionMatrixDisplay at 0x7f9245e55a90>"
      ]
     },
     "execution_count": 135,
     "metadata": {},
     "output_type": "execute_result"
    },
    {
     "data": {
      "image/png": "[encoded data removed]",
      "text/plain": [
       "<Figure size 720x720 with 2 Axes>"
      ]
     },
     "metadata": {
      "needs_background": "light"
     },
     "output_type": "display_data"
    }
   ],
   "source": [
    "fig = plt.figure(figsize=(10,10))\n",
    "ax = fig.add_subplot(111)\n",
    "cm = confusion_matrix(y_true, y_pred)#, labels=clf.classes_)\n",
    "disp = ConfusionMatrixDisplay(confusion_matrix=cm)#,\n",
    "                               #display_labels=clf.classes_)\n",
    "disp.plot(ax=ax) "
   ]
  },
  {
   "cell_type": "code",
   "execution_count": 136,
   "id": "811939e4",
   "metadata": {},
   "outputs": [
    {
     "data": {
      "text/plain": [
       "array([[4823760,   43087],\n",
       "       [  23212,  196016]])"
      ]
     },
     "execution_count": 136,
     "metadata": {},
     "output_type": "execute_result"
    }
   ],
   "source": [
    "cm"
   ]
  },
  {
   "cell_type": "code",
   "execution_count": 138,
   "id": "0f4c56dd",
   "metadata": {},
   "outputs": [
    {
     "data": {
      "text/plain": [
       "array([ 23212, 196016])"
      ]
     },
     "execution_count": 138,
     "metadata": {},
     "output_type": "execute_result"
    }
   ],
   "source": [
    "cm[1,:]"
   ]
  },
  {
   "cell_type": "code",
   "execution_count": 139,
   "id": "d3114146",
   "metadata": {},
   "outputs": [
    {
     "data": {
      "text/plain": [
       "array([ 43087, 196016])"
      ]
     },
     "execution_count": 139,
     "metadata": {},
     "output_type": "execute_result"
    }
   ],
   "source": [
    "cm[:,1]"
   ]
  },
  {
   "cell_type": "code",
   "execution_count": 141,
   "id": "a2905386",
   "metadata": {},
   "outputs": [
    {
     "name": "stdout",
     "output_type": "stream",
     "text": [
      "0.8941193643147773 0.8197973258386553\n"
     ]
    }
   ],
   "source": [
    "completeness = cm[1,1]/np.sum(cm[1,:])\n",
    "purity = cm[1,1]/np.sum(cm[:,1])\n",
    "print(completeness, purity)"
   ]
  },
  {
   "cell_type": "markdown",
   "id": "25122f88",
   "metadata": {},
   "source": [
    "### Plots of the samples"
   ]
  },
  {
   "cell_type": "code",
   "execution_count": 98,
   "id": "dd3a21c7",
   "metadata": {},
   "outputs": [
    {
     "data": {
      "text/plain": [
       "['id',\n",
       " 'host_galaxy',\n",
       " 'ra_x',\n",
       " 'dec',\n",
       " 'redshift',\n",
       " 'is_variable',\n",
       " 'is_pointsource',\n",
       " 'flux_u',\n",
       " 'flux_g',\n",
       " 'flux_r',\n",
       " 'flux_i',\n",
       " 'flux_z',\n",
       " 'flux_y',\n",
       " 'flux_u_noMW',\n",
       " 'flux_g_noMW',\n",
       " 'flux_r_noMW',\n",
       " 'flux_i_noMW',\n",
       " 'flux_z_noMW',\n",
       " 'flux_y_noMW',\n",
       " 'tract',\n",
       " 'patch',\n",
       " 'truth_type',\n",
       " 'cosmodc2_hp',\n",
       " 'cosmodc2_id',\n",
       " 'mag_r',\n",
       " 'match_objectId',\n",
       " 'match_sep',\n",
       " 'is_good_match',\n",
       " 'is_nearest_neighbor',\n",
       " 'is_unique_truth_entry',\n",
       " 'diaSourceId',\n",
       " 'ccdVisitId',\n",
       " 'filterName',\n",
       " 'diaObjectId',\n",
       " 'parentDiaSourceId',\n",
       " 'midPointTai',\n",
       " 'pixelId',\n",
       " 'bboxSize',\n",
       " 'flags',\n",
       " 'ra_y',\n",
       " 'decl',\n",
       " 'x',\n",
       " 'y',\n",
       " 'xErr',\n",
       " 'yErr',\n",
       " 'apFlux',\n",
       " 'apFluxErr',\n",
       " 'snr',\n",
       " 'psFlux',\n",
       " 'psFluxErr',\n",
       " 'dipMeanFlux',\n",
       " 'dipMeanFluxErr',\n",
       " 'dipFluxDiff',\n",
       " 'dipFluxDiffErr',\n",
       " 'dipLength',\n",
       " 'dipAngle',\n",
       " 'dipChi2',\n",
       " 'isDipole',\n",
       " 'totFlux',\n",
       " 'totFluxErr',\n",
       " 'ixx',\n",
       " 'iyy',\n",
       " 'ixy',\n",
       " 'ixxPSF',\n",
       " 'iyyPSF',\n",
       " 'ixyPSF',\n",
       " 'base_PixelFlags_flag',\n",
       " 'base_PixelFlags_flag_offimage',\n",
       " 'base_PixelFlags_flag_edge',\n",
       " 'base_PixelFlags_flag_interpolated',\n",
       " 'base_PixelFlags_flag_saturated',\n",
       " 'base_PixelFlags_flag_cr',\n",
       " 'base_PixelFlags_flag_bad',\n",
       " 'base_PixelFlags_flag_suspect',\n",
       " 'base_PixelFlags_flag_interpolatedCenter',\n",
       " 'base_PixelFlags_flag_saturatedCenter',\n",
       " 'base_PixelFlags_flag_crCenter',\n",
       " 'base_PixelFlags_flag_suspectCenter',\n",
       " 'slot_Centroid_flag',\n",
       " 'slot_Centroid_pos_flag',\n",
       " 'slot_Centroid_neg_flag',\n",
       " 'slot_ApFlux_flag',\n",
       " 'slot_ApFlux_flag_apertureTruncated',\n",
       " 'slot_PsfFlux_flag',\n",
       " 'slot_PsfFlux_flag_noGoodPixels',\n",
       " 'slot_PsfFlux_flag_edge',\n",
       " 'ip_diffim_forced_PsfFlux_flag',\n",
       " 'ip_diffim_forced_PsfFlux_flag_noGoodPixels',\n",
       " 'ip_diffim_forced_PsfFlux_flag_edge',\n",
       " 'slot_Shape_flag',\n",
       " 'slot_Shape_flag_unweightedBad',\n",
       " 'slot_Shape_flag_unweighted',\n",
       " 'slot_Shape_flag_shift',\n",
       " 'slot_Shape_flag_maxIter',\n",
       " 'slot_Shape_flag_psf',\n",
       " 'visit',\n",
       " 'detector',\n",
       " 'seeing',\n",
       " 'xFP',\n",
       " 'yFP',\n",
       " 'truth_xmatch_dist_arcsec',\n",
       " 'truth_xmatch_id_all',\n",
       " 'truth_xmatch_id',\n",
       " 'confusion_label']"
      ]
     },
     "execution_count": 98,
     "metadata": {},
     "output_type": "execute_result"
    }
   ],
   "source": [
    "dfm.columns.tolist()"
   ]
  },
  {
   "cell_type": "code",
   "execution_count": 70,
   "id": "dcb09cea",
   "metadata": {},
   "outputs": [],
   "source": [
    "#sns.displot(dfm,x='flux_r',hue='confusion_label') # this killed the kernel"
   ]
  },
  {
   "cell_type": "code",
   "execution_count": 84,
   "id": "c1b2763d",
   "metadata": {},
   "outputs": [
    {
     "data": {
      "text/plain": [
       "Text(0, 0.5, 'Number of Sources')"
      ]
     },
     "execution_count": 84,
     "metadata": {},
     "output_type": "execute_result"
    },
    {
     "data": {
      "image/png": "[encoded data removed]",
      "text/plain": [
       "<Figure size 864x576 with 1 Axes>"
      ]
     },
     "metadata": {
      "needs_background": "light"
     },
     "output_type": "display_data"
    }
   ],
   "source": [
    "fig = plt.figure(figsize=(12,8))\n",
    "bins = np.logspace(1,9,100)\n",
    "_ = plt.hist(dfm.loc[wtp,'flux_r'],bins=bins, label='TP', histtype='step')\n",
    "_ = plt.hist(dfm.loc[wfp,'flux_r'],bins=bins, label='FP', histtype='step')\n",
    "_ = plt.hist(dfm.loc[wtn,'flux_r'],bins=bins, label='TN', histtype='step')\n",
    "_ = plt.hist(dfm.loc[wfn,'flux_r'],bins=bins, label='FN', histtype='step')\n",
    "plt.legend()\n",
    "plt.xscale('log')\n",
    "plt.yscale('log')\n",
    "\n",
    "plt.xlabel('R-band flux (nJy)')\n",
    "plt.ylabel('Number of Sources')"
   ]
  },
  {
   "cell_type": "code",
   "execution_count": 86,
   "id": "90257dfb",
   "metadata": {},
   "outputs": [
    {
     "data": {
      "text/plain": [
       "4843.039781483016"
      ]
     },
     "execution_count": 86,
     "metadata": {},
     "output_type": "execute_result"
    }
   ],
   "source": [
    "dfm['snr'].max()"
   ]
  },
  {
   "cell_type": "code",
   "execution_count": 91,
   "id": "56afe61d",
   "metadata": {},
   "outputs": [
    {
     "name": "stderr",
     "output_type": "stream",
     "text": [
      "/opt/lsst/software/stack/conda/miniconda3-py38_4.9.2/envs/lsst-scipipe-0.6.0/lib/python3.8/site-packages/matplotlib/axes/_axes.py:6731: RuntimeWarning: All-NaN slice encountered\n",
      "  xmin = min(xmin, np.nanmin(xi))\n",
      "/opt/lsst/software/stack/conda/miniconda3-py38_4.9.2/envs/lsst-scipipe-0.6.0/lib/python3.8/site-packages/matplotlib/axes/_axes.py:6732: RuntimeWarning: All-NaN slice encountered\n",
      "  xmax = max(xmax, np.nanmax(xi))\n",
      "/opt/lsst/software/stack/conda/miniconda3-py38_4.9.2/envs/lsst-scipipe-0.6.0/lib/python3.8/site-packages/matplotlib/axes/_axes.py:6731: RuntimeWarning: All-NaN slice encountered\n",
      "  xmin = min(xmin, np.nanmin(xi))\n",
      "/opt/lsst/software/stack/conda/miniconda3-py38_4.9.2/envs/lsst-scipipe-0.6.0/lib/python3.8/site-packages/matplotlib/axes/_axes.py:6732: RuntimeWarning: All-NaN slice encountered\n",
      "  xmax = max(xmax, np.nanmax(xi))\n"
     ]
    },
    {
     "data": {
      "text/plain": [
       "Text(0, 0.5, 'Number of Sources')"
      ]
     },
     "execution_count": 91,
     "metadata": {},
     "output_type": "execute_result"
    },
    {
     "data": {
      "image/png": "[encoded data removed]",
      "text/plain": [
       "<Figure size 864x576 with 1 Axes>"
      ]
     },
     "metadata": {
      "needs_background": "light"
     },
     "output_type": "display_data"
    }
   ],
   "source": [
    "fig = plt.figure(figsize=(12,8))\n",
    "bins = np.logspace(0,5,100)\n",
    "_ = plt.hist(dfm.loc[wtp,'snr'],bins=bins, label='TP', histtype='step')\n",
    "_ = plt.hist(dfm.loc[wfp,'snr'],bins=bins, label='FP', histtype='step')\n",
    "_ = plt.hist(dfm.loc[wtn,'snr'],bins=bins, label='TN', histtype='step')\n",
    "_ = plt.hist(dfm.loc[wfn,'snr'],bins=bins, label='FN', histtype='step')\n",
    "plt.legend()\n",
    "plt.xscale('log')\n",
    "plt.yscale('log')\n",
    "\n",
    "plt.xlabel('SNR')\n",
    "plt.ylabel('Number of Sources')"
   ]
  },
  {
   "cell_type": "code",
   "execution_count": 96,
   "id": "a1ee2b2d",
   "metadata": {},
   "outputs": [
    {
     "data": {
      "text/html": [
       "<div>\n",
       "<style scoped>\n",
       "    .dataframe tbody tr th:only-of-type {\n",
       "        vertical-align: middle;\n",
       "    }\n",
       "\n",
       "    .dataframe tbody tr th {\n",
       "        vertical-align: top;\n",
       "    }\n",
       "\n",
       "    .dataframe thead th {\n",
       "        text-align: right;\n",
       "    }\n",
       "</style>\n",
       "<table border=\"1\" class=\"dataframe\">\n",
       "  <thead>\n",
       "    <tr style=\"text-align: right;\">\n",
       "      <th>confusion_label</th>\n",
       "      <th>False Negative</th>\n",
       "      <th>False Positive</th>\n",
       "      <th>True Negative</th>\n",
       "      <th>True Positive</th>\n",
       "    </tr>\n",
       "  </thead>\n",
       "  <tbody>\n",
       "    <tr>\n",
       "      <th>host_galaxy</th>\n",
       "      <td>-1.000000e+00</td>\n",
       "      <td>-1.000000e+00</td>\n",
       "      <td>-1.000000e+00</td>\n",
       "      <td>-1.000000e+00</td>\n",
       "    </tr>\n",
       "    <tr>\n",
       "      <th>ra_x</th>\n",
       "      <td>5.668683e+01</td>\n",
       "      <td>5.650471e+01</td>\n",
       "      <td>5.665788e+01</td>\n",
       "      <td>5.645399e+01</td>\n",
       "    </tr>\n",
       "    <tr>\n",
       "      <th>dec</th>\n",
       "      <td>-3.644404e+01</td>\n",
       "      <td>-3.644357e+01</td>\n",
       "      <td>-3.644379e+01</td>\n",
       "      <td>-3.643551e+01</td>\n",
       "    </tr>\n",
       "    <tr>\n",
       "      <th>redshift</th>\n",
       "      <td>0.000000e+00</td>\n",
       "      <td>1.269958e+00</td>\n",
       "      <td>1.382919e+00</td>\n",
       "      <td>0.000000e+00</td>\n",
       "    </tr>\n",
       "    <tr>\n",
       "      <th>is_variable</th>\n",
       "      <td>1.000000e+00</td>\n",
       "      <td>0.000000e+00</td>\n",
       "      <td>0.000000e+00</td>\n",
       "      <td>1.000000e+00</td>\n",
       "    </tr>\n",
       "    <tr>\n",
       "      <th>is_pointsource</th>\n",
       "      <td>1.000000e+00</td>\n",
       "      <td>0.000000e+00</td>\n",
       "      <td>0.000000e+00</td>\n",
       "      <td>1.000000e+00</td>\n",
       "    </tr>\n",
       "    <tr>\n",
       "      <th>flux_u</th>\n",
       "      <td>9.403290e+00</td>\n",
       "      <td>1.734447e+01</td>\n",
       "      <td>1.446320e+01</td>\n",
       "      <td>2.653226e+05</td>\n",
       "    </tr>\n",
       "    <tr>\n",
       "      <th>flux_g</th>\n",
       "      <td>7.753836e+01</td>\n",
       "      <td>2.182268e+01</td>\n",
       "      <td>1.864100e+01</td>\n",
       "      <td>8.776379e+05</td>\n",
       "    </tr>\n",
       "    <tr>\n",
       "      <th>flux_r</th>\n",
       "      <td>2.241487e+02</td>\n",
       "      <td>2.781174e+01</td>\n",
       "      <td>2.329398e+01</td>\n",
       "      <td>1.443046e+06</td>\n",
       "    </tr>\n",
       "    <tr>\n",
       "      <th>flux_i</th>\n",
       "      <td>5.311954e+02</td>\n",
       "      <td>3.765845e+01</td>\n",
       "      <td>3.050244e+01</td>\n",
       "      <td>1.775023e+06</td>\n",
       "    </tr>\n",
       "    <tr>\n",
       "      <th>flux_z</th>\n",
       "      <td>7.848870e+02</td>\n",
       "      <td>4.821086e+01</td>\n",
       "      <td>3.951546e+01</td>\n",
       "      <td>1.989887e+06</td>\n",
       "    </tr>\n",
       "    <tr>\n",
       "      <th>flux_y</th>\n",
       "      <td>9.639633e+02</td>\n",
       "      <td>5.805754e+01</td>\n",
       "      <td>4.698783e+01</td>\n",
       "      <td>2.096911e+06</td>\n",
       "    </tr>\n",
       "    <tr>\n",
       "      <th>flux_u_noMW</th>\n",
       "      <td>9.820081e+00</td>\n",
       "      <td>1.815407e+01</td>\n",
       "      <td>1.512006e+01</td>\n",
       "      <td>2.761846e+05</td>\n",
       "    </tr>\n",
       "    <tr>\n",
       "      <th>flux_g_noMW</th>\n",
       "      <td>8.027394e+01</td>\n",
       "      <td>2.255667e+01</td>\n",
       "      <td>1.929365e+01</td>\n",
       "      <td>9.078165e+05</td>\n",
       "    </tr>\n",
       "    <tr>\n",
       "      <th>flux_r_noMW</th>\n",
       "      <td>2.298031e+02</td>\n",
       "      <td>2.853389e+01</td>\n",
       "      <td>2.388440e+01</td>\n",
       "      <td>1.480859e+06</td>\n",
       "    </tr>\n",
       "    <tr>\n",
       "      <th>flux_i_noMW</th>\n",
       "      <td>5.409511e+02</td>\n",
       "      <td>3.838077e+01</td>\n",
       "      <td>3.108950e+01</td>\n",
       "      <td>1.811478e+06</td>\n",
       "    </tr>\n",
       "    <tr>\n",
       "      <th>flux_z_noMW</th>\n",
       "      <td>7.966071e+02</td>\n",
       "      <td>4.891165e+01</td>\n",
       "      <td>4.010266e+01</td>\n",
       "      <td>2.023563e+06</td>\n",
       "    </tr>\n",
       "    <tr>\n",
       "      <th>flux_y_noMW</th>\n",
       "      <td>9.760525e+02</td>\n",
       "      <td>5.881592e+01</td>\n",
       "      <td>4.755939e+01</td>\n",
       "      <td>2.124278e+06</td>\n",
       "    </tr>\n",
       "    <tr>\n",
       "      <th>tract</th>\n",
       "      <td>3.828000e+03</td>\n",
       "      <td>3.828000e+03</td>\n",
       "      <td>3.828000e+03</td>\n",
       "      <td>3.828000e+03</td>\n",
       "    </tr>\n",
       "    <tr>\n",
       "      <th>truth_type</th>\n",
       "      <td>2.000000e+00</td>\n",
       "      <td>1.000000e+00</td>\n",
       "      <td>1.000000e+00</td>\n",
       "      <td>2.000000e+00</td>\n",
       "    </tr>\n",
       "    <tr>\n",
       "      <th>cosmodc2_hp</th>\n",
       "      <td>-1.000000e+00</td>\n",
       "      <td>9.812000e+03</td>\n",
       "      <td>9.812000e+03</td>\n",
       "      <td>-1.000000e+00</td>\n",
       "    </tr>\n",
       "    <tr>\n",
       "      <th>cosmodc2_id</th>\n",
       "      <td>-1.000000e+00</td>\n",
       "      <td>7.813927e+09</td>\n",
       "      <td>7.814099e+09</td>\n",
       "      <td>-1.000000e+00</td>\n",
       "    </tr>\n",
       "    <tr>\n",
       "      <th>mag_r</th>\n",
       "      <td>2.552366e+01</td>\n",
       "      <td>2.778943e+01</td>\n",
       "      <td>2.798189e+01</td>\n",
       "      <td>1.600180e+01</td>\n",
       "    </tr>\n",
       "    <tr>\n",
       "      <th>match_objectId</th>\n",
       "      <td>1.683600e+16</td>\n",
       "      <td>-1.000000e+00</td>\n",
       "      <td>-1.000000e+00</td>\n",
       "      <td>1.683628e+16</td>\n",
       "    </tr>\n",
       "    <tr>\n",
       "      <th>match_sep</th>\n",
       "      <td>6.126591e-03</td>\n",
       "      <td>-1.000000e+00</td>\n",
       "      <td>-1.000000e+00</td>\n",
       "      <td>1.597008e-03</td>\n",
       "    </tr>\n",
       "    <tr>\n",
       "      <th>diaSourceId</th>\n",
       "      <td>NaN</td>\n",
       "      <td>1.180848e+17</td>\n",
       "      <td>NaN</td>\n",
       "      <td>1.293065e+17</td>\n",
       "    </tr>\n",
       "    <tr>\n",
       "      <th>ccdVisitId</th>\n",
       "      <td>NaN</td>\n",
       "      <td>2.199500e+08</td>\n",
       "      <td>NaN</td>\n",
       "      <td>2.408522e+08</td>\n",
       "    </tr>\n",
       "    <tr>\n",
       "      <th>diaObjectId</th>\n",
       "      <td>NaN</td>\n",
       "      <td>0.000000e+00</td>\n",
       "      <td>NaN</td>\n",
       "      <td>0.000000e+00</td>\n",
       "    </tr>\n",
       "    <tr>\n",
       "      <th>parentDiaSourceId</th>\n",
       "      <td>NaN</td>\n",
       "      <td>0.000000e+00</td>\n",
       "      <td>NaN</td>\n",
       "      <td>0.000000e+00</td>\n",
       "    </tr>\n",
       "    <tr>\n",
       "      <th>midPointTai</th>\n",
       "      <td>NaN</td>\n",
       "      <td>5.987714e+04</td>\n",
       "      <td>NaN</td>\n",
       "      <td>5.991206e+04</td>\n",
       "    </tr>\n",
       "    <tr>\n",
       "      <th>pixelId</th>\n",
       "      <td>NaN</td>\n",
       "      <td>0.000000e+00</td>\n",
       "      <td>NaN</td>\n",
       "      <td>0.000000e+00</td>\n",
       "    </tr>\n",
       "    <tr>\n",
       "      <th>bboxSize</th>\n",
       "      <td>NaN</td>\n",
       "      <td>1.900000e+01</td>\n",
       "      <td>NaN</td>\n",
       "      <td>3.100000e+01</td>\n",
       "    </tr>\n",
       "    <tr>\n",
       "      <th>flags</th>\n",
       "      <td>NaN</td>\n",
       "      <td>2.516582e+07</td>\n",
       "      <td>NaN</td>\n",
       "      <td>2.516582e+07</td>\n",
       "    </tr>\n",
       "    <tr>\n",
       "      <th>ra_y</th>\n",
       "      <td>NaN</td>\n",
       "      <td>5.810304e+01</td>\n",
       "      <td>NaN</td>\n",
       "      <td>5.645400e+01</td>\n",
       "    </tr>\n",
       "    <tr>\n",
       "      <th>decl</th>\n",
       "      <td>NaN</td>\n",
       "      <td>-3.643281e+01</td>\n",
       "      <td>NaN</td>\n",
       "      <td>-3.643564e+01</td>\n",
       "    </tr>\n",
       "    <tr>\n",
       "      <th>x</th>\n",
       "      <td>NaN</td>\n",
       "      <td>2.068877e+03</td>\n",
       "      <td>NaN</td>\n",
       "      <td>2.031642e+03</td>\n",
       "    </tr>\n",
       "    <tr>\n",
       "      <th>y</th>\n",
       "      <td>NaN</td>\n",
       "      <td>1.976216e+03</td>\n",
       "      <td>NaN</td>\n",
       "      <td>2.007407e+03</td>\n",
       "    </tr>\n",
       "    <tr>\n",
       "      <th>xErr</th>\n",
       "      <td>NaN</td>\n",
       "      <td>NaN</td>\n",
       "      <td>NaN</td>\n",
       "      <td>NaN</td>\n",
       "    </tr>\n",
       "    <tr>\n",
       "      <th>yErr</th>\n",
       "      <td>NaN</td>\n",
       "      <td>NaN</td>\n",
       "      <td>NaN</td>\n",
       "      <td>NaN</td>\n",
       "    </tr>\n",
       "    <tr>\n",
       "      <th>apFlux</th>\n",
       "      <td>NaN</td>\n",
       "      <td>1.727059e+02</td>\n",
       "      <td>NaN</td>\n",
       "      <td>7.107948e+02</td>\n",
       "    </tr>\n",
       "    <tr>\n",
       "      <th>apFluxErr</th>\n",
       "      <td>NaN</td>\n",
       "      <td>8.949085e+02</td>\n",
       "      <td>NaN</td>\n",
       "      <td>1.229877e+03</td>\n",
       "    </tr>\n",
       "    <tr>\n",
       "      <th>snr</th>\n",
       "      <td>NaN</td>\n",
       "      <td>3.062122e-01</td>\n",
       "      <td>NaN</td>\n",
       "      <td>8.331839e-01</td>\n",
       "    </tr>\n",
       "    <tr>\n",
       "      <th>psFlux</th>\n",
       "      <td>NaN</td>\n",
       "      <td>3.130818e+02</td>\n",
       "      <td>NaN</td>\n",
       "      <td>2.287950e+03</td>\n",
       "    </tr>\n",
       "    <tr>\n",
       "      <th>psFluxErr</th>\n",
       "      <td>NaN</td>\n",
       "      <td>3.975870e+02</td>\n",
       "      <td>NaN</td>\n",
       "      <td>7.989006e+02</td>\n",
       "    </tr>\n",
       "    <tr>\n",
       "      <th>dipMeanFlux</th>\n",
       "      <td>NaN</td>\n",
       "      <td>3.990586e+03</td>\n",
       "      <td>NaN</td>\n",
       "      <td>3.723110e+04</td>\n",
       "    </tr>\n",
       "    <tr>\n",
       "      <th>dipMeanFluxErr</th>\n",
       "      <td>NaN</td>\n",
       "      <td>NaN</td>\n",
       "      <td>NaN</td>\n",
       "      <td>NaN</td>\n",
       "    </tr>\n",
       "    <tr>\n",
       "      <th>dipFluxDiff</th>\n",
       "      <td>NaN</td>\n",
       "      <td>2.484848e+02</td>\n",
       "      <td>NaN</td>\n",
       "      <td>1.006111e+03</td>\n",
       "    </tr>\n",
       "    <tr>\n",
       "      <th>dipFluxDiffErr</th>\n",
       "      <td>NaN</td>\n",
       "      <td>NaN</td>\n",
       "      <td>NaN</td>\n",
       "      <td>NaN</td>\n",
       "    </tr>\n",
       "    <tr>\n",
       "      <th>dipLength</th>\n",
       "      <td>NaN</td>\n",
       "      <td>2.725969e-02</td>\n",
       "      <td>NaN</td>\n",
       "      <td>2.221613e-02</td>\n",
       "    </tr>\n",
       "    <tr>\n",
       "      <th>dipAngle</th>\n",
       "      <td>NaN</td>\n",
       "      <td>3.024633e+01</td>\n",
       "      <td>NaN</td>\n",
       "      <td>3.034353e+01</td>\n",
       "    </tr>\n",
       "    <tr>\n",
       "      <th>dipChi2</th>\n",
       "      <td>NaN</td>\n",
       "      <td>1.822562e+04</td>\n",
       "      <td>NaN</td>\n",
       "      <td>1.981635e+04</td>\n",
       "    </tr>\n",
       "    <tr>\n",
       "      <th>totFlux</th>\n",
       "      <td>NaN</td>\n",
       "      <td>6.906603e+04</td>\n",
       "      <td>NaN</td>\n",
       "      <td>4.053272e+05</td>\n",
       "    </tr>\n",
       "    <tr>\n",
       "      <th>totFluxErr</th>\n",
       "      <td>NaN</td>\n",
       "      <td>3.966109e+02</td>\n",
       "      <td>NaN</td>\n",
       "      <td>7.811534e+02</td>\n",
       "    </tr>\n",
       "    <tr>\n",
       "      <th>ixx</th>\n",
       "      <td>NaN</td>\n",
       "      <td>1.050788e-01</td>\n",
       "      <td>NaN</td>\n",
       "      <td>1.198098e-01</td>\n",
       "    </tr>\n",
       "    <tr>\n",
       "      <th>iyy</th>\n",
       "      <td>NaN</td>\n",
       "      <td>8.800753e-02</td>\n",
       "      <td>NaN</td>\n",
       "      <td>9.491556e-02</td>\n",
       "    </tr>\n",
       "    <tr>\n",
       "      <th>ixy</th>\n",
       "      <td>NaN</td>\n",
       "      <td>0.000000e+00</td>\n",
       "      <td>NaN</td>\n",
       "      <td>0.000000e+00</td>\n",
       "    </tr>\n",
       "    <tr>\n",
       "      <th>ixxPSF</th>\n",
       "      <td>NaN</td>\n",
       "      <td>1.120142e-01</td>\n",
       "      <td>NaN</td>\n",
       "      <td>1.246093e-01</td>\n",
       "    </tr>\n",
       "    <tr>\n",
       "      <th>iyyPSF</th>\n",
       "      <td>NaN</td>\n",
       "      <td>8.729427e-05</td>\n",
       "      <td>NaN</td>\n",
       "      <td>6.506757e-05</td>\n",
       "    </tr>\n",
       "    <tr>\n",
       "      <th>ixyPSF</th>\n",
       "      <td>NaN</td>\n",
       "      <td>8.729427e-05</td>\n",
       "      <td>NaN</td>\n",
       "      <td>6.506757e-05</td>\n",
       "    </tr>\n",
       "    <tr>\n",
       "      <th>visit</th>\n",
       "      <td>NaN</td>\n",
       "      <td>2.199500e+05</td>\n",
       "      <td>NaN</td>\n",
       "      <td>2.408520e+05</td>\n",
       "    </tr>\n",
       "    <tr>\n",
       "      <th>detector</th>\n",
       "      <td>NaN</td>\n",
       "      <td>9.100000e+01</td>\n",
       "      <td>NaN</td>\n",
       "      <td>8.600000e+01</td>\n",
       "    </tr>\n",
       "    <tr>\n",
       "      <th>seeing</th>\n",
       "      <td>NaN</td>\n",
       "      <td>5.587046e-01</td>\n",
       "      <td>NaN</td>\n",
       "      <td>5.865290e-01</td>\n",
       "    </tr>\n",
       "    <tr>\n",
       "      <th>xFP</th>\n",
       "      <td>NaN</td>\n",
       "      <td>7.756226e-01</td>\n",
       "      <td>NaN</td>\n",
       "      <td>-1.691440e+01</td>\n",
       "    </tr>\n",
       "    <tr>\n",
       "      <th>yFP</th>\n",
       "      <td>NaN</td>\n",
       "      <td>-5.654417e+00</td>\n",
       "      <td>NaN</td>\n",
       "      <td>-2.429760e+01</td>\n",
       "    </tr>\n",
       "    <tr>\n",
       "      <th>truth_xmatch_dist_arcsec</th>\n",
       "      <td>NaN</td>\n",
       "      <td>1.559350e+03</td>\n",
       "      <td>NaN</td>\n",
       "      <td>1.944532e-01</td>\n",
       "    </tr>\n",
       "  </tbody>\n",
       "</table>\n",
       "</div>"
      ],
      "text/plain": [
       "confusion_label           False Negative  False Positive  True Negative  \\\n",
       "host_galaxy                -1.000000e+00   -1.000000e+00  -1.000000e+00   \n",
       "ra_x                        5.668683e+01    5.650471e+01   5.665788e+01   \n",
       "dec                        -3.644404e+01   -3.644357e+01  -3.644379e+01   \n",
       "redshift                    0.000000e+00    1.269958e+00   1.382919e+00   \n",
       "is_variable                 1.000000e+00    0.000000e+00   0.000000e+00   \n",
       "is_pointsource              1.000000e+00    0.000000e+00   0.000000e+00   \n",
       "flux_u                      9.403290e+00    1.734447e+01   1.446320e+01   \n",
       "flux_g                      7.753836e+01    2.182268e+01   1.864100e+01   \n",
       "flux_r                      2.241487e+02    2.781174e+01   2.329398e+01   \n",
       "flux_i                      5.311954e+02    3.765845e+01   3.050244e+01   \n",
       "flux_z                      7.848870e+02    4.821086e+01   3.951546e+01   \n",
       "flux_y                      9.639633e+02    5.805754e+01   4.698783e+01   \n",
       "flux_u_noMW                 9.820081e+00    1.815407e+01   1.512006e+01   \n",
       "flux_g_noMW                 8.027394e+01    2.255667e+01   1.929365e+01   \n",
       "flux_r_noMW                 2.298031e+02    2.853389e+01   2.388440e+01   \n",
       "flux_i_noMW                 5.409511e+02    3.838077e+01   3.108950e+01   \n",
       "flux_z_noMW                 7.966071e+02    4.891165e+01   4.010266e+01   \n",
       "flux_y_noMW                 9.760525e+02    5.881592e+01   4.755939e+01   \n",
       "tract                       3.828000e+03    3.828000e+03   3.828000e+03   \n",
       "truth_type                  2.000000e+00    1.000000e+00   1.000000e+00   \n",
       "cosmodc2_hp                -1.000000e+00    9.812000e+03   9.812000e+03   \n",
       "cosmodc2_id                -1.000000e+00    7.813927e+09   7.814099e+09   \n",
       "mag_r                       2.552366e+01    2.778943e+01   2.798189e+01   \n",
       "match_objectId              1.683600e+16   -1.000000e+00  -1.000000e+00   \n",
       "match_sep                   6.126591e-03   -1.000000e+00  -1.000000e+00   \n",
       "diaSourceId                          NaN    1.180848e+17            NaN   \n",
       "ccdVisitId                           NaN    2.199500e+08            NaN   \n",
       "diaObjectId                          NaN    0.000000e+00            NaN   \n",
       "parentDiaSourceId                    NaN    0.000000e+00            NaN   \n",
       "midPointTai                          NaN    5.987714e+04            NaN   \n",
       "pixelId                              NaN    0.000000e+00            NaN   \n",
       "bboxSize                             NaN    1.900000e+01            NaN   \n",
       "flags                                NaN    2.516582e+07            NaN   \n",
       "ra_y                                 NaN    5.810304e+01            NaN   \n",
       "decl                                 NaN   -3.643281e+01            NaN   \n",
       "x                                    NaN    2.068877e+03            NaN   \n",
       "y                                    NaN    1.976216e+03            NaN   \n",
       "xErr                                 NaN             NaN            NaN   \n",
       "yErr                                 NaN             NaN            NaN   \n",
       "apFlux                               NaN    1.727059e+02            NaN   \n",
       "apFluxErr                            NaN    8.949085e+02            NaN   \n",
       "snr                                  NaN    3.062122e-01            NaN   \n",
       "psFlux                               NaN    3.130818e+02            NaN   \n",
       "psFluxErr                            NaN    3.975870e+02            NaN   \n",
       "dipMeanFlux                          NaN    3.990586e+03            NaN   \n",
       "dipMeanFluxErr                       NaN             NaN            NaN   \n",
       "dipFluxDiff                          NaN    2.484848e+02            NaN   \n",
       "dipFluxDiffErr                       NaN             NaN            NaN   \n",
       "dipLength                            NaN    2.725969e-02            NaN   \n",
       "dipAngle                             NaN    3.024633e+01            NaN   \n",
       "dipChi2                              NaN    1.822562e+04            NaN   \n",
       "totFlux                              NaN    6.906603e+04            NaN   \n",
       "totFluxErr                           NaN    3.966109e+02            NaN   \n",
       "ixx                                  NaN    1.050788e-01            NaN   \n",
       "iyy                                  NaN    8.800753e-02            NaN   \n",
       "ixy                                  NaN    0.000000e+00            NaN   \n",
       "ixxPSF                               NaN    1.120142e-01            NaN   \n",
       "iyyPSF                               NaN    8.729427e-05            NaN   \n",
       "ixyPSF                               NaN    8.729427e-05            NaN   \n",
       "visit                                NaN    2.199500e+05            NaN   \n",
       "detector                             NaN    9.100000e+01            NaN   \n",
       "seeing                               NaN    5.587046e-01            NaN   \n",
       "xFP                                  NaN    7.756226e-01            NaN   \n",
       "yFP                                  NaN   -5.654417e+00            NaN   \n",
       "truth_xmatch_dist_arcsec             NaN    1.559350e+03            NaN   \n",
       "\n",
       "confusion_label           True Positive  \n",
       "host_galaxy               -1.000000e+00  \n",
       "ra_x                       5.645399e+01  \n",
       "dec                       -3.643551e+01  \n",
       "redshift                   0.000000e+00  \n",
       "is_variable                1.000000e+00  \n",
       "is_pointsource             1.000000e+00  \n",
       "flux_u                     2.653226e+05  \n",
       "flux_g                     8.776379e+05  \n",
       "flux_r                     1.443046e+06  \n",
       "flux_i                     1.775023e+06  \n",
       "flux_z                     1.989887e+06  \n",
       "flux_y                     2.096911e+06  \n",
       "flux_u_noMW                2.761846e+05  \n",
       "flux_g_noMW                9.078165e+05  \n",
       "flux_r_noMW                1.480859e+06  \n",
       "flux_i_noMW                1.811478e+06  \n",
       "flux_z_noMW                2.023563e+06  \n",
       "flux_y_noMW                2.124278e+06  \n",
       "tract                      3.828000e+03  \n",
       "truth_type                 2.000000e+00  \n",
       "cosmodc2_hp               -1.000000e+00  \n",
       "cosmodc2_id               -1.000000e+00  \n",
       "mag_r                      1.600180e+01  \n",
       "match_objectId             1.683628e+16  \n",
       "match_sep                  1.597008e-03  \n",
       "diaSourceId                1.293065e+17  \n",
       "ccdVisitId                 2.408522e+08  \n",
       "diaObjectId                0.000000e+00  \n",
       "parentDiaSourceId          0.000000e+00  \n",
       "midPointTai                5.991206e+04  \n",
       "pixelId                    0.000000e+00  \n",
       "bboxSize                   3.100000e+01  \n",
       "flags                      2.516582e+07  \n",
       "ra_y                       5.645400e+01  \n",
       "decl                      -3.643564e+01  \n",
       "x                          2.031642e+03  \n",
       "y                          2.007407e+03  \n",
       "xErr                                NaN  \n",
       "yErr                                NaN  \n",
       "apFlux                     7.107948e+02  \n",
       "apFluxErr                  1.229877e+03  \n",
       "snr                        8.331839e-01  \n",
       "psFlux                     2.287950e+03  \n",
       "psFluxErr                  7.989006e+02  \n",
       "dipMeanFlux                3.723110e+04  \n",
       "dipMeanFluxErr                      NaN  \n",
       "dipFluxDiff                1.006111e+03  \n",
       "dipFluxDiffErr                      NaN  \n",
       "dipLength                  2.221613e-02  \n",
       "dipAngle                   3.034353e+01  \n",
       "dipChi2                    1.981635e+04  \n",
       "totFlux                    4.053272e+05  \n",
       "totFluxErr                 7.811534e+02  \n",
       "ixx                        1.198098e-01  \n",
       "iyy                        9.491556e-02  \n",
       "ixy                        0.000000e+00  \n",
       "ixxPSF                     1.246093e-01  \n",
       "iyyPSF                     6.506757e-05  \n",
       "ixyPSF                     6.506757e-05  \n",
       "visit                      2.408520e+05  \n",
       "detector                   8.600000e+01  \n",
       "seeing                     5.865290e-01  \n",
       "xFP                       -1.691440e+01  \n",
       "yFP                       -2.429760e+01  \n",
       "truth_xmatch_dist_arcsec   1.944532e-01  "
      ]
     },
     "metadata": {},
     "output_type": "display_data"
    }
   ],
   "source": [
    "grp = dfm.groupby('confusion_label')\n",
    "with pd.option_context('display.max_rows', None, 'display.max_columns', None):\n",
    "    display(grp.agg(np.nanmedian).T)"
   ]
  },
  {
   "cell_type": "markdown",
   "id": "981ecb84",
   "metadata": {},
   "source": [
    "why don't the flags show up in the above??"
   ]
  },
  {
   "cell_type": "code",
   "execution_count": 126,
   "id": "7bc4a1c4",
   "metadata": {},
   "outputs": [
    {
     "name": "stdout",
     "output_type": "stream",
     "text": [
      "                                        \tFP  \tTP\n",
      "base_PixelFlags_flag                    \t0.0%\t0.0%\n",
      "base_PixelFlags_flag_offimage           \t0.0%\t0.0%\n",
      "base_PixelFlags_flag_edge               \t24.0%\t43.4%\n",
      "base_PixelFlags_flag_interpolated       \t38.3%\t45.0%\n",
      "base_PixelFlags_flag_saturated          \t40.0%\t49.4%\n",
      "base_PixelFlags_flag_cr                 \t1.3%\t1.5%\n",
      "base_PixelFlags_flag_bad                \t0.0%\t0.0%\n",
      "base_PixelFlags_flag_suspect            \t0.0%\t0.0%\n",
      "base_PixelFlags_flag_interpolatedCenter \t37.9%\t44.7%\n",
      "base_PixelFlags_flag_saturatedCenter    \t39.8%\t49.3%\n",
      "base_PixelFlags_flag_crCenter           \t0.5%\t0.2%\n",
      "base_PixelFlags_flag_suspectCenter      \t0.0%\t0.0%\n",
      "slot_Centroid_flag                      \t0.0%\t0.0%\n",
      "slot_Centroid_pos_flag                  \t0.0%\t0.0%\n",
      "slot_Centroid_neg_flag                  \t0.0%\t0.0%\n",
      "slot_ApFlux_flag                        \t0.0%\t0.0%\n",
      "slot_ApFlux_flag_apertureTruncated      \t0.0%\t0.0%\n",
      "slot_PsfFlux_flag                       \t3.4%\t1.9%\n",
      "slot_PsfFlux_flag_noGoodPixels          \t0.0%\t0.0%\n",
      "slot_PsfFlux_flag_edge                  \t1.2%\t0.6%\n",
      "ip_diffim_forced_PsfFlux_flag           \t1.2%\t0.6%\n",
      "ip_diffim_forced_PsfFlux_flag_noGoodPixels\t0.0%\t0.0%\n",
      "ip_diffim_forced_PsfFlux_flag_edge      \t1.2%\t0.6%\n",
      "slot_Shape_flag                         \t70.5%\t65.5%\n",
      "slot_Shape_flag_unweightedBad           \t55.5%\t47.6%\n",
      "slot_Shape_flag_unweighted              \t12.1%\t14.6%\n",
      "slot_Shape_flag_shift                   \t7.0%\t9.1%\n",
      "slot_Shape_flag_maxIter                 \t2.3%\t1.3%\n",
      "slot_Shape_flag_psf                     \t0.0%\t0.0%\n"
     ]
    }
   ],
   "source": [
    "print(f'{\"\":<40}\\tFP  \\tTP')\n",
    "for col in dfm.columns:\n",
    "    if 'flag' in col and col != 'flags':\n",
    "        print(f'{col:<40}\\t{dfm.loc[wfp,col].sum()/np.sum(wfp)*100:3.1f}%\\t{dfm.loc[wtp,col].sum()/np.sum(wtp)*100:3.1f}%')"
   ]
  },
  {
   "cell_type": "code",
   "execution_count": 134,
   "id": "e4f995c1",
   "metadata": {},
   "outputs": [
    {
     "data": {
      "text/plain": [
       "<matplotlib.collections.PolyCollection at 0x7f9245d089a0>"
      ]
     },
     "execution_count": 134,
     "metadata": {},
     "output_type": "execute_result"
    },
    {
     "data": {
      "image/png": "[encoded data removed]",
      "text/plain": [
       "<Figure size 576x576 with 1 Axes>"
      ]
     },
     "metadata": {
      "needs_background": "light"
     },
     "output_type": "display_data"
    }
   ],
   "source": [
    "plt.figure(figsize=(8,8))\n",
    "plt.hexbin(dfm.loc[wfp,'x'],dfm.loc[wfp,'y'])"
   ]
  },
  {
   "cell_type": "code",
   "execution_count": null,
   "id": "2b62780f",
   "metadata": {},
   "outputs": [],
   "source": []
  },
  {
   "cell_type": "code",
   "execution_count": null,
   "id": "13af8954",
   "metadata": {},
   "outputs": [],
   "source": []
  }
 ],
 "metadata": {
  "kernelspec": {
   "display_name": "LSST",
   "language": "python",
   "name": "lsst"
  },
  "language_info": {
   "codemirror_mode": {
    "name": "ipython",
    "version": 3
   },
   "file_extension": ".py",
   "mimetype": "text/x-python",
   "name": "python",
   "nbconvert_exporter": "python",
   "pygments_lexer": "ipython3",
   "version": "3.8.8"
  }
 },
 "nbformat": 4,
 "nbformat_minor": 5
}
