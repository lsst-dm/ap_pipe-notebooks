{
 "cells": [
  {
   "cell_type": "markdown",
   "id": "88af7917-18b6-4e1c-a330-3c7ac6faa52b",
   "metadata": {},
   "source": [
    "# <img align=\"left\" src = https://project.lsst.org/sites/default/files/Rubin-O-Logo_0.png width=250 style=\"padding: 10px\"> \n",
    "<b>Analysis Notebook</b> <br>\n",
    "Contact author: Eric Bellm<br>\n",
    "Last verified to run: Feb. 14, 2024<br>\n",
    "LSST Science Piplines version: w_2024_06<br>\n",
    "Container Size: Large <br>"
   ]
  },
  {
   "cell_type": "markdown",
   "id": "b4d7ce29",
   "metadata": {},
   "source": [
    "# Determine date ranges in HSC COSMOS and HITS\n"
   ]
  },
  {
   "cell_type": "markdown",
   "id": "5b4e64f4",
   "metadata": {
    "tags": []
   },
   "source": [
    "## 1. <a id=\"section_1\">Imports, Helper Functions, and Loading</a>"
   ]
  },
  {
   "cell_type": "code",
   "execution_count": 10,
   "id": "47d1cec5-47e9-4bce-b505-c66a5e7aee11",
   "metadata": {
    "execution": {
     "iopub.execute_input": "2024-02-14T19:47:01.076944Z",
     "iopub.status.busy": "2024-02-14T19:47:01.076503Z",
     "iopub.status.idle": "2024-02-14T19:47:01.080366Z",
     "shell.execute_reply": "2024-02-14T19:47:01.079954Z",
     "shell.execute_reply.started": "2024-02-14T19:47:01.076926Z"
    },
    "tags": []
   },
   "outputs": [],
   "source": [
    "import matplotlib\n",
    "import matplotlib.pyplot as plt\n",
    "\n",
    "import numpy as np\n",
    "import pandas as pd\n",
    "\n",
    "import lsst.daf.butler as dafButler\n",
    "from lsst.analysis.ap import legacyPlotUtils as plac\n",
    "from lsst.analysis.ap import apdb\n",
    "\n",
    "from lsst.ap.association import UnpackApdbFlags, TransformDiaSourceCatalogConfig\n",
    "import functools\n",
    "import operator\n",
    "from IPython.display import Image, display\n",
    "\n",
    "import lsst.afw.display as afwDisplay\n",
    "import astropy.units as u\n",
    "from astropy.time import Time\n",
    "\n",
    "import warnings\n",
    "warnings.filterwarnings('ignore')\n",
    "warnings.simplefilter('ignore')\n",
    "\n",
    "plt.set_loglevel('WARNING')"
   ]
  },
  {
   "cell_type": "markdown",
   "id": "afcdce0b-306c-4c51-bb1a-cef2488027b6",
   "metadata": {
    "tags": []
   },
   "source": [
    "### Loading Data: COSMOS"
   ]
  },
  {
   "cell_type": "code",
   "execution_count": 2,
   "id": "16a01e6b",
   "metadata": {
    "execution": {
     "iopub.execute_input": "2024-02-14T19:43:21.068002Z",
     "iopub.status.busy": "2024-02-14T19:43:21.067698Z",
     "iopub.status.idle": "2024-02-14T19:43:21.283294Z",
     "shell.execute_reply": "2024-02-14T19:43:21.282793Z",
     "shell.execute_reply.started": "2024-02-14T19:43:21.067986Z"
    },
    "tags": []
   },
   "outputs": [],
   "source": [
    "repo = '/repo/main'\n",
    "butler = dafButler.Butler(repo)\n",
    "instrument = 'HSC'\n",
    "skymap = 'hsc_rings_v1'\n",
    "\n",
    "collections = f'u/elhoward/DM-41896/HSC-precon-rb'\n",
    "schema = f'elhoward_dm41896_hsc_appipewithfakes_precon_rb'\n",
    "\n",
    "apdbQuery = apdb.ApdbPostgresQuery(butler=butler, instrument=instrument, namespace=schema)"
   ]
  },
  {
   "cell_type": "code",
   "execution_count": 4,
   "id": "bb33437a-5906-4ba2-a443-b55a14aafd3f",
   "metadata": {
    "execution": {
     "iopub.execute_input": "2024-02-14T19:45:03.454080Z",
     "iopub.status.busy": "2024-02-14T19:45:03.453829Z",
     "iopub.status.idle": "2024-02-14T19:45:03.477350Z",
     "shell.execute_reply": "2024-02-14T19:45:03.476927Z",
     "shell.execute_reply.started": "2024-02-14T19:45:03.454062Z"
    }
   },
   "outputs": [],
   "source": [
    "with apdbQuery.connection as connection:\n",
    "    df = pd.read_sql_query('SELECT * \\\n",
    "                                 FROM \"{}\".\"DiaSource\" LIMIT 1;'.format(schema), connection)"
   ]
  },
  {
   "cell_type": "code",
   "execution_count": 5,
   "id": "e828f0f2-6058-4046-9b2c-e4c3406104c2",
   "metadata": {
    "execution": {
     "iopub.execute_input": "2024-02-14T19:45:10.667022Z",
     "iopub.status.busy": "2024-02-14T19:45:10.666722Z",
     "iopub.status.idle": "2024-02-14T19:45:10.670427Z",
     "shell.execute_reply": "2024-02-14T19:45:10.670060Z",
     "shell.execute_reply.started": "2024-02-14T19:45:10.667007Z"
    },
    "scrolled": true
   },
   "outputs": [
    {
     "data": {
      "text/plain": [
       "Index(['diaSourceId', 'ccdVisitId', 'diaObjectId', 'ssObjectId',\n",
       "       'parentDiaSourceId', 'ssObjectReassocTime', 'midpointMjdTai', 'ra',\n",
       "       'raErr', 'dec',\n",
       "       ...\n",
       "       'ixyPSF', 'extendedness', 'reliability', 'flags', 'band', 'isDipole',\n",
       "       'time_processed', 'time_withdrawn', 'bboxSize', 'pixelId'],\n",
       "      dtype='object', length=112)"
      ]
     },
     "execution_count": 5,
     "metadata": {},
     "output_type": "execute_result"
    }
   ],
   "source": [
    "df.columns"
   ]
  },
  {
   "cell_type": "code",
   "execution_count": 8,
   "id": "df01de42-4336-48b6-8d9d-d47c8f796443",
   "metadata": {
    "execution": {
     "iopub.execute_input": "2024-02-14T19:46:26.516109Z",
     "iopub.status.busy": "2024-02-14T19:46:26.515657Z",
     "iopub.status.idle": "2024-02-14T19:46:27.112180Z",
     "shell.execute_reply": "2024-02-14T19:46:27.111678Z",
     "shell.execute_reply.started": "2024-02-14T19:46:26.516092Z"
    }
   },
   "outputs": [],
   "source": [
    "with apdbQuery.connection as connection:\n",
    "    df = pd.read_sql_query('SELECT min(\"midpointMjdTai\") as min_mjd, max(\"midpointMjdTai\") as max_mjd \\\n",
    "                                 FROM \"{}\".\"DiaSource\";'.format(schema), connection)"
   ]
  },
  {
   "cell_type": "code",
   "execution_count": 9,
   "id": "d08917a1-5568-4eec-8e9a-31491ddf269c",
   "metadata": {
    "execution": {
     "iopub.execute_input": "2024-02-14T19:46:33.532243Z",
     "iopub.status.busy": "2024-02-14T19:46:33.531573Z",
     "iopub.status.idle": "2024-02-14T19:46:33.537443Z",
     "shell.execute_reply": "2024-02-14T19:46:33.537083Z",
     "shell.execute_reply.started": "2024-02-14T19:46:33.532218Z"
    }
   },
   "outputs": [
    {
     "data": {
      "text/html": [
       "<div>\n",
       "<style scoped>\n",
       "    .dataframe tbody tr th:only-of-type {\n",
       "        vertical-align: middle;\n",
       "    }\n",
       "\n",
       "    .dataframe tbody tr th {\n",
       "        vertical-align: top;\n",
       "    }\n",
       "\n",
       "    .dataframe thead th {\n",
       "        text-align: right;\n",
       "    }\n",
       "</style>\n",
       "<table border=\"1\" class=\"dataframe\">\n",
       "  <thead>\n",
       "    <tr style=\"text-align: right;\">\n",
       "      <th></th>\n",
       "      <th>min_mjd</th>\n",
       "      <th>max_mjd</th>\n",
       "    </tr>\n",
       "  </thead>\n",
       "  <tbody>\n",
       "    <tr>\n",
       "      <th>0</th>\n",
       "      <td>56741.400239</td>\n",
       "      <td>57163.296292</td>\n",
       "    </tr>\n",
       "  </tbody>\n",
       "</table>\n",
       "</div>"
      ],
      "text/plain": [
       "        min_mjd       max_mjd\n",
       "0  56741.400239  57163.296292"
      ]
     },
     "execution_count": 9,
     "metadata": {},
     "output_type": "execute_result"
    }
   ],
   "source": [
    "df"
   ]
  },
  {
   "cell_type": "code",
   "execution_count": 11,
   "id": "9618727d-83c8-4c3e-9e9b-2a70c65150e0",
   "metadata": {
    "execution": {
     "iopub.execute_input": "2024-02-14T19:47:25.351178Z",
     "iopub.status.busy": "2024-02-14T19:47:25.350858Z",
     "iopub.status.idle": "2024-02-14T19:47:25.354892Z",
     "shell.execute_reply": "2024-02-14T19:47:25.354531Z",
     "shell.execute_reply.started": "2024-02-14T19:47:25.351163Z"
    }
   },
   "outputs": [
    {
     "data": {
      "text/plain": [
       "array(['2014-03-25 09:36:20.614'], dtype='<U23')"
      ]
     },
     "execution_count": 11,
     "metadata": {},
     "output_type": "execute_result"
    }
   ],
   "source": [
    "Time(df['min_mjd'],format='mjd').iso"
   ]
  },
  {
   "cell_type": "code",
   "execution_count": 12,
   "id": "3cdafe15-6b4c-417f-be28-91845632cfec",
   "metadata": {
    "execution": {
     "iopub.execute_input": "2024-02-14T19:47:36.292345Z",
     "iopub.status.busy": "2024-02-14T19:47:36.291755Z",
     "iopub.status.idle": "2024-02-14T19:47:36.295815Z",
     "shell.execute_reply": "2024-02-14T19:47:36.295440Z",
     "shell.execute_reply.started": "2024-02-14T19:47:36.292329Z"
    }
   },
   "outputs": [
    {
     "data": {
      "text/plain": [
       "array(['2015-05-21 07:06:39.671'], dtype='<U23')"
      ]
     },
     "execution_count": 12,
     "metadata": {},
     "output_type": "execute_result"
    }
   ],
   "source": [
    "Time(df['max_mjd'],format='mjd').iso"
   ]
  },
  {
   "cell_type": "markdown",
   "id": "fd98578a-2791-4c75-98e9-6b725e810e76",
   "metadata": {},
   "source": [
    "### Loading Data: HiTS"
   ]
  },
  {
   "cell_type": "code",
   "execution_count": 13,
   "id": "8927e8bb-8458-442b-9ed6-c653259497a4",
   "metadata": {
    "execution": {
     "iopub.execute_input": "2024-02-14T19:49:41.381556Z",
     "iopub.status.busy": "2024-02-14T19:49:41.381227Z",
     "iopub.status.idle": "2024-02-14T19:49:41.530676Z",
     "shell.execute_reply": "2024-02-14T19:49:41.530314Z",
     "shell.execute_reply.started": "2024-02-14T19:49:41.381541Z"
    }
   },
   "outputs": [],
   "source": [
    "repo = '/repo/main'\n",
    "butler = dafButler.Butler(repo)\n",
    "instrument = 'DECam'\n",
    "skymap = 'decam_rings_v1'\n",
    "\n",
    "collections = f'u/elhoward/DM-38243/HiTS'\n",
    "schema = f'elhoward_dm38243_hits_appipe'\n",
    "\n",
    "apdbQuery = apdb.ApdbPostgresQuery(butler=butler, instrument=instrument, namespace=schema)"
   ]
  },
  {
   "cell_type": "code",
   "execution_count": 14,
   "id": "8514ad8c-2943-4c2b-9061-d96dde009faa",
   "metadata": {
    "execution": {
     "iopub.execute_input": "2024-02-14T19:49:55.442688Z",
     "iopub.status.busy": "2024-02-14T19:49:55.442486Z",
     "iopub.status.idle": "2024-02-14T19:49:55.483228Z",
     "shell.execute_reply": "2024-02-14T19:49:55.482917Z",
     "shell.execute_reply.started": "2024-02-14T19:49:55.442674Z"
    }
   },
   "outputs": [],
   "source": [
    "with apdbQuery.connection as connection:\n",
    "    df = pd.read_sql_query('SELECT * \\\n",
    "                                 FROM \"{}\".\"DiaSource\" LIMIT 1;'.format(schema), connection)"
   ]
  },
  {
   "cell_type": "code",
   "execution_count": 15,
   "id": "8ec1b10f-8c36-4a17-93c5-2b2793f4f158",
   "metadata": {
    "execution": {
     "iopub.execute_input": "2024-02-14T19:50:06.105707Z",
     "iopub.status.busy": "2024-02-14T19:50:06.105188Z",
     "iopub.status.idle": "2024-02-14T19:50:06.108644Z",
     "shell.execute_reply": "2024-02-14T19:50:06.108255Z",
     "shell.execute_reply.started": "2024-02-14T19:50:06.105691Z"
    }
   },
   "outputs": [
    {
     "data": {
      "text/plain": [
       "Index(['diaSourceId', 'ccdVisitId', 'diaObjectId', 'ssObjectId',\n",
       "       'parentDiaSourceId', 'prv_procOrder', 'ssObjectReassocTime',\n",
       "       'midPointTai', 'ra', 'raErr',\n",
       "       ...\n",
       "       'ixxPSF', 'iyyPSF', 'ixyPSF', 'extendedness', 'spuriousness', 'flags',\n",
       "       'filterName', 'isDipole', 'bboxSize', 'pixelId'],\n",
       "      dtype='object', length=111)"
      ]
     },
     "execution_count": 15,
     "metadata": {},
     "output_type": "execute_result"
    }
   ],
   "source": [
    "df.columns"
   ]
  },
  {
   "cell_type": "code",
   "execution_count": 18,
   "id": "927449f8-a7dc-49fa-89d0-1acd84041789",
   "metadata": {
    "execution": {
     "iopub.execute_input": "2024-02-14T19:50:53.643540Z",
     "iopub.status.busy": "2024-02-14T19:50:53.643208Z",
     "iopub.status.idle": "2024-02-14T19:50:53.811501Z",
     "shell.execute_reply": "2024-02-14T19:50:53.811142Z",
     "shell.execute_reply.started": "2024-02-14T19:50:53.643525Z"
    }
   },
   "outputs": [],
   "source": [
    "with apdbQuery.connection as connection:\n",
    "    df = pd.read_sql_query('SELECT min(\"midPointTai\") as min_mjd, max(\"midPointTai\") as max_mjd \\\n",
    "                                 FROM \"{}\".\"DiaSource\";'.format(schema), connection)"
   ]
  },
  {
   "cell_type": "code",
   "execution_count": 19,
   "id": "2e710a37-540d-44f5-a181-a489b73d6ad3",
   "metadata": {
    "execution": {
     "iopub.execute_input": "2024-02-14T19:51:04.896320Z",
     "iopub.status.busy": "2024-02-14T19:51:04.896111Z",
     "iopub.status.idle": "2024-02-14T19:51:04.901097Z",
     "shell.execute_reply": "2024-02-14T19:51:04.900813Z",
     "shell.execute_reply.started": "2024-02-14T19:51:04.896306Z"
    }
   },
   "outputs": [
    {
     "data": {
      "text/html": [
       "<div>\n",
       "<style scoped>\n",
       "    .dataframe tbody tr th:only-of-type {\n",
       "        vertical-align: middle;\n",
       "    }\n",
       "\n",
       "    .dataframe tbody tr th {\n",
       "        vertical-align: top;\n",
       "    }\n",
       "\n",
       "    .dataframe thead th {\n",
       "        text-align: right;\n",
       "    }\n",
       "</style>\n",
       "<table border=\"1\" class=\"dataframe\">\n",
       "  <thead>\n",
       "    <tr style=\"text-align: right;\">\n",
       "      <th></th>\n",
       "      <th>min_mjd</th>\n",
       "      <th>max_mjd</th>\n",
       "    </tr>\n",
       "  </thead>\n",
       "  <tbody>\n",
       "    <tr>\n",
       "      <th>0</th>\n",
       "      <td>57070.141866</td>\n",
       "      <td>57095.193229</td>\n",
       "    </tr>\n",
       "  </tbody>\n",
       "</table>\n",
       "</div>"
      ],
      "text/plain": [
       "        min_mjd       max_mjd\n",
       "0  57070.141866  57095.193229"
      ]
     },
     "execution_count": 19,
     "metadata": {},
     "output_type": "execute_result"
    }
   ],
   "source": [
    "df"
   ]
  },
  {
   "cell_type": "code",
   "execution_count": 20,
   "id": "757e1997-23e5-4106-9648-7ad4aafdf351",
   "metadata": {
    "execution": {
     "iopub.execute_input": "2024-02-14T19:51:17.151908Z",
     "iopub.status.busy": "2024-02-14T19:51:17.151601Z",
     "iopub.status.idle": "2024-02-14T19:51:17.155304Z",
     "shell.execute_reply": "2024-02-14T19:51:17.155014Z",
     "shell.execute_reply.started": "2024-02-14T19:51:17.151893Z"
    }
   },
   "outputs": [
    {
     "data": {
      "text/plain": [
       "array(['2015-02-17 03:24:17.200'], dtype='<U23')"
      ]
     },
     "execution_count": 20,
     "metadata": {},
     "output_type": "execute_result"
    }
   ],
   "source": [
    "Time(df['min_mjd'],format='mjd').iso"
   ]
  },
  {
   "cell_type": "code",
   "execution_count": 21,
   "id": "a1da28d2-df20-4a1f-938b-2a233038eec8",
   "metadata": {
    "execution": {
     "iopub.execute_input": "2024-02-14T19:51:36.583993Z",
     "iopub.status.busy": "2024-02-14T19:51:36.583792Z",
     "iopub.status.idle": "2024-02-14T19:51:36.587514Z",
     "shell.execute_reply": "2024-02-14T19:51:36.587225Z",
     "shell.execute_reply.started": "2024-02-14T19:51:36.583979Z"
    }
   },
   "outputs": [
    {
     "data": {
      "text/plain": [
       "array(['2015-03-14 04:38:15.021'], dtype='<U23')"
      ]
     },
     "execution_count": 21,
     "metadata": {},
     "output_type": "execute_result"
    }
   ],
   "source": [
    "Time(df['max_mjd'],format='mjd').iso"
   ]
  },
  {
   "cell_type": "markdown",
   "id": "6f893d1f-3733-4a9f-b6a5-a15ed7428e2d",
   "metadata": {},
   "source": [
    "### Loading Data: Saha Bulge"
   ]
  },
  {
   "cell_type": "code",
   "execution_count": 22,
   "id": "2170c808-5c7e-4592-80b8-9da87d1af972",
   "metadata": {
    "execution": {
     "iopub.execute_input": "2024-02-14T20:09:08.185477Z",
     "iopub.status.busy": "2024-02-14T20:09:08.184864Z",
     "iopub.status.idle": "2024-02-14T20:09:08.325167Z",
     "shell.execute_reply": "2024-02-14T20:09:08.324767Z",
     "shell.execute_reply.started": "2024-02-14T20:09:08.185459Z"
    }
   },
   "outputs": [],
   "source": [
    "repo = '/repo/main'\n",
    "butler = dafButler.Butler(repo)\n",
    "instrument = 'DECam'\n",
    "skymap = 'decam_rings_v1'\n",
    "\n",
    "collections = f'u/elhoward/DM-40832/saha_bulge/g'\n",
    "schema = f'elhoward_dm40832_saha_g_appipe'\n",
    "\n",
    "apdbQuery = apdb.ApdbPostgresQuery(butler=butler, instrument=instrument, namespace=schema)"
   ]
  },
  {
   "cell_type": "code",
   "execution_count": 23,
   "id": "c7b97fe6-2eff-42b3-9219-9bc1fcb9eaaa",
   "metadata": {
    "execution": {
     "iopub.execute_input": "2024-02-14T20:09:15.887831Z",
     "iopub.status.busy": "2024-02-14T20:09:15.887362Z",
     "iopub.status.idle": "2024-02-14T20:09:15.935552Z",
     "shell.execute_reply": "2024-02-14T20:09:15.935090Z",
     "shell.execute_reply.started": "2024-02-14T20:09:15.887816Z"
    }
   },
   "outputs": [],
   "source": [
    "with apdbQuery.connection as connection:\n",
    "    df = pd.read_sql_query('SELECT * \\\n",
    "                                 FROM \"{}\".\"DiaSource\" LIMIT 1;'.format(schema), connection)"
   ]
  },
  {
   "cell_type": "code",
   "execution_count": 24,
   "id": "a72517b1-ae70-44d1-bd93-9a6dd7e57cb5",
   "metadata": {
    "execution": {
     "iopub.execute_input": "2024-02-14T20:09:23.298005Z",
     "iopub.status.busy": "2024-02-14T20:09:23.297710Z",
     "iopub.status.idle": "2024-02-14T20:09:23.301297Z",
     "shell.execute_reply": "2024-02-14T20:09:23.300924Z",
     "shell.execute_reply.started": "2024-02-14T20:09:23.297990Z"
    }
   },
   "outputs": [
    {
     "data": {
      "text/plain": [
       "Index(['diaSourceId', 'ccdVisitId', 'diaObjectId', 'ssObjectId',\n",
       "       'parentDiaSourceId', 'ssObjectReassocTime', 'midpointMjdTai', 'ra',\n",
       "       'raErr', 'dec',\n",
       "       ...\n",
       "       'ixyPSF', 'extendedness', 'reliability', 'flags', 'band', 'isDipole',\n",
       "       'time_processed', 'time_withdrawn', 'bboxSize', 'pixelId'],\n",
       "      dtype='object', length=112)"
      ]
     },
     "execution_count": 24,
     "metadata": {},
     "output_type": "execute_result"
    }
   ],
   "source": [
    "df.columns"
   ]
  },
  {
   "cell_type": "code",
   "execution_count": 25,
   "id": "b9d7e95a-2ff1-4c6d-8855-a8be1b8e93b9",
   "metadata": {
    "execution": {
     "iopub.execute_input": "2024-02-14T20:09:32.785438Z",
     "iopub.status.busy": "2024-02-14T20:09:32.784916Z",
     "iopub.status.idle": "2024-02-14T20:09:32.872973Z",
     "shell.execute_reply": "2024-02-14T20:09:32.872504Z",
     "shell.execute_reply.started": "2024-02-14T20:09:32.785419Z"
    }
   },
   "outputs": [],
   "source": [
    "with apdbQuery.connection as connection:\n",
    "    df = pd.read_sql_query('SELECT min(\"midpointMjdTai\") as min_mjd, max(\"midpointMjdTai\") as max_mjd \\\n",
    "                                 FROM \"{}\".\"DiaSource\";'.format(schema), connection)"
   ]
  },
  {
   "cell_type": "code",
   "execution_count": 26,
   "id": "f8651d64-99c1-4b91-8f37-4b06e6f9e9ac",
   "metadata": {
    "execution": {
     "iopub.execute_input": "2024-02-14T20:09:36.260238Z",
     "iopub.status.busy": "2024-02-14T20:09:36.259700Z",
     "iopub.status.idle": "2024-02-14T20:09:36.264654Z",
     "shell.execute_reply": "2024-02-14T20:09:36.264226Z",
     "shell.execute_reply.started": "2024-02-14T20:09:36.260218Z"
    }
   },
   "outputs": [
    {
     "data": {
      "text/html": [
       "<div>\n",
       "<style scoped>\n",
       "    .dataframe tbody tr th:only-of-type {\n",
       "        vertical-align: middle;\n",
       "    }\n",
       "\n",
       "    .dataframe tbody tr th {\n",
       "        vertical-align: top;\n",
       "    }\n",
       "\n",
       "    .dataframe thead th {\n",
       "        text-align: right;\n",
       "    }\n",
       "</style>\n",
       "<table border=\"1\" class=\"dataframe\">\n",
       "  <thead>\n",
       "    <tr style=\"text-align: right;\">\n",
       "      <th></th>\n",
       "      <th>min_mjd</th>\n",
       "      <th>max_mjd</th>\n",
       "    </tr>\n",
       "  </thead>\n",
       "  <tbody>\n",
       "    <tr>\n",
       "      <th>0</th>\n",
       "      <td>56423.161001</td>\n",
       "      <td>56510.185704</td>\n",
       "    </tr>\n",
       "  </tbody>\n",
       "</table>\n",
       "</div>"
      ],
      "text/plain": [
       "        min_mjd       max_mjd\n",
       "0  56423.161001  56510.185704"
      ]
     },
     "execution_count": 26,
     "metadata": {},
     "output_type": "execute_result"
    }
   ],
   "source": [
    "df"
   ]
  },
  {
   "cell_type": "code",
   "execution_count": 27,
   "id": "478aeaae-8972-4baa-9063-4a48c3892d8c",
   "metadata": {
    "execution": {
     "iopub.execute_input": "2024-02-14T20:09:44.192934Z",
     "iopub.status.busy": "2024-02-14T20:09:44.192639Z",
     "iopub.status.idle": "2024-02-14T20:09:44.196883Z",
     "shell.execute_reply": "2024-02-14T20:09:44.196484Z",
     "shell.execute_reply.started": "2024-02-14T20:09:44.192919Z"
    }
   },
   "outputs": [
    {
     "data": {
      "text/plain": [
       "array(['2013-05-11 03:51:50.453'], dtype='<U23')"
      ]
     },
     "execution_count": 27,
     "metadata": {},
     "output_type": "execute_result"
    }
   ],
   "source": [
    "Time(df['min_mjd'],format='mjd').iso"
   ]
  },
  {
   "cell_type": "code",
   "execution_count": 28,
   "id": "c86aa295-e906-4021-8621-048bd1caa473",
   "metadata": {
    "execution": {
     "iopub.execute_input": "2024-02-14T20:09:49.742897Z",
     "iopub.status.busy": "2024-02-14T20:09:49.742443Z",
     "iopub.status.idle": "2024-02-14T20:09:49.746610Z",
     "shell.execute_reply": "2024-02-14T20:09:49.746170Z",
     "shell.execute_reply.started": "2024-02-14T20:09:49.742882Z"
    }
   },
   "outputs": [
    {
     "data": {
      "text/plain": [
       "array(['2013-08-06 04:27:24.855'], dtype='<U23')"
      ]
     },
     "execution_count": 28,
     "metadata": {},
     "output_type": "execute_result"
    }
   ],
   "source": [
    "Time(df['max_mjd'],format='mjd').iso"
   ]
  },
  {
   "cell_type": "code",
   "execution_count": 29,
   "id": "739929ba-e113-4f6f-aa4c-38d5bfcedd4b",
   "metadata": {
    "execution": {
     "iopub.execute_input": "2024-02-14T20:10:19.086838Z",
     "iopub.status.busy": "2024-02-14T20:10:19.086522Z",
     "iopub.status.idle": "2024-02-14T20:10:19.096841Z",
     "shell.execute_reply": "2024-02-14T20:10:19.096383Z",
     "shell.execute_reply.started": "2024-02-14T20:10:19.086824Z"
    }
   },
   "outputs": [],
   "source": [
    "collections = f'u/elhoward/DM-40832/saha_bulge/i'\n",
    "schema = f'elhoward_dm40832_saha_i_appipe'\n",
    "\n",
    "apdbQuery = apdb.ApdbPostgresQuery(butler=butler, instrument=instrument, namespace=schema)"
   ]
  },
  {
   "cell_type": "code",
   "execution_count": 30,
   "id": "81574d03-786c-4c81-a57b-0c24ace63508",
   "metadata": {
    "execution": {
     "iopub.execute_input": "2024-02-14T20:10:23.632779Z",
     "iopub.status.busy": "2024-02-14T20:10:23.632582Z",
     "iopub.status.idle": "2024-02-14T20:10:23.782479Z",
     "shell.execute_reply": "2024-02-14T20:10:23.781921Z",
     "shell.execute_reply.started": "2024-02-14T20:10:23.632764Z"
    }
   },
   "outputs": [],
   "source": [
    "with apdbQuery.connection as connection:\n",
    "    df = pd.read_sql_query('SELECT min(\"midpointMjdTai\") as min_mjd, max(\"midpointMjdTai\") as max_mjd \\\n",
    "                                 FROM \"{}\".\"DiaSource\";'.format(schema), connection)"
   ]
  },
  {
   "cell_type": "code",
   "execution_count": 31,
   "id": "494875ea-7020-4ab6-9d11-5b0cc292faaa",
   "metadata": {
    "execution": {
     "iopub.execute_input": "2024-02-14T20:10:26.921629Z",
     "iopub.status.busy": "2024-02-14T20:10:26.921425Z",
     "iopub.status.idle": "2024-02-14T20:10:26.926105Z",
     "shell.execute_reply": "2024-02-14T20:10:26.925756Z",
     "shell.execute_reply.started": "2024-02-14T20:10:26.921616Z"
    }
   },
   "outputs": [
    {
     "data": {
      "text/html": [
       "<div>\n",
       "<style scoped>\n",
       "    .dataframe tbody tr th:only-of-type {\n",
       "        vertical-align: middle;\n",
       "    }\n",
       "\n",
       "    .dataframe tbody tr th {\n",
       "        vertical-align: top;\n",
       "    }\n",
       "\n",
       "    .dataframe thead th {\n",
       "        text-align: right;\n",
       "    }\n",
       "</style>\n",
       "<table border=\"1\" class=\"dataframe\">\n",
       "  <thead>\n",
       "    <tr style=\"text-align: right;\">\n",
       "      <th></th>\n",
       "      <th>min_mjd</th>\n",
       "      <th>max_mjd</th>\n",
       "    </tr>\n",
       "  </thead>\n",
       "  <tbody>\n",
       "    <tr>\n",
       "      <th>0</th>\n",
       "      <td>56423.158019</td>\n",
       "      <td>56510.182704</td>\n",
       "    </tr>\n",
       "  </tbody>\n",
       "</table>\n",
       "</div>"
      ],
      "text/plain": [
       "        min_mjd       max_mjd\n",
       "0  56423.158019  56510.182704"
      ]
     },
     "execution_count": 31,
     "metadata": {},
     "output_type": "execute_result"
    }
   ],
   "source": [
    "df"
   ]
  },
  {
   "cell_type": "code",
   "execution_count": 32,
   "id": "91c3f74a-92af-47e2-8e78-059ef9169036",
   "metadata": {
    "execution": {
     "iopub.execute_input": "2024-02-14T20:10:31.461086Z",
     "iopub.status.busy": "2024-02-14T20:10:31.460805Z",
     "iopub.status.idle": "2024-02-14T20:10:31.464533Z",
     "shell.execute_reply": "2024-02-14T20:10:31.464225Z",
     "shell.execute_reply.started": "2024-02-14T20:10:31.461071Z"
    }
   },
   "outputs": [
    {
     "data": {
      "text/plain": [
       "array(['2013-05-11 03:47:32.861'], dtype='<U23')"
      ]
     },
     "execution_count": 32,
     "metadata": {},
     "output_type": "execute_result"
    }
   ],
   "source": [
    "Time(df['min_mjd'],format='mjd').iso"
   ]
  },
  {
   "cell_type": "code",
   "execution_count": 33,
   "id": "c30ceb30-5a18-4fd5-a52f-5a65b05947e3",
   "metadata": {
    "execution": {
     "iopub.execute_input": "2024-02-14T20:10:36.498976Z",
     "iopub.status.busy": "2024-02-14T20:10:36.498678Z",
     "iopub.status.idle": "2024-02-14T20:10:36.502357Z",
     "shell.execute_reply": "2024-02-14T20:10:36.502064Z",
     "shell.execute_reply.started": "2024-02-14T20:10:36.498962Z"
    }
   },
   "outputs": [
    {
     "data": {
      "text/plain": [
       "array(['2013-08-06 04:23:05.600'], dtype='<U23')"
      ]
     },
     "execution_count": 33,
     "metadata": {},
     "output_type": "execute_result"
    }
   ],
   "source": [
    "Time(df['max_mjd'],format='mjd').iso"
   ]
  },
  {
   "cell_type": "code",
   "execution_count": null,
   "id": "bfedbe24-243c-47f4-99b9-58f639dc2d50",
   "metadata": {},
   "outputs": [],
   "source": []
  }
 ],
 "metadata": {
  "kernelspec": {
   "display_name": "LSST",
   "language": "python",
   "name": "lsst"
  },
  "language_info": {
   "codemirror_mode": {
    "name": "ipython",
    "version": 3
   },
   "file_extension": ".py",
   "mimetype": "text/x-python",
   "name": "python",
   "nbconvert_exporter": "python",
   "pygments_lexer": "ipython3",
   "version": "3.11.7"
  }
 },
 "nbformat": 4,
 "nbformat_minor": 5
}
