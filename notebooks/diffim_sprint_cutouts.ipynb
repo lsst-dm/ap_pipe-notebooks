{
 "cells": [
  {
   "cell_type": "markdown",
   "metadata": {},
   "source": [
    "# Diffim Sprint Cutouts Attempt\n",
    "\n",
    "Converting the DM-27813 notebook to Postgres + Gen3"
   ]
  },
  {
   "cell_type": "code",
   "execution_count": 5,
   "metadata": {},
   "outputs": [],
   "source": [
    "import functools\n",
    "import numpy as np\n",
    "#%matplotlib notebook\n",
    "import matplotlib.pyplot as plt\n",
    "import matplotlib.ticker as plticker\n",
    "from matplotlib import cm\n",
    "import os\n",
    "import pandas as pd\n",
    "import sqlite3\n",
    "import json\n",
    "import astropy.visualization as aviz\n",
    "\n",
    "import lsst.daf.butler as dafButler\n",
    "import lsst.daf.persistence as dafPersist\n",
    "import lsst.afw.display as afwDisplay\n",
    "afwDisplay.setDefaultBackend('matplotlib')\n",
    "\n",
    "import lsst.geom\n",
    "from lsst.ip.diffim import GetCoaddAsTemplateTask"
   ]
  },
  {
   "cell_type": "code",
   "execution_count": 4,
   "metadata": {},
   "outputs": [],
   "source": [
    "import sys\n",
    "sys.path.append('/project/mrawls/ap_pipe-notebooks/')\n",
    "import diaObjectAnalysis as doa\n",
    "import apdbPlots as pla\n",
    "import plotLightcurve as plc\n",
    "import coaddAnalysis as coa"
   ]
  },
  {
   "cell_type": "code",
   "execution_count": 8,
   "metadata": {},
   "outputs": [],
   "source": [
    "repo = '/datasets/hsc/gen3repo/rc2w50_ssw02'\n",
    "butler = dafButler.Butler(repo)\n",
    "collections = 'u/mrawls/ApPipe_smallrun_DM28555_bestSeeing'"
   ]
  },
  {
   "cell_type": "code",
   "execution_count": 27,
   "metadata": {},
   "outputs": [],
   "source": [
    "# The URL where the output files can be accessed by zooniverse.\n",
    "#url_root = \"https://lsst.ncsa.illinois.edu/~parejkoj/zooniverse/\"\n",
    "url_root = \"https://lsst.ncsa.illinois.edu/~ebellm/zooniverse/\"\n",
    "\n",
    "# The path to write the PNG and manifest files to.\n",
    "output_path = \"/scratch/ebellm/zooniverse/\""
   ]
  },
  {
   "cell_type": "markdown",
   "metadata": {},
   "source": [
    "First we want to get a random subset of DIASources from the APDB."
   ]
  },
  {
   "cell_type": "code",
   "execution_count": 8,
   "metadata": {},
   "outputs": [
    {
     "name": "stdout",
     "output_type": "stream",
     "text": [
      "CPU times: user 8.02 s, sys: 11.1 s, total: 19.1 s\n",
      "Wall time: 2min 56s\n"
     ]
    }
   ],
   "source": [
    "%%time \n",
    "# to get a random sample: ORDER BY RANDOM() \n",
    "#ds_sample = pd.read_sql_query('select * from DiaSource LIMIT 100;', connection)\n",
    "#ds_sample = pd.read_sql_query('select * from DiaSource ORDER BY RANDOM() LIMIT 200;', connection)"
   ]
  },
  {
   "cell_type": "code",
   "execution_count": 9,
   "metadata": {},
   "outputs": [],
   "source": [
    "schema = 'mrawls_smallrun2_bestSeeing' \n",
    "objTable, srcTable, goodObj, goodSrc = pla.loadTables(repo, dbType='postgres', dbName='lsstdevapdb1', schema=schema)"
   ]
  },
  {
   "cell_type": "code",
   "execution_count": 10,
   "metadata": {},
   "outputs": [],
   "source": [
    "srcTable = pla.addVisitCcdToSrcTable(srcTable, instrument='HSC', gen='gen3', butler=butler)\n",
    "flagTable, srcTableFlags, flagFilter, goodSrc, goodObj = pla.makeSrcTableFlags(srcTable, objTable)"
   ]
  },
  {
   "cell_type": "markdown",
   "metadata": {},
   "source": [
    "## Get calexp, template, and difference cutouts for each source"
   ]
  },
  {
   "cell_type": "code",
   "execution_count": 20,
   "metadata": {},
   "outputs": [],
   "source": [
    "# @functools.lru_cache()\n",
    "# NOTE: dataId is a dict, which is not hashable thus not cacheable\n",
    "def get_images(dataId, collections):\n",
    "    exposure = butler.get('calexp', dataId=dataId, collections=collections)\n",
    "    difference = butler.get('deepDiff_differenceExp', dataId=dataId, collections=collections)\n",
    "    template = butler.get('deepDiff_warpedExp', dataId=dataId, collections=collections)\n",
    "    return exposure, difference, template\n",
    "\n",
    "def get_cutouts(dataId, collections, center, size=lsst.geom.Extent2I(30, 30)):\n",
    "    \"\"\"Return a cutout for this dataId at the given source location.\"\"\"\n",
    "    # TODO: We can make this a lot faster by loading the images for every \"ccd/visit\" combo,\n",
    "    # TODO: and then making the cutouts at each source that lies on that ccd.\n",
    "    exposure, difference, template = get_images(dataId, collections)\n",
    "    return exposure.getCutout(center, size), difference.getCutout(center, size), template.getCutout(center, size)"
   ]
  },
  {
   "cell_type": "code",
   "execution_count": 21,
   "metadata": {},
   "outputs": [],
   "source": [
    "# an example dataId and center for playing with making a single image.\n",
    "i=50\n",
    "dataId={'detector': int(srcTable['ccd'][i]), 'visit': int(srcTable['visit'][i]), 'instrument': 'HSC'}\n",
    "center=lsst.geom.SpherePoint(srcTable['ra'][i], srcTable['decl'][i], lsst.geom.degrees)\n",
    "exposure, difference, template = get_cutouts(dataId, collections, center)"
   ]
  },
  {
   "cell_type": "markdown",
   "metadata": {},
   "source": [
    "## Plot the images"
   ]
  },
  {
   "cell_type": "code",
   "execution_count": 22,
   "metadata": {},
   "outputs": [],
   "source": [
    "def plot_cutout(science, difference, template, output=None):\n",
    "    \"\"\"Plot the cutouts for a source in one image.\n",
    "    \"\"\"\n",
    "    Qst=15 #Q for Science and Template\n",
    "    sst=4 #Stretch for Science and Template\n",
    "    Qd=5 #Q for Difference\n",
    "    sd=50 #Stretch for Difference\n",
    "    asinst=0.01\n",
    "    asind=0.7\n",
    "\n",
    "    def do_one(ax, data, name):\n",
    "        interval = aviz.ZScaleInterval()\n",
    "\n",
    "        if name == 'Difference':\n",
    "            norm = aviz.ImageNormalize(data,  stretch=aviz.LinearStretch())\n",
    "        else:\n",
    "            norm = aviz.ImageNormalize(data, interval=interval, stretch=aviz.AsinhStretch(a=0.01))\n",
    "        ax.imshow(data, cmap=cm.bone, interpolation=\"none\")\n",
    "        ax.axis('off')\n",
    "        ax.set_title(name)\n",
    "\n",
    "    f, (ax1, ax2, ax3) = plt.subplots(1, 3)\n",
    "    do_one(ax1, template.image.array, \"Template\")\n",
    "    do_one(ax2, science.image.array, \"Science\")\n",
    "    do_one(ax3, difference.image.array, \"Difference\")\n",
    "    plt.tight_layout()\n",
    "\n",
    "    if output is not None:\n",
    "        plt.savefig(output, bbox_inches=\"tight\")\n",
    "        plt.close()"
   ]
  },
  {
   "cell_type": "code",
   "execution_count": 23,
   "metadata": {},
   "outputs": [
    {
     "data": {
      "image/png": "[encoded data removed]",
      "text/plain": [
       "<Figure size 432x288 with 3 Axes>"
      ]
     },
     "metadata": {
      "needs_background": "light"
     },
     "output_type": "display_data"
    }
   ],
   "source": [
    "plot_cutout(exposure, difference, template)"
   ]
  },
  {
   "cell_type": "markdown",
   "metadata": {},
   "source": [
    "## Generate manifest information for upload to Zooniverse"
   ]
  },
  {
   "cell_type": "code",
   "execution_count": 15,
   "metadata": {},
   "outputs": [],
   "source": [
    "def make_manifest(data, url_root):\n",
    "    output = pd.DataFrame([])\n",
    "    output['external_id'] = data['diaSourceId']\n",
    "    output['location:1'] = ds_sample.apply(lambda x: f\"{url_root}{x['diaSourceId']}.png\", axis=1)\n",
    "    output['metadata:diaSourceId'] = data['diaSourceId']\n",
    "    return output"
   ]
  },
  {
   "cell_type": "markdown",
   "metadata": {},
   "source": [
    "## Make plots for every source"
   ]
  },
  {
   "cell_type": "code",
   "execution_count": 28,
   "metadata": {},
   "outputs": [],
   "source": [
    "# TODO: as currently written, this is going to be *very* slow because it re-loads the images for every source.\n",
    "for index,source in goodSrc[:50].iterrows():\n",
    "    center = lsst.geom.SpherePoint(source['ra'], source['decl'], lsst.geom.degrees)\n",
    "    dataId = {'detector': int(srcTable['ccd'][i]), 'visit': int(srcTable['visit'][i]), 'instrument': 'HSC'}\n",
    "    exposure, difference, template = get_cutouts(dataId, collections, center)\n",
    "    filename = f\"{source['diaSourceId']}.png\"\n",
    "    plot_cutout(exposure, difference, template, output=f\"{output_path}{filename}\")"
   ]
  },
  {
   "cell_type": "markdown",
   "metadata": {},
   "source": [
    "## Submit data to Panoptes"
   ]
  },
  {
   "cell_type": "code",
   "execution_count": 38,
   "metadata": {},
   "outputs": [
    {
     "data": {
      "text/plain": [
       "'true'"
      ]
     },
     "execution_count": 38,
     "metadata": {},
     "output_type": "execute_result"
    }
   ],
   "source": [
    "import panoptes_client\n",
    "import sys,os,os.path,logging,json\n",
    "# Add panoptes API client debugging to Stderr\n",
    "os.environ['PANOPTES_DEBUG'] = 'true'\n",
    "os.environ['PANOPTES_DEBUG']"
   ]
  },
  {
   "cell_type": "code",
   "execution_count": 39,
   "metadata": {},
   "outputs": [],
   "source": [
    "# Get access to the API client logs\n",
    "logger = logging.getLogger()\n",
    "logger.setLevel(logging.DEBUG)\n",
    "\n",
    "# Create STDERR handler\n",
    "handler = logging.StreamHandler(sys.stderr)\n",
    "\n",
    "# Create formatter and add it to the handler\n",
    "formatter = logging.Formatter('%(name)s - %(levelname)s - %(message)s')\n",
    "handler.setFormatter(formatter)\n",
    "\n",
    "# Set STDERR handler as the only handler \n",
    "logger.handlers = [handler]"
   ]
  },
  {
   "cell_type": "code",
   "execution_count": 17,
   "metadata": {},
   "outputs": [],
   "source": [
    "manifest = make_manifest(ds_sample, url_root)\n",
    "manifest.to_csv(os.path.join(output_path, \"manifest.csv\"), index=False)"
   ]
  },
  {
   "cell_type": "code",
   "execution_count": 18,
   "metadata": {},
   "outputs": [
    {
     "name": "stdout",
     "output_type": "stream",
     "text": [
      "Enter your Zooniverse credentials...\n"
     ]
    },
    {
     "name": "stdin",
     "output_type": "stream",
     "text": [
      "Username:  ebellm\n",
      " ······························\n"
     ]
    }
   ],
   "source": [
    "client = panoptes_client.Panoptes.connect(login=\"interactive\")"
   ]
  },
  {
   "cell_type": "code",
   "execution_count": 45,
   "metadata": {},
   "outputs": [
    {
     "name": "stderr",
     "output_type": "stream",
     "text": [
      "panoptes_client - DEBUG - params={'slug': 'ebellm/alert-production-zoo'}\n",
      "redo - DEBUG - attempt 1/5\n",
      "urllib3.connectionpool - DEBUG - https://www.zooniverse.org:443 \"GET /api/projects?slug=ebellm%2Falert-production-zoo HTTP/1.1\" 200 None\n"
     ]
    }
   ],
   "source": [
    "project = panoptes_client.Project.find(slug='ebellm/alert-production-zoo')"
   ]
  },
  {
   "cell_type": "code",
   "execution_count": 46,
   "metadata": {},
   "outputs": [
    {
     "data": {
      "text/plain": [
       "'11152'"
      ]
     },
     "execution_count": 46,
     "metadata": {},
     "output_type": "execute_result"
    }
   ],
   "source": [
    "project.id"
   ]
  },
  {
   "cell_type": "code",
   "execution_count": 47,
   "metadata": {},
   "outputs": [
    {
     "name": "stderr",
     "output_type": "stream",
     "text": [
      "redo - DEBUG - attempt 1/5\n",
      "urllib3.connectionpool - DEBUG - https://www.zooniverse.org:443 \"GET /api/subject_sets/80863 HTTP/1.1\" 200 None\n",
      "redo - DEBUG - attempt 1/5\n",
      "urllib3.connectionpool - DEBUG - https://www.zooniverse.org:443 \"GET /api/subject_sets/81026 HTTP/1.1\" 200 None\n",
      "redo - DEBUG - attempt 1/5\n",
      "urllib3.connectionpool - DEBUG - https://www.zooniverse.org:443 \"GET /api/subject_sets/92664 HTTP/1.1\" 200 None\n"
     ]
    },
    {
     "name": "stdout",
     "output_type": "stream",
     "text": [
      "[('80863', 'HiTS'), ('81026', 'HSC-COSMOS'), ('92664', 'saha')]\n"
     ]
    }
   ],
   "source": [
    "print([(ss.id, ss.display_name) for ss in project.links.subject_sets])"
   ]
  },
  {
   "cell_type": "code",
   "execution_count": 48,
   "metadata": {},
   "outputs": [
    {
     "name": "stderr",
     "output_type": "stream",
     "text": [
      "panoptes_client - DEBUG - json={'subject_sets': {'display_name': 'saha2', 'links': {'project': '11152'}}}\n",
      "redo - DEBUG - attempt 1/1\n",
      "urllib3.connectionpool - DEBUG - Resetting dropped connection: www.zooniverse.org\n",
      "urllib3.connectionpool - DEBUG - https://www.zooniverse.org:443 \"POST /api/subject_sets HTTP/1.1\" 201 None\n",
      "panoptes_client - DEBUG - params={'slug': None}\n",
      "redo - DEBUG - attempt 1/5\n",
      "urllib3.connectionpool - DEBUG - https://www.zooniverse.org:443 \"GET /api/projects/11152 HTTP/1.1\" 200 None\n"
     ]
    }
   ],
   "source": [
    "# make a new subject set\n",
    "subject_set = panoptes_client.SubjectSet()\n",
    "\n",
    "subject_set.links.project = project\n",
    "subject_set.display_name = 'saha2'\n",
    "\n",
    "subject_set.save()\n",
    "project.reload()"
   ]
  },
  {
   "cell_type": "code",
   "execution_count": 23,
   "metadata": {},
   "outputs": [],
   "source": [
    "#subject_set = panoptes_client.SubjectSet.find(90418)\n"
   ]
  },
  {
   "cell_type": "code",
   "execution_count": 31,
   "metadata": {},
   "outputs": [
    {
     "data": {
      "text/plain": [
       "'https://www.zooniverse.org'"
      ]
     },
     "execution_count": 31,
     "metadata": {},
     "output_type": "execute_result"
    }
   ],
   "source": [
    "# ensure we're using the the secure HTTPS protocol (not HTTP)\n",
    "client.endpoint"
   ]
  },
  {
   "cell_type": "code",
   "execution_count": 49,
   "metadata": {},
   "outputs": [
    {
     "data": {
      "text/plain": [
       "'{\"subject_set_imports\": {\"source_url\": \"https://lsst.ncsa.illinois.edu/~ebellm/zooniverse/manifest.csv\", \"links\": {\"subject_set\": \"92666\"}}}'"
      ]
     },
     "execution_count": 49,
     "metadata": {},
     "output_type": "execute_result"
    }
   ],
   "source": [
    "payload_dict = {\"subject_set_imports\": {\"source_url\": f\"{url_root}manifest.csv\", \"links\": {\"subject_set\": subject_set.id}}}\n",
    "\n",
    "json.dumps(payload_dict)"
   ]
  },
  {
   "cell_type": "code",
   "execution_count": 50,
   "metadata": {},
   "outputs": [
    {
     "name": "stderr",
     "output_type": "stream",
     "text": [
      "panoptes_client - DEBUG - json={'subject_set_imports': {'source_url': 'https://lsst.ncsa.illinois.edu/~ebellm/zooniverse/manifest.csv', 'links': {'subject_set': '92666'}}}\n",
      "redo - DEBUG - attempt 1/1\n",
      "urllib3.connectionpool - DEBUG - https://www.zooniverse.org:443 \"POST /api/subject_set_imports HTTP/1.1\" 201 None\n"
     ]
    }
   ],
   "source": [
    "# request the import via the API client (custom path as this isn't an exposed resource in the client)\n",
    "# this should be added to the Zooniverse python client / cli tools to improve the user experience\n",
    "# https://github.com/zooniverse/panoptes-python-client/issues/255\n",
    "json_response, etag = client.post(path='/subject_set_imports', json=payload_dict)"
   ]
  },
  {
   "cell_type": "code",
   "execution_count": 51,
   "metadata": {},
   "outputs": [
    {
     "data": {
      "text/plain": [
       "{'subject_set_imports': [{'id': '6',\n",
       "   'href': '/subject_set_imports/6',\n",
       "   'created_at': '2021-02-25T22:46:42.594Z',\n",
       "   'updated_at': '2021-02-25T22:46:42.594Z',\n",
       "   'source_url': 'https://lsst.ncsa.illinois.edu/~ebellm/zooniverse/manifest.csv',\n",
       "   'links': {'subject_set': '92666', 'user': '1649740'}}],\n",
       " 'links': {'subject_set_imports.subject_set': {'href': '/subject_sets/{subject_set_imports.subject_set}',\n",
       "   'type': 'subject_sets'},\n",
       "  'subject_set_imports.user': {'href': '/users/{subject_set_imports.user}',\n",
       "   'type': 'users'}},\n",
       " 'meta': {'subject_set_imports': {'page': 1,\n",
       "   'page_size': 20,\n",
       "   'count': 1,\n",
       "   'include': [],\n",
       "   'page_count': 1,\n",
       "   'previous_page': None,\n",
       "   'next_page': None,\n",
       "   'first_href': '/subject_set_imports',\n",
       "   'previous_href': None,\n",
       "   'next_href': None,\n",
       "   'last_href': '/subject_set_imports'}}}"
      ]
     },
     "execution_count": 51,
     "metadata": {},
     "output_type": "execute_result"
    }
   ],
   "source": [
    "json_response"
   ]
  },
  {
   "cell_type": "code",
   "execution_count": 52,
   "metadata": {},
   "outputs": [
    {
     "name": "stderr",
     "output_type": "stream",
     "text": [
      "redo - DEBUG - attempt 1/1\n",
      "urllib3.connectionpool - DEBUG - https://www.zooniverse.org:443 \"GET /api/subject_set_imports/6 HTTP/1.1\" 200 None\n"
     ]
    }
   ],
   "source": [
    "subject_set_imports_path = '/subject_set_imports/{}'.format(json_response['subject_set_imports'][0]['id'])\n",
    "json_response, etag = client.get(path=subject_set_imports_path)"
   ]
  },
  {
   "cell_type": "code",
   "execution_count": 53,
   "metadata": {},
   "outputs": [
    {
     "data": {
      "text/plain": [
       "{'subject_set_imports': [{'id': '6',\n",
       "   'href': '/subject_set_imports/6',\n",
       "   'created_at': '2021-02-25T22:46:42.594Z',\n",
       "   'updated_at': '2021-02-25T22:46:42.594Z',\n",
       "   'source_url': 'https://lsst.ncsa.illinois.edu/~ebellm/zooniverse/manifest.csv',\n",
       "   'links': {'subject_set': '92666', 'user': '1649740'}}],\n",
       " 'links': {'subject_set_imports.subject_set': {'href': '/subject_sets/{subject_set_imports.subject_set}',\n",
       "   'type': 'subject_sets'},\n",
       "  'subject_set_imports.user': {'href': '/users/{subject_set_imports.user}',\n",
       "   'type': 'users'}},\n",
       " 'meta': {'subject_set_imports': {'page': 1,\n",
       "   'page_size': 20,\n",
       "   'count': 1,\n",
       "   'include': [],\n",
       "   'page_count': 1,\n",
       "   'previous_page': None,\n",
       "   'next_page': None,\n",
       "   'first_href': '/subject_set_imports?id=6',\n",
       "   'previous_href': None,\n",
       "   'next_href': None,\n",
       "   'last_href': '/subject_set_imports?id=6'}}}"
      ]
     },
     "execution_count": 53,
     "metadata": {},
     "output_type": "execute_result"
    }
   ],
   "source": [
    "json_response"
   ]
  }
 ],
 "metadata": {
  "kernelspec": {
   "display_name": "LSST",
   "language": "python",
   "name": "lsst"
  },
  "language_info": {
   "codemirror_mode": {
    "name": "ipython",
    "version": 3
   },
   "file_extension": ".py",
   "mimetype": "text/x-python",
   "name": "python",
   "nbconvert_exporter": "python",
   "pygments_lexer": "ipython3",
   "version": "3.8.6"
  }
 },
 "nbformat": 4,
 "nbformat_minor": 4
}
