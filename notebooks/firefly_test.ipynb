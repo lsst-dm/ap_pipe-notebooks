{
 "cells": [
  {
   "cell_type": "code",
   "execution_count": 1,
   "id": "fcc9023f-9bd4-4cb2-a51a-98087287db84",
   "metadata": {
    "execution": {
     "iopub.execute_input": "2024-03-22T20:18:24.721296Z",
     "iopub.status.busy": "2024-03-22T20:18:24.721163Z",
     "iopub.status.idle": "2024-03-22T20:18:25.347566Z",
     "shell.execute_reply": "2024-03-22T20:18:25.347179Z",
     "shell.execute_reply.started": "2024-03-22T20:18:24.721281Z"
    }
   },
   "outputs": [],
   "source": [
    "import lsst.afw.display as afwDisplay\n",
    "afwDisplay.setDefaultBackend('firefly')\n",
    "display1 = afwDisplay.Display(frame=1)"
   ]
  },
  {
   "cell_type": "code",
   "execution_count": null,
   "id": "326a74d1-a5a5-448c-b46d-54e2e13bda97",
   "metadata": {},
   "outputs": [],
   "source": []
  }
 ],
 "metadata": {
  "kernelspec": {
   "display_name": "LSST",
   "language": "python",
   "name": "lsst"
  },
  "language_info": {
   "codemirror_mode": {
    "name": "ipython",
    "version": 3
   },
   "file_extension": ".py",
   "mimetype": "text/x-python",
   "name": "python",
   "nbconvert_exporter": "python",
   "pygments_lexer": "ipython3",
   "version": "3.11.7"
  }
 },
 "nbformat": 4,
 "nbformat_minor": 5
}
